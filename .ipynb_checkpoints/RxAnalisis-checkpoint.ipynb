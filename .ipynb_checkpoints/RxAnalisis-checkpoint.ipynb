{
 "cells": [
  {
   "cell_type": "markdown",
   "id": "3bd02030",
   "metadata": {},
   "source": [
    "# RADIOGRAFÍAS"
   ]
  },
  {
   "cell_type": "markdown",
   "id": "e6988e1a",
   "metadata": {},
   "source": [
    "### Paquetes"
   ]
  },
  {
   "cell_type": "code",
   "execution_count": 239,
   "id": "4b41c825",
   "metadata": {},
   "outputs": [],
   "source": [
    "# Paquetes de imagen\n",
    "import SimpleITK as sitk\n",
    "import skimage\n",
    "from matplotlib import image\n",
    "from skimage import exposure\n",
    "\n",
    "# Paquetes de df y arrays\n",
    "import numpy as np\n",
    "import pandas as pd\n",
    "import os\n",
    "from ipywidgets import interact, fixed\n",
    "\n",
    "%matplotlib inline\n",
    "import matplotlib.pyplot as plt\n",
    "\n",
    "# Del propio paquete\n",
    "from downloaddata import fetch_data as fdata\n",
    "\n",
    "# OS\n",
    "from os import listdir\n",
    "from os.path import isfile, join\n",
    "\n",
    "image_viewer = sitk.ImageViewer()"
   ]
  },
  {
   "cell_type": "markdown",
   "id": "f7a85df2",
   "metadata": {},
   "source": [
    "### Lector de imagen"
   ]
  },
  {
   "cell_type": "code",
   "execution_count": 2,
   "id": "fe3c1cec",
   "metadata": {},
   "outputs": [],
   "source": [
    "fiji = '/home/maryskal/Fiji.app/ImageJ-linux64'\n",
    "image_viewer.SetApplication(fiji)"
   ]
  },
  {
   "cell_type": "markdown",
   "id": "9026bdfe",
   "metadata": {},
   "source": [
    "### Logging"
   ]
  },
  {
   "cell_type": "code",
   "execution_count": 3,
   "id": "4908efa8",
   "metadata": {},
   "outputs": [],
   "source": [
    "import logging\n",
    "import sys\n",
    "\n",
    "# Configura el logging\n",
    "log_format = '[%(process)d]\\t%(asctime)s %(levelname)s: %(message)s'\n",
    "logging.basicConfig(format=log_format, level=logging.INFO, datefmt=\"%H:%M:%S\",\n",
    "                    handlers=[logging.StreamHandler(sys.stdout)])"
   ]
  },
  {
   "cell_type": "markdown",
   "id": "f5b9cd67",
   "metadata": {},
   "source": [
    "### Funciones para imagenes SITK"
   ]
  },
  {
   "cell_type": "code",
   "execution_count": 4,
   "id": "5311d7a5",
   "metadata": {},
   "outputs": [],
   "source": [
    "def histo(img):\n",
    "    '''\n",
    "    Create a histogram from a SITK image\n",
    "    \n",
    "    Parameters\n",
    "    ----------\n",
    "    img (SITK image)\n",
    "    '''\n",
    "    arr = sitk.GetArrayFromImage(img)\n",
    "    fig = plt.figure(figsize = (7,5))\n",
    "    ax = fig.gca()\n",
    "    ax.hist(arr.flatten(), bins = 255)\n",
    "    plt.show(fig)\n",
    "\n",
    "def plotImg(img, color = 'gray'):\n",
    "    '''\n",
    "    Plot a SITK image\n",
    "    \n",
    "    Parameters\n",
    "    ----------\n",
    "    img (SITK image)\n",
    "    color (string): the colour for image representation\n",
    "    '''\n",
    "    arr = sitk.GetArrayFromImage(img)\n",
    "    plt.imshow(arr, cmap = color)"
   ]
  },
  {
   "cell_type": "markdown",
   "id": "c45c0299",
   "metadata": {},
   "source": [
    "## Dataset"
   ]
  },
  {
   "cell_type": "code",
   "execution_count": 5,
   "id": "1be8873b",
   "metadata": {},
   "outputs": [
    {
     "data": {
      "text/html": [
       "<div>\n",
       "<style scoped>\n",
       "    .dataframe tbody tr th:only-of-type {\n",
       "        vertical-align: middle;\n",
       "    }\n",
       "\n",
       "    .dataframe tbody tr th {\n",
       "        vertical-align: top;\n",
       "    }\n",
       "\n",
       "    .dataframe thead th {\n",
       "        text-align: right;\n",
       "    }\n",
       "</style>\n",
       "<table border=\"1\" class=\"dataframe\">\n",
       "  <thead>\n",
       "    <tr style=\"text-align: right;\">\n",
       "      <th></th>\n",
       "      <th>Image Index</th>\n",
       "      <th>Finding Labels</th>\n",
       "      <th>Follow-up #</th>\n",
       "      <th>Patient ID</th>\n",
       "      <th>Patient Age</th>\n",
       "      <th>Patient Gender</th>\n",
       "      <th>View Position</th>\n",
       "      <th>OriginalImage[Width</th>\n",
       "      <th>Height]</th>\n",
       "      <th>OriginalImagePixelSpacing[x</th>\n",
       "      <th>y]</th>\n",
       "    </tr>\n",
       "  </thead>\n",
       "  <tbody>\n",
       "    <tr>\n",
       "      <th>0</th>\n",
       "      <td>00000001_000.png</td>\n",
       "      <td>Cardiomegaly</td>\n",
       "      <td>0</td>\n",
       "      <td>1</td>\n",
       "      <td>57</td>\n",
       "      <td>M</td>\n",
       "      <td>PA</td>\n",
       "      <td>2682</td>\n",
       "      <td>2749</td>\n",
       "      <td>0.143</td>\n",
       "      <td>0.143</td>\n",
       "    </tr>\n",
       "    <tr>\n",
       "      <th>1</th>\n",
       "      <td>00000001_001.png</td>\n",
       "      <td>Cardiomegaly|Emphysema</td>\n",
       "      <td>1</td>\n",
       "      <td>1</td>\n",
       "      <td>58</td>\n",
       "      <td>M</td>\n",
       "      <td>PA</td>\n",
       "      <td>2894</td>\n",
       "      <td>2729</td>\n",
       "      <td>0.143</td>\n",
       "      <td>0.143</td>\n",
       "    </tr>\n",
       "    <tr>\n",
       "      <th>2</th>\n",
       "      <td>00000001_002.png</td>\n",
       "      <td>Cardiomegaly|Effusion</td>\n",
       "      <td>2</td>\n",
       "      <td>1</td>\n",
       "      <td>58</td>\n",
       "      <td>M</td>\n",
       "      <td>PA</td>\n",
       "      <td>2500</td>\n",
       "      <td>2048</td>\n",
       "      <td>0.168</td>\n",
       "      <td>0.168</td>\n",
       "    </tr>\n",
       "    <tr>\n",
       "      <th>3</th>\n",
       "      <td>00000002_000.png</td>\n",
       "      <td>No Finding</td>\n",
       "      <td>0</td>\n",
       "      <td>2</td>\n",
       "      <td>80</td>\n",
       "      <td>M</td>\n",
       "      <td>PA</td>\n",
       "      <td>2500</td>\n",
       "      <td>2048</td>\n",
       "      <td>0.171</td>\n",
       "      <td>0.171</td>\n",
       "    </tr>\n",
       "    <tr>\n",
       "      <th>4</th>\n",
       "      <td>00000003_001.png</td>\n",
       "      <td>Hernia</td>\n",
       "      <td>0</td>\n",
       "      <td>3</td>\n",
       "      <td>74</td>\n",
       "      <td>F</td>\n",
       "      <td>PA</td>\n",
       "      <td>2500</td>\n",
       "      <td>2048</td>\n",
       "      <td>0.168</td>\n",
       "      <td>0.168</td>\n",
       "    </tr>\n",
       "  </tbody>\n",
       "</table>\n",
       "</div>"
      ],
      "text/plain": [
       "        Image Index          Finding Labels  Follow-up #  Patient ID  \\\n",
       "0  00000001_000.png            Cardiomegaly            0           1   \n",
       "1  00000001_001.png  Cardiomegaly|Emphysema            1           1   \n",
       "2  00000001_002.png   Cardiomegaly|Effusion            2           1   \n",
       "3  00000002_000.png              No Finding            0           2   \n",
       "4  00000003_001.png                  Hernia            0           3   \n",
       "\n",
       "   Patient Age Patient Gender View Position  OriginalImage[Width  Height]  \\\n",
       "0           57              M            PA                 2682     2749   \n",
       "1           58              M            PA                 2894     2729   \n",
       "2           58              M            PA                 2500     2048   \n",
       "3           80              M            PA                 2500     2048   \n",
       "4           74              F            PA                 2500     2048   \n",
       "\n",
       "   OriginalImagePixelSpacing[x     y]  \n",
       "0                        0.143  0.143  \n",
       "1                        0.143  0.143  \n",
       "2                        0.168  0.168  \n",
       "3                        0.171  0.171  \n",
       "4                        0.168  0.168  "
      ]
     },
     "execution_count": 5,
     "metadata": {},
     "output_type": "execute_result"
    }
   ],
   "source": [
    "df = pd.read_csv('CXR8/Data_Entry_2017_v2020.csv')\n",
    "df.head()"
   ]
  },
  {
   "cell_type": "markdown",
   "id": "934895b4",
   "metadata": {},
   "source": [
    "Sacamos los posibles labels que hay"
   ]
  },
  {
   "cell_type": "code",
   "execution_count": 6,
   "id": "8479dd42",
   "metadata": {},
   "outputs": [],
   "source": [
    "labels = np.unique(df['Finding Labels'])\n",
    "labels = '|'.join(labels)\n",
    "labels = labels.split('|')\n",
    "labels = np.unique(labels).tolist()"
   ]
  },
  {
   "cell_type": "markdown",
   "id": "03712b7e",
   "metadata": {},
   "source": [
    "Creamos una nueva columna por cada uno de los labels"
   ]
  },
  {
   "cell_type": "code",
   "execution_count": 7,
   "id": "144c432c",
   "metadata": {},
   "outputs": [],
   "source": [
    "for lab in labels:\n",
    "    df[lab] = pd.NA"
   ]
  },
  {
   "cell_type": "markdown",
   "id": "adb381ee",
   "metadata": {},
   "source": [
    "Creamos una funcion para rellenar esas columnas por cada paciente"
   ]
  },
  {
   "cell_type": "code",
   "execution_count": 8,
   "id": "2161b001",
   "metadata": {},
   "outputs": [],
   "source": [
    "def fill_label(information, label):\n",
    "    positive_labels = information.split('|')\n",
    "    if label in positive_labels:\n",
    "        return 1\n",
    "    return 0"
   ]
  },
  {
   "cell_type": "code",
   "execution_count": 196,
   "id": "ffd0bf35",
   "metadata": {},
   "outputs": [],
   "source": [
    "# map(objeto enumerado x: funcion(x, y), lista de x)\n",
    "for lab in labels:\n",
    "    df[lab] = list(map(lambda x: fill_label(x, lab), df['Finding Labels'].tolist()))"
   ]
  },
  {
   "cell_type": "markdown",
   "id": "2580423c-d653-4df9-afe7-a02848dc97b5",
   "metadata": {},
   "source": [
    "Cojo las imagenes con y sin neumonia"
   ]
  },
  {
   "cell_type": "code",
   "execution_count": 202,
   "id": "ea828ac7-40aa-49b5-b70c-7e180fecbac8",
   "metadata": {},
   "outputs": [],
   "source": [
    "neumo = df['Image Index'][df.Pneumonia == 0]\n",
    "no_neumo = df['Image Index'][df.Pneumonia == 1]"
   ]
  },
  {
   "cell_type": "markdown",
   "id": "84b1780f",
   "metadata": {},
   "source": [
    "## Imagenes"
   ]
  },
  {
   "cell_type": "code",
   "execution_count": 240,
   "id": "11d657c0-bf2d-44d1-87e9-1f6a2a16661b",
   "metadata": {},
   "outputs": [],
   "source": [
    "def charge_specific_img(img_name):\n",
    "    subfolders = [f.path for f in os.scandir('./CXR8/images/') if f.is_dir()]\n",
    "    img = np.zeros((1024,1024))\n",
    "    for folder in subfolders:\n",
    "        path = os.path.join(folder, 'images')\n",
    "        try: \n",
    "            img = image.imread(os.path.join(path, image_name))\n",
    "            return img\n",
    "        except:\n",
    "            logging.info('[F]\\t{} not found in {}'.format(img_name, path))\n",
    "    return img"
   ]
  },
  {
   "cell_type": "code",
   "execution_count": 106,
   "id": "63943111",
   "metadata": {},
   "outputs": [],
   "source": [
    "def charge_images(folder, number):\n",
    "    '''\n",
    "    Gets paths and images of an imagen folder\n",
    "    \n",
    "    Parameters\n",
    "    ----------\n",
    "    folder (string)\n",
    "    number (int): number of images to get from that folder\n",
    "    \n",
    "    Returns\n",
    "    -------\n",
    "    data (dictionary): dict with paths and images as np.array\n",
    "    '''\n",
    "    path = os.path.join(folder, 'images')\n",
    "    images_path = [f for f in listdir(path)[0:number] if isfile(join(path, f))]\n",
    "    images = [image.imread(os.path.join(path, image_path)) for image_path in images_path[0:number]]\n",
    "    data = {'path': images_path, 'image': images}\n",
    "    return data"
   ]
  },
  {
   "cell_type": "code",
   "execution_count": 107,
   "id": "1981ece4",
   "metadata": {},
   "outputs": [],
   "source": [
    "subfolders = [f.path for f in os.scandir('./CXR8/images/') if f.is_dir()]"
   ]
  },
  {
   "cell_type": "markdown",
   "id": "6b05ce38",
   "metadata": {},
   "source": [
    "No se pueden cargar todas las imagenes así que solo he cargado la carpeta 1 y 2 (subfolders[0:1])"
   ]
  },
  {
   "cell_type": "code",
   "execution_count": 108,
   "id": "ad357314",
   "metadata": {},
   "outputs": [
    {
     "data": {
      "text/plain": [
       "['./CXR8/images/images_001']"
      ]
     },
     "execution_count": 108,
     "metadata": {},
     "output_type": "execute_result"
    }
   ],
   "source": [
    "subfolders"
   ]
  },
  {
   "cell_type": "markdown",
   "id": "711158eb-f449-4939-8636-a63487aa19b8",
   "metadata": {},
   "source": [
    "**CARGO LAS IMAGENES**"
   ]
  },
  {
   "cell_type": "markdown",
   "id": "744d07a6-9dd6-4275-ab72-5fd9e06011a6",
   "metadata": {},
   "source": [
    "Leo todas las carpetas y cargo un numero concreto de imagenes por carpeta"
   ]
  },
  {
   "cell_type": "code",
   "execution_count": 174,
   "id": "2481177b",
   "metadata": {},
   "outputs": [
    {
     "name": "stdout",
     "output_type": "stream",
     "text": [
      "[31219]\t22:41:49 INFO: [F]\tFolder ./CXR8/images/images_001\n",
      "[31219]\t22:41:56 INFO: [F]\tappending\n",
      "[31219]\t22:41:56 INFO: [F]\tstarting\n"
     ]
    }
   ],
   "source": [
    "# keys = ['path', 'image']\n",
    "# all_images = dict.fromkeys(keys)\n",
    "# number_imgs = 500\n",
    "\n",
    "# for folder in subfolders[0:1]:\n",
    "#     logging.info('[F]\\tFolder {}'.format(folder))\n",
    "#     group = folder.split('/')\n",
    "#     folder_info = charge_images(folder, number_imgs)\n",
    "#     try:\n",
    "#         logging.info('[F]\\tappending')\n",
    "#         all_images['path'][0].append(folder_info['path'])\n",
    "#         all_images['image'][0].append(folder_info['image'])\n",
    "#     except:\n",
    "#         logging.info('[F]\\tstarting')\n",
    "#         all_images['path'] = folder_info['path']\n",
    "#         all_images['image'] = folder_info['image']"
   ]
  },
  {
   "cell_type": "markdown",
   "id": "dbb206bc-5299-4933-b28f-5b8b83cfcef2",
   "metadata": {},
   "source": [
    "Leo un numero concreto de imagenes con y sin neumonia"
   ]
  },
  {
   "cell_type": "code",
   "execution_count": 243,
   "id": "bee4f29f-f898-4d82-a416-0cdc818accb9",
   "metadata": {},
   "outputs": [],
   "source": [
    "n = 200\n",
    "imgs_path = [*neumo[0:n], *no_neumo[0:n]]\n",
    "images = [charge_specific_img(img) for img in imgs_path]"
   ]
  },
  {
   "cell_type": "code",
   "execution_count": 246,
   "id": "f2b875a8-dcc2-4b8a-9140-0d8a1a6a7cb5",
   "metadata": {},
   "outputs": [],
   "source": [
    "all_images = {'name': imgs_path, 'image': images}"
   ]
  },
  {
   "cell_type": "code",
   "execution_count": 247,
   "id": "8efe7c73",
   "metadata": {},
   "outputs": [],
   "source": [
    "all_images = pd.DataFrame(all_images)"
   ]
  },
  {
   "cell_type": "code",
   "execution_count": 248,
   "id": "4c2ca07a-c3be-4019-a4ed-77d847c2131d",
   "metadata": {},
   "outputs": [
    {
     "data": {
      "text/html": [
       "<div>\n",
       "<style scoped>\n",
       "    .dataframe tbody tr th:only-of-type {\n",
       "        vertical-align: middle;\n",
       "    }\n",
       "\n",
       "    .dataframe tbody tr th {\n",
       "        vertical-align: top;\n",
       "    }\n",
       "\n",
       "    .dataframe thead th {\n",
       "        text-align: right;\n",
       "    }\n",
       "</style>\n",
       "<table border=\"1\" class=\"dataframe\">\n",
       "  <thead>\n",
       "    <tr style=\"text-align: right;\">\n",
       "      <th></th>\n",
       "      <th>name</th>\n",
       "      <th>image</th>\n",
       "    </tr>\n",
       "  </thead>\n",
       "  <tbody>\n",
       "    <tr>\n",
       "      <th>0</th>\n",
       "      <td>00000001_000.png</td>\n",
       "      <td>[[0.8156863, 0.8039216, 0.80784315, 0.8039216,...</td>\n",
       "    </tr>\n",
       "    <tr>\n",
       "      <th>1</th>\n",
       "      <td>00000001_001.png</td>\n",
       "      <td>[[0.8156863, 0.8039216, 0.80784315, 0.8039216,...</td>\n",
       "    </tr>\n",
       "    <tr>\n",
       "      <th>2</th>\n",
       "      <td>00000001_002.png</td>\n",
       "      <td>[[0.8156863, 0.8039216, 0.80784315, 0.8039216,...</td>\n",
       "    </tr>\n",
       "    <tr>\n",
       "      <th>3</th>\n",
       "      <td>00000002_000.png</td>\n",
       "      <td>[[0.8156863, 0.8039216, 0.80784315, 0.8039216,...</td>\n",
       "    </tr>\n",
       "    <tr>\n",
       "      <th>4</th>\n",
       "      <td>00000003_001.png</td>\n",
       "      <td>[[0.8156863, 0.8039216, 0.80784315, 0.8039216,...</td>\n",
       "    </tr>\n",
       "  </tbody>\n",
       "</table>\n",
       "</div>"
      ],
      "text/plain": [
       "               name                                              image\n",
       "0  00000001_000.png  [[0.8156863, 0.8039216, 0.80784315, 0.8039216,...\n",
       "1  00000001_001.png  [[0.8156863, 0.8039216, 0.80784315, 0.8039216,...\n",
       "2  00000001_002.png  [[0.8156863, 0.8039216, 0.80784315, 0.8039216,...\n",
       "3  00000002_000.png  [[0.8156863, 0.8039216, 0.80784315, 0.8039216,...\n",
       "4  00000003_001.png  [[0.8156863, 0.8039216, 0.80784315, 0.8039216,..."
      ]
     },
     "execution_count": 248,
     "metadata": {},
     "output_type": "execute_result"
    }
   ],
   "source": [
    "all_images.head()"
   ]
  },
  {
   "cell_type": "markdown",
   "id": "efd2b3da-50c1-47b9-9c96-c2d0469a979b",
   "metadata": {},
   "source": [
    "**CARGO EL OUTPUT**"
   ]
  },
  {
   "cell_type": "markdown",
   "id": "d3fa85f9",
   "metadata": {},
   "source": [
    "Ahora voy a añadir datos a este nuevo dataframe"
   ]
  },
  {
   "cell_type": "code",
   "execution_count": 176,
   "id": "a37a9d08",
   "metadata": {},
   "outputs": [],
   "source": [
    "def get_column(path, column):\n",
    "    value = df[column][df['Image Index'] == path]\n",
    "    value = list(value)[0]\n",
    "    return value"
   ]
  },
  {
   "cell_type": "code",
   "execution_count": 177,
   "id": "9f49aa15",
   "metadata": {},
   "outputs": [],
   "source": [
    "all_images['neumonia'] = list(map(lambda x: get_column(x, 'Pneumonia'), all_images['path']))"
   ]
  },
  {
   "cell_type": "markdown",
   "id": "0ef92b38-924c-4e7c-95e6-71e9ddac7d04",
   "metadata": {},
   "source": [
    "**AÑADO LA TERCERA DIMENSION**"
   ]
  },
  {
   "cell_type": "markdown",
   "id": "293700bb-6ae8-46e9-808e-704039686232",
   "metadata": {},
   "source": [
    "Transformo una array de 2 dimensiones (si es de mas lo reduzco), en uno de 3, para la red"
   ]
  },
  {
   "cell_type": "code",
   "execution_count": 178,
   "id": "4ccde6c7-8860-4920-82cd-b1610a4d5be6",
   "metadata": {},
   "outputs": [],
   "source": [
    "def array_3_dimension(arr):\n",
    "    if len(arr.shape) > 2:\n",
    "        arr = arr[...,1]\n",
    "    arr = np.expand_dims(arr, axis = -1)\n",
    "    return arr"
   ]
  },
  {
   "cell_type": "code",
   "execution_count": 179,
   "id": "18189eb9-438c-4859-93b0-b74850e04a3d",
   "metadata": {},
   "outputs": [],
   "source": [
    "all_images['image'] = list(map(lambda x: array_3_dimension(x), all_images['image']))"
   ]
  },
  {
   "cell_type": "markdown",
   "id": "60443d78",
   "metadata": {},
   "source": [
    "## Filtros sobre imágenes"
   ]
  },
  {
   "cell_type": "markdown",
   "id": "d15a4184-909d-4adc-9885-4ccdcd4066f3",
   "metadata": {},
   "source": [
    "### Downsample"
   ]
  },
  {
   "cell_type": "code",
   "execution_count": 180,
   "id": "f84603a5-62e4-4b08-8217-7fedbbdcb0f0",
   "metadata": {},
   "outputs": [],
   "source": [
    "def downsample(array, quantity):\n",
    "    ds_array = array/255\n",
    "    r = skimage.measure.block_reduce(ds_array[:,:,0],\n",
    "                                     (quantity, quantity),\n",
    "                                     np.mean)\n",
    "    r = np.expand_dims(r, axis = -1)\n",
    "    return r"
   ]
  },
  {
   "cell_type": "markdown",
   "id": "372afa55",
   "metadata": {},
   "source": [
    "### Equalizar"
   ]
  },
  {
   "cell_type": "code",
   "execution_count": 181,
   "id": "8d49c6b9",
   "metadata": {},
   "outputs": [],
   "source": [
    "def equalizar(imgArr):\n",
    "    '''\n",
    "    Equalize a image\n",
    "    \n",
    "    Parameters\n",
    "    ----------\n",
    "    img (np.array)\n",
    "    \n",
    "    Returns\n",
    "    -------\n",
    "    img (np.array)    \n",
    "    '''\n",
    "   \n",
    "    # Contrast stretching\n",
    "    p2, p98 = np.percentile(imgArr, (2, 98))\n",
    "    img_rescale = exposure.rescale_intensity(imgArr, in_range=(p2, p98))\n",
    "\n",
    "    # Equalization\n",
    "    img_eq = exposure.equalize_hist(imgArr)\n",
    "\n",
    "    # Adaptive Equalization\n",
    "    img_adapteq = exposure.equalize_adapthist(imgArr, clip_limit=0.03)\n",
    "        \n",
    "    return img_adapteq"
   ]
  },
  {
   "cell_type": "markdown",
   "id": "62b02bc5-5bbc-4a7d-9f8f-766b828270b4",
   "metadata": {},
   "source": [
    "**HAGO DOWNSAMPLING Y ECUALIZO**"
   ]
  },
  {
   "cell_type": "code",
   "execution_count": 182,
   "id": "fdad5846",
   "metadata": {},
   "outputs": [
    {
     "name": "stderr",
     "output_type": "stream",
     "text": [
      "/home/maryskal/anaconda3/envs/acil_init/lib/python3.10/site-packages/skimage/_shared/utils.py:394: UserWarning: This might be a color image. The histogram will be computed on the flattened image. You can instead apply this function to each color channel, or set channel_axis.\n",
      "  return func(*args, **kwargs)\n"
     ]
    }
   ],
   "source": [
    "all_images['down'] = list(map(lambda x: downsample(x, 7), all_images['image']))\n",
    "all_images['equalizado'] = list(map(lambda x: equalizar(x), all_images['down']))"
   ]
  },
  {
   "cell_type": "markdown",
   "id": "338f5cb3",
   "metadata": {},
   "source": [
    "## Red neuronal"
   ]
  },
  {
   "cell_type": "code",
   "execution_count": 183,
   "id": "f447ec07",
   "metadata": {},
   "outputs": [],
   "source": [
    "import seaborn as sns\n",
    "\n",
    "from tensorflow.keras.models import Sequential\n",
    "from tensorflow.keras.layers import Dense, Conv2D , MaxPool2D , Flatten , Dropout \n",
    "from tensorflow.keras.preprocessing.image import ImageDataGenerator\n",
    "from tensorflow.keras.optimizers import Adam\n",
    "\n",
    "from sklearn.metrics import classification_report,confusion_matrix\n",
    "from sklearn.model_selection import train_test_split\n",
    "\n",
    "import tensorflow as tf\n",
    "\n",
    "import cv2"
   ]
  },
  {
   "cell_type": "markdown",
   "id": "cfdcdb87",
   "metadata": {},
   "source": [
    "Defino el modelo"
   ]
  },
  {
   "cell_type": "code",
   "execution_count": 184,
   "id": "515fb38a",
   "metadata": {},
   "outputs": [
    {
     "name": "stdout",
     "output_type": "stream",
     "text": [
      "Model: \"sequential_3\"\n",
      "_________________________________________________________________\n",
      " Layer (type)                Output Shape              Param #   \n",
      "=================================================================\n",
      " conv2d_7 (Conv2D)           (None, 147, 147, 32)      320       \n",
      "                                                                 \n",
      " max_pooling2d_6 (MaxPooling  (None, 73, 73, 32)       0         \n",
      " 2D)                                                             \n",
      "                                                                 \n",
      " conv2d_8 (Conv2D)           (None, 73, 73, 32)        9248      \n",
      "                                                                 \n",
      " max_pooling2d_7 (MaxPooling  (None, 36, 36, 32)       0         \n",
      " 2D)                                                             \n",
      "                                                                 \n",
      " conv2d_9 (Conv2D)           (None, 36, 36, 64)        18496     \n",
      "                                                                 \n",
      " max_pooling2d_8 (MaxPooling  (None, 18, 18, 64)       0         \n",
      " 2D)                                                             \n",
      "                                                                 \n",
      " dropout_2 (Dropout)         (None, 18, 18, 64)        0         \n",
      "                                                                 \n",
      " flatten_2 (Flatten)         (None, 20736)             0         \n",
      "                                                                 \n",
      " dense_4 (Dense)             (None, 128)               2654336   \n",
      "                                                                 \n",
      " dense_5 (Dense)             (None, 2)                 258       \n",
      "                                                                 \n",
      "=================================================================\n",
      "Total params: 2,682,658\n",
      "Trainable params: 2,682,658\n",
      "Non-trainable params: 0\n",
      "_________________________________________________________________\n"
     ]
    }
   ],
   "source": [
    "shape = all_images['equalizado'][0].shape\n",
    "\n",
    "model = Sequential()\n",
    "model.add(Conv2D(32,3,padding=\"same\", activation=\"relu\", input_shape=shape))\n",
    "model.add(MaxPool2D())\n",
    "\n",
    "model.add(Conv2D(32, 3, padding=\"same\", activation=\"relu\"))\n",
    "model.add(MaxPool2D())\n",
    "\n",
    "model.add(Conv2D(64, 3, padding=\"same\", activation=\"relu\"))\n",
    "model.add(MaxPool2D())\n",
    "model.add(Dropout(0.4))\n",
    "\n",
    "model.add(Flatten())\n",
    "model.add(Dense(128,activation=\"relu\"))\n",
    "model.add(Dense(2, activation=\"softmax\"))\n",
    "\n",
    "model.summary()"
   ]
  },
  {
   "cell_type": "code",
   "execution_count": 185,
   "id": "04a39999",
   "metadata": {},
   "outputs": [
    {
     "name": "stderr",
     "output_type": "stream",
     "text": [
      "/home/maryskal/anaconda3/envs/acil_init/lib/python3.10/site-packages/keras/optimizers/optimizer_v2/adam.py:110: UserWarning: The `lr` argument is deprecated, use `learning_rate` instead.\n",
      "  super(Adam, self).__init__(name, **kwargs)\n"
     ]
    }
   ],
   "source": [
    "opt = Adam(lr=0.000001)\n",
    "model.compile(optimizer = opt , loss = tf.keras.losses.CategoricalCrossentropy(from_logits=True) , metrics = ['accuracy'])"
   ]
  },
  {
   "cell_type": "markdown",
   "id": "c0e57a94",
   "metadata": {},
   "source": [
    "Cojo X e Y. X lo paso por el filtro de equalizar"
   ]
  },
  {
   "cell_type": "code",
   "execution_count": 186,
   "id": "b1ab0051",
   "metadata": {},
   "outputs": [],
   "source": [
    "X = np.stack(all_images['equalizado'], axis = 0)\n",
    "Y = np.stack(all_images['neumonia'], axis = 0)"
   ]
  },
  {
   "cell_type": "markdown",
   "id": "f4b2dbed",
   "metadata": {},
   "source": [
    "Divido en train y test"
   ]
  },
  {
   "cell_type": "code",
   "execution_count": 187,
   "id": "58fa1f09",
   "metadata": {},
   "outputs": [],
   "source": [
    "X_train, X_test, Y_train, Y_test = train_test_split(X, Y, test_size=0.33, random_state=42)"
   ]
  },
  {
   "cell_type": "markdown",
   "id": "143202c7",
   "metadata": {},
   "source": [
    "Normalizo los datos"
   ]
  },
  {
   "cell_type": "code",
   "execution_count": 188,
   "id": "2d2a15b9",
   "metadata": {},
   "outputs": [],
   "source": [
    "X_train = X_train / 255\n",
    "X_test = X_test / 255\n",
    "\n",
    "# X_train.reshape(-1, img_size, img_size, 1)\n",
    "# Y_train = Y_train\n",
    "\n",
    "# X_test.reshape(-1, img_size, img_size, 1)\n",
    "# Y_test = Y_test"
   ]
  },
  {
   "cell_type": "markdown",
   "id": "7567bf7d",
   "metadata": {},
   "source": [
    "Aumento del train data"
   ]
  },
  {
   "cell_type": "markdown",
   "id": "2b0c47f5",
   "metadata": {},
   "source": [
    "datagen = ImageDataGenerator(\n",
    "        featurewise_center=False,  # set input mean to 0 over the dataset\n",
    "        samplewise_center=False,  # set each sample mean to 0\n",
    "        featurewise_std_normalization=False,  # divide inputs by std of the dataset\n",
    "        samplewise_std_normalization=False,  # divide each input by its std\n",
    "        zca_whitening=False,  # apply ZCA whitening\n",
    "        rotation_range = 30,  # randomly rotate images in the range (degrees, 0 to 180)\n",
    "        zoom_range = 0.2, # Randomly zoom image \n",
    "        width_shift_range=0.1,  # randomly shift images horizontally (fraction of total width)\n",
    "        height_shift_range=0.1,  # randomly shift images vertically (fraction of total height)\n",
    "        horizontal_flip = True,  # randomly flip images\n",
    "        vertical_flip=False)  # randomly flip images\n",
    "\n",
    "\n",
    "datagen.fit(x_train)"
   ]
  },
  {
   "cell_type": "markdown",
   "id": "0056ec0c",
   "metadata": {},
   "source": [
    "Entreno el modelo"
   ]
  },
  {
   "cell_type": "code",
   "execution_count": 195,
   "id": "68c703d7",
   "metadata": {},
   "outputs": [
    {
     "name": "stdout",
     "output_type": "stream",
     "text": [
      "Epoch 1/20\n",
      "11/11 [==============================] - 3s 298ms/step - loss: 0.6840 - accuracy: 0.9851 - val_loss: 0.6832 - val_accuracy: 0.9879\n",
      "Epoch 2/20\n",
      "11/11 [==============================] - 3s 300ms/step - loss: 0.6829 - accuracy: 0.9851 - val_loss: 0.6820 - val_accuracy: 0.9879\n",
      "Epoch 3/20\n",
      "11/11 [==============================] - 3s 310ms/step - loss: 0.6817 - accuracy: 0.9851 - val_loss: 0.6808 - val_accuracy: 0.9879\n",
      "Epoch 4/20\n",
      "11/11 [==============================] - 3s 308ms/step - loss: 0.6805 - accuracy: 0.9851 - val_loss: 0.6795 - val_accuracy: 0.9879\n",
      "Epoch 5/20\n",
      "11/11 [==============================] - 3s 308ms/step - loss: 0.6791 - accuracy: 0.9851 - val_loss: 0.6781 - val_accuracy: 0.9879\n",
      "Epoch 6/20\n",
      "11/11 [==============================] - 3s 316ms/step - loss: 0.6776 - accuracy: 0.9851 - val_loss: 0.6766 - val_accuracy: 0.9879\n",
      "Epoch 7/20\n",
      "11/11 [==============================] - 4s 358ms/step - loss: 0.6761 - accuracy: 0.9851 - val_loss: 0.6751 - val_accuracy: 0.9879\n",
      "Epoch 8/20\n",
      "11/11 [==============================] - 4s 340ms/step - loss: 0.6746 - accuracy: 0.9851 - val_loss: 0.6734 - val_accuracy: 0.9879\n",
      "Epoch 9/20\n",
      "11/11 [==============================] - 4s 334ms/step - loss: 0.6728 - accuracy: 0.9851 - val_loss: 0.6717 - val_accuracy: 0.9879\n",
      "Epoch 10/20\n",
      "11/11 [==============================] - 4s 357ms/step - loss: 0.6711 - accuracy: 0.9851 - val_loss: 0.6698 - val_accuracy: 0.9879\n",
      "Epoch 11/20\n",
      "11/11 [==============================] - 4s 349ms/step - loss: 0.6691 - accuracy: 0.9851 - val_loss: 0.6679 - val_accuracy: 0.9879\n",
      "Epoch 12/20\n",
      "11/11 [==============================] - 4s 365ms/step - loss: 0.6673 - accuracy: 0.9851 - val_loss: 0.6659 - val_accuracy: 0.9879\n",
      "Epoch 13/20\n",
      "11/11 [==============================] - 4s 353ms/step - loss: 0.6651 - accuracy: 0.9851 - val_loss: 0.6637 - val_accuracy: 0.9879\n",
      "Epoch 14/20\n",
      "11/11 [==============================] - 4s 343ms/step - loss: 0.6629 - accuracy: 0.9851 - val_loss: 0.6615 - val_accuracy: 0.9879\n",
      "Epoch 15/20\n",
      "11/11 [==============================] - 4s 340ms/step - loss: 0.6606 - accuracy: 0.9851 - val_loss: 0.6591 - val_accuracy: 0.9879\n",
      "Epoch 16/20\n",
      "11/11 [==============================] - 4s 342ms/step - loss: 0.6583 - accuracy: 0.9851 - val_loss: 0.6566 - val_accuracy: 0.9879\n",
      "Epoch 17/20\n",
      "11/11 [==============================] - 4s 343ms/step - loss: 0.6557 - accuracy: 0.9851 - val_loss: 0.6540 - val_accuracy: 0.9879\n",
      "Epoch 18/20\n",
      "11/11 [==============================] - 4s 340ms/step - loss: 0.6530 - accuracy: 0.9851 - val_loss: 0.6512 - val_accuracy: 0.9879\n",
      "Epoch 19/20\n",
      "11/11 [==============================] - 4s 339ms/step - loss: 0.6502 - accuracy: 0.9851 - val_loss: 0.6484 - val_accuracy: 0.9879\n",
      "Epoch 20/20\n",
      "11/11 [==============================] - 4s 361ms/step - loss: 0.6473 - accuracy: 0.9851 - val_loss: 0.6454 - val_accuracy: 0.9879\n"
     ]
    }
   ],
   "source": [
    "history = model.fit(X_train,Y_train, batch_size = 32, epochs = 20 , validation_data = (X_test, Y_test))"
   ]
  },
  {
   "cell_type": "code",
   "execution_count": 193,
   "id": "11448f69-e06e-4b22-a8ec-eb4fdbe94ca4",
   "metadata": {},
   "outputs": [],
   "source": [
    "# model.fit?"
   ]
  },
  {
   "cell_type": "markdown",
   "id": "c9ac7297",
   "metadata": {},
   "source": [
    "Compruebo el modelo"
   ]
  },
  {
   "cell_type": "code",
   "execution_count": 194,
   "id": "44f7ae18",
   "metadata": {},
   "outputs": [
    {
     "data": {
      "image/png": "[encoded data removed]",
      "text/plain": [
       "<Figure size 1080x1080 with 2 Axes>"
      ]
     },
     "metadata": {
      "needs_background": "light"
     },
     "output_type": "display_data"
    }
   ],
   "source": [
    "acc = history.history['accuracy']\n",
    "val_acc = history.history['val_accuracy']\n",
    "loss = history.history['loss']\n",
    "val_loss = history.history['val_loss']\n",
    "\n",
    "epochs_range = range(10)\n",
    "\n",
    "plt.figure(figsize=(15, 15))\n",
    "plt.subplot(2, 2, 1)\n",
    "plt.plot(epochs_range, acc, label='Training Accuracy')\n",
    "plt.plot(epochs_range, val_acc, label='Validation Accuracy')\n",
    "plt.legend(loc='lower right')\n",
    "plt.title('Training and Validation Accuracy')\n",
    "\n",
    "plt.subplot(2, 2, 2)\n",
    "plt.plot(epochs_range, loss, label='Training Loss')\n",
    "plt.plot(epochs_range, val_loss, label='Validation Loss')\n",
    "plt.legend(loc='upper right')\n",
    "plt.title('Training and Validation Loss')\n",
    "plt.show()"
   ]
  },
  {
   "cell_type": "code",
   "execution_count": 171,
   "id": "c464d7f2",
   "metadata": {},
   "outputs": [
    {
     "ename": "AttributeError",
     "evalue": "'Sequential' object has no attribute 'predict_classes'",
     "output_type": "error",
     "traceback": [
      "\u001b[0;31m---------------------------------------------------------------------------\u001b[0m",
      "\u001b[0;31mAttributeError\u001b[0m                            Traceback (most recent call last)",
      "Input \u001b[0;32mIn [171]\u001b[0m, in \u001b[0;36m<cell line: 1>\u001b[0;34m()\u001b[0m\n\u001b[0;32m----> 1\u001b[0m predictions \u001b[38;5;241m=\u001b[39m \u001b[43mmodel\u001b[49m\u001b[38;5;241;43m.\u001b[39;49m\u001b[43mpredict_classes\u001b[49m(X_test)\n\u001b[1;32m      2\u001b[0m predictions \u001b[38;5;241m=\u001b[39m predictions\u001b[38;5;241m.\u001b[39mreshape(\u001b[38;5;241m1\u001b[39m,\u001b[38;5;241m-\u001b[39m\u001b[38;5;241m1\u001b[39m)[\u001b[38;5;241m0\u001b[39m]\n\u001b[1;32m      3\u001b[0m \u001b[38;5;28mprint\u001b[39m(classification_report(Y_test, predictions, target_names \u001b[38;5;241m=\u001b[39m [\u001b[38;5;124m'\u001b[39m\u001b[38;5;124mNo neumonia\u001b[39m\u001b[38;5;124m'\u001b[39m,\u001b[38;5;124m'\u001b[39m\u001b[38;5;124mNeumonia\u001b[39m\u001b[38;5;124m'\u001b[39m]))\n",
      "\u001b[0;31mAttributeError\u001b[0m: 'Sequential' object has no attribute 'predict_classes'"
     ]
    }
   ],
   "source": [
    "predictions = model.predict_classes(X_test)\n",
    "predictions = predictions.reshape(1,-1)[0]\n",
    "print(classification_report(Y_test, predictions, target_names = ['No neumonia','Neumonia']))"
   ]
  },
  {
   "cell_type": "code",
   "execution_count": null,
   "id": "5837f620-fe37-4ddd-9955-f119d61d8177",
   "metadata": {},
   "outputs": [],
   "source": []
  }
 ],
 "metadata": {
  "kernelspec": {
   "display_name": "Python 3 (ipykernel)",
   "language": "python",
   "name": "python3"
  },
  "language_info": {
   "codemirror_mode": {
    "name": "ipython",
    "version": 3
   },
   "file_extension": ".py",
   "mimetype": "text/x-python",
   "name": "python",
   "nbconvert_exporter": "python",
   "pygments_lexer": "ipython3",
   "version": "3.10.4"
  }
 },
 "nbformat": 4,
 "nbformat_minor": 5
}
