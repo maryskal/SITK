{
 "cells": [
  {
   "cell_type": "markdown",
   "id": "1eeaa123",
   "metadata": {},
   "source": [
    "# RADIOMICS"
   ]
  },
  {
   "cell_type": "code",
   "execution_count": 1,
   "id": "3cad882d",
   "metadata": {},
   "outputs": [],
   "source": [
    "import six\n",
    "\n",
    "from radiomics import featureextractor, getTestCase"
   ]
  },
  {
   "cell_type": "code",
   "execution_count": 15,
   "id": "a115109a",
   "metadata": {},
   "outputs": [],
   "source": [
    "import SimpleITK as sitk\n",
    "\n",
    "import numpy as np\n",
    "import os\n",
    "import pandas as pd\n",
    "\n",
    "%matplotlib inline\n",
    "import matplotlib.pyplot as plt\n",
    "\n",
    "image_viewer = sitk.ImageViewer()"
   ]
  },
  {
   "cell_type": "code",
   "execution_count": 3,
   "id": "5f78af71",
   "metadata": {},
   "outputs": [],
   "source": [
    "from os import listdir\n",
    "from os.path import isfile, join"
   ]
  },
  {
   "cell_type": "code",
   "execution_count": null,
   "id": "bba1675d",
   "metadata": {},
   "outputs": [],
   "source": [
    "fiji = 'D:/Users/María Rollán/Documents/Fiji.app/ImageJ-win64.exe'\n",
    "image_viewer.SetApplication(fiji)"
   ]
  },
  {
   "cell_type": "code",
   "execution_count": 4,
   "id": "7decda3e",
   "metadata": {},
   "outputs": [],
   "source": [
    "ctFolder = 'Vessel_stencils'"
   ]
  },
  {
   "cell_type": "code",
   "execution_count": 5,
   "id": "2ed6ad6c",
   "metadata": {},
   "outputs": [],
   "source": [
    "path = os.path.join(ctFolder,'10047G_INSP_STD_BWH_COPD.nrrd')\n",
    "ct = sitk.ReadImage(path)"
   ]
  },
  {
   "cell_type": "code",
   "execution_count": 6,
   "id": "d5eb3f12",
   "metadata": {},
   "outputs": [],
   "source": [
    "mypath = 'Vessel_stencils/pacientePrueba'\n",
    "# Recojo todos los files en mypath\n",
    "masks = [f for f in listdir(mypath) if isfile(join(mypath, f))]"
   ]
  },
  {
   "cell_type": "code",
   "execution_count": 7,
   "id": "a91af67b",
   "metadata": {},
   "outputs": [],
   "source": [
    "data = [sitk.ReadImage(os.path.join(mypath, path)) for path in masks]"
   ]
  },
  {
   "cell_type": "code",
   "execution_count": 12,
   "id": "3f8d81b2",
   "metadata": {},
   "outputs": [
    {
     "data": {
      "text/plain": [
       "['mask_1_3.nrrd',\n",
       " 'mask_1_2.nrrd',\n",
       " 'mask_1_5.nrrd',\n",
       " 'mask_0_3.nrrd',\n",
       " 'mask_2_2.nrrd',\n",
       " 'mask_2_10.nrrd',\n",
       " 'mask_2_3.nrrd',\n",
       " 'mask_0_2.nrrd',\n",
       " 'mask_0_5.nrrd',\n",
       " 'mask_0_10.nrrd',\n",
       " 'mask_2_5.nrrd',\n",
       " 'mask_1_10.nrrd']"
      ]
     },
     "execution_count": 12,
     "metadata": {},
     "output_type": "execute_result"
    }
   ],
   "source": [
    "masks"
   ]
  },
  {
   "cell_type": "code",
   "execution_count": 16,
   "id": "b0748ccf",
   "metadata": {},
   "outputs": [],
   "source": [
    "data = pd.DataFrame()"
   ]
  }
 ],
 "metadata": {
  "kernelspec": {
   "display_name": "Python 3 (ipykernel)",
   "language": "python",
   "name": "python3"
  },
  "language_info": {
   "codemirror_mode": {
    "name": "ipython",
    "version": 3
   },
   "file_extension": ".py",
   "mimetype": "text/x-python",
   "name": "python",
   "nbconvert_exporter": "python",
   "pygments_lexer": "ipython3",
   "version": "3.9.7"
  }
 },
 "nbformat": 4,
 "nbformat_minor": 5
}
