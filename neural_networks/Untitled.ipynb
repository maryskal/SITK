{
 "cells": [
  {
   "cell_type": "code",
   "execution_count": 1,
   "id": "dc27b0ff-0310-4761-b7b7-3c5b6d260b97",
   "metadata": {},
   "outputs": [],
   "source": [
    "import os\n",
    "import pandas as pd\n",
    "import numpy as np\n",
    "import PIL\n",
    "import tensorflow as tf\n",
    "import matplotlib.pyplot as plt\n",
    "import datetime\n",
    "import cv2\n",
    "\n",
    "from sklearn import model_selection\n",
    "from PIL import Image\n",
    "from skimage import exposure\n",
    "\n",
    "from tensorflow.keras.applications import EfficientNetB0\n",
    "from tensorflow.keras import models\n",
    "from tensorflow.keras import layers\n",
    "import tensorflow_addons as tfa"
   ]
  },
  {
   "cell_type": "code",
   "execution_count": 2,
   "id": "4de4e561-b3e3-4d16-b278-a64acf4f084a",
   "metadata": {},
   "outputs": [],
   "source": [
    "os.environ['CUDA_VISIBLE_DEVICES'] = '0'"
   ]
  },
  {
   "cell_type": "markdown",
   "id": "3ba01f16",
   "metadata": {},
   "source": [
    "# Datos"
   ]
  },
  {
   "cell_type": "code",
   "execution_count": 3,
   "id": "cf457f87-b6a1-4fee-a606-c68fd8a20a7b",
   "metadata": {},
   "outputs": [],
   "source": [
    "path = '/home/mr1142/Documents/Data/NIH'"
   ]
  },
  {
   "cell_type": "code",
   "execution_count": 4,
   "id": "806652f2-5c3a-4f37-a28b-2705f6504be8",
   "metadata": {},
   "outputs": [
    {
     "data": {
      "text/html": [
       "<div>\n",
       "<style scoped>\n",
       "    .dataframe tbody tr th:only-of-type {\n",
       "        vertical-align: middle;\n",
       "    }\n",
       "\n",
       "    .dataframe tbody tr th {\n",
       "        vertical-align: top;\n",
       "    }\n",
       "\n",
       "    .dataframe thead th {\n",
       "        text-align: right;\n",
       "    }\n",
       "</style>\n",
       "<table border=\"1\" class=\"dataframe\">\n",
       "  <thead>\n",
       "    <tr style=\"text-align: right;\">\n",
       "      <th></th>\n",
       "      <th>Image Index</th>\n",
       "      <th>Finding Labels</th>\n",
       "      <th>Follow-up #</th>\n",
       "      <th>Patient ID</th>\n",
       "      <th>Patient Age</th>\n",
       "      <th>Patient Gender</th>\n",
       "      <th>View Position</th>\n",
       "      <th>OriginalImage[Width</th>\n",
       "      <th>Height]</th>\n",
       "      <th>OriginalImagePixelSpacing[x</th>\n",
       "      <th>y]</th>\n",
       "      <th>Unnamed: 11</th>\n",
       "    </tr>\n",
       "  </thead>\n",
       "  <tbody>\n",
       "    <tr>\n",
       "      <th>0</th>\n",
       "      <td>00000001_000.png</td>\n",
       "      <td>Cardiomegaly</td>\n",
       "      <td>0</td>\n",
       "      <td>1</td>\n",
       "      <td>58</td>\n",
       "      <td>M</td>\n",
       "      <td>PA</td>\n",
       "      <td>2682</td>\n",
       "      <td>2749</td>\n",
       "      <td>0.143</td>\n",
       "      <td>0.143</td>\n",
       "      <td>NaN</td>\n",
       "    </tr>\n",
       "    <tr>\n",
       "      <th>1</th>\n",
       "      <td>00000001_001.png</td>\n",
       "      <td>Cardiomegaly|Emphysema</td>\n",
       "      <td>1</td>\n",
       "      <td>1</td>\n",
       "      <td>58</td>\n",
       "      <td>M</td>\n",
       "      <td>PA</td>\n",
       "      <td>2894</td>\n",
       "      <td>2729</td>\n",
       "      <td>0.143</td>\n",
       "      <td>0.143</td>\n",
       "      <td>NaN</td>\n",
       "    </tr>\n",
       "    <tr>\n",
       "      <th>2</th>\n",
       "      <td>00000001_002.png</td>\n",
       "      <td>Cardiomegaly|Effusion</td>\n",
       "      <td>2</td>\n",
       "      <td>1</td>\n",
       "      <td>58</td>\n",
       "      <td>M</td>\n",
       "      <td>PA</td>\n",
       "      <td>2500</td>\n",
       "      <td>2048</td>\n",
       "      <td>0.168</td>\n",
       "      <td>0.168</td>\n",
       "      <td>NaN</td>\n",
       "    </tr>\n",
       "    <tr>\n",
       "      <th>3</th>\n",
       "      <td>00000002_000.png</td>\n",
       "      <td>No Finding</td>\n",
       "      <td>0</td>\n",
       "      <td>2</td>\n",
       "      <td>81</td>\n",
       "      <td>M</td>\n",
       "      <td>PA</td>\n",
       "      <td>2500</td>\n",
       "      <td>2048</td>\n",
       "      <td>0.171</td>\n",
       "      <td>0.171</td>\n",
       "      <td>NaN</td>\n",
       "    </tr>\n",
       "    <tr>\n",
       "      <th>4</th>\n",
       "      <td>00000003_000.png</td>\n",
       "      <td>Hernia</td>\n",
       "      <td>0</td>\n",
       "      <td>3</td>\n",
       "      <td>81</td>\n",
       "      <td>F</td>\n",
       "      <td>PA</td>\n",
       "      <td>2582</td>\n",
       "      <td>2991</td>\n",
       "      <td>0.143</td>\n",
       "      <td>0.143</td>\n",
       "      <td>NaN</td>\n",
       "    </tr>\n",
       "  </tbody>\n",
       "</table>\n",
       "</div>"
      ],
      "text/plain": [
       "        Image Index          Finding Labels  Follow-up #  Patient ID  \\\n",
       "0  00000001_000.png            Cardiomegaly            0           1   \n",
       "1  00000001_001.png  Cardiomegaly|Emphysema            1           1   \n",
       "2  00000001_002.png   Cardiomegaly|Effusion            2           1   \n",
       "3  00000002_000.png              No Finding            0           2   \n",
       "4  00000003_000.png                  Hernia            0           3   \n",
       "\n",
       "   Patient Age Patient Gender View Position  OriginalImage[Width  Height]  \\\n",
       "0           58              M            PA                 2682     2749   \n",
       "1           58              M            PA                 2894     2729   \n",
       "2           58              M            PA                 2500     2048   \n",
       "3           81              M            PA                 2500     2048   \n",
       "4           81              F            PA                 2582     2991   \n",
       "\n",
       "   OriginalImagePixelSpacing[x     y]  Unnamed: 11  \n",
       "0                        0.143  0.143          NaN  \n",
       "1                        0.143  0.143          NaN  \n",
       "2                        0.168  0.168          NaN  \n",
       "3                        0.171  0.171          NaN  \n",
       "4                        0.143  0.143          NaN  "
      ]
     },
     "execution_count": 4,
     "metadata": {},
     "output_type": "execute_result"
    }
   ],
   "source": [
    "df = pd.read_csv(os.path.join(path, 'Data_Entry_2017.csv'))\n",
    "df.head()"
   ]
  },
  {
   "cell_type": "markdown",
   "id": "6d0d11fc-086c-428d-a342-dca0654db373",
   "metadata": {},
   "source": [
    "## Labels"
   ]
  },
  {
   "cell_type": "code",
   "execution_count": 5,
   "id": "7ebcf8f4-dd5b-4f35-9963-3231e6e6221d",
   "metadata": {},
   "outputs": [],
   "source": [
    "labels = np.unique(df['Finding Labels'])\n",
    "labels = '|'.join(labels)\n",
    "labels = labels.split('|')\n",
    "labels = np.unique(labels).tolist()"
   ]
  },
  {
   "cell_type": "code",
   "execution_count": 6,
   "id": "47468fe8-fbad-4dbc-ac01-fe2767de54ee",
   "metadata": {},
   "outputs": [
    {
     "data": {
      "text/plain": [
       "['Atelectasis',\n",
       " 'Cardiomegaly',\n",
       " 'Consolidation',\n",
       " 'Edema',\n",
       " 'Effusion',\n",
       " 'Emphysema',\n",
       " 'Fibrosis',\n",
       " 'Hernia',\n",
       " 'Infiltration',\n",
       " 'Mass',\n",
       " 'No Finding',\n",
       " 'Nodule',\n",
       " 'Pleural_Thickening',\n",
       " 'Pneumonia',\n",
       " 'Pneumothorax']"
      ]
     },
     "execution_count": 6,
     "metadata": {},
     "output_type": "execute_result"
    }
   ],
   "source": [
    "labels"
   ]
  },
  {
   "cell_type": "code",
   "execution_count": 7,
   "id": "661b9af1-a2f3-49a0-9e6a-68450dd938aa",
   "metadata": {},
   "outputs": [],
   "source": [
    "for lab in labels:\n",
    "    df[lab] = pd.NA"
   ]
  },
  {
   "cell_type": "code",
   "execution_count": 8,
   "id": "34f9d422-1f2b-4a0d-a3c2-b529fd7b5370",
   "metadata": {},
   "outputs": [],
   "source": [
    "def fill_label(information, label):\n",
    "    positive_labels = information.split('|')\n",
    "    if label in positive_labels:\n",
    "        return 1\n",
    "    return 0"
   ]
  },
  {
   "cell_type": "code",
   "execution_count": 9,
   "id": "2c80baf1-a291-485d-a76a-a83b595ba569",
   "metadata": {},
   "outputs": [],
   "source": [
    "for lab in labels:\n",
    "    df[lab] = list(map(lambda x: fill_label(x, lab), df['Finding Labels'].tolist()))"
   ]
  },
  {
   "cell_type": "code",
   "execution_count": 10,
   "id": "c6424125-be3c-4f51-9e17-b9c19cac6cc3",
   "metadata": {},
   "outputs": [
    {
     "data": {
      "text/html": [
       "<div>\n",
       "<style scoped>\n",
       "    .dataframe tbody tr th:only-of-type {\n",
       "        vertical-align: middle;\n",
       "    }\n",
       "\n",
       "    .dataframe tbody tr th {\n",
       "        vertical-align: top;\n",
       "    }\n",
       "\n",
       "    .dataframe thead th {\n",
       "        text-align: right;\n",
       "    }\n",
       "</style>\n",
       "<table border=\"1\" class=\"dataframe\">\n",
       "  <thead>\n",
       "    <tr style=\"text-align: right;\">\n",
       "      <th></th>\n",
       "      <th>Image Index</th>\n",
       "      <th>Finding Labels</th>\n",
       "      <th>Follow-up #</th>\n",
       "      <th>Patient ID</th>\n",
       "      <th>Patient Age</th>\n",
       "      <th>Patient Gender</th>\n",
       "      <th>View Position</th>\n",
       "      <th>OriginalImage[Width</th>\n",
       "      <th>Height]</th>\n",
       "      <th>OriginalImagePixelSpacing[x</th>\n",
       "      <th>...</th>\n",
       "      <th>Emphysema</th>\n",
       "      <th>Fibrosis</th>\n",
       "      <th>Hernia</th>\n",
       "      <th>Infiltration</th>\n",
       "      <th>Mass</th>\n",
       "      <th>No Finding</th>\n",
       "      <th>Nodule</th>\n",
       "      <th>Pleural_Thickening</th>\n",
       "      <th>Pneumonia</th>\n",
       "      <th>Pneumothorax</th>\n",
       "    </tr>\n",
       "  </thead>\n",
       "  <tbody>\n",
       "    <tr>\n",
       "      <th>0</th>\n",
       "      <td>00003384_001.png</td>\n",
       "      <td>Infiltration</td>\n",
       "      <td>1</td>\n",
       "      <td>3384</td>\n",
       "      <td>70</td>\n",
       "      <td>F</td>\n",
       "      <td>PA</td>\n",
       "      <td>2048</td>\n",
       "      <td>2500</td>\n",
       "      <td>0.168</td>\n",
       "      <td>...</td>\n",
       "      <td>0</td>\n",
       "      <td>0</td>\n",
       "      <td>0</td>\n",
       "      <td>1</td>\n",
       "      <td>0</td>\n",
       "      <td>0</td>\n",
       "      <td>0</td>\n",
       "      <td>0</td>\n",
       "      <td>0</td>\n",
       "      <td>0</td>\n",
       "    </tr>\n",
       "    <tr>\n",
       "      <th>1</th>\n",
       "      <td>00017000_002.png</td>\n",
       "      <td>No Finding</td>\n",
       "      <td>2</td>\n",
       "      <td>17000</td>\n",
       "      <td>36</td>\n",
       "      <td>M</td>\n",
       "      <td>AP</td>\n",
       "      <td>2500</td>\n",
       "      <td>2048</td>\n",
       "      <td>0.168</td>\n",
       "      <td>...</td>\n",
       "      <td>0</td>\n",
       "      <td>0</td>\n",
       "      <td>0</td>\n",
       "      <td>0</td>\n",
       "      <td>0</td>\n",
       "      <td>1</td>\n",
       "      <td>0</td>\n",
       "      <td>0</td>\n",
       "      <td>0</td>\n",
       "      <td>0</td>\n",
       "    </tr>\n",
       "    <tr>\n",
       "      <th>2</th>\n",
       "      <td>00012229_000.png</td>\n",
       "      <td>Atelectasis</td>\n",
       "      <td>0</td>\n",
       "      <td>12229</td>\n",
       "      <td>48</td>\n",
       "      <td>F</td>\n",
       "      <td>PA</td>\n",
       "      <td>2992</td>\n",
       "      <td>2845</td>\n",
       "      <td>0.143</td>\n",
       "      <td>...</td>\n",
       "      <td>0</td>\n",
       "      <td>0</td>\n",
       "      <td>0</td>\n",
       "      <td>0</td>\n",
       "      <td>0</td>\n",
       "      <td>0</td>\n",
       "      <td>0</td>\n",
       "      <td>0</td>\n",
       "      <td>0</td>\n",
       "      <td>0</td>\n",
       "    </tr>\n",
       "    <tr>\n",
       "      <th>3</th>\n",
       "      <td>00021201_084.png</td>\n",
       "      <td>Atelectasis|Effusion|Infiltration</td>\n",
       "      <td>84</td>\n",
       "      <td>21201</td>\n",
       "      <td>67</td>\n",
       "      <td>M</td>\n",
       "      <td>AP</td>\n",
       "      <td>2500</td>\n",
       "      <td>2048</td>\n",
       "      <td>0.168</td>\n",
       "      <td>...</td>\n",
       "      <td>0</td>\n",
       "      <td>0</td>\n",
       "      <td>0</td>\n",
       "      <td>1</td>\n",
       "      <td>0</td>\n",
       "      <td>0</td>\n",
       "      <td>0</td>\n",
       "      <td>0</td>\n",
       "      <td>0</td>\n",
       "      <td>0</td>\n",
       "    </tr>\n",
       "    <tr>\n",
       "      <th>4</th>\n",
       "      <td>00012957_004.png</td>\n",
       "      <td>No Finding</td>\n",
       "      <td>4</td>\n",
       "      <td>12957</td>\n",
       "      <td>37</td>\n",
       "      <td>M</td>\n",
       "      <td>AP</td>\n",
       "      <td>3056</td>\n",
       "      <td>2544</td>\n",
       "      <td>0.139</td>\n",
       "      <td>...</td>\n",
       "      <td>0</td>\n",
       "      <td>0</td>\n",
       "      <td>0</td>\n",
       "      <td>0</td>\n",
       "      <td>0</td>\n",
       "      <td>1</td>\n",
       "      <td>0</td>\n",
       "      <td>0</td>\n",
       "      <td>0</td>\n",
       "      <td>0</td>\n",
       "    </tr>\n",
       "  </tbody>\n",
       "</table>\n",
       "<p>5 rows × 27 columns</p>\n",
       "</div>"
      ],
      "text/plain": [
       "        Image Index                     Finding Labels  Follow-up #  \\\n",
       "0  00003384_001.png                       Infiltration            1   \n",
       "1  00017000_002.png                         No Finding            2   \n",
       "2  00012229_000.png                        Atelectasis            0   \n",
       "3  00021201_084.png  Atelectasis|Effusion|Infiltration           84   \n",
       "4  00012957_004.png                         No Finding            4   \n",
       "\n",
       "   Patient ID  Patient Age Patient Gender View Position  OriginalImage[Width  \\\n",
       "0        3384           70              F            PA                 2048   \n",
       "1       17000           36              M            AP                 2500   \n",
       "2       12229           48              F            PA                 2992   \n",
       "3       21201           67              M            AP                 2500   \n",
       "4       12957           37              M            AP                 3056   \n",
       "\n",
       "   Height]  OriginalImagePixelSpacing[x  ...  Emphysema  Fibrosis  Hernia  \\\n",
       "0     2500                        0.168  ...          0         0       0   \n",
       "1     2048                        0.168  ...          0         0       0   \n",
       "2     2845                        0.143  ...          0         0       0   \n",
       "3     2048                        0.168  ...          0         0       0   \n",
       "4     2544                        0.139  ...          0         0       0   \n",
       "\n",
       "   Infiltration  Mass  No Finding  Nodule  Pleural_Thickening  Pneumonia  \\\n",
       "0             1     0           0       0                   0          0   \n",
       "1             0     0           1       0                   0          0   \n",
       "2             0     0           0       0                   0          0   \n",
       "3             1     0           0       0                   0          0   \n",
       "4             0     0           1       0                   0          0   \n",
       "\n",
       "   Pneumothorax  \n",
       "0             0  \n",
       "1             0  \n",
       "2             0  \n",
       "3             0  \n",
       "4             0  \n",
       "\n",
       "[5 rows x 27 columns]"
      ]
     },
     "execution_count": 10,
     "metadata": {},
     "output_type": "execute_result"
    }
   ],
   "source": [
    "df = df.sample(frac=1).reset_index(drop = True)\n",
    "df.head()"
   ]
  },
  {
   "cell_type": "code",
   "execution_count": 11,
   "id": "cdbd4fd9-1cb0-42e9-a8ad-f7cbdda21f91",
   "metadata": {},
   "outputs": [
    {
     "name": "stdout",
     "output_type": "stream",
     "text": [
      "1431\n",
      "60361\n"
     ]
    }
   ],
   "source": [
    "print(sum(df.Pneumonia == 1))\n",
    "print(sum(df['No Finding'] == 1))"
   ]
  },
  {
   "cell_type": "code",
   "execution_count": 12,
   "id": "92229cbb-741e-4005-ab47-f73b9ae46b88",
   "metadata": {},
   "outputs": [],
   "source": [
    "n = 100"
   ]
  },
  {
   "cell_type": "code",
   "execution_count": 13,
   "id": "c7a8018f-ba63-4e6e-8908-41fb94c6e574",
   "metadata": {},
   "outputs": [],
   "source": [
    "neumo = df[df.Pneumonia == 1][0:n]\n",
    "normal = df[df['No Finding'] == 1][0:n]"
   ]
  },
  {
   "cell_type": "code",
   "execution_count": 14,
   "id": "747075b6-bee5-4d46-a9ea-55dd0075d950",
   "metadata": {},
   "outputs": [
    {
     "data": {
      "text/html": [
       "<div>\n",
       "<style scoped>\n",
       "    .dataframe tbody tr th:only-of-type {\n",
       "        vertical-align: middle;\n",
       "    }\n",
       "\n",
       "    .dataframe tbody tr th {\n",
       "        vertical-align: top;\n",
       "    }\n",
       "\n",
       "    .dataframe thead th {\n",
       "        text-align: right;\n",
       "    }\n",
       "</style>\n",
       "<table border=\"1\" class=\"dataframe\">\n",
       "  <thead>\n",
       "    <tr style=\"text-align: right;\">\n",
       "      <th></th>\n",
       "      <th>Image Index</th>\n",
       "      <th>Finding Labels</th>\n",
       "      <th>Follow-up #</th>\n",
       "      <th>Patient ID</th>\n",
       "      <th>Patient Age</th>\n",
       "      <th>Patient Gender</th>\n",
       "      <th>View Position</th>\n",
       "      <th>OriginalImage[Width</th>\n",
       "      <th>Height]</th>\n",
       "      <th>OriginalImagePixelSpacing[x</th>\n",
       "      <th>...</th>\n",
       "      <th>Emphysema</th>\n",
       "      <th>Fibrosis</th>\n",
       "      <th>Hernia</th>\n",
       "      <th>Infiltration</th>\n",
       "      <th>Mass</th>\n",
       "      <th>No Finding</th>\n",
       "      <th>Nodule</th>\n",
       "      <th>Pleural_Thickening</th>\n",
       "      <th>Pneumonia</th>\n",
       "      <th>Pneumothorax</th>\n",
       "    </tr>\n",
       "  </thead>\n",
       "  <tbody>\n",
       "    <tr>\n",
       "      <th>0</th>\n",
       "      <td>00018382_004.png</td>\n",
       "      <td>Edema|Effusion|Pneumonia</td>\n",
       "      <td>4</td>\n",
       "      <td>18382</td>\n",
       "      <td>72</td>\n",
       "      <td>M</td>\n",
       "      <td>AP</td>\n",
       "      <td>2500</td>\n",
       "      <td>2048</td>\n",
       "      <td>0.168</td>\n",
       "      <td>...</td>\n",
       "      <td>0</td>\n",
       "      <td>0</td>\n",
       "      <td>0</td>\n",
       "      <td>0</td>\n",
       "      <td>0</td>\n",
       "      <td>0</td>\n",
       "      <td>0</td>\n",
       "      <td>0</td>\n",
       "      <td>1</td>\n",
       "      <td>0</td>\n",
       "    </tr>\n",
       "    <tr>\n",
       "      <th>1</th>\n",
       "      <td>00021289_000.png</td>\n",
       "      <td>Consolidation|Mass|Nodule|Pneumonia</td>\n",
       "      <td>0</td>\n",
       "      <td>21289</td>\n",
       "      <td>40</td>\n",
       "      <td>F</td>\n",
       "      <td>AP</td>\n",
       "      <td>3056</td>\n",
       "      <td>2544</td>\n",
       "      <td>0.139</td>\n",
       "      <td>...</td>\n",
       "      <td>0</td>\n",
       "      <td>0</td>\n",
       "      <td>0</td>\n",
       "      <td>0</td>\n",
       "      <td>1</td>\n",
       "      <td>0</td>\n",
       "      <td>1</td>\n",
       "      <td>0</td>\n",
       "      <td>1</td>\n",
       "      <td>0</td>\n",
       "    </tr>\n",
       "    <tr>\n",
       "      <th>2</th>\n",
       "      <td>00009043_000.png</td>\n",
       "      <td>No Finding</td>\n",
       "      <td>0</td>\n",
       "      <td>9043</td>\n",
       "      <td>48</td>\n",
       "      <td>M</td>\n",
       "      <td>PA</td>\n",
       "      <td>2500</td>\n",
       "      <td>2048</td>\n",
       "      <td>0.168</td>\n",
       "      <td>...</td>\n",
       "      <td>0</td>\n",
       "      <td>0</td>\n",
       "      <td>0</td>\n",
       "      <td>0</td>\n",
       "      <td>0</td>\n",
       "      <td>1</td>\n",
       "      <td>0</td>\n",
       "      <td>0</td>\n",
       "      <td>0</td>\n",
       "      <td>0</td>\n",
       "    </tr>\n",
       "    <tr>\n",
       "      <th>3</th>\n",
       "      <td>00025331_000.png</td>\n",
       "      <td>No Finding</td>\n",
       "      <td>0</td>\n",
       "      <td>25331</td>\n",
       "      <td>61</td>\n",
       "      <td>F</td>\n",
       "      <td>PA</td>\n",
       "      <td>2992</td>\n",
       "      <td>2991</td>\n",
       "      <td>0.143</td>\n",
       "      <td>...</td>\n",
       "      <td>0</td>\n",
       "      <td>0</td>\n",
       "      <td>0</td>\n",
       "      <td>0</td>\n",
       "      <td>0</td>\n",
       "      <td>1</td>\n",
       "      <td>0</td>\n",
       "      <td>0</td>\n",
       "      <td>0</td>\n",
       "      <td>0</td>\n",
       "    </tr>\n",
       "    <tr>\n",
       "      <th>4</th>\n",
       "      <td>00007197_000.png</td>\n",
       "      <td>No Finding</td>\n",
       "      <td>0</td>\n",
       "      <td>7197</td>\n",
       "      <td>46</td>\n",
       "      <td>M</td>\n",
       "      <td>PA</td>\n",
       "      <td>2500</td>\n",
       "      <td>2048</td>\n",
       "      <td>0.168</td>\n",
       "      <td>...</td>\n",
       "      <td>0</td>\n",
       "      <td>0</td>\n",
       "      <td>0</td>\n",
       "      <td>0</td>\n",
       "      <td>0</td>\n",
       "      <td>1</td>\n",
       "      <td>0</td>\n",
       "      <td>0</td>\n",
       "      <td>0</td>\n",
       "      <td>0</td>\n",
       "    </tr>\n",
       "  </tbody>\n",
       "</table>\n",
       "<p>5 rows × 27 columns</p>\n",
       "</div>"
      ],
      "text/plain": [
       "        Image Index                       Finding Labels  Follow-up #  \\\n",
       "0  00018382_004.png             Edema|Effusion|Pneumonia            4   \n",
       "1  00021289_000.png  Consolidation|Mass|Nodule|Pneumonia            0   \n",
       "2  00009043_000.png                           No Finding            0   \n",
       "3  00025331_000.png                           No Finding            0   \n",
       "4  00007197_000.png                           No Finding            0   \n",
       "\n",
       "   Patient ID  Patient Age Patient Gender View Position  OriginalImage[Width  \\\n",
       "0       18382           72              M            AP                 2500   \n",
       "1       21289           40              F            AP                 3056   \n",
       "2        9043           48              M            PA                 2500   \n",
       "3       25331           61              F            PA                 2992   \n",
       "4        7197           46              M            PA                 2500   \n",
       "\n",
       "   Height]  OriginalImagePixelSpacing[x  ...  Emphysema  Fibrosis  Hernia  \\\n",
       "0     2048                        0.168  ...          0         0       0   \n",
       "1     2544                        0.139  ...          0         0       0   \n",
       "2     2048                        0.168  ...          0         0       0   \n",
       "3     2991                        0.143  ...          0         0       0   \n",
       "4     2048                        0.168  ...          0         0       0   \n",
       "\n",
       "   Infiltration  Mass  No Finding  Nodule  Pleural_Thickening  Pneumonia  \\\n",
       "0             0     0           0       0                   0          1   \n",
       "1             0     1           0       1                   0          1   \n",
       "2             0     0           1       0                   0          0   \n",
       "3             0     0           1       0                   0          0   \n",
       "4             0     0           1       0                   0          0   \n",
       "\n",
       "   Pneumothorax  \n",
       "0             0  \n",
       "1             0  \n",
       "2             0  \n",
       "3             0  \n",
       "4             0  \n",
       "\n",
       "[5 rows x 27 columns]"
      ]
     },
     "execution_count": 14,
     "metadata": {},
     "output_type": "execute_result"
    }
   ],
   "source": [
    "df = pd.concat([neumo, normal]).reset_index(drop = True)\n",
    "df = df.sample(frac=1).reset_index(drop = True)\n",
    "df.head()"
   ]
  },
  {
   "cell_type": "markdown",
   "id": "2c69e241-8bcb-460a-88f3-f6ea180576e0",
   "metadata": {},
   "source": [
    "## Imagenes"
   ]
  },
  {
   "cell_type": "code",
   "execution_count": 15,
   "id": "fae98a8f-1991-448f-9d0c-6dc3b59c758d",
   "metadata": {},
   "outputs": [],
   "source": [
    "pixels = 256"
   ]
  },
  {
   "cell_type": "code",
   "execution_count": 16,
   "id": "04961f7d-9885-4e4d-9ce9-d3ef37e932bb",
   "metadata": {},
   "outputs": [],
   "source": [
    "def charge_specific_img(img_name, pix):\n",
    "    subfolders = [f.path for f in os.scandir(path) if f.is_dir()]\n",
    "    for folder in subfolders:\n",
    "        try: \n",
    "            img = cv2.imread(os.path.join(folder, 'images', img_name))\n",
    "            # img = cv2.cvtColor(img, cv2.COLOR_BGR2GRAY)\n",
    "            # img = clahe(img)\n",
    "            img = downsample(img, pix)\n",
    "            return img\n",
    "        except:\n",
    "            print('', end = '')\n",
    "    img = np.zeros((pix,pix,1))\n",
    "    return img"
   ]
  },
  {
   "cell_type": "code",
   "execution_count": 17,
   "id": "8e80f9a7-508c-4a9d-97c5-689e981b17e5",
   "metadata": {},
   "outputs": [],
   "source": [
    "def clahe(img):\n",
    "    clahe = cv2.createCLAHE(clipLimit = 20)\n",
    "    final_img = clahe.apply(img)\n",
    "    return final_img"
   ]
  },
  {
   "cell_type": "code",
   "execution_count": 18,
   "id": "518519ed-d40a-4742-b1ac-8424d23a463e",
   "metadata": {},
   "outputs": [],
   "source": [
    "def downsample(img, pix):\n",
    "    img = Image.fromarray(img)\n",
    "    img = img.resize((pix,pix))\n",
    "    img = np.array(img)\n",
    "    img = img/255\n",
    "    # r = np.expand_dims(img, axis=-1)\n",
    "    return r"
   ]
  },
  {
   "cell_type": "markdown",
   "id": "556a3e68-d85c-4548-9458-c459ce1a9b53",
   "metadata": {},
   "source": [
    "Leo un numero concreto de imagenes con y sin neumonia"
   ]
  },
  {
   "cell_type": "code",
   "execution_count": 19,
   "id": "d88c743c-acee-43f2-bab6-b7c41ca31c41",
   "metadata": {},
   "outputs": [],
   "source": [
    "images = np.zeros((len(df), pixels, pixels, 3))\n",
    "for i in range(len(df)):\n",
    "    images[i,...] = charge_specific_img(df['Image Index'][i], pixels)"
   ]
  },
  {
   "cell_type": "code",
   "execution_count": 20,
   "id": "0f4f691c-f51e-4b72-a640-0367703bef89",
   "metadata": {},
   "outputs": [],
   "source": [
    "Y = np.array(df['Pneumonia'])\n",
    "X = images"
   ]
  },
  {
   "cell_type": "code",
   "execution_count": 21,
   "id": "9f1da6f2-8e88-4ffb-b8e0-7bcbf9a236e4",
   "metadata": {},
   "outputs": [],
   "source": [
    "X_train, X_test, Y_train, Y_test = model_selection.train_test_split(X, Y, test_size=0.3, shuffle=True, stratify=Y )"
   ]
  },
  {
   "cell_type": "markdown",
   "id": "f09c5369",
   "metadata": {},
   "source": [
    "# Model"
   ]
  },
  {
   "cell_type": "code",
   "execution_count": 22,
   "id": "95204bd5-b7d4-4317-aaff-98836a5c93b2",
   "metadata": {},
   "outputs": [],
   "source": [
    "pixels = 256"
   ]
  },
  {
   "cell_type": "code",
   "execution_count": 23,
   "id": "9c9f25eb-a172-46e7-a8dd-82b9fbffe2c4",
   "metadata": {},
   "outputs": [],
   "source": [
    "input_shape = (pixels,pixels,3)\n",
    "conv_base = EfficientNetB0(weights=None, include_top=False, input_shape=input_shape)"
   ]
  },
  {
   "cell_type": "code",
   "execution_count": 24,
   "id": "84860458-61b4-4fc9-9c02-f9df615e4560",
   "metadata": {},
   "outputs": [],
   "source": [
    "conv_base.trainable = False"
   ]
  },
  {
   "cell_type": "code",
   "execution_count": 25,
   "id": "1311eb54-091f-4e73-a711-1e8257cdbae3",
   "metadata": {},
   "outputs": [],
   "source": [
    "inputs = tf.keras.Input(shape=input_shape)\n",
    "x = conv_base(inputs, training=False)\n",
    "x = tf.keras.layers.GlobalAveragePooling2D()(x)\n",
    "x = tf.keras.layers.Dropout(0.2)(x)\n",
    "outputs = tf.keras.layers.Dense(1)(x)\n",
    "model = tf.keras.Model(inputs, outputs)"
   ]
  },
  {
   "cell_type": "code",
   "execution_count": 26,
   "id": "6ab1957f-a939-45e4-929a-c03cf818398b",
   "metadata": {},
   "outputs": [
    {
     "name": "stdout",
     "output_type": "stream",
     "text": [
      "Model: \"model\"\n",
      "_________________________________________________________________\n",
      "Layer (type)                 Output Shape              Param #   \n",
      "=================================================================\n",
      "input_2 (InputLayer)         [(None, 256, 256, 3)]     0         \n",
      "_________________________________________________________________\n",
      "efficientnetb0 (Functional)  (None, 8, 8, 1280)        4049571   \n",
      "_________________________________________________________________\n",
      "global_average_pooling2d (Gl (None, 1280)              0         \n",
      "_________________________________________________________________\n",
      "dropout (Dropout)            (None, 1280)              0         \n",
      "_________________________________________________________________\n",
      "dense (Dense)                (None, 1)                 1281      \n",
      "=================================================================\n",
      "Total params: 4,050,852\n",
      "Trainable params: 1,281\n",
      "Non-trainable params: 4,049,571\n",
      "_________________________________________________________________\n"
     ]
    }
   ],
   "source": [
    "model.summary()"
   ]
  },
  {
   "cell_type": "code",
   "execution_count": 27,
   "id": "c6f8d1ee-2b2c-41c1-9c11-951df8322336",
   "metadata": {},
   "outputs": [],
   "source": [
    "# model = models.Sequential()\n",
    "# model.add(layers.Conv2D(3,3,padding=\"same\", input_shape=(pixels,pixels,1), activation='elu', name = 'conv_inicial'))\n",
    "# model.add(conv_base)\n",
    "# model.add(layers.GlobalMaxPooling2D(name=\"general_max_pooling\"))\n",
    "# model.add(layers.Dropout(0.2, name=\"dropout_out\"))\n",
    "# model.add(layers.Dense(1, activation=\"sigmoid\", name=\"fc_out\"))"
   ]
  },
  {
   "cell_type": "code",
   "execution_count": 28,
   "id": "732541f5-78c7-4ee2-98cc-dc21a982c2ca",
   "metadata": {},
   "outputs": [],
   "source": [
    "# lr = 0.5\n",
    "# opt = tf.keras.optimizers.Adam()\n",
    "# loss = loss = 'binary_crossentropy'\n",
    "# met = ['BinaryAccuracy', 'Precision', 'AUC']"
   ]
  },
  {
   "cell_type": "code",
   "execution_count": 33,
   "id": "a8e519dc-711d-4b00-9312-a03159689244",
   "metadata": {},
   "outputs": [],
   "source": [
    "base_learning_rate = 0.0001\n",
    "model.compile(optimizer=tf.keras.optimizers.Adam(learning_rate=base_learning_rate),\n",
    "              loss=tf.keras.losses.BinaryCrossentropy(from_logits=True),\n",
    "              metrics=['accuracy'])"
   ]
  },
  {
   "cell_type": "code",
   "execution_count": 34,
   "id": "6470a930-99d4-442f-abe7-2afadf0e3875",
   "metadata": {},
   "outputs": [
    {
     "name": "stdout",
     "output_type": "stream",
     "text": [
      "5\n",
      "2\n"
     ]
    }
   ],
   "source": [
    "print(len(model.layers))\n",
    "print(len(model.trainable_variables))"
   ]
  },
  {
   "cell_type": "code",
   "execution_count": 35,
   "id": "432a861a-3322-42d9-9288-9f089cc45709",
   "metadata": {},
   "outputs": [],
   "source": [
    "# model.compile(optimizer=opt, loss = loss , metrics = met)"
   ]
  },
  {
   "cell_type": "code",
   "execution_count": 36,
   "id": "847d0d86-e109-4818-a8d4-860e19c01e5b",
   "metadata": {},
   "outputs": [
    {
     "name": "stdout",
     "output_type": "stream",
     "text": [
      "Epoch 1/10\n",
      "7/7 [==============================] - 30s 4s/step - loss: 0.6932 - accuracy: 0.4723 - val_loss: 0.6934 - val_accuracy: 0.3571\n",
      "Epoch 2/10\n",
      "7/7 [==============================] - 0s 73ms/step - loss: 0.6932 - accuracy: 0.4752 - val_loss: 0.6934 - val_accuracy: 0.3571\n",
      "Epoch 3/10\n",
      "7/7 [==============================] - 0s 39ms/step - loss: 0.6930 - accuracy: 0.5601 - val_loss: 0.6935 - val_accuracy: 0.3571\n",
      "Epoch 4/10\n",
      "7/7 [==============================] - 1s 115ms/step - loss: 0.6930 - accuracy: 0.5453 - val_loss: 0.6935 - val_accuracy: 0.3571\n",
      "Epoch 5/10\n",
      "7/7 [==============================] - 1s 137ms/step - loss: 0.6930 - accuracy: 0.5502 - val_loss: 0.6935 - val_accuracy: 0.3571\n",
      "Epoch 6/10\n",
      "7/7 [==============================] - 1s 140ms/step - loss: 0.6931 - accuracy: 0.5239 - val_loss: 0.6936 - val_accuracy: 0.3571\n",
      "Epoch 7/10\n",
      "7/7 [==============================] - 1s 135ms/step - loss: 0.6931 - accuracy: 0.5315 - val_loss: 0.6936 - val_accuracy: 0.3571\n",
      "Epoch 8/10\n",
      "7/7 [==============================] - 1s 174ms/step - loss: 0.6928 - accuracy: 0.6028 - val_loss: 0.6936 - val_accuracy: 0.3571\n",
      "Epoch 9/10\n",
      "7/7 [==============================] - 0s 39ms/step - loss: 0.6930 - accuracy: 0.5563 - val_loss: 0.6936 - val_accuracy: 0.3571\n",
      "Epoch 10/10\n",
      "7/7 [==============================] - 1s 104ms/step - loss: 0.6931 - accuracy: 0.4994 - val_loss: 0.6937 - val_accuracy: 0.3571\n"
     ]
    }
   ],
   "source": [
    "history = model.fit(X_train,Y_train,\n",
    "                    batch_size = 16,\n",
    "                    epochs = 10,\n",
    "                    shuffle = True,\n",
    "                    validation_split = 0.2)"
   ]
  },
  {
   "cell_type": "code",
   "execution_count": 39,
   "id": "05d332d0-ba4f-49a3-b049-5ead2f38e787",
   "metadata": {},
   "outputs": [
    {
     "name": "stdout",
     "output_type": "stream",
     "text": [
      "Number of layers in the base model:  237\n"
     ]
    }
   ],
   "source": [
    "conv_base.trainable = True\n",
    "\n",
    "# Let's take a look to see how many layers are in the base model\n",
    "print(\"Number of layers in the base model: \", len(conv_base.layers))\n",
    "\n",
    "# Fine-tune from this layer onwards\n",
    "fine_tune_at = 100\n",
    "\n",
    "# Freeze all the layers before the `fine_tune_at` layer\n",
    "for layer in conv_base.layers[:fine_tune_at]:\n",
    "    layer.trainable = False"
   ]
  },
  {
   "cell_type": "code",
   "execution_count": 40,
   "id": "7060c9d9-9b28-4060-bb58-35a9b3b6b8e9",
   "metadata": {},
   "outputs": [],
   "source": [
    "model.compile(loss=tf.keras.losses.BinaryCrossentropy(from_logits=True),\n",
    "              optimizer = tf.keras.optimizers.RMSprop(learning_rate=base_learning_rate/10),\n",
    "              metrics=['accuracy'])"
   ]
  },
  {
   "cell_type": "code",
   "execution_count": 43,
   "id": "c9f3eb21-52ea-4094-a4af-368622b4ce43",
   "metadata": {},
   "outputs": [
    {
     "name": "stdout",
     "output_type": "stream",
     "text": [
      "Epoch 10/20\n",
      "4/4 [==============================] - 52s 8s/step - loss: 0.6930 - accuracy: 0.5341 - val_loss: 0.6942 - val_accuracy: 0.3571\n",
      "Epoch 11/20\n",
      "4/4 [==============================] - 1s 135ms/step - loss: 0.6929 - accuracy: 0.5393 - val_loss: 0.6944 - val_accuracy: 0.3571\n",
      "Epoch 12/20\n",
      "4/4 [==============================] - 1s 246ms/step - loss: 0.6927 - accuracy: 0.5476 - val_loss: 0.6945 - val_accuracy: 0.3571\n",
      "Epoch 13/20\n",
      "4/4 [==============================] - 1s 290ms/step - loss: 0.6929 - accuracy: 0.5310 - val_loss: 0.6946 - val_accuracy: 0.3571\n",
      "Epoch 14/20\n",
      "4/4 [==============================] - 1s 269ms/step - loss: 0.6933 - accuracy: 0.4914 - val_loss: 0.6949 - val_accuracy: 0.3571\n",
      "Epoch 15/20\n",
      "4/4 [==============================] - 1s 269ms/step - loss: 0.6930 - accuracy: 0.5091 - val_loss: 0.6951 - val_accuracy: 0.3571\n",
      "Epoch 16/20\n",
      "4/4 [==============================] - 1s 260ms/step - loss: 0.6930 - accuracy: 0.5101 - val_loss: 0.6953 - val_accuracy: 0.3571\n",
      "Epoch 17/20\n",
      "4/4 [==============================] - 1s 278ms/step - loss: 0.6925 - accuracy: 0.5424 - val_loss: 0.6955 - val_accuracy: 0.3571\n",
      "Epoch 18/20\n",
      "4/4 [==============================] - 1s 264ms/step - loss: 0.6929 - accuracy: 0.5153 - val_loss: 0.6958 - val_accuracy: 0.3571\n",
      "Epoch 19/20\n",
      "4/4 [==============================] - 1s 287ms/step - loss: 0.6920 - accuracy: 0.5632 - val_loss: 0.6959 - val_accuracy: 0.3571\n",
      "Epoch 20/20\n",
      "4/4 [==============================] - 1s 262ms/step - loss: 0.6927 - accuracy: 0.5247 - val_loss: 0.6962 - val_accuracy: 0.3571\n"
     ]
    }
   ],
   "source": [
    "fine_tune_epochs = 10\n",
    "total_epochs =  10 + fine_tune_epochs\n",
    "\n",
    "history_fine = model.fit(X_train,Y_train,\n",
    "                         epochs=total_epochs,\n",
    "                         initial_epoch=history.epoch[-1],\n",
    "                         validation_split = 0.2)"
   ]
  },
  {
   "cell_type": "code",
   "execution_count": null,
   "id": "40c41863-3e95-4d4b-a0fd-cad5cd4d8ba9",
   "metadata": {},
   "outputs": [],
   "source": []
  }
 ],
 "metadata": {
  "kernelspec": {
   "display_name": "Python 3",
   "language": "python",
   "name": "python3"
  },
  "language_info": {
   "codemirror_mode": {
    "name": "ipython",
    "version": 3
   },
   "file_extension": ".py",
   "mimetype": "text/x-python",
   "name": "python",
   "nbconvert_exporter": "python",
   "pygments_lexer": "ipython3",
   "version": "3.6.8"
  }
 },
 "nbformat": 4,
 "nbformat_minor": 5
}
