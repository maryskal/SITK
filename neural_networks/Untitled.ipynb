{
 "cells": [
  {
   "cell_type": "code",
   "execution_count": 50,
   "id": "1982ca4b-659b-4c60-a246-a74ee5950398",
   "metadata": {},
   "outputs": [],
   "source": [
    "import os\n",
    "import cv2\n",
    "import numpy as np"
   ]
  },
  {
   "cell_type": "code",
   "execution_count": 51,
   "id": "2a8cc988-7304-4400-b55b-46756235c5ed",
   "metadata": {},
   "outputs": [],
   "source": [
    "path = '/home/mr1142/Documents/Data/patologic'"
   ]
  },
  {
   "cell_type": "code",
   "execution_count": 52,
   "id": "68428432-1aed-4bab-bbec-ef83d64017ed",
   "metadata": {},
   "outputs": [],
   "source": [
    "masks_name = [f for f in os.listdir(os.path.join(path, 'mascara')) \n",
    "              if os.path.isfile(os.path.join(os.path.join(path, 'mascara'), f))]"
   ]
  },
  {
   "cell_type": "code",
   "execution_count": 54,
   "id": "95bef3dc-d1f3-44a9-9257-85759e78a6b1",
   "metadata": {},
   "outputs": [
    {
     "data": {
      "text/plain": [
       "200"
      ]
     },
     "execution_count": 54,
     "metadata": {},
     "output_type": "execute_result"
    }
   ],
   "source": [
    "len(masks_name)"
   ]
  },
  {
   "cell_type": "code",
   "execution_count": 55,
   "id": "d279fb20-6292-4875-b867-d74d8d4a889a",
   "metadata": {},
   "outputs": [],
   "source": [
    "masks = []\n",
    "images = []\n",
    "for i in range(len(masks_name)):\n",
    "    masks.append(cv2.imread(os.path.join(path, 'mascara', masks_name[i])))\n",
    "    images.append(cv2.imread(os.path.join(path, 'images', masks_name[i])))"
   ]
  },
  {
   "cell_type": "code",
   "execution_count": 56,
   "id": "44a79c8b-77ab-44c4-8fd5-83eddd7c3ac9",
   "metadata": {},
   "outputs": [
    {
     "data": {
      "text/plain": [
       "200"
      ]
     },
     "execution_count": 56,
     "metadata": {},
     "output_type": "execute_result"
    }
   ],
   "source": [
    "len(masks)"
   ]
  },
  {
   "cell_type": "code",
   "execution_count": 57,
   "id": "640f4764-3281-411b-a37b-c10c7fdaa75c",
   "metadata": {},
   "outputs": [],
   "source": [
    "p_save = '/home/mr1142/Documents/Data/segmentation'"
   ]
  },
  {
   "cell_type": "code",
   "execution_count": 58,
   "id": "45e48ea2-1e82-4998-9780-dad1f88e69ae",
   "metadata": {},
   "outputs": [],
   "source": [
    "for i, name in enumerate(masks_name):\n",
    "    cv2.imwrite(os.path.join(p_save,'images', name), images[i])\n",
    "    cv2.imwrite(os.path.join(p_save,'mascara', name), masks[i])"
   ]
  },
  {
   "cell_type": "code",
   "execution_count": 60,
   "id": "083b77e7-65f7-4066-ada4-13df228bcd6e",
   "metadata": {},
   "outputs": [
    {
     "data": {
      "text/plain": [
       "700"
      ]
     },
     "execution_count": 60,
     "metadata": {},
     "output_type": "execute_result"
    }
   ],
   "source": [
    "len([f for f in os.listdir(os.path.join(p_save, 'mascara')) \n",
    "              if os.path.isfile(os.path.join(os.path.join(p_save, 'mascara'), f))])"
   ]
  },
  {
   "cell_type": "code",
   "execution_count": 61,
   "id": "dd297017-0861-4e5b-bc2e-6c358346b7ec",
   "metadata": {},
   "outputs": [],
   "source": [
    "for i, name in enumerate(masks_name):\n",
    "    cv2.imwrite(os.path.join(p_save,'splited/train/images', name), images[i])\n",
    "    cv2.imwrite(os.path.join(p_save,'splited/train/mascara', name), masks[i])"
   ]
  },
  {
   "cell_type": "code",
   "execution_count": 62,
   "id": "f71edb84-c29b-4332-85fe-240a191e12e8",
   "metadata": {},
   "outputs": [
    {
     "data": {
      "text/plain": [
       "600"
      ]
     },
     "execution_count": 62,
     "metadata": {},
     "output_type": "execute_result"
    }
   ],
   "source": [
    "len(os.listdir(os.path.join(p_save, 'splited/train/mascara')))"
   ]
  }
 ],
 "metadata": {
  "kernelspec": {
   "display_name": "Python 3",
   "language": "python",
   "name": "python3"
  },
  "language_info": {
   "codemirror_mode": {
    "name": "ipython",
    "version": 3
   },
   "file_extension": ".py",
   "mimetype": "text/x-python",
   "name": "python",
   "nbconvert_exporter": "python",
   "pygments_lexer": "ipython3",
   "version": "3.6.8"
  }
 },
 "nbformat": 4,
 "nbformat_minor": 5
}
