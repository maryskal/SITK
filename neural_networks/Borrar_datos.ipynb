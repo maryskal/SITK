{
 "cells": [
  {
   "cell_type": "code",
   "execution_count": 10,
   "id": "d1f5e302-0a48-4851-a561-1702e9564f9d",
   "metadata": {},
   "outputs": [],
   "source": [
    "import re\n",
    "import os\n",
    "import shutil\n",
    "import pandas as pd"
   ]
  },
  {
   "cell_type": "markdown",
   "id": "3dfbbd54-23e0-493e-9388-39de084eb482",
   "metadata": {},
   "source": [
    "# Borrar train folder"
   ]
  },
  {
   "cell_type": "code",
   "execution_count": 5,
   "id": "1367b9fe-3503-41f2-81d9-97262218beea",
   "metadata": {},
   "outputs": [],
   "source": [
    "path = '/home/mr1142/Documents/Data/logs/fit'"
   ]
  },
  {
   "cell_type": "code",
   "execution_count": 6,
   "id": "7c4db96a-17ec-434f-b427-350080296d59",
   "metadata": {},
   "outputs": [],
   "source": [
    "for di in os.listdir(path):\n",
    "    shutil.rmtree(os.path.join(path, di, 'train'), ignore_errors=True)"
   ]
  },
  {
   "cell_type": "markdown",
   "id": "fdc06e8e-d57a-4db9-82ed-fcefefe645f0",
   "metadata": {},
   "source": [
    "# Borrar modelos malos"
   ]
  },
  {
   "cell_type": "code",
   "execution_count": 175,
   "id": "221bb686-69e1-429f-84a4-bcdba63cdbe4",
   "metadata": {},
   "outputs": [],
   "source": [
    "path = '/home/mr1142/Documents/Data/models/validation_results/validation_results' + '' + '.csv'\n",
    "df = pd.read_csv(path)"
   ]
  },
  {
   "cell_type": "code",
   "execution_count": 176,
   "id": "236702c4-dec4-437b-955d-c0beb7f8f23b",
   "metadata": {},
   "outputs": [
    {
     "data": {
      "text/html": [
       "<div>\n",
       "<style scoped>\n",
       "    .dataframe tbody tr th:only-of-type {\n",
       "        vertical-align: middle;\n",
       "    }\n",
       "\n",
       "    .dataframe tbody tr th {\n",
       "        vertical-align: top;\n",
       "    }\n",
       "\n",
       "    .dataframe thead th {\n",
       "        text-align: right;\n",
       "    }\n",
       "</style>\n",
       "<table border=\"1\" class=\"dataframe\">\n",
       "  <thead>\n",
       "    <tr style=\"text-align: right;\">\n",
       "      <th></th>\n",
       "      <th>type</th>\n",
       "      <th>name</th>\n",
       "      <th>loss</th>\n",
       "      <th>dice_coef_loss</th>\n",
       "      <th>loss_mask</th>\n",
       "      <th>accuracy</th>\n",
       "      <th>AUC</th>\n",
       "      <th>false_positives</th>\n",
       "      <th>false_negatives</th>\n",
       "    </tr>\n",
       "  </thead>\n",
       "  <tbody>\n",
       "    <tr>\n",
       "      <th>10</th>\n",
       "      <td>unet</td>\n",
       "      <td>renacimiento_validation_1</td>\n",
       "      <td>0.032621</td>\n",
       "      <td>0.032179</td>\n",
       "      <td>0.092485</td>\n",
       "      <td>0.973949</td>\n",
       "      <td>0.974434</td>\n",
       "      <td>88665.0</td>\n",
       "      <td>80353.0</td>\n",
       "    </tr>\n",
       "    <tr>\n",
       "      <th>2</th>\n",
       "      <td>unet</td>\n",
       "      <td>_albumentation_validation_2.h5</td>\n",
       "      <td>0.034487</td>\n",
       "      <td>0.034487</td>\n",
       "      <td>0.095812</td>\n",
       "      <td>0.973940</td>\n",
       "      <td>0.974166</td>\n",
       "      <td>7962.0</td>\n",
       "      <td>5701.0</td>\n",
       "    </tr>\n",
       "    <tr>\n",
       "      <th>7</th>\n",
       "      <td>uloss</td>\n",
       "      <td>albumentation_rotate_3_validation_2</td>\n",
       "      <td>0.129951</td>\n",
       "      <td>0.034909</td>\n",
       "      <td>0.094568</td>\n",
       "      <td>0.971946</td>\n",
       "      <td>0.973499</td>\n",
       "      <td>87304.0</td>\n",
       "      <td>94711.0</td>\n",
       "    </tr>\n",
       "    <tr>\n",
       "      <th>6</th>\n",
       "      <td>uloss</td>\n",
       "      <td>albumentation_rotate_3_validation_1</td>\n",
       "      <td>0.128454</td>\n",
       "      <td>0.035279</td>\n",
       "      <td>0.092766</td>\n",
       "      <td>0.971818</td>\n",
       "      <td>0.972174</td>\n",
       "      <td>78499.0</td>\n",
       "      <td>104346.0</td>\n",
       "    </tr>\n",
       "    <tr>\n",
       "      <th>5</th>\n",
       "      <td>unet</td>\n",
       "      <td>albumentation_rotate_3_validation_2</td>\n",
       "      <td>0.035893</td>\n",
       "      <td>0.035434</td>\n",
       "      <td>0.097252</td>\n",
       "      <td>0.971598</td>\n",
       "      <td>0.971085</td>\n",
       "      <td>81626.0</td>\n",
       "      <td>102645.0</td>\n",
       "    </tr>\n",
       "    <tr>\n",
       "      <th>3</th>\n",
       "      <td>uloss</td>\n",
       "      <td>_albumentation_validation_2.h5</td>\n",
       "      <td>0.149065</td>\n",
       "      <td>0.036346</td>\n",
       "      <td>0.112719</td>\n",
       "      <td>0.972670</td>\n",
       "      <td>0.973263</td>\n",
       "      <td>6937.0</td>\n",
       "      <td>7392.0</td>\n",
       "    </tr>\n",
       "    <tr>\n",
       "      <th>4</th>\n",
       "      <td>unet</td>\n",
       "      <td>albumentation_rotate_3_validation_1</td>\n",
       "      <td>0.037508</td>\n",
       "      <td>0.036994</td>\n",
       "      <td>0.104480</td>\n",
       "      <td>0.970098</td>\n",
       "      <td>0.969842</td>\n",
       "      <td>87088.0</td>\n",
       "      <td>106918.0</td>\n",
       "    </tr>\n",
       "    <tr>\n",
       "      <th>0</th>\n",
       "      <td>unet</td>\n",
       "      <td>_albumentation_validation_1.h5</td>\n",
       "      <td>0.037296</td>\n",
       "      <td>0.037296</td>\n",
       "      <td>0.117240</td>\n",
       "      <td>0.971939</td>\n",
       "      <td>0.970628</td>\n",
       "      <td>7386.0</td>\n",
       "      <td>7326.0</td>\n",
       "    </tr>\n",
       "    <tr>\n",
       "      <th>9</th>\n",
       "      <td>uloss</td>\n",
       "      <td>validation_rotate_normalization_1</td>\n",
       "      <td>0.134512</td>\n",
       "      <td>0.037305</td>\n",
       "      <td>0.097394</td>\n",
       "      <td>0.970390</td>\n",
       "      <td>0.971013</td>\n",
       "      <td>91815.0</td>\n",
       "      <td>100297.0</td>\n",
       "    </tr>\n",
       "    <tr>\n",
       "      <th>8</th>\n",
       "      <td>unet</td>\n",
       "      <td>validation_rotate_normalization_1</td>\n",
       "      <td>0.038100</td>\n",
       "      <td>0.037542</td>\n",
       "      <td>0.103917</td>\n",
       "      <td>0.969410</td>\n",
       "      <td>0.968877</td>\n",
       "      <td>90885.0</td>\n",
       "      <td>107587.0</td>\n",
       "    </tr>\n",
       "    <tr>\n",
       "      <th>1</th>\n",
       "      <td>uloss</td>\n",
       "      <td>_albumentation_validation_1.h5</td>\n",
       "      <td>0.141863</td>\n",
       "      <td>0.038948</td>\n",
       "      <td>0.102915</td>\n",
       "      <td>0.970747</td>\n",
       "      <td>0.970617</td>\n",
       "      <td>7504.0</td>\n",
       "      <td>7833.0</td>\n",
       "    </tr>\n",
       "    <tr>\n",
       "      <th>11</th>\n",
       "      <td>unet</td>\n",
       "      <td>nuevos_validation_mejora_3</td>\n",
       "      <td>0.040236</td>\n",
       "      <td>0.039544</td>\n",
       "      <td>0.106641</td>\n",
       "      <td>0.967752</td>\n",
       "      <td>0.968213</td>\n",
       "      <td>111092.0</td>\n",
       "      <td>98133.0</td>\n",
       "    </tr>\n",
       "    <tr>\n",
       "      <th>12</th>\n",
       "      <td>uloss</td>\n",
       "      <td>retry_validation_rotate_1</td>\n",
       "      <td>0.739505</td>\n",
       "      <td>0.266710</td>\n",
       "      <td>0.470180</td>\n",
       "      <td>0.790600</td>\n",
       "      <td>0.777661</td>\n",
       "      <td>610659.0</td>\n",
       "      <td>747940.0</td>\n",
       "    </tr>\n",
       "    <tr>\n",
       "      <th>13</th>\n",
       "      <td>uloss</td>\n",
       "      <td>retry_validation_gamma_1</td>\n",
       "      <td>0.872688</td>\n",
       "      <td>0.369991</td>\n",
       "      <td>0.502911</td>\n",
       "      <td>0.754727</td>\n",
       "      <td>0.716058</td>\n",
       "      <td>356972.0</td>\n",
       "      <td>1234373.0</td>\n",
       "    </tr>\n",
       "  </tbody>\n",
       "</table>\n",
       "</div>"
      ],
      "text/plain": [
       "     type                                 name      loss  dice_coef_loss  \\\n",
       "10   unet            renacimiento_validation_1  0.032621        0.032179   \n",
       "2    unet       _albumentation_validation_2.h5  0.034487        0.034487   \n",
       "7   uloss  albumentation_rotate_3_validation_2  0.129951        0.034909   \n",
       "6   uloss  albumentation_rotate_3_validation_1  0.128454        0.035279   \n",
       "5    unet  albumentation_rotate_3_validation_2  0.035893        0.035434   \n",
       "3   uloss       _albumentation_validation_2.h5  0.149065        0.036346   \n",
       "4    unet  albumentation_rotate_3_validation_1  0.037508        0.036994   \n",
       "0    unet       _albumentation_validation_1.h5  0.037296        0.037296   \n",
       "9   uloss    validation_rotate_normalization_1  0.134512        0.037305   \n",
       "8    unet    validation_rotate_normalization_1  0.038100        0.037542   \n",
       "1   uloss       _albumentation_validation_1.h5  0.141863        0.038948   \n",
       "11   unet           nuevos_validation_mejora_3  0.040236        0.039544   \n",
       "12  uloss            retry_validation_rotate_1  0.739505        0.266710   \n",
       "13  uloss             retry_validation_gamma_1  0.872688        0.369991   \n",
       "\n",
       "    loss_mask  accuracy       AUC  false_positives  false_negatives  \n",
       "10   0.092485  0.973949  0.974434          88665.0          80353.0  \n",
       "2    0.095812  0.973940  0.974166           7962.0           5701.0  \n",
       "7    0.094568  0.971946  0.973499          87304.0          94711.0  \n",
       "6    0.092766  0.971818  0.972174          78499.0         104346.0  \n",
       "5    0.097252  0.971598  0.971085          81626.0         102645.0  \n",
       "3    0.112719  0.972670  0.973263           6937.0           7392.0  \n",
       "4    0.104480  0.970098  0.969842          87088.0         106918.0  \n",
       "0    0.117240  0.971939  0.970628           7386.0           7326.0  \n",
       "9    0.097394  0.970390  0.971013          91815.0         100297.0  \n",
       "8    0.103917  0.969410  0.968877          90885.0         107587.0  \n",
       "1    0.102915  0.970747  0.970617           7504.0           7833.0  \n",
       "11   0.106641  0.967752  0.968213         111092.0          98133.0  \n",
       "12   0.470180  0.790600  0.777661         610659.0         747940.0  \n",
       "13   0.502911  0.754727  0.716058         356972.0        1234373.0  "
      ]
     },
     "execution_count": 176,
     "metadata": {},
     "output_type": "execute_result"
    }
   ],
   "source": [
    "df.sort_values('dice_coef_loss')"
   ]
  },
  {
   "cell_type": "code",
   "execution_count": 155,
   "id": "5eaade89-d593-4805-8088-26234dbf505c",
   "metadata": {},
   "outputs": [],
   "source": [
    "malos_ = df[['type', 'name']][df.dice_coef_loss>0.04]"
   ]
  },
  {
   "cell_type": "code",
   "execution_count": 159,
   "id": "5e3f3f8d-4b64-4400-992f-ab10503f532f",
   "metadata": {},
   "outputs": [],
   "source": [
    "malos = [df['type'][i] + '_' + df['name'][i] for i in range(len(malos_))]\n",
    "malos = [re.sub('__', '_', mal) for mal in malos]\n",
    "malos = [re.sub('.h5', '', mal) for mal in malos]"
   ]
  },
  {
   "cell_type": "code",
   "execution_count": 161,
   "id": "4ae407ed-cb25-4f73-8254-583146656a47",
   "metadata": {},
   "outputs": [
    {
     "data": {
      "text/plain": [
       "['unet_albumentation_validation_1',\n",
       " 'uloss_albumentation_validation_1',\n",
       " 'unet_albumentation_validation_2',\n",
       " 'unet_albumentation_validation_3',\n",
       " 'uloss_albumentation_validation_2',\n",
       " 'uloss_albumentation_validation_3',\n",
       " 'unet_albumentation_validation_clahe_1',\n",
       " 'uloss_albumentation_2_validation_1',\n",
       " 'unet_albumentation_validation_clahe_2',\n",
       " 'uloss_albumentation_validation_clahe_1',\n",
       " 'uloss_albumentation_2_validation_2',\n",
       " 'uloss_albumentation_2_validation_3',\n",
       " 'uloss_albumentation_validation_clahe_2']"
      ]
     },
     "execution_count": 161,
     "metadata": {},
     "output_type": "execute_result"
    }
   ],
   "source": [
    "malos"
   ]
  },
  {
   "cell_type": "code",
   "execution_count": 112,
   "id": "df687284-5602-4349-9e66-143f578feab2",
   "metadata": {},
   "outputs": [],
   "source": [
    "def match(lista_resultados, lista_match):\n",
    "    return [f for f in files if any([bool(re.search(mal, f)) for mal in malos])]"
   ]
  },
  {
   "cell_type": "code",
   "execution_count": 113,
   "id": "4b05e56c-fb89-489a-8e0b-ed6f2f11a0d6",
   "metadata": {},
   "outputs": [],
   "source": [
    "def eliminar(path, malos):\n",
    "    files = os.listdir(path)\n",
    "    files = match(files, malos)\n",
    "    if len(files) == len(malos):\n",
    "        for file in files:\n",
    "            try:\n",
    "                os.remove(os.path.join(path, file))\n",
    "                print(f'file {file} removed')\n",
    "            except:\n",
    "                shutil.rmtree(os.path.join(path,file), ignore_errors=True)\n",
    "                print(f'folder {file} removed')\n",
    "    else:\n",
    "        print('no tienen el mismo tamaño')"
   ]
  },
  {
   "cell_type": "markdown",
   "id": "7b00c44b-2393-4784-a9f6-033bee38613c",
   "metadata": {},
   "source": [
    "### Logs"
   ]
  },
  {
   "cell_type": "code",
   "execution_count": 114,
   "id": "23ea8126-9e80-436c-9b72-560f9d9125d3",
   "metadata": {},
   "outputs": [],
   "source": [
    "path = '/home/mr1142/Documents/Data/logs/fit'"
   ]
  },
  {
   "cell_type": "code",
   "execution_count": 115,
   "id": "77fa9a06-1a24-4702-a26f-60d6661f858a",
   "metadata": {},
   "outputs": [
    {
     "name": "stdout",
     "output_type": "stream",
     "text": [
      "no tienen el mismo tamaño\n"
     ]
    }
   ],
   "source": [
    "eliminar(path, malos)"
   ]
  },
  {
   "cell_type": "markdown",
   "id": "1e85ee32-7706-4618-aa83-d3e1ec2c6e87",
   "metadata": {},
   "source": [
    "### Modelos"
   ]
  },
  {
   "cell_type": "code",
   "execution_count": 116,
   "id": "f500cde3-f170-44d6-a968-1c7a083df018",
   "metadata": {},
   "outputs": [],
   "source": [
    "path = '/home/mr1142/Documents/Data/models'"
   ]
  },
  {
   "cell_type": "code",
   "execution_count": 117,
   "id": "07424a7e-068b-4583-be6f-826c2a66d874",
   "metadata": {},
   "outputs": [
    {
     "name": "stdout",
     "output_type": "stream",
     "text": [
      "no tienen el mismo tamaño\n"
     ]
    }
   ],
   "source": [
    "eliminar(path, malos)"
   ]
  },
  {
   "cell_type": "markdown",
   "id": "711c4b5b-4958-4c36-9bc5-8dadb1b7cdb7",
   "metadata": {},
   "source": [
    "# Borrar datos"
   ]
  },
  {
   "cell_type": "code",
   "execution_count": 174,
   "id": "45f3bff7-1ed2-449e-8d7c-c9be1ca04a4d",
   "metadata": {},
   "outputs": [],
   "source": [
    "path = '/home/mr1142/Documents/Data/models/validation_results'\n",
    "csvs = os.listdir(path)\n",
    "\n",
    "for csv in csvs:\n",
    "    df = pd.read_csv(os.path.join(path, csv))\n",
    "    index = [i for i in df.index if any([bool(re.search(mal, df['name'][i])) for mal in malos_['name']])]\n",
    "    df = df.drop(index)\n",
    "    df.to_csv(os.path.join(path, csv), index = False)"
   ]
  },
  {
   "cell_type": "code",
   "execution_count": 172,
   "id": "a69500e0-a506-4968-926a-9e9a4c89fe6b",
   "metadata": {},
   "outputs": [
    {
     "data": {
      "text/plain": [
       "False"
      ]
     },
     "execution_count": 172,
     "metadata": {},
     "output_type": "execute_result"
    }
   ],
   "source": []
  },
  {
   "cell_type": "code",
   "execution_count": null,
   "id": "dd09b433-fcfd-43d5-b308-af41d5006b10",
   "metadata": {},
   "outputs": [],
   "source": []
  }
 ],
 "metadata": {
  "kernelspec": {
   "display_name": "Python 3",
   "language": "python",
   "name": "python3"
  },
  "language_info": {
   "codemirror_mode": {
    "name": "ipython",
    "version": 3
   },
   "file_extension": ".py",
   "mimetype": "text/x-python",
   "name": "python",
   "nbconvert_exporter": "python",
   "pygments_lexer": "ipython3",
   "version": "3.6.8"
  }
 },
 "nbformat": 4,
 "nbformat_minor": 5
}
