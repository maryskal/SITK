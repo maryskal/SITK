{
 "cells": [
  {
   "cell_type": "code",
   "execution_count": 2,
   "id": "b8ada5ad",
   "metadata": {},
   "outputs": [],
   "source": [
    "import pandas as pd\n",
    "import numpy as np\n",
    "import os\n",
    "import cv2\n",
    "import re"
   ]
  },
  {
   "cell_type": "code",
   "execution_count": 47,
   "id": "d0a427b4",
   "metadata": {},
   "outputs": [],
   "source": [
    "path = '/home/mr1142/Documents/Data/NIH'\n",
    "df = pd.read_csv(os.path.join(path, 'Data_Entry_2017.csv'))\n",
    "df = df.sample(frac=1).reset_index(drop = True)"
   ]
  },
  {
   "cell_type": "code",
   "execution_count": 48,
   "id": "4c3f44a6",
   "metadata": {},
   "outputs": [],
   "source": [
    "random = np.random.randint(0,len(df),300)\n",
    "df = df.iloc[random].reset_index(drop=True)"
   ]
  },
  {
   "cell_type": "code",
   "execution_count": 7,
   "id": "4f99b619",
   "metadata": {},
   "outputs": [
    {
     "data": {
      "text/html": [
       "<div>\n",
       "<style scoped>\n",
       "    .dataframe tbody tr th:only-of-type {\n",
       "        vertical-align: middle;\n",
       "    }\n",
       "\n",
       "    .dataframe tbody tr th {\n",
       "        vertical-align: top;\n",
       "    }\n",
       "\n",
       "    .dataframe thead th {\n",
       "        text-align: right;\n",
       "    }\n",
       "</style>\n",
       "<table border=\"1\" class=\"dataframe\">\n",
       "  <thead>\n",
       "    <tr style=\"text-align: right;\">\n",
       "      <th></th>\n",
       "      <th>Image Index</th>\n",
       "      <th>Finding Labels</th>\n",
       "      <th>Follow-up #</th>\n",
       "      <th>Patient ID</th>\n",
       "      <th>Patient Age</th>\n",
       "      <th>Patient Gender</th>\n",
       "      <th>View Position</th>\n",
       "      <th>OriginalImage[Width</th>\n",
       "      <th>Height]</th>\n",
       "      <th>OriginalImagePixelSpacing[x</th>\n",
       "      <th>y]</th>\n",
       "      <th>Unnamed: 11</th>\n",
       "    </tr>\n",
       "  </thead>\n",
       "  <tbody>\n",
       "    <tr>\n",
       "      <th>0</th>\n",
       "      <td>00015147_003.png</td>\n",
       "      <td>Atelectasis|Infiltration</td>\n",
       "      <td>3</td>\n",
       "      <td>15147</td>\n",
       "      <td>56</td>\n",
       "      <td>F</td>\n",
       "      <td>PA</td>\n",
       "      <td>2578</td>\n",
       "      <td>2769</td>\n",
       "      <td>0.143</td>\n",
       "      <td>0.143</td>\n",
       "      <td>NaN</td>\n",
       "    </tr>\n",
       "    <tr>\n",
       "      <th>1</th>\n",
       "      <td>00004356_000.png</td>\n",
       "      <td>No Finding</td>\n",
       "      <td>0</td>\n",
       "      <td>4356</td>\n",
       "      <td>41</td>\n",
       "      <td>F</td>\n",
       "      <td>PA</td>\n",
       "      <td>2048</td>\n",
       "      <td>2500</td>\n",
       "      <td>0.171</td>\n",
       "      <td>0.171</td>\n",
       "      <td>NaN</td>\n",
       "    </tr>\n",
       "    <tr>\n",
       "      <th>2</th>\n",
       "      <td>00028063_000.png</td>\n",
       "      <td>No Finding</td>\n",
       "      <td>0</td>\n",
       "      <td>28063</td>\n",
       "      <td>57</td>\n",
       "      <td>F</td>\n",
       "      <td>PA</td>\n",
       "      <td>2982</td>\n",
       "      <td>2265</td>\n",
       "      <td>0.143</td>\n",
       "      <td>0.143</td>\n",
       "      <td>NaN</td>\n",
       "    </tr>\n",
       "    <tr>\n",
       "      <th>3</th>\n",
       "      <td>00012622_014.png</td>\n",
       "      <td>Infiltration</td>\n",
       "      <td>14</td>\n",
       "      <td>12622</td>\n",
       "      <td>32</td>\n",
       "      <td>F</td>\n",
       "      <td>AP</td>\n",
       "      <td>2500</td>\n",
       "      <td>2048</td>\n",
       "      <td>0.168</td>\n",
       "      <td>0.168</td>\n",
       "      <td>NaN</td>\n",
       "    </tr>\n",
       "    <tr>\n",
       "      <th>4</th>\n",
       "      <td>00000003_006.png</td>\n",
       "      <td>Hernia</td>\n",
       "      <td>6</td>\n",
       "      <td>3</td>\n",
       "      <td>79</td>\n",
       "      <td>F</td>\n",
       "      <td>PA</td>\n",
       "      <td>2992</td>\n",
       "      <td>2991</td>\n",
       "      <td>0.143</td>\n",
       "      <td>0.143</td>\n",
       "      <td>NaN</td>\n",
       "    </tr>\n",
       "  </tbody>\n",
       "</table>\n",
       "</div>"
      ],
      "text/plain": [
       "        Image Index            Finding Labels  Follow-up #  Patient ID  \\\n",
       "0  00015147_003.png  Atelectasis|Infiltration            3       15147   \n",
       "1  00004356_000.png                No Finding            0        4356   \n",
       "2  00028063_000.png                No Finding            0       28063   \n",
       "3  00012622_014.png              Infiltration           14       12622   \n",
       "4  00000003_006.png                    Hernia            6           3   \n",
       "\n",
       "   Patient Age Patient Gender View Position  OriginalImage[Width  Height]  \\\n",
       "0           56              F            PA                 2578     2769   \n",
       "1           41              F            PA                 2048     2500   \n",
       "2           57              F            PA                 2982     2265   \n",
       "3           32              F            AP                 2500     2048   \n",
       "4           79              F            PA                 2992     2991   \n",
       "\n",
       "   OriginalImagePixelSpacing[x     y]  Unnamed: 11  \n",
       "0                        0.143  0.143          NaN  \n",
       "1                        0.171  0.171          NaN  \n",
       "2                        0.143  0.143          NaN  \n",
       "3                        0.168  0.168          NaN  \n",
       "4                        0.143  0.143          NaN  "
      ]
     },
     "execution_count": 7,
     "metadata": {},
     "output_type": "execute_result"
    }
   ],
   "source": [
    "df.head()"
   ]
  },
  {
   "cell_type": "code",
   "execution_count": 8,
   "id": "c36fa425",
   "metadata": {},
   "outputs": [],
   "source": [
    "labels = np.unique(df['Finding Labels'])\n",
    "labels = '|'.join(labels)\n",
    "labels = labels.split('|')\n",
    "labels = np.unique(labels).tolist()"
   ]
  },
  {
   "cell_type": "code",
   "execution_count": 9,
   "id": "68227166",
   "metadata": {},
   "outputs": [],
   "source": [
    "def fill_label(information, label):\n",
    "    positive_labels = information.split('|')\n",
    "    if label in positive_labels:\n",
    "        return 1\n",
    "    return 0"
   ]
  },
  {
   "cell_type": "code",
   "execution_count": 10,
   "id": "0a8be557",
   "metadata": {},
   "outputs": [],
   "source": [
    "for lab in labels:\n",
    "    df[lab] = list(map(lambda x: fill_label(x, lab), df['Finding Labels'].tolist()))"
   ]
  },
  {
   "cell_type": "code",
   "execution_count": 10,
   "id": "774d45a8",
   "metadata": {},
   "outputs": [],
   "source": [
    "path = '/home/mr1142/Documents/Data/NIH'"
   ]
  },
  {
   "cell_type": "code",
   "execution_count": 29,
   "id": "9931b152",
   "metadata": {},
   "outputs": [],
   "source": [
    "def charge_specific_img(img_name):\n",
    "    subfolders = [f.path for f in os.scandir(path) if f.is_dir()]\n",
    "    for folder in subfolders:\n",
    "        img_path = os.path.join(folder, 'images', img_name)\n",
    "        if os.path.isfile(img_path):\n",
    "            img = cv2.imread(img_path)\n",
    "            return img\n",
    "    img = []\n",
    "    return img"
   ]
  },
  {
   "cell_type": "code",
   "execution_count": 30,
   "id": "7a514a8f",
   "metadata": {},
   "outputs": [],
   "source": [
    "images = list(map(charge_specific_img, df['Image Index']))"
   ]
  },
  {
   "cell_type": "code",
   "execution_count": 32,
   "id": "b34e05e6",
   "metadata": {},
   "outputs": [
    {
     "data": {
      "text/plain": [
       "300"
      ]
     },
     "execution_count": 32,
     "metadata": {},
     "output_type": "execute_result"
    }
   ],
   "source": [
    "len(images)"
   ]
  },
  {
   "cell_type": "code",
   "execution_count": 33,
   "id": "ca9eba16",
   "metadata": {},
   "outputs": [],
   "source": [
    "for i, img in enumerate(images):\n",
    "    p = os.path.join('/home/mr1142/Documents/Data/segmentation', df['Image Index'][i])\n",
    "    cv2.imwrite(p, img)"
   ]
  },
  {
   "cell_type": "markdown",
   "id": "685ee5fb",
   "metadata": {},
   "source": [
    "# SECOND"
   ]
  },
  {
   "cell_type": "markdown",
   "id": "f6f3a5e9-354c-46cc-a24e-010e1e448af6",
   "metadata": {},
   "source": [
    "Cargo el dataset y lo ordeno aleatorio"
   ]
  },
  {
   "cell_type": "code",
   "execution_count": 19,
   "id": "aff47c35",
   "metadata": {},
   "outputs": [],
   "source": [
    "path = '/home/mr1142/Documents/Data/NIH'\n",
    "df = pd.read_csv(os.path.join(path, 'Data_Entry_2017.csv'))\n",
    "df = df.sample(frac=1).reset_index(drop = True)"
   ]
  },
  {
   "cell_type": "code",
   "execution_count": 20,
   "id": "35403bd6-3fb7-4db9-9ecd-82a2ccb5b65b",
   "metadata": {},
   "outputs": [
    {
     "data": {
      "text/html": [
       "<div>\n",
       "<style scoped>\n",
       "    .dataframe tbody tr th:only-of-type {\n",
       "        vertical-align: middle;\n",
       "    }\n",
       "\n",
       "    .dataframe tbody tr th {\n",
       "        vertical-align: top;\n",
       "    }\n",
       "\n",
       "    .dataframe thead th {\n",
       "        text-align: right;\n",
       "    }\n",
       "</style>\n",
       "<table border=\"1\" class=\"dataframe\">\n",
       "  <thead>\n",
       "    <tr style=\"text-align: right;\">\n",
       "      <th></th>\n",
       "      <th>Image Index</th>\n",
       "      <th>Finding Labels</th>\n",
       "      <th>Follow-up #</th>\n",
       "      <th>Patient ID</th>\n",
       "      <th>Patient Age</th>\n",
       "      <th>Patient Gender</th>\n",
       "      <th>View Position</th>\n",
       "      <th>OriginalImage[Width</th>\n",
       "      <th>Height]</th>\n",
       "      <th>OriginalImagePixelSpacing[x</th>\n",
       "      <th>y]</th>\n",
       "      <th>Unnamed: 11</th>\n",
       "    </tr>\n",
       "  </thead>\n",
       "  <tbody>\n",
       "    <tr>\n",
       "      <th>0</th>\n",
       "      <td>00019313_006.png</td>\n",
       "      <td>No Finding</td>\n",
       "      <td>6</td>\n",
       "      <td>19313</td>\n",
       "      <td>65</td>\n",
       "      <td>M</td>\n",
       "      <td>AP</td>\n",
       "      <td>2500</td>\n",
       "      <td>2048</td>\n",
       "      <td>0.168</td>\n",
       "      <td>0.168</td>\n",
       "      <td>NaN</td>\n",
       "    </tr>\n",
       "    <tr>\n",
       "      <th>1</th>\n",
       "      <td>00016092_007.png</td>\n",
       "      <td>No Finding</td>\n",
       "      <td>7</td>\n",
       "      <td>16092</td>\n",
       "      <td>33</td>\n",
       "      <td>M</td>\n",
       "      <td>AP</td>\n",
       "      <td>3056</td>\n",
       "      <td>2544</td>\n",
       "      <td>0.139</td>\n",
       "      <td>0.139</td>\n",
       "      <td>NaN</td>\n",
       "    </tr>\n",
       "    <tr>\n",
       "      <th>2</th>\n",
       "      <td>00026292_006.png</td>\n",
       "      <td>No Finding</td>\n",
       "      <td>6</td>\n",
       "      <td>26292</td>\n",
       "      <td>75</td>\n",
       "      <td>M</td>\n",
       "      <td>PA</td>\n",
       "      <td>3056</td>\n",
       "      <td>2544</td>\n",
       "      <td>0.139</td>\n",
       "      <td>0.139</td>\n",
       "      <td>NaN</td>\n",
       "    </tr>\n",
       "    <tr>\n",
       "      <th>3</th>\n",
       "      <td>00004812_000.png</td>\n",
       "      <td>No Finding</td>\n",
       "      <td>0</td>\n",
       "      <td>4812</td>\n",
       "      <td>50</td>\n",
       "      <td>F</td>\n",
       "      <td>PA</td>\n",
       "      <td>2500</td>\n",
       "      <td>2048</td>\n",
       "      <td>0.171</td>\n",
       "      <td>0.171</td>\n",
       "      <td>NaN</td>\n",
       "    </tr>\n",
       "    <tr>\n",
       "      <th>4</th>\n",
       "      <td>00008230_023.png</td>\n",
       "      <td>Effusion</td>\n",
       "      <td>23</td>\n",
       "      <td>8230</td>\n",
       "      <td>60</td>\n",
       "      <td>F</td>\n",
       "      <td>PA</td>\n",
       "      <td>2048</td>\n",
       "      <td>2500</td>\n",
       "      <td>0.168</td>\n",
       "      <td>0.168</td>\n",
       "      <td>NaN</td>\n",
       "    </tr>\n",
       "  </tbody>\n",
       "</table>\n",
       "</div>"
      ],
      "text/plain": [
       "        Image Index Finding Labels  Follow-up #  Patient ID  Patient Age  \\\n",
       "0  00019313_006.png     No Finding            6       19313           65   \n",
       "1  00016092_007.png     No Finding            7       16092           33   \n",
       "2  00026292_006.png     No Finding            6       26292           75   \n",
       "3  00004812_000.png     No Finding            0        4812           50   \n",
       "4  00008230_023.png       Effusion           23        8230           60   \n",
       "\n",
       "  Patient Gender View Position  OriginalImage[Width  Height]  \\\n",
       "0              M            AP                 2500     2048   \n",
       "1              M            AP                 3056     2544   \n",
       "2              M            PA                 3056     2544   \n",
       "3              F            PA                 2500     2048   \n",
       "4              F            PA                 2048     2500   \n",
       "\n",
       "   OriginalImagePixelSpacing[x     y]  Unnamed: 11  \n",
       "0                        0.168  0.168          NaN  \n",
       "1                        0.139  0.139          NaN  \n",
       "2                        0.139  0.139          NaN  \n",
       "3                        0.171  0.171          NaN  \n",
       "4                        0.168  0.168          NaN  "
      ]
     },
     "execution_count": 20,
     "metadata": {},
     "output_type": "execute_result"
    }
   ],
   "source": [
    "df.head()"
   ]
  },
  {
   "cell_type": "markdown",
   "id": "8629cfde-473a-482c-afeb-82242efe30fb",
   "metadata": {},
   "source": [
    "Para seleccionar patologicas"
   ]
  },
  {
   "cell_type": "code",
   "execution_count": 23,
   "id": "7a4f3a64-3df3-4a54-ae75-3f987ee96362",
   "metadata": {},
   "outputs": [],
   "source": [
    "patologic = [i for i in df.index if not bool(re.search('No Finding', df['Finding Labels'][i]))]\n",
    "df = df.iloc[patologic].reset_index(drop=True)"
   ]
  },
  {
   "cell_type": "code",
   "execution_count": 24,
   "id": "151bd762-9c69-4c69-9007-a1dfd7c44a1a",
   "metadata": {},
   "outputs": [
    {
     "data": {
      "text/html": [
       "<div>\n",
       "<style scoped>\n",
       "    .dataframe tbody tr th:only-of-type {\n",
       "        vertical-align: middle;\n",
       "    }\n",
       "\n",
       "    .dataframe tbody tr th {\n",
       "        vertical-align: top;\n",
       "    }\n",
       "\n",
       "    .dataframe thead th {\n",
       "        text-align: right;\n",
       "    }\n",
       "</style>\n",
       "<table border=\"1\" class=\"dataframe\">\n",
       "  <thead>\n",
       "    <tr style=\"text-align: right;\">\n",
       "      <th></th>\n",
       "      <th>Image Index</th>\n",
       "      <th>Finding Labels</th>\n",
       "      <th>Follow-up #</th>\n",
       "      <th>Patient ID</th>\n",
       "      <th>Patient Age</th>\n",
       "      <th>Patient Gender</th>\n",
       "      <th>View Position</th>\n",
       "      <th>OriginalImage[Width</th>\n",
       "      <th>Height]</th>\n",
       "      <th>OriginalImagePixelSpacing[x</th>\n",
       "      <th>y]</th>\n",
       "      <th>Unnamed: 11</th>\n",
       "    </tr>\n",
       "  </thead>\n",
       "  <tbody>\n",
       "  </tbody>\n",
       "</table>\n",
       "</div>"
      ],
      "text/plain": [
       "Empty DataFrame\n",
       "Columns: [Image Index, Finding Labels, Follow-up #, Patient ID, Patient Age, Patient Gender, View Position, OriginalImage[Width, Height], OriginalImagePixelSpacing[x, y], Unnamed: 11]\n",
       "Index: []"
      ]
     },
     "execution_count": 24,
     "metadata": {},
     "output_type": "execute_result"
    }
   ],
   "source": [
    "df.head()"
   ]
  },
  {
   "cell_type": "markdown",
   "id": "19805246-d49b-4d79-b8cc-9f7db5c25886",
   "metadata": {},
   "source": [
    "Recojo las imagenes que ya tenemos"
   ]
  },
  {
   "cell_type": "code",
   "execution_count": 5,
   "id": "3acf39f1-a24e-49c7-8750-304489fbef0c",
   "metadata": {},
   "outputs": [],
   "source": [
    "p_already = '/home/mr1142/Documents/Data/segmentation/images'\n",
    "already = os.listdir(p_already)"
   ]
  },
  {
   "cell_type": "code",
   "execution_count": 6,
   "id": "9870e2a2-942b-4fd0-b409-e0bbb33d196b",
   "metadata": {},
   "outputs": [],
   "source": [
    "already = already + os.listdir('/home/mr1142/Documents/Data/new_images')"
   ]
  },
  {
   "cell_type": "code",
   "execution_count": 7,
   "id": "d02e8ed7-f2a6-4f27-bd63-44037e154205",
   "metadata": {},
   "outputs": [
    {
     "data": {
      "text/plain": [
       "500"
      ]
     },
     "execution_count": 7,
     "metadata": {},
     "output_type": "execute_result"
    }
   ],
   "source": [
    "len(already)"
   ]
  },
  {
   "cell_type": "markdown",
   "id": "a8c5a110-3176-47c3-8604-c3f8398fc875",
   "metadata": {},
   "source": [
    "Cojo un numero de indices aleatorios, que no coincidan con las imagenes que ya tenemos"
   ]
  },
  {
   "cell_type": "code",
   "execution_count": 8,
   "id": "f4e1a386",
   "metadata": {},
   "outputs": [],
   "source": [
    "random = []\n",
    "for i in range(200):\n",
    "    rand=np.random.randint(0,len(df))\n",
    "    while(df['Image Index'][rand] in already):\n",
    "        rand=np.random.randint(0,len(df))\n",
    "    random.append(rand)"
   ]
  },
  {
   "cell_type": "code",
   "execution_count": 9,
   "id": "129ac10c",
   "metadata": {},
   "outputs": [
    {
     "data": {
      "text/plain": [
       "set()"
      ]
     },
     "execution_count": 9,
     "metadata": {},
     "output_type": "execute_result"
    }
   ],
   "source": [
    "set(list(df['Image Index'][random])).intersection(already)"
   ]
  },
  {
   "cell_type": "code",
   "execution_count": 10,
   "id": "17fe7e13",
   "metadata": {},
   "outputs": [],
   "source": [
    "df = df.iloc[random].reset_index(drop=True)"
   ]
  },
  {
   "cell_type": "code",
   "execution_count": 11,
   "id": "0d634347",
   "metadata": {},
   "outputs": [
    {
     "data": {
      "text/html": [
       "<div>\n",
       "<style scoped>\n",
       "    .dataframe tbody tr th:only-of-type {\n",
       "        vertical-align: middle;\n",
       "    }\n",
       "\n",
       "    .dataframe tbody tr th {\n",
       "        vertical-align: top;\n",
       "    }\n",
       "\n",
       "    .dataframe thead th {\n",
       "        text-align: right;\n",
       "    }\n",
       "</style>\n",
       "<table border=\"1\" class=\"dataframe\">\n",
       "  <thead>\n",
       "    <tr style=\"text-align: right;\">\n",
       "      <th></th>\n",
       "      <th>Image Index</th>\n",
       "      <th>Finding Labels</th>\n",
       "      <th>Follow-up #</th>\n",
       "      <th>Patient ID</th>\n",
       "      <th>Patient Age</th>\n",
       "      <th>Patient Gender</th>\n",
       "      <th>View Position</th>\n",
       "      <th>OriginalImage[Width</th>\n",
       "      <th>Height]</th>\n",
       "      <th>OriginalImagePixelSpacing[x</th>\n",
       "      <th>y]</th>\n",
       "      <th>Unnamed: 11</th>\n",
       "    </tr>\n",
       "  </thead>\n",
       "  <tbody>\n",
       "    <tr>\n",
       "      <th>0</th>\n",
       "      <td>00005176_001.png</td>\n",
       "      <td>Infiltration</td>\n",
       "      <td>1</td>\n",
       "      <td>5176</td>\n",
       "      <td>66</td>\n",
       "      <td>M</td>\n",
       "      <td>AP</td>\n",
       "      <td>2500</td>\n",
       "      <td>2048</td>\n",
       "      <td>0.171</td>\n",
       "      <td>0.171</td>\n",
       "      <td>NaN</td>\n",
       "    </tr>\n",
       "    <tr>\n",
       "      <th>1</th>\n",
       "      <td>00006481_023.png</td>\n",
       "      <td>Cardiomegaly|Infiltration</td>\n",
       "      <td>23</td>\n",
       "      <td>6481</td>\n",
       "      <td>52</td>\n",
       "      <td>M</td>\n",
       "      <td>AP</td>\n",
       "      <td>2500</td>\n",
       "      <td>2048</td>\n",
       "      <td>0.168</td>\n",
       "      <td>0.168</td>\n",
       "      <td>NaN</td>\n",
       "    </tr>\n",
       "    <tr>\n",
       "      <th>2</th>\n",
       "      <td>00000914_004.png</td>\n",
       "      <td>No Finding</td>\n",
       "      <td>4</td>\n",
       "      <td>914</td>\n",
       "      <td>68</td>\n",
       "      <td>M</td>\n",
       "      <td>PA</td>\n",
       "      <td>2500</td>\n",
       "      <td>2048</td>\n",
       "      <td>0.168</td>\n",
       "      <td>0.168</td>\n",
       "      <td>NaN</td>\n",
       "    </tr>\n",
       "    <tr>\n",
       "      <th>3</th>\n",
       "      <td>00011964_000.png</td>\n",
       "      <td>No Finding</td>\n",
       "      <td>0</td>\n",
       "      <td>11964</td>\n",
       "      <td>59</td>\n",
       "      <td>F</td>\n",
       "      <td>PA</td>\n",
       "      <td>2658</td>\n",
       "      <td>2553</td>\n",
       "      <td>0.143</td>\n",
       "      <td>0.143</td>\n",
       "      <td>NaN</td>\n",
       "    </tr>\n",
       "    <tr>\n",
       "      <th>4</th>\n",
       "      <td>00005296_000.png</td>\n",
       "      <td>Mass</td>\n",
       "      <td>0</td>\n",
       "      <td>5296</td>\n",
       "      <td>51</td>\n",
       "      <td>F</td>\n",
       "      <td>AP</td>\n",
       "      <td>2500</td>\n",
       "      <td>2048</td>\n",
       "      <td>0.171</td>\n",
       "      <td>0.171</td>\n",
       "      <td>NaN</td>\n",
       "    </tr>\n",
       "  </tbody>\n",
       "</table>\n",
       "</div>"
      ],
      "text/plain": [
       "        Image Index             Finding Labels  Follow-up #  Patient ID  \\\n",
       "0  00005176_001.png               Infiltration            1        5176   \n",
       "1  00006481_023.png  Cardiomegaly|Infiltration           23        6481   \n",
       "2  00000914_004.png                 No Finding            4         914   \n",
       "3  00011964_000.png                 No Finding            0       11964   \n",
       "4  00005296_000.png                       Mass            0        5296   \n",
       "\n",
       "   Patient Age Patient Gender View Position  OriginalImage[Width  Height]  \\\n",
       "0           66              M            AP                 2500     2048   \n",
       "1           52              M            AP                 2500     2048   \n",
       "2           68              M            PA                 2500     2048   \n",
       "3           59              F            PA                 2658     2553   \n",
       "4           51              F            AP                 2500     2048   \n",
       "\n",
       "   OriginalImagePixelSpacing[x     y]  Unnamed: 11  \n",
       "0                        0.171  0.171          NaN  \n",
       "1                        0.168  0.168          NaN  \n",
       "2                        0.168  0.168          NaN  \n",
       "3                        0.143  0.143          NaN  \n",
       "4                        0.171  0.171          NaN  "
      ]
     },
     "execution_count": 11,
     "metadata": {},
     "output_type": "execute_result"
    }
   ],
   "source": [
    "df.head()"
   ]
  },
  {
   "cell_type": "code",
   "execution_count": 26,
   "id": "7b0edf2c",
   "metadata": {},
   "outputs": [],
   "source": [
    "labels = np.unique(df['Finding Labels'])\n",
    "labels = '|'.join(labels)\n",
    "labels = labels.split('|')\n",
    "labels = np.unique(labels).tolist()"
   ]
  },
  {
   "cell_type": "code",
   "execution_count": 27,
   "id": "de10d4ac",
   "metadata": {},
   "outputs": [],
   "source": [
    "def fill_label(information, label):\n",
    "    positive_labels = information.split('|')\n",
    "    if label in positive_labels:\n",
    "        return 1\n",
    "    return 0"
   ]
  },
  {
   "cell_type": "code",
   "execution_count": 28,
   "id": "389c8fe1",
   "metadata": {},
   "outputs": [],
   "source": [
    "for lab in labels:\n",
    "    df[lab] = list(map(lambda x: fill_label(x, lab), df['Finding Labels'].tolist()))"
   ]
  },
  {
   "cell_type": "code",
   "execution_count": 29,
   "id": "956612fa",
   "metadata": {},
   "outputs": [
    {
     "name": "stdout",
     "output_type": "stream",
     "text": [
      "Effusion\n",
      "1\n",
      "No Finding\n",
      "7\n"
     ]
    }
   ],
   "source": [
    "for l in labels:\n",
    "    print(l)\n",
    "    print(sum(df[l] == 1))"
   ]
  },
  {
   "cell_type": "code",
   "execution_count": 30,
   "id": "53e04894",
   "metadata": {},
   "outputs": [],
   "source": [
    "path = '/home/mr1142/Documents/Data/NIH'"
   ]
  },
  {
   "cell_type": "code",
   "execution_count": 31,
   "id": "1b77a850",
   "metadata": {},
   "outputs": [],
   "source": [
    "def charge_specific_img(img_name):\n",
    "    subfolders = [f.path for f in os.scandir(path) if f.is_dir()]\n",
    "    for folder in subfolders:\n",
    "        img_path = os.path.join(folder, 'images', img_name)\n",
    "        if os.path.isfile(img_path):\n",
    "            img = cv2.imread(img_path)\n",
    "            return img\n",
    "    img = []\n",
    "    return img"
   ]
  },
  {
   "cell_type": "code",
   "execution_count": 32,
   "id": "12c95541",
   "metadata": {},
   "outputs": [],
   "source": [
    "images = list(map(charge_specific_img, df['Image Index']))"
   ]
  },
  {
   "cell_type": "code",
   "execution_count": 33,
   "id": "0edc2bb1",
   "metadata": {},
   "outputs": [
    {
     "data": {
      "text/plain": [
       "<matplotlib.image.AxesImage at 0x7f45d547f208>"
      ]
     },
     "execution_count": 33,
     "metadata": {},
     "output_type": "execute_result"
    },
    {
     "data": {
      "image/png": "[encoded data removed]",
      "text/plain": [
       "<Figure size 432x288 with 1 Axes>"
      ]
     },
     "metadata": {
      "needs_background": "light"
     },
     "output_type": "display_data"
    }
   ],
   "source": [
    "import matplotlib.pyplot as plt\n",
    "i = np.random.randint(0,len(df))\n",
    "plt.imshow(images[i])"
   ]
  },
  {
   "cell_type": "code",
   "execution_count": 34,
   "id": "bee20e37",
   "metadata": {},
   "outputs": [
    {
     "data": {
      "text/plain": [
       "8"
      ]
     },
     "execution_count": 34,
     "metadata": {},
     "output_type": "execute_result"
    }
   ],
   "source": [
    "len(images)"
   ]
  },
  {
   "cell_type": "code",
   "execution_count": 35,
   "id": "934c9412",
   "metadata": {},
   "outputs": [],
   "source": [
    "for i, img in enumerate(images):\n",
    "    p = os.path.join('/home/mr1142/Documents/Data/new_images', df['Image Index'][i])\n",
    "    cv2.imwrite(p, img)"
   ]
  },
  {
   "cell_type": "code",
   "execution_count": null,
   "id": "a159402d-4308-4ade-af2b-f2956f722633",
   "metadata": {},
   "outputs": [],
   "source": []
  }
 ],
 "metadata": {
  "kernelspec": {
   "display_name": "Python 3",
   "language": "python",
   "name": "python3"
  },
  "language_info": {
   "codemirror_mode": {
    "name": "ipython",
    "version": 3
   },
   "file_extension": ".py",
   "mimetype": "text/x-python",
   "name": "python",
   "nbconvert_exporter": "python",
   "pygments_lexer": "ipython3",
   "version": "3.6.8"
  }
 },
 "nbformat": 4,
 "nbformat_minor": 5
}
