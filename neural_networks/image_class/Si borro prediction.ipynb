{
 "cells": [
  {
   "cell_type": "code",
   "execution_count": 228,
   "id": "02017d63-f25f-4882-b92f-d6fc7e18300e",
   "metadata": {},
   "outputs": [],
   "source": [
    "import os\n",
    "import re\n",
    "import pandas as pd\n",
    "import numpy as np"
   ]
  },
  {
   "cell_type": "code",
   "execution_count": 229,
   "id": "7e06a605-2efc-480a-92c7-acf73f4340e2",
   "metadata": {},
   "outputs": [],
   "source": [
    "path = '/home/mr1142/Documents/Data/models/neumonia/validation_results/prediction_validation_metrics.csv'\n",
    "df = pd.read_csv(path)"
   ]
  },
  {
   "cell_type": "code",
   "execution_count": 230,
   "id": "bfad82a1-186d-41b3-acbb-c31b4b0bd127",
   "metadata": {},
   "outputs": [
    {
     "data": {
      "text/html": [
       "<div>\n",
       "<style scoped>\n",
       "    .dataframe tbody tr th:only-of-type {\n",
       "        vertical-align: middle;\n",
       "    }\n",
       "\n",
       "    .dataframe tbody tr th {\n",
       "        vertical-align: top;\n",
       "    }\n",
       "\n",
       "    .dataframe thead th {\n",
       "        text-align: right;\n",
       "    }\n",
       "</style>\n",
       "<table border=\"1\" class=\"dataframe\">\n",
       "  <thead>\n",
       "    <tr style=\"text-align: right;\">\n",
       "      <th></th>\n",
       "      <th>name</th>\n",
       "      <th>auc_0</th>\n",
       "      <th>younden_0</th>\n",
       "      <th>pr_max_0</th>\n",
       "      <th>pr_cut_0</th>\n",
       "      <th>auc_1</th>\n",
       "      <th>younden_1</th>\n",
       "      <th>pr_max_1</th>\n",
       "      <th>pr_cut_1</th>\n",
       "      <th>auc_2</th>\n",
       "      <th>...</th>\n",
       "      <th>recall_score[0, 1]</th>\n",
       "      <th>accuracy_score[0, 1]</th>\n",
       "      <th>f1_score[0, 2]</th>\n",
       "      <th>precision_score[0, 2]</th>\n",
       "      <th>recall_score[0, 2]</th>\n",
       "      <th>accuracy_score[0, 2]</th>\n",
       "      <th>f1_score[1, 2]</th>\n",
       "      <th>precision_score[1, 2]</th>\n",
       "      <th>recall_score[1, 2]</th>\n",
       "      <th>accuracy_score[1, 2]</th>\n",
       "    </tr>\n",
       "  </thead>\n",
       "  <tbody>\n",
       "    <tr>\n",
       "      <th>0</th>\n",
       "      <td>prueba_mask_IncResNet_fine-00_batch-8_lr-0001_...</td>\n",
       "      <td>0.948370</td>\n",
       "      <td>0.371251</td>\n",
       "      <td>0.223513</td>\n",
       "      <td>0.380699</td>\n",
       "      <td>0.844468</td>\n",
       "      <td>0.268455</td>\n",
       "      <td>0.116512</td>\n",
       "      <td>0.400980</td>\n",
       "      <td>0.903275</td>\n",
       "      <td>...</td>\n",
       "      <td>0.712658</td>\n",
       "      <td>0.712658</td>\n",
       "      <td>0.720231</td>\n",
       "      <td>0.870933</td>\n",
       "      <td>0.682917</td>\n",
       "      <td>0.682917</td>\n",
       "      <td>0.847090</td>\n",
       "      <td>0.869088</td>\n",
       "      <td>0.836342</td>\n",
       "      <td>0.836342</td>\n",
       "    </tr>\n",
       "    <tr>\n",
       "      <th>1</th>\n",
       "      <td>prueba_EffNet3_fine-05_batch-8_lr--05_auc-83</td>\n",
       "      <td>0.949477</td>\n",
       "      <td>0.375078</td>\n",
       "      <td>0.375078</td>\n",
       "      <td>0.531894</td>\n",
       "      <td>0.736200</td>\n",
       "      <td>0.437074</td>\n",
       "      <td>0.098424</td>\n",
       "      <td>0.572911</td>\n",
       "      <td>0.727151</td>\n",
       "      <td>...</td>\n",
       "      <td>0.620621</td>\n",
       "      <td>0.620621</td>\n",
       "      <td>0.656481</td>\n",
       "      <td>0.753376</td>\n",
       "      <td>0.649650</td>\n",
       "      <td>0.649650</td>\n",
       "      <td>0.566703</td>\n",
       "      <td>0.636015</td>\n",
       "      <td>0.670671</td>\n",
       "      <td>0.670671</td>\n",
       "    </tr>\n",
       "    <tr>\n",
       "      <th>2</th>\n",
       "      <td>prueba_mask_Xception_fine-08_batch-8_lr-001_au...</td>\n",
       "      <td>0.963071</td>\n",
       "      <td>0.336022</td>\n",
       "      <td>0.336022</td>\n",
       "      <td>0.500514</td>\n",
       "      <td>0.839006</td>\n",
       "      <td>0.165104</td>\n",
       "      <td>0.143179</td>\n",
       "      <td>0.501799</td>\n",
       "      <td>0.913134</td>\n",
       "      <td>...</td>\n",
       "      <td>0.602603</td>\n",
       "      <td>0.602603</td>\n",
       "      <td>0.829860</td>\n",
       "      <td>0.838758</td>\n",
       "      <td>0.826827</td>\n",
       "      <td>0.826827</td>\n",
       "      <td>0.834080</td>\n",
       "      <td>0.834354</td>\n",
       "      <td>0.833834</td>\n",
       "      <td>0.833834</td>\n",
       "    </tr>\n",
       "    <tr>\n",
       "      <th>3</th>\n",
       "      <td>prueba_IncResNet_fine-03_batch-8_lr--05_auc-84</td>\n",
       "      <td>0.956299</td>\n",
       "      <td>0.145154</td>\n",
       "      <td>0.215109</td>\n",
       "      <td>0.175639</td>\n",
       "      <td>0.714395</td>\n",
       "      <td>0.132623</td>\n",
       "      <td>0.049677</td>\n",
       "      <td>0.392811</td>\n",
       "      <td>0.815874</td>\n",
       "      <td>...</td>\n",
       "      <td>0.577578</td>\n",
       "      <td>0.577578</td>\n",
       "      <td>0.634065</td>\n",
       "      <td>0.815395</td>\n",
       "      <td>0.636637</td>\n",
       "      <td>0.636637</td>\n",
       "      <td>0.695637</td>\n",
       "      <td>0.742472</td>\n",
       "      <td>0.686687</td>\n",
       "      <td>0.686687</td>\n",
       "    </tr>\n",
       "    <tr>\n",
       "      <th>4</th>\n",
       "      <td>prueba_Xception_fine-00_batch-8_lr-0001_auc-93</td>\n",
       "      <td>0.979096</td>\n",
       "      <td>0.253562</td>\n",
       "      <td>0.408439</td>\n",
       "      <td>0.238946</td>\n",
       "      <td>0.816032</td>\n",
       "      <td>0.261038</td>\n",
       "      <td>0.053677</td>\n",
       "      <td>0.425123</td>\n",
       "      <td>0.876246</td>\n",
       "      <td>...</td>\n",
       "      <td>0.606607</td>\n",
       "      <td>0.606607</td>\n",
       "      <td>0.673439</td>\n",
       "      <td>0.823189</td>\n",
       "      <td>0.671672</td>\n",
       "      <td>0.671672</td>\n",
       "      <td>0.794417</td>\n",
       "      <td>0.809672</td>\n",
       "      <td>0.789790</td>\n",
       "      <td>0.789790</td>\n",
       "    </tr>\n",
       "    <tr>\n",
       "      <th>...</th>\n",
       "      <td>...</td>\n",
       "      <td>...</td>\n",
       "      <td>...</td>\n",
       "      <td>...</td>\n",
       "      <td>...</td>\n",
       "      <td>...</td>\n",
       "      <td>...</td>\n",
       "      <td>...</td>\n",
       "      <td>...</td>\n",
       "      <td>...</td>\n",
       "      <td>...</td>\n",
       "      <td>...</td>\n",
       "      <td>...</td>\n",
       "      <td>...</td>\n",
       "      <td>...</td>\n",
       "      <td>...</td>\n",
       "      <td>...</td>\n",
       "      <td>...</td>\n",
       "      <td>...</td>\n",
       "      <td>...</td>\n",
       "      <td>...</td>\n",
       "    </tr>\n",
       "    <tr>\n",
       "      <th>139</th>\n",
       "      <td>prueba_IncResNet_fine-03_batch-8_lr-0001_auc-9...</td>\n",
       "      <td>0.973614</td>\n",
       "      <td>0.771123</td>\n",
       "      <td>0.698279</td>\n",
       "      <td>0.773190</td>\n",
       "      <td>0.893377</td>\n",
       "      <td>0.173651</td>\n",
       "      <td>0.085862</td>\n",
       "      <td>0.395070</td>\n",
       "      <td>0.933973</td>\n",
       "      <td>...</td>\n",
       "      <td>0.740208</td>\n",
       "      <td>0.740208</td>\n",
       "      <td>0.779642</td>\n",
       "      <td>0.882383</td>\n",
       "      <td>0.750886</td>\n",
       "      <td>0.750886</td>\n",
       "      <td>0.892484</td>\n",
       "      <td>0.891699</td>\n",
       "      <td>0.893427</td>\n",
       "      <td>0.893427</td>\n",
       "    </tr>\n",
       "    <tr>\n",
       "      <th>140</th>\n",
       "      <td>prueba_EffNet3_fine-07_batch-8_lr--05_auc-86_r...</td>\n",
       "      <td>0.974530</td>\n",
       "      <td>0.149635</td>\n",
       "      <td>0.136348</td>\n",
       "      <td>0.163520</td>\n",
       "      <td>0.836722</td>\n",
       "      <td>0.351744</td>\n",
       "      <td>0.290884</td>\n",
       "      <td>0.413670</td>\n",
       "      <td>0.810089</td>\n",
       "      <td>...</td>\n",
       "      <td>0.742860</td>\n",
       "      <td>0.742860</td>\n",
       "      <td>0.646853</td>\n",
       "      <td>0.870204</td>\n",
       "      <td>0.604579</td>\n",
       "      <td>0.604579</td>\n",
       "      <td>0.663734</td>\n",
       "      <td>0.867808</td>\n",
       "      <td>0.621811</td>\n",
       "      <td>0.621811</td>\n",
       "    </tr>\n",
       "    <tr>\n",
       "      <th>141</th>\n",
       "      <td>prueba_mask_EffNet3_fine-05_batch-8_lr-001_auc...</td>\n",
       "      <td>0.960647</td>\n",
       "      <td>0.592277</td>\n",
       "      <td>0.501548</td>\n",
       "      <td>0.622497</td>\n",
       "      <td>0.812989</td>\n",
       "      <td>0.227295</td>\n",
       "      <td>0.128585</td>\n",
       "      <td>0.402010</td>\n",
       "      <td>0.854651</td>\n",
       "      <td>...</td>\n",
       "      <td>0.733106</td>\n",
       "      <td>0.733106</td>\n",
       "      <td>0.734732</td>\n",
       "      <td>0.870349</td>\n",
       "      <td>0.699225</td>\n",
       "      <td>0.699225</td>\n",
       "      <td>0.767697</td>\n",
       "      <td>0.861493</td>\n",
       "      <td>0.737863</td>\n",
       "      <td>0.737863</td>\n",
       "    </tr>\n",
       "    <tr>\n",
       "      <th>142</th>\n",
       "      <td>prueba_mask_EffNet3_fine-03_batch-8_lr--05_auc...</td>\n",
       "      <td>0.953896</td>\n",
       "      <td>0.178411</td>\n",
       "      <td>0.155638</td>\n",
       "      <td>0.192341</td>\n",
       "      <td>0.826915</td>\n",
       "      <td>0.226422</td>\n",
       "      <td>0.120830</td>\n",
       "      <td>0.403188</td>\n",
       "      <td>0.892942</td>\n",
       "      <td>...</td>\n",
       "      <td>0.711785</td>\n",
       "      <td>0.711785</td>\n",
       "      <td>0.681857</td>\n",
       "      <td>0.872983</td>\n",
       "      <td>0.641216</td>\n",
       "      <td>0.641216</td>\n",
       "      <td>0.823668</td>\n",
       "      <td>0.864271</td>\n",
       "      <td>0.806756</td>\n",
       "      <td>0.806756</td>\n",
       "    </tr>\n",
       "    <tr>\n",
       "      <th>143</th>\n",
       "      <td>prueba_EffNet3_fine-00_batch-8_lr-0001_auc-54_...</td>\n",
       "      <td>0.534997</td>\n",
       "      <td>0.273761</td>\n",
       "      <td>0.270960</td>\n",
       "      <td>0.000000</td>\n",
       "      <td>0.459922</td>\n",
       "      <td>0.322874</td>\n",
       "      <td>0.322504</td>\n",
       "      <td>0.324082</td>\n",
       "      <td>0.578232</td>\n",
       "      <td>...</td>\n",
       "      <td>0.350759</td>\n",
       "      <td>0.350759</td>\n",
       "      <td>0.053419</td>\n",
       "      <td>0.031446</td>\n",
       "      <td>0.177330</td>\n",
       "      <td>0.177330</td>\n",
       "      <td>0.053419</td>\n",
       "      <td>0.031446</td>\n",
       "      <td>0.177330</td>\n",
       "      <td>0.177330</td>\n",
       "    </tr>\n",
       "  </tbody>\n",
       "</table>\n",
       "<p>144 rows × 37 columns</p>\n",
       "</div>"
      ],
      "text/plain": [
       "                                                  name     auc_0  younden_0  \\\n",
       "0    prueba_mask_IncResNet_fine-00_batch-8_lr-0001_...  0.948370   0.371251   \n",
       "1         prueba_EffNet3_fine-05_batch-8_lr--05_auc-83  0.949477   0.375078   \n",
       "2    prueba_mask_Xception_fine-08_batch-8_lr-001_au...  0.963071   0.336022   \n",
       "3       prueba_IncResNet_fine-03_batch-8_lr--05_auc-84  0.956299   0.145154   \n",
       "4       prueba_Xception_fine-00_batch-8_lr-0001_auc-93  0.979096   0.253562   \n",
       "..                                                 ...       ...        ...   \n",
       "139  prueba_IncResNet_fine-03_batch-8_lr-0001_auc-9...  0.973614   0.771123   \n",
       "140  prueba_EffNet3_fine-07_batch-8_lr--05_auc-86_r...  0.974530   0.149635   \n",
       "141  prueba_mask_EffNet3_fine-05_batch-8_lr-001_auc...  0.960647   0.592277   \n",
       "142  prueba_mask_EffNet3_fine-03_batch-8_lr--05_auc...  0.953896   0.178411   \n",
       "143  prueba_EffNet3_fine-00_batch-8_lr-0001_auc-54_...  0.534997   0.273761   \n",
       "\n",
       "     pr_max_0  pr_cut_0     auc_1  younden_1  pr_max_1  pr_cut_1     auc_2  \\\n",
       "0    0.223513  0.380699  0.844468   0.268455  0.116512  0.400980  0.903275   \n",
       "1    0.375078  0.531894  0.736200   0.437074  0.098424  0.572911  0.727151   \n",
       "2    0.336022  0.500514  0.839006   0.165104  0.143179  0.501799  0.913134   \n",
       "3    0.215109  0.175639  0.714395   0.132623  0.049677  0.392811  0.815874   \n",
       "4    0.408439  0.238946  0.816032   0.261038  0.053677  0.425123  0.876246   \n",
       "..        ...       ...       ...        ...       ...       ...       ...   \n",
       "139  0.698279  0.773190  0.893377   0.173651  0.085862  0.395070  0.933973   \n",
       "140  0.136348  0.163520  0.836722   0.351744  0.290884  0.413670  0.810089   \n",
       "141  0.501548  0.622497  0.812989   0.227295  0.128585  0.402010  0.854651   \n",
       "142  0.155638  0.192341  0.826915   0.226422  0.120830  0.403188  0.892942   \n",
       "143  0.270960  0.000000  0.459922   0.322874  0.322504  0.324082  0.578232   \n",
       "\n",
       "     ...  recall_score[0, 1]  accuracy_score[0, 1]  f1_score[0, 2]  \\\n",
       "0    ...            0.712658              0.712658        0.720231   \n",
       "1    ...            0.620621              0.620621        0.656481   \n",
       "2    ...            0.602603              0.602603        0.829860   \n",
       "3    ...            0.577578              0.577578        0.634065   \n",
       "4    ...            0.606607              0.606607        0.673439   \n",
       "..   ...                 ...                   ...             ...   \n",
       "139  ...            0.740208              0.740208        0.779642   \n",
       "140  ...            0.742860              0.742860        0.646853   \n",
       "141  ...            0.733106              0.733106        0.734732   \n",
       "142  ...            0.711785              0.711785        0.681857   \n",
       "143  ...            0.350759              0.350759        0.053419   \n",
       "\n",
       "     precision_score[0, 2]  recall_score[0, 2]  accuracy_score[0, 2]  \\\n",
       "0                 0.870933            0.682917              0.682917   \n",
       "1                 0.753376            0.649650              0.649650   \n",
       "2                 0.838758            0.826827              0.826827   \n",
       "3                 0.815395            0.636637              0.636637   \n",
       "4                 0.823189            0.671672              0.671672   \n",
       "..                     ...                 ...                   ...   \n",
       "139               0.882383            0.750886              0.750886   \n",
       "140               0.870204            0.604579              0.604579   \n",
       "141               0.870349            0.699225              0.699225   \n",
       "142               0.872983            0.641216              0.641216   \n",
       "143               0.031446            0.177330              0.177330   \n",
       "\n",
       "     f1_score[1, 2]  precision_score[1, 2]  recall_score[1, 2]  \\\n",
       "0          0.847090               0.869088            0.836342   \n",
       "1          0.566703               0.636015            0.670671   \n",
       "2          0.834080               0.834354            0.833834   \n",
       "3          0.695637               0.742472            0.686687   \n",
       "4          0.794417               0.809672            0.789790   \n",
       "..              ...                    ...                 ...   \n",
       "139        0.892484               0.891699            0.893427   \n",
       "140        0.663734               0.867808            0.621811   \n",
       "141        0.767697               0.861493            0.737863   \n",
       "142        0.823668               0.864271            0.806756   \n",
       "143        0.053419               0.031446            0.177330   \n",
       "\n",
       "     accuracy_score[1, 2]  \n",
       "0                0.836342  \n",
       "1                0.670671  \n",
       "2                0.833834  \n",
       "3                0.686687  \n",
       "4                0.789790  \n",
       "..                    ...  \n",
       "139              0.893427  \n",
       "140              0.621811  \n",
       "141              0.737863  \n",
       "142              0.806756  \n",
       "143              0.177330  \n",
       "\n",
       "[144 rows x 37 columns]"
      ]
     },
     "execution_count": 230,
     "metadata": {},
     "output_type": "execute_result"
    }
   ],
   "source": [
    "df"
   ]
  },
  {
   "cell_type": "code",
   "execution_count": 231,
   "id": "b71c7f2a-a1c7-4123-a68d-24a684b27bf5",
   "metadata": {},
   "outputs": [],
   "source": [
    "p = '/home/mr1142/Documents/Data/models/neumonia'\n",
    "modelos = os.listdir(p)\n",
    "modelos = [modelo[:-3] for modelo in modelos if os.path.isfile(os.path.join(p, modelo))]\n",
    "modelos = [modelo for modelo in modelos if not bool(re.search('completo', modelo))]\n",
    "modelos_evaluados = list(df['name'])"
   ]
  },
  {
   "cell_type": "code",
   "execution_count": 232,
   "id": "7bb31b12-7971-4b5f-9f87-8b8695fdf7bd",
   "metadata": {},
   "outputs": [
    {
     "data": {
      "text/plain": [
       "144"
      ]
     },
     "execution_count": 232,
     "metadata": {},
     "output_type": "execute_result"
    }
   ],
   "source": [
    "len(df)"
   ]
  },
  {
   "cell_type": "code",
   "execution_count": 233,
   "id": "0586a3c8-2dc3-480a-a0a2-db0137c8a9a8",
   "metadata": {},
   "outputs": [],
   "source": [
    "modelos_evaluados_resto = [modelo for modelo in modelos_evaluados if \n",
    "                           bool(re.search('resto', modelo))]\n",
    "modelos_evaluados_resto = [re.split('_resto', modelo)[0] for \n",
    "                           modelo in modelos_evaluados_resto]"
   ]
  },
  {
   "cell_type": "code",
   "execution_count": 234,
   "id": "b4fe15e5-259c-4834-901e-6ed4f0eb120e",
   "metadata": {},
   "outputs": [
    {
     "name": "stdout",
     "output_type": "stream",
     "text": [
      "90\n",
      "90\n",
      "55\n",
      "144\n"
     ]
    }
   ],
   "source": [
    "print(len(modelos))\n",
    "print(len(set(modelos_evaluados)-set(modelos_evaluados_resto)))\n",
    "print(len(modelos_evaluados_resto))\n",
    "print(len(modelos_evaluados))"
   ]
  },
  {
   "cell_type": "code",
   "execution_count": 235,
   "id": "70045ded-9f3a-4ca0-9722-9abb4a2bf18b",
   "metadata": {},
   "outputs": [
    {
     "data": {
      "text/plain": [
       "[]"
      ]
     },
     "execution_count": 235,
     "metadata": {},
     "output_type": "execute_result"
    }
   ],
   "source": [
    "evaluados_de_mas = list(set(modelos_evaluados) - set(modelos))\n",
    "evaluados_de_mas = [modelo for modelo in evaluados_de_mas if not\n",
    "                  bool(re.search('resto', modelo))]\n",
    "ix = [i for i in df.index if df.name[i] in evaluados_de_mas]\n",
    "evaluados_de_mas"
   ]
  },
  {
   "cell_type": "code",
   "execution_count": 236,
   "id": "8b3a9017-2c89-4c60-9e0a-829566fe1984",
   "metadata": {},
   "outputs": [],
   "source": [
    "df = df.drop(ix)\n",
    "# df.to_csv(path, index = False)"
   ]
  },
  {
   "cell_type": "code",
   "execution_count": 237,
   "id": "efa4d2bf-b46e-469c-bc59-60f071f4258a",
   "metadata": {},
   "outputs": [
    {
     "data": {
      "text/plain": [
       "['prueba_mask_Xception_fine-05_batch-8_lr-001_auc-88']"
      ]
     },
     "execution_count": 237,
     "metadata": {},
     "output_type": "execute_result"
    }
   ],
   "source": [
    "evaluados_de_menos = list(set(modelos)-set(modelos_evaluados))\n",
    "evaluados_de_menos"
   ]
  },
  {
   "cell_type": "code",
   "execution_count": 238,
   "id": "849558cf-0244-43fd-9956-6a85e3b50b48",
   "metadata": {},
   "outputs": [
    {
     "data": {
      "text/plain": [
       "35"
      ]
     },
     "execution_count": 238,
     "metadata": {},
     "output_type": "execute_result"
    }
   ],
   "source": [
    "modelos_a_evaluar_resto = list(set(modelos)-set(modelos_evaluados_resto))\n",
    "len(modelos_a_evaluar_resto)"
   ]
  },
  {
   "cell_type": "code",
   "execution_count": 239,
   "id": "209e8622-ab9c-4d2c-8286-a9795ed09cef",
   "metadata": {},
   "outputs": [],
   "source": [
    "import os\n",
    "import cv2\n",
    "import json"
   ]
  },
  {
   "cell_type": "code",
   "execution_count": 240,
   "id": "aa426410-4486-4ad5-bec2-1ce90f6d39ca",
   "metadata": {},
   "outputs": [],
   "source": [
    "def guardar(p, name):\n",
    "    with open(os.path.join(p, 'metricas.json')) as json_file:\n",
    "        data = json.load(json_file)\n",
    "    save = [name] + list(data.values())\n",
    "    try:\n",
    "        # Si ya existe el modelo, se sobreescriben las métricas\n",
    "        i = df[df['name'] == name].index\n",
    "        df.loc[i[0]] = save\n",
    "    except:\n",
    "        df.loc[len(df.index)] = save"
   ]
  },
  {
   "cell_type": "code",
   "execution_count": 241,
   "id": "67e90e12-0ad9-4b97-aeba-db69fac898ce",
   "metadata": {},
   "outputs": [
    {
     "name": "stdout",
     "output_type": "stream",
     "text": [
      "-----------prueba_mask_IncResNet_fine-08_batch-8_lr-001_auc-89-------------\n",
      "guardaro el normal\n",
      "error en el resto\n",
      "-----------prueba_mask_Xception_fine-08_batch-8_lr-001_auc-94-------------\n",
      "guardaro el normal\n",
      "error en el resto\n",
      "-----------prueba_Xception_fine-00_batch-8_lr-0001_auc-93-------------\n",
      "guardaro el normal\n",
      "error en el resto\n",
      "-----------prueba_mask_EffNet3_fine-07_batch-8_lr-001_auc-87-------------\n",
      "guardaro el normal\n",
      "error en el resto\n",
      "-----------prueba_mask_IncResNet_fine-00_batch-8_lr-001_auc-89-------------\n",
      "guardaro el normal\n",
      "error en el resto\n",
      "-----------prueba_mask_IncResNet_fine-03_batch-8_lr-001_auc-85-------------\n",
      "guardaro el normal\n",
      "error en el resto\n",
      "-----------prueba_mask_Xception_fine-03_batch-8_lr--05_auc-92-------------\n",
      "guardaro el normal\n",
      "error en el resto\n",
      "-----------prueba_IncResNet_fine-05_batch-8_lr-001_auc-86-------------\n",
      "guardaro el normal\n",
      "error en el resto\n",
      "-----------prueba_mask_Xception_fine-00_batch-8_lr-0001_auc-90-------------\n",
      "guardaro el normal\n",
      "error en el resto\n",
      "-----------prueba_EffNet3_fine-08_batch-8_lr-0001_auc-57-------------\n",
      "guardaro el normal\n",
      "error en el resto\n",
      "-----------prueba_mask_IncResNet_fine-07_batch-8_lr--05_auc-87-------------\n",
      "guardaro el normal\n",
      "error en el resto\n",
      "-----------prueba_mask_IncResNet_fine-08_batch-8_lr--05_auc-84-------------\n",
      "guardaro el normal\n",
      "error en el resto\n",
      "-----------prueba_IncResNet_fine-07_batch-8_lr--05_auc-85-------------\n",
      "guardaro el normal\n",
      "error en el resto\n",
      "-----------prueba_mask_Xception_fine-07_batch-8_lr--05_auc-90-------------\n",
      "guardaro el normal\n",
      "error en el resto\n",
      "-----------prueba_mask_EffNet3_fine-00_batch-8_lr--05_auc-51-------------\n",
      "guardaro el normal\n",
      "error en el resto\n",
      "-----------prueba_IncResNet_fine-03_batch-8_lr-001_auc-87-------------\n",
      "guardaro el normal\n",
      "error en el resto\n",
      "-----------prueba_mask_Xception_fine-00_batch-8_lr-001_auc-89-------------\n",
      "guardaro el normal\n",
      "error en el resto\n",
      "-----------prueba_mask_EffNet3_fine-05_batch-8_lr--05_auc-84-------------\n",
      "guardaro el normal\n",
      "error en el resto\n",
      "-----------prueba_mask_Xception_fine-07_batch-8_lr-001_auc-93-------------\n",
      "guardaro el normal\n",
      "error en el resto\n",
      "-----------prueba_EffNet3_fine-08_batch-8_lr-001_auc-56-------------\n",
      "guardaro el normal\n",
      "error en el resto\n",
      "-----------prueba_EffNet3_fine-00_batch-8_lr-001_auc-51-------------\n",
      "guardaro el normal\n",
      "error en el resto\n",
      "-----------prueba_IncResNet_fine-05_batch-8_lr--05_auc-83-------------\n",
      "guardaro el normal\n",
      "error en el resto\n",
      "-----------prueba_Xception_fine-05_batch-8_lr-001_auc-90-------------\n",
      "guardaro el normal\n",
      "error en el resto\n",
      "-----------prueba_mask_IncResNet_fine-05_batch-8_lr--05_auc-85-------------\n",
      "guardaro el normal\n",
      "error en el resto\n",
      "-----------prueba_mask_Xception_fine-03_batch-8_lr-001_auc-91-------------\n",
      "guardaro el normal\n",
      "error en el resto\n",
      "-----------prueba_EffNet3_fine-00_batch-8_lr-0001_auc-84-------------\n",
      "guardaro el normal\n",
      "error en el resto\n",
      "-----------prueba_Xception_fine-08_batch-8_lr-001_auc-92-------------\n",
      "guardaro el normal\n",
      "error en el resto\n",
      "-----------prueba_mask_IncResNet_fine-05_batch-8_lr-001_auc-90-------------\n",
      "guardaro el normal\n",
      "error en el resto\n",
      "-----------prueba_mask_IncResNet_fine-03_batch-8_lr--05_auc-89-------------\n",
      "guardaro el normal\n",
      "error en el resto\n",
      "-----------prueba_Xception_fine-03_batch-8_lr-001_auc-93-------------\n",
      "guardaro el normal\n",
      "error en el resto\n",
      "-----------prueba_mask_EffNet3_fine-00_batch-8_lr-001_auc-53-------------\n",
      "guardaro el normal\n",
      "error en el resto\n",
      "-----------prueba_Xception_fine-00_batch-8_lr-001_auc-91-------------\n",
      "guardaro el normal\n",
      "error en el resto\n",
      "-----------prueba_mask_IncResNet_fine-07_batch-8_lr-001_auc-91-------------\n",
      "guardaro el normal\n",
      "error en el resto\n",
      "-----------prueba_mask_IncResNet_fine-00_batch-8_lr--05_auc-89-------------\n",
      "guardaro el normal\n",
      "error en el resto\n",
      "-----------prueba_IncResNet_fine-08_batch-8_lr--05_auc-84-------------\n",
      "guardaro el normal\n",
      "error en el resto\n"
     ]
    }
   ],
   "source": [
    "for model_name in modelos_a_evaluar_resto:\n",
    "    print(f'-----------{model_name}-------------')\n",
    "    try:\n",
    "        p = os.path.join('/home/mr1142/Documents/Data/models/neumonia/validation_results', model_name)\n",
    "        guardar(p, model_name)\n",
    "        print('guardaro el normal')\n",
    "    except:\n",
    "        print('error en el normal')\n",
    "    try:\n",
    "        p = os.path.join('/home/mr1142/Documents/Data/models/neumonia/validation_results', model_name + '_resto')\n",
    "        guardar(p, model_name+'_resto')\n",
    "        print('guardado el resto')\n",
    "    except:\n",
    "        print('error en el resto')"
   ]
  },
  {
   "cell_type": "code",
   "execution_count": 242,
   "id": "804f136f-be43-498b-b1bd-9e36d7c3e45f",
   "metadata": {},
   "outputs": [
    {
     "data": {
      "text/plain": [
       "144"
      ]
     },
     "execution_count": 242,
     "metadata": {},
     "output_type": "execute_result"
    }
   ],
   "source": [
    "len(df)"
   ]
  },
  {
   "cell_type": "code",
   "execution_count": 216,
   "id": "c5b3e25f-36db-4998-8a5a-f68598fc4a10",
   "metadata": {},
   "outputs": [],
   "source": [
    "# df.to_csv(path, index = False)"
   ]
  },
  {
   "cell_type": "code",
   "execution_count": 218,
   "id": "d5928bcd-0bd0-43c9-aca5-7a01baf67bb6",
   "metadata": {},
   "outputs": [],
   "source": [
    "model_name = 'prueba_mask_Xception_fine-05_batch-8_lr-001_auc-88'"
   ]
  },
  {
   "cell_type": "code",
   "execution_count": 219,
   "id": "72e2b5d1-52aa-4bb8-9ea0-4a1ab41d121d",
   "metadata": {},
   "outputs": [],
   "source": [
    "p = os.path.join('/home/mr1142/Documents/Data/models/neumonia/validation_results', model_name)"
   ]
  },
  {
   "cell_type": "code",
   "execution_count": 220,
   "id": "63d0e066-0e6d-4021-8737-be13de1ea79a",
   "metadata": {},
   "outputs": [
    {
     "data": {
      "text/plain": [
       "['metricas.json',\n",
       " 'pred_rec_plot_0.png',\n",
       " 'auc_plot_0.png',\n",
       " 'pr_re_th_plot_0.png',\n",
       " 'pred_rec_plot_1.png',\n",
       " 'auc_plot_1.png',\n",
       " 'pr_re_th_plot_1.png',\n",
       " 'pred_rec_plot_2.png',\n",
       " 'auc_plot_2.png',\n",
       " 'pr_re_th_plot_2.png',\n",
       " 'class_report.csv']"
      ]
     },
     "execution_count": 220,
     "metadata": {},
     "output_type": "execute_result"
    }
   ],
   "source": [
    "os.listdir(p)"
   ]
  },
  {
   "cell_type": "code",
   "execution_count": 221,
   "id": "0a98fe87-3859-4992-b3db-de6b6e88f7c8",
   "metadata": {},
   "outputs": [
    {
     "ename": "NameError",
     "evalue": "name 'plt' is not defined",
     "output_type": "error",
     "traceback": [
      "\u001b[0;31m---------------------------------------------------------------------------\u001b[0m",
      "\u001b[0;31mNameError\u001b[0m                                 Traceback (most recent call last)",
      "\u001b[0;32m<ipython-input-221-8205032cd861>\u001b[0m in \u001b[0;36m<module>\u001b[0;34m\u001b[0m\n\u001b[1;32m      1\u001b[0m \u001b[0mimg\u001b[0m \u001b[0;34m=\u001b[0m \u001b[0mcv2\u001b[0m\u001b[0;34m.\u001b[0m\u001b[0mimread\u001b[0m\u001b[0;34m(\u001b[0m\u001b[0mos\u001b[0m\u001b[0;34m.\u001b[0m\u001b[0mpath\u001b[0m\u001b[0;34m.\u001b[0m\u001b[0mjoin\u001b[0m\u001b[0;34m(\u001b[0m\u001b[0mp\u001b[0m\u001b[0;34m,\u001b[0m \u001b[0;34m'pr_re_th_plot_0.png'\u001b[0m\u001b[0;34m)\u001b[0m\u001b[0;34m)\u001b[0m\u001b[0;34m\u001b[0m\u001b[0;34m\u001b[0m\u001b[0m\n\u001b[0;32m----> 2\u001b[0;31m \u001b[0mplt\u001b[0m\u001b[0;34m.\u001b[0m\u001b[0mfigure\u001b[0m\u001b[0;34m(\u001b[0m\u001b[0mfigsize\u001b[0m\u001b[0;34m=\u001b[0m\u001b[0;34m(\u001b[0m\u001b[0;36m10\u001b[0m\u001b[0;34m,\u001b[0m\u001b[0;36m10\u001b[0m\u001b[0;34m)\u001b[0m\u001b[0;34m)\u001b[0m\u001b[0;34m\u001b[0m\u001b[0;34m\u001b[0m\u001b[0m\n\u001b[0m\u001b[1;32m      3\u001b[0m \u001b[0mplt\u001b[0m\u001b[0;34m.\u001b[0m\u001b[0mimshow\u001b[0m\u001b[0;34m(\u001b[0m\u001b[0mimg\u001b[0m\u001b[0;34m)\u001b[0m\u001b[0;34m\u001b[0m\u001b[0;34m\u001b[0m\u001b[0m\n",
      "\u001b[0;31mNameError\u001b[0m: name 'plt' is not defined"
     ]
    }
   ],
   "source": [
    "img = cv2.imread(os.path.join(p, 'pr_re_th_plot_0.png'))\n",
    "plt.figure(figsize=(10,10))\n",
    "plt.imshow(img)"
   ]
  },
  {
   "cell_type": "code",
   "execution_count": 222,
   "id": "77bfb7c7-226e-49a8-a629-560d4b632f37",
   "metadata": {},
   "outputs": [
    {
     "ename": "JSONDecodeError",
     "evalue": "Expecting value: line 1 column 363 (char 362)",
     "output_type": "error",
     "traceback": [
      "\u001b[0;31m---------------------------------------------------------------------------\u001b[0m",
      "\u001b[0;31mJSONDecodeError\u001b[0m                           Traceback (most recent call last)",
      "\u001b[0;32m<ipython-input-222-9b2c9edb8283>\u001b[0m in \u001b[0;36m<module>\u001b[0;34m\u001b[0m\n\u001b[1;32m      1\u001b[0m \u001b[0;32mwith\u001b[0m \u001b[0mopen\u001b[0m\u001b[0;34m(\u001b[0m\u001b[0mos\u001b[0m\u001b[0;34m.\u001b[0m\u001b[0mpath\u001b[0m\u001b[0;34m.\u001b[0m\u001b[0mjoin\u001b[0m\u001b[0;34m(\u001b[0m\u001b[0mp\u001b[0m\u001b[0;34m,\u001b[0m \u001b[0;34m'metricas.json'\u001b[0m\u001b[0;34m)\u001b[0m\u001b[0;34m)\u001b[0m \u001b[0;32mas\u001b[0m \u001b[0mjson_file\u001b[0m\u001b[0;34m:\u001b[0m\u001b[0;34m\u001b[0m\u001b[0;34m\u001b[0m\u001b[0m\n\u001b[0;32m----> 2\u001b[0;31m     \u001b[0mdata\u001b[0m \u001b[0;34m=\u001b[0m \u001b[0mjson\u001b[0m\u001b[0;34m.\u001b[0m\u001b[0mload\u001b[0m\u001b[0;34m(\u001b[0m\u001b[0mjson_file\u001b[0m\u001b[0;34m)\u001b[0m\u001b[0;34m\u001b[0m\u001b[0;34m\u001b[0m\u001b[0m\n\u001b[0m\u001b[1;32m      3\u001b[0m \u001b[0mdata\u001b[0m\u001b[0;34m\u001b[0m\u001b[0;34m\u001b[0m\u001b[0m\n",
      "\u001b[0;32m~/miniconda3/envs/init/lib/python3.6/json/__init__.py\u001b[0m in \u001b[0;36mload\u001b[0;34m(fp, cls, object_hook, parse_float, parse_int, parse_constant, object_pairs_hook, **kw)\u001b[0m\n\u001b[1;32m    297\u001b[0m         \u001b[0mcls\u001b[0m\u001b[0;34m=\u001b[0m\u001b[0mcls\u001b[0m\u001b[0;34m,\u001b[0m \u001b[0mobject_hook\u001b[0m\u001b[0;34m=\u001b[0m\u001b[0mobject_hook\u001b[0m\u001b[0;34m,\u001b[0m\u001b[0;34m\u001b[0m\u001b[0;34m\u001b[0m\u001b[0m\n\u001b[1;32m    298\u001b[0m         \u001b[0mparse_float\u001b[0m\u001b[0;34m=\u001b[0m\u001b[0mparse_float\u001b[0m\u001b[0;34m,\u001b[0m \u001b[0mparse_int\u001b[0m\u001b[0;34m=\u001b[0m\u001b[0mparse_int\u001b[0m\u001b[0;34m,\u001b[0m\u001b[0;34m\u001b[0m\u001b[0;34m\u001b[0m\u001b[0m\n\u001b[0;32m--> 299\u001b[0;31m         parse_constant=parse_constant, object_pairs_hook=object_pairs_hook, **kw)\n\u001b[0m\u001b[1;32m    300\u001b[0m \u001b[0;34m\u001b[0m\u001b[0m\n\u001b[1;32m    301\u001b[0m \u001b[0;34m\u001b[0m\u001b[0m\n",
      "\u001b[0;32m~/miniconda3/envs/init/lib/python3.6/json/__init__.py\u001b[0m in \u001b[0;36mloads\u001b[0;34m(s, encoding, cls, object_hook, parse_float, parse_int, parse_constant, object_pairs_hook, **kw)\u001b[0m\n\u001b[1;32m    352\u001b[0m             \u001b[0mparse_int\u001b[0m \u001b[0;32mis\u001b[0m \u001b[0;32mNone\u001b[0m \u001b[0;32mand\u001b[0m \u001b[0mparse_float\u001b[0m \u001b[0;32mis\u001b[0m \u001b[0;32mNone\u001b[0m \u001b[0;32mand\u001b[0m\u001b[0;34m\u001b[0m\u001b[0;34m\u001b[0m\u001b[0m\n\u001b[1;32m    353\u001b[0m             parse_constant is None and object_pairs_hook is None and not kw):\n\u001b[0;32m--> 354\u001b[0;31m         \u001b[0;32mreturn\u001b[0m \u001b[0m_default_decoder\u001b[0m\u001b[0;34m.\u001b[0m\u001b[0mdecode\u001b[0m\u001b[0;34m(\u001b[0m\u001b[0ms\u001b[0m\u001b[0;34m)\u001b[0m\u001b[0;34m\u001b[0m\u001b[0;34m\u001b[0m\u001b[0m\n\u001b[0m\u001b[1;32m    355\u001b[0m     \u001b[0;32mif\u001b[0m \u001b[0mcls\u001b[0m \u001b[0;32mis\u001b[0m \u001b[0;32mNone\u001b[0m\u001b[0;34m:\u001b[0m\u001b[0;34m\u001b[0m\u001b[0;34m\u001b[0m\u001b[0m\n\u001b[1;32m    356\u001b[0m         \u001b[0mcls\u001b[0m \u001b[0;34m=\u001b[0m \u001b[0mJSONDecoder\u001b[0m\u001b[0;34m\u001b[0m\u001b[0;34m\u001b[0m\u001b[0m\n",
      "\u001b[0;32m~/miniconda3/envs/init/lib/python3.6/json/decoder.py\u001b[0m in \u001b[0;36mdecode\u001b[0;34m(self, s, _w)\u001b[0m\n\u001b[1;32m    337\u001b[0m \u001b[0;34m\u001b[0m\u001b[0m\n\u001b[1;32m    338\u001b[0m         \"\"\"\n\u001b[0;32m--> 339\u001b[0;31m         \u001b[0mobj\u001b[0m\u001b[0;34m,\u001b[0m \u001b[0mend\u001b[0m \u001b[0;34m=\u001b[0m \u001b[0mself\u001b[0m\u001b[0;34m.\u001b[0m\u001b[0mraw_decode\u001b[0m\u001b[0;34m(\u001b[0m\u001b[0ms\u001b[0m\u001b[0;34m,\u001b[0m \u001b[0midx\u001b[0m\u001b[0;34m=\u001b[0m\u001b[0m_w\u001b[0m\u001b[0;34m(\u001b[0m\u001b[0ms\u001b[0m\u001b[0;34m,\u001b[0m \u001b[0;36m0\u001b[0m\u001b[0;34m)\u001b[0m\u001b[0;34m.\u001b[0m\u001b[0mend\u001b[0m\u001b[0;34m(\u001b[0m\u001b[0;34m)\u001b[0m\u001b[0;34m)\u001b[0m\u001b[0;34m\u001b[0m\u001b[0;34m\u001b[0m\u001b[0m\n\u001b[0m\u001b[1;32m    340\u001b[0m         \u001b[0mend\u001b[0m \u001b[0;34m=\u001b[0m \u001b[0m_w\u001b[0m\u001b[0;34m(\u001b[0m\u001b[0ms\u001b[0m\u001b[0;34m,\u001b[0m \u001b[0mend\u001b[0m\u001b[0;34m)\u001b[0m\u001b[0;34m.\u001b[0m\u001b[0mend\u001b[0m\u001b[0;34m(\u001b[0m\u001b[0;34m)\u001b[0m\u001b[0;34m\u001b[0m\u001b[0;34m\u001b[0m\u001b[0m\n\u001b[1;32m    341\u001b[0m         \u001b[0;32mif\u001b[0m \u001b[0mend\u001b[0m \u001b[0;34m!=\u001b[0m \u001b[0mlen\u001b[0m\u001b[0;34m(\u001b[0m\u001b[0ms\u001b[0m\u001b[0;34m)\u001b[0m\u001b[0;34m:\u001b[0m\u001b[0;34m\u001b[0m\u001b[0;34m\u001b[0m\u001b[0m\n",
      "\u001b[0;32m~/miniconda3/envs/init/lib/python3.6/json/decoder.py\u001b[0m in \u001b[0;36mraw_decode\u001b[0;34m(self, s, idx)\u001b[0m\n\u001b[1;32m    355\u001b[0m             \u001b[0mobj\u001b[0m\u001b[0;34m,\u001b[0m \u001b[0mend\u001b[0m \u001b[0;34m=\u001b[0m \u001b[0mself\u001b[0m\u001b[0;34m.\u001b[0m\u001b[0mscan_once\u001b[0m\u001b[0;34m(\u001b[0m\u001b[0ms\u001b[0m\u001b[0;34m,\u001b[0m \u001b[0midx\u001b[0m\u001b[0;34m)\u001b[0m\u001b[0;34m\u001b[0m\u001b[0;34m\u001b[0m\u001b[0m\n\u001b[1;32m    356\u001b[0m         \u001b[0;32mexcept\u001b[0m \u001b[0mStopIteration\u001b[0m \u001b[0;32mas\u001b[0m \u001b[0merr\u001b[0m\u001b[0;34m:\u001b[0m\u001b[0;34m\u001b[0m\u001b[0;34m\u001b[0m\u001b[0m\n\u001b[0;32m--> 357\u001b[0;31m             \u001b[0;32mraise\u001b[0m \u001b[0mJSONDecodeError\u001b[0m\u001b[0;34m(\u001b[0m\u001b[0;34m\"Expecting value\"\u001b[0m\u001b[0;34m,\u001b[0m \u001b[0ms\u001b[0m\u001b[0;34m,\u001b[0m \u001b[0merr\u001b[0m\u001b[0;34m.\u001b[0m\u001b[0mvalue\u001b[0m\u001b[0;34m)\u001b[0m \u001b[0;32mfrom\u001b[0m \u001b[0;32mNone\u001b[0m\u001b[0;34m\u001b[0m\u001b[0;34m\u001b[0m\u001b[0m\n\u001b[0m\u001b[1;32m    358\u001b[0m         \u001b[0;32mreturn\u001b[0m \u001b[0mobj\u001b[0m\u001b[0;34m,\u001b[0m \u001b[0mend\u001b[0m\u001b[0;34m\u001b[0m\u001b[0;34m\u001b[0m\u001b[0m\n",
      "\u001b[0;31mJSONDecodeError\u001b[0m: Expecting value: line 1 column 363 (char 362)"
     ]
    }
   ],
   "source": [
    "with open(os.path.join(p, 'metricas.json')) as json_file:\n",
    "    data = json.load(json_file)\n",
    "data"
   ]
  },
  {
   "cell_type": "code",
   "execution_count": 294,
   "id": "0b89cc70-2ef0-4fec-afab-1709d8aae4eb",
   "metadata": {},
   "outputs": [],
   "source": [
    "# list(set(modelos_evaluados)-set(modelos))"
   ]
  },
  {
   "cell_type": "code",
   "execution_count": 183,
   "id": "b64606a0-8ec8-46f4-b0cd-9f38341eb046",
   "metadata": {},
   "outputs": [
    {
     "data": {
      "text/plain": [
       "[]"
      ]
     },
     "execution_count": 183,
     "metadata": {},
     "output_type": "execute_result"
    }
   ],
   "source": [
    "modelos_train = set(df_train['name'])\n",
    "list(set(modelos_train)-set(modelos_evaluados))"
   ]
  },
  {
   "cell_type": "code",
   "execution_count": 184,
   "id": "fd8576b0-d0a5-484e-9b9d-debac8ee928c",
   "metadata": {},
   "outputs": [
    {
     "data": {
      "text/plain": [
       "24"
      ]
     },
     "execution_count": 184,
     "metadata": {},
     "output_type": "execute_result"
    }
   ],
   "source": [
    "modelos_a_evaluar_resto = list(set(modelos)-set(modelos_evaluados_resto))\n",
    "len(modelos_a_evaluar_resto)"
   ]
  },
  {
   "cell_type": "code",
   "execution_count": 77,
   "id": "023e401d-7d03-45d0-a0fd-378e4d241254",
   "metadata": {},
   "outputs": [],
   "source": [
    "subname = ''"
   ]
  },
  {
   "cell_type": "code",
   "execution_count": 79,
   "id": "e736ec4b-9f04-4605-9343-9c3ee231a175",
   "metadata": {},
   "outputs": [],
   "source": [
    "p = '/home/mr1142/Documents/Data/models/neumonia/validation_results'\n",
    "df = pd.read_csv(os.path.join(p, 'prediction_validation_metrics' + subname + '.csv'))"
   ]
  },
  {
   "cell_type": "code",
   "execution_count": 81,
   "id": "458afcbd-813e-4a06-b0ce-65d342dda22d",
   "metadata": {},
   "outputs": [
    {
     "data": {
      "text/plain": [
       "'/home/mr1142/Documents/Data/models/neumonia/validation_results/prediction_validation_metrics.csv'"
      ]
     },
     "execution_count": 81,
     "metadata": {},
     "output_type": "execute_result"
    }
   ],
   "source": [
    "os.path.join(p, 'prediction_validation_metrics' + subname + '.csv')"
   ]
  },
  {
   "cell_type": "code",
   "execution_count": null,
   "id": "503d54d0-e73a-473a-afd1-38af05b49d3c",
   "metadata": {},
   "outputs": [],
   "source": []
  }
 ],
 "metadata": {
  "kernelspec": {
   "display_name": "Python 3",
   "language": "python",
   "name": "python3"
  },
  "language_info": {
   "codemirror_mode": {
    "name": "ipython",
    "version": 3
   },
   "file_extension": ".py",
   "mimetype": "text/x-python",
   "name": "python",
   "nbconvert_exporter": "python",
   "pygments_lexer": "ipython3",
   "version": "3.6.8"
  }
 },
 "nbformat": 4,
 "nbformat_minor": 5
}
