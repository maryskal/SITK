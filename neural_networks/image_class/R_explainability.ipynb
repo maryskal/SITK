{
 "cells": [
  {
   "cell_type": "code",
   "execution_count": 1,
   "id": "90af0725-e0cc-4b88-9ac3-49155f36edfd",
   "metadata": {},
   "outputs": [],
   "source": [
    "df <- read.csv('/home/mr1142/Documents/Data/heatmaps/comparation.csv')"
   ]
  },
  {
   "cell_type": "code",
   "execution_count": 6,
   "id": "62014725-3362-418c-bb48-65d72793fbb2",
   "metadata": {},
   "outputs": [
    {
     "data": {
      "text/plain": [
       "\n",
       "\tF test to compare two variances\n",
       "\n",
       "data:  df$mask and df$no.mask\n",
       "F = 0.13969, num df = 5358, denom df = 5358, p-value < 2.2e-16\n",
       "alternative hypothesis: true ratio of variances is not equal to 1\n",
       "95 percent confidence interval:\n",
       " 0.1324011 0.1473707\n",
       "sample estimates:\n",
       "ratio of variances \n",
       "         0.1396855 \n"
      ]
     },
     "metadata": {},
     "output_type": "display_data"
    }
   ],
   "source": [
    "var.test(df$mask, df$no.mask)"
   ]
  },
  {
   "cell_type": "code",
   "execution_count": 12,
   "id": "6cf5c9fb-d267-4d8a-8cef-44e7bd6768ec",
   "metadata": {},
   "outputs": [
    {
     "data": {
      "text/plain": [
       "\n",
       "\tOne Sample t-test\n",
       "\n",
       "data:  df$mask\n",
       "t = 58.258, df = 5358, p-value < 2.2e-16\n",
       "alternative hypothesis: true mean is not equal to 0\n",
       "95 percent confidence interval:\n",
       " 0.02439266 0.02609149\n",
       "sample estimates:\n",
       " mean of x \n",
       "0.02524207 \n"
      ]
     },
     "metadata": {},
     "output_type": "display_data"
    }
   ],
   "source": [
    "t.test(df$mask)"
   ]
  },
  {
   "cell_type": "code",
   "execution_count": 13,
   "id": "a5233cbe-66a3-4fc0-9995-c2ac8d7301ea",
   "metadata": {},
   "outputs": [
    {
     "data": {
      "text/plain": [
       "\n",
       "\tOne Sample t-test\n",
       "\n",
       "data:  df$no.mask\n",
       "t = 88.13, df = 5358, p-value < 2.2e-16\n",
       "alternative hypothesis: true mean is not equal to 0\n",
       "95 percent confidence interval:\n",
       " 0.09989698 0.10444240\n",
       "sample estimates:\n",
       "mean of x \n",
       "0.1021697 \n"
      ]
     },
     "metadata": {},
     "output_type": "display_data"
    }
   ],
   "source": [
    "t.test(df$no.mask)"
   ]
  },
  {
   "cell_type": "code",
   "execution_count": 11,
   "id": "eef25fc9-160f-4881-8e3d-5a73fd28e7fe",
   "metadata": {},
   "outputs": [
    {
     "data": {
      "text/plain": [
       "\n",
       "\tWelch Two Sample t-test\n",
       "\n",
       "data:  df$mask and df$no.mask\n",
       "t = -62.157, df = 6826.2, p-value < 2.2e-16\n",
       "alternative hypothesis: true difference in means is not equal to 0\n",
       "95 percent confidence interval:\n",
       " -0.07935375 -0.07450148\n",
       "sample estimates:\n",
       " mean of x  mean of y \n",
       "0.02524207 0.10216969 \n"
      ]
     },
     "metadata": {},
     "output_type": "display_data"
    }
   ],
   "source": [
    "t.test(df$mask, df$no.mask)"
   ]
  },
  {
   "cell_type": "code",
   "execution_count": null,
   "id": "dc540cf5-5bba-48c2-a7c6-87eb70ca8f3a",
   "metadata": {},
   "outputs": [],
   "source": []
  }
 ],
 "metadata": {
  "kernelspec": {
   "display_name": "R",
   "language": "R",
   "name": "ir"
  },
  "language_info": {
   "codemirror_mode": "r",
   "file_extension": ".r",
   "mimetype": "text/x-r-source",
   "name": "R",
   "pygments_lexer": "r",
   "version": "4.1.3"
  }
 },
 "nbformat": 4,
 "nbformat_minor": 5
}
