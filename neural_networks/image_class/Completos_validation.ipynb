{
 "cells": [
  {
   "cell_type": "code",
   "execution_count": 34,
   "id": "aae39819-bcdf-4ee7-960e-0730e915f706",
   "metadata": {
    "tags": []
   },
   "outputs": [],
   "source": [
    "import pandas as pd\n",
    "import numpy as np\n",
    "import os\n",
    "import re\n",
    "import matplotlib.pyplot as plt\n",
    "import seaborn as sns"
   ]
  },
  {
   "cell_type": "code",
   "execution_count": 35,
   "id": "7607f877-5db2-4d2e-a207-b3ea8f62ca12",
   "metadata": {},
   "outputs": [],
   "source": [
    "p = '/home/mr1142/Documents/Data/models/neumonia'\n",
    "modelos = os.listdir(p)\n",
    "modelos = [modelo[:-3] for modelo in modelos if os.path.isfile(os.path.join(p, modelo))]\n",
    "modelos = [modelo for modelo in modelos if bool(re.search('DEFINITIVO', modelo))]"
   ]
  },
  {
   "cell_type": "code",
   "execution_count": 36,
   "id": "ea9bf433-a7f2-4fd3-8e82-5415c4281e77",
   "metadata": {},
   "outputs": [
    {
     "data": {
      "text/plain": [
       "['DEFINITIVO_1_Xception_fine-04_batch-8_lr-0001_auc-99',\n",
       " 'DEFINITIVO_1_mask_Xception_fine-04_batch-8_lr-0001_auc-99',\n",
       " 'DEFINITIVO_2_Xception_fine-04_batch-8_lr-0001_auc-99',\n",
       " 'DEFINITIVO_6_Xception_fine-04_batch-8_lr-0001_auc-99',\n",
       " 'DEFINITIVO_2_mask_Xception_fine-04_batch-8_lr-0001_auc-99',\n",
       " 'DEFINITIVO_7_Xception_fine-04_batch-8_lr-0001_auc-99',\n",
       " 'DEFINITIVO_2_05_Xception_fine-05_batch-8_lr-0001_auc-99',\n",
       " 'DEFINITIVO_5_Xception_fine-04_batch-8_lr-0001_auc-99',\n",
       " 'DEFINITIVO_6_mask_05_Xception_fine-05_batch-8_lr-0001_auc-99',\n",
       " 'DEFINITIVO_7_05_Xception_fine-05_batch-8_lr-0001_auc-99',\n",
       " 'DEFINITIVO_5_mask_Xception_fine-04_batch-8_lr-0001_auc-99',\n",
       " 'DEFINITIVO_3_05_Xception_fine-05_batch-8_lr-0001_auc-99',\n",
       " 'DEFINITIVO_3_mask_05_Xception_fine-05_batch-8_lr-0001_auc-99',\n",
       " 'DEFINITIVO_7_mask_Xception_fine-04_batch-8_lr-0001_auc-99',\n",
       " 'DEFINITIVO_5_05_Xception_fine-05_batch-8_lr-0001_auc-99',\n",
       " 'DEFINITIVO_4_mask_05_Xception_fine-05_batch-8_lr-0001_auc-99',\n",
       " 'DEFINITIVO_5_mask_05_Xception_fine-05_batch-8_lr-0001_auc-99',\n",
       " 'DEFINITIVO_3_Xception_fine-04_batch-8_lr-0001_auc-99',\n",
       " 'DEFINITIVO_4_05_Xception_fine-05_batch-8_lr-0001_auc-99',\n",
       " 'DEFINITIVO_1_05_Xception_fine-05_batch-8_lr-0001_auc-99',\n",
       " 'DEFINITIVO_6_mask_Xception_fine-04_batch-8_lr-0001_auc-99',\n",
       " 'DEFINITIVO_6_05_Xception_fine-05_batch-8_lr-0001_auc-99',\n",
       " 'DEFINITIVO_1_mask_05_Xception_fine-05_batch-8_lr-0001_auc-99',\n",
       " 'DEFINITIVO_3_mask_Xception_fine-04_batch-8_lr-0001_auc-99',\n",
       " 'DEFINITIVO_4_Xception_fine-04_batch-8_lr-0001_auc-99',\n",
       " 'DEFINITIVO_2_mask_05_Xception_fine-05_batch-8_lr-0001_auc-99',\n",
       " 'DEFINITIVO_4_mask_Xception_fine-04_batch-8_lr-0001_auc-99',\n",
       " 'DEFINITIVO_7_mask_05_Xception_fine-05_batch-8_lr-0001_auc-99']"
      ]
     },
     "execution_count": 36,
     "metadata": {},
     "output_type": "execute_result"
    }
   ],
   "source": [
    "modelos"
   ]
  },
  {
   "cell_type": "markdown",
   "id": "4b3b6a37-07c1-4fc2-988b-958c8732222c",
   "metadata": {},
   "source": [
    "# COMPLETOS"
   ]
  },
  {
   "cell_type": "markdown",
   "id": "809de0a7-4e09-498f-af0e-075864e4ad5c",
   "metadata": {},
   "source": [
    "## TEST"
   ]
  },
  {
   "cell_type": "code",
   "execution_count": 97,
   "id": "baf2880c-6ed2-4a00-bb7f-b9adbec3e9b4",
   "metadata": {},
   "outputs": [],
   "source": [
    "path = '/home/mr1142/Documents/Data/models/neumonia/validation_results/image_class_evaluation_completo.csv'\n",
    "df_test = pd.read_csv(path)"
   ]
  },
  {
   "cell_type": "code",
   "execution_count": 98,
   "id": "ed7c5345-6bdf-46c8-a4d4-99b889730ec6",
   "metadata": {},
   "outputs": [],
   "source": [
    "ix = [i for i in df_test.index if bool(re.search('validation', df_test.nombre.iloc[i]))]\n",
    "df_test = df_test.iloc[ix]"
   ]
  },
  {
   "cell_type": "code",
   "execution_count": 99,
   "id": "a318f33c-ec3c-47d7-a8bc-d3cd1988757d",
   "metadata": {},
   "outputs": [
    {
     "data": {
      "text/plain": [
       "29    DEFINITIVO_1_05_Xception_fine-05_batch-8_lr-00...\n",
       "30    DEFINITIVO_2_mask_Xception_fine-04_batch-8_lr-...\n",
       "Name: nombre, dtype: object"
      ]
     },
     "execution_count": 99,
     "metadata": {},
     "output_type": "execute_result"
    }
   ],
   "source": [
    "df_test.nombre"
   ]
  },
  {
   "cell_type": "code",
   "execution_count": 100,
   "id": "d7d792c2-2bda-424d-93e5-3f2821760df3",
   "metadata": {},
   "outputs": [
    {
     "data": {
      "text/html": [
       "<div>\n",
       "<style scoped>\n",
       "    .dataframe tbody tr th:only-of-type {\n",
       "        vertical-align: middle;\n",
       "    }\n",
       "\n",
       "    .dataframe tbody tr th {\n",
       "        vertical-align: top;\n",
       "    }\n",
       "\n",
       "    .dataframe thead th {\n",
       "        text-align: right;\n",
       "    }\n",
       "</style>\n",
       "<table border=\"1\" class=\"dataframe\">\n",
       "  <thead>\n",
       "    <tr style=\"text-align: right;\">\n",
       "      <th></th>\n",
       "      <th>nombre</th>\n",
       "      <th>loss</th>\n",
       "      <th>binary_accuracy</th>\n",
       "      <th>precision</th>\n",
       "      <th>auc</th>\n",
       "    </tr>\n",
       "  </thead>\n",
       "  <tbody>\n",
       "    <tr>\n",
       "      <th>30</th>\n",
       "      <td>DEFINITIVO_2_mask_Xception_fine-04_batch-8_lr-...</td>\n",
       "      <td>2.572429</td>\n",
       "      <td>0.830518</td>\n",
       "      <td>0.746025</td>\n",
       "      <td>0.842653</td>\n",
       "    </tr>\n",
       "    <tr>\n",
       "      <th>29</th>\n",
       "      <td>DEFINITIVO_1_05_Xception_fine-05_batch-8_lr-00...</td>\n",
       "      <td>1.139059</td>\n",
       "      <td>0.869103</td>\n",
       "      <td>0.804125</td>\n",
       "      <td>0.901440</td>\n",
       "    </tr>\n",
       "  </tbody>\n",
       "</table>\n",
       "</div>"
      ],
      "text/plain": [
       "                                               nombre      loss  \\\n",
       "30  DEFINITIVO_2_mask_Xception_fine-04_batch-8_lr-...  2.572429   \n",
       "29  DEFINITIVO_1_05_Xception_fine-05_batch-8_lr-00...  1.139059   \n",
       "\n",
       "    binary_accuracy  precision       auc  \n",
       "30         0.830518   0.746025  0.842653  \n",
       "29         0.869103   0.804125  0.901440  "
      ]
     },
     "execution_count": 100,
     "metadata": {},
     "output_type": "execute_result"
    }
   ],
   "source": [
    "df_test.sort_values('auc')"
   ]
  },
  {
   "cell_type": "code",
   "execution_count": 101,
   "id": "5be2e73f-1849-425f-b300-adb5b14de1f4",
   "metadata": {},
   "outputs": [],
   "source": [
    "modelos_evaluados = [model[:-4] for model in df_test.nombre]"
   ]
  },
  {
   "cell_type": "code",
   "execution_count": 102,
   "id": "73976d0a-9c2a-4bc4-9276-76eba06307f2",
   "metadata": {},
   "outputs": [
    {
     "data": {
      "text/plain": [
       "['DEFINITIVO_1_05_Xception_fine-05_batch-8_lr-0001_auc-99_valida',\n",
       " 'DEFINITIVO_2_mask_Xception_fine-04_batch-8_lr-0001_auc-99_valida']"
      ]
     },
     "execution_count": 102,
     "metadata": {},
     "output_type": "execute_result"
    }
   ],
   "source": [
    "evaluados_de_mas = list(set(modelos_evaluados)-set(modelos))\n",
    "ix = [i for i in df_test.index if df_test.nombre[i][:-4] in evaluados_de_mas]\n",
    "evaluados_de_mas"
   ]
  },
  {
   "cell_type": "code",
   "execution_count": 103,
   "id": "7c41e4a6-781e-4bbe-b056-2201bc22185b",
   "metadata": {},
   "outputs": [
    {
     "data": {
      "text/plain": [
       "['DEFINITIVO_3_mask_Xception_fine-04_batch-8_lr-0001_auc-99',\n",
       " 'DEFINITIVO_6_Xception_fine-04_batch-8_lr-0001_auc-99',\n",
       " 'DEFINITIVO_4_Xception_fine-04_batch-8_lr-0001_auc-99',\n",
       " 'DEFINITIVO_2_Xception_fine-04_batch-8_lr-0001_auc-99',\n",
       " 'DEFINITIVO_1_mask_Xception_fine-04_batch-8_lr-0001_auc-99',\n",
       " 'DEFINITIVO_3_05_Xception_fine-05_batch-8_lr-0001_auc-99',\n",
       " 'DEFINITIVO_5_05_Xception_fine-05_batch-8_lr-0001_auc-99',\n",
       " 'DEFINITIVO_6_mask_Xception_fine-04_batch-8_lr-0001_auc-99',\n",
       " 'DEFINITIVO_7_05_Xception_fine-05_batch-8_lr-0001_auc-99',\n",
       " 'DEFINITIVO_1_mask_05_Xception_fine-05_batch-8_lr-0001_auc-99',\n",
       " 'DEFINITIVO_3_mask_05_Xception_fine-05_batch-8_lr-0001_auc-99',\n",
       " 'DEFINITIVO_4_mask_Xception_fine-04_batch-8_lr-0001_auc-99',\n",
       " 'DEFINITIVO_1_Xception_fine-04_batch-8_lr-0001_auc-99',\n",
       " 'DEFINITIVO_7_Xception_fine-04_batch-8_lr-0001_auc-99',\n",
       " 'DEFINITIVO_7_mask_Xception_fine-04_batch-8_lr-0001_auc-99',\n",
       " 'DEFINITIVO_6_mask_05_Xception_fine-05_batch-8_lr-0001_auc-99',\n",
       " 'DEFINITIVO_5_mask_05_Xception_fine-05_batch-8_lr-0001_auc-99',\n",
       " 'DEFINITIVO_2_05_Xception_fine-05_batch-8_lr-0001_auc-99',\n",
       " 'DEFINITIVO_2_mask_05_Xception_fine-05_batch-8_lr-0001_auc-99',\n",
       " 'DEFINITIVO_5_Xception_fine-04_batch-8_lr-0001_auc-99',\n",
       " 'DEFINITIVO_3_Xception_fine-04_batch-8_lr-0001_auc-99',\n",
       " 'DEFINITIVO_2_mask_Xception_fine-04_batch-8_lr-0001_auc-99',\n",
       " 'DEFINITIVO_1_05_Xception_fine-05_batch-8_lr-0001_auc-99',\n",
       " 'DEFINITIVO_5_mask_Xception_fine-04_batch-8_lr-0001_auc-99',\n",
       " 'DEFINITIVO_4_mask_05_Xception_fine-05_batch-8_lr-0001_auc-99',\n",
       " 'DEFINITIVO_4_05_Xception_fine-05_batch-8_lr-0001_auc-99',\n",
       " 'DEFINITIVO_7_mask_05_Xception_fine-05_batch-8_lr-0001_auc-99',\n",
       " 'DEFINITIVO_6_05_Xception_fine-05_batch-8_lr-0001_auc-99']"
      ]
     },
     "execution_count": 103,
     "metadata": {},
     "output_type": "execute_result"
    }
   ],
   "source": [
    "evaluados_de_menos = list(set(modelos)-set(modelos_evaluados))\n",
    "evaluados_de_menos"
   ]
  },
  {
   "cell_type": "code",
   "execution_count": 104,
   "id": "ffa925ae-dce1-45f0-a4e3-ed4522f85c2c",
   "metadata": {},
   "outputs": [],
   "source": [
    "# df_test = df_test.drop(ix)\n",
    "# df_test.to_csv(path, index = False)"
   ]
  },
  {
   "cell_type": "markdown",
   "id": "770dee1b-5f7d-4772-851d-c29cb60f7d4f",
   "metadata": {},
   "source": [
    "## PREDICTION"
   ]
  },
  {
   "cell_type": "code",
   "execution_count": 116,
   "id": "57b2cbbc-ea81-496b-a212-1f5ee9e9b283",
   "metadata": {},
   "outputs": [],
   "source": [
    "path = '/home/mr1142/Documents/Data/models/neumonia/validation_results/prediction_validation_metrics_completo.csv'\n",
    "df = pd.read_csv(path)"
   ]
  },
  {
   "cell_type": "code",
   "execution_count": 117,
   "id": "710daad8-4afa-47a9-be78-94a5acaf012e",
   "metadata": {},
   "outputs": [],
   "source": [
    "ix = [i for i in df.index if bool(re.search('validation', df.name.iloc[i]))]\n",
    "df = df.iloc[ix]"
   ]
  },
  {
   "cell_type": "code",
   "execution_count": 118,
   "id": "5570506a-c3e7-40c7-8d88-55f2231356e5",
   "metadata": {},
   "outputs": [],
   "source": [
    "df['auc_mean'] = (df.auc_0 + df.auc_1 + df.auc_2)/3\n",
    "df['f1_score_mean'] = (df.f1_score_0 + df.f1_score_1 + df.f1_score_2)/3"
   ]
  },
  {
   "cell_type": "code",
   "execution_count": 119,
   "id": "12a2ec26-14a3-45cd-9e6c-ebbe93d331b6",
   "metadata": {},
   "outputs": [
    {
     "data": {
      "text/plain": [
       "Index(['name', 'auc_0', 'younden_0', 'pr_max_0', 'pr_cut_0', 'auc_1',\n",
       "       'younden_1', 'pr_max_1', 'pr_cut_1', 'auc_2', 'younden_2', 'pr_max_2',\n",
       "       'pr_cut_2', 'f1_score_0', 'precision_score_0', 'recall_score_0',\n",
       "       'accuracy_score_0', 'f1_score_1', 'precision_score_1', 'recall_score_1',\n",
       "       'accuracy_score_1', 'f1_score_2', 'precision_score_2', 'recall_score_2',\n",
       "       'accuracy_score_2', 'f1_score[0, 1]', 'precision_score[0, 1]',\n",
       "       'recall_score[0, 1]', 'accuracy_score[0, 1]', 'f1_score[0, 2]',\n",
       "       'precision_score[0, 2]', 'recall_score[0, 2]', 'accuracy_score[0, 2]',\n",
       "       'f1_score[1, 2]', 'precision_score[1, 2]', 'recall_score[1, 2]',\n",
       "       'accuracy_score[1, 2]', 'auc_mean', 'f1_score_mean'],\n",
       "      dtype='object')"
      ]
     },
     "execution_count": 119,
     "metadata": {},
     "output_type": "execute_result"
    }
   ],
   "source": [
    "df.columns"
   ]
  },
  {
   "cell_type": "code",
   "execution_count": 120,
   "id": "548a81cf-2a04-43a6-bddd-ae2ba3c9ca9c",
   "metadata": {},
   "outputs": [
    {
     "data": {
      "text/html": [
       "<div>\n",
       "<style scoped>\n",
       "    .dataframe tbody tr th:only-of-type {\n",
       "        vertical-align: middle;\n",
       "    }\n",
       "\n",
       "    .dataframe tbody tr th {\n",
       "        vertical-align: top;\n",
       "    }\n",
       "\n",
       "    .dataframe thead th {\n",
       "        text-align: right;\n",
       "    }\n",
       "</style>\n",
       "<table border=\"1\" class=\"dataframe\">\n",
       "  <thead>\n",
       "    <tr style=\"text-align: right;\">\n",
       "      <th></th>\n",
       "      <th>name</th>\n",
       "      <th>auc_0</th>\n",
       "      <th>younden_0</th>\n",
       "      <th>pr_max_0</th>\n",
       "      <th>pr_cut_0</th>\n",
       "      <th>auc_1</th>\n",
       "      <th>younden_1</th>\n",
       "      <th>pr_max_1</th>\n",
       "      <th>pr_cut_1</th>\n",
       "      <th>auc_2</th>\n",
       "      <th>...</th>\n",
       "      <th>f1_score[0, 2]</th>\n",
       "      <th>precision_score[0, 2]</th>\n",
       "      <th>recall_score[0, 2]</th>\n",
       "      <th>accuracy_score[0, 2]</th>\n",
       "      <th>f1_score[1, 2]</th>\n",
       "      <th>precision_score[1, 2]</th>\n",
       "      <th>recall_score[1, 2]</th>\n",
       "      <th>accuracy_score[1, 2]</th>\n",
       "      <th>auc_mean</th>\n",
       "      <th>f1_score_mean</th>\n",
       "    </tr>\n",
       "  </thead>\n",
       "  <tbody>\n",
       "    <tr>\n",
       "      <th>29</th>\n",
       "      <td>DEFINITIVO_1_05_Xception_fine-05_batch-8_lr-00...</td>\n",
       "      <td>0.973895</td>\n",
       "      <td>0.971330</td>\n",
       "      <td>0.971330</td>\n",
       "      <td>0</td>\n",
       "      <td>0.899713</td>\n",
       "      <td>2.865476e-02</td>\n",
       "      <td>1.656092e-02</td>\n",
       "      <td>0</td>\n",
       "      <td>0.906269</td>\n",
       "      <td>...</td>\n",
       "      <td>0.871319</td>\n",
       "      <td>0.869179</td>\n",
       "      <td>0.876237</td>\n",
       "      <td>0.876237</td>\n",
       "      <td>0.859977</td>\n",
       "      <td>0.893798</td>\n",
       "      <td>0.883034</td>\n",
       "      <td>0.883034</td>\n",
       "      <td>0.926626</td>\n",
       "      <td>0.860706</td>\n",
       "    </tr>\n",
       "    <tr>\n",
       "      <th>30</th>\n",
       "      <td>DEFINITIVO_2_mask_Xception_fine-04_batch-8_lr-...</td>\n",
       "      <td>0.946958</td>\n",
       "      <td>0.999999</td>\n",
       "      <td>0.999996</td>\n",
       "      <td>0</td>\n",
       "      <td>0.864387</td>\n",
       "      <td>3.376220e-07</td>\n",
       "      <td>2.272205e-08</td>\n",
       "      <td>0</td>\n",
       "      <td>0.901614</td>\n",
       "      <td>...</td>\n",
       "      <td>0.822720</td>\n",
       "      <td>0.841191</td>\n",
       "      <td>0.811966</td>\n",
       "      <td>0.811966</td>\n",
       "      <td>0.726398</td>\n",
       "      <td>0.750061</td>\n",
       "      <td>0.708863</td>\n",
       "      <td>0.708863</td>\n",
       "      <td>0.904320</td>\n",
       "      <td>0.819674</td>\n",
       "    </tr>\n",
       "  </tbody>\n",
       "</table>\n",
       "<p>2 rows × 39 columns</p>\n",
       "</div>"
      ],
      "text/plain": [
       "                                                 name     auc_0  younden_0  \\\n",
       "29  DEFINITIVO_1_05_Xception_fine-05_batch-8_lr-00...  0.973895   0.971330   \n",
       "30  DEFINITIVO_2_mask_Xception_fine-04_batch-8_lr-...  0.946958   0.999999   \n",
       "\n",
       "    pr_max_0  pr_cut_0     auc_1     younden_1      pr_max_1  pr_cut_1  \\\n",
       "29  0.971330         0  0.899713  2.865476e-02  1.656092e-02         0   \n",
       "30  0.999996         0  0.864387  3.376220e-07  2.272205e-08         0   \n",
       "\n",
       "       auc_2  ...  f1_score[0, 2]  precision_score[0, 2]  recall_score[0, 2]  \\\n",
       "29  0.906269  ...        0.871319               0.869179            0.876237   \n",
       "30  0.901614  ...        0.822720               0.841191            0.811966   \n",
       "\n",
       "    accuracy_score[0, 2]  f1_score[1, 2]  precision_score[1, 2]  \\\n",
       "29              0.876237        0.859977               0.893798   \n",
       "30              0.811966        0.726398               0.750061   \n",
       "\n",
       "    recall_score[1, 2]  accuracy_score[1, 2]  auc_mean  f1_score_mean  \n",
       "29            0.883034              0.883034  0.926626       0.860706  \n",
       "30            0.708863              0.708863  0.904320       0.819674  \n",
       "\n",
       "[2 rows x 39 columns]"
      ]
     },
     "execution_count": 120,
     "metadata": {},
     "output_type": "execute_result"
    }
   ],
   "source": [
    "df.sort_values('name')"
   ]
  },
  {
   "cell_type": "code",
   "execution_count": 121,
   "id": "52441a24-dfc4-40ac-911a-643444ef61d9",
   "metadata": {},
   "outputs": [
    {
     "data": {
      "text/plain": [
       "['DEFINITIVO_1_05_Xception_fine-05_batch-8_lr-0001_auc-99_validation',\n",
       " 'DEFINITIVO_2_mask_Xception_fine-04_batch-8_lr-0001_auc-99_validation']"
      ]
     },
     "execution_count": 121,
     "metadata": {},
     "output_type": "execute_result"
    }
   ],
   "source": [
    "evaluados_de_mas = list(set(list(df.name))-set(modelos))\n",
    "ix = [i for i in df.index if df.name[i] in evaluados_de_mas]\n",
    "evaluados_de_mas"
   ]
  },
  {
   "cell_type": "code",
   "execution_count": 122,
   "id": "5fb67ae3-1faa-4407-883d-c6d4c7ed6342",
   "metadata": {},
   "outputs": [
    {
     "data": {
      "text/plain": [
       "['DEFINITIVO_3_mask_Xception_fine-04_batch-8_lr-0001_auc-99',\n",
       " 'DEFINITIVO_6_Xception_fine-04_batch-8_lr-0001_auc-99',\n",
       " 'DEFINITIVO_4_Xception_fine-04_batch-8_lr-0001_auc-99',\n",
       " 'DEFINITIVO_2_Xception_fine-04_batch-8_lr-0001_auc-99',\n",
       " 'DEFINITIVO_1_mask_Xception_fine-04_batch-8_lr-0001_auc-99',\n",
       " 'DEFINITIVO_3_05_Xception_fine-05_batch-8_lr-0001_auc-99',\n",
       " 'DEFINITIVO_5_05_Xception_fine-05_batch-8_lr-0001_auc-99',\n",
       " 'DEFINITIVO_6_mask_Xception_fine-04_batch-8_lr-0001_auc-99',\n",
       " 'DEFINITIVO_7_05_Xception_fine-05_batch-8_lr-0001_auc-99',\n",
       " 'DEFINITIVO_1_mask_05_Xception_fine-05_batch-8_lr-0001_auc-99',\n",
       " 'DEFINITIVO_3_mask_05_Xception_fine-05_batch-8_lr-0001_auc-99',\n",
       " 'DEFINITIVO_4_mask_Xception_fine-04_batch-8_lr-0001_auc-99',\n",
       " 'DEFINITIVO_1_Xception_fine-04_batch-8_lr-0001_auc-99',\n",
       " 'DEFINITIVO_7_Xception_fine-04_batch-8_lr-0001_auc-99',\n",
       " 'DEFINITIVO_7_mask_Xception_fine-04_batch-8_lr-0001_auc-99',\n",
       " 'DEFINITIVO_6_mask_05_Xception_fine-05_batch-8_lr-0001_auc-99',\n",
       " 'DEFINITIVO_5_mask_05_Xception_fine-05_batch-8_lr-0001_auc-99',\n",
       " 'DEFINITIVO_2_05_Xception_fine-05_batch-8_lr-0001_auc-99',\n",
       " 'DEFINITIVO_2_mask_05_Xception_fine-05_batch-8_lr-0001_auc-99',\n",
       " 'DEFINITIVO_5_Xception_fine-04_batch-8_lr-0001_auc-99',\n",
       " 'DEFINITIVO_3_Xception_fine-04_batch-8_lr-0001_auc-99',\n",
       " 'DEFINITIVO_2_mask_Xception_fine-04_batch-8_lr-0001_auc-99',\n",
       " 'DEFINITIVO_1_05_Xception_fine-05_batch-8_lr-0001_auc-99',\n",
       " 'DEFINITIVO_5_mask_Xception_fine-04_batch-8_lr-0001_auc-99',\n",
       " 'DEFINITIVO_4_mask_05_Xception_fine-05_batch-8_lr-0001_auc-99',\n",
       " 'DEFINITIVO_4_05_Xception_fine-05_batch-8_lr-0001_auc-99',\n",
       " 'DEFINITIVO_7_mask_05_Xception_fine-05_batch-8_lr-0001_auc-99',\n",
       " 'DEFINITIVO_6_05_Xception_fine-05_batch-8_lr-0001_auc-99']"
      ]
     },
     "execution_count": 122,
     "metadata": {},
     "output_type": "execute_result"
    }
   ],
   "source": [
    "evaluados_de_menos = list(set(modelos)-set(list(df.name)))\n",
    "evaluados_de_menos"
   ]
  },
  {
   "cell_type": "code",
   "execution_count": 123,
   "id": "a65a28dd-3ad1-447f-927a-b4dc744a2f16",
   "metadata": {},
   "outputs": [],
   "source": [
    "# df = df.drop(ix)\n",
    "# df.to_csv(path, index = False)"
   ]
  },
  {
   "cell_type": "markdown",
   "id": "e5398a1b-4e3d-47df-a6a7-da1e9e180d7d",
   "metadata": {},
   "source": [
    "## Cada modelo"
   ]
  },
  {
   "cell_type": "code",
   "execution_count": 135,
   "id": "96b90aa8-ad65-46f8-9c7d-a5db399e3a4f",
   "metadata": {},
   "outputs": [],
   "source": [
    "import os\n",
    "import cv2\n",
    "import json"
   ]
  },
  {
   "cell_type": "code",
   "execution_count": 136,
   "id": "769faacd-81b1-4068-9186-a15052473535",
   "metadata": {},
   "outputs": [],
   "source": [
    "model_name = 'DEFINITIVO_1_05_Xception_fine-05_batch-8_lr-0001_auc-99_validation'"
   ]
  },
  {
   "cell_type": "code",
   "execution_count": 137,
   "id": "943d5885-c7a5-4181-b0c9-9b5ed48a0ff5",
   "metadata": {},
   "outputs": [],
   "source": [
    "p = os.path.join('/home/mr1142/Documents/Data/models/neumonia/validation_results', model_name)"
   ]
  },
  {
   "cell_type": "code",
   "execution_count": 138,
   "id": "c3d601ad-44e4-4f9e-bf88-e1b7aba8914e",
   "metadata": {},
   "outputs": [
    {
     "data": {
      "text/plain": [
       "['metricas.json',\n",
       " 'pred_rec_plot_0.png',\n",
       " 'auc_plot_0.png',\n",
       " 'pr_re_th_plot_0.png',\n",
       " 'pred_rec_plot_1.png',\n",
       " 'auc_plot_1.png',\n",
       " 'pr_re_th_plot_1.png',\n",
       " 'pred_rec_plot_2.png',\n",
       " 'auc_plot_2.png',\n",
       " 'pr_re_th_plot_2.png',\n",
       " 'class_report.csv']"
      ]
     },
     "execution_count": 138,
     "metadata": {},
     "output_type": "execute_result"
    }
   ],
   "source": [
    "os.listdir(p)"
   ]
  },
  {
   "cell_type": "code",
   "execution_count": 141,
   "id": "c5d23c29-98d0-4c5a-ad7b-0eac58cb1de1",
   "metadata": {},
   "outputs": [
    {
     "data": {
      "text/plain": [
       "<matplotlib.image.AxesImage at 0x7f2f4a0355d0>"
      ]
     },
     "execution_count": 141,
     "metadata": {},
     "output_type": "execute_result"
    },
    {
     "data": {
      "image/png": "[encoded data removed]",
      "text/plain": [
       "<Figure size 1000x1000 with 1 Axes>"
      ]
     },
     "metadata": {},
     "output_type": "display_data"
    }
   ],
   "source": [
    "img = cv2.imread(os.path.join(p, 'auc_plot_0.png'))\n",
    "plt.figure(figsize=(10,10))\n",
    "plt.imshow(img)"
   ]
  },
  {
   "cell_type": "code",
   "execution_count": 140,
   "id": "ef483555-ce2d-47db-a116-832b206833ea",
   "metadata": {},
   "outputs": [
    {
     "ename": "JSONDecodeError",
     "evalue": "Expecting value: line 1 column 44 (char 43)",
     "output_type": "error",
     "traceback": [
      "\u001b[0;31m---------------------------------------------------------------------------\u001b[0m",
      "\u001b[0;31mJSONDecodeError\u001b[0m                           Traceback (most recent call last)",
      "Cell \u001b[0;32mIn [140], line 2\u001b[0m\n\u001b[1;32m      1\u001b[0m \u001b[38;5;28;01mwith\u001b[39;00m \u001b[38;5;28mopen\u001b[39m(os\u001b[38;5;241m.\u001b[39mpath\u001b[38;5;241m.\u001b[39mjoin(p, \u001b[38;5;124m'\u001b[39m\u001b[38;5;124mmetricas.json\u001b[39m\u001b[38;5;124m'\u001b[39m)) \u001b[38;5;28;01mas\u001b[39;00m json_file:\n\u001b[0;32m----> 2\u001b[0m     data \u001b[38;5;241m=\u001b[39m json\u001b[38;5;241m.\u001b[39mload(json_file)\n\u001b[1;32m      3\u001b[0m data\n",
      "File \u001b[0;32m~/miniconda3/envs/jupyter_env/lib/python3.10/json/__init__.py:293\u001b[0m, in \u001b[0;36mload\u001b[0;34m(fp, cls, object_hook, parse_float, parse_int, parse_constant, object_pairs_hook, **kw)\u001b[0m\n\u001b[1;32m    274\u001b[0m \u001b[38;5;28;01mdef\u001b[39;00m \u001b[38;5;21mload\u001b[39m(fp, \u001b[38;5;241m*\u001b[39m, \u001b[38;5;28mcls\u001b[39m\u001b[38;5;241m=\u001b[39m\u001b[38;5;28;01mNone\u001b[39;00m, object_hook\u001b[38;5;241m=\u001b[39m\u001b[38;5;28;01mNone\u001b[39;00m, parse_float\u001b[38;5;241m=\u001b[39m\u001b[38;5;28;01mNone\u001b[39;00m,\n\u001b[1;32m    275\u001b[0m         parse_int\u001b[38;5;241m=\u001b[39m\u001b[38;5;28;01mNone\u001b[39;00m, parse_constant\u001b[38;5;241m=\u001b[39m\u001b[38;5;28;01mNone\u001b[39;00m, object_pairs_hook\u001b[38;5;241m=\u001b[39m\u001b[38;5;28;01mNone\u001b[39;00m, \u001b[38;5;241m*\u001b[39m\u001b[38;5;241m*\u001b[39mkw):\n\u001b[1;32m    276\u001b[0m     \u001b[38;5;124;03m\"\"\"Deserialize ``fp`` (a ``.read()``-supporting file-like object containing\u001b[39;00m\n\u001b[1;32m    277\u001b[0m \u001b[38;5;124;03m    a JSON document) to a Python object.\u001b[39;00m\n\u001b[1;32m    278\u001b[0m \n\u001b[0;32m   (...)\u001b[0m\n\u001b[1;32m    291\u001b[0m \u001b[38;5;124;03m    kwarg; otherwise ``JSONDecoder`` is used.\u001b[39;00m\n\u001b[1;32m    292\u001b[0m \u001b[38;5;124;03m    \"\"\"\u001b[39;00m\n\u001b[0;32m--> 293\u001b[0m     \u001b[38;5;28;01mreturn\u001b[39;00m \u001b[43mloads\u001b[49m\u001b[43m(\u001b[49m\u001b[43mfp\u001b[49m\u001b[38;5;241;43m.\u001b[39;49m\u001b[43mread\u001b[49m\u001b[43m(\u001b[49m\u001b[43m)\u001b[49m\u001b[43m,\u001b[49m\n\u001b[1;32m    294\u001b[0m \u001b[43m        \u001b[49m\u001b[38;5;28;43mcls\u001b[39;49m\u001b[38;5;241;43m=\u001b[39;49m\u001b[38;5;28;43mcls\u001b[39;49m\u001b[43m,\u001b[49m\u001b[43m \u001b[49m\u001b[43mobject_hook\u001b[49m\u001b[38;5;241;43m=\u001b[39;49m\u001b[43mobject_hook\u001b[49m\u001b[43m,\u001b[49m\n\u001b[1;32m    295\u001b[0m \u001b[43m        \u001b[49m\u001b[43mparse_float\u001b[49m\u001b[38;5;241;43m=\u001b[39;49m\u001b[43mparse_float\u001b[49m\u001b[43m,\u001b[49m\u001b[43m \u001b[49m\u001b[43mparse_int\u001b[49m\u001b[38;5;241;43m=\u001b[39;49m\u001b[43mparse_int\u001b[49m\u001b[43m,\u001b[49m\n\u001b[1;32m    296\u001b[0m \u001b[43m        \u001b[49m\u001b[43mparse_constant\u001b[49m\u001b[38;5;241;43m=\u001b[39;49m\u001b[43mparse_constant\u001b[49m\u001b[43m,\u001b[49m\u001b[43m \u001b[49m\u001b[43mobject_pairs_hook\u001b[49m\u001b[38;5;241;43m=\u001b[39;49m\u001b[43mobject_pairs_hook\u001b[49m\u001b[43m,\u001b[49m\u001b[43m \u001b[49m\u001b[38;5;241;43m*\u001b[39;49m\u001b[38;5;241;43m*\u001b[39;49m\u001b[43mkw\u001b[49m\u001b[43m)\u001b[49m\n",
      "File \u001b[0;32m~/miniconda3/envs/jupyter_env/lib/python3.10/json/__init__.py:346\u001b[0m, in \u001b[0;36mloads\u001b[0;34m(s, cls, object_hook, parse_float, parse_int, parse_constant, object_pairs_hook, **kw)\u001b[0m\n\u001b[1;32m    341\u001b[0m     s \u001b[38;5;241m=\u001b[39m s\u001b[38;5;241m.\u001b[39mdecode(detect_encoding(s), \u001b[38;5;124m'\u001b[39m\u001b[38;5;124msurrogatepass\u001b[39m\u001b[38;5;124m'\u001b[39m)\n\u001b[1;32m    343\u001b[0m \u001b[38;5;28;01mif\u001b[39;00m (\u001b[38;5;28mcls\u001b[39m \u001b[38;5;129;01mis\u001b[39;00m \u001b[38;5;28;01mNone\u001b[39;00m \u001b[38;5;129;01mand\u001b[39;00m object_hook \u001b[38;5;129;01mis\u001b[39;00m \u001b[38;5;28;01mNone\u001b[39;00m \u001b[38;5;129;01mand\u001b[39;00m\n\u001b[1;32m    344\u001b[0m         parse_int \u001b[38;5;129;01mis\u001b[39;00m \u001b[38;5;28;01mNone\u001b[39;00m \u001b[38;5;129;01mand\u001b[39;00m parse_float \u001b[38;5;129;01mis\u001b[39;00m \u001b[38;5;28;01mNone\u001b[39;00m \u001b[38;5;129;01mand\u001b[39;00m\n\u001b[1;32m    345\u001b[0m         parse_constant \u001b[38;5;129;01mis\u001b[39;00m \u001b[38;5;28;01mNone\u001b[39;00m \u001b[38;5;129;01mand\u001b[39;00m object_pairs_hook \u001b[38;5;129;01mis\u001b[39;00m \u001b[38;5;28;01mNone\u001b[39;00m \u001b[38;5;129;01mand\u001b[39;00m \u001b[38;5;129;01mnot\u001b[39;00m kw):\n\u001b[0;32m--> 346\u001b[0m     \u001b[38;5;28;01mreturn\u001b[39;00m \u001b[43m_default_decoder\u001b[49m\u001b[38;5;241;43m.\u001b[39;49m\u001b[43mdecode\u001b[49m\u001b[43m(\u001b[49m\u001b[43ms\u001b[49m\u001b[43m)\u001b[49m\n\u001b[1;32m    347\u001b[0m \u001b[38;5;28;01mif\u001b[39;00m \u001b[38;5;28mcls\u001b[39m \u001b[38;5;129;01mis\u001b[39;00m \u001b[38;5;28;01mNone\u001b[39;00m:\n\u001b[1;32m    348\u001b[0m     \u001b[38;5;28mcls\u001b[39m \u001b[38;5;241m=\u001b[39m JSONDecoder\n",
      "File \u001b[0;32m~/miniconda3/envs/jupyter_env/lib/python3.10/json/decoder.py:337\u001b[0m, in \u001b[0;36mJSONDecoder.decode\u001b[0;34m(self, s, _w)\u001b[0m\n\u001b[1;32m    332\u001b[0m \u001b[38;5;28;01mdef\u001b[39;00m \u001b[38;5;21mdecode\u001b[39m(\u001b[38;5;28mself\u001b[39m, s, _w\u001b[38;5;241m=\u001b[39mWHITESPACE\u001b[38;5;241m.\u001b[39mmatch):\n\u001b[1;32m    333\u001b[0m     \u001b[38;5;124;03m\"\"\"Return the Python representation of ``s`` (a ``str`` instance\u001b[39;00m\n\u001b[1;32m    334\u001b[0m \u001b[38;5;124;03m    containing a JSON document).\u001b[39;00m\n\u001b[1;32m    335\u001b[0m \n\u001b[1;32m    336\u001b[0m \u001b[38;5;124;03m    \"\"\"\u001b[39;00m\n\u001b[0;32m--> 337\u001b[0m     obj, end \u001b[38;5;241m=\u001b[39m \u001b[38;5;28;43mself\u001b[39;49m\u001b[38;5;241;43m.\u001b[39;49m\u001b[43mraw_decode\u001b[49m\u001b[43m(\u001b[49m\u001b[43ms\u001b[49m\u001b[43m,\u001b[49m\u001b[43m \u001b[49m\u001b[43midx\u001b[49m\u001b[38;5;241;43m=\u001b[39;49m\u001b[43m_w\u001b[49m\u001b[43m(\u001b[49m\u001b[43ms\u001b[49m\u001b[43m,\u001b[49m\u001b[43m \u001b[49m\u001b[38;5;241;43m0\u001b[39;49m\u001b[43m)\u001b[49m\u001b[38;5;241;43m.\u001b[39;49m\u001b[43mend\u001b[49m\u001b[43m(\u001b[49m\u001b[43m)\u001b[49m\u001b[43m)\u001b[49m\n\u001b[1;32m    338\u001b[0m     end \u001b[38;5;241m=\u001b[39m _w(s, end)\u001b[38;5;241m.\u001b[39mend()\n\u001b[1;32m    339\u001b[0m     \u001b[38;5;28;01mif\u001b[39;00m end \u001b[38;5;241m!=\u001b[39m \u001b[38;5;28mlen\u001b[39m(s):\n",
      "File \u001b[0;32m~/miniconda3/envs/jupyter_env/lib/python3.10/json/decoder.py:355\u001b[0m, in \u001b[0;36mJSONDecoder.raw_decode\u001b[0;34m(self, s, idx)\u001b[0m\n\u001b[1;32m    353\u001b[0m     obj, end \u001b[38;5;241m=\u001b[39m \u001b[38;5;28mself\u001b[39m\u001b[38;5;241m.\u001b[39mscan_once(s, idx)\n\u001b[1;32m    354\u001b[0m \u001b[38;5;28;01mexcept\u001b[39;00m \u001b[38;5;167;01mStopIteration\u001b[39;00m \u001b[38;5;28;01mas\u001b[39;00m err:\n\u001b[0;32m--> 355\u001b[0m     \u001b[38;5;28;01mraise\u001b[39;00m JSONDecodeError(\u001b[38;5;124m\"\u001b[39m\u001b[38;5;124mExpecting value\u001b[39m\u001b[38;5;124m\"\u001b[39m, s, err\u001b[38;5;241m.\u001b[39mvalue) \u001b[38;5;28;01mfrom\u001b[39;00m \u001b[38;5;28mNone\u001b[39m\n\u001b[1;32m    356\u001b[0m \u001b[38;5;28;01mreturn\u001b[39;00m obj, end\n",
      "\u001b[0;31mJSONDecodeError\u001b[0m: Expecting value: line 1 column 44 (char 43)"
     ]
    }
   ],
   "source": [
    "with open(os.path.join(p, 'metricas.json')) as json_file:\n",
    "    data = json.load(json_file)\n",
    "data"
   ]
  },
  {
   "cell_type": "code",
   "execution_count": 40,
   "id": "9a7ee6d9-8700-4fd5-9e8f-3810e1d748fe",
   "metadata": {},
   "outputs": [
    {
     "data": {
      "text/html": [
       "<div>\n",
       "<style scoped>\n",
       "    .dataframe tbody tr th:only-of-type {\n",
       "        vertical-align: middle;\n",
       "    }\n",
       "\n",
       "    .dataframe tbody tr th {\n",
       "        vertical-align: top;\n",
       "    }\n",
       "\n",
       "    .dataframe thead th {\n",
       "        text-align: right;\n",
       "    }\n",
       "</style>\n",
       "<table border=\"1\" class=\"dataframe\">\n",
       "  <thead>\n",
       "    <tr style=\"text-align: right;\">\n",
       "      <th></th>\n",
       "      <th>Unnamed: 0</th>\n",
       "      <th>precision</th>\n",
       "      <th>recall</th>\n",
       "      <th>f1-score</th>\n",
       "      <th>support</th>\n",
       "    </tr>\n",
       "  </thead>\n",
       "  <tbody>\n",
       "    <tr>\n",
       "      <th>0</th>\n",
       "      <td>normal</td>\n",
       "      <td>0.946685</td>\n",
       "      <td>0.982791</td>\n",
       "      <td>0.964400</td>\n",
       "      <td>2150.0</td>\n",
       "    </tr>\n",
       "    <tr>\n",
       "      <th>1</th>\n",
       "      <td>moderado</td>\n",
       "      <td>0.971191</td>\n",
       "      <td>0.928571</td>\n",
       "      <td>0.949403</td>\n",
       "      <td>2142.0</td>\n",
       "    </tr>\n",
       "    <tr>\n",
       "      <th>2</th>\n",
       "      <td>severo</td>\n",
       "      <td>0.980823</td>\n",
       "      <td>0.986359</td>\n",
       "      <td>0.983583</td>\n",
       "      <td>2126.0</td>\n",
       "    </tr>\n",
       "    <tr>\n",
       "      <th>3</th>\n",
       "      <td>micro avg</td>\n",
       "      <td>0.965877</td>\n",
       "      <td>0.965877</td>\n",
       "      <td>0.965877</td>\n",
       "      <td>6418.0</td>\n",
       "    </tr>\n",
       "    <tr>\n",
       "      <th>4</th>\n",
       "      <td>macro avg</td>\n",
       "      <td>0.966233</td>\n",
       "      <td>0.965907</td>\n",
       "      <td>0.965796</td>\n",
       "      <td>6418.0</td>\n",
       "    </tr>\n",
       "    <tr>\n",
       "      <th>5</th>\n",
       "      <td>weighted avg</td>\n",
       "      <td>0.966172</td>\n",
       "      <td>0.965877</td>\n",
       "      <td>0.965749</td>\n",
       "      <td>6418.0</td>\n",
       "    </tr>\n",
       "    <tr>\n",
       "      <th>6</th>\n",
       "      <td>samples avg</td>\n",
       "      <td>0.965877</td>\n",
       "      <td>0.965877</td>\n",
       "      <td>0.965877</td>\n",
       "      <td>6418.0</td>\n",
       "    </tr>\n",
       "  </tbody>\n",
       "</table>\n",
       "</div>"
      ],
      "text/plain": [
       "     Unnamed: 0  precision    recall  f1-score  support\n",
       "0        normal   0.946685  0.982791  0.964400   2150.0\n",
       "1      moderado   0.971191  0.928571  0.949403   2142.0\n",
       "2        severo   0.980823  0.986359  0.983583   2126.0\n",
       "3     micro avg   0.965877  0.965877  0.965877   6418.0\n",
       "4     macro avg   0.966233  0.965907  0.965796   6418.0\n",
       "5  weighted avg   0.966172  0.965877  0.965749   6418.0\n",
       "6   samples avg   0.965877  0.965877  0.965877   6418.0"
      ]
     },
     "execution_count": 40,
     "metadata": {},
     "output_type": "execute_result"
    }
   ],
   "source": [
    "df = pd.read_csv(os.path.join(p, 'class_report.csv'))\n",
    "df"
   ]
  },
  {
   "cell_type": "code",
   "execution_count": null,
   "id": "59d68097-4f72-4e12-8808-7db01627ad15",
   "metadata": {},
   "outputs": [],
   "source": []
  }
 ],
 "metadata": {
  "kernelspec": {
   "display_name": "Python 3 (ipykernel)",
   "language": "python",
   "name": "python3"
  },
  "language_info": {
   "codemirror_mode": {
    "name": "ipython",
    "version": 3
   },
   "file_extension": ".py",
   "mimetype": "text/x-python",
   "name": "python",
   "nbconvert_exporter": "python",
   "pygments_lexer": "ipython3",
   "version": "3.10.6"
  }
 },
 "nbformat": 4,
 "nbformat_minor": 5
}
