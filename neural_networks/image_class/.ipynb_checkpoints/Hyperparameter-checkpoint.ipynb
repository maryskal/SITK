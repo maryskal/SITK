{
 "cells": [
  {
   "cell_type": "code",
   "execution_count": 2,
   "id": "af5fd877-3156-4a64-9f48-50c2207a58d7",
   "metadata": {
    "tags": []
   },
   "outputs": [],
   "source": [
    "import pandas as pd\n",
    "import numpy as np\n",
    "import os\n",
    "import re\n",
    "import matplotlib.pyplot as plt\n",
    "import seaborn as sns"
   ]
  },
  {
   "cell_type": "markdown",
   "id": "45180eb0-b856-468a-b2ea-41151dd218e3",
   "metadata": {},
   "source": [
    "# COMPLETOS"
   ]
  },
  {
   "cell_type": "code",
   "execution_count": 3,
   "id": "8781991d-7b93-4448-ab4b-a5c19191ee0e",
   "metadata": {},
   "outputs": [],
   "source": [
    "path = '/home/mr1142/Documents/Data/models/neumonia/ht/train_max_completo.csv'\n",
    "df = pd.read_csv(path)"
   ]
  },
  {
   "cell_type": "code",
   "execution_count": 4,
   "id": "26314bf2-8dc1-46ff-8c1f-6f215fda9d4f",
   "metadata": {},
   "outputs": [
    {
     "data": {
      "text/html": [
       "<div>\n",
       "<style scoped>\n",
       "    .dataframe tbody tr th:only-of-type {\n",
       "        vertical-align: middle;\n",
       "    }\n",
       "\n",
       "    .dataframe tbody tr th {\n",
       "        vertical-align: top;\n",
       "    }\n",
       "\n",
       "    .dataframe thead th {\n",
       "        text-align: right;\n",
       "    }\n",
       "</style>\n",
       "<table border=\"1\" class=\"dataframe\">\n",
       "  <thead>\n",
       "    <tr style=\"text-align: right;\">\n",
       "      <th></th>\n",
       "      <th>name</th>\n",
       "      <th>modelo</th>\n",
       "      <th>fine</th>\n",
       "      <th>batch</th>\n",
       "      <th>lr</th>\n",
       "      <th>mask</th>\n",
       "      <th>trainprop</th>\n",
       "      <th>pixels</th>\n",
       "      <th>loss</th>\n",
       "      <th>binary_accuracy</th>\n",
       "      <th>precision</th>\n",
       "      <th>auc</th>\n",
       "      <th>val_loss</th>\n",
       "      <th>val_binary_accuracy</th>\n",
       "      <th>val_precision</th>\n",
       "      <th>val_auc</th>\n",
       "    </tr>\n",
       "  </thead>\n",
       "  <tbody>\n",
       "  </tbody>\n",
       "</table>\n",
       "</div>"
      ],
      "text/plain": [
       "Empty DataFrame\n",
       "Columns: [name, modelo, fine, batch, lr, mask, trainprop, pixels, loss, binary_accuracy, precision, auc, val_loss, val_binary_accuracy, val_precision, val_auc]\n",
       "Index: []"
      ]
     },
     "execution_count": 4,
     "metadata": {},
     "output_type": "execute_result"
    }
   ],
   "source": [
    "df.sort_values('val_auc')"
   ]
  },
  {
   "cell_type": "markdown",
   "id": "a44f3d28-32d6-4055-b704-0800ab9c2772",
   "metadata": {},
   "source": [
    "## PREDICTION"
   ]
  },
  {
   "cell_type": "code",
   "execution_count": 5,
   "id": "01de44cf-226e-4cb6-8473-1d2d4f5b75b0",
   "metadata": {},
   "outputs": [],
   "source": [
    "path = '/home/mr1142/Documents/Data/models/neumonia/ht/prediction_validation_metrics_completo.csv'\n",
    "df = pd.read_csv(path)"
   ]
  },
  {
   "cell_type": "code",
   "execution_count": 6,
   "id": "957cc412-769c-452b-b172-54df77a135cc",
   "metadata": {},
   "outputs": [],
   "source": [
    "df['auc_mean'] = (df.auc_0 + df.auc_1 + df.auc_2)/3\n",
    "df['f1_score_mean'] = (df.f1_score_0 + df.f1_score_1 + df.f1_score_2)/3"
   ]
  },
  {
   "cell_type": "code",
   "execution_count": 7,
   "id": "9e1bf6a7-3b32-4bea-99a9-b7d1a42a9685",
   "metadata": {},
   "outputs": [
    {
     "data": {
      "text/plain": [
       "Index(['auc_0', 'younden_0', 'pr_max_0', 'pr_cut_0', 'auc_1', 'younden_1',\n",
       "       'pr_max_1', 'pr_cut_1', 'auc_2', 'younden_2', 'pr_max_2', 'pr_cut_2',\n",
       "       'f1_score_0', 'precision_score_0', 'recall_score_0', 'accuracy_score_0',\n",
       "       'f1_score_1', 'precision_score_1', 'recall_score_1', 'accuracy_score_1',\n",
       "       'f1_score_2', 'precision_score_2', 'recall_score_2', 'accuracy_score_2',\n",
       "       'f1_score[0, 1]', 'precision_score[0, 1]', 'recall_score[0, 1]',\n",
       "       'accuracy_score[0, 1]', 'f1_score[0, 2]', 'precision_score[0, 2]',\n",
       "       'recall_score[0, 2]', 'accuracy_score[0, 2]', 'f1_score[1, 2]',\n",
       "       'precision_score[1, 2]', 'recall_score[1, 2]', 'accuracy_score[1, 2]',\n",
       "       'auc_mean', 'f1_score_mean'],\n",
       "      dtype='object')"
      ]
     },
     "execution_count": 7,
     "metadata": {},
     "output_type": "execute_result"
    }
   ],
   "source": [
    "df.columns"
   ]
  },
  {
   "cell_type": "code",
   "execution_count": 8,
   "id": "b0ffd215-53cd-4065-9e9c-27f05af4d2e8",
   "metadata": {},
   "outputs": [
    {
     "data": {
      "text/html": [
       "<div>\n",
       "<style scoped>\n",
       "    .dataframe tbody tr th:only-of-type {\n",
       "        vertical-align: middle;\n",
       "    }\n",
       "\n",
       "    .dataframe tbody tr th {\n",
       "        vertical-align: top;\n",
       "    }\n",
       "\n",
       "    .dataframe thead th {\n",
       "        text-align: right;\n",
       "    }\n",
       "</style>\n",
       "<table border=\"1\" class=\"dataframe\">\n",
       "  <thead>\n",
       "    <tr style=\"text-align: right;\">\n",
       "      <th></th>\n",
       "      <th>auc_0</th>\n",
       "      <th>younden_0</th>\n",
       "      <th>pr_max_0</th>\n",
       "      <th>pr_cut_0</th>\n",
       "      <th>auc_1</th>\n",
       "      <th>younden_1</th>\n",
       "      <th>pr_max_1</th>\n",
       "      <th>pr_cut_1</th>\n",
       "      <th>auc_2</th>\n",
       "      <th>younden_2</th>\n",
       "      <th>...</th>\n",
       "      <th>f1_score[0, 2]</th>\n",
       "      <th>precision_score[0, 2]</th>\n",
       "      <th>recall_score[0, 2]</th>\n",
       "      <th>accuracy_score[0, 2]</th>\n",
       "      <th>f1_score[1, 2]</th>\n",
       "      <th>precision_score[1, 2]</th>\n",
       "      <th>recall_score[1, 2]</th>\n",
       "      <th>accuracy_score[1, 2]</th>\n",
       "      <th>auc_mean</th>\n",
       "      <th>f1_score_mean</th>\n",
       "    </tr>\n",
       "  </thead>\n",
       "  <tbody>\n",
       "  </tbody>\n",
       "</table>\n",
       "<p>0 rows × 38 columns</p>\n",
       "</div>"
      ],
      "text/plain": [
       "Empty DataFrame\n",
       "Columns: [auc_0, younden_0, pr_max_0, pr_cut_0, auc_1, younden_1, pr_max_1, pr_cut_1, auc_2, younden_2, pr_max_2, pr_cut_2, f1_score_0, precision_score_0, recall_score_0, accuracy_score_0, f1_score_1, precision_score_1, recall_score_1, accuracy_score_1, f1_score_2, precision_score_2, recall_score_2, accuracy_score_2, f1_score[0, 1], precision_score[0, 1], recall_score[0, 1], accuracy_score[0, 1], f1_score[0, 2], precision_score[0, 2], recall_score[0, 2], accuracy_score[0, 2], f1_score[1, 2], precision_score[1, 2], recall_score[1, 2], accuracy_score[1, 2], auc_mean, f1_score_mean]\n",
       "Index: []\n",
       "\n",
       "[0 rows x 38 columns]"
      ]
     },
     "execution_count": 8,
     "metadata": {},
     "output_type": "execute_result"
    }
   ],
   "source": [
    "df.sort_values('f1_score_mean')"
   ]
  }
 ],
 "metadata": {
  "kernelspec": {
   "display_name": "Python 3 (ipykernel)",
   "language": "python",
   "name": "python3"
  },
  "language_info": {
   "codemirror_mode": {
    "name": "ipython",
    "version": 3
   },
   "file_extension": ".py",
   "mimetype": "text/x-python",
   "name": "python",
   "nbconvert_exporter": "python",
   "pygments_lexer": "ipython3",
   "version": "3.9.13"
  }
 },
 "nbformat": 4,
 "nbformat_minor": 5
}
