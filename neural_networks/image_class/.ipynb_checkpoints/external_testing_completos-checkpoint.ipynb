{
 "cells": [
  {
   "cell_type": "code",
   "execution_count": 16,
   "id": "08ff5dee-521c-428a-b9a7-8981580b4e6a",
   "metadata": {},
   "outputs": [],
   "source": [
    "import os\n",
    "import pandas as pd\n",
    "import numpy as np\n",
    "import re\n",
    "import seaborn as sns\n",
    "import matplotlib.pyplot as plt"
   ]
  },
  {
   "cell_type": "markdown",
   "id": "ab4311ed-7348-4cb7-a2fc-08049e4f1fc9",
   "metadata": {},
   "source": [
    "# EXTERNAL TEST OVER DEFINITIVOS"
   ]
  },
  {
   "cell_type": "code",
   "execution_count": 17,
   "id": "1451e15a-7cdb-4655-b7c3-a8ef7cc75b42",
   "metadata": {},
   "outputs": [],
   "source": [
    "path = '/home/mr1142/Documents/Data/global_pneumonia_selection/test'\n",
    "real = pd.read_csv(os.path.join(path, 'results_comparation.csv'))"
   ]
  },
  {
   "cell_type": "code",
   "execution_count": 18,
   "id": "b43e7da4-d030-4bfa-b715-17d77ad43490",
   "metadata": {},
   "outputs": [],
   "source": [
    "prueba = [i for i in real.index if bool(re.search('prueba', real.name[i]))]\n",
    "completo = [i for i in real.index if bool(re.search('prueba', real.name[i]))]\n",
    "definitivo = [i for i in real.index if bool(re.search('DEFINITIVO', real.name[i]))]"
   ]
  },
  {
   "cell_type": "code",
   "execution_count": 19,
   "id": "3ee86175-54df-4091-ba79-7b4fb4793a4f",
   "metadata": {},
   "outputs": [],
   "source": [
    "real = real.iloc[definitivo]"
   ]
  },
  {
   "cell_type": "markdown",
   "id": "d5e136ae-537b-4359-94ec-e16385abc394",
   "metadata": {
    "tags": []
   },
   "source": [
    "## Extraer variables"
   ]
  },
  {
   "cell_type": "code",
   "execution_count": 20,
   "id": "74f9ef21-8840-4ebc-842b-0667fdb4fc07",
   "metadata": {},
   "outputs": [],
   "source": [
    "real['fine'] = [int(re.split('_', real.name[i])[-4][-2:])/10 for i in real.index]\n",
    "real['fine'] = [1 if real.fine[i] == 0 else real.fine[i] for i in real.index]\n",
    "real['lr'] = [re.split('_', real.name[i])[-2][3:] for i in real.index]\n",
    "real['lr'] = [1e-5 if real.lr[i] == '-05' else float('0.' + real.lr[i]) for i in real.index]\n",
    "real['auc_internal'] = [float(real.name[i][-2:])/100 for i in real.index]"
   ]
  },
  {
   "cell_type": "code",
   "execution_count": 21,
   "id": "3a37fec1-ed22-4aca-9ccd-29791802aae5",
   "metadata": {},
   "outputs": [],
   "source": [
    "real['mask'] = [1 if bool(re.search('mask', real.name[i])) else 0 for i in real.index]\n",
    "real['modelo'] = ['EffNet' if bool(re.search('EffNet', real.name[i])) else 'Xception' if bool(re.search('Xception', real.name[i])) else 'IncResNet' for i in real.index]\n",
    "real['layer'] = [1 if bool(re.search('layer', real.name[i])) else 0 for i in real.index]"
   ]
  },
  {
   "cell_type": "code",
   "execution_count": 22,
   "id": "ce947a99-df9c-4405-84f4-4d4891a741ae",
   "metadata": {},
   "outputs": [
    {
     "data": {
      "text/html": [
       "<div>\n",
       "<style scoped>\n",
       "    .dataframe tbody tr th:only-of-type {\n",
       "        vertical-align: middle;\n",
       "    }\n",
       "\n",
       "    .dataframe tbody tr th {\n",
       "        vertical-align: top;\n",
       "    }\n",
       "\n",
       "    .dataframe thead th {\n",
       "        text-align: right;\n",
       "    }\n",
       "</style>\n",
       "<table border=\"1\" class=\"dataframe\">\n",
       "  <thead>\n",
       "    <tr style=\"text-align: right;\">\n",
       "      <th></th>\n",
       "      <th>name</th>\n",
       "      <th>auc</th>\n",
       "      <th>younden</th>\n",
       "      <th>pr_max</th>\n",
       "      <th>pr_cut</th>\n",
       "      <th>f1_score_younden</th>\n",
       "      <th>precision_score_younden</th>\n",
       "      <th>recall_score_younden</th>\n",
       "      <th>accuracy_score_younden</th>\n",
       "      <th>f1_score_pr_max</th>\n",
       "      <th>...</th>\n",
       "      <th>f1_score_max</th>\n",
       "      <th>precision_score_max</th>\n",
       "      <th>recall_score_max</th>\n",
       "      <th>accuracy_score_max</th>\n",
       "      <th>fine</th>\n",
       "      <th>lr</th>\n",
       "      <th>auc_internal</th>\n",
       "      <th>mask</th>\n",
       "      <th>modelo</th>\n",
       "      <th>layer</th>\n",
       "    </tr>\n",
       "  </thead>\n",
       "  <tbody>\n",
       "    <tr>\n",
       "      <th>1</th>\n",
       "      <td>DEFINITIVO_1_Xception_fine-04_batch-8_lr-0001_...</td>\n",
       "      <td>0.786075</td>\n",
       "      <td>0.624145</td>\n",
       "      <td>0.426171</td>\n",
       "      <td>0</td>\n",
       "      <td>0.682228</td>\n",
       "      <td>0.762253</td>\n",
       "      <td>0.69136</td>\n",
       "      <td>0.69136</td>\n",
       "      <td>0.657906</td>\n",
       "      <td>...</td>\n",
       "      <td>0.663034</td>\n",
       "      <td>0.767126</td>\n",
       "      <td>0.676992</td>\n",
       "      <td>0.676992</td>\n",
       "      <td>0.4</td>\n",
       "      <td>0.0001</td>\n",
       "      <td>0.99</td>\n",
       "      <td>0</td>\n",
       "      <td>Xception</td>\n",
       "      <td>0</td>\n",
       "    </tr>\n",
       "    <tr>\n",
       "      <th>0</th>\n",
       "      <td>DEFINITIVO_1_05_Xception_fine-05_batch-8_lr-00...</td>\n",
       "      <td>0.905081</td>\n",
       "      <td>0.536659</td>\n",
       "      <td>0.298577</td>\n",
       "      <td>0</td>\n",
       "      <td>0.836333</td>\n",
       "      <td>0.840172</td>\n",
       "      <td>0.83579</td>\n",
       "      <td>0.83579</td>\n",
       "      <td>0.821124</td>\n",
       "      <td>...</td>\n",
       "      <td>0.830973</td>\n",
       "      <td>0.838210</td>\n",
       "      <td>0.830379</td>\n",
       "      <td>0.830379</td>\n",
       "      <td>0.5</td>\n",
       "      <td>0.0001</td>\n",
       "      <td>0.99</td>\n",
       "      <td>0</td>\n",
       "      <td>Xception</td>\n",
       "      <td>0</td>\n",
       "    </tr>\n",
       "  </tbody>\n",
       "</table>\n",
       "<p>2 rows × 31 columns</p>\n",
       "</div>"
      ],
      "text/plain": [
       "                                                name       auc   younden  \\\n",
       "1  DEFINITIVO_1_Xception_fine-04_batch-8_lr-0001_...  0.786075  0.624145   \n",
       "0  DEFINITIVO_1_05_Xception_fine-05_batch-8_lr-00...  0.905081  0.536659   \n",
       "\n",
       "     pr_max  pr_cut  f1_score_younden  precision_score_younden  \\\n",
       "1  0.426171       0          0.682228                 0.762253   \n",
       "0  0.298577       0          0.836333                 0.840172   \n",
       "\n",
       "   recall_score_younden  accuracy_score_younden  f1_score_pr_max  ...  \\\n",
       "1               0.69136                 0.69136         0.657906  ...   \n",
       "0               0.83579                 0.83579         0.821124  ...   \n",
       "\n",
       "   f1_score_max  precision_score_max  recall_score_max  accuracy_score_max  \\\n",
       "1      0.663034             0.767126          0.676992            0.676992   \n",
       "0      0.830973             0.838210          0.830379            0.830379   \n",
       "\n",
       "   fine      lr  auc_internal  mask    modelo  layer  \n",
       "1   0.4  0.0001          0.99     0  Xception      0  \n",
       "0   0.5  0.0001          0.99     0  Xception      0  \n",
       "\n",
       "[2 rows x 31 columns]"
      ]
     },
     "execution_count": 22,
     "metadata": {},
     "output_type": "execute_result"
    }
   ],
   "source": [
    "real.sort_values('auc')"
   ]
  },
  {
   "cell_type": "code",
   "execution_count": 13,
   "id": "93a43058-4c12-466a-b57a-5c550fbea489",
   "metadata": {},
   "outputs": [
    {
     "ename": "IndexError",
     "evalue": "single positional indexer is out-of-bounds",
     "output_type": "error",
     "traceback": [
      "\u001b[0;31m---------------------------------------------------------------------------\u001b[0m",
      "\u001b[0;31mIndexError\u001b[0m                                Traceback (most recent call last)",
      "Cell \u001b[0;32mIn [13], line 1\u001b[0m\n\u001b[0;32m----> 1\u001b[0m real\u001b[38;5;241m.\u001b[39mname\u001b[38;5;241m.\u001b[39miloc[\u001b[38;5;241m7\u001b[39m]\n",
      "File \u001b[0;32m~/miniconda3/envs/jupyter_env/lib/python3.10/site-packages/pandas/core/indexing.py:1074\u001b[0m, in \u001b[0;36m_LocationIndexer.__getitem__\u001b[0;34m(self, key)\u001b[0m\n\u001b[1;32m   1071\u001b[0m axis \u001b[38;5;241m=\u001b[39m \u001b[38;5;28mself\u001b[39m\u001b[38;5;241m.\u001b[39maxis \u001b[38;5;129;01mor\u001b[39;00m \u001b[38;5;241m0\u001b[39m\n\u001b[1;32m   1073\u001b[0m maybe_callable \u001b[38;5;241m=\u001b[39m com\u001b[38;5;241m.\u001b[39mapply_if_callable(key, \u001b[38;5;28mself\u001b[39m\u001b[38;5;241m.\u001b[39mobj)\n\u001b[0;32m-> 1074\u001b[0m \u001b[38;5;28;01mreturn\u001b[39;00m \u001b[38;5;28;43mself\u001b[39;49m\u001b[38;5;241;43m.\u001b[39;49m\u001b[43m_getitem_axis\u001b[49m\u001b[43m(\u001b[49m\u001b[43mmaybe_callable\u001b[49m\u001b[43m,\u001b[49m\u001b[43m \u001b[49m\u001b[43maxis\u001b[49m\u001b[38;5;241;43m=\u001b[39;49m\u001b[43maxis\u001b[49m\u001b[43m)\u001b[49m\n",
      "File \u001b[0;32m~/miniconda3/envs/jupyter_env/lib/python3.10/site-packages/pandas/core/indexing.py:1626\u001b[0m, in \u001b[0;36m_iLocIndexer._getitem_axis\u001b[0;34m(self, key, axis)\u001b[0m\n\u001b[1;32m   1623\u001b[0m     \u001b[38;5;28;01mraise\u001b[39;00m \u001b[38;5;167;01mTypeError\u001b[39;00m(\u001b[38;5;124m\"\u001b[39m\u001b[38;5;124mCannot index by location index with a non-integer key\u001b[39m\u001b[38;5;124m\"\u001b[39m)\n\u001b[1;32m   1625\u001b[0m \u001b[38;5;66;03m# validate the location\u001b[39;00m\n\u001b[0;32m-> 1626\u001b[0m \u001b[38;5;28;43mself\u001b[39;49m\u001b[38;5;241;43m.\u001b[39;49m\u001b[43m_validate_integer\u001b[49m\u001b[43m(\u001b[49m\u001b[43mkey\u001b[49m\u001b[43m,\u001b[49m\u001b[43m \u001b[49m\u001b[43maxis\u001b[49m\u001b[43m)\u001b[49m\n\u001b[1;32m   1628\u001b[0m \u001b[38;5;28;01mreturn\u001b[39;00m \u001b[38;5;28mself\u001b[39m\u001b[38;5;241m.\u001b[39mobj\u001b[38;5;241m.\u001b[39m_ixs(key, axis\u001b[38;5;241m=\u001b[39maxis)\n",
      "File \u001b[0;32m~/miniconda3/envs/jupyter_env/lib/python3.10/site-packages/pandas/core/indexing.py:1558\u001b[0m, in \u001b[0;36m_iLocIndexer._validate_integer\u001b[0;34m(self, key, axis)\u001b[0m\n\u001b[1;32m   1556\u001b[0m len_axis \u001b[38;5;241m=\u001b[39m \u001b[38;5;28mlen\u001b[39m(\u001b[38;5;28mself\u001b[39m\u001b[38;5;241m.\u001b[39mobj\u001b[38;5;241m.\u001b[39m_get_axis(axis))\n\u001b[1;32m   1557\u001b[0m \u001b[38;5;28;01mif\u001b[39;00m key \u001b[38;5;241m>\u001b[39m\u001b[38;5;241m=\u001b[39m len_axis \u001b[38;5;129;01mor\u001b[39;00m key \u001b[38;5;241m<\u001b[39m \u001b[38;5;241m-\u001b[39mlen_axis:\n\u001b[0;32m-> 1558\u001b[0m     \u001b[38;5;28;01mraise\u001b[39;00m \u001b[38;5;167;01mIndexError\u001b[39;00m(\u001b[38;5;124m\"\u001b[39m\u001b[38;5;124msingle positional indexer is out-of-bounds\u001b[39m\u001b[38;5;124m\"\u001b[39m)\n",
      "\u001b[0;31mIndexError\u001b[0m: single positional indexer is out-of-bounds"
     ]
    }
   ],
   "source": [
    "real.name.iloc[7]"
   ]
  },
  {
   "cell_type": "code",
   "execution_count": null,
   "id": "fd02a8fa-676b-4f23-a97d-1da2bc9e3533",
   "metadata": {},
   "outputs": [],
   "source": [
    "save = real[['name', 'auc',\n",
    "    'f1_score_max', 'precision_score_max', 'accuracy_score_max', 'recall_score_max']].iloc[[4, 7]].transpose()"
   ]
  },
  {
   "cell_type": "code",
   "execution_count": 434,
   "id": "936df2b4-3fdc-460b-aa97-6f52d8bf42c5",
   "metadata": {},
   "outputs": [
    {
     "data": {
      "text/html": [
       "<div>\n",
       "<style scoped>\n",
       "    .dataframe tbody tr th:only-of-type {\n",
       "        vertical-align: middle;\n",
       "    }\n",
       "\n",
       "    .dataframe tbody tr th {\n",
       "        vertical-align: top;\n",
       "    }\n",
       "\n",
       "    .dataframe thead th {\n",
       "        text-align: right;\n",
       "    }\n",
       "</style>\n",
       "<table border=\"1\" class=\"dataframe\">\n",
       "  <thead>\n",
       "    <tr style=\"text-align: right;\">\n",
       "      <th></th>\n",
       "      <th>5</th>\n",
       "      <th>8</th>\n",
       "    </tr>\n",
       "  </thead>\n",
       "  <tbody>\n",
       "    <tr>\n",
       "      <th>name</th>\n",
       "      <td>DEFINITIVO_1_05_Xception_fine-05_batch-8_lr-00...</td>\n",
       "      <td>DEFINITIVO_2_mask_Xception_fine-04_batch-8_lr-...</td>\n",
       "    </tr>\n",
       "    <tr>\n",
       "      <th>auc</th>\n",
       "      <td>0.903683</td>\n",
       "      <td>0.8323</td>\n",
       "    </tr>\n",
       "    <tr>\n",
       "      <th>f1_score_max</th>\n",
       "      <td>0.828462</td>\n",
       "      <td>0.732869</td>\n",
       "    </tr>\n",
       "    <tr>\n",
       "      <th>precision_score_max</th>\n",
       "      <td>0.835614</td>\n",
       "      <td>0.766561</td>\n",
       "    </tr>\n",
       "    <tr>\n",
       "      <th>accuracy_score_max</th>\n",
       "      <td>0.827937</td>\n",
       "      <td>0.734534</td>\n",
       "    </tr>\n",
       "    <tr>\n",
       "      <th>recall_score_max</th>\n",
       "      <td>0.827937</td>\n",
       "      <td>0.734534</td>\n",
       "    </tr>\n",
       "  </tbody>\n",
       "</table>\n",
       "</div>"
      ],
      "text/plain": [
       "                                                                     5  \\\n",
       "name                 DEFINITIVO_1_05_Xception_fine-05_batch-8_lr-00...   \n",
       "auc                                                           0.903683   \n",
       "f1_score_max                                                  0.828462   \n",
       "precision_score_max                                           0.835614   \n",
       "accuracy_score_max                                            0.827937   \n",
       "recall_score_max                                              0.827937   \n",
       "\n",
       "                                                                     8  \n",
       "name                 DEFINITIVO_2_mask_Xception_fine-04_batch-8_lr-...  \n",
       "auc                                                             0.8323  \n",
       "f1_score_max                                                  0.732869  \n",
       "precision_score_max                                           0.766561  \n",
       "accuracy_score_max                                            0.734534  \n",
       "recall_score_max                                              0.734534  "
      ]
     },
     "execution_count": 434,
     "metadata": {},
     "output_type": "execute_result"
    }
   ],
   "source": [
    "save"
   ]
  },
  {
   "cell_type": "code",
   "execution_count": 435,
   "id": "1186d73f-7cf1-41a7-aab0-e875523793af",
   "metadata": {},
   "outputs": [],
   "source": [
    "# save.to_csv('model_selected_external.csv')"
   ]
  },
  {
   "cell_type": "code",
   "execution_count": 14,
   "id": "616035f5-bb4a-4f1c-998c-96e0cced93a0",
   "metadata": {},
   "outputs": [],
   "source": [
    "p = '/home/mr1142/Documents/Data/models/neumonia'\n",
    "modelos = os.listdir(p)\n",
    "modelos = [modelo[:-3] for modelo in modelos if os.path.isfile(os.path.join(p, modelo))]\n",
    "modelos = [modelo for modelo in modelos if bool(re.search('DEFINITIVO', modelo))]\n",
    "modelos_evaluados = list(real['name'])"
   ]
  },
  {
   "cell_type": "code",
   "execution_count": 15,
   "id": "17bf0c38-b3aa-427f-896d-048622930379",
   "metadata": {},
   "outputs": [
    {
     "data": {
      "text/plain": [
       "{'DEFINITIVO_1_05_Xception_fine-05_batch-8_lr-0001_auc-99',\n",
       " 'DEFINITIVO_1_Xception_fine-04_batch-8_lr-0001_auc-99',\n",
       " 'DEFINITIVO_1_mask_05_Xception_fine-05_batch-8_lr-0001_auc-99',\n",
       " 'DEFINITIVO_1_mask_Xception_fine-04_batch-8_lr-0001_auc-99',\n",
       " 'DEFINITIVO_2_05_Xception_fine-05_batch-8_lr-0001_auc-99',\n",
       " 'DEFINITIVO_2_Xception_fine-04_batch-8_lr-0001_auc-99',\n",
       " 'DEFINITIVO_2_mask_05_Xception_fine-05_batch-8_lr-0001_auc-99',\n",
       " 'DEFINITIVO_2_mask_Xception_fine-04_batch-8_lr-0001_auc-99',\n",
       " 'DEFINITIVO_3_05_Xception_fine-05_batch-8_lr-0001_auc-99',\n",
       " 'DEFINITIVO_3_Xception_fine-04_batch-8_lr-0001_auc-99',\n",
       " 'DEFINITIVO_3_mask_05_Xception_fine-05_batch-8_lr-0001_auc-99',\n",
       " 'DEFINITIVO_3_mask_Xception_fine-04_batch-8_lr-0001_auc-99',\n",
       " 'DEFINITIVO_4_05_Xception_fine-05_batch-8_lr-0001_auc-99',\n",
       " 'DEFINITIVO_4_Xception_fine-04_batch-8_lr-0001_auc-99',\n",
       " 'DEFINITIVO_4_mask_05_Xception_fine-05_batch-8_lr-0001_auc-99',\n",
       " 'DEFINITIVO_4_mask_Xception_fine-04_batch-8_lr-0001_auc-99',\n",
       " 'DEFINITIVO_5_05_Xception_fine-05_batch-8_lr-0001_auc-99',\n",
       " 'DEFINITIVO_5_Xception_fine-04_batch-8_lr-0001_auc-99',\n",
       " 'DEFINITIVO_5_mask_05_Xception_fine-05_batch-8_lr-0001_auc-99',\n",
       " 'DEFINITIVO_5_mask_Xception_fine-04_batch-8_lr-0001_auc-99',\n",
       " 'DEFINITIVO_6_05_Xception_fine-05_batch-8_lr-0001_auc-99',\n",
       " 'DEFINITIVO_6_Xception_fine-04_batch-8_lr-0001_auc-99',\n",
       " 'DEFINITIVO_6_mask_05_Xception_fine-05_batch-8_lr-0001_auc-99',\n",
       " 'DEFINITIVO_6_mask_Xception_fine-04_batch-8_lr-0001_auc-99',\n",
       " 'DEFINITIVO_7_05_Xception_fine-05_batch-8_lr-0001_auc-99',\n",
       " 'DEFINITIVO_7_Xception_fine-04_batch-8_lr-0001_auc-99',\n",
       " 'DEFINITIVO_7_mask_05_Xception_fine-05_batch-8_lr-0001_auc-99',\n",
       " 'DEFINITIVO_7_mask_Xception_fine-04_batch-8_lr-0001_auc-99'}"
      ]
     },
     "execution_count": 15,
     "metadata": {},
     "output_type": "execute_result"
    }
   ],
   "source": [
    "set(modelos)-set(modelos_evaluados)"
   ]
  },
  {
   "cell_type": "code",
   "execution_count": 404,
   "id": "bc182db1-0ec1-417c-b858-a459d3349a4b",
   "metadata": {},
   "outputs": [
    {
     "data": {
      "text/plain": [
       "set()"
      ]
     },
     "execution_count": 404,
     "metadata": {},
     "output_type": "execute_result"
    }
   ],
   "source": [
    "set(modelos_evaluados)-set(modelos)"
   ]
  },
  {
   "cell_type": "code",
   "execution_count": 405,
   "id": "fb3fb1eb",
   "metadata": {},
   "outputs": [],
   "source": [
    "y = 'auc'\n",
    "data = real\n",
    "lim = np.percentile(data[y], 20)"
   ]
  },
  {
   "cell_type": "code",
   "execution_count": 406,
   "id": "9e4e4d63",
   "metadata": {},
   "outputs": [
    {
     "data": {
      "text/plain": [
       "[(0.5, 1.0)]"
      ]
     },
     "execution_count": 406,
     "metadata": {},
     "output_type": "execute_result"
    },
    {
     "data": {
      "image/png": "[encoded data removed]",
      "text/plain": [
       "<Figure size 1000x500 with 1 Axes>"
      ]
     },
     "metadata": {},
     "output_type": "display_data"
    }
   ],
   "source": [
    "plt.subplots(figsize=(10,5))\n",
    "p = sns.boxplot(x=\"modelo\", y=y,\n",
    "                hue=\"mask\",\n",
    "                data=data)\n",
    "p.set(ylim=(0.5, 1))"
   ]
  },
  {
   "cell_type": "code",
   "execution_count": 407,
   "id": "1a2f73b5",
   "metadata": {},
   "outputs": [
    {
     "data": {
      "text/plain": [
       "[(0.5, 1.0)]"
      ]
     },
     "execution_count": 407,
     "metadata": {},
     "output_type": "execute_result"
    },
    {
     "data": {
      "image/png": "[encoded data removed]",
      "text/plain": [
       "<Figure size 1000x500 with 1 Axes>"
      ]
     },
     "metadata": {},
     "output_type": "display_data"
    }
   ],
   "source": [
    "plt.subplots(figsize=(10,5))\n",
    "p = sns.boxplot(x=\"modelo\", y=y,\n",
    "                hue=\"fine\",\n",
    "                data=data)\n",
    "p.set(ylim=(0.5, 1))"
   ]
  },
  {
   "cell_type": "code",
   "execution_count": null,
   "id": "06c8b7f2-3056-4f86-acf0-d5b9252bd9f9",
   "metadata": {},
   "outputs": [],
   "source": []
  }
 ],
 "metadata": {
  "kernelspec": {
   "display_name": "Python 3 (ipykernel)",
   "language": "python",
   "name": "python3"
  },
  "language_info": {
   "codemirror_mode": {
    "name": "ipython",
    "version": 3
   },
   "file_extension": ".py",
   "mimetype": "text/x-python",
   "name": "python",
   "nbconvert_exporter": "python",
   "pygments_lexer": "ipython3",
   "version": "3.10.6"
  }
 },
 "nbformat": 4,
 "nbformat_minor": 5
}
