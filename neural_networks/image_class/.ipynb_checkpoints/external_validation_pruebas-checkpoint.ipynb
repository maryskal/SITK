{
 "cells": [
  {
   "cell_type": "code",
   "execution_count": 17,
   "id": "93498caa-d72a-483e-ad51-601c79505cf6",
   "metadata": {},
   "outputs": [],
   "source": [
    "import os\n",
    "import pandas as pd\n",
    "import numpy as np\n",
    "import re\n",
    "import seaborn as sns\n",
    "import matplotlib.pyplot as plt"
   ]
  },
  {
   "cell_type": "markdown",
   "id": "2f9047d7-04a7-4bf1-8531-1a5ebe938d38",
   "metadata": {},
   "source": [
    "# EXTERNAL VALIDATION OVER PRUEBAS"
   ]
  },
  {
   "cell_type": "code",
   "execution_count": 18,
   "id": "9a52ce86-73e7-4777-8a58-d92d0c935222",
   "metadata": {},
   "outputs": [],
   "source": [
    "path = '/home/mr1142/Documents/Data/global_pneumonia_validation/val'\n",
    "real = pd.read_csv(os.path.join(path, 'results_comparation.csv'))"
   ]
  },
  {
   "cell_type": "code",
   "execution_count": 19,
   "id": "5343e9d8-10dd-4d6f-a43d-2a4b3155689d",
   "metadata": {},
   "outputs": [],
   "source": [
    "prueba = [i for i in real.index if bool(re.search('prueba', real.name[i]))]\n",
    "completo = [i for i in real.index if not bool(re.search('prueba', real.name[i]))]"
   ]
  },
  {
   "cell_type": "code",
   "execution_count": 20,
   "id": "95872633-e105-4a97-bd80-e2e6438394ef",
   "metadata": {},
   "outputs": [],
   "source": [
    "real = real.iloc[prueba]"
   ]
  },
  {
   "cell_type": "markdown",
   "id": "b96ad546-8f2c-405f-a265-b8f429acf45a",
   "metadata": {
    "tags": []
   },
   "source": [
    "## Extraer variables"
   ]
  },
  {
   "cell_type": "code",
   "execution_count": 59,
   "id": "74f9ef21-8840-4ebc-842b-0667fdb4fc07",
   "metadata": {},
   "outputs": [],
   "source": [
    "real['fine'] = [int(re.split('_', real.name[i])[-4][-2:])/10 for i in real.index]\n",
    "real['fine'] = [1 if real.fine[i] == 0 else real.fine[i] for i in real.index]\n",
    "real['lr'] = [re.split('_', real.name[i])[-2][3:] for i in real.index]\n",
    "real['lr'] = [1e-5 if real.lr[i] == '-05' else float('0.' + real.lr[i]) for i in real.index]\n",
    "real['auc_internal'] = [float(real.name[i][-2:])/100 for i in real.index]"
   ]
  },
  {
   "cell_type": "code",
   "execution_count": 60,
   "id": "3a37fec1-ed22-4aca-9ccd-29791802aae5",
   "metadata": {},
   "outputs": [],
   "source": [
    "real['mask'] = [1 if bool(re.search('mask', real.name[i])) else 0 for i in real.index]\n",
    "real['modelo'] = ['EffNet' if bool(re.search('EffNet', real.name[i])) else 'Xception' if bool(re.search('Xception', real.name[i])) else 'IncResNet' for i in real.index]"
   ]
  },
  {
   "cell_type": "code",
   "execution_count": 68,
   "id": "dcdf566f-e00e-4d4a-8e85-375d13fa5386",
   "metadata": {},
   "outputs": [
    {
     "data": {
      "text/html": [
       "<div>\n",
       "<style scoped>\n",
       "    .dataframe tbody tr th:only-of-type {\n",
       "        vertical-align: middle;\n",
       "    }\n",
       "\n",
       "    .dataframe tbody tr th {\n",
       "        vertical-align: top;\n",
       "    }\n",
       "\n",
       "    .dataframe thead th {\n",
       "        text-align: right;\n",
       "    }\n",
       "</style>\n",
       "<table border=\"1\" class=\"dataframe\">\n",
       "  <thead>\n",
       "    <tr style=\"text-align: right;\">\n",
       "      <th></th>\n",
       "      <th>auc</th>\n",
       "      <th>auc_internal</th>\n",
       "    </tr>\n",
       "  </thead>\n",
       "  <tbody>\n",
       "    <tr>\n",
       "      <th>74</th>\n",
       "      <td>0.840501</td>\n",
       "      <td>0.92</td>\n",
       "    </tr>\n",
       "    <tr>\n",
       "      <th>62</th>\n",
       "      <td>0.817342</td>\n",
       "      <td>0.92</td>\n",
       "    </tr>\n",
       "    <tr>\n",
       "      <th>68</th>\n",
       "      <td>0.723393</td>\n",
       "      <td>0.92</td>\n",
       "    </tr>\n",
       "    <tr>\n",
       "      <th>26</th>\n",
       "      <td>0.855300</td>\n",
       "      <td>0.92</td>\n",
       "    </tr>\n",
       "    <tr>\n",
       "      <th>54</th>\n",
       "      <td>0.715080</td>\n",
       "      <td>0.92</td>\n",
       "    </tr>\n",
       "    <tr>\n",
       "      <th>19</th>\n",
       "      <td>0.822688</td>\n",
       "      <td>0.92</td>\n",
       "    </tr>\n",
       "    <tr>\n",
       "      <th>22</th>\n",
       "      <td>0.864081</td>\n",
       "      <td>0.92</td>\n",
       "    </tr>\n",
       "    <tr>\n",
       "      <th>42</th>\n",
       "      <td>0.813166</td>\n",
       "      <td>0.93</td>\n",
       "    </tr>\n",
       "    <tr>\n",
       "      <th>23</th>\n",
       "      <td>0.819108</td>\n",
       "      <td>0.93</td>\n",
       "    </tr>\n",
       "    <tr>\n",
       "      <th>47</th>\n",
       "      <td>0.832495</td>\n",
       "      <td>0.93</td>\n",
       "    </tr>\n",
       "    <tr>\n",
       "      <th>8</th>\n",
       "      <td>0.847890</td>\n",
       "      <td>0.93</td>\n",
       "    </tr>\n",
       "    <tr>\n",
       "      <th>29</th>\n",
       "      <td>0.869230</td>\n",
       "      <td>0.93</td>\n",
       "    </tr>\n",
       "    <tr>\n",
       "      <th>0</th>\n",
       "      <td>0.788261</td>\n",
       "      <td>0.93</td>\n",
       "    </tr>\n",
       "    <tr>\n",
       "      <th>11</th>\n",
       "      <td>0.859510</td>\n",
       "      <td>0.94</td>\n",
       "    </tr>\n",
       "    <tr>\n",
       "      <th>4</th>\n",
       "      <td>0.817232</td>\n",
       "      <td>0.94</td>\n",
       "    </tr>\n",
       "    <tr>\n",
       "      <th>67</th>\n",
       "      <td>0.859257</td>\n",
       "      <td>0.94</td>\n",
       "    </tr>\n",
       "    <tr>\n",
       "      <th>73</th>\n",
       "      <td>0.851172</td>\n",
       "      <td>0.94</td>\n",
       "    </tr>\n",
       "    <tr>\n",
       "      <th>48</th>\n",
       "      <td>0.837286</td>\n",
       "      <td>0.95</td>\n",
       "    </tr>\n",
       "    <tr>\n",
       "      <th>3</th>\n",
       "      <td>0.842912</td>\n",
       "      <td>0.95</td>\n",
       "    </tr>\n",
       "    <tr>\n",
       "      <th>44</th>\n",
       "      <td>0.818655</td>\n",
       "      <td>0.96</td>\n",
       "    </tr>\n",
       "  </tbody>\n",
       "</table>\n",
       "</div>"
      ],
      "text/plain": [
       "         auc  auc_internal\n",
       "74  0.840501          0.92\n",
       "62  0.817342          0.92\n",
       "68  0.723393          0.92\n",
       "26  0.855300          0.92\n",
       "54  0.715080          0.92\n",
       "19  0.822688          0.92\n",
       "22  0.864081          0.92\n",
       "42  0.813166          0.93\n",
       "23  0.819108          0.93\n",
       "47  0.832495          0.93\n",
       "8   0.847890          0.93\n",
       "29  0.869230          0.93\n",
       "0   0.788261          0.93\n",
       "11  0.859510          0.94\n",
       "4   0.817232          0.94\n",
       "67  0.859257          0.94\n",
       "73  0.851172          0.94\n",
       "48  0.837286          0.95\n",
       "3   0.842912          0.95\n",
       "44  0.818655          0.96"
      ]
     },
     "execution_count": 68,
     "metadata": {},
     "output_type": "execute_result"
    }
   ],
   "source": [
    "real[['auc', 'auc_internal']].sort_values('auc_internal').tail(20)"
   ]
  },
  {
   "cell_type": "code",
   "execution_count": 7,
   "id": "242129e9-36c2-439a-b636-18ae1f4b2af6",
   "metadata": {},
   "outputs": [
    {
     "data": {
      "text/html": [
       "<div>\n",
       "<style scoped>\n",
       "    .dataframe tbody tr th:only-of-type {\n",
       "        vertical-align: middle;\n",
       "    }\n",
       "\n",
       "    .dataframe tbody tr th {\n",
       "        vertical-align: top;\n",
       "    }\n",
       "\n",
       "    .dataframe thead th {\n",
       "        text-align: right;\n",
       "    }\n",
       "</style>\n",
       "<table border=\"1\" class=\"dataframe\">\n",
       "  <thead>\n",
       "    <tr style=\"text-align: right;\">\n",
       "      <th></th>\n",
       "      <th>name</th>\n",
       "      <th>auc</th>\n",
       "      <th>younden</th>\n",
       "      <th>pr_max</th>\n",
       "      <th>pr_cut</th>\n",
       "      <th>f1_score_younden</th>\n",
       "      <th>precision_score_younden</th>\n",
       "      <th>recall_score_younden</th>\n",
       "      <th>accuracy_score_younden</th>\n",
       "      <th>f1_score_pr_max</th>\n",
       "      <th>...</th>\n",
       "      <th>accuracy_score_0.5</th>\n",
       "      <th>f1_score_max</th>\n",
       "      <th>precision_score_max</th>\n",
       "      <th>recall_score_max</th>\n",
       "      <th>accuracy_score_max</th>\n",
       "      <th>fine</th>\n",
       "      <th>lr</th>\n",
       "      <th>auc_internal</th>\n",
       "      <th>mask</th>\n",
       "      <th>modelo</th>\n",
       "    </tr>\n",
       "  </thead>\n",
       "  <tbody>\n",
       "    <tr>\n",
       "      <th>88</th>\n",
       "      <td>prueba_mask_EffNet3_fine-00_batch-8_lr--05_auc-51</td>\n",
       "      <td>0.421549</td>\n",
       "      <td>0.305094</td>\n",
       "      <td>0.304370</td>\n",
       "      <td>0</td>\n",
       "      <td>0.283292</td>\n",
       "      <td>0.608072</td>\n",
       "      <td>0.447238</td>\n",
       "      <td>0.447238</td>\n",
       "      <td>0.279383</td>\n",
       "      <td>...</td>\n",
       "      <td>0.556070</td>\n",
       "      <td>0.397429</td>\n",
       "      <td>0.309214</td>\n",
       "      <td>0.556070</td>\n",
       "      <td>0.556070</td>\n",
       "      <td>1.0</td>\n",
       "      <td>0.00001</td>\n",
       "      <td>0.51</td>\n",
       "      <td>1</td>\n",
       "      <td>EffNet</td>\n",
       "    </tr>\n",
       "    <tr>\n",
       "      <th>46</th>\n",
       "      <td>prueba_EffNet3_fine-08_batch-8_lr-0001_auc-57</td>\n",
       "      <td>0.489762</td>\n",
       "      <td>0.373283</td>\n",
       "      <td>0.346258</td>\n",
       "      <td>0</td>\n",
       "      <td>0.455433</td>\n",
       "      <td>0.560087</td>\n",
       "      <td>0.563182</td>\n",
       "      <td>0.563182</td>\n",
       "      <td>0.273331</td>\n",
       "      <td>...</td>\n",
       "      <td>0.556070</td>\n",
       "      <td>0.528836</td>\n",
       "      <td>0.529643</td>\n",
       "      <td>0.539696</td>\n",
       "      <td>0.539696</td>\n",
       "      <td>0.8</td>\n",
       "      <td>0.00010</td>\n",
       "      <td>0.57</td>\n",
       "      <td>0</td>\n",
       "      <td>EffNet</td>\n",
       "    </tr>\n",
       "    <tr>\n",
       "      <th>86</th>\n",
       "      <td>prueba_EffNet3_fine-08_batch-8_lr--05_auc-56</td>\n",
       "      <td>0.550674</td>\n",
       "      <td>0.283742</td>\n",
       "      <td>0.211669</td>\n",
       "      <td>0</td>\n",
       "      <td>0.543536</td>\n",
       "      <td>0.552626</td>\n",
       "      <td>0.542507</td>\n",
       "      <td>0.542507</td>\n",
       "      <td>0.273331</td>\n",
       "      <td>...</td>\n",
       "      <td>0.556070</td>\n",
       "      <td>0.397345</td>\n",
       "      <td>0.372438</td>\n",
       "      <td>0.555243</td>\n",
       "      <td>0.555243</td>\n",
       "      <td>0.8</td>\n",
       "      <td>0.00001</td>\n",
       "      <td>0.56</td>\n",
       "      <td>0</td>\n",
       "      <td>EffNet</td>\n",
       "    </tr>\n",
       "    <tr>\n",
       "      <th>63</th>\n",
       "      <td>prueba_EffNet3_fine-00_batch-8_lr-0001_auc-84</td>\n",
       "      <td>0.553769</td>\n",
       "      <td>0.310031</td>\n",
       "      <td>0.003239</td>\n",
       "      <td>0</td>\n",
       "      <td>0.546383</td>\n",
       "      <td>0.550122</td>\n",
       "      <td>0.544988</td>\n",
       "      <td>0.544988</td>\n",
       "      <td>0.273331</td>\n",
       "      <td>...</td>\n",
       "      <td>0.554912</td>\n",
       "      <td>0.543989</td>\n",
       "      <td>0.543057</td>\n",
       "      <td>0.545650</td>\n",
       "      <td>0.545650</td>\n",
       "      <td>1.0</td>\n",
       "      <td>0.00010</td>\n",
       "      <td>0.84</td>\n",
       "      <td>0</td>\n",
       "      <td>EffNet</td>\n",
       "    </tr>\n",
       "    <tr>\n",
       "      <th>90</th>\n",
       "      <td>prueba_mask_EffNet3_fine-00_batch-8_lr-001_auc-53</td>\n",
       "      <td>0.556769</td>\n",
       "      <td>0.294312</td>\n",
       "      <td>0.294300</td>\n",
       "      <td>0</td>\n",
       "      <td>0.499629</td>\n",
       "      <td>0.578634</td>\n",
       "      <td>0.526133</td>\n",
       "      <td>0.526133</td>\n",
       "      <td>0.318515</td>\n",
       "      <td>...</td>\n",
       "      <td>0.556070</td>\n",
       "      <td>0.397429</td>\n",
       "      <td>0.309214</td>\n",
       "      <td>0.556070</td>\n",
       "      <td>0.556070</td>\n",
       "      <td>1.0</td>\n",
       "      <td>0.00100</td>\n",
       "      <td>0.53</td>\n",
       "      <td>1</td>\n",
       "      <td>EffNet</td>\n",
       "    </tr>\n",
       "    <tr>\n",
       "      <th>...</th>\n",
       "      <td>...</td>\n",
       "      <td>...</td>\n",
       "      <td>...</td>\n",
       "      <td>...</td>\n",
       "      <td>...</td>\n",
       "      <td>...</td>\n",
       "      <td>...</td>\n",
       "      <td>...</td>\n",
       "      <td>...</td>\n",
       "      <td>...</td>\n",
       "      <td>...</td>\n",
       "      <td>...</td>\n",
       "      <td>...</td>\n",
       "      <td>...</td>\n",
       "      <td>...</td>\n",
       "      <td>...</td>\n",
       "      <td>...</td>\n",
       "      <td>...</td>\n",
       "      <td>...</td>\n",
       "      <td>...</td>\n",
       "      <td>...</td>\n",
       "    </tr>\n",
       "    <tr>\n",
       "      <th>70</th>\n",
       "      <td>prueba_mask_Xception_fine-05_batch-8_lr-0001_a...</td>\n",
       "      <td>0.877097</td>\n",
       "      <td>0.248858</td>\n",
       "      <td>0.052796</td>\n",
       "      <td>0</td>\n",
       "      <td>0.789854</td>\n",
       "      <td>0.790296</td>\n",
       "      <td>0.789613</td>\n",
       "      <td>0.789613</td>\n",
       "      <td>0.728906</td>\n",
       "      <td>...</td>\n",
       "      <td>0.774727</td>\n",
       "      <td>0.770193</td>\n",
       "      <td>0.781317</td>\n",
       "      <td>0.775058</td>\n",
       "      <td>0.775058</td>\n",
       "      <td>0.5</td>\n",
       "      <td>0.00010</td>\n",
       "      <td>0.91</td>\n",
       "      <td>1</td>\n",
       "      <td>Xception</td>\n",
       "    </tr>\n",
       "    <tr>\n",
       "      <th>43</th>\n",
       "      <td>prueba_mask_Xception_fine-00_batch-8_lr-0001_a...</td>\n",
       "      <td>0.877530</td>\n",
       "      <td>0.279207</td>\n",
       "      <td>0.067446</td>\n",
       "      <td>0</td>\n",
       "      <td>0.799799</td>\n",
       "      <td>0.801147</td>\n",
       "      <td>0.799371</td>\n",
       "      <td>0.799371</td>\n",
       "      <td>0.763528</td>\n",
       "      <td>...</td>\n",
       "      <td>0.789613</td>\n",
       "      <td>0.793321</td>\n",
       "      <td>0.793451</td>\n",
       "      <td>0.793913</td>\n",
       "      <td>0.793913</td>\n",
       "      <td>1.0</td>\n",
       "      <td>0.00010</td>\n",
       "      <td>0.90</td>\n",
       "      <td>1</td>\n",
       "      <td>Xception</td>\n",
       "    </tr>\n",
       "    <tr>\n",
       "      <th>78</th>\n",
       "      <td>prueba_mask_IncResNet_fine-05_batch-8_lr-001_a...</td>\n",
       "      <td>0.878872</td>\n",
       "      <td>0.166895</td>\n",
       "      <td>0.092253</td>\n",
       "      <td>0</td>\n",
       "      <td>0.787851</td>\n",
       "      <td>0.807077</td>\n",
       "      <td>0.787794</td>\n",
       "      <td>0.787794</td>\n",
       "      <td>0.756885</td>\n",
       "      <td>...</td>\n",
       "      <td>0.788290</td>\n",
       "      <td>0.788291</td>\n",
       "      <td>0.788546</td>\n",
       "      <td>0.788124</td>\n",
       "      <td>0.788124</td>\n",
       "      <td>0.5</td>\n",
       "      <td>0.00100</td>\n",
       "      <td>0.90</td>\n",
       "      <td>1</td>\n",
       "      <td>IncResNet</td>\n",
       "    </tr>\n",
       "    <tr>\n",
       "      <th>16</th>\n",
       "      <td>prueba_mask_Xception_fine-03_batch-8_lr-0001_a...</td>\n",
       "      <td>0.881758</td>\n",
       "      <td>0.239800</td>\n",
       "      <td>0.078482</td>\n",
       "      <td>0</td>\n",
       "      <td>0.797364</td>\n",
       "      <td>0.797578</td>\n",
       "      <td>0.797221</td>\n",
       "      <td>0.797221</td>\n",
       "      <td>0.746527</td>\n",
       "      <td>...</td>\n",
       "      <td>0.782335</td>\n",
       "      <td>0.779029</td>\n",
       "      <td>0.791676</td>\n",
       "      <td>0.783989</td>\n",
       "      <td>0.783989</td>\n",
       "      <td>0.3</td>\n",
       "      <td>0.00010</td>\n",
       "      <td>0.91</td>\n",
       "      <td>1</td>\n",
       "      <td>Xception</td>\n",
       "    </tr>\n",
       "    <tr>\n",
       "      <th>45</th>\n",
       "      <td>prueba_mask_IncResNet_fine-03_batch-8_lr-0001_...</td>\n",
       "      <td>0.898957</td>\n",
       "      <td>0.305877</td>\n",
       "      <td>0.126921</td>\n",
       "      <td>0</td>\n",
       "      <td>0.818429</td>\n",
       "      <td>0.821690</td>\n",
       "      <td>0.817896</td>\n",
       "      <td>0.817896</td>\n",
       "      <td>0.801276</td>\n",
       "      <td>...</td>\n",
       "      <td>0.810619</td>\n",
       "      <td>0.812793</td>\n",
       "      <td>0.813137</td>\n",
       "      <td>0.812603</td>\n",
       "      <td>0.812603</td>\n",
       "      <td>0.3</td>\n",
       "      <td>0.00010</td>\n",
       "      <td>0.91</td>\n",
       "      <td>1</td>\n",
       "      <td>IncResNet</td>\n",
       "    </tr>\n",
       "  </tbody>\n",
       "</table>\n",
       "<p>90 rows × 30 columns</p>\n",
       "</div>"
      ],
      "text/plain": [
       "                                                 name       auc   younden  \\\n",
       "88  prueba_mask_EffNet3_fine-00_batch-8_lr--05_auc-51  0.421549  0.305094   \n",
       "46      prueba_EffNet3_fine-08_batch-8_lr-0001_auc-57  0.489762  0.373283   \n",
       "86       prueba_EffNet3_fine-08_batch-8_lr--05_auc-56  0.550674  0.283742   \n",
       "63      prueba_EffNet3_fine-00_batch-8_lr-0001_auc-84  0.553769  0.310031   \n",
       "90  prueba_mask_EffNet3_fine-00_batch-8_lr-001_auc-53  0.556769  0.294312   \n",
       "..                                                ...       ...       ...   \n",
       "70  prueba_mask_Xception_fine-05_batch-8_lr-0001_a...  0.877097  0.248858   \n",
       "43  prueba_mask_Xception_fine-00_batch-8_lr-0001_a...  0.877530  0.279207   \n",
       "78  prueba_mask_IncResNet_fine-05_batch-8_lr-001_a...  0.878872  0.166895   \n",
       "16  prueba_mask_Xception_fine-03_batch-8_lr-0001_a...  0.881758  0.239800   \n",
       "45  prueba_mask_IncResNet_fine-03_batch-8_lr-0001_...  0.898957  0.305877   \n",
       "\n",
       "      pr_max  pr_cut  f1_score_younden  precision_score_younden  \\\n",
       "88  0.304370       0          0.283292                 0.608072   \n",
       "46  0.346258       0          0.455433                 0.560087   \n",
       "86  0.211669       0          0.543536                 0.552626   \n",
       "63  0.003239       0          0.546383                 0.550122   \n",
       "90  0.294300       0          0.499629                 0.578634   \n",
       "..       ...     ...               ...                      ...   \n",
       "70  0.052796       0          0.789854                 0.790296   \n",
       "43  0.067446       0          0.799799                 0.801147   \n",
       "78  0.092253       0          0.787851                 0.807077   \n",
       "16  0.078482       0          0.797364                 0.797578   \n",
       "45  0.126921       0          0.818429                 0.821690   \n",
       "\n",
       "    recall_score_younden  accuracy_score_younden  f1_score_pr_max  ...  \\\n",
       "88              0.447238                0.447238         0.279383  ...   \n",
       "46              0.563182                0.563182         0.273331  ...   \n",
       "86              0.542507                0.542507         0.273331  ...   \n",
       "63              0.544988                0.544988         0.273331  ...   \n",
       "90              0.526133                0.526133         0.318515  ...   \n",
       "..                   ...                     ...              ...  ...   \n",
       "70              0.789613                0.789613         0.728906  ...   \n",
       "43              0.799371                0.799371         0.763528  ...   \n",
       "78              0.787794                0.787794         0.756885  ...   \n",
       "16              0.797221                0.797221         0.746527  ...   \n",
       "45              0.817896                0.817896         0.801276  ...   \n",
       "\n",
       "    accuracy_score_0.5  f1_score_max  precision_score_max  recall_score_max  \\\n",
       "88            0.556070      0.397429             0.309214          0.556070   \n",
       "46            0.556070      0.528836             0.529643          0.539696   \n",
       "86            0.556070      0.397345             0.372438          0.555243   \n",
       "63            0.554912      0.543989             0.543057          0.545650   \n",
       "90            0.556070      0.397429             0.309214          0.556070   \n",
       "..                 ...           ...                  ...               ...   \n",
       "70            0.774727      0.770193             0.781317          0.775058   \n",
       "43            0.789613      0.793321             0.793451          0.793913   \n",
       "78            0.788290      0.788291             0.788546          0.788124   \n",
       "16            0.782335      0.779029             0.791676          0.783989   \n",
       "45            0.810619      0.812793             0.813137          0.812603   \n",
       "\n",
       "    accuracy_score_max  fine       lr  auc_internal  mask     modelo  \n",
       "88            0.556070   1.0  0.00001          0.51     1     EffNet  \n",
       "46            0.539696   0.8  0.00010          0.57     0     EffNet  \n",
       "86            0.555243   0.8  0.00001          0.56     0     EffNet  \n",
       "63            0.545650   1.0  0.00010          0.84     0     EffNet  \n",
       "90            0.556070   1.0  0.00100          0.53     1     EffNet  \n",
       "..                 ...   ...      ...           ...   ...        ...  \n",
       "70            0.775058   0.5  0.00010          0.91     1   Xception  \n",
       "43            0.793913   1.0  0.00010          0.90     1   Xception  \n",
       "78            0.788124   0.5  0.00100          0.90     1  IncResNet  \n",
       "16            0.783989   0.3  0.00010          0.91     1   Xception  \n",
       "45            0.812603   0.3  0.00010          0.91     1  IncResNet  \n",
       "\n",
       "[90 rows x 30 columns]"
      ]
     },
     "execution_count": 7,
     "metadata": {},
     "output_type": "execute_result"
    }
   ],
   "source": [
    "real.sort_values('auc')"
   ]
  },
  {
   "cell_type": "code",
   "execution_count": 8,
   "id": "616035f5-bb4a-4f1c-998c-96e0cced93a0",
   "metadata": {},
   "outputs": [],
   "source": [
    "p = '/home/mr1142/Documents/Data/models/neumonia'\n",
    "modelos = os.listdir(p)\n",
    "modelos = [modelo[:-3] for modelo in modelos if os.path.isfile(os.path.join(p, modelo))]\n",
    "modelos = [modelo for modelo in modelos if not bool(re.search('completo', modelo))]\n",
    "modelos_evaluados = list(real['name'])"
   ]
  },
  {
   "cell_type": "code",
   "execution_count": 9,
   "id": "17bf0c38-b3aa-427f-896d-048622930379",
   "metadata": {},
   "outputs": [
    {
     "data": {
      "text/plain": [
       "set()"
      ]
     },
     "execution_count": 9,
     "metadata": {},
     "output_type": "execute_result"
    }
   ],
   "source": [
    "set(modelos)-set(modelos_evaluados)"
   ]
  },
  {
   "cell_type": "code",
   "execution_count": 10,
   "id": "bc182db1-0ec1-417c-b858-a459d3349a4b",
   "metadata": {},
   "outputs": [
    {
     "data": {
      "text/plain": [
       "set()"
      ]
     },
     "execution_count": 10,
     "metadata": {},
     "output_type": "execute_result"
    }
   ],
   "source": [
    "set(modelos_evaluados)-set(modelos)"
   ]
  },
  {
   "cell_type": "code",
   "execution_count": 11,
   "id": "fb3fb1eb",
   "metadata": {},
   "outputs": [],
   "source": [
    "y = 'auc'\n",
    "data = real\n",
    "lim = np.percentile(data[y], 20)"
   ]
  },
  {
   "cell_type": "code",
   "execution_count": 12,
   "id": "9e4e4d63",
   "metadata": {},
   "outputs": [
    {
     "data": {
      "text/plain": [
       "[(0.5, 1.0)]"
      ]
     },
     "execution_count": 12,
     "metadata": {},
     "output_type": "execute_result"
    },
    {
     "data": {
      "image/png": "[encoded data removed]",
      "text/plain": [
       "<Figure size 1000x500 with 1 Axes>"
      ]
     },
     "metadata": {},
     "output_type": "display_data"
    }
   ],
   "source": [
    "plt.subplots(figsize=(10,5))\n",
    "p = sns.boxplot(x=\"modelo\", y=y,\n",
    "                hue=\"mask\",\n",
    "                data=data)\n",
    "p.set(ylim=(0.5, 1))"
   ]
  },
  {
   "cell_type": "code",
   "execution_count": 13,
   "id": "1a2f73b5",
   "metadata": {},
   "outputs": [
    {
     "data": {
      "text/plain": [
       "[(0.5, 1.0)]"
      ]
     },
     "execution_count": 13,
     "metadata": {},
     "output_type": "execute_result"
    },
    {
     "data": {
      "image/png": "[encoded data removed]",
      "text/plain": [
       "<Figure size 1000x500 with 1 Axes>"
      ]
     },
     "metadata": {},
     "output_type": "display_data"
    }
   ],
   "source": [
    "plt.subplots(figsize=(10,5))\n",
    "p = sns.boxplot(x=\"modelo\", y=y,\n",
    "                hue=\"fine\",\n",
    "                data=data)\n",
    "p.set(ylim=(0.5, 1))"
   ]
  },
  {
   "cell_type": "code",
   "execution_count": 14,
   "id": "8ba87352",
   "metadata": {},
   "outputs": [
    {
     "name": "stdout",
     "output_type": "stream",
     "text": [
      "The history saving thread hit an unexpected error (OperationalError('database is locked')).History will not be written to the database.\n"
     ]
    },
    {
     "data": {
      "text/plain": [
       "[(0.5, 1.0)]"
      ]
     },
     "execution_count": 14,
     "metadata": {},
     "output_type": "execute_result"
    },
    {
     "data": {
      "image/png": "[encoded data removed]",
      "text/plain": [
       "<Figure size 1000x500 with 1 Axes>"
      ]
     },
     "metadata": {},
     "output_type": "display_data"
    }
   ],
   "source": [
    "plt.subplots(figsize=(10,5))\n",
    "p = sns.boxplot(x=\"modelo\", y=y,\n",
    "                hue=\"lr\",\n",
    "                data=data)\n",
    "p.set(ylim=(0.5, 1))"
   ]
  },
  {
   "cell_type": "code",
   "execution_count": 15,
   "id": "a244a17c",
   "metadata": {},
   "outputs": [
    {
     "data": {
      "text/plain": [
       "[(0.5, 1.0)]"
      ]
     },
     "execution_count": 15,
     "metadata": {},
     "output_type": "execute_result"
    },
    {
     "data": {
      "image/png": "[encoded data removed]",
      "text/plain": [
       "<Figure size 1000x500 with 1 Axes>"
      ]
     },
     "metadata": {},
     "output_type": "display_data"
    }
   ],
   "source": [
    "plt.subplots(figsize=(10,5))\n",
    "p = sns.boxplot(x=\"lr\", y=y,\n",
    "                hue=\"mask\",\n",
    "                data=data)\n",
    "p.set(ylim=(0.5, 1))"
   ]
  },
  {
   "cell_type": "code",
   "execution_count": 16,
   "id": "0ad31c74",
   "metadata": {},
   "outputs": [
    {
     "data": {
      "text/plain": [
       "[(0.5, 1.0)]"
      ]
     },
     "execution_count": 16,
     "metadata": {},
     "output_type": "execute_result"
    },
    {
     "data": {
      "image/png": "[encoded data removed]",
      "text/plain": [
       "<Figure size 1000x500 with 1 Axes>"
      ]
     },
     "metadata": {},
     "output_type": "display_data"
    }
   ],
   "source": [
    "plt.subplots(figsize=(10,5))\n",
    "p = sns.boxplot(x=\"fine\", y=y,\n",
    "                hue=\"mask\",\n",
    "                data=data)\n",
    "p.set(ylim=(0.5, 1))"
   ]
  },
  {
   "cell_type": "code",
   "execution_count": 17,
   "id": "2bed33b7",
   "metadata": {},
   "outputs": [
    {
     "data": {
      "text/plain": [
       "[(0.7145311276819648, 1.0)]"
      ]
     },
     "execution_count": 17,
     "metadata": {},
     "output_type": "execute_result"
    },
    {
     "data": {
      "image/png": "[encoded data removed]",
      "text/plain": [
       "<Figure size 1000x500 with 1 Axes>"
      ]
     },
     "metadata": {},
     "output_type": "display_data"
    }
   ],
   "source": [
    "plt.subplots(figsize=(10,5))\n",
    "p = sns.boxplot(x=\"fine\", y=y,\n",
    "                hue=\"lr\",\n",
    "                data=data)\n",
    "p.set(ylim=(lim, 1))"
   ]
  },
  {
   "cell_type": "code",
   "execution_count": 18,
   "id": "5d2ce18f-fed2-4088-9d59-7f893c49962c",
   "metadata": {},
   "outputs": [
    {
     "data": {
      "text/plain": [
       "<seaborn.axisgrid.FacetGrid at 0x7fd803b0a620>"
      ]
     },
     "execution_count": 18,
     "metadata": {},
     "output_type": "execute_result"
    },
    {
     "data": {
      "image/png": "[encoded data removed]",
      "text/plain": [
       "<Figure size 558.875x500 with 1 Axes>"
      ]
     },
     "metadata": {},
     "output_type": "display_data"
    }
   ],
   "source": [
    "# plt.subplots(figsize=(10,5))\n",
    "data = real[real.auc_internal > 0.6]\n",
    "p = sns.lmplot(x=\"auc\", y='auc_internal',\n",
    "               hue= 'mask',\n",
    "                data=data, order = 2)\n",
    "p.set(ylim=(0.8, 1))"
   ]
  },
  {
   "cell_type": "code",
   "execution_count": 19,
   "id": "c0d3e07e-1834-4e94-b625-3e1847c1b740",
   "metadata": {},
   "outputs": [],
   "source": [
    "# real.to_csv(os.path.join(path, 'results_comparation.csv'), index = False)"
   ]
  },
  {
   "cell_type": "markdown",
   "id": "f5c636b2-e33b-4270-9a1b-dafeb00c1793",
   "metadata": {
    "tags": []
   },
   "source": [
    "# Modelo para predecir auc externa"
   ]
  },
  {
   "cell_type": "code",
   "execution_count": 20,
   "id": "fc6a6933",
   "metadata": {},
   "outputs": [
    {
     "name": "stderr",
     "output_type": "stream",
     "text": [
      "2022-10-05 11:37:17.861763: I tensorflow/core/platform/cpu_feature_guard.cc:193] This TensorFlow binary is optimized with oneAPI Deep Neural Network Library (oneDNN) to use the following CPU instructions in performance-critical operations:  SSE4.1 SSE4.2 AVX AVX2 FMA\n",
      "To enable them in other operations, rebuild TensorFlow with the appropriate compiler flags.\n"
     ]
    }
   ],
   "source": [
    "import tensorflow as tf\n",
    "from tensorflow import keras\n",
    "from tensorflow.keras import layers\n",
    "from sklearn.model_selection import train_test_split"
   ]
  },
  {
   "cell_type": "code",
   "execution_count": 21,
   "id": "cde8185c-3167-406a-a40f-e033a7f962d6",
   "metadata": {},
   "outputs": [],
   "source": [
    "df = real"
   ]
  },
  {
   "cell_type": "code",
   "execution_count": 22,
   "id": "6ac82455-4c42-4cb2-a176-5df3b0da8a97",
   "metadata": {},
   "outputs": [
    {
     "data": {
      "text/plain": [
       "Index(['name', 'auc', 'younden', 'pr_max', 'pr_cut', 'f1_score_younden',\n",
       "       'precision_score_younden', 'recall_score_younden',\n",
       "       'accuracy_score_younden', 'f1_score_pr_max', 'precision_score_pr_max',\n",
       "       'recall_score_pr_max', 'accuracy_score_pr_max', 'f1_score_pr_cut',\n",
       "       'precision_score_pr_cut', 'recall_score_pr_cut',\n",
       "       'accuracy_score_pr_cut', 'f1_score_0.5', 'precision_score_0.5',\n",
       "       'recall_score_0.5', 'accuracy_score_0.5', 'f1_score_max',\n",
       "       'precision_score_max', 'recall_score_max', 'accuracy_score_max', 'fine',\n",
       "       'lr', 'auc_internal', 'mask', 'modelo'],\n",
       "      dtype='object')"
      ]
     },
     "execution_count": 22,
     "metadata": {},
     "output_type": "execute_result"
    }
   ],
   "source": [
    "df.columns"
   ]
  },
  {
   "cell_type": "code",
   "execution_count": 23,
   "id": "6c9dc0fa",
   "metadata": {},
   "outputs": [],
   "source": [
    "df['modelo'], uniques_backbone = pd.factorize(df['modelo'])\n",
    "df['mask'], uniques_mask = pd.factorize(df['mask'])"
   ]
  },
  {
   "cell_type": "code",
   "execution_count": 253,
   "id": "58e92137",
   "metadata": {},
   "outputs": [],
   "source": [
    "os.environ['CUDA_VISIBLE_DEVICES'] = str(3)"
   ]
  },
  {
   "cell_type": "code",
   "execution_count": 255,
   "id": "77b090bf",
   "metadata": {},
   "outputs": [
    {
     "name": "stderr",
     "output_type": "stream",
     "text": [
      "2022-10-04 12:31:59.865978: I tensorflow/core/platform/cpu_feature_guard.cc:193] This TensorFlow binary is optimized with oneAPI Deep Neural Network Library (oneDNN) to use the following CPU instructions in performance-critical operations:  SSE4.1 SSE4.2 AVX AVX2 FMA\n",
      "To enable them in other operations, rebuild TensorFlow with the appropriate compiler flags.\n",
      "2022-10-04 12:32:00.522099: I tensorflow/core/common_runtime/gpu/gpu_device.cc:1616] Created device /job:localhost/replica:0/task:0/device:GPU:0 with 10405 MB memory:  -> device: 0, name: GeForce GTX 1080 Ti, pci bus id: 0000:0a:00.0, compute capability: 6.1\n"
     ]
    }
   ],
   "source": [
    "model = keras.Sequential(\n",
    "    [\n",
    "        layers.Dense(3, input_shape = (4,), activation=\"relu\", name=\"layer1\"),\n",
    "        layers.Dense(2, activation=\"relu\", name=\"layer3\"),\n",
    "        layers.Dense(1, activation='sigmoid', name=\"last\"),\n",
    "    ]\n",
    ")\n",
    "\n",
    "model.compile(optimizer=tf.keras.optimizers.Adam(learning_rate = 1e-5), \n",
    "                    loss = 'mean_absolute_error',\n",
    "                    metrics = ['mean_squared_error', 'mean_absolute_error'])"
   ]
  },
  {
   "cell_type": "code",
   "execution_count": 256,
   "id": "f4266228",
   "metadata": {},
   "outputs": [
    {
     "name": "stdout",
     "output_type": "stream",
     "text": [
      "Model: \"sequential\"\n",
      "_________________________________________________________________\n",
      " Layer (type)                Output Shape              Param #   \n",
      "=================================================================\n",
      " layer1 (Dense)              (None, 3)                 15        \n",
      "                                                                 \n",
      " layer3 (Dense)              (None, 2)                 8         \n",
      "                                                                 \n",
      " last (Dense)                (None, 1)                 3         \n",
      "                                                                 \n",
      "=================================================================\n",
      "Total params: 26\n",
      "Trainable params: 26\n",
      "Non-trainable params: 0\n",
      "_________________________________________________________________\n"
     ]
    }
   ],
   "source": [
    "model.summary()"
   ]
  },
  {
   "cell_type": "code",
   "execution_count": 258,
   "id": "8f940d8b",
   "metadata": {},
   "outputs": [],
   "source": [
    "X = np.array(df[['modelo', 'mask', 'lr', 'fine']])\n",
    "y = np.array(df['auc'])"
   ]
  },
  {
   "cell_type": "code",
   "execution_count": 259,
   "id": "94046818",
   "metadata": {},
   "outputs": [
    {
     "data": {
      "text/plain": [
       "90"
      ]
     },
     "execution_count": 259,
     "metadata": {},
     "output_type": "execute_result"
    }
   ],
   "source": [
    "len(y)"
   ]
  },
  {
   "cell_type": "code",
   "execution_count": 269,
   "id": "cc34b9e9",
   "metadata": {},
   "outputs": [],
   "source": [
    "history = model.fit(X, y,\n",
    "                    batch_size = 10,\n",
    "                    epochs = 100,\n",
    "                    validation_split = 0.2,\n",
    "                   verbose = 0)"
   ]
  },
  {
   "cell_type": "code",
   "execution_count": 270,
   "id": "1c897981",
   "metadata": {},
   "outputs": [
    {
     "data": {
      "text/plain": [
       "0.10541203618049622"
      ]
     },
     "execution_count": 270,
     "metadata": {},
     "output_type": "execute_result"
    }
   ],
   "source": [
    "min(history.history['val_loss'])"
   ]
  },
  {
   "cell_type": "code",
   "execution_count": 271,
   "id": "0171313e",
   "metadata": {},
   "outputs": [
    {
     "data": {
      "text/plain": [
       "[<matplotlib.lines.Line2D at 0x7f00a80e3310>]"
      ]
     },
     "execution_count": 271,
     "metadata": {},
     "output_type": "execute_result"
    },
    {
     "data": {
      "image/png": "[encoded data removed]",
      "text/plain": [
       "<Figure size 640x480 with 1 Axes>"
      ]
     },
     "metadata": {},
     "output_type": "display_data"
    }
   ],
   "source": [
    "plt.plot(history.history['val_loss'])\n",
    "plt.plot(history.history['loss'])"
   ]
  },
  {
   "cell_type": "markdown",
   "id": "58027bb6-5e17-4f42-a9a4-b98c6c080719",
   "metadata": {},
   "source": [
    "## Tuning from model"
   ]
  },
  {
   "cell_type": "code",
   "execution_count": 272,
   "id": "9c65ccd7-a528-4214-996d-a5ced7816a1f",
   "metadata": {},
   "outputs": [
    {
     "name": "stderr",
     "output_type": "stream",
     "text": [
      "/home/mr1142/miniconda3/envs/jupyter_env/lib/python3.10/site-packages/tqdm/auto.py:22: TqdmWarning: IProgress not found. Please update jupyter and ipywidgets. See https://ipywidgets.readthedocs.io/en/stable/user_install.html\n",
      "  from .autonotebook import tqdm as notebook_tqdm\n"
     ]
    }
   ],
   "source": [
    "from mango import Tuner, scheduler\n",
    "from scipy.stats import uniform"
   ]
  },
  {
   "cell_type": "code",
   "execution_count": 290,
   "id": "d5a49dcb-974a-4f4f-a9f1-b5399ab05c55",
   "metadata": {},
   "outputs": [],
   "source": [
    "param_space = dict(modelo= range(3),\n",
    "                    fine = uniform(0,1),\n",
    "                    lr= uniform(1e-5, 1e-3),\n",
    "                    mask = range(2))"
   ]
  },
  {
   "cell_type": "code",
   "execution_count": 291,
   "id": "40dc25b8",
   "metadata": {},
   "outputs": [],
   "source": [
    "@scheduler.serial\n",
    "def objective(**params):\n",
    "    print('--------NEW COMBINATION--------')\n",
    "    print(params)\n",
    "    combination = np.expand_dims(np.array([params['modelo'],params['mask'],params['lr'],params['fine']]),0)\n",
    "    prediction = model.predict(combination)[0][0]\n",
    "    return prediction"
   ]
  },
  {
   "cell_type": "code",
   "execution_count": 292,
   "id": "98a0b85b-5726-4f4c-a809-0cb7357e234a",
   "metadata": {},
   "outputs": [],
   "source": [
    "conf_dict = dict(num_iteration=50)"
   ]
  },
  {
   "cell_type": "code",
   "execution_count": 296,
   "id": "e1de5af7",
   "metadata": {},
   "outputs": [
    {
     "name": "stdout",
     "output_type": "stream",
     "text": [
      "--------NEW COMBINATION--------\n",
      "{'fine': 0.7066720852471984, 'lr': 0.00042392331062630976, 'mask': 1, 'modelo': 2}\n",
      "1/1 [==============================] - 0s 17ms/step\n",
      "--------NEW COMBINATION--------\n",
      "{'fine': 0.190717021994263, 'lr': 0.00024736346893210973, 'mask': 1, 'modelo': 0}\n",
      "1/1 [==============================] - 0s 16ms/step\n"
     ]
    },
    {
     "name": "stderr",
     "output_type": "stream",
     "text": [
      "  0%|                                                                         | 0/50 [00:00<?, ?it/s]"
     ]
    },
    {
     "name": "stdout",
     "output_type": "stream",
     "text": [
      "--------NEW COMBINATION--------\n",
      "{'fine': 0.14371264314398946, 'lr': 0.0006653049294603925, 'mask': 0, 'modelo': 0}\n",
      "1/1 [==============================] - 0s 15ms/step\n"
     ]
    },
    {
     "name": "stderr",
     "output_type": "stream",
     "text": [
      "Best score: 0.81594205:   2%|▊                                        | 1/50 [00:00<00:16,  3.02it/s]"
     ]
    },
    {
     "name": "stdout",
     "output_type": "stream",
     "text": [
      "--------NEW COMBINATION--------\n",
      "{'fine': 0.516073947417172, 'lr': 0.0009484315344370732, 'mask': 1, 'modelo': 2}\n",
      "1/1 [==============================] - 0s 15ms/step\n"
     ]
    },
    {
     "name": "stderr",
     "output_type": "stream",
     "text": [
      "Best score: 0.81594205:   4%|█▋                                       | 2/50 [00:00<00:10,  4.79it/s]"
     ]
    },
    {
     "name": "stdout",
     "output_type": "stream",
     "text": [
      "--------NEW COMBINATION--------\n",
      "{'fine': 0.6712719807289848, 'lr': 6.391242856901035e-05, 'mask': 1, 'modelo': 0}\n",
      "1/1 [==============================] - 0s 17ms/step\n"
     ]
    },
    {
     "name": "stderr",
     "output_type": "stream",
     "text": [
      "Best score: 0.81594205:   6%|██▍                                      | 3/50 [00:00<00:08,  5.34it/s]"
     ]
    },
    {
     "name": "stdout",
     "output_type": "stream",
     "text": [
      "--------NEW COMBINATION--------\n",
      "{'fine': 0.12277669803938274, 'lr': 0.0006089689844796352, 'mask': 0, 'modelo': 1}\n",
      "1/1 [==============================] - 0s 18ms/step\n"
     ]
    },
    {
     "name": "stderr",
     "output_type": "stream",
     "text": [
      "Best score: 0.81594205:   8%|███▎                                     | 4/50 [00:00<00:07,  5.78it/s]"
     ]
    },
    {
     "name": "stdout",
     "output_type": "stream",
     "text": [
      "--------NEW COMBINATION--------\n",
      "{'fine': 0.9211931863453614, 'lr': 0.0009932558330999928, 'mask': 1, 'modelo': 2}\n",
      "1/1 [==============================] - 0s 19ms/step\n"
     ]
    },
    {
     "name": "stderr",
     "output_type": "stream",
     "text": [
      "Best score: 0.82280636:  10%|████                                     | 5/50 [00:00<00:07,  6.18it/s]"
     ]
    },
    {
     "name": "stdout",
     "output_type": "stream",
     "text": [
      "--------NEW COMBINATION--------\n",
      "{'fine': 0.6482244668786846, 'lr': 0.00013632903627743353, 'mask': 0, 'modelo': 0}\n",
      "1/1 [==============================] - 0s 17ms/step\n"
     ]
    },
    {
     "name": "stderr",
     "output_type": "stream",
     "text": [
      "Best score: 0.82280636:  12%|████▉                                    | 6/50 [00:01<00:06,  6.54it/s]"
     ]
    },
    {
     "name": "stdout",
     "output_type": "stream",
     "text": [
      "--------NEW COMBINATION--------\n",
      "{'fine': 0.8054173998317247, 'lr': 0.000676261050400409, 'mask': 0, 'modelo': 1}\n",
      "1/1 [==============================] - 0s 30ms/step\n"
     ]
    },
    {
     "name": "stderr",
     "output_type": "stream",
     "text": [
      "Best score: 0.82280636:  14%|█████▋                                   | 7/50 [00:01<00:10,  4.30it/s]"
     ]
    },
    {
     "name": "stdout",
     "output_type": "stream",
     "text": [
      "--------NEW COMBINATION--------\n",
      "{'fine': 0.9999153262531808, 'lr': 0.0005166693504929763, 'mask': 1, 'modelo': 2}\n",
      "1/1 [==============================] - 0s 25ms/step\n"
     ]
    },
    {
     "name": "stderr",
     "output_type": "stream",
     "text": [
      "Best score: 0.8253078:  16%|██████▋                                   | 8/50 [00:01<00:09,  4.44it/s]"
     ]
    },
    {
     "name": "stdout",
     "output_type": "stream",
     "text": [
      "--------NEW COMBINATION--------\n",
      "{'fine': 0.08979410425823275, 'lr': 0.0001406143099892202, 'mask': 1, 'modelo': 0}\n",
      "1/1 [==============================] - 0s 15ms/step\n"
     ]
    },
    {
     "name": "stderr",
     "output_type": "stream",
     "text": [
      "Best score: 0.8253078:  18%|███████▌                                  | 9/50 [00:01<00:07,  5.20it/s]"
     ]
    },
    {
     "name": "stdout",
     "output_type": "stream",
     "text": [
      "--------NEW COMBINATION--------\n",
      "{'fine': 0.9990564041944622, 'lr': 8.379930716030292e-05, 'mask': 1, 'modelo': 2}\n",
      "1/1 [==============================] - 0s 29ms/step\n"
     ]
    },
    {
     "name": "stderr",
     "output_type": "stream",
     "text": [
      "Best score: 0.8253078:  20%|████████▏                                | 10/50 [00:02<00:08,  4.90it/s]"
     ]
    },
    {
     "name": "stdout",
     "output_type": "stream",
     "text": [
      "--------NEW COMBINATION--------\n",
      "{'fine': 0.2622100639136875, 'lr': 0.000719695613716607, 'mask': 1, 'modelo': 1}\n",
      "1/1 [==============================] - 0s 18ms/step\n"
     ]
    },
    {
     "name": "stderr",
     "output_type": "stream",
     "text": [
      "Best score: 0.8253078:  22%|█████████                                | 11/50 [00:02<00:07,  5.17it/s]"
     ]
    },
    {
     "name": "stdout",
     "output_type": "stream",
     "text": [
      "--------NEW COMBINATION--------\n",
      "{'fine': 0.3597509352890218, 'lr': 4.029486655619673e-05, 'mask': 0, 'modelo': 1}\n",
      "1/1 [==============================] - 0s 18ms/step\n"
     ]
    },
    {
     "name": "stderr",
     "output_type": "stream",
     "text": [
      "Best score: 0.8253078:  24%|█████████▊                               | 12/50 [00:02<00:09,  4.09it/s]"
     ]
    },
    {
     "name": "stdout",
     "output_type": "stream",
     "text": [
      "--------NEW COMBINATION--------\n",
      "{'fine': 0.9980725264530299, 'lr': 0.00019136510577668698, 'mask': 1, 'modelo': 2}\n",
      "1/1 [==============================] - 0s 28ms/step\n"
     ]
    },
    {
     "name": "stderr",
     "output_type": "stream",
     "text": [
      "Best score: 0.8253078:  26%|██████████▋                              | 13/50 [00:02<00:09,  4.02it/s]"
     ]
    },
    {
     "name": "stdout",
     "output_type": "stream",
     "text": [
      "--------NEW COMBINATION--------\n",
      "{'fine': 0.9992329076049508, 'lr': 0.0009303045515879746, 'mask': 1, 'modelo': 2}\n",
      "1/1 [==============================] - 0s 27ms/step\n"
     ]
    },
    {
     "name": "stderr",
     "output_type": "stream",
     "text": [
      "Best score: 0.8253078:  28%|███████████▍                             | 14/50 [00:03<00:09,  3.77it/s]"
     ]
    },
    {
     "name": "stdout",
     "output_type": "stream",
     "text": [
      "--------NEW COMBINATION--------\n",
      "{'fine': 0.7192106907074066, 'lr': 0.0005713902953982627, 'mask': 1, 'modelo': 1}\n",
      "1/1 [==============================] - 0s 16ms/step\n"
     ]
    },
    {
     "name": "stderr",
     "output_type": "stream",
     "text": [
      "Best score: 0.8253078:  30%|████████████▎                            | 15/50 [00:03<00:07,  4.47it/s]"
     ]
    },
    {
     "name": "stdout",
     "output_type": "stream",
     "text": [
      "--------NEW COMBINATION--------\n",
      "{'fine': 0.4647929070553741, 'lr': 0.0005971743162999671, 'mask': 0, 'modelo': 1}\n",
      "1/1 [==============================] - 0s 18ms/step\n"
     ]
    },
    {
     "name": "stderr",
     "output_type": "stream",
     "text": [
      "Best score: 0.8253078:  32%|█████████████                            | 16/50 [00:03<00:06,  5.04it/s]"
     ]
    },
    {
     "name": "stdout",
     "output_type": "stream",
     "text": [
      "--------NEW COMBINATION--------\n",
      "{'fine': 0.9973500228344939, 'lr': 0.0006049153676751295, 'mask': 1, 'modelo': 2}\n",
      "1/1 [==============================] - 0s 27ms/step\n"
     ]
    },
    {
     "name": "stderr",
     "output_type": "stream",
     "text": [
      "Best score: 0.8253078:  34%|█████████████▉                           | 17/50 [00:03<00:07,  4.62it/s]"
     ]
    },
    {
     "name": "stdout",
     "output_type": "stream",
     "text": [
      "--------NEW COMBINATION--------\n",
      "{'fine': 0.9967157580801803, 'lr': 0.00022273104635102913, 'mask': 1, 'modelo': 2}\n",
      "1/1 [==============================] - 0s 45ms/step\n"
     ]
    },
    {
     "name": "stderr",
     "output_type": "stream",
     "text": [
      "Best score: 0.8253078:  36%|██████████████▊                          | 18/50 [00:04<00:09,  3.22it/s]"
     ]
    },
    {
     "name": "stdout",
     "output_type": "stream",
     "text": [
      "--------NEW COMBINATION--------\n",
      "{'fine': 0.9959220309550095, 'lr': 0.0005175368165953281, 'mask': 1, 'modelo': 2}\n",
      "1/1 [==============================] - 0s 25ms/step\n"
     ]
    },
    {
     "name": "stderr",
     "output_type": "stream",
     "text": [
      "Best score: 0.8253078:  38%|███████████████▌                         | 19/50 [00:04<00:09,  3.22it/s]"
     ]
    },
    {
     "name": "stdout",
     "output_type": "stream",
     "text": [
      "--------NEW COMBINATION--------\n",
      "{'fine': 0.9943559592472565, 'lr': 0.00019208337474622983, 'mask': 1, 'modelo': 2}\n",
      "1/1 [==============================] - 0s 22ms/step\n"
     ]
    },
    {
     "name": "stderr",
     "output_type": "stream",
     "text": [
      "Best score: 0.8253078:  40%|████████████████▍                        | 20/50 [00:04<00:09,  3.22it/s]"
     ]
    },
    {
     "name": "stdout",
     "output_type": "stream",
     "text": [
      "--------NEW COMBINATION--------\n",
      "{'fine': 0.9949738841376433, 'lr': 0.0008592480067058451, 'mask': 1, 'modelo': 2}\n",
      "1/1 [==============================] - 0s 25ms/step\n"
     ]
    },
    {
     "name": "stderr",
     "output_type": "stream",
     "text": [
      "Best score: 0.8253078:  42%|█████████████████▏                       | 21/50 [00:05<00:09,  3.10it/s]"
     ]
    },
    {
     "name": "stdout",
     "output_type": "stream",
     "text": [
      "--------NEW COMBINATION--------\n",
      "{'fine': 0.9953066175861496, 'lr': 9.479995998220991e-05, 'mask': 1, 'modelo': 2}\n",
      "1/1 [==============================] - 0s 24ms/step\n"
     ]
    },
    {
     "name": "stderr",
     "output_type": "stream",
     "text": [
      "Best score: 0.8253078:  44%|██████████████████                       | 22/50 [00:05<00:08,  3.21it/s]"
     ]
    },
    {
     "name": "stdout",
     "output_type": "stream",
     "text": [
      "--------NEW COMBINATION--------\n",
      "{'fine': 0.993070214588864, 'lr': 4.1855773932195076e-05, 'mask': 1, 'modelo': 2}\n",
      "1/1 [==============================] - 0s 25ms/step\n"
     ]
    },
    {
     "name": "stderr",
     "output_type": "stream",
     "text": [
      "Best score: 0.8253078:  46%|██████████████████▊                      | 23/50 [00:05<00:10,  2.55it/s]"
     ]
    },
    {
     "name": "stdout",
     "output_type": "stream",
     "text": [
      "--------NEW COMBINATION--------\n",
      "{'fine': 0.4600152439987374, 'lr': 8.532872511184364e-05, 'mask': 1, 'modelo': 1}\n",
      "1/1 [==============================] - 0s 15ms/step\n"
     ]
    },
    {
     "name": "stderr",
     "output_type": "stream",
     "text": [
      "Best score: 0.8253078:  48%|███████████████████▋                     | 24/50 [00:06<00:08,  3.17it/s]"
     ]
    },
    {
     "name": "stdout",
     "output_type": "stream",
     "text": [
      "--------NEW COMBINATION--------\n",
      "{'fine': 0.9936437430901538, 'lr': 0.0008600489411072506, 'mask': 1, 'modelo': 2}\n",
      "1/1 [==============================] - 0s 23ms/step\n"
     ]
    },
    {
     "name": "stderr",
     "output_type": "stream",
     "text": [
      "Best score: 0.8253078:  50%|████████████████████▌                    | 25/50 [00:06<00:08,  3.12it/s]"
     ]
    },
    {
     "name": "stdout",
     "output_type": "stream",
     "text": [
      "--------NEW COMBINATION--------\n",
      "{'fine': 0.9920663756360595, 'lr': 2.4009650783231246e-05, 'mask': 1, 'modelo': 2}\n",
      "1/1 [==============================] - 0s 25ms/step\n"
     ]
    },
    {
     "name": "stderr",
     "output_type": "stream",
     "text": [
      "Best score: 0.8253078:  52%|█████████████████████▎                   | 26/50 [00:06<00:07,  3.13it/s]"
     ]
    },
    {
     "name": "stdout",
     "output_type": "stream",
     "text": [
      "--------NEW COMBINATION--------\n",
      "{'fine': 0.9926946382415024, 'lr': 0.0010024045998513725, 'mask': 1, 'modelo': 2}\n",
      "1/1 [==============================] - 0s 20ms/step\n"
     ]
    },
    {
     "name": "stderr",
     "output_type": "stream",
     "text": [
      "Best score: 0.8253078:  54%|██████████████████████▏                  | 27/50 [00:07<00:07,  3.15it/s]"
     ]
    },
    {
     "name": "stdout",
     "output_type": "stream",
     "text": [
      "--------NEW COMBINATION--------\n",
      "{'fine': 0.9915758028941559, 'lr': 0.0005359834271927765, 'mask': 1, 'modelo': 2}\n",
      "1/1 [==============================] - 0s 17ms/step\n"
     ]
    },
    {
     "name": "stderr",
     "output_type": "stream",
     "text": [
      "Best score: 0.8253078:  56%|██████████████████████▉                  | 28/50 [00:07<00:08,  2.52it/s]"
     ]
    },
    {
     "name": "stdout",
     "output_type": "stream",
     "text": [
      "--------NEW COMBINATION--------\n",
      "{'fine': 0.8543025980015484, 'lr': 0.0007267775059115141, 'mask': 0, 'modelo': 2}\n",
      "1/1 [==============================] - 0s 20ms/step\n"
     ]
    },
    {
     "name": "stderr",
     "output_type": "stream",
     "text": [
      "Best score: 0.8253078:  58%|███████████████████████▊                 | 29/50 [00:07<00:06,  3.12it/s]"
     ]
    },
    {
     "name": "stdout",
     "output_type": "stream",
     "text": [
      "--------NEW COMBINATION--------\n",
      "{'fine': 0.9909371311245385, 'lr': 6.835064524942225e-05, 'mask': 1, 'modelo': 2}\n",
      "1/1 [==============================] - 0s 28ms/step\n"
     ]
    },
    {
     "name": "stderr",
     "output_type": "stream",
     "text": [
      "Best score: 0.8253078:  60%|████████████████████████▌                | 30/50 [00:08<00:06,  2.94it/s]"
     ]
    },
    {
     "name": "stdout",
     "output_type": "stream",
     "text": [
      "--------NEW COMBINATION--------\n",
      "{'fine': 0.9900669537911835, 'lr': 0.0002869658553239885, 'mask': 1, 'modelo': 2}\n",
      "1/1 [==============================] - 0s 16ms/step\n"
     ]
    },
    {
     "name": "stderr",
     "output_type": "stream",
     "text": [
      "Best score: 0.8253078:  62%|█████████████████████████▍               | 31/50 [00:08<00:08,  2.26it/s]"
     ]
    },
    {
     "name": "stdout",
     "output_type": "stream",
     "text": [
      "--------NEW COMBINATION--------\n",
      "{'fine': 0.7498708727199733, 'lr': 0.0001778344868591225, 'mask': 1, 'modelo': 1}\n",
      "1/1 [==============================] - 0s 20ms/step\n"
     ]
    },
    {
     "name": "stderr",
     "output_type": "stream",
     "text": [
      "Best score: 0.8253078:  64%|██████████████████████████▏              | 32/50 [00:09<00:07,  2.31it/s]"
     ]
    },
    {
     "name": "stdout",
     "output_type": "stream",
     "text": [
      "--------NEW COMBINATION--------\n",
      "{'fine': 0.9887430438245677, 'lr': 2.786473248351284e-05, 'mask': 1, 'modelo': 2}\n",
      "1/1 [==============================] - 0s 18ms/step\n"
     ]
    },
    {
     "name": "stderr",
     "output_type": "stream",
     "text": [
      "Best score: 0.8253078:  66%|███████████████████████████              | 33/50 [00:10<00:10,  1.70it/s]"
     ]
    },
    {
     "name": "stdout",
     "output_type": "stream",
     "text": [
      "--------NEW COMBINATION--------\n",
      "{'fine': 0.989212045213637, 'lr': 0.0008137410590982547, 'mask': 1, 'modelo': 2}\n",
      "1/1 [==============================] - 0s 15ms/step\n"
     ]
    },
    {
     "name": "stderr",
     "output_type": "stream",
     "text": [
      "Best score: 0.8253078:  68%|███████████████████████████▉             | 34/50 [00:10<00:09,  1.70it/s]"
     ]
    },
    {
     "name": "stdout",
     "output_type": "stream",
     "text": [
      "--------NEW COMBINATION--------\n",
      "{'fine': 0.9907466669800548, 'lr': 0.0008946734110933013, 'mask': 1, 'modelo': 2}\n",
      "1/1 [==============================] - 0s 16ms/step\n"
     ]
    },
    {
     "name": "stderr",
     "output_type": "stream",
     "text": [
      "Best score: 0.8253078:  70%|████████████████████████████▋            | 35/50 [00:11<00:11,  1.34it/s]"
     ]
    },
    {
     "name": "stdout",
     "output_type": "stream",
     "text": [
      "--------NEW COMBINATION--------\n",
      "{'fine': 0.9878225881922371, 'lr': 0.0001357980863466146, 'mask': 1, 'modelo': 2}\n",
      "1/1 [==============================] - 0s 20ms/step\n"
     ]
    },
    {
     "name": "stderr",
     "output_type": "stream",
     "text": [
      "Best score: 0.8253078:  72%|█████████████████████████████▌           | 36/50 [00:13<00:12,  1.08it/s]"
     ]
    },
    {
     "name": "stdout",
     "output_type": "stream",
     "text": [
      "--------NEW COMBINATION--------\n",
      "{'fine': 0.9865216255703294, 'lr': 3.187277283109157e-05, 'mask': 1, 'modelo': 2}\n",
      "1/1 [==============================] - 0s 34ms/step\n"
     ]
    },
    {
     "name": "stderr",
     "output_type": "stream",
     "text": [
      "Best score: 0.8253078:  74%|██████████████████████████████▎          | 37/50 [00:14<00:13,  1.05s/it]"
     ]
    },
    {
     "name": "stdout",
     "output_type": "stream",
     "text": [
      "--------NEW COMBINATION--------\n",
      "{'fine': 0.988334156938695, 'lr': 0.0006651917466937594, 'mask': 1, 'modelo': 2}\n",
      "1/1 [==============================] - 0s 15ms/step\n"
     ]
    },
    {
     "name": "stderr",
     "output_type": "stream",
     "text": [
      "Best score: 0.8253078:  76%|███████████████████████████████▏         | 38/50 [00:15<00:11,  1.09it/s]"
     ]
    },
    {
     "name": "stdout",
     "output_type": "stream",
     "text": [
      "--------NEW COMBINATION--------\n",
      "{'fine': 0.9871887874121095, 'lr': 0.0006137862408809414, 'mask': 1, 'modelo': 2}\n",
      "1/1 [==============================] - 0s 23ms/step\n"
     ]
    },
    {
     "name": "stderr",
     "output_type": "stream",
     "text": [
      "Best score: 0.8253078:  78%|███████████████████████████████▉         | 39/50 [00:15<00:08,  1.26it/s]"
     ]
    },
    {
     "name": "stdout",
     "output_type": "stream",
     "text": [
      "--------NEW COMBINATION--------\n",
      "{'fine': 0.9856096807348419, 'lr': 0.00021606006965511402, 'mask': 1, 'modelo': 2}\n",
      "1/1 [==============================] - 0s 21ms/step\n"
     ]
    },
    {
     "name": "stderr",
     "output_type": "stream",
     "text": [
      "Best score: 0.8253078:  80%|████████████████████████████████▊        | 40/50 [00:16<00:07,  1.31it/s]"
     ]
    },
    {
     "name": "stdout",
     "output_type": "stream",
     "text": [
      "--------NEW COMBINATION--------\n",
      "{'fine': 0.9861868371872978, 'lr': 0.0007582737620559017, 'mask': 1, 'modelo': 2}\n",
      "1/1 [==============================] - 0s 15ms/step\n"
     ]
    },
    {
     "name": "stderr",
     "output_type": "stream",
     "text": [
      "Best score: 0.8253078:  82%|█████████████████████████████████▌       | 41/50 [00:17<00:07,  1.18it/s]"
     ]
    },
    {
     "name": "stdout",
     "output_type": "stream",
     "text": [
      "--------NEW COMBINATION--------\n",
      "{'fine': 0.9847534622511404, 'lr': 0.00039849332303983466, 'mask': 1, 'modelo': 2}\n",
      "1/1 [==============================] - 0s 30ms/step\n"
     ]
    },
    {
     "name": "stderr",
     "output_type": "stream",
     "text": [
      "Best score: 0.8253078:  84%|██████████████████████████████████▍      | 42/50 [00:18<00:07,  1.03it/s]"
     ]
    },
    {
     "name": "stdout",
     "output_type": "stream",
     "text": [
      "--------NEW COMBINATION--------\n",
      "{'fine': 0.9839687142218089, 'lr': 3.8935307877659415e-05, 'mask': 1, 'modelo': 2}\n",
      "1/1 [==============================] - 0s 32ms/step\n"
     ]
    },
    {
     "name": "stderr",
     "output_type": "stream",
     "text": [
      "Best score: 0.8253078:  86%|███████████████████████████████████▎     | 43/50 [00:20<00:07,  1.07s/it]"
     ]
    },
    {
     "name": "stdout",
     "output_type": "stream",
     "text": [
      "--------NEW COMBINATION--------\n",
      "{'fine': 0.9831082865882625, 'lr': 0.0004650124902137055, 'mask': 1, 'modelo': 2}\n",
      "1/1 [==============================] - 0s 16ms/step\n"
     ]
    },
    {
     "name": "stderr",
     "output_type": "stream",
     "text": [
      "Best score: 0.8253078:  88%|████████████████████████████████████     | 44/50 [00:20<00:05,  1.04it/s]"
     ]
    },
    {
     "name": "stdout",
     "output_type": "stream",
     "text": [
      "--------NEW COMBINATION--------\n",
      "{'fine': 0.9820688539093613, 'lr': 0.00018139927071185135, 'mask': 1, 'modelo': 2}\n",
      "1/1 [==============================] - 0s 19ms/step\n"
     ]
    },
    {
     "name": "stderr",
     "output_type": "stream",
     "text": [
      "Best score: 0.8253078:  90%|████████████████████████████████████▉    | 45/50 [00:21<00:04,  1.03it/s]"
     ]
    },
    {
     "name": "stdout",
     "output_type": "stream",
     "text": [
      "--------NEW COMBINATION--------\n",
      "{'fine': 0.9837440894862448, 'lr': 0.0008364498327991561, 'mask': 1, 'modelo': 2}\n",
      "1/1 [==============================] - 0s 15ms/step\n"
     ]
    },
    {
     "name": "stderr",
     "output_type": "stream",
     "text": [
      "Best score: 0.8253078:  92%|█████████████████████████████████████▋   | 46/50 [00:22<00:03,  1.01it/s]"
     ]
    },
    {
     "name": "stdout",
     "output_type": "stream",
     "text": [
      "--------NEW COMBINATION--------\n",
      "{'fine': 0.6855254626309699, 'lr': 0.0007484267730467172, 'mask': 1, 'modelo': 0}\n",
      "1/1 [==============================] - 0s 36ms/step\n"
     ]
    },
    {
     "name": "stderr",
     "output_type": "stream",
     "text": [
      "Best score: 0.8253078:  94%|██████████████████████████████████████▌  | 47/50 [00:22<00:02,  1.36it/s]"
     ]
    },
    {
     "name": "stdout",
     "output_type": "stream",
     "text": [
      "--------NEW COMBINATION--------\n",
      "{'fine': 0.9813467089196939, 'lr': 0.0004908005626015942, 'mask': 1, 'modelo': 2}\n",
      "1/1 [==============================] - 0s 15ms/step\n"
     ]
    },
    {
     "name": "stderr",
     "output_type": "stream",
     "text": [
      "Best score: 0.8253078:  96%|███████████████████████████████████████▎ | 48/50 [00:24<00:01,  1.02it/s]"
     ]
    },
    {
     "name": "stdout",
     "output_type": "stream",
     "text": [
      "--------NEW COMBINATION--------\n",
      "{'fine': 0.6232184041977603, 'lr': 0.00012709289774986843, 'mask': 1, 'modelo': 0}\n",
      "1/1 [==============================] - 0s 24ms/step\n"
     ]
    },
    {
     "name": "stderr",
     "output_type": "stream",
     "text": [
      "Best score: 0.8253078:  98%|████████████████████████████████████████▏| 49/50 [00:24<00:00,  1.36it/s]"
     ]
    },
    {
     "name": "stdout",
     "output_type": "stream",
     "text": [
      "--------NEW COMBINATION--------\n",
      "{'fine': 0.9804900927238556, 'lr': 0.00019279816217151522, 'mask': 1, 'modelo': 2}\n",
      "1/1 [==============================] - 0s 17ms/step\n"
     ]
    },
    {
     "name": "stderr",
     "output_type": "stream",
     "text": [
      "Best score: 0.8253078: 100%|█████████████████████████████████████████| 50/50 [00:25<00:00,  1.96it/s]\n"
     ]
    }
   ],
   "source": [
    "tuner = Tuner(param_space, objective, conf_dict)\n",
    "results = tuner.maximize()"
   ]
  },
  {
   "cell_type": "code",
   "execution_count": 297,
   "id": "6adf916d",
   "metadata": {},
   "outputs": [
    {
     "name": "stdout",
     "output_type": "stream",
     "text": [
      "Index(['Xception', 'EffNet', 'IncResNet'], dtype='object')\n",
      "Int64Index([0, 1], dtype='int64')\n"
     ]
    }
   ],
   "source": [
    "print(uniques_backbone)\n",
    "print(uniques_mask)"
   ]
  },
  {
   "cell_type": "code",
   "execution_count": 298,
   "id": "c6a6a994-cbe1-418b-9546-e29ca5b616a6",
   "metadata": {},
   "outputs": [
    {
     "name": "stdout",
     "output_type": "stream",
     "text": [
      "best parameters: {'fine': 0.9999153262531808, 'lr': 0.0005166693504929763, 'mask': 1, 'modelo': 2}\n",
      "best f1score: 0.8253078\n"
     ]
    }
   ],
   "source": [
    "print('best parameters:', results['best_params'])\n",
    "print('best f1score:', results['best_objective'])"
   ]
  }
 ],
 "metadata": {
  "kernelspec": {
   "display_name": "Python 3 (ipykernel)",
   "language": "python",
   "name": "python3"
  },
  "language_info": {
   "codemirror_mode": {
    "name": "ipython",
    "version": 3
   },
   "file_extension": ".py",
   "mimetype": "text/x-python",
   "name": "python",
   "nbconvert_exporter": "python",
   "pygments_lexer": "ipython3",
   "version": "3.10.6"
  }
 },
 "nbformat": 4,
 "nbformat_minor": 5
}
