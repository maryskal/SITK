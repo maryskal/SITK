{
 "cells": [
  {
   "cell_type": "markdown",
   "id": "a007f3a2",
   "metadata": {},
   "source": [
    "## completo_Xception_fine-05_batch-8_lr-0001_auc-99"
   ]
  },
  {
   "cell_type": "code",
   "execution_count": 20,
   "id": "2f68e1b1",
   "metadata": {},
   "outputs": [],
   "source": [
    "import matplotlib.pyplot as plt\n",
    "import pandas as pd\n",
    "import os\n",
    "import cv2\n",
    "import json"
   ]
  },
  {
   "cell_type": "code",
   "execution_count": 21,
   "id": "4da27d01",
   "metadata": {},
   "outputs": [],
   "source": [
    "model_name =  'completo_2_Xception_fine-05_batch-8_lr--05_auc-99'"
   ]
  },
  {
   "cell_type": "markdown",
   "id": "378ae2de",
   "metadata": {},
   "source": [
    "## Train"
   ]
  },
  {
   "cell_type": "code",
   "execution_count": 22,
   "id": "55bd035e",
   "metadata": {},
   "outputs": [],
   "source": [
    "path = '/home/mr1142/Documents/Data/models/neumonia/training_data/train_max_completo.csv'\n",
    "df = pd.read_csv(path)"
   ]
  },
  {
   "cell_type": "code",
   "execution_count": 23,
   "id": "30722b39",
   "metadata": {},
   "outputs": [
    {
     "data": {
      "text/plain": [
       "3    completo_2_Xception_fine-03_batch-8_lr-0001_au...\n",
       "Name: name, dtype: object"
      ]
     },
     "execution_count": 23,
     "metadata": {},
     "output_type": "execute_result"
    }
   ],
   "source": [
    "df.name[df.val_auc == max(df.val_auc)]"
   ]
  },
  {
   "cell_type": "code",
   "execution_count": 24,
   "id": "3636f599",
   "metadata": {},
   "outputs": [
    {
     "data": {
      "text/html": [
       "<div>\n",
       "<style scoped>\n",
       "    .dataframe tbody tr th:only-of-type {\n",
       "        vertical-align: middle;\n",
       "    }\n",
       "\n",
       "    .dataframe tbody tr th {\n",
       "        vertical-align: top;\n",
       "    }\n",
       "\n",
       "    .dataframe thead th {\n",
       "        text-align: right;\n",
       "    }\n",
       "</style>\n",
       "<table border=\"1\" class=\"dataframe\">\n",
       "  <thead>\n",
       "    <tr style=\"text-align: right;\">\n",
       "      <th></th>\n",
       "      <th>name</th>\n",
       "      <th>modelo</th>\n",
       "      <th>fine</th>\n",
       "      <th>batch</th>\n",
       "      <th>lr</th>\n",
       "      <th>mask</th>\n",
       "      <th>trainprop</th>\n",
       "      <th>pixels</th>\n",
       "      <th>subset</th>\n",
       "      <th>loss</th>\n",
       "      <th>binary_accuracy</th>\n",
       "      <th>precision</th>\n",
       "      <th>auc</th>\n",
       "      <th>val_loss</th>\n",
       "      <th>val_binary_accuracy</th>\n",
       "      <th>val_precision</th>\n",
       "      <th>val_auc</th>\n",
       "    </tr>\n",
       "  </thead>\n",
       "  <tbody>\n",
       "    <tr>\n",
       "      <th>4</th>\n",
       "      <td>completo_2_Xception_fine-05_batch-8_lr--05_auc-99</td>\n",
       "      <td>Xception</td>\n",
       "      <td>0.5</td>\n",
       "      <td>8</td>\n",
       "      <td>0.00004</td>\n",
       "      <td>False</td>\n",
       "      <td>0.8</td>\n",
       "      <td>512</td>\n",
       "      <td>False</td>\n",
       "      <td>0.381296</td>\n",
       "      <td>0.995832</td>\n",
       "      <td>0.993767</td>\n",
       "      <td>0.999747</td>\n",
       "      <td>0.327102</td>\n",
       "      <td>0.969306</td>\n",
       "      <td>0.954170</td>\n",
       "      <td>0.992108</td>\n",
       "    </tr>\n",
       "    <tr>\n",
       "      <th>5</th>\n",
       "      <td>completo_2_Xception_fine-05_batch-8_lr--05_auc-99</td>\n",
       "      <td>Xception</td>\n",
       "      <td>0.5</td>\n",
       "      <td>8</td>\n",
       "      <td>0.00006</td>\n",
       "      <td>False</td>\n",
       "      <td>0.8</td>\n",
       "      <td>512</td>\n",
       "      <td>False</td>\n",
       "      <td>0.333936</td>\n",
       "      <td>0.996612</td>\n",
       "      <td>0.994936</td>\n",
       "      <td>0.999685</td>\n",
       "      <td>0.224067</td>\n",
       "      <td>0.981096</td>\n",
       "      <td>0.971789</td>\n",
       "      <td>0.994956</td>\n",
       "    </tr>\n",
       "  </tbody>\n",
       "</table>\n",
       "</div>"
      ],
      "text/plain": [
       "                                                name    modelo  fine  batch  \\\n",
       "4  completo_2_Xception_fine-05_batch-8_lr--05_auc-99  Xception   0.5      8   \n",
       "5  completo_2_Xception_fine-05_batch-8_lr--05_auc-99  Xception   0.5      8   \n",
       "\n",
       "        lr   mask  trainprop  pixels subset      loss  binary_accuracy  \\\n",
       "4  0.00004  False        0.8     512  False  0.381296         0.995832   \n",
       "5  0.00006  False        0.8     512  False  0.333936         0.996612   \n",
       "\n",
       "   precision       auc  val_loss  val_binary_accuracy  val_precision   val_auc  \n",
       "4   0.993767  0.999747  0.327102             0.969306       0.954170  0.992108  \n",
       "5   0.994936  0.999685  0.224067             0.981096       0.971789  0.994956  "
      ]
     },
     "execution_count": 24,
     "metadata": {},
     "output_type": "execute_result"
    }
   ],
   "source": [
    "df[df.name == model_name]"
   ]
  },
  {
   "cell_type": "markdown",
   "id": "b8e4aa9d",
   "metadata": {},
   "source": [
    "## Evaluate"
   ]
  },
  {
   "cell_type": "code",
   "execution_count": 25,
   "id": "0df118b0",
   "metadata": {},
   "outputs": [],
   "source": [
    "path = '/home/mr1142/Documents/Data/models/neumonia/validation_results/image_class_evaluation_completo.csv'\n",
    "df = pd.read_csv(path)"
   ]
  },
  {
   "cell_type": "code",
   "execution_count": 26,
   "id": "aa0596f3",
   "metadata": {},
   "outputs": [
    {
     "data": {
      "text/plain": [
       "2    completo_2_Xception_fine-03_batch-8_lr-0001_au...\n",
       "Name: nombre, dtype: object"
      ]
     },
     "execution_count": 26,
     "metadata": {},
     "output_type": "execute_result"
    }
   ],
   "source": [
    "df.nombre[df.auc == max(df.auc)]"
   ]
  },
  {
   "cell_type": "code",
   "execution_count": 27,
   "id": "a09d5998",
   "metadata": {},
   "outputs": [
    {
     "data": {
      "text/html": [
       "<div>\n",
       "<style scoped>\n",
       "    .dataframe tbody tr th:only-of-type {\n",
       "        vertical-align: middle;\n",
       "    }\n",
       "\n",
       "    .dataframe tbody tr th {\n",
       "        vertical-align: top;\n",
       "    }\n",
       "\n",
       "    .dataframe thead th {\n",
       "        text-align: right;\n",
       "    }\n",
       "</style>\n",
       "<table border=\"1\" class=\"dataframe\">\n",
       "  <thead>\n",
       "    <tr style=\"text-align: right;\">\n",
       "      <th></th>\n",
       "      <th>nombre</th>\n",
       "      <th>loss</th>\n",
       "      <th>binary_accuracy</th>\n",
       "      <th>precision</th>\n",
       "      <th>auc</th>\n",
       "    </tr>\n",
       "  </thead>\n",
       "  <tbody>\n",
       "    <tr>\n",
       "      <th>3</th>\n",
       "      <td>completo_2_Xception_fine-05_batch-8_lr--05_auc...</td>\n",
       "      <td>0.118676</td>\n",
       "      <td>0.979278</td>\n",
       "      <td>0.968989</td>\n",
       "      <td>0.9935</td>\n",
       "    </tr>\n",
       "  </tbody>\n",
       "</table>\n",
       "</div>"
      ],
      "text/plain": [
       "                                              nombre      loss  \\\n",
       "3  completo_2_Xception_fine-05_batch-8_lr--05_auc...  0.118676   \n",
       "\n",
       "   binary_accuracy  precision     auc  \n",
       "3         0.979278   0.968989  0.9935  "
      ]
     },
     "execution_count": 27,
     "metadata": {},
     "output_type": "execute_result"
    }
   ],
   "source": [
    "df[df.nombre == model_name + '_val']"
   ]
  },
  {
   "cell_type": "code",
   "execution_count": 28,
   "id": "53f8c71b",
   "metadata": {},
   "outputs": [
    {
     "data": {
      "text/html": [
       "<div>\n",
       "<style scoped>\n",
       "    .dataframe tbody tr th:only-of-type {\n",
       "        vertical-align: middle;\n",
       "    }\n",
       "\n",
       "    .dataframe tbody tr th {\n",
       "        vertical-align: top;\n",
       "    }\n",
       "\n",
       "    .dataframe thead th {\n",
       "        text-align: right;\n",
       "    }\n",
       "</style>\n",
       "<table border=\"1\" class=\"dataframe\">\n",
       "  <thead>\n",
       "    <tr style=\"text-align: right;\">\n",
       "      <th></th>\n",
       "      <th>nombre</th>\n",
       "      <th>loss</th>\n",
       "      <th>binary_accuracy</th>\n",
       "      <th>precision</th>\n",
       "      <th>auc</th>\n",
       "    </tr>\n",
       "  </thead>\n",
       "  <tbody>\n",
       "  </tbody>\n",
       "</table>\n",
       "</div>"
      ],
      "text/plain": [
       "Empty DataFrame\n",
       "Columns: [nombre, loss, binary_accuracy, precision, auc]\n",
       "Index: []"
      ]
     },
     "execution_count": 28,
     "metadata": {},
     "output_type": "execute_result"
    }
   ],
   "source": [
    "df[df.nombre == model_name + '_test']"
   ]
  },
  {
   "cell_type": "markdown",
   "id": "af5dde64",
   "metadata": {},
   "source": [
    "## Predict"
   ]
  },
  {
   "cell_type": "code",
   "execution_count": 29,
   "id": "6cef7dc5",
   "metadata": {},
   "outputs": [],
   "source": [
    "path = '/home/mr1142/Documents/Data/models/neumonia/validation_results/prediction_validation_metrics_completo.csv'\n",
    "df = pd.read_csv(path)"
   ]
  },
  {
   "cell_type": "code",
   "execution_count": 30,
   "id": "1594211f",
   "metadata": {},
   "outputs": [],
   "source": [
    "df['auc_mean'] = (df.auc_0 + df.auc_1 + df.auc_2)/3\n",
    "df['f1_score_mean'] = (df.f1_score_0 + df.f1_score_1 + df.f1_score_2)/3"
   ]
  },
  {
   "cell_type": "code",
   "execution_count": 31,
   "id": "874812f0",
   "metadata": {},
   "outputs": [
    {
     "data": {
      "text/plain": [
       "3    completo_2_Xception_fine-05_batch-8_lr--05_auc-99\n",
       "Name: name, dtype: object"
      ]
     },
     "execution_count": 31,
     "metadata": {},
     "output_type": "execute_result"
    }
   ],
   "source": [
    "df.name[df.f1_score_mean == max(df.f1_score_mean)]"
   ]
  },
  {
   "cell_type": "code",
   "execution_count": 32,
   "id": "6cf6c362",
   "metadata": {},
   "outputs": [
    {
     "data": {
      "text/html": [
       "<div>\n",
       "<style scoped>\n",
       "    .dataframe tbody tr th:only-of-type {\n",
       "        vertical-align: middle;\n",
       "    }\n",
       "\n",
       "    .dataframe tbody tr th {\n",
       "        vertical-align: top;\n",
       "    }\n",
       "\n",
       "    .dataframe thead th {\n",
       "        text-align: right;\n",
       "    }\n",
       "</style>\n",
       "<table border=\"1\" class=\"dataframe\">\n",
       "  <thead>\n",
       "    <tr style=\"text-align: right;\">\n",
       "      <th></th>\n",
       "      <th>3</th>\n",
       "    </tr>\n",
       "  </thead>\n",
       "  <tbody>\n",
       "    <tr>\n",
       "      <th>name</th>\n",
       "      <td>completo_2_Xception_fine-05_batch-8_lr--05_auc-99</td>\n",
       "    </tr>\n",
       "    <tr>\n",
       "      <th>auc_0</th>\n",
       "      <td>0.996802</td>\n",
       "    </tr>\n",
       "    <tr>\n",
       "      <th>younden_0</th>\n",
       "      <td>0.100693</td>\n",
       "    </tr>\n",
       "    <tr>\n",
       "      <th>pr_max_0</th>\n",
       "      <td>0.122072</td>\n",
       "    </tr>\n",
       "    <tr>\n",
       "      <th>pr_cut_0</th>\n",
       "      <td>0.629077</td>\n",
       "    </tr>\n",
       "    <tr>\n",
       "      <th>auc_1</th>\n",
       "      <td>0.994864</td>\n",
       "    </tr>\n",
       "    <tr>\n",
       "      <th>younden_1</th>\n",
       "      <td>0.188809</td>\n",
       "    </tr>\n",
       "    <tr>\n",
       "      <th>pr_max_1</th>\n",
       "      <td>0.626905</td>\n",
       "    </tr>\n",
       "    <tr>\n",
       "      <th>pr_cut_1</th>\n",
       "      <td>0.329855</td>\n",
       "    </tr>\n",
       "    <tr>\n",
       "      <th>auc_2</th>\n",
       "      <td>0.999201</td>\n",
       "    </tr>\n",
       "    <tr>\n",
       "      <th>younden_2</th>\n",
       "      <td>0.256876</td>\n",
       "    </tr>\n",
       "    <tr>\n",
       "      <th>pr_max_2</th>\n",
       "      <td>0.730742</td>\n",
       "    </tr>\n",
       "    <tr>\n",
       "      <th>pr_cut_2</th>\n",
       "      <td>0.746442</td>\n",
       "    </tr>\n",
       "    <tr>\n",
       "      <th>f1_score_0</th>\n",
       "      <td>0.978358</td>\n",
       "    </tr>\n",
       "    <tr>\n",
       "      <th>precision_score_0</th>\n",
       "      <td>0.978382</td>\n",
       "    </tr>\n",
       "    <tr>\n",
       "      <th>recall_score_0</th>\n",
       "      <td>0.978342</td>\n",
       "    </tr>\n",
       "    <tr>\n",
       "      <th>accuracy_score_0</th>\n",
       "      <td>0.978342</td>\n",
       "    </tr>\n",
       "    <tr>\n",
       "      <th>f1_score_1</th>\n",
       "      <td>0.969862</td>\n",
       "    </tr>\n",
       "    <tr>\n",
       "      <th>precision_score_1</th>\n",
       "      <td>0.969868</td>\n",
       "    </tr>\n",
       "    <tr>\n",
       "      <th>recall_score_1</th>\n",
       "      <td>0.969928</td>\n",
       "    </tr>\n",
       "    <tr>\n",
       "      <th>accuracy_score_1</th>\n",
       "      <td>0.969928</td>\n",
       "    </tr>\n",
       "    <tr>\n",
       "      <th>f1_score_2</th>\n",
       "      <td>0.98942</td>\n",
       "    </tr>\n",
       "    <tr>\n",
       "      <th>precision_score_2</th>\n",
       "      <td>0.989467</td>\n",
       "    </tr>\n",
       "    <tr>\n",
       "      <th>recall_score_2</th>\n",
       "      <td>0.989405</td>\n",
       "    </tr>\n",
       "    <tr>\n",
       "      <th>accuracy_score_2</th>\n",
       "      <td>0.989405</td>\n",
       "    </tr>\n",
       "    <tr>\n",
       "      <th>f1_score[0, 1]</th>\n",
       "      <td>0.653419</td>\n",
       "    </tr>\n",
       "    <tr>\n",
       "      <th>precision_score[0, 1]</th>\n",
       "      <td>0.806648</td>\n",
       "    </tr>\n",
       "    <tr>\n",
       "      <th>recall_score[0, 1]</th>\n",
       "      <td>0.652384</td>\n",
       "    </tr>\n",
       "    <tr>\n",
       "      <th>accuracy_score[0, 1]</th>\n",
       "      <td>0.652384</td>\n",
       "    </tr>\n",
       "    <tr>\n",
       "      <th>f1_score[0, 2]</th>\n",
       "      <td>0.814118</td>\n",
       "    </tr>\n",
       "    <tr>\n",
       "      <th>precision_score[0, 2]</th>\n",
       "      <td>0.879098</td>\n",
       "    </tr>\n",
       "    <tr>\n",
       "      <th>recall_score[0, 2]</th>\n",
       "      <td>0.808352</td>\n",
       "    </tr>\n",
       "    <tr>\n",
       "      <th>accuracy_score[0, 2]</th>\n",
       "      <td>0.808352</td>\n",
       "    </tr>\n",
       "    <tr>\n",
       "      <th>f1_score[1, 2]</th>\n",
       "      <td>0.98447</td>\n",
       "    </tr>\n",
       "    <tr>\n",
       "      <th>precision_score[1, 2]</th>\n",
       "      <td>0.984689</td>\n",
       "    </tr>\n",
       "    <tr>\n",
       "      <th>recall_score[1, 2]</th>\n",
       "      <td>0.984419</td>\n",
       "    </tr>\n",
       "    <tr>\n",
       "      <th>accuracy_score[1, 2]</th>\n",
       "      <td>0.984419</td>\n",
       "    </tr>\n",
       "    <tr>\n",
       "      <th>auc_mean</th>\n",
       "      <td>0.996955</td>\n",
       "    </tr>\n",
       "    <tr>\n",
       "      <th>f1_score_mean</th>\n",
       "      <td>0.979213</td>\n",
       "    </tr>\n",
       "  </tbody>\n",
       "</table>\n",
       "</div>"
      ],
      "text/plain": [
       "                                                                       3\n",
       "name                   completo_2_Xception_fine-05_batch-8_lr--05_auc-99\n",
       "auc_0                                                           0.996802\n",
       "younden_0                                                       0.100693\n",
       "pr_max_0                                                        0.122072\n",
       "pr_cut_0                                                        0.629077\n",
       "auc_1                                                           0.994864\n",
       "younden_1                                                       0.188809\n",
       "pr_max_1                                                        0.626905\n",
       "pr_cut_1                                                        0.329855\n",
       "auc_2                                                           0.999201\n",
       "younden_2                                                       0.256876\n",
       "pr_max_2                                                        0.730742\n",
       "pr_cut_2                                                        0.746442\n",
       "f1_score_0                                                      0.978358\n",
       "precision_score_0                                               0.978382\n",
       "recall_score_0                                                  0.978342\n",
       "accuracy_score_0                                                0.978342\n",
       "f1_score_1                                                      0.969862\n",
       "precision_score_1                                               0.969868\n",
       "recall_score_1                                                  0.969928\n",
       "accuracy_score_1                                                0.969928\n",
       "f1_score_2                                                       0.98942\n",
       "precision_score_2                                               0.989467\n",
       "recall_score_2                                                  0.989405\n",
       "accuracy_score_2                                                0.989405\n",
       "f1_score[0, 1]                                                  0.653419\n",
       "precision_score[0, 1]                                           0.806648\n",
       "recall_score[0, 1]                                              0.652384\n",
       "accuracy_score[0, 1]                                            0.652384\n",
       "f1_score[0, 2]                                                  0.814118\n",
       "precision_score[0, 2]                                           0.879098\n",
       "recall_score[0, 2]                                              0.808352\n",
       "accuracy_score[0, 2]                                            0.808352\n",
       "f1_score[1, 2]                                                   0.98447\n",
       "precision_score[1, 2]                                           0.984689\n",
       "recall_score[1, 2]                                              0.984419\n",
       "accuracy_score[1, 2]                                            0.984419\n",
       "auc_mean                                                        0.996955\n",
       "f1_score_mean                                                   0.979213"
      ]
     },
     "execution_count": 32,
     "metadata": {},
     "output_type": "execute_result"
    }
   ],
   "source": [
    "df[df.name == model_name].transpose()"
   ]
  },
  {
   "cell_type": "code",
   "execution_count": 14,
   "id": "30f3e3b1",
   "metadata": {},
   "outputs": [
    {
     "data": {
      "text/html": [
       "<div>\n",
       "<style scoped>\n",
       "    .dataframe tbody tr th:only-of-type {\n",
       "        vertical-align: middle;\n",
       "    }\n",
       "\n",
       "    .dataframe tbody tr th {\n",
       "        vertical-align: top;\n",
       "    }\n",
       "\n",
       "    .dataframe thead th {\n",
       "        text-align: right;\n",
       "    }\n",
       "</style>\n",
       "<table border=\"1\" class=\"dataframe\">\n",
       "  <thead>\n",
       "    <tr style=\"text-align: right;\">\n",
       "      <th></th>\n",
       "    </tr>\n",
       "  </thead>\n",
       "  <tbody>\n",
       "    <tr>\n",
       "      <th>name</th>\n",
       "    </tr>\n",
       "    <tr>\n",
       "      <th>auc_0</th>\n",
       "    </tr>\n",
       "    <tr>\n",
       "      <th>younden_0</th>\n",
       "    </tr>\n",
       "    <tr>\n",
       "      <th>pr_max_0</th>\n",
       "    </tr>\n",
       "    <tr>\n",
       "      <th>pr_cut_0</th>\n",
       "    </tr>\n",
       "    <tr>\n",
       "      <th>auc_1</th>\n",
       "    </tr>\n",
       "    <tr>\n",
       "      <th>younden_1</th>\n",
       "    </tr>\n",
       "    <tr>\n",
       "      <th>pr_max_1</th>\n",
       "    </tr>\n",
       "    <tr>\n",
       "      <th>pr_cut_1</th>\n",
       "    </tr>\n",
       "    <tr>\n",
       "      <th>auc_2</th>\n",
       "    </tr>\n",
       "    <tr>\n",
       "      <th>younden_2</th>\n",
       "    </tr>\n",
       "    <tr>\n",
       "      <th>pr_max_2</th>\n",
       "    </tr>\n",
       "    <tr>\n",
       "      <th>pr_cut_2</th>\n",
       "    </tr>\n",
       "    <tr>\n",
       "      <th>f1_score_0</th>\n",
       "    </tr>\n",
       "    <tr>\n",
       "      <th>precision_score_0</th>\n",
       "    </tr>\n",
       "    <tr>\n",
       "      <th>recall_score_0</th>\n",
       "    </tr>\n",
       "    <tr>\n",
       "      <th>accuracy_score_0</th>\n",
       "    </tr>\n",
       "    <tr>\n",
       "      <th>f1_score_1</th>\n",
       "    </tr>\n",
       "    <tr>\n",
       "      <th>precision_score_1</th>\n",
       "    </tr>\n",
       "    <tr>\n",
       "      <th>recall_score_1</th>\n",
       "    </tr>\n",
       "    <tr>\n",
       "      <th>accuracy_score_1</th>\n",
       "    </tr>\n",
       "    <tr>\n",
       "      <th>f1_score_2</th>\n",
       "    </tr>\n",
       "    <tr>\n",
       "      <th>precision_score_2</th>\n",
       "    </tr>\n",
       "    <tr>\n",
       "      <th>recall_score_2</th>\n",
       "    </tr>\n",
       "    <tr>\n",
       "      <th>accuracy_score_2</th>\n",
       "    </tr>\n",
       "    <tr>\n",
       "      <th>f1_score[0, 1]</th>\n",
       "    </tr>\n",
       "    <tr>\n",
       "      <th>precision_score[0, 1]</th>\n",
       "    </tr>\n",
       "    <tr>\n",
       "      <th>recall_score[0, 1]</th>\n",
       "    </tr>\n",
       "    <tr>\n",
       "      <th>accuracy_score[0, 1]</th>\n",
       "    </tr>\n",
       "    <tr>\n",
       "      <th>f1_score[0, 2]</th>\n",
       "    </tr>\n",
       "    <tr>\n",
       "      <th>precision_score[0, 2]</th>\n",
       "    </tr>\n",
       "    <tr>\n",
       "      <th>recall_score[0, 2]</th>\n",
       "    </tr>\n",
       "    <tr>\n",
       "      <th>accuracy_score[0, 2]</th>\n",
       "    </tr>\n",
       "    <tr>\n",
       "      <th>f1_score[1, 2]</th>\n",
       "    </tr>\n",
       "    <tr>\n",
       "      <th>precision_score[1, 2]</th>\n",
       "    </tr>\n",
       "    <tr>\n",
       "      <th>recall_score[1, 2]</th>\n",
       "    </tr>\n",
       "    <tr>\n",
       "      <th>accuracy_score[1, 2]</th>\n",
       "    </tr>\n",
       "    <tr>\n",
       "      <th>auc_mean</th>\n",
       "    </tr>\n",
       "    <tr>\n",
       "      <th>f1_score_mean</th>\n",
       "    </tr>\n",
       "  </tbody>\n",
       "</table>\n",
       "</div>"
      ],
      "text/plain": [
       "Empty DataFrame\n",
       "Columns: []\n",
       "Index: [name, auc_0, younden_0, pr_max_0, pr_cut_0, auc_1, younden_1, pr_max_1, pr_cut_1, auc_2, younden_2, pr_max_2, pr_cut_2, f1_score_0, precision_score_0, recall_score_0, accuracy_score_0, f1_score_1, precision_score_1, recall_score_1, accuracy_score_1, f1_score_2, precision_score_2, recall_score_2, accuracy_score_2, f1_score[0, 1], precision_score[0, 1], recall_score[0, 1], accuracy_score[0, 1], f1_score[0, 2], precision_score[0, 2], recall_score[0, 2], accuracy_score[0, 2], f1_score[1, 2], precision_score[1, 2], recall_score[1, 2], accuracy_score[1, 2], auc_mean, f1_score_mean]"
      ]
     },
     "execution_count": 14,
     "metadata": {},
     "output_type": "execute_result"
    }
   ],
   "source": [
    "df[df.name == model_name + '_test'].transpose()"
   ]
  },
  {
   "cell_type": "markdown",
   "id": "3015ad26",
   "metadata": {},
   "source": [
    "# Plots"
   ]
  },
  {
   "cell_type": "markdown",
   "id": "7acdecef",
   "metadata": {},
   "source": [
    "## Train"
   ]
  },
  {
   "cell_type": "code",
   "execution_count": 15,
   "id": "7d8bdc49",
   "metadata": {},
   "outputs": [],
   "source": [
    "p = os.path.join('/home/mr1142/Documents/Data/models/neumonia/validation_results', model_name)"
   ]
  },
  {
   "cell_type": "code",
   "execution_count": 16,
   "id": "244ebc1c",
   "metadata": {},
   "outputs": [
    {
     "data": {
      "text/plain": [
       "['metricas.json',\n",
       " 'pred_rec_plot_0.png',\n",
       " 'auc_plot_0.png',\n",
       " 'pr_re_th_plot_0.png',\n",
       " 'pred_rec_plot_1.png',\n",
       " 'auc_plot_1.png',\n",
       " 'pr_re_th_plot_1.png',\n",
       " 'pred_rec_plot_2.png',\n",
       " 'auc_plot_2.png',\n",
       " 'pr_re_th_plot_2.png',\n",
       " 'class_report.csv']"
      ]
     },
     "execution_count": 16,
     "metadata": {},
     "output_type": "execute_result"
    }
   ],
   "source": [
    "os.listdir(p)"
   ]
  },
  {
   "cell_type": "code",
   "execution_count": 17,
   "id": "b4f7b188",
   "metadata": {},
   "outputs": [
    {
     "data": {
      "text/plain": [
       "<Figure size 2000x2000 with 0 Axes>"
      ]
     },
     "metadata": {},
     "output_type": "display_data"
    },
    {
     "data": {
      "image/png": "[encoded data removed]",
      "text/plain": [
       "<Figure size 2000x2000 with 9 Axes>"
      ]
     },
     "metadata": {},
     "output_type": "display_data"
    }
   ],
   "source": [
    "plt.figure(figsize=(20,20))\n",
    "figure, axis = plt.subplots(3, 3)\n",
    "figure.set_size_inches(20, 20)\n",
    "for i, m in enumerate(os.listdir(p)[1:-1]):\n",
    "    img = cv2.imread(os.path.join(p, m))\n",
    "    axis[int(i/3), i%3].imshow(img)"
   ]
  },
  {
   "cell_type": "code",
   "execution_count": 18,
   "id": "be2955d1",
   "metadata": {},
   "outputs": [
    {
     "data": {
      "text/plain": [
       "{'auc_0': 0.9968018844295143,\n",
       " 'younden_0': 0.1006927564740181,\n",
       " 'pr_max_0': 0.1220715269446373,\n",
       " 'pr_cut_0': 0.6290767788887024,\n",
       " 'auc_1': 0.9948636361650347,\n",
       " 'younden_1': 0.1888085901737213,\n",
       " 'pr_max_1': 0.626905083656311,\n",
       " 'pr_cut_1': 0.3298552334308624,\n",
       " 'auc_2': 0.9992006928394248,\n",
       " 'younden_2': 0.25687646865844727,\n",
       " 'pr_max_2': 0.7307422161102295,\n",
       " 'pr_cut_2': 0.7464416027069092,\n",
       " 'f1_score_0': 0.9783577951682908,\n",
       " 'precision_score_0': 0.978382313001384,\n",
       " 'recall_score_0': 0.9783421626674976,\n",
       " 'accuracy_score_0': 0.9783421626674976,\n",
       " 'f1_score_1': 0.9698619521616517,\n",
       " 'precision_score_1': 0.9698681473617542,\n",
       " 'recall_score_1': 0.9699283265814895,\n",
       " 'accuracy_score_1': 0.9699283265814895,\n",
       " 'f1_score_2': 0.9894201002672003,\n",
       " 'precision_score_2': 0.9894665418309501,\n",
       " 'recall_score_2': 0.9894047990028046,\n",
       " 'accuracy_score_2': 0.9894047990028046,\n",
       " 'f1_score[0, 1]': 0.6534191664039046,\n",
       " 'precision_score[0, 1]': 0.8066482410476448,\n",
       " 'recall_score[0, 1]': 0.652383920224369,\n",
       " 'accuracy_score[0, 1]': 0.652383920224369,\n",
       " 'f1_score[0, 2]': 0.8141183379835447,\n",
       " 'precision_score[0, 2]': 0.8790981023135337,\n",
       " 'recall_score[0, 2]': 0.8083515113742599,\n",
       " 'accuracy_score[0, 2]': 0.8083515113742599,\n",
       " 'f1_score[1, 2]': 0.9844703621779358,\n",
       " 'precision_score[1, 2]': 0.9846891390631984,\n",
       " 'recall_score[1, 2]': 0.984418822062948,\n",
       " 'accuracy_score[1, 2]': 0.984418822062948}"
      ]
     },
     "execution_count": 18,
     "metadata": {},
     "output_type": "execute_result"
    }
   ],
   "source": [
    "with open(os.path.join(p, 'metricas.json')) as json_file:\n",
    "    data = json.load(json_file)\n",
    "data"
   ]
  },
  {
   "cell_type": "code",
   "execution_count": 19,
   "id": "1e675049",
   "metadata": {},
   "outputs": [
    {
     "data": {
      "text/html": [
       "<div>\n",
       "<style scoped>\n",
       "    .dataframe tbody tr th:only-of-type {\n",
       "        vertical-align: middle;\n",
       "    }\n",
       "\n",
       "    .dataframe tbody tr th {\n",
       "        vertical-align: top;\n",
       "    }\n",
       "\n",
       "    .dataframe thead th {\n",
       "        text-align: right;\n",
       "    }\n",
       "</style>\n",
       "<table border=\"1\" class=\"dataframe\">\n",
       "  <thead>\n",
       "    <tr style=\"text-align: right;\">\n",
       "      <th></th>\n",
       "      <th>Unnamed: 0</th>\n",
       "      <th>precision</th>\n",
       "      <th>recall</th>\n",
       "      <th>f1-score</th>\n",
       "      <th>support</th>\n",
       "    </tr>\n",
       "  </thead>\n",
       "  <tbody>\n",
       "    <tr>\n",
       "      <th>0</th>\n",
       "      <td>normal</td>\n",
       "      <td>0.965281</td>\n",
       "      <td>0.971048</td>\n",
       "      <td>0.968156</td>\n",
       "      <td>2176.0</td>\n",
       "    </tr>\n",
       "    <tr>\n",
       "      <th>1</th>\n",
       "      <td>moderado</td>\n",
       "      <td>0.962910</td>\n",
       "      <td>0.946262</td>\n",
       "      <td>0.954513</td>\n",
       "      <td>2140.0</td>\n",
       "    </tr>\n",
       "    <tr>\n",
       "      <th>2</th>\n",
       "      <td>severo</td>\n",
       "      <td>0.978363</td>\n",
       "      <td>0.989534</td>\n",
       "      <td>0.983917</td>\n",
       "      <td>2102.0</td>\n",
       "    </tr>\n",
       "    <tr>\n",
       "      <th>3</th>\n",
       "      <td>micro avg</td>\n",
       "      <td>0.968838</td>\n",
       "      <td>0.968838</td>\n",
       "      <td>0.968838</td>\n",
       "      <td>6418.0</td>\n",
       "    </tr>\n",
       "    <tr>\n",
       "      <th>4</th>\n",
       "      <td>macro avg</td>\n",
       "      <td>0.968851</td>\n",
       "      <td>0.968948</td>\n",
       "      <td>0.968862</td>\n",
       "      <td>6418.0</td>\n",
       "    </tr>\n",
       "    <tr>\n",
       "      <th>5</th>\n",
       "      <td>weighted avg</td>\n",
       "      <td>0.968775</td>\n",
       "      <td>0.968838</td>\n",
       "      <td>0.968769</td>\n",
       "      <td>6418.0</td>\n",
       "    </tr>\n",
       "    <tr>\n",
       "      <th>6</th>\n",
       "      <td>samples avg</td>\n",
       "      <td>0.968838</td>\n",
       "      <td>0.968838</td>\n",
       "      <td>0.968838</td>\n",
       "      <td>6418.0</td>\n",
       "    </tr>\n",
       "  </tbody>\n",
       "</table>\n",
       "</div>"
      ],
      "text/plain": [
       "     Unnamed: 0  precision    recall  f1-score  support\n",
       "0        normal   0.965281  0.971048  0.968156   2176.0\n",
       "1      moderado   0.962910  0.946262  0.954513   2140.0\n",
       "2        severo   0.978363  0.989534  0.983917   2102.0\n",
       "3     micro avg   0.968838  0.968838  0.968838   6418.0\n",
       "4     macro avg   0.968851  0.968948  0.968862   6418.0\n",
       "5  weighted avg   0.968775  0.968838  0.968769   6418.0\n",
       "6   samples avg   0.968838  0.968838  0.968838   6418.0"
      ]
     },
     "execution_count": 19,
     "metadata": {},
     "output_type": "execute_result"
    }
   ],
   "source": [
    "df = pd.read_csv(os.path.join(p, 'class_report.csv'))\n",
    "df"
   ]
  },
  {
   "cell_type": "markdown",
   "id": "1ea2605f",
   "metadata": {},
   "source": [
    "## Test"
   ]
  },
  {
   "cell_type": "code",
   "execution_count": 20,
   "id": "b204ef86",
   "metadata": {},
   "outputs": [],
   "source": [
    "p = os.path.join('/home/mr1142/Documents/Data/models/neumonia/validation_results', model_name + '_test')"
   ]
  },
  {
   "cell_type": "code",
   "execution_count": 21,
   "id": "9c2797b2",
   "metadata": {},
   "outputs": [
    {
     "ename": "FileNotFoundError",
     "evalue": "[Errno 2] No such file or directory: '/home/mr1142/Documents/Data/models/neumonia/validation_results/completo_2_Xception_fine-05_batch-8_lr--05_auc-99_test'",
     "output_type": "error",
     "traceback": [
      "\u001b[0;31m---------------------------------------------------------------------------\u001b[0m",
      "\u001b[0;31mFileNotFoundError\u001b[0m                         Traceback (most recent call last)",
      "Cell \u001b[0;32mIn [21], line 1\u001b[0m\n\u001b[0;32m----> 1\u001b[0m os\u001b[38;5;241m.\u001b[39mlistdir(p)\n",
      "\u001b[0;31mFileNotFoundError\u001b[0m: [Errno 2] No such file or directory: '/home/mr1142/Documents/Data/models/neumonia/validation_results/completo_2_Xception_fine-05_batch-8_lr--05_auc-99_test'"
     ]
    }
   ],
   "source": [
    "os.listdir(p)"
   ]
  },
  {
   "cell_type": "code",
   "execution_count": null,
   "id": "a05f9c4f",
   "metadata": {},
   "outputs": [],
   "source": [
    "plt.figure(figsize=(20,20))\n",
    "figure, axis = plt.subplots(3, 3)\n",
    "figure.set_size_inches(20, 20)\n",
    "for i, m in enumerate(os.listdir(p)[1:-1]):\n",
    "    img = cv2.imread(os.path.join(p, m))\n",
    "    axis[int(i/3), i%3].imshow(img)"
   ]
  },
  {
   "cell_type": "code",
   "execution_count": 22,
   "id": "15181652",
   "metadata": {},
   "outputs": [
    {
     "ename": "FileNotFoundError",
     "evalue": "[Errno 2] No such file or directory: '/home/mr1142/Documents/Data/models/neumonia/validation_results/completo_2_Xception_fine-05_batch-8_lr--05_auc-99_test/metricas.json'",
     "output_type": "error",
     "traceback": [
      "\u001b[0;31m---------------------------------------------------------------------------\u001b[0m",
      "\u001b[0;31mFileNotFoundError\u001b[0m                         Traceback (most recent call last)",
      "Cell \u001b[0;32mIn [22], line 1\u001b[0m\n\u001b[0;32m----> 1\u001b[0m \u001b[38;5;28;01mwith\u001b[39;00m \u001b[38;5;28mopen\u001b[39m(os\u001b[38;5;241m.\u001b[39mpath\u001b[38;5;241m.\u001b[39mjoin(p, \u001b[38;5;124m'\u001b[39m\u001b[38;5;124mmetricas.json\u001b[39m\u001b[38;5;124m'\u001b[39m)) \u001b[38;5;28;01mas\u001b[39;00m json_file:\n\u001b[1;32m      2\u001b[0m     data \u001b[38;5;241m=\u001b[39m json\u001b[38;5;241m.\u001b[39mload(json_file)\n\u001b[1;32m      3\u001b[0m data\n",
      "\u001b[0;31mFileNotFoundError\u001b[0m: [Errno 2] No such file or directory: '/home/mr1142/Documents/Data/models/neumonia/validation_results/completo_2_Xception_fine-05_batch-8_lr--05_auc-99_test/metricas.json'"
     ]
    }
   ],
   "source": [
    "with open(os.path.join(p, 'metricas.json')) as json_file:\n",
    "    data = json.load(json_file)\n",
    "data"
   ]
  },
  {
   "cell_type": "code",
   "execution_count": 23,
   "id": "ffe24fcf",
   "metadata": {},
   "outputs": [
    {
     "ename": "FileNotFoundError",
     "evalue": "[Errno 2] No such file or directory: '/home/mr1142/Documents/Data/models/neumonia/validation_results/completo_2_Xception_fine-05_batch-8_lr--05_auc-99_test/class_report.csv'",
     "output_type": "error",
     "traceback": [
      "\u001b[0;31m---------------------------------------------------------------------------\u001b[0m",
      "\u001b[0;31mFileNotFoundError\u001b[0m                         Traceback (most recent call last)",
      "Cell \u001b[0;32mIn [23], line 1\u001b[0m\n\u001b[0;32m----> 1\u001b[0m df \u001b[38;5;241m=\u001b[39m pd\u001b[38;5;241m.\u001b[39mread_csv(os\u001b[38;5;241m.\u001b[39mpath\u001b[38;5;241m.\u001b[39mjoin(p, \u001b[38;5;124m'\u001b[39m\u001b[38;5;124mclass_report.csv\u001b[39m\u001b[38;5;124m'\u001b[39m))\n\u001b[1;32m      2\u001b[0m df\n",
      "File \u001b[0;32m~/miniconda3/envs/jupyter_env/lib/python3.10/site-packages/pandas/util/_decorators.py:211\u001b[0m, in \u001b[0;36mdeprecate_kwarg.<locals>._deprecate_kwarg.<locals>.wrapper\u001b[0;34m(*args, **kwargs)\u001b[0m\n\u001b[1;32m    209\u001b[0m     \u001b[38;5;28;01melse\u001b[39;00m:\n\u001b[1;32m    210\u001b[0m         kwargs[new_arg_name] \u001b[38;5;241m=\u001b[39m new_arg_value\n\u001b[0;32m--> 211\u001b[0m \u001b[38;5;28;01mreturn\u001b[39;00m \u001b[43mfunc\u001b[49m\u001b[43m(\u001b[49m\u001b[38;5;241;43m*\u001b[39;49m\u001b[43margs\u001b[49m\u001b[43m,\u001b[49m\u001b[43m \u001b[49m\u001b[38;5;241;43m*\u001b[39;49m\u001b[38;5;241;43m*\u001b[39;49m\u001b[43mkwargs\u001b[49m\u001b[43m)\u001b[49m\n",
      "File \u001b[0;32m~/miniconda3/envs/jupyter_env/lib/python3.10/site-packages/pandas/util/_decorators.py:317\u001b[0m, in \u001b[0;36mdeprecate_nonkeyword_arguments.<locals>.decorate.<locals>.wrapper\u001b[0;34m(*args, **kwargs)\u001b[0m\n\u001b[1;32m    311\u001b[0m \u001b[38;5;28;01mif\u001b[39;00m \u001b[38;5;28mlen\u001b[39m(args) \u001b[38;5;241m>\u001b[39m num_allow_args:\n\u001b[1;32m    312\u001b[0m     warnings\u001b[38;5;241m.\u001b[39mwarn(\n\u001b[1;32m    313\u001b[0m         msg\u001b[38;5;241m.\u001b[39mformat(arguments\u001b[38;5;241m=\u001b[39marguments),\n\u001b[1;32m    314\u001b[0m         \u001b[38;5;167;01mFutureWarning\u001b[39;00m,\n\u001b[1;32m    315\u001b[0m         stacklevel\u001b[38;5;241m=\u001b[39mfind_stack_level(inspect\u001b[38;5;241m.\u001b[39mcurrentframe()),\n\u001b[1;32m    316\u001b[0m     )\n\u001b[0;32m--> 317\u001b[0m \u001b[38;5;28;01mreturn\u001b[39;00m \u001b[43mfunc\u001b[49m\u001b[43m(\u001b[49m\u001b[38;5;241;43m*\u001b[39;49m\u001b[43margs\u001b[49m\u001b[43m,\u001b[49m\u001b[43m \u001b[49m\u001b[38;5;241;43m*\u001b[39;49m\u001b[38;5;241;43m*\u001b[39;49m\u001b[43mkwargs\u001b[49m\u001b[43m)\u001b[49m\n",
      "File \u001b[0;32m~/miniconda3/envs/jupyter_env/lib/python3.10/site-packages/pandas/io/parsers/readers.py:950\u001b[0m, in \u001b[0;36mread_csv\u001b[0;34m(filepath_or_buffer, sep, delimiter, header, names, index_col, usecols, squeeze, prefix, mangle_dupe_cols, dtype, engine, converters, true_values, false_values, skipinitialspace, skiprows, skipfooter, nrows, na_values, keep_default_na, na_filter, verbose, skip_blank_lines, parse_dates, infer_datetime_format, keep_date_col, date_parser, dayfirst, cache_dates, iterator, chunksize, compression, thousands, decimal, lineterminator, quotechar, quoting, doublequote, escapechar, comment, encoding, encoding_errors, dialect, error_bad_lines, warn_bad_lines, on_bad_lines, delim_whitespace, low_memory, memory_map, float_precision, storage_options)\u001b[0m\n\u001b[1;32m    935\u001b[0m kwds_defaults \u001b[38;5;241m=\u001b[39m _refine_defaults_read(\n\u001b[1;32m    936\u001b[0m     dialect,\n\u001b[1;32m    937\u001b[0m     delimiter,\n\u001b[0;32m   (...)\u001b[0m\n\u001b[1;32m    946\u001b[0m     defaults\u001b[38;5;241m=\u001b[39m{\u001b[38;5;124m\"\u001b[39m\u001b[38;5;124mdelimiter\u001b[39m\u001b[38;5;124m\"\u001b[39m: \u001b[38;5;124m\"\u001b[39m\u001b[38;5;124m,\u001b[39m\u001b[38;5;124m\"\u001b[39m},\n\u001b[1;32m    947\u001b[0m )\n\u001b[1;32m    948\u001b[0m kwds\u001b[38;5;241m.\u001b[39mupdate(kwds_defaults)\n\u001b[0;32m--> 950\u001b[0m \u001b[38;5;28;01mreturn\u001b[39;00m \u001b[43m_read\u001b[49m\u001b[43m(\u001b[49m\u001b[43mfilepath_or_buffer\u001b[49m\u001b[43m,\u001b[49m\u001b[43m \u001b[49m\u001b[43mkwds\u001b[49m\u001b[43m)\u001b[49m\n",
      "File \u001b[0;32m~/miniconda3/envs/jupyter_env/lib/python3.10/site-packages/pandas/io/parsers/readers.py:605\u001b[0m, in \u001b[0;36m_read\u001b[0;34m(filepath_or_buffer, kwds)\u001b[0m\n\u001b[1;32m    602\u001b[0m _validate_names(kwds\u001b[38;5;241m.\u001b[39mget(\u001b[38;5;124m\"\u001b[39m\u001b[38;5;124mnames\u001b[39m\u001b[38;5;124m\"\u001b[39m, \u001b[38;5;28;01mNone\u001b[39;00m))\n\u001b[1;32m    604\u001b[0m \u001b[38;5;66;03m# Create the parser.\u001b[39;00m\n\u001b[0;32m--> 605\u001b[0m parser \u001b[38;5;241m=\u001b[39m \u001b[43mTextFileReader\u001b[49m\u001b[43m(\u001b[49m\u001b[43mfilepath_or_buffer\u001b[49m\u001b[43m,\u001b[49m\u001b[43m \u001b[49m\u001b[38;5;241;43m*\u001b[39;49m\u001b[38;5;241;43m*\u001b[39;49m\u001b[43mkwds\u001b[49m\u001b[43m)\u001b[49m\n\u001b[1;32m    607\u001b[0m \u001b[38;5;28;01mif\u001b[39;00m chunksize \u001b[38;5;129;01mor\u001b[39;00m iterator:\n\u001b[1;32m    608\u001b[0m     \u001b[38;5;28;01mreturn\u001b[39;00m parser\n",
      "File \u001b[0;32m~/miniconda3/envs/jupyter_env/lib/python3.10/site-packages/pandas/io/parsers/readers.py:1442\u001b[0m, in \u001b[0;36mTextFileReader.__init__\u001b[0;34m(self, f, engine, **kwds)\u001b[0m\n\u001b[1;32m   1439\u001b[0m     \u001b[38;5;28mself\u001b[39m\u001b[38;5;241m.\u001b[39moptions[\u001b[38;5;124m\"\u001b[39m\u001b[38;5;124mhas_index_names\u001b[39m\u001b[38;5;124m\"\u001b[39m] \u001b[38;5;241m=\u001b[39m kwds[\u001b[38;5;124m\"\u001b[39m\u001b[38;5;124mhas_index_names\u001b[39m\u001b[38;5;124m\"\u001b[39m]\n\u001b[1;32m   1441\u001b[0m \u001b[38;5;28mself\u001b[39m\u001b[38;5;241m.\u001b[39mhandles: IOHandles \u001b[38;5;241m|\u001b[39m \u001b[38;5;28;01mNone\u001b[39;00m \u001b[38;5;241m=\u001b[39m \u001b[38;5;28;01mNone\u001b[39;00m\n\u001b[0;32m-> 1442\u001b[0m \u001b[38;5;28mself\u001b[39m\u001b[38;5;241m.\u001b[39m_engine \u001b[38;5;241m=\u001b[39m \u001b[38;5;28;43mself\u001b[39;49m\u001b[38;5;241;43m.\u001b[39;49m\u001b[43m_make_engine\u001b[49m\u001b[43m(\u001b[49m\u001b[43mf\u001b[49m\u001b[43m,\u001b[49m\u001b[43m \u001b[49m\u001b[38;5;28;43mself\u001b[39;49m\u001b[38;5;241;43m.\u001b[39;49m\u001b[43mengine\u001b[49m\u001b[43m)\u001b[49m\n",
      "File \u001b[0;32m~/miniconda3/envs/jupyter_env/lib/python3.10/site-packages/pandas/io/parsers/readers.py:1729\u001b[0m, in \u001b[0;36mTextFileReader._make_engine\u001b[0;34m(self, f, engine)\u001b[0m\n\u001b[1;32m   1727\u001b[0m     is_text \u001b[38;5;241m=\u001b[39m \u001b[38;5;28;01mFalse\u001b[39;00m\n\u001b[1;32m   1728\u001b[0m     mode \u001b[38;5;241m=\u001b[39m \u001b[38;5;124m\"\u001b[39m\u001b[38;5;124mrb\u001b[39m\u001b[38;5;124m\"\u001b[39m\n\u001b[0;32m-> 1729\u001b[0m \u001b[38;5;28mself\u001b[39m\u001b[38;5;241m.\u001b[39mhandles \u001b[38;5;241m=\u001b[39m \u001b[43mget_handle\u001b[49m\u001b[43m(\u001b[49m\n\u001b[1;32m   1730\u001b[0m \u001b[43m    \u001b[49m\u001b[43mf\u001b[49m\u001b[43m,\u001b[49m\n\u001b[1;32m   1731\u001b[0m \u001b[43m    \u001b[49m\u001b[43mmode\u001b[49m\u001b[43m,\u001b[49m\n\u001b[1;32m   1732\u001b[0m \u001b[43m    \u001b[49m\u001b[43mencoding\u001b[49m\u001b[38;5;241;43m=\u001b[39;49m\u001b[38;5;28;43mself\u001b[39;49m\u001b[38;5;241;43m.\u001b[39;49m\u001b[43moptions\u001b[49m\u001b[38;5;241;43m.\u001b[39;49m\u001b[43mget\u001b[49m\u001b[43m(\u001b[49m\u001b[38;5;124;43m\"\u001b[39;49m\u001b[38;5;124;43mencoding\u001b[39;49m\u001b[38;5;124;43m\"\u001b[39;49m\u001b[43m,\u001b[49m\u001b[43m \u001b[49m\u001b[38;5;28;43;01mNone\u001b[39;49;00m\u001b[43m)\u001b[49m\u001b[43m,\u001b[49m\n\u001b[1;32m   1733\u001b[0m \u001b[43m    \u001b[49m\u001b[43mcompression\u001b[49m\u001b[38;5;241;43m=\u001b[39;49m\u001b[38;5;28;43mself\u001b[39;49m\u001b[38;5;241;43m.\u001b[39;49m\u001b[43moptions\u001b[49m\u001b[38;5;241;43m.\u001b[39;49m\u001b[43mget\u001b[49m\u001b[43m(\u001b[49m\u001b[38;5;124;43m\"\u001b[39;49m\u001b[38;5;124;43mcompression\u001b[39;49m\u001b[38;5;124;43m\"\u001b[39;49m\u001b[43m,\u001b[49m\u001b[43m \u001b[49m\u001b[38;5;28;43;01mNone\u001b[39;49;00m\u001b[43m)\u001b[49m\u001b[43m,\u001b[49m\n\u001b[1;32m   1734\u001b[0m \u001b[43m    \u001b[49m\u001b[43mmemory_map\u001b[49m\u001b[38;5;241;43m=\u001b[39;49m\u001b[38;5;28;43mself\u001b[39;49m\u001b[38;5;241;43m.\u001b[39;49m\u001b[43moptions\u001b[49m\u001b[38;5;241;43m.\u001b[39;49m\u001b[43mget\u001b[49m\u001b[43m(\u001b[49m\u001b[38;5;124;43m\"\u001b[39;49m\u001b[38;5;124;43mmemory_map\u001b[39;49m\u001b[38;5;124;43m\"\u001b[39;49m\u001b[43m,\u001b[49m\u001b[43m \u001b[49m\u001b[38;5;28;43;01mFalse\u001b[39;49;00m\u001b[43m)\u001b[49m\u001b[43m,\u001b[49m\n\u001b[1;32m   1735\u001b[0m \u001b[43m    \u001b[49m\u001b[43mis_text\u001b[49m\u001b[38;5;241;43m=\u001b[39;49m\u001b[43mis_text\u001b[49m\u001b[43m,\u001b[49m\n\u001b[1;32m   1736\u001b[0m \u001b[43m    \u001b[49m\u001b[43merrors\u001b[49m\u001b[38;5;241;43m=\u001b[39;49m\u001b[38;5;28;43mself\u001b[39;49m\u001b[38;5;241;43m.\u001b[39;49m\u001b[43moptions\u001b[49m\u001b[38;5;241;43m.\u001b[39;49m\u001b[43mget\u001b[49m\u001b[43m(\u001b[49m\u001b[38;5;124;43m\"\u001b[39;49m\u001b[38;5;124;43mencoding_errors\u001b[39;49m\u001b[38;5;124;43m\"\u001b[39;49m\u001b[43m,\u001b[49m\u001b[43m \u001b[49m\u001b[38;5;124;43m\"\u001b[39;49m\u001b[38;5;124;43mstrict\u001b[39;49m\u001b[38;5;124;43m\"\u001b[39;49m\u001b[43m)\u001b[49m\u001b[43m,\u001b[49m\n\u001b[1;32m   1737\u001b[0m \u001b[43m    \u001b[49m\u001b[43mstorage_options\u001b[49m\u001b[38;5;241;43m=\u001b[39;49m\u001b[38;5;28;43mself\u001b[39;49m\u001b[38;5;241;43m.\u001b[39;49m\u001b[43moptions\u001b[49m\u001b[38;5;241;43m.\u001b[39;49m\u001b[43mget\u001b[49m\u001b[43m(\u001b[49m\u001b[38;5;124;43m\"\u001b[39;49m\u001b[38;5;124;43mstorage_options\u001b[39;49m\u001b[38;5;124;43m\"\u001b[39;49m\u001b[43m,\u001b[49m\u001b[43m \u001b[49m\u001b[38;5;28;43;01mNone\u001b[39;49;00m\u001b[43m)\u001b[49m\u001b[43m,\u001b[49m\n\u001b[1;32m   1738\u001b[0m \u001b[43m\u001b[49m\u001b[43m)\u001b[49m\n\u001b[1;32m   1739\u001b[0m \u001b[38;5;28;01massert\u001b[39;00m \u001b[38;5;28mself\u001b[39m\u001b[38;5;241m.\u001b[39mhandles \u001b[38;5;129;01mis\u001b[39;00m \u001b[38;5;129;01mnot\u001b[39;00m \u001b[38;5;28;01mNone\u001b[39;00m\n\u001b[1;32m   1740\u001b[0m f \u001b[38;5;241m=\u001b[39m \u001b[38;5;28mself\u001b[39m\u001b[38;5;241m.\u001b[39mhandles\u001b[38;5;241m.\u001b[39mhandle\n",
      "File \u001b[0;32m~/miniconda3/envs/jupyter_env/lib/python3.10/site-packages/pandas/io/common.py:857\u001b[0m, in \u001b[0;36mget_handle\u001b[0;34m(path_or_buf, mode, encoding, compression, memory_map, is_text, errors, storage_options)\u001b[0m\n\u001b[1;32m    852\u001b[0m \u001b[38;5;28;01melif\u001b[39;00m \u001b[38;5;28misinstance\u001b[39m(handle, \u001b[38;5;28mstr\u001b[39m):\n\u001b[1;32m    853\u001b[0m     \u001b[38;5;66;03m# Check whether the filename is to be opened in binary mode.\u001b[39;00m\n\u001b[1;32m    854\u001b[0m     \u001b[38;5;66;03m# Binary mode does not support 'encoding' and 'newline'.\u001b[39;00m\n\u001b[1;32m    855\u001b[0m     \u001b[38;5;28;01mif\u001b[39;00m ioargs\u001b[38;5;241m.\u001b[39mencoding \u001b[38;5;129;01mand\u001b[39;00m \u001b[38;5;124m\"\u001b[39m\u001b[38;5;124mb\u001b[39m\u001b[38;5;124m\"\u001b[39m \u001b[38;5;129;01mnot\u001b[39;00m \u001b[38;5;129;01min\u001b[39;00m ioargs\u001b[38;5;241m.\u001b[39mmode:\n\u001b[1;32m    856\u001b[0m         \u001b[38;5;66;03m# Encoding\u001b[39;00m\n\u001b[0;32m--> 857\u001b[0m         handle \u001b[38;5;241m=\u001b[39m \u001b[38;5;28;43mopen\u001b[39;49m\u001b[43m(\u001b[49m\n\u001b[1;32m    858\u001b[0m \u001b[43m            \u001b[49m\u001b[43mhandle\u001b[49m\u001b[43m,\u001b[49m\n\u001b[1;32m    859\u001b[0m \u001b[43m            \u001b[49m\u001b[43mioargs\u001b[49m\u001b[38;5;241;43m.\u001b[39;49m\u001b[43mmode\u001b[49m\u001b[43m,\u001b[49m\n\u001b[1;32m    860\u001b[0m \u001b[43m            \u001b[49m\u001b[43mencoding\u001b[49m\u001b[38;5;241;43m=\u001b[39;49m\u001b[43mioargs\u001b[49m\u001b[38;5;241;43m.\u001b[39;49m\u001b[43mencoding\u001b[49m\u001b[43m,\u001b[49m\n\u001b[1;32m    861\u001b[0m \u001b[43m            \u001b[49m\u001b[43merrors\u001b[49m\u001b[38;5;241;43m=\u001b[39;49m\u001b[43merrors\u001b[49m\u001b[43m,\u001b[49m\n\u001b[1;32m    862\u001b[0m \u001b[43m            \u001b[49m\u001b[43mnewline\u001b[49m\u001b[38;5;241;43m=\u001b[39;49m\u001b[38;5;124;43m\"\u001b[39;49m\u001b[38;5;124;43m\"\u001b[39;49m\u001b[43m,\u001b[49m\n\u001b[1;32m    863\u001b[0m \u001b[43m        \u001b[49m\u001b[43m)\u001b[49m\n\u001b[1;32m    864\u001b[0m     \u001b[38;5;28;01melse\u001b[39;00m:\n\u001b[1;32m    865\u001b[0m         \u001b[38;5;66;03m# Binary mode\u001b[39;00m\n\u001b[1;32m    866\u001b[0m         handle \u001b[38;5;241m=\u001b[39m \u001b[38;5;28mopen\u001b[39m(handle, ioargs\u001b[38;5;241m.\u001b[39mmode)\n",
      "\u001b[0;31mFileNotFoundError\u001b[0m: [Errno 2] No such file or directory: '/home/mr1142/Documents/Data/models/neumonia/validation_results/completo_2_Xception_fine-05_batch-8_lr--05_auc-99_test/class_report.csv'"
     ]
    }
   ],
   "source": [
    "df = pd.read_csv(os.path.join(p, 'class_report.csv'))\n",
    "df"
   ]
  },
  {
   "cell_type": "markdown",
   "id": "e6e89ee3",
   "metadata": {},
   "source": [
    "# OTHER DATASETS"
   ]
  },
  {
   "cell_type": "code",
   "execution_count": 10,
   "id": "eefe65cf",
   "metadata": {},
   "outputs": [
    {
     "name": "stderr",
     "output_type": "stream",
     "text": [
      "2022-10-13 14:04:05.774748: I tensorflow/core/platform/cpu_feature_guard.cc:193] This TensorFlow binary is optimized with oneAPI Deep Neural Network Library (oneDNN) to use the following CPU instructions in performance-critical operations:  SSE4.1 SSE4.2 AVX AVX2 FMA\n",
      "To enable them in other operations, rebuild TensorFlow with the appropriate compiler flags.\n"
     ]
    }
   ],
   "source": [
    "import re\n",
    "import numpy as np\n",
    "from tqdm import tqdm\n",
    "import shutil\n",
    "from skimage import measure\n",
    "from scipy import ndimage\n",
    "import cv2\n",
    "import tensorflow as tf\n",
    "from tensorflow.keras import backend as K\n",
    "from tensorflow import keras\n",
    "from skimage import exposure, filters\n",
    "from sklearn import metrics"
   ]
  },
  {
   "cell_type": "code",
   "execution_count": 11,
   "id": "273aab92",
   "metadata": {},
   "outputs": [],
   "source": [
    "os.environ['CUDA_VISIBLE_DEVICES'] = str(0)"
   ]
  },
  {
   "cell_type": "code",
   "execution_count": 12,
   "id": "75241196",
   "metadata": {},
   "outputs": [
    {
     "name": "stderr",
     "output_type": "stream",
     "text": [
      "2022-10-13 14:04:29.911335: I tensorflow/core/platform/cpu_feature_guard.cc:193] This TensorFlow binary is optimized with oneAPI Deep Neural Network Library (oneDNN) to use the following CPU instructions in performance-critical operations:  SSE4.1 SSE4.2 AVX AVX2 FMA\n",
      "To enable them in other operations, rebuild TensorFlow with the appropriate compiler flags.\n",
      "2022-10-13 14:04:36.327598: I tensorflow/core/common_runtime/gpu/gpu_device.cc:1616] Created device /job:localhost/replica:0/task:0/device:GPU:0 with 10402 MB memory:  -> device: 0, name: GeForce GTX 1080 Ti, pci bus id: 0000:05:00.0, compute capability: 6.1\n"
     ]
    }
   ],
   "source": [
    "model_path = '/home/mr1142/Documents/Data/models/neumonia/'+ model_name + '.h5'\n",
    "neumonia_model = tf.keras.models.load_model(model_path)"
   ]
  },
  {
   "cell_type": "markdown",
   "id": "f9276257",
   "metadata": {},
   "source": [
    "## Funciones"
   ]
  },
  {
   "cell_type": "code",
   "execution_count": 13,
   "id": "e4dc57f9",
   "metadata": {},
   "outputs": [],
   "source": [
    "def recolor_resize(img, pix=256):\n",
    "    try:\n",
    "        img = cv2.cvtColor(img, cv2.COLOR_BGR2GRAY)\n",
    "    except:\n",
    "        print('', end = '')\n",
    "    img = cv2.resize(img, (pix, pix))\n",
    "    img = np.expand_dims(img, axis=-1)\n",
    "    return img\n",
    "\n",
    "\n",
    "def recolor(img):\n",
    "    try:\n",
    "        img = cv2.cvtColor(img, cv2.COLOR_BGR2GRAY)\n",
    "    except:\n",
    "        print('', end = '')\n",
    "    return img\n",
    "\n",
    "\n",
    "def normalize(img):\n",
    "    return (img - np.mean(img))/ np.std(img)\n",
    "\n",
    "\n",
    "def quitar_trozos(mask):\n",
    "    mask = measure.label(mask)\n",
    "    ntotal = {k: (k==mask).sum() for k in np.unique(mask) if k >0}\n",
    "    k = list(ntotal.keys())[np.argmax(list(ntotal.values()))]\n",
    "    mask = k==mask\n",
    "    mask = ndimage.binary_fill_holes(mask, structure=np.ones((5,5)))\n",
    "    return mask\n",
    "\n",
    "\n",
    "def des_normalize(img):\n",
    "    return cv2.normalize(img, None, alpha = 0, beta = 255,\n",
    "                         norm_type = cv2.NORM_MINMAX, dtype = cv2.CV_16UC1)\n",
    "\n",
    "\n",
    "def apply_mask(img, model):\n",
    "    pix1 = img.shape[0]\n",
    "    pix2 = img.shape[1]\n",
    "    # Paso la imagen a escala de grises\n",
    "    img = recolor(img)\n",
    "    # Creo una nueva imagen con las dimensiones de entrada al modelo\n",
    "    img_2 = normalize(recolor_resize(img, 256))[np.newaxis,...]\n",
    "    # Genero la mascara\n",
    "    mask = model.predict(img_2)[0,...]\n",
    "    # Escalo la mascara generada al tamaño de la imagen de entrada\n",
    "    mask = cv2.resize(mask, (pix2, pix1))\n",
    "    # Limpio la mascara\n",
    "    mask = quitar_trozos(mask > 0.5)\n",
    "    return img*mask\n",
    "\n",
    "\n",
    "model_mask = os.path.join('/home/mr1142/Documents/Data/models/mascaras/unet_final_renacimiento_validation_6.h5')\n",
    "model_mask = keras.models.load_model(model_mask, \n",
    "                                    custom_objects={\"loss_mask\": tf.keras.losses.BinaryCrossentropy, \n",
    "                                                    \"dice_coef_loss\": tf.keras.losses.BinaryCrossentropy,\n",
    "                                                    \"dice_coef\": tf.keras.losses.BinaryCrossentropy})\n",
    "\n",
    "\n",
    "def equalize(img, clip_limit=0.01, med_filt=5,output_type='uint16', flag_draw=False,):\n",
    "    if img.dtype is np.dtype(np.float32):\n",
    "        img_norm = img / img.max()                                    # Format adaptation\n",
    "    else:\n",
    "        img_norm = img.astype('float32') / np.iinfo(img.dtype).max                  # Format adaptation\n",
    "    img_clahe = exposure.equalize_adapthist(img_norm, clip_limit=clip_limit)        # CLAHE\n",
    "    img_clahe_median = filters.median(img_clahe,np.ones((3,3,1))).astype('float32')   # Median Filter\n",
    "\n",
    "    lower, upper = np.percentile(img_clahe_median.flatten(), [2, 98])\n",
    "    img_clip = np.clip(img_clahe_median,lower, upper)\n",
    "    img_out = (img_clip - lower)/(upper - lower)\n",
    "\n",
    "    if output_type is not None:\n",
    "        max_val=np.iinfo(output_type).max\n",
    "        img_out=(max_val*img_out).astype(output_type)\n",
    "    else:\n",
    "        max_val=1.0\n",
    "    return img_out\n",
    "\n",
    "\n",
    "def clahe(img):\n",
    "    clahe = cv2.createCLAHE(clipLimit = 2)\n",
    "    img = np.uint8(img)\n",
    "    final_img = clahe.apply(img)\n",
    "    final_img = np.expand_dims(final_img, axis=-1)\n",
    "    return final_img\n",
    "\n",
    "\n",
    "def get_prepared_img(img, pix, mask = False, clahe_bool = True, equalize_bool = False):\n",
    "    if equalize_bool:\n",
    "        img = equalize(img)\n",
    "    if mask:\n",
    "        img = des_normalize(apply_mask(img, model_mask))\n",
    "    img = recolor_resize(img, pix)\n",
    "    if clahe_bool:\n",
    "        img = clahe(img)\n",
    "    img = normalize(img)\n",
    "    return img"
   ]
  },
  {
   "cell_type": "code",
   "execution_count": 14,
   "id": "0c2d7bbd",
   "metadata": {},
   "outputs": [],
   "source": [
    "def AUC_plot(fpr, tpr, thresholds, auc):\n",
    "    fig, ax = plt.subplots()\n",
    "    i = np.argmax(tpr-fpr)\n",
    "    th = thresholds[i]\n",
    "    x = fpr[i]\n",
    "    y = tpr[i]\n",
    "    ax.plot(fpr,tpr, \"g-\", label=\"AUC=\"+str(round(auc, 2)))\n",
    "    ax.set_xlabel('False Positive Rate')\n",
    "    ax.set_ylabel('True Positive Rate')\n",
    "    try:\n",
    "        ax.plot([x, x], [0, y], \"r:\")\n",
    "        ax.plot([0, x], [y, y], \"r:\")\n",
    "    except:\n",
    "        print('plot except')\n",
    "    ax.plot([x], [y], \"ro\", label=\"th=\"+str(round(th,2))) \n",
    "    ax.legend(loc=4)\n",
    "    return fig\n",
    "\n",
    "\n",
    "\n",
    "def pred_recall_plot(precision, recall, thresholds):\n",
    "    fig, ax = plt.subplots()\n",
    "    i = np.argmax(precision+recall)\n",
    "    x = recall[i]\n",
    "    y = precision[i]\n",
    "    th = thresholds[i]\n",
    "    ax.plot(recall, precision, \"g-\")\n",
    "    ax.set_xlabel('Recall')\n",
    "    ax.set_ylabel('Precision')\n",
    "    try:\n",
    "        ax.plot([x, x], [0, y], \"r:\")\n",
    "        ax.plot([0, x], [y, y], \"r:\")\n",
    "    except:\n",
    "        print('plot except')\n",
    "    ax.plot([x], [y], \"ro\", label=\"th=\"+str(round(th,2))) \n",
    "    ax.legend(loc=4)\n",
    "    ax.set_title('Precision-Recall curve')\n",
    "    return fig\n",
    "\n",
    "\n",
    "def plot_precision_recall_vs_threshold(precision, recall, thresholds):\n",
    "    fig, ax = plt.subplots()\n",
    "    f1 = f1_score(precision, recall)\n",
    "    x_f = thresholds[np.where(f1 == max(f1))]\n",
    "    y_f = max(f1)\n",
    "    x = thresholds[np.where(precision == recall)]\n",
    "    y = precision[np.where(precision == recall)]\n",
    "    ax.axis([0 ,1, np.min(precision), 1])\n",
    "    ax.plot(thresholds, precision[:-1], \"r-\", label=\"Precision\", linewidth=2)\n",
    "    ax.plot(thresholds, recall[:-1], \"b-\", label=\"Recall\", linewidth=2)\n",
    "    ax.plot(thresholds, f1[:-1], \"m--\", label=\"F1 score\", linewidth=2)\n",
    "    try:\n",
    "        for i in range(len(x)):\n",
    "            ax.plot([x[i]], [y[i]], \"bo\", label=\"th=\"+str(round(x[i],2)))\n",
    "            ax.plot([x[i], x[i]], [0, y[i]], \"k:\")\n",
    "    except:\n",
    "        ax.plot([x], [y], \"bo\", label=\"th=\"+str(round(x[0],2)))\n",
    "        ax.plot([x, x], [0, y], \"k:\")\n",
    "    try:\n",
    "        for i in range(len(x)):\n",
    "            ax.plot([x_f[i]], [y_f[i]], \"bo\", label=\"th=\"+str(round(x_f[i],2)))\n",
    "            ax.plot([x_f[i], x_f[i]], [0, y_f[i]], \"k:\")\n",
    "    except:\n",
    "        ax.plot([x_f], [y_f], \"ro\", label=\"th=\"+str(round(x_f[0],2))) \n",
    "        ax.plot([x_f, x_f], [0, y_f], \"k:\")\n",
    "    ax.set_xlabel(\"Threshold\")\n",
    "    ax.grid(True)\n",
    "    ax.legend()\n",
    "    return fig"
   ]
  },
  {
   "cell_type": "code",
   "execution_count": 15,
   "id": "0c9480de",
   "metadata": {},
   "outputs": [],
   "source": [
    "# METRICAS\n",
    "def younden_idx(real, pred):\n",
    "    fpr, tpr, thresholds = metrics.roc_curve(real, pred)\n",
    "    return thresholds[np.argmax(tpr-fpr)]\n",
    "\n",
    "\n",
    "def pred_recall_thres(precision, recall, thresholds):\n",
    "    pr_max = thresholds[np.argmax(precision+recall)]\n",
    "    try:\n",
    "        pr_cut= thresholds[np.where(precision == recall)][0]\n",
    "    except:\n",
    "        pr_cut= thresholds[np.where(precision == recall)]\n",
    "    if not isinstance(pr_cut, float):\n",
    "        pr_cut = float('inf')\n",
    "    return pr_max, pr_cut\n",
    "\n",
    "\n",
    "def f1_score(precision, recall):\n",
    "    return 2*(precision*recall)/(precision+recall)\n",
    "\n",
    "\n",
    "# EXTRACT MAX\n",
    "def binarize(array, threshold):\n",
    "    array[array >= threshold] = 1\n",
    "    array[array < threshold] = 0\n",
    "    return array\n",
    "\n",
    "def extract_max(array):\n",
    "    for i in range(array.shape[0]):\n",
    "        max = np.argmax(array[i,:])\n",
    "        array[i,:] = 0\n",
    "        array[i,max] = 1\n",
    "    return array\n",
    "\n",
    "\n",
    "# Cada una de las clases genera un diccionario con las metricas y los plots\n",
    "def metrics_per_class(real, pred):\n",
    "    metricas = {}\n",
    "    fpr, tpr, auc_thresholds = metrics.roc_curve(real, pred)\n",
    "    auc = metrics.auc(fpr, tpr)\n",
    "    metricas['auc'] = auc\n",
    "    metricas['younden'] = younden_idx(real, pred)\n",
    "    precision, recall, pr_thresholds = metrics.precision_recall_curve(real, pred)\n",
    "    metricas['pr_max'], metricas['pr_cut'] = pred_recall_thres(precision, \n",
    "                                                                            recall, \n",
    "                                                                            pr_thresholds)\n",
    "    plots = {}\n",
    "    plots['pred_rec_plot'] = pred_recall_plot(precision, recall, pr_thresholds)\n",
    "    plots['auc_plot'] = AUC_plot(fpr, tpr, auc_thresholds, auc)\n",
    "    plots['pr_re_th_plot'] = plot_precision_recall_vs_threshold(precision, \n",
    "                                                                        recall, \n",
    "                                                                        pr_thresholds)\n",
    "    return metricas, plots\n",
    "\n",
    "\n",
    "# Por cada prediccion se generan metricas por clase, por combinaciones binarias y por maximo\n",
    "def metricas_dict(real, pred):\n",
    "    metrics_dict = {}\n",
    "    plot_dict = {}\n",
    "    metricas, plots = metrics_per_class(real, pred[:,0])\n",
    "    metrics_dict.update(metricas)\n",
    "    plot_dict.update(plots)\n",
    "    thresholds = ['younden','pr_max','pr_cut']\n",
    "\n",
    "    for threshold in thresholds:\n",
    "        binar = binarize(pred[:,0].copy(), metricas[threshold])\n",
    "        metrics_dict['f1_score_' + threshold] = metrics.f1_score(real, binar, \n",
    "                                                                average = 'weighted')\n",
    "        metrics_dict['precision_score_' + threshold] = metrics.precision_score(real, \n",
    "                                                                            binar, \n",
    "                                                                            average = 'weighted')\n",
    "        metrics_dict['recall_score_' + threshold] = metrics.recall_score(real, \n",
    "                                                                        binar, \n",
    "                                                                        average = 'weighted')\n",
    "        metrics_dict['accuracy_score_' + threshold] = metrics.accuracy_score(real, binar)\n",
    "    \n",
    "    binar = binarize(pred[:,0].copy(), 0.5)\n",
    "    metrics_dict['f1_score_' + str(0.5)] = metrics.f1_score(real, binar, \n",
    "                                                            average = 'weighted')\n",
    "    metrics_dict['precision_score_' + str(0.5)] = metrics.precision_score(real, \n",
    "                                                                        binar, \n",
    "                                                                        average = 'weighted')\n",
    "    metrics_dict['recall_score_' + str(0.5)] = metrics.recall_score(real, \n",
    "                                                                    binar, \n",
    "                                                                    average = 'weighted')\n",
    "    metrics_dict['accuracy_score_' + str(0.5)] = metrics.accuracy_score(real, binar)\n",
    "    \n",
    "    binar = extract_max(pred.copy())[:,0]\n",
    "    metrics_dict['f1_score_' + 'max'] = metrics.f1_score(real, binar, \n",
    "                                                            average = 'weighted')\n",
    "    metrics_dict['precision_score_' + 'max'] = metrics.precision_score(real, \n",
    "                                                                        binar, \n",
    "                                                                        average = 'weighted')\n",
    "    metrics_dict['recall_score_' + 'max'] = metrics.recall_score(real, \n",
    "                                                                    binar, \n",
    "                                                                    average = 'weighted')\n",
    "    metrics_dict['accuracy_score_' + 'max'] = metrics.accuracy_score(real, binar)\n",
    "\n",
    "    return metrics_dict, plot_dict"
   ]
  },
  {
   "cell_type": "code",
   "execution_count": 16,
   "id": "b8f37d03",
   "metadata": {},
   "outputs": [],
   "source": [
    "def extract_max(array):\n",
    "    for i in range(array.shape[0]):\n",
    "        max = np.argmax(array[i,:])\n",
    "        array[i,:] = 0\n",
    "        array[i,max] = 1\n",
    "    return array"
   ]
  },
  {
   "cell_type": "markdown",
   "id": "1cbdea30",
   "metadata": {},
   "source": [
    "## MASKS"
   ]
  },
  {
   "cell_type": "markdown",
   "id": "3a13f383",
   "metadata": {},
   "source": [
    "### Cargar datos"
   ]
  },
  {
   "cell_type": "code",
   "execution_count": 2,
   "id": "49cfac43",
   "metadata": {},
   "outputs": [],
   "source": [
    "p = '/home/mr1142/Documents/Data/COVID-19_Radiography_Dataset'"
   ]
  },
  {
   "cell_type": "code",
   "execution_count": 3,
   "id": "b30e4bcf",
   "metadata": {},
   "outputs": [
    {
     "ename": "NameError",
     "evalue": "name 'os' is not defined",
     "output_type": "error",
     "traceback": [
      "\u001b[0;31m---------------------------------------------------------------------------\u001b[0m",
      "\u001b[0;31mNameError\u001b[0m                                 Traceback (most recent call last)",
      "Cell \u001b[0;32mIn [3], line 1\u001b[0m\n\u001b[0;32m----> 1\u001b[0m folders \u001b[38;5;241m=\u001b[39m [f \u001b[38;5;28;01mfor\u001b[39;00m f \u001b[38;5;129;01min\u001b[39;00m os\u001b[38;5;241m.\u001b[39mlistdir(p) \u001b[38;5;28;01mif\u001b[39;00m os\u001b[38;5;241m.\u001b[39mpath\u001b[38;5;241m.\u001b[39misdir(os\u001b[38;5;241m.\u001b[39mpath\u001b[38;5;241m.\u001b[39mjoin(p, f))]\n\u001b[1;32m      2\u001b[0m label \u001b[38;5;241m=\u001b[39m []\n\u001b[1;32m      3\u001b[0m img_name \u001b[38;5;241m=\u001b[39m []\n",
      "\u001b[0;31mNameError\u001b[0m: name 'os' is not defined"
     ]
    }
   ],
   "source": [
    "folders = [f for f in os.listdir(p) if os.path.isdir(os.path.join(p, f))]\n",
    "label = []\n",
    "img_name = []\n",
    "for fold in folders:\n",
    "    images = os.listdir(os.path.join(p, fold, 'images'))\n",
    "    img_name.extend(images)\n",
    "    label.extend([fold]*len(images))"
   ]
  },
  {
   "cell_type": "code",
   "execution_count": 4,
   "id": "4542afaa",
   "metadata": {},
   "outputs": [
    {
     "ename": "NameError",
     "evalue": "name 'pd' is not defined",
     "output_type": "error",
     "traceback": [
      "\u001b[0;31m---------------------------------------------------------------------------\u001b[0m",
      "\u001b[0;31mNameError\u001b[0m                                 Traceback (most recent call last)",
      "Cell \u001b[0;32mIn [4], line 1\u001b[0m\n\u001b[0;32m----> 1\u001b[0m masks \u001b[38;5;241m=\u001b[39m pd\u001b[38;5;241m.\u001b[39mDataFrame({\u001b[38;5;124m'\u001b[39m\u001b[38;5;124mimg_name\u001b[39m\u001b[38;5;124m'\u001b[39m: img_name, \u001b[38;5;124m'\u001b[39m\u001b[38;5;124mclass\u001b[39m\u001b[38;5;124m'\u001b[39m: label})\n",
      "\u001b[0;31mNameError\u001b[0m: name 'pd' is not defined"
     ]
    }
   ],
   "source": [
    "masks = pd.DataFrame({'img_name': img_name, 'class': label})"
   ]
  },
  {
   "cell_type": "code",
   "execution_count": 5,
   "id": "7bb556f9",
   "metadata": {},
   "outputs": [
    {
     "ename": "NameError",
     "evalue": "name 'masks' is not defined",
     "output_type": "error",
     "traceback": [
      "\u001b[0;31m---------------------------------------------------------------------------\u001b[0m",
      "\u001b[0;31mNameError\u001b[0m                                 Traceback (most recent call last)",
      "Cell \u001b[0;32mIn [5], line 1\u001b[0m\n\u001b[0;32m----> 1\u001b[0m masks[\u001b[38;5;124m'\u001b[39m\u001b[38;5;124mnormal\u001b[39m\u001b[38;5;124m'\u001b[39m] \u001b[38;5;241m=\u001b[39m [\u001b[38;5;241m1\u001b[39m \u001b[38;5;28;01mif\u001b[39;00m masks[\u001b[38;5;124m'\u001b[39m\u001b[38;5;124mclass\u001b[39m\u001b[38;5;124m'\u001b[39m][i] \u001b[38;5;241m==\u001b[39m \u001b[38;5;124m'\u001b[39m\u001b[38;5;124mNormal\u001b[39m\u001b[38;5;124m'\u001b[39m \u001b[38;5;28;01melse\u001b[39;00m \u001b[38;5;241m0\u001b[39m \u001b[38;5;28;01mfor\u001b[39;00m i \u001b[38;5;129;01min\u001b[39;00m masks\u001b[38;5;241m.\u001b[39mindex]\n",
      "\u001b[0;31mNameError\u001b[0m: name 'masks' is not defined"
     ]
    }
   ],
   "source": [
    "masks['normal'] = [1 if masks['class'][i] == 'Normal' else 0 for i in masks.index]"
   ]
  },
  {
   "cell_type": "code",
   "execution_count": 422,
   "id": "f9c40a3e",
   "metadata": {},
   "outputs": [],
   "source": [
    "masks['path'] = [os.path.join(p, masks['class'][i], 'images', masks.img_name[i]) for i in masks.index]"
   ]
  },
  {
   "cell_type": "code",
   "execution_count": 1,
   "id": "d76cc329",
   "metadata": {},
   "outputs": [
    {
     "ename": "NameError",
     "evalue": "name 'masks' is not defined",
     "output_type": "error",
     "traceback": [
      "\u001b[0;31m---------------------------------------------------------------------------\u001b[0m",
      "\u001b[0;31mNameError\u001b[0m                                 Traceback (most recent call last)",
      "Cell \u001b[0;32mIn [1], line 1\u001b[0m\n\u001b[0;32m----> 1\u001b[0m masks\n",
      "\u001b[0;31mNameError\u001b[0m: name 'masks' is not defined"
     ]
    }
   ],
   "source": [
    "masks"
   ]
  },
  {
   "cell_type": "code",
   "execution_count": 424,
   "id": "867d0fc0",
   "metadata": {},
   "outputs": [
    {
     "data": {
      "text/plain": [
       "array(['COVID', 'Lung_Opacity', 'Normal', 'Viral Pneumonia'], dtype=object)"
      ]
     },
     "execution_count": 424,
     "metadata": {},
     "output_type": "execute_result"
    }
   ],
   "source": [
    "np.unique(masks['class'])"
   ]
  },
  {
   "cell_type": "code",
   "execution_count": 425,
   "id": "36cd6be9",
   "metadata": {},
   "outputs": [
    {
     "data": {
      "text/plain": [
       "21165"
      ]
     },
     "execution_count": 425,
     "metadata": {},
     "output_type": "execute_result"
    }
   ],
   "source": [
    "len(masks)"
   ]
  },
  {
   "cell_type": "code",
   "execution_count": 426,
   "id": "4ed5b0ec",
   "metadata": {},
   "outputs": [
    {
     "name": "stdout",
     "output_type": "stream",
     "text": [
      "Normales: 10192\n",
      "Neumonia: 10973\n",
      "  -COVID: 3616\n",
      "  -Lung_Opacity: 6012\n",
      "  -Viral Pneumonia: 1345\n"
     ]
    }
   ],
   "source": [
    "print('Normales: {}'.format(sum(masks.normal == 1)))\n",
    "print('Neumonia: {}'.format(sum(masks.normal == 0)))\n",
    "print('  -COVID: {}'.format(sum(masks['class'] == 'COVID')))\n",
    "print('  -Lung_Opacity: {}'.format(sum(masks['class'] == 'Lung_Opacity')))\n",
    "print('  -Viral Pneumonia: {}'.format(sum(masks['class'] == 'Viral Pneumonia')))"
   ]
  },
  {
   "cell_type": "markdown",
   "id": "b4e1547a",
   "metadata": {},
   "source": [
    "### AUC"
   ]
  },
  {
   "cell_type": "code",
   "execution_count": 427,
   "id": "39bb1acc",
   "metadata": {},
   "outputs": [],
   "source": [
    "pixels = 512"
   ]
  },
  {
   "cell_type": "code",
   "execution_count": 428,
   "id": "fa6bc084",
   "metadata": {},
   "outputs": [],
   "source": [
    "df = masks\n",
    "# df = df[df['bacteria'] == 0]\n",
    "imgs = df['path']\n",
    "true = list(df['normal'])"
   ]
  },
  {
   "cell_type": "code",
   "execution_count": 429,
   "id": "6fe15e4a",
   "metadata": {},
   "outputs": [
    {
     "name": "stderr",
     "output_type": "stream",
     "text": [
      "  0%|                                                  | 33/21165 [16:19:17<10451:37:59, 1780.52s/it]\n",
      "100%|████████████████████████████████████████████████████████| 21165/21165 [1:06:00<00:00,  5.34it/s]\n"
     ]
    }
   ],
   "source": [
    "pred = [neumonia_model.predict(np.expand_dims(get_prepared_img(cv2.imread(im),pixels, mask = False, clahe_bool = True, equalize_bool = False), axis = 0), verbose = 0) \n",
    "        for im in tqdm(imgs, position=0)]"
   ]
  },
  {
   "cell_type": "markdown",
   "id": "87dcf8a5",
   "metadata": {},
   "source": [
    "- Calculo de AUC respecto a normal o neumo"
   ]
  },
  {
   "cell_type": "code",
   "execution_count": 430,
   "id": "1ae89201",
   "metadata": {},
   "outputs": [],
   "source": [
    "pred = np.vstack(pred)"
   ]
  },
  {
   "cell_type": "code",
   "execution_count": 431,
   "id": "2cb4695c",
   "metadata": {},
   "outputs": [
    {
     "name": "stdout",
     "output_type": "stream",
     "text": [
      "10973\n",
      "10192\n"
     ]
    }
   ],
   "source": [
    "true = np.array(true)\n",
    "print(sum(true == 0))\n",
    "print(sum(true == 1))"
   ]
  },
  {
   "cell_type": "code",
   "execution_count": 432,
   "id": "6da4b964",
   "metadata": {},
   "outputs": [
    {
     "name": "stderr",
     "output_type": "stream",
     "text": [
      "/home/mr1142/miniconda3/envs/jupyter_env/lib/python3.10/site-packages/sklearn/metrics/_classification.py:1334: UndefinedMetricWarning: Precision is ill-defined and being set to 0.0 in labels with no predicted samples. Use `zero_division` parameter to control this behavior.\n",
      "  _warn_prf(average, modifier, msg_start, len(result))\n"
     ]
    },
    {
     "data": {
      "image/png": "[encoded data removed]",
      "text/plain": [
       "<Figure size 640x480 with 1 Axes>"
      ]
     },
     "metadata": {},
     "output_type": "display_data"
    },
    {
     "data": {
      "image/png": "[encoded data removed]",
      "text/plain": [
       "<Figure size 640x480 with 1 Axes>"
      ]
     },
     "metadata": {},
     "output_type": "display_data"
    },
    {
     "data": {
      "image/png": "[encoded data removed]",
      "text/plain": [
       "<Figure size 640x480 with 1 Axes>"
      ]
     },
     "metadata": {},
     "output_type": "display_data"
    }
   ],
   "source": [
    "mets, plots = metricas_dict(true, pred)"
   ]
  },
  {
   "cell_type": "code",
   "execution_count": 433,
   "id": "5c911019",
   "metadata": {},
   "outputs": [
    {
     "data": {
      "text/plain": [
       "{'auc': 0.6597841224306672,\n",
       " 'younden': 1.0,\n",
       " 'pr_max': 0.3437151,\n",
       " 'pr_cut': inf,\n",
       " 'f1_score_younden': 0.6453825297296943,\n",
       " 'precision_score_younden': 0.6572654161365158,\n",
       " 'recall_score_younden': 0.6478620363808174,\n",
       " 'accuracy_score_younden': 0.6478620363808174,\n",
       " 'f1_score_pr_max': 0.36503165986624964,\n",
       " 'precision_score_pr_max': 0.707904746523293,\n",
       " 'recall_score_pr_max': 0.5041341837939995,\n",
       " 'accuracy_score_pr_max': 0.5041341837939995,\n",
       " 'f1_score_pr_cut': 0.35403291001861115,\n",
       " 'precision_score_pr_cut': 0.26879068419981395,\n",
       " 'recall_score_pr_cut': 0.5184502716749351,\n",
       " 'accuracy_score_pr_cut': 0.5184502716749351,\n",
       " 'f1_score_0.5': 0.36996367062202484,\n",
       " 'precision_score_0.5': 0.6982349954306778,\n",
       " 'recall_score_0.5': 0.5058823529411764,\n",
       " 'accuracy_score_0.5': 0.5058823529411764,\n",
       " 'f1_score_max': 0.36977375486707575,\n",
       " 'precision_score_max': 0.6980367275206993,\n",
       " 'recall_score_max': 0.5057878573115994,\n",
       " 'accuracy_score_max': 0.5057878573115994}"
      ]
     },
     "execution_count": 433,
     "metadata": {},
     "output_type": "execute_result"
    }
   ],
   "source": [
    "mets"
   ]
  },
  {
   "cell_type": "markdown",
   "id": "4ef6737a",
   "metadata": {},
   "source": [
    "### Mejor threshold"
   ]
  },
  {
   "cell_type": "code",
   "execution_count": 434,
   "id": "ad03d7e0",
   "metadata": {},
   "outputs": [],
   "source": [
    "cols = [met[:-8] for met in list(mets.keys())[4:8]]\n",
    "rows = ['younden', 'pr_max', 'pr_cut', '0.5', 'max']"
   ]
  },
  {
   "cell_type": "code",
   "execution_count": 435,
   "id": "afcaeeab",
   "metadata": {},
   "outputs": [],
   "source": [
    "df = pd.DataFrame(columns = cols, index = rows)"
   ]
  },
  {
   "cell_type": "code",
   "execution_count": 436,
   "id": "64a06208",
   "metadata": {},
   "outputs": [],
   "source": [
    "values = list(mets.values())[4:]\n",
    "for i in range(len(df)):\n",
    "    df.iloc[i] = values[i*4:i*4+4]"
   ]
  },
  {
   "cell_type": "code",
   "execution_count": 437,
   "id": "e38940e2",
   "metadata": {},
   "outputs": [],
   "source": [
    "df['mean'] = (df.f1_score + df.precision_score + df.recall_score + df.accuracy_score)/4"
   ]
  },
  {
   "cell_type": "code",
   "execution_count": 438,
   "id": "35da53d4",
   "metadata": {},
   "outputs": [
    {
     "data": {
      "text/html": [
       "<div>\n",
       "<style scoped>\n",
       "    .dataframe tbody tr th:only-of-type {\n",
       "        vertical-align: middle;\n",
       "    }\n",
       "\n",
       "    .dataframe tbody tr th {\n",
       "        vertical-align: top;\n",
       "    }\n",
       "\n",
       "    .dataframe thead th {\n",
       "        text-align: right;\n",
       "    }\n",
       "</style>\n",
       "<table border=\"1\" class=\"dataframe\">\n",
       "  <thead>\n",
       "    <tr style=\"text-align: right;\">\n",
       "      <th></th>\n",
       "      <th>f1_score</th>\n",
       "      <th>precision_score</th>\n",
       "      <th>recall_score</th>\n",
       "      <th>accuracy_score</th>\n",
       "      <th>mean</th>\n",
       "    </tr>\n",
       "  </thead>\n",
       "  <tbody>\n",
       "    <tr>\n",
       "      <th>pr_cut</th>\n",
       "      <td>0.354033</td>\n",
       "      <td>0.268791</td>\n",
       "      <td>0.51845</td>\n",
       "      <td>0.51845</td>\n",
       "      <td>0.414931</td>\n",
       "    </tr>\n",
       "    <tr>\n",
       "      <th>max</th>\n",
       "      <td>0.369774</td>\n",
       "      <td>0.698037</td>\n",
       "      <td>0.505788</td>\n",
       "      <td>0.505788</td>\n",
       "      <td>0.519847</td>\n",
       "    </tr>\n",
       "    <tr>\n",
       "      <th>0.5</th>\n",
       "      <td>0.369964</td>\n",
       "      <td>0.698235</td>\n",
       "      <td>0.505882</td>\n",
       "      <td>0.505882</td>\n",
       "      <td>0.519991</td>\n",
       "    </tr>\n",
       "    <tr>\n",
       "      <th>pr_max</th>\n",
       "      <td>0.365032</td>\n",
       "      <td>0.707905</td>\n",
       "      <td>0.504134</td>\n",
       "      <td>0.504134</td>\n",
       "      <td>0.520301</td>\n",
       "    </tr>\n",
       "    <tr>\n",
       "      <th>younden</th>\n",
       "      <td>0.645383</td>\n",
       "      <td>0.657265</td>\n",
       "      <td>0.647862</td>\n",
       "      <td>0.647862</td>\n",
       "      <td>0.649593</td>\n",
       "    </tr>\n",
       "  </tbody>\n",
       "</table>\n",
       "</div>"
      ],
      "text/plain": [
       "         f1_score precision_score recall_score accuracy_score      mean\n",
       "pr_cut   0.354033        0.268791      0.51845        0.51845  0.414931\n",
       "max      0.369774        0.698037     0.505788       0.505788  0.519847\n",
       "0.5      0.369964        0.698235     0.505882       0.505882  0.519991\n",
       "pr_max   0.365032        0.707905     0.504134       0.504134  0.520301\n",
       "younden  0.645383        0.657265     0.647862       0.647862  0.649593"
      ]
     },
     "execution_count": 438,
     "metadata": {},
     "output_type": "execute_result"
    }
   ],
   "source": [
    "df.sort_values('mean')"
   ]
  },
  {
   "cell_type": "markdown",
   "id": "8ae28091",
   "metadata": {},
   "source": [
    "## PEDIATRIC"
   ]
  },
  {
   "cell_type": "markdown",
   "id": "3ffa846f",
   "metadata": {},
   "source": [
    "### Cargar datos"
   ]
  },
  {
   "cell_type": "code",
   "execution_count": 439,
   "id": "feb13242",
   "metadata": {},
   "outputs": [],
   "source": [
    "def create_dataframe(folder, path = '/home/mr1142/Documents/Data/chest_xray'):\n",
    "    path = os.path.join('/home/mr1142/Documents/Data/chest_xray', folder)\n",
    "    for fold in os.listdir(path):\n",
    "        globals()[fold] = {}\n",
    "        imgs = os.listdir(os.path.join(path, fold))\n",
    "        globals()[fold]['path'] = [os.path.join(path, fold)] * len(imgs)\n",
    "        globals()[fold]['img_name'] = imgs\n",
    "        globals()[fold]['normal'] = [1 if fold == 'NORMAL' else 0 for _ in range(len(imgs))]\n",
    "        globals()[fold]['viral'] = [1 if re.search('virus', imgs[i]) else 0 for i in range(len(imgs))]\n",
    "        globals()[fold]['bacteria'] = [1 if re.search('bacteria', imgs[i]) else 0 for i in range(len(imgs))]\n",
    "        globals()[fold]['real'] = [0 if fold == 'NORMAL' else 1 if re.search('virus', imgs[i]) else 2 for i in range(len(imgs))]\n",
    "\n",
    "    for k, v in PNEUMONIA.items():\n",
    "        v.extend(NORMAL[k])\n",
    "\n",
    "    df = pd.DataFrame(PNEUMONIA)\n",
    "\n",
    "    return df"
   ]
  },
  {
   "cell_type": "code",
   "execution_count": 440,
   "id": "b2ab5c21",
   "metadata": {},
   "outputs": [],
   "source": [
    "ped = create_dataframe('train')\n",
    "ped = pd.concat([create_dataframe('train'), create_dataframe('test')], ignore_index = True)"
   ]
  },
  {
   "cell_type": "code",
   "execution_count": 441,
   "id": "a5428834",
   "metadata": {},
   "outputs": [],
   "source": [
    "ped['path'] = [os.path.join(ped.path[i], ped.img_name[i]) for i in ped.index]"
   ]
  },
  {
   "cell_type": "code",
   "execution_count": 442,
   "id": "68a5456a",
   "metadata": {},
   "outputs": [
    {
     "name": "stdout",
     "output_type": "stream",
     "text": [
      "5840\n"
     ]
    }
   ],
   "source": [
    "print(len(ped))"
   ]
  },
  {
   "cell_type": "code",
   "execution_count": 443,
   "id": "d96073ad",
   "metadata": {},
   "outputs": [
    {
     "data": {
      "text/html": [
       "<div>\n",
       "<style scoped>\n",
       "    .dataframe tbody tr th:only-of-type {\n",
       "        vertical-align: middle;\n",
       "    }\n",
       "\n",
       "    .dataframe tbody tr th {\n",
       "        vertical-align: top;\n",
       "    }\n",
       "\n",
       "    .dataframe thead th {\n",
       "        text-align: right;\n",
       "    }\n",
       "</style>\n",
       "<table border=\"1\" class=\"dataframe\">\n",
       "  <thead>\n",
       "    <tr style=\"text-align: right;\">\n",
       "      <th></th>\n",
       "      <th>path</th>\n",
       "      <th>img_name</th>\n",
       "      <th>normal</th>\n",
       "      <th>viral</th>\n",
       "      <th>bacteria</th>\n",
       "      <th>real</th>\n",
       "    </tr>\n",
       "  </thead>\n",
       "  <tbody>\n",
       "    <tr>\n",
       "      <th>0</th>\n",
       "      <td>/home/mr1142/Documents/Data/chest_xray/train/P...</td>\n",
       "      <td>person1384_bacteria_3522.jpeg</td>\n",
       "      <td>0</td>\n",
       "      <td>0</td>\n",
       "      <td>1</td>\n",
       "      <td>2</td>\n",
       "    </tr>\n",
       "    <tr>\n",
       "      <th>1</th>\n",
       "      <td>/home/mr1142/Documents/Data/chest_xray/train/P...</td>\n",
       "      <td>person783_bacteria_2687.jpeg</td>\n",
       "      <td>0</td>\n",
       "      <td>0</td>\n",
       "      <td>1</td>\n",
       "      <td>2</td>\n",
       "    </tr>\n",
       "    <tr>\n",
       "      <th>2</th>\n",
       "      <td>/home/mr1142/Documents/Data/chest_xray/train/P...</td>\n",
       "      <td>person1619_bacteria_4268.jpeg</td>\n",
       "      <td>0</td>\n",
       "      <td>0</td>\n",
       "      <td>1</td>\n",
       "      <td>2</td>\n",
       "    </tr>\n",
       "    <tr>\n",
       "      <th>3</th>\n",
       "      <td>/home/mr1142/Documents/Data/chest_xray/train/P...</td>\n",
       "      <td>person551_virus_1091.jpeg</td>\n",
       "      <td>0</td>\n",
       "      <td>1</td>\n",
       "      <td>0</td>\n",
       "      <td>1</td>\n",
       "    </tr>\n",
       "    <tr>\n",
       "      <th>4</th>\n",
       "      <td>/home/mr1142/Documents/Data/chest_xray/train/P...</td>\n",
       "      <td>person907_virus_1563.jpeg</td>\n",
       "      <td>0</td>\n",
       "      <td>1</td>\n",
       "      <td>0</td>\n",
       "      <td>1</td>\n",
       "    </tr>\n",
       "  </tbody>\n",
       "</table>\n",
       "</div>"
      ],
      "text/plain": [
       "                                                path  \\\n",
       "0  /home/mr1142/Documents/Data/chest_xray/train/P...   \n",
       "1  /home/mr1142/Documents/Data/chest_xray/train/P...   \n",
       "2  /home/mr1142/Documents/Data/chest_xray/train/P...   \n",
       "3  /home/mr1142/Documents/Data/chest_xray/train/P...   \n",
       "4  /home/mr1142/Documents/Data/chest_xray/train/P...   \n",
       "\n",
       "                        img_name  normal  viral  bacteria  real  \n",
       "0  person1384_bacteria_3522.jpeg       0      0         1     2  \n",
       "1   person783_bacteria_2687.jpeg       0      0         1     2  \n",
       "2  person1619_bacteria_4268.jpeg       0      0         1     2  \n",
       "3      person551_virus_1091.jpeg       0      1         0     1  \n",
       "4      person907_virus_1563.jpeg       0      1         0     1  "
      ]
     },
     "execution_count": 443,
     "metadata": {},
     "output_type": "execute_result"
    }
   ],
   "source": [
    "ped.head()"
   ]
  },
  {
   "cell_type": "code",
   "execution_count": 444,
   "id": "0c6a1934",
   "metadata": {},
   "outputs": [
    {
     "name": "stdout",
     "output_type": "stream",
     "text": [
      "Normales: 1575\n",
      "Neumonia: 4265\n",
      "  -viral: 1493\n",
      "  -bacterial: 2772\n"
     ]
    }
   ],
   "source": [
    "print('Normales: {}'.format(sum(ped.normal)))\n",
    "print('Neumonia: {}'.format(sum(ped.real != 0)))\n",
    "print('  -viral: {}'.format(sum(ped.viral)))\n",
    "print('  -bacterial: {}'.format(sum(ped.bacteria)))"
   ]
  },
  {
   "cell_type": "markdown",
   "id": "1096e889",
   "metadata": {},
   "source": [
    "### AUC"
   ]
  },
  {
   "cell_type": "code",
   "execution_count": 445,
   "id": "5c6823f8",
   "metadata": {},
   "outputs": [],
   "source": [
    "pixels = 512"
   ]
  },
  {
   "cell_type": "code",
   "execution_count": 446,
   "id": "264b3a79",
   "metadata": {},
   "outputs": [],
   "source": [
    "df = ped\n",
    "# df = df[df['bacteria'] == 0]\n",
    "imgs = df['path']\n",
    "true = list(df['normal'])"
   ]
  },
  {
   "cell_type": "code",
   "execution_count": 448,
   "id": "859e9484",
   "metadata": {},
   "outputs": [
    {
     "name": "stderr",
     "output_type": "stream",
     "text": [
      "100%|████████████████████████████████████████████████████████████| 5840/5840 [16:13<00:00,  6.00it/s]\n"
     ]
    }
   ],
   "source": [
    "pred = [neumonia_model.predict(np.expand_dims(get_prepared_img(cv2.imread(im),pixels, mask = False, clahe_bool = True, equalize_bool = False), axis = 0), verbose = 0) \n",
    "        for im in tqdm(imgs)]"
   ]
  },
  {
   "cell_type": "markdown",
   "id": "c10a9d60",
   "metadata": {},
   "source": [
    "- Calculo de AUC respecto a normal o neumo"
   ]
  },
  {
   "cell_type": "code",
   "execution_count": 449,
   "id": "414591c7",
   "metadata": {},
   "outputs": [],
   "source": [
    "pred = np.vstack(pred)"
   ]
  },
  {
   "cell_type": "code",
   "execution_count": 450,
   "id": "f74082c3",
   "metadata": {},
   "outputs": [
    {
     "name": "stdout",
     "output_type": "stream",
     "text": [
      "4265\n",
      "1575\n"
     ]
    }
   ],
   "source": [
    "true = np.array(true)\n",
    "print(sum(true == 0))\n",
    "print(sum(true == 1))"
   ]
  },
  {
   "cell_type": "code",
   "execution_count": 451,
   "id": "f17d0f81",
   "metadata": {},
   "outputs": [
    {
     "name": "stderr",
     "output_type": "stream",
     "text": [
      "/tmp/ipykernel_8678/1113631250.py:19: RuntimeWarning: invalid value encountered in divide\n",
      "  return 2*(precision*recall)/(precision+recall)\n",
      "/home/mr1142/miniconda3/envs/jupyter_env/lib/python3.10/site-packages/sklearn/metrics/_classification.py:1334: UndefinedMetricWarning: Precision is ill-defined and being set to 0.0 in labels with no predicted samples. Use `zero_division` parameter to control this behavior.\n",
      "  _warn_prf(average, modifier, msg_start, len(result))\n"
     ]
    },
    {
     "data": {
      "image/png": "[encoded data removed]",
      "text/plain": [
       "<Figure size 640x480 with 1 Axes>"
      ]
     },
     "metadata": {},
     "output_type": "display_data"
    },
    {
     "data": {
      "image/png": "[encoded data removed]",
      "text/plain": [
       "<Figure size 640x480 with 1 Axes>"
      ]
     },
     "metadata": {},
     "output_type": "display_data"
    },
    {
     "data": {
      "image/png": "[encoded data removed]",
      "text/plain": [
       "<Figure size 640x480 with 1 Axes>"
      ]
     },
     "metadata": {},
     "output_type": "display_data"
    }
   ],
   "source": [
    "mets, plots = metricas_dict(true, pred)"
   ]
  },
  {
   "cell_type": "code",
   "execution_count": 452,
   "id": "9d776b99",
   "metadata": {},
   "outputs": [
    {
     "data": {
      "text/plain": [
       "{'auc': 0.7126477976888292,\n",
       " 'younden': 0.004051773,\n",
       " 'pr_max': 3.7174097e-05,\n",
       " 'pr_cut': inf,\n",
       " 'f1_score_younden': 0.6533473814167983,\n",
       " 'precision_score_younden': 0.7313606780313756,\n",
       " 'recall_score_younden': 0.6327054794520548,\n",
       " 'accuracy_score_younden': 0.6327054794520548,\n",
       " 'f1_score_pr_max': 0.33918589230326973,\n",
       " 'precision_score_pr_max': 0.8001786172747672,\n",
       " 'recall_score_pr_max': 0.39246575342465756,\n",
       " 'accuracy_score_pr_max': 0.39246575342465756,\n",
       " 'f1_score_pr_cut': 0.6164798722997565,\n",
       " 'precision_score_pr_cut': 0.5333500949990618,\n",
       " 'recall_score_pr_cut': 0.7303082191780822,\n",
       " 'accuracy_score_pr_cut': 0.7303082191780822,\n",
       " 'f1_score_0.5': 0.7057979771779453,\n",
       " 'precision_score_0.5': 0.6987529212575232,\n",
       " 'recall_score_0.5': 0.7212328767123287,\n",
       " 'accuracy_score_0.5': 0.7212328767123287,\n",
       " 'f1_score_max': 0.7054315293621491,\n",
       " 'precision_score_max': 0.6983660246355227,\n",
       " 'recall_score_max': 0.7205479452054795,\n",
       " 'accuracy_score_max': 0.7205479452054795}"
      ]
     },
     "execution_count": 452,
     "metadata": {},
     "output_type": "execute_result"
    }
   ],
   "source": [
    "mets"
   ]
  },
  {
   "cell_type": "markdown",
   "id": "0b882e9a",
   "metadata": {},
   "source": [
    "### Mejor threshold"
   ]
  },
  {
   "cell_type": "code",
   "execution_count": 453,
   "id": "e91b8b0f",
   "metadata": {},
   "outputs": [],
   "source": [
    "cols = [met[:-8] for met in list(mets.keys())[4:8]]\n",
    "rows = ['younden', 'pr_max', 'pr_cut', '0.5', 'max']"
   ]
  },
  {
   "cell_type": "code",
   "execution_count": 454,
   "id": "3195fd65",
   "metadata": {},
   "outputs": [],
   "source": [
    "df = pd.DataFrame(columns = cols, index = rows)"
   ]
  },
  {
   "cell_type": "code",
   "execution_count": 455,
   "id": "77fe11fb",
   "metadata": {},
   "outputs": [],
   "source": [
    "values = list(mets.values())[4:]\n",
    "for i in range(len(df)):\n",
    "    df.iloc[i] = values[i*4:i*4+4]"
   ]
  },
  {
   "cell_type": "code",
   "execution_count": 456,
   "id": "cec321f2",
   "metadata": {},
   "outputs": [],
   "source": [
    "df['mean'] = (df.f1_score + df.precision_score + df.recall_score + df.accuracy_score)/4"
   ]
  },
  {
   "cell_type": "code",
   "execution_count": 457,
   "id": "8afc597d",
   "metadata": {},
   "outputs": [
    {
     "data": {
      "text/html": [
       "<div>\n",
       "<style scoped>\n",
       "    .dataframe tbody tr th:only-of-type {\n",
       "        vertical-align: middle;\n",
       "    }\n",
       "\n",
       "    .dataframe tbody tr th {\n",
       "        vertical-align: top;\n",
       "    }\n",
       "\n",
       "    .dataframe thead th {\n",
       "        text-align: right;\n",
       "    }\n",
       "</style>\n",
       "<table border=\"1\" class=\"dataframe\">\n",
       "  <thead>\n",
       "    <tr style=\"text-align: right;\">\n",
       "      <th></th>\n",
       "      <th>f1_score</th>\n",
       "      <th>precision_score</th>\n",
       "      <th>recall_score</th>\n",
       "      <th>accuracy_score</th>\n",
       "      <th>mean</th>\n",
       "    </tr>\n",
       "  </thead>\n",
       "  <tbody>\n",
       "    <tr>\n",
       "      <th>pr_max</th>\n",
       "      <td>0.339186</td>\n",
       "      <td>0.800179</td>\n",
       "      <td>0.392466</td>\n",
       "      <td>0.392466</td>\n",
       "      <td>0.481074</td>\n",
       "    </tr>\n",
       "    <tr>\n",
       "      <th>pr_cut</th>\n",
       "      <td>0.61648</td>\n",
       "      <td>0.53335</td>\n",
       "      <td>0.730308</td>\n",
       "      <td>0.730308</td>\n",
       "      <td>0.652612</td>\n",
       "    </tr>\n",
       "    <tr>\n",
       "      <th>younden</th>\n",
       "      <td>0.653347</td>\n",
       "      <td>0.731361</td>\n",
       "      <td>0.632705</td>\n",
       "      <td>0.632705</td>\n",
       "      <td>0.66253</td>\n",
       "    </tr>\n",
       "    <tr>\n",
       "      <th>max</th>\n",
       "      <td>0.705432</td>\n",
       "      <td>0.698366</td>\n",
       "      <td>0.720548</td>\n",
       "      <td>0.720548</td>\n",
       "      <td>0.711223</td>\n",
       "    </tr>\n",
       "    <tr>\n",
       "      <th>0.5</th>\n",
       "      <td>0.705798</td>\n",
       "      <td>0.698753</td>\n",
       "      <td>0.721233</td>\n",
       "      <td>0.721233</td>\n",
       "      <td>0.711754</td>\n",
       "    </tr>\n",
       "  </tbody>\n",
       "</table>\n",
       "</div>"
      ],
      "text/plain": [
       "         f1_score precision_score recall_score accuracy_score      mean\n",
       "pr_max   0.339186        0.800179     0.392466       0.392466  0.481074\n",
       "pr_cut    0.61648         0.53335     0.730308       0.730308  0.652612\n",
       "younden  0.653347        0.731361     0.632705       0.632705   0.66253\n",
       "max      0.705432        0.698366     0.720548       0.720548  0.711223\n",
       "0.5      0.705798        0.698753     0.721233       0.721233  0.711754"
      ]
     },
     "execution_count": 457,
     "metadata": {},
     "output_type": "execute_result"
    }
   ],
   "source": [
    "df.sort_values('mean')"
   ]
  },
  {
   "cell_type": "markdown",
   "id": "21bf5a30",
   "metadata": {},
   "source": [
    "## COVID"
   ]
  },
  {
   "cell_type": "markdown",
   "id": "57df7541",
   "metadata": {},
   "source": [
    "### Cargar datos"
   ]
  },
  {
   "cell_type": "code",
   "execution_count": 458,
   "id": "3835cdb0",
   "metadata": {},
   "outputs": [],
   "source": [
    "path = '/home/mr1142/Documents/Data/neumonia_covid/all'\n",
    "covid = pd.read_csv('/home/mr1142/Documents/Data/neumonia_covid/dataframe.csv')"
   ]
  },
  {
   "cell_type": "code",
   "execution_count": 459,
   "id": "311c5118",
   "metadata": {},
   "outputs": [
    {
     "name": "stderr",
     "output_type": "stream",
     "text": [
      "/tmp/ipykernel_8678/2980801407.py:2: SettingWithCopyWarning: \n",
      "A value is trying to be set on a copy of a slice from a DataFrame\n",
      "\n",
      "See the caveats in the documentation: https://pandas.pydata.org/pandas-docs/stable/user_guide/indexing.html#returning-a-view-versus-a-copy\n",
      "  covid['normal'].iloc[covid['class'] == 'normal'] = 1\n"
     ]
    }
   ],
   "source": [
    "covid['normal'] = 0\n",
    "covid['normal'].iloc[covid['class'] == 'normal'] = 1"
   ]
  },
  {
   "cell_type": "code",
   "execution_count": 460,
   "id": "41972f8c",
   "metadata": {},
   "outputs": [],
   "source": [
    "covid['path'] = [os.path.join(path, covid.img_name[i]) for i in covid.index]"
   ]
  },
  {
   "cell_type": "code",
   "execution_count": 464,
   "id": "1f04590f",
   "metadata": {},
   "outputs": [
    {
     "data": {
      "text/html": [
       "<div>\n",
       "<style scoped>\n",
       "    .dataframe tbody tr th:only-of-type {\n",
       "        vertical-align: middle;\n",
       "    }\n",
       "\n",
       "    .dataframe tbody tr th {\n",
       "        vertical-align: top;\n",
       "    }\n",
       "\n",
       "    .dataframe thead th {\n",
       "        text-align: right;\n",
       "    }\n",
       "</style>\n",
       "<table border=\"1\" class=\"dataframe\">\n",
       "  <thead>\n",
       "    <tr style=\"text-align: right;\">\n",
       "      <th></th>\n",
       "      <th>img_name</th>\n",
       "      <th>class</th>\n",
       "      <th>normal</th>\n",
       "      <th>path</th>\n",
       "    </tr>\n",
       "  </thead>\n",
       "  <tbody>\n",
       "    <tr>\n",
       "      <th>0</th>\n",
       "      <td>03BF7561-A9BA-4C3C-B8A0-D3E585F73F3C-1068x1083...</td>\n",
       "      <td>covid</td>\n",
       "      <td>0</td>\n",
       "      <td>/home/mr1142/Documents/Data/neumonia_covid/all...</td>\n",
       "    </tr>\n",
       "    <tr>\n",
       "      <th>1</th>\n",
       "      <td>5CBC2E94-D358-401E-8928-965CCD965C5C-768x633.jpeg</td>\n",
       "      <td>covid</td>\n",
       "      <td>0</td>\n",
       "      <td>/home/mr1142/Documents/Data/neumonia_covid/all...</td>\n",
       "    </tr>\n",
       "    <tr>\n",
       "      <th>2</th>\n",
       "      <td>COVID-19 (1).png</td>\n",
       "      <td>covid</td>\n",
       "      <td>0</td>\n",
       "      <td>/home/mr1142/Documents/Data/neumonia_covid/all...</td>\n",
       "    </tr>\n",
       "    <tr>\n",
       "      <th>3</th>\n",
       "      <td>COVID-19 (105).jpg</td>\n",
       "      <td>covid</td>\n",
       "      <td>0</td>\n",
       "      <td>/home/mr1142/Documents/Data/neumonia_covid/all...</td>\n",
       "    </tr>\n",
       "    <tr>\n",
       "      <th>4</th>\n",
       "      <td>COVID-19 (113).jpg</td>\n",
       "      <td>covid</td>\n",
       "      <td>0</td>\n",
       "      <td>/home/mr1142/Documents/Data/neumonia_covid/all...</td>\n",
       "    </tr>\n",
       "  </tbody>\n",
       "</table>\n",
       "</div>"
      ],
      "text/plain": [
       "                                            img_name  class  normal  \\\n",
       "0  03BF7561-A9BA-4C3C-B8A0-D3E585F73F3C-1068x1083...  covid       0   \n",
       "1  5CBC2E94-D358-401E-8928-965CCD965C5C-768x633.jpeg  covid       0   \n",
       "2                                   COVID-19 (1).png  covid       0   \n",
       "3                                 COVID-19 (105).jpg  covid       0   \n",
       "4                                 COVID-19 (113).jpg  covid       0   \n",
       "\n",
       "                                                path  \n",
       "0  /home/mr1142/Documents/Data/neumonia_covid/all...  \n",
       "1  /home/mr1142/Documents/Data/neumonia_covid/all...  \n",
       "2  /home/mr1142/Documents/Data/neumonia_covid/all...  \n",
       "3  /home/mr1142/Documents/Data/neumonia_covid/all...  \n",
       "4  /home/mr1142/Documents/Data/neumonia_covid/all...  "
      ]
     },
     "execution_count": 464,
     "metadata": {},
     "output_type": "execute_result"
    }
   ],
   "source": [
    "covid.head()"
   ]
  },
  {
   "cell_type": "code",
   "execution_count": 465,
   "id": "65b7e6af",
   "metadata": {},
   "outputs": [
    {
     "name": "stdout",
     "output_type": "stream",
     "text": [
      "Normales: 1525\n",
      "Neumonia: 3050\n",
      "  -covid: 1525\n",
      "  -pneumonia: 1525\n"
     ]
    }
   ],
   "source": [
    "print('Normales: {}'.format(sum(covid['normal'] == 1)))\n",
    "print('Neumonia: {}'.format(sum(covid['normal'] == 0)))\n",
    "print('  -covid: {}'.format(sum(covid['class'] == 'covid')))\n",
    "print('  -pneumonia: {}'.format(sum(covid['class'] == 'pneumonia')))"
   ]
  },
  {
   "cell_type": "code",
   "execution_count": 466,
   "id": "c6200749",
   "metadata": {},
   "outputs": [
    {
     "data": {
      "text/plain": [
       "4575"
      ]
     },
     "execution_count": 466,
     "metadata": {},
     "output_type": "execute_result"
    }
   ],
   "source": [
    "len(covid)"
   ]
  },
  {
   "cell_type": "markdown",
   "id": "24314880",
   "metadata": {},
   "source": [
    "### AUC"
   ]
  },
  {
   "cell_type": "code",
   "execution_count": 467,
   "id": "53dcb3ab",
   "metadata": {},
   "outputs": [],
   "source": [
    "pixels = 512"
   ]
  },
  {
   "cell_type": "code",
   "execution_count": 468,
   "id": "66ffba8c",
   "metadata": {},
   "outputs": [],
   "source": [
    "df = covid\n",
    "imgs = covid['path']\n",
    "true = list(df['class'])"
   ]
  },
  {
   "cell_type": "code",
   "execution_count": 470,
   "id": "e5829d85",
   "metadata": {},
   "outputs": [
    {
     "name": "stderr",
     "output_type": "stream",
     "text": [
      "100%|██████████████████████████████████████████████████████████| 4575/4575 [1:21:34<00:00,  1.07s/it]\n"
     ]
    }
   ],
   "source": [
    "pred = [neumonia_model.predict(np.expand_dims(get_prepared_img(cv2.imread(im),pixels, mask = False, clahe_bool = False, equalize_bool = True), axis = 0), verbose = 0) \n",
    "        for im in tqdm(imgs)]"
   ]
  },
  {
   "cell_type": "markdown",
   "id": "b72b59f3",
   "metadata": {},
   "source": [
    "- Calculo de AUC respecto a normal o neumo"
   ]
  },
  {
   "cell_type": "code",
   "execution_count": null,
   "id": "7d3e1408",
   "metadata": {},
   "outputs": [],
   "source": [
    "pred = np.vstack(pred)"
   ]
  },
  {
   "cell_type": "code",
   "execution_count": null,
   "id": "e0009d1e",
   "metadata": {},
   "outputs": [],
   "source": [
    "true = np.array(true)\n",
    "print(sum(true == 0))\n",
    "print(sum(true == 1))"
   ]
  },
  {
   "cell_type": "code",
   "execution_count": null,
   "id": "f2ac6677",
   "metadata": {},
   "outputs": [],
   "source": [
    "mets, plots = metricas_dict(true, pred)"
   ]
  },
  {
   "cell_type": "code",
   "execution_count": null,
   "id": "60f18a07",
   "metadata": {},
   "outputs": [],
   "source": [
    "mets"
   ]
  },
  {
   "cell_type": "markdown",
   "id": "dd0c9d6e",
   "metadata": {},
   "source": [
    "### Mejor threshold"
   ]
  },
  {
   "cell_type": "code",
   "execution_count": null,
   "id": "2ba7b064",
   "metadata": {},
   "outputs": [],
   "source": [
    "cols = [met[:-8] for met in list(mets.keys())[4:8]]\n",
    "rows = ['younden', 'pr_max', 'pr_cut', '0.5', 'max']"
   ]
  },
  {
   "cell_type": "code",
   "execution_count": null,
   "id": "0388201c",
   "metadata": {},
   "outputs": [],
   "source": [
    "df = pd.DataFrame(columns = cols, index = rows)"
   ]
  },
  {
   "cell_type": "code",
   "execution_count": null,
   "id": "477588b6",
   "metadata": {},
   "outputs": [],
   "source": [
    "cols"
   ]
  },
  {
   "cell_type": "code",
   "execution_count": null,
   "id": "8b16004c",
   "metadata": {},
   "outputs": [],
   "source": [
    "values = list(mets.values())[4:]\n",
    "for i in range(len(df)):\n",
    "    df.iloc[i] = values[i*4:i*4+4]"
   ]
  },
  {
   "cell_type": "code",
   "execution_count": null,
   "id": "1cb55c57",
   "metadata": {},
   "outputs": [],
   "source": [
    "df['mean'] = (df.f1_score + df.precision_score + df.recall_score + df.accuracy_score)/4"
   ]
  },
  {
   "cell_type": "code",
   "execution_count": null,
   "id": "602fd6f3",
   "metadata": {},
   "outputs": [],
   "source": [
    "df.sort_values('mean')"
   ]
  },
  {
   "cell_type": "markdown",
   "id": "15a727b6",
   "metadata": {},
   "source": [
    "## JOIN ALL"
   ]
  },
  {
   "cell_type": "code",
   "execution_count": 357,
   "id": "59f20cc7",
   "metadata": {},
   "outputs": [],
   "source": [
    "pe = ped\n",
    "pe['class'] = 'ped'"
   ]
  },
  {
   "cell_type": "code",
   "execution_count": 358,
   "id": "cb4a4663",
   "metadata": {},
   "outputs": [],
   "source": [
    "df = pd.concat([pe, masks, covid], ignore_index = True)"
   ]
  },
  {
   "cell_type": "code",
   "execution_count": 359,
   "id": "c43e46a3",
   "metadata": {},
   "outputs": [],
   "source": [
    "dataset = ['ped']*len(ped) + ['masks']*len(masks) + ['covid']*len(covid)"
   ]
  },
  {
   "cell_type": "code",
   "execution_count": 360,
   "id": "a1d6046b",
   "metadata": {},
   "outputs": [],
   "source": [
    "df['dataset'] = dataset"
   ]
  },
  {
   "cell_type": "code",
   "execution_count": 361,
   "id": "9ab73b7a",
   "metadata": {},
   "outputs": [],
   "source": [
    "df['viral'] = [1 if bool(re.search('virus', df.img_name[i])) else 0 for i in df.index]\n",
    "df['bacteria'] = [1 if bool(re.search('bacteria', df.img_name[i])) else 0 for i in df.index]\n",
    "df = df.drop('real', axis = 1)"
   ]
  },
  {
   "cell_type": "code",
   "execution_count": 362,
   "id": "f354d97a",
   "metadata": {},
   "outputs": [
    {
     "data": {
      "text/plain": [
       "array(['COVID', 'Lung_Opacity', 'Normal', 'Viral Pneumonia', 'covid',\n",
       "       'normal', 'ped', 'pneumonia'], dtype=object)"
      ]
     },
     "execution_count": 362,
     "metadata": {},
     "output_type": "execute_result"
    }
   ],
   "source": [
    "np.unique(df['class'])"
   ]
  },
  {
   "cell_type": "code",
   "execution_count": 363,
   "id": "78f545d1",
   "metadata": {},
   "outputs": [
    {
     "name": "stderr",
     "output_type": "stream",
     "text": [
      "/tmp/ipykernel_8678/3334200257.py:1: SettingWithCopyWarning: \n",
      "A value is trying to be set on a copy of a slice from a DataFrame\n",
      "\n",
      "See the caveats in the documentation: https://pandas.pydata.org/pandas-docs/stable/user_guide/indexing.html#returning-a-view-versus-a-copy\n",
      "  df['class'][df.viral == 1] = 'viral'\n",
      "/tmp/ipykernel_8678/3334200257.py:2: SettingWithCopyWarning: \n",
      "A value is trying to be set on a copy of a slice from a DataFrame\n",
      "\n",
      "See the caveats in the documentation: https://pandas.pydata.org/pandas-docs/stable/user_guide/indexing.html#returning-a-view-versus-a-copy\n",
      "  df['class'][df.bacteria == 1] = 'bacterial'\n",
      "/tmp/ipykernel_8678/3334200257.py:3: SettingWithCopyWarning: \n",
      "A value is trying to be set on a copy of a slice from a DataFrame\n",
      "\n",
      "See the caveats in the documentation: https://pandas.pydata.org/pandas-docs/stable/user_guide/indexing.html#returning-a-view-versus-a-copy\n",
      "  df['class'][df.normal == 1] = 'normal'\n",
      "/tmp/ipykernel_8678/3334200257.py:4: SettingWithCopyWarning: \n",
      "A value is trying to be set on a copy of a slice from a DataFrame\n",
      "\n",
      "See the caveats in the documentation: https://pandas.pydata.org/pandas-docs/stable/user_guide/indexing.html#returning-a-view-versus-a-copy\n",
      "  df['class'][df['class'] == 'Viral Pneumonia'] = 'viral'\n",
      "/tmp/ipykernel_8678/3334200257.py:5: SettingWithCopyWarning: \n",
      "A value is trying to be set on a copy of a slice from a DataFrame\n",
      "\n",
      "See the caveats in the documentation: https://pandas.pydata.org/pandas-docs/stable/user_guide/indexing.html#returning-a-view-versus-a-copy\n",
      "  df['class'][df['class'] == 'COVID'] = 'covid'\n"
     ]
    }
   ],
   "source": [
    "df['class'][df.viral == 1] = 'viral'\n",
    "df['class'][df.bacteria == 1] = 'bacterial'\n",
    "df['class'][df.normal == 1] = 'normal'\n",
    "df['class'][df['class'] == 'Viral Pneumonia'] = 'viral'\n",
    "df['class'][df['class'] == 'COVID'] = 'covid'"
   ]
  },
  {
   "cell_type": "code",
   "execution_count": 364,
   "id": "69353537",
   "metadata": {},
   "outputs": [
    {
     "data": {
      "text/plain": [
       "31580"
      ]
     },
     "execution_count": 364,
     "metadata": {},
     "output_type": "execute_result"
    }
   ],
   "source": [
    "len(df)"
   ]
  },
  {
   "cell_type": "code",
   "execution_count": 365,
   "id": "dbb73da2",
   "metadata": {},
   "outputs": [
    {
     "data": {
      "text/plain": [
       "30231"
      ]
     },
     "execution_count": 365,
     "metadata": {},
     "output_type": "execute_result"
    }
   ],
   "source": [
    "df = df.drop_duplicates(subset = ['img_name']).reset_index(drop = True)\n",
    "len(df)"
   ]
  },
  {
   "cell_type": "code",
   "execution_count": 56,
   "id": "2accf9a1",
   "metadata": {},
   "outputs": [],
   "source": [
    "real = pd.read_csv(os.path.join('/home/mr1142/Documents/Data/global_pneumonia_validation', 'data.csv'))"
   ]
  },
  {
   "cell_type": "code",
   "execution_count": 57,
   "id": "9cf0854a",
   "metadata": {},
   "outputs": [
    {
     "data": {
      "text/html": [
       "<div>\n",
       "<style scoped>\n",
       "    .dataframe tbody tr th:only-of-type {\n",
       "        vertical-align: middle;\n",
       "    }\n",
       "\n",
       "    .dataframe tbody tr th {\n",
       "        vertical-align: top;\n",
       "    }\n",
       "\n",
       "    .dataframe thead th {\n",
       "        text-align: right;\n",
       "    }\n",
       "</style>\n",
       "<table border=\"1\" class=\"dataframe\">\n",
       "  <thead>\n",
       "    <tr style=\"text-align: right;\">\n",
       "      <th></th>\n",
       "      <th>path</th>\n",
       "      <th>img_name</th>\n",
       "      <th>normal</th>\n",
       "      <th>viral</th>\n",
       "      <th>bacteria</th>\n",
       "      <th>class</th>\n",
       "      <th>dataset</th>\n",
       "    </tr>\n",
       "  </thead>\n",
       "  <tbody>\n",
       "    <tr>\n",
       "      <th>0</th>\n",
       "      <td>/home/mr1142/Documents/Data/chest_xray/train/P...</td>\n",
       "      <td>person1384_bacteria_3522.jpeg</td>\n",
       "      <td>0</td>\n",
       "      <td>0</td>\n",
       "      <td>1</td>\n",
       "      <td>bacterial</td>\n",
       "      <td>ped</td>\n",
       "    </tr>\n",
       "    <tr>\n",
       "      <th>1</th>\n",
       "      <td>/home/mr1142/Documents/Data/chest_xray/train/P...</td>\n",
       "      <td>person783_bacteria_2687.jpeg</td>\n",
       "      <td>0</td>\n",
       "      <td>0</td>\n",
       "      <td>1</td>\n",
       "      <td>bacterial</td>\n",
       "      <td>ped</td>\n",
       "    </tr>\n",
       "    <tr>\n",
       "      <th>2</th>\n",
       "      <td>/home/mr1142/Documents/Data/chest_xray/train/P...</td>\n",
       "      <td>person1619_bacteria_4268.jpeg</td>\n",
       "      <td>0</td>\n",
       "      <td>0</td>\n",
       "      <td>1</td>\n",
       "      <td>bacterial</td>\n",
       "      <td>ped</td>\n",
       "    </tr>\n",
       "    <tr>\n",
       "      <th>3</th>\n",
       "      <td>/home/mr1142/Documents/Data/chest_xray/train/P...</td>\n",
       "      <td>person551_virus_1091.jpeg</td>\n",
       "      <td>0</td>\n",
       "      <td>1</td>\n",
       "      <td>0</td>\n",
       "      <td>viral</td>\n",
       "      <td>ped</td>\n",
       "    </tr>\n",
       "    <tr>\n",
       "      <th>4</th>\n",
       "      <td>/home/mr1142/Documents/Data/chest_xray/train/P...</td>\n",
       "      <td>person907_virus_1563.jpeg</td>\n",
       "      <td>0</td>\n",
       "      <td>1</td>\n",
       "      <td>0</td>\n",
       "      <td>viral</td>\n",
       "      <td>ped</td>\n",
       "    </tr>\n",
       "    <tr>\n",
       "      <th>...</th>\n",
       "      <td>...</td>\n",
       "      <td>...</td>\n",
       "      <td>...</td>\n",
       "      <td>...</td>\n",
       "      <td>...</td>\n",
       "      <td>...</td>\n",
       "      <td>...</td>\n",
       "    </tr>\n",
       "    <tr>\n",
       "      <th>30226</th>\n",
       "      <td>/home/mr1142/Documents/Data/neumonia_covid/all...</td>\n",
       "      <td>00012158_021.png</td>\n",
       "      <td>0</td>\n",
       "      <td>0</td>\n",
       "      <td>0</td>\n",
       "      <td>Lung_Opacity</td>\n",
       "      <td>covid</td>\n",
       "    </tr>\n",
       "    <tr>\n",
       "      <th>30227</th>\n",
       "      <td>/home/mr1142/Documents/Data/neumonia_covid/all...</td>\n",
       "      <td>00001855_008.png</td>\n",
       "      <td>0</td>\n",
       "      <td>0</td>\n",
       "      <td>0</td>\n",
       "      <td>Lung_Opacity</td>\n",
       "      <td>covid</td>\n",
       "    </tr>\n",
       "    <tr>\n",
       "      <th>30228</th>\n",
       "      <td>/home/mr1142/Documents/Data/neumonia_covid/all...</td>\n",
       "      <td>00011472_001.png</td>\n",
       "      <td>0</td>\n",
       "      <td>0</td>\n",
       "      <td>0</td>\n",
       "      <td>Lung_Opacity</td>\n",
       "      <td>covid</td>\n",
       "    </tr>\n",
       "    <tr>\n",
       "      <th>30229</th>\n",
       "      <td>/home/mr1142/Documents/Data/neumonia_covid/all...</td>\n",
       "      <td>00014393_007.png</td>\n",
       "      <td>0</td>\n",
       "      <td>0</td>\n",
       "      <td>0</td>\n",
       "      <td>Lung_Opacity</td>\n",
       "      <td>covid</td>\n",
       "    </tr>\n",
       "    <tr>\n",
       "      <th>30230</th>\n",
       "      <td>/home/mr1142/Documents/Data/neumonia_covid/all...</td>\n",
       "      <td>00027648_005.png</td>\n",
       "      <td>0</td>\n",
       "      <td>0</td>\n",
       "      <td>0</td>\n",
       "      <td>Lung_Opacity</td>\n",
       "      <td>covid</td>\n",
       "    </tr>\n",
       "  </tbody>\n",
       "</table>\n",
       "<p>30231 rows × 7 columns</p>\n",
       "</div>"
      ],
      "text/plain": [
       "                                                    path  \\\n",
       "0      /home/mr1142/Documents/Data/chest_xray/train/P...   \n",
       "1      /home/mr1142/Documents/Data/chest_xray/train/P...   \n",
       "2      /home/mr1142/Documents/Data/chest_xray/train/P...   \n",
       "3      /home/mr1142/Documents/Data/chest_xray/train/P...   \n",
       "4      /home/mr1142/Documents/Data/chest_xray/train/P...   \n",
       "...                                                  ...   \n",
       "30226  /home/mr1142/Documents/Data/neumonia_covid/all...   \n",
       "30227  /home/mr1142/Documents/Data/neumonia_covid/all...   \n",
       "30228  /home/mr1142/Documents/Data/neumonia_covid/all...   \n",
       "30229  /home/mr1142/Documents/Data/neumonia_covid/all...   \n",
       "30230  /home/mr1142/Documents/Data/neumonia_covid/all...   \n",
       "\n",
       "                            img_name  normal  viral  bacteria         class  \\\n",
       "0      person1384_bacteria_3522.jpeg       0      0         1     bacterial   \n",
       "1       person783_bacteria_2687.jpeg       0      0         1     bacterial   \n",
       "2      person1619_bacteria_4268.jpeg       0      0         1     bacterial   \n",
       "3          person551_virus_1091.jpeg       0      1         0         viral   \n",
       "4          person907_virus_1563.jpeg       0      1         0         viral   \n",
       "...                              ...     ...    ...       ...           ...   \n",
       "30226               00012158_021.png       0      0         0  Lung_Opacity   \n",
       "30227               00001855_008.png       0      0         0  Lung_Opacity   \n",
       "30228               00011472_001.png       0      0         0  Lung_Opacity   \n",
       "30229               00014393_007.png       0      0         0  Lung_Opacity   \n",
       "30230               00027648_005.png       0      0         0  Lung_Opacity   \n",
       "\n",
       "      dataset  \n",
       "0         ped  \n",
       "1         ped  \n",
       "2         ped  \n",
       "3         ped  \n",
       "4         ped  \n",
       "...       ...  \n",
       "30226   covid  \n",
       "30227   covid  \n",
       "30228   covid  \n",
       "30229   covid  \n",
       "30230   covid  \n",
       "\n",
       "[30231 rows x 7 columns]"
      ]
     },
     "execution_count": 57,
     "metadata": {},
     "output_type": "execute_result"
    }
   ],
   "source": [
    "real"
   ]
  },
  {
   "cell_type": "code",
   "execution_count": 58,
   "id": "e4ed8e8b",
   "metadata": {},
   "outputs": [],
   "source": [
    "val = real.sample(frac = 0.2)\n",
    "test = real.drop(val.index)"
   ]
  },
  {
   "cell_type": "code",
   "execution_count": 60,
   "id": "455ff525",
   "metadata": {},
   "outputs": [
    {
     "data": {
      "text/plain": [
       "24185"
      ]
     },
     "execution_count": 60,
     "metadata": {},
     "output_type": "execute_result"
    }
   ],
   "source": [
    "len(test)"
   ]
  },
  {
   "cell_type": "code",
   "execution_count": 55,
   "id": "908a804b",
   "metadata": {},
   "outputs": [
    {
     "name": "stdout",
     "output_type": "stream",
     "text": [
      "0\n",
      "218\n",
      "282\n"
     ]
    }
   ],
   "source": [
    "print(sum(real['class'] == 'pneumonia'))\n",
    "print(sum(real.normal == 1))\n",
    "print(sum(real.normal == 0))"
   ]
  },
  {
   "cell_type": "code",
   "execution_count": 33,
   "id": "c6ba037e",
   "metadata": {},
   "outputs": [
    {
     "data": {
      "text/plain": [
       "array(['Lung_Opacity', 'bacterial', 'covid', 'normal', 'pneumonia',\n",
       "       'viral'], dtype=object)"
      ]
     },
     "execution_count": 33,
     "metadata": {},
     "output_type": "execute_result"
    }
   ],
   "source": [
    "import numpy as np\n",
    "np.unique(real['class'])"
   ]
  },
  {
   "cell_type": "code",
   "execution_count": 63,
   "id": "8b74c347",
   "metadata": {},
   "outputs": [
    {
     "name": "stderr",
     "output_type": "stream",
     "text": [
      "100%|█████████████████████████████████████████████████████████████████████████| 24185/24185 [05:02<00:00, 80.03it/s]\n"
     ]
    }
   ],
   "source": [
    "# df = test\n",
    "# for i in tqdm(df.index):\n",
    "#     shutil.copy(os.path.join('/home/mr1142/Documents/Data/global_pneumonia_validation', df.img_name[i]), \n",
    "#                 os.path.join('/home/mr1142/Documents/Data/global_pneumonia_validation/test', df.img_name[i]))\n",
    "# df.to_csv('/home/mr1142/Documents/Data/global_pneumonia_validation/test/data.csv', index = False)"
   ]
  },
  {
   "cell_type": "code",
   "execution_count": 23,
   "id": "7774e552",
   "metadata": {},
   "outputs": [],
   "source": []
  },
  {
   "cell_type": "markdown",
   "id": "7d0d7f1d",
   "metadata": {},
   "source": [
    "## NIH"
   ]
  },
  {
   "cell_type": "code",
   "execution_count": null,
   "id": "31c182ad",
   "metadata": {},
   "outputs": [],
   "source": [
    "path = '/home/mr1142/Documents/Data/NIH'"
   ]
  },
  {
   "cell_type": "code",
   "execution_count": null,
   "id": "77144592",
   "metadata": {},
   "outputs": [],
   "source": [
    "nih = pd.read_csv(os.path.join(path, 'Data_Entry_2017.csv'))"
   ]
  },
  {
   "cell_type": "code",
   "execution_count": null,
   "id": "f6128986",
   "metadata": {},
   "outputs": [],
   "source": [
    "labels = np.unique(nih['Finding Labels'])\n",
    "labels = '|'.join(labels)\n",
    "labels = labels.split('|')\n",
    "labels = np.unique(labels).tolist()"
   ]
  },
  {
   "cell_type": "code",
   "execution_count": null,
   "id": "1c481d5f",
   "metadata": {},
   "outputs": [],
   "source": [
    "for lab in labels:\n",
    "    nih[lab] = pd.NA"
   ]
  },
  {
   "cell_type": "code",
   "execution_count": null,
   "id": "af900fc6",
   "metadata": {},
   "outputs": [],
   "source": [
    "def fill_label(information, label):\n",
    "    positive_labels = information.split('|')\n",
    "    if label in positive_labels:\n",
    "        return 1\n",
    "    return 0"
   ]
  },
  {
   "cell_type": "code",
   "execution_count": null,
   "id": "c46b6802",
   "metadata": {},
   "outputs": [],
   "source": [
    "for lab in labels:\n",
    "    nih[lab] = list(map(lambda x: fill_label(x, lab), nih['Finding Labels'].tolist()))"
   ]
  },
  {
   "cell_type": "code",
   "execution_count": null,
   "id": "c5dfff02",
   "metadata": {},
   "outputs": [],
   "source": [
    "nih = nih.sample(frac=1).reset_index(drop = True)"
   ]
  },
  {
   "cell_type": "code",
   "execution_count": null,
   "id": "a27fc1b6",
   "metadata": {},
   "outputs": [],
   "source": [
    "sum(nih['Finding Labels'] == 'Consolidation')"
   ]
  },
  {
   "cell_type": "code",
   "execution_count": null,
   "id": "3a40a178",
   "metadata": {},
   "outputs": [],
   "source": [
    "print(sum(nih.Consolidation == 1))\n",
    "print(sum(nih['No Finding'] == 1))"
   ]
  },
  {
   "cell_type": "code",
   "execution_count": null,
   "id": "2ba54869",
   "metadata": {},
   "outputs": [],
   "source": [
    "n = 2000"
   ]
  },
  {
   "cell_type": "code",
   "execution_count": null,
   "id": "3e0bf9bf",
   "metadata": {},
   "outputs": [],
   "source": [
    "neumo = nih[nih.Consolidation == 1][0:n]\n",
    "normal = nih[nih['No Finding'] == 1][0:n]"
   ]
  },
  {
   "cell_type": "code",
   "execution_count": null,
   "id": "9542852b",
   "metadata": {},
   "outputs": [],
   "source": [
    "nih = pd.concat([neumo, normal]).reset_index(drop = True)\n",
    "nih = nih.sample(frac=1).reset_index(drop = True)"
   ]
  },
  {
   "cell_type": "markdown",
   "id": "926c26e1",
   "metadata": {},
   "source": [
    "### AUC"
   ]
  },
  {
   "cell_type": "code",
   "execution_count": null,
   "id": "ad84dff1",
   "metadata": {},
   "outputs": [],
   "source": [
    "print(len(nih))"
   ]
  },
  {
   "cell_type": "code",
   "execution_count": null,
   "id": "15779ac6",
   "metadata": {},
   "outputs": [],
   "source": [
    "pixels = 512"
   ]
  },
  {
   "cell_type": "code",
   "execution_count": null,
   "id": "cec85c32",
   "metadata": {},
   "outputs": [],
   "source": [
    "def get_paths(img_list):\n",
    "    names = []\n",
    "    imgs = {}\n",
    "    imgs_names = []\n",
    "    path = '/home/mr1142/Documents/Data/NIH'\n",
    "    subfolders = [f.path for f in os.scandir(path) if f.is_dir()]\n",
    "    # De todas las imagenes que quiero cargar miro cuantas hay en cada carpeta y las cargo\n",
    "    for folder in subfolders:\n",
    "        folder_images = os.listdir(os.path.join(folder, 'images'))\n",
    "        this_folder_imgs = set(img_list).intersection(folder_images)\n",
    "        names = names + list(this_folder_imgs)\n",
    "        for im in this_folder_imgs:\n",
    "            imgs[im] = os.path.join(path, folder, 'images', im)\n",
    "    return imgs"
   ]
  },
  {
   "cell_type": "code",
   "execution_count": null,
   "id": "9de0bcf9",
   "metadata": {},
   "outputs": [],
   "source": [
    "paths = get_paths(nih['Image Index'])\n",
    "nih['path'] = [paths[im] for im in nih['Image Index']]"
   ]
  },
  {
   "cell_type": "code",
   "execution_count": null,
   "id": "d1eb9b8f",
   "metadata": {},
   "outputs": [],
   "source": [
    "df = nih\n",
    "imgs = list(df['path'])\n",
    "true = list(df['Consolidation'])"
   ]
  },
  {
   "cell_type": "code",
   "execution_count": null,
   "id": "5ce5b4e6",
   "metadata": {},
   "outputs": [],
   "source": [
    "pred = [neumonia_model.predict(np.expand_dims(get_prepared_img(cv2.imread(im),pixels, mask = False, clahe_bool = False, equalize = True), axis = 0)) for im in tqdm(imgs)]"
   ]
  },
  {
   "cell_type": "markdown",
   "id": "37ba7146",
   "metadata": {},
   "source": [
    "- Calculo de AUC respecto a normal o neumo"
   ]
  },
  {
   "cell_type": "code",
   "execution_count": null,
   "id": "ecc5c5b7",
   "metadata": {},
   "outputs": [],
   "source": [
    "pred = np.vstack(pred)"
   ]
  },
  {
   "cell_type": "code",
   "execution_count": null,
   "id": "f20cfc4e",
   "metadata": {},
   "outputs": [],
   "source": [
    "true = abs(1-np.array(true))\n",
    "print(sum(true == 0))\n",
    "print(sum(true == 1))"
   ]
  },
  {
   "cell_type": "code",
   "execution_count": null,
   "id": "5d1253f8",
   "metadata": {},
   "outputs": [],
   "source": [
    "mets, plots = metricas_dict(true, pred)"
   ]
  },
  {
   "cell_type": "code",
   "execution_count": null,
   "id": "22eecbdc",
   "metadata": {},
   "outputs": [],
   "source": [
    "mets"
   ]
  },
  {
   "cell_type": "markdown",
   "id": "ea6bfdd9",
   "metadata": {},
   "source": [
    "### Mejor threshold"
   ]
  },
  {
   "cell_type": "code",
   "execution_count": null,
   "id": "fe623890",
   "metadata": {},
   "outputs": [],
   "source": [
    "cols = [met[:-8] for met in list(mets.keys())[4:8]]\n",
    "rows = ['younden', 'pr_max', 'pr_cut', '0.5', 'max']"
   ]
  },
  {
   "cell_type": "code",
   "execution_count": null,
   "id": "9438e2b9",
   "metadata": {},
   "outputs": [],
   "source": [
    "df = pd.DataFrame(columns = cols, index = rows)"
   ]
  },
  {
   "cell_type": "code",
   "execution_count": null,
   "id": "6a0509ab",
   "metadata": {},
   "outputs": [],
   "source": [
    "values = list(mets.values())[4:]\n",
    "for i in range(len(df)):\n",
    "    df.iloc[i] = values[i*4:i*4+4]"
   ]
  },
  {
   "cell_type": "code",
   "execution_count": null,
   "id": "fdbe3aac",
   "metadata": {},
   "outputs": [],
   "source": [
    "df['mean'] = (df.f1_score + df.precision_score + df.recall_score + df.accuracy_score)/4"
   ]
  },
  {
   "cell_type": "code",
   "execution_count": null,
   "id": "55ecbc98",
   "metadata": {},
   "outputs": [],
   "source": [
    "df.sort_values('mean')"
   ]
  },
  {
   "cell_type": "markdown",
   "id": "411d28ee",
   "metadata": {},
   "source": [
    "# HEATMAPS"
   ]
  },
  {
   "cell_type": "code",
   "execution_count": 3,
   "id": "955d9049",
   "metadata": {},
   "outputs": [],
   "source": [
    "from scipy.ndimage import zoom"
   ]
  },
  {
   "cell_type": "code",
   "execution_count": 4,
   "id": "46530cc6",
   "metadata": {},
   "outputs": [],
   "source": [
    "import matplotlib.cm as cm\n",
    "from IPython.display import Image, display"
   ]
  },
  {
   "cell_type": "code",
   "execution_count": 8,
   "id": "7afd93f6",
   "metadata": {},
   "outputs": [],
   "source": [
    "def make_gradcam_heatmap(img_array, model, last_conv_layer_name, pred_index=None):\n",
    "    # First, we create a model that maps the input image to the activations\n",
    "    # of the last conv layer as well as the output predictions\n",
    "    # Then, we compute the gradient of the top predicted class for our input image\n",
    "    # with respect to the activations of the last conv layer\n",
    "    grad_model = tf.keras.models.Model(\n",
    "        [model.inputs], [model.get_layer(last_conv_layer_name).output, model.output]\n",
    "    )\n",
    "    \n",
    "    with tf.GradientTape() as tape:\n",
    "        last_conv_layer_output, preds = grad_model(img_array)\n",
    "        if pred_index is None:\n",
    "            pred_index = tf.argmax(preds[0])\n",
    "        class_channel = preds[:, pred_index]\n",
    "\n",
    "    # This is the gradient of the output neuron (top predicted or chosen)\n",
    "    # with regard to the output feature map of the last conv layer\n",
    "    grads = tape.gradient(class_channel, last_conv_layer_output)\n",
    "\n",
    "    # This is a vector where each entry is the mean intensity of the gradient\n",
    "    # over a specific feature map channel\n",
    "    pooled_grads = tf.reduce_mean(grads, axis=(0, 1, 2))\n",
    "\n",
    "    # We multiply each channel in the feature map array\n",
    "    # by \"how important this channel is\" with regard to the top predicted class\n",
    "    # then sum all the channels to obtain the heatmap class activation\n",
    "    last_conv_layer_output = last_conv_layer_output[0]\n",
    "    heatmap = last_conv_layer_output @ pooled_grads[..., tf.newaxis]\n",
    "    heatmap = tf.squeeze(heatmap)\n",
    "\n",
    "    # For visualization purpose, we will also normalize the heatmap between 0 & 1\n",
    "    heatmap = tf.maximum(heatmap, 0) / tf.math.reduce_max(heatmap)\n",
    "    return heatmap.numpy()\n",
    "\n",
    "def save_and_display_gradcam(img, heatmap, cam_path=\"cam.jpg\", alpha=0.4):\n",
    "    # Rescale heatmap to a range 0-255\n",
    "    heatmap = np.uint8(255 * heatmap)\n",
    "\n",
    "    # Use jet colormap to colorize heatmap\n",
    "    jet = cm.get_cmap(\"jet\")\n",
    "\n",
    "    # Use RGB values of the colormap\n",
    "    jet_colors = jet(np.arange(256))[:, :3]\n",
    "    jet_heatmap = jet_colors[heatmap]\n",
    "\n",
    "    # Create an image with RGB colorized heatmap\n",
    "    jet_heatmap = keras.preprocessing.image.array_to_img(jet_heatmap)\n",
    "    jet_heatmap = jet_heatmap.resize((img.shape[1], img.shape[0]))\n",
    "    jet_heatmap = keras.preprocessing.image.img_to_array(jet_heatmap)\n",
    "\n",
    "    # Superimpose the heatmap on original image\n",
    "    superimposed_img = jet_heatmap * alpha + img\n",
    "    superimposed_img = keras.preprocessing.image.array_to_img(superimposed_img)\n",
    "\n",
    "    # Save the superimposed image\n",
    "    superimposed_img.save(cam_path)\n",
    "\n",
    "    # Display Grad CAM\n",
    "    return superimposed_img"
   ]
  },
  {
   "cell_type": "code",
   "execution_count": 17,
   "id": "976b96ed",
   "metadata": {},
   "outputs": [
    {
     "name": "stdout",
     "output_type": "stream",
     "text": [
      "Model: \"sequential\"\n",
      "_________________________________________________________________\n",
      " Layer (type)                Output Shape              Param #   \n",
      "=================================================================\n",
      " conv_inicial (Conv2D)       (None, 512, 512, 3)       30        \n",
      "                                                                 \n",
      " xception (Functional)       (None, 16, 16, 2048)      20861480  \n",
      "                                                                 \n",
      " general_max_pooling (Global  (None, 2048)             0         \n",
      " MaxPooling2D)                                                   \n",
      "                                                                 \n",
      " dropout_out_1 (Dropout)     (None, 2048)              0         \n",
      "                                                                 \n",
      " dense (Dense)               (None, 768)               1573632   \n",
      "                                                                 \n",
      " dense_1 (Dense)             (None, 128)               98432     \n",
      "                                                                 \n",
      " dropout_out_2 (Dropout)     (None, 128)               0         \n",
      "                                                                 \n",
      " dense_2 (Dense)             (None, 32)                4128      \n",
      "                                                                 \n",
      " fc_out (Dense)              (None, 3)                 99        \n",
      "                                                                 \n",
      "=================================================================\n",
      "Total params: 22,537,801\n",
      "Trainable params: 16,534,585\n",
      "Non-trainable params: 6,003,216\n",
      "_________________________________________________________________\n"
     ]
    }
   ],
   "source": [
    "neumonia_model.summary()"
   ]
  },
  {
   "cell_type": "code",
   "execution_count": 18,
   "id": "d4543508",
   "metadata": {},
   "outputs": [],
   "source": [
    "path = '/home/mr1142/Documents/Data/neumonia_covid/all'"
   ]
  },
  {
   "cell_type": "code",
   "execution_count": 19,
   "id": "336c8c3e",
   "metadata": {},
   "outputs": [
    {
     "ename": "NameError",
     "evalue": "name 'ped' is not defined",
     "output_type": "error",
     "traceback": [
      "\u001b[0;31m---------------------------------------------------------------------------\u001b[0m",
      "\u001b[0;31mNameError\u001b[0m                                 Traceback (most recent call last)",
      "Cell \u001b[0;32mIn [19], line 2\u001b[0m\n\u001b[1;32m      1\u001b[0m i \u001b[38;5;241m=\u001b[39m np\u001b[38;5;241m.\u001b[39mrandom\u001b[38;5;241m.\u001b[39mrandint(\u001b[38;5;241m1000\u001b[39m)\n\u001b[0;32m----> 2\u001b[0m sano \u001b[38;5;241m=\u001b[39m ped[ped[\u001b[38;5;124m'\u001b[39m\u001b[38;5;124mnormal\u001b[39m\u001b[38;5;124m'\u001b[39m] \u001b[38;5;241m==\u001b[39m \u001b[38;5;241m1\u001b[39m]\u001b[38;5;241m.\u001b[39miloc[i]\n\u001b[1;32m      3\u001b[0m enfermo \u001b[38;5;241m=\u001b[39m ped[ped[\u001b[38;5;124m'\u001b[39m\u001b[38;5;124mnormal\u001b[39m\u001b[38;5;124m'\u001b[39m] \u001b[38;5;241m==\u001b[39m \u001b[38;5;241m0\u001b[39m]\u001b[38;5;241m.\u001b[39miloc[i]\n\u001b[1;32m      4\u001b[0m sano_im \u001b[38;5;241m=\u001b[39m cv2\u001b[38;5;241m.\u001b[39mimread(os\u001b[38;5;241m.\u001b[39mpath\u001b[38;5;241m.\u001b[39mjoin(sano\u001b[38;5;241m.\u001b[39mpath, sano\u001b[38;5;241m.\u001b[39mimg_name))\n",
      "\u001b[0;31mNameError\u001b[0m: name 'ped' is not defined"
     ]
    }
   ],
   "source": [
    "i = np.random.randint(1000)\n",
    "sano = ped[ped['normal'] == 1].iloc[i]\n",
    "enfermo = ped[ped['normal'] == 0].iloc[i]\n",
    "sano_im = cv2.imread(os.path.join(sano.path, sano.img_name))\n",
    "enf_im = cv2.imread(os.path.join(enfermo.path, enfermo.img_name))\n",
    "sano_prepared = np.expand_dims(get_prepared_img(sano_im, pixels, mask = False), axis = 0)\n",
    "enf_prepared = np.expand_dims(get_prepared_img(enf_im, pixels, mask = False), axis = 0)"
   ]
  },
  {
   "cell_type": "code",
   "execution_count": null,
   "id": "2a98a8b7",
   "metadata": {},
   "outputs": [],
   "source": [
    "sano = covid[covid['class'] == 1].iloc[np.random.randint(1000)]\n",
    "enfermo = covid[covid['class'] == 0].iloc[np.random.randint(1000)]\n",
    "sano_im = cv2.imread(os.path.join(path, sano.img_name))\n",
    "enf_im = cv2.imread(os.path.join(path, enfermo.img_name))\n",
    "sano_prepared = np.expand_dims(get_prepared_img(sano_im, pixels, mask = False, clahe_bool = False, equalize_bool = True), axis = 0)\n",
    "enf_prepared = np.expand_dims(get_prepared_img(enf_im, pixels, mask = False, clahe_bool = False, equalize_bool = True), axis = 0)"
   ]
  },
  {
   "cell_type": "code",
   "execution_count": null,
   "id": "24fdd1a6",
   "metadata": {},
   "outputs": [],
   "source": [
    "figure, axis = plt.subplots(2,2)\n",
    "figure.set_size_inches(10,10)\n",
    "axis[0,0].imshow(sano_im)\n",
    "axis[0,0].set_title('SANO')\n",
    "axis[0,1].imshow(enf_im)\n",
    "axis[0,1].set_title('NEUMONIA')\n",
    "axis[1,0].imshow(sano_prepared[0,...], cmap = 'gray')\n",
    "axis[1,1].imshow(enf_prepared[0,...], cmap = 'gray')\n",
    "print('                     {}                                 {}'.format(neumonia_model.predict(sano_prepared)[0][0], neumonia_model.predict(enf_prepared)[0][0]))"
   ]
  },
  {
   "cell_type": "code",
   "execution_count": null,
   "id": "0ff82fae",
   "metadata": {},
   "outputs": [],
   "source": [
    "model1 = tf.keras.models.Model(neumonia_model.inputs, neumonia_model.layers[0].output)\n",
    "model = tf.keras.models.Model([neumonia_model.input, neumonia_model.layers[1].input], [neumonia_model.layers[1].output, neumonia_model.output])"
   ]
  },
  {
   "cell_type": "code",
   "execution_count": null,
   "id": "68634f6b",
   "metadata": {},
   "outputs": [],
   "source": [
    "img = enf_prepared\n",
    "conv, pred = model.predict([img, model1(img)])"
   ]
  },
  {
   "cell_type": "code",
   "execution_count": null,
   "id": "31e14bd0",
   "metadata": {},
   "outputs": [],
   "source": [
    "heatmap = make_gradcam_heatmap(enf_prepared, neumonia_model, 'conv_salida')\n",
    "# Display heatmap\n",
    "# plt.matshow(heatmap)\n",
    "# plt.show()"
   ]
  },
  {
   "cell_type": "code",
   "execution_count": null,
   "id": "bb2d3777",
   "metadata": {},
   "outputs": [],
   "source": [
    "scale = 224 / 7\n",
    "figure, axis = plt.subplots(1,2)\n",
    "figure.set_size_inches(10,10)\n",
    "axis[0].set_title('CUTRE')\n",
    "axis[0].imshow(img[0,...])\n",
    "axis[0].imshow(zoom(np.sum(conv, axis = 3).squeeze(), zoom=(scale, scale)), cmap='jet', alpha=0.5)\n",
    "axis[1].set_title('GRANDCAM')\n",
    "axis[1].imshow(save_and_display_gradcam(enf_im, heatmap))"
   ]
  },
  {
   "cell_type": "code",
   "execution_count": null,
   "id": "1f6d0aea",
   "metadata": {},
   "outputs": [],
   "source": []
  },
  {
   "cell_type": "code",
   "execution_count": null,
   "id": "18e1d144",
   "metadata": {},
   "outputs": [],
   "source": []
  },
  {
   "cell_type": "code",
   "execution_count": null,
   "id": "9186d366",
   "metadata": {},
   "outputs": [],
   "source": []
  },
  {
   "cell_type": "code",
   "execution_count": null,
   "id": "03cea4f8",
   "metadata": {},
   "outputs": [],
   "source": []
  },
  {
   "cell_type": "code",
   "execution_count": null,
   "id": "9640e334",
   "metadata": {},
   "outputs": [],
   "source": []
  },
  {
   "cell_type": "code",
   "execution_count": null,
   "id": "40d43e62",
   "metadata": {},
   "outputs": [],
   "source": []
  },
  {
   "cell_type": "code",
   "execution_count": null,
   "id": "8f8c7490",
   "metadata": {},
   "outputs": [],
   "source": []
  }
 ],
 "metadata": {
  "kernelspec": {
   "display_name": "Python 3 (ipykernel)",
   "language": "python",
   "name": "python3"
  },
  "language_info": {
   "codemirror_mode": {
    "name": "ipython",
    "version": 3
   },
   "file_extension": ".py",
   "mimetype": "text/x-python",
   "name": "python",
   "nbconvert_exporter": "python",
   "pygments_lexer": "ipython3",
   "version": "3.10.6"
  }
 },
 "nbformat": 4,
 "nbformat_minor": 5
}
