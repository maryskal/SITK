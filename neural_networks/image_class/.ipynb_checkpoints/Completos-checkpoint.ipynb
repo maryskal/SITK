{
 "cells": [
  {
   "cell_type": "code",
   "execution_count": 249,
   "id": "aae39819-bcdf-4ee7-960e-0730e915f706",
   "metadata": {},
   "outputs": [],
   "source": [
    "import pandas as pd\n",
    "import numpy as np\n",
    "import os\n",
    "import re"
   ]
  },
  {
   "cell_type": "code",
   "execution_count": 250,
   "id": "7607f877-5db2-4d2e-a207-b3ea8f62ca12",
   "metadata": {},
   "outputs": [],
   "source": [
    "p = '/home/mr1142/Documents/Data/models/neumonia'\n",
    "modelos = os.listdir(p)\n",
    "modelos = [modelo[:-3] for modelo in modelos if os.path.isfile(os.path.join(p, modelo))]\n",
    "modelos = [modelo for modelo in modelos if bool(re.search('completo', modelo))]"
   ]
  },
  {
   "cell_type": "code",
   "execution_count": 251,
   "id": "ea9bf433-a7f2-4fd3-8e82-5415c4281e77",
   "metadata": {},
   "outputs": [
    {
     "data": {
      "text/plain": [
       "['completo_IncResNet_fine-07_batch-8_lr-0001_auc-99',\n",
       " 'completo_Xception_fine-07_batch-8_lr-0001_auc-99',\n",
       " 'completo_Xception_fine-05_batch-8_lr-0001_auc-99',\n",
       " 'completo_IncResNet_fine-03_batch-8_lr-0001_auc-99',\n",
       " 'completo_Xception_fine-03_batch-8_lr-0001_auc-99']"
      ]
     },
     "execution_count": 251,
     "metadata": {},
     "output_type": "execute_result"
    }
   ],
   "source": [
    "modelos"
   ]
  },
  {
   "cell_type": "markdown",
   "id": "4b3b6a37-07c1-4fc2-988b-958c8732222c",
   "metadata": {},
   "source": [
    "# COMPLETOS"
   ]
  },
  {
   "cell_type": "code",
   "execution_count": 252,
   "id": "1f19868c-5395-4510-b917-9377105af0fa",
   "metadata": {},
   "outputs": [],
   "source": [
    "path = '/home/mr1142/Documents/Data/models/neumonia/training_data/train_max_completo.csv'\n",
    "df = pd.read_csv(path)"
   ]
  },
  {
   "cell_type": "code",
   "execution_count": 253,
   "id": "b7c8efac-5511-42ea-86bc-5131845e449a",
   "metadata": {},
   "outputs": [
    {
     "data": {
      "text/html": [
       "<div>\n",
       "<style scoped>\n",
       "    .dataframe tbody tr th:only-of-type {\n",
       "        vertical-align: middle;\n",
       "    }\n",
       "\n",
       "    .dataframe tbody tr th {\n",
       "        vertical-align: top;\n",
       "    }\n",
       "\n",
       "    .dataframe thead th {\n",
       "        text-align: right;\n",
       "    }\n",
       "</style>\n",
       "<table border=\"1\" class=\"dataframe\">\n",
       "  <thead>\n",
       "    <tr style=\"text-align: right;\">\n",
       "      <th></th>\n",
       "      <th>name</th>\n",
       "      <th>modelo</th>\n",
       "      <th>fine</th>\n",
       "      <th>batch</th>\n",
       "      <th>lr</th>\n",
       "      <th>mask</th>\n",
       "      <th>trainprop</th>\n",
       "      <th>pixels</th>\n",
       "      <th>subset</th>\n",
       "      <th>loss</th>\n",
       "      <th>binary_accuracy</th>\n",
       "      <th>precision</th>\n",
       "      <th>auc</th>\n",
       "      <th>val_loss</th>\n",
       "      <th>val_binary_accuracy</th>\n",
       "      <th>val_precision</th>\n",
       "      <th>val_auc</th>\n",
       "    </tr>\n",
       "  </thead>\n",
       "  <tbody>\n",
       "    <tr>\n",
       "      <th>0</th>\n",
       "      <td>completo_IncResNet_fine-07_batch-8_lr-0001_auc-99</td>\n",
       "      <td>IncResNet</td>\n",
       "      <td>0.7</td>\n",
       "      <td>8</td>\n",
       "      <td>0.0001</td>\n",
       "      <td>0</td>\n",
       "      <td>0.7</td>\n",
       "      <td>512</td>\n",
       "      <td>0.0</td>\n",
       "      <td>0.492858</td>\n",
       "      <td>0.993600</td>\n",
       "      <td>0.990455</td>\n",
       "      <td>0.999046</td>\n",
       "      <td>0.325279</td>\n",
       "      <td>0.972474</td>\n",
       "      <td>0.959426</td>\n",
       "      <td>0.994037</td>\n",
       "    </tr>\n",
       "    <tr>\n",
       "      <th>1</th>\n",
       "      <td>completo_Xception_fine-07_batch-8_lr-0001_auc-99</td>\n",
       "      <td>Xception</td>\n",
       "      <td>0.7</td>\n",
       "      <td>8</td>\n",
       "      <td>0.0001</td>\n",
       "      <td>0</td>\n",
       "      <td>0.7</td>\n",
       "      <td>512</td>\n",
       "      <td>0.0</td>\n",
       "      <td>0.349323</td>\n",
       "      <td>0.996326</td>\n",
       "      <td>0.994507</td>\n",
       "      <td>0.999500</td>\n",
       "      <td>0.226185</td>\n",
       "      <td>0.974344</td>\n",
       "      <td>0.961658</td>\n",
       "      <td>0.991506</td>\n",
       "    </tr>\n",
       "    <tr>\n",
       "      <th>2</th>\n",
       "      <td>completo_Xception_fine-05_batch-8_lr-0001_auc-99</td>\n",
       "      <td>Xception</td>\n",
       "      <td>0.5</td>\n",
       "      <td>8</td>\n",
       "      <td>0.0001</td>\n",
       "      <td>0</td>\n",
       "      <td>0.7</td>\n",
       "      <td>512</td>\n",
       "      <td>0.0</td>\n",
       "      <td>0.302252</td>\n",
       "      <td>0.995274</td>\n",
       "      <td>0.992948</td>\n",
       "      <td>0.999475</td>\n",
       "      <td>0.212079</td>\n",
       "      <td>0.979018</td>\n",
       "      <td>0.968672</td>\n",
       "      <td>0.995369</td>\n",
       "    </tr>\n",
       "    <tr>\n",
       "      <th>3</th>\n",
       "      <td>completo_IncResNet_fine-03_batch-8_lr-0001_auc-99</td>\n",
       "      <td>IncResNet</td>\n",
       "      <td>0.3</td>\n",
       "      <td>8</td>\n",
       "      <td>0.0001</td>\n",
       "      <td>0</td>\n",
       "      <td>0.7</td>\n",
       "      <td>512</td>\n",
       "      <td>0.0</td>\n",
       "      <td>0.438579</td>\n",
       "      <td>0.992743</td>\n",
       "      <td>0.989131</td>\n",
       "      <td>0.999129</td>\n",
       "      <td>0.239660</td>\n",
       "      <td>0.982446</td>\n",
       "      <td>0.973668</td>\n",
       "      <td>0.995584</td>\n",
       "    </tr>\n",
       "    <tr>\n",
       "      <th>4</th>\n",
       "      <td>completo_Xception_fine-03_batch-8_lr-0001_auc-99</td>\n",
       "      <td>Xception</td>\n",
       "      <td>0.3</td>\n",
       "      <td>8</td>\n",
       "      <td>0.0001</td>\n",
       "      <td>0</td>\n",
       "      <td>0.7</td>\n",
       "      <td>512</td>\n",
       "      <td>0.0</td>\n",
       "      <td>0.378762</td>\n",
       "      <td>0.994950</td>\n",
       "      <td>0.992481</td>\n",
       "      <td>0.999413</td>\n",
       "      <td>0.227558</td>\n",
       "      <td>0.975902</td>\n",
       "      <td>0.963852</td>\n",
       "      <td>0.993302</td>\n",
       "    </tr>\n",
       "  </tbody>\n",
       "</table>\n",
       "</div>"
      ],
      "text/plain": [
       "                                                name     modelo  fine  batch  \\\n",
       "0  completo_IncResNet_fine-07_batch-8_lr-0001_auc-99  IncResNet   0.7      8   \n",
       "1   completo_Xception_fine-07_batch-8_lr-0001_auc-99   Xception   0.7      8   \n",
       "2   completo_Xception_fine-05_batch-8_lr-0001_auc-99   Xception   0.5      8   \n",
       "3  completo_IncResNet_fine-03_batch-8_lr-0001_auc-99  IncResNet   0.3      8   \n",
       "4   completo_Xception_fine-03_batch-8_lr-0001_auc-99   Xception   0.3      8   \n",
       "\n",
       "       lr  mask  trainprop  pixels  subset      loss  binary_accuracy  \\\n",
       "0  0.0001     0        0.7     512     0.0  0.492858         0.993600   \n",
       "1  0.0001     0        0.7     512     0.0  0.349323         0.996326   \n",
       "2  0.0001     0        0.7     512     0.0  0.302252         0.995274   \n",
       "3  0.0001     0        0.7     512     0.0  0.438579         0.992743   \n",
       "4  0.0001     0        0.7     512     0.0  0.378762         0.994950   \n",
       "\n",
       "   precision       auc  val_loss  val_binary_accuracy  val_precision   val_auc  \n",
       "0   0.990455  0.999046  0.325279             0.972474       0.959426  0.994037  \n",
       "1   0.994507  0.999500  0.226185             0.974344       0.961658  0.991506  \n",
       "2   0.992948  0.999475  0.212079             0.979018       0.968672  0.995369  \n",
       "3   0.989131  0.999129  0.239660             0.982446       0.973668  0.995584  \n",
       "4   0.992481  0.999413  0.227558             0.975902       0.963852  0.993302  "
      ]
     },
     "execution_count": 253,
     "metadata": {},
     "output_type": "execute_result"
    }
   ],
   "source": [
    "df"
   ]
  },
  {
   "cell_type": "code",
   "execution_count": 254,
   "id": "578e7498-4b23-4a6c-851b-f657ea82afc1",
   "metadata": {},
   "outputs": [
    {
     "data": {
      "text/plain": [
       "[]"
      ]
     },
     "execution_count": 254,
     "metadata": {},
     "output_type": "execute_result"
    }
   ],
   "source": [
    "evaluados_de_mas = list(set(list(df.name))-set(modelos))\n",
    "ix = [i for i in df.index if df.name[i] in evaluados_de_mas]\n",
    "evaluados_de_mas"
   ]
  },
  {
   "cell_type": "code",
   "execution_count": 257,
   "id": "eac6c63f-20f5-4aa6-8bc7-58853cec77fa",
   "metadata": {},
   "outputs": [
    {
     "data": {
      "text/plain": [
       "[]"
      ]
     },
     "execution_count": 257,
     "metadata": {},
     "output_type": "execute_result"
    }
   ],
   "source": [
    "evaluados_de_menos = list(set(modelos)-set(list(df.name)))\n",
    "evaluados_de_menos"
   ]
  },
  {
   "cell_type": "markdown",
   "id": "809de0a7-4e09-498f-af0e-075864e4ad5c",
   "metadata": {},
   "source": [
    "## TEST"
   ]
  },
  {
   "cell_type": "code",
   "execution_count": 258,
   "id": "baf2880c-6ed2-4a00-bb7f-b9adbec3e9b4",
   "metadata": {},
   "outputs": [],
   "source": [
    "path = '/home/mr1142/Documents/Data/models/neumonia/validation_results/image_class_evaluation_completo.csv'\n",
    "df_test = pd.read_csv(path)"
   ]
  },
  {
   "cell_type": "code",
   "execution_count": 259,
   "id": "d7d792c2-2bda-424d-93e5-3f2821760df3",
   "metadata": {},
   "outputs": [
    {
     "data": {
      "text/html": [
       "<div>\n",
       "<style scoped>\n",
       "    .dataframe tbody tr th:only-of-type {\n",
       "        vertical-align: middle;\n",
       "    }\n",
       "\n",
       "    .dataframe tbody tr th {\n",
       "        vertical-align: top;\n",
       "    }\n",
       "\n",
       "    .dataframe thead th {\n",
       "        text-align: right;\n",
       "    }\n",
       "</style>\n",
       "<table border=\"1\" class=\"dataframe\">\n",
       "  <thead>\n",
       "    <tr style=\"text-align: right;\">\n",
       "      <th></th>\n",
       "      <th>nombre</th>\n",
       "      <th>loss</th>\n",
       "      <th>binary_accuracy</th>\n",
       "      <th>precision</th>\n",
       "      <th>auc</th>\n",
       "    </tr>\n",
       "  </thead>\n",
       "  <tbody>\n",
       "    <tr>\n",
       "      <th>0</th>\n",
       "      <td>completo_Xception_fine-07_batch-8_lr-0001_auc-...</td>\n",
       "      <td>0.163180</td>\n",
       "      <td>0.967904</td>\n",
       "      <td>0.951995</td>\n",
       "      <td>0.991506</td>\n",
       "    </tr>\n",
       "    <tr>\n",
       "      <th>1</th>\n",
       "      <td>completo_IncResNet_fine-07_batch-8_lr-0001_auc...</td>\n",
       "      <td>0.135543</td>\n",
       "      <td>0.969929</td>\n",
       "      <td>0.955105</td>\n",
       "      <td>0.994037</td>\n",
       "    </tr>\n",
       "    <tr>\n",
       "      <th>2</th>\n",
       "      <td>completo_Xception_fine-03_batch-8_lr-0001_auc-...</td>\n",
       "      <td>0.141522</td>\n",
       "      <td>0.972370</td>\n",
       "      <td>0.958697</td>\n",
       "      <td>0.992653</td>\n",
       "    </tr>\n",
       "    <tr>\n",
       "      <th>3</th>\n",
       "      <td>completo_IncResNet_fine-03_batch-8_lr-0001_auc...</td>\n",
       "      <td>0.103217</td>\n",
       "      <td>0.978706</td>\n",
       "      <td>0.968204</td>\n",
       "      <td>0.995584</td>\n",
       "    </tr>\n",
       "    <tr>\n",
       "      <th>4</th>\n",
       "      <td>completo_Xception_fine-05_batch-8_lr-0001_auc-...</td>\n",
       "      <td>0.113678</td>\n",
       "      <td>0.975175</td>\n",
       "      <td>0.962905</td>\n",
       "      <td>0.995226</td>\n",
       "    </tr>\n",
       "  </tbody>\n",
       "</table>\n",
       "</div>"
      ],
      "text/plain": [
       "                                              nombre      loss  \\\n",
       "0  completo_Xception_fine-07_batch-8_lr-0001_auc-...  0.163180   \n",
       "1  completo_IncResNet_fine-07_batch-8_lr-0001_auc...  0.135543   \n",
       "2  completo_Xception_fine-03_batch-8_lr-0001_auc-...  0.141522   \n",
       "3  completo_IncResNet_fine-03_batch-8_lr-0001_auc...  0.103217   \n",
       "4  completo_Xception_fine-05_batch-8_lr-0001_auc-...  0.113678   \n",
       "\n",
       "   binary_accuracy  precision       auc  \n",
       "0         0.967904   0.951995  0.991506  \n",
       "1         0.969929   0.955105  0.994037  \n",
       "2         0.972370   0.958697  0.992653  \n",
       "3         0.978706   0.968204  0.995584  \n",
       "4         0.975175   0.962905  0.995226  "
      ]
     },
     "execution_count": 259,
     "metadata": {},
     "output_type": "execute_result"
    }
   ],
   "source": [
    "df_test"
   ]
  },
  {
   "cell_type": "code",
   "execution_count": 260,
   "id": "5be2e73f-1849-425f-b300-adb5b14de1f4",
   "metadata": {},
   "outputs": [],
   "source": [
    "modelos_evaluados = [model[:-4] for model in df_test.nombre]"
   ]
  },
  {
   "cell_type": "code",
   "execution_count": 261,
   "id": "73976d0a-9c2a-4bc4-9276-76eba06307f2",
   "metadata": {},
   "outputs": [
    {
     "data": {
      "text/plain": [
       "[]"
      ]
     },
     "execution_count": 261,
     "metadata": {},
     "output_type": "execute_result"
    }
   ],
   "source": [
    "evaluados_de_mas = list(set(modelos_evaluados)-set(modelos))\n",
    "ix = [i for i in df_test.index if df_test.nombre[i][:-4] in evaluados_de_mas]\n",
    "evaluados_de_mas"
   ]
  },
  {
   "cell_type": "code",
   "execution_count": 262,
   "id": "7c41e4a6-781e-4bbe-b056-2201bc22185b",
   "metadata": {},
   "outputs": [
    {
     "data": {
      "text/plain": [
       "[]"
      ]
     },
     "execution_count": 262,
     "metadata": {},
     "output_type": "execute_result"
    }
   ],
   "source": [
    "evaluados_de_menos = list(set(modelos)-set(modelos_evaluados))\n",
    "evaluados_de_menos"
   ]
  },
  {
   "cell_type": "markdown",
   "id": "770dee1b-5f7d-4772-851d-c29cb60f7d4f",
   "metadata": {},
   "source": [
    "## PREDICTION"
   ]
  },
  {
   "cell_type": "code",
   "execution_count": 263,
   "id": "57b2cbbc-ea81-496b-a212-1f5ee9e9b283",
   "metadata": {},
   "outputs": [],
   "source": [
    "path = '/home/mr1142/Documents/Data/models/neumonia/validation_results/prediction_validation_metrics_completo.csv'\n",
    "df = pd.read_csv(path)"
   ]
  },
  {
   "cell_type": "code",
   "execution_count": 264,
   "id": "548a81cf-2a04-43a6-bddd-ae2ba3c9ca9c",
   "metadata": {},
   "outputs": [
    {
     "data": {
      "text/html": [
       "<div>\n",
       "<style scoped>\n",
       "    .dataframe tbody tr th:only-of-type {\n",
       "        vertical-align: middle;\n",
       "    }\n",
       "\n",
       "    .dataframe tbody tr th {\n",
       "        vertical-align: top;\n",
       "    }\n",
       "\n",
       "    .dataframe thead th {\n",
       "        text-align: right;\n",
       "    }\n",
       "</style>\n",
       "<table border=\"1\" class=\"dataframe\">\n",
       "  <thead>\n",
       "    <tr style=\"text-align: right;\">\n",
       "      <th></th>\n",
       "      <th>name</th>\n",
       "      <th>auc_0</th>\n",
       "      <th>younden_0</th>\n",
       "      <th>pr_max_0</th>\n",
       "      <th>pr_cut_0</th>\n",
       "      <th>auc_1</th>\n",
       "      <th>younden_1</th>\n",
       "      <th>pr_max_1</th>\n",
       "      <th>pr_cut_1</th>\n",
       "      <th>auc_2</th>\n",
       "      <th>...</th>\n",
       "      <th>accuracy_score[0, 1]</th>\n",
       "      <th>f1_score[0, 2]</th>\n",
       "      <th>precision_score[0, 2]</th>\n",
       "      <th>recall_score[0, 2]</th>\n",
       "      <th>accuracy_score[0, 2]</th>\n",
       "      <th>f1_score[1, 2]</th>\n",
       "      <th>precision_score[1, 2]</th>\n",
       "      <th>recall_score[1, 2]</th>\n",
       "      <th>accuracy_score[1, 2]</th>\n",
       "      <th>completo</th>\n",
       "    </tr>\n",
       "  </thead>\n",
       "  <tbody>\n",
       "    <tr>\n",
       "      <th>0</th>\n",
       "      <td>completo_Xception_fine-07_batch-8_lr-0001_auc-99</td>\n",
       "      <td>0.995479</td>\n",
       "      <td>0.028147</td>\n",
       "      <td>0.035585</td>\n",
       "      <td>0.328478</td>\n",
       "      <td>0.987976</td>\n",
       "      <td>0.432983</td>\n",
       "      <td>0.496598</td>\n",
       "      <td>0.502339</td>\n",
       "      <td>0.997532</td>\n",
       "      <td>...</td>\n",
       "      <td>0.638984</td>\n",
       "      <td>0.721160</td>\n",
       "      <td>0.846254</td>\n",
       "      <td>0.717513</td>\n",
       "      <td>0.717513</td>\n",
       "      <td>0.981196</td>\n",
       "      <td>0.981362</td>\n",
       "      <td>0.981147</td>\n",
       "      <td>0.981147</td>\n",
       "      <td>True</td>\n",
       "    </tr>\n",
       "    <tr>\n",
       "      <th>1</th>\n",
       "      <td>completo_IncResNet_fine-07_batch-8_lr-0001_auc-99</td>\n",
       "      <td>0.995106</td>\n",
       "      <td>0.183686</td>\n",
       "      <td>0.702386</td>\n",
       "      <td>0.771208</td>\n",
       "      <td>0.990941</td>\n",
       "      <td>0.126664</td>\n",
       "      <td>0.418243</td>\n",
       "      <td>0.236509</td>\n",
       "      <td>0.998170</td>\n",
       "      <td>...</td>\n",
       "      <td>0.637893</td>\n",
       "      <td>0.819083</td>\n",
       "      <td>0.880455</td>\n",
       "      <td>0.813805</td>\n",
       "      <td>0.813805</td>\n",
       "      <td>0.982896</td>\n",
       "      <td>0.983001</td>\n",
       "      <td>0.982861</td>\n",
       "      <td>0.982861</td>\n",
       "      <td>True</td>\n",
       "    </tr>\n",
       "    <tr>\n",
       "      <th>2</th>\n",
       "      <td>completo_Xception_fine-03_batch-8_lr-0001_auc-99</td>\n",
       "      <td>0.996003</td>\n",
       "      <td>0.023708</td>\n",
       "      <td>0.069507</td>\n",
       "      <td>0.163867</td>\n",
       "      <td>0.992223</td>\n",
       "      <td>0.319086</td>\n",
       "      <td>0.505441</td>\n",
       "      <td>0.623151</td>\n",
       "      <td>0.999370</td>\n",
       "      <td>...</td>\n",
       "      <td>0.643658</td>\n",
       "      <td>0.745625</td>\n",
       "      <td>0.854183</td>\n",
       "      <td>0.740573</td>\n",
       "      <td>0.740573</td>\n",
       "      <td>0.987572</td>\n",
       "      <td>0.987753</td>\n",
       "      <td>0.987535</td>\n",
       "      <td>0.987535</td>\n",
       "      <td>True</td>\n",
       "    </tr>\n",
       "    <tr>\n",
       "      <th>3</th>\n",
       "      <td>completo_IncResNet_fine-03_batch-8_lr-0001_auc-99</td>\n",
       "      <td>0.996318</td>\n",
       "      <td>0.391510</td>\n",
       "      <td>0.391510</td>\n",
       "      <td>0.686978</td>\n",
       "      <td>0.992449</td>\n",
       "      <td>0.386742</td>\n",
       "      <td>0.500406</td>\n",
       "      <td>0.354640</td>\n",
       "      <td>0.998772</td>\n",
       "      <td>...</td>\n",
       "      <td>0.644438</td>\n",
       "      <td>0.770107</td>\n",
       "      <td>0.862111</td>\n",
       "      <td>0.764568</td>\n",
       "      <td>0.764568</td>\n",
       "      <td>0.990660</td>\n",
       "      <td>0.990682</td>\n",
       "      <td>0.990651</td>\n",
       "      <td>0.990651</td>\n",
       "      <td>True</td>\n",
       "    </tr>\n",
       "    <tr>\n",
       "      <th>4</th>\n",
       "      <td>completo_Xception_fine-05_batch-8_lr-0001_auc-99</td>\n",
       "      <td>0.996774</td>\n",
       "      <td>0.223926</td>\n",
       "      <td>0.355253</td>\n",
       "      <td>0.726347</td>\n",
       "      <td>0.991464</td>\n",
       "      <td>0.442436</td>\n",
       "      <td>0.644953</td>\n",
       "      <td>0.442980</td>\n",
       "      <td>0.999092</td>\n",
       "      <td>...</td>\n",
       "      <td>0.679028</td>\n",
       "      <td>0.950865</td>\n",
       "      <td>0.956120</td>\n",
       "      <td>0.950140</td>\n",
       "      <td>0.950140</td>\n",
       "      <td>0.952137</td>\n",
       "      <td>0.954108</td>\n",
       "      <td>0.951698</td>\n",
       "      <td>0.951698</td>\n",
       "      <td>True</td>\n",
       "    </tr>\n",
       "  </tbody>\n",
       "</table>\n",
       "<p>5 rows × 38 columns</p>\n",
       "</div>"
      ],
      "text/plain": [
       "                                                name     auc_0  younden_0  \\\n",
       "0   completo_Xception_fine-07_batch-8_lr-0001_auc-99  0.995479   0.028147   \n",
       "1  completo_IncResNet_fine-07_batch-8_lr-0001_auc-99  0.995106   0.183686   \n",
       "2   completo_Xception_fine-03_batch-8_lr-0001_auc-99  0.996003   0.023708   \n",
       "3  completo_IncResNet_fine-03_batch-8_lr-0001_auc-99  0.996318   0.391510   \n",
       "4   completo_Xception_fine-05_batch-8_lr-0001_auc-99  0.996774   0.223926   \n",
       "\n",
       "   pr_max_0  pr_cut_0     auc_1  younden_1  pr_max_1  pr_cut_1     auc_2  ...  \\\n",
       "0  0.035585  0.328478  0.987976   0.432983  0.496598  0.502339  0.997532  ...   \n",
       "1  0.702386  0.771208  0.990941   0.126664  0.418243  0.236509  0.998170  ...   \n",
       "2  0.069507  0.163867  0.992223   0.319086  0.505441  0.623151  0.999370  ...   \n",
       "3  0.391510  0.686978  0.992449   0.386742  0.500406  0.354640  0.998772  ...   \n",
       "4  0.355253  0.726347  0.991464   0.442436  0.644953  0.442980  0.999092  ...   \n",
       "\n",
       "   accuracy_score[0, 1]  f1_score[0, 2]  precision_score[0, 2]  \\\n",
       "0              0.638984        0.721160               0.846254   \n",
       "1              0.637893        0.819083               0.880455   \n",
       "2              0.643658        0.745625               0.854183   \n",
       "3              0.644438        0.770107               0.862111   \n",
       "4              0.679028        0.950865               0.956120   \n",
       "\n",
       "   recall_score[0, 2]  accuracy_score[0, 2]  f1_score[1, 2]  \\\n",
       "0            0.717513              0.717513        0.981196   \n",
       "1            0.813805              0.813805        0.982896   \n",
       "2            0.740573              0.740573        0.987572   \n",
       "3            0.764568              0.764568        0.990660   \n",
       "4            0.950140              0.950140        0.952137   \n",
       "\n",
       "   precision_score[1, 2]  recall_score[1, 2]  accuracy_score[1, 2]  completo  \n",
       "0               0.981362            0.981147              0.981147      True  \n",
       "1               0.983001            0.982861              0.982861      True  \n",
       "2               0.987753            0.987535              0.987535      True  \n",
       "3               0.990682            0.990651              0.990651      True  \n",
       "4               0.954108            0.951698              0.951698      True  \n",
       "\n",
       "[5 rows x 38 columns]"
      ]
     },
     "execution_count": 264,
     "metadata": {},
     "output_type": "execute_result"
    }
   ],
   "source": [
    "df"
   ]
  },
  {
   "cell_type": "code",
   "execution_count": 265,
   "id": "52441a24-dfc4-40ac-911a-643444ef61d9",
   "metadata": {},
   "outputs": [
    {
     "data": {
      "text/plain": [
       "[]"
      ]
     },
     "execution_count": 265,
     "metadata": {},
     "output_type": "execute_result"
    }
   ],
   "source": [
    "evaluados_de_mas = list(set(list(df.name))-set(modelos))\n",
    "ix = [i for i in df.index if df.name[i] in evaluados_de_mas]\n",
    "evaluados_de_mas"
   ]
  },
  {
   "cell_type": "code",
   "execution_count": 266,
   "id": "5fb67ae3-1faa-4407-883d-c6d4c7ed6342",
   "metadata": {},
   "outputs": [
    {
     "data": {
      "text/plain": [
       "[]"
      ]
     },
     "execution_count": 266,
     "metadata": {},
     "output_type": "execute_result"
    }
   ],
   "source": [
    "evaluados_de_menos = list(set(modelos)-set(list(df.name)))\n",
    "evaluados_de_menos"
   ]
  },
  {
   "cell_type": "code",
   "execution_count": null,
   "id": "e2d3b324-0ce0-43a6-bba0-233d68ed44fe",
   "metadata": {},
   "outputs": [],
   "source": []
  }
 ],
 "metadata": {
  "kernelspec": {
   "display_name": "Python 3",
   "language": "python",
   "name": "python3"
  },
  "language_info": {
   "codemirror_mode": {
    "name": "ipython",
    "version": 3
   },
   "file_extension": ".py",
   "mimetype": "text/x-python",
   "name": "python",
   "nbconvert_exporter": "python",
   "pygments_lexer": "ipython3",
   "version": "3.6.8"
  }
 },
 "nbformat": 4,
 "nbformat_minor": 5
}
