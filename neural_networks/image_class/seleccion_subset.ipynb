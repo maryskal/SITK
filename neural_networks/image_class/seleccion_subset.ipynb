{
 "cells": [
  {
   "cell_type": "code",
   "execution_count": 1,
   "id": "c3656409-e1f6-4f79-b9ba-f72820bd4906",
   "metadata": {},
   "outputs": [],
   "source": [
    "import h5py as f\n",
    "import numpy as np"
   ]
  },
  {
   "cell_type": "code",
   "execution_count": 2,
   "id": "e0da7864-ebf3-40fe-9664-58b8f7089e23",
   "metadata": {},
   "outputs": [],
   "source": [
    "import pickle"
   ]
  },
  {
   "cell_type": "code",
   "execution_count": 3,
   "id": "e55f4bb8-1fe2-4c36-88fb-050b9a6e1bab",
   "metadata": {},
   "outputs": [],
   "source": [
    "df = f.File(\"/home/rs117/covid-19/data/cxr_consensus_dataset_nocompr.h5\", \"r\")"
   ]
  },
  {
   "cell_type": "code",
   "execution_count": 4,
   "id": "b03a79f9-178c-4a2b-a0ee-0e8f9196d3af",
   "metadata": {},
   "outputs": [],
   "source": [
    "for key in df.keys():\n",
    "    globals()[key] = df[key]"
   ]
  },
  {
   "cell_type": "code",
   "execution_count": 5,
   "id": "c853d923-7bdf-41db-9fa3-bf9bb9ac8ab0",
   "metadata": {},
   "outputs": [],
   "source": [
    "y = y_train[:]"
   ]
  },
  {
   "cell_type": "code",
   "execution_count": 6,
   "id": "28b5419a-4586-4c13-9c29-30da24879b53",
   "metadata": {},
   "outputs": [
    {
     "data": {
      "text/plain": [
       "59439"
      ]
     },
     "execution_count": 6,
     "metadata": {},
     "output_type": "execute_result"
    }
   ],
   "source": [
    "y.shape[0]"
   ]
  },
  {
   "cell_type": "markdown",
   "id": "5c0cb4ae-bcba-4ba1-92e0-f49bb0410c40",
   "metadata": {},
   "source": [
    "# Balanceo\n",
    "\n",
    "Me quedo con los indices de cada clase"
   ]
  },
  {
   "cell_type": "code",
   "execution_count": 7,
   "id": "047a493e-98e4-4eee-9e44-0b561344294e",
   "metadata": {},
   "outputs": [],
   "source": [
    "y_normal = np.where(y[:,0] == 1)[0]\n",
    "y_moderate = np.where(y[:,1] == 1)[0]\n",
    "y_severe = np.where(y[:,2] == 1)[0]"
   ]
  },
  {
   "cell_type": "code",
   "execution_count": 8,
   "id": "8eeb2481-aaba-4af8-9b8f-56613d78bad7",
   "metadata": {},
   "outputs": [
    {
     "name": "stdout",
     "output_type": "stream",
     "text": [
      "0.469590672790592\n",
      "0.3504601356012046\n",
      "0.17994919160820336\n"
     ]
    }
   ],
   "source": [
    "print(y_normal.shape[0]/y.shape[0])\n",
    "print(y_moderate.shape[0]/y.shape[0])\n",
    "print(y_severe.shape[0]/y.shape[0])"
   ]
  },
  {
   "cell_type": "markdown",
   "id": "d61520b7-f1e6-48a2-88c4-f387f1d7bf11",
   "metadata": {},
   "source": [
    "Desordeno los indices"
   ]
  },
  {
   "cell_type": "code",
   "execution_count": 114,
   "id": "ac579e21-eaf7-4497-8c56-dbbe658d6cae",
   "metadata": {},
   "outputs": [],
   "source": [
    "np.random.shuffle(y_moderate)\n",
    "np.random.shuffle(y_severe)"
   ]
  },
  {
   "cell_type": "markdown",
   "id": "cdf724dc-ca4d-41ae-8fc3-5b40b097f439",
   "metadata": {},
   "source": [
    "Cojo el mismo numero de normal y moderado que de severo"
   ]
  },
  {
   "cell_type": "code",
   "execution_count": 115,
   "id": "6b8ba316-a14e-4ac2-91a1-844a9a3e7d8c",
   "metadata": {},
   "outputs": [],
   "source": [
    "y_normal = y_normal[:y_severe.shape[0]]\n",
    "y_moderate = y_moderate[:y_severe.shape[0]]"
   ]
  },
  {
   "cell_type": "markdown",
   "id": "9706eb70-b1eb-490c-8eff-c1ca5122d6e1",
   "metadata": {},
   "source": [
    "Junto todos los indices"
   ]
  },
  {
   "cell_type": "code",
   "execution_count": 116,
   "id": "b41576f2-99d5-46d4-ab45-92ec9224e348",
   "metadata": {},
   "outputs": [],
   "source": [
    "y_index = []\n",
    "y_index.extend(y_normal)\n",
    "y_index.extend(y_moderate)\n",
    "y_index.extend(y_severe)"
   ]
  },
  {
   "cell_type": "code",
   "execution_count": 117,
   "id": "9885a300-7b7b-4b19-b400-0001344da951",
   "metadata": {},
   "outputs": [],
   "source": [
    "y_index.sort()"
   ]
  },
  {
   "cell_type": "code",
   "execution_count": 118,
   "id": "5be4381a-6810-4cd6-9386-50ad06209dfb",
   "metadata": {},
   "outputs": [
    {
     "data": {
      "text/plain": [
       "32088"
      ]
     },
     "execution_count": 118,
     "metadata": {},
     "output_type": "execute_result"
    }
   ],
   "source": [
    "len(y_index)"
   ]
  },
  {
   "cell_type": "markdown",
   "id": "47dda8f1-a5b4-48e1-8cf8-9cc4e590e683",
   "metadata": {},
   "source": [
    "Lo guardo"
   ]
  },
  {
   "cell_type": "code",
   "execution_count": 120,
   "id": "1e383d60-9840-4998-bee8-648b4616a1d7",
   "metadata": {},
   "outputs": [],
   "source": [
    "with open(\"/home/mr1142/Documents/img_class/index\", \"wb\") as fp:   #Pickling\n",
    "    pickle.dump(y_index, fp)"
   ]
  },
  {
   "cell_type": "markdown",
   "id": "febe4d39-8e2e-4278-899b-fb618844fc61",
   "metadata": {},
   "source": [
    "# Train subset"
   ]
  },
  {
   "cell_type": "code",
   "execution_count": 33,
   "id": "0179f86a-91bd-411d-88ae-27a131011b55",
   "metadata": {},
   "outputs": [],
   "source": [
    "y_normal = np.where(y[:,0] == 1)[0]\n",
    "y_moderate = np.where(y[:,1] == 1)[0]\n",
    "y_severe = np.where(y[:,2] == 1)[0]"
   ]
  },
  {
   "cell_type": "code",
   "execution_count": 193,
   "id": "f50f785e-408e-4821-89d9-cfd14c5e979f",
   "metadata": {},
   "outputs": [],
   "source": [
    "np.random.shuffle(y_normal)\n",
    "np.random.shuffle(y_moderate)\n",
    "np.random.shuffle(y_severe)"
   ]
  },
  {
   "cell_type": "code",
   "execution_count": 14,
   "id": "130956d2-0e60-48eb-9485-6e35ea121840",
   "metadata": {},
   "outputs": [
    {
     "data": {
      "text/plain": [
       "333"
      ]
     },
     "execution_count": 14,
     "metadata": {},
     "output_type": "execute_result"
    }
   ],
   "source": [
    "number = int(1000/3)\n",
    "number"
   ]
  },
  {
   "cell_type": "code",
   "execution_count": 195,
   "id": "c44942ef-c3b8-483c-a7a1-c39b8a393e06",
   "metadata": {},
   "outputs": [],
   "source": [
    "y_normal = y_normal[0:number]\n",
    "y_moderate = y_moderate[0:number]\n",
    "y_severe = y_severe[0:number]"
   ]
  },
  {
   "cell_type": "code",
   "execution_count": 196,
   "id": "be7815b5-ec01-425e-ac99-71df84f7007f",
   "metadata": {},
   "outputs": [],
   "source": [
    "subset = []\n",
    "subset.extend(y_normal)\n",
    "subset.extend(y_moderate)\n",
    "subset.extend(y_severe)"
   ]
  },
  {
   "cell_type": "code",
   "execution_count": 197,
   "id": "93489256-dbb8-45e7-a3ce-6944eed9d7c9",
   "metadata": {},
   "outputs": [
    {
     "name": "stdout",
     "output_type": "stream",
     "text": [
      "333\n",
      "333\n",
      "333\n"
     ]
    }
   ],
   "source": [
    "print(sum(y[subset][:,0]))\n",
    "print(sum(y[subset][:,1]))\n",
    "print(sum(y[subset][:,2]))"
   ]
  },
  {
   "cell_type": "code",
   "execution_count": 198,
   "id": "cd001de2-4165-40cf-8dba-5036995949cc",
   "metadata": {},
   "outputs": [],
   "source": [
    "subset.sort()"
   ]
  },
  {
   "cell_type": "code",
   "execution_count": 199,
   "id": "bc64ce52-dd4d-444c-926f-5328a252d96b",
   "metadata": {},
   "outputs": [],
   "source": [
    "with open(\"/home/mr1142/Documents/img_class/index_subset\", \"wb\") as fp:   #Pickling\n",
    "    pickle.dump(subset, fp)"
   ]
  },
  {
   "cell_type": "markdown",
   "id": "4ca418fd-284a-40df-8ae9-a43add08a8eb",
   "metadata": {},
   "source": [
    "# Evaluation subset"
   ]
  },
  {
   "cell_type": "code",
   "execution_count": 31,
   "id": "2bd0cd6a-bb8c-47ac-85d0-4b0256de8355",
   "metadata": {},
   "outputs": [],
   "source": [
    "with open(\"/home/mr1142/Documents/img_class/indices/index_subset\", \"rb\") as fp:\n",
    "    subset = pickle.load(fp)\n",
    "with open(\"/home/mr1142/Documents/img_class/indices/val_subset\", \"rb\") as fp:\n",
    "    val_set = pickle.load(fp)"
   ]
  },
  {
   "cell_type": "code",
   "execution_count": 41,
   "id": "2d6a7403-eaff-4c11-ab72-94f71afb02cf",
   "metadata": {},
   "outputs": [],
   "source": [
    "index = list(range(len(y)))"
   ]
  },
  {
   "cell_type": "code",
   "execution_count": 42,
   "id": "c4897a1d-ebe6-4abc-9c71-b402b4dc3769",
   "metadata": {},
   "outputs": [],
   "source": [
    "val_subset = list(set(index) - set(subset) -set(val_subset))"
   ]
  },
  {
   "cell_type": "code",
   "execution_count": 43,
   "id": "2c0b62dd-ee2d-4f04-a62e-af7e69290d41",
   "metadata": {},
   "outputs": [
    {
     "data": {
      "text/plain": [
       "58440"
      ]
     },
     "execution_count": 43,
     "metadata": {},
     "output_type": "execute_result"
    }
   ],
   "source": [
    "len(val_subset)"
   ]
  },
  {
   "cell_type": "code",
   "execution_count": 44,
   "id": "10921fbb-cc51-4726-94d4-e89128897e26",
   "metadata": {},
   "outputs": [],
   "source": [
    "with open(\"/home/mr1142/Documents/img_class/val_rest\", \"wb\") as fp:   #Pickling\n",
    "    pickle.dump(val_subset, fp)"
   ]
  },
  {
   "cell_type": "code",
   "execution_count": 46,
   "id": "10d60044-b7d0-4362-a8a6-aa641a3ebe11",
   "metadata": {},
   "outputs": [
    {
     "ename": "MemoryError",
     "evalue": "Unable to allocate 342. GiB for an array with shape (58440, 1024, 1024, 3) and data type uint16",
     "output_type": "error",
     "traceback": [
      "\u001b[0;31m---------------------------------------------------------------------------\u001b[0m",
      "\u001b[0;31mMemoryError\u001b[0m                               Traceback (most recent call last)",
      "\u001b[0;32m<ipython-input-46-f3d62fe83eeb>\u001b[0m in \u001b[0;36m<module>\u001b[0;34m\u001b[0m\n\u001b[0;32m----> 1\u001b[0;31m \u001b[0mX_train\u001b[0m\u001b[0;34m[\u001b[0m\u001b[0mval_subset\u001b[0m\u001b[0;34m]\u001b[0m\u001b[0;34m\u001b[0m\u001b[0;34m\u001b[0m\u001b[0m\n\u001b[0m",
      "\u001b[0;32mh5py/_objects.pyx\u001b[0m in \u001b[0;36mh5py._objects.with_phil.wrapper\u001b[0;34m()\u001b[0m\n",
      "\u001b[0;32mh5py/_objects.pyx\u001b[0m in \u001b[0;36mh5py._objects.with_phil.wrapper\u001b[0;34m()\u001b[0m\n",
      "\u001b[0;32m~/miniconda3/envs/init/lib/python3.6/site-packages/h5py/_hl/dataset.py\u001b[0m in \u001b[0;36m__getitem__\u001b[0;34m(self, args)\u001b[0m\n\u001b[1;32m    560\u001b[0m         \u001b[0msingle_element\u001b[0m \u001b[0;34m=\u001b[0m \u001b[0mselection\u001b[0m\u001b[0;34m.\u001b[0m\u001b[0mmshape\u001b[0m \u001b[0;34m==\u001b[0m \u001b[0;34m(\u001b[0m\u001b[0;34m)\u001b[0m\u001b[0;34m\u001b[0m\u001b[0;34m\u001b[0m\u001b[0m\n\u001b[1;32m    561\u001b[0m         \u001b[0mmshape\u001b[0m \u001b[0;34m=\u001b[0m \u001b[0;34m(\u001b[0m\u001b[0;36m1\u001b[0m\u001b[0;34m,\u001b[0m\u001b[0;34m)\u001b[0m \u001b[0;32mif\u001b[0m \u001b[0msingle_element\u001b[0m \u001b[0;32melse\u001b[0m \u001b[0mselection\u001b[0m\u001b[0;34m.\u001b[0m\u001b[0mmshape\u001b[0m\u001b[0;34m\u001b[0m\u001b[0;34m\u001b[0m\u001b[0m\n\u001b[0;32m--> 562\u001b[0;31m         \u001b[0marr\u001b[0m \u001b[0;34m=\u001b[0m \u001b[0mnumpy\u001b[0m\u001b[0;34m.\u001b[0m\u001b[0mndarray\u001b[0m\u001b[0;34m(\u001b[0m\u001b[0mmshape\u001b[0m\u001b[0;34m,\u001b[0m \u001b[0mnew_dtype\u001b[0m\u001b[0;34m,\u001b[0m \u001b[0morder\u001b[0m\u001b[0;34m=\u001b[0m\u001b[0;34m'C'\u001b[0m\u001b[0;34m)\u001b[0m\u001b[0;34m\u001b[0m\u001b[0;34m\u001b[0m\u001b[0m\n\u001b[0m\u001b[1;32m    563\u001b[0m \u001b[0;34m\u001b[0m\u001b[0m\n\u001b[1;32m    564\u001b[0m         \u001b[0;31m# HDF5 has a bug where if the memory shape has a different rank\u001b[0m\u001b[0;34m\u001b[0m\u001b[0;34m\u001b[0m\u001b[0;34m\u001b[0m\u001b[0m\n",
      "\u001b[0;31mMemoryError\u001b[0m: Unable to allocate 342. GiB for an array with shape (58440, 1024, 1024, 3) and data type uint16"
     ]
    }
   ],
   "source": [
    "X_train[val_subset]"
   ]
  },
  {
   "cell_type": "markdown",
   "id": "b44ac200-6acb-4f48-990d-13d3a5dbd6a1",
   "metadata": {},
   "source": [
    "# HT train subset"
   ]
  },
  {
   "cell_type": "code",
   "execution_count": 9,
   "id": "937dc6dc-589b-4a14-a9c1-c2c99d5ed47b",
   "metadata": {},
   "outputs": [],
   "source": [
    "y_normal = np.where(y[:,0] == 1)[0]\n",
    "y_moderate = np.where(y[:,1] == 1)[0]\n",
    "y_severe = np.where(y[:,2] == 1)[0]"
   ]
  },
  {
   "cell_type": "code",
   "execution_count": 10,
   "id": "ac1df46e-eb77-45ac-a256-f1235d5aeb33",
   "metadata": {},
   "outputs": [],
   "source": [
    "np.random.shuffle(y_normal)\n",
    "np.random.shuffle(y_moderate)\n",
    "np.random.shuffle(y_severe)"
   ]
  },
  {
   "cell_type": "code",
   "execution_count": 11,
   "id": "b5039cbb-d407-4559-9d92-a267b448624d",
   "metadata": {},
   "outputs": [
    {
     "data": {
      "text/plain": [
       "1000"
      ]
     },
     "execution_count": 11,
     "metadata": {},
     "output_type": "execute_result"
    }
   ],
   "source": [
    "number = 1000\n",
    "number"
   ]
  },
  {
   "cell_type": "code",
   "execution_count": 12,
   "id": "70202572-1020-4a20-8f12-5ad904f58826",
   "metadata": {},
   "outputs": [],
   "source": [
    "y_normal = y_normal[0:number]\n",
    "y_moderate = y_moderate[0:number]\n",
    "y_severe = y_severe[0:number]"
   ]
  },
  {
   "cell_type": "code",
   "execution_count": 13,
   "id": "270417fc-baaa-4710-b756-9b22a9125958",
   "metadata": {},
   "outputs": [],
   "source": [
    "subset = []\n",
    "subset.extend(y_normal)\n",
    "subset.extend(y_moderate)\n",
    "subset.extend(y_severe)"
   ]
  },
  {
   "cell_type": "code",
   "execution_count": 14,
   "id": "a7fec0ba-d576-4600-97c6-fde020c3b756",
   "metadata": {},
   "outputs": [
    {
     "name": "stdout",
     "output_type": "stream",
     "text": [
      "1000\n",
      "1000\n",
      "1000\n"
     ]
    }
   ],
   "source": [
    "print(sum(y[subset][:,0]))\n",
    "print(sum(y[subset][:,1]))\n",
    "print(sum(y[subset][:,2]))"
   ]
  },
  {
   "cell_type": "code",
   "execution_count": 198,
   "id": "430cde67-6d2b-44ee-a468-d86f1226d261",
   "metadata": {},
   "outputs": [],
   "source": [
    "subset.sort()"
   ]
  },
  {
   "cell_type": "code",
   "execution_count": 15,
   "id": "d7ea8221-7852-45e0-b315-885a2b809dd3",
   "metadata": {},
   "outputs": [],
   "source": [
    "with open(\"/home/mr1142/Documents/img_class/ht_train_subset\", \"wb\") as fp:   #Pickling\n",
    "    pickle.dump(subset, fp)"
   ]
  },
  {
   "cell_type": "markdown",
   "id": "20d25974-b8f9-4869-8c88-bc48b20d5b99",
   "metadata": {},
   "source": [
    "# HT evaluation subset"
   ]
  },
  {
   "cell_type": "code",
   "execution_count": 63,
   "id": "0bae0661-f25c-4239-bbd7-7b234943f01a",
   "metadata": {},
   "outputs": [],
   "source": [
    "with open(\"/home/mr1142/Documents/img_class/indices/ht_train_subset\", \"rb\") as fp:\n",
    "    subset = pickle.load(fp)"
   ]
  },
  {
   "cell_type": "code",
   "execution_count": 64,
   "id": "d1dfc4fa-cbeb-405a-9f50-1e79aadd7a8d",
   "metadata": {},
   "outputs": [],
   "source": [
    "y_normal = list(set(np.where(y[:,0] == 1)[0]) - set(subset))\n",
    "y_moderate = list(set(np.where(y[:,1] == 1)[0]) - set(subset))\n",
    "y_severe = list(set(np.where(y[:,2] == 1)[0]) - set(subset))"
   ]
  },
  {
   "cell_type": "code",
   "execution_count": 65,
   "id": "d85ba348-685e-46a6-8df9-9ea43b1caf5b",
   "metadata": {},
   "outputs": [],
   "source": [
    "np.random.shuffle(y_normal)\n",
    "np.random.shuffle(y_moderate)\n",
    "np.random.shuffle(y_severe)"
   ]
  },
  {
   "cell_type": "code",
   "execution_count": 66,
   "id": "3b1316fc-3f3a-4695-bfc6-2ea2b86641d0",
   "metadata": {},
   "outputs": [
    {
     "data": {
      "text/plain": [
       "1000"
      ]
     },
     "execution_count": 66,
     "metadata": {},
     "output_type": "execute_result"
    }
   ],
   "source": [
    "number = 1000\n",
    "number"
   ]
  },
  {
   "cell_type": "code",
   "execution_count": 67,
   "id": "35917e44-e95c-4a3a-9cd6-3fb692e21386",
   "metadata": {},
   "outputs": [],
   "source": [
    "y_normal = y_normal[0:number]\n",
    "y_moderate = y_moderate[0:number]\n",
    "y_severe = y_severe[0:number]"
   ]
  },
  {
   "cell_type": "code",
   "execution_count": 68,
   "id": "23012534-30d3-4c89-ba4e-176dffdee7a2",
   "metadata": {},
   "outputs": [],
   "source": [
    "subset_val = []\n",
    "subset_val.extend(y_normal)\n",
    "subset_val.extend(y_moderate)\n",
    "subset_val.extend(y_severe)"
   ]
  },
  {
   "cell_type": "code",
   "execution_count": 69,
   "id": "23b35dd1-2754-4654-9531-fea39cd84ef6",
   "metadata": {},
   "outputs": [
    {
     "name": "stdout",
     "output_type": "stream",
     "text": [
      "1000\n",
      "1000\n",
      "1000\n"
     ]
    }
   ],
   "source": [
    "print(sum(y[subset_val][:,0]))\n",
    "print(sum(y[subset_val][:,1]))\n",
    "print(sum(y[subset_val][:,2]))"
   ]
  },
  {
   "cell_type": "code",
   "execution_count": 70,
   "id": "bbb334fb-6cf5-4283-b1fa-fbf887c9014a",
   "metadata": {},
   "outputs": [],
   "source": [
    "subset.sort()"
   ]
  },
  {
   "cell_type": "code",
   "execution_count": 71,
   "id": "04ab60d0-bc7d-4c99-9130-30a80d47fb3e",
   "metadata": {},
   "outputs": [],
   "source": [
    "with open(\"/home/mr1142/Documents/img_class/ht_val_subset\", \"wb\") as fp:   #Pickling\n",
    "    pickle.dump(subset, fp)"
   ]
  },
  {
   "cell_type": "code",
   "execution_count": 74,
   "id": "08f21316-502e-4676-86a3-de263e37d322",
   "metadata": {},
   "outputs": [
    {
     "name": "stdout",
     "output_type": "stream",
     "text": [
      "1000\n",
      "1000\n",
      "1000\n"
     ]
    }
   ],
   "source": [
    "print(len(list(set(y_normal) - set(subset))))\n",
    "print(len(list(set(y_moderate) - set(subset))))\n",
    "print(len(list(set(y_severe) - set(subset))))"
   ]
  },
  {
   "cell_type": "code",
   "execution_count": 78,
   "id": "87d35825-3f05-4916-9ea3-f7e776376232",
   "metadata": {},
   "outputs": [
    {
     "data": {
      "text/plain": [
       "14625.778"
      ]
     },
     "execution_count": 78,
     "metadata": {},
     "output_type": "execute_result"
    }
   ],
   "source": [
    "np.mean(y_normal)"
   ]
  },
  {
   "cell_type": "code",
   "execution_count": null,
   "id": "c98132ca-9e2f-444d-9e79-dd1292f75d08",
   "metadata": {},
   "outputs": [],
   "source": []
  }
 ],
 "metadata": {
  "kernelspec": {
   "display_name": "Python 3 (ipykernel)",
   "language": "python",
   "name": "python3"
  },
  "language_info": {
   "codemirror_mode": {
    "name": "ipython",
    "version": 3
   },
   "file_extension": ".py",
   "mimetype": "text/x-python",
   "name": "python",
   "nbconvert_exporter": "python",
   "pygments_lexer": "ipython3",
   "version": "3.9.13"
  }
 },
 "nbformat": 4,
 "nbformat_minor": 5
}
