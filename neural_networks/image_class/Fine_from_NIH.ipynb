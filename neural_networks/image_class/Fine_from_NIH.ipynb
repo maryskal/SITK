{
 "cells": [
  {
   "cell_type": "code",
   "execution_count": 2,
   "id": "aae39819-bcdf-4ee7-960e-0730e915f706",
   "metadata": {},
   "outputs": [
    {
     "name": "stderr",
     "output_type": "stream",
     "text": [
      "/home/mr1142/miniconda3/envs/jupyter_env/lib/python3.9/site-packages/scipy/__init__.py:146: UserWarning: A NumPy version >=1.16.5 and <1.23.0 is required for this version of SciPy (detected version 1.23.1\n",
      "  warnings.warn(f\"A NumPy version >={np_minversion} and <{np_maxversion}\"\n"
     ]
    }
   ],
   "source": [
    "import pandas as pd\n",
    "import numpy as np\n",
    "import os\n",
    "import re\n",
    "import matplotlib.pyplot as plt\n",
    "import seaborn as sns"
   ]
  },
  {
   "cell_type": "code",
   "execution_count": 3,
   "id": "7607f877-5db2-4d2e-a207-b3ea8f62ca12",
   "metadata": {},
   "outputs": [],
   "source": [
    "p = '/home/mr1142/Documents/Data/models/neumonia'\n",
    "modelos = os.listdir(p)\n",
    "modelos = [modelo[:-3] for modelo in modelos if os.path.isfile(os.path.join(p, modelo))]\n",
    "modelos = [modelo for modelo in modelos if bool(re.search('unsupervised', modelo))]"
   ]
  },
  {
   "cell_type": "code",
   "execution_count": 4,
   "id": "ea9bf433-a7f2-4fd3-8e82-5415c4281e77",
   "metadata": {},
   "outputs": [
    {
     "data": {
      "text/plain": [
       "[]"
      ]
     },
     "execution_count": 4,
     "metadata": {},
     "output_type": "execute_result"
    }
   ],
   "source": [
    "modelos"
   ]
  },
  {
   "cell_type": "markdown",
   "id": "4b3b6a37-07c1-4fc2-988b-958c8732222c",
   "metadata": {},
   "source": [
    "# COMPLETOS"
   ]
  },
  {
   "cell_type": "code",
   "execution_count": 5,
   "id": "1f19868c-5395-4510-b917-9377105af0fa",
   "metadata": {},
   "outputs": [],
   "source": [
    "path = '/home/mr1142/Documents/Data/models/neumonia/training_data/train_max_unsupervised.csv'\n",
    "df = pd.read_csv(path)"
   ]
  },
  {
   "cell_type": "code",
   "execution_count": 6,
   "id": "b7c8efac-5511-42ea-86bc-5131845e449a",
   "metadata": {},
   "outputs": [
    {
     "data": {
      "text/html": [
       "<div>\n",
       "<style scoped>\n",
       "    .dataframe tbody tr th:only-of-type {\n",
       "        vertical-align: middle;\n",
       "    }\n",
       "\n",
       "    .dataframe tbody tr th {\n",
       "        vertical-align: top;\n",
       "    }\n",
       "\n",
       "    .dataframe thead th {\n",
       "        text-align: right;\n",
       "    }\n",
       "</style>\n",
       "<table border=\"1\" class=\"dataframe\">\n",
       "  <thead>\n",
       "    <tr style=\"text-align: right;\">\n",
       "      <th></th>\n",
       "      <th>name</th>\n",
       "      <th>modelo</th>\n",
       "      <th>fine</th>\n",
       "      <th>batch</th>\n",
       "      <th>lr</th>\n",
       "      <th>mask</th>\n",
       "      <th>trainprop</th>\n",
       "      <th>pixels</th>\n",
       "      <th>subset</th>\n",
       "      <th>loss</th>\n",
       "      <th>binary_accuracy</th>\n",
       "      <th>precision</th>\n",
       "      <th>auc</th>\n",
       "      <th>val_loss</th>\n",
       "      <th>val_binary_accuracy</th>\n",
       "      <th>val_precision</th>\n",
       "      <th>val_auc</th>\n",
       "    </tr>\n",
       "  </thead>\n",
       "  <tbody>\n",
       "    <tr>\n",
       "      <th>0</th>\n",
       "      <td>unsupervised_custom1_512_auc-60</td>\n",
       "      <td>unsupervised_custom1_512</td>\n",
       "      <td>18</td>\n",
       "      <td>8</td>\n",
       "      <td>0.0001</td>\n",
       "      <td>True</td>\n",
       "      <td>0.8</td>\n",
       "      <td>512</td>\n",
       "      <td>NaN</td>\n",
       "      <td>0.812949</td>\n",
       "      <td>0.816954</td>\n",
       "      <td>0.724409</td>\n",
       "      <td>0.882238</td>\n",
       "      <td>6.309190</td>\n",
       "      <td>0.524266</td>\n",
       "      <td>0.289623</td>\n",
       "      <td>0.601533</td>\n",
       "    </tr>\n",
       "    <tr>\n",
       "      <th>1</th>\n",
       "      <td>unsupervised_512_auc-77</td>\n",
       "      <td>unsupervised_512</td>\n",
       "      <td>18</td>\n",
       "      <td>8</td>\n",
       "      <td>0.0001</td>\n",
       "      <td>True</td>\n",
       "      <td>0.8</td>\n",
       "      <td>512</td>\n",
       "      <td>NaN</td>\n",
       "      <td>0.570695</td>\n",
       "      <td>0.859460</td>\n",
       "      <td>0.797534</td>\n",
       "      <td>0.933770</td>\n",
       "      <td>1.692815</td>\n",
       "      <td>0.680396</td>\n",
       "      <td>0.531818</td>\n",
       "      <td>0.775821</td>\n",
       "    </tr>\n",
       "    <tr>\n",
       "      <th>2</th>\n",
       "      <td>unsupervised_loss1_256_auc-90</td>\n",
       "      <td>unsupervised_loss1_256</td>\n",
       "      <td>18</td>\n",
       "      <td>8</td>\n",
       "      <td>0.0001</td>\n",
       "      <td>True</td>\n",
       "      <td>0.8</td>\n",
       "      <td>256</td>\n",
       "      <td>NaN</td>\n",
       "      <td>0.807931</td>\n",
       "      <td>0.849233</td>\n",
       "      <td>0.770031</td>\n",
       "      <td>0.911148</td>\n",
       "      <td>0.761511</td>\n",
       "      <td>0.846105</td>\n",
       "      <td>0.776575</td>\n",
       "      <td>0.902533</td>\n",
       "    </tr>\n",
       "  </tbody>\n",
       "</table>\n",
       "</div>"
      ],
      "text/plain": [
       "                              name                    modelo  fine  batch  \\\n",
       "0  unsupervised_custom1_512_auc-60  unsupervised_custom1_512    18      8   \n",
       "1          unsupervised_512_auc-77          unsupervised_512    18      8   \n",
       "2    unsupervised_loss1_256_auc-90    unsupervised_loss1_256    18      8   \n",
       "\n",
       "       lr  mask  trainprop  pixels  subset      loss  binary_accuracy  \\\n",
       "0  0.0001  True        0.8     512     NaN  0.812949         0.816954   \n",
       "1  0.0001  True        0.8     512     NaN  0.570695         0.859460   \n",
       "2  0.0001  True        0.8     256     NaN  0.807931         0.849233   \n",
       "\n",
       "   precision       auc  val_loss  val_binary_accuracy  val_precision   val_auc  \n",
       "0   0.724409  0.882238  6.309190             0.524266       0.289623  0.601533  \n",
       "1   0.797534  0.933770  1.692815             0.680396       0.531818  0.775821  \n",
       "2   0.770031  0.911148  0.761511             0.846105       0.776575  0.902533  "
      ]
     },
     "execution_count": 6,
     "metadata": {},
     "output_type": "execute_result"
    }
   ],
   "source": [
    "df.sort_values('val_auc')"
   ]
  },
  {
   "cell_type": "code",
   "execution_count": 7,
   "id": "578e7498-4b23-4a6c-851b-f657ea82afc1",
   "metadata": {},
   "outputs": [
    {
     "data": {
      "text/plain": [
       "['unsupervised_loss1_256_auc-90',\n",
       " 'unsupervised_512_auc-77',\n",
       " 'unsupervised_custom1_512_auc-60']"
      ]
     },
     "execution_count": 7,
     "metadata": {},
     "output_type": "execute_result"
    }
   ],
   "source": [
    "evaluados_de_mas = list(set(list(df.name))-set(modelos))\n",
    "ix = [i for i in df.index if df.name[i] in evaluados_de_mas]\n",
    "evaluados_de_mas"
   ]
  },
  {
   "cell_type": "code",
   "execution_count": 8,
   "id": "eac6c63f-20f5-4aa6-8bc7-58853cec77fa",
   "metadata": {},
   "outputs": [
    {
     "data": {
      "text/plain": [
       "[]"
      ]
     },
     "execution_count": 8,
     "metadata": {},
     "output_type": "execute_result"
    }
   ],
   "source": [
    "evaluados_de_menos = list(set(modelos)-set(list(df.name)))\n",
    "evaluados_de_menos"
   ]
  },
  {
   "cell_type": "markdown",
   "id": "809de0a7-4e09-498f-af0e-075864e4ad5c",
   "metadata": {},
   "source": [
    "## TEST"
   ]
  },
  {
   "cell_type": "code",
   "execution_count": 39,
   "id": "baf2880c-6ed2-4a00-bb7f-b9adbec3e9b4",
   "metadata": {},
   "outputs": [],
   "source": [
    "path = '/home/mr1142/Documents/Data/models/neumonia/validation_results/image_class_evaluation_unsupervised.csv'\n",
    "df_test = pd.read_csv(path)"
   ]
  },
  {
   "cell_type": "code",
   "execution_count": 40,
   "id": "d7d792c2-2bda-424d-93e5-3f2821760df3",
   "metadata": {},
   "outputs": [
    {
     "data": {
      "text/html": [
       "<div>\n",
       "<style scoped>\n",
       "    .dataframe tbody tr th:only-of-type {\n",
       "        vertical-align: middle;\n",
       "    }\n",
       "\n",
       "    .dataframe tbody tr th {\n",
       "        vertical-align: top;\n",
       "    }\n",
       "\n",
       "    .dataframe thead th {\n",
       "        text-align: right;\n",
       "    }\n",
       "</style>\n",
       "<table border=\"1\" class=\"dataframe\">\n",
       "  <thead>\n",
       "    <tr style=\"text-align: right;\">\n",
       "      <th></th>\n",
       "      <th>nombre</th>\n",
       "      <th>loss</th>\n",
       "      <th>binary_accuracy</th>\n",
       "      <th>precision</th>\n",
       "      <th>auc</th>\n",
       "    </tr>\n",
       "  </thead>\n",
       "  <tbody>\n",
       "    <tr>\n",
       "      <th>0</th>\n",
       "      <td>unsupervised_custom1_512_auc-60_val</td>\n",
       "      <td>1.536847</td>\n",
       "      <td>0.514049</td>\n",
       "      <td>0.270192</td>\n",
       "      <td>0.601533</td>\n",
       "    </tr>\n",
       "    <tr>\n",
       "      <th>1</th>\n",
       "      <td>unsupervised_512_auc-77_val</td>\n",
       "      <td>0.554210</td>\n",
       "      <td>0.680396</td>\n",
       "      <td>0.523705</td>\n",
       "      <td>0.775821</td>\n",
       "    </tr>\n",
       "  </tbody>\n",
       "</table>\n",
       "</div>"
      ],
      "text/plain": [
       "                                nombre      loss  binary_accuracy  precision  \\\n",
       "0  unsupervised_custom1_512_auc-60_val  1.536847         0.514049   0.270192   \n",
       "1          unsupervised_512_auc-77_val  0.554210         0.680396   0.523705   \n",
       "\n",
       "        auc  \n",
       "0  0.601533  \n",
       "1  0.775821  "
      ]
     },
     "execution_count": 40,
     "metadata": {},
     "output_type": "execute_result"
    }
   ],
   "source": [
    "df_test.sort_values('auc')"
   ]
  },
  {
   "cell_type": "code",
   "execution_count": 41,
   "id": "5be2e73f-1849-425f-b300-adb5b14de1f4",
   "metadata": {},
   "outputs": [],
   "source": [
    "modelos_evaluados = [model[:-4] for model in df_test.nombre]"
   ]
  },
  {
   "cell_type": "code",
   "execution_count": 42,
   "id": "73976d0a-9c2a-4bc4-9276-76eba06307f2",
   "metadata": {},
   "outputs": [
    {
     "data": {
      "text/plain": [
       "['unsupervised_custom1_512_auc-60', 'unsupervised_512_auc-77']"
      ]
     },
     "execution_count": 42,
     "metadata": {},
     "output_type": "execute_result"
    }
   ],
   "source": [
    "evaluados_de_mas = list(set(modelos_evaluados)-set(modelos))\n",
    "ix = [i for i in df_test.index if df_test.nombre[i][:-4] in evaluados_de_mas]\n",
    "evaluados_de_mas"
   ]
  },
  {
   "cell_type": "code",
   "execution_count": 43,
   "id": "7c41e4a6-781e-4bbe-b056-2201bc22185b",
   "metadata": {},
   "outputs": [
    {
     "data": {
      "text/plain": [
       "['unsupervised_loss1_256_auc-90']"
      ]
     },
     "execution_count": 43,
     "metadata": {},
     "output_type": "execute_result"
    }
   ],
   "source": [
    "evaluados_de_menos = list(set(modelos)-set(modelos_evaluados))\n",
    "evaluados_de_menos"
   ]
  },
  {
   "cell_type": "code",
   "execution_count": null,
   "id": "028d3a18-a442-404f-a973-8baab222a604",
   "metadata": {},
   "outputs": [],
   "source": []
  }
 ],
 "metadata": {
  "kernelspec": {
   "display_name": "Python 3 (ipykernel)",
   "language": "python",
   "name": "python3"
  },
  "language_info": {
   "codemirror_mode": {
    "name": "ipython",
    "version": 3
   },
   "file_extension": ".py",
   "mimetype": "text/x-python",
   "name": "python",
   "nbconvert_exporter": "python",
   "pygments_lexer": "ipython3",
   "version": "3.9.13"
  }
 },
 "nbformat": 4,
 "nbformat_minor": 5
}
