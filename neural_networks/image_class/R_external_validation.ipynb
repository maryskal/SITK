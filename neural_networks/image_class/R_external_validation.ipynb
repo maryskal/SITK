{
 "cells": [
  {
   "cell_type": "code",
   "execution_count": 10,
   "id": "10ea287c-cdec-4bbb-9bb2-80a59fde2635",
   "metadata": {},
   "outputs": [],
   "source": [
    "path = '/home/mr1142/Documents/Data/global_pneumonia_selection/val'"
   ]
  },
  {
   "cell_type": "code",
   "execution_count": 12,
   "id": "c3e516fc-871a-474b-9efe-87cbed820533",
   "metadata": {},
   "outputs": [],
   "source": [
    "data <- read.csv(paste0(path, '/data.csv'))\n",
    "data <- data[order(data$img_name),]"
   ]
  },
  {
   "cell_type": "code",
   "execution_count": 13,
   "id": "84826ddf-90a3-4a93-9094-3a6b1564c1d1",
   "metadata": {},
   "outputs": [],
   "source": [
    "model2 = 'DEFINITIVO_2_mask_Xception_fine-04_batch-8_lr-0001_auc-99'\n",
    "model1 = 'DEFINITIVO_1_05_Xception_fine-05_batch-8_lr-0001_auc-99'"
   ]
  },
  {
   "cell_type": "code",
   "execution_count": 81,
   "id": "7b3e6738-e227-4c28-ba9f-11059703721f",
   "metadata": {},
   "outputs": [],
   "source": [
    "results_path <- paste0(path, '/model_results/', model2, '_results.csv')"
   ]
  },
  {
   "cell_type": "code",
   "execution_count": 82,
   "id": "49f38746-865d-4cc0-99df-52932e720c85",
   "metadata": {},
   "outputs": [],
   "source": [
    "df <- read.csv(results_path)\n",
    "df <- df[order(df$name),]\n",
    "colnames(df)[colnames(df) == 'name'] <- 'img_name'"
   ]
  },
  {
   "cell_type": "code",
   "execution_count": 83,
   "id": "a828ac5e-7198-4ebb-afbe-3df6c5c94f58",
   "metadata": {},
   "outputs": [],
   "source": [
    "df <- merge(data,df,by=\"img_name\")"
   ]
  },
  {
   "cell_type": "code",
   "execution_count": 84,
   "id": "76454baf-620c-46d1-9904-74a8e266304a",
   "metadata": {},
   "outputs": [],
   "source": [
    "library(pROC)"
   ]
  },
  {
   "cell_type": "code",
   "execution_count": 85,
   "id": "1c967a2c-c6cf-478f-aed4-d8215dadbf42",
   "metadata": {},
   "outputs": [
    {
     "name": "stderr",
     "output_type": "stream",
     "text": [
      "Setting levels: control = 0, case = 1\n",
      "\n",
      "Setting direction: controls < cases\n",
      "\n"
     ]
    },
    {
     "data": {
      "text/html": [
       "<style>\n",
       ".list-inline {list-style: none; margin:0; padding: 0}\n",
       ".list-inline>li {display: inline-block}\n",
       ".list-inline>li:not(:last-child)::after {content: \"\\00b7\"; padding: 0 .5ex}\n",
       "</style>\n",
       "<ol class=list-inline><li>0.826978696116277</li><li>0.832243079256313</li><li>0.83750746239635</li></ol>\n"
      ],
      "text/latex": [
       "\\begin{enumerate*}\n",
       "\\item 0.826978696116277\n",
       "\\item 0.832243079256313\n",
       "\\item 0.83750746239635\n",
       "\\end{enumerate*}\n"
      ],
      "text/markdown": [
       "1. 0.826978696116277\n",
       "2. 0.832243079256313\n",
       "3. 0.83750746239635\n",
       "\n",
       "\n"
      ],
      "text/plain": [
       "95% CI: 0.827-0.8375 (DeLong)"
      ]
     },
     "metadata": {},
     "output_type": "display_data"
    }
   ],
   "source": [
    "ci.auc(df$normal.x, df$normal.y)"
   ]
  },
  {
   "cell_type": "code",
   "execution_count": 86,
   "id": "a93588a8-c3c3-4f8b-acd6-4569181f1b5e",
   "metadata": {},
   "outputs": [
    {
     "data": {
      "text/html": [
       "<style>\n",
       ".list-inline {list-style: none; margin:0; padding: 0}\n",
       ".list-inline>li {display: inline-block}\n",
       ".list-inline>li:not(:last-child)::after {content: \"\\00b7\"; padding: 0 .5ex}\n",
       "</style>\n",
       "<ol class=list-inline><li>'normal'</li><li>'Lung_Opacity'</li><li>'covid'</li><li>'bacterial'</li><li>'viral'</li></ol>\n"
      ],
      "text/latex": [
       "\\begin{enumerate*}\n",
       "\\item 'normal'\n",
       "\\item 'Lung\\_Opacity'\n",
       "\\item 'covid'\n",
       "\\item 'bacterial'\n",
       "\\item 'viral'\n",
       "\\end{enumerate*}\n"
      ],
      "text/markdown": [
       "1. 'normal'\n",
       "2. 'Lung_Opacity'\n",
       "3. 'covid'\n",
       "4. 'bacterial'\n",
       "5. 'viral'\n",
       "\n",
       "\n"
      ],
      "text/plain": [
       "[1] \"normal\"       \"Lung_Opacity\" \"covid\"        \"bacterial\"    \"viral\"       "
      ]
     },
     "metadata": {},
     "output_type": "display_data"
    }
   ],
   "source": [
    "unique(df$class)"
   ]
  },
  {
   "cell_type": "code",
   "execution_count": 90,
   "id": "56af3cab-23e2-4e96-b763-a9e458887455",
   "metadata": {},
   "outputs": [
    {
     "name": "stderr",
     "output_type": "stream",
     "text": [
      "Setting levels: control = 0, case = 1\n",
      "\n",
      "Setting direction: controls < cases\n",
      "\n"
     ]
    },
    {
     "data": {
      "text/html": [
       "<style>\n",
       ".list-inline {list-style: none; margin:0; padding: 0}\n",
       ".list-inline>li {display: inline-block}\n",
       ".list-inline>li:not(:last-child)::after {content: \"\\00b7\"; padding: 0 .5ex}\n",
       "</style>\n",
       "<ol class=list-inline><li>0.770844515444868</li><li>0.778966525034336</li><li>0.787088534623805</li></ol>\n"
      ],
      "text/latex": [
       "\\begin{enumerate*}\n",
       "\\item 0.770844515444868\n",
       "\\item 0.778966525034336\n",
       "\\item 0.787088534623805\n",
       "\\end{enumerate*}\n"
      ],
      "text/markdown": [
       "1. 0.770844515444868\n",
       "2. 0.778966525034336\n",
       "3. 0.787088534623805\n",
       "\n",
       "\n"
      ],
      "text/plain": [
       "95% CI: 0.7708-0.7871 (DeLong)"
      ]
     },
     "metadata": {},
     "output_type": "display_data"
    }
   ],
   "source": [
    "prueba <- df[which(df$class == 'Lung_Opacity' | df$class == 'normal'),]\n",
    "ci.auc(prueba$normal.x, prueba$normal.y)"
   ]
  },
  {
   "cell_type": "code",
   "execution_count": null,
   "id": "73652bab-8fde-4018-94c0-378144d65a16",
   "metadata": {},
   "outputs": [],
   "source": []
  }
 ],
 "metadata": {
  "kernelspec": {
   "display_name": "R",
   "language": "R",
   "name": "ir"
  },
  "language_info": {
   "codemirror_mode": "r",
   "file_extension": ".r",
   "mimetype": "text/x-r-source",
   "name": "R",
   "pygments_lexer": "r",
   "version": "4.1.3"
  }
 },
 "nbformat": 4,
 "nbformat_minor": 5
}
