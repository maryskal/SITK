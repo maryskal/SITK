{
 "cells": [
  {
   "cell_type": "code",
   "execution_count": 1,
   "id": "aae39819-bcdf-4ee7-960e-0730e915f706",
   "metadata": {},
   "outputs": [
    {
     "name": "stderr",
     "output_type": "stream",
     "text": [
      "/home/mr1142/miniconda3/envs/jupyter_env/lib/python3.9/site-packages/scipy/__init__.py:146: UserWarning: A NumPy version >=1.16.5 and <1.23.0 is required for this version of SciPy (detected version 1.23.1\n",
      "  warnings.warn(f\"A NumPy version >={np_minversion} and <{np_maxversion}\"\n"
     ]
    }
   ],
   "source": [
    "import pandas as pd\n",
    "import numpy as np\n",
    "import os\n",
    "import re\n",
    "import matplotlib.pyplot as plt\n",
    "import seaborn as sns"
   ]
  },
  {
   "cell_type": "code",
   "execution_count": 2,
   "id": "7607f877-5db2-4d2e-a207-b3ea8f62ca12",
   "metadata": {},
   "outputs": [],
   "source": [
    "p = '/home/mr1142/Documents/Data/models/neumonia'\n",
    "modelos = os.listdir(p)\n",
    "modelos = [modelo[:-3] for modelo in modelos if os.path.isfile(os.path.join(p, modelo))]\n",
    "modelos = [modelo for modelo in modelos if bool(re.search('completo', modelo))]"
   ]
  },
  {
   "cell_type": "code",
   "execution_count": 3,
   "id": "ea9bf433-a7f2-4fd3-8e82-5415c4281e77",
   "metadata": {},
   "outputs": [
    {
     "data": {
      "text/plain": [
       "['completo_IncResNet_fine-07_batch-8_lr-0001_auc-99',\n",
       " 'completo_Xception_fine-07_batch-8_lr-0001_auc-99',\n",
       " 'completo_IncResNet_fine-05_batch-8_lr-0001_auc-99',\n",
       " 'completo_Xception_fine-05_batch-8_lr-0001_auc-99',\n",
       " 'completo_IncResNet_fine-03_batch-8_lr-0001_auc-99',\n",
       " 'completo_Xception_fine-03_batch-8_lr-0001_auc-99',\n",
       " 'completo_mask_IncResNet_fine-03_batch-8_lr-0001_auc-99']"
      ]
     },
     "execution_count": 3,
     "metadata": {},
     "output_type": "execute_result"
    }
   ],
   "source": [
    "modelos"
   ]
  },
  {
   "cell_type": "markdown",
   "id": "4b3b6a37-07c1-4fc2-988b-958c8732222c",
   "metadata": {},
   "source": [
    "# COMPLETOS"
   ]
  },
  {
   "cell_type": "code",
   "execution_count": 4,
   "id": "1f19868c-5395-4510-b917-9377105af0fa",
   "metadata": {},
   "outputs": [],
   "source": [
    "path = '/home/mr1142/Documents/Data/models/neumonia/training_data/train_max_completo.csv'\n",
    "df = pd.read_csv(path)"
   ]
  },
  {
   "cell_type": "code",
   "execution_count": 5,
   "id": "b7c8efac-5511-42ea-86bc-5131845e449a",
   "metadata": {},
   "outputs": [
    {
     "data": {
      "text/html": [
       "<div>\n",
       "<style scoped>\n",
       "    .dataframe tbody tr th:only-of-type {\n",
       "        vertical-align: middle;\n",
       "    }\n",
       "\n",
       "    .dataframe tbody tr th {\n",
       "        vertical-align: top;\n",
       "    }\n",
       "\n",
       "    .dataframe thead th {\n",
       "        text-align: right;\n",
       "    }\n",
       "</style>\n",
       "<table border=\"1\" class=\"dataframe\">\n",
       "  <thead>\n",
       "    <tr style=\"text-align: right;\">\n",
       "      <th></th>\n",
       "      <th>name</th>\n",
       "      <th>modelo</th>\n",
       "      <th>fine</th>\n",
       "      <th>batch</th>\n",
       "      <th>lr</th>\n",
       "      <th>mask</th>\n",
       "      <th>trainprop</th>\n",
       "      <th>pixels</th>\n",
       "      <th>subset</th>\n",
       "      <th>loss</th>\n",
       "      <th>binary_accuracy</th>\n",
       "      <th>precision</th>\n",
       "      <th>auc</th>\n",
       "      <th>val_loss</th>\n",
       "      <th>val_binary_accuracy</th>\n",
       "      <th>val_precision</th>\n",
       "      <th>val_auc</th>\n",
       "    </tr>\n",
       "  </thead>\n",
       "  <tbody>\n",
       "    <tr>\n",
       "      <th>1</th>\n",
       "      <td>completo_Xception_fine-07_batch-8_lr-0001_auc-99</td>\n",
       "      <td>Xception</td>\n",
       "      <td>0.7</td>\n",
       "      <td>8</td>\n",
       "      <td>0.0001</td>\n",
       "      <td>0</td>\n",
       "      <td>0.7</td>\n",
       "      <td>512</td>\n",
       "      <td>0.0</td>\n",
       "      <td>0.349323</td>\n",
       "      <td>0.996326</td>\n",
       "      <td>0.994507</td>\n",
       "      <td>0.999500</td>\n",
       "      <td>0.226185</td>\n",
       "      <td>0.974344</td>\n",
       "      <td>0.961658</td>\n",
       "      <td>0.991506</td>\n",
       "    </tr>\n",
       "    <tr>\n",
       "      <th>4</th>\n",
       "      <td>completo_Xception_fine-03_batch-8_lr-0001_auc-99</td>\n",
       "      <td>Xception</td>\n",
       "      <td>0.3</td>\n",
       "      <td>8</td>\n",
       "      <td>0.0001</td>\n",
       "      <td>0</td>\n",
       "      <td>0.7</td>\n",
       "      <td>512</td>\n",
       "      <td>0.0</td>\n",
       "      <td>0.378762</td>\n",
       "      <td>0.994950</td>\n",
       "      <td>0.992481</td>\n",
       "      <td>0.999413</td>\n",
       "      <td>0.227558</td>\n",
       "      <td>0.975902</td>\n",
       "      <td>0.963852</td>\n",
       "      <td>0.993302</td>\n",
       "    </tr>\n",
       "    <tr>\n",
       "      <th>0</th>\n",
       "      <td>completo_IncResNet_fine-07_batch-8_lr-0001_auc-99</td>\n",
       "      <td>IncResNet</td>\n",
       "      <td>0.7</td>\n",
       "      <td>8</td>\n",
       "      <td>0.0001</td>\n",
       "      <td>0</td>\n",
       "      <td>0.7</td>\n",
       "      <td>512</td>\n",
       "      <td>0.0</td>\n",
       "      <td>0.492858</td>\n",
       "      <td>0.993600</td>\n",
       "      <td>0.990455</td>\n",
       "      <td>0.999046</td>\n",
       "      <td>0.325279</td>\n",
       "      <td>0.972474</td>\n",
       "      <td>0.959426</td>\n",
       "      <td>0.994037</td>\n",
       "    </tr>\n",
       "    <tr>\n",
       "      <th>5</th>\n",
       "      <td>completo_IncResNet_fine-05_batch-8_lr-0001_auc-99</td>\n",
       "      <td>IncResNet</td>\n",
       "      <td>0.5</td>\n",
       "      <td>8</td>\n",
       "      <td>0.0001</td>\n",
       "      <td>0</td>\n",
       "      <td>0.8</td>\n",
       "      <td>512</td>\n",
       "      <td>0.0</td>\n",
       "      <td>0.471615</td>\n",
       "      <td>0.992664</td>\n",
       "      <td>0.989014</td>\n",
       "      <td>0.999081</td>\n",
       "      <td>0.688196</td>\n",
       "      <td>0.977356</td>\n",
       "      <td>0.966033</td>\n",
       "      <td>0.995007</td>\n",
       "    </tr>\n",
       "    <tr>\n",
       "      <th>2</th>\n",
       "      <td>completo_Xception_fine-05_batch-8_lr-0001_auc-99</td>\n",
       "      <td>Xception</td>\n",
       "      <td>0.5</td>\n",
       "      <td>8</td>\n",
       "      <td>0.0001</td>\n",
       "      <td>0</td>\n",
       "      <td>0.7</td>\n",
       "      <td>512</td>\n",
       "      <td>0.0</td>\n",
       "      <td>0.302252</td>\n",
       "      <td>0.995274</td>\n",
       "      <td>0.992948</td>\n",
       "      <td>0.999475</td>\n",
       "      <td>0.212079</td>\n",
       "      <td>0.979018</td>\n",
       "      <td>0.968672</td>\n",
       "      <td>0.995369</td>\n",
       "    </tr>\n",
       "    <tr>\n",
       "      <th>3</th>\n",
       "      <td>completo_IncResNet_fine-03_batch-8_lr-0001_auc-99</td>\n",
       "      <td>IncResNet</td>\n",
       "      <td>0.3</td>\n",
       "      <td>8</td>\n",
       "      <td>0.0001</td>\n",
       "      <td>0</td>\n",
       "      <td>0.7</td>\n",
       "      <td>512</td>\n",
       "      <td>0.0</td>\n",
       "      <td>0.438579</td>\n",
       "      <td>0.992743</td>\n",
       "      <td>0.989131</td>\n",
       "      <td>0.999129</td>\n",
       "      <td>0.239660</td>\n",
       "      <td>0.982446</td>\n",
       "      <td>0.973668</td>\n",
       "      <td>0.995584</td>\n",
       "    </tr>\n",
       "    <tr>\n",
       "      <th>6</th>\n",
       "      <td>completo_mask_IncResNet_fine-03_batch-8_lr-000...</td>\n",
       "      <td>IncResNet</td>\n",
       "      <td>0.3</td>\n",
       "      <td>8</td>\n",
       "      <td>0.0001</td>\n",
       "      <td>1</td>\n",
       "      <td>0.8</td>\n",
       "      <td>512</td>\n",
       "      <td>0.0</td>\n",
       "      <td>0.470000</td>\n",
       "      <td>0.996702</td>\n",
       "      <td>0.995091</td>\n",
       "      <td>0.999566</td>\n",
       "      <td>0.290177</td>\n",
       "      <td>0.977928</td>\n",
       "      <td>0.966963</td>\n",
       "      <td>0.995717</td>\n",
       "    </tr>\n",
       "  </tbody>\n",
       "</table>\n",
       "</div>"
      ],
      "text/plain": [
       "                                                name     modelo  fine  batch  \\\n",
       "1   completo_Xception_fine-07_batch-8_lr-0001_auc-99   Xception   0.7      8   \n",
       "4   completo_Xception_fine-03_batch-8_lr-0001_auc-99   Xception   0.3      8   \n",
       "0  completo_IncResNet_fine-07_batch-8_lr-0001_auc-99  IncResNet   0.7      8   \n",
       "5  completo_IncResNet_fine-05_batch-8_lr-0001_auc-99  IncResNet   0.5      8   \n",
       "2   completo_Xception_fine-05_batch-8_lr-0001_auc-99   Xception   0.5      8   \n",
       "3  completo_IncResNet_fine-03_batch-8_lr-0001_auc-99  IncResNet   0.3      8   \n",
       "6  completo_mask_IncResNet_fine-03_batch-8_lr-000...  IncResNet   0.3      8   \n",
       "\n",
       "       lr  mask  trainprop  pixels  subset      loss  binary_accuracy  \\\n",
       "1  0.0001     0        0.7     512     0.0  0.349323         0.996326   \n",
       "4  0.0001     0        0.7     512     0.0  0.378762         0.994950   \n",
       "0  0.0001     0        0.7     512     0.0  0.492858         0.993600   \n",
       "5  0.0001     0        0.8     512     0.0  0.471615         0.992664   \n",
       "2  0.0001     0        0.7     512     0.0  0.302252         0.995274   \n",
       "3  0.0001     0        0.7     512     0.0  0.438579         0.992743   \n",
       "6  0.0001     1        0.8     512     0.0  0.470000         0.996702   \n",
       "\n",
       "   precision       auc  val_loss  val_binary_accuracy  val_precision   val_auc  \n",
       "1   0.994507  0.999500  0.226185             0.974344       0.961658  0.991506  \n",
       "4   0.992481  0.999413  0.227558             0.975902       0.963852  0.993302  \n",
       "0   0.990455  0.999046  0.325279             0.972474       0.959426  0.994037  \n",
       "5   0.989014  0.999081  0.688196             0.977356       0.966033  0.995007  \n",
       "2   0.992948  0.999475  0.212079             0.979018       0.968672  0.995369  \n",
       "3   0.989131  0.999129  0.239660             0.982446       0.973668  0.995584  \n",
       "6   0.995091  0.999566  0.290177             0.977928       0.966963  0.995717  "
      ]
     },
     "execution_count": 5,
     "metadata": {},
     "output_type": "execute_result"
    }
   ],
   "source": [
    "df.sort_values('val_auc')"
   ]
  },
  {
   "cell_type": "code",
   "execution_count": 6,
   "id": "578e7498-4b23-4a6c-851b-f657ea82afc1",
   "metadata": {},
   "outputs": [
    {
     "data": {
      "text/plain": [
       "[]"
      ]
     },
     "execution_count": 6,
     "metadata": {},
     "output_type": "execute_result"
    }
   ],
   "source": [
    "evaluados_de_mas = list(set(list(df.name))-set(modelos))\n",
    "ix = [i for i in df.index if df.name[i] in evaluados_de_mas]\n",
    "evaluados_de_mas"
   ]
  },
  {
   "cell_type": "code",
   "execution_count": 7,
   "id": "eac6c63f-20f5-4aa6-8bc7-58853cec77fa",
   "metadata": {},
   "outputs": [
    {
     "data": {
      "text/plain": [
       "[]"
      ]
     },
     "execution_count": 7,
     "metadata": {},
     "output_type": "execute_result"
    }
   ],
   "source": [
    "evaluados_de_menos = list(set(modelos)-set(list(df.name)))\n",
    "evaluados_de_menos"
   ]
  },
  {
   "cell_type": "markdown",
   "id": "809de0a7-4e09-498f-af0e-075864e4ad5c",
   "metadata": {},
   "source": [
    "## TEST"
   ]
  },
  {
   "cell_type": "code",
   "execution_count": 8,
   "id": "baf2880c-6ed2-4a00-bb7f-b9adbec3e9b4",
   "metadata": {},
   "outputs": [],
   "source": [
    "path = '/home/mr1142/Documents/Data/models/neumonia/validation_results/image_class_evaluation_completo.csv'\n",
    "df_test = pd.read_csv(path)"
   ]
  },
  {
   "cell_type": "code",
   "execution_count": 9,
   "id": "d7d792c2-2bda-424d-93e5-3f2821760df3",
   "metadata": {},
   "outputs": [
    {
     "data": {
      "text/html": [
       "<div>\n",
       "<style scoped>\n",
       "    .dataframe tbody tr th:only-of-type {\n",
       "        vertical-align: middle;\n",
       "    }\n",
       "\n",
       "    .dataframe tbody tr th {\n",
       "        vertical-align: top;\n",
       "    }\n",
       "\n",
       "    .dataframe thead th {\n",
       "        text-align: right;\n",
       "    }\n",
       "</style>\n",
       "<table border=\"1\" class=\"dataframe\">\n",
       "  <thead>\n",
       "    <tr style=\"text-align: right;\">\n",
       "      <th></th>\n",
       "      <th>nombre</th>\n",
       "      <th>loss</th>\n",
       "      <th>binary_accuracy</th>\n",
       "      <th>precision</th>\n",
       "      <th>auc</th>\n",
       "    </tr>\n",
       "  </thead>\n",
       "  <tbody>\n",
       "    <tr>\n",
       "      <th>0</th>\n",
       "      <td>completo_Xception_fine-07_batch-8_lr-0001_auc-...</td>\n",
       "      <td>0.163180</td>\n",
       "      <td>0.967904</td>\n",
       "      <td>0.951995</td>\n",
       "      <td>0.991506</td>\n",
       "    </tr>\n",
       "    <tr>\n",
       "      <th>2</th>\n",
       "      <td>completo_Xception_fine-03_batch-8_lr-0001_auc-...</td>\n",
       "      <td>0.141522</td>\n",
       "      <td>0.972370</td>\n",
       "      <td>0.958697</td>\n",
       "      <td>0.992653</td>\n",
       "    </tr>\n",
       "    <tr>\n",
       "      <th>1</th>\n",
       "      <td>completo_IncResNet_fine-07_batch-8_lr-0001_auc...</td>\n",
       "      <td>0.135543</td>\n",
       "      <td>0.969929</td>\n",
       "      <td>0.955105</td>\n",
       "      <td>0.994037</td>\n",
       "    </tr>\n",
       "    <tr>\n",
       "      <th>5</th>\n",
       "      <td>completo_IncResNet_fine-05_batch-8_lr-0001_auc...</td>\n",
       "      <td>0.122094</td>\n",
       "      <td>0.972838</td>\n",
       "      <td>0.959327</td>\n",
       "      <td>0.995007</td>\n",
       "    </tr>\n",
       "    <tr>\n",
       "      <th>4</th>\n",
       "      <td>completo_Xception_fine-05_batch-8_lr-0001_auc-...</td>\n",
       "      <td>0.113678</td>\n",
       "      <td>0.975175</td>\n",
       "      <td>0.962905</td>\n",
       "      <td>0.995226</td>\n",
       "    </tr>\n",
       "    <tr>\n",
       "      <th>3</th>\n",
       "      <td>completo_IncResNet_fine-03_batch-8_lr-0001_auc...</td>\n",
       "      <td>0.103217</td>\n",
       "      <td>0.978706</td>\n",
       "      <td>0.968204</td>\n",
       "      <td>0.995584</td>\n",
       "    </tr>\n",
       "    <tr>\n",
       "      <th>6</th>\n",
       "      <td>completo_mask_IncResNet_fine-03_batch-8_lr-000...</td>\n",
       "      <td>0.105036</td>\n",
       "      <td>0.975383</td>\n",
       "      <td>0.963506</td>\n",
       "      <td>0.995717</td>\n",
       "    </tr>\n",
       "  </tbody>\n",
       "</table>\n",
       "</div>"
      ],
      "text/plain": [
       "                                              nombre      loss  \\\n",
       "0  completo_Xception_fine-07_batch-8_lr-0001_auc-...  0.163180   \n",
       "2  completo_Xception_fine-03_batch-8_lr-0001_auc-...  0.141522   \n",
       "1  completo_IncResNet_fine-07_batch-8_lr-0001_auc...  0.135543   \n",
       "5  completo_IncResNet_fine-05_batch-8_lr-0001_auc...  0.122094   \n",
       "4  completo_Xception_fine-05_batch-8_lr-0001_auc-...  0.113678   \n",
       "3  completo_IncResNet_fine-03_batch-8_lr-0001_auc...  0.103217   \n",
       "6  completo_mask_IncResNet_fine-03_batch-8_lr-000...  0.105036   \n",
       "\n",
       "   binary_accuracy  precision       auc  \n",
       "0         0.967904   0.951995  0.991506  \n",
       "2         0.972370   0.958697  0.992653  \n",
       "1         0.969929   0.955105  0.994037  \n",
       "5         0.972838   0.959327  0.995007  \n",
       "4         0.975175   0.962905  0.995226  \n",
       "3         0.978706   0.968204  0.995584  \n",
       "6         0.975383   0.963506  0.995717  "
      ]
     },
     "execution_count": 9,
     "metadata": {},
     "output_type": "execute_result"
    }
   ],
   "source": [
    "df_test.sort_values('auc')"
   ]
  },
  {
   "cell_type": "code",
   "execution_count": 10,
   "id": "5be2e73f-1849-425f-b300-adb5b14de1f4",
   "metadata": {},
   "outputs": [],
   "source": [
    "modelos_evaluados = [model[:-4] for model in df_test.nombre]"
   ]
  },
  {
   "cell_type": "code",
   "execution_count": 11,
   "id": "73976d0a-9c2a-4bc4-9276-76eba06307f2",
   "metadata": {},
   "outputs": [
    {
     "data": {
      "text/plain": [
       "[]"
      ]
     },
     "execution_count": 11,
     "metadata": {},
     "output_type": "execute_result"
    }
   ],
   "source": [
    "evaluados_de_mas = list(set(modelos_evaluados)-set(modelos))\n",
    "ix = [i for i in df_test.index if df_test.nombre[i][:-4] in evaluados_de_mas]\n",
    "evaluados_de_mas"
   ]
  },
  {
   "cell_type": "code",
   "execution_count": 12,
   "id": "7c41e4a6-781e-4bbe-b056-2201bc22185b",
   "metadata": {},
   "outputs": [
    {
     "data": {
      "text/plain": [
       "[]"
      ]
     },
     "execution_count": 12,
     "metadata": {},
     "output_type": "execute_result"
    }
   ],
   "source": [
    "evaluados_de_menos = list(set(modelos)-set(modelos_evaluados))\n",
    "evaluados_de_menos"
   ]
  },
  {
   "cell_type": "markdown",
   "id": "770dee1b-5f7d-4772-851d-c29cb60f7d4f",
   "metadata": {},
   "source": [
    "## PREDICTION"
   ]
  },
  {
   "cell_type": "code",
   "execution_count": 13,
   "id": "57b2cbbc-ea81-496b-a212-1f5ee9e9b283",
   "metadata": {},
   "outputs": [],
   "source": [
    "path = '/home/mr1142/Documents/Data/models/neumonia/validation_results/prediction_validation_metrics_completo.csv'\n",
    "df = pd.read_csv(path)"
   ]
  },
  {
   "cell_type": "code",
   "execution_count": 14,
   "id": "5570506a-c3e7-40c7-8d88-55f2231356e5",
   "metadata": {},
   "outputs": [],
   "source": [
    "df['auc_mean'] = (df.auc_0 + df.auc_1 + df.auc_2)/3"
   ]
  },
  {
   "cell_type": "code",
   "execution_count": 15,
   "id": "548a81cf-2a04-43a6-bddd-ae2ba3c9ca9c",
   "metadata": {},
   "outputs": [
    {
     "data": {
      "text/html": [
       "<div>\n",
       "<style scoped>\n",
       "    .dataframe tbody tr th:only-of-type {\n",
       "        vertical-align: middle;\n",
       "    }\n",
       "\n",
       "    .dataframe tbody tr th {\n",
       "        vertical-align: top;\n",
       "    }\n",
       "\n",
       "    .dataframe thead th {\n",
       "        text-align: right;\n",
       "    }\n",
       "</style>\n",
       "<table border=\"1\" class=\"dataframe\">\n",
       "  <thead>\n",
       "    <tr style=\"text-align: right;\">\n",
       "      <th></th>\n",
       "      <th>name</th>\n",
       "      <th>auc_0</th>\n",
       "      <th>younden_0</th>\n",
       "      <th>pr_max_0</th>\n",
       "      <th>pr_cut_0</th>\n",
       "      <th>auc_1</th>\n",
       "      <th>younden_1</th>\n",
       "      <th>pr_max_1</th>\n",
       "      <th>pr_cut_1</th>\n",
       "      <th>auc_2</th>\n",
       "      <th>...</th>\n",
       "      <th>accuracy_score[0, 1]</th>\n",
       "      <th>f1_score[0, 2]</th>\n",
       "      <th>precision_score[0, 2]</th>\n",
       "      <th>recall_score[0, 2]</th>\n",
       "      <th>accuracy_score[0, 2]</th>\n",
       "      <th>f1_score[1, 2]</th>\n",
       "      <th>precision_score[1, 2]</th>\n",
       "      <th>recall_score[1, 2]</th>\n",
       "      <th>accuracy_score[1, 2]</th>\n",
       "      <th>auc_mean</th>\n",
       "    </tr>\n",
       "  </thead>\n",
       "  <tbody>\n",
       "    <tr>\n",
       "      <th>0</th>\n",
       "      <td>completo_Xception_fine-07_batch-8_lr-0001_auc-99</td>\n",
       "      <td>0.995479</td>\n",
       "      <td>0.028147</td>\n",
       "      <td>0.035585</td>\n",
       "      <td>0.328478</td>\n",
       "      <td>0.987976</td>\n",
       "      <td>0.432983</td>\n",
       "      <td>0.496598</td>\n",
       "      <td>0.502339</td>\n",
       "      <td>0.997532</td>\n",
       "      <td>...</td>\n",
       "      <td>0.638984</td>\n",
       "      <td>0.721160</td>\n",
       "      <td>0.846254</td>\n",
       "      <td>0.717513</td>\n",
       "      <td>0.717513</td>\n",
       "      <td>0.981196</td>\n",
       "      <td>0.981362</td>\n",
       "      <td>0.981147</td>\n",
       "      <td>0.981147</td>\n",
       "      <td>0.993662</td>\n",
       "    </tr>\n",
       "    <tr>\n",
       "      <th>1</th>\n",
       "      <td>completo_IncResNet_fine-07_batch-8_lr-0001_auc-99</td>\n",
       "      <td>0.995106</td>\n",
       "      <td>0.183686</td>\n",
       "      <td>0.702386</td>\n",
       "      <td>0.771208</td>\n",
       "      <td>0.990941</td>\n",
       "      <td>0.126664</td>\n",
       "      <td>0.418243</td>\n",
       "      <td>0.236509</td>\n",
       "      <td>0.998170</td>\n",
       "      <td>...</td>\n",
       "      <td>0.637893</td>\n",
       "      <td>0.819083</td>\n",
       "      <td>0.880455</td>\n",
       "      <td>0.813805</td>\n",
       "      <td>0.813805</td>\n",
       "      <td>0.982896</td>\n",
       "      <td>0.983001</td>\n",
       "      <td>0.982861</td>\n",
       "      <td>0.982861</td>\n",
       "      <td>0.994739</td>\n",
       "    </tr>\n",
       "    <tr>\n",
       "      <th>5</th>\n",
       "      <td>completo_IncResNet_fine-05_batch-8_lr-0001_auc-99</td>\n",
       "      <td>0.996531</td>\n",
       "      <td>0.142714</td>\n",
       "      <td>0.518166</td>\n",
       "      <td>0.548558</td>\n",
       "      <td>0.990831</td>\n",
       "      <td>0.402463</td>\n",
       "      <td>0.479423</td>\n",
       "      <td>0.411170</td>\n",
       "      <td>0.998190</td>\n",
       "      <td>...</td>\n",
       "      <td>0.635712</td>\n",
       "      <td>0.715258</td>\n",
       "      <td>0.844118</td>\n",
       "      <td>0.712683</td>\n",
       "      <td>0.712683</td>\n",
       "      <td>0.981034</td>\n",
       "      <td>0.981169</td>\n",
       "      <td>0.980991</td>\n",
       "      <td>0.980991</td>\n",
       "      <td>0.995184</td>\n",
       "    </tr>\n",
       "    <tr>\n",
       "      <th>4</th>\n",
       "      <td>completo_Xception_fine-05_batch-8_lr-0001_auc-99</td>\n",
       "      <td>0.996774</td>\n",
       "      <td>0.223926</td>\n",
       "      <td>0.355253</td>\n",
       "      <td>0.726347</td>\n",
       "      <td>0.991464</td>\n",
       "      <td>0.442436</td>\n",
       "      <td>0.644953</td>\n",
       "      <td>0.442980</td>\n",
       "      <td>0.999092</td>\n",
       "      <td>...</td>\n",
       "      <td>0.679028</td>\n",
       "      <td>0.950865</td>\n",
       "      <td>0.956120</td>\n",
       "      <td>0.950140</td>\n",
       "      <td>0.950140</td>\n",
       "      <td>0.952137</td>\n",
       "      <td>0.954108</td>\n",
       "      <td>0.951698</td>\n",
       "      <td>0.951698</td>\n",
       "      <td>0.995777</td>\n",
       "    </tr>\n",
       "    <tr>\n",
       "      <th>3</th>\n",
       "      <td>completo_IncResNet_fine-03_batch-8_lr-0001_auc-99</td>\n",
       "      <td>0.996318</td>\n",
       "      <td>0.391510</td>\n",
       "      <td>0.391510</td>\n",
       "      <td>0.686978</td>\n",
       "      <td>0.992449</td>\n",
       "      <td>0.386742</td>\n",
       "      <td>0.500406</td>\n",
       "      <td>0.354640</td>\n",
       "      <td>0.998772</td>\n",
       "      <td>...</td>\n",
       "      <td>0.644438</td>\n",
       "      <td>0.770107</td>\n",
       "      <td>0.862111</td>\n",
       "      <td>0.764568</td>\n",
       "      <td>0.764568</td>\n",
       "      <td>0.990660</td>\n",
       "      <td>0.990682</td>\n",
       "      <td>0.990651</td>\n",
       "      <td>0.990651</td>\n",
       "      <td>0.995846</td>\n",
       "    </tr>\n",
       "    <tr>\n",
       "      <th>2</th>\n",
       "      <td>completo_Xception_fine-03_batch-8_lr-0001_auc-99</td>\n",
       "      <td>0.996003</td>\n",
       "      <td>0.023708</td>\n",
       "      <td>0.069507</td>\n",
       "      <td>0.163867</td>\n",
       "      <td>0.992223</td>\n",
       "      <td>0.319086</td>\n",
       "      <td>0.505441</td>\n",
       "      <td>0.623151</td>\n",
       "      <td>0.999370</td>\n",
       "      <td>...</td>\n",
       "      <td>0.643658</td>\n",
       "      <td>0.745625</td>\n",
       "      <td>0.854183</td>\n",
       "      <td>0.740573</td>\n",
       "      <td>0.740573</td>\n",
       "      <td>0.987572</td>\n",
       "      <td>0.987753</td>\n",
       "      <td>0.987535</td>\n",
       "      <td>0.987535</td>\n",
       "      <td>0.995865</td>\n",
       "    </tr>\n",
       "    <tr>\n",
       "      <th>6</th>\n",
       "      <td>completo_mask_IncResNet_fine-03_batch-8_lr-000...</td>\n",
       "      <td>0.995317</td>\n",
       "      <td>0.407492</td>\n",
       "      <td>0.594447</td>\n",
       "      <td>0.579927</td>\n",
       "      <td>0.993735</td>\n",
       "      <td>0.299114</td>\n",
       "      <td>0.397687</td>\n",
       "      <td>0.435210</td>\n",
       "      <td>0.999082</td>\n",
       "      <td>...</td>\n",
       "      <td>0.686507</td>\n",
       "      <td>0.986644</td>\n",
       "      <td>0.986865</td>\n",
       "      <td>0.986600</td>\n",
       "      <td>0.986600</td>\n",
       "      <td>0.992831</td>\n",
       "      <td>0.992830</td>\n",
       "      <td>0.992833</td>\n",
       "      <td>0.992833</td>\n",
       "      <td>0.996045</td>\n",
       "    </tr>\n",
       "  </tbody>\n",
       "</table>\n",
       "<p>7 rows × 38 columns</p>\n",
       "</div>"
      ],
      "text/plain": [
       "                                                name     auc_0  younden_0  \\\n",
       "0   completo_Xception_fine-07_batch-8_lr-0001_auc-99  0.995479   0.028147   \n",
       "1  completo_IncResNet_fine-07_batch-8_lr-0001_auc-99  0.995106   0.183686   \n",
       "5  completo_IncResNet_fine-05_batch-8_lr-0001_auc-99  0.996531   0.142714   \n",
       "4   completo_Xception_fine-05_batch-8_lr-0001_auc-99  0.996774   0.223926   \n",
       "3  completo_IncResNet_fine-03_batch-8_lr-0001_auc-99  0.996318   0.391510   \n",
       "2   completo_Xception_fine-03_batch-8_lr-0001_auc-99  0.996003   0.023708   \n",
       "6  completo_mask_IncResNet_fine-03_batch-8_lr-000...  0.995317   0.407492   \n",
       "\n",
       "   pr_max_0  pr_cut_0     auc_1  younden_1  pr_max_1  pr_cut_1     auc_2  ...  \\\n",
       "0  0.035585  0.328478  0.987976   0.432983  0.496598  0.502339  0.997532  ...   \n",
       "1  0.702386  0.771208  0.990941   0.126664  0.418243  0.236509  0.998170  ...   \n",
       "5  0.518166  0.548558  0.990831   0.402463  0.479423  0.411170  0.998190  ...   \n",
       "4  0.355253  0.726347  0.991464   0.442436  0.644953  0.442980  0.999092  ...   \n",
       "3  0.391510  0.686978  0.992449   0.386742  0.500406  0.354640  0.998772  ...   \n",
       "2  0.069507  0.163867  0.992223   0.319086  0.505441  0.623151  0.999370  ...   \n",
       "6  0.594447  0.579927  0.993735   0.299114  0.397687  0.435210  0.999082  ...   \n",
       "\n",
       "   accuracy_score[0, 1]  f1_score[0, 2]  precision_score[0, 2]  \\\n",
       "0              0.638984        0.721160               0.846254   \n",
       "1              0.637893        0.819083               0.880455   \n",
       "5              0.635712        0.715258               0.844118   \n",
       "4              0.679028        0.950865               0.956120   \n",
       "3              0.644438        0.770107               0.862111   \n",
       "2              0.643658        0.745625               0.854183   \n",
       "6              0.686507        0.986644               0.986865   \n",
       "\n",
       "   recall_score[0, 2]  accuracy_score[0, 2]  f1_score[1, 2]  \\\n",
       "0            0.717513              0.717513        0.981196   \n",
       "1            0.813805              0.813805        0.982896   \n",
       "5            0.712683              0.712683        0.981034   \n",
       "4            0.950140              0.950140        0.952137   \n",
       "3            0.764568              0.764568        0.990660   \n",
       "2            0.740573              0.740573        0.987572   \n",
       "6            0.986600              0.986600        0.992831   \n",
       "\n",
       "   precision_score[1, 2]  recall_score[1, 2]  accuracy_score[1, 2]  auc_mean  \n",
       "0               0.981362            0.981147              0.981147  0.993662  \n",
       "1               0.983001            0.982861              0.982861  0.994739  \n",
       "5               0.981169            0.980991              0.980991  0.995184  \n",
       "4               0.954108            0.951698              0.951698  0.995777  \n",
       "3               0.990682            0.990651              0.990651  0.995846  \n",
       "2               0.987753            0.987535              0.987535  0.995865  \n",
       "6               0.992830            0.992833              0.992833  0.996045  \n",
       "\n",
       "[7 rows x 38 columns]"
      ]
     },
     "execution_count": 15,
     "metadata": {},
     "output_type": "execute_result"
    }
   ],
   "source": [
    "df.sort_values('auc_mean')"
   ]
  },
  {
   "cell_type": "code",
   "execution_count": 16,
   "id": "52441a24-dfc4-40ac-911a-643444ef61d9",
   "metadata": {},
   "outputs": [
    {
     "data": {
      "text/plain": [
       "[]"
      ]
     },
     "execution_count": 16,
     "metadata": {},
     "output_type": "execute_result"
    }
   ],
   "source": [
    "evaluados_de_mas = list(set(list(df.name))-set(modelos))\n",
    "ix = [i for i in df.index if df.name[i] in evaluados_de_mas]\n",
    "evaluados_de_mas"
   ]
  },
  {
   "cell_type": "code",
   "execution_count": 17,
   "id": "5fb67ae3-1faa-4407-883d-c6d4c7ed6342",
   "metadata": {},
   "outputs": [
    {
     "data": {
      "text/plain": [
       "[]"
      ]
     },
     "execution_count": 17,
     "metadata": {},
     "output_type": "execute_result"
    }
   ],
   "source": [
    "evaluados_de_menos = list(set(modelos)-set(list(df.name)))\n",
    "evaluados_de_menos"
   ]
  },
  {
   "cell_type": "code",
   "execution_count": null,
   "id": "e2d3b324-0ce0-43a6-bba0-233d68ed44fe",
   "metadata": {},
   "outputs": [],
   "source": []
  },
  {
   "cell_type": "markdown",
   "id": "e5398a1b-4e3d-47df-a6a7-da1e9e180d7d",
   "metadata": {},
   "source": [
    "## Cada modelo"
   ]
  },
  {
   "cell_type": "code",
   "execution_count": 20,
   "id": "96b90aa8-ad65-46f8-9c7d-a5db399e3a4f",
   "metadata": {},
   "outputs": [],
   "source": [
    "import os\n",
    "import cv2\n",
    "import json"
   ]
  },
  {
   "cell_type": "code",
   "execution_count": 21,
   "id": "769faacd-81b1-4068-9186-a15052473535",
   "metadata": {},
   "outputs": [],
   "source": [
    "model_name = 'completo_mask_IncResNet_fine-03_batch-8_lr-0001_auc-99'"
   ]
  },
  {
   "cell_type": "code",
   "execution_count": 22,
   "id": "943d5885-c7a5-4181-b0c9-9b5ed48a0ff5",
   "metadata": {},
   "outputs": [],
   "source": [
    "p = os.path.join('/home/mr1142/Documents/Data/models/neumonia/validation_results', model_name)"
   ]
  },
  {
   "cell_type": "code",
   "execution_count": 23,
   "id": "c3d601ad-44e4-4f9e-bf88-e1b7aba8914e",
   "metadata": {},
   "outputs": [
    {
     "data": {
      "text/plain": [
       "['metricas.json',\n",
       " 'pred_rec_plot_0.png',\n",
       " 'auc_plot_0.png',\n",
       " 'pr_re_th_plot_0.png',\n",
       " 'pred_rec_plot_1.png',\n",
       " 'auc_plot_1.png',\n",
       " 'pr_re_th_plot_1.png',\n",
       " 'pred_rec_plot_2.png',\n",
       " 'auc_plot_2.png',\n",
       " 'pr_re_th_plot_2.png',\n",
       " 'class_report.csv']"
      ]
     },
     "execution_count": 23,
     "metadata": {},
     "output_type": "execute_result"
    }
   ],
   "source": [
    "os.listdir(p)"
   ]
  },
  {
   "cell_type": "code",
   "execution_count": 24,
   "id": "c5d23c29-98d0-4c5a-ad7b-0eac58cb1de1",
   "metadata": {},
   "outputs": [
    {
     "data": {
      "text/plain": [
       "<matplotlib.image.AxesImage at 0x7fd57dd44070>"
      ]
     },
     "execution_count": 24,
     "metadata": {},
     "output_type": "execute_result"
    },
    {
     "data": {
      "image/png": "[encoded data removed]",
      "text/plain": [
       "<Figure size 1000x1000 with 1 Axes>"
      ]
     },
     "metadata": {},
     "output_type": "display_data"
    }
   ],
   "source": [
    "img = cv2.imread(os.path.join(p, 'auc_plot_2.png'))\n",
    "plt.figure(figsize=(10,10))\n",
    "plt.imshow(img)"
   ]
  },
  {
   "cell_type": "code",
   "execution_count": 25,
   "id": "ef483555-ce2d-47db-a116-832b206833ea",
   "metadata": {},
   "outputs": [
    {
     "data": {
      "text/plain": [
       "{'auc_0': 0.9953169190678821,\n",
       " 'younden_0': 0.4074918329715729,\n",
       " 'pr_max_0': 0.5944466590881348,\n",
       " 'pr_cut_0': 0.5799269080162048,\n",
       " 'auc_1': 0.9937346640911545,\n",
       " 'younden_1': 0.2991143465042114,\n",
       " 'pr_max_1': 0.39768707752227783,\n",
       " 'pr_cut_1': 0.4352100193500519,\n",
       " 'auc_2': 0.9990819356985298,\n",
       " 'younden_2': 0.3841186761856079,\n",
       " 'pr_max_2': 0.3841186761856079,\n",
       " 'pr_cut_2': 0.3790253698825836,\n",
       " 'f1_score_0': 0.9687721697247632,\n",
       " 'precision_score_0': 0.9690174933745445,\n",
       " 'recall_score_0': 0.9686818323465254,\n",
       " 'accuracy_score_0': 0.9686818323465254,\n",
       " 'f1_score_1': 0.9645225998450532,\n",
       " 'precision_score_1': 0.9645329935404762,\n",
       " 'recall_score_1': 0.9646307260828919,\n",
       " 'accuracy_score_1': 0.9646307260828919,\n",
       " 'f1_score_2': 0.9928293222182196,\n",
       " 'precision_score_2': 0.992829451206034,\n",
       " 'recall_score_2': 0.992832658148956,\n",
       " 'accuracy_score_2': 0.992832658148956,\n",
       " 'f1_score[0, 1]': 0.6934987226346062,\n",
       " 'precision_score[0, 1]': 0.8084691040256107,\n",
       " 'recall_score[0, 1]': 0.6865066999065129,\n",
       " 'accuracy_score[0, 1]': 0.6865066999065129,\n",
       " 'f1_score[0, 2]': 0.9866436747806395,\n",
       " 'precision_score[0, 2]': 0.98686524474663,\n",
       " 'recall_score[0, 2]': 0.9866001869741352,\n",
       " 'accuracy_score[0, 2]': 0.9866001869741352,\n",
       " 'f1_score[1, 2]': 0.992830994086765,\n",
       " 'precision_score[1, 2]': 0.9928301954543509,\n",
       " 'recall_score[1, 2]': 0.992832658148956,\n",
       " 'accuracy_score[1, 2]': 0.992832658148956}"
      ]
     },
     "execution_count": 25,
     "metadata": {},
     "output_type": "execute_result"
    }
   ],
   "source": [
    "with open(os.path.join(p, 'metricas.json')) as json_file:\n",
    "    data = json.load(json_file)\n",
    "data"
   ]
  },
  {
   "cell_type": "code",
   "execution_count": 188,
   "id": "9a7ee6d9-8700-4fd5-9e8f-3810e1d748fe",
   "metadata": {},
   "outputs": [
    {
     "data": {
      "text/html": [
       "<div>\n",
       "<style scoped>\n",
       "    .dataframe tbody tr th:only-of-type {\n",
       "        vertical-align: middle;\n",
       "    }\n",
       "\n",
       "    .dataframe tbody tr th {\n",
       "        vertical-align: top;\n",
       "    }\n",
       "\n",
       "    .dataframe thead th {\n",
       "        text-align: right;\n",
       "    }\n",
       "</style>\n",
       "<table border=\"1\" class=\"dataframe\">\n",
       "  <thead>\n",
       "    <tr style=\"text-align: right;\">\n",
       "      <th></th>\n",
       "      <th>Unnamed: 0</th>\n",
       "      <th>precision</th>\n",
       "      <th>recall</th>\n",
       "      <th>f1-score</th>\n",
       "      <th>support</th>\n",
       "    </tr>\n",
       "  </thead>\n",
       "  <tbody>\n",
       "    <tr>\n",
       "      <th>0</th>\n",
       "      <td>normal</td>\n",
       "      <td>0.943288</td>\n",
       "      <td>0.966848</td>\n",
       "      <td>0.954923</td>\n",
       "      <td>2202.0</td>\n",
       "    </tr>\n",
       "    <tr>\n",
       "      <th>1</th>\n",
       "      <td>moderado</td>\n",
       "      <td>0.955490</td>\n",
       "      <td>0.933784</td>\n",
       "      <td>0.944512</td>\n",
       "      <td>2069.0</td>\n",
       "    </tr>\n",
       "    <tr>\n",
       "      <th>2</th>\n",
       "      <td>severo</td>\n",
       "      <td>0.991117</td>\n",
       "      <td>0.987424</td>\n",
       "      <td>0.989267</td>\n",
       "      <td>2147.0</td>\n",
       "    </tr>\n",
       "    <tr>\n",
       "      <th>3</th>\n",
       "      <td>micro avg</td>\n",
       "      <td>0.963073</td>\n",
       "      <td>0.963073</td>\n",
       "      <td>0.963073</td>\n",
       "      <td>6418.0</td>\n",
       "    </tr>\n",
       "    <tr>\n",
       "      <th>4</th>\n",
       "      <td>macro avg</td>\n",
       "      <td>0.963298</td>\n",
       "      <td>0.962686</td>\n",
       "      <td>0.962901</td>\n",
       "      <td>6418.0</td>\n",
       "    </tr>\n",
       "    <tr>\n",
       "      <th>5</th>\n",
       "      <td>weighted avg</td>\n",
       "      <td>0.963222</td>\n",
       "      <td>0.963073</td>\n",
       "      <td>0.963056</td>\n",
       "      <td>6418.0</td>\n",
       "    </tr>\n",
       "    <tr>\n",
       "      <th>6</th>\n",
       "      <td>samples avg</td>\n",
       "      <td>0.963073</td>\n",
       "      <td>0.963073</td>\n",
       "      <td>0.963073</td>\n",
       "      <td>6418.0</td>\n",
       "    </tr>\n",
       "  </tbody>\n",
       "</table>\n",
       "</div>"
      ],
      "text/plain": [
       "     Unnamed: 0  precision    recall  f1-score  support\n",
       "0        normal   0.943288  0.966848  0.954923   2202.0\n",
       "1      moderado   0.955490  0.933784  0.944512   2069.0\n",
       "2        severo   0.991117  0.987424  0.989267   2147.0\n",
       "3     micro avg   0.963073  0.963073  0.963073   6418.0\n",
       "4     macro avg   0.963298  0.962686  0.962901   6418.0\n",
       "5  weighted avg   0.963222  0.963073  0.963056   6418.0\n",
       "6   samples avg   0.963073  0.963073  0.963073   6418.0"
      ]
     },
     "execution_count": 188,
     "metadata": {},
     "output_type": "execute_result"
    }
   ],
   "source": [
    "df = pd.read_csv(os.path.join(p, 'class_report.csv'))\n",
    "df"
   ]
  },
  {
   "cell_type": "code",
   "execution_count": null,
   "id": "59d68097-4f72-4e12-8808-7db01627ad15",
   "metadata": {},
   "outputs": [],
   "source": []
  }
 ],
 "metadata": {
  "kernelspec": {
   "display_name": "Python 3 (ipykernel)",
   "language": "python",
   "name": "python3"
  },
  "language_info": {
   "codemirror_mode": {
    "name": "ipython",
    "version": 3
   },
   "file_extension": ".py",
   "mimetype": "text/x-python",
   "name": "python",
   "nbconvert_exporter": "python",
   "pygments_lexer": "ipython3",
   "version": "3.9.13"
  }
 },
 "nbformat": 4,
 "nbformat_minor": 5
}
