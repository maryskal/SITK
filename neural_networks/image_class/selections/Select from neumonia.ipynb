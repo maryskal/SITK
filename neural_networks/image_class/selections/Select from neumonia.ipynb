{
 "cells": [
  {
   "cell_type": "code",
   "execution_count": 88,
   "id": "690d9c55-5113-4e4a-8251-c05588678912",
   "metadata": {},
   "outputs": [],
   "source": [
    "import os\n",
    "import pandas as pd\n",
    "import numpy as np\n",
    "import cv2"
   ]
  },
  {
   "cell_type": "code",
   "execution_count": 89,
   "id": "88e54b89-314b-4514-80ad-caf9222ab9d4",
   "metadata": {},
   "outputs": [],
   "source": [
    "path = '/home/mr1142/Documents/Data/chest_xray'"
   ]
  },
  {
   "cell_type": "code",
   "execution_count": 90,
   "id": "c0b563eb-2f3c-4cf8-88bf-bde89da36eac",
   "metadata": {},
   "outputs": [
    {
     "data": {
      "text/plain": [
       "['__MACOSX', 'train', 'test', 'val', 'chest_xray']"
      ]
     },
     "execution_count": 90,
     "metadata": {},
     "output_type": "execute_result"
    }
   ],
   "source": [
    "os.listdir(path)"
   ]
  },
  {
   "cell_type": "code",
   "execution_count": 91,
   "id": "216c1e70-f0e2-490a-9394-02ba9178b5af",
   "metadata": {},
   "outputs": [
    {
     "name": "stdout",
     "output_type": "stream",
     "text": [
      "__MACOSX\n",
      "----._chest_xray\n",
      "----chest_xray\n",
      "6\n",
      "train\n",
      "----PNEUMONIA\n",
      "3875\n",
      "----NORMAL\n",
      "1341\n",
      "test\n",
      "----PNEUMONIA\n",
      "390\n",
      "----NORMAL\n",
      "234\n",
      "val\n",
      "----PNEUMONIA\n",
      "8\n",
      "----NORMAL\n",
      "8\n",
      "chest_xray\n",
      "----train\n",
      "--------.DS_Store\n",
      "\n",
      "0\n",
      "--------PNEUMONIA\n",
      "3876\n",
      "--------NORMAL\n",
      "1342\n",
      "----test\n",
      "--------.DS_Store\n",
      "\n",
      "0\n",
      "--------PNEUMONIA\n",
      "390\n",
      "--------NORMAL\n",
      "234\n",
      "----.DS_Store\n",
      "----val\n",
      "--------.DS_Store\n",
      "\n",
      "0\n",
      "--------PNEUMONIA\n",
      "9\n",
      "--------NORMAL\n",
      "9\n"
     ]
    }
   ],
   "source": [
    "for fold_1 in os.listdir(path):\n",
    "    folders_inside_1 = []\n",
    "    print(f'{fold_1}')\n",
    "    try:\n",
    "        folders_inside_1 = os.listdir(os.path.join(path, fold_1))\n",
    "    except:\n",
    "        print('', end = '')\n",
    "    for fold_2 in folders_inside_1:\n",
    "        folders_inside_2 = []\n",
    "        print(f'----{fold_2}')\n",
    "        try:\n",
    "            folders_inside_2 = os.listdir(os.path.join(path, fold_1, fold_2))\n",
    "        except:\n",
    "            print('', end = '')\n",
    "        if len(folders_inside_2) < 5:\n",
    "            for fold_3 in folders_inside_2:\n",
    "                folders_inside_3 = []\n",
    "                print(f'--------{fold_3}')\n",
    "                try:\n",
    "                    folders_inside_3 = os.listdir(os.path.join(path, fold_1, fold_2, fold_3))\n",
    "                except:\n",
    "                    print('')\n",
    "                print(len(folders_inside_3))\n",
    "        else:\n",
    "            print(len(folders_inside_2))"
   ]
  },
  {
   "cell_type": "code",
   "execution_count": 92,
   "id": "877b33ed-576e-459a-9717-625d28aa4f8d",
   "metadata": {},
   "outputs": [],
   "source": [
    "p = os.path.join(path, 'test')"
   ]
  },
  {
   "cell_type": "code",
   "execution_count": 93,
   "id": "c5f64a3b-ec7c-43f1-a39e-a847950631e2",
   "metadata": {},
   "outputs": [],
   "source": [
    "normales = os.listdir(os.path.join(p, 'NORMAL'))\n",
    "pneumo = os.listdir(os.path.join(p, 'PNEUMONIA'))"
   ]
  },
  {
   "cell_type": "code",
   "execution_count": 94,
   "id": "c0aa2067-9479-4563-bccf-a4c0a506a805",
   "metadata": {},
   "outputs": [],
   "source": [
    "no = {'name': normales, 'type': [0]*len(normales)}\n",
    "ne = {'name': pneumo, 'type': [1]*len(pneumo)}"
   ]
  },
  {
   "cell_type": "code",
   "execution_count": 95,
   "id": "ba32622b-9b65-4ab6-9cff-1ebbb1050b8b",
   "metadata": {},
   "outputs": [],
   "source": [
    "for k, v in no.items():\n",
    "    v.extend(ne[k])"
   ]
  },
  {
   "cell_type": "code",
   "execution_count": 96,
   "id": "448c0b2d-1dff-4757-bfa2-041bcd2725d6",
   "metadata": {},
   "outputs": [],
   "source": [
    "df = pd.DataFrame(no)"
   ]
  },
  {
   "cell_type": "code",
   "execution_count": 97,
   "id": "84b2974b-bff7-47d5-a57b-be787e489926",
   "metadata": {},
   "outputs": [
    {
     "data": {
      "text/html": [
       "<div>\n",
       "<style scoped>\n",
       "    .dataframe tbody tr th:only-of-type {\n",
       "        vertical-align: middle;\n",
       "    }\n",
       "\n",
       "    .dataframe tbody tr th {\n",
       "        vertical-align: top;\n",
       "    }\n",
       "\n",
       "    .dataframe thead th {\n",
       "        text-align: right;\n",
       "    }\n",
       "</style>\n",
       "<table border=\"1\" class=\"dataframe\">\n",
       "  <thead>\n",
       "    <tr style=\"text-align: right;\">\n",
       "      <th></th>\n",
       "      <th>name</th>\n",
       "      <th>type</th>\n",
       "    </tr>\n",
       "  </thead>\n",
       "  <tbody>\n",
       "    <tr>\n",
       "      <th>0</th>\n",
       "      <td>NORMAL2-IM-0233-0001.jpeg</td>\n",
       "      <td>0</td>\n",
       "    </tr>\n",
       "    <tr>\n",
       "      <th>1</th>\n",
       "      <td>IM-0016-0001.jpeg</td>\n",
       "      <td>0</td>\n",
       "    </tr>\n",
       "    <tr>\n",
       "      <th>2</th>\n",
       "      <td>NORMAL2-IM-0297-0001.jpeg</td>\n",
       "      <td>0</td>\n",
       "    </tr>\n",
       "    <tr>\n",
       "      <th>3</th>\n",
       "      <td>NORMAL2-IM-0252-0001.jpeg</td>\n",
       "      <td>0</td>\n",
       "    </tr>\n",
       "    <tr>\n",
       "      <th>4</th>\n",
       "      <td>NORMAL2-IM-0171-0001.jpeg</td>\n",
       "      <td>0</td>\n",
       "    </tr>\n",
       "    <tr>\n",
       "      <th>...</th>\n",
       "      <td>...</td>\n",
       "      <td>...</td>\n",
       "    </tr>\n",
       "    <tr>\n",
       "      <th>619</th>\n",
       "      <td>person91_bacteria_445.jpeg</td>\n",
       "      <td>1</td>\n",
       "    </tr>\n",
       "    <tr>\n",
       "      <th>620</th>\n",
       "      <td>person81_bacteria_396.jpeg</td>\n",
       "      <td>1</td>\n",
       "    </tr>\n",
       "    <tr>\n",
       "      <th>621</th>\n",
       "      <td>person61_virus_118.jpeg</td>\n",
       "      <td>1</td>\n",
       "    </tr>\n",
       "    <tr>\n",
       "      <th>622</th>\n",
       "      <td>person17_virus_48.jpeg</td>\n",
       "      <td>1</td>\n",
       "    </tr>\n",
       "    <tr>\n",
       "      <th>623</th>\n",
       "      <td>person1632_virus_2827.jpeg</td>\n",
       "      <td>1</td>\n",
       "    </tr>\n",
       "  </tbody>\n",
       "</table>\n",
       "<p>624 rows × 2 columns</p>\n",
       "</div>"
      ],
      "text/plain": [
       "                           name  type\n",
       "0     NORMAL2-IM-0233-0001.jpeg     0\n",
       "1             IM-0016-0001.jpeg     0\n",
       "2     NORMAL2-IM-0297-0001.jpeg     0\n",
       "3     NORMAL2-IM-0252-0001.jpeg     0\n",
       "4     NORMAL2-IM-0171-0001.jpeg     0\n",
       "..                          ...   ...\n",
       "619  person91_bacteria_445.jpeg     1\n",
       "620  person81_bacteria_396.jpeg     1\n",
       "621     person61_virus_118.jpeg     1\n",
       "622      person17_virus_48.jpeg     1\n",
       "623  person1632_virus_2827.jpeg     1\n",
       "\n",
       "[624 rows x 2 columns]"
      ]
     },
     "execution_count": 97,
     "metadata": {},
     "output_type": "execute_result"
    }
   ],
   "source": [
    "df"
   ]
  },
  {
   "cell_type": "code",
   "execution_count": 98,
   "id": "b071babb-a3f3-41ae-b3a7-15807ff6a97a",
   "metadata": {},
   "outputs": [],
   "source": [
    "df.to_csv(save + 'true.csv', index = False)"
   ]
  },
  {
   "cell_type": "code",
   "execution_count": 86,
   "id": "c72cdee8-2c65-44b3-a52b-2ec8646fd521",
   "metadata": {},
   "outputs": [],
   "source": [
    "save = '/home/mr1142/Documents/Data/prueba_class'\n",
    "for folder in os.listdir(p):\n",
    "    images = os.listdir(os.path.join(p, folder))\n",
    "    for im in images:\n",
    "        im = im[:-4]\n",
    "        cv2.imwrite(os.path.join(save, im + '.png'), cv2.imread(os.path.join(p, folder, im)))"
   ]
  },
  {
   "cell_type": "markdown",
   "id": "a90200de-179f-4a8f-b575-a3fb4cbe4959",
   "metadata": {},
   "source": [
    "# RESULTADOS"
   ]
  },
  {
   "cell_type": "code",
   "execution_count": 152,
   "id": "36549a41-557c-4fad-a4e4-99ed14d601a3",
   "metadata": {},
   "outputs": [],
   "source": [
    "from sklearn import metrics\n",
    "import matplotlib.pyplot as plt"
   ]
  },
  {
   "cell_type": "code",
   "execution_count": 163,
   "id": "c212af80-d4cd-400f-b908-cf692ab17b3f",
   "metadata": {},
   "outputs": [],
   "source": [
    "import re"
   ]
  },
  {
   "cell_type": "code",
   "execution_count": 131,
   "id": "277ea68d-6691-4698-b143-d69b7f18dd67",
   "metadata": {},
   "outputs": [],
   "source": [
    "results = pd.read_csv(os.path.join(save, 'results.csv'))"
   ]
  },
  {
   "cell_type": "code",
   "execution_count": 132,
   "id": "25f01f1f-de3b-49bf-9061-49f6c62c1e71",
   "metadata": {},
   "outputs": [],
   "source": [
    "results['true'] = 0"
   ]
  },
  {
   "cell_type": "code",
   "execution_count": 143,
   "id": "ddc6013f-ffdc-4106-b6e1-74b330e18ab9",
   "metadata": {},
   "outputs": [
    {
     "name": "stderr",
     "output_type": "stream",
     "text": [
      "/tmp/ipykernel_30731/1274469056.py:5: SettingWithCopyWarning: \n",
      "A value is trying to be set on a copy of a slice from a DataFrame\n",
      "\n",
      "See the caveats in the documentation: https://pandas.pydata.org/pandas-docs/stable/user_guide/indexing.html#returning-a-view-versus-a-copy\n",
      "  results['true'][ix[0]] = df.type[i]\n"
     ]
    }
   ],
   "source": [
    "for i, name in enumerate(df.name):\n",
    "    # print(results[results.name == name[:-5]])\n",
    "    ix = results[results.name == name[:-5]].index\n",
    "    # print(ix[0])\n",
    "    results['true'][ix[0]] = df.type[i]"
   ]
  },
  {
   "cell_type": "code",
   "execution_count": 144,
   "id": "740a13e6-9ae9-4a36-9f36-2b7764922c28",
   "metadata": {},
   "outputs": [
    {
     "data": {
      "text/html": [
       "<div>\n",
       "<style scoped>\n",
       "    .dataframe tbody tr th:only-of-type {\n",
       "        vertical-align: middle;\n",
       "    }\n",
       "\n",
       "    .dataframe tbody tr th {\n",
       "        vertical-align: top;\n",
       "    }\n",
       "\n",
       "    .dataframe thead th {\n",
       "        text-align: right;\n",
       "    }\n",
       "</style>\n",
       "<table border=\"1\" class=\"dataframe\">\n",
       "  <thead>\n",
       "    <tr style=\"text-align: right;\">\n",
       "      <th></th>\n",
       "      <th>name</th>\n",
       "      <th>normal</th>\n",
       "      <th>moderado</th>\n",
       "      <th>severo</th>\n",
       "      <th>true</th>\n",
       "    </tr>\n",
       "  </thead>\n",
       "  <tbody>\n",
       "    <tr>\n",
       "      <th>0</th>\n",
       "      <td>person117_bacteria_553</td>\n",
       "      <td>0.999972</td>\n",
       "      <td>0.000028</td>\n",
       "      <td>2.678677e-09</td>\n",
       "      <td>1</td>\n",
       "    </tr>\n",
       "    <tr>\n",
       "      <th>1</th>\n",
       "      <td>person141_bacteria_677</td>\n",
       "      <td>0.999979</td>\n",
       "      <td>0.000021</td>\n",
       "      <td>7.674886e-10</td>\n",
       "      <td>1</td>\n",
       "    </tr>\n",
       "    <tr>\n",
       "      <th>2</th>\n",
       "      <td>person100_bacteria_477</td>\n",
       "      <td>0.990465</td>\n",
       "      <td>0.009512</td>\n",
       "      <td>2.227150e-05</td>\n",
       "      <td>1</td>\n",
       "    </tr>\n",
       "    <tr>\n",
       "      <th>3</th>\n",
       "      <td>person111_bacteria_534</td>\n",
       "      <td>0.999988</td>\n",
       "      <td>0.000012</td>\n",
       "      <td>5.645454e-10</td>\n",
       "      <td>1</td>\n",
       "    </tr>\n",
       "    <tr>\n",
       "      <th>4</th>\n",
       "      <td>person1669_virus_2884</td>\n",
       "      <td>0.883430</td>\n",
       "      <td>0.115756</td>\n",
       "      <td>8.137595e-04</td>\n",
       "      <td>1</td>\n",
       "    </tr>\n",
       "    <tr>\n",
       "      <th>...</th>\n",
       "      <td>...</td>\n",
       "      <td>...</td>\n",
       "      <td>...</td>\n",
       "      <td>...</td>\n",
       "      <td>...</td>\n",
       "    </tr>\n",
       "    <tr>\n",
       "      <th>619</th>\n",
       "      <td>NORMAL2-IM-0328-0001</td>\n",
       "      <td>0.252357</td>\n",
       "      <td>0.736711</td>\n",
       "      <td>1.093204e-02</td>\n",
       "      <td>0</td>\n",
       "    </tr>\n",
       "    <tr>\n",
       "      <th>620</th>\n",
       "      <td>NORMAL2-IM-0251-0001</td>\n",
       "      <td>0.575702</td>\n",
       "      <td>0.423080</td>\n",
       "      <td>1.218000e-03</td>\n",
       "      <td>0</td>\n",
       "    </tr>\n",
       "    <tr>\n",
       "      <th>621</th>\n",
       "      <td>NORMAL2-IM-0059-0001</td>\n",
       "      <td>0.992739</td>\n",
       "      <td>0.007260</td>\n",
       "      <td>1.418116e-06</td>\n",
       "      <td>0</td>\n",
       "    </tr>\n",
       "    <tr>\n",
       "      <th>622</th>\n",
       "      <td>IM-0030-0001</td>\n",
       "      <td>0.951427</td>\n",
       "      <td>0.048536</td>\n",
       "      <td>3.704735e-05</td>\n",
       "      <td>0</td>\n",
       "    </tr>\n",
       "    <tr>\n",
       "      <th>623</th>\n",
       "      <td>NORMAL2-IM-0238-0001</td>\n",
       "      <td>0.443196</td>\n",
       "      <td>0.555179</td>\n",
       "      <td>1.624677e-03</td>\n",
       "      <td>0</td>\n",
       "    </tr>\n",
       "  </tbody>\n",
       "</table>\n",
       "<p>624 rows × 5 columns</p>\n",
       "</div>"
      ],
      "text/plain": [
       "                       name    normal  moderado        severo  true\n",
       "0    person117_bacteria_553  0.999972  0.000028  2.678677e-09     1\n",
       "1    person141_bacteria_677  0.999979  0.000021  7.674886e-10     1\n",
       "2    person100_bacteria_477  0.990465  0.009512  2.227150e-05     1\n",
       "3    person111_bacteria_534  0.999988  0.000012  5.645454e-10     1\n",
       "4     person1669_virus_2884  0.883430  0.115756  8.137595e-04     1\n",
       "..                      ...       ...       ...           ...   ...\n",
       "619    NORMAL2-IM-0328-0001  0.252357  0.736711  1.093204e-02     0\n",
       "620    NORMAL2-IM-0251-0001  0.575702  0.423080  1.218000e-03     0\n",
       "621    NORMAL2-IM-0059-0001  0.992739  0.007260  1.418116e-06     0\n",
       "622            IM-0030-0001  0.951427  0.048536  3.704735e-05     0\n",
       "623    NORMAL2-IM-0238-0001  0.443196  0.555179  1.624677e-03     0\n",
       "\n",
       "[624 rows x 5 columns]"
      ]
     },
     "execution_count": 144,
     "metadata": {},
     "output_type": "execute_result"
    }
   ],
   "source": [
    "results"
   ]
  },
  {
   "cell_type": "code",
   "execution_count": 173,
   "id": "3e2e0909-d148-420e-9b52-e8a9b3519fcd",
   "metadata": {},
   "outputs": [
    {
     "data": {
      "text/plain": [
       "382"
      ]
     },
     "execution_count": 173,
     "metadata": {},
     "output_type": "execute_result"
    }
   ],
   "source": [
    "ix = [i for i in results.index if not re.search('bacteria', results.name[i])]\n",
    "len(ix)"
   ]
  },
  {
   "cell_type": "code",
   "execution_count": 174,
   "id": "ad07e2d4-8d73-46b8-ab22-ab415c82be8a",
   "metadata": {},
   "outputs": [],
   "source": [
    "results_2 = results.loc[ix]"
   ]
  },
  {
   "cell_type": "code",
   "execution_count": 175,
   "id": "36628d8b-87a9-4c00-8176-1626bfb15f16",
   "metadata": {},
   "outputs": [],
   "source": [
    "def AUC_plot(fpr, tpr, thresholds, auc):\n",
    "    fig, ax = plt.subplots()\n",
    "    i = np.argmax(tpr-fpr)\n",
    "    th = thresholds[i]\n",
    "    x = fpr[i]\n",
    "    y = tpr[i]\n",
    "    ax.plot(fpr,tpr, \"g-\", label=\"AUC=\"+str(round(auc, 2)))\n",
    "    ax.set_xlabel('False Positive Rate')\n",
    "    ax.set_ylabel('True Positive Rate')\n",
    "    try:\n",
    "        ax.plot([x, x], [0, y], \"r:\")\n",
    "        ax.plot([0, x], [y, y], \"r:\")\n",
    "    except:\n",
    "        print('plot except')\n",
    "    ax.plot([x], [y], \"ro\", label=\"th=\"+str(round(th,2))) \n",
    "    ax.legend(loc=4)\n",
    "    return fig"
   ]
  },
  {
   "cell_type": "code",
   "execution_count": 176,
   "id": "46bb518f-baac-448a-bd9c-e4dbcde4b27a",
   "metadata": {},
   "outputs": [],
   "source": [
    "fpr, tpr, auc_thresholds = metrics.roc_curve(results_2.true, results_2.normal)\n",
    "auc = metrics.auc(fpr, tpr)"
   ]
  },
  {
   "cell_type": "code",
   "execution_count": 177,
   "id": "6cf4805d-16da-4af2-9dc7-9235a6dae65f",
   "metadata": {},
   "outputs": [
    {
     "data": {
      "image/png": "[encoded data removed]",
      "text/plain": [
       "<Figure size 640x480 with 1 Axes>"
      ]
     },
     "metadata": {},
     "output_type": "display_data"
    }
   ],
   "source": [
    "a = AUC_plot(fpr, tpr, auc_thresholds, auc)"
   ]
  },
  {
   "cell_type": "code",
   "execution_count": null,
   "id": "3d3c0430-4388-4139-a6e0-05f37bad3f9b",
   "metadata": {},
   "outputs": [],
   "source": []
  }
 ],
 "metadata": {
  "kernelspec": {
   "display_name": "Python 3 (ipykernel)",
   "language": "python",
   "name": "python3"
  },
  "language_info": {
   "codemirror_mode": {
    "name": "ipython",
    "version": 3
   },
   "file_extension": ".py",
   "mimetype": "text/x-python",
   "name": "python",
   "nbconvert_exporter": "python",
   "pygments_lexer": "ipython3",
   "version": "3.9.13"
  }
 },
 "nbformat": 4,
 "nbformat_minor": 5
}
