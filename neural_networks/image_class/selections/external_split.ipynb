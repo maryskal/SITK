{
 "cells": [
  {
   "cell_type": "code",
   "execution_count": 48,
   "id": "39f6c2ee-2b0a-434e-81bc-2dcdadc7c945",
   "metadata": {},
   "outputs": [],
   "source": [
    "import os\n",
    "import re\n",
    "import shutil\n",
    "import numpy as np\n",
    "import pandas as pd\n",
    "from tqdm import tqdm"
   ]
  },
  {
   "cell_type": "code",
   "execution_count": 49,
   "id": "7686b307-81d3-465b-895c-dfd7f4a2e5d2",
   "metadata": {},
   "outputs": [],
   "source": [
    "path = '/home/mr1142/Documents/Data/global_pneumonia_selection'"
   ]
  },
  {
   "cell_type": "code",
   "execution_count": 50,
   "id": "93c4b291-1000-4e13-a184-d1a048a2baec",
   "metadata": {},
   "outputs": [],
   "source": [
    "df = pd.read_csv(os.path.join(path, 'data', 'data.csv'))"
   ]
  },
  {
   "cell_type": "code",
   "execution_count": 51,
   "id": "d0ba3848-36c7-4dd3-a605-fd886ac156f2",
   "metadata": {},
   "outputs": [],
   "source": [
    "viral = [i for i in df.index if bool(re.search('Viral', df.img_name[i]))]"
   ]
  },
  {
   "cell_type": "code",
   "execution_count": 52,
   "id": "e152d869-208c-4f7c-bfd2-c41a0df788dc",
   "metadata": {},
   "outputs": [
    {
     "data": {
      "text/html": [
       "<div>\n",
       "<style scoped>\n",
       "    .dataframe tbody tr th:only-of-type {\n",
       "        vertical-align: middle;\n",
       "    }\n",
       "\n",
       "    .dataframe tbody tr th {\n",
       "        vertical-align: top;\n",
       "    }\n",
       "\n",
       "    .dataframe thead th {\n",
       "        text-align: right;\n",
       "    }\n",
       "</style>\n",
       "<table border=\"1\" class=\"dataframe\">\n",
       "  <thead>\n",
       "    <tr style=\"text-align: right;\">\n",
       "      <th></th>\n",
       "      <th>path</th>\n",
       "      <th>img_name</th>\n",
       "      <th>normal</th>\n",
       "      <th>viral</th>\n",
       "      <th>bacteria</th>\n",
       "      <th>class</th>\n",
       "      <th>dataset</th>\n",
       "      <th>image</th>\n",
       "    </tr>\n",
       "  </thead>\n",
       "  <tbody>\n",
       "    <tr>\n",
       "      <th>0</th>\n",
       "      <td>/home/mr1142/Documents/Data/chest_xray/train/P...</td>\n",
       "      <td>person1384_bacteria_3522.jpeg</td>\n",
       "      <td>0</td>\n",
       "      <td>0</td>\n",
       "      <td>1</td>\n",
       "      <td>bacterial</td>\n",
       "      <td>ped</td>\n",
       "      <td>[[28 20 27 ... 19 14 22]\\n [29 24 25 ... 15 15...</td>\n",
       "    </tr>\n",
       "    <tr>\n",
       "      <th>1</th>\n",
       "      <td>/home/mr1142/Documents/Data/chest_xray/train/P...</td>\n",
       "      <td>person783_bacteria_2687.jpeg</td>\n",
       "      <td>0</td>\n",
       "      <td>0</td>\n",
       "      <td>1</td>\n",
       "      <td>bacterial</td>\n",
       "      <td>ped</td>\n",
       "      <td>[[0 0 0 ... 0 0 0]\\n [0 0 0 ... 0 0 0]\\n [0 0 ...</td>\n",
       "    </tr>\n",
       "    <tr>\n",
       "      <th>2</th>\n",
       "      <td>/home/mr1142/Documents/Data/chest_xray/train/P...</td>\n",
       "      <td>person1619_bacteria_4268.jpeg</td>\n",
       "      <td>0</td>\n",
       "      <td>0</td>\n",
       "      <td>1</td>\n",
       "      <td>bacterial</td>\n",
       "      <td>ped</td>\n",
       "      <td>[[19 19 19 ... 37 41 46]\\n [19 19 19 ... 37 41...</td>\n",
       "    </tr>\n",
       "    <tr>\n",
       "      <th>3</th>\n",
       "      <td>/home/mr1142/Documents/Data/chest_xray/train/P...</td>\n",
       "      <td>person551_virus_1091.jpeg</td>\n",
       "      <td>0</td>\n",
       "      <td>1</td>\n",
       "      <td>0</td>\n",
       "      <td>viral</td>\n",
       "      <td>ped</td>\n",
       "      <td>[[  0   0 253 ...  26  24  15]\\n [  0   0 253 ...</td>\n",
       "    </tr>\n",
       "    <tr>\n",
       "      <th>4</th>\n",
       "      <td>/home/mr1142/Documents/Data/chest_xray/train/P...</td>\n",
       "      <td>person907_virus_1563.jpeg</td>\n",
       "      <td>0</td>\n",
       "      <td>1</td>\n",
       "      <td>0</td>\n",
       "      <td>viral</td>\n",
       "      <td>ped</td>\n",
       "      <td>[[  0   0 255 ...   0   0   0]\\n [  0   0 255 ...</td>\n",
       "    </tr>\n",
       "    <tr>\n",
       "      <th>...</th>\n",
       "      <td>...</td>\n",
       "      <td>...</td>\n",
       "      <td>...</td>\n",
       "      <td>...</td>\n",
       "      <td>...</td>\n",
       "      <td>...</td>\n",
       "      <td>...</td>\n",
       "      <td>...</td>\n",
       "    </tr>\n",
       "    <tr>\n",
       "      <th>26788</th>\n",
       "      <td>/home/mr1142/Documents/Data/neumonia_covid/all...</td>\n",
       "      <td>00012158_021.png</td>\n",
       "      <td>0</td>\n",
       "      <td>0</td>\n",
       "      <td>0</td>\n",
       "      <td>Lung_Opacity</td>\n",
       "      <td>covid</td>\n",
       "      <td>[[ 20  20  19 ...  22  28  32]\\n [ 20  20  19 ...</td>\n",
       "    </tr>\n",
       "    <tr>\n",
       "      <th>26789</th>\n",
       "      <td>/home/mr1142/Documents/Data/neumonia_covid/all...</td>\n",
       "      <td>00001855_008.png</td>\n",
       "      <td>0</td>\n",
       "      <td>0</td>\n",
       "      <td>0</td>\n",
       "      <td>Lung_Opacity</td>\n",
       "      <td>covid</td>\n",
       "      <td>[[1 1 1 ... 1 1 1]\\n [1 1 1 ... 1 1 1]\\n [1 1 ...</td>\n",
       "    </tr>\n",
       "    <tr>\n",
       "      <th>26790</th>\n",
       "      <td>/home/mr1142/Documents/Data/neumonia_covid/all...</td>\n",
       "      <td>00011472_001.png</td>\n",
       "      <td>0</td>\n",
       "      <td>0</td>\n",
       "      <td>0</td>\n",
       "      <td>Lung_Opacity</td>\n",
       "      <td>covid</td>\n",
       "      <td>[[245 241 232 ... 225 231 240]\\n [229 188 154 ...</td>\n",
       "    </tr>\n",
       "    <tr>\n",
       "      <th>26791</th>\n",
       "      <td>/home/mr1142/Documents/Data/neumonia_covid/all...</td>\n",
       "      <td>00014393_007.png</td>\n",
       "      <td>0</td>\n",
       "      <td>0</td>\n",
       "      <td>0</td>\n",
       "      <td>Lung_Opacity</td>\n",
       "      <td>covid</td>\n",
       "      <td>[[144 141 140 ...   0   0   1]\\n [141 138 135 ...</td>\n",
       "    </tr>\n",
       "    <tr>\n",
       "      <th>26792</th>\n",
       "      <td>/home/mr1142/Documents/Data/neumonia_covid/all...</td>\n",
       "      <td>00027648_005.png</td>\n",
       "      <td>0</td>\n",
       "      <td>0</td>\n",
       "      <td>0</td>\n",
       "      <td>Lung_Opacity</td>\n",
       "      <td>covid</td>\n",
       "      <td>[[42  7  0 ...  0  0  0]\\n [39  7  0 ...  0  0...</td>\n",
       "    </tr>\n",
       "  </tbody>\n",
       "</table>\n",
       "<p>26793 rows × 8 columns</p>\n",
       "</div>"
      ],
      "text/plain": [
       "                                                    path  \\\n",
       "0      /home/mr1142/Documents/Data/chest_xray/train/P...   \n",
       "1      /home/mr1142/Documents/Data/chest_xray/train/P...   \n",
       "2      /home/mr1142/Documents/Data/chest_xray/train/P...   \n",
       "3      /home/mr1142/Documents/Data/chest_xray/train/P...   \n",
       "4      /home/mr1142/Documents/Data/chest_xray/train/P...   \n",
       "...                                                  ...   \n",
       "26788  /home/mr1142/Documents/Data/neumonia_covid/all...   \n",
       "26789  /home/mr1142/Documents/Data/neumonia_covid/all...   \n",
       "26790  /home/mr1142/Documents/Data/neumonia_covid/all...   \n",
       "26791  /home/mr1142/Documents/Data/neumonia_covid/all...   \n",
       "26792  /home/mr1142/Documents/Data/neumonia_covid/all...   \n",
       "\n",
       "                            img_name  normal  viral  bacteria         class  \\\n",
       "0      person1384_bacteria_3522.jpeg       0      0         1     bacterial   \n",
       "1       person783_bacteria_2687.jpeg       0      0         1     bacterial   \n",
       "2      person1619_bacteria_4268.jpeg       0      0         1     bacterial   \n",
       "3          person551_virus_1091.jpeg       0      1         0         viral   \n",
       "4          person907_virus_1563.jpeg       0      1         0         viral   \n",
       "...                              ...     ...    ...       ...           ...   \n",
       "26788               00012158_021.png       0      0         0  Lung_Opacity   \n",
       "26789               00001855_008.png       0      0         0  Lung_Opacity   \n",
       "26790               00011472_001.png       0      0         0  Lung_Opacity   \n",
       "26791               00014393_007.png       0      0         0  Lung_Opacity   \n",
       "26792               00027648_005.png       0      0         0  Lung_Opacity   \n",
       "\n",
       "      dataset                                              image  \n",
       "0         ped  [[28 20 27 ... 19 14 22]\\n [29 24 25 ... 15 15...  \n",
       "1         ped  [[0 0 0 ... 0 0 0]\\n [0 0 0 ... 0 0 0]\\n [0 0 ...  \n",
       "2         ped  [[19 19 19 ... 37 41 46]\\n [19 19 19 ... 37 41...  \n",
       "3         ped  [[  0   0 253 ...  26  24  15]\\n [  0   0 253 ...  \n",
       "4         ped  [[  0   0 255 ...   0   0   0]\\n [  0   0 255 ...  \n",
       "...       ...                                                ...  \n",
       "26788   covid  [[ 20  20  19 ...  22  28  32]\\n [ 20  20  19 ...  \n",
       "26789   covid  [[1 1 1 ... 1 1 1]\\n [1 1 1 ... 1 1 1]\\n [1 1 ...  \n",
       "26790   covid  [[245 241 232 ... 225 231 240]\\n [229 188 154 ...  \n",
       "26791   covid  [[144 141 140 ...   0   0   1]\\n [141 138 135 ...  \n",
       "26792   covid  [[42  7  0 ...  0  0  0]\\n [39  7  0 ...  0  0...  \n",
       "\n",
       "[26793 rows x 8 columns]"
      ]
     },
     "execution_count": 52,
     "metadata": {},
     "output_type": "execute_result"
    }
   ],
   "source": [
    "df"
   ]
  },
  {
   "cell_type": "code",
   "execution_count": 53,
   "id": "da2c89c4-b03e-468b-a7af-0b56f495dae9",
   "metadata": {},
   "outputs": [
    {
     "data": {
      "text/plain": [
       "array(['Lung_Opacity', 'bacterial', 'covid', 'normal', 'viral'],\n",
       "      dtype=object)"
      ]
     },
     "execution_count": 53,
     "metadata": {},
     "output_type": "execute_result"
    }
   ],
   "source": [
    "np.unique(df['class'])"
   ]
  },
  {
   "cell_type": "code",
   "execution_count": 54,
   "id": "c85fd5f0-1044-4af2-af4e-3312bea54bab",
   "metadata": {},
   "outputs": [
    {
     "name": "stdout",
     "output_type": "stream",
     "text": [
      "normal: 11885 (44%)\n",
      "pneumonia: 14908 (56%)\n",
      "viral: 1615 (6%)\n",
      "bacterial: 2752 (10%)\n",
      "lung opacity: 6151 (23%)\n",
      "covid: 4390 (16%)\n"
     ]
    }
   ],
   "source": [
    "print('normal: {} ({}%)'.format(len(np.where(df.normal == 1)[0]), \n",
    "                                round(len(np.where(df.normal == 1)[0])/len(df)*100),2))\n",
    "print('pneumonia: {} ({}%)'.format(len(np.where(df.normal == 0)[0]),\n",
    "                                   round(len(np.where(df.normal == 0)[0])/len(df)*100),2))\n",
    "print('viral: {} ({}%)'.format(len(np.where(df.viral == 1)[0]),\n",
    "                              round(len(np.where(df.viral == 1)[0])/len(df)*100),2))\n",
    "print('bacterial: {} ({}%)'.format(len(np.where(df.bacteria == 1)[0]),\n",
    "                                  round(len(np.where(df.bacteria == 1)[0])/len(df)*100),2))\n",
    "print('lung opacity: {} ({}%)'.format(len(np.where(df['class'] == 'Lung_Opacity')[0]),\n",
    "                                     round(len(np.where(df['class'] == 'Lung_Opacity')[0])/len(df)*100),2))\n",
    "print('covid: {} ({}%)'.format(len(np.where(df['class'] == 'covid')[0]),\n",
    "                              round(len(np.where(df['class'] == 'covid')[0])/len(df)*100),2))"
   ]
  },
  {
   "cell_type": "code",
   "execution_count": 56,
   "id": "1e75e50b-591a-4a91-8d8c-7cd35b584086",
   "metadata": {},
   "outputs": [
    {
     "name": "stderr",
     "output_type": "stream",
     "text": [
      "100%|██████████████████████████████████████████████████████| 26793/26793 [04:23<00:00, 101.65it/s]\n"
     ]
    }
   ],
   "source": [
    "for i, p in enumerate(tqdm(df.path)):\n",
    "    shutil.copyfile(p, os.path.join(path, 'all_images', df.img_name[i]))"
   ]
  },
  {
   "cell_type": "markdown",
   "id": "350e9ef1-0855-4fdd-8b1b-8345704ccc12",
   "metadata": {},
   "source": [
    "# Split"
   ]
  },
  {
   "cell_type": "code",
   "execution_count": 57,
   "id": "69f01d90-893a-41a5-9686-936c8c58e9ce",
   "metadata": {},
   "outputs": [],
   "source": [
    "test = df.sample(frac = 0.2)\n",
    "val = df.drop(test.index).reset_index(drop = True)\n",
    "test = test.reset_index(drop = True)"
   ]
  },
  {
   "cell_type": "code",
   "execution_count": 58,
   "id": "28f7b00a-9808-4085-b4b0-20acdb5c4e5e",
   "metadata": {},
   "outputs": [
    {
     "name": "stdout",
     "output_type": "stream",
     "text": [
      "normal: 2362 (44%)\n",
      "pneumonia: 2997 (56%)\n",
      "viral: 312 (6%)\n",
      "bacterial: 560 (10%)\n",
      "lung opacity: 1213 (23%)\n",
      "covid: 912 (17%)\n"
     ]
    }
   ],
   "source": [
    "print('normal: {} ({}%)'.format(len(np.where(test.normal == 1)[0]), \n",
    "                                round(len(np.where(test.normal == 1)[0])/len(test)*100),2))\n",
    "print('pneumonia: {} ({}%)'.format(len(np.where(test.normal == 0)[0]),\n",
    "                                   round(len(np.where(test.normal == 0)[0])/len(test)*100),2))\n",
    "print('viral: {} ({}%)'.format(len(np.where(test.viral == 1)[0]),\n",
    "                              round(len(np.where(test.viral == 1)[0])/len(test)*100),2))\n",
    "print('bacterial: {} ({}%)'.format(len(np.where(test.bacteria == 1)[0]),\n",
    "                                  round(len(np.where(test.bacteria == 1)[0])/len(test)*100),2))\n",
    "print('lung opacity: {} ({}%)'.format(len(np.where(test['class'] == 'Lung_Opacity')[0]),\n",
    "                                     round(len(np.where(test['class'] == 'Lung_Opacity')[0])/len(test)*100),2))\n",
    "print('covid: {} ({}%)'.format(len(np.where(test['class'] == 'covid')[0]),\n",
    "                              round(len(np.where(test['class'] == 'covid')[0])/len(test)*100),2))"
   ]
  },
  {
   "cell_type": "code",
   "execution_count": 59,
   "id": "d98b1451-ba60-4206-bf39-2a7dc4acbf8a",
   "metadata": {},
   "outputs": [
    {
     "name": "stdout",
     "output_type": "stream",
     "text": [
      "normal: 9523 (44%)\n",
      "pneumonia: 11911 (56%)\n",
      "viral: 1303 (6%)\n",
      "bacterial: 2192 (10%)\n",
      "lung opacity: 4938 (23%)\n",
      "covid: 3478 (16%)\n"
     ]
    }
   ],
   "source": [
    "print('normal: {} ({}%)'.format(len(np.where(val.normal == 1)[0]), \n",
    "                                round(len(np.where(val.normal == 1)[0])/len(val)*100),2))\n",
    "print('pneumonia: {} ({}%)'.format(len(np.where(val.normal == 0)[0]),\n",
    "                                   round(len(np.where(val.normal == 0)[0])/len(val)*100),2))\n",
    "print('viral: {} ({}%)'.format(len(np.where(val.viral == 1)[0]),\n",
    "                              round(len(np.where(val.viral == 1)[0])/len(val)*100),2))\n",
    "print('bacterial: {} ({}%)'.format(len(np.where(val.bacteria == 1)[0]),\n",
    "                                  round(len(np.where(val.bacteria == 1)[0])/len(val)*100),2))\n",
    "print('lung opacity: {} ({}%)'.format(len(np.where(val['class'] == 'Lung_Opacity')[0]),\n",
    "                                     round(len(np.where(val['class'] == 'Lung_Opacity')[0])/len(val)*100),2))\n",
    "print('covid: {} ({}%)'.format(len(np.where(val['class'] == 'covid')[0]),\n",
    "                              round(len(np.where(val['class'] == 'covid')[0])/len(val)*100),2))"
   ]
  },
  {
   "cell_type": "code",
   "execution_count": 64,
   "id": "fe949ad2-cd1c-4ad8-93e1-552037c88173",
   "metadata": {},
   "outputs": [
    {
     "name": "stderr",
     "output_type": "stream",
     "text": [
      "100%|█████████████████████████████████████████████████████████| 5359/5359 [01:29<00:00, 59.98it/s]\n",
      "100%|███████████████████████████████████████████████████████| 21434/21434 [04:10<00:00, 85.40it/s]\n"
     ]
    }
   ],
   "source": [
    "for i, p in enumerate(tqdm(test.path)):\n",
    "    shutil.copyfile(p, os.path.join(path, 'test', test.img_name[i]))\n",
    "for i, p in enumerate(tqdm(val.path)):\n",
    "    shutil.copyfile(p, os.path.join(path, 'val', val.img_name[i]))"
   ]
  },
  {
   "cell_type": "code",
   "execution_count": 61,
   "id": "b22b3669-7590-4a07-a554-0644e30ae62f",
   "metadata": {},
   "outputs": [],
   "source": [
    "test.to_csv(os.path.join(path, 'test', 'data.csv'), index = False)\n",
    "val.to_csv(os.path.join(path, 'val', 'data.csv'), index = False)"
   ]
  },
  {
   "cell_type": "code",
   "execution_count": 36,
   "id": "ee6df204-7477-46e1-9cf2-f6d539e987f7",
   "metadata": {},
   "outputs": [],
   "source": [
    "# test = pd.read_csv(os.path.join(path, 'test', 'data.csv'))\n",
    "# val = pd.read_csv(os.path.join(path, 'val', 'data.csv'))"
   ]
  },
  {
   "cell_type": "markdown",
   "id": "b2d88aeb-a2e7-4549-b01a-bae68c627231",
   "metadata": {},
   "source": [
    "# Add csvs"
   ]
  },
  {
   "cell_type": "code",
   "execution_count": 62,
   "id": "ccb1fa0d-15fb-4c21-bb47-8c8b38cd78dc",
   "metadata": {},
   "outputs": [],
   "source": [
    "csv = pd.read_csv('/home/mr1142/Documents/Data/global_pneumonia_validation/data/results_comparation.csv')\n",
    "csv = csv.drop(csv.index)\n",
    "csv.to_csv(os.path.join(path, 'data', 'results_comparation.csv'), index = False)"
   ]
  },
  {
   "cell_type": "code",
   "execution_count": 63,
   "id": "5a900308-7e53-4cd5-ac99-0d13ae6bc1e6",
   "metadata": {},
   "outputs": [],
   "source": [
    "csv = pd.read_csv('/home/mr1142/Documents/Data/global_pneumonia_validation/test/results_comparation.csv')\n",
    "csv = csv.drop(csv.index)\n",
    "csv.to_csv(os.path.join(path, 'test', 'results_comparation.csv'), index = False)\n",
    "csv.to_csv(os.path.join(path, 'val', 'results_comparation.csv'), index = False)"
   ]
  },
  {
   "cell_type": "code",
   "execution_count": null,
   "id": "fdbfe4a6-304d-4dc7-bf87-9964487f6f0d",
   "metadata": {},
   "outputs": [],
   "source": []
  }
 ],
 "metadata": {
  "kernelspec": {
   "display_name": "Python 3 (ipykernel)",
   "language": "python",
   "name": "python3"
  },
  "language_info": {
   "codemirror_mode": {
    "name": "ipython",
    "version": 3
   },
   "file_extension": ".py",
   "mimetype": "text/x-python",
   "name": "python",
   "nbconvert_exporter": "python",
   "pygments_lexer": "ipython3",
   "version": "3.10.6"
  }
 },
 "nbformat": 4,
 "nbformat_minor": 5
}
