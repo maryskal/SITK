{
 "cells": [
  {
   "cell_type": "code",
   "execution_count": 43,
   "id": "08ff5dee-521c-428a-b9a7-8981580b4e6a",
   "metadata": {},
   "outputs": [],
   "source": [
    "import os\n",
    "import pandas as pd\n",
    "import numpy as np\n",
    "import re\n",
    "import seaborn as sns\n",
    "import matplotlib.pyplot as plt"
   ]
  },
  {
   "cell_type": "markdown",
   "id": "ab4311ed-7348-4cb7-a2fc-08049e4f1fc9",
   "metadata": {},
   "source": [
    "# EXTERNAL VALIDATION OVER DEFINITIVOS"
   ]
  },
  {
   "cell_type": "code",
   "execution_count": 44,
   "id": "1451e15a-7cdb-4655-b7c3-a8ef7cc75b42",
   "metadata": {},
   "outputs": [],
   "source": [
    "path = '/home/mr1142/Documents/Data/global_pneumonia_selection/val'\n",
    "real = pd.read_csv(os.path.join(path, 'results_comparation.csv'))"
   ]
  },
  {
   "cell_type": "code",
   "execution_count": 45,
   "id": "b43e7da4-d030-4bfa-b715-17d77ad43490",
   "metadata": {},
   "outputs": [],
   "source": [
    "prueba = [i for i in real.index if bool(re.search('prueba', real.name[i]))]\n",
    "completo = [i for i in real.index if bool(re.search('prueba', real.name[i]))]\n",
    "definitivo = [i for i in real.index if bool(re.search('DEFINITIVO', real.name[i]))]"
   ]
  },
  {
   "cell_type": "code",
   "execution_count": 46,
   "id": "3ee86175-54df-4091-ba79-7b4fb4793a4f",
   "metadata": {},
   "outputs": [],
   "source": [
    "real = real.iloc[definitivo]"
   ]
  },
  {
   "cell_type": "markdown",
   "id": "d5e136ae-537b-4359-94ec-e16385abc394",
   "metadata": {
    "tags": []
   },
   "source": [
    "## Extraer variables"
   ]
  },
  {
   "cell_type": "code",
   "execution_count": 47,
   "id": "74f9ef21-8840-4ebc-842b-0667fdb4fc07",
   "metadata": {},
   "outputs": [],
   "source": [
    "real['fine'] = [int(re.split('_', real.name[i])[-4][-2:])/10 for i in real.index]\n",
    "real['fine'] = [1 if real.fine[i] == 0 else real.fine[i] for i in real.index]\n",
    "real['lr'] = [re.split('_', real.name[i])[-2][3:] for i in real.index]\n",
    "real['lr'] = [1e-5 if real.lr[i] == '-05' else float('0.' + real.lr[i]) for i in real.index]\n",
    "real['auc_internal'] = [float(real.name[i][-2:])/100 for i in real.index]"
   ]
  },
  {
   "cell_type": "code",
   "execution_count": 48,
   "id": "3a37fec1-ed22-4aca-9ccd-29791802aae5",
   "metadata": {},
   "outputs": [],
   "source": [
    "real['mask'] = [1 if bool(re.search('mask', real.name[i])) else 0 for i in real.index]\n",
    "real['modelo'] = ['EffNet' if bool(re.search('EffNet', real.name[i])) else 'Xception' if bool(re.search('Xception', real.name[i])) else 'IncResNet' for i in real.index]\n",
    "real['layer'] = [1 if bool(re.search('layer', real.name[i])) else 0 for i in real.index]"
   ]
  },
  {
   "cell_type": "code",
   "execution_count": 49,
   "id": "ce947a99-df9c-4405-84f4-4d4891a741ae",
   "metadata": {},
   "outputs": [
    {
     "data": {
      "text/html": [
       "<div>\n",
       "<style scoped>\n",
       "    .dataframe tbody tr th:only-of-type {\n",
       "        vertical-align: middle;\n",
       "    }\n",
       "\n",
       "    .dataframe tbody tr th {\n",
       "        vertical-align: top;\n",
       "    }\n",
       "\n",
       "    .dataframe thead th {\n",
       "        text-align: right;\n",
       "    }\n",
       "</style>\n",
       "<table border=\"1\" class=\"dataframe\">\n",
       "  <thead>\n",
       "    <tr style=\"text-align: right;\">\n",
       "      <th></th>\n",
       "      <th>1</th>\n",
       "      <th>0</th>\n",
       "    </tr>\n",
       "  </thead>\n",
       "  <tbody>\n",
       "    <tr>\n",
       "      <th>name</th>\n",
       "      <td>DEFINITIVO_2_mask_Xception_fine-04_batch-8_lr-...</td>\n",
       "      <td>DEFINITIVO_1_05_Xception_fine-05_batch-8_lr-00...</td>\n",
       "    </tr>\n",
       "    <tr>\n",
       "      <th>auc</th>\n",
       "      <td>0.832243</td>\n",
       "      <td>0.903657</td>\n",
       "    </tr>\n",
       "    <tr>\n",
       "      <th>younden</th>\n",
       "      <td>0.747611</td>\n",
       "      <td>0.513026</td>\n",
       "    </tr>\n",
       "    <tr>\n",
       "      <th>pr_max</th>\n",
       "      <td>0.037177</td>\n",
       "      <td>0.40275</td>\n",
       "    </tr>\n",
       "    <tr>\n",
       "      <th>pr_cut</th>\n",
       "      <td>0</td>\n",
       "      <td>0</td>\n",
       "    </tr>\n",
       "    <tr>\n",
       "      <th>f1_score_younden</th>\n",
       "      <td>0.740324</td>\n",
       "      <td>0.832193</td>\n",
       "    </tr>\n",
       "    <tr>\n",
       "      <th>precision_score_younden</th>\n",
       "      <td>0.76134</td>\n",
       "      <td>0.837534</td>\n",
       "    </tr>\n",
       "    <tr>\n",
       "      <th>recall_score_younden</th>\n",
       "      <td>0.740552</td>\n",
       "      <td>0.831669</td>\n",
       "    </tr>\n",
       "    <tr>\n",
       "      <th>accuracy_score_younden</th>\n",
       "      <td>0.740552</td>\n",
       "      <td>0.831669</td>\n",
       "    </tr>\n",
       "    <tr>\n",
       "      <th>f1_score_pr_max</th>\n",
       "      <td>0.695263</td>\n",
       "      <td>0.827922</td>\n",
       "    </tr>\n",
       "    <tr>\n",
       "      <th>precision_score_pr_max</th>\n",
       "      <td>0.783433</td>\n",
       "      <td>0.838416</td>\n",
       "    </tr>\n",
       "    <tr>\n",
       "      <th>recall_score_pr_max</th>\n",
       "      <td>0.705375</td>\n",
       "      <td>0.82747</td>\n",
       "    </tr>\n",
       "    <tr>\n",
       "      <th>accuracy_score_pr_max</th>\n",
       "      <td>0.705375</td>\n",
       "      <td>0.82747</td>\n",
       "    </tr>\n",
       "    <tr>\n",
       "      <th>f1_score_pr_cut</th>\n",
       "      <td>0.273348</td>\n",
       "      <td>0.273348</td>\n",
       "    </tr>\n",
       "    <tr>\n",
       "      <th>precision_score_pr_cut</th>\n",
       "      <td>0.197397</td>\n",
       "      <td>0.197397</td>\n",
       "    </tr>\n",
       "    <tr>\n",
       "      <th>recall_score_pr_cut</th>\n",
       "      <td>0.444294</td>\n",
       "      <td>0.444294</td>\n",
       "    </tr>\n",
       "    <tr>\n",
       "      <th>accuracy_score_pr_cut</th>\n",
       "      <td>0.444294</td>\n",
       "      <td>0.444294</td>\n",
       "    </tr>\n",
       "    <tr>\n",
       "      <th>f1_score_0.5</th>\n",
       "      <td>0.734584</td>\n",
       "      <td>0.831263</td>\n",
       "    </tr>\n",
       "    <tr>\n",
       "      <th>precision_score_0.5</th>\n",
       "      <td>0.767351</td>\n",
       "      <td>0.837187</td>\n",
       "    </tr>\n",
       "    <tr>\n",
       "      <th>recall_score_0.5</th>\n",
       "      <td>0.73612</td>\n",
       "      <td>0.830736</td>\n",
       "    </tr>\n",
       "    <tr>\n",
       "      <th>accuracy_score_0.5</th>\n",
       "      <td>0.73612</td>\n",
       "      <td>0.830736</td>\n",
       "    </tr>\n",
       "    <tr>\n",
       "      <th>f1_score_max</th>\n",
       "      <td>0.732519</td>\n",
       "      <td>0.828368</td>\n",
       "    </tr>\n",
       "    <tr>\n",
       "      <th>precision_score_max</th>\n",
       "      <td>0.766375</td>\n",
       "      <td>0.835578</td>\n",
       "    </tr>\n",
       "    <tr>\n",
       "      <th>recall_score_max</th>\n",
       "      <td>0.734207</td>\n",
       "      <td>0.827844</td>\n",
       "    </tr>\n",
       "    <tr>\n",
       "      <th>accuracy_score_max</th>\n",
       "      <td>0.734207</td>\n",
       "      <td>0.827844</td>\n",
       "    </tr>\n",
       "    <tr>\n",
       "      <th>fine</th>\n",
       "      <td>0.4</td>\n",
       "      <td>0.5</td>\n",
       "    </tr>\n",
       "    <tr>\n",
       "      <th>lr</th>\n",
       "      <td>0.0001</td>\n",
       "      <td>0.0001</td>\n",
       "    </tr>\n",
       "    <tr>\n",
       "      <th>auc_internal</th>\n",
       "      <td>0.99</td>\n",
       "      <td>0.99</td>\n",
       "    </tr>\n",
       "    <tr>\n",
       "      <th>mask</th>\n",
       "      <td>1</td>\n",
       "      <td>0</td>\n",
       "    </tr>\n",
       "    <tr>\n",
       "      <th>modelo</th>\n",
       "      <td>Xception</td>\n",
       "      <td>Xception</td>\n",
       "    </tr>\n",
       "    <tr>\n",
       "      <th>layer</th>\n",
       "      <td>0</td>\n",
       "      <td>0</td>\n",
       "    </tr>\n",
       "  </tbody>\n",
       "</table>\n",
       "</div>"
      ],
      "text/plain": [
       "                                                                         1  \\\n",
       "name                     DEFINITIVO_2_mask_Xception_fine-04_batch-8_lr-...   \n",
       "auc                                                               0.832243   \n",
       "younden                                                           0.747611   \n",
       "pr_max                                                            0.037177   \n",
       "pr_cut                                                                   0   \n",
       "f1_score_younden                                                  0.740324   \n",
       "precision_score_younden                                            0.76134   \n",
       "recall_score_younden                                              0.740552   \n",
       "accuracy_score_younden                                            0.740552   \n",
       "f1_score_pr_max                                                   0.695263   \n",
       "precision_score_pr_max                                            0.783433   \n",
       "recall_score_pr_max                                               0.705375   \n",
       "accuracy_score_pr_max                                             0.705375   \n",
       "f1_score_pr_cut                                                   0.273348   \n",
       "precision_score_pr_cut                                            0.197397   \n",
       "recall_score_pr_cut                                               0.444294   \n",
       "accuracy_score_pr_cut                                             0.444294   \n",
       "f1_score_0.5                                                      0.734584   \n",
       "precision_score_0.5                                               0.767351   \n",
       "recall_score_0.5                                                   0.73612   \n",
       "accuracy_score_0.5                                                 0.73612   \n",
       "f1_score_max                                                      0.732519   \n",
       "precision_score_max                                               0.766375   \n",
       "recall_score_max                                                  0.734207   \n",
       "accuracy_score_max                                                0.734207   \n",
       "fine                                                                   0.4   \n",
       "lr                                                                  0.0001   \n",
       "auc_internal                                                          0.99   \n",
       "mask                                                                     1   \n",
       "modelo                                                            Xception   \n",
       "layer                                                                    0   \n",
       "\n",
       "                                                                         0  \n",
       "name                     DEFINITIVO_1_05_Xception_fine-05_batch-8_lr-00...  \n",
       "auc                                                               0.903657  \n",
       "younden                                                           0.513026  \n",
       "pr_max                                                             0.40275  \n",
       "pr_cut                                                                   0  \n",
       "f1_score_younden                                                  0.832193  \n",
       "precision_score_younden                                           0.837534  \n",
       "recall_score_younden                                              0.831669  \n",
       "accuracy_score_younden                                            0.831669  \n",
       "f1_score_pr_max                                                   0.827922  \n",
       "precision_score_pr_max                                            0.838416  \n",
       "recall_score_pr_max                                                0.82747  \n",
       "accuracy_score_pr_max                                              0.82747  \n",
       "f1_score_pr_cut                                                   0.273348  \n",
       "precision_score_pr_cut                                            0.197397  \n",
       "recall_score_pr_cut                                               0.444294  \n",
       "accuracy_score_pr_cut                                             0.444294  \n",
       "f1_score_0.5                                                      0.831263  \n",
       "precision_score_0.5                                               0.837187  \n",
       "recall_score_0.5                                                  0.830736  \n",
       "accuracy_score_0.5                                                0.830736  \n",
       "f1_score_max                                                      0.828368  \n",
       "precision_score_max                                               0.835578  \n",
       "recall_score_max                                                  0.827844  \n",
       "accuracy_score_max                                                0.827844  \n",
       "fine                                                                   0.5  \n",
       "lr                                                                  0.0001  \n",
       "auc_internal                                                          0.99  \n",
       "mask                                                                     0  \n",
       "modelo                                                            Xception  \n",
       "layer                                                                    0  "
      ]
     },
     "execution_count": 49,
     "metadata": {},
     "output_type": "execute_result"
    }
   ],
   "source": [
    "real.sort_values('auc').transpose()"
   ]
  },
  {
   "cell_type": "code",
   "execution_count": 51,
   "id": "9b649600-8bcf-470a-b926-7e7b579fa73c",
   "metadata": {},
   "outputs": [
    {
     "name": "stdout",
     "output_type": "stream",
     "text": [
      "DEFINITIVO_1_05_Xception_fine-05_batch-8_lr-0001_auc-99\n",
      "DEFINITIVO_2_mask_Xception_fine-04_batch-8_lr-0001_auc-99\n"
     ]
    }
   ],
   "source": [
    "for name in real.name:\n",
    "    print(name)"
   ]
  },
  {
   "cell_type": "markdown",
   "id": "cc612e2d-5af1-4d1a-9333-f9a8f6c6ddba",
   "metadata": {},
   "source": [
    "## Cada modelo"
   ]
  },
  {
   "cell_type": "code",
   "execution_count": 37,
   "id": "96b90aa8-ad65-46f8-9c7d-a5db399e3a4f",
   "metadata": {},
   "outputs": [],
   "source": [
    "import os\n",
    "import cv2\n",
    "import json"
   ]
  },
  {
   "cell_type": "code",
   "execution_count": 52,
   "id": "769faacd-81b1-4068-9186-a15052473535",
   "metadata": {},
   "outputs": [],
   "source": [
    "model_name = 'DEFINITIVO_2_mask_Xception_fine-04_batch-8_lr-0001_auc-99_external'"
   ]
  },
  {
   "cell_type": "code",
   "execution_count": 53,
   "id": "943d5885-c7a5-4181-b0c9-9b5ed48a0ff5",
   "metadata": {},
   "outputs": [],
   "source": [
    "p = os.path.join('/home/mr1142/Documents/Data/models/neumonia/validation_results', model_name)"
   ]
  },
  {
   "cell_type": "code",
   "execution_count": 54,
   "id": "c3d601ad-44e4-4f9e-bf88-e1b7aba8914e",
   "metadata": {},
   "outputs": [
    {
     "data": {
      "text/plain": [
       "['pred_rec_plot_.png', 'auc_plot_.png', 'pr_re_th_plot_.png']"
      ]
     },
     "execution_count": 54,
     "metadata": {},
     "output_type": "execute_result"
    }
   ],
   "source": [
    "os.listdir(p)"
   ]
  },
  {
   "cell_type": "code",
   "execution_count": 55,
   "id": "c5d23c29-98d0-4c5a-ad7b-0eac58cb1de1",
   "metadata": {},
   "outputs": [
    {
     "data": {
      "text/plain": [
       "<matplotlib.image.AxesImage at 0x7fe665161600>"
      ]
     },
     "execution_count": 55,
     "metadata": {},
     "output_type": "execute_result"
    },
    {
     "data": {
      "image/png": "[encoded data removed]",
      "text/plain": [
       "<Figure size 1000x1000 with 1 Axes>"
      ]
     },
     "metadata": {},
     "output_type": "display_data"
    }
   ],
   "source": [
    "img = cv2.imread(os.path.join(p, 'auc_plot_.png'))\n",
    "plt.figure(figsize=(10,10))\n",
    "plt.imshow(img)"
   ]
  },
  {
   "cell_type": "code",
   "execution_count": null,
   "id": "750dde20-0cc9-4dd9-9581-6afa00e8791b",
   "metadata": {},
   "outputs": [],
   "source": []
  }
 ],
 "metadata": {
  "kernelspec": {
   "display_name": "Python 3 (ipykernel)",
   "language": "python",
   "name": "python3"
  },
  "language_info": {
   "codemirror_mode": {
    "name": "ipython",
    "version": 3
   },
   "file_extension": ".py",
   "mimetype": "text/x-python",
   "name": "python",
   "nbconvert_exporter": "python",
   "pygments_lexer": "ipython3",
   "version": "3.10.6"
  }
 },
 "nbformat": 4,
 "nbformat_minor": 5
}
