{
 "cells": [
  {
   "cell_type": "markdown",
   "id": "abda8d84-bacb-4a9d-94d0-1f030fb5f934",
   "metadata": {},
   "source": [
    "## completo_Xception_fine-05_batch-8_lr-0001_auc-99"
   ]
  },
  {
   "cell_type": "code",
   "execution_count": 3,
   "id": "b12ab24e-936c-4bfc-9fe8-b34734b096ec",
   "metadata": {},
   "outputs": [],
   "source": [
    "import matplotlib.pyplot as plt\n",
    "import pandas as pd\n",
    "import os\n",
    "import cv2\n",
    "import json"
   ]
  },
  {
   "cell_type": "code",
   "execution_count": 4,
   "id": "7b870bd4-3347-41dd-bb3b-1755aa47cbef",
   "metadata": {},
   "outputs": [],
   "source": [
    "model_name = 'completo_Xception_fine-05_batch-8_lr-0001_auc-99'"
   ]
  },
  {
   "cell_type": "code",
   "execution_count": 368,
   "id": "f1b7bb91-2417-4b0d-856a-e8b9df67a092",
   "metadata": {},
   "outputs": [],
   "source": [
    "model_name = 'completo_layer_mask_Xception_fine-05_batch-8_lr-0001_auc-99'"
   ]
  },
  {
   "cell_type": "markdown",
   "id": "34e9e692-9046-47e1-a51b-994ce01be03b",
   "metadata": {},
   "source": [
    "## Train"
   ]
  },
  {
   "cell_type": "code",
   "execution_count": 369,
   "id": "2e88155f-8ef6-4add-92c7-c73e1f959f7e",
   "metadata": {},
   "outputs": [],
   "source": [
    "path = '/home/mr1142/Documents/Data/models/neumonia/training_data/train_max_completo.csv'\n",
    "df = pd.read_csv(path)"
   ]
  },
  {
   "cell_type": "code",
   "execution_count": 370,
   "id": "59f21b22-ecbc-427c-b578-96f8f61e8837",
   "metadata": {},
   "outputs": [
    {
     "data": {
      "text/plain": [
       "3    completo_2_Xception_fine-03_batch-8_lr-0001_au...\n",
       "Name: name, dtype: object"
      ]
     },
     "execution_count": 370,
     "metadata": {},
     "output_type": "execute_result"
    }
   ],
   "source": [
    "df.name[df.val_auc == max(df.val_auc)]"
   ]
  },
  {
   "cell_type": "code",
   "execution_count": 371,
   "id": "3d6adf6d-ef9e-4a7b-919b-f538bbb9f742",
   "metadata": {},
   "outputs": [
    {
     "data": {
      "text/html": [
       "<div>\n",
       "<style scoped>\n",
       "    .dataframe tbody tr th:only-of-type {\n",
       "        vertical-align: middle;\n",
       "    }\n",
       "\n",
       "    .dataframe tbody tr th {\n",
       "        vertical-align: top;\n",
       "    }\n",
       "\n",
       "    .dataframe thead th {\n",
       "        text-align: right;\n",
       "    }\n",
       "</style>\n",
       "<table border=\"1\" class=\"dataframe\">\n",
       "  <thead>\n",
       "    <tr style=\"text-align: right;\">\n",
       "      <th></th>\n",
       "      <th>name</th>\n",
       "      <th>modelo</th>\n",
       "      <th>fine</th>\n",
       "      <th>batch</th>\n",
       "      <th>lr</th>\n",
       "      <th>mask</th>\n",
       "      <th>trainprop</th>\n",
       "      <th>pixels</th>\n",
       "      <th>subset</th>\n",
       "      <th>loss</th>\n",
       "      <th>binary_accuracy</th>\n",
       "      <th>precision</th>\n",
       "      <th>auc</th>\n",
       "      <th>val_loss</th>\n",
       "      <th>val_binary_accuracy</th>\n",
       "      <th>val_precision</th>\n",
       "      <th>val_auc</th>\n",
       "    </tr>\n",
       "  </thead>\n",
       "  <tbody>\n",
       "    <tr>\n",
       "      <th>11</th>\n",
       "      <td>completo_layer_mask_Xception_fine-05_batch-8_l...</td>\n",
       "      <td>Xception</td>\n",
       "      <td>0.5</td>\n",
       "      <td>8</td>\n",
       "      <td>0.0001</td>\n",
       "      <td>True</td>\n",
       "      <td>0.8</td>\n",
       "      <td>512</td>\n",
       "      <td>False</td>\n",
       "      <td>0.417085</td>\n",
       "      <td>0.994963</td>\n",
       "      <td>0.992519</td>\n",
       "      <td>0.999267</td>\n",
       "      <td>0.311366</td>\n",
       "      <td>0.973305</td>\n",
       "      <td>0.959956</td>\n",
       "      <td>0.992633</td>\n",
       "    </tr>\n",
       "  </tbody>\n",
       "</table>\n",
       "</div>"
      ],
      "text/plain": [
       "                                                 name    modelo  fine  batch  \\\n",
       "11  completo_layer_mask_Xception_fine-05_batch-8_l...  Xception   0.5      8   \n",
       "\n",
       "        lr  mask  trainprop  pixels subset      loss  binary_accuracy  \\\n",
       "11  0.0001  True        0.8     512  False  0.417085         0.994963   \n",
       "\n",
       "    precision       auc  val_loss  val_binary_accuracy  val_precision  \\\n",
       "11   0.992519  0.999267  0.311366             0.973305       0.959956   \n",
       "\n",
       "     val_auc  \n",
       "11  0.992633  "
      ]
     },
     "execution_count": 371,
     "metadata": {},
     "output_type": "execute_result"
    }
   ],
   "source": [
    "df[df.name == model_name]"
   ]
  },
  {
   "cell_type": "markdown",
   "id": "791c162a-1cf5-4c89-8df6-5cfc93727188",
   "metadata": {},
   "source": [
    "## Evaluate"
   ]
  },
  {
   "cell_type": "code",
   "execution_count": 372,
   "id": "475f82ad-5046-4279-a554-40c425f84abf",
   "metadata": {},
   "outputs": [],
   "source": [
    "path = '/home/mr1142/Documents/Data/models/neumonia/validation_results/image_class_evaluation_completo.csv'\n",
    "df = pd.read_csv(path)"
   ]
  },
  {
   "cell_type": "code",
   "execution_count": 373,
   "id": "c445c0af-15be-4076-94bc-b1db10a35773",
   "metadata": {},
   "outputs": [
    {
     "data": {
      "text/plain": [
       "2    completo_2_Xception_fine-03_batch-8_lr-0001_au...\n",
       "Name: nombre, dtype: object"
      ]
     },
     "execution_count": 373,
     "metadata": {},
     "output_type": "execute_result"
    }
   ],
   "source": [
    "df.nombre[df.auc == max(df.auc)]"
   ]
  },
  {
   "cell_type": "code",
   "execution_count": 374,
   "id": "c7396111-d9e2-4965-8b6d-f959e15f849a",
   "metadata": {},
   "outputs": [
    {
     "data": {
      "text/html": [
       "<div>\n",
       "<style scoped>\n",
       "    .dataframe tbody tr th:only-of-type {\n",
       "        vertical-align: middle;\n",
       "    }\n",
       "\n",
       "    .dataframe tbody tr th {\n",
       "        vertical-align: top;\n",
       "    }\n",
       "\n",
       "    .dataframe thead th {\n",
       "        text-align: right;\n",
       "    }\n",
       "</style>\n",
       "<table border=\"1\" class=\"dataframe\">\n",
       "  <thead>\n",
       "    <tr style=\"text-align: right;\">\n",
       "      <th></th>\n",
       "      <th>nombre</th>\n",
       "      <th>loss</th>\n",
       "      <th>binary_accuracy</th>\n",
       "      <th>precision</th>\n",
       "      <th>auc</th>\n",
       "    </tr>\n",
       "  </thead>\n",
       "  <tbody>\n",
       "    <tr>\n",
       "      <th>9</th>\n",
       "      <td>completo_layer_mask_Xception_fine-05_batch-8_l...</td>\n",
       "      <td>0.152518</td>\n",
       "      <td>0.964684</td>\n",
       "      <td>0.947024</td>\n",
       "      <td>0.992633</td>\n",
       "    </tr>\n",
       "  </tbody>\n",
       "</table>\n",
       "</div>"
      ],
      "text/plain": [
       "                                              nombre      loss  \\\n",
       "9  completo_layer_mask_Xception_fine-05_batch-8_l...  0.152518   \n",
       "\n",
       "   binary_accuracy  precision       auc  \n",
       "9         0.964684   0.947024  0.992633  "
      ]
     },
     "execution_count": 374,
     "metadata": {},
     "output_type": "execute_result"
    }
   ],
   "source": [
    "df[df.nombre == model_name + '_val']"
   ]
  },
  {
   "cell_type": "code",
   "execution_count": 375,
   "id": "a4d2428c-1034-487e-9aa3-e823ededfded",
   "metadata": {},
   "outputs": [
    {
     "data": {
      "text/html": [
       "<div>\n",
       "<style scoped>\n",
       "    .dataframe tbody tr th:only-of-type {\n",
       "        vertical-align: middle;\n",
       "    }\n",
       "\n",
       "    .dataframe tbody tr th {\n",
       "        vertical-align: top;\n",
       "    }\n",
       "\n",
       "    .dataframe thead th {\n",
       "        text-align: right;\n",
       "    }\n",
       "</style>\n",
       "<table border=\"1\" class=\"dataframe\">\n",
       "  <thead>\n",
       "    <tr style=\"text-align: right;\">\n",
       "      <th></th>\n",
       "      <th>nombre</th>\n",
       "      <th>loss</th>\n",
       "      <th>binary_accuracy</th>\n",
       "      <th>precision</th>\n",
       "      <th>auc</th>\n",
       "    </tr>\n",
       "  </thead>\n",
       "  <tbody>\n",
       "  </tbody>\n",
       "</table>\n",
       "</div>"
      ],
      "text/plain": [
       "Empty DataFrame\n",
       "Columns: [nombre, loss, binary_accuracy, precision, auc]\n",
       "Index: []"
      ]
     },
     "execution_count": 375,
     "metadata": {},
     "output_type": "execute_result"
    }
   ],
   "source": [
    "df[df.nombre == model_name + '_test']"
   ]
  },
  {
   "cell_type": "markdown",
   "id": "8662ce72-b1df-4292-bc34-697f50213c59",
   "metadata": {},
   "source": [
    "## Predict"
   ]
  },
  {
   "cell_type": "code",
   "execution_count": 376,
   "id": "2395b4d8-06e0-4ac6-9511-cd29814b4a0c",
   "metadata": {},
   "outputs": [],
   "source": [
    "path = '/home/mr1142/Documents/Data/models/neumonia/validation_results/prediction_validation_metrics_completo.csv'\n",
    "df = pd.read_csv(path)"
   ]
  },
  {
   "cell_type": "code",
   "execution_count": 377,
   "id": "b752f162-ce86-4bf3-8214-3c74bb3bbf78",
   "metadata": {},
   "outputs": [],
   "source": [
    "df['auc_mean'] = (df.auc_0 + df.auc_1 + df.auc_2)/3\n",
    "df['f1_score_mean'] = (df.f1_score_0 + df.f1_score_1 + df.f1_score_2)/3"
   ]
  },
  {
   "cell_type": "code",
   "execution_count": 378,
   "id": "04ab2ea6-065c-4a6c-bdbb-195f1014d242",
   "metadata": {},
   "outputs": [
    {
     "data": {
      "text/plain": [
       "3    completo_2_Xception_fine-05_batch-8_lr--05_auc-99\n",
       "Name: name, dtype: object"
      ]
     },
     "execution_count": 378,
     "metadata": {},
     "output_type": "execute_result"
    }
   ],
   "source": [
    "df.name[df.f1_score_mean == max(df.f1_score_mean)]"
   ]
  },
  {
   "cell_type": "code",
   "execution_count": 379,
   "id": "ae967771-a0c5-488b-956b-493c2d70f9ac",
   "metadata": {},
   "outputs": [
    {
     "data": {
      "text/html": [
       "<div>\n",
       "<style scoped>\n",
       "    .dataframe tbody tr th:only-of-type {\n",
       "        vertical-align: middle;\n",
       "    }\n",
       "\n",
       "    .dataframe tbody tr th {\n",
       "        vertical-align: top;\n",
       "    }\n",
       "\n",
       "    .dataframe thead th {\n",
       "        text-align: right;\n",
       "    }\n",
       "</style>\n",
       "<table border=\"1\" class=\"dataframe\">\n",
       "  <thead>\n",
       "    <tr style=\"text-align: right;\">\n",
       "      <th></th>\n",
       "      <th>9</th>\n",
       "    </tr>\n",
       "  </thead>\n",
       "  <tbody>\n",
       "    <tr>\n",
       "      <th>name</th>\n",
       "      <td>completo_layer_mask_Xception_fine-05_batch-8_l...</td>\n",
       "    </tr>\n",
       "    <tr>\n",
       "      <th>auc_0</th>\n",
       "      <td>0.994249</td>\n",
       "    </tr>\n",
       "    <tr>\n",
       "      <th>younden_0</th>\n",
       "      <td>0.244983</td>\n",
       "    </tr>\n",
       "    <tr>\n",
       "      <th>pr_max_0</th>\n",
       "      <td>0.244983</td>\n",
       "    </tr>\n",
       "    <tr>\n",
       "      <th>pr_cut_0</th>\n",
       "      <td>0.547058</td>\n",
       "    </tr>\n",
       "    <tr>\n",
       "      <th>auc_1</th>\n",
       "      <td>0.988158</td>\n",
       "    </tr>\n",
       "    <tr>\n",
       "      <th>younden_1</th>\n",
       "      <td>0.323701</td>\n",
       "    </tr>\n",
       "    <tr>\n",
       "      <th>pr_max_1</th>\n",
       "      <td>0.757991</td>\n",
       "    </tr>\n",
       "    <tr>\n",
       "      <th>pr_cut_1</th>\n",
       "      <td>0.619478</td>\n",
       "    </tr>\n",
       "    <tr>\n",
       "      <th>auc_2</th>\n",
       "      <td>0.99799</td>\n",
       "    </tr>\n",
       "    <tr>\n",
       "      <th>younden_2</th>\n",
       "      <td>0.07896</td>\n",
       "    </tr>\n",
       "    <tr>\n",
       "      <th>pr_max_2</th>\n",
       "      <td>0.155753</td>\n",
       "    </tr>\n",
       "    <tr>\n",
       "      <th>pr_cut_2</th>\n",
       "      <td>0.21486</td>\n",
       "    </tr>\n",
       "    <tr>\n",
       "      <th>f1_score_0</th>\n",
       "      <td>0.967774</td>\n",
       "    </tr>\n",
       "    <tr>\n",
       "      <th>precision_score_0</th>\n",
       "      <td>0.967809</td>\n",
       "    </tr>\n",
       "    <tr>\n",
       "      <th>recall_score_0</th>\n",
       "      <td>0.967747</td>\n",
       "    </tr>\n",
       "    <tr>\n",
       "      <th>accuracy_score_0</th>\n",
       "      <td>0.967747</td>\n",
       "    </tr>\n",
       "    <tr>\n",
       "      <th>f1_score_1</th>\n",
       "      <td>0.948248</td>\n",
       "    </tr>\n",
       "    <tr>\n",
       "      <th>precision_score_1</th>\n",
       "      <td>0.948501</td>\n",
       "    </tr>\n",
       "    <tr>\n",
       "      <th>recall_score_1</th>\n",
       "      <td>0.948115</td>\n",
       "    </tr>\n",
       "    <tr>\n",
       "      <th>accuracy_score_1</th>\n",
       "      <td>0.948115</td>\n",
       "    </tr>\n",
       "    <tr>\n",
       "      <th>f1_score_2</th>\n",
       "      <td>0.978106</td>\n",
       "    </tr>\n",
       "    <tr>\n",
       "      <th>precision_score_2</th>\n",
       "      <td>0.978231</td>\n",
       "    </tr>\n",
       "    <tr>\n",
       "      <th>recall_score_2</th>\n",
       "      <td>0.978186</td>\n",
       "    </tr>\n",
       "    <tr>\n",
       "      <th>accuracy_score_2</th>\n",
       "      <td>0.978186</td>\n",
       "    </tr>\n",
       "    <tr>\n",
       "      <th>f1_score[0, 1]</th>\n",
       "      <td>0.630429</td>\n",
       "    </tr>\n",
       "    <tr>\n",
       "      <th>precision_score[0, 1]</th>\n",
       "      <td>0.787762</td>\n",
       "    </tr>\n",
       "    <tr>\n",
       "      <th>recall_score[0, 1]</th>\n",
       "      <td>0.632907</td>\n",
       "    </tr>\n",
       "    <tr>\n",
       "      <th>accuracy_score[0, 1]</th>\n",
       "      <td>0.632907</td>\n",
       "    </tr>\n",
       "    <tr>\n",
       "      <th>f1_score[0, 2]</th>\n",
       "      <td>0.803688</td>\n",
       "    </tr>\n",
       "    <tr>\n",
       "      <th>precision_score[0, 2]</th>\n",
       "      <td>0.873515</td>\n",
       "    </tr>\n",
       "    <tr>\n",
       "      <th>recall_score[0, 2]</th>\n",
       "      <td>0.79838</td>\n",
       "    </tr>\n",
       "    <tr>\n",
       "      <th>accuracy_score[0, 2]</th>\n",
       "      <td>0.79838</td>\n",
       "    </tr>\n",
       "    <tr>\n",
       "      <th>f1_score[1, 2]</th>\n",
       "      <td>0.808554</td>\n",
       "    </tr>\n",
       "    <tr>\n",
       "      <th>precision_score[1, 2]</th>\n",
       "      <td>0.857735</td>\n",
       "    </tr>\n",
       "    <tr>\n",
       "      <th>recall_score[1, 2]</th>\n",
       "      <td>0.803054</td>\n",
       "    </tr>\n",
       "    <tr>\n",
       "      <th>accuracy_score[1, 2]</th>\n",
       "      <td>0.803054</td>\n",
       "    </tr>\n",
       "    <tr>\n",
       "      <th>auc_mean</th>\n",
       "      <td>0.993466</td>\n",
       "    </tr>\n",
       "    <tr>\n",
       "      <th>f1_score_mean</th>\n",
       "      <td>0.964709</td>\n",
       "    </tr>\n",
       "  </tbody>\n",
       "</table>\n",
       "</div>"
      ],
      "text/plain": [
       "                                                                       9\n",
       "name                   completo_layer_mask_Xception_fine-05_batch-8_l...\n",
       "auc_0                                                           0.994249\n",
       "younden_0                                                       0.244983\n",
       "pr_max_0                                                        0.244983\n",
       "pr_cut_0                                                        0.547058\n",
       "auc_1                                                           0.988158\n",
       "younden_1                                                       0.323701\n",
       "pr_max_1                                                        0.757991\n",
       "pr_cut_1                                                        0.619478\n",
       "auc_2                                                            0.99799\n",
       "younden_2                                                        0.07896\n",
       "pr_max_2                                                        0.155753\n",
       "pr_cut_2                                                         0.21486\n",
       "f1_score_0                                                      0.967774\n",
       "precision_score_0                                               0.967809\n",
       "recall_score_0                                                  0.967747\n",
       "accuracy_score_0                                                0.967747\n",
       "f1_score_1                                                      0.948248\n",
       "precision_score_1                                               0.948501\n",
       "recall_score_1                                                  0.948115\n",
       "accuracy_score_1                                                0.948115\n",
       "f1_score_2                                                      0.978106\n",
       "precision_score_2                                               0.978231\n",
       "recall_score_2                                                  0.978186\n",
       "accuracy_score_2                                                0.978186\n",
       "f1_score[0, 1]                                                  0.630429\n",
       "precision_score[0, 1]                                           0.787762\n",
       "recall_score[0, 1]                                              0.632907\n",
       "accuracy_score[0, 1]                                            0.632907\n",
       "f1_score[0, 2]                                                  0.803688\n",
       "precision_score[0, 2]                                           0.873515\n",
       "recall_score[0, 2]                                               0.79838\n",
       "accuracy_score[0, 2]                                             0.79838\n",
       "f1_score[1, 2]                                                  0.808554\n",
       "precision_score[1, 2]                                           0.857735\n",
       "recall_score[1, 2]                                              0.803054\n",
       "accuracy_score[1, 2]                                            0.803054\n",
       "auc_mean                                                        0.993466\n",
       "f1_score_mean                                                   0.964709"
      ]
     },
     "execution_count": 379,
     "metadata": {},
     "output_type": "execute_result"
    }
   ],
   "source": [
    "df[df.name == model_name].transpose()"
   ]
  },
  {
   "cell_type": "code",
   "execution_count": 380,
   "id": "79de7d4d-3f2f-4a9d-8bb9-cb597bb4d488",
   "metadata": {},
   "outputs": [
    {
     "data": {
      "text/html": [
       "<div>\n",
       "<style scoped>\n",
       "    .dataframe tbody tr th:only-of-type {\n",
       "        vertical-align: middle;\n",
       "    }\n",
       "\n",
       "    .dataframe tbody tr th {\n",
       "        vertical-align: top;\n",
       "    }\n",
       "\n",
       "    .dataframe thead th {\n",
       "        text-align: right;\n",
       "    }\n",
       "</style>\n",
       "<table border=\"1\" class=\"dataframe\">\n",
       "  <thead>\n",
       "    <tr style=\"text-align: right;\">\n",
       "      <th></th>\n",
       "    </tr>\n",
       "  </thead>\n",
       "  <tbody>\n",
       "    <tr>\n",
       "      <th>name</th>\n",
       "    </tr>\n",
       "    <tr>\n",
       "      <th>auc_0</th>\n",
       "    </tr>\n",
       "    <tr>\n",
       "      <th>younden_0</th>\n",
       "    </tr>\n",
       "    <tr>\n",
       "      <th>pr_max_0</th>\n",
       "    </tr>\n",
       "    <tr>\n",
       "      <th>pr_cut_0</th>\n",
       "    </tr>\n",
       "    <tr>\n",
       "      <th>auc_1</th>\n",
       "    </tr>\n",
       "    <tr>\n",
       "      <th>younden_1</th>\n",
       "    </tr>\n",
       "    <tr>\n",
       "      <th>pr_max_1</th>\n",
       "    </tr>\n",
       "    <tr>\n",
       "      <th>pr_cut_1</th>\n",
       "    </tr>\n",
       "    <tr>\n",
       "      <th>auc_2</th>\n",
       "    </tr>\n",
       "    <tr>\n",
       "      <th>younden_2</th>\n",
       "    </tr>\n",
       "    <tr>\n",
       "      <th>pr_max_2</th>\n",
       "    </tr>\n",
       "    <tr>\n",
       "      <th>pr_cut_2</th>\n",
       "    </tr>\n",
       "    <tr>\n",
       "      <th>f1_score_0</th>\n",
       "    </tr>\n",
       "    <tr>\n",
       "      <th>precision_score_0</th>\n",
       "    </tr>\n",
       "    <tr>\n",
       "      <th>recall_score_0</th>\n",
       "    </tr>\n",
       "    <tr>\n",
       "      <th>accuracy_score_0</th>\n",
       "    </tr>\n",
       "    <tr>\n",
       "      <th>f1_score_1</th>\n",
       "    </tr>\n",
       "    <tr>\n",
       "      <th>precision_score_1</th>\n",
       "    </tr>\n",
       "    <tr>\n",
       "      <th>recall_score_1</th>\n",
       "    </tr>\n",
       "    <tr>\n",
       "      <th>accuracy_score_1</th>\n",
       "    </tr>\n",
       "    <tr>\n",
       "      <th>f1_score_2</th>\n",
       "    </tr>\n",
       "    <tr>\n",
       "      <th>precision_score_2</th>\n",
       "    </tr>\n",
       "    <tr>\n",
       "      <th>recall_score_2</th>\n",
       "    </tr>\n",
       "    <tr>\n",
       "      <th>accuracy_score_2</th>\n",
       "    </tr>\n",
       "    <tr>\n",
       "      <th>f1_score[0, 1]</th>\n",
       "    </tr>\n",
       "    <tr>\n",
       "      <th>precision_score[0, 1]</th>\n",
       "    </tr>\n",
       "    <tr>\n",
       "      <th>recall_score[0, 1]</th>\n",
       "    </tr>\n",
       "    <tr>\n",
       "      <th>accuracy_score[0, 1]</th>\n",
       "    </tr>\n",
       "    <tr>\n",
       "      <th>f1_score[0, 2]</th>\n",
       "    </tr>\n",
       "    <tr>\n",
       "      <th>precision_score[0, 2]</th>\n",
       "    </tr>\n",
       "    <tr>\n",
       "      <th>recall_score[0, 2]</th>\n",
       "    </tr>\n",
       "    <tr>\n",
       "      <th>accuracy_score[0, 2]</th>\n",
       "    </tr>\n",
       "    <tr>\n",
       "      <th>f1_score[1, 2]</th>\n",
       "    </tr>\n",
       "    <tr>\n",
       "      <th>precision_score[1, 2]</th>\n",
       "    </tr>\n",
       "    <tr>\n",
       "      <th>recall_score[1, 2]</th>\n",
       "    </tr>\n",
       "    <tr>\n",
       "      <th>accuracy_score[1, 2]</th>\n",
       "    </tr>\n",
       "    <tr>\n",
       "      <th>auc_mean</th>\n",
       "    </tr>\n",
       "    <tr>\n",
       "      <th>f1_score_mean</th>\n",
       "    </tr>\n",
       "  </tbody>\n",
       "</table>\n",
       "</div>"
      ],
      "text/plain": [
       "Empty DataFrame\n",
       "Columns: []\n",
       "Index: [name, auc_0, younden_0, pr_max_0, pr_cut_0, auc_1, younden_1, pr_max_1, pr_cut_1, auc_2, younden_2, pr_max_2, pr_cut_2, f1_score_0, precision_score_0, recall_score_0, accuracy_score_0, f1_score_1, precision_score_1, recall_score_1, accuracy_score_1, f1_score_2, precision_score_2, recall_score_2, accuracy_score_2, f1_score[0, 1], precision_score[0, 1], recall_score[0, 1], accuracy_score[0, 1], f1_score[0, 2], precision_score[0, 2], recall_score[0, 2], accuracy_score[0, 2], f1_score[1, 2], precision_score[1, 2], recall_score[1, 2], accuracy_score[1, 2], auc_mean, f1_score_mean]"
      ]
     },
     "execution_count": 380,
     "metadata": {},
     "output_type": "execute_result"
    }
   ],
   "source": [
    "df[df.name == model_name + '_test'].transpose()"
   ]
  },
  {
   "cell_type": "markdown",
   "id": "ff7ecee7-1dd9-49c8-881d-4082efba9f1b",
   "metadata": {},
   "source": [
    "# Plots"
   ]
  },
  {
   "cell_type": "markdown",
   "id": "c1150e5f-05da-4423-962a-55b847c2a56e",
   "metadata": {},
   "source": [
    "## Train"
   ]
  },
  {
   "cell_type": "code",
   "execution_count": 381,
   "id": "318265f3-7cfa-4e14-88ff-ed0dc3481bfb",
   "metadata": {},
   "outputs": [],
   "source": [
    "p = os.path.join('/home/mr1142/Documents/Data/models/neumonia/validation_results', model_name)"
   ]
  },
  {
   "cell_type": "code",
   "execution_count": 382,
   "id": "05b548b1-3c92-4f76-a843-ed314caf94aa",
   "metadata": {},
   "outputs": [
    {
     "data": {
      "text/plain": [
       "['metricas.json',\n",
       " 'pred_rec_plot_0.png',\n",
       " 'auc_plot_0.png',\n",
       " 'pr_re_th_plot_0.png',\n",
       " 'pred_rec_plot_1.png',\n",
       " 'auc_plot_1.png',\n",
       " 'pr_re_th_plot_1.png',\n",
       " 'pred_rec_plot_2.png',\n",
       " 'auc_plot_2.png',\n",
       " 'pr_re_th_plot_2.png',\n",
       " 'class_report.csv']"
      ]
     },
     "execution_count": 382,
     "metadata": {},
     "output_type": "execute_result"
    }
   ],
   "source": [
    "os.listdir(p)"
   ]
  },
  {
   "cell_type": "code",
   "execution_count": 383,
   "id": "d6c05a94-2b1e-4cf8-92ef-7b7e0043c7e6",
   "metadata": {},
   "outputs": [
    {
     "data": {
      "text/plain": [
       "<Figure size 2000x2000 with 0 Axes>"
      ]
     },
     "metadata": {},
     "output_type": "display_data"
    },
    {
     "data": {
      "image/png": "[encoded data removed]",
      "text/plain": [
       "<Figure size 2000x2000 with 9 Axes>"
      ]
     },
     "metadata": {},
     "output_type": "display_data"
    }
   ],
   "source": [
    "plt.figure(figsize=(20,20))\n",
    "figure, axis = plt.subplots(3, 3)\n",
    "figure.set_size_inches(20, 20)\n",
    "for i, m in enumerate(os.listdir(p)[1:-1]):\n",
    "    img = cv2.imread(os.path.join(p, m))\n",
    "    axis[int(i/3), i%3].imshow(img)"
   ]
  },
  {
   "cell_type": "code",
   "execution_count": 384,
   "id": "0c9c79d0-b0d4-41ca-9d55-1f734a923195",
   "metadata": {},
   "outputs": [
    {
     "data": {
      "text/plain": [
       "{'auc_0': 0.9942494337609407,\n",
       " 'younden_0': 0.24498295783996582,\n",
       " 'pr_max_0': 0.24498295783996582,\n",
       " 'pr_cut_0': 0.54705810546875,\n",
       " 'auc_1': 0.9881578076281544,\n",
       " 'younden_1': 0.32370075583457947,\n",
       " 'pr_max_1': 0.7579912543296814,\n",
       " 'pr_cut_1': 0.6194784045219421,\n",
       " 'auc_2': 0.9979901544041244,\n",
       " 'younden_2': 0.07895958423614502,\n",
       " 'pr_max_2': 0.15575282275676727,\n",
       " 'pr_cut_2': 0.21486026048660278,\n",
       " 'f1_score_0': 0.9677735373523082,\n",
       " 'precision_score_0': 0.9678091000834315,\n",
       " 'recall_score_0': 0.9677469616703023,\n",
       " 'accuracy_score_0': 0.9677469616703023,\n",
       " 'f1_score_1': 0.9482480139690022,\n",
       " 'precision_score_1': 0.9485012752383618,\n",
       " 'recall_score_1': 0.9481146774696168,\n",
       " 'accuracy_score_1': 0.9481146774696168,\n",
       " 'f1_score_2': 0.9781055314876634,\n",
       " 'precision_score_2': 0.9782313854508783,\n",
       " 'recall_score_2': 0.9781863508881271,\n",
       " 'accuracy_score_2': 0.9781863508881271,\n",
       " 'f1_score[0, 1]': 0.6304294242908919,\n",
       " 'precision_score[0, 1]': 0.7877622668237099,\n",
       " 'recall_score[0, 1]': 0.6329074478030539,\n",
       " 'accuracy_score[0, 1]': 0.6329074478030539,\n",
       " 'f1_score[0, 2]': 0.8036880428768002,\n",
       " 'precision_score[0, 2]': 0.8735147858720186,\n",
       " 'recall_score[0, 2]': 0.7983795574945466,\n",
       " 'accuracy_score[0, 2]': 0.7983795574945466,\n",
       " 'f1_score[1, 2]': 0.8085542169392329,\n",
       " 'precision_score[1, 2]': 0.8577347897946599,\n",
       " 'recall_score[1, 2]': 0.8030539108756622,\n",
       " 'accuracy_score[1, 2]': 0.8030539108756622}"
      ]
     },
     "execution_count": 384,
     "metadata": {},
     "output_type": "execute_result"
    }
   ],
   "source": [
    "with open(os.path.join(p, 'metricas.json')) as json_file:\n",
    "    data = json.load(json_file)\n",
    "data"
   ]
  },
  {
   "cell_type": "code",
   "execution_count": 385,
   "id": "ca6c802c-dea4-4a60-a516-a7f173d82307",
   "metadata": {},
   "outputs": [
    {
     "data": {
      "text/html": [
       "<div>\n",
       "<style scoped>\n",
       "    .dataframe tbody tr th:only-of-type {\n",
       "        vertical-align: middle;\n",
       "    }\n",
       "\n",
       "    .dataframe tbody tr th {\n",
       "        vertical-align: top;\n",
       "    }\n",
       "\n",
       "    .dataframe thead th {\n",
       "        text-align: right;\n",
       "    }\n",
       "</style>\n",
       "<table border=\"1\" class=\"dataframe\">\n",
       "  <thead>\n",
       "    <tr style=\"text-align: right;\">\n",
       "      <th></th>\n",
       "      <th>Unnamed: 0</th>\n",
       "      <th>precision</th>\n",
       "      <th>recall</th>\n",
       "      <th>f1-score</th>\n",
       "      <th>support</th>\n",
       "    </tr>\n",
       "  </thead>\n",
       "  <tbody>\n",
       "    <tr>\n",
       "      <th>0</th>\n",
       "      <td>normal</td>\n",
       "      <td>0.946988</td>\n",
       "      <td>0.952958</td>\n",
       "      <td>0.949964</td>\n",
       "      <td>2062.0</td>\n",
       "    </tr>\n",
       "    <tr>\n",
       "      <th>1</th>\n",
       "      <td>moderado</td>\n",
       "      <td>0.915262</td>\n",
       "      <td>0.935601</td>\n",
       "      <td>0.925320</td>\n",
       "      <td>2205.0</td>\n",
       "    </tr>\n",
       "    <tr>\n",
       "      <th>2</th>\n",
       "      <td>severo</td>\n",
       "      <td>0.981331</td>\n",
       "      <td>0.953045</td>\n",
       "      <td>0.966981</td>\n",
       "      <td>2151.0</td>\n",
       "    </tr>\n",
       "    <tr>\n",
       "      <th>3</th>\n",
       "      <td>micro avg</td>\n",
       "      <td>0.947024</td>\n",
       "      <td>0.947024</td>\n",
       "      <td>0.947024</td>\n",
       "      <td>6418.0</td>\n",
       "    </tr>\n",
       "    <tr>\n",
       "      <th>4</th>\n",
       "      <td>macro avg</td>\n",
       "      <td>0.947860</td>\n",
       "      <td>0.947201</td>\n",
       "      <td>0.947421</td>\n",
       "      <td>6418.0</td>\n",
       "    </tr>\n",
       "    <tr>\n",
       "      <th>5</th>\n",
       "      <td>weighted avg</td>\n",
       "      <td>0.947598</td>\n",
       "      <td>0.947024</td>\n",
       "      <td>0.947200</td>\n",
       "      <td>6418.0</td>\n",
       "    </tr>\n",
       "    <tr>\n",
       "      <th>6</th>\n",
       "      <td>samples avg</td>\n",
       "      <td>0.947024</td>\n",
       "      <td>0.947024</td>\n",
       "      <td>0.947024</td>\n",
       "      <td>6418.0</td>\n",
       "    </tr>\n",
       "  </tbody>\n",
       "</table>\n",
       "</div>"
      ],
      "text/plain": [
       "     Unnamed: 0  precision    recall  f1-score  support\n",
       "0        normal   0.946988  0.952958  0.949964   2062.0\n",
       "1      moderado   0.915262  0.935601  0.925320   2205.0\n",
       "2        severo   0.981331  0.953045  0.966981   2151.0\n",
       "3     micro avg   0.947024  0.947024  0.947024   6418.0\n",
       "4     macro avg   0.947860  0.947201  0.947421   6418.0\n",
       "5  weighted avg   0.947598  0.947024  0.947200   6418.0\n",
       "6   samples avg   0.947024  0.947024  0.947024   6418.0"
      ]
     },
     "execution_count": 385,
     "metadata": {},
     "output_type": "execute_result"
    }
   ],
   "source": [
    "df = pd.read_csv(os.path.join(p, 'class_report.csv'))\n",
    "df"
   ]
  },
  {
   "cell_type": "markdown",
   "id": "89d62640-3b79-4590-a3b8-7869b8422726",
   "metadata": {},
   "source": [
    "## Test"
   ]
  },
  {
   "cell_type": "code",
   "execution_count": 386,
   "id": "987f8840-8f2f-4a0c-8580-12f80f24e896",
   "metadata": {},
   "outputs": [],
   "source": [
    "p = os.path.join('/home/mr1142/Documents/Data/models/neumonia/validation_results', model_name + '_test')"
   ]
  },
  {
   "cell_type": "code",
   "execution_count": 387,
   "id": "f8e8a703-a861-4a5e-8018-1fb4e48ffc16",
   "metadata": {},
   "outputs": [
    {
     "ename": "FileNotFoundError",
     "evalue": "[Errno 2] No such file or directory: '/home/mr1142/Documents/Data/models/neumonia/validation_results/completo_layer_mask_Xception_fine-05_batch-8_lr-0001_auc-99_test'",
     "output_type": "error",
     "traceback": [
      "\u001b[0;31m---------------------------------------------------------------------------\u001b[0m",
      "\u001b[0;31mFileNotFoundError\u001b[0m                         Traceback (most recent call last)",
      "Input \u001b[0;32mIn [387]\u001b[0m, in \u001b[0;36m<cell line: 1>\u001b[0;34m()\u001b[0m\n\u001b[0;32m----> 1\u001b[0m \u001b[43mos\u001b[49m\u001b[38;5;241;43m.\u001b[39;49m\u001b[43mlistdir\u001b[49m\u001b[43m(\u001b[49m\u001b[43mp\u001b[49m\u001b[43m)\u001b[49m\n",
      "\u001b[0;31mFileNotFoundError\u001b[0m: [Errno 2] No such file or directory: '/home/mr1142/Documents/Data/models/neumonia/validation_results/completo_layer_mask_Xception_fine-05_batch-8_lr-0001_auc-99_test'"
     ]
    }
   ],
   "source": [
    "os.listdir(p)"
   ]
  },
  {
   "cell_type": "code",
   "execution_count": 388,
   "id": "56c0d2dd-38c1-42f3-9d26-e423d75ea39b",
   "metadata": {},
   "outputs": [
    {
     "ename": "FileNotFoundError",
     "evalue": "[Errno 2] No such file or directory: '/home/mr1142/Documents/Data/models/neumonia/validation_results/completo_layer_mask_Xception_fine-05_batch-8_lr-0001_auc-99_test'",
     "output_type": "error",
     "traceback": [
      "\u001b[0;31m---------------------------------------------------------------------------\u001b[0m",
      "\u001b[0;31mFileNotFoundError\u001b[0m                         Traceback (most recent call last)",
      "Input \u001b[0;32mIn [388]\u001b[0m, in \u001b[0;36m<cell line: 4>\u001b[0;34m()\u001b[0m\n\u001b[1;32m      2\u001b[0m figure, axis \u001b[38;5;241m=\u001b[39m plt\u001b[38;5;241m.\u001b[39msubplots(\u001b[38;5;241m3\u001b[39m, \u001b[38;5;241m3\u001b[39m)\n\u001b[1;32m      3\u001b[0m figure\u001b[38;5;241m.\u001b[39mset_size_inches(\u001b[38;5;241m20\u001b[39m, \u001b[38;5;241m20\u001b[39m)\n\u001b[0;32m----> 4\u001b[0m \u001b[38;5;28;01mfor\u001b[39;00m i, m \u001b[38;5;129;01min\u001b[39;00m \u001b[38;5;28menumerate\u001b[39m(\u001b[43mos\u001b[49m\u001b[38;5;241;43m.\u001b[39;49m\u001b[43mlistdir\u001b[49m\u001b[43m(\u001b[49m\u001b[43mp\u001b[49m\u001b[43m)\u001b[49m[\u001b[38;5;241m1\u001b[39m:\u001b[38;5;241m-\u001b[39m\u001b[38;5;241m1\u001b[39m]):\n\u001b[1;32m      5\u001b[0m     img \u001b[38;5;241m=\u001b[39m cv2\u001b[38;5;241m.\u001b[39mimread(os\u001b[38;5;241m.\u001b[39mpath\u001b[38;5;241m.\u001b[39mjoin(p, m))\n\u001b[1;32m      6\u001b[0m     axis[\u001b[38;5;28mint\u001b[39m(i\u001b[38;5;241m/\u001b[39m\u001b[38;5;241m3\u001b[39m), i\u001b[38;5;241m%\u001b[39m\u001b[38;5;241m3\u001b[39m]\u001b[38;5;241m.\u001b[39mimshow(img)\n",
      "\u001b[0;31mFileNotFoundError\u001b[0m: [Errno 2] No such file or directory: '/home/mr1142/Documents/Data/models/neumonia/validation_results/completo_layer_mask_Xception_fine-05_batch-8_lr-0001_auc-99_test'"
     ]
    },
    {
     "data": {
      "text/plain": [
       "<Figure size 2000x2000 with 0 Axes>"
      ]
     },
     "metadata": {},
     "output_type": "display_data"
    },
    {
     "data": {
      "image/png": "[encoded data removed]",
      "text/plain": [
       "<Figure size 2000x2000 with 9 Axes>"
      ]
     },
     "metadata": {},
     "output_type": "display_data"
    }
   ],
   "source": [
    "plt.figure(figsize=(20,20))\n",
    "figure, axis = plt.subplots(3, 3)\n",
    "figure.set_size_inches(20, 20)\n",
    "for i, m in enumerate(os.listdir(p)[1:-1]):\n",
    "    img = cv2.imread(os.path.join(p, m))\n",
    "    axis[int(i/3), i%3].imshow(img)"
   ]
  },
  {
   "cell_type": "code",
   "execution_count": null,
   "id": "cd55c556-5c50-4076-ad97-4d8ec4e055cc",
   "metadata": {},
   "outputs": [],
   "source": [
    "with open(os.path.join(p, 'metricas.json')) as json_file:\n",
    "    data = json.load(json_file)\n",
    "data"
   ]
  },
  {
   "cell_type": "code",
   "execution_count": null,
   "id": "6643db61-e24b-4906-9191-2fdf6cdfbdff",
   "metadata": {},
   "outputs": [],
   "source": [
    "df = pd.read_csv(os.path.join(p, 'class_report.csv'))\n",
    "df"
   ]
  },
  {
   "cell_type": "markdown",
   "id": "766b2dd7-7ee9-4fed-b923-62287290e978",
   "metadata": {},
   "source": [
    "# OTHER DATASETS"
   ]
  },
  {
   "cell_type": "code",
   "execution_count": 389,
   "id": "4e1be9ff-a0fa-4d34-ab99-8a81c5a709e0",
   "metadata": {},
   "outputs": [],
   "source": [
    "import re\n",
    "import numpy as np\n",
    "from skimage import measure\n",
    "from scipy import ndimage\n",
    "import cv2\n",
    "import tensorflow as tf\n",
    "from tensorflow.keras import backend as K\n",
    "from tensorflow import keras\n",
    "from skimage import exposure, filters\n",
    "from sklearn import metrics"
   ]
  },
  {
   "cell_type": "code",
   "execution_count": 390,
   "id": "2464ea1e-fe13-4450-9318-2854a4a94337",
   "metadata": {},
   "outputs": [],
   "source": [
    "os.environ['CUDA_VISIBLE_DEVICES'] = str(2)"
   ]
  },
  {
   "cell_type": "code",
   "execution_count": 391,
   "id": "269b919d-d62b-4492-9c82-d693a14f4bac",
   "metadata": {},
   "outputs": [],
   "source": [
    "model_path = '/home/mr1142/Documents/Data/models/neumonia/'+ model_name + '.h5'\n",
    "neumonia_model = tf.keras.models.load_model(model_path)"
   ]
  },
  {
   "cell_type": "markdown",
   "id": "98351ce5-cfa3-4ddf-b29d-5765c4c49f61",
   "metadata": {},
   "source": [
    "## Funciones"
   ]
  },
  {
   "cell_type": "code",
   "execution_count": 392,
   "id": "36616872-5150-4b72-8804-a54d16b449ef",
   "metadata": {},
   "outputs": [],
   "source": [
    "def recolor_resize(img, pix=256):\n",
    "    try:\n",
    "        img = cv2.cvtColor(img, cv2.COLOR_BGR2GRAY)\n",
    "    except:\n",
    "        print('', end = '')\n",
    "    img = cv2.resize(img, (pix, pix))\n",
    "    img = np.expand_dims(img, axis=-1)\n",
    "    return img\n",
    "\n",
    "\n",
    "def recolor(img):\n",
    "    try:\n",
    "        img = cv2.cvtColor(img, cv2.COLOR_BGR2GRAY)\n",
    "    except:\n",
    "        print('', end = '')\n",
    "    return img\n",
    "\n",
    "\n",
    "def normalize(img):\n",
    "    return (img - np.mean(img))/ np.std(img)\n",
    "\n",
    "\n",
    "def quitar_trozos(mask):\n",
    "    mask = measure.label(mask)\n",
    "    ntotal = {k: (k==mask).sum() for k in np.unique(mask) if k >0}\n",
    "    k = list(ntotal.keys())[np.argmax(list(ntotal.values()))]\n",
    "    mask = k==mask\n",
    "    mask = ndimage.binary_fill_holes(mask, structure=np.ones((5,5)))\n",
    "    return mask\n",
    "\n",
    "\n",
    "def des_normalize(img):\n",
    "    return cv2.normalize(img, None, alpha = 0, beta = 255,\n",
    "                         norm_type = cv2.NORM_MINMAX, dtype = cv2.CV_16UC1)\n",
    "\n",
    "\n",
    "def apply_mask(img, model):\n",
    "    pix1 = img.shape[0]\n",
    "    pix2 = img.shape[1]\n",
    "    # Paso la imagen a escala de grises\n",
    "    img = recolor(img)\n",
    "    # Creo una nueva imagen con las dimensiones de entrada al modelo\n",
    "    img_2 = normalize(recolor_resize(img, 256))[np.newaxis,...]\n",
    "    # Genero la mascara\n",
    "    mask = model.predict(img_2)[0,...]\n",
    "    # Escalo la mascara generada al tamaño de la imagen de entrada\n",
    "    mask = cv2.resize(mask, (pix2, pix1))\n",
    "    # Limpio la mascara\n",
    "    mask = quitar_trozos(mask > 0.5)\n",
    "    return img*mask\n",
    "\n",
    "\n",
    "model_mask = os.path.join('/home/mr1142/Documents/Data/models/mascaras/unet_final_renacimiento_validation_6.h5')\n",
    "model_mask = keras.models.load_model(model_mask, \n",
    "                                    custom_objects={\"loss_mask\": tf.keras.losses.BinaryCrossentropy, \n",
    "                                                    \"dice_coef_loss\": tf.keras.losses.BinaryCrossentropy,\n",
    "                                                    \"dice_coef\": tf.keras.losses.BinaryCrossentropy})\n",
    "\n",
    "\n",
    "def equalize(img, clip_limit=0.01, med_filt=5,output_type='uint16', flag_draw=False,):\n",
    "    if img.dtype is np.dtype(np.float32):\n",
    "        img_norm = img / img.max()                                    # Format adaptation\n",
    "    else:\n",
    "        img_norm = img.astype('float32') / np.iinfo(img.dtype).max                  # Format adaptation\n",
    "    img_clahe = exposure.equalize_adapthist(img_norm, clip_limit=clip_limit)        # CLAHE\n",
    "    img_clahe_median = filters.median(img_clahe,np.ones((3,3,1))).astype('float32')   # Median Filter\n",
    "\n",
    "    lower, upper = np.percentile(img_clahe_median.flatten(), [2, 98])\n",
    "    img_clip = np.clip(img_clahe_median,lower, upper)\n",
    "    img_out = (img_clip - lower)/(upper - lower)\n",
    "\n",
    "    if output_type is not None:\n",
    "        max_val=np.iinfo(output_type).max\n",
    "        img_out=(max_val*img_out).astype(output_type)\n",
    "    else:\n",
    "        max_val=1.0\n",
    "    return img_out\n",
    "\n",
    "\n",
    "def clahe(img):\n",
    "    clahe = cv2.createCLAHE(clipLimit = 2)\n",
    "    img = np.uint8(img)\n",
    "    final_img = clahe.apply(img)\n",
    "    final_img = np.expand_dims(final_img, axis=-1)\n",
    "    return final_img\n",
    "\n",
    "\n",
    "def get_prepared_img(img, pix, mask = False, clahe_bool = True, equalize_bool = False):\n",
    "    if mask:\n",
    "        img = des_normalize(apply_mask(img, model_mask))\n",
    "    img = recolor_resize(img, pix)\n",
    "    if clahe_bool:\n",
    "        img = clahe(img)\n",
    "    if equalize_bool:\n",
    "        img = equalize(img)\n",
    "    img = normalize(img)\n",
    "    return img"
   ]
  },
  {
   "cell_type": "code",
   "execution_count": 393,
   "id": "0bb3c5c2-ebcf-4c5e-b507-a0ac3a2a3080",
   "metadata": {},
   "outputs": [],
   "source": [
    "def AUC_plot(fpr, tpr, thresholds, auc):\n",
    "    fig, ax = plt.subplots()\n",
    "    i = np.argmax(tpr-fpr)\n",
    "    th = thresholds[i]\n",
    "    x = fpr[i]\n",
    "    y = tpr[i]\n",
    "    ax.plot(fpr,tpr, \"g-\", label=\"AUC=\"+str(round(auc, 2)))\n",
    "    ax.set_xlabel('False Positive Rate')\n",
    "    ax.set_ylabel('True Positive Rate')\n",
    "    try:\n",
    "        ax.plot([x, x], [0, y], \"r:\")\n",
    "        ax.plot([0, x], [y, y], \"r:\")\n",
    "    except:\n",
    "        print('plot except')\n",
    "    ax.plot([x], [y], \"ro\", label=\"th=\"+str(round(th,2))) \n",
    "    ax.legend(loc=4)\n",
    "    return fig\n",
    "\n",
    "\n",
    "\n",
    "def pred_recall_plot(precision, recall, thresholds):\n",
    "    fig, ax = plt.subplots()\n",
    "    i = np.argmax(precision+recall)\n",
    "    x = recall[i]\n",
    "    y = precision[i]\n",
    "    th = thresholds[i]\n",
    "    ax.plot(recall, precision, \"g-\")\n",
    "    ax.set_xlabel('Recall')\n",
    "    ax.set_ylabel('Precision')\n",
    "    try:\n",
    "        ax.plot([x, x], [0, y], \"r:\")\n",
    "        ax.plot([0, x], [y, y], \"r:\")\n",
    "    except:\n",
    "        print('plot except')\n",
    "    ax.plot([x], [y], \"ro\", label=\"th=\"+str(round(th,2))) \n",
    "    ax.legend(loc=4)\n",
    "    ax.set_title('Precision-Recall curve')\n",
    "    return fig\n",
    "\n",
    "\n",
    "def plot_precision_recall_vs_threshold(precision, recall, thresholds):\n",
    "    fig, ax = plt.subplots()\n",
    "    f1 = f1_score(precision, recall)\n",
    "    x_f = thresholds[np.where(f1 == max(f1))]\n",
    "    y_f = max(f1)\n",
    "    x = thresholds[np.where(precision == recall)]\n",
    "    y = precision[np.where(precision == recall)]\n",
    "    ax.axis([0 ,1, np.min(precision), 1])\n",
    "    ax.plot(thresholds, precision[:-1], \"r-\", label=\"Precision\", linewidth=2)\n",
    "    ax.plot(thresholds, recall[:-1], \"b-\", label=\"Recall\", linewidth=2)\n",
    "    ax.plot(thresholds, f1[:-1], \"m--\", label=\"F1 score\", linewidth=2)\n",
    "    try:\n",
    "        for i in range(len(x)):\n",
    "            ax.plot([x[i]], [y[i]], \"bo\", label=\"th=\"+str(round(x[i],2)))\n",
    "            ax.plot([x[i], x[i]], [0, y[i]], \"k:\")\n",
    "    except:\n",
    "        ax.plot([x], [y], \"bo\", label=\"th=\"+str(round(x[0],2)))\n",
    "        ax.plot([x, x], [0, y], \"k:\")\n",
    "    try:\n",
    "        for i in range(len(x)):\n",
    "            ax.plot([x_f[i]], [y_f[i]], \"bo\", label=\"th=\"+str(round(x_f[i],2)))\n",
    "            ax.plot([x_f[i], x_f[i]], [0, y_f[i]], \"k:\")\n",
    "    except:\n",
    "        ax.plot([x_f], [y_f], \"ro\", label=\"th=\"+str(round(x_f[0],2))) \n",
    "        ax.plot([x_f, x_f], [0, y_f], \"k:\")\n",
    "    ax.set_xlabel(\"Threshold\")\n",
    "    ax.grid(True)\n",
    "    ax.legend()\n",
    "    return fig"
   ]
  },
  {
   "cell_type": "code",
   "execution_count": 394,
   "id": "fd5c5a56-ad8f-47f8-a6d0-fe73be940954",
   "metadata": {},
   "outputs": [],
   "source": [
    "# METRICAS\n",
    "def younden_idx(real, pred):\n",
    "    fpr, tpr, thresholds = metrics.roc_curve(real, pred)\n",
    "    return thresholds[np.argmax(tpr-fpr)]\n",
    "\n",
    "\n",
    "def pred_recall_thres(precision, recall, thresholds):\n",
    "    pr_max = thresholds[np.argmax(precision+recall)]\n",
    "    try:\n",
    "        pr_cut= thresholds[np.where(precision == recall)][0]\n",
    "    except:\n",
    "        pr_cut= thresholds[np.where(precision == recall)]\n",
    "    if not isinstance(pr_cut, float):\n",
    "        pr_cut = float('inf')\n",
    "    return pr_max, pr_cut\n",
    "\n",
    "\n",
    "def f1_score(precision, recall):\n",
    "    return 2*(precision*recall)/(precision+recall)\n",
    "\n",
    "\n",
    "# EXTRACT MAX\n",
    "def binarize(array, threshold):\n",
    "    array[array >= threshold] = 1\n",
    "    array[array < threshold] = 0\n",
    "    return array\n",
    "\n",
    "def extract_max(array):\n",
    "    for i in range(array.shape[0]):\n",
    "        max = np.argmax(array[i,:])\n",
    "        array[i,:] = 0\n",
    "        array[i,max] = 1\n",
    "    return array\n",
    "\n",
    "\n",
    "# Cada una de las clases genera un diccionario con las metricas y los plots\n",
    "def metrics_per_class(real, pred):\n",
    "    metricas = {}\n",
    "    fpr, tpr, auc_thresholds = metrics.roc_curve(real, pred)\n",
    "    auc = metrics.auc(fpr, tpr)\n",
    "    metricas['auc'] = auc\n",
    "    metricas['younden'] = younden_idx(real, pred)\n",
    "    precision, recall, pr_thresholds = metrics.precision_recall_curve(real, pred)\n",
    "    metricas['pr_max'], metricas['pr_cut'] = pred_recall_thres(precision, \n",
    "                                                                            recall, \n",
    "                                                                            pr_thresholds)\n",
    "    plots = {}\n",
    "    plots['pred_rec_plot'] = pred_recall_plot(precision, recall, pr_thresholds)\n",
    "    plots['auc_plot'] = AUC_plot(fpr, tpr, auc_thresholds, auc)\n",
    "    plots['pr_re_th_plot'] = plot_precision_recall_vs_threshold(precision, \n",
    "                                                                        recall, \n",
    "                                                                        pr_thresholds)\n",
    "    return metricas, plots\n",
    "\n",
    "\n",
    "# Por cada prediccion se generan metricas por clase, por combinaciones binarias y por maximo\n",
    "def metricas_dict(real, pred):\n",
    "    metrics_dict = {}\n",
    "    plot_dict = {}\n",
    "    metricas, plots = metrics_per_class(real, pred[:,0])\n",
    "    metrics_dict.update(metricas)\n",
    "    plot_dict.update(plots)\n",
    "    thresholds = ['younden','pr_max','pr_cut']\n",
    "\n",
    "    for threshold in thresholds:\n",
    "        binar = binarize(pred[:,0].copy(), metricas[threshold])\n",
    "        metrics_dict['f1_score_' + threshold] = metrics.f1_score(real, binar, \n",
    "                                                                average = 'weighted')\n",
    "        metrics_dict['precision_score_' + threshold] = metrics.precision_score(real, \n",
    "                                                                            binar, \n",
    "                                                                            average = 'weighted')\n",
    "        metrics_dict['recall_score_' + threshold] = metrics.recall_score(real, \n",
    "                                                                        binar, \n",
    "                                                                        average = 'weighted')\n",
    "        metrics_dict['accuracy_score_' + threshold] = metrics.accuracy_score(real, binar)\n",
    "    \n",
    "    binar = binarize(pred[:,0].copy(), 0.5)\n",
    "    metrics_dict['f1_score_' + str(0.5)] = metrics.f1_score(real, binar, \n",
    "                                                            average = 'weighted')\n",
    "    metrics_dict['precision_score_' + str(0.5)] = metrics.precision_score(real, \n",
    "                                                                        binar, \n",
    "                                                                        average = 'weighted')\n",
    "    metrics_dict['recall_score_' + str(0.5)] = metrics.recall_score(real, \n",
    "                                                                    binar, \n",
    "                                                                    average = 'weighted')\n",
    "    metrics_dict['accuracy_score_' + str(0.5)] = metrics.accuracy_score(real, binar)\n",
    "    \n",
    "    binar = extract_max(pred.copy())[:,0]\n",
    "    metrics_dict['f1_score_' + 'max'] = metrics.f1_score(real, binar, \n",
    "                                                            average = 'weighted')\n",
    "    metrics_dict['precision_score_' + 'max'] = metrics.precision_score(real, \n",
    "                                                                        binar, \n",
    "                                                                        average = 'weighted')\n",
    "    metrics_dict['recall_score_' + 'max'] = metrics.recall_score(real, \n",
    "                                                                    binar, \n",
    "                                                                    average = 'weighted')\n",
    "    metrics_dict['accuracy_score_' + 'max'] = metrics.accuracy_score(real, binar)\n",
    "\n",
    "    return metrics_dict, plot_dict"
   ]
  },
  {
   "cell_type": "markdown",
   "id": "1deca734-5c72-4ab7-bed5-097cf925e1b3",
   "metadata": {},
   "source": [
    "## PEDIATRIC"
   ]
  },
  {
   "cell_type": "markdown",
   "id": "47fde7be-f920-42c3-a3d0-ba030ae013b8",
   "metadata": {},
   "source": [
    "### Cargar datos"
   ]
  },
  {
   "cell_type": "code",
   "execution_count": 395,
   "id": "c2db332b-b495-4ea5-abbb-c9b6491a8e1f",
   "metadata": {},
   "outputs": [],
   "source": [
    "def create_dataframe(folder, path = '/home/mr1142/Documents/Data/chest_xray'):\n",
    "    path = os.path.join('/home/mr1142/Documents/Data/chest_xray', folder)\n",
    "    for fold in os.listdir(path):\n",
    "        globals()[fold] = {}\n",
    "        imgs = os.listdir(os.path.join(path, fold))\n",
    "        globals()[fold]['path'] = [os.path.join(path, fold)] * len(imgs)\n",
    "        globals()[fold]['img_name'] = imgs\n",
    "        globals()[fold]['normal'] = [1 if fold == 'NORMAL' else 0 for _ in range(len(imgs))]\n",
    "        globals()[fold]['viral'] = [1 if re.search('virus', imgs[i]) else 0 for i in range(len(imgs))]\n",
    "        globals()[fold]['bacteria'] = [1 if re.search('bacteria', imgs[i]) else 0 for i in range(len(imgs))]\n",
    "        globals()[fold]['real'] = [0 if fold == 'NORMAL' else 1 if re.search('virus', imgs[i]) else 2 for i in range(len(imgs))]\n",
    "\n",
    "    for k, v in PNEUMONIA.items():\n",
    "        v.extend(NORMAL[k])\n",
    "\n",
    "    df = pd.DataFrame(PNEUMONIA)\n",
    "\n",
    "    return df"
   ]
  },
  {
   "cell_type": "code",
   "execution_count": 396,
   "id": "dc949c2f-aab1-4d05-9ad1-59de17ac6b0f",
   "metadata": {},
   "outputs": [],
   "source": [
    "ped = create_dataframe('train')"
   ]
  },
  {
   "cell_type": "markdown",
   "id": "048197b9-7443-4e56-8fc0-4702308bb4d2",
   "metadata": {},
   "source": [
    "### AUC"
   ]
  },
  {
   "cell_type": "code",
   "execution_count": 397,
   "id": "778a12ae-8d98-42ce-a934-0696d10975e6",
   "metadata": {},
   "outputs": [
    {
     "name": "stdout",
     "output_type": "stream",
     "text": [
      "5216\n"
     ]
    }
   ],
   "source": [
    "print(len(ped))"
   ]
  },
  {
   "cell_type": "code",
   "execution_count": 398,
   "id": "0d1b6e7e-7b08-4315-9766-12b92ed05397",
   "metadata": {},
   "outputs": [],
   "source": [
    "pixels = 512"
   ]
  },
  {
   "cell_type": "code",
   "execution_count": 399,
   "id": "84f75044-fbfe-4c2a-9be8-53f0570d8280",
   "metadata": {},
   "outputs": [],
   "source": [
    "df = ped\n",
    "# df = df[df['bacteria'] == 0]\n",
    "imgs = [os.path.join(df.path[i], df.img_name[i]) for i in df.index]\n",
    "true = list(df['normal'])"
   ]
  },
  {
   "cell_type": "code",
   "execution_count": null,
   "id": "06833431-fc26-43a0-a7c1-858719e7a10b",
   "metadata": {},
   "outputs": [],
   "source": [
    "pred = [neumonia_model.predict(np.expand_dims(get_prepared_img(cv2.imread(im),pixels), axis = 0)) for im in imgs]"
   ]
  },
  {
   "cell_type": "markdown",
   "id": "ddc305ec-5a90-47b5-bd1d-98f2ade08822",
   "metadata": {},
   "source": [
    "- Calculo de AUC respecto a normal o neumo"
   ]
  },
  {
   "cell_type": "code",
   "execution_count": null,
   "id": "6b0af3d7-a39d-4729-a457-867a17f539fa",
   "metadata": {},
   "outputs": [],
   "source": [
    "pred = np.vstack(pred)"
   ]
  },
  {
   "cell_type": "code",
   "execution_count": null,
   "id": "3cb563cf-fe8e-4300-adff-61909d8a9b8e",
   "metadata": {},
   "outputs": [],
   "source": [
    "true = np.array(true)\n",
    "print(sum(true == 0))\n",
    "print(sum(true == 1))"
   ]
  },
  {
   "cell_type": "code",
   "execution_count": null,
   "id": "acfac133-cc61-48d8-8d0e-65635cbd641b",
   "metadata": {},
   "outputs": [],
   "source": [
    "mets, plots = metricas_dict(true, pred)"
   ]
  },
  {
   "cell_type": "code",
   "execution_count": null,
   "id": "7c52bb76-79d1-4ded-8796-c06c956fb982",
   "metadata": {},
   "outputs": [],
   "source": [
    "mets"
   ]
  },
  {
   "cell_type": "markdown",
   "id": "d337513d-0bca-4010-94de-41382480db45",
   "metadata": {},
   "source": [
    "### Mejor threshold"
   ]
  },
  {
   "cell_type": "code",
   "execution_count": null,
   "id": "8d30da69-d148-4656-873a-01aeb64ab788",
   "metadata": {},
   "outputs": [],
   "source": [
    "cols = [met[:-8] for met in list(mets.keys())[4:8]]\n",
    "rows = ['younden', 'pr_max', 'pr_cut', '0.5', 'max']"
   ]
  },
  {
   "cell_type": "code",
   "execution_count": null,
   "id": "c02c3282-5225-41c3-a4d0-26026193b2a6",
   "metadata": {},
   "outputs": [],
   "source": [
    "df = pd.DataFrame(columns = cols, index = rows)"
   ]
  },
  {
   "cell_type": "code",
   "execution_count": null,
   "id": "4ac2c175-14eb-46e1-8f23-b6ee68b09b02",
   "metadata": {},
   "outputs": [],
   "source": [
    "values = list(mets.values())[4:]\n",
    "for i in range(len(df)):\n",
    "    df.iloc[i] = values[i*4:i*4+4]"
   ]
  },
  {
   "cell_type": "code",
   "execution_count": null,
   "id": "3dda50a3-23f3-47f0-9cfb-b12f24992ff2",
   "metadata": {},
   "outputs": [],
   "source": [
    "df['mean'] = (df.f1_score + df.precision_score + df.recall_score + df.accuracy_score)/4"
   ]
  },
  {
   "cell_type": "code",
   "execution_count": null,
   "id": "42c5dcf6-86a6-4c8f-ba10-339920f90c7a",
   "metadata": {},
   "outputs": [],
   "source": [
    "df.sort_values('mean')"
   ]
  },
  {
   "cell_type": "markdown",
   "id": "4ad22bc2-6229-4d41-9442-180885197f1e",
   "metadata": {},
   "source": [
    "## COVID"
   ]
  },
  {
   "cell_type": "markdown",
   "id": "05edd154-fb47-45de-99da-0d16e2c476bc",
   "metadata": {},
   "source": [
    "### Cargar datos"
   ]
  },
  {
   "cell_type": "code",
   "execution_count": null,
   "id": "cbef93c3-5e59-471a-932f-31398ea8e112",
   "metadata": {},
   "outputs": [],
   "source": [
    "path = '/home/mr1142/Documents/Data/neumonia_covid/all'\n",
    "covid = pd.read_csv('/home/mr1142/Documents/Data/neumonia_covid/dataframe.csv')"
   ]
  },
  {
   "cell_type": "code",
   "execution_count": null,
   "id": "e36a9be3-ada1-454b-bcb3-804b5a588002",
   "metadata": {},
   "outputs": [],
   "source": [
    "# covid = covid[covid['class'] != 'pneumonia'].reset_index(drop = True)\n",
    "covid['class'][covid['class'] == 'pneumonia'] = 0\n",
    "covid['class'][covid['class'] == 'covid'] = 0\n",
    "covid['class'][covid['class'] == 'normal'] = 1"
   ]
  },
  {
   "cell_type": "code",
   "execution_count": null,
   "id": "a2520c8c-fd1c-41a2-a31b-0cfaba38db3f",
   "metadata": {},
   "outputs": [],
   "source": [
    "len(covid)"
   ]
  },
  {
   "cell_type": "markdown",
   "id": "54175618-4aab-4118-b4b3-4aa80c351cbb",
   "metadata": {},
   "source": [
    "### AUC"
   ]
  },
  {
   "cell_type": "code",
   "execution_count": null,
   "id": "376b9b67-9bfb-4a09-87de-b1c3cbef6a63",
   "metadata": {},
   "outputs": [],
   "source": [
    "print(len(covid))"
   ]
  },
  {
   "cell_type": "code",
   "execution_count": null,
   "id": "e9053fad-6dfe-4ee2-997b-dfd661b0d6ba",
   "metadata": {},
   "outputs": [],
   "source": [
    "pixels = 512"
   ]
  },
  {
   "cell_type": "code",
   "execution_count": null,
   "id": "63214886-2182-4375-81bf-3955a49fff0d",
   "metadata": {},
   "outputs": [],
   "source": [
    "df = covid\n",
    "imgs = [os.path.join(path, df.img_name[i]) for i in df.index]\n",
    "true = list(df['class'])"
   ]
  },
  {
   "cell_type": "code",
   "execution_count": null,
   "id": "4d5e94b7-49af-413e-87bf-2eaca9a84feb",
   "metadata": {},
   "outputs": [],
   "source": [
    "pred = [neumonia_model.predict(np.expand_dims(get_prepared_img(cv2.imread(im),pixels), axis = 0)) for im in imgs]"
   ]
  },
  {
   "cell_type": "markdown",
   "id": "b221ee07-7e0a-4a41-9173-6aa4906b3072",
   "metadata": {},
   "source": [
    "- Calculo de AUC respecto a normal o neumo"
   ]
  },
  {
   "cell_type": "code",
   "execution_count": null,
   "id": "ff337af2-076c-417c-9e0f-8d3db39c4be6",
   "metadata": {},
   "outputs": [],
   "source": [
    "pred = np.vstack(pred)"
   ]
  },
  {
   "cell_type": "code",
   "execution_count": null,
   "id": "0487d8f7-11fc-4566-a3e1-d08bfab0a4b9",
   "metadata": {},
   "outputs": [],
   "source": [
    "true = np.array(true)\n",
    "print(sum(true == 0))\n",
    "print(sum(true == 1))"
   ]
  },
  {
   "cell_type": "code",
   "execution_count": null,
   "id": "dcb84442-733f-48fa-adb2-9fdfdc94cebc",
   "metadata": {},
   "outputs": [],
   "source": [
    "mets, plots = metricas_dict(true, pred)"
   ]
  },
  {
   "cell_type": "code",
   "execution_count": null,
   "id": "72b3a7a3-d6c0-4c92-aa04-3a1c63dab484",
   "metadata": {},
   "outputs": [],
   "source": [
    "mets"
   ]
  },
  {
   "cell_type": "markdown",
   "id": "7dc17276-aabf-42d9-828a-e2858021aae3",
   "metadata": {},
   "source": [
    "### Mejor threshold"
   ]
  },
  {
   "cell_type": "code",
   "execution_count": null,
   "id": "93dd96ff-0095-4d96-922b-df97b2ae7445",
   "metadata": {},
   "outputs": [],
   "source": [
    "cols = [met[:-8] for met in list(mets.keys())[4:8]]\n",
    "rows = ['younden', 'pr_max', 'pr_cut', '0.5', 'max']"
   ]
  },
  {
   "cell_type": "code",
   "execution_count": null,
   "id": "fdfb79ec-6124-454e-8d4a-c4ed2a2cb810",
   "metadata": {},
   "outputs": [],
   "source": [
    "df = pd.DataFrame(columns = cols, index = rows)"
   ]
  },
  {
   "cell_type": "code",
   "execution_count": null,
   "id": "6b69fff9-740f-48fb-b754-84a32a90f183",
   "metadata": {},
   "outputs": [],
   "source": [
    "cols"
   ]
  },
  {
   "cell_type": "code",
   "execution_count": null,
   "id": "e4d2d2ba-dc2c-4bf2-8b56-14baf4b1f057",
   "metadata": {},
   "outputs": [],
   "source": [
    "values = list(mets.values())[4:]\n",
    "for i in range(len(df)):\n",
    "    df.iloc[i] = values[i*4:i*4+4]"
   ]
  },
  {
   "cell_type": "code",
   "execution_count": null,
   "id": "654302c6-30a7-4a47-a34d-a892c9fedc4b",
   "metadata": {},
   "outputs": [],
   "source": [
    "df['mean'] = (df.f1_score + df.precision_score + df.recall_score + df.accuracy_score)/4"
   ]
  },
  {
   "cell_type": "code",
   "execution_count": null,
   "id": "8e99551c-4182-49b0-a2ef-5d0b0978feff",
   "metadata": {},
   "outputs": [],
   "source": [
    "df.sort_values('mean')"
   ]
  },
  {
   "cell_type": "markdown",
   "id": "cb3575fa-2a4f-411b-8ad8-7bae88e81f51",
   "metadata": {},
   "source": [
    "## NIH"
   ]
  },
  {
   "cell_type": "code",
   "execution_count": null,
   "id": "5a077dbb-3864-4102-bdc4-b550adcc360f",
   "metadata": {},
   "outputs": [],
   "source": [
    "path = '/home/mr1142/Documents/Data/NIH'"
   ]
  },
  {
   "cell_type": "code",
   "execution_count": null,
   "id": "072d8ec0-761a-41dd-b4ca-537f5046a031",
   "metadata": {},
   "outputs": [],
   "source": [
    "nih = pd.read_csv(os.path.join(path, 'Data_Entry_2017.csv'))"
   ]
  },
  {
   "cell_type": "code",
   "execution_count": null,
   "id": "fcb094a4-ea1a-4030-a4e9-390f3692a232",
   "metadata": {},
   "outputs": [],
   "source": [
    "labels = np.unique(nih['Finding Labels'])\n",
    "labels = '|'.join(labels)\n",
    "labels = labels.split('|')\n",
    "labels = np.unique(labels).tolist()"
   ]
  },
  {
   "cell_type": "code",
   "execution_count": null,
   "id": "f9f78fdb-d71d-4dde-8d18-5fbf2c2ff42c",
   "metadata": {},
   "outputs": [],
   "source": [
    "for lab in labels:\n",
    "    nih[lab] = pd.NA"
   ]
  },
  {
   "cell_type": "code",
   "execution_count": null,
   "id": "e2a1766f-bfb0-44e7-8073-aaa73cec2a7d",
   "metadata": {},
   "outputs": [],
   "source": [
    "def fill_label(information, label):\n",
    "    positive_labels = information.split('|')\n",
    "    if label in positive_labels:\n",
    "        return 1\n",
    "    return 0"
   ]
  },
  {
   "cell_type": "code",
   "execution_count": null,
   "id": "9be8fb4d-ad40-4036-8add-da827bf12184",
   "metadata": {},
   "outputs": [],
   "source": [
    "for lab in labels:\n",
    "    nih[lab] = list(map(lambda x: fill_label(x, lab), nih['Finding Labels'].tolist()))"
   ]
  },
  {
   "cell_type": "code",
   "execution_count": null,
   "id": "ee1fd38d-67e7-460d-989b-04937ac067c5",
   "metadata": {},
   "outputs": [],
   "source": [
    "nih = nih.sample(frac=1).reset_index(drop = True)"
   ]
  },
  {
   "cell_type": "code",
   "execution_count": null,
   "id": "40b367bb-b11c-4891-ab9f-ddd77287175d",
   "metadata": {},
   "outputs": [],
   "source": [
    "sum(nih['Finding Labels'] == 'Consolidation')"
   ]
  },
  {
   "cell_type": "code",
   "execution_count": null,
   "id": "1b1530ca-2649-4f22-a416-8f24d9cd339d",
   "metadata": {},
   "outputs": [],
   "source": [
    "print(sum(nih.Consolidation == 1))\n",
    "print(sum(nih['No Finding'] == 1))"
   ]
  },
  {
   "cell_type": "code",
   "execution_count": null,
   "id": "f6f823dd-3d99-4c9f-a4bb-de29dbc5839b",
   "metadata": {},
   "outputs": [],
   "source": [
    "n = 2000"
   ]
  },
  {
   "cell_type": "code",
   "execution_count": null,
   "id": "95d3ab2d-9055-418a-a3a9-af696efaf783",
   "metadata": {},
   "outputs": [],
   "source": [
    "neumo = nih[nih.Consolidation == 1][0:n]\n",
    "normal = nih[nih['No Finding'] == 1][0:n]"
   ]
  },
  {
   "cell_type": "code",
   "execution_count": null,
   "id": "7e9acf83-514f-4791-b33f-4e2f5e1293f1",
   "metadata": {},
   "outputs": [],
   "source": [
    "nih = pd.concat([neumo, normal]).reset_index(drop = True)\n",
    "nih = nih.sample(frac=1).reset_index(drop = True)"
   ]
  },
  {
   "cell_type": "markdown",
   "id": "d888c014-411d-47f6-a5bf-2eb9ab1b5486",
   "metadata": {},
   "source": [
    "### AUC"
   ]
  },
  {
   "cell_type": "code",
   "execution_count": null,
   "id": "a462fc19-9fc5-4f73-a5dc-c09f8ab6ad6c",
   "metadata": {},
   "outputs": [],
   "source": [
    "print(len(nih))"
   ]
  },
  {
   "cell_type": "code",
   "execution_count": null,
   "id": "a4ef3fb9-cf40-4f6e-bad4-045d0f5b063a",
   "metadata": {},
   "outputs": [],
   "source": [
    "pixels = 512"
   ]
  },
  {
   "cell_type": "code",
   "execution_count": null,
   "id": "d5a5185d-d915-4a9e-9704-a3eff1bd90f5",
   "metadata": {},
   "outputs": [],
   "source": [
    "def get_paths(img_list):\n",
    "    names = []\n",
    "    imgs = {}\n",
    "    imgs_names = []\n",
    "    path = '/home/mr1142/Documents/Data/NIH'\n",
    "    subfolders = [f.path for f in os.scandir(path) if f.is_dir()]\n",
    "    # De todas las imagenes que quiero cargar miro cuantas hay en cada carpeta y las cargo\n",
    "    for folder in subfolders:\n",
    "        folder_images = os.listdir(os.path.join(folder, 'images'))\n",
    "        this_folder_imgs = set(img_list).intersection(folder_images)\n",
    "        names = names + list(this_folder_imgs)\n",
    "        for im in this_folder_imgs:\n",
    "            imgs[im] = os.path.join(path, folder, 'images', im)\n",
    "    return imgs"
   ]
  },
  {
   "cell_type": "code",
   "execution_count": null,
   "id": "22d7e4ef-bb58-4a28-8f51-93cdf971bb69",
   "metadata": {},
   "outputs": [],
   "source": [
    "paths = get_paths(nih['Image Index'])\n",
    "nih['path'] = [paths[im] for im in nih['Image Index']]"
   ]
  },
  {
   "cell_type": "code",
   "execution_count": null,
   "id": "7928d68e-1799-4dd4-9a8b-6ec994d146bd",
   "metadata": {},
   "outputs": [],
   "source": [
    "df = nih\n",
    "imgs = list(df['path'])\n",
    "true = list(df['Consolidation'])"
   ]
  },
  {
   "cell_type": "code",
   "execution_count": null,
   "id": "6dba54bd-60a3-43e1-beb4-ae1a3eada468",
   "metadata": {},
   "outputs": [],
   "source": [
    "pred = [neumonia_model.predict(np.expand_dims(get_prepared_img(cv2.imread(im),pixels), axis = 0)) for im in imgs]"
   ]
  },
  {
   "cell_type": "markdown",
   "id": "302eb3f2-7958-4747-8abe-c35bfe00b682",
   "metadata": {},
   "source": [
    "- Calculo de AUC respecto a normal o neumo"
   ]
  },
  {
   "cell_type": "code",
   "execution_count": null,
   "id": "67ad6cc9-5535-41b4-9f3a-fed8128295df",
   "metadata": {},
   "outputs": [],
   "source": [
    "pred = np.vstack(pred)"
   ]
  },
  {
   "cell_type": "code",
   "execution_count": null,
   "id": "3ef1f8b7-d371-42a8-a5af-0f4ac01541c1",
   "metadata": {},
   "outputs": [],
   "source": [
    "true = abs(1-np.array(true))\n",
    "print(sum(true == 0))\n",
    "print(sum(true == 1))"
   ]
  },
  {
   "cell_type": "code",
   "execution_count": null,
   "id": "7c8b8b65-1a38-46d6-a1da-3ef431c8e5e5",
   "metadata": {},
   "outputs": [],
   "source": [
    "mets, plots = metricas_dict(true, pred)"
   ]
  },
  {
   "cell_type": "code",
   "execution_count": null,
   "id": "aef75d17-1cab-486e-86d1-8fce96290bc7",
   "metadata": {},
   "outputs": [],
   "source": [
    "mets"
   ]
  },
  {
   "cell_type": "markdown",
   "id": "614a2cb2-8880-4b81-a9cf-d329593189a3",
   "metadata": {},
   "source": [
    "### Mejor threshold"
   ]
  },
  {
   "cell_type": "code",
   "execution_count": null,
   "id": "1d7f4e02-cd2b-4e9b-8f92-9324930fc859",
   "metadata": {},
   "outputs": [],
   "source": [
    "cols = [met[:-8] for met in list(mets.keys())[4:8]]\n",
    "rows = ['younden', 'pr_max', 'pr_cut', '0.5', 'max']"
   ]
  },
  {
   "cell_type": "code",
   "execution_count": null,
   "id": "ec6bd16d-3e21-4bc5-a3a1-15c0cdccb402",
   "metadata": {},
   "outputs": [],
   "source": [
    "df = pd.DataFrame(columns = cols, index = rows)"
   ]
  },
  {
   "cell_type": "code",
   "execution_count": null,
   "id": "47c6a097-a9e2-44bf-b62e-3233fcff33f8",
   "metadata": {},
   "outputs": [],
   "source": [
    "values = list(mets.values())[4:]\n",
    "for i in range(len(df)):\n",
    "    df.iloc[i] = values[i*4:i*4+4]"
   ]
  },
  {
   "cell_type": "code",
   "execution_count": null,
   "id": "756a1c06-d5d1-40eb-b51c-548347ee1fc0",
   "metadata": {},
   "outputs": [],
   "source": [
    "df['mean'] = (df.f1_score + df.precision_score + df.recall_score + df.accuracy_score)/4"
   ]
  },
  {
   "cell_type": "code",
   "execution_count": null,
   "id": "e02f7440-5857-4883-b1a9-2227a68ec5e1",
   "metadata": {},
   "outputs": [],
   "source": [
    "df.sort_values('mean')"
   ]
  },
  {
   "cell_type": "markdown",
   "id": "60d625a5-38fa-4983-b8b1-131ed03ea639",
   "metadata": {},
   "source": [
    "# HEATMAP"
   ]
  },
  {
   "cell_type": "code",
   "execution_count": null,
   "id": "d8475588-cafa-4b0e-b5c6-5afcb536f50f",
   "metadata": {},
   "outputs": [],
   "source": [
    "from scipy.ndimage import zoom\n",
    "import shap"
   ]
  },
  {
   "cell_type": "code",
   "execution_count": null,
   "id": "cb0e37a2-5b72-4907-8fbb-d8760865cf84",
   "metadata": {},
   "outputs": [],
   "source": [
    "neumonia_model.summary()"
   ]
  },
  {
   "cell_type": "code",
   "execution_count": null,
   "id": "04cda37b-3268-40b3-95e9-610a579c832d",
   "metadata": {},
   "outputs": [],
   "source": [
    "i = np.random.randint(1000)\n",
    "sano = ped[ped['normal'] == 1].iloc[i]\n",
    "enfermo = ped[ped['normal'] == 0].iloc[i]\n",
    "sano_im = cv2.imread(os.path.join(sano.path, sano.img_name))\n",
    "enf_im = cv2.imread(os.path.join(enfermo.path, enfermo.img_name))\n",
    "sano_prepared = np.expand_dims(get_prepared_img(sano_im, pixels, mask = True), axis = 0)\n",
    "enf_prepared = np.expand_dims(get_prepared_img(enf_im, pixels, mask = True), axis = 0)"
   ]
  },
  {
   "cell_type": "code",
   "execution_count": null,
   "id": "64c09fff-37c6-4770-920a-70699a65bf9b",
   "metadata": {},
   "outputs": [],
   "source": [
    "sano = covid[covid['class'] == 1].iloc[np.random.randint(1000)]\n",
    "enfermo = covid[covid['class'] == 0].iloc[np.random.randint(1000)]\n",
    "sano_im = cv2.imread(os.path.join(path, sano.img_name))\n",
    "enf_im = cv2.imread(os.path.join(path, enfermo.img_name))\n",
    "sano_prepared = np.expand_dims(get_prepared_img(sano_im, pixels), axis = 0)\n",
    "enf_prepared = np.expand_dims(get_prepared_img(enf_im, pixels), axis = 0)"
   ]
  },
  {
   "cell_type": "code",
   "execution_count": null,
   "id": "93cb873d-c7ce-4643-a63f-36ee81dbdd42",
   "metadata": {},
   "outputs": [],
   "source": [
    "figure, axis = plt.subplots(2,2)\n",
    "figure.set_size_inches(10,10)\n",
    "axis[0,0].imshow(sano_im)\n",
    "axis[0,0].set_title('SANO')\n",
    "axis[0,1].imshow(enf_im)\n",
    "axis[0,1].set_title('NEUMONIA')\n",
    "axis[1,0].imshow(sano_prepared[0,...], cmap = 'gray')\n",
    "axis[1,1].imshow(enf_prepared[0,...], cmap = 'gray')\n",
    "print('                     {}                                 {}'.format(neumonia_model.predict(sano_prepared)[0][0], neumonia_model.predict(enf_prepared)[0][0]))"
   ]
  },
  {
   "cell_type": "code",
   "execution_count": null,
   "id": "c57af35a-d220-4fc7-bb08-ad168ba8d12b",
   "metadata": {},
   "outputs": [],
   "source": [
    "model1 = tf.keras.models.Model(neumonia_model.inputs, neumonia_model.layers[0].output)"
   ]
  },
  {
   "cell_type": "code",
   "execution_count": null,
   "id": "218582cf-3054-415a-b7d5-1ffc5b2ae0de",
   "metadata": {},
   "outputs": [],
   "source": [
    "model = tf.keras.models.Model([neumonia_model.input, neumonia_model.layers[1].input], [neumonia_model.layers[1].output, neumonia_model.output])"
   ]
  },
  {
   "cell_type": "code",
   "execution_count": null,
   "id": "76fb4884-30e3-4bd7-92fa-26e4d7f7df81",
   "metadata": {},
   "outputs": [],
   "source": [
    "img = enf_prepared"
   ]
  },
  {
   "cell_type": "code",
   "execution_count": null,
   "id": "13c2a5a3-e71c-41ce-9261-e0c54b89d75b",
   "metadata": {},
   "outputs": [],
   "source": [
    "conv, pred = model.predict([img, model1(img)])"
   ]
  },
  {
   "cell_type": "code",
   "execution_count": null,
   "id": "40a24ef3-bd86-477c-89be-3781f91f66aa",
   "metadata": {},
   "outputs": [],
   "source": [
    "scale = 224 / 7\n",
    "plt.figure(figsize=(12, 12))\n",
    "plt.imshow(img[0,...])\n",
    "plt.imshow(zoom(np.sum(conv, axis = 3).squeeze(), zoom=(scale, scale)), cmap='jet', alpha=0.5)"
   ]
  },
  {
   "cell_type": "markdown",
   "id": "175c89b0-27ce-46dd-96ab-39de3ba4b334",
   "metadata": {},
   "source": [
    "# GRAD-CAM"
   ]
  },
  {
   "cell_type": "code",
   "execution_count": null,
   "id": "ef3ac3d2-795c-41cb-beef-74394c752c76",
   "metadata": {},
   "outputs": [],
   "source": [
    "import matplotlib.cm as cm\n",
    "from IPython.display import Image, display"
   ]
  },
  {
   "cell_type": "code",
   "execution_count": null,
   "id": "8dd97728-ebb9-4869-9d4e-b11996c14aac",
   "metadata": {},
   "outputs": [],
   "source": [
    "neumonia_model.summary()"
   ]
  },
  {
   "cell_type": "code",
   "execution_count": null,
   "id": "bfae2186-4fff-4611-b9f0-5e4eba306d6c",
   "metadata": {},
   "outputs": [],
   "source": [
    "def make_gradcam_heatmap(img_array, model, last_conv_layer_name, pred_index=None):\n",
    "    # First, we create a model that maps the input image to the activations\n",
    "    # of the last conv layer as well as the output predictions\n",
    "    # Then, we compute the gradient of the top predicted class for our input image\n",
    "    # with respect to the activations of the last conv layer\n",
    "    grad_model = tf.keras.models.Model(\n",
    "        [model.inputs], [model.get_layer(last_conv_layer_name).output, model.output]\n",
    "    )\n",
    "    \n",
    "    with tf.GradientTape() as tape:\n",
    "        last_conv_layer_output, preds = grad_model(img_array)\n",
    "        if pred_index is None:\n",
    "            pred_index = tf.argmax(preds[0])\n",
    "        class_channel = preds[:, pred_index]\n",
    "\n",
    "    # This is the gradient of the output neuron (top predicted or chosen)\n",
    "    # with regard to the output feature map of the last conv layer\n",
    "    grads = tape.gradient(class_channel, last_conv_layer_output)\n",
    "\n",
    "    # This is a vector where each entry is the mean intensity of the gradient\n",
    "    # over a specific feature map channel\n",
    "    pooled_grads = tf.reduce_mean(grads, axis=(0, 1, 2))\n",
    "\n",
    "    # We multiply each channel in the feature map array\n",
    "    # by \"how important this channel is\" with regard to the top predicted class\n",
    "    # then sum all the channels to obtain the heatmap class activation\n",
    "    last_conv_layer_output = last_conv_layer_output[0]\n",
    "    heatmap = last_conv_layer_output @ pooled_grads[..., tf.newaxis]\n",
    "    heatmap = tf.squeeze(heatmap)\n",
    "\n",
    "    # For visualization purpose, we will also normalize the heatmap between 0 & 1\n",
    "    heatmap = tf.maximum(heatmap, 0) / tf.math.reduce_max(heatmap)\n",
    "    return heatmap.numpy()\n",
    "\n",
    "def save_and_display_gradcam(img, heatmap, cam_path=\"cam.jpg\", alpha=0.4):\n",
    "    # Rescale heatmap to a range 0-255\n",
    "    heatmap = np.uint8(255 * heatmap)\n",
    "\n",
    "    # Use jet colormap to colorize heatmap\n",
    "    jet = cm.get_cmap(\"jet\")\n",
    "\n",
    "    # Use RGB values of the colormap\n",
    "    jet_colors = jet(np.arange(256))[:, :3]\n",
    "    jet_heatmap = jet_colors[heatmap]\n",
    "\n",
    "    # Create an image with RGB colorized heatmap\n",
    "    jet_heatmap = keras.preprocessing.image.array_to_img(jet_heatmap)\n",
    "    jet_heatmap = jet_heatmap.resize((img.shape[1], img.shape[0]))\n",
    "    jet_heatmap = keras.preprocessing.image.img_to_array(jet_heatmap)\n",
    "\n",
    "    # Superimpose the heatmap on original image\n",
    "    superimposed_img = jet_heatmap * alpha + img\n",
    "    superimposed_img = keras.preprocessing.image.array_to_img(superimposed_img)\n",
    "\n",
    "    # Save the superimposed image\n",
    "    superimposed_img.save(cam_path)\n",
    "\n",
    "    # Display Grad CAM\n",
    "    display(Image(cam_path))"
   ]
  },
  {
   "cell_type": "code",
   "execution_count": null,
   "id": "315aff0b-8c08-4a48-82aa-21953256c9aa",
   "metadata": {},
   "outputs": [],
   "source": [
    "sano = covid[covid['class'] == 1].iloc[np.random.randint(1000)]\n",
    "enfermo = covid[covid['class'] == 0].iloc[np.random.randint(1000)]\n",
    "sano_im = cv2.imread(os.path.join(path, sano.img_name))\n",
    "enf_im = cv2.imread(os.path.join(path, enfermo.img_name))\n",
    "sano_prepared = np.expand_dims(get_prepared_img(sano_im, pixels), axis = 0)\n",
    "enf_prepared = np.expand_dims(get_prepared_img(enf_im, pixels), axis = 0)"
   ]
  },
  {
   "cell_type": "code",
   "execution_count": null,
   "id": "6d370830-25fc-4b8c-b684-7e6f2d1f09e3",
   "metadata": {},
   "outputs": [],
   "source": [
    "figure, axis = plt.subplots(1,2)\n",
    "figure.set_size_inches(10,10)\n",
    "axis[0].imshow(sano_im)\n",
    "axis[0].set_title('SANO')\n",
    "axis[1].imshow(enf_im)\n",
    "axis[1].set_title('NEUMONIA')\n",
    "print('                     {}                                 {}'.format(neumonia_model.predict(sano_prepared)[0][0], neumonia_model.predict(enf_prepared)[0][0]))"
   ]
  },
  {
   "cell_type": "code",
   "execution_count": null,
   "id": "c19d9b32-83af-4a61-bbab-b25a7f9fdc83",
   "metadata": {},
   "outputs": [],
   "source": [
    "heatmap = make_gradcam_heatmap(enf_prepared, neumonia_model, 'conv_salida')\n",
    "# Display heatmap\n",
    "plt.matshow(heatmap)\n",
    "plt.show()"
   ]
  },
  {
   "cell_type": "code",
   "execution_count": null,
   "id": "e90d4247-065d-4111-8fd3-e2e9520f47ca",
   "metadata": {},
   "outputs": [],
   "source": [
    "save_and_display_gradcam(enf_im, heatmap)"
   ]
  },
  {
   "cell_type": "code",
   "execution_count": null,
   "id": "49f74331-7e56-48bb-8a92-6c9a15a7264c",
   "metadata": {},
   "outputs": [],
   "source": []
  },
  {
   "cell_type": "code",
   "execution_count": null,
   "id": "e9911574-869e-4a14-a70d-285bfc342fef",
   "metadata": {},
   "outputs": [],
   "source": []
  }
 ],
 "metadata": {
  "kernelspec": {
   "display_name": "Python 3 (ipykernel)",
   "language": "python",
   "name": "python3"
  },
  "language_info": {
   "codemirror_mode": {
    "name": "ipython",
    "version": 3
   },
   "file_extension": ".py",
   "mimetype": "text/x-python",
   "name": "python",
   "nbconvert_exporter": "python",
   "pygments_lexer": "ipython3",
   "version": "3.9.13"
  }
 },
 "nbformat": 4,
 "nbformat_minor": 5
}
