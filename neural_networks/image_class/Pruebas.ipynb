{
 "cells": [
  {
   "cell_type": "code",
   "execution_count": 1093,
   "id": "274694aa-041a-4bbc-acce-10f67527ea75",
   "metadata": {},
   "outputs": [],
   "source": [
    "import pandas as pd\n",
    "import numpy as np\n",
    "import re\n",
    "import os"
   ]
  },
  {
   "cell_type": "code",
   "execution_count": 1094,
   "id": "bf190ff5-f82a-4127-abe1-663fc4b19849",
   "metadata": {},
   "outputs": [],
   "source": [
    "import matplotlib.pyplot as plt"
   ]
  },
  {
   "cell_type": "code",
   "execution_count": 1095,
   "id": "8913077f-02ef-4542-9008-a02a5847909b",
   "metadata": {},
   "outputs": [],
   "source": [
    "import seaborn as sns"
   ]
  },
  {
   "cell_type": "markdown",
   "id": "74ee88e9-21d7-4def-b4d2-8cfd85ff11ff",
   "metadata": {},
   "source": [
    "# TRAIN RESULTS\n",
    "\n",
    "Estos son los resultados del entrenamiento (history). Está recogido el máximo valor de cada una de las métricas y de la loss (no sabemos que epoch es)"
   ]
  },
  {
   "cell_type": "code",
   "execution_count": 1096,
   "id": "88b6a683-b9a4-47f2-a394-3d85874ccb7f",
   "metadata": {},
   "outputs": [],
   "source": [
    "path = '/home/mr1142/Documents/Data/models/neumonia/training_data/train_max.csv'\n",
    "df_train = pd.read_csv(path)"
   ]
  },
  {
   "cell_type": "code",
   "execution_count": 1097,
   "id": "ad5c8f77-1e17-463b-8565-5f1f7b25eb0b",
   "metadata": {},
   "outputs": [],
   "source": [
    "p = '/home/mr1142/Documents/Data/models/neumonia'\n",
    "modelos = os.listdir(p)\n",
    "modelos = [modelo[:-3] for modelo in modelos if os.path.isfile(os.path.join(p, modelo))]\n",
    "modelos = [modelo for modelo in modelos if not bool(re.search('completo', modelo))]\n",
    "modelos_evaluados = list(df_train['name'])"
   ]
  },
  {
   "cell_type": "code",
   "execution_count": 1098,
   "id": "d336d647-d9e3-420b-92ff-859fb1360ffe",
   "metadata": {},
   "outputs": [
    {
     "name": "stdout",
     "output_type": "stream",
     "text": [
      "89\n",
      "89\n"
     ]
    }
   ],
   "source": [
    "print(len(modelos))\n",
    "print(len(modelos_evaluados))"
   ]
  },
  {
   "cell_type": "code",
   "execution_count": 1037,
   "id": "5d91f644-18bd-4022-a77a-0a92cf77669f",
   "metadata": {},
   "outputs": [
    {
     "data": {
      "text/plain": [
       "[]"
      ]
     },
     "execution_count": 1037,
     "metadata": {},
     "output_type": "execute_result"
    }
   ],
   "source": [
    "evaluados_de_menos = list(set(modelos)-set(modelos_evaluados))\n",
    "evaluados_de_menos"
   ]
  },
  {
   "cell_type": "code",
   "execution_count": 1039,
   "id": "a428e65a-0317-40f2-b828-1764308f3bab",
   "metadata": {},
   "outputs": [
    {
     "data": {
      "text/plain": [
       "['prueba_mask_IncResNet_fine-03_batch-8_lr--05_auc-84']"
      ]
     },
     "execution_count": 1039,
     "metadata": {},
     "output_type": "execute_result"
    }
   ],
   "source": [
    "evaluados_de_mas = list(set(modelos_evaluados)-set(modelos))\n",
    "ix = [i for i in df_train.index if df_train.name[i] in evaluados_de_mas]\n",
    "evaluados_de_mas"
   ]
  },
  {
   "cell_type": "code",
   "execution_count": 1027,
   "id": "a16c2648-157c-4244-bd0f-705d1c8b7f9e",
   "metadata": {},
   "outputs": [
    {
     "data": {
      "image/png": "[encoded data removed]",
      "text/plain": [
       "<Figure size 720x360 with 1 Axes>"
      ]
     },
     "metadata": {
      "needs_background": "light"
     },
     "output_type": "display_data"
    }
   ],
   "source": [
    "plt.subplots(figsize=(10,5))\n",
    "p = sns.countplot(x=\"modelo\",\n",
    "                hue=\"mask\",\n",
    "                data=df_train)"
   ]
  },
  {
   "cell_type": "code",
   "execution_count": 1030,
   "id": "685b196c-9430-4199-8adc-67e759182a86",
   "metadata": {},
   "outputs": [
    {
     "data": {
      "text/html": [
       "<div>\n",
       "<style scoped>\n",
       "    .dataframe tbody tr th:only-of-type {\n",
       "        vertical-align: middle;\n",
       "    }\n",
       "\n",
       "    .dataframe tbody tr th {\n",
       "        vertical-align: top;\n",
       "    }\n",
       "\n",
       "    .dataframe thead th {\n",
       "        text-align: right;\n",
       "    }\n",
       "</style>\n",
       "<table border=\"1\" class=\"dataframe\">\n",
       "  <thead>\n",
       "    <tr style=\"text-align: right;\">\n",
       "      <th></th>\n",
       "      <th>name</th>\n",
       "      <th>modelo</th>\n",
       "      <th>fine</th>\n",
       "      <th>batch</th>\n",
       "      <th>lr</th>\n",
       "      <th>mask</th>\n",
       "      <th>trainprop</th>\n",
       "      <th>pixels</th>\n",
       "      <th>subset</th>\n",
       "      <th>loss</th>\n",
       "      <th>binary_accuracy</th>\n",
       "      <th>precision</th>\n",
       "      <th>auc</th>\n",
       "      <th>val_loss</th>\n",
       "      <th>val_binary_accuracy</th>\n",
       "      <th>val_precision</th>\n",
       "      <th>val_auc</th>\n",
       "    </tr>\n",
       "  </thead>\n",
       "  <tbody>\n",
       "    <tr>\n",
       "      <th>86</th>\n",
       "      <td>prueba_IncResNet_fine-03_batch-8_lr--05_auc-84</td>\n",
       "      <td>IncResNet</td>\n",
       "      <td>0.3</td>\n",
       "      <td>8</td>\n",
       "      <td>0.00001</td>\n",
       "      <td>0</td>\n",
       "      <td>0.8</td>\n",
       "      <td>512</td>\n",
       "      <td>1.0</td>\n",
       "      <td>1.715717</td>\n",
       "      <td>0.995411</td>\n",
       "      <td>0.994975</td>\n",
       "      <td>0.999860</td>\n",
       "      <td>1.124629e+00</td>\n",
       "      <td>0.770000</td>\n",
       "      <td>0.666667</td>\n",
       "      <td>0.849856</td>\n",
       "    </tr>\n",
       "    <tr>\n",
       "      <th>89</th>\n",
       "      <td>prueba_mask_IncResNet_fine-03_batch-8_lr--05_a...</td>\n",
       "      <td>IncResNet</td>\n",
       "      <td>0.3</td>\n",
       "      <td>8</td>\n",
       "      <td>0.00001</td>\n",
       "      <td>0</td>\n",
       "      <td>0.8</td>\n",
       "      <td>512</td>\n",
       "      <td>1.0</td>\n",
       "      <td>1.600966</td>\n",
       "      <td>0.989987</td>\n",
       "      <td>0.987421</td>\n",
       "      <td>0.999694</td>\n",
       "      <td>1.209644e+00</td>\n",
       "      <td>0.770000</td>\n",
       "      <td>0.666667</td>\n",
       "      <td>0.845500</td>\n",
       "    </tr>\n",
       "    <tr>\n",
       "      <th>28</th>\n",
       "      <td>prueba_IncResNet_fine-03_batch-8_lr-0001_auc-94</td>\n",
       "      <td>IncResNet</td>\n",
       "      <td>0.3</td>\n",
       "      <td>8</td>\n",
       "      <td>0.00010</td>\n",
       "      <td>0</td>\n",
       "      <td>0.8</td>\n",
       "      <td>512</td>\n",
       "      <td>1.0</td>\n",
       "      <td>1.260808</td>\n",
       "      <td>0.995828</td>\n",
       "      <td>0.993742</td>\n",
       "      <td>0.999776</td>\n",
       "      <td>2.095761e+00</td>\n",
       "      <td>0.891667</td>\n",
       "      <td>0.842640</td>\n",
       "      <td>0.948006</td>\n",
       "    </tr>\n",
       "    <tr>\n",
       "      <th>36</th>\n",
       "      <td>prueba_mask_IncResNet_fine-03_batch-8_lr-0001_...</td>\n",
       "      <td>IncResNet</td>\n",
       "      <td>0.3</td>\n",
       "      <td>8</td>\n",
       "      <td>0.00010</td>\n",
       "      <td>1</td>\n",
       "      <td>0.8</td>\n",
       "      <td>512</td>\n",
       "      <td>1.0</td>\n",
       "      <td>1.144002</td>\n",
       "      <td>0.979975</td>\n",
       "      <td>0.969962</td>\n",
       "      <td>0.997255</td>\n",
       "      <td>1.268692e+00</td>\n",
       "      <td>0.856667</td>\n",
       "      <td>0.785000</td>\n",
       "      <td>0.911038</td>\n",
       "    </tr>\n",
       "    <tr>\n",
       "      <th>61</th>\n",
       "      <td>prueba_IncResNet_fine-03_batch-8_lr-001_auc-87</td>\n",
       "      <td>IncResNet</td>\n",
       "      <td>0.3</td>\n",
       "      <td>8</td>\n",
       "      <td>0.00100</td>\n",
       "      <td>0</td>\n",
       "      <td>0.8</td>\n",
       "      <td>512</td>\n",
       "      <td>1.0</td>\n",
       "      <td>1.623771</td>\n",
       "      <td>0.773467</td>\n",
       "      <td>0.707386</td>\n",
       "      <td>0.882917</td>\n",
       "      <td>2.430985e+07</td>\n",
       "      <td>0.791667</td>\n",
       "      <td>0.720000</td>\n",
       "      <td>0.879350</td>\n",
       "    </tr>\n",
       "    <tr>\n",
       "      <th>60</th>\n",
       "      <td>prueba_mask_IncResNet_fine-03_batch-8_lr-001_a...</td>\n",
       "      <td>IncResNet</td>\n",
       "      <td>0.3</td>\n",
       "      <td>8</td>\n",
       "      <td>0.00100</td>\n",
       "      <td>1</td>\n",
       "      <td>0.8</td>\n",
       "      <td>512</td>\n",
       "      <td>1.0</td>\n",
       "      <td>1.319172</td>\n",
       "      <td>0.932833</td>\n",
       "      <td>0.899749</td>\n",
       "      <td>0.977675</td>\n",
       "      <td>6.069530e+03</td>\n",
       "      <td>0.803333</td>\n",
       "      <td>0.705000</td>\n",
       "      <td>0.852363</td>\n",
       "    </tr>\n",
       "    <tr>\n",
       "      <th>63</th>\n",
       "      <td>prueba_IncResNet_fine-05_batch-8_lr--05_auc-83</td>\n",
       "      <td>IncResNet</td>\n",
       "      <td>0.5</td>\n",
       "      <td>8</td>\n",
       "      <td>0.00001</td>\n",
       "      <td>0</td>\n",
       "      <td>0.8</td>\n",
       "      <td>512</td>\n",
       "      <td>1.0</td>\n",
       "      <td>1.719204</td>\n",
       "      <td>0.994994</td>\n",
       "      <td>0.993726</td>\n",
       "      <td>0.999635</td>\n",
       "      <td>1.167631e+00</td>\n",
       "      <td>0.770000</td>\n",
       "      <td>0.666667</td>\n",
       "      <td>0.833581</td>\n",
       "    </tr>\n",
       "    <tr>\n",
       "      <th>62</th>\n",
       "      <td>prueba_mask_IncResNet_fine-05_batch-8_lr--05_a...</td>\n",
       "      <td>IncResNet</td>\n",
       "      <td>0.5</td>\n",
       "      <td>8</td>\n",
       "      <td>0.00001</td>\n",
       "      <td>1</td>\n",
       "      <td>0.8</td>\n",
       "      <td>512</td>\n",
       "      <td>1.0</td>\n",
       "      <td>1.709749</td>\n",
       "      <td>0.970797</td>\n",
       "      <td>0.959647</td>\n",
       "      <td>0.995702</td>\n",
       "      <td>1.103577e+00</td>\n",
       "      <td>0.786667</td>\n",
       "      <td>0.714286</td>\n",
       "      <td>0.856300</td>\n",
       "    </tr>\n",
       "    <tr>\n",
       "      <th>27</th>\n",
       "      <td>prueba_IncResNet_fine-05_batch-8_lr-0001_auc-92</td>\n",
       "      <td>IncResNet</td>\n",
       "      <td>0.5</td>\n",
       "      <td>8</td>\n",
       "      <td>0.00010</td>\n",
       "      <td>0</td>\n",
       "      <td>0.8</td>\n",
       "      <td>512</td>\n",
       "      <td>1.0</td>\n",
       "      <td>1.211847</td>\n",
       "      <td>0.993325</td>\n",
       "      <td>0.989987</td>\n",
       "      <td>0.999795</td>\n",
       "      <td>1.216238e+00</td>\n",
       "      <td>0.866667</td>\n",
       "      <td>0.803030</td>\n",
       "      <td>0.924950</td>\n",
       "    </tr>\n",
       "    <tr>\n",
       "      <th>38</th>\n",
       "      <td>prueba_mask_IncResNet_fine-05_batch-8_lr-0001_...</td>\n",
       "      <td>IncResNet</td>\n",
       "      <td>0.5</td>\n",
       "      <td>8</td>\n",
       "      <td>0.00010</td>\n",
       "      <td>1</td>\n",
       "      <td>0.8</td>\n",
       "      <td>512</td>\n",
       "      <td>1.0</td>\n",
       "      <td>1.304167</td>\n",
       "      <td>0.997497</td>\n",
       "      <td>0.996245</td>\n",
       "      <td>0.999937</td>\n",
       "      <td>1.210742e+00</td>\n",
       "      <td>0.883333</td>\n",
       "      <td>0.825000</td>\n",
       "      <td>0.957837</td>\n",
       "    </tr>\n",
       "    <tr>\n",
       "      <th>65</th>\n",
       "      <td>prueba_IncResNet_fine-05_batch-8_lr-001_auc-86</td>\n",
       "      <td>IncResNet</td>\n",
       "      <td>0.5</td>\n",
       "      <td>8</td>\n",
       "      <td>0.00100</td>\n",
       "      <td>0</td>\n",
       "      <td>0.8</td>\n",
       "      <td>512</td>\n",
       "      <td>1.0</td>\n",
       "      <td>1.593972</td>\n",
       "      <td>0.811014</td>\n",
       "      <td>0.721795</td>\n",
       "      <td>0.905613</td>\n",
       "      <td>5.240712e+04</td>\n",
       "      <td>0.775000</td>\n",
       "      <td>0.676647</td>\n",
       "      <td>0.867469</td>\n",
       "    </tr>\n",
       "    <tr>\n",
       "      <th>64</th>\n",
       "      <td>prueba_mask_IncResNet_fine-05_batch-8_lr-001_a...</td>\n",
       "      <td>IncResNet</td>\n",
       "      <td>0.5</td>\n",
       "      <td>8</td>\n",
       "      <td>0.00100</td>\n",
       "      <td>1</td>\n",
       "      <td>0.8</td>\n",
       "      <td>512</td>\n",
       "      <td>1.0</td>\n",
       "      <td>1.470633</td>\n",
       "      <td>0.939090</td>\n",
       "      <td>0.908636</td>\n",
       "      <td>0.981171</td>\n",
       "      <td>3.637195e+03</td>\n",
       "      <td>0.851667</td>\n",
       "      <td>0.778894</td>\n",
       "      <td>0.903369</td>\n",
       "    </tr>\n",
       "    <tr>\n",
       "      <th>67</th>\n",
       "      <td>prueba_IncResNet_fine-07_batch-8_lr--05_auc-85</td>\n",
       "      <td>IncResNet</td>\n",
       "      <td>0.7</td>\n",
       "      <td>8</td>\n",
       "      <td>0.00001</td>\n",
       "      <td>0</td>\n",
       "      <td>0.8</td>\n",
       "      <td>512</td>\n",
       "      <td>1.0</td>\n",
       "      <td>1.864250</td>\n",
       "      <td>0.997080</td>\n",
       "      <td>0.996241</td>\n",
       "      <td>0.999893</td>\n",
       "      <td>1.024708e+00</td>\n",
       "      <td>0.783333</td>\n",
       "      <td>0.686170</td>\n",
       "      <td>0.858475</td>\n",
       "    </tr>\n",
       "    <tr>\n",
       "      <th>66</th>\n",
       "      <td>prueba_mask_IncResNet_fine-07_batch-8_lr--05_a...</td>\n",
       "      <td>IncResNet</td>\n",
       "      <td>0.7</td>\n",
       "      <td>8</td>\n",
       "      <td>0.00001</td>\n",
       "      <td>1</td>\n",
       "      <td>0.8</td>\n",
       "      <td>512</td>\n",
       "      <td>1.0</td>\n",
       "      <td>2.167840</td>\n",
       "      <td>0.990405</td>\n",
       "      <td>0.986216</td>\n",
       "      <td>0.999067</td>\n",
       "      <td>1.241106e+00</td>\n",
       "      <td>0.805000</td>\n",
       "      <td>0.717277</td>\n",
       "      <td>0.873900</td>\n",
       "    </tr>\n",
       "    <tr>\n",
       "      <th>25</th>\n",
       "      <td>prueba_IncResNet_fine-07_batch-8_lr-0001_auc-90</td>\n",
       "      <td>IncResNet</td>\n",
       "      <td>0.7</td>\n",
       "      <td>8</td>\n",
       "      <td>0.00010</td>\n",
       "      <td>0</td>\n",
       "      <td>0.8</td>\n",
       "      <td>512</td>\n",
       "      <td>1.0</td>\n",
       "      <td>1.164905</td>\n",
       "      <td>0.991656</td>\n",
       "      <td>0.987484</td>\n",
       "      <td>0.999556</td>\n",
       "      <td>2.043909e+00</td>\n",
       "      <td>0.856667</td>\n",
       "      <td>0.785000</td>\n",
       "      <td>0.908962</td>\n",
       "    </tr>\n",
       "    <tr>\n",
       "      <th>34</th>\n",
       "      <td>prueba_mask_IncResNet_fine-07_batch-8_lr-0001_...</td>\n",
       "      <td>IncResNet</td>\n",
       "      <td>0.7</td>\n",
       "      <td>8</td>\n",
       "      <td>0.00010</td>\n",
       "      <td>1</td>\n",
       "      <td>0.8</td>\n",
       "      <td>512</td>\n",
       "      <td>1.0</td>\n",
       "      <td>1.413459</td>\n",
       "      <td>0.995828</td>\n",
       "      <td>0.993742</td>\n",
       "      <td>0.999965</td>\n",
       "      <td>1.163453e+00</td>\n",
       "      <td>0.873333</td>\n",
       "      <td>0.813131</td>\n",
       "      <td>0.934225</td>\n",
       "    </tr>\n",
       "    <tr>\n",
       "      <th>69</th>\n",
       "      <td>prueba_IncResNet_fine-07_batch-8_lr-001_auc-91</td>\n",
       "      <td>IncResNet</td>\n",
       "      <td>0.7</td>\n",
       "      <td>8</td>\n",
       "      <td>0.00100</td>\n",
       "      <td>0</td>\n",
       "      <td>0.8</td>\n",
       "      <td>512</td>\n",
       "      <td>1.0</td>\n",
       "      <td>1.400097</td>\n",
       "      <td>0.873592</td>\n",
       "      <td>0.812343</td>\n",
       "      <td>0.944324</td>\n",
       "      <td>1.296532e+03</td>\n",
       "      <td>0.828333</td>\n",
       "      <td>0.747423</td>\n",
       "      <td>0.915100</td>\n",
       "    </tr>\n",
       "    <tr>\n",
       "      <th>68</th>\n",
       "      <td>prueba_mask_IncResNet_fine-07_batch-8_lr-001_a...</td>\n",
       "      <td>IncResNet</td>\n",
       "      <td>0.7</td>\n",
       "      <td>8</td>\n",
       "      <td>0.00100</td>\n",
       "      <td>1</td>\n",
       "      <td>0.8</td>\n",
       "      <td>512</td>\n",
       "      <td>1.0</td>\n",
       "      <td>1.489510</td>\n",
       "      <td>0.937422</td>\n",
       "      <td>0.907152</td>\n",
       "      <td>0.972843</td>\n",
       "      <td>2.202033e+04</td>\n",
       "      <td>0.863333</td>\n",
       "      <td>0.795000</td>\n",
       "      <td>0.914869</td>\n",
       "    </tr>\n",
       "    <tr>\n",
       "      <th>71</th>\n",
       "      <td>prueba_IncResNet_fine-08_batch-8_lr--05_auc-84</td>\n",
       "      <td>IncResNet</td>\n",
       "      <td>0.8</td>\n",
       "      <td>8</td>\n",
       "      <td>0.00001</td>\n",
       "      <td>0</td>\n",
       "      <td>0.8</td>\n",
       "      <td>512</td>\n",
       "      <td>1.0</td>\n",
       "      <td>1.590594</td>\n",
       "      <td>0.985398</td>\n",
       "      <td>0.981108</td>\n",
       "      <td>0.999220</td>\n",
       "      <td>1.054757e+00</td>\n",
       "      <td>0.766667</td>\n",
       "      <td>0.727273</td>\n",
       "      <td>0.840319</td>\n",
       "    </tr>\n",
       "    <tr>\n",
       "      <th>70</th>\n",
       "      <td>prueba_mask_IncResNet_fine-08_batch-8_lr--05_a...</td>\n",
       "      <td>IncResNet</td>\n",
       "      <td>0.8</td>\n",
       "      <td>8</td>\n",
       "      <td>0.00001</td>\n",
       "      <td>1</td>\n",
       "      <td>0.8</td>\n",
       "      <td>512</td>\n",
       "      <td>1.0</td>\n",
       "      <td>1.529430</td>\n",
       "      <td>0.974969</td>\n",
       "      <td>0.965952</td>\n",
       "      <td>0.997807</td>\n",
       "      <td>1.033484e+00</td>\n",
       "      <td>0.778333</td>\n",
       "      <td>0.703030</td>\n",
       "      <td>0.847687</td>\n",
       "    </tr>\n",
       "    <tr>\n",
       "      <th>24</th>\n",
       "      <td>prueba_IncResNet_fine-08_batch-8_lr-0001_auc-91</td>\n",
       "      <td>IncResNet</td>\n",
       "      <td>0.8</td>\n",
       "      <td>8</td>\n",
       "      <td>0.00010</td>\n",
       "      <td>0</td>\n",
       "      <td>0.8</td>\n",
       "      <td>512</td>\n",
       "      <td>1.0</td>\n",
       "      <td>1.241510</td>\n",
       "      <td>0.992908</td>\n",
       "      <td>0.989975</td>\n",
       "      <td>0.999677</td>\n",
       "      <td>1.820445e+00</td>\n",
       "      <td>0.881667</td>\n",
       "      <td>0.827411</td>\n",
       "      <td>0.915737</td>\n",
       "    </tr>\n",
       "    <tr>\n",
       "      <th>33</th>\n",
       "      <td>prueba_mask_IncResNet_fine-08_batch-8_lr-0001_...</td>\n",
       "      <td>IncResNet</td>\n",
       "      <td>0.8</td>\n",
       "      <td>8</td>\n",
       "      <td>0.00010</td>\n",
       "      <td>1</td>\n",
       "      <td>0.8</td>\n",
       "      <td>512</td>\n",
       "      <td>1.0</td>\n",
       "      <td>1.354176</td>\n",
       "      <td>0.991656</td>\n",
       "      <td>0.987484</td>\n",
       "      <td>0.999412</td>\n",
       "      <td>1.679872e+00</td>\n",
       "      <td>0.861667</td>\n",
       "      <td>0.793970</td>\n",
       "      <td>0.925213</td>\n",
       "    </tr>\n",
       "    <tr>\n",
       "      <th>73</th>\n",
       "      <td>prueba_IncResNet_fine-08_batch-8_lr-001_auc-90</td>\n",
       "      <td>IncResNet</td>\n",
       "      <td>0.8</td>\n",
       "      <td>8</td>\n",
       "      <td>0.00100</td>\n",
       "      <td>0</td>\n",
       "      <td>0.8</td>\n",
       "      <td>512</td>\n",
       "      <td>1.0</td>\n",
       "      <td>1.783594</td>\n",
       "      <td>0.932415</td>\n",
       "      <td>0.900629</td>\n",
       "      <td>0.969127</td>\n",
       "      <td>1.309785e+04</td>\n",
       "      <td>0.860000</td>\n",
       "      <td>0.792929</td>\n",
       "      <td>0.904394</td>\n",
       "    </tr>\n",
       "    <tr>\n",
       "      <th>72</th>\n",
       "      <td>prueba_mask_IncResNet_fine-08_batch-8_lr-001_a...</td>\n",
       "      <td>IncResNet</td>\n",
       "      <td>0.8</td>\n",
       "      <td>8</td>\n",
       "      <td>0.00100</td>\n",
       "      <td>1</td>\n",
       "      <td>0.8</td>\n",
       "      <td>512</td>\n",
       "      <td>1.0</td>\n",
       "      <td>1.854414</td>\n",
       "      <td>0.912808</td>\n",
       "      <td>0.870603</td>\n",
       "      <td>0.960565</td>\n",
       "      <td>2.750955e+01</td>\n",
       "      <td>0.823334</td>\n",
       "      <td>0.735000</td>\n",
       "      <td>0.896269</td>\n",
       "    </tr>\n",
       "    <tr>\n",
       "      <th>75</th>\n",
       "      <td>prueba_IncResNet_fine-00_batch-8_lr--05_auc-89</td>\n",
       "      <td>IncResNet</td>\n",
       "      <td>1.0</td>\n",
       "      <td>8</td>\n",
       "      <td>0.00001</td>\n",
       "      <td>0</td>\n",
       "      <td>0.8</td>\n",
       "      <td>512</td>\n",
       "      <td>1.0</td>\n",
       "      <td>1.906734</td>\n",
       "      <td>0.804756</td>\n",
       "      <td>0.725784</td>\n",
       "      <td>0.882709</td>\n",
       "      <td>1.097851e+00</td>\n",
       "      <td>0.811667</td>\n",
       "      <td>0.762821</td>\n",
       "      <td>0.890906</td>\n",
       "    </tr>\n",
       "    <tr>\n",
       "      <th>74</th>\n",
       "      <td>prueba_mask_IncResNet_fine-00_batch-8_lr--05_a...</td>\n",
       "      <td>IncResNet</td>\n",
       "      <td>1.0</td>\n",
       "      <td>8</td>\n",
       "      <td>0.00001</td>\n",
       "      <td>1</td>\n",
       "      <td>0.8</td>\n",
       "      <td>512</td>\n",
       "      <td>1.0</td>\n",
       "      <td>1.840188</td>\n",
       "      <td>0.826867</td>\n",
       "      <td>0.772727</td>\n",
       "      <td>0.898951</td>\n",
       "      <td>1.127782e+00</td>\n",
       "      <td>0.821667</td>\n",
       "      <td>0.773196</td>\n",
       "      <td>0.897169</td>\n",
       "    </tr>\n",
       "    <tr>\n",
       "      <th>16</th>\n",
       "      <td>prueba_IncResNet_fine-00_batch-8_lr-0001_auc-90</td>\n",
       "      <td>IncResNet</td>\n",
       "      <td>1.0</td>\n",
       "      <td>8</td>\n",
       "      <td>0.00010</td>\n",
       "      <td>0</td>\n",
       "      <td>0.8</td>\n",
       "      <td>512</td>\n",
       "      <td>1.0</td>\n",
       "      <td>1.336774</td>\n",
       "      <td>0.859408</td>\n",
       "      <td>0.799223</td>\n",
       "      <td>0.929707</td>\n",
       "      <td>1.036242e+00</td>\n",
       "      <td>0.820000</td>\n",
       "      <td>0.795455</td>\n",
       "      <td>0.903881</td>\n",
       "    </tr>\n",
       "    <tr>\n",
       "      <th>31</th>\n",
       "      <td>prueba_mask_IncResNet_fine-00_batch-8_lr-0001_...</td>\n",
       "      <td>IncResNet</td>\n",
       "      <td>1.0</td>\n",
       "      <td>8</td>\n",
       "      <td>0.00010</td>\n",
       "      <td>1</td>\n",
       "      <td>0.8</td>\n",
       "      <td>512</td>\n",
       "      <td>1.0</td>\n",
       "      <td>1.745840</td>\n",
       "      <td>0.870254</td>\n",
       "      <td>0.816062</td>\n",
       "      <td>0.942773</td>\n",
       "      <td>9.519835e-01</td>\n",
       "      <td>0.833333</td>\n",
       "      <td>0.757732</td>\n",
       "      <td>0.902669</td>\n",
       "    </tr>\n",
       "    <tr>\n",
       "      <th>77</th>\n",
       "      <td>prueba_IncResNet_fine-00_batch-8_lr-001_auc-86</td>\n",
       "      <td>IncResNet</td>\n",
       "      <td>1.0</td>\n",
       "      <td>8</td>\n",
       "      <td>0.00100</td>\n",
       "      <td>0</td>\n",
       "      <td>0.8</td>\n",
       "      <td>512</td>\n",
       "      <td>1.0</td>\n",
       "      <td>2.302477</td>\n",
       "      <td>0.806425</td>\n",
       "      <td>0.721854</td>\n",
       "      <td>0.894658</td>\n",
       "      <td>1.204886e+00</td>\n",
       "      <td>0.776667</td>\n",
       "      <td>0.682081</td>\n",
       "      <td>0.867550</td>\n",
       "    </tr>\n",
       "    <tr>\n",
       "      <th>76</th>\n",
       "      <td>prueba_mask_IncResNet_fine-00_batch-8_lr-001_a...</td>\n",
       "      <td>IncResNet</td>\n",
       "      <td>1.0</td>\n",
       "      <td>8</td>\n",
       "      <td>0.00100</td>\n",
       "      <td>1</td>\n",
       "      <td>0.8</td>\n",
       "      <td>512</td>\n",
       "      <td>1.0</td>\n",
       "      <td>1.983809</td>\n",
       "      <td>0.795578</td>\n",
       "      <td>0.716714</td>\n",
       "      <td>0.864103</td>\n",
       "      <td>1.142520e+00</td>\n",
       "      <td>0.813333</td>\n",
       "      <td>0.932203</td>\n",
       "      <td>0.895681</td>\n",
       "    </tr>\n",
       "  </tbody>\n",
       "</table>\n",
       "</div>"
      ],
      "text/plain": [
       "                                                 name     modelo  fine  batch  \\\n",
       "86     prueba_IncResNet_fine-03_batch-8_lr--05_auc-84  IncResNet   0.3      8   \n",
       "89  prueba_mask_IncResNet_fine-03_batch-8_lr--05_a...  IncResNet   0.3      8   \n",
       "28    prueba_IncResNet_fine-03_batch-8_lr-0001_auc-94  IncResNet   0.3      8   \n",
       "36  prueba_mask_IncResNet_fine-03_batch-8_lr-0001_...  IncResNet   0.3      8   \n",
       "61     prueba_IncResNet_fine-03_batch-8_lr-001_auc-87  IncResNet   0.3      8   \n",
       "60  prueba_mask_IncResNet_fine-03_batch-8_lr-001_a...  IncResNet   0.3      8   \n",
       "63     prueba_IncResNet_fine-05_batch-8_lr--05_auc-83  IncResNet   0.5      8   \n",
       "62  prueba_mask_IncResNet_fine-05_batch-8_lr--05_a...  IncResNet   0.5      8   \n",
       "27    prueba_IncResNet_fine-05_batch-8_lr-0001_auc-92  IncResNet   0.5      8   \n",
       "38  prueba_mask_IncResNet_fine-05_batch-8_lr-0001_...  IncResNet   0.5      8   \n",
       "65     prueba_IncResNet_fine-05_batch-8_lr-001_auc-86  IncResNet   0.5      8   \n",
       "64  prueba_mask_IncResNet_fine-05_batch-8_lr-001_a...  IncResNet   0.5      8   \n",
       "67     prueba_IncResNet_fine-07_batch-8_lr--05_auc-85  IncResNet   0.7      8   \n",
       "66  prueba_mask_IncResNet_fine-07_batch-8_lr--05_a...  IncResNet   0.7      8   \n",
       "25    prueba_IncResNet_fine-07_batch-8_lr-0001_auc-90  IncResNet   0.7      8   \n",
       "34  prueba_mask_IncResNet_fine-07_batch-8_lr-0001_...  IncResNet   0.7      8   \n",
       "69     prueba_IncResNet_fine-07_batch-8_lr-001_auc-91  IncResNet   0.7      8   \n",
       "68  prueba_mask_IncResNet_fine-07_batch-8_lr-001_a...  IncResNet   0.7      8   \n",
       "71     prueba_IncResNet_fine-08_batch-8_lr--05_auc-84  IncResNet   0.8      8   \n",
       "70  prueba_mask_IncResNet_fine-08_batch-8_lr--05_a...  IncResNet   0.8      8   \n",
       "24    prueba_IncResNet_fine-08_batch-8_lr-0001_auc-91  IncResNet   0.8      8   \n",
       "33  prueba_mask_IncResNet_fine-08_batch-8_lr-0001_...  IncResNet   0.8      8   \n",
       "73     prueba_IncResNet_fine-08_batch-8_lr-001_auc-90  IncResNet   0.8      8   \n",
       "72  prueba_mask_IncResNet_fine-08_batch-8_lr-001_a...  IncResNet   0.8      8   \n",
       "75     prueba_IncResNet_fine-00_batch-8_lr--05_auc-89  IncResNet   1.0      8   \n",
       "74  prueba_mask_IncResNet_fine-00_batch-8_lr--05_a...  IncResNet   1.0      8   \n",
       "16    prueba_IncResNet_fine-00_batch-8_lr-0001_auc-90  IncResNet   1.0      8   \n",
       "31  prueba_mask_IncResNet_fine-00_batch-8_lr-0001_...  IncResNet   1.0      8   \n",
       "77     prueba_IncResNet_fine-00_batch-8_lr-001_auc-86  IncResNet   1.0      8   \n",
       "76  prueba_mask_IncResNet_fine-00_batch-8_lr-001_a...  IncResNet   1.0      8   \n",
       "\n",
       "         lr  mask  trainprop  pixels  subset      loss  binary_accuracy  \\\n",
       "86  0.00001     0        0.8     512     1.0  1.715717         0.995411   \n",
       "89  0.00001     0        0.8     512     1.0  1.600966         0.989987   \n",
       "28  0.00010     0        0.8     512     1.0  1.260808         0.995828   \n",
       "36  0.00010     1        0.8     512     1.0  1.144002         0.979975   \n",
       "61  0.00100     0        0.8     512     1.0  1.623771         0.773467   \n",
       "60  0.00100     1        0.8     512     1.0  1.319172         0.932833   \n",
       "63  0.00001     0        0.8     512     1.0  1.719204         0.994994   \n",
       "62  0.00001     1        0.8     512     1.0  1.709749         0.970797   \n",
       "27  0.00010     0        0.8     512     1.0  1.211847         0.993325   \n",
       "38  0.00010     1        0.8     512     1.0  1.304167         0.997497   \n",
       "65  0.00100     0        0.8     512     1.0  1.593972         0.811014   \n",
       "64  0.00100     1        0.8     512     1.0  1.470633         0.939090   \n",
       "67  0.00001     0        0.8     512     1.0  1.864250         0.997080   \n",
       "66  0.00001     1        0.8     512     1.0  2.167840         0.990405   \n",
       "25  0.00010     0        0.8     512     1.0  1.164905         0.991656   \n",
       "34  0.00010     1        0.8     512     1.0  1.413459         0.995828   \n",
       "69  0.00100     0        0.8     512     1.0  1.400097         0.873592   \n",
       "68  0.00100     1        0.8     512     1.0  1.489510         0.937422   \n",
       "71  0.00001     0        0.8     512     1.0  1.590594         0.985398   \n",
       "70  0.00001     1        0.8     512     1.0  1.529430         0.974969   \n",
       "24  0.00010     0        0.8     512     1.0  1.241510         0.992908   \n",
       "33  0.00010     1        0.8     512     1.0  1.354176         0.991656   \n",
       "73  0.00100     0        0.8     512     1.0  1.783594         0.932415   \n",
       "72  0.00100     1        0.8     512     1.0  1.854414         0.912808   \n",
       "75  0.00001     0        0.8     512     1.0  1.906734         0.804756   \n",
       "74  0.00001     1        0.8     512     1.0  1.840188         0.826867   \n",
       "16  0.00010     0        0.8     512     1.0  1.336774         0.859408   \n",
       "31  0.00010     1        0.8     512     1.0  1.745840         0.870254   \n",
       "77  0.00100     0        0.8     512     1.0  2.302477         0.806425   \n",
       "76  0.00100     1        0.8     512     1.0  1.983809         0.795578   \n",
       "\n",
       "    precision       auc      val_loss  val_binary_accuracy  val_precision  \\\n",
       "86   0.994975  0.999860  1.124629e+00             0.770000       0.666667   \n",
       "89   0.987421  0.999694  1.209644e+00             0.770000       0.666667   \n",
       "28   0.993742  0.999776  2.095761e+00             0.891667       0.842640   \n",
       "36   0.969962  0.997255  1.268692e+00             0.856667       0.785000   \n",
       "61   0.707386  0.882917  2.430985e+07             0.791667       0.720000   \n",
       "60   0.899749  0.977675  6.069530e+03             0.803333       0.705000   \n",
       "63   0.993726  0.999635  1.167631e+00             0.770000       0.666667   \n",
       "62   0.959647  0.995702  1.103577e+00             0.786667       0.714286   \n",
       "27   0.989987  0.999795  1.216238e+00             0.866667       0.803030   \n",
       "38   0.996245  0.999937  1.210742e+00             0.883333       0.825000   \n",
       "65   0.721795  0.905613  5.240712e+04             0.775000       0.676647   \n",
       "64   0.908636  0.981171  3.637195e+03             0.851667       0.778894   \n",
       "67   0.996241  0.999893  1.024708e+00             0.783333       0.686170   \n",
       "66   0.986216  0.999067  1.241106e+00             0.805000       0.717277   \n",
       "25   0.987484  0.999556  2.043909e+00             0.856667       0.785000   \n",
       "34   0.993742  0.999965  1.163453e+00             0.873333       0.813131   \n",
       "69   0.812343  0.944324  1.296532e+03             0.828333       0.747423   \n",
       "68   0.907152  0.972843  2.202033e+04             0.863333       0.795000   \n",
       "71   0.981108  0.999220  1.054757e+00             0.766667       0.727273   \n",
       "70   0.965952  0.997807  1.033484e+00             0.778333       0.703030   \n",
       "24   0.989975  0.999677  1.820445e+00             0.881667       0.827411   \n",
       "33   0.987484  0.999412  1.679872e+00             0.861667       0.793970   \n",
       "73   0.900629  0.969127  1.309785e+04             0.860000       0.792929   \n",
       "72   0.870603  0.960565  2.750955e+01             0.823334       0.735000   \n",
       "75   0.725784  0.882709  1.097851e+00             0.811667       0.762821   \n",
       "74   0.772727  0.898951  1.127782e+00             0.821667       0.773196   \n",
       "16   0.799223  0.929707  1.036242e+00             0.820000       0.795455   \n",
       "31   0.816062  0.942773  9.519835e-01             0.833333       0.757732   \n",
       "77   0.721854  0.894658  1.204886e+00             0.776667       0.682081   \n",
       "76   0.716714  0.864103  1.142520e+00             0.813333       0.932203   \n",
       "\n",
       "     val_auc  \n",
       "86  0.849856  \n",
       "89  0.845500  \n",
       "28  0.948006  \n",
       "36  0.911038  \n",
       "61  0.879350  \n",
       "60  0.852363  \n",
       "63  0.833581  \n",
       "62  0.856300  \n",
       "27  0.924950  \n",
       "38  0.957837  \n",
       "65  0.867469  \n",
       "64  0.903369  \n",
       "67  0.858475  \n",
       "66  0.873900  \n",
       "25  0.908962  \n",
       "34  0.934225  \n",
       "69  0.915100  \n",
       "68  0.914869  \n",
       "71  0.840319  \n",
       "70  0.847687  \n",
       "24  0.915737  \n",
       "33  0.925213  \n",
       "73  0.904394  \n",
       "72  0.896269  \n",
       "75  0.890906  \n",
       "74  0.897169  \n",
       "16  0.903881  \n",
       "31  0.902669  \n",
       "77  0.867550  \n",
       "76  0.895681  "
      ]
     },
     "execution_count": 1030,
     "metadata": {},
     "output_type": "execute_result"
    }
   ],
   "source": [
    "df_train[df_train.modelo == 'IncResNet'].sort_values(['fine', 'lr', 'mask'])"
   ]
  },
  {
   "cell_type": "markdown",
   "id": "d2f024d9-a94e-47a9-b481-788604af87cc",
   "metadata": {
    "tags": []
   },
   "source": [
    "## Ploteo"
   ]
  },
  {
   "cell_type": "code",
   "execution_count": 829,
   "id": "6de1f53e-5829-47e1-91b5-9221e788455b",
   "metadata": {},
   "outputs": [],
   "source": [
    "y = 'val_auc'\n",
    "data = df_train\n",
    "lim = np.percentile(data[y], 20)"
   ]
  },
  {
   "cell_type": "code",
   "execution_count": 830,
   "id": "8d18598a-1325-4d40-bd44-3f09a9873539",
   "metadata": {},
   "outputs": [
    {
     "data": {
      "text/plain": [
       "[(0.8530900359153748, 1.0)]"
      ]
     },
     "execution_count": 830,
     "metadata": {},
     "output_type": "execute_result"
    },
    {
     "data": {
      "image/png": "[encoded data removed]",
      "text/plain": [
       "<Figure size 720x360 with 1 Axes>"
      ]
     },
     "metadata": {
      "needs_background": "light"
     },
     "output_type": "display_data"
    }
   ],
   "source": [
    "plt.subplots(figsize=(10,5))\n",
    "p = sns.boxplot(x=\"modelo\", y=y,\n",
    "                hue=\"mask\",\n",
    "                data=data)\n",
    "p.set(ylim=(lim, 1))"
   ]
  },
  {
   "cell_type": "code",
   "execution_count": 831,
   "id": "2afe013f-1ae0-40fa-8270-46d3b300c102",
   "metadata": {},
   "outputs": [
    {
     "data": {
      "text/plain": [
       "[(0.8530900359153748, 1.0)]"
      ]
     },
     "execution_count": 831,
     "metadata": {},
     "output_type": "execute_result"
    },
    {
     "data": {
      "image/png": "[encoded data removed]",
      "text/plain": [
       "<Figure size 720x360 with 1 Axes>"
      ]
     },
     "metadata": {
      "needs_background": "light"
     },
     "output_type": "display_data"
    }
   ],
   "source": [
    "plt.subplots(figsize=(10,5))\n",
    "p = sns.boxplot(x=\"modelo\", y=y,\n",
    "                hue=\"fine\",\n",
    "                data=data)\n",
    "p.set(ylim=(lim, 1))"
   ]
  },
  {
   "cell_type": "code",
   "execution_count": 832,
   "id": "dfa244df-ce51-4ffc-a748-85318c249fba",
   "metadata": {},
   "outputs": [
    {
     "data": {
      "text/plain": [
       "[(0.8530900359153748, 1.0)]"
      ]
     },
     "execution_count": 832,
     "metadata": {},
     "output_type": "execute_result"
    },
    {
     "data": {
      "image/png": "[encoded data removed]",
      "text/plain": [
       "<Figure size 720x360 with 1 Axes>"
      ]
     },
     "metadata": {
      "needs_background": "light"
     },
     "output_type": "display_data"
    }
   ],
   "source": [
    "plt.subplots(figsize=(10,5))\n",
    "p = sns.boxplot(x=\"modelo\", y=y,\n",
    "                hue=\"lr\",\n",
    "                data=data)\n",
    "p.set(ylim=(lim, 1))"
   ]
  },
  {
   "cell_type": "code",
   "execution_count": 833,
   "id": "b5c59db6-f3ca-42a1-99c2-9b26031c07c9",
   "metadata": {},
   "outputs": [
    {
     "data": {
      "text/plain": [
       "[(0.8530900359153748, 1.0)]"
      ]
     },
     "execution_count": 833,
     "metadata": {},
     "output_type": "execute_result"
    },
    {
     "data": {
      "image/png": "[encoded data removed]",
      "text/plain": [
       "<Figure size 720x360 with 1 Axes>"
      ]
     },
     "metadata": {
      "needs_background": "light"
     },
     "output_type": "display_data"
    }
   ],
   "source": [
    "plt.subplots(figsize=(10,5))\n",
    "p = sns.boxplot(x=\"lr\", y=y,\n",
    "                hue=\"mask\",\n",
    "                data=data)\n",
    "p.set(ylim=(lim, 1))"
   ]
  },
  {
   "cell_type": "code",
   "execution_count": 834,
   "id": "7237e7dd-4ece-496d-ab9d-ff3badd528d2",
   "metadata": {},
   "outputs": [
    {
     "data": {
      "text/plain": [
       "[(0.8530900359153748, 1.0)]"
      ]
     },
     "execution_count": 834,
     "metadata": {},
     "output_type": "execute_result"
    },
    {
     "data": {
      "image/png": "[encoded data removed]",
      "text/plain": [
       "<Figure size 720x360 with 1 Axes>"
      ]
     },
     "metadata": {
      "needs_background": "light"
     },
     "output_type": "display_data"
    }
   ],
   "source": [
    "plt.subplots(figsize=(10,5))\n",
    "p = sns.boxplot(x=\"fine\", y=y,\n",
    "                hue=\"mask\",\n",
    "                data=data)\n",
    "p.set(ylim=(lim, 1))"
   ]
  },
  {
   "cell_type": "code",
   "execution_count": 835,
   "id": "7074d068-1c22-45fc-8c94-c2425ccb7d84",
   "metadata": {},
   "outputs": [
    {
     "data": {
      "text/plain": [
       "[(0.8530900359153748, 1.0)]"
      ]
     },
     "execution_count": 835,
     "metadata": {},
     "output_type": "execute_result"
    },
    {
     "data": {
      "image/png": "[encoded data removed]",
      "text/plain": [
       "<Figure size 720x360 with 1 Axes>"
      ]
     },
     "metadata": {
      "needs_background": "light"
     },
     "output_type": "display_data"
    }
   ],
   "source": [
    "plt.subplots(figsize=(10,5))\n",
    "p = sns.boxplot(x=\"fine\", y=y,\n",
    "                hue=\"lr\",\n",
    "                data=data)\n",
    "p.set(ylim=(lim, 1))"
   ]
  },
  {
   "cell_type": "markdown",
   "id": "43bb9767-ff03-4b57-ace2-9e3c302c8b2a",
   "metadata": {},
   "source": [
    "# SUBSET TEST EVALUATION RESULTS\n",
    "\n",
    "Estos son los resultados de aplicar model.evaluate() sobre el subset de X_train que he seleccionado para test."
   ]
  },
  {
   "cell_type": "code",
   "execution_count": 1062,
   "id": "bbae2e7a-16ff-405e-a9a2-9dd229b41556",
   "metadata": {},
   "outputs": [],
   "source": [
    "path = '/home/mr1142/Documents/Data/models/neumonia/validation_results/image_class_evaluation.csv'\n",
    "df_test = pd.read_csv(path)"
   ]
  },
  {
   "cell_type": "markdown",
   "id": "959c0e9b-ee6c-47c8-aedd-c765c5897945",
   "metadata": {},
   "source": [
    "### Modelos sin evaluar"
   ]
  },
  {
   "cell_type": "code",
   "execution_count": 1063,
   "id": "d0ac0840-2904-401b-8828-92bca7d80b89",
   "metadata": {},
   "outputs": [],
   "source": [
    "p = '/home/mr1142/Documents/Data/models/neumonia'\n",
    "modelos = os.listdir(p)\n",
    "modelos = [modelo[:-3] for modelo in modelos if os.path.isfile(os.path.join(p, modelo))]\n",
    "modelos = [modelo for modelo in modelos if not bool(re.search('completo', modelo))]\n",
    "modelos_evaluados = list(df_test['nombre'])"
   ]
  },
  {
   "cell_type": "code",
   "execution_count": 1064,
   "id": "d6ef228e-5667-4d9e-979d-e586e415c77a",
   "metadata": {},
   "outputs": [],
   "source": [
    "modelos_evaluados_resto = [modelo for modelo in modelos_evaluados if \n",
    "                           bool(re.search('resto', modelo))]\n",
    "modelos_evaluados_resto = [re.split('_resto', modelo)[0] for \n",
    "                           modelo in modelos_evaluados_resto]"
   ]
  },
  {
   "cell_type": "code",
   "execution_count": 1065,
   "id": "7936f2da-7fdd-4457-ab93-8191aee9c323",
   "metadata": {},
   "outputs": [
    {
     "name": "stdout",
     "output_type": "stream",
     "text": [
      "89\n",
      "156\n"
     ]
    }
   ],
   "source": [
    "print(len(modelos))\n",
    "print(len(modelos_evaluados))"
   ]
  },
  {
   "cell_type": "code",
   "execution_count": 1066,
   "id": "80146c44-1a3d-414d-8aa5-10b0233e9efe",
   "metadata": {},
   "outputs": [
    {
     "data": {
      "text/plain": [
       "[]"
      ]
     },
     "execution_count": 1066,
     "metadata": {},
     "output_type": "execute_result"
    }
   ],
   "source": [
    "evaluados_de_mas = list(set(modelos_evaluados) - set(modelos))\n",
    "evaluados_de_mas = [modelo for modelo in evaluados_de_mas if not\n",
    "                  bool(re.search('resto', modelo))]\n",
    "ix = [i for i in df_test.index if df_test.nombre[i] in evaluados_de_mas]\n",
    "evaluados_de_mas"
   ]
  },
  {
   "cell_type": "code",
   "execution_count": 1067,
   "id": "1ee9658d-f48f-49f5-b3d7-641ad2e34fc1",
   "metadata": {},
   "outputs": [
    {
     "data": {
      "text/plain": [
       "[]"
      ]
     },
     "execution_count": 1067,
     "metadata": {},
     "output_type": "execute_result"
    }
   ],
   "source": [
    "evaluados_de_menos = list(set(modelos)-set(modelos_evaluados))\n",
    "evaluados_de_menos"
   ]
  },
  {
   "cell_type": "code",
   "execution_count": 1068,
   "id": "83887988-1c7b-476d-92ef-21976809c9a7",
   "metadata": {},
   "outputs": [],
   "source": [
    "# list(set(modelos_evaluados)-set(modelos))"
   ]
  },
  {
   "cell_type": "code",
   "execution_count": 1069,
   "id": "51a942a9-028e-41da-af60-ab09621b18da",
   "metadata": {},
   "outputs": [
    {
     "data": {
      "text/plain": [
       "[]"
      ]
     },
     "execution_count": 1069,
     "metadata": {},
     "output_type": "execute_result"
    }
   ],
   "source": [
    "modelos_train = set(df_train['name'])\n",
    "list(set(modelos_train)-set(modelos_evaluados))"
   ]
  },
  {
   "cell_type": "code",
   "execution_count": 1070,
   "id": "e04b3105-4b66-434b-916e-28be4b2de9f8",
   "metadata": {},
   "outputs": [],
   "source": [
    "df_test = df_test.reset_index(drop = True)"
   ]
  },
  {
   "cell_type": "markdown",
   "id": "8219b2ea-5a4a-4c39-ab41-4cb287e64329",
   "metadata": {
    "tags": []
   },
   "source": [
    "## RESTO"
   ]
  },
  {
   "cell_type": "code",
   "execution_count": 893,
   "id": "e8e3b4dd-39af-4128-afbf-34eed1fc7509",
   "metadata": {},
   "outputs": [],
   "source": [
    "index = [i for i in df_test.index if bool(re.search('resto', df_test['nombre'][i]))]\n",
    "df_resto = df_test.iloc[index]"
   ]
  },
  {
   "cell_type": "code",
   "execution_count": 894,
   "id": "1b042367-c751-4bb2-9894-f36fe7a7e9e9",
   "metadata": {},
   "outputs": [],
   "source": [
    "df_resto = df_resto.reset_index(drop = True)"
   ]
  },
  {
   "cell_type": "code",
   "execution_count": 895,
   "id": "b8014685-d64a-4951-82fb-c8e751823d09",
   "metadata": {},
   "outputs": [],
   "source": [
    "df_resto['mask'] = list(map(lambda x: bool(re.search('mask', x)), df_resto['nombre']))"
   ]
  },
  {
   "cell_type": "code",
   "execution_count": 896,
   "id": "3d9d6df2-4b2a-4199-b9bb-e88b9064e9c0",
   "metadata": {},
   "outputs": [],
   "source": [
    "df_resto['modelo'] = list(map(lambda x: re.split('_', x)[-6], df_resto['nombre']))\n",
    "df_resto['lr'] = list(map(lambda x: re.split('-', re.split('_', x)[-3])[1], df_resto['nombre']))\n",
    "df_resto['batch'] = list(map(lambda x: re.split('-', re.split('_', x)[-4])[1], df_resto['nombre']))\n",
    "df_resto['fine'] = list(map(lambda x: re.split('-', re.split('_', x)[-5])[1], df_resto['nombre']))"
   ]
  },
  {
   "cell_type": "code",
   "execution_count": 897,
   "id": "cd076478-bfbc-4d29-b5ca-f0157c86bffd",
   "metadata": {},
   "outputs": [
    {
     "data": {
      "text/html": [
       "<div>\n",
       "<style scoped>\n",
       "    .dataframe tbody tr th:only-of-type {\n",
       "        vertical-align: middle;\n",
       "    }\n",
       "\n",
       "    .dataframe tbody tr th {\n",
       "        vertical-align: top;\n",
       "    }\n",
       "\n",
       "    .dataframe thead th {\n",
       "        text-align: right;\n",
       "    }\n",
       "</style>\n",
       "<table border=\"1\" class=\"dataframe\">\n",
       "  <thead>\n",
       "    <tr style=\"text-align: right;\">\n",
       "      <th></th>\n",
       "      <th>nombre</th>\n",
       "      <th>loss</th>\n",
       "      <th>binary_accuracy</th>\n",
       "      <th>precision</th>\n",
       "      <th>auc</th>\n",
       "      <th>mask</th>\n",
       "      <th>modelo</th>\n",
       "      <th>lr</th>\n",
       "      <th>batch</th>\n",
       "      <th>fine</th>\n",
       "    </tr>\n",
       "  </thead>\n",
       "  <tbody>\n",
       "    <tr>\n",
       "      <th>0</th>\n",
       "      <td>prueba_EffNet3_fine-05_batch-8_lr-0001_auc-92_...</td>\n",
       "      <td>0.522258</td>\n",
       "      <td>0.852604</td>\n",
       "      <td>0.790152</td>\n",
       "      <td>0.926065</td>\n",
       "      <td>False</td>\n",
       "      <td>EffNet3</td>\n",
       "      <td>0001</td>\n",
       "      <td>8</td>\n",
       "      <td>05</td>\n",
       "    </tr>\n",
       "    <tr>\n",
       "      <th>1</th>\n",
       "      <td>prueba_Xception_fine-08_batch-8_lr--05_auc-93_...</td>\n",
       "      <td>0.492753</td>\n",
       "      <td>0.861533</td>\n",
       "      <td>0.799576</td>\n",
       "      <td>0.936951</td>\n",
       "      <td>False</td>\n",
       "      <td>Xception</td>\n",
       "      <td></td>\n",
       "      <td>8</td>\n",
       "      <td>08</td>\n",
       "    </tr>\n",
       "    <tr>\n",
       "      <th>2</th>\n",
       "      <td>prueba_mask_Xception_fine-08_batch-8_lr-0001_a...</td>\n",
       "      <td>0.580660</td>\n",
       "      <td>0.832953</td>\n",
       "      <td>0.758784</td>\n",
       "      <td>0.907422</td>\n",
       "      <td>True</td>\n",
       "      <td>Xception</td>\n",
       "      <td>0001</td>\n",
       "      <td>8</td>\n",
       "      <td>08</td>\n",
       "    </tr>\n",
       "    <tr>\n",
       "      <th>3</th>\n",
       "      <td>prueba_Xception_fine-07_batch-8_lr--05_auc-92_...</td>\n",
       "      <td>0.536018</td>\n",
       "      <td>0.848225</td>\n",
       "      <td>0.783377</td>\n",
       "      <td>0.925145</td>\n",
       "      <td>False</td>\n",
       "      <td>Xception</td>\n",
       "      <td></td>\n",
       "      <td>8</td>\n",
       "      <td>07</td>\n",
       "    </tr>\n",
       "    <tr>\n",
       "      <th>4</th>\n",
       "      <td>prueba_Xception_fine-05_batch-8_lr--05_auc-91_...</td>\n",
       "      <td>0.594727</td>\n",
       "      <td>0.816369</td>\n",
       "      <td>0.734754</td>\n",
       "      <td>0.899587</td>\n",
       "      <td>False</td>\n",
       "      <td>Xception</td>\n",
       "      <td></td>\n",
       "      <td>8</td>\n",
       "      <td>05</td>\n",
       "    </tr>\n",
       "    <tr>\n",
       "      <th>...</th>\n",
       "      <td>...</td>\n",
       "      <td>...</td>\n",
       "      <td>...</td>\n",
       "      <td>...</td>\n",
       "      <td>...</td>\n",
       "      <td>...</td>\n",
       "      <td>...</td>\n",
       "      <td>...</td>\n",
       "      <td>...</td>\n",
       "      <td>...</td>\n",
       "    </tr>\n",
       "    <tr>\n",
       "      <th>61</th>\n",
       "      <td>prueba_mask_Xception_fine-07_batch-8_lr-001_au...</td>\n",
       "      <td>0.582290</td>\n",
       "      <td>0.836653</td>\n",
       "      <td>0.760913</td>\n",
       "      <td>0.910656</td>\n",
       "      <td>True</td>\n",
       "      <td>Xception</td>\n",
       "      <td>001</td>\n",
       "      <td>8</td>\n",
       "      <td>07</td>\n",
       "    </tr>\n",
       "    <tr>\n",
       "      <th>62</th>\n",
       "      <td>prueba_IncResNet_fine-03_batch-8_lr-0001_auc-9...</td>\n",
       "      <td>0.497002</td>\n",
       "      <td>0.872433</td>\n",
       "      <td>0.817967</td>\n",
       "      <td>0.935587</td>\n",
       "      <td>False</td>\n",
       "      <td>IncResNet</td>\n",
       "      <td>0001</td>\n",
       "      <td>8</td>\n",
       "      <td>03</td>\n",
       "    </tr>\n",
       "    <tr>\n",
       "      <th>63</th>\n",
       "      <td>prueba_Xception_fine-05_batch-8_lr-001_auc-90_...</td>\n",
       "      <td>0.529515</td>\n",
       "      <td>0.823123</td>\n",
       "      <td>0.738451</td>\n",
       "      <td>0.919830</td>\n",
       "      <td>False</td>\n",
       "      <td>Xception</td>\n",
       "      <td>001</td>\n",
       "      <td>8</td>\n",
       "      <td>05</td>\n",
       "    </tr>\n",
       "    <tr>\n",
       "      <th>64</th>\n",
       "      <td>prueba_mask_EffNet3_fine-00_batch-8_lr--05_auc...</td>\n",
       "      <td>1.111433</td>\n",
       "      <td>0.567178</td>\n",
       "      <td>0.350765</td>\n",
       "      <td>0.580147</td>\n",
       "      <td>True</td>\n",
       "      <td>EffNet3</td>\n",
       "      <td></td>\n",
       "      <td>8</td>\n",
       "      <td>00</td>\n",
       "    </tr>\n",
       "    <tr>\n",
       "      <th>65</th>\n",
       "      <td>prueba_IncResNet_fine-08_batch-8_lr-001_auc-90...</td>\n",
       "      <td>0.837929</td>\n",
       "      <td>0.786537</td>\n",
       "      <td>0.681605</td>\n",
       "      <td>0.869990</td>\n",
       "      <td>False</td>\n",
       "      <td>IncResNet</td>\n",
       "      <td>001</td>\n",
       "      <td>8</td>\n",
       "      <td>08</td>\n",
       "    </tr>\n",
       "  </tbody>\n",
       "</table>\n",
       "<p>66 rows × 10 columns</p>\n",
       "</div>"
      ],
      "text/plain": [
       "                                               nombre      loss  \\\n",
       "0   prueba_EffNet3_fine-05_batch-8_lr-0001_auc-92_...  0.522258   \n",
       "1   prueba_Xception_fine-08_batch-8_lr--05_auc-93_...  0.492753   \n",
       "2   prueba_mask_Xception_fine-08_batch-8_lr-0001_a...  0.580660   \n",
       "3   prueba_Xception_fine-07_batch-8_lr--05_auc-92_...  0.536018   \n",
       "4   prueba_Xception_fine-05_batch-8_lr--05_auc-91_...  0.594727   \n",
       "..                                                ...       ...   \n",
       "61  prueba_mask_Xception_fine-07_batch-8_lr-001_au...  0.582290   \n",
       "62  prueba_IncResNet_fine-03_batch-8_lr-0001_auc-9...  0.497002   \n",
       "63  prueba_Xception_fine-05_batch-8_lr-001_auc-90_...  0.529515   \n",
       "64  prueba_mask_EffNet3_fine-00_batch-8_lr--05_auc...  1.111433   \n",
       "65  prueba_IncResNet_fine-08_batch-8_lr-001_auc-90...  0.837929   \n",
       "\n",
       "    binary_accuracy  precision       auc   mask     modelo    lr batch fine  \n",
       "0          0.852604   0.790152  0.926065  False    EffNet3  0001     8   05  \n",
       "1          0.861533   0.799576  0.936951  False   Xception           8   08  \n",
       "2          0.832953   0.758784  0.907422   True   Xception  0001     8   08  \n",
       "3          0.848225   0.783377  0.925145  False   Xception           8   07  \n",
       "4          0.816369   0.734754  0.899587  False   Xception           8   05  \n",
       "..              ...        ...       ...    ...        ...   ...   ...  ...  \n",
       "61         0.836653   0.760913  0.910656   True   Xception   001     8   07  \n",
       "62         0.872433   0.817967  0.935587  False  IncResNet  0001     8   03  \n",
       "63         0.823123   0.738451  0.919830  False   Xception   001     8   05  \n",
       "64         0.567178   0.350765  0.580147   True    EffNet3           8   00  \n",
       "65         0.786537   0.681605  0.869990  False  IncResNet   001     8   08  \n",
       "\n",
       "[66 rows x 10 columns]"
      ]
     },
     "execution_count": 897,
     "metadata": {},
     "output_type": "execute_result"
    }
   ],
   "source": [
    "df_resto"
   ]
  },
  {
   "cell_type": "markdown",
   "id": "9f56c021-789d-42e8-a8e4-f836a76ec75d",
   "metadata": {},
   "source": [
    "### Ploteo"
   ]
  },
  {
   "cell_type": "code",
   "execution_count": 898,
   "id": "c367fbeb-c360-44e4-84ef-077aa7f2aba0",
   "metadata": {},
   "outputs": [],
   "source": [
    "y = 'binary_accuracy'\n",
    "data = df_resto\n",
    "lim = np.percentile(data[y], 20)"
   ]
  },
  {
   "cell_type": "code",
   "execution_count": 899,
   "id": "1597ff88-bb77-43c8-b15f-00272a6dc65c",
   "metadata": {},
   "outputs": [
    {
     "data": {
      "text/plain": [
       "[(0.7865371108055115, 1.0)]"
      ]
     },
     "execution_count": 899,
     "metadata": {},
     "output_type": "execute_result"
    },
    {
     "data": {
      "image/png": "[encoded data removed]",
      "text/plain": [
       "<Figure size 720x360 with 1 Axes>"
      ]
     },
     "metadata": {
      "needs_background": "light"
     },
     "output_type": "display_data"
    }
   ],
   "source": [
    "plt.subplots(figsize=(10,5))\n",
    "p = sns.boxplot(x=\"modelo\", y=y,\n",
    "                hue=\"mask\",\n",
    "                data=data)\n",
    "p.set(ylim=(lim, 1))"
   ]
  },
  {
   "cell_type": "code",
   "execution_count": 900,
   "id": "07f544eb-9456-4808-8142-22b5bc6f06c7",
   "metadata": {},
   "outputs": [
    {
     "data": {
      "text/plain": [
       "[(0.7865371108055115, 1.0)]"
      ]
     },
     "execution_count": 900,
     "metadata": {},
     "output_type": "execute_result"
    },
    {
     "data": {
      "image/png": "[encoded data removed]",
      "text/plain": [
       "<Figure size 720x360 with 1 Axes>"
      ]
     },
     "metadata": {
      "needs_background": "light"
     },
     "output_type": "display_data"
    }
   ],
   "source": [
    "plt.subplots(figsize=(10,5))\n",
    "p = sns.boxplot(x=\"modelo\", y=y,\n",
    "                hue=\"fine\",\n",
    "                data=data)\n",
    "p.set(ylim=(lim, 1))"
   ]
  },
  {
   "cell_type": "code",
   "execution_count": 901,
   "id": "909836aa-0271-4170-87a6-12cfbc72d3e0",
   "metadata": {},
   "outputs": [
    {
     "data": {
      "text/plain": [
       "[(0.7865371108055115, 1.0)]"
      ]
     },
     "execution_count": 901,
     "metadata": {},
     "output_type": "execute_result"
    },
    {
     "data": {
      "image/png": "[encoded data removed]",
      "text/plain": [
       "<Figure size 720x360 with 1 Axes>"
      ]
     },
     "metadata": {
      "needs_background": "light"
     },
     "output_type": "display_data"
    }
   ],
   "source": [
    "plt.subplots(figsize=(10,5))\n",
    "p = sns.boxplot(x=\"modelo\", y=y,\n",
    "                hue=\"lr\",\n",
    "                data=data)\n",
    "p.set(ylim=(lim, 1))"
   ]
  },
  {
   "cell_type": "code",
   "execution_count": 902,
   "id": "bfceb931-f9d9-4e21-9510-a5c229cbf186",
   "metadata": {},
   "outputs": [
    {
     "data": {
      "text/plain": [
       "[(0.7865371108055115, 1.0)]"
      ]
     },
     "execution_count": 902,
     "metadata": {},
     "output_type": "execute_result"
    },
    {
     "data": {
      "image/png": "[encoded data removed]",
      "text/plain": [
       "<Figure size 720x360 with 1 Axes>"
      ]
     },
     "metadata": {
      "needs_background": "light"
     },
     "output_type": "display_data"
    }
   ],
   "source": [
    "plt.subplots(figsize=(10,5))\n",
    "p = sns.boxplot(x=\"lr\", y=y,\n",
    "                hue=\"mask\",\n",
    "                data=data)\n",
    "p.set(ylim=(lim, 1))"
   ]
  },
  {
   "cell_type": "code",
   "execution_count": 903,
   "id": "eaf4265e-b1a6-42e1-8c5b-f0cee1fbd060",
   "metadata": {},
   "outputs": [
    {
     "data": {
      "text/plain": [
       "[(0.7865371108055115, 1.0)]"
      ]
     },
     "execution_count": 903,
     "metadata": {},
     "output_type": "execute_result"
    },
    {
     "data": {
      "image/png": "[encoded data removed]",
      "text/plain": [
       "<Figure size 720x360 with 1 Axes>"
      ]
     },
     "metadata": {
      "needs_background": "light"
     },
     "output_type": "display_data"
    }
   ],
   "source": [
    "plt.subplots(figsize=(10,5))\n",
    "p = sns.boxplot(x=\"fine\", y=y,\n",
    "                hue=\"mask\",\n",
    "                data=data)\n",
    "p.set(ylim=(lim, 1))"
   ]
  },
  {
   "cell_type": "code",
   "execution_count": 904,
   "id": "34164133-3fd5-44dd-9b80-7b48049f2939",
   "metadata": {},
   "outputs": [
    {
     "data": {
      "text/plain": [
       "[(0.7865371108055115, 1.0)]"
      ]
     },
     "execution_count": 904,
     "metadata": {},
     "output_type": "execute_result"
    },
    {
     "data": {
      "image/png": "[encoded data removed]",
      "text/plain": [
       "<Figure size 720x360 with 1 Axes>"
      ]
     },
     "metadata": {
      "needs_background": "light"
     },
     "output_type": "display_data"
    }
   ],
   "source": [
    "plt.subplots(figsize=(10,5))\n",
    "p = sns.boxplot(x=\"fine\", y=y,\n",
    "                hue=\"lr\",\n",
    "                data=data)\n",
    "p.set(ylim=(lim, 1))"
   ]
  },
  {
   "cell_type": "markdown",
   "id": "04b9a454-60cc-47ea-913b-3407c8d92117",
   "metadata": {
    "tags": []
   },
   "source": [
    "## SUBSET"
   ]
  },
  {
   "cell_type": "code",
   "execution_count": 905,
   "id": "6a51c423-7148-405a-b2cf-bed5dee854ed",
   "metadata": {},
   "outputs": [],
   "source": [
    "index = list(set(df_test.index) - set(index))\n",
    "df_test = df_test.iloc[index]"
   ]
  },
  {
   "cell_type": "code",
   "execution_count": 906,
   "id": "b8e829bb-e781-4216-9fa1-e3d5fd86633b",
   "metadata": {},
   "outputs": [],
   "source": [
    "df_test = df_test.reset_index(drop = True)"
   ]
  },
  {
   "cell_type": "code",
   "execution_count": 907,
   "id": "a30dc708-7b5d-484c-a6ea-b0d1954147e0",
   "metadata": {},
   "outputs": [],
   "source": [
    "df_test['mask'] = list(map(lambda x: bool(re.search('mask', x)), df_test['nombre']))"
   ]
  },
  {
   "cell_type": "code",
   "execution_count": 908,
   "id": "2a8abda5-56ad-4d7d-9d1f-73cd79bbee90",
   "metadata": {},
   "outputs": [],
   "source": [
    "df_test['modelo'] = list(map(lambda x: re.split('_', x)[-5], df_test['nombre']))\n",
    "df_test['lr'] = list(map(lambda x: re.split('-', re.split('_', x)[-2])[1], df_test['nombre']))\n",
    "df_test['batch'] = list(map(lambda x: re.split('-', re.split('_', x)[-3])[1], df_test['nombre']))\n",
    "df_test['fine'] = list(map(lambda x: re.split('-', re.split('_', x)[-4])[1], df_test['nombre']))"
   ]
  },
  {
   "cell_type": "code",
   "execution_count": 909,
   "id": "43bbd051-923a-4b34-8d32-b94978a2dcc1",
   "metadata": {},
   "outputs": [
    {
     "data": {
      "text/html": [
       "<div>\n",
       "<style scoped>\n",
       "    .dataframe tbody tr th:only-of-type {\n",
       "        vertical-align: middle;\n",
       "    }\n",
       "\n",
       "    .dataframe tbody tr th {\n",
       "        vertical-align: top;\n",
       "    }\n",
       "\n",
       "    .dataframe thead th {\n",
       "        text-align: right;\n",
       "    }\n",
       "</style>\n",
       "<table border=\"1\" class=\"dataframe\">\n",
       "  <thead>\n",
       "    <tr style=\"text-align: right;\">\n",
       "      <th></th>\n",
       "      <th>nombre</th>\n",
       "      <th>loss</th>\n",
       "      <th>binary_accuracy</th>\n",
       "      <th>precision</th>\n",
       "      <th>auc</th>\n",
       "      <th>mask</th>\n",
       "      <th>modelo</th>\n",
       "      <th>lr</th>\n",
       "      <th>batch</th>\n",
       "      <th>fine</th>\n",
       "    </tr>\n",
       "  </thead>\n",
       "  <tbody>\n",
       "    <tr>\n",
       "      <th>35</th>\n",
       "      <td>prueba_Xception_fine-03_batch-8_lr-0001_auc-96</td>\n",
       "      <td>0.549459</td>\n",
       "      <td>0.848849</td>\n",
       "      <td>0.775202</td>\n",
       "      <td>0.928931</td>\n",
       "      <td>False</td>\n",
       "      <td>Xception</td>\n",
       "      <td>0001</td>\n",
       "      <td>8</td>\n",
       "      <td>03</td>\n",
       "    </tr>\n",
       "    <tr>\n",
       "      <th>10</th>\n",
       "      <td>prueba_Xception_fine-07_batch-8_lr-0001_auc-93</td>\n",
       "      <td>0.485459</td>\n",
       "      <td>0.848849</td>\n",
       "      <td>0.786164</td>\n",
       "      <td>0.930917</td>\n",
       "      <td>False</td>\n",
       "      <td>Xception</td>\n",
       "      <td>0001</td>\n",
       "      <td>8</td>\n",
       "      <td>07</td>\n",
       "    </tr>\n",
       "    <tr>\n",
       "      <th>4</th>\n",
       "      <td>prueba_EffNet3_fine-03_batch-8_lr-001_auc-94</td>\n",
       "      <td>0.488490</td>\n",
       "      <td>0.863196</td>\n",
       "      <td>0.803296</td>\n",
       "      <td>0.931229</td>\n",
       "      <td>False</td>\n",
       "      <td>EffNet3</td>\n",
       "      <td>001</td>\n",
       "      <td>8</td>\n",
       "      <td>03</td>\n",
       "    </tr>\n",
       "    <tr>\n",
       "      <th>57</th>\n",
       "      <td>prueba_Xception_fine-08_batch-8_lr-001_auc-92</td>\n",
       "      <td>0.525883</td>\n",
       "      <td>0.861862</td>\n",
       "      <td>0.796954</td>\n",
       "      <td>0.931729</td>\n",
       "      <td>False</td>\n",
       "      <td>Xception</td>\n",
       "      <td>001</td>\n",
       "      <td>8</td>\n",
       "      <td>08</td>\n",
       "    </tr>\n",
       "    <tr>\n",
       "      <th>3</th>\n",
       "      <td>prueba_EffNet3_fine-03_batch-8_lr-0001_auc-95</td>\n",
       "      <td>0.436792</td>\n",
       "      <td>0.871204</td>\n",
       "      <td>0.813075</td>\n",
       "      <td>0.945697</td>\n",
       "      <td>False</td>\n",
       "      <td>EffNet3</td>\n",
       "      <td>0001</td>\n",
       "      <td>8</td>\n",
       "      <td>03</td>\n",
       "    </tr>\n",
       "  </tbody>\n",
       "</table>\n",
       "</div>"
      ],
      "text/plain": [
       "                                            nombre      loss  binary_accuracy  \\\n",
       "35  prueba_Xception_fine-03_batch-8_lr-0001_auc-96  0.549459         0.848849   \n",
       "10  prueba_Xception_fine-07_batch-8_lr-0001_auc-93  0.485459         0.848849   \n",
       "4     prueba_EffNet3_fine-03_batch-8_lr-001_auc-94  0.488490         0.863196   \n",
       "57   prueba_Xception_fine-08_batch-8_lr-001_auc-92  0.525883         0.861862   \n",
       "3    prueba_EffNet3_fine-03_batch-8_lr-0001_auc-95  0.436792         0.871204   \n",
       "\n",
       "    precision       auc   mask    modelo    lr batch fine  \n",
       "35   0.775202  0.928931  False  Xception  0001     8   03  \n",
       "10   0.786164  0.930917  False  Xception  0001     8   07  \n",
       "4    0.803296  0.931229  False   EffNet3   001     8   03  \n",
       "57   0.796954  0.931729  False  Xception   001     8   08  \n",
       "3    0.813075  0.945697  False   EffNet3  0001     8   03  "
      ]
     },
     "execution_count": 909,
     "metadata": {},
     "output_type": "execute_result"
    }
   ],
   "source": [
    "df_test.sort_values('auc').tail()"
   ]
  },
  {
   "cell_type": "markdown",
   "id": "c645aa57-f076-4a3b-9917-d05d14992ad4",
   "metadata": {},
   "source": [
    "### Ploteo"
   ]
  },
  {
   "cell_type": "code",
   "execution_count": 910,
   "id": "ab23ba7d-63dd-43cd-9e58-713befe4c575",
   "metadata": {},
   "outputs": [],
   "source": [
    "y = 'precision'\n",
    "data = df_test\n",
    "lim = np.percentile(data[y], 20)"
   ]
  },
  {
   "cell_type": "code",
   "execution_count": 911,
   "id": "36991d8a-7d10-4fb3-b8ca-534fc160d9cb",
   "metadata": {},
   "outputs": [
    {
     "data": {
      "text/plain": [
       "[(0.6577572226524353, 1.0)]"
      ]
     },
     "execution_count": 911,
     "metadata": {},
     "output_type": "execute_result"
    },
    {
     "data": {
      "image/png": "[encoded data removed]",
      "text/plain": [
       "<Figure size 720x360 with 1 Axes>"
      ]
     },
     "metadata": {
      "needs_background": "light"
     },
     "output_type": "display_data"
    }
   ],
   "source": [
    "plt.subplots(figsize=(10,5))\n",
    "p = sns.boxplot(x=\"modelo\", y=y,\n",
    "                hue=\"mask\",\n",
    "                data=data)\n",
    "p.set(ylim=(lim, 1))"
   ]
  },
  {
   "cell_type": "code",
   "execution_count": 912,
   "id": "e77e10dc-f2a9-460f-ab48-339723516f76",
   "metadata": {},
   "outputs": [
    {
     "data": {
      "text/plain": [
       "[(0.6577572226524353, 1.0)]"
      ]
     },
     "execution_count": 912,
     "metadata": {},
     "output_type": "execute_result"
    },
    {
     "data": {
      "image/png": "[encoded data removed]",
      "text/plain": [
       "<Figure size 720x360 with 1 Axes>"
      ]
     },
     "metadata": {
      "needs_background": "light"
     },
     "output_type": "display_data"
    }
   ],
   "source": [
    "plt.subplots(figsize=(10,5))\n",
    "p = sns.boxplot(x=\"modelo\", y=y,\n",
    "                hue=\"fine\",\n",
    "                data=data)\n",
    "p.set(ylim=(lim, 1))"
   ]
  },
  {
   "cell_type": "code",
   "execution_count": 913,
   "id": "cedeffe1-4897-4795-a244-d9b90c984a2a",
   "metadata": {},
   "outputs": [
    {
     "data": {
      "text/plain": [
       "[(0.6577572226524353, 1.0)]"
      ]
     },
     "execution_count": 913,
     "metadata": {},
     "output_type": "execute_result"
    },
    {
     "data": {
      "image/png": "[encoded data removed]",
      "text/plain": [
       "<Figure size 720x360 with 1 Axes>"
      ]
     },
     "metadata": {
      "needs_background": "light"
     },
     "output_type": "display_data"
    }
   ],
   "source": [
    "plt.subplots(figsize=(10,5))\n",
    "p = sns.boxplot(x=\"modelo\", y=y,\n",
    "                hue=\"lr\",\n",
    "                data=data)\n",
    "p.set(ylim=(lim, 1))"
   ]
  },
  {
   "cell_type": "code",
   "execution_count": 914,
   "id": "4b395562-210c-4e28-bc24-b70cf746e2e6",
   "metadata": {},
   "outputs": [
    {
     "data": {
      "text/plain": [
       "[(0.6577572226524353, 1.0)]"
      ]
     },
     "execution_count": 914,
     "metadata": {},
     "output_type": "execute_result"
    },
    {
     "data": {
      "image/png": "[encoded data removed]",
      "text/plain": [
       "<Figure size 720x360 with 1 Axes>"
      ]
     },
     "metadata": {
      "needs_background": "light"
     },
     "output_type": "display_data"
    }
   ],
   "source": [
    "plt.subplots(figsize=(10,5))\n",
    "p = sns.boxplot(x=\"lr\", y=y,\n",
    "                hue=\"mask\",\n",
    "                data=data)\n",
    "p.set(ylim=(lim, 1))"
   ]
  },
  {
   "cell_type": "code",
   "execution_count": 915,
   "id": "6347e4b0-a211-4868-b01d-2c8ca570c439",
   "metadata": {},
   "outputs": [
    {
     "data": {
      "text/plain": [
       "[(0.6577572226524353, 1.0)]"
      ]
     },
     "execution_count": 915,
     "metadata": {},
     "output_type": "execute_result"
    },
    {
     "data": {
      "image/png": "[encoded data removed]",
      "text/plain": [
       "<Figure size 720x360 with 1 Axes>"
      ]
     },
     "metadata": {
      "needs_background": "light"
     },
     "output_type": "display_data"
    }
   ],
   "source": [
    "plt.subplots(figsize=(10,5))\n",
    "p = sns.boxplot(x=\"fine\", y=y,\n",
    "                hue=\"mask\",\n",
    "                data=data)\n",
    "p.set(ylim=(lim, 1))"
   ]
  },
  {
   "cell_type": "code",
   "execution_count": 916,
   "id": "539f150b-16f1-4b85-9bc8-b87572f16ee7",
   "metadata": {},
   "outputs": [
    {
     "data": {
      "text/plain": [
       "[(0.6577572226524353, 1.0)]"
      ]
     },
     "execution_count": 916,
     "metadata": {},
     "output_type": "execute_result"
    },
    {
     "data": {
      "image/png": "[encoded data removed]",
      "text/plain": [
       "<Figure size 720x360 with 1 Axes>"
      ]
     },
     "metadata": {
      "needs_background": "light"
     },
     "output_type": "display_data"
    }
   ],
   "source": [
    "plt.subplots(figsize=(10,5))\n",
    "p = sns.boxplot(x=\"fine\", y=y,\n",
    "                hue=\"lr\",\n",
    "                data=data)\n",
    "p.set(ylim=(lim, 1))"
   ]
  },
  {
   "cell_type": "markdown",
   "id": "257b6491-3702-465f-a2bc-65d59e556100",
   "metadata": {},
   "source": [
    "# SUBSET TEST PREDICTION METRICS\n",
    "\n",
    "Estos son los resultados de aplicar model.predict() sobre el subset de X_train que he seleccionado para test. Sobre las predicciones se calculan unas métricas personalizadas"
   ]
  },
  {
   "cell_type": "code",
   "execution_count": 1085,
   "id": "c46c803a-1151-4e81-9ed8-7fd8a5f16144",
   "metadata": {},
   "outputs": [],
   "source": [
    "path = '/home/mr1142/Documents/Data/models/neumonia/validation_results/prediction_validation_metrics.csv'\n",
    "df = pd.read_csv(path)"
   ]
  },
  {
   "cell_type": "markdown",
   "id": "9b1ad339-41b7-4918-a8ed-12c376d1336b",
   "metadata": {},
   "source": [
    "### Modelos sin evaluar"
   ]
  },
  {
   "cell_type": "code",
   "execution_count": 1086,
   "id": "c2aa5f70-b6b2-4725-8610-ead17f655388",
   "metadata": {},
   "outputs": [],
   "source": [
    "p = '/home/mr1142/Documents/Data/models/neumonia'\n",
    "modelos = os.listdir(p)\n",
    "modelos = [modelo[:-3] for modelo in modelos if os.path.isfile(os.path.join(p, modelo))]\n",
    "modelos = [modelo for modelo in modelos if not bool(re.search('completo', modelo))]\n",
    "modelos_evaluados = list(df['name'])"
   ]
  },
  {
   "cell_type": "code",
   "execution_count": 1087,
   "id": "5846ba0b-e7ef-4530-a406-42e35b3174d0",
   "metadata": {},
   "outputs": [],
   "source": [
    "modelos_evaluados_resto = [modelo for modelo in modelos_evaluados if \n",
    "                           bool(re.search('resto', modelo))]\n",
    "modelos_evaluados_resto = [re.split('_resto', modelo)[0] for \n",
    "                           modelo in modelos_evaluados_resto]"
   ]
  },
  {
   "cell_type": "code",
   "execution_count": 1088,
   "id": "9e4b98e7-835a-4a30-a786-9b530e5e5cdd",
   "metadata": {},
   "outputs": [
    {
     "data": {
      "text/plain": [
       "[]"
      ]
     },
     "execution_count": 1088,
     "metadata": {},
     "output_type": "execute_result"
    }
   ],
   "source": [
    "evaluados_de_mas = list(set(modelos_evaluados) - set(modelos))\n",
    "evaluados_de_mas = [modelo for modelo in evaluados_de_mas if not\n",
    "                  bool(re.search('resto', modelo))]\n",
    "ix = [i for i in df.index if df.name[i] in evaluados_de_mas]\n",
    "evaluados_de_mas"
   ]
  },
  {
   "cell_type": "code",
   "execution_count": 1089,
   "id": "ee3a6f41-6266-474b-8db4-19f032822922",
   "metadata": {},
   "outputs": [
    {
     "data": {
      "text/plain": [
       "[]"
      ]
     },
     "execution_count": 1089,
     "metadata": {},
     "output_type": "execute_result"
    }
   ],
   "source": [
    "evaluados_de_menos = list(set(modelos)-set(modelos_evaluados))\n",
    "evaluados_de_menos"
   ]
  },
  {
   "cell_type": "code",
   "execution_count": 1090,
   "id": "acddc664-97d2-4ba3-976d-3492f415d80c",
   "metadata": {},
   "outputs": [
    {
     "data": {
      "text/plain": [
       "33"
      ]
     },
     "execution_count": 1090,
     "metadata": {},
     "output_type": "execute_result"
    }
   ],
   "source": [
    "modelos_a_evaluar_resto = list(set(modelos)-set(modelos_evaluados_resto))\n",
    "len(modelos_a_evaluar_resto)"
   ]
  },
  {
   "cell_type": "code",
   "execution_count": 1091,
   "id": "c9b90750-9d7f-471d-aefb-69b55187a6ad",
   "metadata": {},
   "outputs": [
    {
     "data": {
      "text/plain": [
       "[]"
      ]
     },
     "execution_count": 1091,
     "metadata": {},
     "output_type": "execute_result"
    }
   ],
   "source": [
    "modelos_train = set(df_train['name'])\n",
    "list(set(modelos_train)-set(modelos_evaluados))"
   ]
  },
  {
   "cell_type": "code",
   "execution_count": 1092,
   "id": "ee46b0d9-4692-411b-86e4-b421517989c0",
   "metadata": {},
   "outputs": [],
   "source": [
    "df = df.reset_index(drop = True)"
   ]
  },
  {
   "cell_type": "markdown",
   "id": "eb1d2bee-8245-46a6-88f2-1fa4b279b89b",
   "metadata": {
    "tags": []
   },
   "source": [
    "## RESTO"
   ]
  },
  {
   "cell_type": "code",
   "execution_count": 639,
   "id": "1c1ddd29-6dd7-41b4-b520-e2c467b6189f",
   "metadata": {},
   "outputs": [],
   "source": [
    "index = [i for i in df.index if bool(re.search('resto', df['name'][i]))]\n",
    "df_resto = df.iloc[index]"
   ]
  },
  {
   "cell_type": "code",
   "execution_count": 640,
   "id": "2dab15d0-ae70-4d64-8c81-9b727e0974fe",
   "metadata": {},
   "outputs": [],
   "source": [
    "df_resto = df_resto.reset_index(drop = True)"
   ]
  },
  {
   "cell_type": "code",
   "execution_count": 641,
   "id": "7f9e4d4d-a32a-43e1-8922-14dc8bffec8e",
   "metadata": {},
   "outputs": [],
   "source": [
    "df_resto['auc_mean'] = (df_resto['auc_0']+df_resto['auc_1']+df_resto['auc_2'])/3\n",
    "df_resto['accuracy_mean'] = (df_resto['accuracy_score_0']+\n",
    "                             df_resto['accuracy_score_1']+\n",
    "                             df_resto['accuracy_score_2'])/3"
   ]
  },
  {
   "cell_type": "code",
   "execution_count": 642,
   "id": "0232fa4d-540c-45e8-ab47-2838bc9d75a0",
   "metadata": {},
   "outputs": [
    {
     "data": {
      "text/html": [
       "<div>\n",
       "<style scoped>\n",
       "    .dataframe tbody tr th:only-of-type {\n",
       "        vertical-align: middle;\n",
       "    }\n",
       "\n",
       "    .dataframe tbody tr th {\n",
       "        vertical-align: top;\n",
       "    }\n",
       "\n",
       "    .dataframe thead th {\n",
       "        text-align: right;\n",
       "    }\n",
       "</style>\n",
       "<table border=\"1\" class=\"dataframe\">\n",
       "  <thead>\n",
       "    <tr style=\"text-align: right;\">\n",
       "      <th></th>\n",
       "      <th>name</th>\n",
       "      <th>auc_0</th>\n",
       "      <th>younden_0</th>\n",
       "      <th>pr_max_0</th>\n",
       "      <th>pr_cut_0</th>\n",
       "      <th>auc_1</th>\n",
       "      <th>younden_1</th>\n",
       "      <th>pr_max_1</th>\n",
       "      <th>pr_cut_1</th>\n",
       "      <th>auc_2</th>\n",
       "      <th>...</th>\n",
       "      <th>precision_score[0, 2]</th>\n",
       "      <th>recall_score[0, 2]</th>\n",
       "      <th>accuracy_score[0, 2]</th>\n",
       "      <th>f1_score[1, 2]</th>\n",
       "      <th>precision_score[1, 2]</th>\n",
       "      <th>recall_score[1, 2]</th>\n",
       "      <th>accuracy_score[1, 2]</th>\n",
       "      <th>completo</th>\n",
       "      <th>auc_mean</th>\n",
       "      <th>accuracy_mean</th>\n",
       "    </tr>\n",
       "  </thead>\n",
       "  <tbody>\n",
       "    <tr>\n",
       "      <th>7</th>\n",
       "      <td>prueba_EffNet3_fine-03_batch-8_lr-001_auc-94_r...</td>\n",
       "      <td>0.974926</td>\n",
       "      <td>0.391551</td>\n",
       "      <td>0.364874</td>\n",
       "      <td>0.3467031419277191</td>\n",
       "      <td>0.897896</td>\n",
       "      <td>0.325556</td>\n",
       "      <td>0.318853</td>\n",
       "      <td>0.4573602974414826</td>\n",
       "      <td>0.929047</td>\n",
       "      <td>...</td>\n",
       "      <td>0.879674</td>\n",
       "      <td>0.705830</td>\n",
       "      <td>0.705830</td>\n",
       "      <td>0.881764</td>\n",
       "      <td>0.884650</td>\n",
       "      <td>0.879584</td>\n",
       "      <td>0.879584</td>\n",
       "      <td>False</td>\n",
       "      <td>0.933956</td>\n",
       "      <td>0.874935</td>\n",
       "    </tr>\n",
       "    <tr>\n",
       "      <th>36</th>\n",
       "      <td>prueba_mask_IncResNet_fine-03_batch-8_lr-0001_...</td>\n",
       "      <td>0.964606</td>\n",
       "      <td>0.626558</td>\n",
       "      <td>0.622067</td>\n",
       "      <td>0.666806697845459</td>\n",
       "      <td>0.888898</td>\n",
       "      <td>0.069674</td>\n",
       "      <td>0.035041</td>\n",
       "      <td>0.16499201953411102</td>\n",
       "      <td>0.950058</td>\n",
       "      <td>...</td>\n",
       "      <td>0.887700</td>\n",
       "      <td>0.729359</td>\n",
       "      <td>0.729359</td>\n",
       "      <td>0.812053</td>\n",
       "      <td>0.893080</td>\n",
       "      <td>0.788754</td>\n",
       "      <td>0.788754</td>\n",
       "      <td>False</td>\n",
       "      <td>0.934521</td>\n",
       "      <td>0.810674</td>\n",
       "    </tr>\n",
       "    <tr>\n",
       "      <th>32</th>\n",
       "      <td>prueba_Xception_fine-03_batch-8_lr-0001_auc-96...</td>\n",
       "      <td>0.979880</td>\n",
       "      <td>0.414729</td>\n",
       "      <td>0.364114</td>\n",
       "      <td>0.5308434963226318</td>\n",
       "      <td>0.902144</td>\n",
       "      <td>0.258009</td>\n",
       "      <td>0.153467</td>\n",
       "      <td>0.5438005924224854</td>\n",
       "      <td>0.929051</td>\n",
       "      <td>...</td>\n",
       "      <td>0.880504</td>\n",
       "      <td>0.757970</td>\n",
       "      <td>0.757970</td>\n",
       "      <td>0.883830</td>\n",
       "      <td>0.882118</td>\n",
       "      <td>0.886908</td>\n",
       "      <td>0.886908</td>\n",
       "      <td>False</td>\n",
       "      <td>0.937025</td>\n",
       "      <td>0.878278</td>\n",
       "    </tr>\n",
       "    <tr>\n",
       "      <th>13</th>\n",
       "      <td>prueba_Xception_fine-07_batch-8_lr-0001_auc-93...</td>\n",
       "      <td>0.982743</td>\n",
       "      <td>0.298095</td>\n",
       "      <td>0.273896</td>\n",
       "      <td>0.3383646011352539</td>\n",
       "      <td>0.904439</td>\n",
       "      <td>0.253418</td>\n",
       "      <td>0.185119</td>\n",
       "      <td>0.3660778999328613</td>\n",
       "      <td>0.924378</td>\n",
       "      <td>...</td>\n",
       "      <td>0.880027</td>\n",
       "      <td>0.668235</td>\n",
       "      <td>0.668235</td>\n",
       "      <td>0.831298</td>\n",
       "      <td>0.871358</td>\n",
       "      <td>0.815175</td>\n",
       "      <td>0.815175</td>\n",
       "      <td>False</td>\n",
       "      <td>0.937187</td>\n",
       "      <td>0.861006</td>\n",
       "    </tr>\n",
       "    <tr>\n",
       "      <th>6</th>\n",
       "      <td>prueba_EffNet3_fine-03_batch-8_lr-0001_auc-95_...</td>\n",
       "      <td>0.986002</td>\n",
       "      <td>0.373820</td>\n",
       "      <td>0.373820</td>\n",
       "      <td>0.42770496010780334</td>\n",
       "      <td>0.916031</td>\n",
       "      <td>0.160859</td>\n",
       "      <td>0.132412</td>\n",
       "      <td>0.30670493841171265</td>\n",
       "      <td>0.934488</td>\n",
       "      <td>...</td>\n",
       "      <td>0.880094</td>\n",
       "      <td>0.689197</td>\n",
       "      <td>0.689197</td>\n",
       "      <td>0.862553</td>\n",
       "      <td>0.888442</td>\n",
       "      <td>0.851828</td>\n",
       "      <td>0.851828</td>\n",
       "      <td>False</td>\n",
       "      <td>0.945507</td>\n",
       "      <td>0.872060</td>\n",
       "    </tr>\n",
       "  </tbody>\n",
       "</table>\n",
       "<p>5 rows × 40 columns</p>\n",
       "</div>"
      ],
      "text/plain": [
       "                                                 name     auc_0  younden_0  \\\n",
       "7   prueba_EffNet3_fine-03_batch-8_lr-001_auc-94_r...  0.974926   0.391551   \n",
       "36  prueba_mask_IncResNet_fine-03_batch-8_lr-0001_...  0.964606   0.626558   \n",
       "32  prueba_Xception_fine-03_batch-8_lr-0001_auc-96...  0.979880   0.414729   \n",
       "13  prueba_Xception_fine-07_batch-8_lr-0001_auc-93...  0.982743   0.298095   \n",
       "6   prueba_EffNet3_fine-03_batch-8_lr-0001_auc-95_...  0.986002   0.373820   \n",
       "\n",
       "    pr_max_0             pr_cut_0     auc_1  younden_1  pr_max_1  \\\n",
       "7   0.364874   0.3467031419277191  0.897896   0.325556  0.318853   \n",
       "36  0.622067    0.666806697845459  0.888898   0.069674  0.035041   \n",
       "32  0.364114   0.5308434963226318  0.902144   0.258009  0.153467   \n",
       "13  0.273896   0.3383646011352539  0.904439   0.253418  0.185119   \n",
       "6   0.373820  0.42770496010780334  0.916031   0.160859  0.132412   \n",
       "\n",
       "               pr_cut_1     auc_2  ...  precision_score[0, 2]  \\\n",
       "7    0.4573602974414826  0.929047  ...               0.879674   \n",
       "36  0.16499201953411102  0.950058  ...               0.887700   \n",
       "32   0.5438005924224854  0.929051  ...               0.880504   \n",
       "13   0.3660778999328613  0.924378  ...               0.880027   \n",
       "6   0.30670493841171265  0.934488  ...               0.880094   \n",
       "\n",
       "    recall_score[0, 2] accuracy_score[0, 2]  f1_score[1, 2]  \\\n",
       "7             0.705830             0.705830        0.881764   \n",
       "36            0.729359             0.729359        0.812053   \n",
       "32            0.757970             0.757970        0.883830   \n",
       "13            0.668235             0.668235        0.831298   \n",
       "6             0.689197             0.689197        0.862553   \n",
       "\n",
       "    precision_score[1, 2]  recall_score[1, 2]  accuracy_score[1, 2]  completo  \\\n",
       "7                0.884650            0.879584              0.879584     False   \n",
       "36               0.893080            0.788754              0.788754     False   \n",
       "32               0.882118            0.886908              0.886908     False   \n",
       "13               0.871358            0.815175              0.815175     False   \n",
       "6                0.888442            0.851828              0.851828     False   \n",
       "\n",
       "    auc_mean  accuracy_mean  \n",
       "7   0.933956       0.874935  \n",
       "36  0.934521       0.810674  \n",
       "32  0.937025       0.878278  \n",
       "13  0.937187       0.861006  \n",
       "6   0.945507       0.872060  \n",
       "\n",
       "[5 rows x 40 columns]"
      ]
     },
     "execution_count": 642,
     "metadata": {},
     "output_type": "execute_result"
    }
   ],
   "source": [
    "df_resto.sort_values('auc_mean').tail()"
   ]
  },
  {
   "cell_type": "code",
   "execution_count": 351,
   "id": "59d69d1e-27cf-42ba-98a9-bf11bf1d7fc1",
   "metadata": {},
   "outputs": [
    {
     "data": {
      "text/plain": [
       "'prueba_Xception_fine-07_batch-8_lr--05_auc-92_resto'"
      ]
     },
     "execution_count": 351,
     "metadata": {},
     "output_type": "execute_result"
    }
   ],
   "source": [
    "df_resto.name.iloc[3]"
   ]
  },
  {
   "cell_type": "code",
   "execution_count": 352,
   "id": "81a74bc4-1f75-4ef1-ae48-a980cbf35d5b",
   "metadata": {},
   "outputs": [],
   "source": [
    "df_resto['mask'] = list(map(lambda x: bool(re.search('mask', x)), df_resto['name']))"
   ]
  },
  {
   "cell_type": "code",
   "execution_count": 353,
   "id": "7021a3ac-9a3e-4285-bb68-0a722921f17b",
   "metadata": {},
   "outputs": [],
   "source": [
    "df_resto['modelo'] = list(map(lambda x: re.split('_', x)[-6], df_resto['name']))\n",
    "df_resto['lr'] = list(map(lambda x: re.split('-', re.split('_', x)[-3])[1], df_resto['name']))\n",
    "df_resto['batch'] = list(map(lambda x: re.split('-', re.split('_', x)[-4])[1], df_resto['name']))\n",
    "df_resto['fine'] = list(map(lambda x: re.split('-', re.split('_', x)[-5])[1], df_resto['name']))"
   ]
  },
  {
   "cell_type": "code",
   "execution_count": 354,
   "id": "599855ed-8ff2-4040-8d75-3947e2d7e77c",
   "metadata": {},
   "outputs": [
    {
     "data": {
      "text/plain": [
       "Index(['name', 'auc_0', 'younden_0', 'pr_max_0', 'pr_cut_0', 'auc_1',\n",
       "       'younden_1', 'pr_max_1', 'pr_cut_1', 'auc_2', 'younden_2', 'pr_max_2',\n",
       "       'pr_cut_2', 'f1_score_0', 'precision_score_0', 'recall_score_0',\n",
       "       'accuracy_score_0', 'f1_score_1', 'precision_score_1', 'recall_score_1',\n",
       "       'accuracy_score_1', 'f1_score_2', 'precision_score_2', 'recall_score_2',\n",
       "       'accuracy_score_2', 'f1_score[0, 1]', 'precision_score[0, 1]',\n",
       "       'recall_score[0, 1]', 'accuracy_score[0, 1]', 'f1_score[0, 2]',\n",
       "       'precision_score[0, 2]', 'recall_score[0, 2]', 'accuracy_score[0, 2]',\n",
       "       'f1_score[1, 2]', 'precision_score[1, 2]', 'recall_score[1, 2]',\n",
       "       'accuracy_score[1, 2]', 'completo', 'auc_mean', 'accuracy_mean', 'mask',\n",
       "       'modelo', 'lr', 'batch', 'fine'],\n",
       "      dtype='object')"
      ]
     },
     "execution_count": 354,
     "metadata": {},
     "output_type": "execute_result"
    }
   ],
   "source": [
    "df_resto.columns"
   ]
  },
  {
   "cell_type": "markdown",
   "id": "312052af-b4f0-4865-9a3e-2a6d0a30fe42",
   "metadata": {},
   "source": [
    "### Ploteo"
   ]
  },
  {
   "cell_type": "code",
   "execution_count": 355,
   "id": "738b2fa2-183a-4fef-8e8d-33ef4a66ec11",
   "metadata": {},
   "outputs": [],
   "source": [
    "y = 'accuracy_mean'\n",
    "data = df_resto\n",
    "lim = np.percentile(data[y], 20)"
   ]
  },
  {
   "cell_type": "code",
   "execution_count": 356,
   "id": "4829a6d5-f0aa-4f2a-8640-7826b0f5892d",
   "metadata": {},
   "outputs": [
    {
     "data": {
      "text/plain": [
       "[(0.7947763194670227, 1.0)]"
      ]
     },
     "execution_count": 356,
     "metadata": {},
     "output_type": "execute_result"
    },
    {
     "data": {
      "image/png": "[encoded data removed]",
      "text/plain": [
       "<Figure size 720x360 with 1 Axes>"
      ]
     },
     "metadata": {
      "needs_background": "light"
     },
     "output_type": "display_data"
    }
   ],
   "source": [
    "plt.subplots(figsize=(10,5))\n",
    "p = sns.boxplot(x=\"modelo\", y=y,\n",
    "                hue=\"mask\",\n",
    "                data=data)\n",
    "p.set(ylim=(lim, 1))"
   ]
  },
  {
   "cell_type": "code",
   "execution_count": 357,
   "id": "2284c594-fa69-4324-bbdf-659067006df8",
   "metadata": {},
   "outputs": [
    {
     "data": {
      "text/plain": [
       "[(0.7947763194670227, 1.0)]"
      ]
     },
     "execution_count": 357,
     "metadata": {},
     "output_type": "execute_result"
    },
    {
     "data": {
      "image/png": "[encoded data removed]",
      "text/plain": [
       "<Figure size 720x360 with 1 Axes>"
      ]
     },
     "metadata": {
      "needs_background": "light"
     },
     "output_type": "display_data"
    }
   ],
   "source": [
    "plt.subplots(figsize=(10,5))\n",
    "p = sns.boxplot(x=\"modelo\", y=y,\n",
    "                hue=\"fine\",\n",
    "                data=data)\n",
    "p.set(ylim=(lim, 1))"
   ]
  },
  {
   "cell_type": "code",
   "execution_count": 358,
   "id": "9ca19a4a-8ce9-42fe-b9b8-e054c69e45ea",
   "metadata": {},
   "outputs": [
    {
     "data": {
      "text/plain": [
       "[(0.7947763194670227, 1.0)]"
      ]
     },
     "execution_count": 358,
     "metadata": {},
     "output_type": "execute_result"
    },
    {
     "data": {
      "image/png": "[encoded data removed]",
      "text/plain": [
       "<Figure size 720x360 with 1 Axes>"
      ]
     },
     "metadata": {
      "needs_background": "light"
     },
     "output_type": "display_data"
    }
   ],
   "source": [
    "plt.subplots(figsize=(10,5))\n",
    "p = sns.boxplot(x=\"modelo\", y=y,\n",
    "                hue=\"lr\",\n",
    "                data=data)\n",
    "p.set(ylim=(lim, 1))"
   ]
  },
  {
   "cell_type": "code",
   "execution_count": 359,
   "id": "184b8c13-4380-4580-86e9-40faf9cf916c",
   "metadata": {},
   "outputs": [
    {
     "data": {
      "text/plain": [
       "[(0.7947763194670227, 1.0)]"
      ]
     },
     "execution_count": 359,
     "metadata": {},
     "output_type": "execute_result"
    },
    {
     "data": {
      "image/png": "[encoded data removed]",
      "text/plain": [
       "<Figure size 720x360 with 1 Axes>"
      ]
     },
     "metadata": {
      "needs_background": "light"
     },
     "output_type": "display_data"
    }
   ],
   "source": [
    "plt.subplots(figsize=(10,5))\n",
    "p = sns.boxplot(x=\"lr\", y=y,\n",
    "                hue=\"mask\",\n",
    "                data=data)\n",
    "p.set(ylim=(lim, 1))"
   ]
  },
  {
   "cell_type": "code",
   "execution_count": 360,
   "id": "6774a4ed-c0df-4928-ae46-bbac9f6fe7a9",
   "metadata": {},
   "outputs": [
    {
     "data": {
      "text/plain": [
       "[(0.7947763194670227, 1.0)]"
      ]
     },
     "execution_count": 360,
     "metadata": {},
     "output_type": "execute_result"
    },
    {
     "data": {
      "image/png": "[encoded data removed]",
      "text/plain": [
       "<Figure size 720x360 with 1 Axes>"
      ]
     },
     "metadata": {
      "needs_background": "light"
     },
     "output_type": "display_data"
    }
   ],
   "source": [
    "plt.subplots(figsize=(10,5))\n",
    "p = sns.boxplot(x=\"fine\", y=y,\n",
    "                hue=\"mask\",\n",
    "                data=data)\n",
    "p.set(ylim=(lim, 1))"
   ]
  },
  {
   "cell_type": "code",
   "execution_count": 361,
   "id": "43b26342-cd93-4fd0-9803-ef0617405d12",
   "metadata": {},
   "outputs": [
    {
     "data": {
      "text/plain": [
       "[(0.7947763194670227, 1.0)]"
      ]
     },
     "execution_count": 361,
     "metadata": {},
     "output_type": "execute_result"
    },
    {
     "data": {
      "image/png": "[encoded data removed]",
      "text/plain": [
       "<Figure size 720x360 with 1 Axes>"
      ]
     },
     "metadata": {
      "needs_background": "light"
     },
     "output_type": "display_data"
    }
   ],
   "source": [
    "plt.subplots(figsize=(10,5))\n",
    "p = sns.boxplot(x=\"fine\", y=y,\n",
    "                hue=\"lr\",\n",
    "                data=data)\n",
    "p.set(ylim=(lim, 1))"
   ]
  },
  {
   "cell_type": "markdown",
   "id": "b77480bd-3566-4cf0-841f-f7a84ec87f20",
   "metadata": {},
   "source": [
    "## SUBSET"
   ]
  },
  {
   "cell_type": "code",
   "execution_count": 362,
   "id": "7eb318d5-8980-4aee-9dc7-e8cc108f7a06",
   "metadata": {},
   "outputs": [],
   "source": [
    "df = df.reset_index(drop = True)"
   ]
  },
  {
   "cell_type": "code",
   "execution_count": 363,
   "id": "c018a179-6641-4660-b024-d53f8fa6ba01",
   "metadata": {},
   "outputs": [],
   "source": [
    "index = list(set(df.index) - set(index))\n",
    "df = df.iloc[index]"
   ]
  },
  {
   "cell_type": "code",
   "execution_count": 364,
   "id": "756110ca-cab3-44c5-8ee8-10577df1b742",
   "metadata": {},
   "outputs": [],
   "source": [
    "df['mask'] = list(map(lambda x: bool(re.search('mask', x)), df['name']))"
   ]
  },
  {
   "cell_type": "code",
   "execution_count": 365,
   "id": "5d862f61-e202-4a4b-912d-eab5f4e4c100",
   "metadata": {},
   "outputs": [],
   "source": [
    "df['modelo'] = list(map(lambda x: re.split('_', x)[-5], df['name']))\n",
    "df['lr'] = list(map(lambda x: re.split('-', re.split('_', x)[-2])[1], df['name']))\n",
    "df['batch'] = list(map(lambda x: re.split('-', re.split('_', x)[-3])[1], df['name']))\n",
    "df['fine'] = list(map(lambda x: re.split('-', re.split('_', x)[-4])[1], df['name']))"
   ]
  },
  {
   "cell_type": "code",
   "execution_count": 366,
   "id": "bb570245-1d32-47bd-ab81-638cfa42b15e",
   "metadata": {},
   "outputs": [],
   "source": [
    "df['auc_mean'] = (df['auc_0']+df['auc_1']+df['auc_2'])/3\n",
    "df['accuracy_mean'] = (df['accuracy_score_0']+\n",
    "                             df['accuracy_score_1']+\n",
    "                             df['accuracy_score_2'])/3"
   ]
  },
  {
   "cell_type": "code",
   "execution_count": 367,
   "id": "e6932bdf-5613-4439-a4e5-166c66ab8961",
   "metadata": {},
   "outputs": [
    {
     "data": {
      "text/html": [
       "<div>\n",
       "<style scoped>\n",
       "    .dataframe tbody tr th:only-of-type {\n",
       "        vertical-align: middle;\n",
       "    }\n",
       "\n",
       "    .dataframe tbody tr th {\n",
       "        vertical-align: top;\n",
       "    }\n",
       "\n",
       "    .dataframe thead th {\n",
       "        text-align: right;\n",
       "    }\n",
       "</style>\n",
       "<table border=\"1\" class=\"dataframe\">\n",
       "  <thead>\n",
       "    <tr style=\"text-align: right;\">\n",
       "      <th></th>\n",
       "      <th>name</th>\n",
       "      <th>auc_0</th>\n",
       "      <th>younden_0</th>\n",
       "      <th>pr_max_0</th>\n",
       "      <th>pr_cut_0</th>\n",
       "      <th>auc_1</th>\n",
       "      <th>younden_1</th>\n",
       "      <th>pr_max_1</th>\n",
       "      <th>pr_cut_1</th>\n",
       "      <th>auc_2</th>\n",
       "      <th>...</th>\n",
       "      <th>recall_score[1, 2]</th>\n",
       "      <th>accuracy_score[1, 2]</th>\n",
       "      <th>completo</th>\n",
       "      <th>mask</th>\n",
       "      <th>modelo</th>\n",
       "      <th>lr</th>\n",
       "      <th>batch</th>\n",
       "      <th>fine</th>\n",
       "      <th>auc_mean</th>\n",
       "      <th>accuracy_mean</th>\n",
       "    </tr>\n",
       "  </thead>\n",
       "  <tbody>\n",
       "    <tr>\n",
       "      <th>36</th>\n",
       "      <td>prueba_mask_IncResNet_fine-05_batch-8_lr-0001_...</td>\n",
       "      <td>0.974515</td>\n",
       "      <td>0.066946</td>\n",
       "      <td>0.066946</td>\n",
       "      <td>0.11042541265487672</td>\n",
       "      <td>0.872377</td>\n",
       "      <td>0.057974</td>\n",
       "      <td>0.049864</td>\n",
       "      <td>0.5447177886962891</td>\n",
       "      <td>0.930372</td>\n",
       "      <td>...</td>\n",
       "      <td>0.854855</td>\n",
       "      <td>0.854855</td>\n",
       "      <td>False</td>\n",
       "      <td>True</td>\n",
       "      <td>IncResNet</td>\n",
       "      <td>0001</td>\n",
       "      <td>8</td>\n",
       "      <td>05</td>\n",
       "      <td>0.925755</td>\n",
       "      <td>0.857858</td>\n",
       "    </tr>\n",
       "    <tr>\n",
       "      <th>57</th>\n",
       "      <td>prueba_Xception_fine-08_batch-8_lr-001_auc-92</td>\n",
       "      <td>0.982717</td>\n",
       "      <td>0.196502</td>\n",
       "      <td>0.331068</td>\n",
       "      <td>0.13822942972183228</td>\n",
       "      <td>0.873779</td>\n",
       "      <td>0.382627</td>\n",
       "      <td>0.135059</td>\n",
       "      <td>0.590139627456665</td>\n",
       "      <td>0.923374</td>\n",
       "      <td>...</td>\n",
       "      <td>0.843844</td>\n",
       "      <td>0.843844</td>\n",
       "      <td>False</td>\n",
       "      <td>False</td>\n",
       "      <td>Xception</td>\n",
       "      <td>001</td>\n",
       "      <td>8</td>\n",
       "      <td>08</td>\n",
       "      <td>0.926623</td>\n",
       "      <td>0.860527</td>\n",
       "    </tr>\n",
       "    <tr>\n",
       "      <th>22</th>\n",
       "      <td>prueba_mask_Xception_fine-03_batch-8_lr-0001_a...</td>\n",
       "      <td>0.977626</td>\n",
       "      <td>0.079139</td>\n",
       "      <td>0.098225</td>\n",
       "      <td>0.10953118652105333</td>\n",
       "      <td>0.877251</td>\n",
       "      <td>0.567552</td>\n",
       "      <td>0.562125</td>\n",
       "      <td>0.6664933562278748</td>\n",
       "      <td>0.942451</td>\n",
       "      <td>...</td>\n",
       "      <td>0.877878</td>\n",
       "      <td>0.877878</td>\n",
       "      <td>False</td>\n",
       "      <td>True</td>\n",
       "      <td>Xception</td>\n",
       "      <td>0001</td>\n",
       "      <td>8</td>\n",
       "      <td>03</td>\n",
       "      <td>0.932443</td>\n",
       "      <td>0.853854</td>\n",
       "    </tr>\n",
       "    <tr>\n",
       "      <th>34</th>\n",
       "      <td>prueba_mask_IncResNet_fine-03_batch-8_lr-0001_...</td>\n",
       "      <td>0.975083</td>\n",
       "      <td>0.455335</td>\n",
       "      <td>0.673091</td>\n",
       "      <td>0.6264345645904541</td>\n",
       "      <td>0.878748</td>\n",
       "      <td>0.110022</td>\n",
       "      <td>0.026167</td>\n",
       "      <td>0.20630334317684174</td>\n",
       "      <td>0.943782</td>\n",
       "      <td>...</td>\n",
       "      <td>0.801802</td>\n",
       "      <td>0.801802</td>\n",
       "      <td>False</td>\n",
       "      <td>True</td>\n",
       "      <td>IncResNet</td>\n",
       "      <td>0001</td>\n",
       "      <td>8</td>\n",
       "      <td>03</td>\n",
       "      <td>0.932538</td>\n",
       "      <td>0.827828</td>\n",
       "    </tr>\n",
       "    <tr>\n",
       "      <th>6</th>\n",
       "      <td>prueba_EffNet3_fine-03_batch-8_lr-0001_auc-95</td>\n",
       "      <td>0.991293</td>\n",
       "      <td>0.122462</td>\n",
       "      <td>0.366291</td>\n",
       "      <td>0.3662910461425781</td>\n",
       "      <td>0.893384</td>\n",
       "      <td>0.219937</td>\n",
       "      <td>0.219937</td>\n",
       "      <td>0.3667306900024414</td>\n",
       "      <td>0.931752</td>\n",
       "      <td>...</td>\n",
       "      <td>0.852853</td>\n",
       "      <td>0.852853</td>\n",
       "      <td>False</td>\n",
       "      <td>False</td>\n",
       "      <td>EffNet3</td>\n",
       "      <td>0001</td>\n",
       "      <td>8</td>\n",
       "      <td>03</td>\n",
       "      <td>0.938810</td>\n",
       "      <td>0.870537</td>\n",
       "    </tr>\n",
       "  </tbody>\n",
       "</table>\n",
       "<p>5 rows × 45 columns</p>\n",
       "</div>"
      ],
      "text/plain": [
       "                                                 name     auc_0  younden_0  \\\n",
       "36  prueba_mask_IncResNet_fine-05_batch-8_lr-0001_...  0.974515   0.066946   \n",
       "57      prueba_Xception_fine-08_batch-8_lr-001_auc-92  0.982717   0.196502   \n",
       "22  prueba_mask_Xception_fine-03_batch-8_lr-0001_a...  0.977626   0.079139   \n",
       "34  prueba_mask_IncResNet_fine-03_batch-8_lr-0001_...  0.975083   0.455335   \n",
       "6       prueba_EffNet3_fine-03_batch-8_lr-0001_auc-95  0.991293   0.122462   \n",
       "\n",
       "    pr_max_0             pr_cut_0     auc_1  younden_1  pr_max_1  \\\n",
       "36  0.066946  0.11042541265487672  0.872377   0.057974  0.049864   \n",
       "57  0.331068  0.13822942972183228  0.873779   0.382627  0.135059   \n",
       "22  0.098225  0.10953118652105333  0.877251   0.567552  0.562125   \n",
       "34  0.673091   0.6264345645904541  0.878748   0.110022  0.026167   \n",
       "6   0.366291   0.3662910461425781  0.893384   0.219937  0.219937   \n",
       "\n",
       "               pr_cut_1     auc_2  ...  recall_score[1, 2]  \\\n",
       "36   0.5447177886962891  0.930372  ...            0.854855   \n",
       "57    0.590139627456665  0.923374  ...            0.843844   \n",
       "22   0.6664933562278748  0.942451  ...            0.877878   \n",
       "34  0.20630334317684174  0.943782  ...            0.801802   \n",
       "6    0.3667306900024414  0.931752  ...            0.852853   \n",
       "\n",
       "    accuracy_score[1, 2] completo   mask     modelo    lr  batch  fine  \\\n",
       "36              0.854855    False   True  IncResNet  0001      8    05   \n",
       "57              0.843844    False  False   Xception   001      8    08   \n",
       "22              0.877878    False   True   Xception  0001      8    03   \n",
       "34              0.801802    False   True  IncResNet  0001      8    03   \n",
       "6               0.852853    False  False    EffNet3  0001      8    03   \n",
       "\n",
       "    auc_mean  accuracy_mean  \n",
       "36  0.925755       0.857858  \n",
       "57  0.926623       0.860527  \n",
       "22  0.932443       0.853854  \n",
       "34  0.932538       0.827828  \n",
       "6   0.938810       0.870537  \n",
       "\n",
       "[5 rows x 45 columns]"
      ]
     },
     "execution_count": 367,
     "metadata": {},
     "output_type": "execute_result"
    }
   ],
   "source": [
    "df.sort_values('auc_mean').tail()"
   ]
  },
  {
   "cell_type": "code",
   "execution_count": 368,
   "id": "bb5811ce-fac9-48b6-9a37-d2e60d079541",
   "metadata": {},
   "outputs": [
    {
     "data": {
      "text/plain": [
       "'prueba_mask_Xception_fine-03_batch-8_lr-0001_auc-91'"
      ]
     },
     "execution_count": 368,
     "metadata": {},
     "output_type": "execute_result"
    }
   ],
   "source": [
    "df.name.iloc[22]"
   ]
  },
  {
   "cell_type": "code",
   "execution_count": 369,
   "id": "99556380-7a5d-47c5-9f39-4a0757f0717d",
   "metadata": {},
   "outputs": [
    {
     "data": {
      "text/plain": [
       "Index(['name', 'auc_0', 'younden_0', 'pr_max_0', 'pr_cut_0', 'auc_1',\n",
       "       'younden_1', 'pr_max_1', 'pr_cut_1', 'auc_2', 'younden_2', 'pr_max_2',\n",
       "       'pr_cut_2', 'f1_score_0', 'precision_score_0', 'recall_score_0',\n",
       "       'accuracy_score_0', 'f1_score_1', 'precision_score_1', 'recall_score_1',\n",
       "       'accuracy_score_1', 'f1_score_2', 'precision_score_2', 'recall_score_2',\n",
       "       'accuracy_score_2', 'f1_score[0, 1]', 'precision_score[0, 1]',\n",
       "       'recall_score[0, 1]', 'accuracy_score[0, 1]', 'f1_score[0, 2]',\n",
       "       'precision_score[0, 2]', 'recall_score[0, 2]', 'accuracy_score[0, 2]',\n",
       "       'f1_score[1, 2]', 'precision_score[1, 2]', 'recall_score[1, 2]',\n",
       "       'accuracy_score[1, 2]', 'completo', 'mask', 'modelo', 'lr', 'batch',\n",
       "       'fine', 'auc_mean', 'accuracy_mean'],\n",
       "      dtype='object')"
      ]
     },
     "execution_count": 369,
     "metadata": {},
     "output_type": "execute_result"
    }
   ],
   "source": [
    "df.columns"
   ]
  },
  {
   "cell_type": "markdown",
   "id": "220b67a5-0141-41b1-8e18-9ba43838f1de",
   "metadata": {},
   "source": [
    "### Ploteo"
   ]
  },
  {
   "cell_type": "code",
   "execution_count": 370,
   "id": "4fab87d0-f47f-4c9c-b813-89baf4361ffb",
   "metadata": {},
   "outputs": [],
   "source": [
    "y = 'accuracy_mean'\n",
    "data = df\n",
    "lim = np.percentile(data[y], 10)"
   ]
  },
  {
   "cell_type": "code",
   "execution_count": 371,
   "id": "97033456-d99e-4b89-bd02-8a014659e737",
   "metadata": {},
   "outputs": [
    {
     "data": {
      "text/plain": [
       "[(0.6488488488488489, 1.0)]"
      ]
     },
     "execution_count": 371,
     "metadata": {},
     "output_type": "execute_result"
    },
    {
     "data": {
      "image/png": "[encoded data removed]",
      "text/plain": [
       "<Figure size 720x360 with 1 Axes>"
      ]
     },
     "metadata": {
      "needs_background": "light"
     },
     "output_type": "display_data"
    }
   ],
   "source": [
    "plt.subplots(figsize=(10,5))\n",
    "p = sns.boxplot(x=\"modelo\", y=y,\n",
    "                hue=\"mask\",\n",
    "                data=data)\n",
    "p.set(ylim=(lim, 1))"
   ]
  },
  {
   "cell_type": "code",
   "execution_count": 372,
   "id": "2c3a3185-6d81-4145-b15e-b69e3bbf26c8",
   "metadata": {},
   "outputs": [
    {
     "data": {
      "text/plain": [
       "[(0.6488488488488489, 1.0)]"
      ]
     },
     "execution_count": 372,
     "metadata": {},
     "output_type": "execute_result"
    },
    {
     "data": {
      "image/png": "[encoded data removed]",
      "text/plain": [
       "<Figure size 720x360 with 1 Axes>"
      ]
     },
     "metadata": {
      "needs_background": "light"
     },
     "output_type": "display_data"
    }
   ],
   "source": [
    "plt.subplots(figsize=(10,5))\n",
    "p = sns.boxplot(x=\"modelo\", y=y,\n",
    "                hue=\"fine\",\n",
    "                data=data)\n",
    "p.set(ylim=(lim, 1))"
   ]
  },
  {
   "cell_type": "code",
   "execution_count": 373,
   "id": "f1dac964-026b-47f9-a178-60bb50d02bf3",
   "metadata": {},
   "outputs": [
    {
     "data": {
      "text/plain": [
       "[(0.6488488488488489, 1.0)]"
      ]
     },
     "execution_count": 373,
     "metadata": {},
     "output_type": "execute_result"
    },
    {
     "data": {
      "image/png": "[encoded data removed]",
      "text/plain": [
       "<Figure size 720x360 with 1 Axes>"
      ]
     },
     "metadata": {
      "needs_background": "light"
     },
     "output_type": "display_data"
    }
   ],
   "source": [
    "plt.subplots(figsize=(10,5))\n",
    "p = sns.boxplot(x=\"modelo\", y=y,\n",
    "                hue=\"lr\",\n",
    "                data=data)\n",
    "p.set(ylim=(lim, 1))"
   ]
  },
  {
   "cell_type": "code",
   "execution_count": 374,
   "id": "97eb1d9e-865c-4f31-9093-1db076cd2d0d",
   "metadata": {},
   "outputs": [
    {
     "data": {
      "text/plain": [
       "[(0.6488488488488489, 1.0)]"
      ]
     },
     "execution_count": 374,
     "metadata": {},
     "output_type": "execute_result"
    },
    {
     "data": {
      "image/png": "[encoded data removed]",
      "text/plain": [
       "<Figure size 720x360 with 1 Axes>"
      ]
     },
     "metadata": {
      "needs_background": "light"
     },
     "output_type": "display_data"
    }
   ],
   "source": [
    "plt.subplots(figsize=(10,5))\n",
    "p = sns.boxplot(x=\"lr\", y=y,\n",
    "                hue=\"mask\",\n",
    "                data=data)\n",
    "p.set(ylim=(lim, 1))"
   ]
  },
  {
   "cell_type": "code",
   "execution_count": 375,
   "id": "90d84a0b-38f2-433e-8fcb-01a3fb587492",
   "metadata": {},
   "outputs": [
    {
     "data": {
      "text/plain": [
       "[(0.6488488488488489, 1.0)]"
      ]
     },
     "execution_count": 375,
     "metadata": {},
     "output_type": "execute_result"
    },
    {
     "data": {
      "image/png": "[encoded data removed]",
      "text/plain": [
       "<Figure size 720x360 with 1 Axes>"
      ]
     },
     "metadata": {
      "needs_background": "light"
     },
     "output_type": "display_data"
    }
   ],
   "source": [
    "plt.subplots(figsize=(10,5))\n",
    "p = sns.boxplot(x=\"fine\", y=y,\n",
    "                hue=\"mask\",\n",
    "                data=data)\n",
    "p.set(ylim=(lim, 1))"
   ]
  },
  {
   "cell_type": "code",
   "execution_count": 376,
   "id": "16c2d74a-658d-449a-96a4-9edbd266662c",
   "metadata": {},
   "outputs": [
    {
     "data": {
      "text/plain": [
       "[(0.6488488488488489, 1.0)]"
      ]
     },
     "execution_count": 376,
     "metadata": {},
     "output_type": "execute_result"
    },
    {
     "data": {
      "image/png": "[encoded data removed]",
      "text/plain": [
       "<Figure size 720x360 with 1 Axes>"
      ]
     },
     "metadata": {
      "needs_background": "light"
     },
     "output_type": "display_data"
    }
   ],
   "source": [
    "plt.subplots(figsize=(10,5))\n",
    "p = sns.boxplot(x=\"fine\", y=y,\n",
    "                hue=\"lr\",\n",
    "                data=data)\n",
    "p.set(ylim=(lim, 1))"
   ]
  },
  {
   "cell_type": "code",
   "execution_count": null,
   "id": "8cac0902-855f-4430-a41f-ea446fbb9d6b",
   "metadata": {},
   "outputs": [],
   "source": [
    "plt.subplots(figsize=(10,5))\n",
    "p = sns.boxplot(x=\"lr\", y=y,\n",
    "                hue=\"mask\",\n",
    "                data=data)\n",
    "p.set(ylim=(lim, 1))"
   ]
  },
  {
   "cell_type": "markdown",
   "id": "86fd4538-f1cb-4b6a-9eed-27bd617ed642",
   "metadata": {},
   "source": [
    "## Cada modelo"
   ]
  },
  {
   "cell_type": "code",
   "execution_count": null,
   "id": "209e8622-ab9c-4d2c-8286-a9795ed09cef",
   "metadata": {},
   "outputs": [],
   "source": [
    "import os\n",
    "import cv2\n",
    "import json"
   ]
  },
  {
   "cell_type": "code",
   "execution_count": null,
   "id": "d5928bcd-0bd0-43c9-aca5-7a01baf67bb6",
   "metadata": {},
   "outputs": [],
   "source": [
    "model_name = 'prueba_Xception_fine-07_batch-8_lr-0001_auc-93_resto'"
   ]
  },
  {
   "cell_type": "code",
   "execution_count": null,
   "id": "72e2b5d1-52aa-4bb8-9ea0-4a1ab41d121d",
   "metadata": {},
   "outputs": [],
   "source": [
    "p = os.path.join('/home/mr1142/Documents/Data/models/neumonia/validation_results', model_name)"
   ]
  },
  {
   "cell_type": "code",
   "execution_count": null,
   "id": "63d0e066-0e6d-4021-8737-be13de1ea79a",
   "metadata": {},
   "outputs": [],
   "source": [
    "os.listdir(p)"
   ]
  },
  {
   "cell_type": "code",
   "execution_count": null,
   "id": "0a98fe87-3859-4992-b3db-de6b6e88f7c8",
   "metadata": {},
   "outputs": [],
   "source": [
    "img = cv2.imread(os.path.join(p, 'pr_re_th_plot_2.png'))\n",
    "plt.figure(figsize=(10,10))\n",
    "plt.imshow(img)"
   ]
  },
  {
   "cell_type": "code",
   "execution_count": null,
   "id": "77bfb7c7-226e-49a8-a629-560d4b632f37",
   "metadata": {},
   "outputs": [],
   "source": [
    "with open(os.path.join(p, 'metricas.json')) as json_file:\n",
    "    data = json.load(json_file)\n",
    "data"
   ]
  },
  {
   "cell_type": "code",
   "execution_count": null,
   "id": "890014e3-0f2f-4204-8976-c5fd12e8a0dd",
   "metadata": {},
   "outputs": [],
   "source": [
    "df = pd.read_csv(os.path.join(p, 'class_report.csv'))\n",
    "df"
   ]
  },
  {
   "cell_type": "code",
   "execution_count": null,
   "id": "a2c99067-0028-49d4-8306-7121ca565f24",
   "metadata": {},
   "outputs": [],
   "source": []
  }
 ],
 "metadata": {
  "kernelspec": {
   "display_name": "Python 3",
   "language": "python",
   "name": "python3"
  },
  "language_info": {
   "codemirror_mode": {
    "name": "ipython",
    "version": 3
   },
   "file_extension": ".py",
   "mimetype": "text/x-python",
   "name": "python",
   "nbconvert_exporter": "python",
   "pygments_lexer": "ipython3",
   "version": "3.6.8"
  }
 },
 "nbformat": 4,
 "nbformat_minor": 5
}
