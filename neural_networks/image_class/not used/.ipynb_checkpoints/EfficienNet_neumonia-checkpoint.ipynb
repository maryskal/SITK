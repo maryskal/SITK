{
 "cells": [
  {
   "cell_type": "code",
   "execution_count": 1,
   "id": "d69d8f69-e373-41b0-8903-65459151eade",
   "metadata": {},
   "outputs": [],
   "source": [
    "import os\n",
    "import pandas as pd\n",
    "import numpy as np\n",
    "import PIL\n",
    "import tensorflow as tf\n",
    "import matplotlib.pyplot as plt\n",
    "import datetime\n",
    "import cv2\n",
    "\n",
    "from sklearn import model_selection\n",
    "from PIL import Image\n",
    "from skimage import exposure\n",
    "\n",
    "from tensorflow.keras.applications import EfficientNetB3\n",
    "from tensorflow.keras import models\n",
    "from tensorflow.keras import layers\n",
    "import tensorflow_addons as tfa"
   ]
  },
  {
   "cell_type": "code",
   "execution_count": 2,
   "id": "9f139e22-59f0-4115-9ac7-af7a98742c54",
   "metadata": {},
   "outputs": [],
   "source": [
    "os.environ['CUDA_VISIBLE_DEVICES'] = '2'"
   ]
  },
  {
   "cell_type": "markdown",
   "id": "f19dde69-2bea-49bb-b0eb-997e97d1b0e8",
   "metadata": {},
   "source": [
    "# Datos"
   ]
  },
  {
   "cell_type": "code",
   "execution_count": 3,
   "id": "829343a3-2ff7-4820-bddb-edc21794abbf",
   "metadata": {},
   "outputs": [],
   "source": [
    "path = '/home/mr1142/Documents/Data/NIH'"
   ]
  },
  {
   "cell_type": "code",
   "execution_count": 4,
   "id": "9f7a0561-f768-44f1-8903-309e66b65ba5",
   "metadata": {},
   "outputs": [
    {
     "data": {
      "text/html": [
       "<div>\n",
       "<style scoped>\n",
       "    .dataframe tbody tr th:only-of-type {\n",
       "        vertical-align: middle;\n",
       "    }\n",
       "\n",
       "    .dataframe tbody tr th {\n",
       "        vertical-align: top;\n",
       "    }\n",
       "\n",
       "    .dataframe thead th {\n",
       "        text-align: right;\n",
       "    }\n",
       "</style>\n",
       "<table border=\"1\" class=\"dataframe\">\n",
       "  <thead>\n",
       "    <tr style=\"text-align: right;\">\n",
       "      <th></th>\n",
       "      <th>Image Index</th>\n",
       "      <th>Finding Labels</th>\n",
       "      <th>Follow-up #</th>\n",
       "      <th>Patient ID</th>\n",
       "      <th>Patient Age</th>\n",
       "      <th>Patient Gender</th>\n",
       "      <th>View Position</th>\n",
       "      <th>OriginalImage[Width</th>\n",
       "      <th>Height]</th>\n",
       "      <th>OriginalImagePixelSpacing[x</th>\n",
       "      <th>y]</th>\n",
       "      <th>Unnamed: 11</th>\n",
       "    </tr>\n",
       "  </thead>\n",
       "  <tbody>\n",
       "    <tr>\n",
       "      <th>0</th>\n",
       "      <td>00000001_000.png</td>\n",
       "      <td>Cardiomegaly</td>\n",
       "      <td>0</td>\n",
       "      <td>1</td>\n",
       "      <td>58</td>\n",
       "      <td>M</td>\n",
       "      <td>PA</td>\n",
       "      <td>2682</td>\n",
       "      <td>2749</td>\n",
       "      <td>0.143</td>\n",
       "      <td>0.143</td>\n",
       "      <td>NaN</td>\n",
       "    </tr>\n",
       "    <tr>\n",
       "      <th>1</th>\n",
       "      <td>00000001_001.png</td>\n",
       "      <td>Cardiomegaly|Emphysema</td>\n",
       "      <td>1</td>\n",
       "      <td>1</td>\n",
       "      <td>58</td>\n",
       "      <td>M</td>\n",
       "      <td>PA</td>\n",
       "      <td>2894</td>\n",
       "      <td>2729</td>\n",
       "      <td>0.143</td>\n",
       "      <td>0.143</td>\n",
       "      <td>NaN</td>\n",
       "    </tr>\n",
       "    <tr>\n",
       "      <th>2</th>\n",
       "      <td>00000001_002.png</td>\n",
       "      <td>Cardiomegaly|Effusion</td>\n",
       "      <td>2</td>\n",
       "      <td>1</td>\n",
       "      <td>58</td>\n",
       "      <td>M</td>\n",
       "      <td>PA</td>\n",
       "      <td>2500</td>\n",
       "      <td>2048</td>\n",
       "      <td>0.168</td>\n",
       "      <td>0.168</td>\n",
       "      <td>NaN</td>\n",
       "    </tr>\n",
       "    <tr>\n",
       "      <th>3</th>\n",
       "      <td>00000002_000.png</td>\n",
       "      <td>No Finding</td>\n",
       "      <td>0</td>\n",
       "      <td>2</td>\n",
       "      <td>81</td>\n",
       "      <td>M</td>\n",
       "      <td>PA</td>\n",
       "      <td>2500</td>\n",
       "      <td>2048</td>\n",
       "      <td>0.171</td>\n",
       "      <td>0.171</td>\n",
       "      <td>NaN</td>\n",
       "    </tr>\n",
       "    <tr>\n",
       "      <th>4</th>\n",
       "      <td>00000003_000.png</td>\n",
       "      <td>Hernia</td>\n",
       "      <td>0</td>\n",
       "      <td>3</td>\n",
       "      <td>81</td>\n",
       "      <td>F</td>\n",
       "      <td>PA</td>\n",
       "      <td>2582</td>\n",
       "      <td>2991</td>\n",
       "      <td>0.143</td>\n",
       "      <td>0.143</td>\n",
       "      <td>NaN</td>\n",
       "    </tr>\n",
       "  </tbody>\n",
       "</table>\n",
       "</div>"
      ],
      "text/plain": [
       "        Image Index          Finding Labels  Follow-up #  Patient ID  \\\n",
       "0  00000001_000.png            Cardiomegaly            0           1   \n",
       "1  00000001_001.png  Cardiomegaly|Emphysema            1           1   \n",
       "2  00000001_002.png   Cardiomegaly|Effusion            2           1   \n",
       "3  00000002_000.png              No Finding            0           2   \n",
       "4  00000003_000.png                  Hernia            0           3   \n",
       "\n",
       "   Patient Age Patient Gender View Position  OriginalImage[Width  Height]  \\\n",
       "0           58              M            PA                 2682     2749   \n",
       "1           58              M            PA                 2894     2729   \n",
       "2           58              M            PA                 2500     2048   \n",
       "3           81              M            PA                 2500     2048   \n",
       "4           81              F            PA                 2582     2991   \n",
       "\n",
       "   OriginalImagePixelSpacing[x     y]  Unnamed: 11  \n",
       "0                        0.143  0.143          NaN  \n",
       "1                        0.143  0.143          NaN  \n",
       "2                        0.168  0.168          NaN  \n",
       "3                        0.171  0.171          NaN  \n",
       "4                        0.143  0.143          NaN  "
      ]
     },
     "execution_count": 4,
     "metadata": {},
     "output_type": "execute_result"
    }
   ],
   "source": [
    "df = pd.read_csv(os.path.join(path, 'Data_Entry_2017.csv'))\n",
    "df.head()"
   ]
  },
  {
   "cell_type": "markdown",
   "id": "c61477bf-05ad-41fc-8382-b761b69656a2",
   "metadata": {},
   "source": [
    "## Labels"
   ]
  },
  {
   "cell_type": "code",
   "execution_count": 5,
   "id": "8e0404eb-6176-4224-b0ef-89243ae93cd8",
   "metadata": {},
   "outputs": [],
   "source": [
    "labels = np.unique(df['Finding Labels'])\n",
    "labels = '|'.join(labels)\n",
    "labels = labels.split('|')\n",
    "labels = np.unique(labels).tolist()"
   ]
  },
  {
   "cell_type": "code",
   "execution_count": 6,
   "id": "1b47e22c-eaa5-4997-be04-e93bd7fef260",
   "metadata": {},
   "outputs": [
    {
     "data": {
      "text/plain": [
       "['Atelectasis',\n",
       " 'Cardiomegaly',\n",
       " 'Consolidation',\n",
       " 'Edema',\n",
       " 'Effusion',\n",
       " 'Emphysema',\n",
       " 'Fibrosis',\n",
       " 'Hernia',\n",
       " 'Infiltration',\n",
       " 'Mass',\n",
       " 'No Finding',\n",
       " 'Nodule',\n",
       " 'Pleural_Thickening',\n",
       " 'Pneumonia',\n",
       " 'Pneumothorax']"
      ]
     },
     "execution_count": 6,
     "metadata": {},
     "output_type": "execute_result"
    }
   ],
   "source": [
    "labels"
   ]
  },
  {
   "cell_type": "code",
   "execution_count": 7,
   "id": "27cac37c-4338-497e-a3a4-36316170b8ee",
   "metadata": {},
   "outputs": [],
   "source": [
    "for lab in labels:\n",
    "    df[lab] = pd.NA"
   ]
  },
  {
   "cell_type": "code",
   "execution_count": 8,
   "id": "7819d06b-2cb1-478e-9f6f-1d82c2abb0d9",
   "metadata": {},
   "outputs": [],
   "source": [
    "def fill_label(information, label):\n",
    "    positive_labels = information.split('|')\n",
    "    if label in positive_labels:\n",
    "        return 1\n",
    "    return 0"
   ]
  },
  {
   "cell_type": "code",
   "execution_count": 9,
   "id": "03fd020b-59b7-4941-b5a5-1c4c6475aa61",
   "metadata": {},
   "outputs": [],
   "source": [
    "for lab in labels:\n",
    "    df[lab] = list(map(lambda x: fill_label(x, lab), df['Finding Labels'].tolist()))"
   ]
  },
  {
   "cell_type": "code",
   "execution_count": 10,
   "id": "ad6bf849-4432-45dc-a19d-d338052da4cf",
   "metadata": {},
   "outputs": [
    {
     "data": {
      "text/html": [
       "<div>\n",
       "<style scoped>\n",
       "    .dataframe tbody tr th:only-of-type {\n",
       "        vertical-align: middle;\n",
       "    }\n",
       "\n",
       "    .dataframe tbody tr th {\n",
       "        vertical-align: top;\n",
       "    }\n",
       "\n",
       "    .dataframe thead th {\n",
       "        text-align: right;\n",
       "    }\n",
       "</style>\n",
       "<table border=\"1\" class=\"dataframe\">\n",
       "  <thead>\n",
       "    <tr style=\"text-align: right;\">\n",
       "      <th></th>\n",
       "      <th>Image Index</th>\n",
       "      <th>Finding Labels</th>\n",
       "      <th>Follow-up #</th>\n",
       "      <th>Patient ID</th>\n",
       "      <th>Patient Age</th>\n",
       "      <th>Patient Gender</th>\n",
       "      <th>View Position</th>\n",
       "      <th>OriginalImage[Width</th>\n",
       "      <th>Height]</th>\n",
       "      <th>OriginalImagePixelSpacing[x</th>\n",
       "      <th>...</th>\n",
       "      <th>Emphysema</th>\n",
       "      <th>Fibrosis</th>\n",
       "      <th>Hernia</th>\n",
       "      <th>Infiltration</th>\n",
       "      <th>Mass</th>\n",
       "      <th>No Finding</th>\n",
       "      <th>Nodule</th>\n",
       "      <th>Pleural_Thickening</th>\n",
       "      <th>Pneumonia</th>\n",
       "      <th>Pneumothorax</th>\n",
       "    </tr>\n",
       "  </thead>\n",
       "  <tbody>\n",
       "    <tr>\n",
       "      <th>0</th>\n",
       "      <td>00011514_007.png</td>\n",
       "      <td>No Finding</td>\n",
       "      <td>7</td>\n",
       "      <td>11514</td>\n",
       "      <td>46</td>\n",
       "      <td>M</td>\n",
       "      <td>AP</td>\n",
       "      <td>2500</td>\n",
       "      <td>2048</td>\n",
       "      <td>0.168000</td>\n",
       "      <td>...</td>\n",
       "      <td>0</td>\n",
       "      <td>0</td>\n",
       "      <td>0</td>\n",
       "      <td>0</td>\n",
       "      <td>0</td>\n",
       "      <td>1</td>\n",
       "      <td>0</td>\n",
       "      <td>0</td>\n",
       "      <td>0</td>\n",
       "      <td>0</td>\n",
       "    </tr>\n",
       "    <tr>\n",
       "      <th>1</th>\n",
       "      <td>00020076_000.png</td>\n",
       "      <td>Atelectasis|Infiltration</td>\n",
       "      <td>0</td>\n",
       "      <td>20076</td>\n",
       "      <td>65</td>\n",
       "      <td>M</td>\n",
       "      <td>PA</td>\n",
       "      <td>2992</td>\n",
       "      <td>2991</td>\n",
       "      <td>0.143000</td>\n",
       "      <td>...</td>\n",
       "      <td>0</td>\n",
       "      <td>0</td>\n",
       "      <td>0</td>\n",
       "      <td>1</td>\n",
       "      <td>0</td>\n",
       "      <td>0</td>\n",
       "      <td>0</td>\n",
       "      <td>0</td>\n",
       "      <td>0</td>\n",
       "      <td>0</td>\n",
       "    </tr>\n",
       "    <tr>\n",
       "      <th>2</th>\n",
       "      <td>00027848_000.png</td>\n",
       "      <td>No Finding</td>\n",
       "      <td>0</td>\n",
       "      <td>27848</td>\n",
       "      <td>46</td>\n",
       "      <td>F</td>\n",
       "      <td>PA</td>\n",
       "      <td>2544</td>\n",
       "      <td>3056</td>\n",
       "      <td>0.139000</td>\n",
       "      <td>...</td>\n",
       "      <td>0</td>\n",
       "      <td>0</td>\n",
       "      <td>0</td>\n",
       "      <td>0</td>\n",
       "      <td>0</td>\n",
       "      <td>1</td>\n",
       "      <td>0</td>\n",
       "      <td>0</td>\n",
       "      <td>0</td>\n",
       "      <td>0</td>\n",
       "    </tr>\n",
       "    <tr>\n",
       "      <th>3</th>\n",
       "      <td>00026209_001.png</td>\n",
       "      <td>No Finding</td>\n",
       "      <td>1</td>\n",
       "      <td>26209</td>\n",
       "      <td>37</td>\n",
       "      <td>F</td>\n",
       "      <td>PA</td>\n",
       "      <td>2021</td>\n",
       "      <td>2021</td>\n",
       "      <td>0.194311</td>\n",
       "      <td>...</td>\n",
       "      <td>0</td>\n",
       "      <td>0</td>\n",
       "      <td>0</td>\n",
       "      <td>0</td>\n",
       "      <td>0</td>\n",
       "      <td>1</td>\n",
       "      <td>0</td>\n",
       "      <td>0</td>\n",
       "      <td>0</td>\n",
       "      <td>0</td>\n",
       "    </tr>\n",
       "    <tr>\n",
       "      <th>4</th>\n",
       "      <td>00012045_035.png</td>\n",
       "      <td>No Finding</td>\n",
       "      <td>35</td>\n",
       "      <td>12045</td>\n",
       "      <td>46</td>\n",
       "      <td>F</td>\n",
       "      <td>AP</td>\n",
       "      <td>2500</td>\n",
       "      <td>2048</td>\n",
       "      <td>0.168000</td>\n",
       "      <td>...</td>\n",
       "      <td>0</td>\n",
       "      <td>0</td>\n",
       "      <td>0</td>\n",
       "      <td>0</td>\n",
       "      <td>0</td>\n",
       "      <td>1</td>\n",
       "      <td>0</td>\n",
       "      <td>0</td>\n",
       "      <td>0</td>\n",
       "      <td>0</td>\n",
       "    </tr>\n",
       "  </tbody>\n",
       "</table>\n",
       "<p>5 rows × 27 columns</p>\n",
       "</div>"
      ],
      "text/plain": [
       "        Image Index            Finding Labels  Follow-up #  Patient ID  \\\n",
       "0  00011514_007.png                No Finding            7       11514   \n",
       "1  00020076_000.png  Atelectasis|Infiltration            0       20076   \n",
       "2  00027848_000.png                No Finding            0       27848   \n",
       "3  00026209_001.png                No Finding            1       26209   \n",
       "4  00012045_035.png                No Finding           35       12045   \n",
       "\n",
       "   Patient Age Patient Gender View Position  OriginalImage[Width  Height]  \\\n",
       "0           46              M            AP                 2500     2048   \n",
       "1           65              M            PA                 2992     2991   \n",
       "2           46              F            PA                 2544     3056   \n",
       "3           37              F            PA                 2021     2021   \n",
       "4           46              F            AP                 2500     2048   \n",
       "\n",
       "   OriginalImagePixelSpacing[x  ...  Emphysema  Fibrosis  Hernia  \\\n",
       "0                     0.168000  ...          0         0       0   \n",
       "1                     0.143000  ...          0         0       0   \n",
       "2                     0.139000  ...          0         0       0   \n",
       "3                     0.194311  ...          0         0       0   \n",
       "4                     0.168000  ...          0         0       0   \n",
       "\n",
       "   Infiltration  Mass  No Finding  Nodule  Pleural_Thickening  Pneumonia  \\\n",
       "0             0     0           1       0                   0          0   \n",
       "1             1     0           0       0                   0          0   \n",
       "2             0     0           1       0                   0          0   \n",
       "3             0     0           1       0                   0          0   \n",
       "4             0     0           1       0                   0          0   \n",
       "\n",
       "   Pneumothorax  \n",
       "0             0  \n",
       "1             0  \n",
       "2             0  \n",
       "3             0  \n",
       "4             0  \n",
       "\n",
       "[5 rows x 27 columns]"
      ]
     },
     "execution_count": 10,
     "metadata": {},
     "output_type": "execute_result"
    }
   ],
   "source": [
    "df = df.sample(frac=1).reset_index(drop = True)\n",
    "df.head()"
   ]
  },
  {
   "cell_type": "code",
   "execution_count": 11,
   "id": "5988e178-d6a5-4f29-813e-8c3bb5359a67",
   "metadata": {},
   "outputs": [
    {
     "name": "stdout",
     "output_type": "stream",
     "text": [
      "1431\n",
      "60361\n"
     ]
    }
   ],
   "source": [
    "print(sum(df.Pneumonia == 1))\n",
    "print(sum(df['No Finding'] == 1))"
   ]
  },
  {
   "cell_type": "code",
   "execution_count": 12,
   "id": "c3a76fc3-1cff-4a90-b179-ebfc51f36964",
   "metadata": {},
   "outputs": [],
   "source": [
    "n = 1000"
   ]
  },
  {
   "cell_type": "code",
   "execution_count": 13,
   "id": "05b06b49-7999-4364-9584-d3c1fbfff1cd",
   "metadata": {},
   "outputs": [],
   "source": [
    "neumo = df[df.Pneumonia == 1][0:n]\n",
    "normal = df[df['No Finding'] == 1][0:n]"
   ]
  },
  {
   "cell_type": "code",
   "execution_count": 14,
   "id": "d8f8dff7-e27b-4c2a-9eb8-7bfb28008df7",
   "metadata": {},
   "outputs": [
    {
     "data": {
      "text/html": [
       "<div>\n",
       "<style scoped>\n",
       "    .dataframe tbody tr th:only-of-type {\n",
       "        vertical-align: middle;\n",
       "    }\n",
       "\n",
       "    .dataframe tbody tr th {\n",
       "        vertical-align: top;\n",
       "    }\n",
       "\n",
       "    .dataframe thead th {\n",
       "        text-align: right;\n",
       "    }\n",
       "</style>\n",
       "<table border=\"1\" class=\"dataframe\">\n",
       "  <thead>\n",
       "    <tr style=\"text-align: right;\">\n",
       "      <th></th>\n",
       "      <th>Image Index</th>\n",
       "      <th>Finding Labels</th>\n",
       "      <th>Follow-up #</th>\n",
       "      <th>Patient ID</th>\n",
       "      <th>Patient Age</th>\n",
       "      <th>Patient Gender</th>\n",
       "      <th>View Position</th>\n",
       "      <th>OriginalImage[Width</th>\n",
       "      <th>Height]</th>\n",
       "      <th>OriginalImagePixelSpacing[x</th>\n",
       "      <th>...</th>\n",
       "      <th>Emphysema</th>\n",
       "      <th>Fibrosis</th>\n",
       "      <th>Hernia</th>\n",
       "      <th>Infiltration</th>\n",
       "      <th>Mass</th>\n",
       "      <th>No Finding</th>\n",
       "      <th>Nodule</th>\n",
       "      <th>Pleural_Thickening</th>\n",
       "      <th>Pneumonia</th>\n",
       "      <th>Pneumothorax</th>\n",
       "    </tr>\n",
       "  </thead>\n",
       "  <tbody>\n",
       "    <tr>\n",
       "      <th>0</th>\n",
       "      <td>00014402_000.png</td>\n",
       "      <td>No Finding</td>\n",
       "      <td>0</td>\n",
       "      <td>14402</td>\n",
       "      <td>59</td>\n",
       "      <td>F</td>\n",
       "      <td>AP</td>\n",
       "      <td>2500</td>\n",
       "      <td>2048</td>\n",
       "      <td>0.168</td>\n",
       "      <td>...</td>\n",
       "      <td>0</td>\n",
       "      <td>0</td>\n",
       "      <td>0</td>\n",
       "      <td>0</td>\n",
       "      <td>0</td>\n",
       "      <td>1</td>\n",
       "      <td>0</td>\n",
       "      <td>0</td>\n",
       "      <td>0</td>\n",
       "      <td>0</td>\n",
       "    </tr>\n",
       "    <tr>\n",
       "      <th>1</th>\n",
       "      <td>00010434_000.png</td>\n",
       "      <td>No Finding</td>\n",
       "      <td>0</td>\n",
       "      <td>10434</td>\n",
       "      <td>21</td>\n",
       "      <td>M</td>\n",
       "      <td>PA</td>\n",
       "      <td>2992</td>\n",
       "      <td>2991</td>\n",
       "      <td>0.143</td>\n",
       "      <td>...</td>\n",
       "      <td>0</td>\n",
       "      <td>0</td>\n",
       "      <td>0</td>\n",
       "      <td>0</td>\n",
       "      <td>0</td>\n",
       "      <td>1</td>\n",
       "      <td>0</td>\n",
       "      <td>0</td>\n",
       "      <td>0</td>\n",
       "      <td>0</td>\n",
       "    </tr>\n",
       "    <tr>\n",
       "      <th>2</th>\n",
       "      <td>00027725_031.png</td>\n",
       "      <td>Edema|Infiltration|Pneumonia</td>\n",
       "      <td>31</td>\n",
       "      <td>27725</td>\n",
       "      <td>21</td>\n",
       "      <td>M</td>\n",
       "      <td>AP</td>\n",
       "      <td>3056</td>\n",
       "      <td>2544</td>\n",
       "      <td>0.139</td>\n",
       "      <td>...</td>\n",
       "      <td>0</td>\n",
       "      <td>0</td>\n",
       "      <td>0</td>\n",
       "      <td>1</td>\n",
       "      <td>0</td>\n",
       "      <td>0</td>\n",
       "      <td>0</td>\n",
       "      <td>0</td>\n",
       "      <td>1</td>\n",
       "      <td>0</td>\n",
       "    </tr>\n",
       "    <tr>\n",
       "      <th>3</th>\n",
       "      <td>00027320_010.png</td>\n",
       "      <td>Pneumonia</td>\n",
       "      <td>10</td>\n",
       "      <td>27320</td>\n",
       "      <td>52</td>\n",
       "      <td>M</td>\n",
       "      <td>PA</td>\n",
       "      <td>2992</td>\n",
       "      <td>2991</td>\n",
       "      <td>0.143</td>\n",
       "      <td>...</td>\n",
       "      <td>0</td>\n",
       "      <td>0</td>\n",
       "      <td>0</td>\n",
       "      <td>0</td>\n",
       "      <td>0</td>\n",
       "      <td>0</td>\n",
       "      <td>0</td>\n",
       "      <td>0</td>\n",
       "      <td>1</td>\n",
       "      <td>0</td>\n",
       "    </tr>\n",
       "    <tr>\n",
       "      <th>4</th>\n",
       "      <td>00013615_007.png</td>\n",
       "      <td>No Finding</td>\n",
       "      <td>7</td>\n",
       "      <td>13615</td>\n",
       "      <td>9</td>\n",
       "      <td>F</td>\n",
       "      <td>AP</td>\n",
       "      <td>2048</td>\n",
       "      <td>2500</td>\n",
       "      <td>0.168</td>\n",
       "      <td>...</td>\n",
       "      <td>0</td>\n",
       "      <td>0</td>\n",
       "      <td>0</td>\n",
       "      <td>0</td>\n",
       "      <td>0</td>\n",
       "      <td>1</td>\n",
       "      <td>0</td>\n",
       "      <td>0</td>\n",
       "      <td>0</td>\n",
       "      <td>0</td>\n",
       "    </tr>\n",
       "  </tbody>\n",
       "</table>\n",
       "<p>5 rows × 27 columns</p>\n",
       "</div>"
      ],
      "text/plain": [
       "        Image Index                Finding Labels  Follow-up #  Patient ID  \\\n",
       "0  00014402_000.png                    No Finding            0       14402   \n",
       "1  00010434_000.png                    No Finding            0       10434   \n",
       "2  00027725_031.png  Edema|Infiltration|Pneumonia           31       27725   \n",
       "3  00027320_010.png                     Pneumonia           10       27320   \n",
       "4  00013615_007.png                    No Finding            7       13615   \n",
       "\n",
       "   Patient Age Patient Gender View Position  OriginalImage[Width  Height]  \\\n",
       "0           59              F            AP                 2500     2048   \n",
       "1           21              M            PA                 2992     2991   \n",
       "2           21              M            AP                 3056     2544   \n",
       "3           52              M            PA                 2992     2991   \n",
       "4            9              F            AP                 2048     2500   \n",
       "\n",
       "   OriginalImagePixelSpacing[x  ...  Emphysema  Fibrosis  Hernia  \\\n",
       "0                        0.168  ...          0         0       0   \n",
       "1                        0.143  ...          0         0       0   \n",
       "2                        0.139  ...          0         0       0   \n",
       "3                        0.143  ...          0         0       0   \n",
       "4                        0.168  ...          0         0       0   \n",
       "\n",
       "   Infiltration  Mass  No Finding  Nodule  Pleural_Thickening  Pneumonia  \\\n",
       "0             0     0           1       0                   0          0   \n",
       "1             0     0           1       0                   0          0   \n",
       "2             1     0           0       0                   0          1   \n",
       "3             0     0           0       0                   0          1   \n",
       "4             0     0           1       0                   0          0   \n",
       "\n",
       "   Pneumothorax  \n",
       "0             0  \n",
       "1             0  \n",
       "2             0  \n",
       "3             0  \n",
       "4             0  \n",
       "\n",
       "[5 rows x 27 columns]"
      ]
     },
     "execution_count": 14,
     "metadata": {},
     "output_type": "execute_result"
    }
   ],
   "source": [
    "df = pd.concat([neumo, normal]).reset_index(drop = True)\n",
    "df = df.sample(frac=1).reset_index(drop = True)\n",
    "df.head()"
   ]
  },
  {
   "cell_type": "markdown",
   "id": "7d550076-ab8e-4234-974d-1ef1cacc762f",
   "metadata": {},
   "source": [
    "## Imagenes"
   ]
  },
  {
   "cell_type": "markdown",
   "id": "2d4da4d8",
   "metadata": {},
   "source": [
    "### Cargamos el modelo de segmentación"
   ]
  },
  {
   "cell_type": "code",
   "execution_count": 15,
   "id": "67595971-897a-40d1-b697-bcc0936d51da",
   "metadata": {},
   "outputs": [],
   "source": [
    "from tensorflow.keras import backend as K\n",
    "\n",
    "def dice_coef(y_true, y_pred, smooth=100):        \n",
    "    y_true_f = K.flatten(y_true)\n",
    "    y_pred_f = K.flatten(y_pred)\n",
    "    intersection = K.sum(y_true_f * y_pred_f)\n",
    "    dice = (2. * intersection + smooth) / (K.sum(y_true_f) + K.sum(y_pred_f) + smooth)\n",
    "    return dice\n",
    "\n",
    "def dice_coef_loss(y_true, y_pred):\n",
    "    return 1 - dice_coef(y_true, y_pred)"
   ]
  },
  {
   "cell_type": "code",
   "execution_count": 16,
   "id": "eb9ca2d2-7ea0-4536-a1c4-9bc215baee26",
   "metadata": {},
   "outputs": [],
   "source": [
    "def loss_mask(y_true, y_pred):\n",
    "    y_pred = sub_mask(y_pred)\n",
    "    y_true = sub_mask(y_true)\n",
    "    return abs(y_true - y_pred)\n",
    "\n",
    "\n",
    "def MyLoss(y_true, y_pred):\n",
    "    # Loss 1\n",
    "    loss1 = ex.dice_coef_loss(y_true, y_pred)\n",
    "    # Loss 2\n",
    "    loss2 = loss_mask(y_true, y_pred)\n",
    "    loss = loss1 + 0.5*loss2\n",
    "    return loss"
   ]
  },
  {
   "cell_type": "code",
   "execution_count": null,
   "id": "875b92d0",
   "metadata": {},
   "outputs": [],
   "source": [
    "new_model = tf.keras.models.load_model('/home/mr1142/Documents/Data/models/unet_final_renacimiento_validation_6.h5', \n",
    "                                     custom_objects={\"MyLoss\": MyLoss, \n",
    "                                                     \"loss_mask\": loss_mask, \n",
    "                                                     \"dice_coef_loss\": dice_coef_loss,\n",
    "                                                     \"dice_coef\": dice_coef})"
   ]
  },
  {
   "cell_type": "markdown",
   "id": "9976dd8c-132c-483e-8318-e1be9298bed2",
   "metadata": {},
   "source": [
    "### Funciones para aplicar from skimage import measure"
   ]
  },
  {
   "cell_type": "code",
   "execution_count": null,
   "id": "373f5692-8163-49f3-9dd1-71853ac5ec6d",
   "metadata": {},
   "outputs": [],
   "source": [
    "from skimage import measure\n",
    "from scipy import ndimage"
   ]
  },
  {
   "cell_type": "code",
   "execution_count": null,
   "id": "914fed9f-6ff7-4fa6-a121-bff953cc317f",
   "metadata": {},
   "outputs": [],
   "source": [
    "def normalize(img):\n",
    "    return (img - np.mean(img))/ np.std(img)"
   ]
  },
  {
   "cell_type": "code",
   "execution_count": null,
   "id": "7aad2b7f-4f75-46f5-a23c-61d8a8965824",
   "metadata": {},
   "outputs": [],
   "source": [
    "def quitar_trozos(mask):\n",
    "    mask = measure.label(mask)\n",
    "    ntotal = {k: (k==mask).sum() for k in np.unique(mask) if k >0}\n",
    "    k = list(ntotal.keys())[np.argmax(list(ntotal.values()))]\n",
    "    mask = k==mask\n",
    "    mask = ndimage.binary_fill_holes(mask, structure=np.ones((5,5)))\n",
    "    return mask\n",
    "\n",
    "\n",
    "def recolor(img):\n",
    "    try:\n",
    "        img = cv2.cvtColor(img, cv2.COLOR_BGR2GRAY)\n",
    "    except:\n",
    "        print('', end = '')\n",
    "    return img\n",
    "\n",
    "\n",
    "def recolor_resize(img, pix=256):\n",
    "    try:\n",
    "        img = cv2.cvtColor(img, cv2.COLOR_BGR2GRAY)\n",
    "    except:\n",
    "        print('', end = '')\n",
    "    img = cv2.resize(img, (pix, pix))\n",
    "    img = np.expand_dims(img, axis=-1)\n",
    "    return img\n",
    "\n",
    "\n",
    "def des_normalize(img):\n",
    "    return cv2.normalize(img, None, alpha = 0, beta = 255,\n",
    "                         norm_type = cv2.NORM_MINMAX, dtype = cv2.CV_16UC1)\n",
    "\n",
    "\n",
    "def apply_mask(img, model):\n",
    "    pix1 = img.shape[0]\n",
    "    pix2 = img.shape[1]\n",
    "    # Paso la imagen a escala de grises\n",
    "    img = recolor(img)\n",
    "    # Creo una nueva imagen con las dimensiones de entrada al modelo\n",
    "    img_2 = normalize(recolor_resize(img, 256))[np.newaxis,...]\n",
    "    # Genero la mascara\n",
    "    mask = model.predict(img_2)[0,...]\n",
    "    # Escalo la mascara generada al tamaño de la imagen de entrada\n",
    "    mask = cv2.resize(mask, (pix2, pix1))\n",
    "    # Limpio la mascara\n",
    "    mask = quitar_trozos(mask > 0.5)\n",
    "    return img*mask"
   ]
  },
  {
   "cell_type": "markdown",
   "id": "52949640-a303-42e3-8734-fe49938b61b8",
   "metadata": {},
   "source": [
    "### Funciones para preparar las imagenes"
   ]
  },
  {
   "cell_type": "code",
   "execution_count": null,
   "id": "fdf9104f-9245-4f37-aecf-a72c846d50b3",
   "metadata": {},
   "outputs": [],
   "source": [
    "pix = 512"
   ]
  },
  {
   "cell_type": "code",
   "execution_count": null,
   "id": "e3e01e6d",
   "metadata": {},
   "outputs": [],
   "source": [
    "def clahe(img):\n",
    "    clahe = cv2.createCLAHE(clipLimit = 20)\n",
    "    final_img = clahe.apply(img)\n",
    "    return final_img\n",
    "\n",
    "def get_prepared_img(path, model, pix):\n",
    "    img = cv2.imread(path)\n",
    "    segmented = des_normalize(apply_mask(img, model))\n",
    "    segmented = recolor_resize(segmented, pix)\n",
    "    segmented = clahe(segmented)\n",
    "    return segmented"
   ]
  },
  {
   "cell_type": "markdown",
   "id": "b2ae4cbe",
   "metadata": {},
   "source": [
    "Cargo todas las imagenes y les aplico todos los filtros"
   ]
  },
  {
   "cell_type": "code",
   "execution_count": null,
   "id": "2a57af62",
   "metadata": {},
   "outputs": [],
   "source": [
    "def charge_ims(img_list, pix):\n",
    "    names = []\n",
    "    imgs = []\n",
    "    subfolders = [f.path for f in os.scandir(path) if f.is_dir()]\n",
    "    # De todas las imagenes que quiero cargar miro cuantas hay en cada carpeta y las cargo\n",
    "    for folder in subfolders:\n",
    "        folder_images = os.listdir(os.path.join(folder, 'images'))\n",
    "        this_folder_imgs = set(img_list).intersection(folder_images)\n",
    "        names = names + list(this_folder_imgs)\n",
    "        for im in this_folder_imgs:\n",
    "            imgs.append(get_prepared_img(folder + '/images/' + im, new_model, pix))\n",
    "    return {'name': names, 'imgs': imgs}"
   ]
  },
  {
   "cell_type": "code",
   "execution_count": null,
   "id": "1e8473e7",
   "metadata": {},
   "outputs": [],
   "source": [
    "imgs_dict = charge_ims(df['Image Index'], pixels)"
   ]
  },
  {
   "cell_type": "markdown",
   "id": "0e860900-9c1e-4236-bb0c-8b4a599dc9c6",
   "metadata": {},
   "source": [
    "Reordeno las imagenes en un array"
   ]
  },
  {
   "cell_type": "code",
   "execution_count": null,
   "id": "b08d8fb5-88e8-4852-8292-463d616929cc",
   "metadata": {},
   "outputs": [],
   "source": [
    "images = np.zeros((len(df), pix, pix, 1))\n",
    "for i in range(len(df)):\n",
    "    index = [j for j in range(len(imgs_dict['name'])) if imgs_dict['name'][j] == df['Image Index'][i]]\n",
    "    im = recolor_resize(imgs_dict['imgs'][index[0]], 512)\n",
    "    images[i,...] = im"
   ]
  },
  {
   "cell_type": "code",
   "execution_count": null,
   "id": "96c1d6c4",
   "metadata": {},
   "outputs": [],
   "source": [
    "images.shape"
   ]
  },
  {
   "cell_type": "markdown",
   "id": "c9662dd5-c45f-4dd4-8b22-f9779a08cad2",
   "metadata": {},
   "source": [
    "## X e Y"
   ]
  },
  {
   "cell_type": "code",
   "execution_count": null,
   "id": "77c21a54-239a-4356-b851-52437ea8f81e",
   "metadata": {},
   "outputs": [],
   "source": [
    "Y = np.array(df['Pneumonia'])\n",
    "X = images"
   ]
  },
  {
   "cell_type": "code",
   "execution_count": null,
   "id": "5d4a1aaa-2989-4589-b6ab-4f5a68c351d5",
   "metadata": {},
   "outputs": [],
   "source": [
    "neumo = X[Y == 1]\n",
    "norm = X[Y == 0]"
   ]
  },
  {
   "cell_type": "code",
   "execution_count": null,
   "id": "51a37ef0-18bb-48ce-8887-c8bdd39795f9",
   "metadata": {},
   "outputs": [],
   "source": [
    "f, ax = plt.subplots(1,2, figsize=(15,15)) \n",
    "i = np.random.randint(0, len(neumo))\n",
    "ax[0].imshow(neumo[i], cmap = 'gray')\n",
    "ax[1].imshow(norm[i], cmap = 'gray')\n",
    "f.show()"
   ]
  },
  {
   "cell_type": "code",
   "execution_count": null,
   "id": "3ee2b15b-3a88-468c-b4a9-22399b5912b8",
   "metadata": {},
   "outputs": [],
   "source": [
    "X_train, X_test, Y_train, Y_test = model_selection.train_test_split(X, Y, test_size=0.3, shuffle=True, stratify=Y )"
   ]
  },
  {
   "cell_type": "markdown",
   "id": "b4c00d68-eca3-4e76-bc86-f989e46136ac",
   "metadata": {},
   "source": [
    "# Modelo"
   ]
  },
  {
   "cell_type": "markdown",
   "id": "efbc4917-c90c-4e8e-b419-f3b43d96b9ad",
   "metadata": {},
   "source": [
    "## Red preentrenada EfficienNet B3"
   ]
  },
  {
   "cell_type": "code",
   "execution_count": null,
   "id": "6053b4d9-5436-4a28-9fba-fde1c8c18446",
   "metadata": {},
   "outputs": [],
   "source": [
    "input_shape = (pix,pix,3)\n",
    "conv_base = EfficientNetB3(weights=\"imagenet\", include_top=False, input_shape=input_shape)"
   ]
  },
  {
   "cell_type": "code",
   "execution_count": null,
   "id": "15556e17-b73e-4517-bc46-579e4c941f30",
   "metadata": {},
   "outputs": [],
   "source": [
    "print(len(conv_base.layers))\n",
    "print(len(conv_base.trainable_variables))"
   ]
  },
  {
   "cell_type": "markdown",
   "id": "c47fea4c-efc1-4865-9ea4-f2335e60eca8",
   "metadata": {},
   "source": [
    "## Completo el modelo"
   ]
  },
  {
   "cell_type": "code",
   "execution_count": null,
   "id": "3bceb8c1-f02b-4811-a7a8-8536a8de62ec",
   "metadata": {},
   "outputs": [],
   "source": [
    "model = models.Sequential()\n",
    "model.add(layers.Conv2D(3,3,padding=\"same\", input_shape=(pix,pix,1), activation='elu', name = 'conv_inicial'))\n",
    "model.add(conv_base)\n",
    "model.add(layers.Conv2D(32,3, padding='same', input_shape=(8,8,1280), activation='selu', name = 'conv_posterior'))\n",
    "model.add(layers.MaxPool2D(pool_size = (2,2), padding='same', name = 'first_pooling'))\n",
    "model.add(layers.Conv2D(64,3, padding='same', input_shape=(4,4,1280), activation='selu', name = 'last_convolution'))\n",
    "model.add(layers.GlobalMaxPooling2D(name=\"general_max_pooling\"))\n",
    "model.add(layers.Dropout(0.2, name=\"dropout_out\"))\n",
    "model.add(layers.Dense(1, activation=\"sigmoid\", name=\"fc_out\"))"
   ]
  },
  {
   "cell_type": "code",
   "execution_count": null,
   "id": "757a5f28-2549-43f2-857c-e806fe094e90",
   "metadata": {},
   "outputs": [],
   "source": [
    "model.summary()"
   ]
  },
  {
   "cell_type": "markdown",
   "id": "1d8d91b3-579c-49ac-8d82-1bc6f5d1c751",
   "metadata": {},
   "source": [
    "## Callback"
   ]
  },
  {
   "cell_type": "code",
   "execution_count": 31,
   "id": "c1008fb5-8c30-4968-ae1e-b44c5a55c56a",
   "metadata": {},
   "outputs": [],
   "source": [
    "log_dir = \"/home/mr1142/Documents/Data/logs/fit/image_class_\" + datetime.datetime.now().strftime(\"%Y%m%d-%H%M%S\")\n",
    "tensorboard_callback = tf.keras.callbacks.TensorBoard(log_dir=log_dir,\n",
    "                                                      update_freq='batch',\n",
    "                                                      histogram_freq=1)"
   ]
  },
  {
   "cell_type": "markdown",
   "id": "d366c279-5601-49e1-a383-0aaa64c3373a",
   "metadata": {},
   "source": [
    "# Entrenamiento"
   ]
  },
  {
   "cell_type": "markdown",
   "id": "4fb48f64-d211-48af-aca9-91ea5518f8ea",
   "metadata": {},
   "source": [
    "## Hiperparametros"
   ]
  },
  {
   "cell_type": "code",
   "execution_count": null,
   "id": "eaf6f377-cfec-426c-bfa6-73e5b855e9f6",
   "metadata": {},
   "outputs": [],
   "source": [
    "lr = 1e-4\n",
    "opt = tf.keras.optimizers.Adam(learning_rate = lr)\n",
    "loss = loss = 'binary_crossentropy'\n",
    "met = ['BinaryAccuracy', 'Precision', 'AUC']"
   ]
  },
  {
   "cell_type": "code",
   "execution_count": null,
   "id": "c2038cae-0b6d-44e5-97a6-cf0e295fbab3",
   "metadata": {},
   "outputs": [],
   "source": [
    "batch = 8\n",
    "epoch = 500"
   ]
  },
  {
   "cell_type": "markdown",
   "id": "e7053dff-c244-4847-9778-0fd7b7be799f",
   "metadata": {},
   "source": [
    "### Especificación por capas"
   ]
  },
  {
   "cell_type": "code",
   "execution_count": null,
   "id": "703d0aaa-e8b1-49ef-940e-f28ace93c0bb",
   "metadata": {},
   "outputs": [],
   "source": [
    "conv_base.trainable = True"
   ]
  },
  {
   "cell_type": "markdown",
   "id": "4204b682",
   "metadata": {},
   "source": [
    "Entrenamos desde la capa 300"
   ]
  },
  {
   "cell_type": "code",
   "execution_count": null,
   "id": "07c6a0ce-a9e9-400c-b6a1-c4dffcaef3be",
   "metadata": {},
   "outputs": [],
   "source": [
    "fine_tune_at = 300\n",
    "\n",
    "for layer in conv_base.layers[:fine_tune_at]:\n",
    "    layer.trainable = False"
   ]
  },
  {
   "cell_type": "code",
   "execution_count": null,
   "id": "8cfa31d8",
   "metadata": {},
   "outputs": [],
   "source": [
    "print(len(model.layers))\n",
    "print(len(model.trainable_variables))"
   ]
  },
  {
   "cell_type": "markdown",
   "id": "36465112-e7a7-4a19-89b8-5631a02983be",
   "metadata": {},
   "source": [
    "### Compilación"
   ]
  },
  {
   "cell_type": "code",
   "execution_count": null,
   "id": "4c2ec0de-6007-41db-85d2-9810b12cbafa",
   "metadata": {},
   "outputs": [],
   "source": [
    "model.compile(optimizer=opt, loss = loss , metrics = met)"
   ]
  },
  {
   "cell_type": "markdown",
   "id": "44b27a9f-d7a8-4b2c-adf5-062ccfe0ca00",
   "metadata": {},
   "source": [
    "### Entrenamiento"
   ]
  },
  {
   "cell_type": "code",
   "execution_count": null,
   "id": "fdd67f98-f901-488a-925c-836a03688377",
   "metadata": {},
   "outputs": [],
   "source": [
    "history = model.fit(X_train,Y_train,\n",
    "                    batch_size = batch,\n",
    "                    epochs = epoch,\n",
    "                    # callbacks = tensorboard_callback,\n",
    "                    validation_data = (X_test, Y_test),\n",
    "                    shuffle = True,\n",
    "                    validation_split = 0.2)"
   ]
  },
  {
   "cell_type": "code",
   "execution_count": null,
   "id": "012efe13-658e-4062-9d93-dafdcced9d2f",
   "metadata": {},
   "outputs": [],
   "source": []
  }
 ],
 "metadata": {
  "kernelspec": {
   "display_name": "Python 3",
   "language": "python",
   "name": "python3"
  },
  "language_info": {
   "codemirror_mode": {
    "name": "ipython",
    "version": 3
   },
   "file_extension": ".py",
   "mimetype": "text/x-python",
   "name": "python",
   "nbconvert_exporter": "python",
   "pygments_lexer": "ipython3",
   "version": "3.6.8"
  }
 },
 "nbformat": 4,
 "nbformat_minor": 5
}
