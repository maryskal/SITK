{
 "cells": [
  {
   "cell_type": "code",
   "execution_count": 2,
   "id": "71b80ae3-c495-4b24-8137-bd7c797dee3a",
   "metadata": {},
   "outputs": [],
   "source": [
    "import pandas as pd"
   ]
  },
  {
   "cell_type": "code",
   "execution_count": 3,
   "id": "56214e09-3bbb-4952-9936-76eaed42ba47",
   "metadata": {},
   "outputs": [],
   "source": [
    "path = '/home/mr1142/Documents/Data/models/mascaras_lung_seg/validation_results_lung_segmentation.csv'"
   ]
  },
  {
   "cell_type": "code",
   "execution_count": 4,
   "id": "d4eff7ab-b0f7-4d54-b7a1-74eb84f25a2a",
   "metadata": {},
   "outputs": [],
   "source": [
    "df = pd.read_csv(path)"
   ]
  },
  {
   "cell_type": "code",
   "execution_count": 6,
   "id": "ea533eaa-cce5-444f-b540-cd562be39e51",
   "metadata": {},
   "outputs": [
    {
     "data": {
      "text/html": [
       "<div>\n",
       "<style scoped>\n",
       "    .dataframe tbody tr th:only-of-type {\n",
       "        vertical-align: middle;\n",
       "    }\n",
       "\n",
       "    .dataframe tbody tr th {\n",
       "        vertical-align: top;\n",
       "    }\n",
       "\n",
       "    .dataframe thead th {\n",
       "        text-align: right;\n",
       "    }\n",
       "</style>\n",
       "<table border=\"1\" class=\"dataframe\">\n",
       "  <thead>\n",
       "    <tr style=\"text-align: right;\">\n",
       "      <th></th>\n",
       "      <th>name</th>\n",
       "      <th>loss</th>\n",
       "      <th>dice_coef_loss</th>\n",
       "      <th>accuracy</th>\n",
       "      <th>AUC</th>\n",
       "      <th>false_positives</th>\n",
       "      <th>false_negatives</th>\n",
       "    </tr>\n",
       "  </thead>\n",
       "  <tbody>\n",
       "    <tr>\n",
       "      <th>0</th>\n",
       "      <td>lung_seg_1</td>\n",
       "      <td>0.011747</td>\n",
       "      <td>0.011716</td>\n",
       "      <td>0.994441</td>\n",
       "      <td>0.992496</td>\n",
       "      <td>776935.0</td>\n",
       "      <td>765112.0</td>\n",
       "    </tr>\n",
       "    <tr>\n",
       "      <th>1</th>\n",
       "      <td>lung_seg_2</td>\n",
       "      <td>0.011900</td>\n",
       "      <td>0.011863</td>\n",
       "      <td>0.994362</td>\n",
       "      <td>0.992757</td>\n",
       "      <td>857413.0</td>\n",
       "      <td>706767.0</td>\n",
       "    </tr>\n",
       "    <tr>\n",
       "      <th>4</th>\n",
       "      <td>lung_seg_5</td>\n",
       "      <td>0.012015</td>\n",
       "      <td>0.011975</td>\n",
       "      <td>0.994317</td>\n",
       "      <td>0.992145</td>\n",
       "      <td>750885.0</td>\n",
       "      <td>825631.0</td>\n",
       "    </tr>\n",
       "    <tr>\n",
       "      <th>2</th>\n",
       "      <td>lung_seg_3</td>\n",
       "      <td>0.012095</td>\n",
       "      <td>0.012069</td>\n",
       "      <td>0.994264</td>\n",
       "      <td>0.992814</td>\n",
       "      <td>904589.0</td>\n",
       "      <td>686609.0</td>\n",
       "    </tr>\n",
       "    <tr>\n",
       "      <th>3</th>\n",
       "      <td>lung_seg_4</td>\n",
       "      <td>0.012549</td>\n",
       "      <td>0.012515</td>\n",
       "      <td>0.994064</td>\n",
       "      <td>0.991851</td>\n",
       "      <td>775782.0</td>\n",
       "      <td>870881.0</td>\n",
       "    </tr>\n",
       "  </tbody>\n",
       "</table>\n",
       "</div>"
      ],
      "text/plain": [
       "         name      loss  dice_coef_loss  accuracy       AUC  false_positives  \\\n",
       "0  lung_seg_1  0.011747        0.011716  0.994441  0.992496         776935.0   \n",
       "1  lung_seg_2  0.011900        0.011863  0.994362  0.992757         857413.0   \n",
       "4  lung_seg_5  0.012015        0.011975  0.994317  0.992145         750885.0   \n",
       "2  lung_seg_3  0.012095        0.012069  0.994264  0.992814         904589.0   \n",
       "3  lung_seg_4  0.012549        0.012515  0.994064  0.991851         775782.0   \n",
       "\n",
       "   false_negatives  \n",
       "0         765112.0  \n",
       "1         706767.0  \n",
       "4         825631.0  \n",
       "2         686609.0  \n",
       "3         870881.0  "
      ]
     },
     "execution_count": 6,
     "metadata": {},
     "output_type": "execute_result"
    }
   ],
   "source": [
    "df.sort_values(\"dice_coef_loss\")"
   ]
  },
  {
   "cell_type": "code",
   "execution_count": null,
   "id": "0f2bb486-9020-41eb-9122-a21814ecf6e2",
   "metadata": {},
   "outputs": [],
   "source": []
  }
 ],
 "metadata": {
  "kernelspec": {
   "display_name": "Python 3 (ipykernel)",
   "language": "python",
   "name": "python3"
  },
  "language_info": {
   "codemirror_mode": {
    "name": "ipython",
    "version": 3
   },
   "file_extension": ".py",
   "mimetype": "text/x-python",
   "name": "python",
   "nbconvert_exporter": "python",
   "pygments_lexer": "ipython3",
   "version": "3.10.6"
  }
 },
 "nbformat": 4,
 "nbformat_minor": 5
}
