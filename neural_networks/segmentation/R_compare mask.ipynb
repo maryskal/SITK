{
 "cells": [
  {
   "cell_type": "code",
   "execution_count": 2,
   "id": "6a8a4393-4bba-4ddf-8546-0338680bcc3a",
   "metadata": {},
   "outputs": [],
   "source": [
    "df = read.csv('/home/mr1142/Documents/Data/mask_validation_data/train/training_data.csv')"
   ]
  },
  {
   "cell_type": "code",
   "execution_count": 100,
   "id": "0226b08a-4093-436f-a6d3-89d12eb2340b",
   "metadata": {},
   "outputs": [
    {
     "data": {
      "text/html": [
       "<table class=\"dataframe\">\n",
       "<caption>A data.frame: 6 × 10</caption>\n",
       "<thead>\n",
       "\t<tr><th></th><th scope=col>name</th><th scope=col>loss</th><th scope=col>BinaryAccuracy</th><th scope=col>Precision</th><th scope=col>AUC</th><th scope=col>loss_val</th><th scope=col>BinaryAccuracy_val</th><th scope=col>Precision_val</th><th scope=col>AUC_val</th><th scope=col>mask</th></tr>\n",
       "\t<tr><th></th><th scope=col>&lt;chr&gt;</th><th scope=col>&lt;dbl&gt;</th><th scope=col>&lt;dbl&gt;</th><th scope=col>&lt;dbl&gt;</th><th scope=col>&lt;dbl&gt;</th><th scope=col>&lt;dbl&gt;</th><th scope=col>&lt;dbl&gt;</th><th scope=col>&lt;dbl&gt;</th><th scope=col>&lt;dbl&gt;</th><th scope=col>&lt;chr&gt;</th></tr>\n",
       "</thead>\n",
       "<tbody>\n",
       "\t<tr><th scope=row>1</th><td>lung_thorax_01</td><td>0.6456261</td><td>0.9714062</td><td>0.9745539</td><td>0.9957166</td><td>1.517981</td><td>0.685000</td><td>0.6924754</td><td>0.7381371</td><td>1</td></tr>\n",
       "\t<tr><th scope=row>2</th><td>lung_thorax_11</td><td>0.6425458</td><td>0.9615625</td><td>0.9619628</td><td>0.9937934</td><td>1.230896</td><td>0.689375</td><td>0.7140440</td><td>0.7461079</td><td>1</td></tr>\n",
       "\t<tr><th scope=row>3</th><td>lung_thorax_21</td><td>0.6503407</td><td>0.9537500</td><td>0.9570928</td><td>0.9892682</td><td>1.581778</td><td>0.683750</td><td>0.7400275</td><td>0.7366852</td><td>1</td></tr>\n",
       "\t<tr><th scope=row>4</th><td>lung_thorax_02</td><td>0.6388139</td><td>0.9670312</td><td>0.9690872</td><td>0.9934175</td><td>1.483738</td><td>0.668750</td><td>0.7210301</td><td>0.7152977</td><td>2</td></tr>\n",
       "\t<tr><th scope=row>5</th><td>lung_thorax_22</td><td>0.6491256</td><td>0.9615625</td><td>0.9654769</td><td>0.9930781</td><td>1.414682</td><td>0.686250</td><td>0.7193426</td><td>0.7460020</td><td>2</td></tr>\n",
       "\t<tr><th scope=row>6</th><td>lung_thorax_71</td><td>0.6388474</td><td>0.9571875</td><td>0.9605724</td><td>0.9920683</td><td>1.358955</td><td>0.670000</td><td>0.7300699</td><td>0.7385996</td><td>1</td></tr>\n",
       "</tbody>\n",
       "</table>\n"
      ],
      "text/latex": [
       "A data.frame: 6 × 10\n",
       "\\begin{tabular}{r|llllllllll}\n",
       "  & name & loss & BinaryAccuracy & Precision & AUC & loss\\_val & BinaryAccuracy\\_val & Precision\\_val & AUC\\_val & mask\\\\\n",
       "  & <chr> & <dbl> & <dbl> & <dbl> & <dbl> & <dbl> & <dbl> & <dbl> & <dbl> & <chr>\\\\\n",
       "\\hline\n",
       "\t1 & lung\\_thorax\\_01 & 0.6456261 & 0.9714062 & 0.9745539 & 0.9957166 & 1.517981 & 0.685000 & 0.6924754 & 0.7381371 & 1\\\\\n",
       "\t2 & lung\\_thorax\\_11 & 0.6425458 & 0.9615625 & 0.9619628 & 0.9937934 & 1.230896 & 0.689375 & 0.7140440 & 0.7461079 & 1\\\\\n",
       "\t3 & lung\\_thorax\\_21 & 0.6503407 & 0.9537500 & 0.9570928 & 0.9892682 & 1.581778 & 0.683750 & 0.7400275 & 0.7366852 & 1\\\\\n",
       "\t4 & lung\\_thorax\\_02 & 0.6388139 & 0.9670312 & 0.9690872 & 0.9934175 & 1.483738 & 0.668750 & 0.7210301 & 0.7152977 & 2\\\\\n",
       "\t5 & lung\\_thorax\\_22 & 0.6491256 & 0.9615625 & 0.9654769 & 0.9930781 & 1.414682 & 0.686250 & 0.7193426 & 0.7460020 & 2\\\\\n",
       "\t6 & lung\\_thorax\\_71 & 0.6388474 & 0.9571875 & 0.9605724 & 0.9920683 & 1.358955 & 0.670000 & 0.7300699 & 0.7385996 & 1\\\\\n",
       "\\end{tabular}\n"
      ],
      "text/markdown": [
       "\n",
       "A data.frame: 6 × 10\n",
       "\n",
       "| <!--/--> | name &lt;chr&gt; | loss &lt;dbl&gt; | BinaryAccuracy &lt;dbl&gt; | Precision &lt;dbl&gt; | AUC &lt;dbl&gt; | loss_val &lt;dbl&gt; | BinaryAccuracy_val &lt;dbl&gt; | Precision_val &lt;dbl&gt; | AUC_val &lt;dbl&gt; | mask &lt;chr&gt; |\n",
       "|---|---|---|---|---|---|---|---|---|---|---|\n",
       "| 1 | lung_thorax_01 | 0.6456261 | 0.9714062 | 0.9745539 | 0.9957166 | 1.517981 | 0.685000 | 0.6924754 | 0.7381371 | 1 |\n",
       "| 2 | lung_thorax_11 | 0.6425458 | 0.9615625 | 0.9619628 | 0.9937934 | 1.230896 | 0.689375 | 0.7140440 | 0.7461079 | 1 |\n",
       "| 3 | lung_thorax_21 | 0.6503407 | 0.9537500 | 0.9570928 | 0.9892682 | 1.581778 | 0.683750 | 0.7400275 | 0.7366852 | 1 |\n",
       "| 4 | lung_thorax_02 | 0.6388139 | 0.9670312 | 0.9690872 | 0.9934175 | 1.483738 | 0.668750 | 0.7210301 | 0.7152977 | 2 |\n",
       "| 5 | lung_thorax_22 | 0.6491256 | 0.9615625 | 0.9654769 | 0.9930781 | 1.414682 | 0.686250 | 0.7193426 | 0.7460020 | 2 |\n",
       "| 6 | lung_thorax_71 | 0.6388474 | 0.9571875 | 0.9605724 | 0.9920683 | 1.358955 | 0.670000 | 0.7300699 | 0.7385996 | 1 |\n",
       "\n"
      ],
      "text/plain": [
       "  name           loss      BinaryAccuracy Precision AUC       loss_val\n",
       "1 lung_thorax_01 0.6456261 0.9714062      0.9745539 0.9957166 1.517981\n",
       "2 lung_thorax_11 0.6425458 0.9615625      0.9619628 0.9937934 1.230896\n",
       "3 lung_thorax_21 0.6503407 0.9537500      0.9570928 0.9892682 1.581778\n",
       "4 lung_thorax_02 0.6388139 0.9670312      0.9690872 0.9934175 1.483738\n",
       "5 lung_thorax_22 0.6491256 0.9615625      0.9654769 0.9930781 1.414682\n",
       "6 lung_thorax_71 0.6388474 0.9571875      0.9605724 0.9920683 1.358955\n",
       "  BinaryAccuracy_val Precision_val AUC_val   mask\n",
       "1 0.685000           0.6924754     0.7381371 1   \n",
       "2 0.689375           0.7140440     0.7461079 1   \n",
       "3 0.683750           0.7400275     0.7366852 1   \n",
       "4 0.668750           0.7210301     0.7152977 2   \n",
       "5 0.686250           0.7193426     0.7460020 2   \n",
       "6 0.670000           0.7300699     0.7385996 1   "
      ]
     },
     "metadata": {},
     "output_type": "display_data"
    }
   ],
   "source": [
    "head(df)"
   ]
  },
  {
   "cell_type": "code",
   "execution_count": 98,
   "id": "f8f95f45-a68e-4d29-a60d-4caa7a026b62",
   "metadata": {},
   "outputs": [],
   "source": [
    "extract <- function(value){\n",
    "    return (unlist(strsplit(value, ''))[14])\n",
    "    }"
   ]
  },
  {
   "cell_type": "code",
   "execution_count": 99,
   "id": "8d197bf4-3741-412e-a62e-04d52d7295ee",
   "metadata": {},
   "outputs": [],
   "source": [
    "df$mask <- unlist(lapply(df$name, extract))"
   ]
  },
  {
   "cell_type": "code",
   "execution_count": 3,
   "id": "a47528e8-f067-49c5-9d5c-d65db0a6ec27",
   "metadata": {},
   "outputs": [
    {
     "data": {
      "text/plain": [
       "\n",
       "\tShapiro-Wilk normality test\n",
       "\n",
       "data:  df$AUC_val\n",
       "W = 0.95173, p-value = 0.4528\n"
      ]
     },
     "metadata": {},
     "output_type": "display_data"
    }
   ],
   "source": [
    "shapiro.test(df$AUC_val)"
   ]
  },
  {
   "cell_type": "code",
   "execution_count": 6,
   "id": "03a542b4-16f6-4cd2-9355-a59f51ff7c4d",
   "metadata": {},
   "outputs": [
    {
     "data": {
      "text/plain": [
       "\n",
       "\tLilliefors (Kolmogorov-Smirnov) normality test\n",
       "\n",
       "data:  df$AUC_val\n",
       "D = 0.15593, p-value = 0.294\n"
      ]
     },
     "metadata": {},
     "output_type": "display_data"
    }
   ],
   "source": [
    "library(nortest)\n",
    "lillie.test(df$AUC_val)"
   ]
  },
  {
   "cell_type": "code",
   "execution_count": 101,
   "id": "12167c65-06ef-4752-af1c-9a4b9e7e00b5",
   "metadata": {},
   "outputs": [
    {
     "data": {
      "text/plain": [
       "\n",
       "\tF test to compare two variances\n",
       "\n",
       "data:  df$AUC_val by as.factor(df$mask)\n",
       "F = 0.27121, num df = 9, denom df = 7, p-value = 0.07302\n",
       "alternative hypothesis: true ratio of variances is not equal to 1\n",
       "95 percent confidence interval:\n",
       " 0.05623037 1.13828647\n",
       "sample estimates:\n",
       "ratio of variances \n",
       "         0.2712113 \n"
      ]
     },
     "metadata": {},
     "output_type": "display_data"
    }
   ],
   "source": [
    "var.test(df$AUC_val~  as.factor(df$mask))"
   ]
  },
  {
   "cell_type": "code",
   "execution_count": 106,
   "id": "e59a438d-62e2-4feb-b844-735a17559a49",
   "metadata": {},
   "outputs": [
    {
     "name": "stdout",
     "output_type": "stream",
     "text": [
      "\n",
      "\tOne Sample t-test\n",
      "\n",
      "data:  df$AUC_val[df$mask == 2]\n",
      "t = 153.57, df = 7, p-value = 1.31e-13\n",
      "alternative hypothesis: true mean is not equal to 0\n",
      "95 percent confidence interval:\n",
      " 0.7203633 0.7428945\n",
      "sample estimates:\n",
      "mean of x \n",
      "0.7316289 \n",
      "\n"
     ]
    }
   ],
   "source": [
    "print(t.test(df$AUC_val[df$mask == 2]))"
   ]
  },
  {
   "cell_type": "code",
   "execution_count": 102,
   "id": "fa352074-a723-4259-bcb4-1316518822e6",
   "metadata": {},
   "outputs": [
    {
     "data": {
      "text/plain": [
       "\n",
       "\tWelch Two Sample t-test\n",
       "\n",
       "data:  df$AUC_val by as.factor(df$mask)\n",
       "t = 1.8349, df = 10.001, p-value = 0.0964\n",
       "alternative hypothesis: true difference in means between group 1 and group 2 is not equal to 0\n",
       "95 percent confidence interval:\n",
       " -0.002066854  0.021353740\n",
       "sample estimates:\n",
       "mean in group 1 mean in group 2 \n",
       "      0.7412723       0.7316289 \n"
      ]
     },
     "metadata": {},
     "output_type": "display_data"
    }
   ],
   "source": [
    "t.test(df$AUC_val~  as.factor(df$mask))"
   ]
  },
  {
   "cell_type": "code",
   "execution_count": null,
   "id": "d7b8be24-8553-493c-b364-7daf1366562f",
   "metadata": {},
   "outputs": [],
   "source": []
  }
 ],
 "metadata": {
  "kernelspec": {
   "display_name": "R",
   "language": "R",
   "name": "ir"
  },
  "language_info": {
   "codemirror_mode": "r",
   "file_extension": ".r",
   "mimetype": "text/x-r-source",
   "name": "R",
   "pygments_lexer": "r",
   "version": "4.1.3"
  }
 },
 "nbformat": 4,
 "nbformat_minor": 5
}
