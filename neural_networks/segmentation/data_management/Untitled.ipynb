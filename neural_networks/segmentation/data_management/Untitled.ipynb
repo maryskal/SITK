{
 "cells": [
  {
   "cell_type": "code",
   "execution_count": 135,
   "id": "28e168cb-5b60-4ca9-845c-95879205b9ba",
   "metadata": {},
   "outputs": [],
   "source": [
    "mont <- read.csv2('/home/mr1142/Documents/Data/segmentation_data/resultados_validacion/montgomery_dataset_completo.csv')\n",
    "nih <- read.csv2('/home/mr1142/Documents/Data/segmentation_data/resultados_validacion/NIH_completo.csv')\n",
    "js <- read.csv2('/home/mr1142/Documents/Data/segmentation_data/resultados_validacion/jsrt_dataset_completo.csv')"
   ]
  },
  {
   "cell_type": "code",
   "execution_count": 136,
   "id": "4362af5b-a423-4546-8ff8-2ac4253fbae8",
   "metadata": {},
   "outputs": [],
   "source": [
    "mont$normal <- 0\n",
    "mont$normal[mont$findings == 'normal'] <- 1\n",
    "nih$normal <- 0\n",
    "nih$normal[nih$Finding.Labels == 'No Finding'] <- 1\n",
    "js$normal <- 0\n",
    "js$normal[js$diagnosis == ''] <- 1"
   ]
  },
  {
   "cell_type": "code",
   "execution_count": 137,
   "id": "027963e3-d734-44e7-9263-9e103383a01a",
   "metadata": {},
   "outputs": [],
   "source": [
    "colnames(nih)[which(colnames(nih) == 'Patient.Age')] <- 'age'"
   ]
  },
  {
   "cell_type": "code",
   "execution_count": 138,
   "id": "770f5512-c636-4515-a042-edfa6c24cd90",
   "metadata": {},
   "outputs": [],
   "source": [
    "total <- rbind(mont[,c('age', 'normal')], nih[,c('age', 'normal')], js[,c('age', 'normal')])"
   ]
  },
  {
   "cell_type": "markdown",
   "id": "611606be-f3d3-4bc6-9acc-5749288ca5dd",
   "metadata": {},
   "source": [
    "### Relacion edad vs patologia"
   ]
  },
  {
   "cell_type": "code",
   "execution_count": 160,
   "id": "e392235e-95a9-4fba-9cac-6bfaeec43aa6",
   "metadata": {},
   "outputs": [],
   "source": [
    "df = get('total')"
   ]
  },
  {
   "cell_type": "code",
   "execution_count": 161,
   "id": "96e42718-4ee4-4a25-875b-a8c3e58e9192",
   "metadata": {},
   "outputs": [
    {
     "name": "stderr",
     "output_type": "stream",
     "text": [
      "Warning message in hist(as.numeric(df$age)):\n",
      "“NAs introduced by coercion”\n"
     ]
    },
    {
     "data": {
      "image/png": "[encoded data removed]",
      "text/plain": [
       "Plot with title “Histogram of as.numeric(df$age)”"
      ]
     },
     "metadata": {
      "image/png": {
       "height": 420,
       "width": 420
      }
     },
     "output_type": "display_data"
    }
   ],
   "source": [
    "hist(as.numeric(df$age))"
   ]
  },
  {
   "cell_type": "code",
   "execution_count": 162,
   "id": "1ad89560-b51e-422b-a57d-a3443f8a2c13",
   "metadata": {},
   "outputs": [
    {
     "name": "stderr",
     "output_type": "stream",
     "text": [
      "Warning message in sort(x[complete.cases(x)]):\n",
      "“NAs introduced by coercion”\n"
     ]
    },
    {
     "data": {
      "text/plain": [
       "\n",
       "\tLilliefors (Kolmogorov-Smirnov) normality test\n",
       "\n",
       "data:  as.numeric(df$age)\n",
       "D = 0.087162, p-value = 2.189e-11\n"
      ]
     },
     "metadata": {},
     "output_type": "display_data"
    }
   ],
   "source": [
    "library(nortest)\n",
    "lillie.test(as.numeric(df$age))"
   ]
  },
  {
   "cell_type": "code",
   "execution_count": 163,
   "id": "d8441f16-10cb-4c76-9dd7-2bb0f78465e3",
   "metadata": {},
   "outputs": [
    {
     "name": "stderr",
     "output_type": "stream",
     "text": [
      "Warning message in stopifnot(is.numeric(x)):\n",
      "“NAs introduced by coercion”\n"
     ]
    },
    {
     "data": {
      "text/plain": [
       "\n",
       "\tShapiro-Wilk normality test\n",
       "\n",
       "data:  as.numeric(df$age)\n",
       "W = 0.70854, p-value < 2.2e-16\n"
      ]
     },
     "metadata": {},
     "output_type": "display_data"
    }
   ],
   "source": [
    "shapiro.test(as.numeric(df$age))"
   ]
  },
  {
   "cell_type": "code",
   "execution_count": 164,
   "id": "571abf01-5565-444d-bf80-48f2baf7f768",
   "metadata": {},
   "outputs": [
    {
     "name": "stdout",
     "output_type": "stream",
     "text": [
      "[1] 46\n"
     ]
    },
    {
     "name": "stderr",
     "output_type": "stream",
     "text": [
      "Warning message in median(as.numeric(df$age[which(df$normal == 0)]), na.rm = T):\n",
      "“NAs introduced by coercion”\n"
     ]
    },
    {
     "name": "stdout",
     "output_type": "stream",
     "text": [
      "[1] 54\n"
     ]
    },
    {
     "name": "stderr",
     "output_type": "stream",
     "text": [
      "Warning message in eval(predvars, data, env):\n",
      "“NAs introduced by coercion”\n"
     ]
    },
    {
     "data": {
      "text/plain": [
       "\n",
       "\tWilcoxon rank sum test with continuity correction\n",
       "\n",
       "data:  as.numeric(df$age) by df$normal\n",
       "W = 54300, p-value = 5.351e-09\n",
       "alternative hypothesis: true location shift is not equal to 0\n"
      ]
     },
     "metadata": {},
     "output_type": "display_data"
    }
   ],
   "source": [
    "print(median(as.numeric(df$age[which(df$normal == 1)]), na.rm = T))\n",
    "print(median(as.numeric(df$age[which(df$normal == 0)]), na.rm = T))\n",
    "wilcox.test(as.numeric(df$age) ~ df$normal)"
   ]
  },
  {
   "cell_type": "code",
   "execution_count": null,
   "id": "816e4855-ceb6-49a8-9875-c39260587a05",
   "metadata": {},
   "outputs": [],
   "source": []
  },
  {
   "cell_type": "code",
   "execution_count": null,
   "id": "2f1a67d2-9ea4-49a1-816e-237ac7c7445a",
   "metadata": {},
   "outputs": [],
   "source": []
  }
 ],
 "metadata": {
  "kernelspec": {
   "display_name": "R",
   "language": "R",
   "name": "ir"
  },
  "language_info": {
   "codemirror_mode": "r",
   "file_extension": ".r",
   "mimetype": "text/x-r-source",
   "name": "R",
   "pygments_lexer": "r",
   "version": "4.1.3"
  }
 },
 "nbformat": 4,
 "nbformat_minor": 5
}
