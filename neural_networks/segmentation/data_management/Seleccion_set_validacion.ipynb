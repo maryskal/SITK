{
 "cells": [
  {
   "cell_type": "code",
   "execution_count": 3,
   "id": "b8ada5ad",
   "metadata": {},
   "outputs": [],
   "source": [
    "import pandas as pd\n",
    "import numpy as np\n",
    "import os\n",
    "import cv2\n",
    "import re"
   ]
  },
  {
   "cell_type": "code",
   "execution_count": 4,
   "id": "aff47c35",
   "metadata": {},
   "outputs": [],
   "source": [
    "path = '/home/mr1142/Documents/Data/NIH'\n",
    "df = pd.read_csv(os.path.join(path, 'Data_Entry_2017.csv'))\n",
    "df = df.sample(frac=1).reset_index(drop = True)"
   ]
  },
  {
   "cell_type": "code",
   "execution_count": 3,
   "id": "35403bd6-3fb7-4db9-9ecd-82a2ccb5b65b",
   "metadata": {},
   "outputs": [
    {
     "data": {
      "text/html": [
       "<div>\n",
       "<style scoped>\n",
       "    .dataframe tbody tr th:only-of-type {\n",
       "        vertical-align: middle;\n",
       "    }\n",
       "\n",
       "    .dataframe tbody tr th {\n",
       "        vertical-align: top;\n",
       "    }\n",
       "\n",
       "    .dataframe thead th {\n",
       "        text-align: right;\n",
       "    }\n",
       "</style>\n",
       "<table border=\"1\" class=\"dataframe\">\n",
       "  <thead>\n",
       "    <tr style=\"text-align: right;\">\n",
       "      <th></th>\n",
       "      <th>Image Index</th>\n",
       "      <th>Finding Labels</th>\n",
       "      <th>Follow-up #</th>\n",
       "      <th>Patient ID</th>\n",
       "      <th>Patient Age</th>\n",
       "      <th>Patient Gender</th>\n",
       "      <th>View Position</th>\n",
       "      <th>OriginalImage[Width</th>\n",
       "      <th>Height]</th>\n",
       "      <th>OriginalImagePixelSpacing[x</th>\n",
       "      <th>y]</th>\n",
       "      <th>Unnamed: 11</th>\n",
       "    </tr>\n",
       "  </thead>\n",
       "  <tbody>\n",
       "    <tr>\n",
       "      <th>0</th>\n",
       "      <td>00007735_041.png</td>\n",
       "      <td>Effusion</td>\n",
       "      <td>41</td>\n",
       "      <td>7735</td>\n",
       "      <td>32</td>\n",
       "      <td>M</td>\n",
       "      <td>AP</td>\n",
       "      <td>2500</td>\n",
       "      <td>2048</td>\n",
       "      <td>0.168</td>\n",
       "      <td>0.168</td>\n",
       "      <td>NaN</td>\n",
       "    </tr>\n",
       "    <tr>\n",
       "      <th>1</th>\n",
       "      <td>00011618_011.png</td>\n",
       "      <td>Atelectasis</td>\n",
       "      <td>11</td>\n",
       "      <td>11618</td>\n",
       "      <td>23</td>\n",
       "      <td>F</td>\n",
       "      <td>AP</td>\n",
       "      <td>2500</td>\n",
       "      <td>2048</td>\n",
       "      <td>0.168</td>\n",
       "      <td>0.168</td>\n",
       "      <td>NaN</td>\n",
       "    </tr>\n",
       "    <tr>\n",
       "      <th>2</th>\n",
       "      <td>00003535_001.png</td>\n",
       "      <td>No Finding</td>\n",
       "      <td>1</td>\n",
       "      <td>3535</td>\n",
       "      <td>18</td>\n",
       "      <td>F</td>\n",
       "      <td>AP</td>\n",
       "      <td>3056</td>\n",
       "      <td>2544</td>\n",
       "      <td>0.139</td>\n",
       "      <td>0.139</td>\n",
       "      <td>NaN</td>\n",
       "    </tr>\n",
       "    <tr>\n",
       "      <th>3</th>\n",
       "      <td>00016587_010.png</td>\n",
       "      <td>Pneumothorax</td>\n",
       "      <td>10</td>\n",
       "      <td>16587</td>\n",
       "      <td>48</td>\n",
       "      <td>F</td>\n",
       "      <td>PA</td>\n",
       "      <td>2658</td>\n",
       "      <td>2991</td>\n",
       "      <td>0.143</td>\n",
       "      <td>0.143</td>\n",
       "      <td>NaN</td>\n",
       "    </tr>\n",
       "    <tr>\n",
       "      <th>4</th>\n",
       "      <td>00018237_001.png</td>\n",
       "      <td>No Finding</td>\n",
       "      <td>1</td>\n",
       "      <td>18237</td>\n",
       "      <td>34</td>\n",
       "      <td>F</td>\n",
       "      <td>PA</td>\n",
       "      <td>2992</td>\n",
       "      <td>2991</td>\n",
       "      <td>0.143</td>\n",
       "      <td>0.143</td>\n",
       "      <td>NaN</td>\n",
       "    </tr>\n",
       "  </tbody>\n",
       "</table>\n",
       "</div>"
      ],
      "text/plain": [
       "        Image Index Finding Labels  Follow-up #  Patient ID  Patient Age  \\\n",
       "0  00007735_041.png       Effusion           41        7735           32   \n",
       "1  00011618_011.png    Atelectasis           11       11618           23   \n",
       "2  00003535_001.png     No Finding            1        3535           18   \n",
       "3  00016587_010.png   Pneumothorax           10       16587           48   \n",
       "4  00018237_001.png     No Finding            1       18237           34   \n",
       "\n",
       "  Patient Gender View Position  OriginalImage[Width  Height]  \\\n",
       "0              M            AP                 2500     2048   \n",
       "1              F            AP                 2500     2048   \n",
       "2              F            AP                 3056     2544   \n",
       "3              F            PA                 2658     2991   \n",
       "4              F            PA                 2992     2991   \n",
       "\n",
       "   OriginalImagePixelSpacing[x     y]  Unnamed: 11  \n",
       "0                        0.168  0.168          NaN  \n",
       "1                        0.168  0.168          NaN  \n",
       "2                        0.139  0.139          NaN  \n",
       "3                        0.143  0.143          NaN  \n",
       "4                        0.143  0.143          NaN  "
      ]
     },
     "execution_count": 3,
     "metadata": {},
     "output_type": "execute_result"
    }
   ],
   "source": [
    "df.head()"
   ]
  },
  {
   "cell_type": "markdown",
   "id": "19805246-d49b-4d79-b8cc-9f7db5c25886",
   "metadata": {},
   "source": [
    "Recojo las imagenes que ya tenemos"
   ]
  },
  {
   "cell_type": "code",
   "execution_count": 4,
   "id": "3acf39f1-a24e-49c7-8750-304489fbef0c",
   "metadata": {},
   "outputs": [],
   "source": [
    "p_already = '/home/mr1142/Documents/Data/segmentation/images'\n",
    "already = os.listdir(p_already)"
   ]
  },
  {
   "cell_type": "code",
   "execution_count": 5,
   "id": "d02e8ed7-f2a6-4f27-bd63-44037e154205",
   "metadata": {},
   "outputs": [
    {
     "data": {
      "text/plain": [
       "700"
      ]
     },
     "execution_count": 5,
     "metadata": {},
     "output_type": "execute_result"
    }
   ],
   "source": [
    "len(already)"
   ]
  },
  {
   "cell_type": "markdown",
   "id": "a8c5a110-3176-47c3-8604-c3f8398fc875",
   "metadata": {},
   "source": [
    "Cojo un numero de indices aleatorios, que no coincidan con las imagenes que ya tenemos"
   ]
  },
  {
   "cell_type": "code",
   "execution_count": 6,
   "id": "f4e1a386",
   "metadata": {},
   "outputs": [],
   "source": [
    "random = []\n",
    "for i in range(200):\n",
    "    rand=np.random.randint(0,len(df))\n",
    "    while(df['Image Index'][rand] in already):\n",
    "        rand=np.random.randint(0,len(df))\n",
    "    random.append(rand)"
   ]
  },
  {
   "cell_type": "code",
   "execution_count": 7,
   "id": "129ac10c",
   "metadata": {},
   "outputs": [
    {
     "data": {
      "text/plain": [
       "set()"
      ]
     },
     "execution_count": 7,
     "metadata": {},
     "output_type": "execute_result"
    }
   ],
   "source": [
    "set(list(df['Image Index'][random])).intersection(already)"
   ]
  },
  {
   "cell_type": "code",
   "execution_count": 8,
   "id": "17fe7e13",
   "metadata": {},
   "outputs": [],
   "source": [
    "df = df.iloc[random].reset_index(drop=True)"
   ]
  },
  {
   "cell_type": "code",
   "execution_count": 9,
   "id": "0d634347",
   "metadata": {},
   "outputs": [
    {
     "data": {
      "text/html": [
       "<div>\n",
       "<style scoped>\n",
       "    .dataframe tbody tr th:only-of-type {\n",
       "        vertical-align: middle;\n",
       "    }\n",
       "\n",
       "    .dataframe tbody tr th {\n",
       "        vertical-align: top;\n",
       "    }\n",
       "\n",
       "    .dataframe thead th {\n",
       "        text-align: right;\n",
       "    }\n",
       "</style>\n",
       "<table border=\"1\" class=\"dataframe\">\n",
       "  <thead>\n",
       "    <tr style=\"text-align: right;\">\n",
       "      <th></th>\n",
       "      <th>Image Index</th>\n",
       "      <th>Finding Labels</th>\n",
       "      <th>Follow-up #</th>\n",
       "      <th>Patient ID</th>\n",
       "      <th>Patient Age</th>\n",
       "      <th>Patient Gender</th>\n",
       "      <th>View Position</th>\n",
       "      <th>OriginalImage[Width</th>\n",
       "      <th>Height]</th>\n",
       "      <th>OriginalImagePixelSpacing[x</th>\n",
       "      <th>y]</th>\n",
       "      <th>Unnamed: 11</th>\n",
       "    </tr>\n",
       "  </thead>\n",
       "  <tbody>\n",
       "    <tr>\n",
       "      <th>0</th>\n",
       "      <td>00017618_031.png</td>\n",
       "      <td>Mass</td>\n",
       "      <td>31</td>\n",
       "      <td>17618</td>\n",
       "      <td>36</td>\n",
       "      <td>M</td>\n",
       "      <td>AP</td>\n",
       "      <td>2500</td>\n",
       "      <td>2048</td>\n",
       "      <td>0.168</td>\n",
       "      <td>0.168</td>\n",
       "      <td>NaN</td>\n",
       "    </tr>\n",
       "    <tr>\n",
       "      <th>1</th>\n",
       "      <td>00001303_000.png</td>\n",
       "      <td>No Finding</td>\n",
       "      <td>0</td>\n",
       "      <td>1303</td>\n",
       "      <td>21</td>\n",
       "      <td>M</td>\n",
       "      <td>AP</td>\n",
       "      <td>2500</td>\n",
       "      <td>2048</td>\n",
       "      <td>0.168</td>\n",
       "      <td>0.168</td>\n",
       "      <td>NaN</td>\n",
       "    </tr>\n",
       "    <tr>\n",
       "      <th>2</th>\n",
       "      <td>00011955_002.png</td>\n",
       "      <td>Effusion|Infiltration</td>\n",
       "      <td>2</td>\n",
       "      <td>11955</td>\n",
       "      <td>54</td>\n",
       "      <td>F</td>\n",
       "      <td>PA</td>\n",
       "      <td>2398</td>\n",
       "      <td>2545</td>\n",
       "      <td>0.143</td>\n",
       "      <td>0.143</td>\n",
       "      <td>NaN</td>\n",
       "    </tr>\n",
       "    <tr>\n",
       "      <th>3</th>\n",
       "      <td>00003140_017.png</td>\n",
       "      <td>No Finding</td>\n",
       "      <td>17</td>\n",
       "      <td>3140</td>\n",
       "      <td>30</td>\n",
       "      <td>F</td>\n",
       "      <td>AP</td>\n",
       "      <td>2500</td>\n",
       "      <td>2048</td>\n",
       "      <td>0.168</td>\n",
       "      <td>0.168</td>\n",
       "      <td>NaN</td>\n",
       "    </tr>\n",
       "    <tr>\n",
       "      <th>4</th>\n",
       "      <td>00005806_006.png</td>\n",
       "      <td>Infiltration</td>\n",
       "      <td>6</td>\n",
       "      <td>5806</td>\n",
       "      <td>40</td>\n",
       "      <td>F</td>\n",
       "      <td>AP</td>\n",
       "      <td>2500</td>\n",
       "      <td>2048</td>\n",
       "      <td>0.168</td>\n",
       "      <td>0.168</td>\n",
       "      <td>NaN</td>\n",
       "    </tr>\n",
       "  </tbody>\n",
       "</table>\n",
       "</div>"
      ],
      "text/plain": [
       "        Image Index         Finding Labels  Follow-up #  Patient ID  \\\n",
       "0  00017618_031.png                   Mass           31       17618   \n",
       "1  00001303_000.png             No Finding            0        1303   \n",
       "2  00011955_002.png  Effusion|Infiltration            2       11955   \n",
       "3  00003140_017.png             No Finding           17        3140   \n",
       "4  00005806_006.png           Infiltration            6        5806   \n",
       "\n",
       "   Patient Age Patient Gender View Position  OriginalImage[Width  Height]  \\\n",
       "0           36              M            AP                 2500     2048   \n",
       "1           21              M            AP                 2500     2048   \n",
       "2           54              F            PA                 2398     2545   \n",
       "3           30              F            AP                 2500     2048   \n",
       "4           40              F            AP                 2500     2048   \n",
       "\n",
       "   OriginalImagePixelSpacing[x     y]  Unnamed: 11  \n",
       "0                        0.168  0.168          NaN  \n",
       "1                        0.168  0.168          NaN  \n",
       "2                        0.143  0.143          NaN  \n",
       "3                        0.168  0.168          NaN  \n",
       "4                        0.168  0.168          NaN  "
      ]
     },
     "execution_count": 9,
     "metadata": {},
     "output_type": "execute_result"
    }
   ],
   "source": [
    "df.head()"
   ]
  },
  {
   "cell_type": "code",
   "execution_count": 10,
   "id": "7b0edf2c",
   "metadata": {},
   "outputs": [],
   "source": [
    "labels = np.unique(df['Finding Labels'])\n",
    "labels = '|'.join(labels)\n",
    "labels = labels.split('|')\n",
    "labels = np.unique(labels).tolist()"
   ]
  },
  {
   "cell_type": "code",
   "execution_count": 11,
   "id": "de10d4ac",
   "metadata": {},
   "outputs": [],
   "source": [
    "def fill_label(information, label):\n",
    "    positive_labels = information.split('|')\n",
    "    if label in positive_labels:\n",
    "        return 1\n",
    "    return 0"
   ]
  },
  {
   "cell_type": "code",
   "execution_count": 12,
   "id": "389c8fe1",
   "metadata": {},
   "outputs": [],
   "source": [
    "for lab in labels:\n",
    "    df[lab] = list(map(lambda x: fill_label(x, lab), df['Finding Labels'].tolist()))"
   ]
  },
  {
   "cell_type": "code",
   "execution_count": 13,
   "id": "956612fa",
   "metadata": {},
   "outputs": [
    {
     "name": "stdout",
     "output_type": "stream",
     "text": [
      "Atelectasis\n",
      "19\n",
      "Cardiomegaly\n",
      "6\n",
      "Consolidation\n",
      "8\n",
      "Edema\n",
      "5\n",
      "Effusion\n",
      "24\n",
      "Emphysema\n",
      "3\n",
      "Hernia\n",
      "2\n",
      "Infiltration\n",
      "33\n",
      "Mass\n",
      "9\n",
      "No Finding\n",
      "109\n",
      "Nodule\n",
      "14\n",
      "Pleural_Thickening\n",
      "5\n",
      "Pneumonia\n",
      "4\n",
      "Pneumothorax\n",
      "11\n"
     ]
    }
   ],
   "source": [
    "for l in labels:\n",
    "    print(l)\n",
    "    print(sum(df[l] == 1))"
   ]
  },
  {
   "cell_type": "code",
   "execution_count": 14,
   "id": "53e04894",
   "metadata": {},
   "outputs": [],
   "source": [
    "path = '/home/mr1142/Documents/Data/NIH'"
   ]
  },
  {
   "cell_type": "code",
   "execution_count": 15,
   "id": "1b77a850",
   "metadata": {},
   "outputs": [],
   "source": [
    "def charge_specific_img(img_name):\n",
    "    subfolders = [f.path for f in os.scandir(path) if f.is_dir()]\n",
    "    for folder in subfolders:\n",
    "        img_path = os.path.join(folder, 'images', img_name)\n",
    "        if os.path.isfile(img_path):\n",
    "            img = cv2.imread(img_path)\n",
    "            return img\n",
    "    img = []\n",
    "    return img"
   ]
  },
  {
   "cell_type": "code",
   "execution_count": 16,
   "id": "12c95541",
   "metadata": {},
   "outputs": [],
   "source": [
    "images = list(map(charge_specific_img, df['Image Index']))"
   ]
  },
  {
   "cell_type": "code",
   "execution_count": 17,
   "id": "0edc2bb1",
   "metadata": {},
   "outputs": [
    {
     "data": {
      "text/plain": [
       "<matplotlib.image.AxesImage at 0x7fdbe14899b0>"
      ]
     },
     "execution_count": 17,
     "metadata": {},
     "output_type": "execute_result"
    },
    {
     "data": {
      "image/png": "[encoded data removed]",
      "text/plain": [
       "<Figure size 432x288 with 1 Axes>"
      ]
     },
     "metadata": {
      "needs_background": "light"
     },
     "output_type": "display_data"
    }
   ],
   "source": [
    "import matplotlib.pyplot as plt\n",
    "i = np.random.randint(0,len(df))\n",
    "plt.imshow(images[i])"
   ]
  },
  {
   "cell_type": "code",
   "execution_count": 18,
   "id": "bee20e37",
   "metadata": {},
   "outputs": [
    {
     "data": {
      "text/plain": [
       "200"
      ]
     },
     "execution_count": 18,
     "metadata": {},
     "output_type": "execute_result"
    }
   ],
   "source": [
    "len(images)"
   ]
  },
  {
   "cell_type": "code",
   "execution_count": 23,
   "id": "934c9412",
   "metadata": {},
   "outputs": [],
   "source": [
    "for i, img in enumerate(images):\n",
    "    p = os.path.join('/home/mr1142/Documents/Data/validacion_medica/NIH', df['Image Index'][i])\n",
    "    cv2.imwrite(p, img)"
   ]
  },
  {
   "cell_type": "markdown",
   "id": "f6137b5a-a7ca-49fa-bebb-8a3c1fcb862b",
   "metadata": {
    "tags": []
   },
   "source": [
    "## Creamos el dataframe"
   ]
  },
  {
   "cell_type": "code",
   "execution_count": 5,
   "id": "53547df8-7514-4f7c-b35a-fca372b5b3b5",
   "metadata": {},
   "outputs": [],
   "source": [
    "path = '/home/mr1142/Documents/Data/validacion_medica/NIH'\n",
    "names = os.listdir(path)"
   ]
  },
  {
   "cell_type": "code",
   "execution_count": 6,
   "id": "511da4ea-73d9-432b-b222-531366f3e6bd",
   "metadata": {},
   "outputs": [
    {
     "data": {
      "text/plain": [
       "202"
      ]
     },
     "execution_count": 6,
     "metadata": {},
     "output_type": "execute_result"
    }
   ],
   "source": [
    "len(names)"
   ]
  },
  {
   "cell_type": "code",
   "execution_count": 47,
   "id": "7b16c3cc-2100-46b6-843b-315f81aca79f",
   "metadata": {},
   "outputs": [],
   "source": [
    "path = '/home/mr1142/Documents/Data/NIH/Data_Entry_2017.csv'"
   ]
  },
  {
   "cell_type": "code",
   "execution_count": 48,
   "id": "01cac206-ad42-45cc-9b5b-8d5c28b42b3e",
   "metadata": {},
   "outputs": [],
   "source": [
    "df = pd.read_csv(path)"
   ]
  },
  {
   "cell_type": "code",
   "execution_count": 49,
   "id": "4aa85cbe-17f7-4594-818a-bbac6db9f595",
   "metadata": {},
   "outputs": [
    {
     "data": {
      "text/html": [
       "<div>\n",
       "<style scoped>\n",
       "    .dataframe tbody tr th:only-of-type {\n",
       "        vertical-align: middle;\n",
       "    }\n",
       "\n",
       "    .dataframe tbody tr th {\n",
       "        vertical-align: top;\n",
       "    }\n",
       "\n",
       "    .dataframe thead th {\n",
       "        text-align: right;\n",
       "    }\n",
       "</style>\n",
       "<table border=\"1\" class=\"dataframe\">\n",
       "  <thead>\n",
       "    <tr style=\"text-align: right;\">\n",
       "      <th></th>\n",
       "      <th>Image Index</th>\n",
       "      <th>Finding Labels</th>\n",
       "      <th>Follow-up #</th>\n",
       "      <th>Patient ID</th>\n",
       "      <th>Patient Age</th>\n",
       "      <th>Patient Gender</th>\n",
       "      <th>View Position</th>\n",
       "      <th>OriginalImage[Width</th>\n",
       "      <th>Height]</th>\n",
       "      <th>OriginalImagePixelSpacing[x</th>\n",
       "      <th>y]</th>\n",
       "      <th>Unnamed: 11</th>\n",
       "    </tr>\n",
       "  </thead>\n",
       "  <tbody>\n",
       "    <tr>\n",
       "      <th>0</th>\n",
       "      <td>00000001_000.png</td>\n",
       "      <td>Cardiomegaly</td>\n",
       "      <td>0</td>\n",
       "      <td>1</td>\n",
       "      <td>58</td>\n",
       "      <td>M</td>\n",
       "      <td>PA</td>\n",
       "      <td>2682</td>\n",
       "      <td>2749</td>\n",
       "      <td>0.143</td>\n",
       "      <td>0.143</td>\n",
       "      <td>NaN</td>\n",
       "    </tr>\n",
       "    <tr>\n",
       "      <th>1</th>\n",
       "      <td>00000001_001.png</td>\n",
       "      <td>Cardiomegaly|Emphysema</td>\n",
       "      <td>1</td>\n",
       "      <td>1</td>\n",
       "      <td>58</td>\n",
       "      <td>M</td>\n",
       "      <td>PA</td>\n",
       "      <td>2894</td>\n",
       "      <td>2729</td>\n",
       "      <td>0.143</td>\n",
       "      <td>0.143</td>\n",
       "      <td>NaN</td>\n",
       "    </tr>\n",
       "    <tr>\n",
       "      <th>2</th>\n",
       "      <td>00000001_002.png</td>\n",
       "      <td>Cardiomegaly|Effusion</td>\n",
       "      <td>2</td>\n",
       "      <td>1</td>\n",
       "      <td>58</td>\n",
       "      <td>M</td>\n",
       "      <td>PA</td>\n",
       "      <td>2500</td>\n",
       "      <td>2048</td>\n",
       "      <td>0.168</td>\n",
       "      <td>0.168</td>\n",
       "      <td>NaN</td>\n",
       "    </tr>\n",
       "    <tr>\n",
       "      <th>3</th>\n",
       "      <td>00000002_000.png</td>\n",
       "      <td>No Finding</td>\n",
       "      <td>0</td>\n",
       "      <td>2</td>\n",
       "      <td>81</td>\n",
       "      <td>M</td>\n",
       "      <td>PA</td>\n",
       "      <td>2500</td>\n",
       "      <td>2048</td>\n",
       "      <td>0.171</td>\n",
       "      <td>0.171</td>\n",
       "      <td>NaN</td>\n",
       "    </tr>\n",
       "    <tr>\n",
       "      <th>4</th>\n",
       "      <td>00000003_000.png</td>\n",
       "      <td>Hernia</td>\n",
       "      <td>0</td>\n",
       "      <td>3</td>\n",
       "      <td>81</td>\n",
       "      <td>F</td>\n",
       "      <td>PA</td>\n",
       "      <td>2582</td>\n",
       "      <td>2991</td>\n",
       "      <td>0.143</td>\n",
       "      <td>0.143</td>\n",
       "      <td>NaN</td>\n",
       "    </tr>\n",
       "  </tbody>\n",
       "</table>\n",
       "</div>"
      ],
      "text/plain": [
       "        Image Index          Finding Labels  Follow-up #  Patient ID  \\\n",
       "0  00000001_000.png            Cardiomegaly            0           1   \n",
       "1  00000001_001.png  Cardiomegaly|Emphysema            1           1   \n",
       "2  00000001_002.png   Cardiomegaly|Effusion            2           1   \n",
       "3  00000002_000.png              No Finding            0           2   \n",
       "4  00000003_000.png                  Hernia            0           3   \n",
       "\n",
       "   Patient Age Patient Gender View Position  OriginalImage[Width  Height]  \\\n",
       "0           58              M            PA                 2682     2749   \n",
       "1           58              M            PA                 2894     2729   \n",
       "2           58              M            PA                 2500     2048   \n",
       "3           81              M            PA                 2500     2048   \n",
       "4           81              F            PA                 2582     2991   \n",
       "\n",
       "   OriginalImagePixelSpacing[x     y]  Unnamed: 11  \n",
       "0                        0.143  0.143          NaN  \n",
       "1                        0.143  0.143          NaN  \n",
       "2                        0.168  0.168          NaN  \n",
       "3                        0.171  0.171          NaN  \n",
       "4                        0.143  0.143          NaN  "
      ]
     },
     "execution_count": 49,
     "metadata": {},
     "output_type": "execute_result"
    }
   ],
   "source": [
    "df.head()"
   ]
  },
  {
   "cell_type": "code",
   "execution_count": 50,
   "id": "28a82ee1-b74c-4a27-95a9-2426134a5cb8",
   "metadata": {},
   "outputs": [],
   "source": [
    "index = [i for i in df.index if df['Image Index'][i] in names]"
   ]
  },
  {
   "cell_type": "code",
   "execution_count": 51,
   "id": "b121dd2e-0885-49b8-b46e-e9fe0b69aee7",
   "metadata": {},
   "outputs": [],
   "source": [
    "df = df.iloc[index]"
   ]
  },
  {
   "cell_type": "code",
   "execution_count": 52,
   "id": "f597d1a2-0167-4f4b-a0c0-625e04d182ae",
   "metadata": {},
   "outputs": [],
   "source": [
    "df.to_csv('/home/mr1142/Documents/Data/validacion_medica/NIH/validation_data.csv')"
   ]
  },
  {
   "cell_type": "markdown",
   "id": "883077e8-e33a-4435-9c1f-5ecfc94af965",
   "metadata": {},
   "source": [
    "# Montgomery dataset"
   ]
  },
  {
   "cell_type": "code",
   "execution_count": 13,
   "id": "b8327fa9-339b-40fe-88df-989c1bdfb9cd",
   "metadata": {},
   "outputs": [],
   "source": [
    "path = '/home/mr1142/Documents/Data/montgomery_dataset/images'"
   ]
  },
  {
   "cell_type": "code",
   "execution_count": 14,
   "id": "a159402d-4308-4ade-af2b-f2956f722633",
   "metadata": {},
   "outputs": [],
   "source": [
    "images_name = os.listdir(path)"
   ]
  },
  {
   "cell_type": "code",
   "execution_count": 15,
   "id": "eb83a91b-478b-4178-9892-6603df7db439",
   "metadata": {},
   "outputs": [
    {
     "data": {
      "text/plain": [
       "139"
      ]
     },
     "execution_count": 15,
     "metadata": {},
     "output_type": "execute_result"
    }
   ],
   "source": [
    "len(images_name)"
   ]
  },
  {
   "cell_type": "markdown",
   "id": "974f7ced-a91c-4649-aca2-99713e21284d",
   "metadata": {},
   "source": [
    "# JSRT dataset"
   ]
  },
  {
   "cell_type": "code",
   "execution_count": 16,
   "id": "c50673ce-0a8b-4ff7-ae90-b7b46d743606",
   "metadata": {},
   "outputs": [],
   "source": [
    "path = '/home/mr1142/Documents/Data/jsrt_dataset/images'"
   ]
  },
  {
   "cell_type": "code",
   "execution_count": 17,
   "id": "85ace4d8-47e1-412e-87fc-4f1721cbfc76",
   "metadata": {},
   "outputs": [],
   "source": [
    "images_name = os.listdir(path)"
   ]
  },
  {
   "cell_type": "code",
   "execution_count": 18,
   "id": "9a981070-98e4-453d-8ee8-fbd9e8e71c9f",
   "metadata": {},
   "outputs": [
    {
     "data": {
      "text/plain": [
       "247"
      ]
     },
     "execution_count": 18,
     "metadata": {},
     "output_type": "execute_result"
    }
   ],
   "source": [
    "len(images_name)"
   ]
  }
 ],
 "metadata": {
  "kernelspec": {
   "display_name": "Python 3",
   "language": "python",
   "name": "python3"
  },
  "language_info": {
   "codemirror_mode": {
    "name": "ipython",
    "version": 3
   },
   "file_extension": ".py",
   "mimetype": "text/x-python",
   "name": "python",
   "nbconvert_exporter": "python",
   "pygments_lexer": "ipython3",
   "version": "3.6.8"
  }
 },
 "nbformat": 4,
 "nbformat_minor": 5
}
