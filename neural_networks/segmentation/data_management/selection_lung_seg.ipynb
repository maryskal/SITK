{
 "cells": [
  {
   "cell_type": "code",
   "execution_count": 24,
   "id": "25860a65-8bb3-43a4-a8df-ae66291974f5",
   "metadata": {},
   "outputs": [],
   "source": [
    "import pandas as pd\n",
    "import numpy as np\n",
    "import os\n",
    "import re\n",
    "import shutil\n",
    "from tqdm import tqdm"
   ]
  },
  {
   "cell_type": "code",
   "execution_count": 16,
   "id": "cb530675-eaf4-4f70-8c91-8f16c956824b",
   "metadata": {},
   "outputs": [],
   "source": [
    "p = '/home/mr1142/Documents/Data/COVID-19_Radiography_Dataset'"
   ]
  },
  {
   "cell_type": "code",
   "execution_count": 17,
   "id": "8b3c68a2-a9ad-462f-a971-2bbc58b33a8c",
   "metadata": {},
   "outputs": [],
   "source": [
    "folders = [f for f in os.listdir(p) if os.path.isdir(os.path.join(p, f))]\n",
    "label = []\n",
    "img_name = []\n",
    "for fold in folders:\n",
    "    images = os.listdir(os.path.join(p, fold, 'images'))\n",
    "    img_name.extend(images)\n",
    "    label.extend([fold]*len(images))"
   ]
  },
  {
   "cell_type": "code",
   "execution_count": 18,
   "id": "4be29362-6fb3-497d-a76c-24acca96ef10",
   "metadata": {},
   "outputs": [],
   "source": [
    "masks = pd.DataFrame({'img_name': img_name, 'class': label})"
   ]
  },
  {
   "cell_type": "code",
   "execution_count": 19,
   "id": "27eb5f51-77ac-400e-a354-ae4bfbd5b706",
   "metadata": {},
   "outputs": [],
   "source": [
    "masks['normal'] = [1 if masks['class'][i] == 'Normal' else 0 for i in masks.index]"
   ]
  },
  {
   "cell_type": "code",
   "execution_count": 20,
   "id": "5ab418af-4e35-4de7-80de-5e6bb99e03ab",
   "metadata": {},
   "outputs": [],
   "source": [
    "masks['path_image'] = [os.path.join(p, masks['class'][i], 'images', masks.img_name[i]) for i in masks.index]\n",
    "masks['path_mask'] = [os.path.join(p, masks['class'][i], 'masks', masks.img_name[i]) for i in masks.index]"
   ]
  },
  {
   "cell_type": "code",
   "execution_count": 21,
   "id": "de86464e-0727-4a31-afc6-f869f932a274",
   "metadata": {},
   "outputs": [
    {
     "data": {
      "text/html": [
       "<div>\n",
       "<style scoped>\n",
       "    .dataframe tbody tr th:only-of-type {\n",
       "        vertical-align: middle;\n",
       "    }\n",
       "\n",
       "    .dataframe tbody tr th {\n",
       "        vertical-align: top;\n",
       "    }\n",
       "\n",
       "    .dataframe thead th {\n",
       "        text-align: right;\n",
       "    }\n",
       "</style>\n",
       "<table border=\"1\" class=\"dataframe\">\n",
       "  <thead>\n",
       "    <tr style=\"text-align: right;\">\n",
       "      <th></th>\n",
       "      <th>img_name</th>\n",
       "      <th>class</th>\n",
       "      <th>normal</th>\n",
       "      <th>path_image</th>\n",
       "      <th>path_mask</th>\n",
       "    </tr>\n",
       "  </thead>\n",
       "  <tbody>\n",
       "    <tr>\n",
       "      <th>0</th>\n",
       "      <td>Lung_Opacity-1651.png</td>\n",
       "      <td>Lung_Opacity</td>\n",
       "      <td>0</td>\n",
       "      <td>/home/mr1142/Documents/Data/COVID-19_Radiograp...</td>\n",
       "      <td>/home/mr1142/Documents/Data/COVID-19_Radiograp...</td>\n",
       "    </tr>\n",
       "    <tr>\n",
       "      <th>1</th>\n",
       "      <td>Lung_Opacity-1230.png</td>\n",
       "      <td>Lung_Opacity</td>\n",
       "      <td>0</td>\n",
       "      <td>/home/mr1142/Documents/Data/COVID-19_Radiograp...</td>\n",
       "      <td>/home/mr1142/Documents/Data/COVID-19_Radiograp...</td>\n",
       "    </tr>\n",
       "    <tr>\n",
       "      <th>2</th>\n",
       "      <td>Lung_Opacity-4264.png</td>\n",
       "      <td>Lung_Opacity</td>\n",
       "      <td>0</td>\n",
       "      <td>/home/mr1142/Documents/Data/COVID-19_Radiograp...</td>\n",
       "      <td>/home/mr1142/Documents/Data/COVID-19_Radiograp...</td>\n",
       "    </tr>\n",
       "    <tr>\n",
       "      <th>3</th>\n",
       "      <td>Lung_Opacity-531.png</td>\n",
       "      <td>Lung_Opacity</td>\n",
       "      <td>0</td>\n",
       "      <td>/home/mr1142/Documents/Data/COVID-19_Radiograp...</td>\n",
       "      <td>/home/mr1142/Documents/Data/COVID-19_Radiograp...</td>\n",
       "    </tr>\n",
       "    <tr>\n",
       "      <th>4</th>\n",
       "      <td>Lung_Opacity-323.png</td>\n",
       "      <td>Lung_Opacity</td>\n",
       "      <td>0</td>\n",
       "      <td>/home/mr1142/Documents/Data/COVID-19_Radiograp...</td>\n",
       "      <td>/home/mr1142/Documents/Data/COVID-19_Radiograp...</td>\n",
       "    </tr>\n",
       "    <tr>\n",
       "      <th>...</th>\n",
       "      <td>...</td>\n",
       "      <td>...</td>\n",
       "      <td>...</td>\n",
       "      <td>...</td>\n",
       "      <td>...</td>\n",
       "    </tr>\n",
       "    <tr>\n",
       "      <th>21160</th>\n",
       "      <td>COVID-134.png</td>\n",
       "      <td>COVID</td>\n",
       "      <td>0</td>\n",
       "      <td>/home/mr1142/Documents/Data/COVID-19_Radiograp...</td>\n",
       "      <td>/home/mr1142/Documents/Data/COVID-19_Radiograp...</td>\n",
       "    </tr>\n",
       "    <tr>\n",
       "      <th>21161</th>\n",
       "      <td>COVID-1321.png</td>\n",
       "      <td>COVID</td>\n",
       "      <td>0</td>\n",
       "      <td>/home/mr1142/Documents/Data/COVID-19_Radiograp...</td>\n",
       "      <td>/home/mr1142/Documents/Data/COVID-19_Radiograp...</td>\n",
       "    </tr>\n",
       "    <tr>\n",
       "      <th>21162</th>\n",
       "      <td>COVID-1972.png</td>\n",
       "      <td>COVID</td>\n",
       "      <td>0</td>\n",
       "      <td>/home/mr1142/Documents/Data/COVID-19_Radiograp...</td>\n",
       "      <td>/home/mr1142/Documents/Data/COVID-19_Radiograp...</td>\n",
       "    </tr>\n",
       "    <tr>\n",
       "      <th>21163</th>\n",
       "      <td>COVID-2380.png</td>\n",
       "      <td>COVID</td>\n",
       "      <td>0</td>\n",
       "      <td>/home/mr1142/Documents/Data/COVID-19_Radiograp...</td>\n",
       "      <td>/home/mr1142/Documents/Data/COVID-19_Radiograp...</td>\n",
       "    </tr>\n",
       "    <tr>\n",
       "      <th>21164</th>\n",
       "      <td>COVID-2695.png</td>\n",
       "      <td>COVID</td>\n",
       "      <td>0</td>\n",
       "      <td>/home/mr1142/Documents/Data/COVID-19_Radiograp...</td>\n",
       "      <td>/home/mr1142/Documents/Data/COVID-19_Radiograp...</td>\n",
       "    </tr>\n",
       "  </tbody>\n",
       "</table>\n",
       "<p>21165 rows × 5 columns</p>\n",
       "</div>"
      ],
      "text/plain": [
       "                    img_name         class  normal  \\\n",
       "0      Lung_Opacity-1651.png  Lung_Opacity       0   \n",
       "1      Lung_Opacity-1230.png  Lung_Opacity       0   \n",
       "2      Lung_Opacity-4264.png  Lung_Opacity       0   \n",
       "3       Lung_Opacity-531.png  Lung_Opacity       0   \n",
       "4       Lung_Opacity-323.png  Lung_Opacity       0   \n",
       "...                      ...           ...     ...   \n",
       "21160          COVID-134.png         COVID       0   \n",
       "21161         COVID-1321.png         COVID       0   \n",
       "21162         COVID-1972.png         COVID       0   \n",
       "21163         COVID-2380.png         COVID       0   \n",
       "21164         COVID-2695.png         COVID       0   \n",
       "\n",
       "                                              path_image  \\\n",
       "0      /home/mr1142/Documents/Data/COVID-19_Radiograp...   \n",
       "1      /home/mr1142/Documents/Data/COVID-19_Radiograp...   \n",
       "2      /home/mr1142/Documents/Data/COVID-19_Radiograp...   \n",
       "3      /home/mr1142/Documents/Data/COVID-19_Radiograp...   \n",
       "4      /home/mr1142/Documents/Data/COVID-19_Radiograp...   \n",
       "...                                                  ...   \n",
       "21160  /home/mr1142/Documents/Data/COVID-19_Radiograp...   \n",
       "21161  /home/mr1142/Documents/Data/COVID-19_Radiograp...   \n",
       "21162  /home/mr1142/Documents/Data/COVID-19_Radiograp...   \n",
       "21163  /home/mr1142/Documents/Data/COVID-19_Radiograp...   \n",
       "21164  /home/mr1142/Documents/Data/COVID-19_Radiograp...   \n",
       "\n",
       "                                               path_mask  \n",
       "0      /home/mr1142/Documents/Data/COVID-19_Radiograp...  \n",
       "1      /home/mr1142/Documents/Data/COVID-19_Radiograp...  \n",
       "2      /home/mr1142/Documents/Data/COVID-19_Radiograp...  \n",
       "3      /home/mr1142/Documents/Data/COVID-19_Radiograp...  \n",
       "4      /home/mr1142/Documents/Data/COVID-19_Radiograp...  \n",
       "...                                                  ...  \n",
       "21160  /home/mr1142/Documents/Data/COVID-19_Radiograp...  \n",
       "21161  /home/mr1142/Documents/Data/COVID-19_Radiograp...  \n",
       "21162  /home/mr1142/Documents/Data/COVID-19_Radiograp...  \n",
       "21163  /home/mr1142/Documents/Data/COVID-19_Radiograp...  \n",
       "21164  /home/mr1142/Documents/Data/COVID-19_Radiograp...  \n",
       "\n",
       "[21165 rows x 5 columns]"
      ]
     },
     "execution_count": 21,
     "metadata": {},
     "output_type": "execute_result"
    }
   ],
   "source": [
    "masks"
   ]
  },
  {
   "cell_type": "code",
   "execution_count": 22,
   "id": "81540010-6c4e-400f-afca-f9b768e6e583",
   "metadata": {},
   "outputs": [
    {
     "data": {
      "text/plain": [
       "21165"
      ]
     },
     "execution_count": 22,
     "metadata": {},
     "output_type": "execute_result"
    }
   ],
   "source": [
    "len(masks)"
   ]
  },
  {
   "cell_type": "code",
   "execution_count": 12,
   "id": "dadce42b-1d59-4dea-be9f-b6617fbdf8a0",
   "metadata": {},
   "outputs": [
    {
     "name": "stdout",
     "output_type": "stream",
     "text": [
      "Normales: 10192\n",
      "Neumonia: 10973\n",
      "  -COVID: 3616\n",
      "  -Lung_Opacity: 6012\n",
      "  -Viral Pneumonia: 1345\n"
     ]
    }
   ],
   "source": [
    "print('Normales: {}'.format(sum(masks.normal == 1)))\n",
    "print('Neumonia: {}'.format(sum(masks.normal == 0)))\n",
    "print('  -COVID: {}'.format(sum(masks['class'] == 'COVID')))\n",
    "print('  -Lung_Opacity: {}'.format(sum(masks['class'] == 'Lung_Opacity')))\n",
    "print('  -Viral Pneumonia: {}'.format(sum(masks['class'] == 'Viral Pneumonia')))"
   ]
  },
  {
   "cell_type": "code",
   "execution_count": 29,
   "id": "e26ca0c9-8c01-4008-8db9-6ae10034a40d",
   "metadata": {},
   "outputs": [],
   "source": [
    "train = masks.sample(frac = 0.8)\n",
    "test = masks.drop(train.index).reset_index(drop = True)\n",
    "train = train.reset_index(drop = True)"
   ]
  },
  {
   "cell_type": "code",
   "execution_count": 30,
   "id": "4068913d-5d91-47e1-bd48-b60f69033901",
   "metadata": {},
   "outputs": [
    {
     "name": "stdout",
     "output_type": "stream",
     "text": [
      "16932\n",
      "4233\n"
     ]
    }
   ],
   "source": [
    "print(len(train))\n",
    "print(len(test))"
   ]
  },
  {
   "cell_type": "code",
   "execution_count": 33,
   "id": "50187493-c147-4123-9277-141af5e35da1",
   "metadata": {},
   "outputs": [],
   "source": [
    "path = '/home/mr1142/Documents/Data/segmentation_data/lung_segmentation'"
   ]
  },
  {
   "cell_type": "code",
   "execution_count": 35,
   "id": "35c215bb-cd6e-4d2c-b25a-1f16bfb388d6",
   "metadata": {},
   "outputs": [
    {
     "name": "stderr",
     "output_type": "stream",
     "text": [
      "100%|██████████████████████████████████████████████████████| 16932/16932 [02:36<00:00, 108.28it/s]\n",
      "100%|██████████████████████████████████████████████████████| 16932/16932 [01:58<00:00, 142.84it/s]\n",
      "100%|████████████████████████████████████████████████████████| 4233/4233 [00:30<00:00, 139.81it/s]\n",
      "100%|████████████████████████████████████████████████████████| 4233/4233 [00:19<00:00, 212.47it/s]\n"
     ]
    }
   ],
   "source": [
    "for folder in ['train', 'test']:\n",
    "    df = globals()[folder]\n",
    "    for i, p in enumerate(tqdm(df.path_image)):\n",
    "        shutil.copyfile(p, os.path.join(path, folder, 'images', df.img_name[i]))\n",
    "    for i, p in enumerate(tqdm(df.path_mask)):\n",
    "        shutil.copyfile(p, os.path.join(path, folder, 'mascara', df.img_name[i]))"
   ]
  },
  {
   "cell_type": "code",
   "execution_count": null,
   "id": "f6c513ca-b90c-48eb-a442-a7881287338b",
   "metadata": {},
   "outputs": [],
   "source": []
  }
 ],
 "metadata": {
  "kernelspec": {
   "display_name": "Python 3 (ipykernel)",
   "language": "python",
   "name": "python3"
  },
  "language_info": {
   "codemirror_mode": {
    "name": "ipython",
    "version": 3
   },
   "file_extension": ".py",
   "mimetype": "text/x-python",
   "name": "python",
   "nbconvert_exporter": "python",
   "pygments_lexer": "ipython3",
   "version": "3.10.6"
  }
 },
 "nbformat": 4,
 "nbformat_minor": 5
}
