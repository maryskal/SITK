{
 "cells": [
  {
   "cell_type": "code",
   "execution_count": 4,
   "id": "df5f5f3e-b58d-4e19-ac4d-e8987bcdc285",
   "metadata": {},
   "outputs": [],
   "source": [
    "path <- '/home/mr1142/Documents/Data/models/mascaras/validation_results/validation_results.csv'\n",
    "df <- read.csv(path)"
   ]
  },
  {
   "cell_type": "code",
   "execution_count": 10,
   "id": "c864cfb2-e976-4116-a65d-2bd5cd43e110",
   "metadata": {},
   "outputs": [],
   "source": [
    "df <- df[which(grepl('comparacion', df$name)),]"
   ]
  },
  {
   "cell_type": "code",
   "execution_count": 19,
   "id": "ef6d5960-65e7-4af2-9da1-09ca80ef2003",
   "metadata": {},
   "outputs": [],
   "source": [
    "df['doble_loss'] <- df['dice_coef_loss'] + df['loss_mask']"
   ]
  },
  {
   "cell_type": "code",
   "execution_count": 253,
   "id": "ff324ff4-4ad3-4ba5-a8f8-5f6e2a459e6d",
   "metadata": {},
   "outputs": [],
   "source": [
    "df$patologic <- grepl('patologic', df$name)\n",
    "df$patologic[which(df$patologic)] <- 1\n",
    "df$patologic[which(!df$patologic)] <- 0"
   ]
  },
  {
   "cell_type": "code",
   "execution_count": 254,
   "id": "a9f8e75c-6288-4afb-9ca0-5048e788c417",
   "metadata": {},
   "outputs": [
    {
     "data": {
      "text/html": [
       "<table>\n",
       "<thead><tr><th></th><th scope=col>type</th><th scope=col>name</th><th scope=col>loss</th><th scope=col>dice_coef_loss</th><th scope=col>loss_mask</th><th scope=col>accuracy</th><th scope=col>AUC</th><th scope=col>false_positives</th><th scope=col>false_negatives</th><th scope=col>doble_loss</th><th scope=col>patologic</th></tr></thead>\n",
       "<tbody>\n",
       "\t<tr><th scope=row>74</th><td>unet                   </td><td>comparacion_1          </td><td>0.02709979             </td><td>0.02666120             </td><td>0.07788648             </td><td>0.9781804              </td><td>0.9783741              </td><td>  71854                </td><td> 71143                 </td><td>0.1045477              </td><td>0                      </td></tr>\n",
       "\t<tr><th scope=row>75</th><td>unet                   </td><td>patologic_comparacion_1</td><td>0.02885274             </td><td>0.02885274             </td><td>0.08441332             </td><td>0.9771884              </td><td>0.9765205              </td><td> 127335                </td><td>171661                 </td><td>0.1132661              </td><td>1                      </td></tr>\n",
       "\t<tr><th scope=row>76</th><td>unet                   </td><td>comparacion_2          </td><td>0.03135550             </td><td>0.03084308             </td><td>0.08686931             </td><td>0.9747774              </td><td>0.9758544              </td><td>  87972                </td><td> 77327                 </td><td>0.1177124              </td><td>0                      </td></tr>\n",
       "\t<tr><th scope=row>77</th><td>unet                   </td><td>patologic_comparacion_2</td><td>0.02681444             </td><td>0.02681444             </td><td>0.08100066             </td><td>0.9788534              </td><td>0.9785685              </td><td> 104918                </td><td>172255                 </td><td>0.1078151              </td><td>1                      </td></tr>\n",
       "\t<tr><th scope=row>78</th><td>unet                   </td><td>comparacion_3          </td><td>0.02905915             </td><td>0.02846964             </td><td>0.08074459             </td><td>0.9766310              </td><td>0.9767498              </td><td>  77299                </td><td> 75852                 </td><td>0.1092142              </td><td>0                      </td></tr>\n",
       "\t<tr><th scope=row>79</th><td>unet                   </td><td>patologic_comparacion_3</td><td>0.02840706             </td><td>0.02840706             </td><td>0.08287262             </td><td>0.9776584              </td><td>0.9761397              </td><td> 100450                </td><td>192386                 </td><td>0.1112797              </td><td>1                      </td></tr>\n",
       "\t<tr><th scope=row>80</th><td>unet                   </td><td>comparacion_4          </td><td>0.02980474             </td><td>0.02920941             </td><td>0.08019090             </td><td>0.9759007              </td><td>0.9765351              </td><td>  88364                </td><td> 69573                 </td><td>0.1094003              </td><td>0                      </td></tr>\n",
       "\t<tr><th scope=row>81</th><td>unet                   </td><td>patologic_comparacion_4</td><td>0.02624369             </td><td>0.02624369             </td><td>0.07835174             </td><td>0.9792708              </td><td>0.9785639              </td><td> 111964                </td><td>159738                 </td><td>0.1045954              </td><td>1                      </td></tr>\n",
       "\t<tr><th scope=row>82</th><td>ueff                   </td><td>comparacion_1          </td><td>0.10190517             </td><td>0.10084587             </td><td>0.24520020             </td><td>0.9245918              </td><td>0.9177814              </td><td>  55572                </td><td>438623                 </td><td>0.3460461              </td><td>0                      </td></tr>\n",
       "\t<tr><th scope=row>83</th><td>ueff                   </td><td>patologic_comparacion_1</td><td>0.10541668             </td><td>0.10541668             </td><td>0.25161687             </td><td>0.9234881              </td><td>0.9145697              </td><td> 125005                </td><td>877852                 </td><td>0.3570335              </td><td>1                      </td></tr>\n",
       "\t<tr><th scope=row>84</th><td>ueff                   </td><td>comparacion_2          </td><td>0.07014037             </td><td>0.06949191             </td><td>0.18892501             </td><td>0.9455613              </td><td>0.9473158              </td><td> 109750                </td><td>247019                 </td><td>0.2584169              </td><td>0                      </td></tr>\n",
       "\t<tr><th scope=row>85</th><td>ueff                   </td><td>patologic_comparacion_2</td><td>0.07486033             </td><td>0.07486033             </td><td>0.19645669             </td><td>0.9433681              </td><td>0.9432626              </td><td> 214976                </td><td>527310                 </td><td>0.2713170              </td><td>1                      </td></tr>\n",
       "\t<tr><th scope=row>86</th><td>ueff                   </td><td>comparacion_3          </td><td>0.06153139             </td><td>0.06083123             </td><td>0.16252869             </td><td>0.9507605              </td><td>0.9531450              </td><td> 154177                </td><td>168519                 </td><td>0.2233599              </td><td>0                      </td></tr>\n",
       "\t<tr><th scope=row>87</th><td>ueff                   </td><td>patologic_comparacion_3</td><td>0.06440202             </td><td>0.06440202             </td><td>0.16880983             </td><td>0.9498286              </td><td>0.9504701              </td><td> 287505                </td><td>370101                 </td><td>0.2332119              </td><td>1                      </td></tr>\n",
       "\t<tr><th scope=row>88</th><td>ueff                   </td><td>comparacion_4          </td><td>0.07501576             </td><td>0.07459033             </td><td>0.19115841             </td><td>0.9413829              </td><td>0.9441705              </td><td> 144686                </td><td>239467                 </td><td>0.2657487              </td><td>0                      </td></tr>\n",
       "\t<tr><th scope=row>89</th><td>ueff                   </td><td>patologic_comparacion_4</td><td>0.08004761             </td><td>0.08004761             </td><td>0.20184937             </td><td>0.9392155              </td><td>0.9390711              </td><td> 260567                </td><td>536148                 </td><td>0.2818970              </td><td>1                      </td></tr>\n",
       "\t<tr><th scope=row>90</th><td>uloss                  </td><td>comparacion_1          </td><td>0.58317453             </td><td>0.18418972             </td><td>0.39777529             </td><td>0.8352847              </td><td>0.8455539              </td><td> 811661                </td><td>267817                 </td><td>0.5819650              </td><td>0                      </td></tr>\n",
       "\t<tr><th scope=row>91</th><td>uloss                  </td><td>patologic_comparacion_1</td><td>0.59522933             </td><td>0.18944885             </td><td>0.40578040             </td><td>0.8336635              </td><td>0.8465756              </td><td>1702247                </td><td>477959                 </td><td>0.5952293              </td><td>1                      </td></tr>\n",
       "\t<tr><th scope=row>92</th><td>uloss                  </td><td>comparacion_2          </td><td>0.11331613             </td><td>0.03055261             </td><td>0.08228734             </td><td>0.9750826              </td><td>0.9774389              </td><td>  81522                </td><td> 81777                 </td><td>0.1128399              </td><td>0                      </td></tr>\n",
       "\t<tr><th scope=row>93</th><td>uloss                  </td><td>patologic_comparacion_2</td><td>0.10917043             </td><td>0.02894442             </td><td>0.08022600             </td><td>0.9772023              </td><td>0.9785542              </td><td> 112884                </td><td>185930                 </td><td>0.1091704              </td><td>1                      </td></tr>\n",
       "\t<tr><th scope=row>94</th><td>uloss                  </td><td>comparacion_3          </td><td>0.11233511             </td><td>0.03039266             </td><td>0.08148517             </td><td>0.9751616              </td><td>0.9774298              </td><td>  83719                </td><td> 79062                 </td><td>0.1118778              </td><td>0                      </td></tr>\n",
       "\t<tr><th scope=row>95</th><td>uloss                  </td><td>patologic_comparacion_3</td><td>0.10614333             </td><td>0.02896107             </td><td>0.07718225             </td><td>0.9772058              </td><td>0.9779772              </td><td> 102447                </td><td>196322                 </td><td>0.1061433              </td><td>1                      </td></tr>\n",
       "\t<tr><th scope=row>96</th><td>uloss                  </td><td>comparacion_4          </td><td>0.11122815             </td><td>0.03042472             </td><td>0.08033977             </td><td>0.9750946              </td><td>0.9776433              </td><td>  89173                </td><td> 74047                 </td><td>0.1107645              </td><td>0                      </td></tr>\n",
       "\t<tr><th scope=row>97</th><td>uloss                  </td><td>patologic_comparacion_4</td><td>0.10759631             </td><td>0.02862119             </td><td>0.07897511             </td><td>0.9773118              </td><td>0.9789569              </td><td> 129756                </td><td>167622                 </td><td>0.1075963              </td><td>1                      </td></tr>\n",
       "\t<tr><th scope=row>98</th><td>unet                   </td><td>comparacion_5          </td><td>0.02902991             </td><td>0.02859102             </td><td>0.07920276             </td><td>0.9764815              </td><td>0.9776422              </td><td>  96393                </td><td> 57738                 </td><td>0.1077938              </td><td>0                      </td></tr>\n",
       "\t<tr><th scope=row>99</th><td>unet                   </td><td>patologic_comparacion_5</td><td>0.02834715             </td><td>0.02834715             </td><td>0.08031665             </td><td>0.9775373              </td><td>0.9777958              </td><td> 158898                </td><td>135525                 </td><td>0.1086638              </td><td>1                      </td></tr>\n",
       "\t<tr><th scope=row>100</th><td>ueff                   </td><td>comparacion_5          </td><td>0.06549440             </td><td>0.06485541             </td><td>0.16826117             </td><td>0.9466347              </td><td>0.9544976              </td><td> 221561                </td><td>128174                 </td><td>0.2331166              </td><td>0                      </td></tr>\n",
       "\t<tr><th scope=row>101</th><td>ueff                   </td><td>patologic_comparacion_5</td><td>0.06873203             </td><td>0.06873203             </td><td>0.17643671             </td><td>0.9456395              </td><td>0.9518631              </td><td> 423630                </td><td>288884                 </td><td>0.2451687              </td><td>1                      </td></tr>\n",
       "\t<tr><th scope=row>102</th><td>uloss                  </td><td>comparacion_5          </td><td>0.58084631             </td><td>0.18503523             </td><td>0.39514041             </td><td>0.8357841              </td><td>0.8452149              </td><td> 795441                </td><td>280764                 </td><td>0.5801756              </td><td>0                      </td></tr>\n",
       "\t<tr><th scope=row>103</th><td>uloss                  </td><td>patologic_comparacion_5</td><td>0.58662081             </td><td>0.18834653             </td><td>0.39827430             </td><td>0.8354173              </td><td>0.8475780              </td><td>1665067                </td><td>492151                 </td><td>0.5866208              </td><td>1                      </td></tr>\n",
       "</tbody>\n",
       "</table>\n"
      ],
      "text/latex": [
       "\\begin{tabular}{r|lllllllllll}\n",
       "  & type & name & loss & dice\\_coef\\_loss & loss\\_mask & accuracy & AUC & false\\_positives & false\\_negatives & doble\\_loss & patologic\\\\\n",
       "\\hline\n",
       "\t74 & unet                      & comparacion\\_1           & 0.02709979                & 0.02666120                & 0.07788648                & 0.9781804                 & 0.9783741                 &   71854                   &  71143                    & 0.1045477                 & 0                        \\\\\n",
       "\t75 & unet                        & patologic\\_comparacion\\_1 & 0.02885274                  & 0.02885274                  & 0.08441332                  & 0.9771884                   & 0.9765205                   &  127335                     & 171661                      & 0.1132661                   & 1                          \\\\\n",
       "\t76 & unet                      & comparacion\\_2           & 0.03135550                & 0.03084308                & 0.08686931                & 0.9747774                 & 0.9758544                 &   87972                   &  77327                    & 0.1177124                 & 0                        \\\\\n",
       "\t77 & unet                        & patologic\\_comparacion\\_2 & 0.02681444                  & 0.02681444                  & 0.08100066                  & 0.9788534                   & 0.9785685                   &  104918                     & 172255                      & 0.1078151                   & 1                          \\\\\n",
       "\t78 & unet                      & comparacion\\_3           & 0.02905915                & 0.02846964                & 0.08074459                & 0.9766310                 & 0.9767498                 &   77299                   &  75852                    & 0.1092142                 & 0                        \\\\\n",
       "\t79 & unet                        & patologic\\_comparacion\\_3 & 0.02840706                  & 0.02840706                  & 0.08287262                  & 0.9776584                   & 0.9761397                   &  100450                     & 192386                      & 0.1112797                   & 1                          \\\\\n",
       "\t80 & unet                      & comparacion\\_4           & 0.02980474                & 0.02920941                & 0.08019090                & 0.9759007                 & 0.9765351                 &   88364                   &  69573                    & 0.1094003                 & 0                        \\\\\n",
       "\t81 & unet                        & patologic\\_comparacion\\_4 & 0.02624369                  & 0.02624369                  & 0.07835174                  & 0.9792708                   & 0.9785639                   &  111964                     & 159738                      & 0.1045954                   & 1                          \\\\\n",
       "\t82 & ueff                      & comparacion\\_1           & 0.10190517                & 0.10084587                & 0.24520020                & 0.9245918                 & 0.9177814                 &   55572                   & 438623                    & 0.3460461                 & 0                        \\\\\n",
       "\t83 & ueff                        & patologic\\_comparacion\\_1 & 0.10541668                  & 0.10541668                  & 0.25161687                  & 0.9234881                   & 0.9145697                   &  125005                     & 877852                      & 0.3570335                   & 1                          \\\\\n",
       "\t84 & ueff                      & comparacion\\_2           & 0.07014037                & 0.06949191                & 0.18892501                & 0.9455613                 & 0.9473158                 &  109750                   & 247019                    & 0.2584169                 & 0                        \\\\\n",
       "\t85 & ueff                        & patologic\\_comparacion\\_2 & 0.07486033                  & 0.07486033                  & 0.19645669                  & 0.9433681                   & 0.9432626                   &  214976                     & 527310                      & 0.2713170                   & 1                          \\\\\n",
       "\t86 & ueff                      & comparacion\\_3           & 0.06153139                & 0.06083123                & 0.16252869                & 0.9507605                 & 0.9531450                 &  154177                   & 168519                    & 0.2233599                 & 0                        \\\\\n",
       "\t87 & ueff                        & patologic\\_comparacion\\_3 & 0.06440202                  & 0.06440202                  & 0.16880983                  & 0.9498286                   & 0.9504701                   &  287505                     & 370101                      & 0.2332119                   & 1                          \\\\\n",
       "\t88 & ueff                      & comparacion\\_4           & 0.07501576                & 0.07459033                & 0.19115841                & 0.9413829                 & 0.9441705                 &  144686                   & 239467                    & 0.2657487                 & 0                        \\\\\n",
       "\t89 & ueff                        & patologic\\_comparacion\\_4 & 0.08004761                  & 0.08004761                  & 0.20184937                  & 0.9392155                   & 0.9390711                   &  260567                     & 536148                      & 0.2818970                   & 1                          \\\\\n",
       "\t90 & uloss                     & comparacion\\_1           & 0.58317453                & 0.18418972                & 0.39777529                & 0.8352847                 & 0.8455539                 &  811661                   & 267817                    & 0.5819650                 & 0                        \\\\\n",
       "\t91 & uloss                       & patologic\\_comparacion\\_1 & 0.59522933                  & 0.18944885                  & 0.40578040                  & 0.8336635                   & 0.8465756                   & 1702247                     & 477959                      & 0.5952293                   & 1                          \\\\\n",
       "\t92 & uloss                     & comparacion\\_2           & 0.11331613                & 0.03055261                & 0.08228734                & 0.9750826                 & 0.9774389                 &   81522                   &  81777                    & 0.1128399                 & 0                        \\\\\n",
       "\t93 & uloss                       & patologic\\_comparacion\\_2 & 0.10917043                  & 0.02894442                  & 0.08022600                  & 0.9772023                   & 0.9785542                   &  112884                     & 185930                      & 0.1091704                   & 1                          \\\\\n",
       "\t94 & uloss                     & comparacion\\_3           & 0.11233511                & 0.03039266                & 0.08148517                & 0.9751616                 & 0.9774298                 &   83719                   &  79062                    & 0.1118778                 & 0                        \\\\\n",
       "\t95 & uloss                       & patologic\\_comparacion\\_3 & 0.10614333                  & 0.02896107                  & 0.07718225                  & 0.9772058                   & 0.9779772                   &  102447                     & 196322                      & 0.1061433                   & 1                          \\\\\n",
       "\t96 & uloss                     & comparacion\\_4           & 0.11122815                & 0.03042472                & 0.08033977                & 0.9750946                 & 0.9776433                 &   89173                   &  74047                    & 0.1107645                 & 0                        \\\\\n",
       "\t97 & uloss                       & patologic\\_comparacion\\_4 & 0.10759631                  & 0.02862119                  & 0.07897511                  & 0.9773118                   & 0.9789569                   &  129756                     & 167622                      & 0.1075963                   & 1                          \\\\\n",
       "\t98 & unet                      & comparacion\\_5           & 0.02902991                & 0.02859102                & 0.07920276                & 0.9764815                 & 0.9776422                 &   96393                   &  57738                    & 0.1077938                 & 0                        \\\\\n",
       "\t99 & unet                        & patologic\\_comparacion\\_5 & 0.02834715                  & 0.02834715                  & 0.08031665                  & 0.9775373                   & 0.9777958                   &  158898                     & 135525                      & 0.1086638                   & 1                          \\\\\n",
       "\t100 & ueff                      & comparacion\\_5           & 0.06549440                & 0.06485541                & 0.16826117                & 0.9466347                 & 0.9544976                 &  221561                   & 128174                    & 0.2331166                 & 0                        \\\\\n",
       "\t101 & ueff                        & patologic\\_comparacion\\_5 & 0.06873203                  & 0.06873203                  & 0.17643671                  & 0.9456395                   & 0.9518631                   &  423630                     & 288884                      & 0.2451687                   & 1                          \\\\\n",
       "\t102 & uloss                     & comparacion\\_5           & 0.58084631                & 0.18503523                & 0.39514041                & 0.8357841                 & 0.8452149                 &  795441                   & 280764                    & 0.5801756                 & 0                        \\\\\n",
       "\t103 & uloss                       & patologic\\_comparacion\\_5 & 0.58662081                  & 0.18834653                  & 0.39827430                  & 0.8354173                   & 0.8475780                   & 1665067                     & 492151                      & 0.5866208                   & 1                          \\\\\n",
       "\\end{tabular}\n"
      ],
      "text/markdown": [
       "\n",
       "| <!--/--> | type | name | loss | dice_coef_loss | loss_mask | accuracy | AUC | false_positives | false_negatives | doble_loss | patologic |\n",
       "|---|---|---|---|---|---|---|---|---|---|---|---|\n",
       "| 74 | unet                    | comparacion_1           | 0.02709979              | 0.02666120              | 0.07788648              | 0.9781804               | 0.9783741               |   71854                 |  71143                  | 0.1045477               | 0                       |\n",
       "| 75 | unet                    | patologic_comparacion_1 | 0.02885274              | 0.02885274              | 0.08441332              | 0.9771884               | 0.9765205               |  127335                 | 171661                  | 0.1132661               | 1                       |\n",
       "| 76 | unet                    | comparacion_2           | 0.03135550              | 0.03084308              | 0.08686931              | 0.9747774               | 0.9758544               |   87972                 |  77327                  | 0.1177124               | 0                       |\n",
       "| 77 | unet                    | patologic_comparacion_2 | 0.02681444              | 0.02681444              | 0.08100066              | 0.9788534               | 0.9785685               |  104918                 | 172255                  | 0.1078151               | 1                       |\n",
       "| 78 | unet                    | comparacion_3           | 0.02905915              | 0.02846964              | 0.08074459              | 0.9766310               | 0.9767498               |   77299                 |  75852                  | 0.1092142               | 0                       |\n",
       "| 79 | unet                    | patologic_comparacion_3 | 0.02840706              | 0.02840706              | 0.08287262              | 0.9776584               | 0.9761397               |  100450                 | 192386                  | 0.1112797               | 1                       |\n",
       "| 80 | unet                    | comparacion_4           | 0.02980474              | 0.02920941              | 0.08019090              | 0.9759007               | 0.9765351               |   88364                 |  69573                  | 0.1094003               | 0                       |\n",
       "| 81 | unet                    | patologic_comparacion_4 | 0.02624369              | 0.02624369              | 0.07835174              | 0.9792708               | 0.9785639               |  111964                 | 159738                  | 0.1045954               | 1                       |\n",
       "| 82 | ueff                    | comparacion_1           | 0.10190517              | 0.10084587              | 0.24520020              | 0.9245918               | 0.9177814               |   55572                 | 438623                  | 0.3460461               | 0                       |\n",
       "| 83 | ueff                    | patologic_comparacion_1 | 0.10541668              | 0.10541668              | 0.25161687              | 0.9234881               | 0.9145697               |  125005                 | 877852                  | 0.3570335               | 1                       |\n",
       "| 84 | ueff                    | comparacion_2           | 0.07014037              | 0.06949191              | 0.18892501              | 0.9455613               | 0.9473158               |  109750                 | 247019                  | 0.2584169               | 0                       |\n",
       "| 85 | ueff                    | patologic_comparacion_2 | 0.07486033              | 0.07486033              | 0.19645669              | 0.9433681               | 0.9432626               |  214976                 | 527310                  | 0.2713170               | 1                       |\n",
       "| 86 | ueff                    | comparacion_3           | 0.06153139              | 0.06083123              | 0.16252869              | 0.9507605               | 0.9531450               |  154177                 | 168519                  | 0.2233599               | 0                       |\n",
       "| 87 | ueff                    | patologic_comparacion_3 | 0.06440202              | 0.06440202              | 0.16880983              | 0.9498286               | 0.9504701               |  287505                 | 370101                  | 0.2332119               | 1                       |\n",
       "| 88 | ueff                    | comparacion_4           | 0.07501576              | 0.07459033              | 0.19115841              | 0.9413829               | 0.9441705               |  144686                 | 239467                  | 0.2657487               | 0                       |\n",
       "| 89 | ueff                    | patologic_comparacion_4 | 0.08004761              | 0.08004761              | 0.20184937              | 0.9392155               | 0.9390711               |  260567                 | 536148                  | 0.2818970               | 1                       |\n",
       "| 90 | uloss                   | comparacion_1           | 0.58317453              | 0.18418972              | 0.39777529              | 0.8352847               | 0.8455539               |  811661                 | 267817                  | 0.5819650               | 0                       |\n",
       "| 91 | uloss                   | patologic_comparacion_1 | 0.59522933              | 0.18944885              | 0.40578040              | 0.8336635               | 0.8465756               | 1702247                 | 477959                  | 0.5952293               | 1                       |\n",
       "| 92 | uloss                   | comparacion_2           | 0.11331613              | 0.03055261              | 0.08228734              | 0.9750826               | 0.9774389               |   81522                 |  81777                  | 0.1128399               | 0                       |\n",
       "| 93 | uloss                   | patologic_comparacion_2 | 0.10917043              | 0.02894442              | 0.08022600              | 0.9772023               | 0.9785542               |  112884                 | 185930                  | 0.1091704               | 1                       |\n",
       "| 94 | uloss                   | comparacion_3           | 0.11233511              | 0.03039266              | 0.08148517              | 0.9751616               | 0.9774298               |   83719                 |  79062                  | 0.1118778               | 0                       |\n",
       "| 95 | uloss                   | patologic_comparacion_3 | 0.10614333              | 0.02896107              | 0.07718225              | 0.9772058               | 0.9779772               |  102447                 | 196322                  | 0.1061433               | 1                       |\n",
       "| 96 | uloss                   | comparacion_4           | 0.11122815              | 0.03042472              | 0.08033977              | 0.9750946               | 0.9776433               |   89173                 |  74047                  | 0.1107645               | 0                       |\n",
       "| 97 | uloss                   | patologic_comparacion_4 | 0.10759631              | 0.02862119              | 0.07897511              | 0.9773118               | 0.9789569               |  129756                 | 167622                  | 0.1075963               | 1                       |\n",
       "| 98 | unet                    | comparacion_5           | 0.02902991              | 0.02859102              | 0.07920276              | 0.9764815               | 0.9776422               |   96393                 |  57738                  | 0.1077938               | 0                       |\n",
       "| 99 | unet                    | patologic_comparacion_5 | 0.02834715              | 0.02834715              | 0.08031665              | 0.9775373               | 0.9777958               |  158898                 | 135525                  | 0.1086638               | 1                       |\n",
       "| 100 | ueff                    | comparacion_5           | 0.06549440              | 0.06485541              | 0.16826117              | 0.9466347               | 0.9544976               |  221561                 | 128174                  | 0.2331166               | 0                       |\n",
       "| 101 | ueff                    | patologic_comparacion_5 | 0.06873203              | 0.06873203              | 0.17643671              | 0.9456395               | 0.9518631               |  423630                 | 288884                  | 0.2451687               | 1                       |\n",
       "| 102 | uloss                   | comparacion_5           | 0.58084631              | 0.18503523              | 0.39514041              | 0.8357841               | 0.8452149               |  795441                 | 280764                  | 0.5801756               | 0                       |\n",
       "| 103 | uloss                   | patologic_comparacion_5 | 0.58662081              | 0.18834653              | 0.39827430              | 0.8354173               | 0.8475780               | 1665067                 | 492151                  | 0.5866208               | 1                       |\n",
       "\n"
      ],
      "text/plain": [
       "    type  name                    loss       dice_coef_loss loss_mask \n",
       "74  unet  comparacion_1           0.02709979 0.02666120     0.07788648\n",
       "75  unet  patologic_comparacion_1 0.02885274 0.02885274     0.08441332\n",
       "76  unet  comparacion_2           0.03135550 0.03084308     0.08686931\n",
       "77  unet  patologic_comparacion_2 0.02681444 0.02681444     0.08100066\n",
       "78  unet  comparacion_3           0.02905915 0.02846964     0.08074459\n",
       "79  unet  patologic_comparacion_3 0.02840706 0.02840706     0.08287262\n",
       "80  unet  comparacion_4           0.02980474 0.02920941     0.08019090\n",
       "81  unet  patologic_comparacion_4 0.02624369 0.02624369     0.07835174\n",
       "82  ueff  comparacion_1           0.10190517 0.10084587     0.24520020\n",
       "83  ueff  patologic_comparacion_1 0.10541668 0.10541668     0.25161687\n",
       "84  ueff  comparacion_2           0.07014037 0.06949191     0.18892501\n",
       "85  ueff  patologic_comparacion_2 0.07486033 0.07486033     0.19645669\n",
       "86  ueff  comparacion_3           0.06153139 0.06083123     0.16252869\n",
       "87  ueff  patologic_comparacion_3 0.06440202 0.06440202     0.16880983\n",
       "88  ueff  comparacion_4           0.07501576 0.07459033     0.19115841\n",
       "89  ueff  patologic_comparacion_4 0.08004761 0.08004761     0.20184937\n",
       "90  uloss comparacion_1           0.58317453 0.18418972     0.39777529\n",
       "91  uloss patologic_comparacion_1 0.59522933 0.18944885     0.40578040\n",
       "92  uloss comparacion_2           0.11331613 0.03055261     0.08228734\n",
       "93  uloss patologic_comparacion_2 0.10917043 0.02894442     0.08022600\n",
       "94  uloss comparacion_3           0.11233511 0.03039266     0.08148517\n",
       "95  uloss patologic_comparacion_3 0.10614333 0.02896107     0.07718225\n",
       "96  uloss comparacion_4           0.11122815 0.03042472     0.08033977\n",
       "97  uloss patologic_comparacion_4 0.10759631 0.02862119     0.07897511\n",
       "98  unet  comparacion_5           0.02902991 0.02859102     0.07920276\n",
       "99  unet  patologic_comparacion_5 0.02834715 0.02834715     0.08031665\n",
       "100 ueff  comparacion_5           0.06549440 0.06485541     0.16826117\n",
       "101 ueff  patologic_comparacion_5 0.06873203 0.06873203     0.17643671\n",
       "102 uloss comparacion_5           0.58084631 0.18503523     0.39514041\n",
       "103 uloss patologic_comparacion_5 0.58662081 0.18834653     0.39827430\n",
       "    accuracy  AUC       false_positives false_negatives doble_loss patologic\n",
       "74  0.9781804 0.9783741   71854          71143          0.1045477  0        \n",
       "75  0.9771884 0.9765205  127335         171661          0.1132661  1        \n",
       "76  0.9747774 0.9758544   87972          77327          0.1177124  0        \n",
       "77  0.9788534 0.9785685  104918         172255          0.1078151  1        \n",
       "78  0.9766310 0.9767498   77299          75852          0.1092142  0        \n",
       "79  0.9776584 0.9761397  100450         192386          0.1112797  1        \n",
       "80  0.9759007 0.9765351   88364          69573          0.1094003  0        \n",
       "81  0.9792708 0.9785639  111964         159738          0.1045954  1        \n",
       "82  0.9245918 0.9177814   55572         438623          0.3460461  0        \n",
       "83  0.9234881 0.9145697  125005         877852          0.3570335  1        \n",
       "84  0.9455613 0.9473158  109750         247019          0.2584169  0        \n",
       "85  0.9433681 0.9432626  214976         527310          0.2713170  1        \n",
       "86  0.9507605 0.9531450  154177         168519          0.2233599  0        \n",
       "87  0.9498286 0.9504701  287505         370101          0.2332119  1        \n",
       "88  0.9413829 0.9441705  144686         239467          0.2657487  0        \n",
       "89  0.9392155 0.9390711  260567         536148          0.2818970  1        \n",
       "90  0.8352847 0.8455539  811661         267817          0.5819650  0        \n",
       "91  0.8336635 0.8465756 1702247         477959          0.5952293  1        \n",
       "92  0.9750826 0.9774389   81522          81777          0.1128399  0        \n",
       "93  0.9772023 0.9785542  112884         185930          0.1091704  1        \n",
       "94  0.9751616 0.9774298   83719          79062          0.1118778  0        \n",
       "95  0.9772058 0.9779772  102447         196322          0.1061433  1        \n",
       "96  0.9750946 0.9776433   89173          74047          0.1107645  0        \n",
       "97  0.9773118 0.9789569  129756         167622          0.1075963  1        \n",
       "98  0.9764815 0.9776422   96393          57738          0.1077938  0        \n",
       "99  0.9775373 0.9777958  158898         135525          0.1086638  1        \n",
       "100 0.9466347 0.9544976  221561         128174          0.2331166  0        \n",
       "101 0.9456395 0.9518631  423630         288884          0.2451687  1        \n",
       "102 0.8357841 0.8452149  795441         280764          0.5801756  0        \n",
       "103 0.8354173 0.8475780 1665067         492151          0.5866208  1        "
      ]
     },
     "metadata": {},
     "output_type": "display_data"
    }
   ],
   "source": [
    "df"
   ]
  },
  {
   "cell_type": "code",
   "execution_count": 21,
   "id": "dad71c9a-a1d0-4767-8464-e8d4488ce471",
   "metadata": {},
   "outputs": [],
   "source": [
    "cols = c('dice_coef_loss', 'loss_mask', 'accuracy',\n",
    "       'AUC', 'false_positives', 'false_negatives', 'doble_loss')"
   ]
  },
  {
   "cell_type": "code",
   "execution_count": 22,
   "id": "43eb6949-864b-4a2d-be98-82499f3f5f8c",
   "metadata": {},
   "outputs": [
    {
     "name": "stdout",
     "output_type": "stream",
     "text": [
      "[1] \"dice_coef_loss\"\n",
      "\n",
      "\tLilliefors (Kolmogorov-Smirnov) normality test\n",
      "\n",
      "data:  df[, col]\n",
      "D = 0.27517, p-value = 3.46e-06\n",
      "\n",
      "[1] \"loss_mask\"\n",
      "\n",
      "\tLilliefors (Kolmogorov-Smirnov) normality test\n",
      "\n",
      "data:  df[, col]\n",
      "D = 0.28431, p-value = 1.25e-06\n",
      "\n",
      "[1] \"accuracy\"\n",
      "\n",
      "\tLilliefors (Kolmogorov-Smirnov) normality test\n",
      "\n",
      "data:  df[, col]\n",
      "D = 0.26075, p-value = 1.596e-05\n",
      "\n",
      "[1] \"AUC\"\n",
      "\n",
      "\tLilliefors (Kolmogorov-Smirnov) normality test\n",
      "\n",
      "data:  df[, col]\n",
      "D = 0.26681, p-value = 8.494e-06\n",
      "\n",
      "[1] \"false_positives\"\n",
      "\n",
      "\tLilliefors (Kolmogorov-Smirnov) normality test\n",
      "\n",
      "data:  df[, col]\n",
      "D = 0.33244, p-value = 3.103e-09\n",
      "\n",
      "[1] \"false_negatives\"\n",
      "\n",
      "\tLilliefors (Kolmogorov-Smirnov) normality test\n",
      "\n",
      "data:  df[, col]\n",
      "D = 0.19875, p-value = 0.003852\n",
      "\n",
      "[1] \"doble_loss\"\n",
      "\n",
      "\tLilliefors (Kolmogorov-Smirnov) normality test\n",
      "\n",
      "data:  df[, col]\n",
      "D = 0.28149, p-value = 1.718e-06\n",
      "\n"
     ]
    }
   ],
   "source": [
    "library('nortest')\n",
    "for(col in cols){\n",
    "    print(col)\n",
    "    print(lillie.test(df[,col]))\n",
    "}"
   ]
  },
  {
   "cell_type": "code",
   "execution_count": 231,
   "id": "fcf9978b-f479-4ba1-a4ee-f7ee2a978c13",
   "metadata": {},
   "outputs": [],
   "source": [
    "df_normal <- df[which(df$patologic==1),]\n",
    "df_pato <- df[which(df$patologic==0),]"
   ]
  },
  {
   "cell_type": "code",
   "execution_count": 289,
   "id": "c0c778ce-52f0-4655-834e-88120a874166",
   "metadata": {},
   "outputs": [],
   "source": [
    "matriz <- matrix(nrow = 6, ncol = length(cols)+2)"
   ]
  },
  {
   "cell_type": "code",
   "execution_count": 290,
   "id": "f72b5f0d-6e7c-4e78-860f-f4402de5ba11",
   "metadata": {},
   "outputs": [],
   "source": [
    "i <- 0\n",
    "for(x in 0:1){\n",
    "    dd <- df[which(df$patologic==x),]\n",
    "    for(y in 1:3){\n",
    "        i <- i+1\n",
    "        matriz[i,2] <- x\n",
    "        model <- as.character(unique(dd$type)[y])\n",
    "        d <- dd[which(dd$type == model),]\n",
    "        matriz[i,1] <- model\n",
    "        for(j in 1:length(cols)){\n",
    "            col <- cols[j]\n",
    "            m <- round(median(as.numeric(d[,col])),3)\n",
    "            w <- wilcox.test(as.numeric(d[,col]), conf.int = TRUE, conf.level=0.95,alternative=\"two.sided\",correct=TRUE)\n",
    "            matriz[i,j+2] <- paste0(m, ' (', round(w$conf.int[1],3), '; ', round(w$conf.int[2],3), ')')\n",
    "            }\n",
    "        }\n",
    "    }"
   ]
  },
  {
   "cell_type": "code",
   "execution_count": 291,
   "id": "6df7e2a3-2b1e-4dc0-ad1c-e5908f35be6c",
   "metadata": {},
   "outputs": [],
   "source": [
    "matriz_ <- as.data.frame(matriz)\n",
    "colnames(matriz_) <- c('model', 'validation', cols)"
   ]
  },
  {
   "cell_type": "code",
   "execution_count": 320,
   "id": "cb832a15-9c3c-4b5b-b6b9-0343c291fcf3",
   "metadata": {},
   "outputs": [
    {
     "data": {
      "text/html": [
       "<table>\n",
       "<thead><tr><th scope=col>model</th><th scope=col>validation</th><th scope=col>dice_coef_loss</th><th scope=col>loss_mask</th><th scope=col>accuracy</th><th scope=col>AUC</th><th scope=col>false_positives</th><th scope=col>false_negatives</th><th scope=col>doble_loss</th></tr></thead>\n",
       "<tbody>\n",
       "\t<tr><td>unet                    </td><td>0                       </td><td>0.029 (0.027; 0.031)    </td><td>0.08 (0.078; 0.087)     </td><td>0.976 (0.975; 0.978)    </td><td>0.977 (0.976; 0.978)    </td><td>87972 (71854; 96393)    </td><td>71143 (57738; 77327)    </td><td>0.109 (0.105; 0.118)    </td></tr>\n",
       "\t<tr><td>ueff                    </td><td>0                       </td><td>0.069 (0.061; 0.101)    </td><td>0.189 (0.163; 0.245)    </td><td>0.946 (0.925; 0.951)    </td><td>0.947 (0.918; 0.954)    </td><td>144686 (55572; 221561)  </td><td>239467 (128174; 438623) </td><td>0.258 (0.223; 0.346)    </td></tr>\n",
       "\t<tr><td>uloss                   </td><td>0                       </td><td>0.031 (0.03; 0.185)     </td><td>0.082 (0.08; 0.398)     </td><td>0.975 (0.835; 0.975)    </td><td>0.977 (0.845; 0.978)    </td><td>89173 (81522; 811661)   </td><td>81777 (74047; 280764)   </td><td>0.113 (0.111; 0.582)    </td></tr>\n",
       "\t<tr><td>unet                    </td><td>1                       </td><td>0.028 (0.026; 0.029)    </td><td>0.081 (0.078; 0.084)    </td><td>0.978 (0.977; 0.979)    </td><td>0.978 (0.976; 0.979)    </td><td>111964 (100450; 158898) </td><td>171661 (135525; 192386) </td><td>0.109 (0.105; 0.113)    </td></tr>\n",
       "\t<tr><td>ueff                    </td><td>1                       </td><td>0.075 (0.064; 0.105)    </td><td>0.196 (0.169; 0.252)    </td><td>0.943 (0.923; 0.95)     </td><td>0.943 (0.915; 0.952)    </td><td>260567 (125005; 423630) </td><td>527310 (288884; 877852) </td><td>0.271 (0.233; 0.357)    </td></tr>\n",
       "\t<tr><td>uloss                   </td><td>1                       </td><td>0.029 (0.029; 0.189)    </td><td>0.08 (0.077; 0.406)     </td><td>0.977 (0.834; 0.977)    </td><td>0.978 (0.847; 0.979)    </td><td>129756 (102447; 1702247)</td><td>196322 (167622; 492151) </td><td>0.109 (0.106; 0.595)    </td></tr>\n",
       "</tbody>\n",
       "</table>\n"
      ],
      "text/latex": [
       "\\begin{tabular}{r|lllllllll}\n",
       " model & validation & dice\\_coef\\_loss & loss\\_mask & accuracy & AUC & false\\_positives & false\\_negatives & doble\\_loss\\\\\n",
       "\\hline\n",
       "\t unet                     & 0                        & 0.029 (0.027; 0.031)     & 0.08 (0.078; 0.087)      & 0.976 (0.975; 0.978)     & 0.977 (0.976; 0.978)     & 87972 (71854; 96393)     & 71143 (57738; 77327)     & 0.109 (0.105; 0.118)    \\\\\n",
       "\t ueff                     & 0                        & 0.069 (0.061; 0.101)     & 0.189 (0.163; 0.245)     & 0.946 (0.925; 0.951)     & 0.947 (0.918; 0.954)     & 144686 (55572; 221561)   & 239467 (128174; 438623)  & 0.258 (0.223; 0.346)    \\\\\n",
       "\t uloss                    & 0                        & 0.031 (0.03; 0.185)      & 0.082 (0.08; 0.398)      & 0.975 (0.835; 0.975)     & 0.977 (0.845; 0.978)     & 89173 (81522; 811661)    & 81777 (74047; 280764)    & 0.113 (0.111; 0.582)    \\\\\n",
       "\t unet                     & 1                        & 0.028 (0.026; 0.029)     & 0.081 (0.078; 0.084)     & 0.978 (0.977; 0.979)     & 0.978 (0.976; 0.979)     & 111964 (100450; 158898)  & 171661 (135525; 192386)  & 0.109 (0.105; 0.113)    \\\\\n",
       "\t ueff                     & 1                        & 0.075 (0.064; 0.105)     & 0.196 (0.169; 0.252)     & 0.943 (0.923; 0.95)      & 0.943 (0.915; 0.952)     & 260567 (125005; 423630)  & 527310 (288884; 877852)  & 0.271 (0.233; 0.357)    \\\\\n",
       "\t uloss                    & 1                        & 0.029 (0.029; 0.189)     & 0.08 (0.077; 0.406)      & 0.977 (0.834; 0.977)     & 0.978 (0.847; 0.979)     & 129756 (102447; 1702247) & 196322 (167622; 492151)  & 0.109 (0.106; 0.595)    \\\\\n",
       "\\end{tabular}\n"
      ],
      "text/markdown": [
       "\n",
       "| model | validation | dice_coef_loss | loss_mask | accuracy | AUC | false_positives | false_negatives | doble_loss |\n",
       "|---|---|---|---|---|---|---|---|---|\n",
       "| unet                     | 0                        | 0.029 (0.027; 0.031)     | 0.08 (0.078; 0.087)      | 0.976 (0.975; 0.978)     | 0.977 (0.976; 0.978)     | 87972 (71854; 96393)     | 71143 (57738; 77327)     | 0.109 (0.105; 0.118)     |\n",
       "| ueff                     | 0                        | 0.069 (0.061; 0.101)     | 0.189 (0.163; 0.245)     | 0.946 (0.925; 0.951)     | 0.947 (0.918; 0.954)     | 144686 (55572; 221561)   | 239467 (128174; 438623)  | 0.258 (0.223; 0.346)     |\n",
       "| uloss                    | 0                        | 0.031 (0.03; 0.185)      | 0.082 (0.08; 0.398)      | 0.975 (0.835; 0.975)     | 0.977 (0.845; 0.978)     | 89173 (81522; 811661)    | 81777 (74047; 280764)    | 0.113 (0.111; 0.582)     |\n",
       "| unet                     | 1                        | 0.028 (0.026; 0.029)     | 0.081 (0.078; 0.084)     | 0.978 (0.977; 0.979)     | 0.978 (0.976; 0.979)     | 111964 (100450; 158898)  | 171661 (135525; 192386)  | 0.109 (0.105; 0.113)     |\n",
       "| ueff                     | 1                        | 0.075 (0.064; 0.105)     | 0.196 (0.169; 0.252)     | 0.943 (0.923; 0.95)      | 0.943 (0.915; 0.952)     | 260567 (125005; 423630)  | 527310 (288884; 877852)  | 0.271 (0.233; 0.357)     |\n",
       "| uloss                    | 1                        | 0.029 (0.029; 0.189)     | 0.08 (0.077; 0.406)      | 0.977 (0.834; 0.977)     | 0.978 (0.847; 0.979)     | 129756 (102447; 1702247) | 196322 (167622; 492151)  | 0.109 (0.106; 0.595)     |\n",
       "\n"
      ],
      "text/plain": [
       "  model validation dice_coef_loss       loss_mask           \n",
       "1 unet  0          0.029 (0.027; 0.031) 0.08 (0.078; 0.087) \n",
       "2 ueff  0          0.069 (0.061; 0.101) 0.189 (0.163; 0.245)\n",
       "3 uloss 0          0.031 (0.03; 0.185)  0.082 (0.08; 0.398) \n",
       "4 unet  1          0.028 (0.026; 0.029) 0.081 (0.078; 0.084)\n",
       "5 ueff  1          0.075 (0.064; 0.105) 0.196 (0.169; 0.252)\n",
       "6 uloss 1          0.029 (0.029; 0.189) 0.08 (0.077; 0.406) \n",
       "  accuracy             AUC                  false_positives         \n",
       "1 0.976 (0.975; 0.978) 0.977 (0.976; 0.978) 87972 (71854; 96393)    \n",
       "2 0.946 (0.925; 0.951) 0.947 (0.918; 0.954) 144686 (55572; 221561)  \n",
       "3 0.975 (0.835; 0.975) 0.977 (0.845; 0.978) 89173 (81522; 811661)   \n",
       "4 0.978 (0.977; 0.979) 0.978 (0.976; 0.979) 111964 (100450; 158898) \n",
       "5 0.943 (0.923; 0.95)  0.943 (0.915; 0.952) 260567 (125005; 423630) \n",
       "6 0.977 (0.834; 0.977) 0.978 (0.847; 0.979) 129756 (102447; 1702247)\n",
       "  false_negatives         doble_loss          \n",
       "1 71143 (57738; 77327)    0.109 (0.105; 0.118)\n",
       "2 239467 (128174; 438623) 0.258 (0.223; 0.346)\n",
       "3 81777 (74047; 280764)   0.113 (0.111; 0.582)\n",
       "4 171661 (135525; 192386) 0.109 (0.105; 0.113)\n",
       "5 527310 (288884; 877852) 0.271 (0.233; 0.357)\n",
       "6 196322 (167622; 492151) 0.109 (0.106; 0.595)"
      ]
     },
     "metadata": {},
     "output_type": "display_data"
    }
   ],
   "source": [
    "matriz_"
   ]
  },
  {
   "cell_type": "code",
   "execution_count": 321,
   "id": "0bb6999f-1f70-40ab-b8c5-1810b3355599",
   "metadata": {},
   "outputs": [],
   "source": [
    "matriz <- matrix(nrow = 3, ncol = length(cols)+2)"
   ]
  },
  {
   "cell_type": "code",
   "execution_count": 322,
   "id": "6cd5360d-a6c1-4b7b-a816-88de95480def",
   "metadata": {},
   "outputs": [],
   "source": [
    "matriz[,2] <- 'all'\n",
    "for(i in 1:3){\n",
    "    model <- as.character(unique(df$type)[i])\n",
    "    d <- df[which(df$type == model),]\n",
    "    matriz[i,1] <- model\n",
    "    for(j in 1:length(cols)){\n",
    "        col <- cols[j]\n",
    "        m <- round(median(as.numeric(d[,col])),3)\n",
    "        w <- wilcox.test(as.numeric(d[,col]), conf.int = TRUE, conf.level=0.95,alternative=\"two.sided\",correct=TRUE)\n",
    "        matriz[i,j+2] <- paste0(m, ' (', round(w$conf.int[1],3), '; ', round(w$conf.int[2],3), ')')\n",
    "        }\n",
    "    }"
   ]
  },
  {
   "cell_type": "code",
   "execution_count": 323,
   "id": "b9fe3a7d-2a0f-4977-aa3b-ada901be8765",
   "metadata": {},
   "outputs": [],
   "source": [
    "matriz_t <- as.data.frame(matriz)\n",
    "colnames(matriz_t) <- c('model', 'validation', cols)"
   ]
  },
  {
   "cell_type": "code",
   "execution_count": 331,
   "id": "442144c3-9965-43dd-9be2-192e435b6aa4",
   "metadata": {},
   "outputs": [],
   "source": [
    "diferencias <- as.data.frame(rbind(matriz_t, matriz_))\n",
    "diferencias$validation <- as.character(diferencias$validation)"
   ]
  },
  {
   "cell_type": "code",
   "execution_count": 332,
   "id": "4be51fee-f449-4942-b887-3a8c3cfd743c",
   "metadata": {},
   "outputs": [],
   "source": [
    "diferencias$validation[which(diferencias$validation == '1')] <- 'patologic'\n",
    "diferencias$validation[which(diferencias$validation == '0')] <- 'normal'"
   ]
  },
  {
   "cell_type": "code",
   "execution_count": 334,
   "id": "5a0b9143-bb6f-44aa-9a76-fa80a55d010b",
   "metadata": {},
   "outputs": [
    {
     "data": {
      "text/html": [
       "<table>\n",
       "<thead><tr><th scope=col>model</th><th scope=col>validation</th><th scope=col>dice_coef_loss</th><th scope=col>loss_mask</th><th scope=col>accuracy</th><th scope=col>AUC</th><th scope=col>false_positives</th><th scope=col>false_negatives</th><th scope=col>doble_loss</th></tr></thead>\n",
       "<tbody>\n",
       "\t<tr><td>unet                       </td><td>all                        </td><td>0.028 (0.027; 0.029)       </td><td>0.081 (0.079; 0.084)       </td><td>0.977 (0.976; 0.978)       </td><td>0.977 (0.976; 0.978)       </td><td>98421.5 (86152; 123435)    </td><td>106426 (72712.5; 165699.5) </td><td>0.109 (0.107; 0.113)       </td></tr>\n",
       "\t<tr><td>ueff                       </td><td>all                        </td><td>0.072 (0.067; 0.088)       </td><td>0.19 (0.173; 0.22)         </td><td>0.944 (0.934; 0.948)       </td><td>0.946 (0.931; 0.951)       </td><td>184576.5 (127218; 274317.5)</td><td>329492.5 (228701.5; 536148)</td><td>0.262 (0.239; 0.308)       </td></tr>\n",
       "\t<tr><td>uloss                      </td><td>all                        </td><td>0.03 (0.03; 0.185)         </td><td>0.082 (0.08; 0.396)        </td><td>0.975 (0.836; 0.976)       </td><td>0.977 (0.847; 0.978)       </td><td>121320 (95810; 907565.5)   </td><td>191126 (124699.5; 339040.5)</td><td>0.112 (0.109; 0.581)       </td></tr>\n",
       "\t<tr><td>unet                       </td><td>normal                     </td><td>0.029 (0.027; 0.031)       </td><td>0.08 (0.078; 0.087)        </td><td>0.976 (0.975; 0.978)       </td><td>0.977 (0.976; 0.978)       </td><td>87972 (71854; 96393)       </td><td>71143 (57738; 77327)       </td><td>0.109 (0.105; 0.118)       </td></tr>\n",
       "\t<tr><td>ueff                       </td><td>normal                     </td><td>0.069 (0.061; 0.101)       </td><td>0.189 (0.163; 0.245)       </td><td>0.946 (0.925; 0.951)       </td><td>0.947 (0.918; 0.954)       </td><td>144686 (55572; 221561)     </td><td>239467 (128174; 438623)    </td><td>0.258 (0.223; 0.346)       </td></tr>\n",
       "\t<tr><td>uloss                      </td><td>normal                     </td><td>0.031 (0.03; 0.185)        </td><td>0.082 (0.08; 0.398)        </td><td>0.975 (0.835; 0.975)       </td><td>0.977 (0.845; 0.978)       </td><td>89173 (81522; 811661)      </td><td>81777 (74047; 280764)      </td><td>0.113 (0.111; 0.582)       </td></tr>\n",
       "\t<tr><td>unet                       </td><td>patologic                  </td><td>0.028 (0.026; 0.029)       </td><td>0.081 (0.078; 0.084)       </td><td>0.978 (0.977; 0.979)       </td><td>0.978 (0.976; 0.979)       </td><td>111964 (100450; 158898)    </td><td>171661 (135525; 192386)    </td><td>0.109 (0.105; 0.113)       </td></tr>\n",
       "\t<tr><td>ueff                       </td><td>patologic                  </td><td>0.075 (0.064; 0.105)       </td><td>0.196 (0.169; 0.252)       </td><td>0.943 (0.923; 0.95)        </td><td>0.943 (0.915; 0.952)       </td><td>260567 (125005; 423630)    </td><td>527310 (288884; 877852)    </td><td>0.271 (0.233; 0.357)       </td></tr>\n",
       "\t<tr><td>uloss                      </td><td>patologic                  </td><td>0.029 (0.029; 0.189)       </td><td>0.08 (0.077; 0.406)        </td><td>0.977 (0.834; 0.977)       </td><td>0.978 (0.847; 0.979)       </td><td>129756 (102447; 1702247)   </td><td>196322 (167622; 492151)    </td><td>0.109 (0.106; 0.595)       </td></tr>\n",
       "</tbody>\n",
       "</table>\n"
      ],
      "text/latex": [
       "\\begin{tabular}{r|lllllllll}\n",
       " model & validation & dice\\_coef\\_loss & loss\\_mask & accuracy & AUC & false\\_positives & false\\_negatives & doble\\_loss\\\\\n",
       "\\hline\n",
       "\t unet                        & all                         & 0.028 (0.027; 0.029)        & 0.081 (0.079; 0.084)        & 0.977 (0.976; 0.978)        & 0.977 (0.976; 0.978)        & 98421.5 (86152; 123435)     & 106426 (72712.5; 165699.5)  & 0.109 (0.107; 0.113)       \\\\\n",
       "\t ueff                        & all                         & 0.072 (0.067; 0.088)        & 0.19 (0.173; 0.22)          & 0.944 (0.934; 0.948)        & 0.946 (0.931; 0.951)        & 184576.5 (127218; 274317.5) & 329492.5 (228701.5; 536148) & 0.262 (0.239; 0.308)       \\\\\n",
       "\t uloss                       & all                         & 0.03 (0.03; 0.185)          & 0.082 (0.08; 0.396)         & 0.975 (0.836; 0.976)        & 0.977 (0.847; 0.978)        & 121320 (95810; 907565.5)    & 191126 (124699.5; 339040.5) & 0.112 (0.109; 0.581)       \\\\\n",
       "\t unet                        & normal                      & 0.029 (0.027; 0.031)        & 0.08 (0.078; 0.087)         & 0.976 (0.975; 0.978)        & 0.977 (0.976; 0.978)        & 87972 (71854; 96393)        & 71143 (57738; 77327)        & 0.109 (0.105; 0.118)       \\\\\n",
       "\t ueff                        & normal                      & 0.069 (0.061; 0.101)        & 0.189 (0.163; 0.245)        & 0.946 (0.925; 0.951)        & 0.947 (0.918; 0.954)        & 144686 (55572; 221561)      & 239467 (128174; 438623)     & 0.258 (0.223; 0.346)       \\\\\n",
       "\t uloss                       & normal                      & 0.031 (0.03; 0.185)         & 0.082 (0.08; 0.398)         & 0.975 (0.835; 0.975)        & 0.977 (0.845; 0.978)        & 89173 (81522; 811661)       & 81777 (74047; 280764)       & 0.113 (0.111; 0.582)       \\\\\n",
       "\t unet                        & patologic                   & 0.028 (0.026; 0.029)        & 0.081 (0.078; 0.084)        & 0.978 (0.977; 0.979)        & 0.978 (0.976; 0.979)        & 111964 (100450; 158898)     & 171661 (135525; 192386)     & 0.109 (0.105; 0.113)       \\\\\n",
       "\t ueff                        & patologic                   & 0.075 (0.064; 0.105)        & 0.196 (0.169; 0.252)        & 0.943 (0.923; 0.95)         & 0.943 (0.915; 0.952)        & 260567 (125005; 423630)     & 527310 (288884; 877852)     & 0.271 (0.233; 0.357)       \\\\\n",
       "\t uloss                       & patologic                   & 0.029 (0.029; 0.189)        & 0.08 (0.077; 0.406)         & 0.977 (0.834; 0.977)        & 0.978 (0.847; 0.979)        & 129756 (102447; 1702247)    & 196322 (167622; 492151)     & 0.109 (0.106; 0.595)       \\\\\n",
       "\\end{tabular}\n"
      ],
      "text/markdown": [
       "\n",
       "| model | validation | dice_coef_loss | loss_mask | accuracy | AUC | false_positives | false_negatives | doble_loss |\n",
       "|---|---|---|---|---|---|---|---|---|\n",
       "| unet                        | all                         | 0.028 (0.027; 0.029)        | 0.081 (0.079; 0.084)        | 0.977 (0.976; 0.978)        | 0.977 (0.976; 0.978)        | 98421.5 (86152; 123435)     | 106426 (72712.5; 165699.5)  | 0.109 (0.107; 0.113)        |\n",
       "| ueff                        | all                         | 0.072 (0.067; 0.088)        | 0.19 (0.173; 0.22)          | 0.944 (0.934; 0.948)        | 0.946 (0.931; 0.951)        | 184576.5 (127218; 274317.5) | 329492.5 (228701.5; 536148) | 0.262 (0.239; 0.308)        |\n",
       "| uloss                       | all                         | 0.03 (0.03; 0.185)          | 0.082 (0.08; 0.396)         | 0.975 (0.836; 0.976)        | 0.977 (0.847; 0.978)        | 121320 (95810; 907565.5)    | 191126 (124699.5; 339040.5) | 0.112 (0.109; 0.581)        |\n",
       "| unet                        | normal                      | 0.029 (0.027; 0.031)        | 0.08 (0.078; 0.087)         | 0.976 (0.975; 0.978)        | 0.977 (0.976; 0.978)        | 87972 (71854; 96393)        | 71143 (57738; 77327)        | 0.109 (0.105; 0.118)        |\n",
       "| ueff                        | normal                      | 0.069 (0.061; 0.101)        | 0.189 (0.163; 0.245)        | 0.946 (0.925; 0.951)        | 0.947 (0.918; 0.954)        | 144686 (55572; 221561)      | 239467 (128174; 438623)     | 0.258 (0.223; 0.346)        |\n",
       "| uloss                       | normal                      | 0.031 (0.03; 0.185)         | 0.082 (0.08; 0.398)         | 0.975 (0.835; 0.975)        | 0.977 (0.845; 0.978)        | 89173 (81522; 811661)       | 81777 (74047; 280764)       | 0.113 (0.111; 0.582)        |\n",
       "| unet                        | patologic                   | 0.028 (0.026; 0.029)        | 0.081 (0.078; 0.084)        | 0.978 (0.977; 0.979)        | 0.978 (0.976; 0.979)        | 111964 (100450; 158898)     | 171661 (135525; 192386)     | 0.109 (0.105; 0.113)        |\n",
       "| ueff                        | patologic                   | 0.075 (0.064; 0.105)        | 0.196 (0.169; 0.252)        | 0.943 (0.923; 0.95)         | 0.943 (0.915; 0.952)        | 260567 (125005; 423630)     | 527310 (288884; 877852)     | 0.271 (0.233; 0.357)        |\n",
       "| uloss                       | patologic                   | 0.029 (0.029; 0.189)        | 0.08 (0.077; 0.406)         | 0.977 (0.834; 0.977)        | 0.978 (0.847; 0.979)        | 129756 (102447; 1702247)    | 196322 (167622; 492151)     | 0.109 (0.106; 0.595)        |\n",
       "\n"
      ],
      "text/plain": [
       "  model validation dice_coef_loss       loss_mask           \n",
       "1 unet  all        0.028 (0.027; 0.029) 0.081 (0.079; 0.084)\n",
       "2 ueff  all        0.072 (0.067; 0.088) 0.19 (0.173; 0.22)  \n",
       "3 uloss all        0.03 (0.03; 0.185)   0.082 (0.08; 0.396) \n",
       "4 unet  normal     0.029 (0.027; 0.031) 0.08 (0.078; 0.087) \n",
       "5 ueff  normal     0.069 (0.061; 0.101) 0.189 (0.163; 0.245)\n",
       "6 uloss normal     0.031 (0.03; 0.185)  0.082 (0.08; 0.398) \n",
       "7 unet  patologic  0.028 (0.026; 0.029) 0.081 (0.078; 0.084)\n",
       "8 ueff  patologic  0.075 (0.064; 0.105) 0.196 (0.169; 0.252)\n",
       "9 uloss patologic  0.029 (0.029; 0.189) 0.08 (0.077; 0.406) \n",
       "  accuracy             AUC                  false_positives            \n",
       "1 0.977 (0.976; 0.978) 0.977 (0.976; 0.978) 98421.5 (86152; 123435)    \n",
       "2 0.944 (0.934; 0.948) 0.946 (0.931; 0.951) 184576.5 (127218; 274317.5)\n",
       "3 0.975 (0.836; 0.976) 0.977 (0.847; 0.978) 121320 (95810; 907565.5)   \n",
       "4 0.976 (0.975; 0.978) 0.977 (0.976; 0.978) 87972 (71854; 96393)       \n",
       "5 0.946 (0.925; 0.951) 0.947 (0.918; 0.954) 144686 (55572; 221561)     \n",
       "6 0.975 (0.835; 0.975) 0.977 (0.845; 0.978) 89173 (81522; 811661)      \n",
       "7 0.978 (0.977; 0.979) 0.978 (0.976; 0.979) 111964 (100450; 158898)    \n",
       "8 0.943 (0.923; 0.95)  0.943 (0.915; 0.952) 260567 (125005; 423630)    \n",
       "9 0.977 (0.834; 0.977) 0.978 (0.847; 0.979) 129756 (102447; 1702247)   \n",
       "  false_negatives             doble_loss          \n",
       "1 106426 (72712.5; 165699.5)  0.109 (0.107; 0.113)\n",
       "2 329492.5 (228701.5; 536148) 0.262 (0.239; 0.308)\n",
       "3 191126 (124699.5; 339040.5) 0.112 (0.109; 0.581)\n",
       "4 71143 (57738; 77327)        0.109 (0.105; 0.118)\n",
       "5 239467 (128174; 438623)     0.258 (0.223; 0.346)\n",
       "6 81777 (74047; 280764)       0.113 (0.111; 0.582)\n",
       "7 171661 (135525; 192386)     0.109 (0.105; 0.113)\n",
       "8 527310 (288884; 877852)     0.271 (0.233; 0.357)\n",
       "9 196322 (167622; 492151)     0.109 (0.106; 0.595)"
      ]
     },
     "metadata": {},
     "output_type": "display_data"
    }
   ],
   "source": [
    "diferencias"
   ]
  },
  {
   "cell_type": "code",
   "execution_count": 423,
   "id": "b950d799-55ad-4a3a-8121-b552f69dc8e1",
   "metadata": {},
   "outputs": [],
   "source": [
    "matriz <- matrix(nrow = length(cols), ncol = 4*3+1)"
   ]
  },
  {
   "cell_type": "code",
   "execution_count": 424,
   "id": "24635260-9cdd-4ff0-9191-8f2d4dc3aaec",
   "metadata": {},
   "outputs": [],
   "source": [
    "for(x in 0:1){\n",
    "    dd <- df[which(df$patologic==x),]\n",
    "    for(i in 1:length(cols)){\n",
    "        col <- cols[i]\n",
    "        matriz[i,1] <- col\n",
    "        matriz[i,x*4+2] <- kruskal.test(dd[,col] ~ dd$type)$p.value\n",
    "        for(j in 1:3){\n",
    "            model <- as.character(unique(dd$type)[j])\n",
    "            d <- dd[which(dd$type != model),]\n",
    "            matriz[i,x*4+2+j] <- wilcox.test(d[,col] ~ d$type)$p.value\n",
    "            }\n",
    "        }\n",
    "    }"
   ]
  },
  {
   "cell_type": "code",
   "execution_count": 425,
   "id": "ec48715a-074e-47de-b385-6db9d23331a6",
   "metadata": {},
   "outputs": [
    {
     "name": "stdout",
     "output_type": "stream",
     "text": [
      "[1] \"doble_loss\"\n",
      "[1] \"dice_coef_loss\"\n",
      "[1] \"loss_mask\"\n",
      "[1] \"accuracy\"\n",
      "[1] \"AUC\"\n",
      "[1] \"false_positives\"\n",
      "[1] \"false_negatives\"\n"
     ]
    }
   ],
   "source": [
    "for(i in 1:length(cols)){\n",
    "    col <- cols[i]\n",
    "    matriz[i,1] <- col\n",
    "    matriz[i,2*4+2] <- kruskal.test(df[,col] ~ df$type)$p.value\n",
    "    for(j in 1:3){\n",
    "        model <- as.character(unique(dd$type)[j])\n",
    "        d <- df[which(df$type != model),]\n",
    "        matriz[i,2*4+2+j] <- wilcox.test(d[,col] ~ d$type)$p.value\n",
    "        }\n",
    "    }"
   ]
  },
  {
   "cell_type": "code",
   "execution_count": 428,
   "id": "101c88d6-0e60-4377-87dc-fc0b9b4f4962",
   "metadata": {},
   "outputs": [
    {
     "data": {
      "text/html": [
       "<ol class=list-inline>\n",
       "\t<li>unet</li>\n",
       "\t<li>ueff</li>\n",
       "\t<li>uloss</li>\n",
       "</ol>\n",
       "\n",
       "<details>\n",
       "\t<summary style=display:list-item;cursor:pointer>\n",
       "\t\t<strong>Levels</strong>:\n",
       "\t</summary>\n",
       "\t<ol class=list-inline>\n",
       "\t\t<li>'ueff'</li>\n",
       "\t\t<li>'uloss'</li>\n",
       "\t\t<li>'unet'</li>\n",
       "\t</ol>\n",
       "</details>"
      ],
      "text/latex": [
       "\\begin{enumerate*}\n",
       "\\item unet\n",
       "\\item ueff\n",
       "\\item uloss\n",
       "\\end{enumerate*}\n",
       "\n",
       "\\emph{Levels}: \\begin{enumerate*}\n",
       "\\item 'ueff'\n",
       "\\item 'uloss'\n",
       "\\item 'unet'\n",
       "\\end{enumerate*}\n"
      ],
      "text/markdown": [
       "1. unet\n",
       "2. ueff\n",
       "3. uloss\n",
       "\n",
       "\n",
       "\n",
       "**Levels**: 1. 'ueff'\n",
       "2. 'uloss'\n",
       "3. 'unet'\n",
       "\n",
       "\n"
      ],
      "text/plain": [
       "[1] unet  ueff  uloss\n",
       "Levels: ueff uloss unet"
      ]
     },
     "metadata": {},
     "output_type": "display_data"
    }
   ],
   "source": [
    "models"
   ]
  },
  {
   "cell_type": "code",
   "execution_count": 426,
   "id": "567af53c-7a7d-4b95-9780-b9df7c144e8e",
   "metadata": {},
   "outputs": [],
   "source": [
    "pvalores <- as.data.frame(matriz)"
   ]
  },
  {
   "cell_type": "code",
   "execution_count": 431,
   "id": "85920358-cfb3-41f6-8839-f66a3836a90d",
   "metadata": {},
   "outputs": [],
   "source": [
    "colnames(pvalores) <- c('metric', 'normal_all', 'normal_ueff_uloss', 'normal_unet_uloss', 'normal_unet_ueff',\n",
    "                        'patologic_all', 'patologic_ueff_uloss', 'patologic_unet_uloss', 'patologic_unet_ueff',\n",
    "                        'all', 'ueff_uloss', 'unet_uloss', 'unet_ueff')"
   ]
  },
  {
   "cell_type": "code",
   "execution_count": 432,
   "id": "9082ce7d-c7d9-4f5a-b349-8b9c4a6944df",
   "metadata": {},
   "outputs": [
    {
     "data": {
      "text/html": [
       "<table>\n",
       "<thead><tr><th scope=col>metric</th><th scope=col>normal_all</th><th scope=col>normal_ueff_uloss</th><th scope=col>normal_unet_uloss</th><th scope=col>normal_unet_ueff</th><th scope=col>patologic_all</th><th scope=col>patologic_ueff_uloss</th><th scope=col>patologic_unet_uloss</th><th scope=col>patologic_unet_ueff</th><th scope=col>all</th><th scope=col>ueff_uloss</th><th scope=col>unet_uloss</th><th scope=col>unet_ueff</th></tr></thead>\n",
       "<tbody>\n",
       "\t<tr><td>dice_coef_loss      </td><td>0.0225956018511219  </td><td>0.69047619047619    </td><td>0.0555555555555556  </td><td>0.00793650793650794 </td><td>0.0121551783299149  </td><td>0.69047619047619    </td><td>0.0158730158730159  </td><td>0.00793650793650794 </td><td>0.000294853404786246</td><td>0.48125094719522    </td><td>0.0015046872632012  </td><td>1.0825088224469e-05 </td></tr>\n",
       "\t<tr><td>loss_mask           </td><td>0.0298969144369263  </td><td>0.69047619047619    </td><td>0.0952380952380952  </td><td>0.00793650793650794 </td><td>0.151071808836371   </td><td>0.69047619047619    </td><td>1                   </td><td>0.00793650793650794 </td><td>0.00631696676024392 </td><td>0.48125094719522    </td><td>0.279861005867198   </td><td>1.0825088224469e-05 </td></tr>\n",
       "\t<tr><td>accuracy            </td><td>0.0225956018511219  </td><td>0.69047619047619    </td><td>0.0555555555555556  </td><td>0.00793650793650794 </td><td>0.0225956018511219  </td><td>0.69047619047619    </td><td>0.0555555555555556  </td><td>0.00793650793650794 </td><td>0.000936928837476915</td><td>0.48125094719522    </td><td>0.0146896447206045  </td><td>1.0825088224469e-05 </td></tr>\n",
       "\t<tr><td>AUC                 </td><td>0.105399224561864   </td><td>0.69047619047619    </td><td>0.69047619047619    </td><td>0.00793650793650794 </td><td>0.121237966433381   </td><td>0.69047619047619    </td><td>0.841269841269841   </td><td>0.00793650793650794 </td><td>0.0103679884014047  </td><td>0.48125094719522    </td><td>0.52884886011821    </td><td>1.0825088224469e-05 </td></tr>\n",
       "\t<tr><td>false_positives     </td><td>0.280831621778381   </td><td>1                   </td><td>0.30952380952381    </td><td>0.150793650793651   </td><td>0.124930212198582   </td><td>0.841269841269841   </td><td>0.30952380952381    </td><td>0.0317460317460317  </td><td>0.0558457814259428  </td><td>0.970512459676546   </td><td>0.123005477494642   </td><td>0.0114962436943861  </td></tr>\n",
       "\t<tr><td>false_negatives     </td><td>0.0139817831533384  </td><td>0.420634920634921   </td><td>0.0317460317460317  </td><td>0.00793650793650794 </td><td>0.0121551783299149  </td><td>0.0952380952380952  </td><td>0.0952380952380952  </td><td>0.00793650793650794 </td><td>0.00247555584935111 </td><td>0.0892095520578493  </td><td>0.0288055597653121  </td><td>0.000725280911039425</td></tr>\n",
       "\t<tr><td>doble_loss          </td><td>0.0225956018511219  </td><td>0.69047619047619    </td><td>0.0555555555555556  </td><td>0.00793650793650794 </td><td>0.105399224561864   </td><td>0.69047619047619    </td><td>0.69047619047619    </td><td>0.00793650793650794 </td><td>0.00315111159844442 </td><td>0.48125094719522    </td><td>0.105122431747819   </td><td>1.0825088224469e-05 </td></tr>\n",
       "</tbody>\n",
       "</table>\n"
      ],
      "text/latex": [
       "\\begin{tabular}{r|lllllllllllll}\n",
       " metric & normal\\_all & normal\\_ueff\\_uloss & normal\\_unet\\_uloss & normal\\_unet\\_ueff & patologic\\_all & patologic\\_ueff\\_uloss & patologic\\_unet\\_uloss & patologic\\_unet\\_ueff & all & ueff\\_uloss & unet\\_uloss & unet\\_ueff\\\\\n",
       "\\hline\n",
       "\t dice\\_coef\\_loss   & 0.0225956018511219   & 0.69047619047619     & 0.0555555555555556   & 0.00793650793650794  & 0.0121551783299149   & 0.69047619047619     & 0.0158730158730159   & 0.00793650793650794  & 0.000294853404786246 & 0.48125094719522     & 0.0015046872632012   & 1.0825088224469e-05 \\\\\n",
       "\t loss\\_mask          & 0.0298969144369263   & 0.69047619047619     & 0.0952380952380952   & 0.00793650793650794  & 0.151071808836371    & 0.69047619047619     & 1                    & 0.00793650793650794  & 0.00631696676024392  & 0.48125094719522     & 0.279861005867198    & 1.0825088224469e-05 \\\\\n",
       "\t accuracy             & 0.0225956018511219   & 0.69047619047619     & 0.0555555555555556   & 0.00793650793650794  & 0.0225956018511219   & 0.69047619047619     & 0.0555555555555556   & 0.00793650793650794  & 0.000936928837476915 & 0.48125094719522     & 0.0146896447206045   & 1.0825088224469e-05 \\\\\n",
       "\t AUC                  & 0.105399224561864    & 0.69047619047619     & 0.69047619047619     & 0.00793650793650794  & 0.121237966433381    & 0.69047619047619     & 0.841269841269841    & 0.00793650793650794  & 0.0103679884014047   & 0.48125094719522     & 0.52884886011821     & 1.0825088224469e-05 \\\\\n",
       "\t false\\_positives    & 0.280831621778381    & 1                    & 0.30952380952381     & 0.150793650793651    & 0.124930212198582    & 0.841269841269841    & 0.30952380952381     & 0.0317460317460317   & 0.0558457814259428   & 0.970512459676546    & 0.123005477494642    & 0.0114962436943861  \\\\\n",
       "\t false\\_negatives    & 0.0139817831533384   & 0.420634920634921    & 0.0317460317460317   & 0.00793650793650794  & 0.0121551783299149   & 0.0952380952380952   & 0.0952380952380952   & 0.00793650793650794  & 0.00247555584935111  & 0.0892095520578493   & 0.0288055597653121   & 0.000725280911039425\\\\\n",
       "\t doble\\_loss         & 0.0225956018511219   & 0.69047619047619     & 0.0555555555555556   & 0.00793650793650794  & 0.105399224561864    & 0.69047619047619     & 0.69047619047619     & 0.00793650793650794  & 0.00315111159844442  & 0.48125094719522     & 0.105122431747819    & 1.0825088224469e-05 \\\\\n",
       "\\end{tabular}\n"
      ],
      "text/markdown": [
       "\n",
       "| metric | normal_all | normal_ueff_uloss | normal_unet_uloss | normal_unet_ueff | patologic_all | patologic_ueff_uloss | patologic_unet_uloss | patologic_unet_ueff | all | ueff_uloss | unet_uloss | unet_ueff |\n",
       "|---|---|---|---|---|---|---|---|---|---|---|---|---|\n",
       "| dice_coef_loss       | 0.0225956018511219   | 0.69047619047619     | 0.0555555555555556   | 0.00793650793650794  | 0.0121551783299149   | 0.69047619047619     | 0.0158730158730159   | 0.00793650793650794  | 0.000294853404786246 | 0.48125094719522     | 0.0015046872632012   | 1.0825088224469e-05  |\n",
       "| loss_mask            | 0.0298969144369263   | 0.69047619047619     | 0.0952380952380952   | 0.00793650793650794  | 0.151071808836371    | 0.69047619047619     | 1                    | 0.00793650793650794  | 0.00631696676024392  | 0.48125094719522     | 0.279861005867198    | 1.0825088224469e-05  |\n",
       "| accuracy             | 0.0225956018511219   | 0.69047619047619     | 0.0555555555555556   | 0.00793650793650794  | 0.0225956018511219   | 0.69047619047619     | 0.0555555555555556   | 0.00793650793650794  | 0.000936928837476915 | 0.48125094719522     | 0.0146896447206045   | 1.0825088224469e-05  |\n",
       "| AUC                  | 0.105399224561864    | 0.69047619047619     | 0.69047619047619     | 0.00793650793650794  | 0.121237966433381    | 0.69047619047619     | 0.841269841269841    | 0.00793650793650794  | 0.0103679884014047   | 0.48125094719522     | 0.52884886011821     | 1.0825088224469e-05  |\n",
       "| false_positives      | 0.280831621778381    | 1                    | 0.30952380952381     | 0.150793650793651    | 0.124930212198582    | 0.841269841269841    | 0.30952380952381     | 0.0317460317460317   | 0.0558457814259428   | 0.970512459676546    | 0.123005477494642    | 0.0114962436943861   |\n",
       "| false_negatives      | 0.0139817831533384   | 0.420634920634921    | 0.0317460317460317   | 0.00793650793650794  | 0.0121551783299149   | 0.0952380952380952   | 0.0952380952380952   | 0.00793650793650794  | 0.00247555584935111  | 0.0892095520578493   | 0.0288055597653121   | 0.000725280911039425 |\n",
       "| doble_loss           | 0.0225956018511219   | 0.69047619047619     | 0.0555555555555556   | 0.00793650793650794  | 0.105399224561864    | 0.69047619047619     | 0.69047619047619     | 0.00793650793650794  | 0.00315111159844442  | 0.48125094719522     | 0.105122431747819    | 1.0825088224469e-05  |\n",
       "\n"
      ],
      "text/plain": [
       "  metric          normal_all         normal_ueff_uloss normal_unet_uloss \n",
       "1 dice_coef_loss  0.0225956018511219 0.69047619047619  0.0555555555555556\n",
       "2 loss_mask       0.0298969144369263 0.69047619047619  0.0952380952380952\n",
       "3 accuracy        0.0225956018511219 0.69047619047619  0.0555555555555556\n",
       "4 AUC             0.105399224561864  0.69047619047619  0.69047619047619  \n",
       "5 false_positives 0.280831621778381  1                 0.30952380952381  \n",
       "6 false_negatives 0.0139817831533384 0.420634920634921 0.0317460317460317\n",
       "7 doble_loss      0.0225956018511219 0.69047619047619  0.0555555555555556\n",
       "  normal_unet_ueff    patologic_all      patologic_ueff_uloss\n",
       "1 0.00793650793650794 0.0121551783299149 0.69047619047619    \n",
       "2 0.00793650793650794 0.151071808836371  0.69047619047619    \n",
       "3 0.00793650793650794 0.0225956018511219 0.69047619047619    \n",
       "4 0.00793650793650794 0.121237966433381  0.69047619047619    \n",
       "5 0.150793650793651   0.124930212198582  0.841269841269841   \n",
       "6 0.00793650793650794 0.0121551783299149 0.0952380952380952  \n",
       "7 0.00793650793650794 0.105399224561864  0.69047619047619    \n",
       "  patologic_unet_uloss patologic_unet_ueff all                 \n",
       "1 0.0158730158730159   0.00793650793650794 0.000294853404786246\n",
       "2 1                    0.00793650793650794 0.00631696676024392 \n",
       "3 0.0555555555555556   0.00793650793650794 0.000936928837476915\n",
       "4 0.841269841269841    0.00793650793650794 0.0103679884014047  \n",
       "5 0.30952380952381     0.0317460317460317  0.0558457814259428  \n",
       "6 0.0952380952380952   0.00793650793650794 0.00247555584935111 \n",
       "7 0.69047619047619     0.00793650793650794 0.00315111159844442 \n",
       "  ueff_uloss         unet_uloss         unet_ueff           \n",
       "1 0.48125094719522   0.0015046872632012 1.0825088224469e-05 \n",
       "2 0.48125094719522   0.279861005867198  1.0825088224469e-05 \n",
       "3 0.48125094719522   0.0146896447206045 1.0825088224469e-05 \n",
       "4 0.48125094719522   0.52884886011821   1.0825088224469e-05 \n",
       "5 0.970512459676546  0.123005477494642  0.0114962436943861  \n",
       "6 0.0892095520578493 0.0288055597653121 0.000725280911039425\n",
       "7 0.48125094719522   0.105122431747819  1.0825088224469e-05 "
      ]
     },
     "metadata": {},
     "output_type": "display_data"
    }
   ],
   "source": [
    "pvalores"
   ]
  },
  {
   "cell_type": "code",
   "execution_count": null,
   "id": "27b0ae15-0dcd-4981-b569-20881aff52b9",
   "metadata": {},
   "outputs": [],
   "source": []
  }
 ],
 "metadata": {
  "kernelspec": {
   "display_name": "R",
   "language": "R",
   "name": "ir"
  },
  "language_info": {
   "codemirror_mode": "r",
   "file_extension": ".r",
   "mimetype": "text/x-r-source",
   "name": "R",
   "pygments_lexer": "r",
   "version": "3.6.0"
  }
 },
 "nbformat": 4,
 "nbformat_minor": 5
}
