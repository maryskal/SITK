{
 "cells": [
  {
   "cell_type": "code",
   "execution_count": 2,
   "id": "61145c3c-f6f1-4095-8984-1fd62a732fb8",
   "metadata": {},
   "outputs": [],
   "source": [
    "import pandas as pd\n",
    "import os\n",
    "import numpy as np\n",
    "import matplotlib.pyplot as plt\n",
    "import seaborn as sns"
   ]
  },
  {
   "cell_type": "markdown",
   "id": "ac3d897b-f766-4948-810b-51af9eea06eb",
   "metadata": {},
   "source": [
    "# Entrenamientos"
   ]
  },
  {
   "cell_type": "code",
   "execution_count": 19,
   "id": "6afe163d-b45c-4edf-bdd8-b510844bccab",
   "metadata": {},
   "outputs": [],
   "source": [
    "df = pd.read_csv('/home/mr1142/Documents/Data/mask_validation_data/train/training_data.csv')"
   ]
  },
  {
   "cell_type": "code",
   "execution_count": 20,
   "id": "768bf3c4-140f-47db-9be1-13828499ecba",
   "metadata": {},
   "outputs": [
    {
     "data": {
      "text/html": [
       "<div>\n",
       "<style scoped>\n",
       "    .dataframe tbody tr th:only-of-type {\n",
       "        vertical-align: middle;\n",
       "    }\n",
       "\n",
       "    .dataframe tbody tr th {\n",
       "        vertical-align: top;\n",
       "    }\n",
       "\n",
       "    .dataframe thead th {\n",
       "        text-align: right;\n",
       "    }\n",
       "</style>\n",
       "<table border=\"1\" class=\"dataframe\">\n",
       "  <thead>\n",
       "    <tr style=\"text-align: right;\">\n",
       "      <th></th>\n",
       "      <th>name</th>\n",
       "      <th>loss</th>\n",
       "      <th>BinaryAccuracy</th>\n",
       "      <th>Precision</th>\n",
       "      <th>AUC</th>\n",
       "      <th>loss_val</th>\n",
       "      <th>BinaryAccuracy_val</th>\n",
       "      <th>Precision_val</th>\n",
       "      <th>AUC_val</th>\n",
       "    </tr>\n",
       "  </thead>\n",
       "  <tbody>\n",
       "  </tbody>\n",
       "</table>\n",
       "</div>"
      ],
      "text/plain": [
       "Empty DataFrame\n",
       "Columns: [name, loss, BinaryAccuracy, Precision, AUC, loss_val, BinaryAccuracy_val, Precision_val, AUC_val]\n",
       "Index: []"
      ]
     },
     "execution_count": 20,
     "metadata": {},
     "output_type": "execute_result"
    }
   ],
   "source": [
    "df"
   ]
  },
  {
   "cell_type": "markdown",
   "id": "4772cff4-7ee0-43ea-ad80-84d53c129a2c",
   "metadata": {},
   "source": [
    "# Validacion"
   ]
  },
  {
   "cell_type": "markdown",
   "id": "0001c7ef-daf3-480b-b40e-8103a600a87a",
   "metadata": {},
   "source": [
    "Entrenado en el dataset masks\n",
    "\n",
    "Validado esternamente en el dataset pediatrico"
   ]
  },
  {
   "cell_type": "code",
   "execution_count": 3,
   "id": "71804a7e-a66d-452f-bfca-6ba0bb5b6149",
   "metadata": {},
   "outputs": [],
   "source": [
    "d = pd.read_csv('/home/mr1142/Documents/Data/models/mascaras_img_class/image_class_evaluation_pediatric.csv')"
   ]
  },
  {
   "cell_type": "code",
   "execution_count": 5,
   "id": "947e3104-4dda-4fb6-96dc-1a9bbe488ba4",
   "metadata": {},
   "outputs": [
    {
     "data": {
      "text/html": [
       "<div>\n",
       "<style scoped>\n",
       "    .dataframe tbody tr th:only-of-type {\n",
       "        vertical-align: middle;\n",
       "    }\n",
       "\n",
       "    .dataframe tbody tr th {\n",
       "        vertical-align: top;\n",
       "    }\n",
       "\n",
       "    .dataframe thead th {\n",
       "        text-align: right;\n",
       "    }\n",
       "</style>\n",
       "<table border=\"1\" class=\"dataframe\">\n",
       "  <thead>\n",
       "    <tr style=\"text-align: right;\">\n",
       "      <th></th>\n",
       "      <th>nombre</th>\n",
       "      <th>model</th>\n",
       "      <th>pixels</th>\n",
       "      <th>mask</th>\n",
       "      <th>augment</th>\n",
       "      <th>frozen_layer</th>\n",
       "      <th>loss_type</th>\n",
       "      <th>lr</th>\n",
       "      <th>batch</th>\n",
       "      <th>loss</th>\n",
       "      <th>...</th>\n",
       "      <th>recall_score_pr_cut_external</th>\n",
       "      <th>accuracy_score_pr_cut_external</th>\n",
       "      <th>f1_score_0.5_external</th>\n",
       "      <th>precision_score_0.5_external</th>\n",
       "      <th>recall_score_0.5_external</th>\n",
       "      <th>accuracy_score_0.5_external</th>\n",
       "      <th>f1_score_max_external</th>\n",
       "      <th>precision_score_max_external</th>\n",
       "      <th>recall_score_max_external</th>\n",
       "      <th>accuracy_score_max_external</th>\n",
       "    </tr>\n",
       "  </thead>\n",
       "  <tbody>\n",
       "    <tr>\n",
       "      <th>0</th>\n",
       "      <td>prueba0</td>\n",
       "      <td>Xception</td>\n",
       "      <td>512</td>\n",
       "      <td>0</td>\n",
       "      <td>True</td>\n",
       "      <td>0.8</td>\n",
       "      <td>categorical_crossentropy</td>\n",
       "      <td>0.0001</td>\n",
       "      <td>8</td>\n",
       "      <td>0.639162</td>\n",
       "      <td>...</td>\n",
       "      <td>0.257094</td>\n",
       "      <td>0.257094</td>\n",
       "      <td>0.505681</td>\n",
       "      <td>0.814266</td>\n",
       "      <td>0.505176</td>\n",
       "      <td>0.505176</td>\n",
       "      <td>0.105159</td>\n",
       "      <td>0.066097</td>\n",
       "      <td>0.257094</td>\n",
       "      <td>0.257094</td>\n",
       "    </tr>\n",
       "    <tr>\n",
       "      <th>1</th>\n",
       "      <td>prueba1</td>\n",
       "      <td>Xception</td>\n",
       "      <td>512</td>\n",
       "      <td>1</td>\n",
       "      <td>True</td>\n",
       "      <td>0.8</td>\n",
       "      <td>categorical_crossentropy</td>\n",
       "      <td>0.0001</td>\n",
       "      <td>8</td>\n",
       "      <td>0.608006</td>\n",
       "      <td>...</td>\n",
       "      <td>0.257094</td>\n",
       "      <td>0.257094</td>\n",
       "      <td>0.752793</td>\n",
       "      <td>0.775211</td>\n",
       "      <td>0.741948</td>\n",
       "      <td>0.741948</td>\n",
       "      <td>0.105159</td>\n",
       "      <td>0.066097</td>\n",
       "      <td>0.257094</td>\n",
       "      <td>0.257094</td>\n",
       "    </tr>\n",
       "    <tr>\n",
       "      <th>2</th>\n",
       "      <td>prueba60</td>\n",
       "      <td>Xception</td>\n",
       "      <td>512</td>\n",
       "      <td>0</td>\n",
       "      <td>True</td>\n",
       "      <td>0.8</td>\n",
       "      <td>categorical_crossentropy</td>\n",
       "      <td>0.0001</td>\n",
       "      <td>8</td>\n",
       "      <td>0.601084</td>\n",
       "      <td>...</td>\n",
       "      <td>0.257094</td>\n",
       "      <td>0.257094</td>\n",
       "      <td>0.556449</td>\n",
       "      <td>0.815574</td>\n",
       "      <td>0.546779</td>\n",
       "      <td>0.546779</td>\n",
       "      <td>0.105159</td>\n",
       "      <td>0.066097</td>\n",
       "      <td>0.257094</td>\n",
       "      <td>0.257094</td>\n",
       "    </tr>\n",
       "    <tr>\n",
       "      <th>3</th>\n",
       "      <td>prueba80</td>\n",
       "      <td>Xception</td>\n",
       "      <td>512</td>\n",
       "      <td>0</td>\n",
       "      <td>True</td>\n",
       "      <td>0.8</td>\n",
       "      <td>categorical_crossentropy</td>\n",
       "      <td>0.0001</td>\n",
       "      <td>8</td>\n",
       "      <td>0.624360</td>\n",
       "      <td>...</td>\n",
       "      <td>0.257094</td>\n",
       "      <td>0.257094</td>\n",
       "      <td>0.345362</td>\n",
       "      <td>0.808542</td>\n",
       "      <td>0.390337</td>\n",
       "      <td>0.390337</td>\n",
       "      <td>0.105159</td>\n",
       "      <td>0.066097</td>\n",
       "      <td>0.257094</td>\n",
       "      <td>0.257094</td>\n",
       "    </tr>\n",
       "    <tr>\n",
       "      <th>4</th>\n",
       "      <td>prueba2</td>\n",
       "      <td>Xception</td>\n",
       "      <td>512</td>\n",
       "      <td>2</td>\n",
       "      <td>True</td>\n",
       "      <td>0.8</td>\n",
       "      <td>categorical_crossentropy</td>\n",
       "      <td>0.0001</td>\n",
       "      <td>8</td>\n",
       "      <td>0.606569</td>\n",
       "      <td>...</td>\n",
       "      <td>0.257094</td>\n",
       "      <td>0.257094</td>\n",
       "      <td>0.475188</td>\n",
       "      <td>0.777089</td>\n",
       "      <td>0.476419</td>\n",
       "      <td>0.476419</td>\n",
       "      <td>0.105159</td>\n",
       "      <td>0.066097</td>\n",
       "      <td>0.257094</td>\n",
       "      <td>0.257094</td>\n",
       "    </tr>\n",
       "  </tbody>\n",
       "</table>\n",
       "<p>5 rows × 37 columns</p>\n",
       "</div>"
      ],
      "text/plain": [
       "     nombre     model  pixels  mask  augment  frozen_layer  \\\n",
       "0   prueba0  Xception     512     0     True           0.8   \n",
       "1   prueba1  Xception     512     1     True           0.8   \n",
       "2  prueba60  Xception     512     0     True           0.8   \n",
       "3  prueba80  Xception     512     0     True           0.8   \n",
       "4   prueba2  Xception     512     2     True           0.8   \n",
       "\n",
       "                  loss_type      lr  batch      loss  ...  \\\n",
       "0  categorical_crossentropy  0.0001      8  0.639162  ...   \n",
       "1  categorical_crossentropy  0.0001      8  0.608006  ...   \n",
       "2  categorical_crossentropy  0.0001      8  0.601084  ...   \n",
       "3  categorical_crossentropy  0.0001      8  0.624360  ...   \n",
       "4  categorical_crossentropy  0.0001      8  0.606569  ...   \n",
       "\n",
       "   recall_score_pr_cut_external  accuracy_score_pr_cut_external  \\\n",
       "0                      0.257094                        0.257094   \n",
       "1                      0.257094                        0.257094   \n",
       "2                      0.257094                        0.257094   \n",
       "3                      0.257094                        0.257094   \n",
       "4                      0.257094                        0.257094   \n",
       "\n",
       "   f1_score_0.5_external  precision_score_0.5_external  \\\n",
       "0               0.505681                      0.814266   \n",
       "1               0.752793                      0.775211   \n",
       "2               0.556449                      0.815574   \n",
       "3               0.345362                      0.808542   \n",
       "4               0.475188                      0.777089   \n",
       "\n",
       "   recall_score_0.5_external  accuracy_score_0.5_external  \\\n",
       "0                   0.505176                     0.505176   \n",
       "1                   0.741948                     0.741948   \n",
       "2                   0.546779                     0.546779   \n",
       "3                   0.390337                     0.390337   \n",
       "4                   0.476419                     0.476419   \n",
       "\n",
       "   f1_score_max_external  precision_score_max_external  \\\n",
       "0               0.105159                      0.066097   \n",
       "1               0.105159                      0.066097   \n",
       "2               0.105159                      0.066097   \n",
       "3               0.105159                      0.066097   \n",
       "4               0.105159                      0.066097   \n",
       "\n",
       "   recall_score_max_external  accuracy_score_max_external  \n",
       "0                   0.257094                     0.257094  \n",
       "1                   0.257094                     0.257094  \n",
       "2                   0.257094                     0.257094  \n",
       "3                   0.257094                     0.257094  \n",
       "4                   0.257094                     0.257094  \n",
       "\n",
       "[5 rows x 37 columns]"
      ]
     },
     "execution_count": 5,
     "metadata": {},
     "output_type": "execute_result"
    }
   ],
   "source": [
    "d.head()"
   ]
  },
  {
   "cell_type": "code",
   "execution_count": 6,
   "id": "906d321e-0758-46e0-b795-e6b8a34ec6b4",
   "metadata": {},
   "outputs": [],
   "source": [
    "d['numero'] = [nombre[-2] for nombre in d.nombre]"
   ]
  },
  {
   "cell_type": "code",
   "execution_count": 7,
   "id": "6b81e9bc-32ef-45db-b265-064507eb7905",
   "metadata": {},
   "outputs": [
    {
     "data": {
      "text/html": [
       "<div>\n",
       "<style scoped>\n",
       "    .dataframe tbody tr th:only-of-type {\n",
       "        vertical-align: middle;\n",
       "    }\n",
       "\n",
       "    .dataframe tbody tr th {\n",
       "        vertical-align: top;\n",
       "    }\n",
       "\n",
       "    .dataframe thead th {\n",
       "        text-align: right;\n",
       "    }\n",
       "</style>\n",
       "<table border=\"1\" class=\"dataframe\">\n",
       "  <thead>\n",
       "    <tr style=\"text-align: right;\">\n",
       "      <th></th>\n",
       "      <th>nombre</th>\n",
       "      <th>numero</th>\n",
       "      <th>mask</th>\n",
       "      <th>auc</th>\n",
       "      <th>auc_external</th>\n",
       "    </tr>\n",
       "  </thead>\n",
       "  <tbody>\n",
       "    <tr>\n",
       "      <th>5</th>\n",
       "      <td>prueba10</td>\n",
       "      <td>1</td>\n",
       "      <td>0</td>\n",
       "      <td>0.732496</td>\n",
       "      <td>0.839741</td>\n",
       "    </tr>\n",
       "    <tr>\n",
       "      <th>11</th>\n",
       "      <td>prueba11</td>\n",
       "      <td>1</td>\n",
       "      <td>1</td>\n",
       "      <td>0.745655</td>\n",
       "      <td>0.847006</td>\n",
       "    </tr>\n",
       "    <tr>\n",
       "      <th>14</th>\n",
       "      <td>prueba12</td>\n",
       "      <td>1</td>\n",
       "      <td>2</td>\n",
       "      <td>0.737949</td>\n",
       "      <td>0.718283</td>\n",
       "    </tr>\n",
       "    <tr>\n",
       "      <th>16</th>\n",
       "      <td>prueba20</td>\n",
       "      <td>2</td>\n",
       "      <td>0</td>\n",
       "      <td>0.706651</td>\n",
       "      <td>0.923827</td>\n",
       "    </tr>\n",
       "    <tr>\n",
       "      <th>19</th>\n",
       "      <td>prueba21</td>\n",
       "      <td>2</td>\n",
       "      <td>1</td>\n",
       "      <td>0.737840</td>\n",
       "      <td>0.782895</td>\n",
       "    </tr>\n",
       "    <tr>\n",
       "      <th>20</th>\n",
       "      <td>prueba22</td>\n",
       "      <td>2</td>\n",
       "      <td>2</td>\n",
       "      <td>0.715425</td>\n",
       "      <td>0.785386</td>\n",
       "    </tr>\n",
       "    <tr>\n",
       "      <th>21</th>\n",
       "      <td>prueba30</td>\n",
       "      <td>3</td>\n",
       "      <td>0</td>\n",
       "      <td>0.718992</td>\n",
       "      <td>0.884481</td>\n",
       "    </tr>\n",
       "    <tr>\n",
       "      <th>23</th>\n",
       "      <td>prueba31</td>\n",
       "      <td>3</td>\n",
       "      <td>1</td>\n",
       "      <td>0.734097</td>\n",
       "      <td>0.766592</td>\n",
       "    </tr>\n",
       "    <tr>\n",
       "      <th>25</th>\n",
       "      <td>prueba32</td>\n",
       "      <td>3</td>\n",
       "      <td>2</td>\n",
       "      <td>0.735265</td>\n",
       "      <td>0.682956</td>\n",
       "    </tr>\n",
       "    <tr>\n",
       "      <th>26</th>\n",
       "      <td>prueba40</td>\n",
       "      <td>4</td>\n",
       "      <td>0</td>\n",
       "      <td>0.737208</td>\n",
       "      <td>0.826465</td>\n",
       "    </tr>\n",
       "    <tr>\n",
       "      <th>22</th>\n",
       "      <td>prueba50</td>\n",
       "      <td>5</td>\n",
       "      <td>0</td>\n",
       "      <td>0.752468</td>\n",
       "      <td>0.904840</td>\n",
       "    </tr>\n",
       "    <tr>\n",
       "      <th>24</th>\n",
       "      <td>prueba51</td>\n",
       "      <td>5</td>\n",
       "      <td>1</td>\n",
       "      <td>0.731804</td>\n",
       "      <td>0.815537</td>\n",
       "    </tr>\n",
       "    <tr>\n",
       "      <th>27</th>\n",
       "      <td>prueba52</td>\n",
       "      <td>5</td>\n",
       "      <td>2</td>\n",
       "      <td>0.724754</td>\n",
       "      <td>0.738538</td>\n",
       "    </tr>\n",
       "    <tr>\n",
       "      <th>2</th>\n",
       "      <td>prueba60</td>\n",
       "      <td>6</td>\n",
       "      <td>0</td>\n",
       "      <td>0.737474</td>\n",
       "      <td>0.865293</td>\n",
       "    </tr>\n",
       "    <tr>\n",
       "      <th>7</th>\n",
       "      <td>prueba61</td>\n",
       "      <td>6</td>\n",
       "      <td>1</td>\n",
       "      <td>0.733178</td>\n",
       "      <td>0.802710</td>\n",
       "    </tr>\n",
       "    <tr>\n",
       "      <th>10</th>\n",
       "      <td>prueba62</td>\n",
       "      <td>6</td>\n",
       "      <td>2</td>\n",
       "      <td>0.759480</td>\n",
       "      <td>0.754333</td>\n",
       "    </tr>\n",
       "    <tr>\n",
       "      <th>12</th>\n",
       "      <td>prueba70</td>\n",
       "      <td>7</td>\n",
       "      <td>0</td>\n",
       "      <td>0.742352</td>\n",
       "      <td>0.865893</td>\n",
       "    </tr>\n",
       "    <tr>\n",
       "      <th>15</th>\n",
       "      <td>prueba71</td>\n",
       "      <td>7</td>\n",
       "      <td>1</td>\n",
       "      <td>0.731272</td>\n",
       "      <td>0.793967</td>\n",
       "    </tr>\n",
       "    <tr>\n",
       "      <th>18</th>\n",
       "      <td>prueba72</td>\n",
       "      <td>7</td>\n",
       "      <td>2</td>\n",
       "      <td>0.723795</td>\n",
       "      <td>0.787433</td>\n",
       "    </tr>\n",
       "    <tr>\n",
       "      <th>3</th>\n",
       "      <td>prueba80</td>\n",
       "      <td>8</td>\n",
       "      <td>0</td>\n",
       "      <td>0.719316</td>\n",
       "      <td>0.786553</td>\n",
       "    </tr>\n",
       "    <tr>\n",
       "      <th>6</th>\n",
       "      <td>prueba81</td>\n",
       "      <td>8</td>\n",
       "      <td>1</td>\n",
       "      <td>0.718286</td>\n",
       "      <td>0.823706</td>\n",
       "    </tr>\n",
       "    <tr>\n",
       "      <th>8</th>\n",
       "      <td>prueba82</td>\n",
       "      <td>8</td>\n",
       "      <td>2</td>\n",
       "      <td>0.724662</td>\n",
       "      <td>0.806152</td>\n",
       "    </tr>\n",
       "    <tr>\n",
       "      <th>9</th>\n",
       "      <td>prueba90</td>\n",
       "      <td>9</td>\n",
       "      <td>0</td>\n",
       "      <td>0.741572</td>\n",
       "      <td>0.710468</td>\n",
       "    </tr>\n",
       "    <tr>\n",
       "      <th>13</th>\n",
       "      <td>prueba91</td>\n",
       "      <td>9</td>\n",
       "      <td>1</td>\n",
       "      <td>0.731625</td>\n",
       "      <td>0.767373</td>\n",
       "    </tr>\n",
       "    <tr>\n",
       "      <th>17</th>\n",
       "      <td>prueba92</td>\n",
       "      <td>9</td>\n",
       "      <td>2</td>\n",
       "      <td>0.733042</td>\n",
       "      <td>0.773038</td>\n",
       "    </tr>\n",
       "    <tr>\n",
       "      <th>0</th>\n",
       "      <td>prueba0</td>\n",
       "      <td>a</td>\n",
       "      <td>0</td>\n",
       "      <td>0.711654</td>\n",
       "      <td>0.840536</td>\n",
       "    </tr>\n",
       "    <tr>\n",
       "      <th>1</th>\n",
       "      <td>prueba1</td>\n",
       "      <td>a</td>\n",
       "      <td>1</td>\n",
       "      <td>0.738569</td>\n",
       "      <td>0.793731</td>\n",
       "    </tr>\n",
       "    <tr>\n",
       "      <th>4</th>\n",
       "      <td>prueba2</td>\n",
       "      <td>a</td>\n",
       "      <td>2</td>\n",
       "      <td>0.734232</td>\n",
       "      <td>0.771260</td>\n",
       "    </tr>\n",
       "  </tbody>\n",
       "</table>\n",
       "</div>"
      ],
      "text/plain": [
       "      nombre numero  mask       auc  auc_external\n",
       "5   prueba10      1     0  0.732496      0.839741\n",
       "11  prueba11      1     1  0.745655      0.847006\n",
       "14  prueba12      1     2  0.737949      0.718283\n",
       "16  prueba20      2     0  0.706651      0.923827\n",
       "19  prueba21      2     1  0.737840      0.782895\n",
       "20  prueba22      2     2  0.715425      0.785386\n",
       "21  prueba30      3     0  0.718992      0.884481\n",
       "23  prueba31      3     1  0.734097      0.766592\n",
       "25  prueba32      3     2  0.735265      0.682956\n",
       "26  prueba40      4     0  0.737208      0.826465\n",
       "22  prueba50      5     0  0.752468      0.904840\n",
       "24  prueba51      5     1  0.731804      0.815537\n",
       "27  prueba52      5     2  0.724754      0.738538\n",
       "2   prueba60      6     0  0.737474      0.865293\n",
       "7   prueba61      6     1  0.733178      0.802710\n",
       "10  prueba62      6     2  0.759480      0.754333\n",
       "12  prueba70      7     0  0.742352      0.865893\n",
       "15  prueba71      7     1  0.731272      0.793967\n",
       "18  prueba72      7     2  0.723795      0.787433\n",
       "3   prueba80      8     0  0.719316      0.786553\n",
       "6   prueba81      8     1  0.718286      0.823706\n",
       "8   prueba82      8     2  0.724662      0.806152\n",
       "9   prueba90      9     0  0.741572      0.710468\n",
       "13  prueba91      9     1  0.731625      0.767373\n",
       "17  prueba92      9     2  0.733042      0.773038\n",
       "0    prueba0      a     0  0.711654      0.840536\n",
       "1    prueba1      a     1  0.738569      0.793731\n",
       "4    prueba2      a     2  0.734232      0.771260"
      ]
     },
     "execution_count": 7,
     "metadata": {},
     "output_type": "execute_result"
    }
   ],
   "source": [
    "d[['nombre', 'numero', 'mask', 'auc', 'auc_external']].sort_values(['numero', 'mask'])"
   ]
  },
  {
   "cell_type": "code",
   "execution_count": 8,
   "id": "c900e854-64ae-46da-98cd-387b27d6651e",
   "metadata": {},
   "outputs": [],
   "source": [
    "import scipy.stats as st"
   ]
  },
  {
   "cell_type": "code",
   "execution_count": 9,
   "id": "79387c2e-9ae7-430a-8f54-0bc97f10f213",
   "metadata": {},
   "outputs": [
    {
     "name": "stdout",
     "output_type": "stream",
     "text": [
      "ShapiroResult(statistic=0.9744007587432861, pvalue=0.7019423246383667)\n",
      "ShapiroResult(statistic=0.9874817728996277, pvalue=0.9774031639099121)\n"
     ]
    }
   ],
   "source": [
    "print(st.shapiro(d.auc))\n",
    "print(st.shapiro(d.auc_external))"
   ]
  },
  {
   "cell_type": "code",
   "execution_count": 10,
   "id": "389867a8-ecc5-49d8-8779-031a3a9d1c8e",
   "metadata": {},
   "outputs": [
    {
     "data": {
      "text/plain": [
       "[(0.6, 0.8)]"
      ]
     },
     "execution_count": 10,
     "metadata": {},
     "output_type": "execute_result"
    },
    {
     "data": {
      "image/png": "[encoded data removed]",
      "text/plain": [
       "<Figure size 1000x500 with 1 Axes>"
      ]
     },
     "metadata": {},
     "output_type": "display_data"
    }
   ],
   "source": [
    "plt.subplots(figsize=(10,5))\n",
    "p = sns.boxplot(x=\"mask\", y='auc',\n",
    "                data=d)\n",
    "p.set(ylim=(0.6, 0.8))"
   ]
  },
  {
   "cell_type": "code",
   "execution_count": 11,
   "id": "523d765f-b533-47be-9f9d-5a78e2d7afaa",
   "metadata": {},
   "outputs": [
    {
     "name": "stdout",
     "output_type": "stream",
     "text": [
      "0.5263861903152076\n",
      "0.7520194817015042\n",
      "0.7571469894975404\n"
     ]
    }
   ],
   "source": [
    "print(st.ttest_ind(d.auc[d['mask'] == 0], d.auc[d['mask'] == 1])[1])\n",
    "print(st.ttest_ind(d.auc[d['mask'] == 0], d.auc[d['mask'] == 2])[1])\n",
    "print(st.ttest_ind(d.auc[d['mask'] == 1], d.auc[d['mask'] == 2])[1])"
   ]
  },
  {
   "cell_type": "code",
   "execution_count": 12,
   "id": "ecc29780-5a2e-4b0d-b464-3ee871190d93",
   "metadata": {},
   "outputs": [
    {
     "data": {
      "text/plain": [
       "[(0.5, 1.0)]"
      ]
     },
     "execution_count": 12,
     "metadata": {},
     "output_type": "execute_result"
    },
    {
     "data": {
      "image/png": "[encoded data removed]",
      "text/plain": [
       "<Figure size 1000x500 with 1 Axes>"
      ]
     },
     "metadata": {},
     "output_type": "display_data"
    }
   ],
   "source": [
    "plt.subplots(figsize=(10,5))\n",
    "p = sns.boxplot(x=\"mask\", y='auc_external',\n",
    "                data=d)\n",
    "p.set(ylim=(0.5, 1))"
   ]
  },
  {
   "cell_type": "code",
   "execution_count": 13,
   "id": "9be01be0-6b12-4a39-a341-78f71258be39",
   "metadata": {},
   "outputs": [
    {
     "name": "stdout",
     "output_type": "stream",
     "text": [
      "0.05597599247724178\n",
      "0.0019736172561836836\n",
      "0.01640755006596426\n"
     ]
    }
   ],
   "source": [
    "print(st.ttest_ind(d.auc_external[d['mask'] == 0], d.auc_external[d['mask'] == 1])[1])\n",
    "print(st.ttest_ind(d.auc_external[d['mask'] == 0], d.auc_external[d['mask'] == 2])[1])\n",
    "print(st.ttest_ind(d.auc_external[d['mask'] == 1], d.auc_external[d['mask'] == 2])[1])"
   ]
  },
  {
   "cell_type": "markdown",
   "id": "e7fe3497-c245-40e2-8373-d47418454ae0",
   "metadata": {},
   "source": [
    "# Cargar uno"
   ]
  },
  {
   "cell_type": "code",
   "execution_count": 79,
   "id": "c9aa8cc9-8f29-406e-affb-6c4657a46ce6",
   "metadata": {},
   "outputs": [],
   "source": [
    "path = '/home/mr1142/Documents/Data/models/mascaras_img_class'"
   ]
  },
  {
   "cell_type": "code",
   "execution_count": 80,
   "id": "0ad2540c-b4ed-4d55-b47f-743c3f4afb40",
   "metadata": {},
   "outputs": [
    {
     "data": {
      "text/plain": [
       "['image_class_evaluation_pediatric.csv',\n",
       " 'prueba.h5',\n",
       " 'prueba_1.h5',\n",
       " 'prueba_9.h5',\n",
       " 'prueba_10.h5',\n",
       " 'prueba_2.h5']"
      ]
     },
     "execution_count": 80,
     "metadata": {},
     "output_type": "execute_result"
    }
   ],
   "source": [
    "os.listdir(path)"
   ]
  },
  {
   "cell_type": "code",
   "execution_count": 108,
   "id": "176f8994-4c2e-4037-818e-8b80a6710c88",
   "metadata": {},
   "outputs": [],
   "source": [
    "model_path = os.path.join(path, 'prueba.h5')"
   ]
  },
  {
   "cell_type": "code",
   "execution_count": null,
   "id": "79b5e00b-4e79-4a12-acf6-d2194cd9c322",
   "metadata": {},
   "outputs": [],
   "source": []
  }
 ],
 "metadata": {
  "kernelspec": {
   "display_name": "Python 3 (ipykernel)",
   "language": "python",
   "name": "python3"
  },
  "language_info": {
   "codemirror_mode": {
    "name": "ipython",
    "version": 3
   },
   "file_extension": ".py",
   "mimetype": "text/x-python",
   "name": "python",
   "nbconvert_exporter": "python",
   "pygments_lexer": "ipython3",
   "version": "3.10.6"
  }
 },
 "nbformat": 4,
 "nbformat_minor": 5
}
