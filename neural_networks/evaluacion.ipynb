{
 "cells": [
  {
   "cell_type": "code",
   "execution_count": 385,
   "id": "95f70b23-e40d-4577-a0d8-030c6ea1c855",
   "metadata": {},
   "outputs": [],
   "source": [
    "from packaging import version\n",
    "\n",
    "import pandas as pd\n",
    "from matplotlib import pyplot as plt\n",
    "import seaborn as sns\n",
    "from scipy import stats\n",
    "import tensorboard as tb"
   ]
  },
  {
   "cell_type": "code",
   "execution_count": 392,
   "id": "46b07eaf-bbf2-4a09-9851-75152cc30807",
   "metadata": {},
   "outputs": [],
   "source": [
    "experiment_id = \"OluRn0JuRByPqnvX7p5AFw\"\n",
    "experiment = tb.data.experimental.ExperimentFromDev(experiment_id)"
   ]
  },
  {
   "cell_type": "code",
   "execution_count": 393,
   "id": "d5c4411a-c09e-47d3-82e5-a86527561ca2",
   "metadata": {},
   "outputs": [
    {
     "data": {
      "text/html": [
       "<div>\n",
       "<style scoped>\n",
       "    .dataframe tbody tr th:only-of-type {\n",
       "        vertical-align: middle;\n",
       "    }\n",
       "\n",
       "    .dataframe tbody tr th {\n",
       "        vertical-align: top;\n",
       "    }\n",
       "\n",
       "    .dataframe thead th {\n",
       "        text-align: right;\n",
       "    }\n",
       "</style>\n",
       "<table border=\"1\" class=\"dataframe\">\n",
       "  <thead>\n",
       "    <tr style=\"text-align: right;\">\n",
       "      <th></th>\n",
       "      <th>run</th>\n",
       "      <th>tag</th>\n",
       "      <th>step</th>\n",
       "      <th>value</th>\n",
       "    </tr>\n",
       "  </thead>\n",
       "  <tbody>\n",
       "    <tr>\n",
       "      <th>0</th>\n",
       "      <td>no_mask01_fine-150_batch-8_lr-0001/train</td>\n",
       "      <td>batch_auc</td>\n",
       "      <td>1</td>\n",
       "      <td>0.363281</td>\n",
       "    </tr>\n",
       "    <tr>\n",
       "      <th>1</th>\n",
       "      <td>no_mask01_fine-150_batch-8_lr-0001/train</td>\n",
       "      <td>batch_auc</td>\n",
       "      <td>2</td>\n",
       "      <td>0.525391</td>\n",
       "    </tr>\n",
       "    <tr>\n",
       "      <th>2</th>\n",
       "      <td>no_mask01_fine-150_batch-8_lr-0001/train</td>\n",
       "      <td>batch_auc</td>\n",
       "      <td>3</td>\n",
       "      <td>0.442274</td>\n",
       "    </tr>\n",
       "    <tr>\n",
       "      <th>3</th>\n",
       "      <td>no_mask01_fine-150_batch-8_lr-0001/train</td>\n",
       "      <td>batch_auc</td>\n",
       "      <td>4</td>\n",
       "      <td>0.392334</td>\n",
       "    </tr>\n",
       "    <tr>\n",
       "      <th>4</th>\n",
       "      <td>no_mask01_fine-150_batch-8_lr-0001/train</td>\n",
       "      <td>batch_auc</td>\n",
       "      <td>5</td>\n",
       "      <td>0.461719</td>\n",
       "    </tr>\n",
       "    <tr>\n",
       "      <th>...</th>\n",
       "      <td>...</td>\n",
       "      <td>...</td>\n",
       "      <td>...</td>\n",
       "      <td>...</td>\n",
       "    </tr>\n",
       "    <tr>\n",
       "      <th>153571</th>\n",
       "      <td>reduced01_fine-384_batch-8_lr-001/train</td>\n",
       "      <td>epoch_precision</td>\n",
       "      <td>4</td>\n",
       "      <td>0.389706</td>\n",
       "    </tr>\n",
       "    <tr>\n",
       "      <th>153572</th>\n",
       "      <td>reduced01_fine-384_batch-8_lr-001/train</td>\n",
       "      <td>epoch_precision</td>\n",
       "      <td>5</td>\n",
       "      <td>0.447205</td>\n",
       "    </tr>\n",
       "    <tr>\n",
       "      <th>153573</th>\n",
       "      <td>reduced01_fine-384_batch-8_lr-001/train</td>\n",
       "      <td>epoch_precision</td>\n",
       "      <td>6</td>\n",
       "      <td>0.414414</td>\n",
       "    </tr>\n",
       "    <tr>\n",
       "      <th>153574</th>\n",
       "      <td>reduced01_fine-384_batch-8_lr-001/train</td>\n",
       "      <td>epoch_precision</td>\n",
       "      <td>7</td>\n",
       "      <td>0.450980</td>\n",
       "    </tr>\n",
       "    <tr>\n",
       "      <th>153575</th>\n",
       "      <td>reduced01_fine-384_batch-8_lr-001/train</td>\n",
       "      <td>epoch_precision</td>\n",
       "      <td>8</td>\n",
       "      <td>0.377551</td>\n",
       "    </tr>\n",
       "  </tbody>\n",
       "</table>\n",
       "<p>153576 rows × 4 columns</p>\n",
       "</div>"
      ],
      "text/plain": [
       "                                             run              tag  step  \\\n",
       "0       no_mask01_fine-150_batch-8_lr-0001/train        batch_auc     1   \n",
       "1       no_mask01_fine-150_batch-8_lr-0001/train        batch_auc     2   \n",
       "2       no_mask01_fine-150_batch-8_lr-0001/train        batch_auc     3   \n",
       "3       no_mask01_fine-150_batch-8_lr-0001/train        batch_auc     4   \n",
       "4       no_mask01_fine-150_batch-8_lr-0001/train        batch_auc     5   \n",
       "...                                          ...              ...   ...   \n",
       "153571   reduced01_fine-384_batch-8_lr-001/train  epoch_precision     4   \n",
       "153572   reduced01_fine-384_batch-8_lr-001/train  epoch_precision     5   \n",
       "153573   reduced01_fine-384_batch-8_lr-001/train  epoch_precision     6   \n",
       "153574   reduced01_fine-384_batch-8_lr-001/train  epoch_precision     7   \n",
       "153575   reduced01_fine-384_batch-8_lr-001/train  epoch_precision     8   \n",
       "\n",
       "           value  \n",
       "0       0.363281  \n",
       "1       0.525391  \n",
       "2       0.442274  \n",
       "3       0.392334  \n",
       "4       0.461719  \n",
       "...          ...  \n",
       "153571  0.389706  \n",
       "153572  0.447205  \n",
       "153573  0.414414  \n",
       "153574  0.450980  \n",
       "153575  0.377551  \n",
       "\n",
       "[153576 rows x 4 columns]"
      ]
     },
     "execution_count": 393,
     "metadata": {},
     "output_type": "execute_result"
    }
   ],
   "source": [
    "df = experiment.get_scalars()\n",
    "df"
   ]
  },
  {
   "cell_type": "code",
   "execution_count": 304,
   "id": "7cf59153-8404-4426-bbdb-811e68b22f31",
   "metadata": {},
   "outputs": [],
   "source": [
    "df.to_csv('/home/mr1142/Documents/Data/logs/fit/tensorboard_data.csv')"
   ]
  },
  {
   "cell_type": "markdown",
   "id": "6d78e647-ea7e-4ce6-a693-7ba1cc27b823",
   "metadata": {},
   "source": [
    "# Sacar datos del dataframe"
   ]
  },
  {
   "cell_type": "code",
   "execution_count": 305,
   "id": "6a6eaf50-7aa7-4af7-a0e7-e9daad415e22",
   "metadata": {},
   "outputs": [],
   "source": [
    "import numpy as np\n",
    "import re\n",
    "from itertools import chain"
   ]
  },
  {
   "cell_type": "code",
   "execution_count": 336,
   "id": "616ba7f2-c830-4e8e-bf00-befc27c57a09",
   "metadata": {},
   "outputs": [],
   "source": [
    "def sacar_datos(nombre):\n",
    "    columnas = {}\n",
    "    title = list(chain.from_iterable(list(map(lambda x: re.split('/', x), re.split('_', nombre)))))\n",
    "    for col in ['fine', 'batch', 'lr']:\n",
    "        value = [title[i] for i in range(len(title)) if bool(re.search(col, title[i]))]\n",
    "        columnas[col] = re.split('-', value[0])[1]\n",
    "    columnas['train_val'] = title[-1]\n",
    "    return columnas"
   ]
  },
  {
   "cell_type": "code",
   "execution_count": 337,
   "id": "5c89aa3d-1d6f-4417-8163-99ec9225882e",
   "metadata": {},
   "outputs": [],
   "source": [
    "def unificar_dict(dic_list):\n",
    "    new = {}\n",
    "    for k in dic_list[0].keys():\n",
    "        new[k] = []\n",
    "        for di in dic_list:\n",
    "            new[k].append(di[k])\n",
    "    return new"
   ]
  },
  {
   "cell_type": "code",
   "execution_count": 338,
   "id": "e2cdb80b-e79a-4767-87cd-3175682526e2",
   "metadata": {},
   "outputs": [],
   "source": [
    "titulos = unificar_dict([sacar_datos(df['run'][i]) for i in range(len(df))])"
   ]
  },
  {
   "cell_type": "code",
   "execution_count": 339,
   "id": "92c7b3dc-9620-4634-8aa9-6f13f328a85c",
   "metadata": {},
   "outputs": [],
   "source": [
    "for k in titulos.keys():\n",
    "    df[k] = titulos[k]"
   ]
  },
  {
   "cell_type": "code",
   "execution_count": 340,
   "id": "a9ac60b4-5161-4ace-838a-8ad42feb5881",
   "metadata": {},
   "outputs": [
    {
     "data": {
      "text/html": [
       "<div>\n",
       "<style scoped>\n",
       "    .dataframe tbody tr th:only-of-type {\n",
       "        vertical-align: middle;\n",
       "    }\n",
       "\n",
       "    .dataframe tbody tr th {\n",
       "        vertical-align: top;\n",
       "    }\n",
       "\n",
       "    .dataframe thead th {\n",
       "        text-align: right;\n",
       "    }\n",
       "</style>\n",
       "<table border=\"1\" class=\"dataframe\">\n",
       "  <thead>\n",
       "    <tr style=\"text-align: right;\">\n",
       "      <th></th>\n",
       "      <th>run</th>\n",
       "      <th>tag</th>\n",
       "      <th>step</th>\n",
       "      <th>value</th>\n",
       "      <th>name</th>\n",
       "      <th>fine</th>\n",
       "      <th>batch</th>\n",
       "      <th>lr</th>\n",
       "      <th>train_val</th>\n",
       "    </tr>\n",
       "  </thead>\n",
       "  <tbody>\n",
       "    <tr>\n",
       "      <th>0</th>\n",
       "      <td>no_mask01_fine-150_batch-8_lr-0001/train</td>\n",
       "      <td>batch_auc</td>\n",
       "      <td>1</td>\n",
       "      <td>0.363281</td>\n",
       "      <td>no</td>\n",
       "      <td>150</td>\n",
       "      <td>8</td>\n",
       "      <td>0001</td>\n",
       "      <td>train</td>\n",
       "    </tr>\n",
       "    <tr>\n",
       "      <th>1</th>\n",
       "      <td>no_mask01_fine-150_batch-8_lr-0001/train</td>\n",
       "      <td>batch_auc</td>\n",
       "      <td>2</td>\n",
       "      <td>0.525391</td>\n",
       "      <td>no</td>\n",
       "      <td>150</td>\n",
       "      <td>8</td>\n",
       "      <td>0001</td>\n",
       "      <td>train</td>\n",
       "    </tr>\n",
       "    <tr>\n",
       "      <th>2</th>\n",
       "      <td>no_mask01_fine-150_batch-8_lr-0001/train</td>\n",
       "      <td>batch_auc</td>\n",
       "      <td>3</td>\n",
       "      <td>0.442274</td>\n",
       "      <td>no</td>\n",
       "      <td>150</td>\n",
       "      <td>8</td>\n",
       "      <td>0001</td>\n",
       "      <td>train</td>\n",
       "    </tr>\n",
       "    <tr>\n",
       "      <th>3</th>\n",
       "      <td>no_mask01_fine-150_batch-8_lr-0001/train</td>\n",
       "      <td>batch_auc</td>\n",
       "      <td>4</td>\n",
       "      <td>0.392334</td>\n",
       "      <td>no</td>\n",
       "      <td>150</td>\n",
       "      <td>8</td>\n",
       "      <td>0001</td>\n",
       "      <td>train</td>\n",
       "    </tr>\n",
       "    <tr>\n",
       "      <th>4</th>\n",
       "      <td>no_mask01_fine-150_batch-8_lr-0001/train</td>\n",
       "      <td>batch_auc</td>\n",
       "      <td>5</td>\n",
       "      <td>0.461719</td>\n",
       "      <td>no</td>\n",
       "      <td>150</td>\n",
       "      <td>8</td>\n",
       "      <td>0001</td>\n",
       "      <td>train</td>\n",
       "    </tr>\n",
       "  </tbody>\n",
       "</table>\n",
       "</div>"
      ],
      "text/plain": [
       "                                        run        tag  step     value name  \\\n",
       "0  no_mask01_fine-150_batch-8_lr-0001/train  batch_auc     1  0.363281   no   \n",
       "1  no_mask01_fine-150_batch-8_lr-0001/train  batch_auc     2  0.525391   no   \n",
       "2  no_mask01_fine-150_batch-8_lr-0001/train  batch_auc     3  0.442274   no   \n",
       "3  no_mask01_fine-150_batch-8_lr-0001/train  batch_auc     4  0.392334   no   \n",
       "4  no_mask01_fine-150_batch-8_lr-0001/train  batch_auc     5  0.461719   no   \n",
       "\n",
       "  fine batch    lr train_val  \n",
       "0  150     8  0001     train  \n",
       "1  150     8  0001     train  \n",
       "2  150     8  0001     train  \n",
       "3  150     8  0001     train  \n",
       "4  150     8  0001     train  "
      ]
     },
     "execution_count": 340,
     "metadata": {},
     "output_type": "execute_result"
    }
   ],
   "source": [
    "df.head()"
   ]
  },
  {
   "cell_type": "markdown",
   "id": "37151855-7076-49e5-8615-6d6b3582a455",
   "metadata": {},
   "source": [
    "# Sacar datos del validation\n",
    "\n",
    "Lo unifico en una sola fila por batch"
   ]
  },
  {
   "cell_type": "code",
   "execution_count": 352,
   "id": "11ba96e7-ea68-44e1-8ba1-893b76b351bc",
   "metadata": {},
   "outputs": [],
   "source": [
    "df_val = df[df.train_val == 'validation'].reset_index()"
   ]
  },
  {
   "cell_type": "code",
   "execution_count": 353,
   "id": "df972e36-f0c7-4065-b886-5c16a35d25bf",
   "metadata": {},
   "outputs": [],
   "source": [
    "def unificar(name, tipo):\n",
    "    return df[(df.run == name) & (df.tag == tipo)].reset_index()"
   ]
  },
  {
   "cell_type": "code",
   "execution_count": 354,
   "id": "d49139b7-cac2-4b07-8321-65398f257dba",
   "metadata": {},
   "outputs": [],
   "source": [
    "df_new = pd.DataFrame({'run':[], 'step':[], 'name':[], 'fine':[], 'batch':[], \n",
    "                       'lr':[], 'train_val':[], 'epoch_auc':[], 'epoch_binary_accuracy':[], \n",
    "                       'epoch_loss':[], 'epoch_precision':[]})\n",
    "dfs = []\n",
    "for name in np.unique(df_val['run']):\n",
    "    d = df_val[df_val.run == name]\n",
    "    new = unificar(name, 'epoch_auc')\n",
    "    for tipo in np.unique(d['tag']):\n",
    "        temp = unificar(name, tipo)\n",
    "        new[tipo] = list(temp['value'])\n",
    "    dfs.append(new)"
   ]
  },
  {
   "cell_type": "code",
   "execution_count": 355,
   "id": "21ae98ac-f8a9-459b-bbf9-d92d3beea7b6",
   "metadata": {},
   "outputs": [
    {
     "data": {
      "text/plain": [
       "0      0.548065\n",
       "1      0.568961\n",
       "2      0.619600\n",
       "3      0.615570\n",
       "4      0.554042\n",
       "         ...   \n",
       "618    0.635790\n",
       "619    0.635789\n",
       "620    0.635789\n",
       "621    0.635789\n",
       "622    0.635790\n",
       "Name: value, Length: 623, dtype: float64"
      ]
     },
     "execution_count": 355,
     "metadata": {},
     "output_type": "execute_result"
    }
   ],
   "source": [
    "df_val = pd.concat(dfs, ignore_index = True)\n",
    "df_val.pop('tag')\n",
    "df_val.pop('value')"
   ]
  },
  {
   "cell_type": "code",
   "execution_count": 356,
   "id": "43c1be7f-f5be-48ab-8c8a-adef94f65db9",
   "metadata": {},
   "outputs": [],
   "source": [
    "index = [i for i in df.index if bool(re.search('softmax', df.run[i]))]"
   ]
  },
  {
   "cell_type": "code",
   "execution_count": 376,
   "id": "b755698e-70b8-40bf-8b99-baf8e0e82dec",
   "metadata": {},
   "outputs": [],
   "source": [
    "def search(nombre, string):\n",
    "    if bool(re.search(nombre, string)):\n",
    "        return 1\n",
    "    else:\n",
    "        return 0"
   ]
  },
  {
   "cell_type": "code",
   "execution_count": 377,
   "id": "e0d729a3-246d-4429-bda8-8a731547daa9",
   "metadata": {},
   "outputs": [],
   "source": [
    "for nombres in ['mask', 'softmax', 'reduced']:\n",
    "    df_val[nombres] = list(map(lambda x: search(nombres, x), df_val.run))"
   ]
  },
  {
   "cell_type": "code",
   "execution_count": 378,
   "id": "f240b76e-921d-4c30-9bc7-02faaae558f2",
   "metadata": {},
   "outputs": [
    {
     "data": {
      "text/html": [
       "<div>\n",
       "<style scoped>\n",
       "    .dataframe tbody tr th:only-of-type {\n",
       "        vertical-align: middle;\n",
       "    }\n",
       "\n",
       "    .dataframe tbody tr th {\n",
       "        vertical-align: top;\n",
       "    }\n",
       "\n",
       "    .dataframe thead th {\n",
       "        text-align: right;\n",
       "    }\n",
       "</style>\n",
       "<table border=\"1\" class=\"dataframe\">\n",
       "  <thead>\n",
       "    <tr style=\"text-align: right;\">\n",
       "      <th></th>\n",
       "      <th>index</th>\n",
       "      <th>run</th>\n",
       "      <th>step</th>\n",
       "      <th>name</th>\n",
       "      <th>fine</th>\n",
       "      <th>batch</th>\n",
       "      <th>lr</th>\n",
       "      <th>train_val</th>\n",
       "      <th>epoch_auc</th>\n",
       "      <th>epoch_binary_accuracy</th>\n",
       "      <th>epoch_loss</th>\n",
       "      <th>epoch_precision</th>\n",
       "      <th>mask</th>\n",
       "      <th>softmax</th>\n",
       "      <th>reduced</th>\n",
       "    </tr>\n",
       "  </thead>\n",
       "  <tbody>\n",
       "    <tr>\n",
       "      <th>0</th>\n",
       "      <td>6588</td>\n",
       "      <td>no_mask01_fine-150_batch-8_lr-0001/validation</td>\n",
       "      <td>0</td>\n",
       "      <td>no</td>\n",
       "      <td>150</td>\n",
       "      <td>8</td>\n",
       "      <td>0001</td>\n",
       "      <td>validation</td>\n",
       "      <td>0.548065</td>\n",
       "      <td>0.666667</td>\n",
       "      <td>0.655444</td>\n",
       "      <td>0.00</td>\n",
       "      <td>1</td>\n",
       "      <td>0</td>\n",
       "      <td>0</td>\n",
       "    </tr>\n",
       "    <tr>\n",
       "      <th>1</th>\n",
       "      <td>6589</td>\n",
       "      <td>no_mask01_fine-150_batch-8_lr-0001/validation</td>\n",
       "      <td>1</td>\n",
       "      <td>no</td>\n",
       "      <td>150</td>\n",
       "      <td>8</td>\n",
       "      <td>0001</td>\n",
       "      <td>validation</td>\n",
       "      <td>0.568961</td>\n",
       "      <td>0.666667</td>\n",
       "      <td>0.672617</td>\n",
       "      <td>0.00</td>\n",
       "      <td>1</td>\n",
       "      <td>0</td>\n",
       "      <td>0</td>\n",
       "    </tr>\n",
       "    <tr>\n",
       "      <th>2</th>\n",
       "      <td>6590</td>\n",
       "      <td>no_mask01_fine-150_batch-8_lr-0001/validation</td>\n",
       "      <td>2</td>\n",
       "      <td>no</td>\n",
       "      <td>150</td>\n",
       "      <td>8</td>\n",
       "      <td>0001</td>\n",
       "      <td>validation</td>\n",
       "      <td>0.619600</td>\n",
       "      <td>0.626667</td>\n",
       "      <td>0.637227</td>\n",
       "      <td>0.44</td>\n",
       "      <td>1</td>\n",
       "      <td>0</td>\n",
       "      <td>0</td>\n",
       "    </tr>\n",
       "    <tr>\n",
       "      <th>3</th>\n",
       "      <td>6591</td>\n",
       "      <td>no_mask01_fine-150_batch-8_lr-0001/validation</td>\n",
       "      <td>3</td>\n",
       "      <td>no</td>\n",
       "      <td>150</td>\n",
       "      <td>8</td>\n",
       "      <td>0001</td>\n",
       "      <td>validation</td>\n",
       "      <td>0.615570</td>\n",
       "      <td>0.666667</td>\n",
       "      <td>0.619008</td>\n",
       "      <td>0.00</td>\n",
       "      <td>1</td>\n",
       "      <td>0</td>\n",
       "      <td>0</td>\n",
       "    </tr>\n",
       "    <tr>\n",
       "      <th>4</th>\n",
       "      <td>6592</td>\n",
       "      <td>no_mask01_fine-150_batch-8_lr-0001/validation</td>\n",
       "      <td>4</td>\n",
       "      <td>no</td>\n",
       "      <td>150</td>\n",
       "      <td>8</td>\n",
       "      <td>0001</td>\n",
       "      <td>validation</td>\n",
       "      <td>0.554042</td>\n",
       "      <td>0.666667</td>\n",
       "      <td>0.633447</td>\n",
       "      <td>0.00</td>\n",
       "      <td>1</td>\n",
       "      <td>0</td>\n",
       "      <td>0</td>\n",
       "    </tr>\n",
       "  </tbody>\n",
       "</table>\n",
       "</div>"
      ],
      "text/plain": [
       "   index                                            run  step name fine batch  \\\n",
       "0   6588  no_mask01_fine-150_batch-8_lr-0001/validation     0   no  150     8   \n",
       "1   6589  no_mask01_fine-150_batch-8_lr-0001/validation     1   no  150     8   \n",
       "2   6590  no_mask01_fine-150_batch-8_lr-0001/validation     2   no  150     8   \n",
       "3   6591  no_mask01_fine-150_batch-8_lr-0001/validation     3   no  150     8   \n",
       "4   6592  no_mask01_fine-150_batch-8_lr-0001/validation     4   no  150     8   \n",
       "\n",
       "     lr   train_val  epoch_auc  epoch_binary_accuracy  epoch_loss  \\\n",
       "0  0001  validation   0.548065               0.666667    0.655444   \n",
       "1  0001  validation   0.568961               0.666667    0.672617   \n",
       "2  0001  validation   0.619600               0.626667    0.637227   \n",
       "3  0001  validation   0.615570               0.666667    0.619008   \n",
       "4  0001  validation   0.554042               0.666667    0.633447   \n",
       "\n",
       "   epoch_precision  mask  softmax  reduced  \n",
       "0             0.00     1        0        0  \n",
       "1             0.00     1        0        0  \n",
       "2             0.44     1        0        0  \n",
       "3             0.00     1        0        0  \n",
       "4             0.00     1        0        0  "
      ]
     },
     "execution_count": 378,
     "metadata": {},
     "output_type": "execute_result"
    }
   ],
   "source": [
    "df_val.head()"
   ]
  },
  {
   "cell_type": "code",
   "execution_count": 379,
   "id": "fdb09f46-6cb4-4155-b22a-2ba86749495f",
   "metadata": {},
   "outputs": [],
   "source": [
    "df_val.to_csv('/home/mr1142/Documents/Data/logs/fit/tensor_val_data.csv')"
   ]
  },
  {
   "cell_type": "markdown",
   "id": "01e12a92-1687-4c12-aa38-e0f2747b91fe",
   "metadata": {},
   "source": [
    "# Plot"
   ]
  },
  {
   "cell_type": "code",
   "execution_count": 360,
   "id": "143ea8b3-b88c-44b9-be99-e3ccc83abb38",
   "metadata": {},
   "outputs": [],
   "source": [
    "import matplotlib.pyplot as plt"
   ]
  },
  {
   "cell_type": "code",
   "execution_count": 384,
   "id": "1136e7ab-3f48-425e-a332-64d99e4f7130",
   "metadata": {},
   "outputs": [
    {
     "data": {
      "image/png": "[encoded data removed]",
      "text/plain": [
       "<Figure size 1440x720 with 4 Axes>"
      ]
     },
     "metadata": {
      "needs_background": "light"
     },
     "output_type": "display_data"
    }
   ],
   "source": [
    "fig, ax = plt.subplots(2, 2)\n",
    "fig.set_size_inches(20,10)\n",
    "\n",
    "for i, ev in enumerate(['epoch_auc', 'epoch_binary_accuracy', 'epoch_loss', 'epoch_precision']):\n",
    "    if i%2 == 0:\n",
    "        y = 0\n",
    "    else:\n",
    "        y = 1\n",
    "    x = int(i/2)\n",
    "    ax[x,y].boxplot([df_val[ev][df_val.fine == '100'], \n",
    "             df_val[ev][df_val.fine == '150'], \n",
    "             df_val[ev][df_val.fine == '200'],\n",
    "             df_val[ev][df_val.fine == '250'],\n",
    "             df_val[ev][df_val.fine == '300'],\n",
    "            df_val[ev][df_val.fine == '385']], \n",
    "            labels = ['100', '150', '200', '250','300', '384'])\n",
    "    q1, q3 = np.percentile(df_val[ev], [5, 95])\n",
    "    r = q1-q3\n",
    "    ax[x,y].set_ylim(q3+1.1*r, q1-1.1*r)\n",
    "    ax[x,y].set_title(ev)"
   ]
  },
  {
   "cell_type": "code",
   "execution_count": 383,
   "id": "45ad9280-bf01-4664-968f-e6315b62315a",
   "metadata": {},
   "outputs": [
    {
     "data": {
      "image/png": "[encoded data removed]",
      "text/plain": [
       "<Figure size 1440x720 with 4 Axes>"
      ]
     },
     "metadata": {
      "needs_background": "light"
     },
     "output_type": "display_data"
    }
   ],
   "source": [
    "fig, ax = plt.subplots(2, 2)\n",
    "fig.set_size_inches(20,10)\n",
    "\n",
    "for i, ev in enumerate(['epoch_auc', 'epoch_binary_accuracy', 'epoch_loss', 'epoch_precision']):\n",
    "    if i%2 == 0:\n",
    "        y = 0\n",
    "    else:\n",
    "        y = 1\n",
    "    x = int(i/2)\n",
    "    ax[x,y].boxplot([df_val[ev][df_val['reduced'] == 1], \n",
    "                     df_val[ev][df_val['softmax'] == 1],\n",
    "                    df_val[ev][df_val['mask'] == 1]],\n",
    "            labels = ['reduced', 'softmax', 'no mask'])\n",
    "    q1, q3 = np.percentile(df_val[ev], [5, 95])\n",
    "    r = q1-q3\n",
    "    ax[x,y].set_ylim(q3+1.1*r, q1-1.1*r)\n",
    "    ax[x,y].set_title(ev)"
   ]
  },
  {
   "cell_type": "code",
   "execution_count": 363,
   "id": "c5367a5e-7abe-4e1d-9d43-3ac2f1d90403",
   "metadata": {},
   "outputs": [
    {
     "data": {
      "image/png": "[encoded data removed]",
      "text/plain": [
       "<Figure size 1440x720 with 4 Axes>"
      ]
     },
     "metadata": {
      "needs_background": "light"
     },
     "output_type": "display_data"
    }
   ],
   "source": [
    "fig, ax = plt.subplots(2, 2)\n",
    "fig.set_size_inches(20,10)\n",
    "\n",
    "for i, ev in enumerate(['epoch_auc', 'epoch_binary_accuracy', 'epoch_loss', 'epoch_precision']):\n",
    "    if i%2 == 0:\n",
    "        y = 0\n",
    "    else:\n",
    "        y = 1\n",
    "    x = int(i/2)\n",
    "    ax[x,y].boxplot([df_val[ev][df_val.batch == '8'], \n",
    "             df_val[ev][df_val.batch == '16']],\n",
    "            labels = ['8', '16'])\n",
    "    q1, q3 = np.percentile(df_val[ev], [5, 95])\n",
    "    r = q1-q3\n",
    "    ax[x,y].set_ylim(q3+1.1*r, q1-1.1*r)\n",
    "    ax[x,y].set_title(ev)"
   ]
  },
  {
   "cell_type": "code",
   "execution_count": null,
   "id": "951b8aba-b67a-4efd-b833-2788789792b4",
   "metadata": {},
   "outputs": [],
   "source": [
    "fig, ax = plt.subplots(2, 2)\n",
    "fig.set_size_inches(10,10)\n",
    "\n",
    "for i, ev in enumerate(['epoch_auc', 'epoch_binary_accuracy', 'epoch_loss', 'epoch_precision']):\n",
    "    if i%2 == 0:\n",
    "        y = 0\n",
    "    else:\n",
    "        y = 1\n",
    "    x = int(i/2)\n",
    "    ax[x,y].boxplot([df_val[ev][df_val.batch == '8'], \n",
    "             df_val[ev][df_val.batch == '16']],\n",
    "            labels = ['8', '16'])\n",
    "    q1, q3 = np.percentile(df_val[ev], [5, 95])\n",
    "    r = q1-q3\n",
    "    ax[x,y].set_ylim(q3+1.1*r, q1-1.1*r)\n",
    "    ax[x,y].set_title(ev)"
   ]
  },
  {
   "cell_type": "code",
   "execution_count": 301,
   "id": "f7127008-1fab-4144-8fbb-d94937b7b411",
   "metadata": {},
   "outputs": [
    {
     "data": {
      "text/plain": [
       "array(['', '0001'], dtype=object)"
      ]
     },
     "execution_count": 301,
     "metadata": {},
     "output_type": "execute_result"
    }
   ],
   "source": [
    "np.unique(df_val['lr'])"
   ]
  },
  {
   "cell_type": "code",
   "execution_count": null,
   "id": "a88d7608-3fab-4251-af9c-6edff6453441",
   "metadata": {},
   "outputs": [],
   "source": []
  }
 ],
 "metadata": {
  "kernelspec": {
   "display_name": "Python 3",
   "language": "python",
   "name": "python3"
  },
  "language_info": {
   "codemirror_mode": {
    "name": "ipython",
    "version": 3
   },
   "file_extension": ".py",
   "mimetype": "text/x-python",
   "name": "python",
   "nbconvert_exporter": "python",
   "pygments_lexer": "ipython3",
   "version": "3.6.8"
  }
 },
 "nbformat": 4,
 "nbformat_minor": 5
}
