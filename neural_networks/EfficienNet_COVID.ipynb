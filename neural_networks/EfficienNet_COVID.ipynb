{
 "cells": [
  {
   "cell_type": "code",
   "execution_count": 1,
   "id": "2ce11c35-6786-42a3-93a4-3add1e81506e",
   "metadata": {},
   "outputs": [],
   "source": [
    "import os\n",
    "import pandas as pd\n",
    "import numpy as np\n",
    "import PIL\n",
    "import tensorflow as tf\n",
    "import matplotlib.pyplot as plt\n",
    "import datetime\n",
    "import tensorflow_addons as tfa\n",
    "import cv2\n",
    "\n",
    "from sklearn import model_selection\n",
    "from PIL import Image\n",
    "from skimage import exposure\n",
    "\n",
    "from tensorflow.keras.applications import EfficientNetB0\n",
    "from tensorflow.keras import models\n",
    "from tensorflow.keras import layers\n",
    "from imblearn.over_sampling import SMOTE"
   ]
  },
  {
   "cell_type": "code",
   "execution_count": 2,
   "id": "2281de98",
   "metadata": {},
   "outputs": [],
   "source": [
    "os.environ['CUDA_VISIBLE_DEVICES'] = '1'"
   ]
  },
  {
   "cell_type": "markdown",
   "id": "9a053cf2",
   "metadata": {},
   "source": [
    "# Datos"
   ]
  },
  {
   "cell_type": "markdown",
   "id": "c3f28223-6d19-42f8-91b7-1bb3a2d98191",
   "metadata": {},
   "source": [
    "## Datos"
   ]
  },
  {
   "cell_type": "code",
   "execution_count": 3,
   "id": "7c9c47ad",
   "metadata": {},
   "outputs": [],
   "source": [
    "path = '/home/mr1142/Documents/Data/covid/dataset'"
   ]
  },
  {
   "cell_type": "code",
   "execution_count": 4,
   "id": "b4392008",
   "metadata": {},
   "outputs": [],
   "source": [
    "covid = [os.path.join(path, 'covid', p) for p in os.listdir(os.path.join(path, 'covid'))]\n",
    "normal = [os.path.join(path, 'normal', p) for p in os.listdir(os.path.join(path, 'normal'))]"
   ]
  },
  {
   "cell_type": "code",
   "execution_count": 5,
   "id": "d5148a7c",
   "metadata": {},
   "outputs": [],
   "source": [
    "df = pd.DataFrame()\n",
    "df['path'] = covid + normal\n",
    "df['covid'] = [1 for i in range(len(covid))] + [0 for i in range(len(normal))]"
   ]
  },
  {
   "cell_type": "code",
   "execution_count": 6,
   "id": "449078b9",
   "metadata": {},
   "outputs": [],
   "source": [
    "df = df.sample(frac=1)"
   ]
  },
  {
   "cell_type": "code",
   "execution_count": 7,
   "id": "596bde62",
   "metadata": {},
   "outputs": [
    {
     "data": {
      "text/html": [
       "<div>\n",
       "<style scoped>\n",
       "    .dataframe tbody tr th:only-of-type {\n",
       "        vertical-align: middle;\n",
       "    }\n",
       "\n",
       "    .dataframe tbody tr th {\n",
       "        vertical-align: top;\n",
       "    }\n",
       "\n",
       "    .dataframe thead th {\n",
       "        text-align: right;\n",
       "    }\n",
       "</style>\n",
       "<table border=\"1\" class=\"dataframe\">\n",
       "  <thead>\n",
       "    <tr style=\"text-align: right;\">\n",
       "      <th></th>\n",
       "      <th>path</th>\n",
       "      <th>covid</th>\n",
       "    </tr>\n",
       "  </thead>\n",
       "  <tbody>\n",
       "    <tr>\n",
       "      <th>55</th>\n",
       "      <td>/home/mr1142/Documents/Data/covid/dataset/norm...</td>\n",
       "      <td>0</td>\n",
       "    </tr>\n",
       "    <tr>\n",
       "      <th>4</th>\n",
       "      <td>/home/mr1142/Documents/Data/covid/dataset/covi...</td>\n",
       "      <td>1</td>\n",
       "    </tr>\n",
       "    <tr>\n",
       "      <th>13</th>\n",
       "      <td>/home/mr1142/Documents/Data/covid/dataset/covi...</td>\n",
       "      <td>1</td>\n",
       "    </tr>\n",
       "    <tr>\n",
       "      <th>51</th>\n",
       "      <td>/home/mr1142/Documents/Data/covid/dataset/norm...</td>\n",
       "      <td>0</td>\n",
       "    </tr>\n",
       "    <tr>\n",
       "      <th>12</th>\n",
       "      <td>/home/mr1142/Documents/Data/covid/dataset/covi...</td>\n",
       "      <td>1</td>\n",
       "    </tr>\n",
       "  </tbody>\n",
       "</table>\n",
       "</div>"
      ],
      "text/plain": [
       "                                                 path  covid\n",
       "55  /home/mr1142/Documents/Data/covid/dataset/norm...      0\n",
       "4   /home/mr1142/Documents/Data/covid/dataset/covi...      1\n",
       "13  /home/mr1142/Documents/Data/covid/dataset/covi...      1\n",
       "51  /home/mr1142/Documents/Data/covid/dataset/norm...      0\n",
       "12  /home/mr1142/Documents/Data/covid/dataset/covi...      1"
      ]
     },
     "execution_count": 7,
     "metadata": {},
     "output_type": "execute_result"
    }
   ],
   "source": [
    "df.head()"
   ]
  },
  {
   "cell_type": "code",
   "execution_count": 8,
   "id": "fb4ceab1",
   "metadata": {},
   "outputs": [
    {
     "data": {
      "text/plain": [
       "59"
      ]
     },
     "execution_count": 8,
     "metadata": {},
     "output_type": "execute_result"
    }
   ],
   "source": [
    "len(df)"
   ]
  },
  {
   "cell_type": "code",
   "execution_count": 9,
   "id": "9ca58922",
   "metadata": {},
   "outputs": [
    {
     "name": "stdout",
     "output_type": "stream",
     "text": [
      "38\n",
      "21\n"
     ]
    }
   ],
   "source": [
    "print(len(df[df.covid == 1]))\n",
    "print(len(df[df.covid == 0]))"
   ]
  },
  {
   "cell_type": "markdown",
   "id": "710d2eae",
   "metadata": {},
   "source": [
    "## Imagenes"
   ]
  },
  {
   "cell_type": "code",
   "execution_count": 10,
   "id": "1e02503f",
   "metadata": {},
   "outputs": [],
   "source": [
    "pixels = 512"
   ]
  },
  {
   "cell_type": "code",
   "execution_count": 11,
   "id": "0bd14b6c",
   "metadata": {},
   "outputs": [],
   "source": [
    "def charge_reshape(path, pix):\n",
    "    img = Image.open(path)\n",
    "    img = img.resize((pix,pix))\n",
    "    img = np.array(img)\n",
    "    try:\n",
    "        img = img[:,:,0]\n",
    "    except:\n",
    "        print('e')\n",
    "    img = clahe(img)\n",
    "    img = np.expand_dims(img, axis=-1)\n",
    "    img = img/255\n",
    "    return img"
   ]
  },
  {
   "cell_type": "code",
   "execution_count": 12,
   "id": "00e69514",
   "metadata": {},
   "outputs": [],
   "source": [
    "def clahe(img):\n",
    "    # img = cv2.resize(img, (512, 512))\n",
    "    clahe = cv2.createCLAHE(clipLimit = 10)\n",
    "    final_img = clahe.apply(img) + 30\n",
    "    return final_img"
   ]
  },
  {
   "cell_type": "code",
   "execution_count": 13,
   "id": "b0074b50-fe33-47bf-82d3-b8d9153a6a32",
   "metadata": {},
   "outputs": [
    {
     "name": "stdout",
     "output_type": "stream",
     "text": [
      "e\n",
      "e\n",
      "e\n",
      "e\n",
      "e\n",
      "e\n",
      "e\n",
      "e\n",
      "e\n",
      "e\n",
      "e\n",
      "e\n",
      "e\n",
      "e\n",
      "e\n",
      "e\n",
      "e\n",
      "e\n",
      "e\n",
      "e\n",
      "e\n",
      "e\n",
      "e\n"
     ]
    }
   ],
   "source": [
    "tensor = np.zeros((len(df.path), pixels, pixels, 1))\n",
    "for i in range(tensor.shape[0]):\n",
    "    p = os.path.join(path, df.path[i])\n",
    "    tensor[i,...] = charge_reshape(p, pixels)"
   ]
  },
  {
   "cell_type": "markdown",
   "id": "2963f95b-3988-4ce9-ac9a-eb690db88474",
   "metadata": {},
   "source": [
    "## X e Y"
   ]
  },
  {
   "cell_type": "code",
   "execution_count": 14,
   "id": "ef920577-9355-493c-a3fb-a384b0cc7efc",
   "metadata": {},
   "outputs": [],
   "source": [
    "Y = np.array(df['covid'])\n",
    "X = tensor"
   ]
  },
  {
   "cell_type": "code",
   "execution_count": 15,
   "id": "f492bd6e-e8da-44c8-b6dd-d548d8dc94f9",
   "metadata": {},
   "outputs": [],
   "source": [
    "X_train, X_test, Y_train, Y_test = model_selection.train_test_split(X, Y, test_size=0.2, \n",
    "                                                                    random_state=42, shuffle=True, stratify=Y )"
   ]
  },
  {
   "cell_type": "markdown",
   "id": "939e1fe2",
   "metadata": {},
   "source": [
    "## Oversample con SMOTE"
   ]
  },
  {
   "cell_type": "code",
   "execution_count": 16,
   "id": "cd684dcf",
   "metadata": {},
   "outputs": [
    {
     "data": {
      "text/plain": [
       "(47, 512, 512, 1)"
      ]
     },
     "execution_count": 16,
     "metadata": {},
     "output_type": "execute_result"
    }
   ],
   "source": [
    "X_train.shape"
   ]
  },
  {
   "cell_type": "markdown",
   "id": "dd7e182f",
   "metadata": {},
   "source": [
    "Te pide dos dimensiones, por lo que hay que transformar"
   ]
  },
  {
   "cell_type": "code",
   "execution_count": 17,
   "id": "015d0a89",
   "metadata": {},
   "outputs": [
    {
     "data": {
      "text/plain": [
       "(47, 262144)"
      ]
     },
     "execution_count": 17,
     "metadata": {},
     "output_type": "execute_result"
    }
   ],
   "source": [
    "ReX_train = X_train.reshape(47, 512 * 512)\n",
    "ReX_train.shape"
   ]
  },
  {
   "cell_type": "code",
   "execution_count": 18,
   "id": "2b5a42d6",
   "metadata": {},
   "outputs": [],
   "source": [
    "smt = SMOTE()\n",
    "Xs_train, Ys_train = smt.fit_resample(ReX_train, Y_train)"
   ]
  },
  {
   "cell_type": "code",
   "execution_count": 19,
   "id": "5b67a673",
   "metadata": {},
   "outputs": [
    {
     "data": {
      "text/plain": [
       "(60, 262144)"
      ]
     },
     "execution_count": 19,
     "metadata": {},
     "output_type": "execute_result"
    }
   ],
   "source": [
    "Xs_train.shape"
   ]
  },
  {
   "cell_type": "markdown",
   "id": "19eb3012",
   "metadata": {},
   "source": [
    "Volvemos a transformarlo para las dimensiones normales"
   ]
  },
  {
   "cell_type": "code",
   "execution_count": 20,
   "id": "abb0a51e",
   "metadata": {},
   "outputs": [],
   "source": [
    "Xs_train = Xs_train.reshape(60, 512, 512, 1)"
   ]
  },
  {
   "cell_type": "code",
   "execution_count": 21,
   "id": "0b8d6b8d",
   "metadata": {},
   "outputs": [
    {
     "name": "stdout",
     "output_type": "stream",
     "text": [
      "60\n"
     ]
    }
   ],
   "source": [
    "print(len(Xs_train))"
   ]
  },
  {
   "cell_type": "markdown",
   "id": "45498f33",
   "metadata": {},
   "source": [
    "### Generación de imagenes"
   ]
  },
  {
   "cell_type": "code",
   "execution_count": 22,
   "id": "a74fb7c9",
   "metadata": {},
   "outputs": [],
   "source": [
    "datagen = tf.keras.preprocessing.image.ImageDataGenerator(\n",
    "    featurewise_center=True,\n",
    "    featurewise_std_normalization=True,\n",
    "    rotation_range=20,\n",
    "    width_shift_range=0.2,\n",
    "    height_shift_range=0.2,\n",
    "    horizontal_flip=True,\n",
    "    validation_split=0.2)"
   ]
  },
  {
   "cell_type": "code",
   "execution_count": 23,
   "id": "70834447",
   "metadata": {},
   "outputs": [],
   "source": [
    "datagen.fit(X_train)"
   ]
  },
  {
   "cell_type": "markdown",
   "id": "716261a3",
   "metadata": {},
   "source": [
    "# Modelo"
   ]
  },
  {
   "cell_type": "markdown",
   "id": "dfa7cedb",
   "metadata": {},
   "source": [
    "- Añado una capa inicial para poder entregarle el input de 3 canales. \n",
    "- Añado 1 convolución con max pooling y una segunda convolución cno globalMaxPooling para ajustar mejor\n",
    "- Añado Dropout para evitar overfiting\n",
    "- Añado la capa final con 6 neuronas de salida"
   ]
  },
  {
   "cell_type": "code",
   "execution_count": 24,
   "id": "6ee017ce",
   "metadata": {},
   "outputs": [],
   "source": [
    "input_shape = (pixels,pixels,3)\n",
    "conv_base = EfficientNetB0(weights=\"imagenet\", include_top=False, input_shape=input_shape)"
   ]
  },
  {
   "cell_type": "code",
   "execution_count": 25,
   "id": "993ee598",
   "metadata": {},
   "outputs": [
    {
     "data": {
      "text/plain": [
       "237"
      ]
     },
     "execution_count": 25,
     "metadata": {},
     "output_type": "execute_result"
    }
   ],
   "source": [
    "len(conv_base.layers)"
   ]
  },
  {
   "cell_type": "code",
   "execution_count": 26,
   "id": "e572aae0",
   "metadata": {},
   "outputs": [
    {
     "data": {
      "text/plain": [
       "211"
      ]
     },
     "execution_count": 26,
     "metadata": {},
     "output_type": "execute_result"
    }
   ],
   "source": [
    "len(conv_base.trainable_variables)"
   ]
  },
  {
   "cell_type": "code",
   "execution_count": 27,
   "id": "677f0a7d",
   "metadata": {},
   "outputs": [],
   "source": [
    "model = models.Sequential()\n",
    "model.add(layers.Conv2D(3,3,padding=\"same\", input_shape=(pixels,pixels,1), activation='elu', name = 'conv_inicial'))\n",
    "model.add(conv_base)\n",
    "model.add(layers.Conv2D(3,32, padding='same', input_shape=(8,8,1280), activation='selu', name = 'conv_posterior'))\n",
    "model.add(layers.MaxPool2D(pool_size = (2,2), padding='same', name = 'first_pooling'))\n",
    "model.add(layers.Conv2D(3,64, padding='same', input_shape=(4,4,1280), activation='selu', name = 'last_convolution'))\n",
    "model.add(layers.GlobalMaxPooling2D(name=\"general_max_pooling\"))\n",
    "model.add(layers.Dropout(0.2, name=\"dropout_out\"))\n",
    "model.add(layers.Dense(1, activation=\"softmax\", name=\"fc_out\"))"
   ]
  },
  {
   "cell_type": "code",
   "execution_count": 28,
   "id": "e7d55ae3",
   "metadata": {},
   "outputs": [
    {
     "name": "stdout",
     "output_type": "stream",
     "text": [
      "Model: \"sequential\"\n",
      "_________________________________________________________________\n",
      "Layer (type)                 Output Shape              Param #   \n",
      "=================================================================\n",
      "conv_inicial (Conv2D)        (None, 512, 512, 3)       30        \n",
      "_________________________________________________________________\n",
      "efficientnetb0 (Functional)  (None, 16, 16, 1280)      4049571   \n",
      "_________________________________________________________________\n",
      "conv_posterior (Conv2D)      (None, 16, 16, 3)         3932163   \n",
      "_________________________________________________________________\n",
      "first_pooling (MaxPooling2D) (None, 8, 8, 3)           0         \n",
      "_________________________________________________________________\n",
      "last_convolution (Conv2D)    (None, 8, 8, 3)           36867     \n",
      "_________________________________________________________________\n",
      "general_max_pooling (GlobalM (None, 3)                 0         \n",
      "_________________________________________________________________\n",
      "dropout_out (Dropout)        (None, 3)                 0         \n",
      "_________________________________________________________________\n",
      "fc_out (Dense)               (None, 1)                 4         \n",
      "=================================================================\n",
      "Total params: 8,018,635\n",
      "Trainable params: 7,976,612\n",
      "Non-trainable params: 42,023\n",
      "_________________________________________________________________\n"
     ]
    }
   ],
   "source": [
    "model.summary()"
   ]
  },
  {
   "cell_type": "markdown",
   "id": "9448ab8a-f4d6-4d74-a271-c4356c543fb3",
   "metadata": {},
   "source": [
    "# Compilación y entrenamiento"
   ]
  },
  {
   "cell_type": "markdown",
   "id": "25793694",
   "metadata": {},
   "source": [
    "## Callback"
   ]
  },
  {
   "cell_type": "code",
   "execution_count": 29,
   "id": "1dbd5654",
   "metadata": {},
   "outputs": [],
   "source": [
    "log_dir = \"/home/mr1142/Documents/Data/logs/fit/\" + datetime.datetime.now().strftime(\"%Y%m%d-%H%M%S\")\n",
    "tensorboard_callback = tf.keras.callbacks.TensorBoard(log_dir=log_dir,\n",
    "                                                      update_freq='batch',\n",
    "                                                      histogram_freq=1)"
   ]
  },
  {
   "cell_type": "markdown",
   "id": "35e75081",
   "metadata": {},
   "source": [
    "## 1º entrenamiento\n",
    "Solo vamos a entrenar las capas que hemos añadido"
   ]
  },
  {
   "cell_type": "code",
   "execution_count": 30,
   "id": "1d6d6dd6",
   "metadata": {},
   "outputs": [],
   "source": [
    "conv_base.trainable = False"
   ]
  },
  {
   "cell_type": "code",
   "execution_count": 31,
   "id": "20d5cfaf",
   "metadata": {},
   "outputs": [
    {
     "data": {
      "text/plain": [
       "8"
      ]
     },
     "execution_count": 31,
     "metadata": {},
     "output_type": "execute_result"
    }
   ],
   "source": [
    "len(model.trainable_variables)"
   ]
  },
  {
   "cell_type": "markdown",
   "id": "47856cd1",
   "metadata": {},
   "source": [
    "### Hiperparámetros"
   ]
  },
  {
   "cell_type": "markdown",
   "id": "20609b59",
   "metadata": {},
   "source": [
    "1. **Loss**"
   ]
  },
  {
   "cell_type": "code",
   "execution_count": 32,
   "id": "0a84aa48",
   "metadata": {},
   "outputs": [],
   "source": [
    "loss = tf.keras.losses.BinaryCrossentropy()"
   ]
  },
  {
   "cell_type": "markdown",
   "id": "f8007099",
   "metadata": {},
   "source": [
    "2. **Optimizador y learning rate**"
   ]
  },
  {
   "cell_type": "code",
   "execution_count": 33,
   "id": "26689ccb",
   "metadata": {},
   "outputs": [],
   "source": [
    "lr = 0.001\n",
    "opt = tf.keras.optimizers.Adam(learning_rate = lr)"
   ]
  },
  {
   "cell_type": "markdown",
   "id": "0c1d28fe",
   "metadata": {},
   "source": [
    "3. **Metricas**"
   ]
  },
  {
   "cell_type": "code",
   "execution_count": 34,
   "id": "78a014aa",
   "metadata": {},
   "outputs": [],
   "source": [
    "met = ['BinaryAccuracy', 'TruePositives']"
   ]
  },
  {
   "cell_type": "markdown",
   "id": "c98c93a8",
   "metadata": {},
   "source": [
    "4. **Batch size**"
   ]
  },
  {
   "cell_type": "code",
   "execution_count": 39,
   "id": "ee9b9f08",
   "metadata": {},
   "outputs": [],
   "source": [
    "batch = 8"
   ]
  },
  {
   "cell_type": "markdown",
   "id": "8d7f25a6",
   "metadata": {},
   "source": [
    "5. **Epochs**"
   ]
  },
  {
   "cell_type": "code",
   "execution_count": 40,
   "id": "db938a80",
   "metadata": {},
   "outputs": [],
   "source": [
    "initial_epochs = 50"
   ]
  },
  {
   "cell_type": "markdown",
   "id": "14889558",
   "metadata": {},
   "source": [
    "### Entrenamiento"
   ]
  },
  {
   "cell_type": "code",
   "execution_count": 41,
   "id": "b09c00a1",
   "metadata": {},
   "outputs": [],
   "source": [
    "model.compile(optimizer=opt, loss = loss , metrics = met)"
   ]
  },
  {
   "cell_type": "markdown",
   "id": "c0345f3f",
   "metadata": {},
   "source": [
    "Las imagenes se generan en cada batch, por eso hay que añadir aqui el datagen. Así no ocupa más en memoria"
   ]
  },
  {
   "cell_type": "code",
   "execution_count": 43,
   "id": "347eb81a",
   "metadata": {},
   "outputs": [
    {
     "name": "stdout",
     "output_type": "stream",
     "text": [
      "Epoch 1/50\n",
      "6/6 [==============================] - 297s 21s/step - loss: 0.7374 - binary_accuracy: 0.3494 - true_positives: 12.1429 - val_loss: 0.6808 - val_binary_accuracy: 0.6667 - val_true_positives: 8.0000\n",
      "Epoch 2/50\n",
      "6/6 [==============================] - 1s 130ms/step - loss: 0.7948 - binary_accuracy: 0.4339 - true_positives: 13.4286 - val_loss: 0.6723 - val_binary_accuracy: 0.6667 - val_true_positives: 8.0000\n",
      "Epoch 3/50\n",
      "6/6 [==============================] - 1s 103ms/step - loss: 0.7528 - binary_accuracy: 0.3789 - true_positives: 13.2857 - val_loss: 0.7940 - val_binary_accuracy: 0.6667 - val_true_positives: 8.0000\n",
      "Epoch 4/50\n",
      "6/6 [==============================] - 1s 103ms/step - loss: 0.7327 - binary_accuracy: 0.4443 - true_positives: 13.7143 - val_loss: 0.7098 - val_binary_accuracy: 0.6667 - val_true_positives: 8.0000\n",
      "Epoch 5/50\n",
      "6/6 [==============================] - 1s 102ms/step - loss: 0.7019 - binary_accuracy: 0.4283 - true_positives: 13.1429 - val_loss: 0.6857 - val_binary_accuracy: 0.6667 - val_true_positives: 8.0000\n",
      "Epoch 6/50\n",
      "6/6 [==============================] - 1s 102ms/step - loss: 0.6978 - binary_accuracy: 0.4449 - true_positives: 13.2857 - val_loss: 0.7770 - val_binary_accuracy: 0.6667 - val_true_positives: 8.0000\n",
      "Epoch 7/50\n",
      "6/6 [==============================] - 1s 102ms/step - loss: 0.6712 - binary_accuracy: 0.4006 - true_positives: 13.1429 - val_loss: 0.7742 - val_binary_accuracy: 0.6667 - val_true_positives: 8.0000\n",
      "Epoch 8/50\n",
      "6/6 [==============================] - 1s 102ms/step - loss: 0.6265 - binary_accuracy: 0.3563 - true_positives: 12.2857 - val_loss: 0.7385 - val_binary_accuracy: 0.6667 - val_true_positives: 8.0000\n",
      "Epoch 9/50\n",
      "6/6 [==============================] - 1s 102ms/step - loss: 0.6818 - binary_accuracy: 0.4372 - true_positives: 13.2857 - val_loss: 0.7424 - val_binary_accuracy: 0.6667 - val_true_positives: 8.0000\n",
      "Epoch 10/50\n",
      "6/6 [==============================] - 1s 104ms/step - loss: 0.6890 - binary_accuracy: 0.3661 - true_positives: 12.1429 - val_loss: 0.7403 - val_binary_accuracy: 0.6667 - val_true_positives: 8.0000\n",
      "Epoch 11/50\n",
      "6/6 [==============================] - 1s 101ms/step - loss: 0.7385 - binary_accuracy: 0.4616 - true_positives: 13.8571 - val_loss: 0.6816 - val_binary_accuracy: 0.6667 - val_true_positives: 8.0000\n",
      "Epoch 12/50\n",
      "6/6 [==============================] - 1s 104ms/step - loss: 0.7197 - binary_accuracy: 0.4601 - true_positives: 13.5714 - val_loss: 0.7958 - val_binary_accuracy: 0.6667 - val_true_positives: 8.0000\n",
      "Epoch 13/50\n",
      "6/6 [==============================] - 1s 101ms/step - loss: 0.7533 - binary_accuracy: 0.4905 - true_positives: 14.4286 - val_loss: 0.7597 - val_binary_accuracy: 0.6667 - val_true_positives: 8.0000\n",
      "Epoch 14/50\n",
      "6/6 [==============================] - 1s 101ms/step - loss: 0.6975 - binary_accuracy: 0.4185 - true_positives: 13.1429 - val_loss: 0.7336 - val_binary_accuracy: 0.6667 - val_true_positives: 8.0000\n",
      "Epoch 15/50\n",
      "6/6 [==============================] - 1s 101ms/step - loss: 0.6807 - binary_accuracy: 0.3464 - true_positives: 12.4286 - val_loss: 0.7216 - val_binary_accuracy: 0.6667 - val_true_positives: 8.0000\n",
      "Epoch 16/50\n",
      "6/6 [==============================] - 1s 102ms/step - loss: 0.6929 - binary_accuracy: 0.3976 - true_positives: 12.7143 - val_loss: 0.7662 - val_binary_accuracy: 0.6667 - val_true_positives: 8.0000\n",
      "Epoch 17/50\n",
      "6/6 [==============================] - 1s 105ms/step - loss: 0.6863 - binary_accuracy: 0.3554 - true_positives: 12.2857 - val_loss: 0.6610 - val_binary_accuracy: 0.6667 - val_true_positives: 8.0000\n",
      "Epoch 18/50\n",
      "6/6 [==============================] - 1s 102ms/step - loss: 0.7251 - binary_accuracy: 0.4268 - true_positives: 13.0000 - val_loss: 0.7565 - val_binary_accuracy: 0.6667 - val_true_positives: 8.0000\n",
      "Epoch 19/50\n",
      "6/6 [==============================] - 1s 103ms/step - loss: 0.7138 - binary_accuracy: 0.4190 - true_positives: 13.1429 - val_loss: 0.6949 - val_binary_accuracy: 0.6667 - val_true_positives: 8.0000\n",
      "Epoch 20/50\n",
      "6/6 [==============================] - 1s 102ms/step - loss: 0.6785 - binary_accuracy: 0.4185 - true_positives: 13.2857 - val_loss: 0.7446 - val_binary_accuracy: 0.6667 - val_true_positives: 8.0000\n",
      "Epoch 21/50\n",
      "6/6 [==============================] - 1s 104ms/step - loss: 0.6450 - binary_accuracy: 0.3637 - true_positives: 12.1429 - val_loss: 0.7509 - val_binary_accuracy: 0.6667 - val_true_positives: 8.0000\n",
      "Epoch 22/50\n",
      "6/6 [==============================] - 1s 102ms/step - loss: 0.7295 - binary_accuracy: 0.4363 - true_positives: 13.7143 - val_loss: 0.6681 - val_binary_accuracy: 0.6667 - val_true_positives: 8.0000\n",
      "Epoch 23/50\n",
      "6/6 [==============================] - 1s 104ms/step - loss: 0.6928 - binary_accuracy: 0.4015 - true_positives: 12.8571 - val_loss: 0.7869 - val_binary_accuracy: 0.6667 - val_true_positives: 8.0000\n",
      "Epoch 24/50\n",
      "6/6 [==============================] - 1s 115ms/step - loss: 0.7270 - binary_accuracy: 0.4771 - true_positives: 14.2857 - val_loss: 0.6960 - val_binary_accuracy: 0.6667 - val_true_positives: 8.0000\n",
      "Epoch 25/50\n",
      "6/6 [==============================] - 1s 115ms/step - loss: 0.6814 - binary_accuracy: 0.4699 - true_positives: 14.0000 - val_loss: 0.8339 - val_binary_accuracy: 0.6667 - val_true_positives: 8.0000\n",
      "Epoch 26/50\n",
      "6/6 [==============================] - 1s 112ms/step - loss: 0.6385 - binary_accuracy: 0.3438 - true_positives: 11.8571 - val_loss: 0.8094 - val_binary_accuracy: 0.6667 - val_true_positives: 8.0000\n",
      "Epoch 27/50\n",
      "6/6 [==============================] - 1s 106ms/step - loss: 0.7361 - binary_accuracy: 0.4890 - true_positives: 14.7143 - val_loss: 0.6491 - val_binary_accuracy: 0.6667 - val_true_positives: 8.0000\n",
      "Epoch 28/50\n",
      "6/6 [==============================] - 1s 105ms/step - loss: 0.7428 - binary_accuracy: 0.4232 - true_positives: 12.8571 - val_loss: 0.8725 - val_binary_accuracy: 0.6667 - val_true_positives: 8.0000\n",
      "Epoch 29/50\n",
      "6/6 [==============================] - 1s 112ms/step - loss: 0.7512 - binary_accuracy: 0.4229 - true_positives: 13.2857 - val_loss: 0.7644 - val_binary_accuracy: 0.6667 - val_true_positives: 8.0000\n",
      "Epoch 30/50\n",
      "6/6 [==============================] - 1s 110ms/step - loss: 0.7253 - binary_accuracy: 0.4458 - true_positives: 13.7143 - val_loss: 0.6625 - val_binary_accuracy: 0.6667 - val_true_positives: 8.0000\n",
      "Epoch 31/50\n",
      "6/6 [==============================] - 1s 107ms/step - loss: 0.7041 - binary_accuracy: 0.3899 - true_positives: 12.1429 - val_loss: 0.7342 - val_binary_accuracy: 0.6667 - val_true_positives: 8.0000\n",
      "Epoch 32/50\n",
      "6/6 [==============================] - 1s 102ms/step - loss: 0.7339 - binary_accuracy: 0.4655 - true_positives: 13.7143 - val_loss: 0.7517 - val_binary_accuracy: 0.6667 - val_true_positives: 8.0000\n",
      "Epoch 33/50\n",
      "6/6 [==============================] - 1s 109ms/step - loss: 0.7004 - binary_accuracy: 0.4378 - true_positives: 13.7143 - val_loss: 0.7046 - val_binary_accuracy: 0.6667 - val_true_positives: 8.0000\n",
      "Epoch 34/50\n",
      "6/6 [==============================] - 1s 102ms/step - loss: 0.6595 - binary_accuracy: 0.4360 - true_positives: 13.1429 - val_loss: 0.8066 - val_binary_accuracy: 0.6667 - val_true_positives: 8.0000\n",
      "Epoch 35/50\n",
      "6/6 [==============================] - 1s 102ms/step - loss: 0.7174 - binary_accuracy: 0.4786 - true_positives: 14.1429 - val_loss: 0.7064 - val_binary_accuracy: 0.6667 - val_true_positives: 8.0000\n",
      "Epoch 36/50\n",
      "6/6 [==============================] - 1s 102ms/step - loss: 0.6908 - binary_accuracy: 0.4747 - true_positives: 14.7143 - val_loss: 0.7758 - val_binary_accuracy: 0.6667 - val_true_positives: 8.0000\n",
      "Epoch 37/50\n",
      "6/6 [==============================] - 1s 102ms/step - loss: 0.7412 - binary_accuracy: 0.3875 - true_positives: 12.4286 - val_loss: 0.9450 - val_binary_accuracy: 0.6667 - val_true_positives: 8.0000\n",
      "Epoch 38/50\n",
      "6/6 [==============================] - 1s 102ms/step - loss: 0.6417 - binary_accuracy: 0.3920 - true_positives: 12.4286 - val_loss: 0.6438 - val_binary_accuracy: 0.6667 - val_true_positives: 8.0000\n",
      "Epoch 39/50\n",
      "6/6 [==============================] - 1s 104ms/step - loss: 0.7366 - binary_accuracy: 0.4908 - true_positives: 14.2857 - val_loss: 0.8671 - val_binary_accuracy: 0.6667 - val_true_positives: 8.0000\n",
      "Epoch 40/50\n",
      "6/6 [==============================] - 1s 103ms/step - loss: 0.7662 - binary_accuracy: 0.4461 - true_positives: 13.4286 - val_loss: 0.8786 - val_binary_accuracy: 0.6667 - val_true_positives: 8.0000\n",
      "Epoch 41/50\n",
      "6/6 [==============================] - 1s 102ms/step - loss: 0.7613 - binary_accuracy: 0.4134 - true_positives: 13.0000 - val_loss: 0.7036 - val_binary_accuracy: 0.6667 - val_true_positives: 8.0000\n",
      "Epoch 42/50\n",
      "6/6 [==============================] - 1s 105ms/step - loss: 0.7054 - binary_accuracy: 0.4613 - true_positives: 14.0000 - val_loss: 0.7349 - val_binary_accuracy: 0.6667 - val_true_positives: 8.0000\n",
      "Epoch 43/50\n",
      "6/6 [==============================] - 1s 102ms/step - loss: 0.6795 - binary_accuracy: 0.4592 - true_positives: 14.0000 - val_loss: 0.9371 - val_binary_accuracy: 0.6667 - val_true_positives: 8.0000\n",
      "Epoch 44/50\n",
      "6/6 [==============================] - 1s 103ms/step - loss: 0.7752 - binary_accuracy: 0.4815 - true_positives: 14.4286 - val_loss: 0.6738 - val_binary_accuracy: 0.6667 - val_true_positives: 8.0000\n",
      "Epoch 45/50\n",
      "6/6 [==============================] - 1s 101ms/step - loss: 0.7193 - binary_accuracy: 0.3563 - true_positives: 12.2857 - val_loss: 0.7310 - val_binary_accuracy: 0.6667 - val_true_positives: 8.0000\n",
      "Epoch 46/50\n",
      "6/6 [==============================] - 1s 106ms/step - loss: 0.6793 - binary_accuracy: 0.3866 - true_positives: 12.7143 - val_loss: 0.6937 - val_binary_accuracy: 0.6667 - val_true_positives: 8.0000\n",
      "Epoch 47/50\n",
      "6/6 [==============================] - 1s 102ms/step - loss: 0.7243 - binary_accuracy: 0.3622 - true_positives: 11.8571 - val_loss: 0.8362 - val_binary_accuracy: 0.6667 - val_true_positives: 8.0000\n",
      "Epoch 48/50\n",
      "6/6 [==============================] - 1s 101ms/step - loss: 0.6579 - binary_accuracy: 0.4193 - true_positives: 13.1429 - val_loss: 0.7339 - val_binary_accuracy: 0.6667 - val_true_positives: 8.0000\n",
      "Epoch 49/50\n",
      "6/6 [==============================] - 1s 102ms/step - loss: 0.6709 - binary_accuracy: 0.4461 - true_positives: 13.4286 - val_loss: 0.6980 - val_binary_accuracy: 0.6667 - val_true_positives: 8.0000\n",
      "Epoch 50/50\n",
      "6/6 [==============================] - 1s 103ms/step - loss: 0.7238 - binary_accuracy: 0.4964 - true_positives: 14.5714 - val_loss: 0.7143 - val_binary_accuracy: 0.6667 - val_true_positives: 8.0000\n"
     ]
    }
   ],
   "source": [
    "history = model.fit(datagen.flow(Xs_train,Ys_train, subset = 'training', batch_size = batch),\n",
    "                    epochs = initial_epochs,\n",
    "                    callbacks = tensorboard_callback,\n",
    "                    validation_data = (X_test, Y_test))"
   ]
  },
  {
   "cell_type": "code",
   "execution_count": 44,
   "id": "8e86966b",
   "metadata": {},
   "outputs": [
    {
     "data": {
      "image/png": "[encoded data removed]",
      "text/plain": [
       "<Figure size 360x360 with 1 Axes>"
      ]
     },
     "metadata": {
      "needs_background": "light"
     },
     "output_type": "display_data"
    },
    {
     "data": {
      "image/png": "[encoded data removed]",
      "text/plain": [
       "<Figure size 360x360 with 1 Axes>"
      ]
     },
     "metadata": {
      "needs_background": "light"
     },
     "output_type": "display_data"
    },
    {
     "data": {
      "image/png": "[encoded data removed]",
      "text/plain": [
       "<Figure size 360x360 with 1 Axes>"
      ]
     },
     "metadata": {
      "needs_background": "light"
     },
     "output_type": "display_data"
    }
   ],
   "source": [
    "epochs_range = range(initial_epochs)\n",
    "i = 0\n",
    "for i in range(int(len(history.history.keys())/2)):\n",
    "    key = list(history.history.keys())[i]\n",
    "    \n",
    "    plt.figure(figsize=(5, 5))\n",
    "    plt.subplot(1, 1, 1)\n",
    "    plt.plot(epochs_range, history.history[key], label=key)\n",
    "    plt.plot(epochs_range, history.history['val_' + key], label='val_' + key)\n",
    "    plt.legend(loc='lower right')\n",
    "    plt.title('Training and Validation')\n",
    "plt.show()"
   ]
  },
  {
   "cell_type": "markdown",
   "id": "cbdd2bc4",
   "metadata": {},
   "source": [
    "## 2º Entrenamiento\n",
    "Ahora vamos a entrenar tambien la red preentrenada, pero no queremos entrenar todas las capas, únicamente las capas más profundas, ya que las primeras capas son muy genéricas."
   ]
  },
  {
   "cell_type": "markdown",
   "id": "369658a2",
   "metadata": {},
   "source": [
    "### Ajustar el entrenamiento de la red preentrenada"
   ]
  },
  {
   "cell_type": "code",
   "execution_count": 45,
   "id": "67af1234",
   "metadata": {},
   "outputs": [],
   "source": [
    "conv_base.trainable = True"
   ]
  },
  {
   "cell_type": "code",
   "execution_count": 46,
   "id": "1403d59e",
   "metadata": {},
   "outputs": [
    {
     "data": {
      "text/plain": [
       "237"
      ]
     },
     "execution_count": 46,
     "metadata": {},
     "output_type": "execute_result"
    }
   ],
   "source": [
    "len(conv_base.layers)"
   ]
  },
  {
   "cell_type": "markdown",
   "id": "52d5eefd",
   "metadata": {},
   "source": [
    "Vamos a entrenar desde la capa 100"
   ]
  },
  {
   "cell_type": "code",
   "execution_count": 47,
   "id": "9fa0a975",
   "metadata": {},
   "outputs": [],
   "source": [
    "fine_tune_at = 100\n",
    "\n",
    "for layer in conv_base.layers[:fine_tune_at]:\n",
    "    layer.trainable = False"
   ]
  },
  {
   "cell_type": "code",
   "execution_count": 48,
   "id": "a21bf06b",
   "metadata": {},
   "outputs": [
    {
     "data": {
      "text/plain": [
       "131"
      ]
     },
     "execution_count": 48,
     "metadata": {},
     "output_type": "execute_result"
    }
   ],
   "source": [
    "len(model.trainable_variables)"
   ]
  },
  {
   "cell_type": "markdown",
   "id": "caf2f222",
   "metadata": {},
   "source": [
    "## Hiperparámetros\n",
    "Como el modelo es mucho más grande tenemos que usar un learning rate más bajo del que usabamos.\n",
    "Vamos a utilizar dos learning rates, uno para el modelo preentrenado y otro para las capas nuevas"
   ]
  },
  {
   "cell_type": "code",
   "execution_count": 49,
   "id": "458e9050",
   "metadata": {},
   "outputs": [],
   "source": [
    "opt = [tf.keras.optimizers.Adam(learning_rate = lr), tf.keras.optimizers.RMSprop(learning_rate = lr/10)]\n",
    "optimizers_and_layers = [(opt[0], model.layers[0]),\n",
    "                         (opt[1], model.layers[1]),\n",
    "                         (opt[0], model.layers[2:])]\n",
    "opt = tfa.optimizers.MultiOptimizer(optimizers_and_layers)"
   ]
  },
  {
   "cell_type": "code",
   "execution_count": 50,
   "id": "bc6598c5",
   "metadata": {},
   "outputs": [],
   "source": [
    "batch_size = 4\n",
    "fine_tune_epochs = 100\n",
    "total_epoch = initial_epochs + fine_tune_epochs"
   ]
  },
  {
   "cell_type": "markdown",
   "id": "54f8108d",
   "metadata": {},
   "source": [
    "### Entrenamiento"
   ]
  },
  {
   "cell_type": "code",
   "execution_count": 51,
   "id": "a31238fb",
   "metadata": {},
   "outputs": [],
   "source": [
    "model.compile(optimizer=opt, loss = loss , metrics = met)"
   ]
  },
  {
   "cell_type": "code",
   "execution_count": 52,
   "id": "b729d8a7",
   "metadata": {},
   "outputs": [
    {
     "name": "stdout",
     "output_type": "stream",
     "text": [
      "Epoch 50/150\n",
      "12/12 [==============================] - 48s 233ms/step - loss: 68.4408 - binary_accuracy: 0.4539 - true_positives: 12.2308 - val_loss: 0.8786 - val_binary_accuracy: 0.6667 - val_true_positives: 8.0000\n",
      "Epoch 51/150\n",
      "12/12 [==============================] - 1s 62ms/step - loss: 11.2912 - binary_accuracy: 0.4589 - true_positives: 12.6154 - val_loss: 1.3282 - val_binary_accuracy: 0.6667 - val_true_positives: 8.0000\n",
      "Epoch 52/150\n",
      "12/12 [==============================] - 1s 62ms/step - loss: 1.4848 - binary_accuracy: 0.3486 - true_positives: 11.2308 - val_loss: 1.5929 - val_binary_accuracy: 0.6667 - val_true_positives: 8.0000\n",
      "Epoch 53/150\n",
      "12/12 [==============================] - 1s 65ms/step - loss: 0.8824 - binary_accuracy: 0.4158 - true_positives: 11.7692 - val_loss: 1.7368 - val_binary_accuracy: 0.6667 - val_true_positives: 8.0000\n",
      "Epoch 54/150\n",
      "12/12 [==============================] - 1s 62ms/step - loss: 0.7493 - binary_accuracy: 0.3752 - true_positives: 10.5385 - val_loss: 1.8250 - val_binary_accuracy: 0.6667 - val_true_positives: 8.0000\n",
      "Epoch 55/150\n",
      "12/12 [==============================] - 1s 63ms/step - loss: 0.7908 - binary_accuracy: 0.3610 - true_positives: 10.8462 - val_loss: 1.9684 - val_binary_accuracy: 0.6667 - val_true_positives: 8.0000\n",
      "Epoch 56/150\n",
      "12/12 [==============================] - 1s 63ms/step - loss: 0.6963 - binary_accuracy: 0.3931 - true_positives: 11.7692 - val_loss: 1.9222 - val_binary_accuracy: 0.6667 - val_true_positives: 8.0000\n",
      "Epoch 57/150\n",
      "12/12 [==============================] - 1s 64ms/step - loss: 0.8590 - binary_accuracy: 0.4618 - true_positives: 12.3077 - val_loss: 1.5610 - val_binary_accuracy: 0.6667 - val_true_positives: 8.0000\n",
      "Epoch 58/150\n",
      "12/12 [==============================] - 1s 63ms/step - loss: 0.7050 - binary_accuracy: 0.3021 - true_positives: 10.1538 - val_loss: 1.3044 - val_binary_accuracy: 0.6667 - val_true_positives: 8.0000\n",
      "Epoch 59/150\n",
      "12/12 [==============================] - 1s 63ms/step - loss: 0.7243 - binary_accuracy: 0.4587 - true_positives: 12.3846 - val_loss: 1.1895 - val_binary_accuracy: 0.6667 - val_true_positives: 8.0000\n",
      "Epoch 60/150\n",
      "12/12 [==============================] - 1s 79ms/step - loss: 0.7545 - binary_accuracy: 0.4773 - true_positives: 13.1538 - val_loss: 1.1351 - val_binary_accuracy: 0.6667 - val_true_positives: 8.0000\n",
      "Epoch 61/150\n",
      "12/12 [==============================] - 1s 64ms/step - loss: 0.7099 - binary_accuracy: 0.4965 - true_positives: 12.6923 - val_loss: 1.0542 - val_binary_accuracy: 0.6667 - val_true_positives: 8.0000\n",
      "Epoch 62/150\n",
      "12/12 [==============================] - 1s 64ms/step - loss: 0.7419 - binary_accuracy: 0.5539 - true_positives: 13.9231 - val_loss: 0.9632 - val_binary_accuracy: 0.6667 - val_true_positives: 8.0000\n",
      "Epoch 63/150\n",
      "12/12 [==============================] - 1s 63ms/step - loss: 0.6587 - binary_accuracy: 0.3628 - true_positives: 11.0769 - val_loss: 0.9941 - val_binary_accuracy: 0.6667 - val_true_positives: 8.0000\n",
      "Epoch 64/150\n",
      "12/12 [==============================] - 1s 62ms/step - loss: 0.6686 - binary_accuracy: 0.4560 - true_positives: 12.9231 - val_loss: 0.8018 - val_binary_accuracy: 0.6667 - val_true_positives: 8.0000\n",
      "Epoch 65/150\n",
      "12/12 [==============================] - 1s 63ms/step - loss: 0.7763 - binary_accuracy: 0.4138 - true_positives: 11.2308 - val_loss: 0.8177 - val_binary_accuracy: 0.6667 - val_true_positives: 8.0000\n",
      "Epoch 66/150\n",
      "12/12 [==============================] - 1s 64ms/step - loss: 1.2136 - binary_accuracy: 0.4673 - true_positives: 12.6923 - val_loss: 0.8533 - val_binary_accuracy: 0.6667 - val_true_positives: 8.0000\n",
      "Epoch 67/150\n",
      "12/12 [==============================] - 1s 63ms/step - loss: 0.7168 - binary_accuracy: 0.5302 - true_positives: 13.0000 - val_loss: 0.8214 - val_binary_accuracy: 0.6667 - val_true_positives: 8.0000\n",
      "Epoch 68/150\n",
      "12/12 [==============================] - 1s 63ms/step - loss: 0.7715 - binary_accuracy: 0.4461 - true_positives: 12.6154 - val_loss: 0.7335 - val_binary_accuracy: 0.6667 - val_true_positives: 8.0000\n",
      "Epoch 69/150\n",
      "12/12 [==============================] - 1s 62ms/step - loss: 0.6998 - binary_accuracy: 0.4989 - true_positives: 12.7692 - val_loss: 0.7231 - val_binary_accuracy: 0.6667 - val_true_positives: 8.0000\n",
      "Epoch 70/150\n",
      "12/12 [==============================] - 1s 64ms/step - loss: 0.7107 - binary_accuracy: 0.4373 - true_positives: 13.0769 - val_loss: 0.7236 - val_binary_accuracy: 0.6667 - val_true_positives: 8.0000\n",
      "Epoch 71/150\n",
      "12/12 [==============================] - 1s 63ms/step - loss: 0.7012 - binary_accuracy: 0.4629 - true_positives: 12.6923 - val_loss: 0.7504 - val_binary_accuracy: 0.6667 - val_true_positives: 8.0000\n",
      "Epoch 72/150\n",
      "12/12 [==============================] - 1s 62ms/step - loss: 0.6709 - binary_accuracy: 0.4068 - true_positives: 11.8462 - val_loss: 0.7445 - val_binary_accuracy: 0.6667 - val_true_positives: 8.0000\n",
      "Epoch 73/150\n",
      "12/12 [==============================] - 1s 65ms/step - loss: 0.7440 - binary_accuracy: 0.4056 - true_positives: 11.2308 - val_loss: 0.7320 - val_binary_accuracy: 0.6667 - val_true_positives: 8.0000\n",
      "Epoch 74/150\n",
      "12/12 [==============================] - 1s 63ms/step - loss: 0.7983 - binary_accuracy: 0.4001 - true_positives: 11.7692 - val_loss: 0.7372 - val_binary_accuracy: 0.6667 - val_true_positives: 8.0000\n",
      "Epoch 75/150\n",
      "12/12 [==============================] - 1s 62ms/step - loss: 0.6729 - binary_accuracy: 0.3981 - true_positives: 11.3846 - val_loss: 0.7434 - val_binary_accuracy: 0.6667 - val_true_positives: 8.0000\n",
      "Epoch 76/150\n",
      "12/12 [==============================] - 1s 62ms/step - loss: 0.6944 - binary_accuracy: 0.3806 - true_positives: 12.0000 - val_loss: 0.7450 - val_binary_accuracy: 0.6667 - val_true_positives: 8.0000\n",
      "Epoch 77/150\n",
      "12/12 [==============================] - 1s 62ms/step - loss: 0.7270 - binary_accuracy: 0.4913 - true_positives: 13.5385 - val_loss: 0.7333 - val_binary_accuracy: 0.6667 - val_true_positives: 8.0000\n",
      "Epoch 78/150\n",
      "12/12 [==============================] - 1s 63ms/step - loss: 0.7008 - binary_accuracy: 0.4185 - true_positives: 12.0769 - val_loss: 0.7909 - val_binary_accuracy: 0.6667 - val_true_positives: 8.0000\n",
      "Epoch 79/150\n",
      "12/12 [==============================] - 1s 63ms/step - loss: 0.6677 - binary_accuracy: 0.4281 - true_positives: 12.0769 - val_loss: 0.7860 - val_binary_accuracy: 0.6667 - val_true_positives: 8.0000\n",
      "Epoch 80/150\n",
      "12/12 [==============================] - 1s 65ms/step - loss: 0.6791 - binary_accuracy: 0.3857 - true_positives: 11.6923 - val_loss: 0.7854 - val_binary_accuracy: 0.6667 - val_true_positives: 8.0000\n",
      "Epoch 81/150\n",
      "12/12 [==============================] - 1s 62ms/step - loss: 0.7119 - binary_accuracy: 0.5080 - true_positives: 13.7692 - val_loss: 0.7622 - val_binary_accuracy: 0.6667 - val_true_positives: 8.0000\n",
      "Epoch 82/150\n",
      "12/12 [==============================] - 1s 63ms/step - loss: 0.7029 - binary_accuracy: 0.4423 - true_positives: 12.1538 - val_loss: 0.7287 - val_binary_accuracy: 0.6667 - val_true_positives: 8.0000\n",
      "Epoch 83/150\n",
      "12/12 [==============================] - 1s 63ms/step - loss: 0.7241 - binary_accuracy: 0.5075 - true_positives: 13.7692 - val_loss: 0.6875 - val_binary_accuracy: 0.6667 - val_true_positives: 8.0000\n",
      "Epoch 84/150\n",
      "12/12 [==============================] - 1s 63ms/step - loss: 0.7265 - binary_accuracy: 0.4820 - true_positives: 13.0769 - val_loss: 0.7976 - val_binary_accuracy: 0.6667 - val_true_positives: 8.0000\n",
      "Epoch 85/150\n",
      "12/12 [==============================] - 1s 64ms/step - loss: 0.6992 - binary_accuracy: 0.5047 - true_positives: 12.7692 - val_loss: 0.8490 - val_binary_accuracy: 0.6667 - val_true_positives: 8.0000\n",
      "Epoch 86/150\n",
      "12/12 [==============================] - 1s 63ms/step - loss: 0.7063 - binary_accuracy: 0.4566 - true_positives: 11.8462 - val_loss: 0.8047 - val_binary_accuracy: 0.6667 - val_true_positives: 8.0000\n",
      "Epoch 87/150\n",
      "12/12 [==============================] - 1s 62ms/step - loss: 0.7141 - binary_accuracy: 0.5000 - true_positives: 13.6154 - val_loss: 0.6897 - val_binary_accuracy: 0.6667 - val_true_positives: 8.0000\n",
      "Epoch 88/150\n",
      "12/12 [==============================] - 1s 65ms/step - loss: 0.6977 - binary_accuracy: 0.3505 - true_positives: 10.6154 - val_loss: 0.7363 - val_binary_accuracy: 0.6667 - val_true_positives: 8.0000\n",
      "Epoch 89/150\n",
      "12/12 [==============================] - 1s 62ms/step - loss: 0.7054 - binary_accuracy: 0.4424 - true_positives: 11.9231 - val_loss: 0.7383 - val_binary_accuracy: 0.6667 - val_true_positives: 8.0000\n",
      "Epoch 90/150\n",
      "12/12 [==============================] - 1s 64ms/step - loss: 0.6777 - binary_accuracy: 0.3692 - true_positives: 11.0000 - val_loss: 0.7533 - val_binary_accuracy: 0.6667 - val_true_positives: 8.0000\n",
      "Epoch 91/150\n",
      "12/12 [==============================] - 1s 62ms/step - loss: 0.6864 - binary_accuracy: 0.4435 - true_positives: 12.1538 - val_loss: 0.7329 - val_binary_accuracy: 0.6667 - val_true_positives: 8.0000\n",
      "Epoch 92/150\n",
      "12/12 [==============================] - 1s 63ms/step - loss: 0.6610 - binary_accuracy: 0.3783 - true_positives: 12.0769 - val_loss: 0.7098 - val_binary_accuracy: 0.6667 - val_true_positives: 8.0000\n",
      "Epoch 93/150\n",
      "12/12 [==============================] - 1s 62ms/step - loss: 0.7029 - binary_accuracy: 0.5442 - true_positives: 13.6154 - val_loss: 0.7240 - val_binary_accuracy: 0.6667 - val_true_positives: 8.0000\n",
      "Epoch 94/150\n",
      "12/12 [==============================] - 1s 65ms/step - loss: 0.6845 - binary_accuracy: 0.3655 - true_positives: 11.3077 - val_loss: 0.7900 - val_binary_accuracy: 0.6667 - val_true_positives: 8.0000\n",
      "Epoch 95/150\n",
      "12/12 [==============================] - 1s 63ms/step - loss: 0.7414 - binary_accuracy: 0.4724 - true_positives: 12.6154 - val_loss: 0.7717 - val_binary_accuracy: 0.6667 - val_true_positives: 8.0000\n",
      "Epoch 96/150\n",
      "12/12 [==============================] - 1s 64ms/step - loss: 0.7042 - binary_accuracy: 0.4258 - true_positives: 11.9231 - val_loss: 0.7677 - val_binary_accuracy: 0.6667 - val_true_positives: 8.0000\n",
      "Epoch 97/150\n",
      "12/12 [==============================] - 1s 63ms/step - loss: 0.7397 - binary_accuracy: 0.4910 - true_positives: 13.0769 - val_loss: 0.7316 - val_binary_accuracy: 0.6667 - val_true_positives: 8.0000\n",
      "Epoch 98/150\n",
      "12/12 [==============================] - 1s 62ms/step - loss: 0.7017 - binary_accuracy: 0.5102 - true_positives: 13.3846 - val_loss: 0.7195 - val_binary_accuracy: 0.6667 - val_true_positives: 8.0000\n",
      "Epoch 99/150\n",
      "12/12 [==============================] - 1s 65ms/step - loss: 0.6938 - binary_accuracy: 0.4852 - true_positives: 12.5385 - val_loss: 0.7539 - val_binary_accuracy: 0.6667 - val_true_positives: 8.0000\n",
      "Epoch 100/150\n",
      "12/12 [==============================] - 1s 62ms/step - loss: 0.6967 - binary_accuracy: 0.4753 - true_positives: 13.0000 - val_loss: 0.7434 - val_binary_accuracy: 0.6667 - val_true_positives: 8.0000\n",
      "Epoch 101/150\n",
      "12/12 [==============================] - 1s 62ms/step - loss: 0.6897 - binary_accuracy: 0.4299 - true_positives: 11.9231 - val_loss: 0.7719 - val_binary_accuracy: 0.6667 - val_true_positives: 8.0000\n",
      "Epoch 102/150\n",
      "12/12 [==============================] - 1s 63ms/step - loss: 0.6861 - binary_accuracy: 0.4127 - true_positives: 12.2308 - val_loss: 0.7279 - val_binary_accuracy: 0.6667 - val_true_positives: 8.0000\n",
      "Epoch 103/150\n",
      "12/12 [==============================] - 1s 63ms/step - loss: 0.6747 - binary_accuracy: 0.3547 - true_positives: 11.3077 - val_loss: 0.7577 - val_binary_accuracy: 0.6667 - val_true_positives: 8.0000\n",
      "Epoch 104/150\n",
      "12/12 [==============================] - 1s 63ms/step - loss: 0.7087 - binary_accuracy: 0.4873 - true_positives: 13.0769 - val_loss: 0.7048 - val_binary_accuracy: 0.6667 - val_true_positives: 8.0000\n",
      "Epoch 105/150\n",
      "12/12 [==============================] - 1s 63ms/step - loss: 0.6843 - binary_accuracy: 0.3876 - true_positives: 11.3077 - val_loss: 0.7599 - val_binary_accuracy: 0.6667 - val_true_positives: 8.0000\n",
      "Epoch 106/150\n",
      "12/12 [==============================] - 1s 64ms/step - loss: 0.6936 - binary_accuracy: 0.4040 - true_positives: 11.6154 - val_loss: 0.7278 - val_binary_accuracy: 0.6667 - val_true_positives: 8.0000\n",
      "Epoch 107/150\n",
      "12/12 [==============================] - 1s 63ms/step - loss: 0.6953 - binary_accuracy: 0.3943 - true_positives: 11.5385 - val_loss: 0.6955 - val_binary_accuracy: 0.6667 - val_true_positives: 8.0000\n",
      "Epoch 108/150\n",
      "12/12 [==============================] - 1s 63ms/step - loss: 0.6911 - binary_accuracy: 0.4733 - true_positives: 12.7692 - val_loss: 0.7081 - val_binary_accuracy: 0.6667 - val_true_positives: 8.0000\n",
      "Epoch 109/150\n",
      "12/12 [==============================] - 1s 63ms/step - loss: 0.7046 - binary_accuracy: 0.5104 - true_positives: 13.5385 - val_loss: 0.7334 - val_binary_accuracy: 0.6667 - val_true_positives: 8.0000\n",
      "Epoch 110/150\n",
      "12/12 [==============================] - 1s 63ms/step - loss: 0.7121 - binary_accuracy: 0.4645 - true_positives: 12.4615 - val_loss: 0.7888 - val_binary_accuracy: 0.6667 - val_true_positives: 8.0000\n",
      "Epoch 111/150\n",
      "12/12 [==============================] - 1s 63ms/step - loss: 0.6998 - binary_accuracy: 0.4629 - true_positives: 12.3846 - val_loss: 0.7084 - val_binary_accuracy: 0.6667 - val_true_positives: 8.0000\n",
      "Epoch 112/150\n",
      "12/12 [==============================] - 1s 62ms/step - loss: 0.6918 - binary_accuracy: 0.4414 - true_positives: 12.3077 - val_loss: 0.7042 - val_binary_accuracy: 0.6667 - val_true_positives: 8.0000\n",
      "Epoch 113/150\n",
      "12/12 [==============================] - 1s 64ms/step - loss: 0.6830 - binary_accuracy: 0.4271 - true_positives: 12.0000 - val_loss: 0.7280 - val_binary_accuracy: 0.6667 - val_true_positives: 8.0000\n",
      "Epoch 114/150\n",
      "12/12 [==============================] - 1s 66ms/step - loss: 0.7060 - binary_accuracy: 0.4363 - true_positives: 11.6923 - val_loss: 0.7366 - val_binary_accuracy: 0.6667 - val_true_positives: 8.0000\n",
      "Epoch 115/150\n",
      "12/12 [==============================] - 1s 63ms/step - loss: 0.7159 - binary_accuracy: 0.4306 - true_positives: 11.8462 - val_loss: 0.7224 - val_binary_accuracy: 0.6667 - val_true_positives: 8.0000\n",
      "Epoch 116/150\n",
      "12/12 [==============================] - 1s 63ms/step - loss: 0.6830 - binary_accuracy: 0.3847 - true_positives: 11.6154 - val_loss: 0.7174 - val_binary_accuracy: 0.6667 - val_true_positives: 8.0000\n",
      "Epoch 117/150\n",
      "12/12 [==============================] - 1s 64ms/step - loss: 0.6831 - binary_accuracy: 0.3585 - true_positives: 11.4615 - val_loss: 0.7569 - val_binary_accuracy: 0.6667 - val_true_positives: 8.0000\n",
      "Epoch 118/150\n",
      "12/12 [==============================] - 1s 62ms/step - loss: 0.8111 - binary_accuracy: 0.4698 - true_positives: 12.6923 - val_loss: 0.7322 - val_binary_accuracy: 0.6667 - val_true_positives: 8.0000\n",
      "Epoch 119/150\n",
      "12/12 [==============================] - 1s 63ms/step - loss: 0.6788 - binary_accuracy: 0.4574 - true_positives: 12.1538 - val_loss: 0.7361 - val_binary_accuracy: 0.6667 - val_true_positives: 8.0000\n",
      "Epoch 120/150\n",
      "12/12 [==============================] - 1s 63ms/step - loss: 0.7367 - binary_accuracy: 0.6077 - true_positives: 14.1538 - val_loss: 0.7643 - val_binary_accuracy: 0.6667 - val_true_positives: 8.0000\n",
      "Epoch 121/150\n",
      "12/12 [==============================] - 1s 62ms/step - loss: 0.6996 - binary_accuracy: 0.3741 - true_positives: 10.9231 - val_loss: 0.8103 - val_binary_accuracy: 0.6667 - val_true_positives: 8.0000\n",
      "Epoch 122/150\n",
      "12/12 [==============================] - 1s 64ms/step - loss: 0.7325 - binary_accuracy: 0.5084 - true_positives: 13.6154 - val_loss: 0.7219 - val_binary_accuracy: 0.6667 - val_true_positives: 8.0000\n",
      "Epoch 123/150\n",
      "12/12 [==============================] - 1s 63ms/step - loss: 0.6981 - binary_accuracy: 0.3896 - true_positives: 11.2308 - val_loss: 0.7411 - val_binary_accuracy: 0.6667 - val_true_positives: 8.0000\n",
      "Epoch 124/150\n",
      "12/12 [==============================] - 1s 63ms/step - loss: 0.6911 - binary_accuracy: 0.3793 - true_positives: 11.7692 - val_loss: 0.7010 - val_binary_accuracy: 0.6667 - val_true_positives: 8.0000\n",
      "Epoch 125/150\n",
      "12/12 [==============================] - 1s 63ms/step - loss: 0.6890 - binary_accuracy: 0.3195 - true_positives: 10.0000 - val_loss: 0.8088 - val_binary_accuracy: 0.6667 - val_true_positives: 8.0000\n",
      "Epoch 126/150\n",
      "12/12 [==============================] - 1s 63ms/step - loss: 0.7745 - binary_accuracy: 0.5780 - true_positives: 14.3846 - val_loss: 0.7157 - val_binary_accuracy: 0.6667 - val_true_positives: 8.0000\n",
      "Epoch 127/150\n",
      "12/12 [==============================] - 1s 63ms/step - loss: 0.6970 - binary_accuracy: 0.3935 - true_positives: 11.1538 - val_loss: 0.7741 - val_binary_accuracy: 0.6667 - val_true_positives: 8.0000\n",
      "Epoch 128/150\n",
      "12/12 [==============================] - 1s 62ms/step - loss: 0.6673 - binary_accuracy: 0.3672 - true_positives: 11.6154 - val_loss: 0.7505 - val_binary_accuracy: 0.6667 - val_true_positives: 8.0000\n",
      "Epoch 129/150\n",
      "12/12 [==============================] - 1s 63ms/step - loss: 0.7475 - binary_accuracy: 0.5589 - true_positives: 13.6923 - val_loss: 0.6836 - val_binary_accuracy: 0.6667 - val_true_positives: 8.0000\n",
      "Epoch 130/150\n",
      "12/12 [==============================] - 1s 63ms/step - loss: 0.6836 - binary_accuracy: 0.5433 - true_positives: 13.6923 - val_loss: 0.7169 - val_binary_accuracy: 0.6667 - val_true_positives: 8.0000\n",
      "Epoch 131/150\n",
      "12/12 [==============================] - 1s 63ms/step - loss: 0.6894 - binary_accuracy: 0.4063 - true_positives: 11.7692 - val_loss: 0.7806 - val_binary_accuracy: 0.6667 - val_true_positives: 8.0000\n",
      "Epoch 132/150\n",
      "12/12 [==============================] - 1s 63ms/step - loss: 0.7104 - binary_accuracy: 0.4703 - true_positives: 12.9231 - val_loss: 0.7186 - val_binary_accuracy: 0.6667 - val_true_positives: 8.0000\n",
      "Epoch 133/150\n",
      "12/12 [==============================] - 1s 63ms/step - loss: 0.6696 - binary_accuracy: 0.4676 - true_positives: 12.8462 - val_loss: 0.7215 - val_binary_accuracy: 0.6667 - val_true_positives: 8.0000\n",
      "Epoch 134/150\n",
      "12/12 [==============================] - 1s 63ms/step - loss: 0.7056 - binary_accuracy: 0.4840 - true_positives: 13.3077 - val_loss: 0.7491 - val_binary_accuracy: 0.6667 - val_true_positives: 8.0000\n",
      "Epoch 135/150\n",
      "12/12 [==============================] - 1s 64ms/step - loss: 0.6953 - binary_accuracy: 0.4212 - true_positives: 12.0000 - val_loss: 0.7859 - val_binary_accuracy: 0.6667 - val_true_positives: 8.0000\n",
      "Epoch 136/150\n",
      "12/12 [==============================] - 1s 64ms/step - loss: 0.6881 - binary_accuracy: 0.4477 - true_positives: 11.6154 - val_loss: 0.7426 - val_binary_accuracy: 0.6667 - val_true_positives: 8.0000\n",
      "Epoch 137/150\n",
      "12/12 [==============================] - 1s 64ms/step - loss: 0.6928 - binary_accuracy: 0.4329 - true_positives: 12.0000 - val_loss: 0.7067 - val_binary_accuracy: 0.6667 - val_true_positives: 8.0000\n",
      "Epoch 138/150\n",
      "12/12 [==============================] - 1s 63ms/step - loss: 0.6811 - binary_accuracy: 0.3501 - true_positives: 10.6923 - val_loss: 0.7442 - val_binary_accuracy: 0.6667 - val_true_positives: 8.0000\n",
      "Epoch 139/150\n",
      "12/12 [==============================] - 1s 63ms/step - loss: 0.6798 - binary_accuracy: 0.4497 - true_positives: 12.3077 - val_loss: 0.7175 - val_binary_accuracy: 0.6667 - val_true_positives: 8.0000\n",
      "Epoch 140/150\n",
      "12/12 [==============================] - 1s 63ms/step - loss: 0.6776 - binary_accuracy: 0.3033 - true_positives: 10.1538 - val_loss: 0.7371 - val_binary_accuracy: 0.6667 - val_true_positives: 8.0000\n",
      "Epoch 141/150\n",
      "12/12 [==============================] - 1s 63ms/step - loss: 0.6776 - binary_accuracy: 0.4183 - true_positives: 10.9231 - val_loss: 0.7641 - val_binary_accuracy: 0.6667 - val_true_positives: 8.0000\n",
      "Epoch 142/150\n",
      "12/12 [==============================] - 1s 63ms/step - loss: 0.7022 - binary_accuracy: 0.4158 - true_positives: 11.8462 - val_loss: 0.7488 - val_binary_accuracy: 0.6667 - val_true_positives: 8.0000\n",
      "Epoch 143/150\n",
      "12/12 [==============================] - 1s 63ms/step - loss: 0.6804 - binary_accuracy: 0.4083 - true_positives: 11.7692 - val_loss: 0.7457 - val_binary_accuracy: 0.6667 - val_true_positives: 8.0000\n",
      "Epoch 144/150\n",
      "12/12 [==============================] - 1s 63ms/step - loss: 0.6847 - binary_accuracy: 0.4595 - true_positives: 12.4615 - val_loss: 0.7213 - val_binary_accuracy: 0.6667 - val_true_positives: 8.0000\n",
      "Epoch 145/150\n",
      "12/12 [==============================] - 1s 67ms/step - loss: 0.6972 - binary_accuracy: 0.3940 - true_positives: 11.5385 - val_loss: 0.7274 - val_binary_accuracy: 0.6667 - val_true_positives: 8.0000\n",
      "Epoch 146/150\n",
      "12/12 [==============================] - 1s 60ms/step - loss: 0.6943 - binary_accuracy: 0.4490 - true_positives: 11.6923 - val_loss: 0.7223 - val_binary_accuracy: 0.6667 - val_true_positives: 8.0000\n",
      "Epoch 147/150\n",
      "12/12 [==============================] - 1s 64ms/step - loss: 0.6727 - binary_accuracy: 0.4288 - true_positives: 12.0000 - val_loss: 0.7281 - val_binary_accuracy: 0.6667 - val_true_positives: 8.0000\n",
      "Epoch 148/150\n",
      "12/12 [==============================] - 1s 63ms/step - loss: 0.6983 - binary_accuracy: 0.4508 - true_positives: 11.8462 - val_loss: 0.7298 - val_binary_accuracy: 0.6667 - val_true_positives: 8.0000\n",
      "Epoch 149/150\n",
      "12/12 [==============================] - 1s 63ms/step - loss: 0.6646 - binary_accuracy: 0.4060 - true_positives: 11.5385 - val_loss: 0.7272 - val_binary_accuracy: 0.6667 - val_true_positives: 8.0000\n",
      "Epoch 150/150\n",
      "12/12 [==============================] - 1s 64ms/step - loss: 0.6954 - binary_accuracy: 0.3579 - true_positives: 11.5385 - val_loss: 0.7292 - val_binary_accuracy: 0.6667 - val_true_positives: 8.0000\n"
     ]
    }
   ],
   "source": [
    "history = model.fit(datagen.flow(Xs_train,Ys_train, subset = 'training', batch_size = batch_size), \n",
    "                    epochs = total_epoch,\n",
    "                    initial_epoch=history.epoch[-1],\n",
    "                    callbacks = tensorboard_callback,\n",
    "                    validation_data = (X_test, Y_test))"
   ]
  },
  {
   "cell_type": "code",
   "execution_count": 53,
   "id": "56c69160",
   "metadata": {},
   "outputs": [
    {
     "data": {
      "image/png": "[encoded data removed]",
      "text/plain": [
       "<Figure size 360x360 with 1 Axes>"
      ]
     },
     "metadata": {
      "needs_background": "light"
     },
     "output_type": "display_data"
    },
    {
     "data": {
      "image/png": "[encoded data removed]",
      "text/plain": [
       "<Figure size 360x360 with 1 Axes>"
      ]
     },
     "metadata": {
      "needs_background": "light"
     },
     "output_type": "display_data"
    },
    {
     "data": {
      "image/png": "[encoded data removed]",
      "text/plain": [
       "<Figure size 360x360 with 1 Axes>"
      ]
     },
     "metadata": {
      "needs_background": "light"
     },
     "output_type": "display_data"
    }
   ],
   "source": [
    "epochs_range = len(history.history['loss'])\n",
    "i = 0\n",
    "for i in range(int(len(history.history.keys())/2)):\n",
    "    key = list(history.history.keys())[i]\n",
    "    \n",
    "    plt.figure(figsize=(5, 5))\n",
    "    plt.subplot(1, 1, 1)\n",
    "    plt.plot(history.history[key], label=key)\n",
    "    plt.plot(history.history['val_' + key], label='val_' + key)\n",
    "    plt.legend(loc='lower right')\n",
    "    plt.title('Training and Validation')\n",
    "plt.show()"
   ]
  },
  {
   "cell_type": "code",
   "execution_count": null,
   "id": "f54d0336",
   "metadata": {},
   "outputs": [],
   "source": []
  }
 ],
 "metadata": {
  "kernelspec": {
   "display_name": "Python 3",
   "language": "python",
   "name": "python3"
  },
  "language_info": {
   "codemirror_mode": {
    "name": "ipython",
    "version": 3
   },
   "file_extension": ".py",
   "mimetype": "text/x-python",
   "name": "python",
   "nbconvert_exporter": "python",
   "pygments_lexer": "ipython3",
   "version": "3.6.8"
  }
 },
 "nbformat": 4,
 "nbformat_minor": 5
}
