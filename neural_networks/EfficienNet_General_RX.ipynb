{
 "cells": [
  {
   "cell_type": "code",
   "execution_count": 1,
   "id": "2ce11c35-6786-42a3-93a4-3add1e81506e",
   "metadata": {},
   "outputs": [],
   "source": [
    "import os\n",
    "import pandas as pd\n",
    "import numpy as np\n",
    "import PIL\n",
    "import tensorflow as tf\n",
    "import matplotlib.pyplot as plt\n",
    "import datetime\n",
    "import cv2\n",
    "\n",
    "from sklearn import model_selection\n",
    "from PIL import Image\n",
    "from skimage import exposure\n",
    "\n",
    "from tensorflow.keras.applications import EfficientNetB0\n",
    "from tensorflow.keras import models\n",
    "from tensorflow.keras import layers\n",
    "import tensorflow_addons as tfa"
   ]
  },
  {
   "cell_type": "code",
   "execution_count": 2,
   "id": "2281de98",
   "metadata": {},
   "outputs": [],
   "source": [
    "os.environ['CUDA_VISIBLE_DEVICES'] = '1'"
   ]
  },
  {
   "cell_type": "markdown",
   "id": "9a053cf2",
   "metadata": {},
   "source": [
    "# Datos"
   ]
  },
  {
   "cell_type": "markdown",
   "id": "64351b82-f288-46d1-a54a-d925f155532e",
   "metadata": {},
   "source": [
    "## Dataframe"
   ]
  },
  {
   "cell_type": "code",
   "execution_count": 3,
   "id": "aa71bfcd-76cf-46e2-9a25-e45eac831c2c",
   "metadata": {},
   "outputs": [],
   "source": [
    "path = '/home/maryskal/Downloads/archive/vinbigdata'\n",
    "path = '/home/mr1142/Documents/Data/vinbigdata'"
   ]
  },
  {
   "cell_type": "code",
   "execution_count": 4,
   "id": "af92b534-8245-4f72-bf5c-6db915989f07",
   "metadata": {},
   "outputs": [],
   "source": [
    "df = pd.read_csv(os.path.join(path, 'train.csv'))"
   ]
  },
  {
   "cell_type": "code",
   "execution_count": 5,
   "id": "7275a5c7-72a5-4333-b78c-24a0b97f722f",
   "metadata": {},
   "outputs": [
    {
     "data": {
      "text/html": [
       "<div>\n",
       "<style scoped>\n",
       "    .dataframe tbody tr th:only-of-type {\n",
       "        vertical-align: middle;\n",
       "    }\n",
       "\n",
       "    .dataframe tbody tr th {\n",
       "        vertical-align: top;\n",
       "    }\n",
       "\n",
       "    .dataframe thead th {\n",
       "        text-align: right;\n",
       "    }\n",
       "</style>\n",
       "<table border=\"1\" class=\"dataframe\">\n",
       "  <thead>\n",
       "    <tr style=\"text-align: right;\">\n",
       "      <th></th>\n",
       "      <th>image_id</th>\n",
       "      <th>class_name</th>\n",
       "      <th>class_id</th>\n",
       "      <th>rad_id</th>\n",
       "      <th>x_min</th>\n",
       "      <th>y_min</th>\n",
       "      <th>x_max</th>\n",
       "      <th>y_max</th>\n",
       "      <th>width</th>\n",
       "      <th>height</th>\n",
       "    </tr>\n",
       "  </thead>\n",
       "  <tbody>\n",
       "    <tr>\n",
       "      <th>0</th>\n",
       "      <td>50a418190bc3fb1ef1633bf9678929b3</td>\n",
       "      <td>No finding</td>\n",
       "      <td>14</td>\n",
       "      <td>R11</td>\n",
       "      <td>NaN</td>\n",
       "      <td>NaN</td>\n",
       "      <td>NaN</td>\n",
       "      <td>NaN</td>\n",
       "      <td>2332</td>\n",
       "      <td>2580</td>\n",
       "    </tr>\n",
       "    <tr>\n",
       "      <th>1</th>\n",
       "      <td>21a10246a5ec7af151081d0cd6d65dc9</td>\n",
       "      <td>No finding</td>\n",
       "      <td>14</td>\n",
       "      <td>R7</td>\n",
       "      <td>NaN</td>\n",
       "      <td>NaN</td>\n",
       "      <td>NaN</td>\n",
       "      <td>NaN</td>\n",
       "      <td>2954</td>\n",
       "      <td>3159</td>\n",
       "    </tr>\n",
       "    <tr>\n",
       "      <th>2</th>\n",
       "      <td>9a5094b2563a1ef3ff50dc5c7ff71345</td>\n",
       "      <td>Cardiomegaly</td>\n",
       "      <td>3</td>\n",
       "      <td>R10</td>\n",
       "      <td>691.0</td>\n",
       "      <td>1375.0</td>\n",
       "      <td>1653.0</td>\n",
       "      <td>1831.0</td>\n",
       "      <td>2080</td>\n",
       "      <td>2336</td>\n",
       "    </tr>\n",
       "    <tr>\n",
       "      <th>3</th>\n",
       "      <td>051132a778e61a86eb147c7c6f564dfe</td>\n",
       "      <td>Aortic enlargement</td>\n",
       "      <td>0</td>\n",
       "      <td>R10</td>\n",
       "      <td>1264.0</td>\n",
       "      <td>743.0</td>\n",
       "      <td>1611.0</td>\n",
       "      <td>1019.0</td>\n",
       "      <td>2304</td>\n",
       "      <td>2880</td>\n",
       "    </tr>\n",
       "    <tr>\n",
       "      <th>4</th>\n",
       "      <td>063319de25ce7edb9b1c6b8881290140</td>\n",
       "      <td>No finding</td>\n",
       "      <td>14</td>\n",
       "      <td>R10</td>\n",
       "      <td>NaN</td>\n",
       "      <td>NaN</td>\n",
       "      <td>NaN</td>\n",
       "      <td>NaN</td>\n",
       "      <td>2540</td>\n",
       "      <td>3072</td>\n",
       "    </tr>\n",
       "  </tbody>\n",
       "</table>\n",
       "</div>"
      ],
      "text/plain": [
       "                           image_id          class_name  class_id rad_id  \\\n",
       "0  50a418190bc3fb1ef1633bf9678929b3          No finding        14    R11   \n",
       "1  21a10246a5ec7af151081d0cd6d65dc9          No finding        14     R7   \n",
       "2  9a5094b2563a1ef3ff50dc5c7ff71345        Cardiomegaly         3    R10   \n",
       "3  051132a778e61a86eb147c7c6f564dfe  Aortic enlargement         0    R10   \n",
       "4  063319de25ce7edb9b1c6b8881290140          No finding        14    R10   \n",
       "\n",
       "    x_min   y_min   x_max   y_max  width  height  \n",
       "0     NaN     NaN     NaN     NaN   2332    2580  \n",
       "1     NaN     NaN     NaN     NaN   2954    3159  \n",
       "2   691.0  1375.0  1653.0  1831.0   2080    2336  \n",
       "3  1264.0   743.0  1611.0  1019.0   2304    2880  \n",
       "4     NaN     NaN     NaN     NaN   2540    3072  "
      ]
     },
     "execution_count": 5,
     "metadata": {},
     "output_type": "execute_result"
    }
   ],
   "source": [
    "df.head()"
   ]
  },
  {
   "cell_type": "code",
   "execution_count": 6,
   "id": "7bc36922-03b1-4c77-9196-4d43afd0d9fb",
   "metadata": {},
   "outputs": [
    {
     "name": "stdout",
     "output_type": "stream",
     "text": [
      "class name: Aortic enlargement\n",
      "ID: 14\n",
      "7162\n",
      "class name: Atelectasis\n",
      "ID: 14\n",
      "279\n",
      "class name: Calcification\n",
      "ID: 3\n",
      "960\n",
      "class name: Cardiomegaly\n",
      "ID: 0\n",
      "5427\n",
      "class name: Consolidation\n",
      "ID: 14\n",
      "556\n",
      "class name: ILD\n",
      "ID: 11\n",
      "1000\n",
      "class name: Infiltration\n",
      "ID: 5\n",
      "1247\n",
      "class name: Lung Opacity\n",
      "ID: 8\n",
      "2483\n",
      "class name: No finding\n",
      "ID: 0\n",
      "31818\n",
      "class name: Nodule/Mass\n",
      "ID: 13\n",
      "2580\n",
      "class name: Other lesion\n",
      "ID: 7\n",
      "2203\n",
      "class name: Pleural effusion\n",
      "ID: 13\n",
      "2476\n",
      "class name: Pleural thickening\n",
      "ID: 14\n",
      "4842\n",
      "class name: Pneumothorax\n",
      "ID: 14\n",
      "226\n",
      "class name: Pulmonary fibrosis\n",
      "ID: 0\n",
      "4655\n"
     ]
    }
   ],
   "source": [
    "for i, finding in enumerate(np.unique(df.class_name)):\n",
    "    print(f'class name: {finding}')\n",
    "    print(f'ID: {df.class_id[i]}')\n",
    "    print(sum(df.class_name == finding))"
   ]
  },
  {
   "cell_type": "markdown",
   "id": "1afa9ea4-e2d9-40ff-9196-ab533f9e27f2",
   "metadata": {},
   "source": [
    "Creo la clase neumonía"
   ]
  },
  {
   "cell_type": "code",
   "execution_count": 7,
   "id": "c9cfeaa2-03f5-4de3-a680-e711fbb5c024",
   "metadata": {},
   "outputs": [
    {
     "name": "stderr",
     "output_type": "stream",
     "text": [
      "/home/mr1142/miniconda3/envs/init/lib/python3.6/site-packages/ipykernel_launcher.py:4: SettingWithCopyWarning: \n",
      "A value is trying to be set on a copy of a slice from a DataFrame\n",
      "\n",
      "See the caveats in the documentation: https://pandas.pydata.org/pandas-docs/stable/user_guide/indexing.html#returning-a-view-versus-a-copy\n",
      "  after removing the cwd from sys.path.\n"
     ]
    }
   ],
   "source": [
    "values = ['Consolidation', 'Infiltration']\n",
    "df['Neumonia'] = 0\n",
    "index = [i for i, clase in enumerate(df.class_name) if clase in values]\n",
    "df['Neumonia'][index] = 1"
   ]
  },
  {
   "cell_type": "code",
   "execution_count": 8,
   "id": "28e13bc8",
   "metadata": {},
   "outputs": [
    {
     "data": {
      "text/html": [
       "<div>\n",
       "<style scoped>\n",
       "    .dataframe tbody tr th:only-of-type {\n",
       "        vertical-align: middle;\n",
       "    }\n",
       "\n",
       "    .dataframe tbody tr th {\n",
       "        vertical-align: top;\n",
       "    }\n",
       "\n",
       "    .dataframe thead th {\n",
       "        text-align: right;\n",
       "    }\n",
       "</style>\n",
       "<table border=\"1\" class=\"dataframe\">\n",
       "  <thead>\n",
       "    <tr style=\"text-align: right;\">\n",
       "      <th></th>\n",
       "      <th>image_id</th>\n",
       "      <th>class_name</th>\n",
       "      <th>class_id</th>\n",
       "      <th>rad_id</th>\n",
       "      <th>x_min</th>\n",
       "      <th>y_min</th>\n",
       "      <th>x_max</th>\n",
       "      <th>y_max</th>\n",
       "      <th>width</th>\n",
       "      <th>height</th>\n",
       "      <th>Neumonia</th>\n",
       "    </tr>\n",
       "  </thead>\n",
       "  <tbody>\n",
       "    <tr>\n",
       "      <th>0</th>\n",
       "      <td>50a418190bc3fb1ef1633bf9678929b3</td>\n",
       "      <td>No finding</td>\n",
       "      <td>14</td>\n",
       "      <td>R11</td>\n",
       "      <td>NaN</td>\n",
       "      <td>NaN</td>\n",
       "      <td>NaN</td>\n",
       "      <td>NaN</td>\n",
       "      <td>2332</td>\n",
       "      <td>2580</td>\n",
       "      <td>0</td>\n",
       "    </tr>\n",
       "    <tr>\n",
       "      <th>1</th>\n",
       "      <td>21a10246a5ec7af151081d0cd6d65dc9</td>\n",
       "      <td>No finding</td>\n",
       "      <td>14</td>\n",
       "      <td>R7</td>\n",
       "      <td>NaN</td>\n",
       "      <td>NaN</td>\n",
       "      <td>NaN</td>\n",
       "      <td>NaN</td>\n",
       "      <td>2954</td>\n",
       "      <td>3159</td>\n",
       "      <td>0</td>\n",
       "    </tr>\n",
       "    <tr>\n",
       "      <th>2</th>\n",
       "      <td>9a5094b2563a1ef3ff50dc5c7ff71345</td>\n",
       "      <td>Cardiomegaly</td>\n",
       "      <td>3</td>\n",
       "      <td>R10</td>\n",
       "      <td>691.0</td>\n",
       "      <td>1375.0</td>\n",
       "      <td>1653.0</td>\n",
       "      <td>1831.0</td>\n",
       "      <td>2080</td>\n",
       "      <td>2336</td>\n",
       "      <td>0</td>\n",
       "    </tr>\n",
       "    <tr>\n",
       "      <th>3</th>\n",
       "      <td>051132a778e61a86eb147c7c6f564dfe</td>\n",
       "      <td>Aortic enlargement</td>\n",
       "      <td>0</td>\n",
       "      <td>R10</td>\n",
       "      <td>1264.0</td>\n",
       "      <td>743.0</td>\n",
       "      <td>1611.0</td>\n",
       "      <td>1019.0</td>\n",
       "      <td>2304</td>\n",
       "      <td>2880</td>\n",
       "      <td>0</td>\n",
       "    </tr>\n",
       "    <tr>\n",
       "      <th>4</th>\n",
       "      <td>063319de25ce7edb9b1c6b8881290140</td>\n",
       "      <td>No finding</td>\n",
       "      <td>14</td>\n",
       "      <td>R10</td>\n",
       "      <td>NaN</td>\n",
       "      <td>NaN</td>\n",
       "      <td>NaN</td>\n",
       "      <td>NaN</td>\n",
       "      <td>2540</td>\n",
       "      <td>3072</td>\n",
       "      <td>0</td>\n",
       "    </tr>\n",
       "  </tbody>\n",
       "</table>\n",
       "</div>"
      ],
      "text/plain": [
       "                           image_id          class_name  class_id rad_id  \\\n",
       "0  50a418190bc3fb1ef1633bf9678929b3          No finding        14    R11   \n",
       "1  21a10246a5ec7af151081d0cd6d65dc9          No finding        14     R7   \n",
       "2  9a5094b2563a1ef3ff50dc5c7ff71345        Cardiomegaly         3    R10   \n",
       "3  051132a778e61a86eb147c7c6f564dfe  Aortic enlargement         0    R10   \n",
       "4  063319de25ce7edb9b1c6b8881290140          No finding        14    R10   \n",
       "\n",
       "    x_min   y_min   x_max   y_max  width  height  Neumonia  \n",
       "0     NaN     NaN     NaN     NaN   2332    2580         0  \n",
       "1     NaN     NaN     NaN     NaN   2954    3159         0  \n",
       "2   691.0  1375.0  1653.0  1831.0   2080    2336         0  \n",
       "3  1264.0   743.0  1611.0  1019.0   2304    2880         0  \n",
       "4     NaN     NaN     NaN     NaN   2540    3072         0  "
      ]
     },
     "execution_count": 8,
     "metadata": {},
     "output_type": "execute_result"
    }
   ],
   "source": [
    "df.head()"
   ]
  },
  {
   "cell_type": "markdown",
   "id": "18bb4a59-f382-4392-9f62-38937539aff8",
   "metadata": {},
   "source": [
    "Divido el dataset en dos y reduzco el de no neumonía"
   ]
  },
  {
   "cell_type": "code",
   "execution_count": 9,
   "id": "c00bb486-24bf-4954-9a86-97ef95f705ed",
   "metadata": {},
   "outputs": [],
   "source": [
    "df_neumo = df[df.Neumonia == 1].reset_index(drop=True)\n",
    "df_no_neumo = df[df.Neumonia == 0].reset_index(drop=True)"
   ]
  },
  {
   "cell_type": "code",
   "execution_count": 10,
   "id": "d93ff41a",
   "metadata": {},
   "outputs": [
    {
     "name": "stdout",
     "output_type": "stream",
     "text": [
      "1803\n",
      "66111\n"
     ]
    }
   ],
   "source": [
    "print(len(df_neumo))\n",
    "print(len(df_no_neumo))"
   ]
  },
  {
   "cell_type": "markdown",
   "id": "ba7deaec-0fc0-4489-b85c-5bf7290757c1",
   "metadata": {},
   "source": [
    "Para reducir elijo un numero de valores aleatorios que serán los índices"
   ]
  },
  {
   "cell_type": "code",
   "execution_count": 11,
   "id": "866da8d7-e852-4ee4-8e39-41e3bd50f908",
   "metadata": {},
   "outputs": [
    {
     "data": {
      "text/plain": [
       "1803"
      ]
     },
     "execution_count": 11,
     "metadata": {},
     "output_type": "execute_result"
    }
   ],
   "source": [
    "selection = np.random.randint(0, len(df_no_neumo), len(df_neumo))\n",
    "df_no_neumo = df_no_neumo.iloc[selection,:]\n",
    "len(df_no_neumo)"
   ]
  },
  {
   "cell_type": "markdown",
   "id": "6c1afdbb-d46a-4111-965c-def384d33f59",
   "metadata": {},
   "source": [
    "Genero el nuevo dataframe juntando"
   ]
  },
  {
   "cell_type": "code",
   "execution_count": 12,
   "id": "8e96a3bf-73d7-4944-894f-2fa3e47c5789",
   "metadata": {},
   "outputs": [],
   "source": [
    "df = pd.concat([df_neumo, df_no_neumo]).reset_index(drop=True)"
   ]
  },
  {
   "cell_type": "markdown",
   "id": "35aa17da-dcfb-43a2-ae86-25c4e99493d4",
   "metadata": {},
   "source": [
    "Reordeno aleatoriamente"
   ]
  },
  {
   "cell_type": "code",
   "execution_count": 13,
   "id": "fb877298-bd54-4984-b806-dfec831beba9",
   "metadata": {},
   "outputs": [],
   "source": [
    "df = df.sample(frac=1)"
   ]
  },
  {
   "cell_type": "code",
   "execution_count": 14,
   "id": "ce1d93ce",
   "metadata": {},
   "outputs": [
    {
     "data": {
      "text/html": [
       "<div>\n",
       "<style scoped>\n",
       "    .dataframe tbody tr th:only-of-type {\n",
       "        vertical-align: middle;\n",
       "    }\n",
       "\n",
       "    .dataframe tbody tr th {\n",
       "        vertical-align: top;\n",
       "    }\n",
       "\n",
       "    .dataframe thead th {\n",
       "        text-align: right;\n",
       "    }\n",
       "</style>\n",
       "<table border=\"1\" class=\"dataframe\">\n",
       "  <thead>\n",
       "    <tr style=\"text-align: right;\">\n",
       "      <th></th>\n",
       "      <th>image_id</th>\n",
       "      <th>class_name</th>\n",
       "      <th>class_id</th>\n",
       "      <th>rad_id</th>\n",
       "      <th>x_min</th>\n",
       "      <th>y_min</th>\n",
       "      <th>x_max</th>\n",
       "      <th>y_max</th>\n",
       "      <th>width</th>\n",
       "      <th>height</th>\n",
       "      <th>Neumonia</th>\n",
       "    </tr>\n",
       "  </thead>\n",
       "  <tbody>\n",
       "    <tr>\n",
       "      <th>1460</th>\n",
       "      <td>d3b82f17d58da80f02e2b0812606cee2</td>\n",
       "      <td>Consolidation</td>\n",
       "      <td>4</td>\n",
       "      <td>R9</td>\n",
       "      <td>649.0</td>\n",
       "      <td>403.0</td>\n",
       "      <td>1183.0</td>\n",
       "      <td>1093.0</td>\n",
       "      <td>3072</td>\n",
       "      <td>3072</td>\n",
       "      <td>1</td>\n",
       "    </tr>\n",
       "    <tr>\n",
       "      <th>187</th>\n",
       "      <td>eb319a3149253e25a32a6f2926cf67b2</td>\n",
       "      <td>Infiltration</td>\n",
       "      <td>6</td>\n",
       "      <td>R8</td>\n",
       "      <td>336.0</td>\n",
       "      <td>776.0</td>\n",
       "      <td>831.0</td>\n",
       "      <td>1214.0</td>\n",
       "      <td>2304</td>\n",
       "      <td>2880</td>\n",
       "      <td>1</td>\n",
       "    </tr>\n",
       "    <tr>\n",
       "      <th>1320</th>\n",
       "      <td>7d5c70800f518f6584e25b2a88238a22</td>\n",
       "      <td>Consolidation</td>\n",
       "      <td>4</td>\n",
       "      <td>R11</td>\n",
       "      <td>1426.0</td>\n",
       "      <td>1514.0</td>\n",
       "      <td>2061.0</td>\n",
       "      <td>2200.0</td>\n",
       "      <td>2288</td>\n",
       "      <td>2590</td>\n",
       "      <td>1</td>\n",
       "    </tr>\n",
       "    <tr>\n",
       "      <th>1871</th>\n",
       "      <td>6ebf12c97a3f69fae8a169416f33d768</td>\n",
       "      <td>No finding</td>\n",
       "      <td>14</td>\n",
       "      <td>R10</td>\n",
       "      <td>NaN</td>\n",
       "      <td>NaN</td>\n",
       "      <td>NaN</td>\n",
       "      <td>NaN</td>\n",
       "      <td>2540</td>\n",
       "      <td>3072</td>\n",
       "      <td>0</td>\n",
       "    </tr>\n",
       "    <tr>\n",
       "      <th>2104</th>\n",
       "      <td>d7210d8d2f377ab74e46acfb4a158e79</td>\n",
       "      <td>Nodule/Mass</td>\n",
       "      <td>8</td>\n",
       "      <td>R8</td>\n",
       "      <td>1136.0</td>\n",
       "      <td>1061.0</td>\n",
       "      <td>1295.0</td>\n",
       "      <td>1221.0</td>\n",
       "      <td>3072</td>\n",
       "      <td>3072</td>\n",
       "      <td>0</td>\n",
       "    </tr>\n",
       "  </tbody>\n",
       "</table>\n",
       "</div>"
      ],
      "text/plain": [
       "                              image_id     class_name  class_id rad_id  \\\n",
       "1460  d3b82f17d58da80f02e2b0812606cee2  Consolidation         4     R9   \n",
       "187   eb319a3149253e25a32a6f2926cf67b2   Infiltration         6     R8   \n",
       "1320  7d5c70800f518f6584e25b2a88238a22  Consolidation         4    R11   \n",
       "1871  6ebf12c97a3f69fae8a169416f33d768     No finding        14    R10   \n",
       "2104  d7210d8d2f377ab74e46acfb4a158e79    Nodule/Mass         8     R8   \n",
       "\n",
       "       x_min   y_min   x_max   y_max  width  height  Neumonia  \n",
       "1460   649.0   403.0  1183.0  1093.0   3072    3072         1  \n",
       "187    336.0   776.0   831.0  1214.0   2304    2880         1  \n",
       "1320  1426.0  1514.0  2061.0  2200.0   2288    2590         1  \n",
       "1871     NaN     NaN     NaN     NaN   2540    3072         0  \n",
       "2104  1136.0  1061.0  1295.0  1221.0   3072    3072         0  "
      ]
     },
     "execution_count": 14,
     "metadata": {},
     "output_type": "execute_result"
    }
   ],
   "source": [
    "df.head()"
   ]
  },
  {
   "cell_type": "markdown",
   "id": "c3f28223-6d19-42f8-91b7-1bb3a2d98191",
   "metadata": {},
   "source": [
    "## Imagenes"
   ]
  },
  {
   "cell_type": "code",
   "execution_count": 15,
   "id": "257e1831",
   "metadata": {},
   "outputs": [],
   "source": [
    "pixels = 512"
   ]
  },
  {
   "cell_type": "code",
   "execution_count": 16,
   "id": "d2c17ac4",
   "metadata": {},
   "outputs": [],
   "source": [
    "def equalizar(img):\n",
    "    # Contrast stretching\n",
    "    p2, p98 = np.percentile(img, (2, 98))\n",
    "    img_rescale = exposure.rescale_intensity(img, in_range=(p2, p98))\n",
    "    # Equalization\n",
    "    img_eq = exposure.equalize_hist(img)\n",
    "    # Adaptive Equalization\n",
    "    img_adapteq = exposure.equalize_adapthist(img, clip_limit=0.03)      \n",
    "    return img_adapteq"
   ]
  },
  {
   "cell_type": "code",
   "execution_count": 17,
   "id": "cc7f4499-150d-41d6-9ace-4bfdf1222a2c",
   "metadata": {},
   "outputs": [],
   "source": [
    "def clahe(img):\n",
    "    # img = cv2.resize(img, (512, 512))\n",
    "    clahe = cv2.createCLAHE(clipLimit = 10)\n",
    "    final_img = clahe.apply(img) + 30\n",
    "    return final_img"
   ]
  },
  {
   "cell_type": "code",
   "execution_count": 18,
   "id": "8aacb3e4-e873-489d-9dac-b7707fd4845b",
   "metadata": {},
   "outputs": [],
   "source": [
    "def downsample(img):\n",
    "    img = Image.fromarray(img)\n",
    "    img = img.resize((pixels,pixels))\n",
    "    img = np.array(img)\n",
    "    img = img/255\n",
    "    r = np.expand_dims(img, axis=-1)\n",
    "    return r"
   ]
  },
  {
   "cell_type": "code",
   "execution_count": 19,
   "id": "2275c6d9-6dd1-48c9-b2cc-0508d4a3c2ad",
   "metadata": {},
   "outputs": [],
   "source": [
    "def charge_img(name):\n",
    "    img = Image.open(os.path.join(path, 'train', name + '.png'))\n",
    "    img = np.array(img)\n",
    "    img = clahe(img)\n",
    "    img = downsample(img)\n",
    "    return(img)"
   ]
  },
  {
   "cell_type": "code",
   "execution_count": 20,
   "id": "b0074b50-fe33-47bf-82d3-b8d9153a6a32",
   "metadata": {},
   "outputs": [],
   "source": [
    "tensor = np.zeros((len(df.image_id), pixels, pixels, 1))\n",
    "for i in range(tensor.shape[0]):\n",
    "    tensor[i,...] = charge_img(df.image_id[i])"
   ]
  },
  {
   "cell_type": "markdown",
   "id": "2963f95b-3988-4ce9-ac9a-eb690db88474",
   "metadata": {},
   "source": [
    "## X e Y"
   ]
  },
  {
   "cell_type": "code",
   "execution_count": 21,
   "id": "ef920577-9355-493c-a3fb-a384b0cc7efc",
   "metadata": {},
   "outputs": [],
   "source": [
    "Y = np.array(df['Neumonia'])\n",
    "X = tensor"
   ]
  },
  {
   "cell_type": "code",
   "execution_count": 22,
   "id": "f492bd6e-e8da-44c8-b6dd-d548d8dc94f9",
   "metadata": {},
   "outputs": [],
   "source": [
    "X_train, X_test, Y_train, Y_test = model_selection.train_test_split(X, Y, test_size=0.2, \n",
    "                                                                    random_state=42, shuffle=True, stratify=Y )"
   ]
  },
  {
   "cell_type": "code",
   "execution_count": 23,
   "id": "1ca32602-2c40-4311-8004-612a7a7bcd54",
   "metadata": {},
   "outputs": [],
   "source": [
    "datagen = tf.keras.preprocessing.image.ImageDataGenerator(\n",
    "    featurewise_center=True,\n",
    "    featurewise_std_normalization=True,\n",
    "    rotation_range=20,\n",
    "    width_shift_range=0.2,\n",
    "    height_shift_range=0.2,\n",
    "    horizontal_flip=True,\n",
    "    validation_split=0.2)"
   ]
  },
  {
   "cell_type": "code",
   "execution_count": 24,
   "id": "5cfd914e-d6d2-43df-b883-beff15b4a90d",
   "metadata": {},
   "outputs": [],
   "source": [
    "datagen.fit(X_train)"
   ]
  },
  {
   "cell_type": "markdown",
   "id": "716261a3",
   "metadata": {},
   "source": [
    "# Modelo"
   ]
  },
  {
   "cell_type": "markdown",
   "id": "dfa7cedb",
   "metadata": {},
   "source": [
    "- Añado una capa inicial para poder entregarle el input de 3 canales. \n",
    "- Añado 1 convolución con max pooling y una segunda convolución cno globalMaxPooling para ajustar mejor\n",
    "- Añado Dropout para evitar overfiting\n",
    "- Añado la capa final con 6 neuronas de salida"
   ]
  },
  {
   "cell_type": "code",
   "execution_count": 25,
   "id": "6ee017ce",
   "metadata": {},
   "outputs": [],
   "source": [
    "input_shape = (pixels,pixels,3)\n",
    "conv_base = EfficientNetB0(weights=\"imagenet\", include_top=False, input_shape=input_shape)"
   ]
  },
  {
   "cell_type": "code",
   "execution_count": 26,
   "id": "993ee598",
   "metadata": {},
   "outputs": [
    {
     "data": {
      "text/plain": [
       "237"
      ]
     },
     "execution_count": 26,
     "metadata": {},
     "output_type": "execute_result"
    }
   ],
   "source": [
    "len(conv_base.layers)"
   ]
  },
  {
   "cell_type": "code",
   "execution_count": 27,
   "id": "e572aae0",
   "metadata": {},
   "outputs": [
    {
     "data": {
      "text/plain": [
       "211"
      ]
     },
     "execution_count": 27,
     "metadata": {},
     "output_type": "execute_result"
    }
   ],
   "source": [
    "len(conv_base.trainable_variables)"
   ]
  },
  {
   "cell_type": "code",
   "execution_count": 28,
   "id": "677f0a7d",
   "metadata": {},
   "outputs": [],
   "source": [
    "model = models.Sequential()\n",
    "model.add(layers.Conv2D(3,3,padding=\"same\", input_shape=(pixels,pixels,1), activation='elu', name = 'conv_inicial'))\n",
    "model.add(conv_base)\n",
    "model.add(layers.Conv2D(3,32, padding='same', input_shape=(8,8,1280), activation='selu', name = 'conv_posterior'))\n",
    "model.add(layers.MaxPool2D(pool_size = (2,2), padding='same', name = 'first_pooling'))\n",
    "model.add(layers.Conv2D(3,64, padding='same', input_shape=(4,4,1280), activation='selu', name = 'last_convolution'))\n",
    "model.add(layers.GlobalMaxPooling2D(name=\"general_max_pooling\"))\n",
    "model.add(layers.Dropout(0.2, name=\"dropout_out\"))\n",
    "model.add(layers.Dense(1, activation=\"softmax\", name=\"fc_out\"))"
   ]
  },
  {
   "cell_type": "code",
   "execution_count": 29,
   "id": "e7d55ae3",
   "metadata": {},
   "outputs": [
    {
     "name": "stdout",
     "output_type": "stream",
     "text": [
      "Model: \"sequential\"\n",
      "_________________________________________________________________\n",
      "Layer (type)                 Output Shape              Param #   \n",
      "=================================================================\n",
      "conv_inicial (Conv2D)        (None, 512, 512, 3)       30        \n",
      "_________________________________________________________________\n",
      "efficientnetb0 (Functional)  (None, 16, 16, 1280)      4049571   \n",
      "_________________________________________________________________\n",
      "conv_posterior (Conv2D)      (None, 16, 16, 3)         3932163   \n",
      "_________________________________________________________________\n",
      "first_pooling (MaxPooling2D) (None, 8, 8, 3)           0         \n",
      "_________________________________________________________________\n",
      "last_convolution (Conv2D)    (None, 8, 8, 3)           36867     \n",
      "_________________________________________________________________\n",
      "general_max_pooling (GlobalM (None, 3)                 0         \n",
      "_________________________________________________________________\n",
      "dropout_out (Dropout)        (None, 3)                 0         \n",
      "_________________________________________________________________\n",
      "fc_out (Dense)               (None, 1)                 4         \n",
      "=================================================================\n",
      "Total params: 8,018,635\n",
      "Trainable params: 7,976,612\n",
      "Non-trainable params: 42,023\n",
      "_________________________________________________________________\n"
     ]
    }
   ],
   "source": [
    "model.summary()"
   ]
  },
  {
   "cell_type": "markdown",
   "id": "9448ab8a-f4d6-4d74-a271-c4356c543fb3",
   "metadata": {},
   "source": [
    "# Compilación y entrenamiento"
   ]
  },
  {
   "cell_type": "markdown",
   "id": "25793694",
   "metadata": {},
   "source": [
    "## Callback"
   ]
  },
  {
   "cell_type": "code",
   "execution_count": 30,
   "id": "1dbd5654",
   "metadata": {},
   "outputs": [],
   "source": [
    "log_dir = \"/home/mr1142/Documents/Data/logs/fit/\" + datetime.datetime.now().strftime(\"%Y%m%d-%H%M%S\")\n",
    "tensorboard_callback = tf.keras.callbacks.TensorBoard(log_dir=log_dir,\n",
    "                                                      update_freq='batch',\n",
    "                                                      histogram_freq=1)"
   ]
  },
  {
   "cell_type": "markdown",
   "id": "35e75081",
   "metadata": {},
   "source": [
    "## 1º entrenamiento\n",
    "Solo vamos a entrenar las capas que hemos añadido"
   ]
  },
  {
   "cell_type": "code",
   "execution_count": 31,
   "id": "1d6d6dd6",
   "metadata": {},
   "outputs": [],
   "source": [
    "conv_base.trainable = False"
   ]
  },
  {
   "cell_type": "code",
   "execution_count": 32,
   "id": "20d5cfaf",
   "metadata": {},
   "outputs": [
    {
     "data": {
      "text/plain": [
       "8"
      ]
     },
     "execution_count": 32,
     "metadata": {},
     "output_type": "execute_result"
    }
   ],
   "source": [
    "len(model.trainable_variables)"
   ]
  },
  {
   "cell_type": "markdown",
   "id": "47856cd1",
   "metadata": {},
   "source": [
    "### Hiperparámetros"
   ]
  },
  {
   "cell_type": "markdown",
   "id": "20609b59",
   "metadata": {},
   "source": [
    "1. **Loss**"
   ]
  },
  {
   "cell_type": "code",
   "execution_count": 33,
   "id": "0a84aa48",
   "metadata": {},
   "outputs": [],
   "source": [
    "loss = tf.keras.losses.BinaryCrossentropy()"
   ]
  },
  {
   "cell_type": "markdown",
   "id": "f8007099",
   "metadata": {},
   "source": [
    "2. **Optimizador y learning rate**"
   ]
  },
  {
   "cell_type": "code",
   "execution_count": 34,
   "id": "26689ccb",
   "metadata": {},
   "outputs": [],
   "source": [
    "lr = 0.05\n",
    "opt = tf.keras.optimizers.Adam(learning_rate = lr)"
   ]
  },
  {
   "cell_type": "markdown",
   "id": "0c1d28fe",
   "metadata": {},
   "source": [
    "3. **Metricas**"
   ]
  },
  {
   "cell_type": "code",
   "execution_count": 35,
   "id": "78a014aa",
   "metadata": {},
   "outputs": [],
   "source": [
    "met = ['BinaryAccuracy', 'TruePositives', 'Precision']"
   ]
  },
  {
   "cell_type": "markdown",
   "id": "c98c93a8",
   "metadata": {},
   "source": [
    "4. **Batch size**"
   ]
  },
  {
   "cell_type": "code",
   "execution_count": 36,
   "id": "ee9b9f08",
   "metadata": {},
   "outputs": [],
   "source": [
    "batch = 8"
   ]
  },
  {
   "cell_type": "markdown",
   "id": "8d7f25a6",
   "metadata": {},
   "source": [
    "5. **Epochs**"
   ]
  },
  {
   "cell_type": "code",
   "execution_count": 37,
   "id": "db938a80",
   "metadata": {},
   "outputs": [],
   "source": [
    "initial_epochs = 50"
   ]
  },
  {
   "cell_type": "markdown",
   "id": "14889558",
   "metadata": {},
   "source": [
    "### Entrenamiento"
   ]
  },
  {
   "cell_type": "code",
   "execution_count": 38,
   "id": "b09c00a1",
   "metadata": {},
   "outputs": [],
   "source": [
    "model.compile(optimizer=opt, loss = loss , metrics = met)"
   ]
  },
  {
   "cell_type": "code",
   "execution_count": null,
   "id": "347eb81a",
   "metadata": {},
   "outputs": [
    {
     "name": "stdout",
     "output_type": "stream",
     "text": [
      "Epoch 1/50\n",
      "289/289 [==============================] - ETA: 0s - loss: 239.9210 - binary_accuracy: 0.5029 - true_positives: 577.8720 - precision: 0.5029"
     ]
    }
   ],
   "source": [
    "history = model.fit(X_train,Y_train,\n",
    "                    batch_size = batch,\n",
    "                    epochs = initial_epochs,\n",
    "                    callbacks = tensorboard_callback,\n",
    "                    shuffle = True,\n",
    "                    validation_split = 0.2)"
   ]
  },
  {
   "cell_type": "code",
   "execution_count": null,
   "id": "8e86966b",
   "metadata": {},
   "outputs": [],
   "source": [
    "epochs_range = range(initial_epochs)\n",
    "i = 0\n",
    "for i in range(int(len(history.history.keys())/2)):\n",
    "    key = list(history.history.keys())[i]\n",
    "    \n",
    "    plt.figure(figsize=(5, 5))\n",
    "    plt.subplot(1, 1, 1)\n",
    "    plt.plot(epochs_range, history.history[key], label=key)\n",
    "    plt.plot(epochs_range, history.history['val_' + key], label='val_' + key)\n",
    "    plt.legend(loc='lower right')\n",
    "    plt.title('Training and Validation')\n",
    "plt.show()"
   ]
  },
  {
   "cell_type": "markdown",
   "id": "cbdd2bc4",
   "metadata": {},
   "source": [
    "## 2º Entrenamiento\n",
    "Ahora vamos a entrenar tambien la red preentrenada, pero no queremos entrenar todas las capas, únicamente las capas más profundas, ya que las primeras capas son muy genéricas."
   ]
  },
  {
   "cell_type": "markdown",
   "id": "369658a2",
   "metadata": {},
   "source": [
    "### Ajustar el entrenamiento de la red preentrenada"
   ]
  },
  {
   "cell_type": "code",
   "execution_count": null,
   "id": "67af1234",
   "metadata": {},
   "outputs": [],
   "source": [
    "conv_base.trainable = True"
   ]
  },
  {
   "cell_type": "code",
   "execution_count": null,
   "id": "1403d59e",
   "metadata": {},
   "outputs": [],
   "source": [
    "len(conv_base.layers)"
   ]
  },
  {
   "cell_type": "markdown",
   "id": "52d5eefd",
   "metadata": {},
   "source": [
    "Vamos a entrenar desde la capa 100"
   ]
  },
  {
   "cell_type": "code",
   "execution_count": null,
   "id": "9fa0a975",
   "metadata": {},
   "outputs": [],
   "source": [
    "fine_tune_at = 100\n",
    "\n",
    "for layer in conv_base.layers[:fine_tune_at]:\n",
    "    layer.trainable = False"
   ]
  },
  {
   "cell_type": "markdown",
   "id": "caf2f222",
   "metadata": {},
   "source": [
    "## Hiperparámetros\n",
    "Como el modelo es mucho más grande tenemos que usar un learning rate más bajo del que usabamos.\n",
    "Vamos a utilizar dos learning rates, uno para el modelo preentrenado y otro para las capas nuevas"
   ]
  },
  {
   "cell_type": "code",
   "execution_count": null,
   "id": "458e9050",
   "metadata": {},
   "outputs": [],
   "source": [
    "opt = [tf.keras.optimizers.Adam(learning_rate = lr), tf.keras.optimizers.RMSprop(learning_rate = lr/100)]\n",
    "optimizers_and_layers = [(opt[0], model.layers[0]),\n",
    "                         (opt[1], model.layers[1]),\n",
    "                         (opt[0], model.layers[2:])]\n",
    "opt = tfa.optimizers.MultiOptimizer(optimizers_and_layers)"
   ]
  },
  {
   "cell_type": "code",
   "execution_count": null,
   "id": "bc6598c5",
   "metadata": {},
   "outputs": [],
   "source": [
    "batch = 8\n",
    "fine_tune_epochs = 150\n",
    "total_epoch = initial_epochs + fine_tune_epochs"
   ]
  },
  {
   "cell_type": "markdown",
   "id": "54f8108d",
   "metadata": {},
   "source": [
    "### Entrenamiento"
   ]
  },
  {
   "cell_type": "code",
   "execution_count": null,
   "id": "a31238fb",
   "metadata": {},
   "outputs": [],
   "source": [
    "model.compile(optimizer=opt, loss = loss , metrics = met)"
   ]
  },
  {
   "cell_type": "code",
   "execution_count": null,
   "id": "b729d8a7",
   "metadata": {},
   "outputs": [],
   "source": [
    "history = model.fit(datagen.flow(X_train,Y_train, subset = 'training', batch_size = batch),\n",
    "                    epochs = total_epoch,\n",
    "                    initial_epoch=history.epoch[-1],\n",
    "                    callbacks = tensorboard_callback,\n",
    "                    validation_split = 0.2)"
   ]
  },
  {
   "cell_type": "code",
   "execution_count": null,
   "id": "56c69160",
   "metadata": {},
   "outputs": [],
   "source": [
    "epochs_range = len(history.history['loss'])\n",
    "i = 0\n",
    "for i in range(int(len(history.history.keys())/2)):\n",
    "    key = list(history.history.keys())[i]\n",
    "    \n",
    "    plt.figure(figsize=(5, 5))\n",
    "    plt.subplot(1, 1, 1)\n",
    "    plt.plot(history.history[key], label=key)\n",
    "    plt.plot(history.history['val_' + key], label='val_' + key)\n",
    "    plt.legend(loc='lower right')\n",
    "    plt.title('Training and Validation')\n",
    "plt.show()"
   ]
  },
  {
   "cell_type": "code",
   "execution_count": null,
   "id": "f54d0336",
   "metadata": {},
   "outputs": [],
   "source": []
  }
 ],
 "metadata": {
  "kernelspec": {
   "display_name": "Python 3",
   "language": "python",
   "name": "python3"
  },
  "language_info": {
   "codemirror_mode": {
    "name": "ipython",
    "version": 3
   },
   "file_extension": ".py",
   "mimetype": "text/x-python",
   "name": "python",
   "nbconvert_exporter": "python",
   "pygments_lexer": "ipython3",
   "version": "3.6.8"
  }
 },
 "nbformat": 4,
 "nbformat_minor": 5
}
