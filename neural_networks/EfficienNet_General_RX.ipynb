{
 "cells": [
  {
   "cell_type": "code",
   "execution_count": 1,
   "id": "2ce11c35-6786-42a3-93a4-3add1e81506e",
   "metadata": {},
   "outputs": [],
   "source": [
    "import os\n",
    "import pandas as pd\n",
    "import numpy as np\n",
    "import PIL\n",
    "import tensorflow as tf\n",
    "import matplotlib.pyplot as plt\n",
    "import datetime\n",
    "import cv2\n",
    "\n",
    "from sklearn import model_selection\n",
    "from PIL import Image\n",
    "from skimage import exposure\n",
    "\n",
    "from tensorflow.keras.applications import EfficientNetB0\n",
    "from tensorflow.keras import models\n",
    "from tensorflow.keras import layers\n",
    "import tensorflow_addons as tfa"
   ]
  },
  {
   "cell_type": "code",
   "execution_count": 2,
   "id": "2281de98",
   "metadata": {},
   "outputs": [],
   "source": [
    "os.environ['CUDA_VISIBLE_DEVICES'] = '1'"
   ]
  },
  {
   "cell_type": "markdown",
   "id": "9a053cf2",
   "metadata": {},
   "source": [
    "# Datos"
   ]
  },
  {
   "cell_type": "markdown",
   "id": "64351b82-f288-46d1-a54a-d925f155532e",
   "metadata": {},
   "source": [
    "## Dataframe"
   ]
  },
  {
   "cell_type": "code",
   "execution_count": 3,
   "id": "aa71bfcd-76cf-46e2-9a25-e45eac831c2c",
   "metadata": {},
   "outputs": [],
   "source": [
    "path = '/home/maryskal/Downloads/archive/vinbigdata'\n",
    "path = '/home/mr1142/Documents/Data/vinbigdata'"
   ]
  },
  {
   "cell_type": "code",
   "execution_count": 4,
   "id": "af92b534-8245-4f72-bf5c-6db915989f07",
   "metadata": {},
   "outputs": [],
   "source": [
    "df = pd.read_csv(os.path.join(path, 'train.csv'))"
   ]
  },
  {
   "cell_type": "code",
   "execution_count": 5,
   "id": "7275a5c7-72a5-4333-b78c-24a0b97f722f",
   "metadata": {},
   "outputs": [
    {
     "data": {
      "text/html": [
       "<div>\n",
       "<style scoped>\n",
       "    .dataframe tbody tr th:only-of-type {\n",
       "        vertical-align: middle;\n",
       "    }\n",
       "\n",
       "    .dataframe tbody tr th {\n",
       "        vertical-align: top;\n",
       "    }\n",
       "\n",
       "    .dataframe thead th {\n",
       "        text-align: right;\n",
       "    }\n",
       "</style>\n",
       "<table border=\"1\" class=\"dataframe\">\n",
       "  <thead>\n",
       "    <tr style=\"text-align: right;\">\n",
       "      <th></th>\n",
       "      <th>image_id</th>\n",
       "      <th>class_name</th>\n",
       "      <th>class_id</th>\n",
       "      <th>rad_id</th>\n",
       "      <th>x_min</th>\n",
       "      <th>y_min</th>\n",
       "      <th>x_max</th>\n",
       "      <th>y_max</th>\n",
       "      <th>width</th>\n",
       "      <th>height</th>\n",
       "    </tr>\n",
       "  </thead>\n",
       "  <tbody>\n",
       "    <tr>\n",
       "      <th>0</th>\n",
       "      <td>50a418190bc3fb1ef1633bf9678929b3</td>\n",
       "      <td>No finding</td>\n",
       "      <td>14</td>\n",
       "      <td>R11</td>\n",
       "      <td>NaN</td>\n",
       "      <td>NaN</td>\n",
       "      <td>NaN</td>\n",
       "      <td>NaN</td>\n",
       "      <td>2332</td>\n",
       "      <td>2580</td>\n",
       "    </tr>\n",
       "    <tr>\n",
       "      <th>1</th>\n",
       "      <td>21a10246a5ec7af151081d0cd6d65dc9</td>\n",
       "      <td>No finding</td>\n",
       "      <td>14</td>\n",
       "      <td>R7</td>\n",
       "      <td>NaN</td>\n",
       "      <td>NaN</td>\n",
       "      <td>NaN</td>\n",
       "      <td>NaN</td>\n",
       "      <td>2954</td>\n",
       "      <td>3159</td>\n",
       "    </tr>\n",
       "    <tr>\n",
       "      <th>2</th>\n",
       "      <td>9a5094b2563a1ef3ff50dc5c7ff71345</td>\n",
       "      <td>Cardiomegaly</td>\n",
       "      <td>3</td>\n",
       "      <td>R10</td>\n",
       "      <td>691.0</td>\n",
       "      <td>1375.0</td>\n",
       "      <td>1653.0</td>\n",
       "      <td>1831.0</td>\n",
       "      <td>2080</td>\n",
       "      <td>2336</td>\n",
       "    </tr>\n",
       "    <tr>\n",
       "      <th>3</th>\n",
       "      <td>051132a778e61a86eb147c7c6f564dfe</td>\n",
       "      <td>Aortic enlargement</td>\n",
       "      <td>0</td>\n",
       "      <td>R10</td>\n",
       "      <td>1264.0</td>\n",
       "      <td>743.0</td>\n",
       "      <td>1611.0</td>\n",
       "      <td>1019.0</td>\n",
       "      <td>2304</td>\n",
       "      <td>2880</td>\n",
       "    </tr>\n",
       "    <tr>\n",
       "      <th>4</th>\n",
       "      <td>063319de25ce7edb9b1c6b8881290140</td>\n",
       "      <td>No finding</td>\n",
       "      <td>14</td>\n",
       "      <td>R10</td>\n",
       "      <td>NaN</td>\n",
       "      <td>NaN</td>\n",
       "      <td>NaN</td>\n",
       "      <td>NaN</td>\n",
       "      <td>2540</td>\n",
       "      <td>3072</td>\n",
       "    </tr>\n",
       "  </tbody>\n",
       "</table>\n",
       "</div>"
      ],
      "text/plain": [
       "                           image_id          class_name  class_id rad_id  \\\n",
       "0  50a418190bc3fb1ef1633bf9678929b3          No finding        14    R11   \n",
       "1  21a10246a5ec7af151081d0cd6d65dc9          No finding        14     R7   \n",
       "2  9a5094b2563a1ef3ff50dc5c7ff71345        Cardiomegaly         3    R10   \n",
       "3  051132a778e61a86eb147c7c6f564dfe  Aortic enlargement         0    R10   \n",
       "4  063319de25ce7edb9b1c6b8881290140          No finding        14    R10   \n",
       "\n",
       "    x_min   y_min   x_max   y_max  width  height  \n",
       "0     NaN     NaN     NaN     NaN   2332    2580  \n",
       "1     NaN     NaN     NaN     NaN   2954    3159  \n",
       "2   691.0  1375.0  1653.0  1831.0   2080    2336  \n",
       "3  1264.0   743.0  1611.0  1019.0   2304    2880  \n",
       "4     NaN     NaN     NaN     NaN   2540    3072  "
      ]
     },
     "execution_count": 5,
     "metadata": {},
     "output_type": "execute_result"
    }
   ],
   "source": [
    "df.head()"
   ]
  },
  {
   "cell_type": "code",
   "execution_count": 6,
   "id": "7bc36922-03b1-4c77-9196-4d43afd0d9fb",
   "metadata": {},
   "outputs": [
    {
     "name": "stdout",
     "output_type": "stream",
     "text": [
      "class name: Aortic enlargement\n",
      "ID: 14\n",
      "7162\n",
      "class name: Atelectasis\n",
      "ID: 14\n",
      "279\n",
      "class name: Calcification\n",
      "ID: 3\n",
      "960\n",
      "class name: Cardiomegaly\n",
      "ID: 0\n",
      "5427\n",
      "class name: Consolidation\n",
      "ID: 14\n",
      "556\n",
      "class name: ILD\n",
      "ID: 11\n",
      "1000\n",
      "class name: Infiltration\n",
      "ID: 5\n",
      "1247\n",
      "class name: Lung Opacity\n",
      "ID: 8\n",
      "2483\n",
      "class name: No finding\n",
      "ID: 0\n",
      "31818\n",
      "class name: Nodule/Mass\n",
      "ID: 13\n",
      "2580\n",
      "class name: Other lesion\n",
      "ID: 7\n",
      "2203\n",
      "class name: Pleural effusion\n",
      "ID: 13\n",
      "2476\n",
      "class name: Pleural thickening\n",
      "ID: 14\n",
      "4842\n",
      "class name: Pneumothorax\n",
      "ID: 14\n",
      "226\n",
      "class name: Pulmonary fibrosis\n",
      "ID: 0\n",
      "4655\n"
     ]
    }
   ],
   "source": [
    "for i, finding in enumerate(np.unique(df.class_name)):\n",
    "    print(f'class name: {finding}')\n",
    "    print(f'ID: {df.class_id[i]}')\n",
    "    print(sum(df.class_name == finding))"
   ]
  },
  {
   "cell_type": "markdown",
   "id": "1afa9ea4-e2d9-40ff-9196-ab533f9e27f2",
   "metadata": {},
   "source": [
    "Creo la clase neumonía"
   ]
  },
  {
   "cell_type": "code",
   "execution_count": 7,
   "id": "c9cfeaa2-03f5-4de3-a680-e711fbb5c024",
   "metadata": {},
   "outputs": [
    {
     "name": "stderr",
     "output_type": "stream",
     "text": [
      "/home/mr1142/miniconda3/envs/init/lib/python3.6/site-packages/ipykernel_launcher.py:4: SettingWithCopyWarning: \n",
      "A value is trying to be set on a copy of a slice from a DataFrame\n",
      "\n",
      "See the caveats in the documentation: https://pandas.pydata.org/pandas-docs/stable/user_guide/indexing.html#returning-a-view-versus-a-copy\n",
      "  after removing the cwd from sys.path.\n"
     ]
    }
   ],
   "source": [
    "values = ['Consolidation', 'Infiltration']\n",
    "df['Neumonia'] = 0\n",
    "index = [i for i, clase in enumerate(df.class_name) if clase in values]\n",
    "df['Neumonia'][index] = 1"
   ]
  },
  {
   "cell_type": "code",
   "execution_count": 8,
   "id": "28e13bc8",
   "metadata": {},
   "outputs": [
    {
     "data": {
      "text/html": [
       "<div>\n",
       "<style scoped>\n",
       "    .dataframe tbody tr th:only-of-type {\n",
       "        vertical-align: middle;\n",
       "    }\n",
       "\n",
       "    .dataframe tbody tr th {\n",
       "        vertical-align: top;\n",
       "    }\n",
       "\n",
       "    .dataframe thead th {\n",
       "        text-align: right;\n",
       "    }\n",
       "</style>\n",
       "<table border=\"1\" class=\"dataframe\">\n",
       "  <thead>\n",
       "    <tr style=\"text-align: right;\">\n",
       "      <th></th>\n",
       "      <th>image_id</th>\n",
       "      <th>class_name</th>\n",
       "      <th>class_id</th>\n",
       "      <th>rad_id</th>\n",
       "      <th>x_min</th>\n",
       "      <th>y_min</th>\n",
       "      <th>x_max</th>\n",
       "      <th>y_max</th>\n",
       "      <th>width</th>\n",
       "      <th>height</th>\n",
       "      <th>Neumonia</th>\n",
       "    </tr>\n",
       "  </thead>\n",
       "  <tbody>\n",
       "    <tr>\n",
       "      <th>0</th>\n",
       "      <td>50a418190bc3fb1ef1633bf9678929b3</td>\n",
       "      <td>No finding</td>\n",
       "      <td>14</td>\n",
       "      <td>R11</td>\n",
       "      <td>NaN</td>\n",
       "      <td>NaN</td>\n",
       "      <td>NaN</td>\n",
       "      <td>NaN</td>\n",
       "      <td>2332</td>\n",
       "      <td>2580</td>\n",
       "      <td>0</td>\n",
       "    </tr>\n",
       "    <tr>\n",
       "      <th>1</th>\n",
       "      <td>21a10246a5ec7af151081d0cd6d65dc9</td>\n",
       "      <td>No finding</td>\n",
       "      <td>14</td>\n",
       "      <td>R7</td>\n",
       "      <td>NaN</td>\n",
       "      <td>NaN</td>\n",
       "      <td>NaN</td>\n",
       "      <td>NaN</td>\n",
       "      <td>2954</td>\n",
       "      <td>3159</td>\n",
       "      <td>0</td>\n",
       "    </tr>\n",
       "    <tr>\n",
       "      <th>2</th>\n",
       "      <td>9a5094b2563a1ef3ff50dc5c7ff71345</td>\n",
       "      <td>Cardiomegaly</td>\n",
       "      <td>3</td>\n",
       "      <td>R10</td>\n",
       "      <td>691.0</td>\n",
       "      <td>1375.0</td>\n",
       "      <td>1653.0</td>\n",
       "      <td>1831.0</td>\n",
       "      <td>2080</td>\n",
       "      <td>2336</td>\n",
       "      <td>0</td>\n",
       "    </tr>\n",
       "    <tr>\n",
       "      <th>3</th>\n",
       "      <td>051132a778e61a86eb147c7c6f564dfe</td>\n",
       "      <td>Aortic enlargement</td>\n",
       "      <td>0</td>\n",
       "      <td>R10</td>\n",
       "      <td>1264.0</td>\n",
       "      <td>743.0</td>\n",
       "      <td>1611.0</td>\n",
       "      <td>1019.0</td>\n",
       "      <td>2304</td>\n",
       "      <td>2880</td>\n",
       "      <td>0</td>\n",
       "    </tr>\n",
       "    <tr>\n",
       "      <th>4</th>\n",
       "      <td>063319de25ce7edb9b1c6b8881290140</td>\n",
       "      <td>No finding</td>\n",
       "      <td>14</td>\n",
       "      <td>R10</td>\n",
       "      <td>NaN</td>\n",
       "      <td>NaN</td>\n",
       "      <td>NaN</td>\n",
       "      <td>NaN</td>\n",
       "      <td>2540</td>\n",
       "      <td>3072</td>\n",
       "      <td>0</td>\n",
       "    </tr>\n",
       "  </tbody>\n",
       "</table>\n",
       "</div>"
      ],
      "text/plain": [
       "                           image_id          class_name  class_id rad_id  \\\n",
       "0  50a418190bc3fb1ef1633bf9678929b3          No finding        14    R11   \n",
       "1  21a10246a5ec7af151081d0cd6d65dc9          No finding        14     R7   \n",
       "2  9a5094b2563a1ef3ff50dc5c7ff71345        Cardiomegaly         3    R10   \n",
       "3  051132a778e61a86eb147c7c6f564dfe  Aortic enlargement         0    R10   \n",
       "4  063319de25ce7edb9b1c6b8881290140          No finding        14    R10   \n",
       "\n",
       "    x_min   y_min   x_max   y_max  width  height  Neumonia  \n",
       "0     NaN     NaN     NaN     NaN   2332    2580         0  \n",
       "1     NaN     NaN     NaN     NaN   2954    3159         0  \n",
       "2   691.0  1375.0  1653.0  1831.0   2080    2336         0  \n",
       "3  1264.0   743.0  1611.0  1019.0   2304    2880         0  \n",
       "4     NaN     NaN     NaN     NaN   2540    3072         0  "
      ]
     },
     "execution_count": 8,
     "metadata": {},
     "output_type": "execute_result"
    }
   ],
   "source": [
    "df.head()"
   ]
  },
  {
   "cell_type": "markdown",
   "id": "18bb4a59-f382-4392-9f62-38937539aff8",
   "metadata": {},
   "source": [
    "Divido el dataset en dos y reduzco el de no neumonía"
   ]
  },
  {
   "cell_type": "code",
   "execution_count": 9,
   "id": "c00bb486-24bf-4954-9a86-97ef95f705ed",
   "metadata": {},
   "outputs": [],
   "source": [
    "df_neumo = df[df.Neumonia == 1].reset_index(drop=True)\n",
    "df_no_neumo = df[df.Neumonia == 0].reset_index(drop=True)"
   ]
  },
  {
   "cell_type": "code",
   "execution_count": 10,
   "id": "d93ff41a",
   "metadata": {},
   "outputs": [
    {
     "name": "stdout",
     "output_type": "stream",
     "text": [
      "1803\n",
      "66111\n"
     ]
    }
   ],
   "source": [
    "print(len(df_neumo))\n",
    "print(len(df_no_neumo))"
   ]
  },
  {
   "cell_type": "markdown",
   "id": "ba7deaec-0fc0-4489-b85c-5bf7290757c1",
   "metadata": {},
   "source": [
    "Para reducir elijo un numero de valores aleatorios que serán los índices"
   ]
  },
  {
   "cell_type": "code",
   "execution_count": 11,
   "id": "866da8d7-e852-4ee4-8e39-41e3bd50f908",
   "metadata": {},
   "outputs": [
    {
     "data": {
      "text/plain": [
       "1803"
      ]
     },
     "execution_count": 11,
     "metadata": {},
     "output_type": "execute_result"
    }
   ],
   "source": [
    "selection = np.random.randint(0, len(df_no_neumo), len(df_neumo))\n",
    "df_no_neumo = df_no_neumo.iloc[selection,:]\n",
    "len(df_no_neumo)"
   ]
  },
  {
   "cell_type": "markdown",
   "id": "6c1afdbb-d46a-4111-965c-def384d33f59",
   "metadata": {},
   "source": [
    "Genero el nuevo dataframe juntando"
   ]
  },
  {
   "cell_type": "code",
   "execution_count": 12,
   "id": "8e96a3bf-73d7-4944-894f-2fa3e47c5789",
   "metadata": {},
   "outputs": [],
   "source": [
    "df = pd.concat([df_neumo, df_no_neumo]).reset_index(drop=True)"
   ]
  },
  {
   "cell_type": "markdown",
   "id": "35aa17da-dcfb-43a2-ae86-25c4e99493d4",
   "metadata": {},
   "source": [
    "Reordeno aleatoriamente"
   ]
  },
  {
   "cell_type": "code",
   "execution_count": 13,
   "id": "fb877298-bd54-4984-b806-dfec831beba9",
   "metadata": {},
   "outputs": [],
   "source": [
    "df = df.sample(frac=1)"
   ]
  },
  {
   "cell_type": "code",
   "execution_count": 14,
   "id": "ce1d93ce",
   "metadata": {},
   "outputs": [
    {
     "data": {
      "text/html": [
       "<div>\n",
       "<style scoped>\n",
       "    .dataframe tbody tr th:only-of-type {\n",
       "        vertical-align: middle;\n",
       "    }\n",
       "\n",
       "    .dataframe tbody tr th {\n",
       "        vertical-align: top;\n",
       "    }\n",
       "\n",
       "    .dataframe thead th {\n",
       "        text-align: right;\n",
       "    }\n",
       "</style>\n",
       "<table border=\"1\" class=\"dataframe\">\n",
       "  <thead>\n",
       "    <tr style=\"text-align: right;\">\n",
       "      <th></th>\n",
       "      <th>image_id</th>\n",
       "      <th>class_name</th>\n",
       "      <th>class_id</th>\n",
       "      <th>rad_id</th>\n",
       "      <th>x_min</th>\n",
       "      <th>y_min</th>\n",
       "      <th>x_max</th>\n",
       "      <th>y_max</th>\n",
       "      <th>width</th>\n",
       "      <th>height</th>\n",
       "      <th>Neumonia</th>\n",
       "    </tr>\n",
       "  </thead>\n",
       "  <tbody>\n",
       "    <tr>\n",
       "      <th>1966</th>\n",
       "      <td>9cacc0c4336366d74bdd322c71c68327</td>\n",
       "      <td>No finding</td>\n",
       "      <td>14</td>\n",
       "      <td>R13</td>\n",
       "      <td>NaN</td>\n",
       "      <td>NaN</td>\n",
       "      <td>NaN</td>\n",
       "      <td>NaN</td>\n",
       "      <td>2346</td>\n",
       "      <td>2535</td>\n",
       "      <td>0</td>\n",
       "    </tr>\n",
       "    <tr>\n",
       "      <th>3203</th>\n",
       "      <td>96bd06e0d91d69607522a2f8cab22550</td>\n",
       "      <td>No finding</td>\n",
       "      <td>14</td>\n",
       "      <td>R10</td>\n",
       "      <td>NaN</td>\n",
       "      <td>NaN</td>\n",
       "      <td>NaN</td>\n",
       "      <td>NaN</td>\n",
       "      <td>3072</td>\n",
       "      <td>3072</td>\n",
       "      <td>0</td>\n",
       "    </tr>\n",
       "    <tr>\n",
       "      <th>1933</th>\n",
       "      <td>618132e055081856c6b4918a11f4eabd</td>\n",
       "      <td>No finding</td>\n",
       "      <td>14</td>\n",
       "      <td>R4</td>\n",
       "      <td>NaN</td>\n",
       "      <td>NaN</td>\n",
       "      <td>NaN</td>\n",
       "      <td>NaN</td>\n",
       "      <td>2680</td>\n",
       "      <td>3224</td>\n",
       "      <td>0</td>\n",
       "    </tr>\n",
       "    <tr>\n",
       "      <th>242</th>\n",
       "      <td>eb6c714df22142229464c6b83e47d7d6</td>\n",
       "      <td>Infiltration</td>\n",
       "      <td>6</td>\n",
       "      <td>R9</td>\n",
       "      <td>1644.0</td>\n",
       "      <td>965.0</td>\n",
       "      <td>2029.0</td>\n",
       "      <td>1590.0</td>\n",
       "      <td>2532</td>\n",
       "      <td>3073</td>\n",
       "      <td>1</td>\n",
       "    </tr>\n",
       "    <tr>\n",
       "      <th>3009</th>\n",
       "      <td>151a8ce59aa6e414ee8a9c9d711cee61</td>\n",
       "      <td>Lung Opacity</td>\n",
       "      <td>7</td>\n",
       "      <td>R9</td>\n",
       "      <td>2059.0</td>\n",
       "      <td>1533.0</td>\n",
       "      <td>2213.0</td>\n",
       "      <td>1868.0</td>\n",
       "      <td>2304</td>\n",
       "      <td>2880</td>\n",
       "      <td>0</td>\n",
       "    </tr>\n",
       "  </tbody>\n",
       "</table>\n",
       "</div>"
      ],
      "text/plain": [
       "                              image_id    class_name  class_id rad_id   x_min  \\\n",
       "1966  9cacc0c4336366d74bdd322c71c68327    No finding        14    R13     NaN   \n",
       "3203  96bd06e0d91d69607522a2f8cab22550    No finding        14    R10     NaN   \n",
       "1933  618132e055081856c6b4918a11f4eabd    No finding        14     R4     NaN   \n",
       "242   eb6c714df22142229464c6b83e47d7d6  Infiltration         6     R9  1644.0   \n",
       "3009  151a8ce59aa6e414ee8a9c9d711cee61  Lung Opacity         7     R9  2059.0   \n",
       "\n",
       "       y_min   x_max   y_max  width  height  Neumonia  \n",
       "1966     NaN     NaN     NaN   2346    2535         0  \n",
       "3203     NaN     NaN     NaN   3072    3072         0  \n",
       "1933     NaN     NaN     NaN   2680    3224         0  \n",
       "242    965.0  2029.0  1590.0   2532    3073         1  \n",
       "3009  1533.0  2213.0  1868.0   2304    2880         0  "
      ]
     },
     "execution_count": 14,
     "metadata": {},
     "output_type": "execute_result"
    }
   ],
   "source": [
    "df.head()"
   ]
  },
  {
   "cell_type": "markdown",
   "id": "c3f28223-6d19-42f8-91b7-1bb3a2d98191",
   "metadata": {},
   "source": [
    "## Imagenes"
   ]
  },
  {
   "cell_type": "code",
   "execution_count": 15,
   "id": "257e1831",
   "metadata": {},
   "outputs": [],
   "source": [
    "pixels = 512"
   ]
  },
  {
   "cell_type": "code",
   "execution_count": 16,
   "id": "d2c17ac4",
   "metadata": {},
   "outputs": [],
   "source": [
    "def equalizar(img):\n",
    "    # Contrast stretching\n",
    "    p2, p98 = np.percentile(img, (2, 98))\n",
    "    img_rescale = exposure.rescale_intensity(img, in_range=(p2, p98))\n",
    "    # Equalization\n",
    "    img_eq = exposure.equalize_hist(img)\n",
    "    # Adaptive Equalization\n",
    "    img_adapteq = exposure.equalize_adapthist(img, clip_limit=0.03)      \n",
    "    return img_adapteq"
   ]
  },
  {
   "cell_type": "code",
   "execution_count": 17,
   "id": "cc7f4499-150d-41d6-9ace-4bfdf1222a2c",
   "metadata": {},
   "outputs": [],
   "source": [
    "def clahe(img):\n",
    "    # img = cv2.resize(img, (512, 512))\n",
    "    clahe = cv2.createCLAHE(clipLimit = 10)\n",
    "    final_img = clahe.apply(img) + 30\n",
    "    return final_img"
   ]
  },
  {
   "cell_type": "code",
   "execution_count": 18,
   "id": "8aacb3e4-e873-489d-9dac-b7707fd4845b",
   "metadata": {},
   "outputs": [],
   "source": [
    "def downsample(img):\n",
    "    img = Image.fromarray(img)\n",
    "    img = img.resize((pixels,pixels))\n",
    "    img = np.array(img)\n",
    "    img = img/255\n",
    "    r = np.expand_dims(img, axis=-1)\n",
    "    return r"
   ]
  },
  {
   "cell_type": "code",
   "execution_count": 19,
   "id": "2275c6d9-6dd1-48c9-b2cc-0508d4a3c2ad",
   "metadata": {},
   "outputs": [],
   "source": [
    "def charge_img(name):\n",
    "    img = Image.open(os.path.join(path, 'train', name + '.png'))\n",
    "    img = np.array(img)\n",
    "    img = clahe(img)\n",
    "    img = downsample(img)\n",
    "    return(img)"
   ]
  },
  {
   "cell_type": "code",
   "execution_count": 20,
   "id": "b0074b50-fe33-47bf-82d3-b8d9153a6a32",
   "metadata": {},
   "outputs": [],
   "source": [
    "tensor = np.zeros((len(df.image_id), pixels, pixels, 1))\n",
    "for i in range(tensor.shape[0]):\n",
    "    tensor[i,...] = charge_img(df.image_id[i])"
   ]
  },
  {
   "cell_type": "markdown",
   "id": "2963f95b-3988-4ce9-ac9a-eb690db88474",
   "metadata": {},
   "source": [
    "## X e Y"
   ]
  },
  {
   "cell_type": "code",
   "execution_count": 21,
   "id": "ef920577-9355-493c-a3fb-a384b0cc7efc",
   "metadata": {},
   "outputs": [],
   "source": [
    "Y = np.array(df['Neumonia'])\n",
    "X = tensor"
   ]
  },
  {
   "cell_type": "code",
   "execution_count": 22,
   "id": "f492bd6e-e8da-44c8-b6dd-d548d8dc94f9",
   "metadata": {},
   "outputs": [],
   "source": [
    "X_train, X_test, Y_train, Y_test = model_selection.train_test_split(X, Y, test_size=0.2, \n",
    "                                                                    random_state=42, shuffle=True, stratify=Y )"
   ]
  },
  {
   "cell_type": "code",
   "execution_count": 23,
   "id": "1ca32602-2c40-4311-8004-612a7a7bcd54",
   "metadata": {},
   "outputs": [],
   "source": [
    "datagen = tf.keras.preprocessing.image.ImageDataGenerator(\n",
    "    featurewise_center=True,\n",
    "    featurewise_std_normalization=True,\n",
    "    rotation_range=20,\n",
    "    width_shift_range=0.2,\n",
    "    height_shift_range=0.2,\n",
    "    horizontal_flip=True,\n",
    "    validation_split=0.2)"
   ]
  },
  {
   "cell_type": "code",
   "execution_count": 24,
   "id": "5cfd914e-d6d2-43df-b883-beff15b4a90d",
   "metadata": {},
   "outputs": [],
   "source": [
    "datagen.fit(X_train)"
   ]
  },
  {
   "cell_type": "markdown",
   "id": "716261a3",
   "metadata": {},
   "source": [
    "# Modelo"
   ]
  },
  {
   "cell_type": "markdown",
   "id": "dfa7cedb",
   "metadata": {},
   "source": [
    "- Añado una capa inicial para poder entregarle el input de 3 canales. \n",
    "- Añado 1 convolución con max pooling y una segunda convolución cno globalMaxPooling para ajustar mejor\n",
    "- Añado Dropout para evitar overfiting\n",
    "- Añado la capa final con 6 neuronas de salida"
   ]
  },
  {
   "cell_type": "code",
   "execution_count": 25,
   "id": "6ee017ce",
   "metadata": {},
   "outputs": [],
   "source": [
    "input_shape = (pixels,pixels,3)\n",
    "conv_base = EfficientNetB0(weights=\"imagenet\", include_top=False, input_shape=input_shape)"
   ]
  },
  {
   "cell_type": "code",
   "execution_count": 26,
   "id": "993ee598",
   "metadata": {},
   "outputs": [
    {
     "data": {
      "text/plain": [
       "237"
      ]
     },
     "execution_count": 26,
     "metadata": {},
     "output_type": "execute_result"
    }
   ],
   "source": [
    "len(conv_base.layers)"
   ]
  },
  {
   "cell_type": "code",
   "execution_count": 27,
   "id": "e572aae0",
   "metadata": {},
   "outputs": [
    {
     "data": {
      "text/plain": [
       "211"
      ]
     },
     "execution_count": 27,
     "metadata": {},
     "output_type": "execute_result"
    }
   ],
   "source": [
    "len(conv_base.trainable_variables)"
   ]
  },
  {
   "cell_type": "code",
   "execution_count": 28,
   "id": "677f0a7d",
   "metadata": {},
   "outputs": [],
   "source": [
    "model = models.Sequential()\n",
    "model.add(layers.Conv2D(3,3,padding=\"same\", input_shape=(pixels,pixels,1), activation='elu', name = 'conv_inicial'))\n",
    "model.add(conv_base)\n",
    "model.add(layers.Conv2D(3,32, padding='same', input_shape=(8,8,1280), activation='selu', name = 'conv_posterior'))\n",
    "model.add(layers.MaxPool2D(pool_size = (2,2), padding='same', name = 'first_pooling'))\n",
    "model.add(layers.Conv2D(3,64, padding='same', input_shape=(4,4,1280), activation='selu', name = 'last_convolution'))\n",
    "model.add(layers.GlobalMaxPooling2D(name=\"general_max_pooling\"))\n",
    "model.add(layers.Dropout(0.2, name=\"dropout_out\"))\n",
    "model.add(layers.Dense(1, activation=\"softmax\", name=\"fc_out\"))"
   ]
  },
  {
   "cell_type": "code",
   "execution_count": 29,
   "id": "e7d55ae3",
   "metadata": {},
   "outputs": [
    {
     "name": "stdout",
     "output_type": "stream",
     "text": [
      "Model: \"sequential\"\n",
      "_________________________________________________________________\n",
      "Layer (type)                 Output Shape              Param #   \n",
      "=================================================================\n",
      "conv_inicial (Conv2D)        (None, 512, 512, 3)       30        \n",
      "_________________________________________________________________\n",
      "efficientnetb0 (Functional)  (None, 16, 16, 1280)      4049571   \n",
      "_________________________________________________________________\n",
      "conv_posterior (Conv2D)      (None, 16, 16, 3)         3932163   \n",
      "_________________________________________________________________\n",
      "first_pooling (MaxPooling2D) (None, 8, 8, 3)           0         \n",
      "_________________________________________________________________\n",
      "last_convolution (Conv2D)    (None, 8, 8, 3)           36867     \n",
      "_________________________________________________________________\n",
      "general_max_pooling (GlobalM (None, 3)                 0         \n",
      "_________________________________________________________________\n",
      "dropout_out (Dropout)        (None, 3)                 0         \n",
      "_________________________________________________________________\n",
      "fc_out (Dense)               (None, 1)                 4         \n",
      "=================================================================\n",
      "Total params: 8,018,635\n",
      "Trainable params: 7,976,612\n",
      "Non-trainable params: 42,023\n",
      "_________________________________________________________________\n"
     ]
    }
   ],
   "source": [
    "model.summary()"
   ]
  },
  {
   "cell_type": "markdown",
   "id": "9448ab8a-f4d6-4d74-a271-c4356c543fb3",
   "metadata": {},
   "source": [
    "# Compilación y entrenamiento"
   ]
  },
  {
   "cell_type": "markdown",
   "id": "25793694",
   "metadata": {},
   "source": [
    "## Callback"
   ]
  },
  {
   "cell_type": "code",
   "execution_count": 30,
   "id": "1dbd5654",
   "metadata": {},
   "outputs": [],
   "source": [
    "log_dir = \"/home/mr1142/Documents/Data/logs/fit/\" + datetime.datetime.now().strftime(\"%Y%m%d-%H%M%S\")\n",
    "tensorboard_callback = tf.keras.callbacks.TensorBoard(log_dir=log_dir,\n",
    "                                                      update_freq='batch',\n",
    "                                                      histogram_freq=1)"
   ]
  },
  {
   "cell_type": "markdown",
   "id": "35e75081",
   "metadata": {},
   "source": [
    "## 1º entrenamiento\n",
    "Solo vamos a entrenar las capas que hemos añadido"
   ]
  },
  {
   "cell_type": "code",
   "execution_count": 31,
   "id": "1d6d6dd6",
   "metadata": {},
   "outputs": [],
   "source": [
    "conv_base.trainable = False"
   ]
  },
  {
   "cell_type": "code",
   "execution_count": 32,
   "id": "20d5cfaf",
   "metadata": {},
   "outputs": [
    {
     "data": {
      "text/plain": [
       "8"
      ]
     },
     "execution_count": 32,
     "metadata": {},
     "output_type": "execute_result"
    }
   ],
   "source": [
    "len(model.trainable_variables)"
   ]
  },
  {
   "cell_type": "markdown",
   "id": "47856cd1",
   "metadata": {},
   "source": [
    "### Hiperparámetros"
   ]
  },
  {
   "cell_type": "markdown",
   "id": "20609b59",
   "metadata": {},
   "source": [
    "1. **Loss**"
   ]
  },
  {
   "cell_type": "code",
   "execution_count": 33,
   "id": "0a84aa48",
   "metadata": {},
   "outputs": [],
   "source": [
    "loss = tf.keras.losses.BinaryCrossentropy()"
   ]
  },
  {
   "cell_type": "markdown",
   "id": "f8007099",
   "metadata": {},
   "source": [
    "2. **Optimizador y learning rate**"
   ]
  },
  {
   "cell_type": "code",
   "execution_count": 34,
   "id": "26689ccb",
   "metadata": {},
   "outputs": [],
   "source": [
    "lr = 0.1\n",
    "opt = tf.keras.optimizers.Adam(learning_rate = lr)"
   ]
  },
  {
   "cell_type": "markdown",
   "id": "0c1d28fe",
   "metadata": {},
   "source": [
    "3. **Metricas**"
   ]
  },
  {
   "cell_type": "code",
   "execution_count": 35,
   "id": "78a014aa",
   "metadata": {},
   "outputs": [],
   "source": [
    "met = ['BinaryAccuracy', 'TruePositives', 'Precision', 'AUC']"
   ]
  },
  {
   "cell_type": "markdown",
   "id": "c98c93a8",
   "metadata": {},
   "source": [
    "4. **Batch size**"
   ]
  },
  {
   "cell_type": "code",
   "execution_count": 36,
   "id": "ee9b9f08",
   "metadata": {},
   "outputs": [],
   "source": [
    "batch = 32"
   ]
  },
  {
   "cell_type": "markdown",
   "id": "8d7f25a6",
   "metadata": {},
   "source": [
    "5. **Epochs**"
   ]
  },
  {
   "cell_type": "code",
   "execution_count": 37,
   "id": "db938a80",
   "metadata": {},
   "outputs": [],
   "source": [
    "initial_epochs = 50"
   ]
  },
  {
   "cell_type": "markdown",
   "id": "14889558",
   "metadata": {},
   "source": [
    "### Entrenamiento"
   ]
  },
  {
   "cell_type": "code",
   "execution_count": 38,
   "id": "b09c00a1",
   "metadata": {},
   "outputs": [],
   "source": [
    "model.compile(optimizer=opt, loss = loss , metrics = met)"
   ]
  },
  {
   "cell_type": "code",
   "execution_count": 39,
   "id": "347eb81a",
   "metadata": {},
   "outputs": [
    {
     "name": "stdout",
     "output_type": "stream",
     "text": [
      "Epoch 1/50\n",
      "73/73 [==============================] - 1304s 11s/step - loss: 44.0605 - binary_accuracy: 0.4951 - true_positives: 590.6892 - precision: 0.4951 - auc: 0.5000 - val_loss: 0.6932 - val_binary_accuracy: 0.5234 - val_true_positives: 302.0000 - val_precision: 0.5234 - val_auc: 0.5000\n",
      "Epoch 2/50\n",
      "73/73 [==============================] - 26s 355ms/step - loss: 0.7115 - binary_accuracy: 0.4866 - true_positives: 589.4865 - precision: 0.4866 - auc: 0.5000 - val_loss: 0.6926 - val_binary_accuracy: 0.5234 - val_true_positives: 302.0000 - val_precision: 0.5234 - val_auc: 0.5000\n",
      "Epoch 3/50\n",
      "73/73 [==============================] - 26s 357ms/step - loss: 0.7070 - binary_accuracy: 0.4871 - true_positives: 583.0405 - precision: 0.4871 - auc: 0.5000 - val_loss: 0.6937 - val_binary_accuracy: 0.5234 - val_true_positives: 302.0000 - val_precision: 0.5234 - val_auc: 0.5000\n",
      "Epoch 4/50\n",
      "73/73 [==============================] - 26s 358ms/step - loss: 0.7079 - binary_accuracy: 0.5073 - true_positives: 598.6081 - precision: 0.5073 - auc: 0.5000 - val_loss: 0.6979 - val_binary_accuracy: 0.5234 - val_true_positives: 302.0000 - val_precision: 0.5234 - val_auc: 0.5000\n",
      "Epoch 5/50\n",
      "73/73 [==============================] - 26s 357ms/step - loss: 0.6992 - binary_accuracy: 0.4967 - true_positives: 591.5000 - precision: 0.4967 - auc: 0.5000 - val_loss: 0.6921 - val_binary_accuracy: 0.5234 - val_true_positives: 302.0000 - val_precision: 0.5234 - val_auc: 0.5000\n",
      "Epoch 6/50\n",
      "73/73 [==============================] - 26s 357ms/step - loss: 0.7041 - binary_accuracy: 0.4939 - true_positives: 592.3919 - precision: 0.4939 - auc: 0.5000 - val_loss: 0.6946 - val_binary_accuracy: 0.5234 - val_true_positives: 302.0000 - val_precision: 0.5234 - val_auc: 0.5000\n",
      "Epoch 7/50\n",
      "73/73 [==============================] - 26s 358ms/step - loss: 0.7018 - binary_accuracy: 0.4961 - true_positives: 595.2432 - precision: 0.4961 - auc: 0.5000 - val_loss: 0.6957 - val_binary_accuracy: 0.5234 - val_true_positives: 302.0000 - val_precision: 0.5234 - val_auc: 0.5000\n",
      "Epoch 8/50\n",
      "73/73 [==============================] - 26s 358ms/step - loss: 0.6966 - binary_accuracy: 0.4990 - true_positives: 599.9595 - precision: 0.4990 - auc: 0.5000 - val_loss: 0.7015 - val_binary_accuracy: 0.5234 - val_true_positives: 302.0000 - val_precision: 0.5234 - val_auc: 0.5000\n",
      "Epoch 9/50\n",
      "73/73 [==============================] - 26s 357ms/step - loss: 0.7024 - binary_accuracy: 0.4903 - true_positives: 586.5541 - precision: 0.4903 - auc: 0.5000 - val_loss: 0.6924 - val_binary_accuracy: 0.5234 - val_true_positives: 302.0000 - val_precision: 0.5234 - val_auc: 0.5000\n",
      "Epoch 10/50\n",
      "73/73 [==============================] - 26s 358ms/step - loss: 0.7111 - binary_accuracy: 0.4907 - true_positives: 586.6622 - precision: 0.4907 - auc: 0.5000 - val_loss: 0.6924 - val_binary_accuracy: 0.5234 - val_true_positives: 302.0000 - val_precision: 0.5234 - val_auc: 0.5000\n",
      "Epoch 11/50\n",
      "73/73 [==============================] - 26s 358ms/step - loss: 0.7035 - binary_accuracy: 0.4928 - true_positives: 594.1892 - precision: 0.4928 - auc: 0.5000 - val_loss: 0.6934 - val_binary_accuracy: 0.5234 - val_true_positives: 302.0000 - val_precision: 0.5234 - val_auc: 0.5000\n",
      "Epoch 12/50\n",
      "73/73 [==============================] - 26s 358ms/step - loss: 0.6957 - binary_accuracy: 0.5177 - true_positives: 606.7297 - precision: 0.5177 - auc: 0.5000 - val_loss: 0.6963 - val_binary_accuracy: 0.5234 - val_true_positives: 302.0000 - val_precision: 0.5234 - val_auc: 0.5000\n",
      "Epoch 13/50\n",
      "46/73 [=================>............] - ETA: 8s - loss: 0.6988 - binary_accuracy: 0.4829 - true_positives: 365.5435 - precision: 0.4829 - auc: 0.5000"
     ]
    },
    {
     "ename": "KeyboardInterrupt",
     "evalue": "",
     "output_type": "error",
     "traceback": [
      "\u001b[0;31m---------------------------------------------------------------------------\u001b[0m",
      "\u001b[0;31mKeyboardInterrupt\u001b[0m                         Traceback (most recent call last)",
      "\u001b[0;32m<ipython-input-39-ad0853da8b35>\u001b[0m in \u001b[0;36m<module>\u001b[0;34m\u001b[0m\n\u001b[1;32m      4\u001b[0m                     \u001b[0mcallbacks\u001b[0m \u001b[0;34m=\u001b[0m \u001b[0mtensorboard_callback\u001b[0m\u001b[0;34m,\u001b[0m\u001b[0;34m\u001b[0m\u001b[0;34m\u001b[0m\u001b[0m\n\u001b[1;32m      5\u001b[0m                     \u001b[0mshuffle\u001b[0m \u001b[0;34m=\u001b[0m \u001b[0;32mTrue\u001b[0m\u001b[0;34m,\u001b[0m\u001b[0;34m\u001b[0m\u001b[0;34m\u001b[0m\u001b[0m\n\u001b[0;32m----> 6\u001b[0;31m                     validation_split = 0.2)\n\u001b[0m",
      "\u001b[0;32m~/miniconda3/envs/init/lib/python3.6/site-packages/tensorflow/python/keras/engine/training.py\u001b[0m in \u001b[0;36mfit\u001b[0;34m(self, x, y, batch_size, epochs, verbose, callbacks, validation_split, validation_data, shuffle, class_weight, sample_weight, initial_epoch, steps_per_epoch, validation_steps, validation_batch_size, validation_freq, max_queue_size, workers, use_multiprocessing)\u001b[0m\n\u001b[1;32m   1098\u001b[0m                 _r=1):\n\u001b[1;32m   1099\u001b[0m               \u001b[0mcallbacks\u001b[0m\u001b[0;34m.\u001b[0m\u001b[0mon_train_batch_begin\u001b[0m\u001b[0;34m(\u001b[0m\u001b[0mstep\u001b[0m\u001b[0;34m)\u001b[0m\u001b[0;34m\u001b[0m\u001b[0;34m\u001b[0m\u001b[0m\n\u001b[0;32m-> 1100\u001b[0;31m               \u001b[0mtmp_logs\u001b[0m \u001b[0;34m=\u001b[0m \u001b[0mself\u001b[0m\u001b[0;34m.\u001b[0m\u001b[0mtrain_function\u001b[0m\u001b[0;34m(\u001b[0m\u001b[0miterator\u001b[0m\u001b[0;34m)\u001b[0m\u001b[0;34m\u001b[0m\u001b[0;34m\u001b[0m\u001b[0m\n\u001b[0m\u001b[1;32m   1101\u001b[0m               \u001b[0;32mif\u001b[0m \u001b[0mdata_handler\u001b[0m\u001b[0;34m.\u001b[0m\u001b[0mshould_sync\u001b[0m\u001b[0;34m:\u001b[0m\u001b[0;34m\u001b[0m\u001b[0;34m\u001b[0m\u001b[0m\n\u001b[1;32m   1102\u001b[0m                 \u001b[0mcontext\u001b[0m\u001b[0;34m.\u001b[0m\u001b[0masync_wait\u001b[0m\u001b[0;34m(\u001b[0m\u001b[0;34m)\u001b[0m\u001b[0;34m\u001b[0m\u001b[0;34m\u001b[0m\u001b[0m\n",
      "\u001b[0;32m~/miniconda3/envs/init/lib/python3.6/site-packages/tensorflow/python/eager/def_function.py\u001b[0m in \u001b[0;36m__call__\u001b[0;34m(self, *args, **kwds)\u001b[0m\n\u001b[1;32m    826\u001b[0m     \u001b[0mtracing_count\u001b[0m \u001b[0;34m=\u001b[0m \u001b[0mself\u001b[0m\u001b[0;34m.\u001b[0m\u001b[0mexperimental_get_tracing_count\u001b[0m\u001b[0;34m(\u001b[0m\u001b[0;34m)\u001b[0m\u001b[0;34m\u001b[0m\u001b[0;34m\u001b[0m\u001b[0m\n\u001b[1;32m    827\u001b[0m     \u001b[0;32mwith\u001b[0m \u001b[0mtrace\u001b[0m\u001b[0;34m.\u001b[0m\u001b[0mTrace\u001b[0m\u001b[0;34m(\u001b[0m\u001b[0mself\u001b[0m\u001b[0;34m.\u001b[0m\u001b[0m_name\u001b[0m\u001b[0;34m)\u001b[0m \u001b[0;32mas\u001b[0m \u001b[0mtm\u001b[0m\u001b[0;34m:\u001b[0m\u001b[0;34m\u001b[0m\u001b[0;34m\u001b[0m\u001b[0m\n\u001b[0;32m--> 828\u001b[0;31m       \u001b[0mresult\u001b[0m \u001b[0;34m=\u001b[0m \u001b[0mself\u001b[0m\u001b[0;34m.\u001b[0m\u001b[0m_call\u001b[0m\u001b[0;34m(\u001b[0m\u001b[0;34m*\u001b[0m\u001b[0margs\u001b[0m\u001b[0;34m,\u001b[0m \u001b[0;34m**\u001b[0m\u001b[0mkwds\u001b[0m\u001b[0;34m)\u001b[0m\u001b[0;34m\u001b[0m\u001b[0;34m\u001b[0m\u001b[0m\n\u001b[0m\u001b[1;32m    829\u001b[0m       \u001b[0mcompiler\u001b[0m \u001b[0;34m=\u001b[0m \u001b[0;34m\"xla\"\u001b[0m \u001b[0;32mif\u001b[0m \u001b[0mself\u001b[0m\u001b[0;34m.\u001b[0m\u001b[0m_experimental_compile\u001b[0m \u001b[0;32melse\u001b[0m \u001b[0;34m\"nonXla\"\u001b[0m\u001b[0;34m\u001b[0m\u001b[0;34m\u001b[0m\u001b[0m\n\u001b[1;32m    830\u001b[0m       \u001b[0mnew_tracing_count\u001b[0m \u001b[0;34m=\u001b[0m \u001b[0mself\u001b[0m\u001b[0;34m.\u001b[0m\u001b[0mexperimental_get_tracing_count\u001b[0m\u001b[0;34m(\u001b[0m\u001b[0;34m)\u001b[0m\u001b[0;34m\u001b[0m\u001b[0;34m\u001b[0m\u001b[0m\n",
      "\u001b[0;32m~/miniconda3/envs/init/lib/python3.6/site-packages/tensorflow/python/eager/def_function.py\u001b[0m in \u001b[0;36m_call\u001b[0;34m(self, *args, **kwds)\u001b[0m\n\u001b[1;32m    853\u001b[0m       \u001b[0;31m# In this case we have created variables on the first call, so we run the\u001b[0m\u001b[0;34m\u001b[0m\u001b[0;34m\u001b[0m\u001b[0;34m\u001b[0m\u001b[0m\n\u001b[1;32m    854\u001b[0m       \u001b[0;31m# defunned version which is guaranteed to never create variables.\u001b[0m\u001b[0;34m\u001b[0m\u001b[0;34m\u001b[0m\u001b[0;34m\u001b[0m\u001b[0m\n\u001b[0;32m--> 855\u001b[0;31m       \u001b[0;32mreturn\u001b[0m \u001b[0mself\u001b[0m\u001b[0;34m.\u001b[0m\u001b[0m_stateless_fn\u001b[0m\u001b[0;34m(\u001b[0m\u001b[0;34m*\u001b[0m\u001b[0margs\u001b[0m\u001b[0;34m,\u001b[0m \u001b[0;34m**\u001b[0m\u001b[0mkwds\u001b[0m\u001b[0;34m)\u001b[0m  \u001b[0;31m# pylint: disable=not-callable\u001b[0m\u001b[0;34m\u001b[0m\u001b[0;34m\u001b[0m\u001b[0m\n\u001b[0m\u001b[1;32m    856\u001b[0m     \u001b[0;32melif\u001b[0m \u001b[0mself\u001b[0m\u001b[0;34m.\u001b[0m\u001b[0m_stateful_fn\u001b[0m \u001b[0;32mis\u001b[0m \u001b[0;32mnot\u001b[0m \u001b[0;32mNone\u001b[0m\u001b[0;34m:\u001b[0m\u001b[0;34m\u001b[0m\u001b[0;34m\u001b[0m\u001b[0m\n\u001b[1;32m    857\u001b[0m       \u001b[0;31m# Release the lock early so that multiple threads can perform the call\u001b[0m\u001b[0;34m\u001b[0m\u001b[0;34m\u001b[0m\u001b[0;34m\u001b[0m\u001b[0m\n",
      "\u001b[0;32m~/miniconda3/envs/init/lib/python3.6/site-packages/tensorflow/python/eager/function.py\u001b[0m in \u001b[0;36m__call__\u001b[0;34m(self, *args, **kwargs)\u001b[0m\n\u001b[1;32m   2941\u001b[0m        filtered_flat_args) = self._maybe_define_function(args, kwargs)\n\u001b[1;32m   2942\u001b[0m     return graph_function._call_flat(\n\u001b[0;32m-> 2943\u001b[0;31m         filtered_flat_args, captured_inputs=graph_function.captured_inputs)  # pylint: disable=protected-access\n\u001b[0m\u001b[1;32m   2944\u001b[0m \u001b[0;34m\u001b[0m\u001b[0m\n\u001b[1;32m   2945\u001b[0m   \u001b[0;34m@\u001b[0m\u001b[0mproperty\u001b[0m\u001b[0;34m\u001b[0m\u001b[0;34m\u001b[0m\u001b[0m\n",
      "\u001b[0;32m~/miniconda3/envs/init/lib/python3.6/site-packages/tensorflow/python/eager/function.py\u001b[0m in \u001b[0;36m_call_flat\u001b[0;34m(self, args, captured_inputs, cancellation_manager)\u001b[0m\n\u001b[1;32m   1917\u001b[0m       \u001b[0;31m# No tape is watching; skip to running the function.\u001b[0m\u001b[0;34m\u001b[0m\u001b[0;34m\u001b[0m\u001b[0;34m\u001b[0m\u001b[0m\n\u001b[1;32m   1918\u001b[0m       return self._build_call_outputs(self._inference_function.call(\n\u001b[0;32m-> 1919\u001b[0;31m           ctx, args, cancellation_manager=cancellation_manager))\n\u001b[0m\u001b[1;32m   1920\u001b[0m     forward_backward = self._select_forward_and_backward_functions(\n\u001b[1;32m   1921\u001b[0m         \u001b[0margs\u001b[0m\u001b[0;34m,\u001b[0m\u001b[0;34m\u001b[0m\u001b[0;34m\u001b[0m\u001b[0m\n",
      "\u001b[0;32m~/miniconda3/envs/init/lib/python3.6/site-packages/tensorflow/python/eager/function.py\u001b[0m in \u001b[0;36mcall\u001b[0;34m(self, ctx, args, cancellation_manager)\u001b[0m\n\u001b[1;32m    558\u001b[0m               \u001b[0minputs\u001b[0m\u001b[0;34m=\u001b[0m\u001b[0margs\u001b[0m\u001b[0;34m,\u001b[0m\u001b[0;34m\u001b[0m\u001b[0;34m\u001b[0m\u001b[0m\n\u001b[1;32m    559\u001b[0m               \u001b[0mattrs\u001b[0m\u001b[0;34m=\u001b[0m\u001b[0mattrs\u001b[0m\u001b[0;34m,\u001b[0m\u001b[0;34m\u001b[0m\u001b[0;34m\u001b[0m\u001b[0m\n\u001b[0;32m--> 560\u001b[0;31m               ctx=ctx)\n\u001b[0m\u001b[1;32m    561\u001b[0m         \u001b[0;32melse\u001b[0m\u001b[0;34m:\u001b[0m\u001b[0;34m\u001b[0m\u001b[0;34m\u001b[0m\u001b[0m\n\u001b[1;32m    562\u001b[0m           outputs = execute.execute_with_cancellation(\n",
      "\u001b[0;32m~/miniconda3/envs/init/lib/python3.6/site-packages/tensorflow/python/eager/execute.py\u001b[0m in \u001b[0;36mquick_execute\u001b[0;34m(op_name, num_outputs, inputs, attrs, ctx, name)\u001b[0m\n\u001b[1;32m     58\u001b[0m     \u001b[0mctx\u001b[0m\u001b[0;34m.\u001b[0m\u001b[0mensure_initialized\u001b[0m\u001b[0;34m(\u001b[0m\u001b[0;34m)\u001b[0m\u001b[0;34m\u001b[0m\u001b[0;34m\u001b[0m\u001b[0m\n\u001b[1;32m     59\u001b[0m     tensors = pywrap_tfe.TFE_Py_Execute(ctx._handle, device_name, op_name,\n\u001b[0;32m---> 60\u001b[0;31m                                         inputs, attrs, num_outputs)\n\u001b[0m\u001b[1;32m     61\u001b[0m   \u001b[0;32mexcept\u001b[0m \u001b[0mcore\u001b[0m\u001b[0;34m.\u001b[0m\u001b[0m_NotOkStatusException\u001b[0m \u001b[0;32mas\u001b[0m \u001b[0me\u001b[0m\u001b[0;34m:\u001b[0m\u001b[0;34m\u001b[0m\u001b[0;34m\u001b[0m\u001b[0m\n\u001b[1;32m     62\u001b[0m     \u001b[0;32mif\u001b[0m \u001b[0mname\u001b[0m \u001b[0;32mis\u001b[0m \u001b[0;32mnot\u001b[0m \u001b[0;32mNone\u001b[0m\u001b[0;34m:\u001b[0m\u001b[0;34m\u001b[0m\u001b[0;34m\u001b[0m\u001b[0m\n",
      "\u001b[0;31mKeyboardInterrupt\u001b[0m: "
     ]
    }
   ],
   "source": [
    "history = model.fit(X_train,Y_train,\n",
    "                    batch_size = batch,\n",
    "                    epochs = initial_epochs,\n",
    "                    callbacks = tensorboard_callback,\n",
    "                    shuffle = True,\n",
    "                    validation_split = 0.2)"
   ]
  },
  {
   "cell_type": "code",
   "execution_count": null,
   "id": "8e86966b",
   "metadata": {},
   "outputs": [],
   "source": [
    "epochs_range = range(initial_epochs)\n",
    "i = 0\n",
    "for i in range(int(len(history.history.keys())/2)):\n",
    "    key = list(history.history.keys())[i]\n",
    "    \n",
    "    plt.figure(figsize=(5, 5))\n",
    "    plt.subplot(1, 1, 1)\n",
    "    plt.plot(epochs_range, history.history[key], label=key)\n",
    "    plt.plot(epochs_range, history.history['val_' + key], label='val_' + key)\n",
    "    plt.legend(loc='lower right')\n",
    "    plt.title('Training and Validation')\n",
    "plt.show()"
   ]
  },
  {
   "cell_type": "markdown",
   "id": "cbdd2bc4",
   "metadata": {},
   "source": [
    "## 2º Entrenamiento\n",
    "Ahora vamos a entrenar tambien la red preentrenada, pero no queremos entrenar todas las capas, únicamente las capas más profundas, ya que las primeras capas son muy genéricas."
   ]
  },
  {
   "cell_type": "markdown",
   "id": "369658a2",
   "metadata": {},
   "source": [
    "### Ajustar el entrenamiento de la red preentrenada"
   ]
  },
  {
   "cell_type": "code",
   "execution_count": null,
   "id": "67af1234",
   "metadata": {},
   "outputs": [],
   "source": [
    "conv_base.trainable = True"
   ]
  },
  {
   "cell_type": "code",
   "execution_count": null,
   "id": "1403d59e",
   "metadata": {},
   "outputs": [],
   "source": [
    "len(conv_base.layers)"
   ]
  },
  {
   "cell_type": "markdown",
   "id": "52d5eefd",
   "metadata": {},
   "source": [
    "Vamos a entrenar desde la capa 100"
   ]
  },
  {
   "cell_type": "code",
   "execution_count": null,
   "id": "9fa0a975",
   "metadata": {},
   "outputs": [],
   "source": [
    "fine_tune_at = 100\n",
    "\n",
    "for layer in conv_base.layers[:fine_tune_at]:\n",
    "    layer.trainable = False"
   ]
  },
  {
   "cell_type": "markdown",
   "id": "caf2f222",
   "metadata": {},
   "source": [
    "## Hiperparámetros\n",
    "Como el modelo es mucho más grande tenemos que usar un learning rate más bajo del que usabamos.\n",
    "Vamos a utilizar dos learning rates, uno para el modelo preentrenado y otro para las capas nuevas"
   ]
  },
  {
   "cell_type": "code",
   "execution_count": null,
   "id": "458e9050",
   "metadata": {},
   "outputs": [],
   "source": [
    "opt = [tf.keras.optimizers.Adam(learning_rate = lr), tf.keras.optimizers.RMSprop(learning_rate = lr/100)]\n",
    "optimizers_and_layers = [(opt[0], model.layers[0]),\n",
    "                         (opt[1], model.layers[1]),\n",
    "                         (opt[0], model.layers[2:])]\n",
    "opt = tfa.optimizers.MultiOptimizer(optimizers_and_layers)"
   ]
  },
  {
   "cell_type": "code",
   "execution_count": null,
   "id": "bc6598c5",
   "metadata": {},
   "outputs": [],
   "source": [
    "batch = 8\n",
    "fine_tune_epochs = 150\n",
    "total_epoch = initial_epochs + fine_tune_epochs"
   ]
  },
  {
   "cell_type": "markdown",
   "id": "54f8108d",
   "metadata": {},
   "source": [
    "### Entrenamiento"
   ]
  },
  {
   "cell_type": "code",
   "execution_count": null,
   "id": "a31238fb",
   "metadata": {},
   "outputs": [],
   "source": [
    "model.compile(optimizer=opt, loss = loss , metrics = met)"
   ]
  },
  {
   "cell_type": "code",
   "execution_count": null,
   "id": "b729d8a7",
   "metadata": {},
   "outputs": [],
   "source": [
    "history = model.fit(datagen.flow(X_train,Y_train, subset = 'training', batch_size = batch),\n",
    "                    epochs = total_epoch,\n",
    "                    initial_epoch=history.epoch[-1],\n",
    "                    callbacks = tensorboard_callback,\n",
    "                    validation_split = 0.2)"
   ]
  },
  {
   "cell_type": "code",
   "execution_count": null,
   "id": "56c69160",
   "metadata": {},
   "outputs": [],
   "source": [
    "epochs_range = len(history.history['loss'])\n",
    "i = 0\n",
    "for i in range(int(len(history.history.keys())/2)):\n",
    "    key = list(history.history.keys())[i]\n",
    "    \n",
    "    plt.figure(figsize=(5, 5))\n",
    "    plt.subplot(1, 1, 1)\n",
    "    plt.plot(history.history[key], label=key)\n",
    "    plt.plot(history.history['val_' + key], label='val_' + key)\n",
    "    plt.legend(loc='lower right')\n",
    "    plt.title('Training and Validation')\n",
    "plt.show()"
   ]
  },
  {
   "cell_type": "code",
   "execution_count": null,
   "id": "f54d0336",
   "metadata": {},
   "outputs": [],
   "source": []
  }
 ],
 "metadata": {
  "kernelspec": {
   "display_name": "Python 3",
   "language": "python",
   "name": "python3"
  },
  "language_info": {
   "codemirror_mode": {
    "name": "ipython",
    "version": 3
   },
   "file_extension": ".py",
   "mimetype": "text/x-python",
   "name": "python",
   "nbconvert_exporter": "python",
   "pygments_lexer": "ipython3",
   "version": "3.6.8"
  }
 },
 "nbformat": 4,
 "nbformat_minor": 5
}
