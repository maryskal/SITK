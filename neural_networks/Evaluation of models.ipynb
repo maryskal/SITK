{
 "cells": [
  {
   "cell_type": "code",
   "execution_count": 22,
   "id": "db7d35cc-bae5-45cf-832f-d0d1c57404ee",
   "metadata": {},
   "outputs": [],
   "source": [
    "import numpy as np\n",
    "import pandas as pd\n",
    "import re"
   ]
  },
  {
   "cell_type": "code",
   "execution_count": 28,
   "id": "bbe6e659-3898-47d5-9f5d-5af0fce5574d",
   "metadata": {},
   "outputs": [
    {
     "data": {
      "text/plain": [
       "['Atelectasis',\n",
       " 'Cardiomegaly',\n",
       " 'Consolidation',\n",
       " 'Edema',\n",
       " 'Effusion',\n",
       " 'Emphysema',\n",
       " 'Hernia',\n",
       " 'Infiltration',\n",
       " 'Mass',\n",
       " 'No Finding',\n",
       " 'Nodule',\n",
       " 'Pleural_Thickening',\n",
       " 'Pneumonia',\n",
       " 'Pneumothorax']"
      ]
     },
     "execution_count": 28,
     "metadata": {},
     "output_type": "execute_result"
    }
   ],
   "source": [
    "df = pd.read_csv('/home/mr1142/Documents/Data/segmentation/splited/validation/validation_data.csv')\n",
    "labels = [re.split('[|]', df['Finding Labels'][i]) for i in df.index]\n",
    "labels = [x for xs in labels for x in xs]\n",
    "labels = list(np.unique(labels))\n",
    "labels"
   ]
  },
  {
   "cell_type": "code",
   "execution_count": 300,
   "id": "5d2a8349-fb8f-4662-b501-0c0d2c810eba",
   "metadata": {},
   "outputs": [],
   "source": [
    "path = '/home/mr1142/Documents/Data/models/validation_results/validation_results' + '' + '.csv'\n",
    "df = pd.read_csv(path)"
   ]
  },
  {
   "cell_type": "code",
   "execution_count": 301,
   "id": "adb13b3e-659e-4b98-929a-c8e0dfd8b5a9",
   "metadata": {},
   "outputs": [
    {
     "data": {
      "text/html": [
       "<div>\n",
       "<style scoped>\n",
       "    .dataframe tbody tr th:only-of-type {\n",
       "        vertical-align: middle;\n",
       "    }\n",
       "\n",
       "    .dataframe tbody tr th {\n",
       "        vertical-align: top;\n",
       "    }\n",
       "\n",
       "    .dataframe thead th {\n",
       "        text-align: right;\n",
       "    }\n",
       "</style>\n",
       "<table border=\"1\" class=\"dataframe\">\n",
       "  <thead>\n",
       "    <tr style=\"text-align: right;\">\n",
       "      <th></th>\n",
       "      <th>type</th>\n",
       "      <th>name</th>\n",
       "      <th>loss</th>\n",
       "      <th>dice_coef_loss</th>\n",
       "      <th>loss_mask</th>\n",
       "      <th>accuracy</th>\n",
       "      <th>AUC</th>\n",
       "      <th>false_positives</th>\n",
       "      <th>false_negatives</th>\n",
       "    </tr>\n",
       "  </thead>\n",
       "  <tbody>\n",
       "    <tr>\n",
       "      <th>10</th>\n",
       "      <td>unet</td>\n",
       "      <td>renacimiento_validation_1</td>\n",
       "      <td>0.032621</td>\n",
       "      <td>0.032179</td>\n",
       "      <td>0.092485</td>\n",
       "      <td>0.973949</td>\n",
       "      <td>0.974434</td>\n",
       "      <td>88665.0</td>\n",
       "      <td>80353.0</td>\n",
       "    </tr>\n",
       "    <tr>\n",
       "      <th>2</th>\n",
       "      <td>unet</td>\n",
       "      <td>_albumentation_validation_2.h5</td>\n",
       "      <td>0.034487</td>\n",
       "      <td>0.034487</td>\n",
       "      <td>0.095812</td>\n",
       "      <td>0.973940</td>\n",
       "      <td>0.974166</td>\n",
       "      <td>7962.0</td>\n",
       "      <td>5701.0</td>\n",
       "    </tr>\n",
       "    <tr>\n",
       "      <th>7</th>\n",
       "      <td>uloss</td>\n",
       "      <td>albumentation_rotate_3_validation_2</td>\n",
       "      <td>0.129951</td>\n",
       "      <td>0.034909</td>\n",
       "      <td>0.094568</td>\n",
       "      <td>0.971946</td>\n",
       "      <td>0.973499</td>\n",
       "      <td>87304.0</td>\n",
       "      <td>94711.0</td>\n",
       "    </tr>\n",
       "    <tr>\n",
       "      <th>6</th>\n",
       "      <td>uloss</td>\n",
       "      <td>albumentation_rotate_3_validation_1</td>\n",
       "      <td>0.128454</td>\n",
       "      <td>0.035279</td>\n",
       "      <td>0.092766</td>\n",
       "      <td>0.971818</td>\n",
       "      <td>0.972174</td>\n",
       "      <td>78499.0</td>\n",
       "      <td>104346.0</td>\n",
       "    </tr>\n",
       "    <tr>\n",
       "      <th>5</th>\n",
       "      <td>unet</td>\n",
       "      <td>albumentation_rotate_3_validation_2</td>\n",
       "      <td>0.035893</td>\n",
       "      <td>0.035434</td>\n",
       "      <td>0.097252</td>\n",
       "      <td>0.971598</td>\n",
       "      <td>0.971085</td>\n",
       "      <td>81626.0</td>\n",
       "      <td>102645.0</td>\n",
       "    </tr>\n",
       "    <tr>\n",
       "      <th>3</th>\n",
       "      <td>uloss</td>\n",
       "      <td>_albumentation_validation_2.h5</td>\n",
       "      <td>0.149065</td>\n",
       "      <td>0.036346</td>\n",
       "      <td>0.112719</td>\n",
       "      <td>0.972670</td>\n",
       "      <td>0.973263</td>\n",
       "      <td>6937.0</td>\n",
       "      <td>7392.0</td>\n",
       "    </tr>\n",
       "    <tr>\n",
       "      <th>4</th>\n",
       "      <td>unet</td>\n",
       "      <td>albumentation_rotate_3_validation_1</td>\n",
       "      <td>0.037508</td>\n",
       "      <td>0.036994</td>\n",
       "      <td>0.104480</td>\n",
       "      <td>0.970098</td>\n",
       "      <td>0.969842</td>\n",
       "      <td>87088.0</td>\n",
       "      <td>106918.0</td>\n",
       "    </tr>\n",
       "    <tr>\n",
       "      <th>0</th>\n",
       "      <td>unet</td>\n",
       "      <td>_albumentation_validation_1.h5</td>\n",
       "      <td>0.037296</td>\n",
       "      <td>0.037296</td>\n",
       "      <td>0.117240</td>\n",
       "      <td>0.971939</td>\n",
       "      <td>0.970628</td>\n",
       "      <td>7386.0</td>\n",
       "      <td>7326.0</td>\n",
       "    </tr>\n",
       "    <tr>\n",
       "      <th>9</th>\n",
       "      <td>uloss</td>\n",
       "      <td>validation_rotate_normalization_1</td>\n",
       "      <td>0.134512</td>\n",
       "      <td>0.037305</td>\n",
       "      <td>0.097394</td>\n",
       "      <td>0.970390</td>\n",
       "      <td>0.971013</td>\n",
       "      <td>91815.0</td>\n",
       "      <td>100297.0</td>\n",
       "    </tr>\n",
       "    <tr>\n",
       "      <th>8</th>\n",
       "      <td>unet</td>\n",
       "      <td>validation_rotate_normalization_1</td>\n",
       "      <td>0.038100</td>\n",
       "      <td>0.037542</td>\n",
       "      <td>0.103917</td>\n",
       "      <td>0.969410</td>\n",
       "      <td>0.968877</td>\n",
       "      <td>90885.0</td>\n",
       "      <td>107587.0</td>\n",
       "    </tr>\n",
       "    <tr>\n",
       "      <th>1</th>\n",
       "      <td>uloss</td>\n",
       "      <td>_albumentation_validation_1.h5</td>\n",
       "      <td>0.141863</td>\n",
       "      <td>0.038948</td>\n",
       "      <td>0.102915</td>\n",
       "      <td>0.970747</td>\n",
       "      <td>0.970617</td>\n",
       "      <td>7504.0</td>\n",
       "      <td>7833.0</td>\n",
       "    </tr>\n",
       "    <tr>\n",
       "      <th>11</th>\n",
       "      <td>unet</td>\n",
       "      <td>nuevos_validation_mejora_3</td>\n",
       "      <td>0.040236</td>\n",
       "      <td>0.039544</td>\n",
       "      <td>0.106641</td>\n",
       "      <td>0.967752</td>\n",
       "      <td>0.968213</td>\n",
       "      <td>111092.0</td>\n",
       "      <td>98133.0</td>\n",
       "    </tr>\n",
       "    <tr>\n",
       "      <th>12</th>\n",
       "      <td>uloss</td>\n",
       "      <td>retry_validation_rotate_1</td>\n",
       "      <td>0.739505</td>\n",
       "      <td>0.266710</td>\n",
       "      <td>0.470180</td>\n",
       "      <td>0.790600</td>\n",
       "      <td>0.777661</td>\n",
       "      <td>610659.0</td>\n",
       "      <td>747940.0</td>\n",
       "    </tr>\n",
       "    <tr>\n",
       "      <th>13</th>\n",
       "      <td>uloss</td>\n",
       "      <td>retry_validation_gamma_1</td>\n",
       "      <td>0.872688</td>\n",
       "      <td>0.369991</td>\n",
       "      <td>0.502911</td>\n",
       "      <td>0.754727</td>\n",
       "      <td>0.716058</td>\n",
       "      <td>356972.0</td>\n",
       "      <td>1234373.0</td>\n",
       "    </tr>\n",
       "  </tbody>\n",
       "</table>\n",
       "</div>"
      ],
      "text/plain": [
       "     type                                 name      loss  dice_coef_loss  \\\n",
       "10   unet            renacimiento_validation_1  0.032621        0.032179   \n",
       "2    unet       _albumentation_validation_2.h5  0.034487        0.034487   \n",
       "7   uloss  albumentation_rotate_3_validation_2  0.129951        0.034909   \n",
       "6   uloss  albumentation_rotate_3_validation_1  0.128454        0.035279   \n",
       "5    unet  albumentation_rotate_3_validation_2  0.035893        0.035434   \n",
       "3   uloss       _albumentation_validation_2.h5  0.149065        0.036346   \n",
       "4    unet  albumentation_rotate_3_validation_1  0.037508        0.036994   \n",
       "0    unet       _albumentation_validation_1.h5  0.037296        0.037296   \n",
       "9   uloss    validation_rotate_normalization_1  0.134512        0.037305   \n",
       "8    unet    validation_rotate_normalization_1  0.038100        0.037542   \n",
       "1   uloss       _albumentation_validation_1.h5  0.141863        0.038948   \n",
       "11   unet           nuevos_validation_mejora_3  0.040236        0.039544   \n",
       "12  uloss            retry_validation_rotate_1  0.739505        0.266710   \n",
       "13  uloss             retry_validation_gamma_1  0.872688        0.369991   \n",
       "\n",
       "    loss_mask  accuracy       AUC  false_positives  false_negatives  \n",
       "10   0.092485  0.973949  0.974434          88665.0          80353.0  \n",
       "2    0.095812  0.973940  0.974166           7962.0           5701.0  \n",
       "7    0.094568  0.971946  0.973499          87304.0          94711.0  \n",
       "6    0.092766  0.971818  0.972174          78499.0         104346.0  \n",
       "5    0.097252  0.971598  0.971085          81626.0         102645.0  \n",
       "3    0.112719  0.972670  0.973263           6937.0           7392.0  \n",
       "4    0.104480  0.970098  0.969842          87088.0         106918.0  \n",
       "0    0.117240  0.971939  0.970628           7386.0           7326.0  \n",
       "9    0.097394  0.970390  0.971013          91815.0         100297.0  \n",
       "8    0.103917  0.969410  0.968877          90885.0         107587.0  \n",
       "1    0.102915  0.970747  0.970617           7504.0           7833.0  \n",
       "11   0.106641  0.967752  0.968213         111092.0          98133.0  \n",
       "12   0.470180  0.790600  0.777661         610659.0         747940.0  \n",
       "13   0.502911  0.754727  0.716058         356972.0        1234373.0  "
      ]
     },
     "execution_count": 301,
     "metadata": {},
     "output_type": "execute_result"
    }
   ],
   "source": [
    "df.sort_values('dice_coef_loss')"
   ]
  },
  {
   "cell_type": "code",
   "execution_count": 302,
   "id": "930906e9-510a-4d77-8d0d-9158315b4498",
   "metadata": {},
   "outputs": [
    {
     "data": {
      "text/plain": [
       "7"
      ]
     },
     "execution_count": 302,
     "metadata": {},
     "output_type": "execute_result"
    }
   ],
   "source": [
    "len(df[df.type == 'uloss'])"
   ]
  },
  {
   "cell_type": "code",
   "execution_count": 303,
   "id": "0bbb2db7-9003-49a5-88f2-f2a22a18e04b",
   "metadata": {},
   "outputs": [
    {
     "data": {
      "text/plain": [
       "True"
      ]
     },
     "execution_count": 303,
     "metadata": {},
     "output_type": "execute_result"
    }
   ],
   "source": [
    "len(df[df.type == 'uloss']) == len(df[df.type == 'unet'])"
   ]
  },
  {
   "cell_type": "code",
   "execution_count": 304,
   "id": "14cd703f-d819-4f21-a69c-2b807511dc70",
   "metadata": {},
   "outputs": [
    {
     "name": "stdout",
     "output_type": "stream",
     "text": [
      "dice_coef_loss\n",
      "unet: 0.03621087223291397\n",
      "uloss: 0.11706961478505816\n",
      "-----\n",
      "loss_mask\n",
      "unet: 0.10254700588328498\n",
      "uloss: 0.21049323678016663\n",
      "-----\n",
      "accuracy\n",
      "unet: 0.9712409717696053\n",
      "uloss: 0.9146997928619385\n",
      "-----\n",
      "AUC\n",
      "unet: 0.9710351484162467\n",
      "uloss: 0.9077550513403756\n",
      "-----\n",
      "false_positives\n",
      "unet: 67814.85714285714\n",
      "uloss: 177098.57142857142\n",
      "-----\n",
      "false_negatives\n",
      "unet: 72666.14285714286\n",
      "uloss: 328127.4285714286\n",
      "-----\n"
     ]
    }
   ],
   "source": [
    "evaluations = list(df.columns[3:9])\n",
    "\n",
    "for ev in evaluations:\n",
    "    print(ev)\n",
    "    print('unet: {}'.format(np.mean(df[ev][df.type == 'unet'])))\n",
    "    print('uloss: {}'.format(np.mean(df[ev][df.type == 'uloss'])))\n",
    "    print('-----')"
   ]
  },
  {
   "cell_type": "code",
   "execution_count": 305,
   "id": "ca84554c-fa78-4efe-a3e8-667486b3ece5",
   "metadata": {},
   "outputs": [],
   "source": [
    "names = ['_albumentation', 'rotate', 'renacimiento']"
   ]
  },
  {
   "cell_type": "code",
   "execution_count": 306,
   "id": "8672da17-0e0f-44bd-81ff-69f2909a0f61",
   "metadata": {},
   "outputs": [],
   "source": [
    "tipos = {}\n",
    "tipos['unet'] = {}\n",
    "tipos['uloss'] = {}\n",
    "for ev in evaluations:\n",
    "    tipos['unet'][ev] = np.mean(df[ev][df.type == 'unet'])\n",
    "    tipos['uloss'][ev] = np.mean(df[ev][df.type == 'uloss'])\n",
    "    for name in names:\n",
    "        index = [i for i in df.index if bool(re.search(name, df['name'][i]))]\n",
    "        try:\n",
    "            tipos[name][ev] = np.mean(df[ev].iloc[index])\n",
    "        except:\n",
    "            tipos[name] = {}\n",
    "            tipos[name][ev] = np.mean(df[ev].iloc[index])"
   ]
  },
  {
   "cell_type": "code",
   "execution_count": 307,
   "id": "2c9ba86e-d6eb-4cdc-8890-63d9026e1f69",
   "metadata": {},
   "outputs": [
    {
     "data": {
      "text/plain": [
       "{'unet': {'dice_coef_loss': 0.03621087223291397,\n",
       "  'loss_mask': 0.10254700588328498,\n",
       "  'accuracy': 0.9712409717696053,\n",
       "  'AUC': 0.9710351484162467,\n",
       "  'false_positives': 67814.85714285714,\n",
       "  'false_negatives': 72666.14285714286},\n",
       " 'uloss': {'dice_coef_loss': 0.11706961478505816,\n",
       "  'loss_mask': 0.21049323678016663,\n",
       "  'accuracy': 0.9146997928619385,\n",
       "  'AUC': 0.9077550513403756,\n",
       "  'false_positives': 177098.57142857142,\n",
       "  'false_negatives': 328127.4285714286},\n",
       " '_albumentation': {'dice_coef_loss': 0.03676915168762207,\n",
       "  'loss_mask': 0.10717159509658813,\n",
       "  'accuracy': 0.9723238945007324,\n",
       "  'AUC': 0.9721685945987701,\n",
       "  'false_positives': 7447.25,\n",
       "  'false_negatives': 7063.0},\n",
       " 'rotate': {'dice_coef_loss': 0.06916744687727519,\n",
       "  'loss_mask': 0.15150830362524306,\n",
       "  'accuracy': 0.9451229657445636,\n",
       "  'AUC': 0.9434502976281303,\n",
       "  'false_positives': 161125.14285714287,\n",
       "  'false_negatives': 194920.57142857142},\n",
       " 'renacimiento': {'dice_coef_loss': 0.03217913955450058,\n",
       "  'loss_mask': 0.09248538315296173,\n",
       "  'accuracy': 0.973949372768402,\n",
       "  'AUC': 0.9744343161582948,\n",
       "  'false_positives': 88665.0,\n",
       "  'false_negatives': 80353.0}}"
      ]
     },
     "execution_count": 307,
     "metadata": {},
     "output_type": "execute_result"
    }
   ],
   "source": [
    "tipos"
   ]
  },
  {
   "cell_type": "code",
   "execution_count": 280,
   "id": "75f66eca-193f-4d3a-bcc1-1f33ec4a9a5b",
   "metadata": {},
   "outputs": [],
   "source": [
    "comparation = {}\n",
    "for k in tipos['unet'].keys():\n",
    "    comparation[k] = []\n",
    "    for j in tipos.keys():\n",
    "        comparation[k].append(tipos[j][k])\n",
    "comparation = pd.DataFrame(comparation)\n",
    "comparation.index = tipos.keys()"
   ]
  },
  {
   "cell_type": "code",
   "execution_count": 281,
   "id": "26e43d22-deb5-4e6c-a666-2cf8e3957355",
   "metadata": {},
   "outputs": [
    {
     "data": {
      "text/html": [
       "<div>\n",
       "<style scoped>\n",
       "    .dataframe tbody tr th:only-of-type {\n",
       "        vertical-align: middle;\n",
       "    }\n",
       "\n",
       "    .dataframe tbody tr th {\n",
       "        vertical-align: top;\n",
       "    }\n",
       "\n",
       "    .dataframe thead th {\n",
       "        text-align: right;\n",
       "    }\n",
       "</style>\n",
       "<table border=\"1\" class=\"dataframe\">\n",
       "  <thead>\n",
       "    <tr style=\"text-align: right;\">\n",
       "      <th></th>\n",
       "      <th>dice_coef_loss</th>\n",
       "      <th>loss_mask</th>\n",
       "      <th>accuracy</th>\n",
       "      <th>AUC</th>\n",
       "      <th>false_positives</th>\n",
       "      <th>false_negatives</th>\n",
       "    </tr>\n",
       "  </thead>\n",
       "  <tbody>\n",
       "    <tr>\n",
       "      <th>renacimiento</th>\n",
       "      <td>0.032179</td>\n",
       "      <td>0.092485</td>\n",
       "      <td>0.973949</td>\n",
       "      <td>0.974434</td>\n",
       "      <td>88665.000000</td>\n",
       "      <td>80353.000000</td>\n",
       "    </tr>\n",
       "    <tr>\n",
       "      <th>unet</th>\n",
       "      <td>0.036211</td>\n",
       "      <td>0.102547</td>\n",
       "      <td>0.971241</td>\n",
       "      <td>0.971035</td>\n",
       "      <td>67814.857143</td>\n",
       "      <td>72666.142857</td>\n",
       "    </tr>\n",
       "    <tr>\n",
       "      <th>_albumentation</th>\n",
       "      <td>0.036769</td>\n",
       "      <td>0.107172</td>\n",
       "      <td>0.972324</td>\n",
       "      <td>0.972169</td>\n",
       "      <td>7447.250000</td>\n",
       "      <td>7063.000000</td>\n",
       "    </tr>\n",
       "    <tr>\n",
       "      <th>rotate</th>\n",
       "      <td>0.069167</td>\n",
       "      <td>0.151508</td>\n",
       "      <td>0.945123</td>\n",
       "      <td>0.943450</td>\n",
       "      <td>161125.142857</td>\n",
       "      <td>194920.571429</td>\n",
       "    </tr>\n",
       "    <tr>\n",
       "      <th>uloss</th>\n",
       "      <td>0.074916</td>\n",
       "      <td>0.161757</td>\n",
       "      <td>0.941362</td>\n",
       "      <td>0.939705</td>\n",
       "      <td>147119.666667</td>\n",
       "      <td>177086.500000</td>\n",
       "    </tr>\n",
       "  </tbody>\n",
       "</table>\n",
       "</div>"
      ],
      "text/plain": [
       "                dice_coef_loss  loss_mask  accuracy       AUC  \\\n",
       "renacimiento          0.032179   0.092485  0.973949  0.974434   \n",
       "unet                  0.036211   0.102547  0.971241  0.971035   \n",
       "_albumentation        0.036769   0.107172  0.972324  0.972169   \n",
       "rotate                0.069167   0.151508  0.945123  0.943450   \n",
       "uloss                 0.074916   0.161757  0.941362  0.939705   \n",
       "\n",
       "                false_positives  false_negatives  \n",
       "renacimiento       88665.000000     80353.000000  \n",
       "unet               67814.857143     72666.142857  \n",
       "_albumentation      7447.250000      7063.000000  \n",
       "rotate            161125.142857    194920.571429  \n",
       "uloss             147119.666667    177086.500000  "
      ]
     },
     "execution_count": 281,
     "metadata": {},
     "output_type": "execute_result"
    }
   ],
   "source": [
    "comparation.sort_values('dice_coef_loss')"
   ]
  },
  {
   "cell_type": "code",
   "execution_count": 282,
   "id": "b6bee263-ae82-4be8-8f3f-d297acfa5a70",
   "metadata": {},
   "outputs": [],
   "source": [
    "index = [i for i in df.index if any([bool(re.search(name, df['name'][i])) for name in ['old', 'clahe', 'gamma']])]"
   ]
  },
  {
   "cell_type": "code",
   "execution_count": 283,
   "id": "bf341dbb-e953-4120-b900-8491c0faa9ba",
   "metadata": {},
   "outputs": [],
   "source": [
    "df = df.drop(index).reset_index()"
   ]
  },
  {
   "cell_type": "code",
   "execution_count": 284,
   "id": "1d1667d3-b048-41f2-8e82-2a0428d7f5d1",
   "metadata": {},
   "outputs": [],
   "source": [
    "tipos = {}\n",
    "for tipo in ['unet', 'uloss']:\n",
    "    for ev in evaluations:\n",
    "        for name in names:\n",
    "            index = [i for i in df.index if bool(re.search(name, df['name'][i]))]\n",
    "            try:\n",
    "                tipos[tipo + '_' + name][ev] = np.mean(df[ev].iloc[index][df['type']==tipo])\n",
    "            except:\n",
    "                tipos[tipo + '_' + name] = {}\n",
    "                tipos[tipo + '_' + name][ev] = np.mean(df[ev].iloc[index][df['type']==tipo])"
   ]
  },
  {
   "cell_type": "code",
   "execution_count": 285,
   "id": "888ceba6-ebca-4edd-ac4a-7435ae65992d",
   "metadata": {},
   "outputs": [
    {
     "data": {
      "text/plain": [
       "{'unet__albumentation': {'dice_coef_loss': 0.03589135408401489,\n",
       "  'loss_mask': 0.10652638971805573,\n",
       "  'accuracy': 0.9729394912719727,\n",
       "  'AUC': 0.972397118806839,\n",
       "  'false_positives': 7674.0,\n",
       "  'false_negatives': 6513.5},\n",
       " 'unet_rotate': {'dice_coef_loss': 0.03665660570065181,\n",
       "  'loss_mask': 0.10188330709934235,\n",
       "  'accuracy': 0.9703687032063802,\n",
       "  'AUC': 0.969934900601705,\n",
       "  'false_positives': 86533.0,\n",
       "  'false_negatives': 105716.66666666667},\n",
       " 'unet_renacimiento': {'dice_coef_loss': 0.03217913955450058,\n",
       "  'loss_mask': 0.09248538315296173,\n",
       "  'accuracy': 0.973949372768402,\n",
       "  'AUC': 0.9744343161582948,\n",
       "  'false_positives': 88665.0,\n",
       "  'false_negatives': 80353.0},\n",
       " 'uloss__albumentation': {'dice_coef_loss': 0.03764694929122925,\n",
       "  'loss_mask': 0.10781680047512054,\n",
       "  'accuracy': 0.9717082977294922,\n",
       "  'AUC': 0.9719400703907014,\n",
       "  'false_positives': 7220.5,\n",
       "  'false_negatives': 7612.5},\n",
       " 'uloss_rotate': {'dice_coef_loss': 0.09355057775974274,\n",
       "  'loss_mask': 0.18872705101966858,\n",
       "  'accuracy': 0.926188662648201,\n",
       "  'AUC': 0.9235868453979492,\n",
       "  'false_positives': 217069.25,\n",
       "  'false_negatives': 261823.5},\n",
       " 'uloss_renacimiento': {'dice_coef_loss': nan,\n",
       "  'loss_mask': nan,\n",
       "  'accuracy': nan,\n",
       "  'AUC': nan,\n",
       "  'false_positives': nan,\n",
       "  'false_negatives': nan}}"
      ]
     },
     "execution_count": 285,
     "metadata": {},
     "output_type": "execute_result"
    }
   ],
   "source": [
    "tipos"
   ]
  },
  {
   "cell_type": "code",
   "execution_count": 287,
   "id": "abaebb1d-144f-4dff-98f6-7d9e6391fdf0",
   "metadata": {},
   "outputs": [],
   "source": [
    "comparation = {}\n",
    "for k in tipos['uloss_renacimiento'].keys():\n",
    "    comparation[k] = []\n",
    "    for j in tipos.keys():\n",
    "        comparation[k].append(tipos[j][k])\n",
    "comparation = pd.DataFrame(comparation)\n",
    "comparation.index = tipos.keys()"
   ]
  },
  {
   "cell_type": "code",
   "execution_count": 288,
   "id": "6d4d1599-acfa-454b-be37-82d2a1b3e0e5",
   "metadata": {},
   "outputs": [
    {
     "data": {
      "text/html": [
       "<div>\n",
       "<style scoped>\n",
       "    .dataframe tbody tr th:only-of-type {\n",
       "        vertical-align: middle;\n",
       "    }\n",
       "\n",
       "    .dataframe tbody tr th {\n",
       "        vertical-align: top;\n",
       "    }\n",
       "\n",
       "    .dataframe thead th {\n",
       "        text-align: right;\n",
       "    }\n",
       "</style>\n",
       "<table border=\"1\" class=\"dataframe\">\n",
       "  <thead>\n",
       "    <tr style=\"text-align: right;\">\n",
       "      <th></th>\n",
       "      <th>dice_coef_loss</th>\n",
       "      <th>loss_mask</th>\n",
       "      <th>accuracy</th>\n",
       "      <th>AUC</th>\n",
       "      <th>false_positives</th>\n",
       "      <th>false_negatives</th>\n",
       "    </tr>\n",
       "  </thead>\n",
       "  <tbody>\n",
       "    <tr>\n",
       "      <th>unet_renacimiento</th>\n",
       "      <td>0.032179</td>\n",
       "      <td>0.092485</td>\n",
       "      <td>0.973949</td>\n",
       "      <td>0.974434</td>\n",
       "      <td>88665.00</td>\n",
       "      <td>80353.000000</td>\n",
       "    </tr>\n",
       "    <tr>\n",
       "      <th>unet__albumentation</th>\n",
       "      <td>0.035891</td>\n",
       "      <td>0.106526</td>\n",
       "      <td>0.972939</td>\n",
       "      <td>0.972397</td>\n",
       "      <td>7674.00</td>\n",
       "      <td>6513.500000</td>\n",
       "    </tr>\n",
       "    <tr>\n",
       "      <th>unet_rotate</th>\n",
       "      <td>0.036657</td>\n",
       "      <td>0.101883</td>\n",
       "      <td>0.970369</td>\n",
       "      <td>0.969935</td>\n",
       "      <td>86533.00</td>\n",
       "      <td>105716.666667</td>\n",
       "    </tr>\n",
       "    <tr>\n",
       "      <th>uloss__albumentation</th>\n",
       "      <td>0.037647</td>\n",
       "      <td>0.107817</td>\n",
       "      <td>0.971708</td>\n",
       "      <td>0.971940</td>\n",
       "      <td>7220.50</td>\n",
       "      <td>7612.500000</td>\n",
       "    </tr>\n",
       "    <tr>\n",
       "      <th>uloss_rotate</th>\n",
       "      <td>0.093551</td>\n",
       "      <td>0.188727</td>\n",
       "      <td>0.926189</td>\n",
       "      <td>0.923587</td>\n",
       "      <td>217069.25</td>\n",
       "      <td>261823.500000</td>\n",
       "    </tr>\n",
       "    <tr>\n",
       "      <th>uloss_renacimiento</th>\n",
       "      <td>NaN</td>\n",
       "      <td>NaN</td>\n",
       "      <td>NaN</td>\n",
       "      <td>NaN</td>\n",
       "      <td>NaN</td>\n",
       "      <td>NaN</td>\n",
       "    </tr>\n",
       "  </tbody>\n",
       "</table>\n",
       "</div>"
      ],
      "text/plain": [
       "                      dice_coef_loss  loss_mask  accuracy       AUC  \\\n",
       "unet_renacimiento           0.032179   0.092485  0.973949  0.974434   \n",
       "unet__albumentation         0.035891   0.106526  0.972939  0.972397   \n",
       "unet_rotate                 0.036657   0.101883  0.970369  0.969935   \n",
       "uloss__albumentation        0.037647   0.107817  0.971708  0.971940   \n",
       "uloss_rotate                0.093551   0.188727  0.926189  0.923587   \n",
       "uloss_renacimiento               NaN        NaN       NaN       NaN   \n",
       "\n",
       "                      false_positives  false_negatives  \n",
       "unet_renacimiento            88665.00     80353.000000  \n",
       "unet__albumentation           7674.00      6513.500000  \n",
       "unet_rotate                  86533.00    105716.666667  \n",
       "uloss__albumentation          7220.50      7612.500000  \n",
       "uloss_rotate                217069.25    261823.500000  \n",
       "uloss_renacimiento                NaN              NaN  "
      ]
     },
     "execution_count": 288,
     "metadata": {},
     "output_type": "execute_result"
    }
   ],
   "source": [
    "comparation.sort_values('dice_coef_loss')"
   ]
  },
  {
   "cell_type": "code",
   "execution_count": 289,
   "id": "3673c208-7f34-4961-bbb0-235759d863b0",
   "metadata": {},
   "outputs": [],
   "source": [
    "import seaborn as sns\n",
    "import matplotlib.pyplot as plt"
   ]
  },
  {
   "cell_type": "code",
   "execution_count": 290,
   "id": "497ffb99-96ff-417f-bfbb-68fb183ff45e",
   "metadata": {},
   "outputs": [
    {
     "data": {
      "image/png": "[encoded data removed]",
      "text/plain": [
       "<Figure size 720x720 with 6 Axes>"
      ]
     },
     "metadata": {
      "needs_background": "light"
     },
     "output_type": "display_data"
    }
   ],
   "source": [
    "unet = df[['name'] + evaluations][df.type == 'unet'].reset_index()\n",
    "uloss = df[['name'] + evaluations][df.type == 'uloss'].reset_index()\n",
    "\n",
    "fig, ax = plt.subplots(3, 2)\n",
    "fig.set_size_inches(10,10)\n",
    "\n",
    "for i, ev in enumerate(evaluations):\n",
    "    if i%2 == 0:\n",
    "        y = 0\n",
    "    else:\n",
    "        y = 1\n",
    "    x = int(i/2)\n",
    "    ax[x,y].boxplot([unet[ev], uloss[ev]], labels = ['unet', 'uloss'])\n",
    "    q1, q3 = np.percentile(df[ev], [20, 80])\n",
    "    r = q1-q3\n",
    "    ax[x,y].set_ylim(q1-1.1*r, q3+1.1*r)\n",
    "    ax[x,y].set_title(ev)"
   ]
  },
  {
   "cell_type": "code",
   "execution_count": 291,
   "id": "5e5f354a-9250-43c6-bf7b-7d2c7cfa6e0f",
   "metadata": {},
   "outputs": [],
   "source": [
    "# data = {}\n",
    "# for tipo in ['unet', 'uloss']:\n",
    "#     data[tipo] = {}\n",
    "#     for name in names:\n",
    "#         d = df[df.type == 'unet'].reset_index()\n",
    "#         index = [i for i in d.index if bool(re.search(name, d['name'][i]))]\n",
    "#         data[tipo][name] = d.iloc[index]"
   ]
  },
  {
   "cell_type": "code",
   "execution_count": 292,
   "id": "2934e5f3-bd99-45a9-bd4b-fbed32c9f668",
   "metadata": {},
   "outputs": [],
   "source": [
    "data = {}\n",
    "for name in names:\n",
    "    index = [i for i in df.index if bool(re.search(name, df['name'][i]))]\n",
    "    data[name] = df.iloc[index]"
   ]
  },
  {
   "cell_type": "code",
   "execution_count": 293,
   "id": "bea753ec-38b0-45b4-8b1f-e2faf0b0ab2c",
   "metadata": {},
   "outputs": [
    {
     "data": {
      "text/plain": [
       "{'_albumentation':    level_0  index   type                            name      loss  \\\n",
       " 0        0      0   unet  _albumentation_validation_1.h5  0.037296   \n",
       " 1        1      1  uloss  _albumentation_validation_1.h5  0.141863   \n",
       " 2        2      2   unet  _albumentation_validation_2.h5  0.034487   \n",
       " 3        3      3  uloss  _albumentation_validation_2.h5  0.149065   \n",
       " \n",
       "    dice_coef_loss  loss_mask  accuracy       AUC  false_positives  \\\n",
       " 0        0.037296   0.117240  0.971939  0.970628           7386.0   \n",
       " 1        0.038948   0.102915  0.970747  0.970617           7504.0   \n",
       " 2        0.034487   0.095812  0.973940  0.974166           7962.0   \n",
       " 3        0.036346   0.112719  0.972670  0.973263           6937.0   \n",
       " \n",
       "    false_negatives  \n",
       " 0           7326.0  \n",
       " 1           7833.0  \n",
       " 2           5701.0  \n",
       " 3           7392.0  ,\n",
       " 'rotate':     level_0  index   type                                 name      loss  \\\n",
       " 4         4      4   unet  albumentation_rotate_3_validation_1  0.037508   \n",
       " 5         5      5   unet  albumentation_rotate_3_validation_2  0.035893   \n",
       " 6         6      6  uloss  albumentation_rotate_3_validation_1  0.128454   \n",
       " 7         7      7  uloss  albumentation_rotate_3_validation_2  0.129951   \n",
       " 8         8      8   unet    validation_rotate_normalization_1  0.038100   \n",
       " 9         9      9  uloss    validation_rotate_normalization_1  0.134512   \n",
       " 12       12     12  uloss            retry_validation_rotate_1  0.739505   \n",
       " \n",
       "     dice_coef_loss  loss_mask  accuracy       AUC  false_positives  \\\n",
       " 4         0.036994   0.104480  0.970098  0.969842          87088.0   \n",
       " 5         0.035434   0.097252  0.971598  0.971085          81626.0   \n",
       " 6         0.035279   0.092766  0.971818  0.972174          78499.0   \n",
       " 7         0.034909   0.094568  0.971946  0.973499          87304.0   \n",
       " 8         0.037542   0.103917  0.969410  0.968877          90885.0   \n",
       " 9         0.037305   0.097394  0.970390  0.971013          91815.0   \n",
       " 12        0.266710   0.470180  0.790600  0.777661         610659.0   \n",
       " \n",
       "     false_negatives  \n",
       " 4          106918.0  \n",
       " 5          102645.0  \n",
       " 6          104346.0  \n",
       " 7           94711.0  \n",
       " 8          107587.0  \n",
       " 9          100297.0  \n",
       " 12         747940.0  ,\n",
       " 'renacimiento':     level_0  index  type                       name      loss  dice_coef_loss  \\\n",
       " 10       10     10  unet  renacimiento_validation_1  0.032621        0.032179   \n",
       " \n",
       "     loss_mask  accuracy       AUC  false_positives  false_negatives  \n",
       " 10   0.092485  0.973949  0.974434          88665.0          80353.0  }"
      ]
     },
     "execution_count": 293,
     "metadata": {},
     "output_type": "execute_result"
    }
   ],
   "source": [
    "data"
   ]
  },
  {
   "cell_type": "code",
   "execution_count": 298,
   "id": "0ea2377b-9c49-4654-9bb6-ccd4b829cbd5",
   "metadata": {},
   "outputs": [
    {
     "data": {
      "text/plain": [
       "3"
      ]
     },
     "execution_count": 298,
     "metadata": {},
     "output_type": "execute_result"
    }
   ],
   "source": [
    "len(datos_unet)"
   ]
  },
  {
   "cell_type": "code",
   "execution_count": 299,
   "id": "3dc713e7-542c-43e8-b7e5-896b54dd04fa",
   "metadata": {},
   "outputs": [
    {
     "data": {
      "image/png": "[encoded data removed]",
      "text/plain": [
       "<Figure size 1440x2160 with 6 Axes>"
      ]
     },
     "metadata": {
      "needs_background": "light"
     },
     "output_type": "display_data"
    }
   ],
   "source": [
    "fig, ax = plt.subplots(3, 2)\n",
    "fig.set_size_inches(20,30)\n",
    "\n",
    "for i, ev in enumerate(evaluations):\n",
    "    if i%2 == 0:\n",
    "        y = 0\n",
    "    else:\n",
    "        y = 1\n",
    "    x = int(i/2)\n",
    "    datos_unet = [data[name][ev][data[name].type == 'unet'] for name in names]\n",
    "    datos_uloss = [data[name][ev][data[name].type == 'uloss'] for name in names]\n",
    "    labels = [name + '_unet' for name in names]\n",
    "    ax[x,y].boxplot(datos_unet, positions = [1,3,5], patch_artist=True)\n",
    "    labels = [name + '_uloss' for name in names]\n",
    "    ax[x,y].boxplot(datos_uloss, positions = [2,4,6])\n",
    "    q1, q3 = np.percentile(df[ev], [25, 75])\n",
    "    r = q1-q3\n",
    "    ax[x,y].set_xticklabels(names*2, rotation=90)\n",
    "    ax[x,y].set_ylim(q1-3*r, q3+3*r)\n",
    "    ax[x,y].set_title(ev)"
   ]
  },
  {
   "cell_type": "code",
   "execution_count": null,
   "id": "324f6630-f0ce-4370-95b2-5a802d99f19d",
   "metadata": {},
   "outputs": [],
   "source": []
  }
 ],
 "metadata": {
  "kernelspec": {
   "display_name": "Python 3",
   "language": "python",
   "name": "python3"
  },
  "language_info": {
   "codemirror_mode": {
    "name": "ipython",
    "version": 3
   },
   "file_extension": ".py",
   "mimetype": "text/x-python",
   "name": "python",
   "nbconvert_exporter": "python",
   "pygments_lexer": "ipython3",
   "version": "3.6.8"
  }
 },
 "nbformat": 4,
 "nbformat_minor": 5
}
