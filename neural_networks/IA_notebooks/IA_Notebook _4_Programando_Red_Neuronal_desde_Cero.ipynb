{
 "cells": [
  {
   "cell_type": "markdown",
   "metadata": {},
   "source": [
    "# REDES NEURONALES"
   ]
  },
  {
   "cell_type": "markdown",
   "metadata": {},
   "source": [
    "## Neurona"
   ]
  },
  {
   "cell_type": "markdown",
   "metadata": {},
   "source": [
    "Una neurona está compuesta por unos parámetros de entrada (X), que provienen de la capa anterior, unos pesos relativos a cada parámetro (W) y un parámetro de bias (b).\n",
    "\n",
    "La formula que se desarrolla en la neurona es:\n",
    "\n",
    "$$ z = w_1x_1 + w_2x_2 + w_3x_3 + ... + b$$\n",
    "\n",
    "Esto si se transforma en matrices sería:\n",
    "$$\\begin{bmatrix}\n",
    "w_1\\\\\n",
    "w_2 \\\\\n",
    "w_3\n",
    "\\end{bmatrix}\n",
    "\\begin{bmatrix}\n",
    "x_1\\\\\n",
    "x_2 \\\\\n",
    "x_3\n",
    "\\end{bmatrix}\n",
    "$$\n",
    "\n",
    "$$z = WX + b$$\n",
    "\n",
    "Los resultados de la neurona (y), para que no sean lineales, se pasan por una función de activación a.\n",
    "\n",
    "$$z = a(WX + b)$$"
   ]
  },
  {
   "cell_type": "markdown",
   "metadata": {},
   "source": [
    "## Regresión lineal"
   ]
  },
  {
   "cell_type": "markdown",
   "metadata": {},
   "source": [
    "$$ y = wx + b$$\n",
    "$$ Y = WX + b$$\n",
    "\n",
    "Lo que hay que \"adivinar\" es el valor de W y de b. \n",
    "\n",
    "Para calcular estos parámetros lo que se hace es intentar minimizar el error (la diferencia entre los valores predichos y los valores reales). Para cuantificar el error se utiliza la **funcion de coste (C)**. \n",
    "\n",
    "La funcion de coste en el caso de la regresión lineal es el ***error cuadrático medio***.\n",
    "$$C = \\frac{1}{n}\\sum_{i=1}^{n} (y_{real_i} - y_{predicho_i})²$$\n",
    "\n",
    "$$ C = (Y-XW)^T(Y-XW)$$\n",
    "\n",
    "La función de coste lo que hace es relacionar el error (diferencia entre valores predichos y reales) con los parámetros que queremos ajustar (en este caso W)\n",
    "\n",
    "Para calcular los parámetros lo que tenemos que hacer es encontrar el mínimo de la función de coste (este será el punto donde el error es mínimo) y nos dará el valor de W y de b. Para calcular el mínimo se deriva la función y se iguala a cero.\n",
    "\n",
    "$$\\frac{dC}{dW} = -2X^TY + 2X^TW$$\n",
    "\n",
    "$$-2X^TY + 2X^TW = 0$$ \n",
    "$$W = (X^TX)^{-1}X^TY$$\n",
    "\n",
    "Con el error cuadrático medio no tenemos problemas ya que la función es una parábola, y su único punto de pendiente 0 es su minimo. Sin embargo, en otras funciones la pendiente puede ser 0 en un máximo o en un punto de inflexión."
   ]
  },
  {
   "cell_type": "markdown",
   "metadata": {},
   "source": [
    "El problema es que la mayoria de funciones no son asi, por lo que hay que buscar otro método, ya que calcular todos los puntos de pendiente 0 sería muy costoso y ademas no nos daría solo los minimos sino minimos, maximos y puntos de inflexión. \n",
    "\n",
    "Es por eso que existe el **descenso del gradiente**"
   ]
  },
  {
   "cell_type": "markdown",
   "metadata": {},
   "source": [
    "## Descenso del gradiente"
   ]
  },
  {
   "cell_type": "markdown",
   "metadata": {},
   "source": [
    "Se calcula la derivada de la función de coste en un punto y esto nos da la pendiente de la función en ese punto. Al tener la pendiente en ese punto podemos saber en que sentido tenemos que modificar ese punto para descender en la función.\n",
    "\n",
    "El descenso a lo largo de la función dependerá del **learning rate** y de la pendiente. El learning rate lo fijamos nosotros, y determina cuanto queremos avanzar por cada \"punto\" de pendiente. Cuanta más pendiente tengamos más vamos a descender, ya que estaremos más lejos del mínimo. \n",
    "\n",
    "- Si el *learning rate* es muy pequeño vamos a avanzar muy despacio, y además tenemos riesgo de quedarnos en un mínimo local.\n",
    "- Si el *learning rate* es muy alto vamos a avanzar muy rapido, y es posible que no lleguemos a alcanzar ningún minimo porque avancemos tanto cada vez que siempre nos pasemos los valles.\n",
    "\n",
    "El punto en el que vamos a calcular la derivada (la pendiente) es el punto en el que \"nos encontramos\", que nos lo dirá el valor del parámetro que queremos ajustar. Estamos en una función que relaciona el parámetro a ajustar con el error, vamos a calcular la pendiente en el punto en el que nos encontramos, para saber hacia donde tenemos que modificar el parámetro para disminuir el error."
   ]
  },
  {
   "cell_type": "markdown",
   "metadata": {},
   "source": [
    "## Backpropagation"
   ]
  },
  {
   "cell_type": "markdown",
   "metadata": {},
   "source": [
    "Para poder calcular la derivada en un punto debemos saber cual es ese punto, y para eso tenemos que saber el error en cada neurona. Para saber el error en cada neurona repartimos el error final hacia atras en función del peso de cada una de las neuronas.\n",
    "\n",
    "El error de cada neurona sería $C(a(z))$. Donde z es la suma ponderada de los parámetros de la neurona, a la función de activación y C la función de coste.\n",
    "\n",
    "1. Partiendo del **error final**:\n",
    "    - a: funcion de activación\n",
    "    - z: resultado de la suma ponderada dentro de la neurona\n",
    "$$\\delta^L =  \\frac{\\partial C}{\\partial a^L} \\frac{\\partial a^L}{\\partial z^L}$$\n",
    "\n",
    "2. Podemos calcular el **error en las capas previas**:\n",
    "    - W: es la matriz de pesos de la capa siguiente\n",
    "\n",
    "$$\\delta^{L-1} =  \\delta^L W^L \\frac{\\partial a^{L-1}}{\\partial z^{L-1}}$$\n",
    "    \n",
    "3. Una vez que tenemos calculados los errores de cada capa calcular la **derivada de la función de coste** es muy sencillo:\n",
    "\n",
    "- ***Para b***\n",
    "\n",
    "$$\\frac{\\partial C}{\\partial b^{L-1}} = \\delta^{L-1}$$\n",
    "\n",
    "- ***Para W***\n",
    "\n",
    "$$\\frac{\\partial C}{\\partial w^{L-1}} = \\delta^{L-1} a^{L-2}$$\n",
    "\n",
    "Aplicando estas fórmulas tendremos la pendiente en cada uno de los puntos, y con ello podremos saber hacia donde modificar los parámetros para minimizar el error"
   ]
  },
  {
   "cell_type": "markdown",
   "metadata": {},
   "source": [
    "## Capas de la red"
   ]
  },
  {
   "cell_type": "markdown",
   "metadata": {},
   "source": [
    "Podemos entender cada una de las capas de la red como un todo.\n",
    "\n",
    "- **Inputs a cada neurona** (outputs de la capa previa)\n",
    "$$\n",
    "\\begin{bmatrix}\n",
    "x_1 & x_2 & x_3\\\\\n",
    "\\end{bmatrix}\n",
    "$$\n",
    "\n",
    "*En este caso serían tres inputs a cada neurona de esta capa*\n",
    "\n",
    "- **Pesos para cada input**\n",
    "$$\n",
    "\\begin{bmatrix}\n",
    "w_{1,1} & w_{1,2} & w_{1,3}\\\\\n",
    "w_{2,1} & w_{2,2} & w_{2,3}\\\\\n",
    "w_{3,1} & w_{3,2} & w_{3,3}\n",
    "\\end{bmatrix}\n",
    "$$\n",
    "\n",
    "*En este caso serían tres neuronas con un peso para cada input*\n",
    "\n",
    "- **Parámetro de bias**\n",
    "$$\n",
    "\\begin{bmatrix}\n",
    "b_{1}\\\\\n",
    "b_{2}\\\\\n",
    "b_{3}\n",
    "\\end{bmatrix}\n",
    "$$\n",
    "\n",
    "Si generamos una fórmula para cada capa quedaría\n",
    "\n",
    "$$\n",
    "\\begin{bmatrix}\n",
    "x_1 & x_2 & x_3\\\\\n",
    "x_1 & x_2 & x_3\\\\\n",
    "x_1 & x_2 & x_3\n",
    "\\end{bmatrix}\n",
    "\\begin{bmatrix}\n",
    "w_{1,1} & w_{1,2} & w_{1,3}\\\\\n",
    "w_{2,1} & w_{2,2} & w_{2,3}\\\\\n",
    "w_{3,1} & w_{3,2} & w_{3,3}\n",
    "\\end{bmatrix}\n",
    "\\begin{bmatrix}\n",
    "b_{1}\\\\\n",
    "b_{2}\\\\\n",
    "b_{3}\n",
    "\\end{bmatrix}= \n",
    "\\begin{bmatrix}\n",
    "z_{1}\\\\\n",
    "z_{2}\\\\\n",
    "z_{3}\n",
    "\\end{bmatrix}\n",
    "$$\n",
    "\n",
    "Luego habría que pasar los resultados por la **función de activación** de cada neurona"
   ]
  },
  {
   "cell_type": "markdown",
   "metadata": {},
   "source": [
    "# Programacion de la red neuronal"
   ]
  },
  {
   "cell_type": "markdown",
   "metadata": {
    "id": "nAVMTVrRuaqf"
   },
   "source": [
    "Este es un notebook conducido originalmente por Carlos Santana Vega, re-escrito y comentado por Luis Arturo Cruz Cruz. Puedes consultar la fuente original en: https://www.youtube.com/watch?v=W8AeOXa_FqU"
   ]
  },
  {
   "cell_type": "markdown",
   "metadata": {
    "id": "2dqFjSUKuaqk"
   },
   "source": [
    "El objetivo de este ejercicio es clasificar un una clase , un dataset de puntos distribuidos de forma circular de otro dataset de puntos. Este problema de clasificación solo puede ser resuelto con una curva cerrada."
   ]
  },
  {
   "cell_type": "code",
   "execution_count": 31,
   "metadata": {
    "executionInfo": {
     "elapsed": 908,
     "status": "ok",
     "timestamp": 1614301542770,
     "user": {
      "displayName": "Luis Cruz",
      "photoUrl": "https://lh3.googleusercontent.com/a-/AOh14GjAdeJfpdmWlDnaYzYy_nbUNs-8KmTX4RuBuPQbP_4=s64",
      "userId": "01516691432947049938"
     },
     "user_tz": 360
    },
    "id": "SFE6QWLFuaqp"
   },
   "outputs": [],
   "source": [
    "import numpy as np\n",
    "import scipy as sc\n",
    "import matplotlib.pyplot as plt\n",
    "\n",
    "from sklearn.datasets import make_circles"
   ]
  },
  {
   "cell_type": "code",
   "execution_count": 32,
   "metadata": {
    "executionInfo": {
     "elapsed": 1225,
     "status": "ok",
     "timestamp": 1614301543140,
     "user": {
      "displayName": "Luis Cruz",
      "photoUrl": "https://lh3.googleusercontent.com/a-/AOh14GjAdeJfpdmWlDnaYzYy_nbUNs-8KmTX4RuBuPQbP_4=s64",
      "userId": "01516691432947049938"
     },
     "user_tz": 360
    },
    "id": "RGOIrd0guaq2"
   },
   "outputs": [],
   "source": [
    "# Inicializar las variables n y p.\n",
    "# Donde n es el tamaño dl dataset y p es el número de atributos que contiene un punto. \n",
    "n = 500\n",
    "p = 2"
   ]
  },
  {
   "cell_type": "markdown",
   "metadata": {
    "id": "MtYv0sAirbaA"
   },
   "source": [
    "## 1. Definimos el dataset que queremos clasificar."
   ]
  },
  {
   "cell_type": "markdown",
   "metadata": {
    "id": "-_cyttlCiB4k"
   },
   "source": [
    "A continuación, vamos a inicializar el dataset de puntos que vamos a clasificar. La variable X son las tuplas que contienen las coordenadas en el plano de cada punto, la variable Y es un vector que define a que clase (dos clases, 0 o 1) pertenece cada punto.**bold text**"
   ]
  },
  {
   "cell_type": "code",
   "execution_count": 3,
   "metadata": {
    "colab": {
     "base_uri": "https://localhost:8080/",
     "height": 282
    },
    "executionInfo": {
     "elapsed": 1224,
     "status": "ok",
     "timestamp": 1614301543167,
     "user": {
      "displayName": "Luis Cruz",
      "photoUrl": "https://lh3.googleusercontent.com/a-/AOh14GjAdeJfpdmWlDnaYzYy_nbUNs-8KmTX4RuBuPQbP_4=s64",
      "userId": "01516691432947049938"
     },
     "user_tz": 360
    },
    "id": "mj81KRsDuaq8",
    "outputId": "db2022f1-d906-4d99-f7f0-b99d7d4a338f"
   },
   "outputs": [
    {
     "name": "stdout",
     "output_type": "stream",
     "text": [
      "(500, 1)\n"
     ]
    },
    {
     "data": {
      "image/png": "[encoded data removed]",
      "text/plain": [
       "<Figure size 432x288 with 1 Axes>"
      ]
     },
     "metadata": {
      "needs_background": "light"
     },
     "output_type": "display_data"
    }
   ],
   "source": [
    "# El parámetro factor separa las dispersiones de puntos.\n",
    "# El parámetro noise es el indice de disperción de los puntos en el plano.\n",
    "X, Y = make_circles(n_samples=n, factor=0.5, noise = 0.1)\n",
    "\n",
    "# Hay que añadirle una columna, sino solo es una lista\n",
    "Y = Y[:, np.newaxis]\n",
    "print(Y.shape)\n",
    "\n",
    "plt.scatter(X[:, 0],X[:, 1] ) \n",
    "plt.show()"
   ]
  },
  {
   "cell_type": "markdown",
   "metadata": {
    "id": "Wn4eaT38uarW"
   },
   "source": [
    "A continuación, vamos a visualizar los puntos, representando las clases en dos colores (0 para la clase \"blue\", 1 para la clase \"red\")"
   ]
  },
  {
   "cell_type": "code",
   "execution_count": 4,
   "metadata": {
    "colab": {
     "base_uri": "https://localhost:8080/",
     "height": 265
    },
    "executionInfo": {
     "elapsed": 1646,
     "status": "ok",
     "timestamp": 1614301543627,
     "user": {
      "displayName": "Luis Cruz",
      "photoUrl": "https://lh3.googleusercontent.com/a-/AOh14GjAdeJfpdmWlDnaYzYy_nbUNs-8KmTX4RuBuPQbP_4=s64",
      "userId": "01516691432947049938"
     },
     "user_tz": 360
    },
    "id": "F3SbtmY6uarY",
    "outputId": "4dd86b3f-04d8-4790-cb6c-6021a2e61189",
    "scrolled": true
   },
   "outputs": [
    {
     "data": {
      "image/png": "[encoded data removed]",
      "text/plain": [
       "<Figure size 432x288 with 1 Axes>"
      ]
     },
     "metadata": {
      "needs_background": "light"
     },
     "output_type": "display_data"
    }
   ],
   "source": [
    "plt.scatter(X[Y[:, 0] == 0, 0],X[Y[:, 0] == 0, 1], c=\"blue\" )\n",
    "plt.scatter(X[Y[:, 0] == 1, 0],X[Y[:, 0] == 1, 1], c=\"red\" )\n",
    "plt.axis(\"equal\")\n",
    "plt.show()"
   ]
  },
  {
   "cell_type": "markdown",
   "metadata": {
    "id": "BtAwgmsGuarb"
   },
   "source": [
    "A continuación, crearemos una clase (en el contexto del paradigma de POO) que contenga los atributos de una capa de neuronas. Esta estructura contiene el número de conexiones, el número de neuronas, la función de activación, el vector de sesgos y la matriz de pesos. Tanto el vector de sesgos como la matriz de pesos contienen valores al azar normalizados (valores aleatorios entre -1 y 1)."
   ]
  },
  {
   "cell_type": "markdown",
   "metadata": {
    "id": "Yh9QaOjKkg-9"
   },
   "source": [
    "Pregunta 1: Entiendo porque los datos del vector de sesgos y de la matriz de pesos deben ser aleatorios, pero ¿Por qué deben ser normalizados y en un rango entre -1 y 1?"
   ]
  },
  {
   "cell_type": "markdown",
   "metadata": {
    "id": "sTmjRx05sFpY"
   },
   "source": [
    "## 2. Definimos la estructura de la red neuronal."
   ]
  },
  {
   "cell_type": "markdown",
   "metadata": {},
   "source": [
    "### Clase capa"
   ]
  },
  {
   "cell_type": "code",
   "execution_count": 5,
   "metadata": {
    "executionInfo": {
     "elapsed": 1592,
     "status": "ok",
     "timestamp": 1614301543634,
     "user": {
      "displayName": "Luis Cruz",
      "photoUrl": "https://lh3.googleusercontent.com/a-/AOh14GjAdeJfpdmWlDnaYzYy_nbUNs-8KmTX4RuBuPQbP_4=s64",
      "userId": "01516691432947049938"
     },
     "user_tz": 360
    },
    "id": "DBZO4NLzuare"
   },
   "outputs": [],
   "source": [
    "class neural_layer():\n",
    "    def __init__(self, n_conn, n_neur, act_f):\n",
    "        self.act_f = act_f\n",
    "\n",
    "        self.b = np.random.rand(1, n_neur)*2-1\n",
    "        self.W = np.random.rand(n_conn, n_neur)*2-1      "
   ]
  },
  {
   "cell_type": "markdown",
   "metadata": {},
   "source": [
    "### Funciones de activación"
   ]
  },
  {
   "cell_type": "markdown",
   "metadata": {
    "id": "d915UIdtuarg"
   },
   "source": [
    "En la siguiente celda definiremos la función de activación de la tangente hiperbólica y su derivada. Ambas funciones están en una tupla, donde la primer componente de la tupla es la función y la segunda componente es su derivada.\n",
    "\n",
    "$$\\phi (x)= tanh (x) = \\frac{e^{x}-e^{-x}}{e^{-x}+e^{x}}$$\n",
    "\n",
    "$$\\phi' (x)= sech^{2}(x) = \\frac{4}{(e^{-x}+e^{x})^{2}}$$"
   ]
  },
  {
   "cell_type": "code",
   "execution_count": 6,
   "metadata": {
    "colab": {
     "base_uri": "https://localhost:8080/",
     "height": 282
    },
    "executionInfo": {
     "elapsed": 2244,
     "status": "ok",
     "timestamp": 1614301544327,
     "user": {
      "displayName": "Luis Cruz",
      "photoUrl": "https://lh3.googleusercontent.com/a-/AOh14GjAdeJfpdmWlDnaYzYy_nbUNs-8KmTX4RuBuPQbP_4=s64",
      "userId": "01516691432947049938"
     },
     "user_tz": 360
    },
    "id": "heCdw97duari",
    "outputId": "8b2a73ff-54e2-4cee-a407-2477a9da009f"
   },
   "outputs": [],
   "source": [
    "tanh = (lambda x : ((np.e**x)-(np.e**(-x)))/((np.e**x)+(np.e**(-x))),\n",
    "        lambda x : 4/((((np.e**x)+(np.e**(-x))))**2))\n",
    "\n",
    "sig = (lambda x: 1 / (1 + np.e ** (-x)),\n",
    "       lambda x: x * (1-x))"
   ]
  },
  {
   "cell_type": "markdown",
   "metadata": {},
   "source": [
    "Esto es la función tangente y su derivada"
   ]
  },
  {
   "cell_type": "code",
   "execution_count": 7,
   "metadata": {},
   "outputs": [
    {
     "data": {
      "text/plain": [
       "[<matplotlib.lines.Line2D at 0x7fb36b29ba00>]"
      ]
     },
     "execution_count": 7,
     "metadata": {},
     "output_type": "execute_result"
    },
    {
     "data": {
      "image/png": "[encoded data removed]",
      "text/plain": [
       "<Figure size 432x288 with 1 Axes>"
      ]
     },
     "metadata": {
      "needs_background": "light"
     },
     "output_type": "display_data"
    }
   ],
   "source": [
    "_x = np.linspace(-5,5, 100)\n",
    "plt.plot(_x, tanh[0](_x))\n",
    "plt.plot(_x, tanh[1](_x))"
   ]
  },
  {
   "cell_type": "markdown",
   "metadata": {},
   "source": [
    "Esto es la funcion sigmoide y su derivada"
   ]
  },
  {
   "cell_type": "code",
   "execution_count": 8,
   "metadata": {},
   "outputs": [
    {
     "data": {
      "text/plain": [
       "[<matplotlib.lines.Line2D at 0x7fb36b307880>]"
      ]
     },
     "execution_count": 8,
     "metadata": {},
     "output_type": "execute_result"
    },
    {
     "data": {
      "image/png": "[encoded data removed]",
      "text/plain": [
       "<Figure size 432x288 with 1 Axes>"
      ]
     },
     "metadata": {
      "needs_background": "light"
     },
     "output_type": "display_data"
    }
   ],
   "source": [
    "_x = np.linspace(-5,5, 100)\n",
    "plt.plot(_x, sig[0](_x))\n",
    "plt.plot(_x, sig[1](_x))"
   ]
  },
  {
   "cell_type": "code",
   "execution_count": 9,
   "metadata": {
    "colab": {
     "base_uri": "https://localhost:8080/",
     "height": 282
    },
    "executionInfo": {
     "elapsed": 2210,
     "status": "ok",
     "timestamp": 1614301544333,
     "user": {
      "displayName": "Luis Cruz",
      "photoUrl": "https://lh3.googleusercontent.com/a-/AOh14GjAdeJfpdmWlDnaYzYy_nbUNs-8KmTX4RuBuPQbP_4=s64",
      "userId": "01516691432947049938"
     },
     "user_tz": 360
    },
    "id": "kSJwtJyRuarm",
    "outputId": "168bbfd4-f2df-4544-b0fb-51b13f7a17e8"
   },
   "outputs": [
    {
     "data": {
      "text/plain": [
       "[<matplotlib.lines.Line2D at 0x7fb36b182a10>]"
      ]
     },
     "execution_count": 9,
     "metadata": {},
     "output_type": "execute_result"
    },
    {
     "data": {
      "image/png": "[encoded data removed]",
      "text/plain": [
       "<Figure size 432x288 with 1 Axes>"
      ]
     },
     "metadata": {
      "needs_background": "light"
     },
     "output_type": "display_data"
    }
   ],
   "source": [
    "ReLu = lambda x : np.maximum(0,x)\n",
    "_x = np.linspace(-5,5, 100)\n",
    "plt.plot(_x, ReLu(_x))"
   ]
  },
  {
   "cell_type": "markdown",
   "metadata": {},
   "source": [
    "### Funcion de creacion de la red"
   ]
  },
  {
   "cell_type": "markdown",
   "metadata": {
    "id": "KIYDOAvtmMOE"
   },
   "source": [
    "Es necesario notar, que la estructura ```neural_layer``` requiere de tres argumentos (número de conexiones a la entrada, número de neuronas en la capa, función de activación característica de la capa). "
   ]
  },
  {
   "cell_type": "code",
   "execution_count": 10,
   "metadata": {
    "executionInfo": {
     "elapsed": 2201,
     "status": "ok",
     "timestamp": 1614301544342,
     "user": {
      "displayName": "Luis Cruz",
      "photoUrl": "https://lh3.googleusercontent.com/a-/AOh14GjAdeJfpdmWlDnaYzYy_nbUNs-8KmTX4RuBuPQbP_4=s64",
      "userId": "01516691432947049938"
     },
     "user_tz": 360
    },
    "id": "v1SGPTVhuarx"
   },
   "outputs": [],
   "source": [
    "# Capa de entrada\n",
    "l0 = neural_layer(n_conn = p, n_neur = 4 , act_f = tanh) \n",
    "# Primera capa oculta\n",
    "l1 = neural_layer(n_conn = 4, n_neur = 8 , act_f = tanh) \n",
    "#···"
   ]
  },
  {
   "cell_type": "markdown",
   "metadata": {
    "id": "l597jKIXxDhy"
   },
   "source": [
    "Para no tener que crear una por una todas las capas podemos crear un vector ```topology``` que recoja las neuronas de cada capa. Como los parametros de entrada son el numero de neuronas de la capa anterior, así ahorramos trabajo. \n",
    "El problema de esto es que solo podemos utilizar una misma función de activación para todas las capas.\n",
    "\n",
    "Creamos una función para crear automáticamente todas las capas. La función ```create_nn``` requiere dos argumentos:\n",
    "\n",
    "1.   El vector ```topology``` característico de la red, cada componente representa el número de neuronas por capa.\n",
    "\n",
    "2.   La función de activación ```act_f``` , que para este proyecto será la misma en todas las capas. \n",
    "\n"
   ]
  },
  {
   "cell_type": "code",
   "execution_count": 11,
   "metadata": {
    "executionInfo": {
     "elapsed": 2189,
     "status": "ok",
     "timestamp": 1614301544347,
     "user": {
      "displayName": "Luis Cruz",
      "photoUrl": "https://lh3.googleusercontent.com/a-/AOh14GjAdeJfpdmWlDnaYzYy_nbUNs-8KmTX4RuBuPQbP_4=s64",
      "userId": "01516691432947049938"
     },
     "user_tz": 360
    },
    "id": "mhYgAZMtuarz"
   },
   "outputs": [],
   "source": [
    "def create_nn(topology, act_f):\n",
    "    nn = []\n",
    "    # Por cada uno de los valores del vector topology\n",
    "    # creamos una nueva capa, cuya entrada es el valor i y sus\n",
    "    # neuronas son el valor i+1\n",
    "    for l, layer in enumerate(topology[:-1]):\n",
    "        nn.append(neural_layer(topology[l], topology[l+1] , act_f))\n",
    "\n",
    "    return nn"
   ]
  },
  {
   "cell_type": "markdown",
   "metadata": {},
   "source": [
    "**Creamos una red**"
   ]
  },
  {
   "cell_type": "code",
   "execution_count": 21,
   "metadata": {},
   "outputs": [],
   "source": [
    "# Definimos las neuronas por capa\n",
    "# Vector con el número de neuronas por cada\n",
    "# La ultima neurona tiene que ser 1 porque nuestro output es si/no\n",
    "topology = [p, 4, 5, 1]\n",
    "\n",
    "# Creamos la red\n",
    "neural_net = create_nn(topology, tanh)"
   ]
  },
  {
   "cell_type": "code",
   "execution_count": 22,
   "metadata": {},
   "outputs": [
    {
     "data": {
      "text/plain": [
       "[<__main__.neural_layer at 0x7fb36b2484f0>,\n",
       " <__main__.neural_layer at 0x7fb36b24b4f0>,\n",
       " <__main__.neural_layer at 0x7fb36b24bcd0>]"
      ]
     },
     "execution_count": 22,
     "metadata": {},
     "output_type": "execute_result"
    }
   ],
   "source": [
    "neural_net"
   ]
  },
  {
   "cell_type": "markdown",
   "metadata": {},
   "source": [
    "En este punto del proyecto la red neuronal ya está construida, pero no ha sido entrenada ni ajustada."
   ]
  },
  {
   "cell_type": "markdown",
   "metadata": {
    "id": "VCMIz7XduasF"
   },
   "source": [
    "## 3. Definimos la función de entrenamiento de la red"
   ]
  },
  {
   "cell_type": "markdown",
   "metadata": {},
   "source": [
    "### Función de coste"
   ]
  },
  {
   "cell_type": "markdown",
   "metadata": {
    "id": "hcXQsA3EzEs9"
   },
   "source": [
    "En la siguiente celda se puede observar, que la variable ```l2_cost``` se compone de una tupla de dos funciones lambda (sumatorias), donde la primera componente es la función de coste y la segunda componente es la derivada de la función de coste.\n",
    "\n",
    "La función de coste se define de la siguiente manera (Error cuadrático medio):\n",
    "\n",
    "$$MSE = \\frac{1}{n}\\sum_{i = 1}^{n}\\left ( Y_{i} - \\hat{Y}_{i} \\right )^{2}$$\n",
    "\n",
    "Pregunta: ¿Cómo se expresa la derivada de la función de coste?\n",
    "Fuente: https://sebastianraschka.com/faq/docs/mse-derivative.html\n"
   ]
  },
  {
   "cell_type": "code",
   "execution_count": 23,
   "metadata": {
    "executionInfo": {
     "elapsed": 2170,
     "status": "ok",
     "timestamp": 1614301544367,
     "user": {
      "displayName": "Luis Cruz",
      "photoUrl": "https://lh3.googleusercontent.com/a-/AOh14GjAdeJfpdmWlDnaYzYy_nbUNs-8KmTX4RuBuPQbP_4=s64",
      "userId": "01516691432947049938"
     },
     "user_tz": 360
    },
    "id": "b1-0l2OrlQ2d"
   },
   "outputs": [],
   "source": [
    "# Definimos la función de coste y su derivada\n",
    "# Yp: Y predicah\n",
    "# Yr: Y real\n",
    "l2_cost = (lambda Yp, Yr: np.mean((Yp - Yr)**2), \n",
    "           lambda Yp, Yr: 2*(Yp - Yr))"
   ]
  },
  {
   "cell_type": "markdown",
   "metadata": {},
   "source": [
    "### Funcion para el entrenamiento"
   ]
  },
  {
   "cell_type": "markdown",
   "metadata": {
    "id": "xLPfuDcIp5-l"
   },
   "source": [
    "La función de entrenamiento contempla los siguientes pasos:\n",
    "\n",
    " 1. Propagación hacia adelante.\n",
    " 2. Comparar resultados obtenidos con los esperados.\n",
    " 3. Propagación hacia atras."
   ]
  },
  {
   "cell_type": "code",
   "execution_count": 24,
   "metadata": {
    "executionInfo": {
     "elapsed": 2166,
     "status": "ok",
     "timestamp": 1614301544375,
     "user": {
      "displayName": "Luis Cruz",
      "photoUrl": "https://lh3.googleusercontent.com/a-/AOh14GjAdeJfpdmWlDnaYzYy_nbUNs-8KmTX4RuBuPQbP_4=s64",
      "userId": "01516691432947049938"
     },
     "user_tz": 360
    },
    "id": "_F7R_VQXvvHk"
   },
   "outputs": [],
   "source": [
    "#Función de entrenamiento\n",
    "def train(neural_net, X, Y, f_cost, lr = 0.5, train = True):\n",
    "    \n",
    "    # En este array guarda: \n",
    "    # - z: suma ponderada de cada capa\n",
    "    # - a: valor tras la activación (output de la capa)\n",
    "    # [(z0,a0),(z1,a1),...]\n",
    "    # Se inicia con X, que es el primer valor de entrada\n",
    "    out = [(None,X)]\n",
    "\n",
    "    # 1. PRIMERA PROPAGACION HACIA ADELANTE\n",
    "    for layer in neural_net:\n",
    "        # Se recoge el ultimo output\n",
    "        # out[-1] se refiere al ultimo valor \n",
    "        # [1] se refiere al output tras la funcion de activacion (a)\n",
    "        last_output = out[-1][1]\n",
    "\n",
    "        # Se calcula la suma ponderada\n",
    "        z = last_output @ layer.W + layer.b\n",
    "        # Se pasa por la funcion de activacion\n",
    "        # [0] se refiere a la no derivada\n",
    "        a = layer.act_f[0](z)\n",
    "\n",
    "        # Se guardan los outputs de esta capa\n",
    "        out.append((z,a))\n",
    "\n",
    "\n",
    "    # Una vez realizada la propagacion hacia delante\n",
    "    # 2. BACKPROPAGATION AND GRADIENT DESCENT\n",
    "    if train:\n",
    "        # Lista de errores\n",
    "        delta = []\n",
    "\n",
    "        for l in reversed(range(len(neural_net))):\n",
    "            # De los outputs podemos sacar z y a\n",
    "            # El +1 es porque el output de la capa 0 es 1\n",
    "            # ya que el output 0 son los parametros de entrada X\n",
    "            # out = [(None,X)]\n",
    "            z = out[l+1][0]\n",
    "            a = out[l+1][1]\n",
    "\n",
    "            layer = neural_net[l]\n",
    "\n",
    "            # Insert(0) sirve para añadir en la posicion 0, porque vamos hacia atras\n",
    "            # El error se calcula diferente en la ultima capa que en el resto\n",
    "            if l == len(neural_net) - 1:\n",
    "                # Funcion 1\n",
    "                error_ultima_capa = f_cost[1](a, Y) * layer.act_f[1](a)\n",
    "                # Añadimos\n",
    "                delta.insert(0, error_ultima_capa)\n",
    "            else:\n",
    "                error_previo = delta[0]\n",
    "                W_previa = W_sin_modificar\n",
    "                # Funcion 2\n",
    "                error_resto_capas = (error_previo @ W_previa.T) * layer.act_f[1](a)\n",
    "                # Añadimos\n",
    "                delta.insert(0, error_resto_capas) \n",
    "\n",
    "            # La variable W se guarda porque sino, si la actualizamos en gradient descent \n",
    "            # y usamos la actualizada para calcular el siguiente error, estaría mal\n",
    "            W_sin_modificar = layer.W \n",
    "\n",
    "\n",
    "            # GRADIENT DESCENT\n",
    "            # Se ajustan los parametros segun las derivadas\n",
    "            # Las derivadas se calculan en funcion de los errores ya calculados (funciones 3)\n",
    "            error_previo = delta[0]\n",
    "\n",
    "            # Parametro b\n",
    "            # Se modifica en funcion del error medio de la capa anterior\n",
    "            layer.b = layer.b - np.mean(error_previo, axis=0, keepdims=True) * lr\n",
    "\n",
    "            # Parametro W\n",
    "            # Se modifica en funcion del error de la capa anterior y la a\n",
    "            a_previa = out[l][1].T\n",
    "            layer.W = layer.W - (a_previa @ error_previo) * lr\n",
    "\n",
    "    # Devolvemos el valor de output de la ultima capa\n",
    "    return out[-1][1]"
   ]
  },
  {
   "cell_type": "markdown",
   "metadata": {},
   "source": [
    "1. Error de la ultima capa\n",
    "\n",
    "$$\\delta^L =  \\frac{\\partial C}{\\partial a^L} \\frac{\\partial a^L}{\\partial z^L}$$\n",
    "\n",
    "2. Error del resto de capas\n",
    "\n",
    "$$\\delta^{L-1} =  \\delta^L W^L \\frac{\\partial a^{L-1}}{\\partial z^{L-1}}$$\n",
    "\n",
    "3. Calcular las derivadas de la capa usando el error\n",
    "\n",
    "$$\\frac{\\partial C}{\\partial b^{L-1}} = \\delta^{L-1}$$\n",
    "\n",
    "$$\\frac{\\partial C}{\\partial w^{L-1}} = \\delta^{L-1} a^{L-2}$$"
   ]
  },
  {
   "cell_type": "markdown",
   "metadata": {},
   "source": [
    "Se puede decidir con cuantos datos se quiere hacer cada entrenamiento. A esto se le llama **batch**. Si hicieramos un entrenamiento solo con un dato, no serviría de nada, porque la función de error se calcularía solo con ese dato, sería como calcular la pendiente de la curva de regresión solo con un punto. \n",
    "\n",
    "Por otro lado, podemos usar los datos varias veces para ajustar los parámetros. El número de veces que se recorre el dataset entero se llama **epoch**. "
   ]
  },
  {
   "cell_type": "markdown",
   "metadata": {
    "id": "5J_QB0gQol0e"
   },
   "source": [
    "## 4. Enfrentamos a la red con los datos y presentamos resultados."
   ]
  },
  {
   "cell_type": "code",
   "execution_count": null,
   "metadata": {
    "colab": {
     "base_uri": "https://localhost:8080/",
     "height": 517
    },
    "executionInfo": {
     "elapsed": 120440,
     "status": "ok",
     "timestamp": 1614301662664,
     "user": {
      "displayName": "Luis Cruz",
      "photoUrl": "https://lh3.googleusercontent.com/a-/AOh14GjAdeJfpdmWlDnaYzYy_nbUNs-8KmTX4RuBuPQbP_4=s64",
      "userId": "01516691432947049938"
     },
     "user_tz": 360
    },
    "id": "tMvG-L7OuasU",
    "outputId": "6edf183a-122d-4c71-ce7a-f9bc88700ca0"
   },
   "outputs": [
    {
     "data": {
      "image/png": "[encoded data removed]",
      "text/plain": [
       "<Figure size 432x288 with 1 Axes>"
      ]
     },
     "metadata": {
      "needs_background": "light"
     },
     "output_type": "display_data"
    },
    {
     "data": {
      "image/png": "[encoded data removed]",
      "text/plain": [
       "<Figure size 432x288 with 1 Axes>"
      ]
     },
     "metadata": {
      "needs_background": "light"
     },
     "output_type": "display_data"
    }
   ],
   "source": [
    "import time\n",
    "from IPython.display import clear_output\n",
    "\n",
    "neural_n = create_nn(topology, tanh)\n",
    "loss = []\n",
    "\n",
    "# 1000 es el número de veces que vamos a actualizar los parámetros\n",
    "# En este caso como cada bach es el dataset entero, 1000 tambien serán los epoch\n",
    "for i in range(1000):\n",
    "    #Entrenamos la red:\n",
    "    pY = train(neural_n, X, Y, l2_cost, lr = 0.005)\n",
    "\n",
    "    if i%100 == 0:\n",
    "\n",
    "        loss.append(l2_cost[0](pY,Y))\n",
    "\n",
    "        res = 50\n",
    "\n",
    "        _x0 = np.linspace(-1.5, 1.5, res)\n",
    "        _x1 = np.linspace(-1.5, 1.5, res)\n",
    "\n",
    "        _Y = np.zeros((res, res))\n",
    "\n",
    "        for i0, x0 in enumerate(_x0):\n",
    "            for i1, x1 in enumerate(_x1):\n",
    "                _Y[i0, i1] = train(neural_n, np.array([[x0,x1]]), Y, l2_cost,train=False)[0][0]\n",
    "\n",
    "            #Visualizamos los resultados del entrenamiento.\n",
    "            plt.pcolormesh(_x0, _x1, _Y, cmap = \"coolwarm\")\n",
    "            plt.axis(\"equal\")\n",
    "\n",
    "            plt.scatter(X[Y[:,0] == 0, 0], X[Y[:,0] == 0, 1], c = \"skyblue\" )\n",
    "            plt.scatter(X[Y[:,0] == 1, 0], X[Y[:,0] == 1, 1], c = \"salmon\" )\n",
    "\n",
    "            clear_output(wait = True)\n",
    "            plt.show()\n",
    "            plt.plot(range(len(loss)), loss)\n",
    "            plt.show()\n",
    "            time.sleep(0.5)\n",
    "    \n",
    "      "
   ]
  },
  {
   "cell_type": "markdown",
   "metadata": {},
   "source": [
    "En este caso nuestro **bach** está siendo el dataset entero. Es decir, ajustamos los parámetros cada vez que le pasamos el dataset entero. Pero podríamos dividir el dataset en bloques e ir actualizando los parámetros más frecuentemente. \n",
    "\n",
    "Por otro lado aqui los **epoch** son el número de bucles que damos, ya que cada bucle recorre el dataset entero. Si dividieramos el dataset en tres, por ejemplo, entonces ya cada bucle no sería un **epoch**, un sino que un **epoch** sería cada tres bucles."
   ]
  },
  {
   "cell_type": "markdown",
   "metadata": {
    "executionInfo": {
     "elapsed": 120439,
     "status": "ok",
     "timestamp": 1614301662681,
     "user": {
      "displayName": "Luis Cruz",
      "photoUrl": "https://lh3.googleusercontent.com/a-/AOh14GjAdeJfpdmWlDnaYzYy_nbUNs-8KmTX4RuBuPQbP_4=s64",
      "userId": "01516691432947049938"
     },
     "user_tz": 360
    },
    "id": "bZUXV1nPmb3K"
   },
   "source": [
    "## Fin del Notebook"
   ]
  }
 ],
 "metadata": {
  "colab": {
   "collapsed_sections": [],
   "name": "IA_Notebook _4_Programando_Red_Neuronal_desde_Cero.ipynb",
   "provenance": []
  },
  "kernelspec": {
   "display_name": "Python 3 (ipykernel)",
   "language": "python",
   "name": "python3"
  },
  "language_info": {
   "codemirror_mode": {
    "name": "ipython",
    "version": 3
   },
   "file_extension": ".py",
   "mimetype": "text/x-python",
   "name": "python",
   "nbconvert_exporter": "python",
   "pygments_lexer": "ipython3",
   "version": "3.10.4"
  }
 },
 "nbformat": 4,
 "nbformat_minor": 4
}
