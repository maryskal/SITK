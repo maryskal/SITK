{
 "cells": [
  {
   "cell_type": "code",
   "execution_count": 12,
   "id": "ffae7f97-28ba-4cdf-a0af-890f3de87beb",
   "metadata": {},
   "outputs": [],
   "source": [
    "from sklearn import model_selection\n",
    "import os\n",
    "import cv2\n",
    "import numpy as np\n",
    "import pandas as pd"
   ]
  },
  {
   "cell_type": "code",
   "execution_count": 3,
   "id": "6e06e982-78a5-4a0d-aeb9-d5107381171d",
   "metadata": {},
   "outputs": [],
   "source": [
    "# path = 'D:/Users/maryskal/Documents/SITK/CXR8/images/images_001'\n",
    "path = '/home/mr1142/Documents/Data/segmentation'"
   ]
  },
  {
   "cell_type": "code",
   "execution_count": 4,
   "id": "195aacd7-53b7-4865-a916-64280b204a50",
   "metadata": {},
   "outputs": [],
   "source": [
    "masks_name = os.listdir(os.path.join(path, 'mascara'))"
   ]
  },
  {
   "cell_type": "code",
   "execution_count": 5,
   "id": "1dcd078a-1faa-4906-9e57-3562cf843e7a",
   "metadata": {},
   "outputs": [],
   "source": [
    "pixels = 256"
   ]
  },
  {
   "cell_type": "code",
   "execution_count": 6,
   "id": "ed517d61-29f3-44cd-90ad-6ff2d2c781a8",
   "metadata": {},
   "outputs": [],
   "source": [
    "def read_img(path, folder, img):\n",
    "    img = cv2.imread(os.path.join(path, folder, img))\n",
    "    img = prepare_img(img)\n",
    "    return img"
   ]
  },
  {
   "cell_type": "code",
   "execution_count": 7,
   "id": "dd725ddd-a6cb-466b-a5b2-8b5d3f4aaa4d",
   "metadata": {},
   "outputs": [],
   "source": [
    "def prepare_img(img):\n",
    "    try:\n",
    "        img = cv2.cvtColor(img, cv2.COLOR_BGR2GRAY)\n",
    "    except:\n",
    "        print('', end = '')\n",
    "    img = cv2.resize(img, (pixels, pixels))\n",
    "    img = np.expand_dims(img, axis=-1)\n",
    "    return img"
   ]
  },
  {
   "cell_type": "code",
   "execution_count": 8,
   "id": "b3391da3-805a-4983-991c-af764aeb7155",
   "metadata": {},
   "outputs": [],
   "source": [
    "def normalize(img):\n",
    "    return (img - np.mean(img))/ np.std(img)"
   ]
  },
  {
   "cell_type": "code",
   "execution_count": 9,
   "id": "801b8b8a-bb15-4d57-8cb9-8889e43b2af1",
   "metadata": {},
   "outputs": [],
   "source": [
    "def binarize(img):\n",
    "    img[img>0] = 1\n",
    "    return img"
   ]
  },
  {
   "cell_type": "code",
   "execution_count": 10,
   "id": "6a18e092-85e8-44cb-8063-1cf96d37462a",
   "metadata": {},
   "outputs": [],
   "source": [
    "masks = []\n",
    "images = []\n",
    "for i in range(len(masks_name)):\n",
    "    masks.append(binarize(read_img(path, 'mascara', masks_name[i])))\n",
    "    images.append(normalize(read_img(path, 'images', masks_name[i])))"
   ]
  },
  {
   "cell_type": "code",
   "execution_count": 11,
   "id": "caef8bf8-3cb3-4022-9f2f-da55bd6ddcc6",
   "metadata": {},
   "outputs": [],
   "source": [
    "diccionario = {'name': masks_name,\n",
    "              'images': images,\n",
    "              'masks': masks}"
   ]
  },
  {
   "cell_type": "code",
   "execution_count": 13,
   "id": "b1a8a061-d6f8-4338-b62b-731be47b4801",
   "metadata": {},
   "outputs": [],
   "source": [
    "df = pd.DataFrame(diccionario)"
   ]
  },
  {
   "cell_type": "code",
   "execution_count": 14,
   "id": "43be891b-2661-41b3-9ec6-f04225c7c947",
   "metadata": {},
   "outputs": [
    {
     "data": {
      "text/html": [
       "<div>\n",
       "<style scoped>\n",
       "    .dataframe tbody tr th:only-of-type {\n",
       "        vertical-align: middle;\n",
       "    }\n",
       "\n",
       "    .dataframe tbody tr th {\n",
       "        vertical-align: top;\n",
       "    }\n",
       "\n",
       "    .dataframe thead th {\n",
       "        text-align: right;\n",
       "    }\n",
       "</style>\n",
       "<table border=\"1\" class=\"dataframe\">\n",
       "  <thead>\n",
       "    <tr style=\"text-align: right;\">\n",
       "      <th></th>\n",
       "      <th>name</th>\n",
       "      <th>images</th>\n",
       "      <th>masks</th>\n",
       "    </tr>\n",
       "  </thead>\n",
       "  <tbody>\n",
       "    <tr>\n",
       "      <th>0</th>\n",
       "      <td>00015693_006.png</td>\n",
       "      <td>[[[-1.1502743814929384], [-1.079104602754527],...</td>\n",
       "      <td>[[[0], [0], [0], [0], [0], [0], [0], [0], [0],...</td>\n",
       "    </tr>\n",
       "    <tr>\n",
       "      <th>1</th>\n",
       "      <td>00000202_000.png</td>\n",
       "      <td>[[[-2.0549095996896782], [-2.0377648800460935]...</td>\n",
       "      <td>[[[0], [0], [0], [0], [0], [0], [0], [0], [0],...</td>\n",
       "    </tr>\n",
       "    <tr>\n",
       "      <th>2</th>\n",
       "      <td>00013750_024.png</td>\n",
       "      <td>[[[0.9376818550378685], [0.7579998543236607], ...</td>\n",
       "      <td>[[[0], [0], [0], [0], [0], [0], [0], [0], [0],...</td>\n",
       "    </tr>\n",
       "    <tr>\n",
       "      <th>3</th>\n",
       "      <td>00005271_006.png</td>\n",
       "      <td>[[[-2.9430672203690755], [-2.9430672203690755]...</td>\n",
       "      <td>[[[0], [0], [0], [0], [0], [0], [0], [0], [0],...</td>\n",
       "    </tr>\n",
       "    <tr>\n",
       "      <th>4</th>\n",
       "      <td>00008051_050.png</td>\n",
       "      <td>[[[-2.8227870124170673], [-2.8227870124170673]...</td>\n",
       "      <td>[[[0], [0], [0], [0], [0], [0], [0], [0], [0],...</td>\n",
       "    </tr>\n",
       "  </tbody>\n",
       "</table>\n",
       "</div>"
      ],
      "text/plain": [
       "               name                                             images  \\\n",
       "0  00015693_006.png  [[[-1.1502743814929384], [-1.079104602754527],...   \n",
       "1  00000202_000.png  [[[-2.0549095996896782], [-2.0377648800460935]...   \n",
       "2  00013750_024.png  [[[0.9376818550378685], [0.7579998543236607], ...   \n",
       "3  00005271_006.png  [[[-2.9430672203690755], [-2.9430672203690755]...   \n",
       "4  00008051_050.png  [[[-2.8227870124170673], [-2.8227870124170673]...   \n",
       "\n",
       "                                               masks  \n",
       "0  [[[0], [0], [0], [0], [0], [0], [0], [0], [0],...  \n",
       "1  [[[0], [0], [0], [0], [0], [0], [0], [0], [0],...  \n",
       "2  [[[0], [0], [0], [0], [0], [0], [0], [0], [0],...  \n",
       "3  [[[0], [0], [0], [0], [0], [0], [0], [0], [0],...  \n",
       "4  [[[0], [0], [0], [0], [0], [0], [0], [0], [0],...  "
      ]
     },
     "execution_count": 14,
     "metadata": {},
     "output_type": "execute_result"
    }
   ],
   "source": [
    "df.head()"
   ]
  },
  {
   "cell_type": "code",
   "execution_count": 15,
   "id": "631221d2-4b11-4883-972c-5639fbb80a69",
   "metadata": {},
   "outputs": [],
   "source": [
    "df_train, df_val = model_selection.train_test_split(df, test_size=0.2, \n",
    "                                                    random_state=42, shuffle=True)"
   ]
  },
  {
   "cell_type": "code",
   "execution_count": 17,
   "id": "d2b1cd52-fee0-4ea5-899c-5559f47ed33f",
   "metadata": {},
   "outputs": [
    {
     "data": {
      "text/plain": [
       "393"
      ]
     },
     "execution_count": 17,
     "metadata": {},
     "output_type": "execute_result"
    }
   ],
   "source": [
    "len(df_train)"
   ]
  },
  {
   "cell_type": "code",
   "execution_count": 19,
   "id": "d6afea00-8dc8-4307-8ec8-e231fbba6060",
   "metadata": {},
   "outputs": [
    {
     "data": {
      "text/plain": [
       "99"
      ]
     },
     "execution_count": 19,
     "metadata": {},
     "output_type": "execute_result"
    }
   ],
   "source": [
    "len(df_val)"
   ]
  },
  {
   "cell_type": "code",
   "execution_count": 20,
   "id": "f67ea21e-a049-4015-8573-67bbc34499c3",
   "metadata": {},
   "outputs": [],
   "source": [
    "p_save = '/home/mr1142/Documents/Data/segmentation/splited'"
   ]
  },
  {
   "cell_type": "code",
   "execution_count": 25,
   "id": "d891b74a-3e99-4b96-a89d-a3060eb4cc04",
   "metadata": {},
   "outputs": [
    {
     "data": {
      "text/html": [
       "<div>\n",
       "<style scoped>\n",
       "    .dataframe tbody tr th:only-of-type {\n",
       "        vertical-align: middle;\n",
       "    }\n",
       "\n",
       "    .dataframe tbody tr th {\n",
       "        vertical-align: top;\n",
       "    }\n",
       "\n",
       "    .dataframe thead th {\n",
       "        text-align: right;\n",
       "    }\n",
       "</style>\n",
       "<table border=\"1\" class=\"dataframe\">\n",
       "  <thead>\n",
       "    <tr style=\"text-align: right;\">\n",
       "      <th></th>\n",
       "      <th>name</th>\n",
       "      <th>images</th>\n",
       "      <th>masks</th>\n",
       "    </tr>\n",
       "  </thead>\n",
       "  <tbody>\n",
       "    <tr>\n",
       "      <th>377</th>\n",
       "      <td>00018860_000.png</td>\n",
       "      <td>[[[-0.6142474591933678], [-1.2166418803374768]...</td>\n",
       "      <td>[[[0], [0], [0], [0], [0], [0], [0], [0], [0],...</td>\n",
       "    </tr>\n",
       "    <tr>\n",
       "      <th>124</th>\n",
       "      <td>00009813_006.png</td>\n",
       "      <td>[[[0.636722945003035], [0.5805654324493755], [...</td>\n",
       "      <td>[[[0], [0], [0], [0], [0], [0], [0], [0], [0],...</td>\n",
       "    </tr>\n",
       "    <tr>\n",
       "      <th>419</th>\n",
       "      <td>00030319_000.png</td>\n",
       "      <td>[[[-0.9652874257528736], [-1.3731642932276455]...</td>\n",
       "      <td>[[[0], [0], [0], [0], [0], [0], [0], [0], [0],...</td>\n",
       "    </tr>\n",
       "    <tr>\n",
       "      <th>417</th>\n",
       "      <td>00018840_034.png</td>\n",
       "      <td>[[[-1.6152607206131167], [-1.5395119707261045]...</td>\n",
       "      <td>[[[0], [0], [0], [0], [0], [0], [0], [0], [0],...</td>\n",
       "    </tr>\n",
       "    <tr>\n",
       "      <th>172</th>\n",
       "      <td>00025848_000.png</td>\n",
       "      <td>[[[0.6566322972986954], [-0.2796453815973304],...</td>\n",
       "      <td>[[[0], [0], [0], [0], [0], [0], [0], [0], [0],...</td>\n",
       "    </tr>\n",
       "  </tbody>\n",
       "</table>\n",
       "</div>"
      ],
      "text/plain": [
       "                 name                                             images  \\\n",
       "377  00018860_000.png  [[[-0.6142474591933678], [-1.2166418803374768]...   \n",
       "124  00009813_006.png  [[[0.636722945003035], [0.5805654324493755], [...   \n",
       "419  00030319_000.png  [[[-0.9652874257528736], [-1.3731642932276455]...   \n",
       "417  00018840_034.png  [[[-1.6152607206131167], [-1.5395119707261045]...   \n",
       "172  00025848_000.png  [[[0.6566322972986954], [-0.2796453815973304],...   \n",
       "\n",
       "                                                 masks  \n",
       "377  [[[0], [0], [0], [0], [0], [0], [0], [0], [0],...  \n",
       "124  [[[0], [0], [0], [0], [0], [0], [0], [0], [0],...  \n",
       "419  [[[0], [0], [0], [0], [0], [0], [0], [0], [0],...  \n",
       "417  [[[0], [0], [0], [0], [0], [0], [0], [0], [0],...  \n",
       "172  [[[0], [0], [0], [0], [0], [0], [0], [0], [0],...  "
      ]
     },
     "execution_count": 25,
     "metadata": {},
     "output_type": "execute_result"
    }
   ],
   "source": [
    "df_train.head()"
   ]
  },
  {
   "cell_type": "code",
   "execution_count": 30,
   "id": "8821f0ba-c9b5-4546-9c24-98fc812d93a5",
   "metadata": {},
   "outputs": [],
   "source": [
    "for i in list(df_train.index):\n",
    "    cv2.imwrite(os.path.join(p_save,'train/images', df_train['name'][i]), df_train['images'][i])\n",
    "    cv2.imwrite(os.path.join(p_save,'train/mascara', df_train['name'][i]), df_train['masks'][i])"
   ]
  },
  {
   "cell_type": "code",
   "execution_count": 31,
   "id": "7028364d-e4ea-4aee-a143-77d744e53449",
   "metadata": {},
   "outputs": [],
   "source": [
    "for i in list(df_val.index):\n",
    "    cv2.imwrite(os.path.join(p_save,'validation/images', df_val['name'][i]), df_val['images'][i])\n",
    "    cv2.imwrite(os.path.join(p_save,'validation/mascara', df_val['name'][i]), df_val['masks'][i])"
   ]
  },
  {
   "cell_type": "code",
   "execution_count": null,
   "id": "7ab3b15b-c9fc-4575-8fa4-3a407840330a",
   "metadata": {},
   "outputs": [],
   "source": []
  }
 ],
 "metadata": {
  "kernelspec": {
   "display_name": "Python 3",
   "language": "python",
   "name": "python3"
  },
  "language_info": {
   "codemirror_mode": {
    "name": "ipython",
    "version": 3
   },
   "file_extension": ".py",
   "mimetype": "text/x-python",
   "name": "python",
   "nbconvert_exporter": "python",
   "pygments_lexer": "ipython3",
   "version": "3.6.8"
  }
 },
 "nbformat": 4,
 "nbformat_minor": 5
}
