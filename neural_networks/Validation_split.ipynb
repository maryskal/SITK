{
 "cells": [
  {
   "cell_type": "code",
   "execution_count": 7,
   "id": "ffae7f97-28ba-4cdf-a0af-890f3de87beb",
   "metadata": {},
   "outputs": [],
   "source": [
    "from sklearn import model_selection\n",
    "import os\n",
    "import cv2\n",
    "import numpy as np\n",
    "import pandas as pd"
   ]
  },
  {
   "cell_type": "code",
   "execution_count": 10,
   "id": "6e06e982-78a5-4a0d-aeb9-d5107381171d",
   "metadata": {},
   "outputs": [],
   "source": [
    "# path = 'D:/Users/maryskal/Documents/SITK/CXR8/images/images_001'\n",
    "path = '/home/mr1142/Documents/Data/segmentation'"
   ]
  },
  {
   "cell_type": "code",
   "execution_count": 11,
   "id": "195aacd7-53b7-4865-a916-64280b204a50",
   "metadata": {},
   "outputs": [],
   "source": [
    "masks_name = [f for f in os.listdir(os.path.join(path, 'mascara')) \n",
    "              if os.path.isfile(os.path.join(os.path.join(path, 'mascara'), f))]"
   ]
  },
  {
   "cell_type": "code",
   "execution_count": 17,
   "id": "6a18e092-85e8-44cb-8063-1cf96d37462a",
   "metadata": {},
   "outputs": [],
   "source": [
    "masks = []\n",
    "images = []\n",
    "for i in range(len(masks_name)):\n",
    "    masks.append(cv2.imread(os.path.join(path, 'mascara', masks_name[i])))\n",
    "    images.append(cv2.imread(os.path.join(path, 'images', masks_name[i])))"
   ]
  },
  {
   "cell_type": "code",
   "execution_count": 18,
   "id": "caef8bf8-3cb3-4022-9f2f-da55bd6ddcc6",
   "metadata": {},
   "outputs": [],
   "source": [
    "diccionario = {'name': masks_name,\n",
    "              'images': images,\n",
    "              'masks': masks}"
   ]
  },
  {
   "cell_type": "code",
   "execution_count": 19,
   "id": "b1a8a061-d6f8-4338-b62b-731be47b4801",
   "metadata": {},
   "outputs": [],
   "source": [
    "df = pd.DataFrame(diccionario)"
   ]
  },
  {
   "cell_type": "code",
   "execution_count": 20,
   "id": "43be891b-2661-41b3-9ec6-f04225c7c947",
   "metadata": {},
   "outputs": [
    {
     "data": {
      "text/html": [
       "<div>\n",
       "<style scoped>\n",
       "    .dataframe tbody tr th:only-of-type {\n",
       "        vertical-align: middle;\n",
       "    }\n",
       "\n",
       "    .dataframe tbody tr th {\n",
       "        vertical-align: top;\n",
       "    }\n",
       "\n",
       "    .dataframe thead th {\n",
       "        text-align: right;\n",
       "    }\n",
       "</style>\n",
       "<table border=\"1\" class=\"dataframe\">\n",
       "  <thead>\n",
       "    <tr style=\"text-align: right;\">\n",
       "      <th></th>\n",
       "      <th>name</th>\n",
       "      <th>images</th>\n",
       "      <th>masks</th>\n",
       "    </tr>\n",
       "  </thead>\n",
       "  <tbody>\n",
       "    <tr>\n",
       "      <th>0</th>\n",
       "      <td>00015693_006.png</td>\n",
       "      <td>[[[13, 13, 13], [24, 24, 24], [24, 24, 24], [2...</td>\n",
       "      <td>[[[0, 0, 0], [0, 0, 0], [0, 0, 0], [0, 0, 0], ...</td>\n",
       "    </tr>\n",
       "    <tr>\n",
       "      <th>1</th>\n",
       "      <td>00000202_000.png</td>\n",
       "      <td>[[[0, 0, 0], [1, 1, 1], [2, 2, 2], [2, 2, 2], ...</td>\n",
       "      <td>[[[0, 0, 0], [0, 0, 0], [0, 0, 0], [0, 0, 0], ...</td>\n",
       "    </tr>\n",
       "    <tr>\n",
       "      <th>2</th>\n",
       "      <td>00013750_024.png</td>\n",
       "      <td>[[[206, 206, 206], [204, 204, 204], [204, 204,...</td>\n",
       "      <td>[[[0, 0, 0], [0, 0, 0], [0, 0, 0], [0, 0, 0], ...</td>\n",
       "    </tr>\n",
       "    <tr>\n",
       "      <th>3</th>\n",
       "      <td>00005271_006.png</td>\n",
       "      <td>[[[4, 4, 4], [9, 9, 9], [10, 10, 10], [10, 10,...</td>\n",
       "      <td>[[[0, 0, 0], [0, 0, 0], [0, 0, 0], [0, 0, 0], ...</td>\n",
       "    </tr>\n",
       "    <tr>\n",
       "      <th>4</th>\n",
       "      <td>00008051_050.png</td>\n",
       "      <td>[[[1, 1, 1], [1, 1, 1], [1, 1, 1], [1, 1, 1], ...</td>\n",
       "      <td>[[[0, 0, 0], [0, 0, 0], [0, 0, 0], [0, 0, 0], ...</td>\n",
       "    </tr>\n",
       "  </tbody>\n",
       "</table>\n",
       "</div>"
      ],
      "text/plain": [
       "               name                                             images  \\\n",
       "0  00015693_006.png  [[[13, 13, 13], [24, 24, 24], [24, 24, 24], [2...   \n",
       "1  00000202_000.png  [[[0, 0, 0], [1, 1, 1], [2, 2, 2], [2, 2, 2], ...   \n",
       "2  00013750_024.png  [[[206, 206, 206], [204, 204, 204], [204, 204,...   \n",
       "3  00005271_006.png  [[[4, 4, 4], [9, 9, 9], [10, 10, 10], [10, 10,...   \n",
       "4  00008051_050.png  [[[1, 1, 1], [1, 1, 1], [1, 1, 1], [1, 1, 1], ...   \n",
       "\n",
       "                                               masks  \n",
       "0  [[[0, 0, 0], [0, 0, 0], [0, 0, 0], [0, 0, 0], ...  \n",
       "1  [[[0, 0, 0], [0, 0, 0], [0, 0, 0], [0, 0, 0], ...  \n",
       "2  [[[0, 0, 0], [0, 0, 0], [0, 0, 0], [0, 0, 0], ...  \n",
       "3  [[[0, 0, 0], [0, 0, 0], [0, 0, 0], [0, 0, 0], ...  \n",
       "4  [[[0, 0, 0], [0, 0, 0], [0, 0, 0], [0, 0, 0], ...  "
      ]
     },
     "execution_count": 20,
     "metadata": {},
     "output_type": "execute_result"
    }
   ],
   "source": [
    "df.head()"
   ]
  },
  {
   "cell_type": "code",
   "execution_count": 21,
   "id": "631221d2-4b11-4883-972c-5639fbb80a69",
   "metadata": {},
   "outputs": [],
   "source": [
    "df_train, df_val = model_selection.train_test_split(df, test_size=0.2, \n",
    "                                                    random_state=42, shuffle=True)"
   ]
  },
  {
   "cell_type": "code",
   "execution_count": 22,
   "id": "d2b1cd52-fee0-4ea5-899c-5559f47ed33f",
   "metadata": {},
   "outputs": [
    {
     "data": {
      "text/plain": [
       "393"
      ]
     },
     "execution_count": 22,
     "metadata": {},
     "output_type": "execute_result"
    }
   ],
   "source": [
    "len(df_train)"
   ]
  },
  {
   "cell_type": "code",
   "execution_count": 23,
   "id": "d6afea00-8dc8-4307-8ec8-e231fbba6060",
   "metadata": {},
   "outputs": [
    {
     "data": {
      "text/plain": [
       "99"
      ]
     },
     "execution_count": 23,
     "metadata": {},
     "output_type": "execute_result"
    }
   ],
   "source": [
    "len(df_val)"
   ]
  },
  {
   "cell_type": "code",
   "execution_count": 24,
   "id": "f67ea21e-a049-4015-8573-67bbc34499c3",
   "metadata": {},
   "outputs": [],
   "source": [
    "p_save = '/home/mr1142/Documents/Data/segmentation/splited'"
   ]
  },
  {
   "cell_type": "code",
   "execution_count": 25,
   "id": "d891b74a-3e99-4b96-a89d-a3060eb4cc04",
   "metadata": {},
   "outputs": [
    {
     "data": {
      "text/html": [
       "<div>\n",
       "<style scoped>\n",
       "    .dataframe tbody tr th:only-of-type {\n",
       "        vertical-align: middle;\n",
       "    }\n",
       "\n",
       "    .dataframe tbody tr th {\n",
       "        vertical-align: top;\n",
       "    }\n",
       "\n",
       "    .dataframe thead th {\n",
       "        text-align: right;\n",
       "    }\n",
       "</style>\n",
       "<table border=\"1\" class=\"dataframe\">\n",
       "  <thead>\n",
       "    <tr style=\"text-align: right;\">\n",
       "      <th></th>\n",
       "      <th>name</th>\n",
       "      <th>images</th>\n",
       "      <th>masks</th>\n",
       "    </tr>\n",
       "  </thead>\n",
       "  <tbody>\n",
       "    <tr>\n",
       "      <th>377</th>\n",
       "      <td>00018860_000.png</td>\n",
       "      <td>[[[97, 97, 97], [84, 84, 84], [77, 77, 77], [7...</td>\n",
       "      <td>[[[0, 0, 0], [0, 0, 0], [0, 0, 0], [0, 0, 0], ...</td>\n",
       "    </tr>\n",
       "    <tr>\n",
       "      <th>124</th>\n",
       "      <td>00009813_006.png</td>\n",
       "      <td>[[[195, 195, 195], [192, 192, 192], [190, 190,...</td>\n",
       "      <td>[[[0, 0, 0], [0, 0, 0], [0, 0, 0], [0, 0, 0], ...</td>\n",
       "    </tr>\n",
       "    <tr>\n",
       "      <th>419</th>\n",
       "      <td>00030319_000.png</td>\n",
       "      <td>[[[89, 89, 89], [79, 79, 79], [75, 75, 75], [7...</td>\n",
       "      <td>[[[0, 0, 0], [0, 0, 0], [0, 0, 0], [0, 0, 0], ...</td>\n",
       "    </tr>\n",
       "    <tr>\n",
       "      <th>417</th>\n",
       "      <td>00018840_034.png</td>\n",
       "      <td>[[[0, 0, 0], [3, 3, 3], [9, 9, 9], [8, 8, 8], ...</td>\n",
       "      <td>[[[0, 0, 0], [0, 0, 0], [0, 0, 0], [0, 0, 0], ...</td>\n",
       "    </tr>\n",
       "    <tr>\n",
       "      <th>172</th>\n",
       "      <td>00025848_000.png</td>\n",
       "      <td>[[[195, 195, 195], [192, 192, 192], [191, 191,...</td>\n",
       "      <td>[[[0, 0, 0], [0, 0, 0], [0, 0, 0], [0, 0, 0], ...</td>\n",
       "    </tr>\n",
       "  </tbody>\n",
       "</table>\n",
       "</div>"
      ],
      "text/plain": [
       "                 name                                             images  \\\n",
       "377  00018860_000.png  [[[97, 97, 97], [84, 84, 84], [77, 77, 77], [7...   \n",
       "124  00009813_006.png  [[[195, 195, 195], [192, 192, 192], [190, 190,...   \n",
       "419  00030319_000.png  [[[89, 89, 89], [79, 79, 79], [75, 75, 75], [7...   \n",
       "417  00018840_034.png  [[[0, 0, 0], [3, 3, 3], [9, 9, 9], [8, 8, 8], ...   \n",
       "172  00025848_000.png  [[[195, 195, 195], [192, 192, 192], [191, 191,...   \n",
       "\n",
       "                                                 masks  \n",
       "377  [[[0, 0, 0], [0, 0, 0], [0, 0, 0], [0, 0, 0], ...  \n",
       "124  [[[0, 0, 0], [0, 0, 0], [0, 0, 0], [0, 0, 0], ...  \n",
       "419  [[[0, 0, 0], [0, 0, 0], [0, 0, 0], [0, 0, 0], ...  \n",
       "417  [[[0, 0, 0], [0, 0, 0], [0, 0, 0], [0, 0, 0], ...  \n",
       "172  [[[0, 0, 0], [0, 0, 0], [0, 0, 0], [0, 0, 0], ...  "
      ]
     },
     "execution_count": 25,
     "metadata": {},
     "output_type": "execute_result"
    }
   ],
   "source": [
    "df_train.head()"
   ]
  },
  {
   "cell_type": "code",
   "execution_count": 28,
   "id": "8821f0ba-c9b5-4546-9c24-98fc812d93a5",
   "metadata": {},
   "outputs": [],
   "source": [
    "for i in list(df_train.index):\n",
    "    cv2.imwrite(os.path.join(p_save,'train/images', df_train['name'][i]), df_train['images'][i])\n",
    "    cv2.imwrite(os.path.join(p_save,'train/mascara', df_train['name'][i]), df_train['masks'][i])"
   ]
  },
  {
   "cell_type": "code",
   "execution_count": 29,
   "id": "7028364d-e4ea-4aee-a143-77d744e53449",
   "metadata": {},
   "outputs": [],
   "source": [
    "for i in list(df_val.index):\n",
    "    cv2.imwrite(os.path.join(p_save,'validation/images', df_val['name'][i]), df_val['images'][i])\n",
    "    cv2.imwrite(os.path.join(p_save,'validation/mascara', df_val['name'][i]), df_val['masks'][i])"
   ]
  },
  {
   "cell_type": "markdown",
   "id": "ddea24fe-25e8-4619-ac85-49257d65b218",
   "metadata": {},
   "source": [
    "# Añadimos las demás"
   ]
  },
  {
   "cell_type": "code",
   "execution_count": 8,
   "id": "ab4c04a6-b102-415f-a591-98eee3c81a6d",
   "metadata": {},
   "outputs": [],
   "source": [
    "path = '/home/mr1142/Documents/Data/seg_prueba'"
   ]
  },
  {
   "cell_type": "code",
   "execution_count": 9,
   "id": "1324fc1b-d4ff-461f-940e-fbc2dc1adf35",
   "metadata": {},
   "outputs": [],
   "source": [
    "masks_name = [f for f in os.listdir(os.path.join(path, 'mascara')) \n",
    "              if os.path.isfile(os.path.join(os.path.join(path, 'mascara'), f))]"
   ]
  },
  {
   "cell_type": "code",
   "execution_count": 10,
   "id": "5f40d243-012f-4adb-abfb-f610ac620c6d",
   "metadata": {},
   "outputs": [],
   "source": [
    "masks = []\n",
    "images = []\n",
    "for i in range(len(masks_name)):\n",
    "    masks.append(cv2.imread(os.path.join(path, 'mascara', masks_name[i])))\n",
    "    images.append(cv2.imread(os.path.join(path, 'images', masks_name[i])))"
   ]
  },
  {
   "cell_type": "code",
   "execution_count": 12,
   "id": "fe3bd0df-a35c-48f7-b32c-39c8567f6aca",
   "metadata": {},
   "outputs": [],
   "source": [
    "p_save = '/home/mr1142/Documents/Data/segmentation/splited'"
   ]
  },
  {
   "cell_type": "code",
   "execution_count": 13,
   "id": "544b2bb0-bac7-4617-aee1-4ae7e1154dad",
   "metadata": {},
   "outputs": [],
   "source": [
    "for i in range(len(masks_name)):\n",
    "    cv2.imwrite(os.path.join(p_save,'validation/images', masks_name[i]), images[i])\n",
    "    cv2.imwrite(os.path.join(p_save,'validation/mascara', masks_name[i]), masks[i])"
   ]
  },
  {
   "cell_type": "markdown",
   "id": "d25abe91-6eda-4095-bd77-3227831d24ae",
   "metadata": {},
   "source": [
    "# Creamos el dataframe"
   ]
  },
  {
   "cell_type": "code",
   "execution_count": 14,
   "id": "53547df8-7514-4f7c-b35a-fca372b5b3b5",
   "metadata": {},
   "outputs": [],
   "source": [
    "path = '/home/mr1142/Documents/Data/segmentation/splited/validation'\n",
    "masks_name = [f for f in os.listdir(os.path.join(path, 'mascara')) \n",
    "              if os.path.isfile(os.path.join(os.path.join(path, 'mascara'), f))]"
   ]
  },
  {
   "cell_type": "code",
   "execution_count": 16,
   "id": "511da4ea-73d9-432b-b222-531366f3e6bd",
   "metadata": {},
   "outputs": [
    {
     "data": {
      "text/plain": [
       "179"
      ]
     },
     "execution_count": 16,
     "metadata": {},
     "output_type": "execute_result"
    }
   ],
   "source": [
    "len(masks_name)"
   ]
  },
  {
   "cell_type": "code",
   "execution_count": 20,
   "id": "7b16c3cc-2100-46b6-843b-315f81aca79f",
   "metadata": {},
   "outputs": [],
   "source": [
    "path = '/home/mr1142/Documents/Data/NIH/Data_Entry_2017.csv'"
   ]
  },
  {
   "cell_type": "code",
   "execution_count": 21,
   "id": "01cac206-ad42-45cc-9b5b-8d5c28b42b3e",
   "metadata": {},
   "outputs": [],
   "source": [
    "df = pd.read_csv(path)"
   ]
  },
  {
   "cell_type": "code",
   "execution_count": 22,
   "id": "4aa85cbe-17f7-4594-818a-bbac6db9f595",
   "metadata": {},
   "outputs": [
    {
     "data": {
      "text/html": [
       "<div>\n",
       "<style scoped>\n",
       "    .dataframe tbody tr th:only-of-type {\n",
       "        vertical-align: middle;\n",
       "    }\n",
       "\n",
       "    .dataframe tbody tr th {\n",
       "        vertical-align: top;\n",
       "    }\n",
       "\n",
       "    .dataframe thead th {\n",
       "        text-align: right;\n",
       "    }\n",
       "</style>\n",
       "<table border=\"1\" class=\"dataframe\">\n",
       "  <thead>\n",
       "    <tr style=\"text-align: right;\">\n",
       "      <th></th>\n",
       "      <th>Image Index</th>\n",
       "      <th>Finding Labels</th>\n",
       "      <th>Follow-up #</th>\n",
       "      <th>Patient ID</th>\n",
       "      <th>Patient Age</th>\n",
       "      <th>Patient Gender</th>\n",
       "      <th>View Position</th>\n",
       "      <th>OriginalImage[Width</th>\n",
       "      <th>Height]</th>\n",
       "      <th>OriginalImagePixelSpacing[x</th>\n",
       "      <th>y]</th>\n",
       "      <th>Unnamed: 11</th>\n",
       "    </tr>\n",
       "  </thead>\n",
       "  <tbody>\n",
       "    <tr>\n",
       "      <th>0</th>\n",
       "      <td>00000001_000.png</td>\n",
       "      <td>Cardiomegaly</td>\n",
       "      <td>0</td>\n",
       "      <td>1</td>\n",
       "      <td>58</td>\n",
       "      <td>M</td>\n",
       "      <td>PA</td>\n",
       "      <td>2682</td>\n",
       "      <td>2749</td>\n",
       "      <td>0.143</td>\n",
       "      <td>0.143</td>\n",
       "      <td>NaN</td>\n",
       "    </tr>\n",
       "    <tr>\n",
       "      <th>1</th>\n",
       "      <td>00000001_001.png</td>\n",
       "      <td>Cardiomegaly|Emphysema</td>\n",
       "      <td>1</td>\n",
       "      <td>1</td>\n",
       "      <td>58</td>\n",
       "      <td>M</td>\n",
       "      <td>PA</td>\n",
       "      <td>2894</td>\n",
       "      <td>2729</td>\n",
       "      <td>0.143</td>\n",
       "      <td>0.143</td>\n",
       "      <td>NaN</td>\n",
       "    </tr>\n",
       "    <tr>\n",
       "      <th>2</th>\n",
       "      <td>00000001_002.png</td>\n",
       "      <td>Cardiomegaly|Effusion</td>\n",
       "      <td>2</td>\n",
       "      <td>1</td>\n",
       "      <td>58</td>\n",
       "      <td>M</td>\n",
       "      <td>PA</td>\n",
       "      <td>2500</td>\n",
       "      <td>2048</td>\n",
       "      <td>0.168</td>\n",
       "      <td>0.168</td>\n",
       "      <td>NaN</td>\n",
       "    </tr>\n",
       "    <tr>\n",
       "      <th>3</th>\n",
       "      <td>00000002_000.png</td>\n",
       "      <td>No Finding</td>\n",
       "      <td>0</td>\n",
       "      <td>2</td>\n",
       "      <td>81</td>\n",
       "      <td>M</td>\n",
       "      <td>PA</td>\n",
       "      <td>2500</td>\n",
       "      <td>2048</td>\n",
       "      <td>0.171</td>\n",
       "      <td>0.171</td>\n",
       "      <td>NaN</td>\n",
       "    </tr>\n",
       "    <tr>\n",
       "      <th>4</th>\n",
       "      <td>00000003_000.png</td>\n",
       "      <td>Hernia</td>\n",
       "      <td>0</td>\n",
       "      <td>3</td>\n",
       "      <td>81</td>\n",
       "      <td>F</td>\n",
       "      <td>PA</td>\n",
       "      <td>2582</td>\n",
       "      <td>2991</td>\n",
       "      <td>0.143</td>\n",
       "      <td>0.143</td>\n",
       "      <td>NaN</td>\n",
       "    </tr>\n",
       "  </tbody>\n",
       "</table>\n",
       "</div>"
      ],
      "text/plain": [
       "        Image Index          Finding Labels  Follow-up #  Patient ID  \\\n",
       "0  00000001_000.png            Cardiomegaly            0           1   \n",
       "1  00000001_001.png  Cardiomegaly|Emphysema            1           1   \n",
       "2  00000001_002.png   Cardiomegaly|Effusion            2           1   \n",
       "3  00000002_000.png              No Finding            0           2   \n",
       "4  00000003_000.png                  Hernia            0           3   \n",
       "\n",
       "   Patient Age Patient Gender View Position  OriginalImage[Width  Height]  \\\n",
       "0           58              M            PA                 2682     2749   \n",
       "1           58              M            PA                 2894     2729   \n",
       "2           58              M            PA                 2500     2048   \n",
       "3           81              M            PA                 2500     2048   \n",
       "4           81              F            PA                 2582     2991   \n",
       "\n",
       "   OriginalImagePixelSpacing[x     y]  Unnamed: 11  \n",
       "0                        0.143  0.143          NaN  \n",
       "1                        0.143  0.143          NaN  \n",
       "2                        0.168  0.168          NaN  \n",
       "3                        0.171  0.171          NaN  \n",
       "4                        0.143  0.143          NaN  "
      ]
     },
     "execution_count": 22,
     "metadata": {},
     "output_type": "execute_result"
    }
   ],
   "source": [
    "df.head()"
   ]
  },
  {
   "cell_type": "code",
   "execution_count": 23,
   "id": "28a82ee1-b74c-4a27-95a9-2426134a5cb8",
   "metadata": {},
   "outputs": [],
   "source": [
    "index = [i for i in df.index if df['Image Index'][i] in masks_name]"
   ]
  },
  {
   "cell_type": "code",
   "execution_count": 25,
   "id": "b121dd2e-0885-49b8-b46e-e9fe0b69aee7",
   "metadata": {},
   "outputs": [],
   "source": [
    "df = df.iloc[index]"
   ]
  },
  {
   "cell_type": "code",
   "execution_count": 26,
   "id": "f597d1a2-0167-4f4b-a0c0-625e04d182ae",
   "metadata": {},
   "outputs": [],
   "source": [
    "df.to_csv('/home/mr1142/Documents/Data/segmentation/splited/validation/validation_data.csv')"
   ]
  }
 ],
 "metadata": {
  "kernelspec": {
   "display_name": "Python 3",
   "language": "python",
   "name": "python3"
  },
  "language_info": {
   "codemirror_mode": {
    "name": "ipython",
    "version": 3
   },
   "file_extension": ".py",
   "mimetype": "text/x-python",
   "name": "python",
   "nbconvert_exporter": "python",
   "pygments_lexer": "ipython3",
   "version": "3.6.8"
  }
 },
 "nbformat": 4,
 "nbformat_minor": 5
}
