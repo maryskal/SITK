{
 "cells": [
  {
   "cell_type": "code",
   "execution_count": 1,
   "id": "2ce11c35-6786-42a3-93a4-3add1e81506e",
   "metadata": {},
   "outputs": [
    {
     "name": "stderr",
     "output_type": "stream",
     "text": [
      "2022-06-24 00:21:08.495711: W tensorflow/stream_executor/platform/default/dso_loader.cc:64] Could not load dynamic library 'libcudart.so.11.0'; dlerror: libcudart.so.11.0: cannot open shared object file: No such file or directory\n",
      "2022-06-24 00:21:08.495782: I tensorflow/stream_executor/cuda/cudart_stub.cc:29] Ignore above cudart dlerror if you do not have a GPU set up on your machine.\n"
     ]
    },
    {
     "name": "stdout",
     "output_type": "stream",
     "text": [
      "[name: \"/device:CPU:0\"\n",
      "device_type: \"CPU\"\n",
      "memory_limit: 268435456\n",
      "locality {\n",
      "}\n",
      "incarnation: 11984030142590176835\n",
      "xla_global_id: -1\n",
      "]\n"
     ]
    },
    {
     "name": "stderr",
     "output_type": "stream",
     "text": [
      "2022-06-24 00:21:12.846743: I tensorflow/core/platform/cpu_feature_guard.cc:193] This TensorFlow binary is optimized with oneAPI Deep Neural Network Library (oneDNN) to use the following CPU instructions in performance-critical operations:  AVX2 FMA\n",
      "To enable them in other operations, rebuild TensorFlow with the appropriate compiler flags.\n",
      "2022-06-24 00:21:12.853420: W tensorflow/stream_executor/platform/default/dso_loader.cc:64] Could not load dynamic library 'libcuda.so.1'; dlerror: libcuda.so.1: cannot open shared object file: No such file or directory\n",
      "2022-06-24 00:21:12.853440: W tensorflow/stream_executor/cuda/cuda_driver.cc:269] failed call to cuInit: UNKNOWN ERROR (303)\n",
      "2022-06-24 00:21:12.853461: I tensorflow/stream_executor/cuda/cuda_diagnostics.cc:156] kernel driver does not appear to be running on this host (maryskal-P6689-MD61019): /proc/driver/nvidia/version does not exist\n"
     ]
    }
   ],
   "source": [
    "from tensorflow.keras.applications import EfficientNetB0\n",
    "from tensorflow.keras import models\n",
    "from tensorflow.keras import layers\n",
    "from keras.preprocessing.image import ImageDataGenerator\n",
    "import os\n",
    "import shutil\n",
    "import pandas as pd\n",
    "from sklearn import model_selection\n",
    "from tqdm import tqdm\n",
    "from tensorflow.keras import optimizers\n",
    "import tensorflow as tf#Use this to check if the GPU is configured correctly\n",
    "from tensorflow.python.client import device_lib\n",
    "print(device_lib.list_local_devices())"
   ]
  },
  {
   "cell_type": "code",
   "execution_count": 2,
   "id": "4e64079a-ba3d-4727-8d17-1157d665f049",
   "metadata": {},
   "outputs": [],
   "source": [
    "import os\n",
    "import numpy as np"
   ]
  },
  {
   "cell_type": "code",
   "execution_count": 7,
   "id": "236197d1-c1c1-4f8a-9e20-03f73fe06569",
   "metadata": {},
   "outputs": [],
   "source": [
    "input_shape = (512,512,3)\n",
    "conv_base = EfficientNetB0(weights=\"imagenet\", include_top=False, input_shape=input_shape)"
   ]
  },
  {
   "cell_type": "markdown",
   "id": "3973e2bd-d08c-4b07-a4dd-47955ab3784c",
   "metadata": {},
   "source": [
    "Añado una capa de entrada con tres filtros para que me genere tres canales"
   ]
  },
  {
   "cell_type": "code",
   "execution_count": 9,
   "id": "fc4f8a15-c07d-416e-9601-ca66790bd655",
   "metadata": {},
   "outputs": [],
   "source": [
    "model = models.Sequential()\n",
    "model.add(layers.Conv2D(3,3,padding=\"same\", input_shape=(512,512,1), activation='relu'))\n",
    "model.add(conv_base)\n",
    "model.add(layers.GlobalMaxPooling2D(name=\"gap\"))\n",
    "#avoid overfitting\n",
    "model.add(layers.Dropout(0.2, name=\"dropout_out\"))\n",
    "# Set NUMBER_OF_CLASSES to the number of your final predictions.\n",
    "model.add(layers.Dense(1, activation=\"softmax\", name=\"fc_out\"))\n",
    "conv_base.trainable = False"
   ]
  },
  {
   "cell_type": "code",
   "execution_count": 10,
   "id": "c006de69-e6f3-4b13-8a10-0c55911f6012",
   "metadata": {},
   "outputs": [
    {
     "name": "stdout",
     "output_type": "stream",
     "text": [
      "Model: \"sequential_1\"\n",
      "_________________________________________________________________\n",
      " Layer (type)                Output Shape              Param #   \n",
      "=================================================================\n",
      " conv2d (Conv2D)             (None, 512, 512, 3)       30        \n",
      "                                                                 \n",
      " efficientnetb0 (Functional)  (None, 16, 16, 1280)     4049571   \n",
      "                                                                 \n",
      " gap (GlobalMaxPooling2D)    (None, 1280)              0         \n",
      "                                                                 \n",
      " dropout_out (Dropout)       (None, 1280)              0         \n",
      "                                                                 \n",
      " fc_out (Dense)              (None, 1)                 1281      \n",
      "                                                                 \n",
      "=================================================================\n",
      "Total params: 4,050,882\n",
      "Trainable params: 1,311\n",
      "Non-trainable params: 4,049,571\n",
      "_________________________________________________________________\n"
     ]
    }
   ],
   "source": [
    "model.summary()"
   ]
  },
  {
   "cell_type": "markdown",
   "id": "64351b82-f288-46d1-a54a-d925f155532e",
   "metadata": {},
   "source": [
    "## Dataframe"
   ]
  },
  {
   "cell_type": "code",
   "execution_count": 12,
   "id": "aa71bfcd-76cf-46e2-9a25-e45eac831c2c",
   "metadata": {},
   "outputs": [],
   "source": [
    "path = '/home/maryskal/Downloads/archive/vinbigdata'"
   ]
  },
  {
   "cell_type": "code",
   "execution_count": 13,
   "id": "af92b534-8245-4f72-bf5c-6db915989f07",
   "metadata": {},
   "outputs": [
    {
     "data": {
      "text/plain": [
       "array(['Aortic enlargement', 'Atelectasis', 'Calcification',\n",
       "       'Cardiomegaly', 'Consolidation', 'ILD', 'Infiltration',\n",
       "       'Lung Opacity', 'No finding', 'Nodule/Mass', 'Other lesion',\n",
       "       'Pleural effusion', 'Pleural thickening', 'Pneumothorax',\n",
       "       'Pulmonary fibrosis'], dtype=object)"
      ]
     },
     "execution_count": 13,
     "metadata": {},
     "output_type": "execute_result"
    }
   ],
   "source": [
    "df = pd.read_csv(os.path.join(path, 'train.csv'))"
   ]
  },
  {
   "cell_type": "code",
   "execution_count": 14,
   "id": "7275a5c7-72a5-4333-b78c-24a0b97f722f",
   "metadata": {},
   "outputs": [
    {
     "data": {
      "text/html": [
       "<div>\n",
       "<style scoped>\n",
       "    .dataframe tbody tr th:only-of-type {\n",
       "        vertical-align: middle;\n",
       "    }\n",
       "\n",
       "    .dataframe tbody tr th {\n",
       "        vertical-align: top;\n",
       "    }\n",
       "\n",
       "    .dataframe thead th {\n",
       "        text-align: right;\n",
       "    }\n",
       "</style>\n",
       "<table border=\"1\" class=\"dataframe\">\n",
       "  <thead>\n",
       "    <tr style=\"text-align: right;\">\n",
       "      <th></th>\n",
       "      <th>image_id</th>\n",
       "      <th>class_name</th>\n",
       "      <th>class_id</th>\n",
       "      <th>rad_id</th>\n",
       "      <th>x_min</th>\n",
       "      <th>y_min</th>\n",
       "      <th>x_max</th>\n",
       "      <th>y_max</th>\n",
       "      <th>width</th>\n",
       "      <th>height</th>\n",
       "    </tr>\n",
       "  </thead>\n",
       "  <tbody>\n",
       "    <tr>\n",
       "      <th>0</th>\n",
       "      <td>50a418190bc3fb1ef1633bf9678929b3</td>\n",
       "      <td>No finding</td>\n",
       "      <td>14</td>\n",
       "      <td>R11</td>\n",
       "      <td>NaN</td>\n",
       "      <td>NaN</td>\n",
       "      <td>NaN</td>\n",
       "      <td>NaN</td>\n",
       "      <td>2332</td>\n",
       "      <td>2580</td>\n",
       "    </tr>\n",
       "    <tr>\n",
       "      <th>1</th>\n",
       "      <td>21a10246a5ec7af151081d0cd6d65dc9</td>\n",
       "      <td>No finding</td>\n",
       "      <td>14</td>\n",
       "      <td>R7</td>\n",
       "      <td>NaN</td>\n",
       "      <td>NaN</td>\n",
       "      <td>NaN</td>\n",
       "      <td>NaN</td>\n",
       "      <td>2954</td>\n",
       "      <td>3159</td>\n",
       "    </tr>\n",
       "    <tr>\n",
       "      <th>2</th>\n",
       "      <td>9a5094b2563a1ef3ff50dc5c7ff71345</td>\n",
       "      <td>Cardiomegaly</td>\n",
       "      <td>3</td>\n",
       "      <td>R10</td>\n",
       "      <td>691.0</td>\n",
       "      <td>1375.0</td>\n",
       "      <td>1653.0</td>\n",
       "      <td>1831.0</td>\n",
       "      <td>2080</td>\n",
       "      <td>2336</td>\n",
       "    </tr>\n",
       "    <tr>\n",
       "      <th>3</th>\n",
       "      <td>051132a778e61a86eb147c7c6f564dfe</td>\n",
       "      <td>Aortic enlargement</td>\n",
       "      <td>0</td>\n",
       "      <td>R10</td>\n",
       "      <td>1264.0</td>\n",
       "      <td>743.0</td>\n",
       "      <td>1611.0</td>\n",
       "      <td>1019.0</td>\n",
       "      <td>2304</td>\n",
       "      <td>2880</td>\n",
       "    </tr>\n",
       "    <tr>\n",
       "      <th>4</th>\n",
       "      <td>063319de25ce7edb9b1c6b8881290140</td>\n",
       "      <td>No finding</td>\n",
       "      <td>14</td>\n",
       "      <td>R10</td>\n",
       "      <td>NaN</td>\n",
       "      <td>NaN</td>\n",
       "      <td>NaN</td>\n",
       "      <td>NaN</td>\n",
       "      <td>2540</td>\n",
       "      <td>3072</td>\n",
       "    </tr>\n",
       "  </tbody>\n",
       "</table>\n",
       "</div>"
      ],
      "text/plain": [
       "                           image_id          class_name  class_id rad_id  \\\n",
       "0  50a418190bc3fb1ef1633bf9678929b3          No finding        14    R11   \n",
       "1  21a10246a5ec7af151081d0cd6d65dc9          No finding        14     R7   \n",
       "2  9a5094b2563a1ef3ff50dc5c7ff71345        Cardiomegaly         3    R10   \n",
       "3  051132a778e61a86eb147c7c6f564dfe  Aortic enlargement         0    R10   \n",
       "4  063319de25ce7edb9b1c6b8881290140          No finding        14    R10   \n",
       "\n",
       "    x_min   y_min   x_max   y_max  width  height  \n",
       "0     NaN     NaN     NaN     NaN   2332    2580  \n",
       "1     NaN     NaN     NaN     NaN   2954    3159  \n",
       "2   691.0  1375.0  1653.0  1831.0   2080    2336  \n",
       "3  1264.0   743.0  1611.0  1019.0   2304    2880  \n",
       "4     NaN     NaN     NaN     NaN   2540    3072  "
      ]
     },
     "execution_count": 14,
     "metadata": {},
     "output_type": "execute_result"
    }
   ],
   "source": [
    "df.head()"
   ]
  },
  {
   "cell_type": "code",
   "execution_count": 15,
   "id": "7bc36922-03b1-4c77-9196-4d43afd0d9fb",
   "metadata": {},
   "outputs": [
    {
     "name": "stdout",
     "output_type": "stream",
     "text": [
      "class name: Aortic enlargement\n",
      "ID: 14\n",
      "7162\n",
      "class name: Atelectasis\n",
      "ID: 14\n",
      "279\n",
      "class name: Calcification\n",
      "ID: 3\n",
      "960\n",
      "class name: Cardiomegaly\n",
      "ID: 0\n",
      "5427\n",
      "class name: Consolidation\n",
      "ID: 14\n",
      "556\n",
      "class name: ILD\n",
      "ID: 11\n",
      "1000\n",
      "class name: Infiltration\n",
      "ID: 5\n",
      "1247\n",
      "class name: Lung Opacity\n",
      "ID: 8\n",
      "2483\n",
      "class name: No finding\n",
      "ID: 0\n",
      "31818\n",
      "class name: Nodule/Mass\n",
      "ID: 13\n",
      "2580\n",
      "class name: Other lesion\n",
      "ID: 7\n",
      "2203\n",
      "class name: Pleural effusion\n",
      "ID: 13\n",
      "2476\n",
      "class name: Pleural thickening\n",
      "ID: 14\n",
      "4842\n",
      "class name: Pneumothorax\n",
      "ID: 14\n",
      "226\n",
      "class name: Pulmonary fibrosis\n",
      "ID: 0\n",
      "4655\n"
     ]
    }
   ],
   "source": [
    "for i, finding in enumerate(np.unique(df.class_name)):\n",
    "    print(f'class name: {finding}')\n",
    "    print(f'ID: {df.class_id[i]}')\n",
    "    print(sum(df.class_name == finding))"
   ]
  },
  {
   "cell_type": "markdown",
   "id": "1afa9ea4-e2d9-40ff-9196-ab533f9e27f2",
   "metadata": {},
   "source": [
    "Creo la clase neumonía"
   ]
  },
  {
   "cell_type": "code",
   "execution_count": 16,
   "id": "c9cfeaa2-03f5-4de3-a680-e711fbb5c024",
   "metadata": {},
   "outputs": [
    {
     "name": "stderr",
     "output_type": "stream",
     "text": [
      "/tmp/ipykernel_52482/228366499.py:4: SettingWithCopyWarning: \n",
      "A value is trying to be set on a copy of a slice from a DataFrame\n",
      "\n",
      "See the caveats in the documentation: https://pandas.pydata.org/pandas-docs/stable/user_guide/indexing.html#returning-a-view-versus-a-copy\n",
      "  df['Neumonia'][index] = 1\n"
     ]
    }
   ],
   "source": [
    "values = ['Consolidation']\n",
    "df['Neumonia'] = 0\n",
    "index = [i for i, clase in enumerate(df.class_name) if clase in values]\n",
    "df['Neumonia'][index] = 1"
   ]
  },
  {
   "cell_type": "markdown",
   "id": "18bb4a59-f382-4392-9f62-38937539aff8",
   "metadata": {},
   "source": [
    "Divido el dataset en dos y reduzco el de no neumonía"
   ]
  },
  {
   "cell_type": "code",
   "execution_count": 17,
   "id": "c00bb486-24bf-4954-9a86-97ef95f705ed",
   "metadata": {},
   "outputs": [],
   "source": [
    "df_neumo = df[df.Neumonia == 1].reset_index(drop=True)\n",
    "df_no_neumo = df[df.Neumonia == 0].reset_index(drop=True)"
   ]
  },
  {
   "cell_type": "markdown",
   "id": "ba7deaec-0fc0-4489-b85c-5bf7290757c1",
   "metadata": {},
   "source": [
    "Para reducir elijo un numero de valores aleatorios que serán los índices"
   ]
  },
  {
   "cell_type": "code",
   "execution_count": 20,
   "id": "866da8d7-e852-4ee4-8e39-41e3bd50f908",
   "metadata": {},
   "outputs": [
    {
     "data": {
      "text/plain": [
       "(556, 11)"
      ]
     },
     "execution_count": 20,
     "metadata": {},
     "output_type": "execute_result"
    }
   ],
   "source": [
    "selection = np.random.randint(0, len(df_no_neumo), len(df_neumo))\n",
    "df_no_neumo = df_no_neumo.iloc[selection,:]"
   ]
  },
  {
   "cell_type": "markdown",
   "id": "6c1afdbb-d46a-4111-965c-def384d33f59",
   "metadata": {},
   "source": [
    "Genero el nuevo dataframe juntando"
   ]
  },
  {
   "cell_type": "code",
   "execution_count": 22,
   "id": "8e96a3bf-73d7-4944-894f-2fa3e47c5789",
   "metadata": {},
   "outputs": [],
   "source": [
    "df = pd.concat([df_neumo, df_no_neumo]).reset_index(drop=True)"
   ]
  },
  {
   "cell_type": "markdown",
   "id": "35aa17da-dcfb-43a2-ae86-25c4e99493d4",
   "metadata": {},
   "source": [
    "Reordeno aleatoriamente"
   ]
  },
  {
   "cell_type": "code",
   "execution_count": 23,
   "id": "fb877298-bd54-4984-b806-dfec831beba9",
   "metadata": {},
   "outputs": [],
   "source": [
    "df = df.sample(frac=1)"
   ]
  },
  {
   "cell_type": "markdown",
   "id": "c3f28223-6d19-42f8-91b7-1bb3a2d98191",
   "metadata": {},
   "source": [
    "## Imagenes"
   ]
  },
  {
   "cell_type": "code",
   "execution_count": 24,
   "id": "674f67ae-8ea4-4a9b-9a0a-47ec28c28231",
   "metadata": {},
   "outputs": [],
   "source": [
    "import SimpleITK as sitk"
   ]
  },
  {
   "cell_type": "code",
   "execution_count": 25,
   "id": "8aacb3e4-e873-489d-9dac-b7707fd4845b",
   "metadata": {},
   "outputs": [],
   "source": [
    "def downsample(img):\n",
    "    array = sitk.GetArrayFromImage(img)\n",
    "    ds_array = array/255\n",
    "    r = np.stack((ds_array,)*1, axis = -1)\n",
    "    return r"
   ]
  },
  {
   "cell_type": "code",
   "execution_count": 26,
   "id": "2275c6d9-6dd1-48c9-b2cc-0508d4a3c2ad",
   "metadata": {},
   "outputs": [],
   "source": [
    "def charge_img(name):\n",
    "    img = sitk.ReadImage(os.path.join(path, 'train', name + '.png'))\n",
    "    img = downsample(img)\n",
    "    return(img)"
   ]
  },
  {
   "cell_type": "code",
   "execution_count": 28,
   "id": "b0074b50-fe33-47bf-82d3-b8d9153a6a32",
   "metadata": {},
   "outputs": [],
   "source": [
    "tensor = np.zeros((1112, 512, 512, 1))\n",
    "for i in range(1112):\n",
    "    tensor[i,...] = charge_img(df.image_id[i])"
   ]
  },
  {
   "cell_type": "markdown",
   "id": "2963f95b-3988-4ce9-ac9a-eb690db88474",
   "metadata": {},
   "source": [
    "## X e Y"
   ]
  },
  {
   "cell_type": "code",
   "execution_count": 27,
   "id": "ef920577-9355-493c-a3fb-a384b0cc7efc",
   "metadata": {},
   "outputs": [],
   "source": [
    "Y = np.array(df['Neumonia'])\n",
    "X = tensor"
   ]
  },
  {
   "cell_type": "code",
   "execution_count": 29,
   "id": "f492bd6e-e8da-44c8-b6dd-d548d8dc94f9",
   "metadata": {},
   "outputs": [],
   "source": [
    "X_train, X_test, Y_train, Y_test = model_selection.train_test_split(X, Y, test_size=0.2, \n",
    "                                                                    random_state=42, shuffle=True, stratify=Y )"
   ]
  },
  {
   "cell_type": "markdown",
   "id": "9448ab8a-f4d6-4d74-a271-c4356c543fb3",
   "metadata": {},
   "source": [
    "## Compilación y entrenamiento"
   ]
  },
  {
   "cell_type": "code",
   "execution_count": 25,
   "id": "8fd18714-3bcc-4969-a697-09deedd59188",
   "metadata": {},
   "outputs": [],
   "source": [
    "NUMBER_OF_TRAINING_IMAGES = len(df)\n",
    "batch_size = 100"
   ]
  },
  {
   "cell_type": "code",
   "execution_count": 11,
   "id": "57207341-d887-4527-b06f-6ffad08f77c9",
   "metadata": {},
   "outputs": [
    {
     "name": "stderr",
     "output_type": "stream",
     "text": [
      "/home/maryskal/anaconda3/envs/acil_init/lib/python3.10/site-packages/keras/optimizers/optimizer_v2/rmsprop.py:135: UserWarning: The `lr` argument is deprecated, use `learning_rate` instead.\n",
      "  super(RMSprop, self).__init__(name, **kwargs)\n"
     ]
    }
   ],
   "source": [
    "opt = optimizers.RMSprop(lr=0.001)\n",
    "loss = 'categorical_crossentropy'\n",
    "model.compile(optimizer = opt , loss = loss , metrics = ['accuracy'])"
   ]
  },
  {
   "cell_type": "code",
   "execution_count": 32,
   "id": "cfbc03e0-a180-4785-a984-151e18c94f49",
   "metadata": {},
   "outputs": [
    {
     "ename": "ValueError",
     "evalue": "Failed to find data adapter that can handle input: (<class 'list'> containing values of types {\"<class 'numpy.ndarray'>\"}), (<class 'list'> containing values of types {\"<class 'int'>\"})",
     "output_type": "error",
     "traceback": [
      "\u001b[0;31m---------------------------------------------------------------------------\u001b[0m",
      "\u001b[0;31mValueError\u001b[0m                                Traceback (most recent call last)",
      "Input \u001b[0;32mIn [32]\u001b[0m, in \u001b[0;36m<cell line: 1>\u001b[0;34m()\u001b[0m\n\u001b[0;32m----> 1\u001b[0m history \u001b[38;5;241m=\u001b[39m \u001b[43mmodel\u001b[49m\u001b[38;5;241;43m.\u001b[39;49m\u001b[43mfit\u001b[49m\u001b[43m(\u001b[49m\u001b[43mX_train\u001b[49m\u001b[43m,\u001b[49m\u001b[43mY_train\u001b[49m\u001b[43m,\u001b[49m\u001b[43m \u001b[49m\u001b[43mbatch_size\u001b[49m\u001b[43m \u001b[49m\u001b[38;5;241;43m=\u001b[39;49m\u001b[43m \u001b[49m\u001b[38;5;241;43m50\u001b[39;49m\u001b[43m,\u001b[49m\u001b[43m \u001b[49m\u001b[43mepochs\u001b[49m\u001b[43m \u001b[49m\u001b[38;5;241;43m=\u001b[39;49m\u001b[43m \u001b[49m\u001b[38;5;241;43m10\u001b[39;49m\u001b[43m \u001b[49m\u001b[43m,\u001b[49m\u001b[43m \u001b[49m\n\u001b[1;32m      2\u001b[0m \u001b[43m                    \u001b[49m\u001b[43mvalidation_data\u001b[49m\u001b[43m \u001b[49m\u001b[38;5;241;43m=\u001b[39;49m\u001b[43m \u001b[49m\u001b[43m(\u001b[49m\u001b[43mX_test\u001b[49m\u001b[43m,\u001b[49m\u001b[43m \u001b[49m\u001b[43mY_test\u001b[49m\u001b[43m)\u001b[49m\u001b[43m)\u001b[49m\n",
      "File \u001b[0;32m~/anaconda3/envs/acil_init/lib/python3.10/site-packages/keras/utils/traceback_utils.py:67\u001b[0m, in \u001b[0;36mfilter_traceback.<locals>.error_handler\u001b[0;34m(*args, **kwargs)\u001b[0m\n\u001b[1;32m     65\u001b[0m \u001b[38;5;28;01mexcept\u001b[39;00m \u001b[38;5;167;01mException\u001b[39;00m \u001b[38;5;28;01mas\u001b[39;00m e:  \u001b[38;5;66;03m# pylint: disable=broad-except\u001b[39;00m\n\u001b[1;32m     66\u001b[0m   filtered_tb \u001b[38;5;241m=\u001b[39m _process_traceback_frames(e\u001b[38;5;241m.\u001b[39m__traceback__)\n\u001b[0;32m---> 67\u001b[0m   \u001b[38;5;28;01mraise\u001b[39;00m e\u001b[38;5;241m.\u001b[39mwith_traceback(filtered_tb) \u001b[38;5;28;01mfrom\u001b[39;00m \u001b[38;5;28mNone\u001b[39m\n\u001b[1;32m     68\u001b[0m \u001b[38;5;28;01mfinally\u001b[39;00m:\n\u001b[1;32m     69\u001b[0m   \u001b[38;5;28;01mdel\u001b[39;00m filtered_tb\n",
      "File \u001b[0;32m~/anaconda3/envs/acil_init/lib/python3.10/site-packages/keras/engine/data_adapter.py:985\u001b[0m, in \u001b[0;36mselect_data_adapter\u001b[0;34m(x, y)\u001b[0m\n\u001b[1;32m    982\u001b[0m adapter_cls \u001b[38;5;241m=\u001b[39m [\u001b[38;5;28mcls\u001b[39m \u001b[38;5;28;01mfor\u001b[39;00m \u001b[38;5;28mcls\u001b[39m \u001b[38;5;129;01min\u001b[39;00m ALL_ADAPTER_CLS \u001b[38;5;28;01mif\u001b[39;00m \u001b[38;5;28mcls\u001b[39m\u001b[38;5;241m.\u001b[39mcan_handle(x, y)]\n\u001b[1;32m    983\u001b[0m \u001b[38;5;28;01mif\u001b[39;00m \u001b[38;5;129;01mnot\u001b[39;00m adapter_cls:\n\u001b[1;32m    984\u001b[0m   \u001b[38;5;66;03m# TODO(scottzhu): This should be a less implementation-specific error.\u001b[39;00m\n\u001b[0;32m--> 985\u001b[0m   \u001b[38;5;28;01mraise\u001b[39;00m \u001b[38;5;167;01mValueError\u001b[39;00m(\n\u001b[1;32m    986\u001b[0m       \u001b[38;5;124m\"\u001b[39m\u001b[38;5;124mFailed to find data adapter that can handle \u001b[39m\u001b[38;5;124m\"\u001b[39m\n\u001b[1;32m    987\u001b[0m       \u001b[38;5;124m\"\u001b[39m\u001b[38;5;124minput: \u001b[39m\u001b[38;5;132;01m{}\u001b[39;00m\u001b[38;5;124m, \u001b[39m\u001b[38;5;132;01m{}\u001b[39;00m\u001b[38;5;124m\"\u001b[39m\u001b[38;5;241m.\u001b[39mformat(\n\u001b[1;32m    988\u001b[0m           _type_name(x), _type_name(y)))\n\u001b[1;32m    989\u001b[0m \u001b[38;5;28;01melif\u001b[39;00m \u001b[38;5;28mlen\u001b[39m(adapter_cls) \u001b[38;5;241m>\u001b[39m \u001b[38;5;241m1\u001b[39m:\n\u001b[1;32m    990\u001b[0m   \u001b[38;5;28;01mraise\u001b[39;00m \u001b[38;5;167;01mRuntimeError\u001b[39;00m(\n\u001b[1;32m    991\u001b[0m       \u001b[38;5;124m\"\u001b[39m\u001b[38;5;124mData adapters should be mutually exclusive for \u001b[39m\u001b[38;5;124m\"\u001b[39m\n\u001b[1;32m    992\u001b[0m       \u001b[38;5;124m\"\u001b[39m\u001b[38;5;124mhandling inputs. Found multiple adapters \u001b[39m\u001b[38;5;132;01m{}\u001b[39;00m\u001b[38;5;124m to handle \u001b[39m\u001b[38;5;124m\"\u001b[39m\n\u001b[1;32m    993\u001b[0m       \u001b[38;5;124m\"\u001b[39m\u001b[38;5;124minput: \u001b[39m\u001b[38;5;132;01m{}\u001b[39;00m\u001b[38;5;124m, \u001b[39m\u001b[38;5;132;01m{}\u001b[39;00m\u001b[38;5;124m\"\u001b[39m\u001b[38;5;241m.\u001b[39mformat(\n\u001b[1;32m    994\u001b[0m           adapter_cls, _type_name(x), _type_name(y)))\n",
      "\u001b[0;31mValueError\u001b[0m: Failed to find data adapter that can handle input: (<class 'list'> containing values of types {\"<class 'numpy.ndarray'>\"}), (<class 'list'> containing values of types {\"<class 'int'>\"})"
     ]
    }
   ],
   "source": [
    "history = model.fit(X_train,Y_train, batch_size = 50, epochs = 10 , \n",
    "                    validation_data = (X_test, Y_test))"
   ]
  }
 ],
 "metadata": {
  "kernelspec": {
   "display_name": "Python 3 (ipykernel)",
   "language": "python",
   "name": "python3"
  },
  "language_info": {
   "codemirror_mode": {
    "name": "ipython",
    "version": 3
   },
   "file_extension": ".py",
   "mimetype": "text/x-python",
   "name": "python",
   "nbconvert_exporter": "python",
   "pygments_lexer": "ipython3",
   "version": "3.10.4"
  }
 },
 "nbformat": 4,
 "nbformat_minor": 5
}
