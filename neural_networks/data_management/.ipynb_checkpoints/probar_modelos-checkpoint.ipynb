{
 "cells": [
  {
   "cell_type": "code",
   "execution_count": 1,
   "id": "cda541f0-30af-43b6-9934-6cf79c13b3a8",
   "metadata": {},
   "outputs": [],
   "source": [
    "import os\n",
    "import numpy as np\n",
    "import cv2\n",
    "import tensorflow.keras as keras\n",
    "import matplotlib.pyplot as plt\n",
    "import re\n",
    "import pandas as pd\n",
    "from skimage import measure\n",
    "from scipy import ndimage"
   ]
  },
  {
   "cell_type": "code",
   "execution_count": 2,
   "id": "588be5b2-8d2f-4354-8279-c8e41d413a4c",
   "metadata": {},
   "outputs": [],
   "source": [
    "os.environ['CUDA_VISIBLE_DEVICES'] = '3'"
   ]
  },
  {
   "cell_type": "code",
   "execution_count": 3,
   "id": "cac5a622-3da5-444a-8fc9-748ae6f7e5da",
   "metadata": {},
   "outputs": [],
   "source": [
    "path = '/home/mr1142/Documents/Data/NIH/images_005'\n",
    "val_names = os.listdir('/home/mr1142/Documents/Data/NIH/images_005/images')"
   ]
  },
  {
   "cell_type": "markdown",
   "id": "19308513-7e15-4ecc-a17b-cef4a6482fb6",
   "metadata": {},
   "source": [
    "# Set de validación"
   ]
  },
  {
   "cell_type": "code",
   "execution_count": 5,
   "id": "fc943fd5-b84b-4653-a610-5d4113b2a7df",
   "metadata": {},
   "outputs": [],
   "source": [
    "# path = 'D:/Users/maryskal/Documents/SITK/CXR8/images/images_001'\n",
    "path = '/home/mr1142/Documents/Data/patologic'"
   ]
  },
  {
   "cell_type": "code",
   "execution_count": 6,
   "id": "7dbaf958-3672-4435-b89a-41df69d374b4",
   "metadata": {},
   "outputs": [],
   "source": [
    "masks_name = [f for f in os.listdir(os.path.join(path, 'mascara')) \n",
    "              if os.path.isfile(os.path.join(os.path.join(path, 'mascara'), f))]"
   ]
  },
  {
   "cell_type": "code",
   "execution_count": 7,
   "id": "f7eaaaf8-41cb-4fe4-a915-0639e5856a2b",
   "metadata": {},
   "outputs": [],
   "source": [
    "path = '/home/mr1142/Documents/Data/rx_diseases/enfermo'\n",
    "masks_name = [f for f in os.listdir(os.path.join(path)) \n",
    "              if os.path.isfile(os.path.join(os.path.join(path), f))]"
   ]
  },
  {
   "cell_type": "code",
   "execution_count": 8,
   "id": "0cbe2647-8790-44be-8eb7-73054202c0cb",
   "metadata": {},
   "outputs": [
    {
     "data": {
      "text/plain": [
       "436"
      ]
     },
     "execution_count": 8,
     "metadata": {},
     "output_type": "execute_result"
    }
   ],
   "source": [
    "len(masks_name)"
   ]
  },
  {
   "cell_type": "code",
   "execution_count": 4,
   "id": "b613522a-2576-4ea3-b9f7-bf7a6f9efbd1",
   "metadata": {},
   "outputs": [],
   "source": [
    "pixels = 256"
   ]
  },
  {
   "cell_type": "code",
   "execution_count": 5,
   "id": "50957864-cff6-482c-b14c-b859e05a972e",
   "metadata": {},
   "outputs": [],
   "source": [
    "def read_img(path, folder, img):\n",
    "    img = cv2.imread(os.path.join(path, folder, img))\n",
    "    try:\n",
    "        img = cv2.cvtColor(img, cv2.COLOR_BGR2GRAY)\n",
    "    except:\n",
    "        print('', end='')\n",
    "    img = cv2.resize(img, (pixels, pixels))\n",
    "    img = np.expand_dims(img, axis=-1)\n",
    "    return img"
   ]
  },
  {
   "cell_type": "code",
   "execution_count": 6,
   "id": "54c2c494-5172-48f3-890f-9fac445ccdc2",
   "metadata": {},
   "outputs": [],
   "source": [
    "def normalize(img):\n",
    "    return (img - np.mean(img))/ np.std(img)\n",
    "    # return img/np.max(img)"
   ]
  },
  {
   "cell_type": "code",
   "execution_count": 7,
   "id": "cf4301ec-0094-4174-98ed-8661a9d1a413",
   "metadata": {},
   "outputs": [],
   "source": [
    "def binarize(img):\n",
    "    img[img>0] = 1\n",
    "    return img"
   ]
  },
  {
   "cell_type": "markdown",
   "id": "2e145d20-9b43-4077-b911-15c2dc29de12",
   "metadata": {},
   "source": [
    "# Preprocesado de imagen de entrada al modelo"
   ]
  },
  {
   "cell_type": "code",
   "execution_count": 8,
   "id": "8ca11269-b1cb-43dc-ba83-8b348aaac507",
   "metadata": {},
   "outputs": [
    {
     "data": {
      "text/plain": [
       "['imagenes.h5',\n",
       " 'mask_1.h5',\n",
       " 'ueff_1.h5',\n",
       " 'ueff_2.h5',\n",
       " 'uloss_1.h5',\n",
       " 'uloss_2.h5',\n",
       " 'uloss_final_renacimiento_validation_6.h5',\n",
       " 'uloss_final_renacimiento_validation_8.h5',\n",
       " 'uloss_final_renacimiento_validation_8_fine_tuning.h5',\n",
       " 'uloss_renacimiento_validation_2.h5',\n",
       " 'uloss_renacimiento_validation_3.h5',\n",
       " 'uloss_renacimiento_validation_4.h5',\n",
       " 'uloss_validation_rotate_normalization_1.h5',\n",
       " 'uloss_validation_rotate_normalization_2.h5',\n",
       " 'uloss_validation_rotate_normalization_3.h5',\n",
       " 'unet3.h5',\n",
       " 'unet_1.h5',\n",
       " 'unet_2.h5',\n",
       " 'unet_3.h5',\n",
       " 'unet_final_renacimiento_validation_5.h5',\n",
       " 'unet_final_renacimiento_validation_6.h5',\n",
       " 'unet_final_renacimiento_validation_6.h5_fine_tuning.h5',\n",
       " 'unet_final_renacimiento_validation_7.h5',\n",
       " 'unet_final_renacimiento_validation_8.h5',\n",
       " 'unet_nuevos_validation_oldest_1.h5',\n",
       " 'unet_renacimiento_validation_1.h5',\n",
       " 'unet_renacimiento_validation_2.h5',\n",
       " 'unet_renacimiento_validation_3.h5',\n",
       " 'unet_renacimiento_validation_4.h5',\n",
       " 'unet_validation_rotate_normalization_1.h5',\n",
       " 'unet_validation_rotate_normalization_2.h5',\n",
       " 'unet_validation_rotate_normalization_3.h5',\n",
       " 'validation_results']"
      ]
     },
     "execution_count": 8,
     "metadata": {},
     "output_type": "execute_result"
    }
   ],
   "source": [
    "modelos = os.listdir('/home/mr1142/Documents/Data/models')\n",
    "modelos.sort()\n",
    "modelos"
   ]
  },
  {
   "cell_type": "code",
   "execution_count": 9,
   "id": "863c2e74-9ca5-4a39-b32f-b80dcd56bd7b",
   "metadata": {},
   "outputs": [],
   "source": [
    "from tensorflow.keras import backend as K\n",
    "\n",
    "def dice_coef(y_true, y_pred, smooth=100):        \n",
    "    y_true_f = K.flatten(y_true)\n",
    "    y_pred_f = K.flatten(y_pred)\n",
    "    intersection = K.sum(y_true_f * y_pred_f)\n",
    "    dice = (2. * intersection + smooth) / (K.sum(y_true_f) + K.sum(y_pred_f) + smooth)\n",
    "    return dice\n",
    "\n",
    "def dice_coef_loss(y_true, y_pred):\n",
    "    return 1 - dice_coef(y_true, y_pred)"
   ]
  },
  {
   "cell_type": "code",
   "execution_count": 10,
   "id": "561e07f4-372b-418e-9b5f-858040b091ae",
   "metadata": {},
   "outputs": [],
   "source": [
    "def loss_mask(y_true, y_pred):\n",
    "    y_pred = sub_mask(y_pred)\n",
    "    y_true = sub_mask(y_true)\n",
    "    return abs(y_true - y_pred)\n",
    "\n",
    "\n",
    "def MyLoss(y_true, y_pred):\n",
    "    # Loss 1\n",
    "    loss1 = ex.dice_coef_loss(y_true, y_pred)\n",
    "    # Loss 2\n",
    "    loss2 = loss_mask(y_true, y_pred)\n",
    "    loss = loss1 + 0.5*loss2\n",
    "    return loss"
   ]
  },
  {
   "cell_type": "code",
   "execution_count": 145,
   "id": "3cfd499f-60c5-40b9-9e44-77122e48e88a",
   "metadata": {},
   "outputs": [],
   "source": [
    "def quitar_trozos(mask):\n",
    "    mask = measure.label(mask)\n",
    "    # regions = regionprops(all_labels)\n",
    "    ntotal = {k: (k==mask).sum() for k in np.unique(mask) if k >0}\n",
    "    print(ntotal)\n",
    "    k = list(ntotal.keys())[np.argmax(list(ntotal.values()))]\n",
    "    print(k)\n",
    "    mask = k==mask\n",
    "    mask = ndimage.binary_fill_holes(mask,structure=np.ones((5,5,1)))\n",
    "    return mask"
   ]
  },
  {
   "cell_type": "code",
   "execution_count": 12,
   "id": "696d29f5-80bf-40fd-8672-1db83d8f8fbd",
   "metadata": {},
   "outputs": [],
   "source": [
    "def apply_mask(img, mask):\n",
    "    mask = quitar_trozos(mask > 0.5)\n",
    "    return img * mask"
   ]
  },
  {
   "cell_type": "markdown",
   "id": "f69f6d89-497e-488f-9ff1-3b42e3534d5d",
   "metadata": {
    "tags": []
   },
   "source": [
    "# 1 canal"
   ]
  },
  {
   "cell_type": "code",
   "execution_count": 13,
   "id": "f7aa3085-1e3b-4167-a412-c3e1110690cc",
   "metadata": {},
   "outputs": [],
   "source": [
    "unet = keras.models.load_model('/home/mr1142/Documents/Data/models/unet_final_renacimiento_validation_6.h5_fine_tuning.h5', \n",
    "                                     custom_objects={\"loss_mask\": loss_mask, \n",
    "                                                     \"dice_coef_loss\": dice_coef_loss,\n",
    "                                                     \"dice_coef\": dice_coef})"
   ]
  },
  {
   "cell_type": "markdown",
   "id": "b7b1cfce-1327-453f-ae1f-2d5b049eb6bc",
   "metadata": {},
   "source": [
    "# Custom loss mejorada"
   ]
  },
  {
   "cell_type": "code",
   "execution_count": 14,
   "id": "e1c3f01c-064e-45bc-ab29-17a72587e9b7",
   "metadata": {},
   "outputs": [],
   "source": [
    "uloss = keras.models.load_model('/home/mr1142/Documents/Data/models/unet_final_renacimiento_validation_6.h5', \n",
    "                                     custom_objects={\"MyLoss\": MyLoss, \n",
    "                                                     \"loss_mask\": loss_mask, \n",
    "                                                     \"dice_coef_loss\": dice_coef_loss,\n",
    "                                                     \"dice_coef\": dice_coef})"
   ]
  },
  {
   "cell_type": "markdown",
   "id": "0c46c525-db8c-45a1-b4ef-601140bd3d1f",
   "metadata": {},
   "source": [
    "# Comparación"
   ]
  },
  {
   "cell_type": "code",
   "execution_count": 28,
   "id": "6e1a57e0-e705-435b-8f97-3c30eef98aed",
   "metadata": {},
   "outputs": [],
   "source": [
    "import pandas as pd\n",
    "import re"
   ]
  },
  {
   "cell_type": "code",
   "execution_count": 29,
   "id": "f1518670-e540-450f-92ad-11e6ffb2778a",
   "metadata": {},
   "outputs": [],
   "source": [
    "df = pd.read_csv('/home/mr1142/Documents/Data/segmentation/splited/validation/validation_data.csv')"
   ]
  },
  {
   "cell_type": "code",
   "execution_count": 30,
   "id": "3951b77e-2be5-43dc-aa12-61f35e8d5017",
   "metadata": {},
   "outputs": [
    {
     "data": {
      "text/html": [
       "<div>\n",
       "<style scoped>\n",
       "    .dataframe tbody tr th:only-of-type {\n",
       "        vertical-align: middle;\n",
       "    }\n",
       "\n",
       "    .dataframe tbody tr th {\n",
       "        vertical-align: top;\n",
       "    }\n",
       "\n",
       "    .dataframe thead th {\n",
       "        text-align: right;\n",
       "    }\n",
       "</style>\n",
       "<table border=\"1\" class=\"dataframe\">\n",
       "  <thead>\n",
       "    <tr style=\"text-align: right;\">\n",
       "      <th></th>\n",
       "      <th>Unnamed: 0</th>\n",
       "      <th>Image Index</th>\n",
       "      <th>Finding Labels</th>\n",
       "      <th>Follow-up #</th>\n",
       "      <th>Patient ID</th>\n",
       "      <th>Patient Age</th>\n",
       "      <th>Patient Gender</th>\n",
       "      <th>View Position</th>\n",
       "      <th>OriginalImage[Width</th>\n",
       "      <th>Height]</th>\n",
       "      <th>OriginalImagePixelSpacing[x</th>\n",
       "      <th>y]</th>\n",
       "      <th>Unnamed: 11</th>\n",
       "    </tr>\n",
       "  </thead>\n",
       "  <tbody>\n",
       "    <tr>\n",
       "      <th>0</th>\n",
       "      <td>1279</td>\n",
       "      <td>00000324_002.png</td>\n",
       "      <td>No Finding</td>\n",
       "      <td>2</td>\n",
       "      <td>324</td>\n",
       "      <td>32</td>\n",
       "      <td>M</td>\n",
       "      <td>PA</td>\n",
       "      <td>2992</td>\n",
       "      <td>2991</td>\n",
       "      <td>0.143</td>\n",
       "      <td>0.143</td>\n",
       "      <td>NaN</td>\n",
       "    </tr>\n",
       "    <tr>\n",
       "      <th>1</th>\n",
       "      <td>1692</td>\n",
       "      <td>00000459_017.png</td>\n",
       "      <td>Nodule</td>\n",
       "      <td>17</td>\n",
       "      <td>459</td>\n",
       "      <td>57</td>\n",
       "      <td>F</td>\n",
       "      <td>AP</td>\n",
       "      <td>3056</td>\n",
       "      <td>2544</td>\n",
       "      <td>0.139</td>\n",
       "      <td>0.139</td>\n",
       "      <td>NaN</td>\n",
       "    </tr>\n",
       "    <tr>\n",
       "      <th>2</th>\n",
       "      <td>4197</td>\n",
       "      <td>00001143_003.png</td>\n",
       "      <td>No Finding</td>\n",
       "      <td>3</td>\n",
       "      <td>1143</td>\n",
       "      <td>57</td>\n",
       "      <td>F</td>\n",
       "      <td>PA</td>\n",
       "      <td>2992</td>\n",
       "      <td>2991</td>\n",
       "      <td>0.143</td>\n",
       "      <td>0.143</td>\n",
       "      <td>NaN</td>\n",
       "    </tr>\n",
       "    <tr>\n",
       "      <th>3</th>\n",
       "      <td>6990</td>\n",
       "      <td>00001851_001.png</td>\n",
       "      <td>No Finding</td>\n",
       "      <td>1</td>\n",
       "      <td>1851</td>\n",
       "      <td>49</td>\n",
       "      <td>M</td>\n",
       "      <td>PA</td>\n",
       "      <td>2500</td>\n",
       "      <td>2048</td>\n",
       "      <td>0.168</td>\n",
       "      <td>0.168</td>\n",
       "      <td>NaN</td>\n",
       "    </tr>\n",
       "    <tr>\n",
       "      <th>4</th>\n",
       "      <td>7637</td>\n",
       "      <td>00001996_011.png</td>\n",
       "      <td>Pneumothorax</td>\n",
       "      <td>11</td>\n",
       "      <td>1996</td>\n",
       "      <td>41</td>\n",
       "      <td>F</td>\n",
       "      <td>PA</td>\n",
       "      <td>2992</td>\n",
       "      <td>2991</td>\n",
       "      <td>0.143</td>\n",
       "      <td>0.143</td>\n",
       "      <td>NaN</td>\n",
       "    </tr>\n",
       "  </tbody>\n",
       "</table>\n",
       "</div>"
      ],
      "text/plain": [
       "   Unnamed: 0       Image Index Finding Labels  Follow-up #  Patient ID  \\\n",
       "0        1279  00000324_002.png     No Finding            2         324   \n",
       "1        1692  00000459_017.png         Nodule           17         459   \n",
       "2        4197  00001143_003.png     No Finding            3        1143   \n",
       "3        6990  00001851_001.png     No Finding            1        1851   \n",
       "4        7637  00001996_011.png   Pneumothorax           11        1996   \n",
       "\n",
       "   Patient Age Patient Gender View Position  OriginalImage[Width  Height]  \\\n",
       "0           32              M            PA                 2992     2991   \n",
       "1           57              F            AP                 3056     2544   \n",
       "2           57              F            PA                 2992     2991   \n",
       "3           49              M            PA                 2500     2048   \n",
       "4           41              F            PA                 2992     2991   \n",
       "\n",
       "   OriginalImagePixelSpacing[x     y]  Unnamed: 11  \n",
       "0                        0.143  0.143          NaN  \n",
       "1                        0.139  0.139          NaN  \n",
       "2                        0.143  0.143          NaN  \n",
       "3                        0.168  0.168          NaN  \n",
       "4                        0.143  0.143          NaN  "
      ]
     },
     "execution_count": 30,
     "metadata": {},
     "output_type": "execute_result"
    }
   ],
   "source": [
    "df.head()"
   ]
  },
  {
   "cell_type": "code",
   "execution_count": 31,
   "id": "2bb163d0-e6f1-4295-b7d0-bdc3b60e398d",
   "metadata": {},
   "outputs": [
    {
     "data": {
      "text/plain": [
       "['Atelectasis',\n",
       " 'Cardiomegaly',\n",
       " 'Consolidation',\n",
       " 'Edema',\n",
       " 'Effusion',\n",
       " 'Emphysema',\n",
       " 'Infiltration',\n",
       " 'Mass',\n",
       " 'No Finding',\n",
       " 'Nodule',\n",
       " 'Pleural_Thickening',\n",
       " 'Pneumonia',\n",
       " 'Pneumothorax']"
      ]
     },
     "execution_count": 31,
     "metadata": {},
     "output_type": "execute_result"
    }
   ],
   "source": [
    "labels = [re.split('[|]', df['Finding Labels'][i]) for i in df.index]\n",
    "labels = [x for xs in labels for x in xs]\n",
    "labels = list(np.unique(labels))\n",
    "labels"
   ]
  },
  {
   "cell_type": "code",
   "execution_count": 32,
   "id": "b00cdbeb-f569-4910-bd6b-05f72110413a",
   "metadata": {},
   "outputs": [],
   "source": [
    "label = 'Atelectasis'"
   ]
  },
  {
   "cell_type": "code",
   "execution_count": 33,
   "id": "0b0522d5-05a2-4e24-b2a4-586238f0bbf9",
   "metadata": {},
   "outputs": [],
   "source": [
    "index = [i for i in df.index if bool(re.search(label, df['Finding Labels'][i]))]"
   ]
  },
  {
   "cell_type": "code",
   "execution_count": 34,
   "id": "0c0b287a-5e39-4a0a-ba2b-3c1f1c5aa930",
   "metadata": {},
   "outputs": [
    {
     "data": {
      "text/plain": [
       "10"
      ]
     },
     "execution_count": 34,
     "metadata": {},
     "output_type": "execute_result"
    }
   ],
   "source": [
    "len(index)"
   ]
  },
  {
   "cell_type": "code",
   "execution_count": 15,
   "id": "573b7dde-6ad1-49eb-900e-c47bcffacf1b",
   "metadata": {},
   "outputs": [
    {
     "ename": "NameError",
     "evalue": "name 'df' is not defined",
     "output_type": "error",
     "traceback": [
      "\u001b[0;31m---------------------------------------------------------------------------\u001b[0m",
      "\u001b[0;31mNameError\u001b[0m                                 Traceback (most recent call last)",
      "\u001b[0;32m<ipython-input-15-9a49b5986f95>\u001b[0m in \u001b[0;36m<module>\u001b[0;34m\u001b[0m\n\u001b[0;32m----> 1\u001b[0;31m \u001b[0mmasks_name\u001b[0m \u001b[0;34m=\u001b[0m \u001b[0mlist\u001b[0m\u001b[0;34m(\u001b[0m\u001b[0mdf\u001b[0m\u001b[0;34m[\u001b[0m\u001b[0;34m'Image Index'\u001b[0m\u001b[0;34m]\u001b[0m\u001b[0;34m[\u001b[0m\u001b[0mindex\u001b[0m\u001b[0;34m]\u001b[0m\u001b[0;34m)\u001b[0m\u001b[0;34m\u001b[0m\u001b[0;34m\u001b[0m\u001b[0m\n\u001b[0m",
      "\u001b[0;31mNameError\u001b[0m: name 'df' is not defined"
     ]
    }
   ],
   "source": [
    "masks_name = list(df['Image Index'][index])"
   ]
  },
  {
   "cell_type": "code",
   "execution_count": 16,
   "id": "a6885cee-15d6-49c1-9cf5-fd2f26591c04",
   "metadata": {},
   "outputs": [],
   "source": [
    "# path = 'D:/Users/maryskal/Documents/SITK/CXR8/images/images_001'\n",
    "path = '/home/mr1142/Documents/Data/rx_diseases/enfermo'"
   ]
  },
  {
   "cell_type": "code",
   "execution_count": 17,
   "id": "641395ab-cbf4-4ec0-893c-4c931062186a",
   "metadata": {},
   "outputs": [],
   "source": [
    "masks_name = [f for f in os.listdir(os.path.join(path, '')) \n",
    "              if os.path.isfile(os.path.join(os.path.join(path, ''), f))]"
   ]
  },
  {
   "cell_type": "code",
   "execution_count": 143,
   "id": "9095d1f5-2de1-4ed1-b34e-d1078bdebe42",
   "metadata": {},
   "outputs": [
    {
     "name": "stdout",
     "output_type": "stream",
     "text": [
      "{1: 27216, 2: 1}\n",
      "1\n"
     ]
    }
   ],
   "source": [
    "a = ndimage.binary_fill_holes(quitar_trozos(net_mask>0.5), structure=np.ones((5,5,1)))"
   ]
  },
  {
   "cell_type": "code",
   "execution_count": 144,
   "id": "c5b29b2d-3a28-4398-86ec-3083ccec0576",
   "metadata": {},
   "outputs": [
    {
     "data": {
      "text/plain": [
       "<matplotlib.image.AxesImage at 0x7fbe08242630>"
      ]
     },
     "execution_count": 144,
     "metadata": {},
     "output_type": "execute_result"
    },
    {
     "data": {
      "image/png": "[encoded data removed]",
      "text/plain": [
       "<Figure size 432x288 with 1 Axes>"
      ]
     },
     "metadata": {
      "needs_background": "light"
     },
     "output_type": "display_data"
    }
   ],
   "source": [
    "plt.imshow(a)"
   ]
  },
  {
   "cell_type": "code",
   "execution_count": 28,
   "id": "ab5ab711-e147-4336-8395-390c7c3bd8c4",
   "metadata": {},
   "outputs": [],
   "source": [
    "r = 0"
   ]
  },
  {
   "cell_type": "code",
   "execution_count": 29,
   "id": "cd08e2e1-d251-400e-b109-0cc0e83dbb2d",
   "metadata": {},
   "outputs": [],
   "source": [
    "un = 0\n",
    "ul = 0"
   ]
  },
  {
   "cell_type": "code",
   "execution_count": 203,
   "id": "b5bbe4dc-e933-4f57-9b4f-52317935b166",
   "metadata": {},
   "outputs": [
    {
     "name": "stdout",
     "output_type": "stream",
     "text": [
      "{1: 25276}\n",
      "1\n",
      "{1: 25834}\n",
      "1\n"
     ]
    },
    {
     "data": {
      "image/png": "[encoded data removed]",
      "text/plain": [
       "<Figure size 1440x1440 with 3 Axes>"
      ]
     },
     "metadata": {
      "needs_background": "light"
     },
     "output_type": "display_data"
    }
   ],
   "source": [
    "# r = np.random.randint(0, len(masks_name))\n",
    "img = normalize(read_img(path, '', masks_name[r]))\n",
    "net_mask = unet.predict(img[np.newaxis,...])[0,...]\n",
    "loss_mask = uloss.predict(img[np.newaxis,...])[0,...]\n",
    "\n",
    "plt.figure(figsize=(20, 20))\n",
    "plt.subplot(1,3,1)\n",
    "plt.imshow(img, cmap = 'gray')\n",
    "plt.subplot(1,3,2)\n",
    "plt.imshow(apply_mask(img, net_mask), cmap = 'gray')\n",
    "# plt.imshow(apply_mask(img, loss_mask), cmap = 'gray')\n",
    "plt.subplot(1,3,3)\n",
    "plt.imshow(apply_mask(img, loss_mask), cmap = 'gray')\n",
    "# plt.imshow(apply_mask(img, net_mask), cmap = 'gray')\n",
    "plt.show()\n",
    "r += 1"
   ]
  },
  {
   "cell_type": "code",
   "execution_count": 320,
   "id": "1b6e993b-74cd-422b-9b62-65562845563a",
   "metadata": {},
   "outputs": [
    {
     "data": {
      "text/plain": [
       "15"
      ]
     },
     "execution_count": 320,
     "metadata": {},
     "output_type": "execute_result"
    }
   ],
   "source": [
    "r"
   ]
  },
  {
   "cell_type": "code",
   "execution_count": 757,
   "id": "7f1d8f89-b3be-4a40-96c3-161bcf2047ed",
   "metadata": {},
   "outputs": [
    {
     "data": {
      "text/plain": [
       "22"
      ]
     },
     "execution_count": 757,
     "metadata": {},
     "output_type": "execute_result"
    }
   ],
   "source": [
    "ul += 1\n",
    "ul"
   ]
  },
  {
   "cell_type": "code",
   "execution_count": 763,
   "id": "bc3eb682-acc6-4db1-879d-0df96a173f61",
   "metadata": {},
   "outputs": [
    {
     "data": {
      "text/plain": [
       "40"
      ]
     },
     "execution_count": 763,
     "metadata": {},
     "output_type": "execute_result"
    }
   ],
   "source": [
    "un += 1\n",
    "un"
   ]
  },
  {
   "cell_type": "markdown",
   "id": "208b0da9-3efd-4612-9bf7-299ba15f1975",
   "metadata": {},
   "source": [
    "# Ver los agujeros"
   ]
  },
  {
   "cell_type": "code",
   "execution_count": 5,
   "id": "21869384-1bd9-4015-a057-9676c199ad9c",
   "metadata": {},
   "outputs": [],
   "source": [
    "datos = {}"
   ]
  },
  {
   "cell_type": "code",
   "execution_count": 6,
   "id": "fd61d530-f708-416b-a724-bf8c5494f782",
   "metadata": {},
   "outputs": [],
   "source": [
    "path = '/home/mr1142/Documents/Data/vinbigdata/test'\n",
    "images = [f for f in os.listdir(path) \n",
    "              if os.path.isfile(os.path.join(path, f))]"
   ]
  },
  {
   "cell_type": "code",
   "execution_count": 7,
   "id": "b2b3e2a9-18f6-4a41-9f0a-d0145c1a5506",
   "metadata": {},
   "outputs": [
    {
     "data": {
      "text/plain": [
       "3000"
      ]
     },
     "execution_count": 7,
     "metadata": {},
     "output_type": "execute_result"
    }
   ],
   "source": [
    "len(images)"
   ]
  },
  {
   "cell_type": "code",
   "execution_count": 9,
   "id": "a6e579b9-c53f-47b2-8d6e-36fd5c2e30e4",
   "metadata": {},
   "outputs": [],
   "source": [
    "r = np.random.randint(0,len(images), 500)\n",
    "images = [images[i] for i in r]"
   ]
  },
  {
   "cell_type": "code",
   "execution_count": 10,
   "id": "1d748f06-5759-4cc0-961e-5f79b2883951",
   "metadata": {},
   "outputs": [
    {
     "data": {
      "text/plain": [
       "500"
      ]
     },
     "execution_count": 10,
     "metadata": {},
     "output_type": "execute_result"
    }
   ],
   "source": [
    "len(images)"
   ]
  },
  {
   "cell_type": "code",
   "execution_count": 13,
   "id": "8403121e-4f3a-4be0-8053-99e1a7c39d9c",
   "metadata": {},
   "outputs": [],
   "source": [
    "models = [model for model in modelos if bool(re.search('renacimiento', model))]"
   ]
  },
  {
   "cell_type": "code",
   "execution_count": 21,
   "id": "2f55eb9c-3225-42f3-bf7c-2d705f9d00b2",
   "metadata": {},
   "outputs": [
    {
     "data": {
      "text/plain": [
       "['uloss_final_renacimiento_validation_6.h5',\n",
       " 'uloss_final_renacimiento_validation_8.h5',\n",
       " 'uloss_renacimiento_validation_2.h5',\n",
       " 'uloss_renacimiento_validation_3.h5',\n",
       " 'uloss_renacimiento_validation_4.h5',\n",
       " 'unet_final_renacimiento_validation_5.h5',\n",
       " 'unet_final_renacimiento_validation_6.h5',\n",
       " 'unet_final_renacimiento_validation_7.h5',\n",
       " 'unet_final_renacimiento_validation_8.h5',\n",
       " 'unet_renacimiento_validation_1.h5',\n",
       " 'unet_renacimiento_validation_2.h5',\n",
       " 'unet_renacimiento_validation_3.h5',\n",
       " 'unet_renacimiento_validation_4.h5']"
      ]
     },
     "execution_count": 21,
     "metadata": {},
     "output_type": "execute_result"
    }
   ],
   "source": [
    "models"
   ]
  },
  {
   "cell_type": "code",
   "execution_count": 28,
   "id": "d7180315-3fe1-43fc-b2be-a7471714cfc1",
   "metadata": {},
   "outputs": [
    {
     "name": "stdout",
     "output_type": "stream",
     "text": [
      "uloss_final_renacimiento_validation_6.h5\n",
      "0.0%\n",
      "uloss_final_renacimiento_validation_8.h5\n",
      "7.6923076923076925%\n",
      "uloss_renacimiento_validation_2.h5\n",
      "15.384615384615385%\n",
      "uloss_renacimiento_validation_3.h5\n",
      "23.076923076923077%\n",
      "uloss_renacimiento_validation_4.h5\n",
      "30.76923076923077%\n",
      "unet_final_renacimiento_validation_5.h5\n"
     ]
    },
    {
     "ename": "KeyboardInterrupt",
     "evalue": "",
     "output_type": "error",
     "traceback": [
      "\u001b[0;31m---------------------------------------------------------------------------\u001b[0m",
      "\u001b[0;31mKeyboardInterrupt\u001b[0m                         Traceback (most recent call last)",
      "\u001b[0;32m<ipython-input-28-80ceeb4336da>\u001b[0m in \u001b[0;36m<module>\u001b[0;34m\u001b[0m\n\u001b[1;32m      9\u001b[0m                                                      \"dice_coef\": dice_coef})\n\u001b[1;32m     10\u001b[0m     \u001b[0;32mfor\u001b[0m \u001b[0mimage\u001b[0m \u001b[0;32min\u001b[0m \u001b[0mimages\u001b[0m\u001b[0;34m:\u001b[0m\u001b[0;34m\u001b[0m\u001b[0;34m\u001b[0m\u001b[0m\n\u001b[0;32m---> 11\u001b[0;31m         \u001b[0mimg\u001b[0m \u001b[0;34m=\u001b[0m \u001b[0mnormalize\u001b[0m\u001b[0;34m(\u001b[0m\u001b[0mread_img\u001b[0m\u001b[0;34m(\u001b[0m\u001b[0mpath\u001b[0m\u001b[0;34m,\u001b[0m \u001b[0;34m''\u001b[0m\u001b[0;34m,\u001b[0m \u001b[0mimage\u001b[0m\u001b[0;34m)\u001b[0m\u001b[0;34m)\u001b[0m\u001b[0;34m\u001b[0m\u001b[0;34m\u001b[0m\u001b[0m\n\u001b[0m\u001b[1;32m     12\u001b[0m         \u001b[0mmask\u001b[0m \u001b[0;34m=\u001b[0m \u001b[0mmodel\u001b[0m\u001b[0;34m.\u001b[0m\u001b[0mpredict\u001b[0m\u001b[0;34m(\u001b[0m\u001b[0mimg\u001b[0m\u001b[0;34m[\u001b[0m\u001b[0mnp\u001b[0m\u001b[0;34m.\u001b[0m\u001b[0mnewaxis\u001b[0m\u001b[0;34m,\u001b[0m\u001b[0;34m...\u001b[0m\u001b[0;34m]\u001b[0m\u001b[0;34m)\u001b[0m\u001b[0;34m[\u001b[0m\u001b[0;36m0\u001b[0m\u001b[0;34m,\u001b[0m\u001b[0;34m...\u001b[0m\u001b[0;34m]\u001b[0m\u001b[0;34m\u001b[0m\u001b[0;34m\u001b[0m\u001b[0m\n\u001b[1;32m     13\u001b[0m         \u001b[0mmask\u001b[0m \u001b[0;34m=\u001b[0m \u001b[0mmeasure\u001b[0m\u001b[0;34m.\u001b[0m\u001b[0mlabel\u001b[0m\u001b[0;34m(\u001b[0m\u001b[0mmask\u001b[0m\u001b[0;34m)\u001b[0m\u001b[0;34m\u001b[0m\u001b[0;34m\u001b[0m\u001b[0m\n",
      "\u001b[0;32m<ipython-input-23-7cbb99e2923b>\u001b[0m in \u001b[0;36mread_img\u001b[0;34m(path, folder, img)\u001b[0m\n\u001b[1;32m      1\u001b[0m \u001b[0;32mdef\u001b[0m \u001b[0mread_img\u001b[0m\u001b[0;34m(\u001b[0m\u001b[0mpath\u001b[0m\u001b[0;34m,\u001b[0m \u001b[0mfolder\u001b[0m\u001b[0;34m,\u001b[0m \u001b[0mimg\u001b[0m\u001b[0;34m)\u001b[0m\u001b[0;34m:\u001b[0m\u001b[0;34m\u001b[0m\u001b[0;34m\u001b[0m\u001b[0m\n\u001b[0;32m----> 2\u001b[0;31m     \u001b[0mimg\u001b[0m \u001b[0;34m=\u001b[0m \u001b[0mcv2\u001b[0m\u001b[0;34m.\u001b[0m\u001b[0mimread\u001b[0m\u001b[0;34m(\u001b[0m\u001b[0mos\u001b[0m\u001b[0;34m.\u001b[0m\u001b[0mpath\u001b[0m\u001b[0;34m.\u001b[0m\u001b[0mjoin\u001b[0m\u001b[0;34m(\u001b[0m\u001b[0mpath\u001b[0m\u001b[0;34m,\u001b[0m \u001b[0mfolder\u001b[0m\u001b[0;34m,\u001b[0m \u001b[0mimg\u001b[0m\u001b[0;34m)\u001b[0m\u001b[0;34m)\u001b[0m\u001b[0;34m\u001b[0m\u001b[0;34m\u001b[0m\u001b[0m\n\u001b[0m\u001b[1;32m      3\u001b[0m     \u001b[0;32mtry\u001b[0m\u001b[0;34m:\u001b[0m\u001b[0;34m\u001b[0m\u001b[0;34m\u001b[0m\u001b[0m\n\u001b[1;32m      4\u001b[0m         \u001b[0mimg\u001b[0m \u001b[0;34m=\u001b[0m \u001b[0mcv2\u001b[0m\u001b[0;34m.\u001b[0m\u001b[0mcvtColor\u001b[0m\u001b[0;34m(\u001b[0m\u001b[0mimg\u001b[0m\u001b[0;34m,\u001b[0m \u001b[0mcv2\u001b[0m\u001b[0;34m.\u001b[0m\u001b[0mCOLOR_BGR2GRAY\u001b[0m\u001b[0;34m)\u001b[0m\u001b[0;34m\u001b[0m\u001b[0;34m\u001b[0m\u001b[0m\n\u001b[1;32m      5\u001b[0m     \u001b[0;32mexcept\u001b[0m\u001b[0;34m:\u001b[0m\u001b[0;34m\u001b[0m\u001b[0;34m\u001b[0m\u001b[0m\n",
      "\u001b[0;31mKeyboardInterrupt\u001b[0m: "
     ]
    }
   ],
   "source": [
    "for i, modelo in enumerate(models):\n",
    "    print(modelo)\n",
    "    datos[modelo] = []\n",
    "    p = os.path.join('/home/mr1142/Documents/Data/models', modelo)\n",
    "    model = keras.models.load_model(p, \n",
    "                                     custom_objects={\"MyLoss\": MyLoss, \n",
    "                                                     \"loss_mask\": loss_mask, \n",
    "                                                     \"dice_coef_loss\": dice_coef_loss,\n",
    "                                                     \"dice_coef\": dice_coef})\n",
    "    for image in images:\n",
    "        img = normalize(read_img(path, '', image))\n",
    "        mask = model.predict(img[np.newaxis,...])[0,...]\n",
    "        mask = measure.label(mask)\n",
    "        datos[modelo].append(len(np.unique(mask))-1)\n",
    "    print('{}%'.format(i/len(models)*100))"
   ]
  },
  {
   "cell_type": "code",
   "execution_count": 82,
   "id": "5317c7de-25f6-456f-95d9-adafe58c49f0",
   "metadata": {},
   "outputs": [],
   "source": [
    "df = pd.DataFrame(datos)\n",
    "df = df.transpose()"
   ]
  },
  {
   "cell_type": "code",
   "execution_count": 83,
   "id": "797d2b21-bea5-4d64-817b-d225914e46ed",
   "metadata": {},
   "outputs": [],
   "source": [
    "df['incorrectas'] = [np.sum(df.loc[model] > 1) for model in list(df.index)]\n",
    "df['media'] = [np.mean(df.loc[model]) for model in list(df.index)]\n",
    "df['type'] = [list(re.split('_', model))[0] for model in list(df.index)]"
   ]
  },
  {
   "cell_type": "code",
   "execution_count": 97,
   "id": "79d942eb-76ca-427b-87b7-6c8052ff68ae",
   "metadata": {},
   "outputs": [],
   "source": [
    "df = df.drop(labels=['unet3.h5', 'unet_nuevos_validation_oldest_1.h5', 'unet_1.h5', 'unet_2.h5', 'unet_3.h5'], axis=0)"
   ]
  },
  {
   "cell_type": "code",
   "execution_count": 105,
   "id": "6334ba58-5221-4e3f-b2f5-ca02fa988f70",
   "metadata": {},
   "outputs": [
    {
     "data": {
      "text/html": [
       "<div>\n",
       "<style scoped>\n",
       "    .dataframe tbody tr th:only-of-type {\n",
       "        vertical-align: middle;\n",
       "    }\n",
       "\n",
       "    .dataframe tbody tr th {\n",
       "        vertical-align: top;\n",
       "    }\n",
       "\n",
       "    .dataframe thead th {\n",
       "        text-align: right;\n",
       "    }\n",
       "</style>\n",
       "<table border=\"1\" class=\"dataframe\">\n",
       "  <thead>\n",
       "    <tr style=\"text-align: right;\">\n",
       "      <th></th>\n",
       "      <th>0</th>\n",
       "      <th>1</th>\n",
       "      <th>2</th>\n",
       "      <th>3</th>\n",
       "      <th>4</th>\n",
       "      <th>5</th>\n",
       "      <th>6</th>\n",
       "      <th>7</th>\n",
       "      <th>8</th>\n",
       "      <th>9</th>\n",
       "      <th>...</th>\n",
       "      <th>493</th>\n",
       "      <th>494</th>\n",
       "      <th>495</th>\n",
       "      <th>496</th>\n",
       "      <th>497</th>\n",
       "      <th>498</th>\n",
       "      <th>499</th>\n",
       "      <th>incorrectas</th>\n",
       "      <th>media</th>\n",
       "      <th>type</th>\n",
       "    </tr>\n",
       "  </thead>\n",
       "  <tbody>\n",
       "    <tr>\n",
       "      <th>unet_renacimiento_validation_2.h5</th>\n",
       "      <td>1</td>\n",
       "      <td>1</td>\n",
       "      <td>1</td>\n",
       "      <td>1</td>\n",
       "      <td>1</td>\n",
       "      <td>1</td>\n",
       "      <td>1</td>\n",
       "      <td>1</td>\n",
       "      <td>1</td>\n",
       "      <td>1</td>\n",
       "      <td>...</td>\n",
       "      <td>2</td>\n",
       "      <td>1</td>\n",
       "      <td>2</td>\n",
       "      <td>1</td>\n",
       "      <td>1</td>\n",
       "      <td>1</td>\n",
       "      <td>1</td>\n",
       "      <td>34</td>\n",
       "      <td>1.165669</td>\n",
       "      <td>unet</td>\n",
       "    </tr>\n",
       "    <tr>\n",
       "      <th>uloss_final_renacimiento_validation_6.h5</th>\n",
       "      <td>1</td>\n",
       "      <td>1</td>\n",
       "      <td>1</td>\n",
       "      <td>1</td>\n",
       "      <td>1</td>\n",
       "      <td>1</td>\n",
       "      <td>1</td>\n",
       "      <td>1</td>\n",
       "      <td>1</td>\n",
       "      <td>1</td>\n",
       "      <td>...</td>\n",
       "      <td>2</td>\n",
       "      <td>1</td>\n",
       "      <td>3</td>\n",
       "      <td>1</td>\n",
       "      <td>1</td>\n",
       "      <td>1</td>\n",
       "      <td>1</td>\n",
       "      <td>40</td>\n",
       "      <td>1.199601</td>\n",
       "      <td>uloss</td>\n",
       "    </tr>\n",
       "    <tr>\n",
       "      <th>uloss_final_renacimiento_validation_8.h5</th>\n",
       "      <td>1</td>\n",
       "      <td>1</td>\n",
       "      <td>1</td>\n",
       "      <td>1</td>\n",
       "      <td>1</td>\n",
       "      <td>1</td>\n",
       "      <td>1</td>\n",
       "      <td>1</td>\n",
       "      <td>1</td>\n",
       "      <td>1</td>\n",
       "      <td>...</td>\n",
       "      <td>1</td>\n",
       "      <td>1</td>\n",
       "      <td>3</td>\n",
       "      <td>1</td>\n",
       "      <td>1</td>\n",
       "      <td>1</td>\n",
       "      <td>1</td>\n",
       "      <td>41</td>\n",
       "      <td>1.211577</td>\n",
       "      <td>uloss</td>\n",
       "    </tr>\n",
       "    <tr>\n",
       "      <th>unet_final_renacimiento_validation_6.h5</th>\n",
       "      <td>1</td>\n",
       "      <td>1</td>\n",
       "      <td>1</td>\n",
       "      <td>1</td>\n",
       "      <td>2</td>\n",
       "      <td>1</td>\n",
       "      <td>1</td>\n",
       "      <td>2</td>\n",
       "      <td>1</td>\n",
       "      <td>1</td>\n",
       "      <td>...</td>\n",
       "      <td>1</td>\n",
       "      <td>1</td>\n",
       "      <td>2</td>\n",
       "      <td>1</td>\n",
       "      <td>1</td>\n",
       "      <td>1</td>\n",
       "      <td>1</td>\n",
       "      <td>45</td>\n",
       "      <td>1.217565</td>\n",
       "      <td>unet</td>\n",
       "    </tr>\n",
       "    <tr>\n",
       "      <th>unet_final_renacimiento_validation_8.h5</th>\n",
       "      <td>1</td>\n",
       "      <td>1</td>\n",
       "      <td>1</td>\n",
       "      <td>1</td>\n",
       "      <td>1</td>\n",
       "      <td>1</td>\n",
       "      <td>1</td>\n",
       "      <td>1</td>\n",
       "      <td>1</td>\n",
       "      <td>1</td>\n",
       "      <td>...</td>\n",
       "      <td>1</td>\n",
       "      <td>1</td>\n",
       "      <td>1</td>\n",
       "      <td>1</td>\n",
       "      <td>1</td>\n",
       "      <td>1</td>\n",
       "      <td>1</td>\n",
       "      <td>53</td>\n",
       "      <td>1.311377</td>\n",
       "      <td>unet</td>\n",
       "    </tr>\n",
       "    <tr>\n",
       "      <th>unet_renacimiento_validation_1.h5</th>\n",
       "      <td>2</td>\n",
       "      <td>1</td>\n",
       "      <td>1</td>\n",
       "      <td>1</td>\n",
       "      <td>1</td>\n",
       "      <td>1</td>\n",
       "      <td>1</td>\n",
       "      <td>1</td>\n",
       "      <td>1</td>\n",
       "      <td>1</td>\n",
       "      <td>...</td>\n",
       "      <td>1</td>\n",
       "      <td>1</td>\n",
       "      <td>2</td>\n",
       "      <td>1</td>\n",
       "      <td>1</td>\n",
       "      <td>1</td>\n",
       "      <td>1</td>\n",
       "      <td>56</td>\n",
       "      <td>1.259481</td>\n",
       "      <td>unet</td>\n",
       "    </tr>\n",
       "    <tr>\n",
       "      <th>uloss_renacimiento_validation_2.h5</th>\n",
       "      <td>1</td>\n",
       "      <td>1</td>\n",
       "      <td>1</td>\n",
       "      <td>1</td>\n",
       "      <td>1</td>\n",
       "      <td>1</td>\n",
       "      <td>1</td>\n",
       "      <td>1</td>\n",
       "      <td>1</td>\n",
       "      <td>1</td>\n",
       "      <td>...</td>\n",
       "      <td>1</td>\n",
       "      <td>1</td>\n",
       "      <td>1</td>\n",
       "      <td>1</td>\n",
       "      <td>1</td>\n",
       "      <td>1</td>\n",
       "      <td>1</td>\n",
       "      <td>59</td>\n",
       "      <td>1.383234</td>\n",
       "      <td>uloss</td>\n",
       "    </tr>\n",
       "    <tr>\n",
       "      <th>unet_validation_rotate_normalization_3.h5</th>\n",
       "      <td>1</td>\n",
       "      <td>1</td>\n",
       "      <td>1</td>\n",
       "      <td>1</td>\n",
       "      <td>1</td>\n",
       "      <td>1</td>\n",
       "      <td>1</td>\n",
       "      <td>1</td>\n",
       "      <td>1</td>\n",
       "      <td>1</td>\n",
       "      <td>...</td>\n",
       "      <td>3</td>\n",
       "      <td>1</td>\n",
       "      <td>1</td>\n",
       "      <td>1</td>\n",
       "      <td>1</td>\n",
       "      <td>1</td>\n",
       "      <td>1</td>\n",
       "      <td>60</td>\n",
       "      <td>1.351297</td>\n",
       "      <td>unet</td>\n",
       "    </tr>\n",
       "    <tr>\n",
       "      <th>unet_final_renacimiento_validation_7.h5</th>\n",
       "      <td>2</td>\n",
       "      <td>1</td>\n",
       "      <td>1</td>\n",
       "      <td>1</td>\n",
       "      <td>1</td>\n",
       "      <td>1</td>\n",
       "      <td>1</td>\n",
       "      <td>1</td>\n",
       "      <td>1</td>\n",
       "      <td>1</td>\n",
       "      <td>...</td>\n",
       "      <td>1</td>\n",
       "      <td>1</td>\n",
       "      <td>2</td>\n",
       "      <td>1</td>\n",
       "      <td>1</td>\n",
       "      <td>1</td>\n",
       "      <td>1</td>\n",
       "      <td>76</td>\n",
       "      <td>1.399202</td>\n",
       "      <td>unet</td>\n",
       "    </tr>\n",
       "    <tr>\n",
       "      <th>unet_final_renacimiento_validation_5.h5</th>\n",
       "      <td>1</td>\n",
       "      <td>1</td>\n",
       "      <td>1</td>\n",
       "      <td>1</td>\n",
       "      <td>3</td>\n",
       "      <td>1</td>\n",
       "      <td>1</td>\n",
       "      <td>1</td>\n",
       "      <td>1</td>\n",
       "      <td>1</td>\n",
       "      <td>...</td>\n",
       "      <td>2</td>\n",
       "      <td>1</td>\n",
       "      <td>2</td>\n",
       "      <td>1</td>\n",
       "      <td>1</td>\n",
       "      <td>1</td>\n",
       "      <td>1</td>\n",
       "      <td>79</td>\n",
       "      <td>1.457086</td>\n",
       "      <td>unet</td>\n",
       "    </tr>\n",
       "    <tr>\n",
       "      <th>unet_renacimiento_validation_4.h5</th>\n",
       "      <td>1</td>\n",
       "      <td>1</td>\n",
       "      <td>1</td>\n",
       "      <td>1</td>\n",
       "      <td>1</td>\n",
       "      <td>1</td>\n",
       "      <td>1</td>\n",
       "      <td>1</td>\n",
       "      <td>1</td>\n",
       "      <td>3</td>\n",
       "      <td>...</td>\n",
       "      <td>1</td>\n",
       "      <td>1</td>\n",
       "      <td>1</td>\n",
       "      <td>1</td>\n",
       "      <td>2</td>\n",
       "      <td>1</td>\n",
       "      <td>1</td>\n",
       "      <td>83</td>\n",
       "      <td>1.395210</td>\n",
       "      <td>unet</td>\n",
       "    </tr>\n",
       "    <tr>\n",
       "      <th>uloss_renacimiento_validation_4.h5</th>\n",
       "      <td>1</td>\n",
       "      <td>1</td>\n",
       "      <td>1</td>\n",
       "      <td>1</td>\n",
       "      <td>1</td>\n",
       "      <td>1</td>\n",
       "      <td>1</td>\n",
       "      <td>1</td>\n",
       "      <td>1</td>\n",
       "      <td>1</td>\n",
       "      <td>...</td>\n",
       "      <td>2</td>\n",
       "      <td>1</td>\n",
       "      <td>3</td>\n",
       "      <td>1</td>\n",
       "      <td>1</td>\n",
       "      <td>1</td>\n",
       "      <td>1</td>\n",
       "      <td>89</td>\n",
       "      <td>1.483034</td>\n",
       "      <td>uloss</td>\n",
       "    </tr>\n",
       "    <tr>\n",
       "      <th>unet_renacimiento_validation_3.h5</th>\n",
       "      <td>2</td>\n",
       "      <td>1</td>\n",
       "      <td>1</td>\n",
       "      <td>1</td>\n",
       "      <td>1</td>\n",
       "      <td>1</td>\n",
       "      <td>1</td>\n",
       "      <td>1</td>\n",
       "      <td>1</td>\n",
       "      <td>2</td>\n",
       "      <td>...</td>\n",
       "      <td>1</td>\n",
       "      <td>1</td>\n",
       "      <td>2</td>\n",
       "      <td>1</td>\n",
       "      <td>1</td>\n",
       "      <td>1</td>\n",
       "      <td>1</td>\n",
       "      <td>90</td>\n",
       "      <td>1.487026</td>\n",
       "      <td>unet</td>\n",
       "    </tr>\n",
       "    <tr>\n",
       "      <th>uloss_validation_rotate_normalization_1.h5</th>\n",
       "      <td>1</td>\n",
       "      <td>1</td>\n",
       "      <td>1</td>\n",
       "      <td>1</td>\n",
       "      <td>1</td>\n",
       "      <td>1</td>\n",
       "      <td>2</td>\n",
       "      <td>2</td>\n",
       "      <td>1</td>\n",
       "      <td>1</td>\n",
       "      <td>...</td>\n",
       "      <td>1</td>\n",
       "      <td>1</td>\n",
       "      <td>1</td>\n",
       "      <td>1</td>\n",
       "      <td>1</td>\n",
       "      <td>1</td>\n",
       "      <td>1</td>\n",
       "      <td>93</td>\n",
       "      <td>1.666667</td>\n",
       "      <td>uloss</td>\n",
       "    </tr>\n",
       "    <tr>\n",
       "      <th>uloss_validation_rotate_normalization_2.h5</th>\n",
       "      <td>1</td>\n",
       "      <td>1</td>\n",
       "      <td>1</td>\n",
       "      <td>2</td>\n",
       "      <td>1</td>\n",
       "      <td>1</td>\n",
       "      <td>2</td>\n",
       "      <td>2</td>\n",
       "      <td>1</td>\n",
       "      <td>2</td>\n",
       "      <td>...</td>\n",
       "      <td>2</td>\n",
       "      <td>2</td>\n",
       "      <td>3</td>\n",
       "      <td>1</td>\n",
       "      <td>2</td>\n",
       "      <td>1</td>\n",
       "      <td>2</td>\n",
       "      <td>96</td>\n",
       "      <td>1.620758</td>\n",
       "      <td>uloss</td>\n",
       "    </tr>\n",
       "    <tr>\n",
       "      <th>uloss_renacimiento_validation_3.h5</th>\n",
       "      <td>4</td>\n",
       "      <td>1</td>\n",
       "      <td>1</td>\n",
       "      <td>1</td>\n",
       "      <td>2</td>\n",
       "      <td>1</td>\n",
       "      <td>1</td>\n",
       "      <td>1</td>\n",
       "      <td>1</td>\n",
       "      <td>3</td>\n",
       "      <td>...</td>\n",
       "      <td>1</td>\n",
       "      <td>1</td>\n",
       "      <td>1</td>\n",
       "      <td>1</td>\n",
       "      <td>1</td>\n",
       "      <td>1</td>\n",
       "      <td>1</td>\n",
       "      <td>98</td>\n",
       "      <td>1.684631</td>\n",
       "      <td>uloss</td>\n",
       "    </tr>\n",
       "    <tr>\n",
       "      <th>unet_validation_rotate_normalization_1.h5</th>\n",
       "      <td>1</td>\n",
       "      <td>1</td>\n",
       "      <td>1</td>\n",
       "      <td>1</td>\n",
       "      <td>1</td>\n",
       "      <td>1</td>\n",
       "      <td>1</td>\n",
       "      <td>1</td>\n",
       "      <td>1</td>\n",
       "      <td>3</td>\n",
       "      <td>...</td>\n",
       "      <td>1</td>\n",
       "      <td>1</td>\n",
       "      <td>1</td>\n",
       "      <td>1</td>\n",
       "      <td>1</td>\n",
       "      <td>1</td>\n",
       "      <td>2</td>\n",
       "      <td>101</td>\n",
       "      <td>1.618762</td>\n",
       "      <td>unet</td>\n",
       "    </tr>\n",
       "    <tr>\n",
       "      <th>uloss_validation_rotate_normalization_3.h5</th>\n",
       "      <td>1</td>\n",
       "      <td>1</td>\n",
       "      <td>1</td>\n",
       "      <td>1</td>\n",
       "      <td>4</td>\n",
       "      <td>1</td>\n",
       "      <td>1</td>\n",
       "      <td>1</td>\n",
       "      <td>1</td>\n",
       "      <td>2</td>\n",
       "      <td>...</td>\n",
       "      <td>1</td>\n",
       "      <td>1</td>\n",
       "      <td>1</td>\n",
       "      <td>1</td>\n",
       "      <td>3</td>\n",
       "      <td>1</td>\n",
       "      <td>1</td>\n",
       "      <td>109</td>\n",
       "      <td>1.744511</td>\n",
       "      <td>uloss</td>\n",
       "    </tr>\n",
       "    <tr>\n",
       "      <th>unet_validation_rotate_normalization_2.h5</th>\n",
       "      <td>1</td>\n",
       "      <td>1</td>\n",
       "      <td>1</td>\n",
       "      <td>1</td>\n",
       "      <td>4</td>\n",
       "      <td>1</td>\n",
       "      <td>1</td>\n",
       "      <td>1</td>\n",
       "      <td>1</td>\n",
       "      <td>3</td>\n",
       "      <td>...</td>\n",
       "      <td>1</td>\n",
       "      <td>1</td>\n",
       "      <td>1</td>\n",
       "      <td>1</td>\n",
       "      <td>1</td>\n",
       "      <td>1</td>\n",
       "      <td>1</td>\n",
       "      <td>126</td>\n",
       "      <td>1.780439</td>\n",
       "      <td>unet</td>\n",
       "    </tr>\n",
       "  </tbody>\n",
       "</table>\n",
       "<p>19 rows × 503 columns</p>\n",
       "</div>"
      ],
      "text/plain": [
       "                                            0  1  2  3  4  5  6  7  8  9  ...  \\\n",
       "unet_renacimiento_validation_2.h5           1  1  1  1  1  1  1  1  1  1  ...   \n",
       "uloss_final_renacimiento_validation_6.h5    1  1  1  1  1  1  1  1  1  1  ...   \n",
       "uloss_final_renacimiento_validation_8.h5    1  1  1  1  1  1  1  1  1  1  ...   \n",
       "unet_final_renacimiento_validation_6.h5     1  1  1  1  2  1  1  2  1  1  ...   \n",
       "unet_final_renacimiento_validation_8.h5     1  1  1  1  1  1  1  1  1  1  ...   \n",
       "unet_renacimiento_validation_1.h5           2  1  1  1  1  1  1  1  1  1  ...   \n",
       "uloss_renacimiento_validation_2.h5          1  1  1  1  1  1  1  1  1  1  ...   \n",
       "unet_validation_rotate_normalization_3.h5   1  1  1  1  1  1  1  1  1  1  ...   \n",
       "unet_final_renacimiento_validation_7.h5     2  1  1  1  1  1  1  1  1  1  ...   \n",
       "unet_final_renacimiento_validation_5.h5     1  1  1  1  3  1  1  1  1  1  ...   \n",
       "unet_renacimiento_validation_4.h5           1  1  1  1  1  1  1  1  1  3  ...   \n",
       "uloss_renacimiento_validation_4.h5          1  1  1  1  1  1  1  1  1  1  ...   \n",
       "unet_renacimiento_validation_3.h5           2  1  1  1  1  1  1  1  1  2  ...   \n",
       "uloss_validation_rotate_normalization_1.h5  1  1  1  1  1  1  2  2  1  1  ...   \n",
       "uloss_validation_rotate_normalization_2.h5  1  1  1  2  1  1  2  2  1  2  ...   \n",
       "uloss_renacimiento_validation_3.h5          4  1  1  1  2  1  1  1  1  3  ...   \n",
       "unet_validation_rotate_normalization_1.h5   1  1  1  1  1  1  1  1  1  3  ...   \n",
       "uloss_validation_rotate_normalization_3.h5  1  1  1  1  4  1  1  1  1  2  ...   \n",
       "unet_validation_rotate_normalization_2.h5   1  1  1  1  4  1  1  1  1  3  ...   \n",
       "\n",
       "                                            493  494  495  496  497  498  499  \\\n",
       "unet_renacimiento_validation_2.h5             2    1    2    1    1    1    1   \n",
       "uloss_final_renacimiento_validation_6.h5      2    1    3    1    1    1    1   \n",
       "uloss_final_renacimiento_validation_8.h5      1    1    3    1    1    1    1   \n",
       "unet_final_renacimiento_validation_6.h5       1    1    2    1    1    1    1   \n",
       "unet_final_renacimiento_validation_8.h5       1    1    1    1    1    1    1   \n",
       "unet_renacimiento_validation_1.h5             1    1    2    1    1    1    1   \n",
       "uloss_renacimiento_validation_2.h5            1    1    1    1    1    1    1   \n",
       "unet_validation_rotate_normalization_3.h5     3    1    1    1    1    1    1   \n",
       "unet_final_renacimiento_validation_7.h5       1    1    2    1    1    1    1   \n",
       "unet_final_renacimiento_validation_5.h5       2    1    2    1    1    1    1   \n",
       "unet_renacimiento_validation_4.h5             1    1    1    1    2    1    1   \n",
       "uloss_renacimiento_validation_4.h5            2    1    3    1    1    1    1   \n",
       "unet_renacimiento_validation_3.h5             1    1    2    1    1    1    1   \n",
       "uloss_validation_rotate_normalization_1.h5    1    1    1    1    1    1    1   \n",
       "uloss_validation_rotate_normalization_2.h5    2    2    3    1    2    1    2   \n",
       "uloss_renacimiento_validation_3.h5            1    1    1    1    1    1    1   \n",
       "unet_validation_rotate_normalization_1.h5     1    1    1    1    1    1    2   \n",
       "uloss_validation_rotate_normalization_3.h5    1    1    1    1    3    1    1   \n",
       "unet_validation_rotate_normalization_2.h5     1    1    1    1    1    1    1   \n",
       "\n",
       "                                            incorrectas     media   type  \n",
       "unet_renacimiento_validation_2.h5                    34  1.165669   unet  \n",
       "uloss_final_renacimiento_validation_6.h5             40  1.199601  uloss  \n",
       "uloss_final_renacimiento_validation_8.h5             41  1.211577  uloss  \n",
       "unet_final_renacimiento_validation_6.h5              45  1.217565   unet  \n",
       "unet_final_renacimiento_validation_8.h5              53  1.311377   unet  \n",
       "unet_renacimiento_validation_1.h5                    56  1.259481   unet  \n",
       "uloss_renacimiento_validation_2.h5                   59  1.383234  uloss  \n",
       "unet_validation_rotate_normalization_3.h5            60  1.351297   unet  \n",
       "unet_final_renacimiento_validation_7.h5              76  1.399202   unet  \n",
       "unet_final_renacimiento_validation_5.h5              79  1.457086   unet  \n",
       "unet_renacimiento_validation_4.h5                    83  1.395210   unet  \n",
       "uloss_renacimiento_validation_4.h5                   89  1.483034  uloss  \n",
       "unet_renacimiento_validation_3.h5                    90  1.487026   unet  \n",
       "uloss_validation_rotate_normalization_1.h5           93  1.666667  uloss  \n",
       "uloss_validation_rotate_normalization_2.h5           96  1.620758  uloss  \n",
       "uloss_renacimiento_validation_3.h5                   98  1.684631  uloss  \n",
       "unet_validation_rotate_normalization_1.h5           101  1.618762   unet  \n",
       "uloss_validation_rotate_normalization_3.h5          109  1.744511  uloss  \n",
       "unet_validation_rotate_normalization_2.h5           126  1.780439   unet  \n",
       "\n",
       "[19 rows x 503 columns]"
      ]
     },
     "execution_count": 105,
     "metadata": {},
     "output_type": "execute_result"
    }
   ],
   "source": [
    "df.sort_values('incorrectas')"
   ]
  },
  {
   "cell_type": "code",
   "execution_count": 98,
   "id": "d6cd1723-8a93-4cd7-99c6-39964919e1fc",
   "metadata": {},
   "outputs": [
    {
     "data": {
      "text/plain": [
       "1.4039194338595538"
      ]
     },
     "execution_count": 98,
     "metadata": {},
     "output_type": "execute_result"
    }
   ],
   "source": [
    "np.mean(df[df.type == 'unet']['media'])"
   ]
  },
  {
   "cell_type": "code",
   "execution_count": 99,
   "id": "169271b6-78ca-49d5-8090-c481f081a4f3",
   "metadata": {},
   "outputs": [
    {
     "data": {
      "text/plain": [
       "1.499251497005988"
      ]
     },
     "execution_count": 99,
     "metadata": {},
     "output_type": "execute_result"
    }
   ],
   "source": [
    "np.mean(df[df.type == 'uloss']['media'])"
   ]
  },
  {
   "cell_type": "code",
   "execution_count": 102,
   "id": "dd423297-80d1-41dc-82f7-154a5a607cbe",
   "metadata": {},
   "outputs": [],
   "source": [
    "lab = 'media'"
   ]
  },
  {
   "cell_type": "code",
   "execution_count": 103,
   "id": "1fff9f60-61ad-4971-b96c-c6d1d4308cdc",
   "metadata": {},
   "outputs": [
    {
     "data": {
      "text/plain": [
       "(1.8373253493013972, 1.0445109780439121)"
      ]
     },
     "execution_count": 103,
     "metadata": {},
     "output_type": "execute_result"
    },
    {
     "data": {
      "image/png": "[encoded data removed]",
      "text/plain": [
       "<Figure size 432x288 with 1 Axes>"
      ]
     },
     "metadata": {
      "needs_background": "light"
     },
     "output_type": "display_data"
    }
   ],
   "source": [
    "plt.boxplot([df[df.type == 'uloss'][lab], df[df.type == 'unet'][lab]], labels = ['uloss', 'unet'])\n",
    "q1, q3 = np.percentile(df[lab], [20, 80])\n",
    "r = q1-q3\n",
    "plt.ylim(q1-1.5*r, q3+1.5*r)"
   ]
  },
  {
   "cell_type": "code",
   "execution_count": 106,
   "id": "73046ea2-223c-47ae-9eb3-ae442993d5a1",
   "metadata": {},
   "outputs": [],
   "source": [
    "df.to_csv('/home/mr1142/Documents/Data/models/validation_results/imagenes_incorrectas.csv')"
   ]
  },
  {
   "cell_type": "markdown",
   "id": "e86e0f22-1f56-4d12-be84-8e21843de18f",
   "metadata": {},
   "source": [
    "# Aplicacion en serie"
   ]
  },
  {
   "cell_type": "code",
   "execution_count": 770,
   "id": "3ced9646-6a88-4c71-8e88-dd6699f9a719",
   "metadata": {},
   "outputs": [],
   "source": [
    "def des_normalize(img):\n",
    "    return cv2.normalize(img, None, alpha = 0, beta = 255,\n",
    "                         norm_type = cv2.NORM_MINMAX, dtype = cv2.CV_32F)"
   ]
  },
  {
   "cell_type": "code",
   "execution_count": 783,
   "id": "a5386fee-2d9e-4ae5-9738-7ea6fce8e652",
   "metadata": {},
   "outputs": [],
   "source": [
    "path = '/home/mr1142/Documents/Data/validacion_medica/NIH'"
   ]
  },
  {
   "cell_type": "code",
   "execution_count": 784,
   "id": "147bc552-820b-46a6-a593-a2730c06d255",
   "metadata": {},
   "outputs": [],
   "source": [
    "images = [f for f in os.listdir(path) if bool(re.search('png', f))]"
   ]
  },
  {
   "cell_type": "code",
   "execution_count": 785,
   "id": "8a3c63ab-6a6c-4fe8-b924-db798872e1e4",
   "metadata": {},
   "outputs": [
    {
     "data": {
      "text/plain": [
       "200"
      ]
     },
     "execution_count": 785,
     "metadata": {},
     "output_type": "execute_result"
    }
   ],
   "source": [
    "len(images)"
   ]
  },
  {
   "cell_type": "code",
   "execution_count": 786,
   "id": "28284a5e-f8a9-4585-8442-0c81c6240361",
   "metadata": {},
   "outputs": [],
   "source": [
    "model = uloss"
   ]
  },
  {
   "cell_type": "code",
   "execution_count": 787,
   "id": "cdd62af0-f802-4476-9ce6-d37e50ff4b46",
   "metadata": {},
   "outputs": [
    {
     "name": "stdout",
     "output_type": "stream",
     "text": [
      "{1: 26308}\n",
      "1\n",
      "{1: 30745}\n",
      "1\n",
      "{1: 30562}\n",
      "1\n",
      "{1: 24165}\n",
      "1\n",
      "{1: 30333}\n",
      "1\n",
      "{1: 28419}\n",
      "1\n",
      "{1: 30601}\n",
      "1\n",
      "{1: 28980, 2: 45}\n",
      "1\n",
      "{1: 25490}\n",
      "1\n",
      "{1: 21443}\n",
      "1\n",
      "{1: 21924, 2: 2}\n",
      "1\n",
      "{1: 24617}\n",
      "1\n",
      "{1: 26173}\n",
      "1\n",
      "{1: 22881}\n",
      "1\n",
      "{1: 30483}\n",
      "1\n",
      "{1: 24476}\n",
      "1\n",
      "{1: 30520}\n",
      "1\n",
      "{1: 33366, 2: 11, 3: 4}\n",
      "1\n",
      "{1: 20661}\n",
      "1\n",
      "{1: 24239, 2: 9, 3: 8, 4: 1, 5: 3}\n",
      "1\n",
      "{1: 25851}\n",
      "1\n",
      "{1: 23900}\n",
      "1\n",
      "{1: 24176}\n",
      "1\n",
      "{1: 29285}\n",
      "1\n",
      "{1: 26734}\n",
      "1\n",
      "{1: 26298}\n",
      "1\n",
      "{1: 19106}\n",
      "1\n",
      "{1: 19347}\n",
      "1\n",
      "{1: 32598}\n",
      "1\n",
      "{1: 20569}\n",
      "1\n",
      "{1: 30107}\n",
      "1\n",
      "{1: 28340}\n",
      "1\n",
      "{1: 30761}\n",
      "1\n",
      "{1: 25185}\n",
      "1\n",
      "{1: 23443}\n",
      "1\n",
      "{1: 14704}\n",
      "1\n",
      "{1: 21066}\n",
      "1\n",
      "{1: 31318}\n",
      "1\n",
      "{1: 27189}\n",
      "1\n",
      "{1: 24210}\n",
      "1\n",
      "{1: 31026, 2: 1}\n",
      "1\n",
      "{1: 30421}\n",
      "1\n",
      "{1: 24017}\n",
      "1\n",
      "{1: 25028}\n",
      "1\n",
      "{1: 29147}\n",
      "1\n",
      "{1: 33204}\n",
      "1\n",
      "{1: 37590}\n",
      "1\n",
      "{1: 21726}\n",
      "1\n",
      "{1: 38374}\n",
      "1\n",
      "{1: 20814, 2: 2024, 3: 2118, 4: 14, 5: 1, 6: 1}\n",
      "1\n",
      "{1: 23103}\n",
      "1\n",
      "{1: 37600}\n",
      "1\n",
      "{1: 24987}\n",
      "1\n",
      "{1: 21552}\n",
      "1\n",
      "{1: 23932}\n",
      "1\n",
      "{1: 27589}\n",
      "1\n",
      "{1: 22024}\n",
      "1\n",
      "{1: 30426}\n",
      "1\n",
      "{1: 21590}\n",
      "1\n",
      "{1: 25418}\n",
      "1\n",
      "{1: 33000, 2: 5, 3: 1}\n",
      "1\n",
      "{1: 25026}\n",
      "1\n",
      "{1: 31464}\n",
      "1\n",
      "{1: 28223}\n",
      "1\n",
      "{1: 22164}\n",
      "1\n",
      "{1: 23650}\n",
      "1\n",
      "{1: 23763}\n",
      "1\n",
      "{1: 20562, 2: 2, 3: 8, 4: 1}\n",
      "1\n",
      "{1: 28222}\n",
      "1\n",
      "{1: 37641}\n",
      "1\n",
      "{1: 25511}\n",
      "1\n",
      "{1: 26549}\n",
      "1\n",
      "{1: 245, 2: 258, 3: 7, 4: 3, 5: 2, 6: 12, 7: 12553}\n",
      "7\n",
      "{1: 33172}\n",
      "1\n",
      "{1: 25288, 2: 1, 3: 17}\n",
      "1\n",
      "{1: 33561}\n",
      "1\n",
      "{1: 33500}\n",
      "1\n",
      "{1: 31894}\n",
      "1\n",
      "{1: 27419}\n",
      "1\n",
      "{1: 10, 2: 34167}\n",
      "2\n",
      "{1: 28078}\n",
      "1\n",
      "{1: 18872}\n",
      "1\n",
      "{1: 19808}\n",
      "1\n",
      "{1: 27161}\n",
      "1\n",
      "{1: 19111}\n",
      "1\n",
      "{1: 20864}\n",
      "1\n",
      "{1: 22009, 2: 49}\n",
      "1\n",
      "{1: 3, 2: 36824}\n",
      "2\n",
      "{1: 29256, 2: 1}\n",
      "1\n",
      "{1: 25449}\n",
      "1\n",
      "{1: 25806}\n",
      "1\n",
      "{1: 25607}\n",
      "1\n",
      "{1: 24929}\n",
      "1\n",
      "{1: 18758}\n",
      "1\n",
      "{1: 18032}\n",
      "1\n",
      "{1: 22844, 2: 33}\n",
      "1\n",
      "{1: 21727}\n",
      "1\n",
      "{1: 35012}\n",
      "1\n",
      "{1: 25885}\n",
      "1\n",
      "{1: 18837}\n",
      "1\n",
      "{1: 38920, 2: 1}\n",
      "1\n",
      "{1: 23897}\n",
      "1\n",
      "{1: 29682}\n",
      "1\n",
      "{1: 16538}\n",
      "1\n",
      "{1: 29072}\n",
      "1\n",
      "{1: 24056}\n",
      "1\n",
      "{1: 18446}\n",
      "1\n",
      "{1: 20341, 2: 1}\n",
      "1\n",
      "{1: 20924}\n",
      "1\n",
      "{1: 34203}\n",
      "1\n",
      "{1: 30819}\n",
      "1\n",
      "{1: 26327}\n",
      "1\n",
      "{1: 21252}\n",
      "1\n",
      "{1: 30080, 2: 1}\n",
      "1\n",
      "{1: 26345}\n",
      "1\n",
      "{1: 21904}\n",
      "1\n",
      "{1: 25342}\n",
      "1\n",
      "{1: 26756}\n",
      "1\n",
      "{1: 18750, 2: 199}\n",
      "1\n",
      "{1: 24007}\n",
      "1\n",
      "{1: 14985}\n",
      "1\n",
      "{1: 30413, 2: 5, 3: 88, 4: 13, 5: 3, 6: 1}\n",
      "1\n",
      "{1: 25300}\n",
      "1\n",
      "{1: 22089}\n",
      "1\n",
      "{1: 14543}\n",
      "1\n",
      "{1: 22186}\n",
      "1\n",
      "{1: 34733}\n",
      "1\n",
      "{1: 26594}\n",
      "1\n",
      "{1: 21130}\n",
      "1\n",
      "{1: 30504}\n",
      "1\n",
      "{1: 36179}\n",
      "1\n",
      "{1: 23077}\n",
      "1\n",
      "{1: 24290}\n",
      "1\n",
      "{1: 20871}\n",
      "1\n",
      "{1: 26406}\n",
      "1\n",
      "{1: 21612}\n",
      "1\n",
      "{1: 31038}\n",
      "1\n",
      "{1: 31600}\n",
      "1\n",
      "{1: 22655}\n",
      "1\n",
      "{1: 20703}\n",
      "1\n",
      "{1: 23256}\n",
      "1\n",
      "{1: 32150}\n",
      "1\n",
      "{1: 32315}\n",
      "1\n",
      "{1: 30181, 2: 100, 3: 1, 4: 1, 5: 1}\n",
      "1\n",
      "{1: 28412}\n",
      "1\n",
      "{1: 19422}\n",
      "1\n",
      "{1: 30982, 2: 1}\n",
      "1\n",
      "{1: 16971}\n",
      "1\n",
      "{1: 20175}\n",
      "1\n",
      "{1: 26813}\n",
      "1\n",
      "{1: 38768}\n",
      "1\n",
      "{1: 20471}\n",
      "1\n",
      "{1: 31167}\n",
      "1\n",
      "{1: 20172}\n",
      "1\n",
      "{1: 21738, 2: 989}\n",
      "1\n",
      "{1: 22950}\n",
      "1\n",
      "{1: 18259}\n",
      "1\n",
      "{1: 22771, 2: 80}\n",
      "1\n",
      "{1: 28964}\n",
      "1\n",
      "{1: 32130}\n",
      "1\n",
      "{1: 27709}\n",
      "1\n",
      "{1: 30219}\n",
      "1\n",
      "{1: 30829}\n",
      "1\n",
      "{1: 31053, 2: 1}\n",
      "1\n",
      "{1: 31402, 2: 12}\n",
      "1\n",
      "{1: 28150}\n",
      "1\n",
      "{1: 30070}\n",
      "1\n",
      "{1: 25237}\n",
      "1\n",
      "{1: 20535}\n",
      "1\n",
      "{1: 23811}\n",
      "1\n",
      "{1: 26448}\n",
      "1\n",
      "{1: 32772}\n",
      "1\n",
      "{1: 31878}\n",
      "1\n",
      "{1: 21379}\n",
      "1\n",
      "{1: 15564}\n",
      "1\n",
      "{1: 33792, 2: 6}\n",
      "1\n",
      "{1: 35039}\n",
      "1\n",
      "{1: 24581, 2: 275, 3: 6}\n",
      "1\n",
      "{1: 22034}\n",
      "1\n",
      "{1: 18821}\n",
      "1\n",
      "{1: 24868}\n",
      "1\n",
      "{1: 24144}\n",
      "1\n",
      "{1: 22419}\n",
      "1\n",
      "{1: 30048}\n",
      "1\n",
      "{1: 19441, 2: 1}\n",
      "1\n",
      "{1: 21238}\n",
      "1\n",
      "{1: 35663}\n",
      "1\n",
      "{1: 23515}\n",
      "1\n",
      "{1: 25034}\n",
      "1\n",
      "{1: 30443}\n",
      "1\n",
      "{1: 21668, 2: 2, 3: 3, 4: 8, 5: 1, 6: 1, 7: 2, 8: 61, 9: 1, 10: 30, 11: 147, 12: 2, 13: 4, 14: 20, 15: 1, 16: 1968, 17: 2, 18: 5}\n",
      "1\n",
      "{1: 41992}\n",
      "1\n",
      "{1: 34207}\n",
      "1\n",
      "{1: 25539}\n",
      "1\n",
      "{1: 13742, 2: 5}\n",
      "1\n",
      "{1: 27422}\n",
      "1\n",
      "{1: 33372, 2: 1}\n",
      "1\n",
      "{1: 29655}\n",
      "1\n",
      "{1: 33756}\n",
      "1\n",
      "{1: 24528}\n",
      "1\n"
     ]
    }
   ],
   "source": [
    "for image in images:\n",
    "    img = normalize(read_img(path,'', image))\n",
    "    mask = model.predict(img[np.newaxis,...])[0,...]\n",
    "    segmented = des_normalize(apply_mask(img, mask))    \n",
    "    cv2.imwrite(os.path.join(path,'mascara', image), segmented)"
   ]
  },
  {
   "cell_type": "code",
   "execution_count": 777,
   "id": "ecac6cec-5066-4ade-b3bb-67a0ec9d9cea",
   "metadata": {},
   "outputs": [
    {
     "data": {
      "text/plain": [
       "200"
      ]
     },
     "execution_count": 777,
     "metadata": {},
     "output_type": "execute_result"
    }
   ],
   "source": [
    "names = os.listdir(os.path.join(path, 'mascara'))\n",
    "len(names)"
   ]
  },
  {
   "cell_type": "code",
   "execution_count": 1002,
   "id": "7b16c3cc-2100-46b6-843b-315f81aca79f",
   "metadata": {},
   "outputs": [],
   "source": [
    "p = '/home/mr1142/Documents/Data/NIH/Data_Entry_2017.csv'"
   ]
  },
  {
   "cell_type": "code",
   "execution_count": 1003,
   "id": "01cac206-ad42-45cc-9b5b-8d5c28b42b3e",
   "metadata": {},
   "outputs": [],
   "source": [
    "df = pd.read_csv(p)"
   ]
  },
  {
   "cell_type": "code",
   "execution_count": 1004,
   "id": "28a82ee1-b74c-4a27-95a9-2426134a5cb8",
   "metadata": {},
   "outputs": [],
   "source": [
    "index = [i for i in df.index if df['Image Index'][i] in names]"
   ]
  },
  {
   "cell_type": "code",
   "execution_count": 1005,
   "id": "b121dd2e-0885-49b8-b46e-e9fe0b69aee7",
   "metadata": {},
   "outputs": [],
   "source": [
    "df = df.iloc[index]"
   ]
  },
  {
   "cell_type": "code",
   "execution_count": 1006,
   "id": "39dfa0e2-b997-45b7-ab2d-2bb3f19df76c",
   "metadata": {},
   "outputs": [
    {
     "data": {
      "text/html": [
       "<div>\n",
       "<style scoped>\n",
       "    .dataframe tbody tr th:only-of-type {\n",
       "        vertical-align: middle;\n",
       "    }\n",
       "\n",
       "    .dataframe tbody tr th {\n",
       "        vertical-align: top;\n",
       "    }\n",
       "\n",
       "    .dataframe thead th {\n",
       "        text-align: right;\n",
       "    }\n",
       "</style>\n",
       "<table border=\"1\" class=\"dataframe\">\n",
       "  <thead>\n",
       "    <tr style=\"text-align: right;\">\n",
       "      <th></th>\n",
       "      <th>Image Index</th>\n",
       "      <th>Finding Labels</th>\n",
       "      <th>Follow-up #</th>\n",
       "      <th>Patient ID</th>\n",
       "      <th>Patient Age</th>\n",
       "      <th>Patient Gender</th>\n",
       "      <th>View Position</th>\n",
       "      <th>OriginalImage[Width</th>\n",
       "      <th>Height]</th>\n",
       "      <th>OriginalImagePixelSpacing[x</th>\n",
       "      <th>y]</th>\n",
       "      <th>Unnamed: 11</th>\n",
       "    </tr>\n",
       "  </thead>\n",
       "  <tbody>\n",
       "    <tr>\n",
       "      <th>275</th>\n",
       "      <td>00000061_011.png</td>\n",
       "      <td>Effusion</td>\n",
       "      <td>11</td>\n",
       "      <td>61</td>\n",
       "      <td>77</td>\n",
       "      <td>M</td>\n",
       "      <td>AP</td>\n",
       "      <td>3056</td>\n",
       "      <td>2524</td>\n",
       "      <td>0.139</td>\n",
       "      <td>0.139</td>\n",
       "      <td>NaN</td>\n",
       "    </tr>\n",
       "    <tr>\n",
       "      <th>1424</th>\n",
       "      <td>00000372_002.png</td>\n",
       "      <td>Pneumothorax</td>\n",
       "      <td>2</td>\n",
       "      <td>372</td>\n",
       "      <td>80</td>\n",
       "      <td>M</td>\n",
       "      <td>AP</td>\n",
       "      <td>2500</td>\n",
       "      <td>2048</td>\n",
       "      <td>0.168</td>\n",
       "      <td>0.168</td>\n",
       "      <td>NaN</td>\n",
       "    </tr>\n",
       "    <tr>\n",
       "      <th>2967</th>\n",
       "      <td>00000792_001.png</td>\n",
       "      <td>No Finding</td>\n",
       "      <td>1</td>\n",
       "      <td>792</td>\n",
       "      <td>60</td>\n",
       "      <td>M</td>\n",
       "      <td>PA</td>\n",
       "      <td>2992</td>\n",
       "      <td>2991</td>\n",
       "      <td>0.143</td>\n",
       "      <td>0.143</td>\n",
       "      <td>NaN</td>\n",
       "    </tr>\n",
       "    <tr>\n",
       "      <th>3001</th>\n",
       "      <td>00000798_013.png</td>\n",
       "      <td>No Finding</td>\n",
       "      <td>13</td>\n",
       "      <td>798</td>\n",
       "      <td>65</td>\n",
       "      <td>F</td>\n",
       "      <td>AP</td>\n",
       "      <td>2500</td>\n",
       "      <td>2048</td>\n",
       "      <td>0.168</td>\n",
       "      <td>0.168</td>\n",
       "      <td>NaN</td>\n",
       "    </tr>\n",
       "    <tr>\n",
       "      <th>3172</th>\n",
       "      <td>00000831_005.png</td>\n",
       "      <td>No Finding</td>\n",
       "      <td>5</td>\n",
       "      <td>831</td>\n",
       "      <td>25</td>\n",
       "      <td>M</td>\n",
       "      <td>AP</td>\n",
       "      <td>2500</td>\n",
       "      <td>2048</td>\n",
       "      <td>0.168</td>\n",
       "      <td>0.168</td>\n",
       "      <td>NaN</td>\n",
       "    </tr>\n",
       "  </tbody>\n",
       "</table>\n",
       "</div>"
      ],
      "text/plain": [
       "           Image Index Finding Labels  Follow-up #  Patient ID  Patient Age  \\\n",
       "275   00000061_011.png       Effusion           11          61           77   \n",
       "1424  00000372_002.png   Pneumothorax            2         372           80   \n",
       "2967  00000792_001.png     No Finding            1         792           60   \n",
       "3001  00000798_013.png     No Finding           13         798           65   \n",
       "3172  00000831_005.png     No Finding            5         831           25   \n",
       "\n",
       "     Patient Gender View Position  OriginalImage[Width  Height]  \\\n",
       "275               M            AP                 3056     2524   \n",
       "1424              M            AP                 2500     2048   \n",
       "2967              M            PA                 2992     2991   \n",
       "3001              F            AP                 2500     2048   \n",
       "3172              M            AP                 2500     2048   \n",
       "\n",
       "      OriginalImagePixelSpacing[x     y]  Unnamed: 11  \n",
       "275                         0.139  0.139          NaN  \n",
       "1424                        0.168  0.168          NaN  \n",
       "2967                        0.143  0.143          NaN  \n",
       "3001                        0.168  0.168          NaN  \n",
       "3172                        0.168  0.168          NaN  "
      ]
     },
     "execution_count": 1006,
     "metadata": {},
     "output_type": "execute_result"
    }
   ],
   "source": [
    "df.head()"
   ]
  },
  {
   "cell_type": "code",
   "execution_count": 1007,
   "id": "074887c9-d922-4b7b-93e4-f3a88283cda6",
   "metadata": {},
   "outputs": [
    {
     "data": {
      "text/plain": [
       "200"
      ]
     },
     "execution_count": 1007,
     "metadata": {},
     "output_type": "execute_result"
    }
   ],
   "source": [
    "len(df)"
   ]
  },
  {
   "cell_type": "code",
   "execution_count": 1008,
   "id": "f597d1a2-0167-4f4b-a0c0-625e04d182ae",
   "metadata": {},
   "outputs": [],
   "source": [
    "df.to_csv(os.path.join(path,'validation_data.csv'))"
   ]
  },
  {
   "cell_type": "code",
   "execution_count": null,
   "id": "f49792e3-448d-41ee-aa8f-68c56bca41c4",
   "metadata": {},
   "outputs": [],
   "source": []
  }
 ],
 "metadata": {
  "kernelspec": {
   "display_name": "Python 3",
   "language": "python",
   "name": "python3"
  },
  "language_info": {
   "codemirror_mode": {
    "name": "ipython",
    "version": 3
   },
   "file_extension": ".py",
   "mimetype": "text/x-python",
   "name": "python",
   "nbconvert_exporter": "python",
   "pygments_lexer": "ipython3",
   "version": "3.6.8"
  }
 },
 "nbformat": 4,
 "nbformat_minor": 5
}
