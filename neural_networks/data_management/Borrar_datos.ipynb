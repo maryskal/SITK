{
 "cells": [
  {
   "cell_type": "code",
   "execution_count": 3,
   "id": "d1f5e302-0a48-4851-a561-1702e9564f9d",
   "metadata": {},
   "outputs": [],
   "source": [
    "import re\n",
    "import os\n",
    "import shutil\n",
    "import pandas as pd"
   ]
  },
  {
   "cell_type": "markdown",
   "id": "3dfbbd54-23e0-493e-9388-39de084eb482",
   "metadata": {},
   "source": [
    "# Borrar train folder"
   ]
  },
  {
   "cell_type": "code",
   "execution_count": 58,
   "id": "1367b9fe-3503-41f2-81d9-97262218beea",
   "metadata": {},
   "outputs": [],
   "source": [
    "path = '/home/mr1142/Documents/Data/logs/fit'"
   ]
  },
  {
   "cell_type": "code",
   "execution_count": 59,
   "id": "7c4db96a-17ec-434f-b427-350080296d59",
   "metadata": {},
   "outputs": [],
   "source": [
    "for di in os.listdir(path):\n",
    "    shutil.rmtree(os.path.join(path, di, 'train'), ignore_errors=True)"
   ]
  },
  {
   "cell_type": "markdown",
   "id": "fdc06e8e-d57a-4db9-82ed-fcefefe645f0",
   "metadata": {},
   "source": [
    "# Borrar modelos malos"
   ]
  },
  {
   "cell_type": "code",
   "execution_count": 55,
   "id": "221bb686-69e1-429f-84a4-bcdba63cdbe4",
   "metadata": {},
   "outputs": [],
   "source": [
    "path = '/home/mr1142/Documents/Data/models/validation_results/validation_results' + '' + '.csv'\n",
    "df = pd.read_csv(path)"
   ]
  },
  {
   "cell_type": "code",
   "execution_count": 57,
   "id": "236702c4-dec4-437b-955d-c0beb7f8f23b",
   "metadata": {},
   "outputs": [
    {
     "data": {
      "text/html": [
       "<div>\n",
       "<style scoped>\n",
       "    .dataframe tbody tr th:only-of-type {\n",
       "        vertical-align: middle;\n",
       "    }\n",
       "\n",
       "    .dataframe tbody tr th {\n",
       "        vertical-align: top;\n",
       "    }\n",
       "\n",
       "    .dataframe thead th {\n",
       "        text-align: right;\n",
       "    }\n",
       "</style>\n",
       "<table border=\"1\" class=\"dataframe\">\n",
       "  <thead>\n",
       "    <tr style=\"text-align: right;\">\n",
       "      <th></th>\n",
       "      <th>type</th>\n",
       "      <th>name</th>\n",
       "      <th>loss</th>\n",
       "      <th>dice_coef_loss</th>\n",
       "      <th>loss_mask</th>\n",
       "      <th>accuracy</th>\n",
       "      <th>AUC</th>\n",
       "      <th>false_positives</th>\n",
       "      <th>false_negatives</th>\n",
       "    </tr>\n",
       "  </thead>\n",
       "  <tbody>\n",
       "    <tr>\n",
       "      <th>38</th>\n",
       "      <td>uloss</td>\n",
       "      <td>final_renacimiento_validation_8</td>\n",
       "      <td>0.100469</td>\n",
       "      <td>0.026820</td>\n",
       "      <td>0.073125</td>\n",
       "      <td>0.978087</td>\n",
       "      <td>0.979268</td>\n",
       "      <td>68079.0</td>\n",
       "      <td>75530.0</td>\n",
       "    </tr>\n",
       "    <tr>\n",
       "      <th>20</th>\n",
       "      <td>unet</td>\n",
       "      <td>final_renacimiento_validation_6</td>\n",
       "      <td>0.027842</td>\n",
       "      <td>0.027473</td>\n",
       "      <td>0.078634</td>\n",
       "      <td>0.977579</td>\n",
       "      <td>0.977706</td>\n",
       "      <td>72640.0</td>\n",
       "      <td>74298.0</td>\n",
       "    </tr>\n",
       "    <tr>\n",
       "      <th>37</th>\n",
       "      <td>unet</td>\n",
       "      <td>final_renacimiento_validation_7</td>\n",
       "      <td>0.028393</td>\n",
       "      <td>0.027809</td>\n",
       "      <td>0.077276</td>\n",
       "      <td>0.977255</td>\n",
       "      <td>0.977421</td>\n",
       "      <td>72967.0</td>\n",
       "      <td>76094.0</td>\n",
       "    </tr>\n",
       "    <tr>\n",
       "      <th>65</th>\n",
       "      <td>unet</td>\n",
       "      <td>unet_final_renacimiento_validation_6_fine_tuning</td>\n",
       "      <td>0.028354</td>\n",
       "      <td>0.027965</td>\n",
       "      <td>0.080699</td>\n",
       "      <td>0.977174</td>\n",
       "      <td>0.977285</td>\n",
       "      <td>74099.0</td>\n",
       "      <td>75491.0</td>\n",
       "    </tr>\n",
       "    <tr>\n",
       "      <th>19</th>\n",
       "      <td>uloss</td>\n",
       "      <td>final_renacimiento_validation_6</td>\n",
       "      <td>0.102747</td>\n",
       "      <td>0.028376</td>\n",
       "      <td>0.073854</td>\n",
       "      <td>0.976893</td>\n",
       "      <td>0.977792</td>\n",
       "      <td>70053.0</td>\n",
       "      <td>81382.0</td>\n",
       "    </tr>\n",
       "    <tr>\n",
       "      <th>68</th>\n",
       "      <td>unet</td>\n",
       "      <td>unet_final_renacimiento_validation_6_fine_tuning</td>\n",
       "      <td>0.029598</td>\n",
       "      <td>0.029172</td>\n",
       "      <td>0.081365</td>\n",
       "      <td>0.976225</td>\n",
       "      <td>0.975924</td>\n",
       "      <td>73761.0</td>\n",
       "      <td>82054.0</td>\n",
       "    </tr>\n",
       "    <tr>\n",
       "      <th>67</th>\n",
       "      <td>unet</td>\n",
       "      <td>unet_final_renacimiento_validation_6_fine_tuning</td>\n",
       "      <td>0.030311</td>\n",
       "      <td>0.029861</td>\n",
       "      <td>0.083249</td>\n",
       "      <td>0.975673</td>\n",
       "      <td>0.975210</td>\n",
       "      <td>75008.0</td>\n",
       "      <td>84418.0</td>\n",
       "    </tr>\n",
       "    <tr>\n",
       "      <th>76</th>\n",
       "      <td>unet</td>\n",
       "      <td>unet_final_renacimiento_validation_6_fine_tuni...</td>\n",
       "      <td>0.030328</td>\n",
       "      <td>0.029898</td>\n",
       "      <td>0.082915</td>\n",
       "      <td>0.975544</td>\n",
       "      <td>0.975894</td>\n",
       "      <td>85260.0</td>\n",
       "      <td>75012.0</td>\n",
       "    </tr>\n",
       "    <tr>\n",
       "      <th>71</th>\n",
       "      <td>uloss</td>\n",
       "      <td>uloss_final_renacimiento_validation_8_fine_tun...</td>\n",
       "      <td>0.111469</td>\n",
       "      <td>0.030014</td>\n",
       "      <td>0.080992</td>\n",
       "      <td>0.975462</td>\n",
       "      <td>0.977338</td>\n",
       "      <td>87655.0</td>\n",
       "      <td>73155.0</td>\n",
       "    </tr>\n",
       "    <tr>\n",
       "      <th>18</th>\n",
       "      <td>unet</td>\n",
       "      <td>final_renacimiento_validation_5</td>\n",
       "      <td>0.030735</td>\n",
       "      <td>0.030172</td>\n",
       "      <td>0.084180</td>\n",
       "      <td>0.975373</td>\n",
       "      <td>0.975297</td>\n",
       "      <td>76188.0</td>\n",
       "      <td>85209.0</td>\n",
       "    </tr>\n",
       "    <tr>\n",
       "      <th>74</th>\n",
       "      <td>unet</td>\n",
       "      <td>unet_final_renacimiento_validation_6_fine_tuni...</td>\n",
       "      <td>0.030671</td>\n",
       "      <td>0.030396</td>\n",
       "      <td>0.085183</td>\n",
       "      <td>0.975229</td>\n",
       "      <td>0.975354</td>\n",
       "      <td>86834.0</td>\n",
       "      <td>75508.0</td>\n",
       "    </tr>\n",
       "    <tr>\n",
       "      <th>70</th>\n",
       "      <td>unet</td>\n",
       "      <td>unet_final_renacimiento_validation_6_fine_tuni...</td>\n",
       "      <td>0.030924</td>\n",
       "      <td>0.030462</td>\n",
       "      <td>0.083473</td>\n",
       "      <td>0.975150</td>\n",
       "      <td>0.975114</td>\n",
       "      <td>80846.0</td>\n",
       "      <td>82012.0</td>\n",
       "    </tr>\n",
       "    <tr>\n",
       "      <th>77</th>\n",
       "      <td>uloss</td>\n",
       "      <td>uloss_final_renacimiento_validation_8_fine_tun...</td>\n",
       "      <td>0.113240</td>\n",
       "      <td>0.030511</td>\n",
       "      <td>0.082304</td>\n",
       "      <td>0.975094</td>\n",
       "      <td>0.976503</td>\n",
       "      <td>90204.0</td>\n",
       "      <td>73019.0</td>\n",
       "    </tr>\n",
       "    <tr>\n",
       "      <th>73</th>\n",
       "      <td>uloss</td>\n",
       "      <td>uloss_final_renacimiento_validation_8_fine_tun...</td>\n",
       "      <td>0.113205</td>\n",
       "      <td>0.030606</td>\n",
       "      <td>0.082199</td>\n",
       "      <td>0.975160</td>\n",
       "      <td>0.975524</td>\n",
       "      <td>76604.0</td>\n",
       "      <td>86186.0</td>\n",
       "    </tr>\n",
       "    <tr>\n",
       "      <th>17</th>\n",
       "      <td>uloss</td>\n",
       "      <td>renacimiento_validation_4</td>\n",
       "      <td>0.119882</td>\n",
       "      <td>0.030873</td>\n",
       "      <td>0.088655</td>\n",
       "      <td>0.975076</td>\n",
       "      <td>0.976777</td>\n",
       "      <td>80748.0</td>\n",
       "      <td>80958.0</td>\n",
       "    </tr>\n",
       "    <tr>\n",
       "      <th>15</th>\n",
       "      <td>uloss</td>\n",
       "      <td>renacimiento_validation_3</td>\n",
       "      <td>0.119526</td>\n",
       "      <td>0.030919</td>\n",
       "      <td>0.088200</td>\n",
       "      <td>0.975120</td>\n",
       "      <td>0.976994</td>\n",
       "      <td>80190.0</td>\n",
       "      <td>81231.0</td>\n",
       "    </tr>\n",
       "    <tr>\n",
       "      <th>72</th>\n",
       "      <td>unet</td>\n",
       "      <td>unet_final_renacimiento_validation_6_fine_tuni...</td>\n",
       "      <td>0.031464</td>\n",
       "      <td>0.030978</td>\n",
       "      <td>0.085860</td>\n",
       "      <td>0.974726</td>\n",
       "      <td>0.974748</td>\n",
       "      <td>85402.0</td>\n",
       "      <td>80231.0</td>\n",
       "    </tr>\n",
       "    <tr>\n",
       "      <th>75</th>\n",
       "      <td>uloss</td>\n",
       "      <td>uloss_final_renacimiento_validation_8_fine_tun...</td>\n",
       "      <td>0.117031</td>\n",
       "      <td>0.031136</td>\n",
       "      <td>0.085429</td>\n",
       "      <td>0.974564</td>\n",
       "      <td>0.976189</td>\n",
       "      <td>94922.0</td>\n",
       "      <td>71774.0</td>\n",
       "    </tr>\n",
       "    <tr>\n",
       "      <th>69</th>\n",
       "      <td>uloss</td>\n",
       "      <td>uloss_final_renacimiento_validation_8_fine_tuning</td>\n",
       "      <td>0.114407</td>\n",
       "      <td>0.031643</td>\n",
       "      <td>0.082465</td>\n",
       "      <td>0.974345</td>\n",
       "      <td>0.975452</td>\n",
       "      <td>89055.0</td>\n",
       "      <td>79078.0</td>\n",
       "    </tr>\n",
       "    <tr>\n",
       "      <th>12</th>\n",
       "      <td>unet</td>\n",
       "      <td>renacimiento_validation_2</td>\n",
       "      <td>0.032413</td>\n",
       "      <td>0.031955</td>\n",
       "      <td>0.089793</td>\n",
       "      <td>0.974418</td>\n",
       "      <td>0.973736</td>\n",
       "      <td>70983.0</td>\n",
       "      <td>94992.0</td>\n",
       "    </tr>\n",
       "  </tbody>\n",
       "</table>\n",
       "</div>"
      ],
      "text/plain": [
       "     type                                               name      loss  \\\n",
       "38  uloss                    final_renacimiento_validation_8  0.100469   \n",
       "20   unet                    final_renacimiento_validation_6  0.027842   \n",
       "37   unet                    final_renacimiento_validation_7  0.028393   \n",
       "65   unet   unet_final_renacimiento_validation_6_fine_tuning  0.028354   \n",
       "19  uloss                    final_renacimiento_validation_6  0.102747   \n",
       "68   unet   unet_final_renacimiento_validation_6_fine_tuning  0.029598   \n",
       "67   unet   unet_final_renacimiento_validation_6_fine_tuning  0.030311   \n",
       "76   unet  unet_final_renacimiento_validation_6_fine_tuni...  0.030328   \n",
       "71  uloss  uloss_final_renacimiento_validation_8_fine_tun...  0.111469   \n",
       "18   unet                    final_renacimiento_validation_5  0.030735   \n",
       "74   unet  unet_final_renacimiento_validation_6_fine_tuni...  0.030671   \n",
       "70   unet  unet_final_renacimiento_validation_6_fine_tuni...  0.030924   \n",
       "77  uloss  uloss_final_renacimiento_validation_8_fine_tun...  0.113240   \n",
       "73  uloss  uloss_final_renacimiento_validation_8_fine_tun...  0.113205   \n",
       "17  uloss                          renacimiento_validation_4  0.119882   \n",
       "15  uloss                          renacimiento_validation_3  0.119526   \n",
       "72   unet  unet_final_renacimiento_validation_6_fine_tuni...  0.031464   \n",
       "75  uloss  uloss_final_renacimiento_validation_8_fine_tun...  0.117031   \n",
       "69  uloss  uloss_final_renacimiento_validation_8_fine_tuning  0.114407   \n",
       "12   unet                          renacimiento_validation_2  0.032413   \n",
       "\n",
       "    dice_coef_loss  loss_mask  accuracy       AUC  false_positives  \\\n",
       "38        0.026820   0.073125  0.978087  0.979268          68079.0   \n",
       "20        0.027473   0.078634  0.977579  0.977706          72640.0   \n",
       "37        0.027809   0.077276  0.977255  0.977421          72967.0   \n",
       "65        0.027965   0.080699  0.977174  0.977285          74099.0   \n",
       "19        0.028376   0.073854  0.976893  0.977792          70053.0   \n",
       "68        0.029172   0.081365  0.976225  0.975924          73761.0   \n",
       "67        0.029861   0.083249  0.975673  0.975210          75008.0   \n",
       "76        0.029898   0.082915  0.975544  0.975894          85260.0   \n",
       "71        0.030014   0.080992  0.975462  0.977338          87655.0   \n",
       "18        0.030172   0.084180  0.975373  0.975297          76188.0   \n",
       "74        0.030396   0.085183  0.975229  0.975354          86834.0   \n",
       "70        0.030462   0.083473  0.975150  0.975114          80846.0   \n",
       "77        0.030511   0.082304  0.975094  0.976503          90204.0   \n",
       "73        0.030606   0.082199  0.975160  0.975524          76604.0   \n",
       "17        0.030873   0.088655  0.975076  0.976777          80748.0   \n",
       "15        0.030919   0.088200  0.975120  0.976994          80190.0   \n",
       "72        0.030978   0.085860  0.974726  0.974748          85402.0   \n",
       "75        0.031136   0.085429  0.974564  0.976189          94922.0   \n",
       "69        0.031643   0.082465  0.974345  0.975452          89055.0   \n",
       "12        0.031955   0.089793  0.974418  0.973736          70983.0   \n",
       "\n",
       "    false_negatives  \n",
       "38          75530.0  \n",
       "20          74298.0  \n",
       "37          76094.0  \n",
       "65          75491.0  \n",
       "19          81382.0  \n",
       "68          82054.0  \n",
       "67          84418.0  \n",
       "76          75012.0  \n",
       "71          73155.0  \n",
       "18          85209.0  \n",
       "74          75508.0  \n",
       "70          82012.0  \n",
       "77          73019.0  \n",
       "73          86186.0  \n",
       "17          80958.0  \n",
       "15          81231.0  \n",
       "72          80231.0  \n",
       "75          71774.0  \n",
       "69          79078.0  \n",
       "12          94992.0  "
      ]
     },
     "execution_count": 57,
     "metadata": {},
     "output_type": "execute_result"
    }
   ],
   "source": [
    "df.sort_values('dice_coef_loss').head(20)"
   ]
  },
  {
   "cell_type": "code",
   "execution_count": 40,
   "id": "5eaade89-d593-4805-8088-26234dbf505c",
   "metadata": {},
   "outputs": [],
   "source": [
    "malos_ = df[['type', 'name', 'dice_coef_loss']][df.dice_coef_loss>0.05]"
   ]
  },
  {
   "cell_type": "code",
   "execution_count": 41,
   "id": "3cc3ef0d-592b-428a-a211-ddcea2355768",
   "metadata": {},
   "outputs": [
    {
     "data": {
      "text/html": [
       "<div>\n",
       "<style scoped>\n",
       "    .dataframe tbody tr th:only-of-type {\n",
       "        vertical-align: middle;\n",
       "    }\n",
       "\n",
       "    .dataframe tbody tr th {\n",
       "        vertical-align: top;\n",
       "    }\n",
       "\n",
       "    .dataframe thead th {\n",
       "        text-align: right;\n",
       "    }\n",
       "</style>\n",
       "<table border=\"1\" class=\"dataframe\">\n",
       "  <thead>\n",
       "    <tr style=\"text-align: right;\">\n",
       "      <th></th>\n",
       "      <th>type</th>\n",
       "      <th>name</th>\n",
       "      <th>dice_coef_loss</th>\n",
       "    </tr>\n",
       "  </thead>\n",
       "  <tbody>\n",
       "    <tr>\n",
       "      <th>78</th>\n",
       "      <td>unet</td>\n",
       "      <td>new_segmentation_6</td>\n",
       "      <td>0.423076</td>\n",
       "    </tr>\n",
       "  </tbody>\n",
       "</table>\n",
       "</div>"
      ],
      "text/plain": [
       "    type                name  dice_coef_loss\n",
       "78  unet  new_segmentation_6        0.423076"
      ]
     },
     "execution_count": 41,
     "metadata": {},
     "output_type": "execute_result"
    }
   ],
   "source": [
    "malos_"
   ]
  },
  {
   "cell_type": "code",
   "execution_count": 42,
   "id": "5e3f3f8d-4b64-4400-992f-ab10503f532f",
   "metadata": {},
   "outputs": [],
   "source": [
    "malos = [df['type'][i] + '_' + df['name'][i] for i in malos_.index]\n",
    "malos = [re.sub('__', '_', mal) for mal in malos]\n",
    "malos = [re.sub('.h5', '', mal) for mal in malos]\n",
    "malos = [re.sub('patologic_', '', mal) for mal in malos]"
   ]
  },
  {
   "cell_type": "code",
   "execution_count": 43,
   "id": "4ae407ed-cb25-4f73-8254-583146656a47",
   "metadata": {},
   "outputs": [
    {
     "data": {
      "text/plain": [
       "['unet_new_segmentation_6']"
      ]
     },
     "execution_count": 43,
     "metadata": {},
     "output_type": "execute_result"
    }
   ],
   "source": [
    "malos"
   ]
  },
  {
   "cell_type": "code",
   "execution_count": 44,
   "id": "df687284-5602-4349-9e66-143f578feab2",
   "metadata": {},
   "outputs": [],
   "source": [
    "def match(lista_resultados, lista_match):\n",
    "    return [f for f in lista_resultados if any([bool(re.search(match, f)) for match in lista_match])]"
   ]
  },
  {
   "cell_type": "code",
   "execution_count": 45,
   "id": "4b05e56c-fb89-489a-8e0b-ed6f2f11a0d6",
   "metadata": {},
   "outputs": [],
   "source": [
    "def eliminar(path, malos):\n",
    "    files = os.listdir(path)\n",
    "    files = match(files, malos)\n",
    "    if len(files) == len(malos):\n",
    "        for file in files:\n",
    "            try:\n",
    "                os.remove(os.path.join(path, file))\n",
    "                print(f'file {file} removed')\n",
    "            except:\n",
    "                shutil.rmtree(os.path.join(path,file), ignore_errors=True)\n",
    "                print(f'folder {file} removed')\n",
    "    else:\n",
    "        print('no tienen el mismo tamaño')\n",
    "        print(files)"
   ]
  },
  {
   "cell_type": "markdown",
   "id": "7b00c44b-2393-4784-a9f6-033bee38613c",
   "metadata": {},
   "source": [
    "### Logs"
   ]
  },
  {
   "cell_type": "code",
   "execution_count": 46,
   "id": "23ea8126-9e80-436c-9b72-560f9d9125d3",
   "metadata": {},
   "outputs": [],
   "source": [
    "path = '/home/mr1142/Documents/Data/logs/fit'"
   ]
  },
  {
   "cell_type": "code",
   "execution_count": 47,
   "id": "77fa9a06-1a24-4702-a26f-60d6661f858a",
   "metadata": {},
   "outputs": [
    {
     "name": "stdout",
     "output_type": "stream",
     "text": [
      "folder unet_new_segmentation_6 removed\n"
     ]
    }
   ],
   "source": [
    "eliminar(path, malos)"
   ]
  },
  {
   "cell_type": "markdown",
   "id": "1e85ee32-7706-4618-aa83-d3e1ec2c6e87",
   "metadata": {},
   "source": [
    "### Modelos"
   ]
  },
  {
   "cell_type": "code",
   "execution_count": 48,
   "id": "f500cde3-f170-44d6-a968-1c7a083df018",
   "metadata": {},
   "outputs": [],
   "source": [
    "path = '/home/mr1142/Documents/Data/models'"
   ]
  },
  {
   "cell_type": "code",
   "execution_count": 49,
   "id": "07424a7e-068b-4583-be6f-826c2a66d874",
   "metadata": {},
   "outputs": [
    {
     "name": "stdout",
     "output_type": "stream",
     "text": [
      "file unet_new_segmentation_6.h5 removed\n"
     ]
    }
   ],
   "source": [
    "eliminar(path, malos)"
   ]
  },
  {
   "cell_type": "markdown",
   "id": "711c4b5b-4958-4c36-9bc5-8dadb1b7cdb7",
   "metadata": {},
   "source": [
    "# Borrar datos"
   ]
  },
  {
   "cell_type": "code",
   "execution_count": 52,
   "id": "45f3bff7-1ed2-449e-8d7c-c9be1ca04a4d",
   "metadata": {},
   "outputs": [
    {
     "ename": "KeyError",
     "evalue": "'name'",
     "output_type": "error",
     "traceback": [
      "\u001b[0;31m---------------------------------------------------------------------------\u001b[0m",
      "\u001b[0;31mKeyError\u001b[0m                                  Traceback (most recent call last)",
      "\u001b[0;32m~/miniconda3/envs/init/lib/python3.6/site-packages/pandas/core/indexes/base.py\u001b[0m in \u001b[0;36mget_loc\u001b[0;34m(self, key, method, tolerance)\u001b[0m\n\u001b[1;32m   2897\u001b[0m             \u001b[0;32mtry\u001b[0m\u001b[0;34m:\u001b[0m\u001b[0;34m\u001b[0m\u001b[0;34m\u001b[0m\u001b[0m\n\u001b[0;32m-> 2898\u001b[0;31m                 \u001b[0;32mreturn\u001b[0m \u001b[0mself\u001b[0m\u001b[0;34m.\u001b[0m\u001b[0m_engine\u001b[0m\u001b[0;34m.\u001b[0m\u001b[0mget_loc\u001b[0m\u001b[0;34m(\u001b[0m\u001b[0mcasted_key\u001b[0m\u001b[0;34m)\u001b[0m\u001b[0;34m\u001b[0m\u001b[0;34m\u001b[0m\u001b[0m\n\u001b[0m\u001b[1;32m   2899\u001b[0m             \u001b[0;32mexcept\u001b[0m \u001b[0mKeyError\u001b[0m \u001b[0;32mas\u001b[0m \u001b[0merr\u001b[0m\u001b[0;34m:\u001b[0m\u001b[0;34m\u001b[0m\u001b[0;34m\u001b[0m\u001b[0m\n",
      "\u001b[0;32mpandas/_libs/index.pyx\u001b[0m in \u001b[0;36mpandas._libs.index.IndexEngine.get_loc\u001b[0;34m()\u001b[0m\n",
      "\u001b[0;32mpandas/_libs/index.pyx\u001b[0m in \u001b[0;36mpandas._libs.index.IndexEngine.get_loc\u001b[0;34m()\u001b[0m\n",
      "\u001b[0;32mpandas/_libs/hashtable_class_helper.pxi\u001b[0m in \u001b[0;36mpandas._libs.hashtable.PyObjectHashTable.get_item\u001b[0;34m()\u001b[0m\n",
      "\u001b[0;32mpandas/_libs/hashtable_class_helper.pxi\u001b[0m in \u001b[0;36mpandas._libs.hashtable.PyObjectHashTable.get_item\u001b[0;34m()\u001b[0m\n",
      "\u001b[0;31mKeyError\u001b[0m: 'name'",
      "\nThe above exception was the direct cause of the following exception:\n",
      "\u001b[0;31mKeyError\u001b[0m                                  Traceback (most recent call last)",
      "\u001b[0;32m<ipython-input-52-bc24ebae6a61>\u001b[0m in \u001b[0;36m<module>\u001b[0;34m\u001b[0m\n\u001b[1;32m      4\u001b[0m \u001b[0;32mfor\u001b[0m \u001b[0mcsv\u001b[0m \u001b[0;32min\u001b[0m \u001b[0mcsvs\u001b[0m\u001b[0;34m:\u001b[0m\u001b[0;34m\u001b[0m\u001b[0;34m\u001b[0m\u001b[0m\n\u001b[1;32m      5\u001b[0m     \u001b[0mdf\u001b[0m \u001b[0;34m=\u001b[0m \u001b[0mpd\u001b[0m\u001b[0;34m.\u001b[0m\u001b[0mread_csv\u001b[0m\u001b[0;34m(\u001b[0m\u001b[0mos\u001b[0m\u001b[0;34m.\u001b[0m\u001b[0mpath\u001b[0m\u001b[0;34m.\u001b[0m\u001b[0mjoin\u001b[0m\u001b[0;34m(\u001b[0m\u001b[0mpath\u001b[0m\u001b[0;34m,\u001b[0m \u001b[0mcsv\u001b[0m\u001b[0;34m)\u001b[0m\u001b[0;34m)\u001b[0m\u001b[0;34m\u001b[0m\u001b[0;34m\u001b[0m\u001b[0m\n\u001b[0;32m----> 6\u001b[0;31m     \u001b[0mindex\u001b[0m \u001b[0;34m=\u001b[0m \u001b[0;34m[\u001b[0m\u001b[0mi\u001b[0m \u001b[0;32mfor\u001b[0m \u001b[0mi\u001b[0m \u001b[0;32min\u001b[0m \u001b[0mdf\u001b[0m\u001b[0;34m.\u001b[0m\u001b[0mindex\u001b[0m \u001b[0;32mif\u001b[0m \u001b[0many\u001b[0m\u001b[0;34m(\u001b[0m\u001b[0;34m[\u001b[0m\u001b[0mbool\u001b[0m\u001b[0;34m(\u001b[0m\u001b[0mre\u001b[0m\u001b[0;34m.\u001b[0m\u001b[0msearch\u001b[0m\u001b[0;34m(\u001b[0m\u001b[0mmal\u001b[0m\u001b[0;34m,\u001b[0m \u001b[0mdf\u001b[0m\u001b[0;34m[\u001b[0m\u001b[0;34m'name'\u001b[0m\u001b[0;34m]\u001b[0m\u001b[0;34m[\u001b[0m\u001b[0mi\u001b[0m\u001b[0;34m]\u001b[0m\u001b[0;34m)\u001b[0m\u001b[0;34m)\u001b[0m \u001b[0;32mfor\u001b[0m \u001b[0mmal\u001b[0m \u001b[0;32min\u001b[0m \u001b[0mmalos_\u001b[0m\u001b[0;34m[\u001b[0m\u001b[0;34m'name'\u001b[0m\u001b[0;34m]\u001b[0m\u001b[0;34m]\u001b[0m\u001b[0;34m)\u001b[0m\u001b[0;34m]\u001b[0m\u001b[0;34m\u001b[0m\u001b[0;34m\u001b[0m\u001b[0m\n\u001b[0m\u001b[1;32m      7\u001b[0m     \u001b[0mdf\u001b[0m \u001b[0;34m=\u001b[0m \u001b[0mdf\u001b[0m\u001b[0;34m.\u001b[0m\u001b[0mdrop\u001b[0m\u001b[0;34m(\u001b[0m\u001b[0mindex\u001b[0m\u001b[0;34m)\u001b[0m\u001b[0;34m\u001b[0m\u001b[0;34m\u001b[0m\u001b[0m\n\u001b[1;32m      8\u001b[0m     \u001b[0mdf\u001b[0m\u001b[0;34m.\u001b[0m\u001b[0mto_csv\u001b[0m\u001b[0;34m(\u001b[0m\u001b[0mos\u001b[0m\u001b[0;34m.\u001b[0m\u001b[0mpath\u001b[0m\u001b[0;34m.\u001b[0m\u001b[0mjoin\u001b[0m\u001b[0;34m(\u001b[0m\u001b[0mpath\u001b[0m\u001b[0;34m,\u001b[0m \u001b[0mcsv\u001b[0m\u001b[0;34m)\u001b[0m\u001b[0;34m,\u001b[0m \u001b[0mindex\u001b[0m \u001b[0;34m=\u001b[0m \u001b[0;32mFalse\u001b[0m\u001b[0;34m)\u001b[0m\u001b[0;34m\u001b[0m\u001b[0;34m\u001b[0m\u001b[0m\n",
      "\u001b[0;32m<ipython-input-52-bc24ebae6a61>\u001b[0m in \u001b[0;36m<listcomp>\u001b[0;34m(.0)\u001b[0m\n\u001b[1;32m      4\u001b[0m \u001b[0;32mfor\u001b[0m \u001b[0mcsv\u001b[0m \u001b[0;32min\u001b[0m \u001b[0mcsvs\u001b[0m\u001b[0;34m:\u001b[0m\u001b[0;34m\u001b[0m\u001b[0;34m\u001b[0m\u001b[0m\n\u001b[1;32m      5\u001b[0m     \u001b[0mdf\u001b[0m \u001b[0;34m=\u001b[0m \u001b[0mpd\u001b[0m\u001b[0;34m.\u001b[0m\u001b[0mread_csv\u001b[0m\u001b[0;34m(\u001b[0m\u001b[0mos\u001b[0m\u001b[0;34m.\u001b[0m\u001b[0mpath\u001b[0m\u001b[0;34m.\u001b[0m\u001b[0mjoin\u001b[0m\u001b[0;34m(\u001b[0m\u001b[0mpath\u001b[0m\u001b[0;34m,\u001b[0m \u001b[0mcsv\u001b[0m\u001b[0;34m)\u001b[0m\u001b[0;34m)\u001b[0m\u001b[0;34m\u001b[0m\u001b[0;34m\u001b[0m\u001b[0m\n\u001b[0;32m----> 6\u001b[0;31m     \u001b[0mindex\u001b[0m \u001b[0;34m=\u001b[0m \u001b[0;34m[\u001b[0m\u001b[0mi\u001b[0m \u001b[0;32mfor\u001b[0m \u001b[0mi\u001b[0m \u001b[0;32min\u001b[0m \u001b[0mdf\u001b[0m\u001b[0;34m.\u001b[0m\u001b[0mindex\u001b[0m \u001b[0;32mif\u001b[0m \u001b[0many\u001b[0m\u001b[0;34m(\u001b[0m\u001b[0;34m[\u001b[0m\u001b[0mbool\u001b[0m\u001b[0;34m(\u001b[0m\u001b[0mre\u001b[0m\u001b[0;34m.\u001b[0m\u001b[0msearch\u001b[0m\u001b[0;34m(\u001b[0m\u001b[0mmal\u001b[0m\u001b[0;34m,\u001b[0m \u001b[0mdf\u001b[0m\u001b[0;34m[\u001b[0m\u001b[0;34m'name'\u001b[0m\u001b[0;34m]\u001b[0m\u001b[0;34m[\u001b[0m\u001b[0mi\u001b[0m\u001b[0;34m]\u001b[0m\u001b[0;34m)\u001b[0m\u001b[0;34m)\u001b[0m \u001b[0;32mfor\u001b[0m \u001b[0mmal\u001b[0m \u001b[0;32min\u001b[0m \u001b[0mmalos_\u001b[0m\u001b[0;34m[\u001b[0m\u001b[0;34m'name'\u001b[0m\u001b[0;34m]\u001b[0m\u001b[0;34m]\u001b[0m\u001b[0;34m)\u001b[0m\u001b[0;34m]\u001b[0m\u001b[0;34m\u001b[0m\u001b[0;34m\u001b[0m\u001b[0m\n\u001b[0m\u001b[1;32m      7\u001b[0m     \u001b[0mdf\u001b[0m \u001b[0;34m=\u001b[0m \u001b[0mdf\u001b[0m\u001b[0;34m.\u001b[0m\u001b[0mdrop\u001b[0m\u001b[0;34m(\u001b[0m\u001b[0mindex\u001b[0m\u001b[0;34m)\u001b[0m\u001b[0;34m\u001b[0m\u001b[0;34m\u001b[0m\u001b[0m\n\u001b[1;32m      8\u001b[0m     \u001b[0mdf\u001b[0m\u001b[0;34m.\u001b[0m\u001b[0mto_csv\u001b[0m\u001b[0;34m(\u001b[0m\u001b[0mos\u001b[0m\u001b[0;34m.\u001b[0m\u001b[0mpath\u001b[0m\u001b[0;34m.\u001b[0m\u001b[0mjoin\u001b[0m\u001b[0;34m(\u001b[0m\u001b[0mpath\u001b[0m\u001b[0;34m,\u001b[0m \u001b[0mcsv\u001b[0m\u001b[0;34m)\u001b[0m\u001b[0;34m,\u001b[0m \u001b[0mindex\u001b[0m \u001b[0;34m=\u001b[0m \u001b[0;32mFalse\u001b[0m\u001b[0;34m)\u001b[0m\u001b[0;34m\u001b[0m\u001b[0;34m\u001b[0m\u001b[0m\n",
      "\u001b[0;32m<ipython-input-52-bc24ebae6a61>\u001b[0m in \u001b[0;36m<listcomp>\u001b[0;34m(.0)\u001b[0m\n\u001b[1;32m      4\u001b[0m \u001b[0;32mfor\u001b[0m \u001b[0mcsv\u001b[0m \u001b[0;32min\u001b[0m \u001b[0mcsvs\u001b[0m\u001b[0;34m:\u001b[0m\u001b[0;34m\u001b[0m\u001b[0;34m\u001b[0m\u001b[0m\n\u001b[1;32m      5\u001b[0m     \u001b[0mdf\u001b[0m \u001b[0;34m=\u001b[0m \u001b[0mpd\u001b[0m\u001b[0;34m.\u001b[0m\u001b[0mread_csv\u001b[0m\u001b[0;34m(\u001b[0m\u001b[0mos\u001b[0m\u001b[0;34m.\u001b[0m\u001b[0mpath\u001b[0m\u001b[0;34m.\u001b[0m\u001b[0mjoin\u001b[0m\u001b[0;34m(\u001b[0m\u001b[0mpath\u001b[0m\u001b[0;34m,\u001b[0m \u001b[0mcsv\u001b[0m\u001b[0;34m)\u001b[0m\u001b[0;34m)\u001b[0m\u001b[0;34m\u001b[0m\u001b[0;34m\u001b[0m\u001b[0m\n\u001b[0;32m----> 6\u001b[0;31m     \u001b[0mindex\u001b[0m \u001b[0;34m=\u001b[0m \u001b[0;34m[\u001b[0m\u001b[0mi\u001b[0m \u001b[0;32mfor\u001b[0m \u001b[0mi\u001b[0m \u001b[0;32min\u001b[0m \u001b[0mdf\u001b[0m\u001b[0;34m.\u001b[0m\u001b[0mindex\u001b[0m \u001b[0;32mif\u001b[0m \u001b[0many\u001b[0m\u001b[0;34m(\u001b[0m\u001b[0;34m[\u001b[0m\u001b[0mbool\u001b[0m\u001b[0;34m(\u001b[0m\u001b[0mre\u001b[0m\u001b[0;34m.\u001b[0m\u001b[0msearch\u001b[0m\u001b[0;34m(\u001b[0m\u001b[0mmal\u001b[0m\u001b[0;34m,\u001b[0m \u001b[0mdf\u001b[0m\u001b[0;34m[\u001b[0m\u001b[0;34m'name'\u001b[0m\u001b[0;34m]\u001b[0m\u001b[0;34m[\u001b[0m\u001b[0mi\u001b[0m\u001b[0;34m]\u001b[0m\u001b[0;34m)\u001b[0m\u001b[0;34m)\u001b[0m \u001b[0;32mfor\u001b[0m \u001b[0mmal\u001b[0m \u001b[0;32min\u001b[0m \u001b[0mmalos_\u001b[0m\u001b[0;34m[\u001b[0m\u001b[0;34m'name'\u001b[0m\u001b[0;34m]\u001b[0m\u001b[0;34m]\u001b[0m\u001b[0;34m)\u001b[0m\u001b[0;34m]\u001b[0m\u001b[0;34m\u001b[0m\u001b[0;34m\u001b[0m\u001b[0m\n\u001b[0m\u001b[1;32m      7\u001b[0m     \u001b[0mdf\u001b[0m \u001b[0;34m=\u001b[0m \u001b[0mdf\u001b[0m\u001b[0;34m.\u001b[0m\u001b[0mdrop\u001b[0m\u001b[0;34m(\u001b[0m\u001b[0mindex\u001b[0m\u001b[0;34m)\u001b[0m\u001b[0;34m\u001b[0m\u001b[0;34m\u001b[0m\u001b[0m\n\u001b[1;32m      8\u001b[0m     \u001b[0mdf\u001b[0m\u001b[0;34m.\u001b[0m\u001b[0mto_csv\u001b[0m\u001b[0;34m(\u001b[0m\u001b[0mos\u001b[0m\u001b[0;34m.\u001b[0m\u001b[0mpath\u001b[0m\u001b[0;34m.\u001b[0m\u001b[0mjoin\u001b[0m\u001b[0;34m(\u001b[0m\u001b[0mpath\u001b[0m\u001b[0;34m,\u001b[0m \u001b[0mcsv\u001b[0m\u001b[0;34m)\u001b[0m\u001b[0;34m,\u001b[0m \u001b[0mindex\u001b[0m \u001b[0;34m=\u001b[0m \u001b[0;32mFalse\u001b[0m\u001b[0;34m)\u001b[0m\u001b[0;34m\u001b[0m\u001b[0;34m\u001b[0m\u001b[0m\n",
      "\u001b[0;32m~/miniconda3/envs/init/lib/python3.6/site-packages/pandas/core/frame.py\u001b[0m in \u001b[0;36m__getitem__\u001b[0;34m(self, key)\u001b[0m\n\u001b[1;32m   2904\u001b[0m             \u001b[0;32mif\u001b[0m \u001b[0mself\u001b[0m\u001b[0;34m.\u001b[0m\u001b[0mcolumns\u001b[0m\u001b[0;34m.\u001b[0m\u001b[0mnlevels\u001b[0m \u001b[0;34m>\u001b[0m \u001b[0;36m1\u001b[0m\u001b[0;34m:\u001b[0m\u001b[0;34m\u001b[0m\u001b[0;34m\u001b[0m\u001b[0m\n\u001b[1;32m   2905\u001b[0m                 \u001b[0;32mreturn\u001b[0m \u001b[0mself\u001b[0m\u001b[0;34m.\u001b[0m\u001b[0m_getitem_multilevel\u001b[0m\u001b[0;34m(\u001b[0m\u001b[0mkey\u001b[0m\u001b[0;34m)\u001b[0m\u001b[0;34m\u001b[0m\u001b[0;34m\u001b[0m\u001b[0m\n\u001b[0;32m-> 2906\u001b[0;31m             \u001b[0mindexer\u001b[0m \u001b[0;34m=\u001b[0m \u001b[0mself\u001b[0m\u001b[0;34m.\u001b[0m\u001b[0mcolumns\u001b[0m\u001b[0;34m.\u001b[0m\u001b[0mget_loc\u001b[0m\u001b[0;34m(\u001b[0m\u001b[0mkey\u001b[0m\u001b[0;34m)\u001b[0m\u001b[0;34m\u001b[0m\u001b[0;34m\u001b[0m\u001b[0m\n\u001b[0m\u001b[1;32m   2907\u001b[0m             \u001b[0;32mif\u001b[0m \u001b[0mis_integer\u001b[0m\u001b[0;34m(\u001b[0m\u001b[0mindexer\u001b[0m\u001b[0;34m)\u001b[0m\u001b[0;34m:\u001b[0m\u001b[0;34m\u001b[0m\u001b[0;34m\u001b[0m\u001b[0m\n\u001b[1;32m   2908\u001b[0m                 \u001b[0mindexer\u001b[0m \u001b[0;34m=\u001b[0m \u001b[0;34m[\u001b[0m\u001b[0mindexer\u001b[0m\u001b[0;34m]\u001b[0m\u001b[0;34m\u001b[0m\u001b[0;34m\u001b[0m\u001b[0m\n",
      "\u001b[0;32m~/miniconda3/envs/init/lib/python3.6/site-packages/pandas/core/indexes/base.py\u001b[0m in \u001b[0;36mget_loc\u001b[0;34m(self, key, method, tolerance)\u001b[0m\n\u001b[1;32m   2898\u001b[0m                 \u001b[0;32mreturn\u001b[0m \u001b[0mself\u001b[0m\u001b[0;34m.\u001b[0m\u001b[0m_engine\u001b[0m\u001b[0;34m.\u001b[0m\u001b[0mget_loc\u001b[0m\u001b[0;34m(\u001b[0m\u001b[0mcasted_key\u001b[0m\u001b[0;34m)\u001b[0m\u001b[0;34m\u001b[0m\u001b[0;34m\u001b[0m\u001b[0m\n\u001b[1;32m   2899\u001b[0m             \u001b[0;32mexcept\u001b[0m \u001b[0mKeyError\u001b[0m \u001b[0;32mas\u001b[0m \u001b[0merr\u001b[0m\u001b[0;34m:\u001b[0m\u001b[0;34m\u001b[0m\u001b[0;34m\u001b[0m\u001b[0m\n\u001b[0;32m-> 2900\u001b[0;31m                 \u001b[0;32mraise\u001b[0m \u001b[0mKeyError\u001b[0m\u001b[0;34m(\u001b[0m\u001b[0mkey\u001b[0m\u001b[0;34m)\u001b[0m \u001b[0;32mfrom\u001b[0m \u001b[0merr\u001b[0m\u001b[0;34m\u001b[0m\u001b[0;34m\u001b[0m\u001b[0m\n\u001b[0m\u001b[1;32m   2901\u001b[0m \u001b[0;34m\u001b[0m\u001b[0m\n\u001b[1;32m   2902\u001b[0m         \u001b[0;32mif\u001b[0m \u001b[0mtolerance\u001b[0m \u001b[0;32mis\u001b[0m \u001b[0;32mnot\u001b[0m \u001b[0;32mNone\u001b[0m\u001b[0;34m:\u001b[0m\u001b[0;34m\u001b[0m\u001b[0;34m\u001b[0m\u001b[0m\n",
      "\u001b[0;31mKeyError\u001b[0m: 'name'"
     ]
    }
   ],
   "source": [
    "path = '/home/mr1142/Documents/Data/models/validation_results'\n",
    "csvs = os.listdir(path)\n",
    "\n",
    "for csv in csvs:\n",
    "    df = pd.read_csv(os.path.join(path, csv))\n",
    "    index = [i for i in df.index if any([bool(re.search(mal, df['name'][i])) for mal in malos_['name']])]\n",
    "    df = df.drop(index)\n",
    "    df.to_csv(os.path.join(path, csv), index = False)"
   ]
  },
  {
   "cell_type": "code",
   "execution_count": null,
   "id": "a69500e0-a506-4968-926a-9e9a4c89fe6b",
   "metadata": {},
   "outputs": [],
   "source": []
  },
  {
   "cell_type": "code",
   "execution_count": null,
   "id": "dd09b433-fcfd-43d5-b308-af41d5006b10",
   "metadata": {},
   "outputs": [],
   "source": []
  }
 ],
 "metadata": {
  "kernelspec": {
   "display_name": "Python 3",
   "language": "python",
   "name": "python3"
  },
  "language_info": {
   "codemirror_mode": {
    "name": "ipython",
    "version": 3
   },
   "file_extension": ".py",
   "mimetype": "text/x-python",
   "name": "python",
   "nbconvert_exporter": "python",
   "pygments_lexer": "ipython3",
   "version": "3.6.8"
  }
 },
 "nbformat": 4,
 "nbformat_minor": 5
}
