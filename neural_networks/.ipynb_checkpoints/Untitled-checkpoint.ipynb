{
 "cells": [
  {
   "cell_type": "code",
   "execution_count": 1,
   "id": "7c882fd5-339a-494f-b278-747c0eb1f593",
   "metadata": {},
   "outputs": [
    {
     "name": "stderr",
     "output_type": "stream",
     "text": [
      "2022-06-24 23:49:08.609163: W tensorflow/stream_executor/platform/default/dso_loader.cc:64] Could not load dynamic library 'libcudart.so.11.0'; dlerror: libcudart.so.11.0: cannot open shared object file: No such file or directory\n",
      "2022-06-24 23:49:08.609189: I tensorflow/stream_executor/cuda/cudart_stub.cc:29] Ignore above cudart dlerror if you do not have a GPU set up on your machine.\n"
     ]
    }
   ],
   "source": [
    "import os\n",
    "import pandas as pd\n",
    "import numpy as np\n",
    "import PIL\n",
    "import tensorflow as tf\n",
    "import matplotlib.pyplot as plt\n",
    "from PIL import Image\n",
    "from sklearn import model_selection\n",
    "\n",
    "from tensorflow.keras.applications import EfficientNetB0\n",
    "from tensorflow.keras import models\n",
    "from tensorflow.keras import layers"
   ]
  },
  {
   "cell_type": "markdown",
   "id": "9cd7de61-e5b7-42dd-be26-1435f6131e42",
   "metadata": {},
   "source": [
    "## Datos"
   ]
  },
  {
   "cell_type": "code",
   "execution_count": 2,
   "id": "e3ef5bf8-fbb2-4dec-848b-48721469ebd2",
   "metadata": {},
   "outputs": [],
   "source": [
    "path = '/home/maryskal/Downloads/Garbage classification'"
   ]
  },
  {
   "cell_type": "code",
   "execution_count": 3,
   "id": "539f5677-0408-4ac6-ab38-156e60089613",
   "metadata": {},
   "outputs": [],
   "source": [
    "classes = os.listdir(path)"
   ]
  },
  {
   "cell_type": "code",
   "execution_count": 4,
   "id": "4bf382e0-9e68-4b3d-86e3-523f498ebc51",
   "metadata": {},
   "outputs": [],
   "source": [
    "directorios = []\n",
    "clases = []\n",
    "for clase in classes:\n",
    "    dir_list = [os.path.join(path, clase, dir) for dir in os.listdir(os.path.join(path, clase))]\n",
    "    directorios += dir_list\n",
    "    clases += [clase for i in range(len(dir_list))]"
   ]
  },
  {
   "cell_type": "code",
   "execution_count": 5,
   "id": "113c81ea-f937-425f-8aaf-2f6ec4197daf",
   "metadata": {},
   "outputs": [],
   "source": [
    "df = pd.DataFrame()\n",
    "df['directorios'] = directorios\n",
    "df['clase'] = clases"
   ]
  },
  {
   "cell_type": "code",
   "execution_count": 6,
   "id": "2b62013f-dc49-460c-a328-cf09dc79ca84",
   "metadata": {},
   "outputs": [],
   "source": [
    "df = pd.concat([df, pd.get_dummies(df.clase)], axis = 1)"
   ]
  },
  {
   "cell_type": "code",
   "execution_count": 7,
   "id": "b0a6eca1-560c-4060-bbea-e4d5a79753ab",
   "metadata": {},
   "outputs": [
    {
     "data": {
      "text/html": [
       "<div>\n",
       "<style scoped>\n",
       "    .dataframe tbody tr th:only-of-type {\n",
       "        vertical-align: middle;\n",
       "    }\n",
       "\n",
       "    .dataframe tbody tr th {\n",
       "        vertical-align: top;\n",
       "    }\n",
       "\n",
       "    .dataframe thead th {\n",
       "        text-align: right;\n",
       "    }\n",
       "</style>\n",
       "<table border=\"1\" class=\"dataframe\">\n",
       "  <thead>\n",
       "    <tr style=\"text-align: right;\">\n",
       "      <th></th>\n",
       "      <th>directorios</th>\n",
       "      <th>clase</th>\n",
       "      <th>cardboard</th>\n",
       "      <th>glass</th>\n",
       "      <th>metal</th>\n",
       "      <th>paper</th>\n",
       "      <th>plastic</th>\n",
       "      <th>trash</th>\n",
       "    </tr>\n",
       "  </thead>\n",
       "  <tbody>\n",
       "    <tr>\n",
       "      <th>0</th>\n",
       "      <td>/home/maryskal/Downloads/Garbage classificatio...</td>\n",
       "      <td>glass</td>\n",
       "      <td>0</td>\n",
       "      <td>1</td>\n",
       "      <td>0</td>\n",
       "      <td>0</td>\n",
       "      <td>0</td>\n",
       "      <td>0</td>\n",
       "    </tr>\n",
       "    <tr>\n",
       "      <th>1</th>\n",
       "      <td>/home/maryskal/Downloads/Garbage classificatio...</td>\n",
       "      <td>glass</td>\n",
       "      <td>0</td>\n",
       "      <td>1</td>\n",
       "      <td>0</td>\n",
       "      <td>0</td>\n",
       "      <td>0</td>\n",
       "      <td>0</td>\n",
       "    </tr>\n",
       "    <tr>\n",
       "      <th>2</th>\n",
       "      <td>/home/maryskal/Downloads/Garbage classificatio...</td>\n",
       "      <td>glass</td>\n",
       "      <td>0</td>\n",
       "      <td>1</td>\n",
       "      <td>0</td>\n",
       "      <td>0</td>\n",
       "      <td>0</td>\n",
       "      <td>0</td>\n",
       "    </tr>\n",
       "    <tr>\n",
       "      <th>3</th>\n",
       "      <td>/home/maryskal/Downloads/Garbage classificatio...</td>\n",
       "      <td>glass</td>\n",
       "      <td>0</td>\n",
       "      <td>1</td>\n",
       "      <td>0</td>\n",
       "      <td>0</td>\n",
       "      <td>0</td>\n",
       "      <td>0</td>\n",
       "    </tr>\n",
       "    <tr>\n",
       "      <th>4</th>\n",
       "      <td>/home/maryskal/Downloads/Garbage classificatio...</td>\n",
       "      <td>glass</td>\n",
       "      <td>0</td>\n",
       "      <td>1</td>\n",
       "      <td>0</td>\n",
       "      <td>0</td>\n",
       "      <td>0</td>\n",
       "      <td>0</td>\n",
       "    </tr>\n",
       "  </tbody>\n",
       "</table>\n",
       "</div>"
      ],
      "text/plain": [
       "                                         directorios  clase  cardboard  glass  \\\n",
       "0  /home/maryskal/Downloads/Garbage classificatio...  glass          0      1   \n",
       "1  /home/maryskal/Downloads/Garbage classificatio...  glass          0      1   \n",
       "2  /home/maryskal/Downloads/Garbage classificatio...  glass          0      1   \n",
       "3  /home/maryskal/Downloads/Garbage classificatio...  glass          0      1   \n",
       "4  /home/maryskal/Downloads/Garbage classificatio...  glass          0      1   \n",
       "\n",
       "   metal  paper  plastic  trash  \n",
       "0      0      0        0      0  \n",
       "1      0      0        0      0  \n",
       "2      0      0        0      0  \n",
       "3      0      0        0      0  \n",
       "4      0      0        0      0  "
      ]
     },
     "execution_count": 7,
     "metadata": {},
     "output_type": "execute_result"
    }
   ],
   "source": [
    "df.head()"
   ]
  },
  {
   "cell_type": "code",
   "execution_count": 8,
   "id": "57a06e95-661c-45e3-a3f2-be711d94860d",
   "metadata": {},
   "outputs": [
    {
     "data": {
      "text/html": [
       "<div>\n",
       "<style scoped>\n",
       "    .dataframe tbody tr th:only-of-type {\n",
       "        vertical-align: middle;\n",
       "    }\n",
       "\n",
       "    .dataframe tbody tr th {\n",
       "        vertical-align: top;\n",
       "    }\n",
       "\n",
       "    .dataframe thead th {\n",
       "        text-align: right;\n",
       "    }\n",
       "</style>\n",
       "<table border=\"1\" class=\"dataframe\">\n",
       "  <thead>\n",
       "    <tr style=\"text-align: right;\">\n",
       "      <th></th>\n",
       "      <th>directorios</th>\n",
       "      <th>clase</th>\n",
       "      <th>cardboard</th>\n",
       "      <th>glass</th>\n",
       "      <th>metal</th>\n",
       "      <th>paper</th>\n",
       "      <th>plastic</th>\n",
       "      <th>trash</th>\n",
       "    </tr>\n",
       "  </thead>\n",
       "  <tbody>\n",
       "    <tr>\n",
       "      <th>384</th>\n",
       "      <td>/home/maryskal/Downloads/Garbage classificatio...</td>\n",
       "      <td>glass</td>\n",
       "      <td>0</td>\n",
       "      <td>1</td>\n",
       "      <td>0</td>\n",
       "      <td>0</td>\n",
       "      <td>0</td>\n",
       "      <td>0</td>\n",
       "    </tr>\n",
       "    <tr>\n",
       "      <th>1608</th>\n",
       "      <td>/home/maryskal/Downloads/Garbage classificatio...</td>\n",
       "      <td>paper</td>\n",
       "      <td>0</td>\n",
       "      <td>0</td>\n",
       "      <td>0</td>\n",
       "      <td>1</td>\n",
       "      <td>0</td>\n",
       "      <td>0</td>\n",
       "    </tr>\n",
       "    <tr>\n",
       "      <th>985</th>\n",
       "      <td>/home/maryskal/Downloads/Garbage classificatio...</td>\n",
       "      <td>cardboard</td>\n",
       "      <td>1</td>\n",
       "      <td>0</td>\n",
       "      <td>0</td>\n",
       "      <td>0</td>\n",
       "      <td>0</td>\n",
       "      <td>0</td>\n",
       "    </tr>\n",
       "    <tr>\n",
       "      <th>1846</th>\n",
       "      <td>/home/maryskal/Downloads/Garbage classificatio...</td>\n",
       "      <td>plastic</td>\n",
       "      <td>0</td>\n",
       "      <td>0</td>\n",
       "      <td>0</td>\n",
       "      <td>0</td>\n",
       "      <td>1</td>\n",
       "      <td>0</td>\n",
       "    </tr>\n",
       "    <tr>\n",
       "      <th>1952</th>\n",
       "      <td>/home/maryskal/Downloads/Garbage classificatio...</td>\n",
       "      <td>plastic</td>\n",
       "      <td>0</td>\n",
       "      <td>0</td>\n",
       "      <td>0</td>\n",
       "      <td>0</td>\n",
       "      <td>1</td>\n",
       "      <td>0</td>\n",
       "    </tr>\n",
       "  </tbody>\n",
       "</table>\n",
       "</div>"
      ],
      "text/plain": [
       "                                            directorios      clase  cardboard  \\\n",
       "384   /home/maryskal/Downloads/Garbage classificatio...      glass          0   \n",
       "1608  /home/maryskal/Downloads/Garbage classificatio...      paper          0   \n",
       "985   /home/maryskal/Downloads/Garbage classificatio...  cardboard          1   \n",
       "1846  /home/maryskal/Downloads/Garbage classificatio...    plastic          0   \n",
       "1952  /home/maryskal/Downloads/Garbage classificatio...    plastic          0   \n",
       "\n",
       "      glass  metal  paper  plastic  trash  \n",
       "384       1      0      0        0      0  \n",
       "1608      0      0      1        0      0  \n",
       "985       0      0      0        0      0  \n",
       "1846      0      0      0        1      0  \n",
       "1952      0      0      0        1      0  "
      ]
     },
     "execution_count": 8,
     "metadata": {},
     "output_type": "execute_result"
    }
   ],
   "source": [
    "df = df.sample(frac=1)\n",
    "df.head()"
   ]
  },
  {
   "cell_type": "code",
   "execution_count": 9,
   "id": "5e2d1610-e270-4f68-9535-0b830330ab14",
   "metadata": {},
   "outputs": [],
   "source": [
    "def charge_reshape(path):\n",
    "    img = Image.open(path)\n",
    "    img = img.resize((256,256))\n",
    "    img = np.array(img)\n",
    "    try:\n",
    "        img = img[:,:,0]\n",
    "    except:\n",
    "        print('e')\n",
    "    img = np.expand_dims(img, axis=-1)\n",
    "    img = img/256\n",
    "    return img"
   ]
  },
  {
   "cell_type": "code",
   "execution_count": 10,
   "id": "403b8a01-78ff-4cab-9737-be9f5bca3950",
   "metadata": {},
   "outputs": [],
   "source": [
    "tensor = np.zeros((len(df),256,256,1))\n",
    "for i in range(len(df)):\n",
    "    tensor[i,...] = charge_reshape(df.directorios[i])"
   ]
  },
  {
   "cell_type": "markdown",
   "id": "0d86d538-b9ed-49d5-9ce0-5cad70f778bf",
   "metadata": {},
   "source": [
    "Como son 6 variables de salida hay que meter como output un array que tenga 6 valores."
   ]
  },
  {
   "cell_type": "code",
   "execution_count": 11,
   "id": "edd9aa75-2f85-4628-b14d-06f01fd6ffa8",
   "metadata": {},
   "outputs": [],
   "source": [
    "X = tensor\n",
    "Y = df[df.columns[2:8]].to_numpy()"
   ]
  },
  {
   "cell_type": "code",
   "execution_count": 12,
   "id": "e90ffcab-5dd7-477b-aab8-cf77df6e33b1",
   "metadata": {},
   "outputs": [],
   "source": [
    "X_train, X_test, Y_train, Y_test = model_selection.train_test_split(X, Y, test_size=0.2, \n",
    "                                                                    random_state=42, shuffle=True, stratify=Y )"
   ]
  },
  {
   "cell_type": "markdown",
   "id": "4f48570c-6635-404b-915d-74f373a53bac",
   "metadata": {},
   "source": [
    "## Modelo"
   ]
  },
  {
   "cell_type": "markdown",
   "id": "863675ec-92be-4a9d-91a6-66b1c10d1539",
   "metadata": {},
   "source": [
    "Cogemos el modelo efficienNet con los pesos de imagenet"
   ]
  },
  {
   "cell_type": "code",
   "execution_count": 13,
   "id": "ab725a60-68a6-4cb6-852b-91f175c01bbc",
   "metadata": {},
   "outputs": [
    {
     "name": "stderr",
     "output_type": "stream",
     "text": [
      "2022-06-24 23:49:20.737996: W tensorflow/stream_executor/platform/default/dso_loader.cc:64] Could not load dynamic library 'libcuda.so.1'; dlerror: libcuda.so.1: cannot open shared object file: No such file or directory\n",
      "2022-06-24 23:49:20.738023: W tensorflow/stream_executor/cuda/cuda_driver.cc:269] failed call to cuInit: UNKNOWN ERROR (303)\n",
      "2022-06-24 23:49:20.738042: I tensorflow/stream_executor/cuda/cuda_diagnostics.cc:156] kernel driver does not appear to be running on this host (maryskal-P6689-MD61019): /proc/driver/nvidia/version does not exist\n",
      "2022-06-24 23:49:20.738286: I tensorflow/core/platform/cpu_feature_guard.cc:193] This TensorFlow binary is optimized with oneAPI Deep Neural Network Library (oneDNN) to use the following CPU instructions in performance-critical operations:  AVX2 FMA\n",
      "To enable them in other operations, rebuild TensorFlow with the appropriate compiler flags.\n"
     ]
    }
   ],
   "source": [
    "input_shape = (256,256,3)\n",
    "conv_base = EfficientNetB0(weights=\"imagenet\", include_top=False, input_shape=input_shape)"
   ]
  },
  {
   "cell_type": "code",
   "execution_count": 14,
   "id": "b4df7f9e-9a86-4c23-a1e3-23445eb0afb0",
   "metadata": {},
   "outputs": [],
   "source": [
    "model = models.Sequential()\n",
    "model.add(layers.Conv2D(3,3,padding=\"same\", input_shape=(256,256,1), activation='elu', name = 'previa'))\n",
    "model.add(conv_base)\n",
    "model.add(layers.GlobalMaxPooling2D(name=\"gap\"))\n",
    "# avoid overfitting\n",
    "model.add(layers.Dropout(0.2, name=\"dropout_out\"))\n",
    "# Set NUMBER_OF_CLASSES to the number of your final predictions.\n",
    "model.add(layers.Dense(len(np.unique(df.clase)), activation=\"softmax\", name=\"fc_out\"))"
   ]
  },
  {
   "cell_type": "markdown",
   "id": "d618e2bd-2f0f-416d-9b87-eee90ad192bd",
   "metadata": {},
   "source": [
    "No vamos a dejar que los pesos de EfficienNet se actualicen"
   ]
  },
  {
   "cell_type": "code",
   "execution_count": 15,
   "id": "7a8a7af2-835c-45e4-946a-6cd84f41756e",
   "metadata": {},
   "outputs": [],
   "source": [
    "conv_base.trainable = False"
   ]
  },
  {
   "cell_type": "code",
   "execution_count": 16,
   "id": "7682e0e5-9c56-46c8-9ab2-f94527afd75d",
   "metadata": {},
   "outputs": [
    {
     "name": "stdout",
     "output_type": "stream",
     "text": [
      "Model: \"sequential\"\n",
      "_________________________________________________________________\n",
      " Layer (type)                Output Shape              Param #   \n",
      "=================================================================\n",
      " previa (Conv2D)             (None, 256, 256, 3)       30        \n",
      "                                                                 \n",
      " efficientnetb0 (Functional)  (None, 8, 8, 1280)       4049571   \n",
      "                                                                 \n",
      " gap (GlobalMaxPooling2D)    (None, 1280)              0         \n",
      "                                                                 \n",
      " dropout_out (Dropout)       (None, 1280)              0         \n",
      "                                                                 \n",
      " fc_out (Dense)              (None, 6)                 7686      \n",
      "                                                                 \n",
      "=================================================================\n",
      "Total params: 4,057,287\n",
      "Trainable params: 7,716\n",
      "Non-trainable params: 4,049,571\n",
      "_________________________________________________________________\n"
     ]
    }
   ],
   "source": [
    "model.summary()"
   ]
  },
  {
   "cell_type": "code",
   "execution_count": 17,
   "id": "839a0603-b002-4f1f-8d16-05e9dd19f694",
   "metadata": {},
   "outputs": [
    {
     "name": "stderr",
     "output_type": "stream",
     "text": [
      "/home/maryskal/anaconda3/envs/acil_init/lib/python3.10/site-packages/keras/optimizers/optimizer_v2/adam.py:110: UserWarning: The `lr` argument is deprecated, use `learning_rate` instead.\n",
      "  super(Adam, self).__init__(name, **kwargs)\n"
     ]
    }
   ],
   "source": [
    "opt = tf.keras.optimizers.Adam()\n",
    "loss = tf.keras.losses.CategoricalCrossentropy()\n",
    "model.compile(optimizer = opt , loss = loss , metrics = ['FalsePositives', 'AUC', 'TruePositives'])"
   ]
  },
  {
   "cell_type": "code",
   "execution_count": 18,
   "id": "fa00c52b-0190-417d-8136-a57bba4e8d7b",
   "metadata": {},
   "outputs": [
    {
     "name": "stdout",
     "output_type": "stream",
     "text": [
      "Epoch 1/10\n",
      "41/41 [==============================] - 257s 6s/step - loss: 15.4809 - false_positives: 1564.0000 - auc: 0.5289 - true_positives: 378.0000 - val_loss: 7.0907 - val_false_positives: 406.0000 - val_auc: 0.5566 - val_true_positives: 100.0000\n",
      "Epoch 2/10\n",
      "41/41 [==============================] - 250s 6s/step - loss: 4.8542 - false_positives: 1419.0000 - auc: 0.5295 - true_positives: 327.0000 - val_loss: 2.5825 - val_false_positives: 0.0000e+00 - val_auc: 0.4824 - val_true_positives: 0.0000e+00\n",
      "Epoch 3/10\n",
      "41/41 [==============================] - 246s 6s/step - loss: 4.3695 - false_positives: 1347.0000 - auc: 0.5360 - true_positives: 319.0000 - val_loss: 3.6878 - val_false_positives: 409.0000 - val_auc: 0.5809 - val_true_positives: 97.0000\n",
      "Epoch 4/10\n",
      "41/41 [==============================] - 261s 6s/step - loss: 4.4460 - false_positives: 1422.0000 - auc: 0.5217 - true_positives: 320.0000 - val_loss: 4.5954 - val_false_positives: 387.0000 - val_auc: 0.5649 - val_true_positives: 119.0000\n",
      "Epoch 5/10\n",
      "41/41 [==============================] - 249s 6s/step - loss: 4.8561 - false_positives: 1406.0000 - auc: 0.5270 - true_positives: 314.0000 - val_loss: 3.3878 - val_false_positives: 424.0000 - val_auc: 0.5579 - val_true_positives: 82.0000\n",
      "Epoch 6/10\n",
      "41/41 [==============================] - 249s 6s/step - loss: 3.5707 - false_positives: 1244.0000 - auc: 0.5343 - true_positives: 280.0000 - val_loss: 6.2145 - val_false_positives: 425.0000 - val_auc: 0.5021 - val_true_positives: 81.0000\n",
      "Epoch 7/10\n",
      "41/41 [==============================] - 258s 6s/step - loss: 5.9601 - false_positives: 1485.0000 - auc: 0.5307 - true_positives: 335.0000 - val_loss: 3.6116 - val_false_positives: 424.0000 - val_auc: 0.5627 - val_true_positives: 82.0000\n",
      "Epoch 8/10\n",
      "41/41 [==============================] - 249s 6s/step - loss: 4.8112 - false_positives: 1444.0000 - auc: 0.5416 - true_positives: 337.0000 - val_loss: 5.3604 - val_false_positives: 387.0000 - val_auc: 0.5674 - val_true_positives: 119.0000\n",
      "Epoch 9/10\n",
      "41/41 [==============================] - 258s 6s/step - loss: 5.6548 - false_positives: 1464.0000 - auc: 0.5469 - true_positives: 378.0000 - val_loss: 6.4068 - val_false_positives: 0.0000e+00 - val_auc: 0.5689 - val_true_positives: 0.0000e+00\n",
      "Epoch 10/10\n",
      "41/41 [==============================] - 282s 7s/step - loss: 6.2559 - false_positives: 1454.0000 - auc: 0.5215 - true_positives: 317.0000 - val_loss: 10.5729 - val_false_positives: 425.0000 - val_auc: 0.4960 - val_true_positives: 81.0000\n"
     ]
    }
   ],
   "source": [
    "history = model.fit(X_train,Y_train, batch_size = 20, epochs = 3 , \n",
    "                    validation_data = (X_test, Y_test))"
   ]
  },
  {
   "cell_type": "code",
   "execution_count": 19,
   "id": "aebd3b94-7970-48b9-9952-016f104f4fa9",
   "metadata": {},
   "outputs": [
    {
     "data": {
      "image/png": "[encoded data removed]",
      "text/plain": [
       "<Figure size 1080x1080 with 2 Axes>"
      ]
     },
     "metadata": {
      "needs_background": "light"
     },
     "output_type": "display_data"
    }
   ],
   "source": [
    "acc = history.history['auc']\n",
    "val_acc = history.history['val_false_positives']\n",
    "loss = history.history['loss']\n",
    "val_loss = history.history['val_loss']\n",
    "\n",
    "epochs_range = range(10)\n",
    "\n",
    "plt.figure(figsize=(15, 15))\n",
    "plt.subplot(2, 2, 1)\n",
    "plt.plot(epochs_range, acc, label='Training Accuracy')\n",
    "plt.plot(epochs_range, val_acc, label='Validation Accuracy')\n",
    "plt.legend(loc='lower right')\n",
    "plt.title('Training and Validation Accuracy')\n",
    "\n",
    "plt.subplot(2, 2, 2)\n",
    "plt.plot(epochs_range, loss, label='Training Loss')\n",
    "plt.plot(epochs_range, val_loss, label='Validation Loss')\n",
    "plt.legend(loc='upper right')\n",
    "plt.title('Training and Validation Loss')\n",
    "plt.show()"
   ]
  },
  {
   "cell_type": "code",
   "execution_count": null,
   "id": "5af062fe-e99f-4640-9f0f-d3378f959389",
   "metadata": {},
   "outputs": [],
   "source": []
  }
 ],
 "metadata": {
  "kernelspec": {
   "display_name": "Python 3 (ipykernel)",
   "language": "python",
   "name": "python3"
  },
  "language_info": {
   "codemirror_mode": {
    "name": "ipython",
    "version": 3
   },
   "file_extension": ".py",
   "mimetype": "text/x-python",
   "name": "python",
   "nbconvert_exporter": "python",
   "pygments_lexer": "ipython3",
   "version": "3.10.4"
  }
 },
 "nbformat": 4,
 "nbformat_minor": 5
}
