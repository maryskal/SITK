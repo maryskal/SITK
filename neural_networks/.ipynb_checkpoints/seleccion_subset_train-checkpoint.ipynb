{
 "cells": [
  {
   "cell_type": "code",
   "execution_count": 5,
   "id": "c3656409-e1f6-4f79-b9ba-f72820bd4906",
   "metadata": {},
   "outputs": [],
   "source": [
    "import h5py as f\n",
    "import numpy as np"
   ]
  },
  {
   "cell_type": "code",
   "execution_count": 141,
   "id": "e55f4bb8-1fe2-4c36-88fb-050b9a6e1bab",
   "metadata": {},
   "outputs": [],
   "source": [
    "df = f.File(\"/home/rs117/covid-19/data/cxr_consensus_dataset_nocompr.h5\", \"r\")"
   ]
  },
  {
   "cell_type": "code",
   "execution_count": 142,
   "id": "b03a79f9-178c-4a2b-a0ee-0e8f9196d3af",
   "metadata": {},
   "outputs": [],
   "source": [
    "for key in df.keys():\n",
    "    globals()[key] = df[key]"
   ]
  },
  {
   "cell_type": "code",
   "execution_count": 143,
   "id": "c853d923-7bdf-41db-9fa3-bf9bb9ac8ab0",
   "metadata": {},
   "outputs": [],
   "source": [
    "y = y_train[:]"
   ]
  },
  {
   "cell_type": "code",
   "execution_count": 144,
   "id": "28b5419a-4586-4c13-9c29-30da24879b53",
   "metadata": {},
   "outputs": [
    {
     "data": {
      "text/plain": [
       "59439"
      ]
     },
     "execution_count": 144,
     "metadata": {},
     "output_type": "execute_result"
    }
   ],
   "source": [
    "y.shape[0]"
   ]
  },
  {
   "cell_type": "markdown",
   "id": "5c0cb4ae-bcba-4ba1-92e0-f49bb0410c40",
   "metadata": {},
   "source": [
    "# Balanceo\n",
    "\n",
    "Me quedo con los indices de cada clase"
   ]
  },
  {
   "cell_type": "code",
   "execution_count": 145,
   "id": "047a493e-98e4-4eee-9e44-0b561344294e",
   "metadata": {},
   "outputs": [],
   "source": [
    "y_normal = np.where(y[:,0] == 1)[0]\n",
    "y_moderate = np.where(y[:,1] == 1)[0]\n",
    "y_severe = np.where(y[:,2] == 1)[0]"
   ]
  },
  {
   "cell_type": "code",
   "execution_count": 146,
   "id": "8eeb2481-aaba-4af8-9b8f-56613d78bad7",
   "metadata": {},
   "outputs": [
    {
     "name": "stdout",
     "output_type": "stream",
     "text": [
      "0.469590672790592\n",
      "0.3504601356012046\n",
      "0.17994919160820336\n"
     ]
    }
   ],
   "source": [
    "print(y_normal.shape[0]/y.shape[0])\n",
    "print(y_moderate.shape[0]/y.shape[0])\n",
    "print(y_severe.shape[0]/y.shape[0])"
   ]
  },
  {
   "cell_type": "markdown",
   "id": "d61520b7-f1e6-48a2-88c4-f387f1d7bf11",
   "metadata": {},
   "source": [
    "Desordeno los indices"
   ]
  },
  {
   "cell_type": "code",
   "execution_count": 114,
   "id": "ac579e21-eaf7-4497-8c56-dbbe658d6cae",
   "metadata": {},
   "outputs": [],
   "source": [
    "np.random.shuffle(y_moderate)\n",
    "np.random.shuffle(y_severe)"
   ]
  },
  {
   "cell_type": "markdown",
   "id": "cdf724dc-ca4d-41ae-8fc3-5b40b097f439",
   "metadata": {},
   "source": [
    "Cojo el mismo numero de normal y moderado que de severo"
   ]
  },
  {
   "cell_type": "code",
   "execution_count": 115,
   "id": "6b8ba316-a14e-4ac2-91a1-844a9a3e7d8c",
   "metadata": {},
   "outputs": [],
   "source": [
    "y_normal = y_normal[:y_severe.shape[0]]\n",
    "y_moderate = y_moderate[:y_severe.shape[0]]"
   ]
  },
  {
   "cell_type": "markdown",
   "id": "9706eb70-b1eb-490c-8eff-c1ca5122d6e1",
   "metadata": {},
   "source": [
    "Junto todos los indices"
   ]
  },
  {
   "cell_type": "code",
   "execution_count": 116,
   "id": "b41576f2-99d5-46d4-ab45-92ec9224e348",
   "metadata": {},
   "outputs": [],
   "source": [
    "y_index = []\n",
    "y_index.extend(y_normal)\n",
    "y_index.extend(y_moderate)\n",
    "y_index.extend(y_severe)"
   ]
  },
  {
   "cell_type": "code",
   "execution_count": 117,
   "id": "9885a300-7b7b-4b19-b400-0001344da951",
   "metadata": {},
   "outputs": [],
   "source": [
    "y_index.sort()"
   ]
  },
  {
   "cell_type": "code",
   "execution_count": 118,
   "id": "5be4381a-6810-4cd6-9386-50ad06209dfb",
   "metadata": {},
   "outputs": [
    {
     "data": {
      "text/plain": [
       "32088"
      ]
     },
     "execution_count": 118,
     "metadata": {},
     "output_type": "execute_result"
    }
   ],
   "source": [
    "len(y_index)"
   ]
  },
  {
   "cell_type": "markdown",
   "id": "47dda8f1-a5b4-48e1-8cf8-9cc4e590e683",
   "metadata": {},
   "source": [
    "Lo guardo"
   ]
  },
  {
   "cell_type": "code",
   "execution_count": 119,
   "id": "e0da7864-ebf3-40fe-9664-58b8f7089e23",
   "metadata": {},
   "outputs": [],
   "source": [
    "import pickle"
   ]
  },
  {
   "cell_type": "code",
   "execution_count": 120,
   "id": "1e383d60-9840-4998-bee8-648b4616a1d7",
   "metadata": {},
   "outputs": [],
   "source": [
    "with open(\"/home/mr1142/Documents/img_class/index\", \"wb\") as fp:   #Pickling\n",
    "    pickle.dump(y_index, fp)"
   ]
  },
  {
   "cell_type": "markdown",
   "id": "febe4d39-8e2e-4278-899b-fb618844fc61",
   "metadata": {},
   "source": [
    "# Train subset"
   ]
  },
  {
   "cell_type": "code",
   "execution_count": 192,
   "id": "0179f86a-91bd-411d-88ae-27a131011b55",
   "metadata": {},
   "outputs": [],
   "source": [
    "y_normal = np.where(y[:,0] == 1)[0]\n",
    "y_moderate = np.where(y[:,1] == 1)[0]\n",
    "y_severe = np.where(y[:,2] == 1)[0]"
   ]
  },
  {
   "cell_type": "code",
   "execution_count": 193,
   "id": "f50f785e-408e-4821-89d9-cfd14c5e979f",
   "metadata": {},
   "outputs": [],
   "source": [
    "np.random.shuffle(y_normal)\n",
    "np.random.shuffle(y_moderate)\n",
    "np.random.shuffle(y_severe)"
   ]
  },
  {
   "cell_type": "code",
   "execution_count": 194,
   "id": "130956d2-0e60-48eb-9485-6e35ea121840",
   "metadata": {},
   "outputs": [
    {
     "data": {
      "text/plain": [
       "333"
      ]
     },
     "execution_count": 194,
     "metadata": {},
     "output_type": "execute_result"
    }
   ],
   "source": [
    "number = int(1000/3)\n",
    "number"
   ]
  },
  {
   "cell_type": "code",
   "execution_count": 195,
   "id": "c44942ef-c3b8-483c-a7a1-c39b8a393e06",
   "metadata": {},
   "outputs": [],
   "source": [
    "y_normal = y_normal[0:number]\n",
    "y_moderate = y_moderate[0:number]\n",
    "y_severe = y_severe[0:number]"
   ]
  },
  {
   "cell_type": "code",
   "execution_count": 196,
   "id": "be7815b5-ec01-425e-ac99-71df84f7007f",
   "metadata": {},
   "outputs": [],
   "source": [
    "subset = []\n",
    "subset.extend(y_normal)\n",
    "subset.extend(y_moderate)\n",
    "subset.extend(y_severe)"
   ]
  },
  {
   "cell_type": "code",
   "execution_count": 197,
   "id": "93489256-dbb8-45e7-a3ce-6944eed9d7c9",
   "metadata": {},
   "outputs": [
    {
     "name": "stdout",
     "output_type": "stream",
     "text": [
      "333\n",
      "333\n",
      "333\n"
     ]
    }
   ],
   "source": [
    "print(sum(y[subset][:,0]))\n",
    "print(sum(y[subset][:,1]))\n",
    "print(sum(y[subset][:,2]))"
   ]
  },
  {
   "cell_type": "code",
   "execution_count": 198,
   "id": "cd001de2-4165-40cf-8dba-5036995949cc",
   "metadata": {},
   "outputs": [],
   "source": [
    "subset.sort()"
   ]
  },
  {
   "cell_type": "code",
   "execution_count": 199,
   "id": "bc64ce52-dd4d-444c-926f-5328a252d96b",
   "metadata": {},
   "outputs": [],
   "source": [
    "with open(\"/home/mr1142/Documents/img_class/index_subset\", \"wb\") as fp:   #Pickling\n",
    "    pickle.dump(subset, fp)"
   ]
  },
  {
   "cell_type": "code",
   "execution_count": null,
   "id": "1acbbde5-a047-446d-a61c-da6799ce07ce",
   "metadata": {},
   "outputs": [],
   "source": []
  }
 ],
 "metadata": {
  "kernelspec": {
   "display_name": "Python 3",
   "language": "python",
   "name": "python3"
  },
  "language_info": {
   "codemirror_mode": {
    "name": "ipython",
    "version": 3
   },
   "file_extension": ".py",
   "mimetype": "text/x-python",
   "name": "python",
   "nbconvert_exporter": "python",
   "pygments_lexer": "ipython3",
   "version": "3.6.8"
  }
 },
 "nbformat": 4,
 "nbformat_minor": 5
}
