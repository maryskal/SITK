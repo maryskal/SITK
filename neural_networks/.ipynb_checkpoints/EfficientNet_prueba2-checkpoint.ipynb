{
 "cells": [
  {
   "cell_type": "code",
   "execution_count": 1,
   "id": "7c882fd5-339a-494f-b278-747c0eb1f593",
   "metadata": {},
   "outputs": [
    {
     "name": "stderr",
     "output_type": "stream",
     "text": [
      "2022-06-28 03:03:11.060059: W tensorflow/stream_executor/platform/default/dso_loader.cc:64] Could not load dynamic library 'libcudart.so.11.0'; dlerror: libcudart.so.11.0: cannot open shared object file: No such file or directory\n",
      "2022-06-28 03:03:11.060082: I tensorflow/stream_executor/cuda/cudart_stub.cc:29] Ignore above cudart dlerror if you do not have a GPU set up on your machine.\n"
     ]
    }
   ],
   "source": [
    "import os\n",
    "import pandas as pd\n",
    "import numpy as np\n",
    "import PIL\n",
    "import tensorflow as tf\n",
    "import matplotlib.pyplot as plt\n",
    "from PIL import Image\n",
    "from sklearn import model_selection\n",
    "\n",
    "from tensorflow.keras.applications import EfficientNetB0\n",
    "from tensorflow.keras import models\n",
    "from tensorflow.keras import layers\n",
    "import tensorflow_addons as tfa"
   ]
  },
  {
   "cell_type": "markdown",
   "id": "9cd7de61-e5b7-42dd-be26-1435f6131e42",
   "metadata": {},
   "source": [
    "## Datos"
   ]
  },
  {
   "cell_type": "code",
   "execution_count": 2,
   "id": "e3ef5bf8-fbb2-4dec-848b-48721469ebd2",
   "metadata": {},
   "outputs": [],
   "source": [
    "path = '/home/maryskal/Downloads/Garbage classification'"
   ]
  },
  {
   "cell_type": "code",
   "execution_count": 3,
   "id": "539f5677-0408-4ac6-ab38-156e60089613",
   "metadata": {},
   "outputs": [],
   "source": [
    "classes = os.listdir(path)"
   ]
  },
  {
   "cell_type": "code",
   "execution_count": 4,
   "id": "4bf382e0-9e68-4b3d-86e3-523f498ebc51",
   "metadata": {},
   "outputs": [],
   "source": [
    "directorios = []\n",
    "clases = []\n",
    "for clase in classes:\n",
    "    dir_list = [os.path.join(path, clase, dir) for dir in os.listdir(os.path.join(path, clase))]\n",
    "    directorios += dir_list\n",
    "    clases += [clase for i in range(len(dir_list))]"
   ]
  },
  {
   "cell_type": "code",
   "execution_count": 5,
   "id": "113c81ea-f937-425f-8aaf-2f6ec4197daf",
   "metadata": {},
   "outputs": [],
   "source": [
    "df = pd.DataFrame()\n",
    "df['directorios'] = directorios\n",
    "df['clase'] = clases"
   ]
  },
  {
   "cell_type": "code",
   "execution_count": 6,
   "id": "2b62013f-dc49-460c-a328-cf09dc79ca84",
   "metadata": {},
   "outputs": [],
   "source": [
    "df = pd.concat([df, pd.get_dummies(df.clase)], axis = 1)"
   ]
  },
  {
   "cell_type": "code",
   "execution_count": 7,
   "id": "b0a6eca1-560c-4060-bbea-e4d5a79753ab",
   "metadata": {},
   "outputs": [
    {
     "data": {
      "text/html": [
       "<div>\n",
       "<style scoped>\n",
       "    .dataframe tbody tr th:only-of-type {\n",
       "        vertical-align: middle;\n",
       "    }\n",
       "\n",
       "    .dataframe tbody tr th {\n",
       "        vertical-align: top;\n",
       "    }\n",
       "\n",
       "    .dataframe thead th {\n",
       "        text-align: right;\n",
       "    }\n",
       "</style>\n",
       "<table border=\"1\" class=\"dataframe\">\n",
       "  <thead>\n",
       "    <tr style=\"text-align: right;\">\n",
       "      <th></th>\n",
       "      <th>directorios</th>\n",
       "      <th>clase</th>\n",
       "      <th>cardboard</th>\n",
       "      <th>glass</th>\n",
       "      <th>metal</th>\n",
       "      <th>paper</th>\n",
       "      <th>plastic</th>\n",
       "      <th>trash</th>\n",
       "    </tr>\n",
       "  </thead>\n",
       "  <tbody>\n",
       "    <tr>\n",
       "      <th>0</th>\n",
       "      <td>/home/maryskal/Downloads/Garbage classificatio...</td>\n",
       "      <td>glass</td>\n",
       "      <td>0</td>\n",
       "      <td>1</td>\n",
       "      <td>0</td>\n",
       "      <td>0</td>\n",
       "      <td>0</td>\n",
       "      <td>0</td>\n",
       "    </tr>\n",
       "    <tr>\n",
       "      <th>1</th>\n",
       "      <td>/home/maryskal/Downloads/Garbage classificatio...</td>\n",
       "      <td>glass</td>\n",
       "      <td>0</td>\n",
       "      <td>1</td>\n",
       "      <td>0</td>\n",
       "      <td>0</td>\n",
       "      <td>0</td>\n",
       "      <td>0</td>\n",
       "    </tr>\n",
       "    <tr>\n",
       "      <th>2</th>\n",
       "      <td>/home/maryskal/Downloads/Garbage classificatio...</td>\n",
       "      <td>glass</td>\n",
       "      <td>0</td>\n",
       "      <td>1</td>\n",
       "      <td>0</td>\n",
       "      <td>0</td>\n",
       "      <td>0</td>\n",
       "      <td>0</td>\n",
       "    </tr>\n",
       "    <tr>\n",
       "      <th>3</th>\n",
       "      <td>/home/maryskal/Downloads/Garbage classificatio...</td>\n",
       "      <td>glass</td>\n",
       "      <td>0</td>\n",
       "      <td>1</td>\n",
       "      <td>0</td>\n",
       "      <td>0</td>\n",
       "      <td>0</td>\n",
       "      <td>0</td>\n",
       "    </tr>\n",
       "    <tr>\n",
       "      <th>4</th>\n",
       "      <td>/home/maryskal/Downloads/Garbage classificatio...</td>\n",
       "      <td>glass</td>\n",
       "      <td>0</td>\n",
       "      <td>1</td>\n",
       "      <td>0</td>\n",
       "      <td>0</td>\n",
       "      <td>0</td>\n",
       "      <td>0</td>\n",
       "    </tr>\n",
       "  </tbody>\n",
       "</table>\n",
       "</div>"
      ],
      "text/plain": [
       "                                         directorios  clase  cardboard  glass  \\\n",
       "0  /home/maryskal/Downloads/Garbage classificatio...  glass          0      1   \n",
       "1  /home/maryskal/Downloads/Garbage classificatio...  glass          0      1   \n",
       "2  /home/maryskal/Downloads/Garbage classificatio...  glass          0      1   \n",
       "3  /home/maryskal/Downloads/Garbage classificatio...  glass          0      1   \n",
       "4  /home/maryskal/Downloads/Garbage classificatio...  glass          0      1   \n",
       "\n",
       "   metal  paper  plastic  trash  \n",
       "0      0      0        0      0  \n",
       "1      0      0        0      0  \n",
       "2      0      0        0      0  \n",
       "3      0      0        0      0  \n",
       "4      0      0        0      0  "
      ]
     },
     "execution_count": 7,
     "metadata": {},
     "output_type": "execute_result"
    }
   ],
   "source": [
    "df.head()"
   ]
  },
  {
   "cell_type": "code",
   "execution_count": 8,
   "id": "57a06e95-661c-45e3-a3f2-be711d94860d",
   "metadata": {},
   "outputs": [
    {
     "data": {
      "text/html": [
       "<div>\n",
       "<style scoped>\n",
       "    .dataframe tbody tr th:only-of-type {\n",
       "        vertical-align: middle;\n",
       "    }\n",
       "\n",
       "    .dataframe tbody tr th {\n",
       "        vertical-align: top;\n",
       "    }\n",
       "\n",
       "    .dataframe thead th {\n",
       "        text-align: right;\n",
       "    }\n",
       "</style>\n",
       "<table border=\"1\" class=\"dataframe\">\n",
       "  <thead>\n",
       "    <tr style=\"text-align: right;\">\n",
       "      <th></th>\n",
       "      <th>directorios</th>\n",
       "      <th>clase</th>\n",
       "      <th>cardboard</th>\n",
       "      <th>glass</th>\n",
       "      <th>metal</th>\n",
       "      <th>paper</th>\n",
       "      <th>plastic</th>\n",
       "      <th>trash</th>\n",
       "    </tr>\n",
       "  </thead>\n",
       "  <tbody>\n",
       "    <tr>\n",
       "      <th>0</th>\n",
       "      <td>/home/maryskal/Downloads/Garbage classificatio...</td>\n",
       "      <td>metal</td>\n",
       "      <td>0</td>\n",
       "      <td>0</td>\n",
       "      <td>1</td>\n",
       "      <td>0</td>\n",
       "      <td>0</td>\n",
       "      <td>0</td>\n",
       "    </tr>\n",
       "    <tr>\n",
       "      <th>1</th>\n",
       "      <td>/home/maryskal/Downloads/Garbage classificatio...</td>\n",
       "      <td>glass</td>\n",
       "      <td>0</td>\n",
       "      <td>1</td>\n",
       "      <td>0</td>\n",
       "      <td>0</td>\n",
       "      <td>0</td>\n",
       "      <td>0</td>\n",
       "    </tr>\n",
       "    <tr>\n",
       "      <th>2</th>\n",
       "      <td>/home/maryskal/Downloads/Garbage classificatio...</td>\n",
       "      <td>plastic</td>\n",
       "      <td>0</td>\n",
       "      <td>0</td>\n",
       "      <td>0</td>\n",
       "      <td>0</td>\n",
       "      <td>1</td>\n",
       "      <td>0</td>\n",
       "    </tr>\n",
       "    <tr>\n",
       "      <th>3</th>\n",
       "      <td>/home/maryskal/Downloads/Garbage classificatio...</td>\n",
       "      <td>metal</td>\n",
       "      <td>0</td>\n",
       "      <td>0</td>\n",
       "      <td>1</td>\n",
       "      <td>0</td>\n",
       "      <td>0</td>\n",
       "      <td>0</td>\n",
       "    </tr>\n",
       "    <tr>\n",
       "      <th>4</th>\n",
       "      <td>/home/maryskal/Downloads/Garbage classificatio...</td>\n",
       "      <td>plastic</td>\n",
       "      <td>0</td>\n",
       "      <td>0</td>\n",
       "      <td>0</td>\n",
       "      <td>0</td>\n",
       "      <td>1</td>\n",
       "      <td>0</td>\n",
       "    </tr>\n",
       "  </tbody>\n",
       "</table>\n",
       "</div>"
      ],
      "text/plain": [
       "                                         directorios    clase  cardboard  \\\n",
       "0  /home/maryskal/Downloads/Garbage classificatio...    metal          0   \n",
       "1  /home/maryskal/Downloads/Garbage classificatio...    glass          0   \n",
       "2  /home/maryskal/Downloads/Garbage classificatio...  plastic          0   \n",
       "3  /home/maryskal/Downloads/Garbage classificatio...    metal          0   \n",
       "4  /home/maryskal/Downloads/Garbage classificatio...  plastic          0   \n",
       "\n",
       "   glass  metal  paper  plastic  trash  \n",
       "0      0      1      0        0      0  \n",
       "1      1      0      0        0      0  \n",
       "2      0      0      0        1      0  \n",
       "3      0      1      0        0      0  \n",
       "4      0      0      0        1      0  "
      ]
     },
     "execution_count": 8,
     "metadata": {},
     "output_type": "execute_result"
    }
   ],
   "source": [
    "df = df.sample(frac=1).reset_index(drop = True)\n",
    "df.head()"
   ]
  },
  {
   "cell_type": "code",
   "execution_count": 9,
   "id": "5e2d1610-e270-4f68-9535-0b830330ab14",
   "metadata": {},
   "outputs": [],
   "source": [
    "def charge_reshape(path):\n",
    "    img = Image.open(path)\n",
    "    img = img.resize((256,256))\n",
    "    img = np.array(img)\n",
    "    try:\n",
    "        img = img[:,:,0]\n",
    "    except:\n",
    "        print('e')\n",
    "    img = np.expand_dims(img, axis=-1)\n",
    "    img = img/256\n",
    "    return img"
   ]
  },
  {
   "cell_type": "code",
   "execution_count": 10,
   "id": "403b8a01-78ff-4cab-9737-be9f5bca3950",
   "metadata": {},
   "outputs": [],
   "source": [
    "tensor = np.zeros((len(df),256,256,1))\n",
    "for i in range(len(df)):\n",
    "    tensor[i,...] = charge_reshape(df.directorios[i])"
   ]
  },
  {
   "cell_type": "markdown",
   "id": "0d86d538-b9ed-49d5-9ce0-5cad70f778bf",
   "metadata": {},
   "source": [
    "Como son 6 variables de salida hay que meter como output un array que tenga 6 valores."
   ]
  },
  {
   "cell_type": "code",
   "execution_count": 11,
   "id": "edd9aa75-2f85-4628-b14d-06f01fd6ffa8",
   "metadata": {},
   "outputs": [],
   "source": [
    "X = tensor\n",
    "Y = df[df.columns[2:8]].to_numpy()"
   ]
  },
  {
   "cell_type": "code",
   "execution_count": 12,
   "id": "e90ffcab-5dd7-477b-aab8-cf77df6e33b1",
   "metadata": {},
   "outputs": [],
   "source": [
    "X_train, X_test, Y_train, Y_test = model_selection.train_test_split(X, Y, test_size=0.2, \n",
    "                                                                    random_state=42, shuffle=True, stratify=Y )"
   ]
  },
  {
   "cell_type": "code",
   "execution_count": 13,
   "id": "0751285b-3c19-4793-aeaf-6c84ac198065",
   "metadata": {},
   "outputs": [
    {
     "data": {
      "text/plain": [
       "2021"
      ]
     },
     "execution_count": 13,
     "metadata": {},
     "output_type": "execute_result"
    }
   ],
   "source": [
    "len(Y_train)"
   ]
  },
  {
   "cell_type": "code",
   "execution_count": 14,
   "id": "36a5bcb3-5961-4f86-8bba-37ae5a2ba7ff",
   "metadata": {},
   "outputs": [
    {
     "name": "stdout",
     "output_type": "stream",
     "text": [
      "['cardboard', 'glass', 'metal', 'paper', 'plastic', 'trash']\n",
      "[15.93270658 19.84166254 16.22958931 23.50321623 19.04997526  5.44285007]\n",
      "[16.00790514 19.76284585 16.2055336  23.51778656 19.16996047  5.33596838]\n"
     ]
    }
   ],
   "source": [
    "print(list(df.columns[2:]))\n",
    "print(np.sum(Y_train, axis=0)/np.sum(Y_train)*100)\n",
    "print(np.sum(Y_test, axis=0)/np.sum(Y_test)*100)"
   ]
  },
  {
   "cell_type": "markdown",
   "id": "4f48570c-6635-404b-915d-74f373a53bac",
   "metadata": {},
   "source": [
    "## Modelo"
   ]
  },
  {
   "cell_type": "markdown",
   "id": "863675ec-92be-4a9d-91a6-66b1c10d1539",
   "metadata": {},
   "source": [
    "Cogemos el modelo efficienNet con los pesos de imagenet"
   ]
  },
  {
   "cell_type": "markdown",
   "id": "653fc4ec-ae01-437c-9754-8254d2417e52",
   "metadata": {},
   "source": [
    "### EfficientNet"
   ]
  },
  {
   "cell_type": "code",
   "execution_count": 15,
   "id": "ab725a60-68a6-4cb6-852b-91f175c01bbc",
   "metadata": {},
   "outputs": [
    {
     "name": "stderr",
     "output_type": "stream",
     "text": [
      "2022-06-28 03:03:22.771389: W tensorflow/stream_executor/platform/default/dso_loader.cc:64] Could not load dynamic library 'libcuda.so.1'; dlerror: libcuda.so.1: cannot open shared object file: No such file or directory\n",
      "2022-06-28 03:03:22.771421: W tensorflow/stream_executor/cuda/cuda_driver.cc:269] failed call to cuInit: UNKNOWN ERROR (303)\n",
      "2022-06-28 03:03:22.771440: I tensorflow/stream_executor/cuda/cuda_diagnostics.cc:156] kernel driver does not appear to be running on this host (maryskal-P6689-MD61019): /proc/driver/nvidia/version does not exist\n",
      "2022-06-28 03:03:22.771652: I tensorflow/core/platform/cpu_feature_guard.cc:193] This TensorFlow binary is optimized with oneAPI Deep Neural Network Library (oneDNN) to use the following CPU instructions in performance-critical operations:  AVX2 FMA\n",
      "To enable them in other operations, rebuild TensorFlow with the appropriate compiler flags.\n"
     ]
    }
   ],
   "source": [
    "input_shape = (256,256,3)\n",
    "conv_base = EfficientNetB0(weights=\"imagenet\", include_top=False, input_shape=input_shape)"
   ]
  },
  {
   "cell_type": "code",
   "execution_count": 16,
   "id": "e86def8d-eaae-41de-a2af-7688b3176813",
   "metadata": {},
   "outputs": [
    {
     "data": {
      "text/plain": [
       "keras.engine.functional.Functional"
      ]
     },
     "execution_count": 16,
     "metadata": {},
     "output_type": "execute_result"
    }
   ],
   "source": [
    "type(conv_base)"
   ]
  },
  {
   "cell_type": "code",
   "execution_count": 17,
   "id": "2cfbbd63-bd12-4fa4-bfee-2c57dff7bdf2",
   "metadata": {},
   "outputs": [
    {
     "data": {
      "text/plain": [
       "238"
      ]
     },
     "execution_count": 17,
     "metadata": {},
     "output_type": "execute_result"
    }
   ],
   "source": [
    "len(conv_base.layers)"
   ]
  },
  {
   "cell_type": "code",
   "execution_count": 18,
   "id": "f82dfad8-1c60-4be1-a56f-5b534e178162",
   "metadata": {},
   "outputs": [],
   "source": [
    "# conv_base.summary()"
   ]
  },
  {
   "cell_type": "markdown",
   "id": "6caf47d7-9e4f-47ea-a149-e5f16e0b4dd8",
   "metadata": {},
   "source": [
    "### Modelo"
   ]
  },
  {
   "cell_type": "markdown",
   "id": "f0231576-47c2-4b32-90c9-18dc9c93d822",
   "metadata": {},
   "source": [
    "- Añado una capa inicial para poder entregarle el input de 3 canales. \n",
    "- Añado 1 convolución con max pooling y una segunda convolución cno globalMaxPooling para ajustar mejor\n",
    "- Añado Dropout para evitar overfiting\n",
    "- Añado la capa final con 6 neuronas de salida"
   ]
  },
  {
   "cell_type": "code",
   "execution_count": 19,
   "id": "b4df7f9e-9a86-4c23-a1e3-23445eb0afb0",
   "metadata": {},
   "outputs": [],
   "source": [
    "model = models.Sequential()\n",
    "model.add(layers.Conv2D(3,3,padding=\"same\", input_shape=(256,256,1), activation='elu', name = 'conv_inicial'))\n",
    "model.add(conv_base)\n",
    "model.add(layers.Conv2D(3,32, padding='same', input_shape=(8,8,1280), activation='selu', name = 'conv_posterior'))\n",
    "model.add(layers.MaxPool2D(pool_size = (2,2), padding='same', name = 'first_pooling'))\n",
    "model.add(layers.Conv2D(3,64, padding='same', input_shape=(4,4,1280), activation='selu', name = 'last_convolution'))\n",
    "model.add(layers.GlobalMaxPooling2D(name=\"general_max_pooling\"))\n",
    "model.add(layers.Dropout(0.2, name=\"dropout_out\"))\n",
    "model.add(layers.Dense(len(np.unique(df.clase)), activation=\"softmax\", name=\"fc_out\"))"
   ]
  },
  {
   "cell_type": "code",
   "execution_count": 20,
   "id": "7682e0e5-9c56-46c8-9ab2-f94527afd75d",
   "metadata": {},
   "outputs": [
    {
     "name": "stdout",
     "output_type": "stream",
     "text": [
      "Model: \"sequential\"\n",
      "_________________________________________________________________\n",
      " Layer (type)                Output Shape              Param #   \n",
      "=================================================================\n",
      " conv_inicial (Conv2D)       (None, 256, 256, 3)       30        \n",
      "                                                                 \n",
      " efficientnetb0 (Functional)  (None, 8, 8, 1280)       4049571   \n",
      "                                                                 \n",
      " conv_posterior (Conv2D)     (None, 8, 8, 3)           3932163   \n",
      "                                                                 \n",
      " first_pooling (MaxPooling2D  (None, 4, 4, 3)          0         \n",
      " )                                                               \n",
      "                                                                 \n",
      " last_convolution (Conv2D)   (None, 4, 4, 3)           36867     \n",
      "                                                                 \n",
      " general_max_pooling (Global  (None, 3)                0         \n",
      " MaxPooling2D)                                                   \n",
      "                                                                 \n",
      " dropout_out (Dropout)       (None, 3)                 0         \n",
      "                                                                 \n",
      " fc_out (Dense)              (None, 6)                 24        \n",
      "                                                                 \n",
      "=================================================================\n",
      "Total params: 8,018,655\n",
      "Trainable params: 7,976,632\n",
      "Non-trainable params: 42,023\n",
      "_________________________________________________________________\n"
     ]
    }
   ],
   "source": [
    "model.summary()"
   ]
  },
  {
   "cell_type": "markdown",
   "id": "6737e79e-2a91-4efd-a2b3-9b0da778ec4e",
   "metadata": {},
   "source": [
    "### 1º entrenamiento\n",
    "Solo vamos a entrenar las capas que hemos añadido"
   ]
  },
  {
   "cell_type": "code",
   "execution_count": 21,
   "id": "4f86968f-b7b7-4b8d-8a50-1d1a59e217e8",
   "metadata": {},
   "outputs": [],
   "source": [
    "conv_base.trainable = False"
   ]
  },
  {
   "cell_type": "code",
   "execution_count": 22,
   "id": "44581658-19cb-4c84-b678-84cce014dc09",
   "metadata": {},
   "outputs": [
    {
     "data": {
      "text/plain": [
       "8"
      ]
     },
     "execution_count": 22,
     "metadata": {},
     "output_type": "execute_result"
    }
   ],
   "source": [
    "len(model.trainable_variables)"
   ]
  },
  {
   "cell_type": "markdown",
   "id": "0bde1320-e247-4c2d-bf55-06080db83e8e",
   "metadata": {},
   "source": [
    "Escogemos el optimizador Adam y funcion de coste CategoricalCrosentropy"
   ]
  },
  {
   "cell_type": "code",
   "execution_count": 23,
   "id": "b50fd3bf-2010-4fb3-b104-1c82e1b5bfaa",
   "metadata": {},
   "outputs": [],
   "source": [
    "lr = 0.01"
   ]
  },
  {
   "cell_type": "code",
   "execution_count": 24,
   "id": "38fc5cfd-722c-4a6c-8f51-7dbb2a05e28e",
   "metadata": {},
   "outputs": [],
   "source": [
    "opt = tf.keras.optimizers.Adam(learning_rate = lr)\n",
    "loss = tf.keras.losses.CategoricalCrossentropy()"
   ]
  },
  {
   "cell_type": "code",
   "execution_count": 25,
   "id": "aeb32d29-d4ab-4ed6-a735-afd9c7723263",
   "metadata": {},
   "outputs": [],
   "source": [
    "model.compile(optimizer=opt, loss = loss , metrics = ['CategoricalAccuracy', 'AUC'])"
   ]
  },
  {
   "cell_type": "markdown",
   "id": "c28478cf-e6b9-49f6-bb4c-b50e7ffed65e",
   "metadata": {},
   "source": [
    "#### Entrenamiento"
   ]
  },
  {
   "cell_type": "code",
   "execution_count": 26,
   "id": "293bfe54-a410-4043-a081-5f6126b7eaa5",
   "metadata": {},
   "outputs": [],
   "source": [
    "batch_size = 60\n",
    "initial_epochs = 5"
   ]
  },
  {
   "cell_type": "code",
   "execution_count": 27,
   "id": "e14b27e5-5316-4dc5-81e3-644f1bec8150",
   "metadata": {},
   "outputs": [
    {
     "name": "stdout",
     "output_type": "stream",
     "text": [
      "loss, acuracy, auc\n",
      "16/16 [==============================] - 24s 1s/step - loss: 1.7905 - categorical_accuracy: 0.2352 - auc: 0.5142\n"
     ]
    },
    {
     "data": {
      "text/plain": [
       "[1.7905250787734985, 0.23517785966396332, 0.5142292976379395]"
      ]
     },
     "execution_count": 27,
     "metadata": {},
     "output_type": "execute_result"
    }
   ],
   "source": [
    "print('loss, acuracy, auc')\n",
    "model.evaluate(X_test, Y_test)"
   ]
  },
  {
   "cell_type": "code",
   "execution_count": 29,
   "id": "fa00c52b-0190-417d-8136-a57bba4e8d7b",
   "metadata": {},
   "outputs": [
    {
     "name": "stdout",
     "output_type": "stream",
     "text": [
      "Epoch 1/5\n",
      "34/34 [==============================] - 523s 15s/step - loss: 2.9009 - categorical_accuracy: 0.1910 - auc: 0.5464 - val_loss: 1.7634 - val_categorical_accuracy: 0.2352 - val_auc: 0.5767\n",
      "Epoch 2/5\n",
      "34/34 [==============================] - 534s 16s/step - loss: 1.7719 - categorical_accuracy: 0.2063 - auc: 0.5690 - val_loss: 1.7469 - val_categorical_accuracy: 0.1976 - val_auc: 0.5931\n",
      "Epoch 3/5\n",
      "34/34 [==============================] - 529s 16s/step - loss: 1.7514 - categorical_accuracy: 0.2182 - auc: 0.5875 - val_loss: 1.7261 - val_categorical_accuracy: 0.2352 - val_auc: 0.6036\n",
      "Epoch 4/5\n",
      "34/34 [==============================] - 508s 15s/step - loss: 1.7468 - categorical_accuracy: 0.2202 - auc: 0.5859 - val_loss: 1.7261 - val_categorical_accuracy: 0.2352 - val_auc: 0.5939\n",
      "Epoch 5/5\n",
      "34/34 [==============================] - 501s 15s/step - loss: 1.7661 - categorical_accuracy: 0.2152 - auc: 0.5894 - val_loss: 1.7462 - val_categorical_accuracy: 0.1976 - val_auc: 0.5976\n"
     ]
    }
   ],
   "source": [
    "history = model.fit(X_train,Y_train, batch_size = batch_size, epochs = initial_epochs, \n",
    "                    validation_data = (X_test, Y_test))"
   ]
  },
  {
   "cell_type": "code",
   "execution_count": 34,
   "id": "5d2f7894-fd50-4505-b806-a1dd13dff0f7",
   "metadata": {},
   "outputs": [
    {
     "data": {
      "text/plain": [
       "3.0"
      ]
     },
     "execution_count": 34,
     "metadata": {},
     "output_type": "execute_result"
    }
   ],
   "source": [
    "import re\n",
    "len(history.history.keys())/2"
   ]
  },
  {
   "cell_type": "code",
   "execution_count": 35,
   "id": "57cecfef-3b9b-4048-b915-4ffd54e34479",
   "metadata": {},
   "outputs": [
    {
     "data": {
      "image/png": "[encoded data removed]",
      "text/plain": [
       "<Figure size 360x360 with 1 Axes>"
      ]
     },
     "metadata": {
      "needs_background": "light"
     },
     "output_type": "display_data"
    },
    {
     "data": {
      "image/png": "[encoded data removed]",
      "text/plain": [
       "<Figure size 360x360 with 1 Axes>"
      ]
     },
     "metadata": {
      "needs_background": "light"
     },
     "output_type": "display_data"
    },
    {
     "data": {
      "image/png": "[encoded data removed]",
      "text/plain": [
       "<Figure size 360x360 with 1 Axes>"
      ]
     },
     "metadata": {
      "needs_background": "light"
     },
     "output_type": "display_data"
    }
   ],
   "source": [
    "epochs_range = range(initial_epochs)\n",
    "i = 0\n",
    "for i in range(int(len(history.history.keys())/2)):\n",
    "    key = list(history.history.keys())[i]\n",
    "    \n",
    "    plt.figure(figsize=(5, 5))\n",
    "    plt.subplot(1, 1, 1)\n",
    "    plt.plot(epochs_range, history.history[key], label=key)\n",
    "    plt.plot(epochs_range, history.history['val_' + key], label='val_' + key)\n",
    "    plt.legend(loc='lower right')\n",
    "    plt.title('Training and Validation')\n",
    "plt.show()"
   ]
  },
  {
   "cell_type": "markdown",
   "id": "5a998900-6ceb-4f47-b695-910eeeddf4d3",
   "metadata": {},
   "source": [
    "### 2º Entrenamiento\n",
    "Ahora vamos a entrenar tambien la red preentrenada, pero no queremos entrenar todas las capas, únicamente las capas más profundas, ya que las primeras capas son muy genéricas."
   ]
  },
  {
   "cell_type": "code",
   "execution_count": 36,
   "id": "6ea4df59-c56a-4589-af3f-1e7b0b75972d",
   "metadata": {},
   "outputs": [],
   "source": [
    "conv_base.trainable = True"
   ]
  },
  {
   "cell_type": "code",
   "execution_count": 37,
   "id": "0cbd9fee-f0b1-40b9-b633-6cf773d86090",
   "metadata": {},
   "outputs": [
    {
     "data": {
      "text/plain": [
       "238"
      ]
     },
     "execution_count": 37,
     "metadata": {},
     "output_type": "execute_result"
    }
   ],
   "source": [
    "len(conv_base.layers)"
   ]
  },
  {
   "cell_type": "markdown",
   "id": "9914ffd8-f6da-4334-9816-9110817f7218",
   "metadata": {},
   "source": [
    "Vamos a entrenar desde la capa 100 en adelante"
   ]
  },
  {
   "cell_type": "code",
   "execution_count": 38,
   "id": "9eff72ab-7579-4372-b68c-da062ebb38d7",
   "metadata": {},
   "outputs": [],
   "source": [
    "fine_tune_at = 100\n",
    "\n",
    "for layer in conv_base.layers[:fine_tune_at]:\n",
    "    layer.trainable = False"
   ]
  },
  {
   "cell_type": "code",
   "execution_count": 39,
   "id": "54d68ec7-097b-4508-87b0-8afea1fc38fa",
   "metadata": {},
   "outputs": [
    {
     "data": {
      "text/plain": [
       "131"
      ]
     },
     "execution_count": 39,
     "metadata": {},
     "output_type": "execute_result"
    }
   ],
   "source": [
    "len(model.trainable_variables)"
   ]
  },
  {
   "cell_type": "markdown",
   "id": "5d2fee35-5ddf-4e9a-941d-fd31111bd3e1",
   "metadata": {},
   "source": [
    "Como el modelo es mucho más grande tenemos que usar un learning rate más bajo del que usabamos.\n",
    "Vamos a utilizar dos learning rates, uno para el modelo preentrenado y otro para las capas nuevas"
   ]
  },
  {
   "cell_type": "code",
   "execution_count": 40,
   "id": "28fcfed8-fe10-4c0a-8969-92d8cb93fe0b",
   "metadata": {},
   "outputs": [],
   "source": [
    "opt = [tf.keras.optimizers.Adam(learning_rate = lr), tf.keras.optimizers.RMSprop(learning_rate = lr/100)]\n",
    "optimizers_and_layers = [(opt[0], model.layers[0]),\n",
    "                         (opt[1], model.layers[1]),\n",
    "                         (opt[0], model.layers[2:])]\n",
    "opt = tfa.optimizers.MultiOptimizer(optimizers_and_layers)"
   ]
  },
  {
   "cell_type": "code",
   "execution_count": 41,
   "id": "5ebc057e-5476-4439-89ce-ca273adf49d7",
   "metadata": {},
   "outputs": [],
   "source": [
    "loss = tf.keras.losses.CategoricalCrossentropy()"
   ]
  },
  {
   "cell_type": "code",
   "execution_count": 42,
   "id": "a36ad89b-70f3-4485-bef3-3384c8423870",
   "metadata": {},
   "outputs": [],
   "source": [
    "model.compile(optimizer=opt, loss = loss , metrics = ['CategoricalAccuracy', 'AUC'])"
   ]
  },
  {
   "cell_type": "markdown",
   "id": "cc5e2b46-95e9-4395-8b76-7c19ed240179",
   "metadata": {},
   "source": [
    "#### Entrenamiento"
   ]
  },
  {
   "cell_type": "code",
   "execution_count": 43,
   "id": "95eb6270-1d43-4af1-8428-4e96bcc279ff",
   "metadata": {},
   "outputs": [],
   "source": [
    "batch_size = 60\n",
    "fine_tune_epochs = 20\n",
    "total_epoch = initial_epochs + fine_tune_epochs"
   ]
  },
  {
   "cell_type": "code",
   "execution_count": null,
   "id": "00156446-6033-4e46-8d16-173789ddec41",
   "metadata": {},
   "outputs": [
    {
     "name": "stdout",
     "output_type": "stream",
     "text": [
      "Epoch 5/25\n",
      " 4/34 [==>...........................] - ETA: 7:46 - loss: 394.9402 - categorical_accuracy: 0.1708 - auc: 0.4956"
     ]
    }
   ],
   "source": [
    "history = model.fit(X_train,Y_train, \n",
    "                    batch_size = batch_size,\n",
    "                    epochs = total_epoch,\n",
    "                    initial_epoch=history.epoch[-1],\n",
    "                    validation_data = (X_test, Y_test))"
   ]
  },
  {
   "cell_type": "code",
   "execution_count": null,
   "id": "b6a5f9ab-1fd7-41fe-b663-c23e2f42f9fe",
   "metadata": {},
   "outputs": [],
   "source": [
    "epochs_range = range(total_epoch)\n",
    "i = 0\n",
    "for i in range(int(len(history.history.keys())/2)):\n",
    "    key = list(history.history.keys())[i]\n",
    "    \n",
    "    plt.figure(figsize=(5, 5))\n",
    "    plt.subplot(1, 1, 1)\n",
    "    plt.plot(epochs_range, history.history[key], label=key)\n",
    "    plt.plot(epochs_range, history.history['val_' + key], label='val_' + key)\n",
    "    plt.legend(loc='lower right')\n",
    "    plt.title('Training and Validation')\n",
    "plt.show()"
   ]
  },
  {
   "cell_type": "code",
   "execution_count": null,
   "id": "1a6a70e6-7be6-4f2d-bc3d-6f86577c84de",
   "metadata": {},
   "outputs": [],
   "source": []
  }
 ],
 "metadata": {
  "kernelspec": {
   "display_name": "Python 3 (ipykernel)",
   "language": "python",
   "name": "python3"
  },
  "language_info": {
   "codemirror_mode": {
    "name": "ipython",
    "version": 3
   },
   "file_extension": ".py",
   "mimetype": "text/x-python",
   "name": "python",
   "nbconvert_exporter": "python",
   "pygments_lexer": "ipython3",
   "version": "3.10.4"
  }
 },
 "nbformat": 4,
 "nbformat_minor": 5
}
