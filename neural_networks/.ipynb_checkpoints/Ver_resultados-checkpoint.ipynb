{
 "cells": [
  {
   "cell_type": "code",
   "execution_count": 1419,
   "id": "274694aa-041a-4bbc-acce-10f67527ea75",
   "metadata": {},
   "outputs": [],
   "source": [
    "import pandas as pd\n",
    "import numpy as np\n",
    "import re"
   ]
  },
  {
   "cell_type": "code",
   "execution_count": 1420,
   "id": "bf190ff5-f82a-4127-abe1-663fc4b19849",
   "metadata": {},
   "outputs": [],
   "source": [
    "import matplotlib.pyplot as plt"
   ]
  },
  {
   "cell_type": "code",
   "execution_count": 1421,
   "id": "8913077f-02ef-4542-9008-a02a5847909b",
   "metadata": {},
   "outputs": [],
   "source": [
    "import seaborn as sns"
   ]
  },
  {
   "cell_type": "markdown",
   "id": "74ee88e9-21d7-4def-b4d2-8cfd85ff11ff",
   "metadata": {},
   "source": [
    "# TRAIN RESULTS\n",
    "\n",
    "Estos son los resultados del entrenamiento (history). Está recogido el máximo valor de cada una de las métricas y de la loss (no sabemos que epoch es)"
   ]
  },
  {
   "cell_type": "code",
   "execution_count": 1455,
   "id": "88b6a683-b9a4-47f2-a394-3d85874ccb7f",
   "metadata": {},
   "outputs": [],
   "source": [
    "path = '/home/mr1142/Documents/Data/models/neumonia/training_data/train_max.csv'\n",
    "df_train = pd.read_csv(path)"
   ]
  },
  {
   "cell_type": "code",
   "execution_count": 1457,
   "id": "9b4462b7-dfe2-49b8-9b40-b84b21dca99b",
   "metadata": {},
   "outputs": [],
   "source": [
    "df_train = df_train.reset_index(drop = True)\n",
    "index = [i for i in df_train.index if not bool(re.search('completo', df_train['name'][i]))]\n",
    "df_train = df_train.iloc[index]"
   ]
  },
  {
   "cell_type": "code",
   "execution_count": 1458,
   "id": "b20478bc-824d-4070-b183-4cd2628cef9a",
   "metadata": {},
   "outputs": [
    {
     "data": {
      "text/plain": [
       "49"
      ]
     },
     "execution_count": 1458,
     "metadata": {},
     "output_type": "execute_result"
    }
   ],
   "source": [
    "len(df_train)"
   ]
  },
  {
   "cell_type": "code",
   "execution_count": 1459,
   "id": "a10bec0d-58de-4c59-9049-514782f0a80c",
   "metadata": {},
   "outputs": [],
   "source": [
    "# df_train[df_train['modelo'] == 'EffNet3'].sort_values(['fine', 'lr', 'mask'])"
   ]
  },
  {
   "cell_type": "code",
   "execution_count": 1460,
   "id": "ad5c8f77-1e17-463b-8565-5f1f7b25eb0b",
   "metadata": {},
   "outputs": [],
   "source": [
    "p = '/home/mr1142/Documents/Data/models/neumonia'\n",
    "modelos = os.listdir(p)\n",
    "modelos = [modelo[:-3] for modelo in modelos if os.path.isfile(os.path.join(p, modelo))]\n",
    "modelos = [modelo for modelo in modelos if not bool(re.search('completo', modelo))]\n",
    "modelos_evaluados = list(df_train['name'])"
   ]
  },
  {
   "cell_type": "code",
   "execution_count": 1461,
   "id": "d336d647-d9e3-420b-92ff-859fb1360ffe",
   "metadata": {},
   "outputs": [
    {
     "name": "stdout",
     "output_type": "stream",
     "text": [
      "49\n",
      "49\n"
     ]
    }
   ],
   "source": [
    "print(len(modelos))\n",
    "print(len(modelos_evaluados))"
   ]
  },
  {
   "cell_type": "markdown",
   "id": "36312e67-7c9f-46fe-b05e-2733a783084d",
   "metadata": {
    "tags": []
   },
   "source": [
    "## Filtrado"
   ]
  },
  {
   "cell_type": "code",
   "execution_count": 1462,
   "id": "64867956-55aa-44ed-99e4-836690e2a4a1",
   "metadata": {},
   "outputs": [],
   "source": [
    "# df_train = df_train[df_train['lr'] == 0.0001]\n",
    "# df_train = df_train[df_train['fine']<0.8]"
   ]
  },
  {
   "cell_type": "code",
   "execution_count": 1463,
   "id": "05d015ff-22ce-454d-ad05-098c6d564ccb",
   "metadata": {},
   "outputs": [
    {
     "data": {
      "text/plain": [
       "22"
      ]
     },
     "execution_count": 1463,
     "metadata": {},
     "output_type": "execute_result"
    }
   ],
   "source": [
    "len(df_train[df_train.modelo == 'EffNet3'])"
   ]
  },
  {
   "cell_type": "code",
   "execution_count": 1464,
   "id": "0d0f6a10-81c1-4623-affd-ffc8d5c6a33d",
   "metadata": {},
   "outputs": [
    {
     "data": {
      "text/html": [
       "<div>\n",
       "<style scoped>\n",
       "    .dataframe tbody tr th:only-of-type {\n",
       "        vertical-align: middle;\n",
       "    }\n",
       "\n",
       "    .dataframe tbody tr th {\n",
       "        vertical-align: top;\n",
       "    }\n",
       "\n",
       "    .dataframe thead th {\n",
       "        text-align: right;\n",
       "    }\n",
       "</style>\n",
       "<table border=\"1\" class=\"dataframe\">\n",
       "  <thead>\n",
       "    <tr style=\"text-align: right;\">\n",
       "      <th></th>\n",
       "      <th>name</th>\n",
       "      <th>modelo</th>\n",
       "      <th>fine</th>\n",
       "      <th>batch</th>\n",
       "      <th>lr</th>\n",
       "      <th>mask</th>\n",
       "      <th>trainprop</th>\n",
       "      <th>pixels</th>\n",
       "      <th>subset</th>\n",
       "      <th>loss</th>\n",
       "      <th>binary_accuracy</th>\n",
       "      <th>precision</th>\n",
       "      <th>auc</th>\n",
       "      <th>val_loss</th>\n",
       "      <th>val_binary_accuracy</th>\n",
       "      <th>val_precision</th>\n",
       "      <th>val_auc</th>\n",
       "    </tr>\n",
       "  </thead>\n",
       "  <tbody>\n",
       "    <tr>\n",
       "      <th>42</th>\n",
       "      <td>prueba_mask_EffNet3_fine-03_batch-8_lr--05_auc-90</td>\n",
       "      <td>EffNet3</td>\n",
       "      <td>0.3</td>\n",
       "      <td>8</td>\n",
       "      <td>0.00001</td>\n",
       "      <td>1</td>\n",
       "      <td>0.8</td>\n",
       "      <td>512</td>\n",
       "      <td>1.0</td>\n",
       "      <td>3.312881</td>\n",
       "      <td>0.845223</td>\n",
       "      <td>0.791553</td>\n",
       "      <td>0.914971</td>\n",
       "      <td>3.733602</td>\n",
       "      <td>0.838333</td>\n",
       "      <td>0.783784</td>\n",
       "      <td>0.904512</td>\n",
       "    </tr>\n",
       "    <tr>\n",
       "      <th>6</th>\n",
       "      <td>prueba_EffNet3_fine-03_batch-8_lr-0001_auc-95</td>\n",
       "      <td>EffNet3</td>\n",
       "      <td>0.3</td>\n",
       "      <td>8</td>\n",
       "      <td>0.00010</td>\n",
       "      <td>0</td>\n",
       "      <td>0.8</td>\n",
       "      <td>512</td>\n",
       "      <td>1.0</td>\n",
       "      <td>1.923242</td>\n",
       "      <td>0.956195</td>\n",
       "      <td>0.937028</td>\n",
       "      <td>0.992412</td>\n",
       "      <td>1.695072</td>\n",
       "      <td>0.910000</td>\n",
       "      <td>0.868687</td>\n",
       "      <td>0.956769</td>\n",
       "    </tr>\n",
       "    <tr>\n",
       "      <th>15</th>\n",
       "      <td>prueba_mask_EffNet3_fine-03_batch-8_lr-0001_au...</td>\n",
       "      <td>EffNet3</td>\n",
       "      <td>0.3</td>\n",
       "      <td>8</td>\n",
       "      <td>0.00010</td>\n",
       "      <td>1</td>\n",
       "      <td>0.8</td>\n",
       "      <td>512</td>\n",
       "      <td>1.0</td>\n",
       "      <td>2.310367</td>\n",
       "      <td>0.884022</td>\n",
       "      <td>0.836999</td>\n",
       "      <td>0.950367</td>\n",
       "      <td>1.672544</td>\n",
       "      <td>0.790000</td>\n",
       "      <td>0.692708</td>\n",
       "      <td>0.868694</td>\n",
       "    </tr>\n",
       "    <tr>\n",
       "      <th>7</th>\n",
       "      <td>prueba_EffNet3_fine-03_batch-8_lr-001_auc-94</td>\n",
       "      <td>EffNet3</td>\n",
       "      <td>0.3</td>\n",
       "      <td>8</td>\n",
       "      <td>0.00100</td>\n",
       "      <td>0</td>\n",
       "      <td>0.8</td>\n",
       "      <td>512</td>\n",
       "      <td>1.0</td>\n",
       "      <td>1.872302</td>\n",
       "      <td>0.949103</td>\n",
       "      <td>0.927939</td>\n",
       "      <td>0.983217</td>\n",
       "      <td>1.155664</td>\n",
       "      <td>0.863333</td>\n",
       "      <td>0.817204</td>\n",
       "      <td>0.943425</td>\n",
       "    </tr>\n",
       "    <tr>\n",
       "      <th>21</th>\n",
       "      <td>prueba_mask_EffNet3_fine-03_batch-8_lr-001_auc-91</td>\n",
       "      <td>EffNet3</td>\n",
       "      <td>0.3</td>\n",
       "      <td>8</td>\n",
       "      <td>0.00100</td>\n",
       "      <td>1</td>\n",
       "      <td>0.8</td>\n",
       "      <td>512</td>\n",
       "      <td>1.0</td>\n",
       "      <td>2.081230</td>\n",
       "      <td>0.894451</td>\n",
       "      <td>0.846447</td>\n",
       "      <td>0.959097</td>\n",
       "      <td>1.580021</td>\n",
       "      <td>0.855000</td>\n",
       "      <td>0.826590</td>\n",
       "      <td>0.917094</td>\n",
       "    </tr>\n",
       "    <tr>\n",
       "      <th>30</th>\n",
       "      <td>prueba_EffNet3_fine-05_batch-8_lr--05_auc-83</td>\n",
       "      <td>EffNet3</td>\n",
       "      <td>0.5</td>\n",
       "      <td>8</td>\n",
       "      <td>0.00001</td>\n",
       "      <td>0</td>\n",
       "      <td>0.8</td>\n",
       "      <td>512</td>\n",
       "      <td>1.0</td>\n",
       "      <td>3.535861</td>\n",
       "      <td>0.715478</td>\n",
       "      <td>0.601463</td>\n",
       "      <td>0.772699</td>\n",
       "      <td>5.337191</td>\n",
       "      <td>0.751667</td>\n",
       "      <td>0.664234</td>\n",
       "      <td>0.834781</td>\n",
       "    </tr>\n",
       "    <tr>\n",
       "      <th>41</th>\n",
       "      <td>prueba_mask_EffNet3_fine-05_batch-8_lr--05_auc-84</td>\n",
       "      <td>EffNet3</td>\n",
       "      <td>0.5</td>\n",
       "      <td>8</td>\n",
       "      <td>0.00001</td>\n",
       "      <td>1</td>\n",
       "      <td>0.8</td>\n",
       "      <td>512</td>\n",
       "      <td>1.0</td>\n",
       "      <td>3.457916</td>\n",
       "      <td>0.734668</td>\n",
       "      <td>0.651769</td>\n",
       "      <td>0.783202</td>\n",
       "      <td>3.194159</td>\n",
       "      <td>0.783333</td>\n",
       "      <td>0.727273</td>\n",
       "      <td>0.845619</td>\n",
       "    </tr>\n",
       "    <tr>\n",
       "      <th>0</th>\n",
       "      <td>prueba_EffNet3_fine-05_batch-8_lr-0001_auc-92</td>\n",
       "      <td>EffNet3</td>\n",
       "      <td>0.5</td>\n",
       "      <td>8</td>\n",
       "      <td>0.00010</td>\n",
       "      <td>0</td>\n",
       "      <td>0.8</td>\n",
       "      <td>512</td>\n",
       "      <td>1.0</td>\n",
       "      <td>1.940967</td>\n",
       "      <td>0.877764</td>\n",
       "      <td>0.823529</td>\n",
       "      <td>0.942213</td>\n",
       "      <td>1.523487</td>\n",
       "      <td>0.866667</td>\n",
       "      <td>0.806122</td>\n",
       "      <td>0.922913</td>\n",
       "    </tr>\n",
       "    <tr>\n",
       "      <th>14</th>\n",
       "      <td>prueba_mask_EffNet3_fine-05_batch-8_lr-0001_au...</td>\n",
       "      <td>EffNet3</td>\n",
       "      <td>0.5</td>\n",
       "      <td>8</td>\n",
       "      <td>0.00010</td>\n",
       "      <td>1</td>\n",
       "      <td>0.8</td>\n",
       "      <td>512</td>\n",
       "      <td>1.0</td>\n",
       "      <td>2.560124</td>\n",
       "      <td>0.895286</td>\n",
       "      <td>0.855844</td>\n",
       "      <td>0.954906</td>\n",
       "      <td>1.545979</td>\n",
       "      <td>0.841667</td>\n",
       "      <td>0.766497</td>\n",
       "      <td>0.911919</td>\n",
       "    </tr>\n",
       "    <tr>\n",
       "      <th>26</th>\n",
       "      <td>prueba_EffNet3_fine-05_batch-8_lr-001_auc-89</td>\n",
       "      <td>EffNet3</td>\n",
       "      <td>0.5</td>\n",
       "      <td>8</td>\n",
       "      <td>0.00100</td>\n",
       "      <td>0</td>\n",
       "      <td>0.8</td>\n",
       "      <td>512</td>\n",
       "      <td>1.0</td>\n",
       "      <td>2.150150</td>\n",
       "      <td>0.791607</td>\n",
       "      <td>0.699088</td>\n",
       "      <td>0.891243</td>\n",
       "      <td>1.115598</td>\n",
       "      <td>0.803333</td>\n",
       "      <td>0.855856</td>\n",
       "      <td>0.894217</td>\n",
       "    </tr>\n",
       "    <tr>\n",
       "      <th>18</th>\n",
       "      <td>prueba_mask_EffNet3_fine-05_batch-8_lr-001_auc-85</td>\n",
       "      <td>EffNet3</td>\n",
       "      <td>0.5</td>\n",
       "      <td>8</td>\n",
       "      <td>0.00100</td>\n",
       "      <td>1</td>\n",
       "      <td>0.8</td>\n",
       "      <td>512</td>\n",
       "      <td>1.0</td>\n",
       "      <td>1.899326</td>\n",
       "      <td>0.810179</td>\n",
       "      <td>0.722798</td>\n",
       "      <td>0.898823</td>\n",
       "      <td>1.233369</td>\n",
       "      <td>0.770000</td>\n",
       "      <td>1.000000</td>\n",
       "      <td>0.859444</td>\n",
       "    </tr>\n",
       "    <tr>\n",
       "      <th>29</th>\n",
       "      <td>prueba_EffNet3_fine-07_batch-8_lr--05_auc-86</td>\n",
       "      <td>EffNet3</td>\n",
       "      <td>0.7</td>\n",
       "      <td>8</td>\n",
       "      <td>0.00001</td>\n",
       "      <td>0</td>\n",
       "      <td>0.8</td>\n",
       "      <td>512</td>\n",
       "      <td>1.0</td>\n",
       "      <td>2.906451</td>\n",
       "      <td>0.783062</td>\n",
       "      <td>0.704246</td>\n",
       "      <td>0.873666</td>\n",
       "      <td>1.363174</td>\n",
       "      <td>0.755000</td>\n",
       "      <td>1.000000</td>\n",
       "      <td>0.864825</td>\n",
       "    </tr>\n",
       "    <tr>\n",
       "      <th>38</th>\n",
       "      <td>prueba_mask_EffNet3_fine-07_batch-8_lr--05_auc-84</td>\n",
       "      <td>EffNet3</td>\n",
       "      <td>0.7</td>\n",
       "      <td>8</td>\n",
       "      <td>0.00001</td>\n",
       "      <td>1</td>\n",
       "      <td>0.8</td>\n",
       "      <td>512</td>\n",
       "      <td>1.0</td>\n",
       "      <td>2.285285</td>\n",
       "      <td>0.733834</td>\n",
       "      <td>0.634391</td>\n",
       "      <td>0.769231</td>\n",
       "      <td>3.509525</td>\n",
       "      <td>0.788333</td>\n",
       "      <td>0.713450</td>\n",
       "      <td>0.847531</td>\n",
       "    </tr>\n",
       "    <tr>\n",
       "      <th>55</th>\n",
       "      <td>prueba_EffNet3_fine-07_batch-8_lr-0001_auc-92</td>\n",
       "      <td>EffNet3</td>\n",
       "      <td>0.7</td>\n",
       "      <td>8</td>\n",
       "      <td>0.00010</td>\n",
       "      <td>0</td>\n",
       "      <td>0.8</td>\n",
       "      <td>512</td>\n",
       "      <td>1.0</td>\n",
       "      <td>2.027441</td>\n",
       "      <td>0.834376</td>\n",
       "      <td>0.776860</td>\n",
       "      <td>0.900402</td>\n",
       "      <td>1.147029</td>\n",
       "      <td>0.851667</td>\n",
       "      <td>0.863636</td>\n",
       "      <td>0.927681</td>\n",
       "    </tr>\n",
       "    <tr>\n",
       "      <th>12</th>\n",
       "      <td>prueba_mask_EffNet3_fine-07_batch-8_lr-0001_au...</td>\n",
       "      <td>EffNet3</td>\n",
       "      <td>0.7</td>\n",
       "      <td>8</td>\n",
       "      <td>0.00010</td>\n",
       "      <td>1</td>\n",
       "      <td>0.8</td>\n",
       "      <td>512</td>\n",
       "      <td>1.0</td>\n",
       "      <td>1.804464</td>\n",
       "      <td>0.768043</td>\n",
       "      <td>0.718919</td>\n",
       "      <td>0.850044</td>\n",
       "      <td>1.611635</td>\n",
       "      <td>0.783333</td>\n",
       "      <td>0.829545</td>\n",
       "      <td>0.875581</td>\n",
       "    </tr>\n",
       "    <tr>\n",
       "      <th>5</th>\n",
       "      <td>prueba_EffNet3_fine-07_batch-8_lr-001_auc-91</td>\n",
       "      <td>EffNet3</td>\n",
       "      <td>0.7</td>\n",
       "      <td>8</td>\n",
       "      <td>0.00100</td>\n",
       "      <td>0</td>\n",
       "      <td>0.8</td>\n",
       "      <td>512</td>\n",
       "      <td>1.0</td>\n",
       "      <td>2.070892</td>\n",
       "      <td>0.935336</td>\n",
       "      <td>0.904523</td>\n",
       "      <td>0.981785</td>\n",
       "      <td>1.270280</td>\n",
       "      <td>0.850000</td>\n",
       "      <td>0.775000</td>\n",
       "      <td>0.913706</td>\n",
       "    </tr>\n",
       "    <tr>\n",
       "      <th>43</th>\n",
       "      <td>prueba_EffNet3_fine-08_batch-8_lr-0001_auc-57</td>\n",
       "      <td>EffNet3</td>\n",
       "      <td>0.8</td>\n",
       "      <td>8</td>\n",
       "      <td>0.00010</td>\n",
       "      <td>0</td>\n",
       "      <td>0.8</td>\n",
       "      <td>512</td>\n",
       "      <td>1.0</td>\n",
       "      <td>2.212739</td>\n",
       "      <td>0.650453</td>\n",
       "      <td>0.404545</td>\n",
       "      <td>0.529076</td>\n",
       "      <td>1.139619</td>\n",
       "      <td>0.666667</td>\n",
       "      <td>0.000000</td>\n",
       "      <td>0.572108</td>\n",
       "    </tr>\n",
       "    <tr>\n",
       "      <th>10</th>\n",
       "      <td>prueba_mask_EffNet3_fine-08_batch-8_lr-0001_au...</td>\n",
       "      <td>EffNet3</td>\n",
       "      <td>0.8</td>\n",
       "      <td>8</td>\n",
       "      <td>0.00010</td>\n",
       "      <td>1</td>\n",
       "      <td>0.8</td>\n",
       "      <td>512</td>\n",
       "      <td>1.0</td>\n",
       "      <td>2.194097</td>\n",
       "      <td>0.808928</td>\n",
       "      <td>0.757942</td>\n",
       "      <td>0.868729</td>\n",
       "      <td>1.329752</td>\n",
       "      <td>0.798333</td>\n",
       "      <td>0.736527</td>\n",
       "      <td>0.886044</td>\n",
       "    </tr>\n",
       "    <tr>\n",
       "      <th>40</th>\n",
       "      <td>prueba_EffNet3_fine-08_batch-8_lr-001_auc-56</td>\n",
       "      <td>EffNet3</td>\n",
       "      <td>0.8</td>\n",
       "      <td>8</td>\n",
       "      <td>0.00100</td>\n",
       "      <td>0</td>\n",
       "      <td>0.8</td>\n",
       "      <td>512</td>\n",
       "      <td>1.0</td>\n",
       "      <td>2.869255</td>\n",
       "      <td>0.667621</td>\n",
       "      <td>0.750000</td>\n",
       "      <td>0.523659</td>\n",
       "      <td>1.167329</td>\n",
       "      <td>0.666667</td>\n",
       "      <td>0.000000</td>\n",
       "      <td>0.564656</td>\n",
       "    </tr>\n",
       "    <tr>\n",
       "      <th>11</th>\n",
       "      <td>prueba_mask_EffNet3_fine-08_batch-8_lr-001_auc-85</td>\n",
       "      <td>EffNet3</td>\n",
       "      <td>0.8</td>\n",
       "      <td>8</td>\n",
       "      <td>0.00100</td>\n",
       "      <td>1</td>\n",
       "      <td>0.8</td>\n",
       "      <td>512</td>\n",
       "      <td>1.0</td>\n",
       "      <td>1.869219</td>\n",
       "      <td>0.840634</td>\n",
       "      <td>0.764259</td>\n",
       "      <td>0.922734</td>\n",
       "      <td>1.148322</td>\n",
       "      <td>0.788333</td>\n",
       "      <td>0.716535</td>\n",
       "      <td>0.853575</td>\n",
       "    </tr>\n",
       "    <tr>\n",
       "      <th>52</th>\n",
       "      <td>prueba_EffNet3_fine-00_batch-8_lr-0001_auc-84</td>\n",
       "      <td>EffNet3</td>\n",
       "      <td>1.0</td>\n",
       "      <td>8</td>\n",
       "      <td>0.00010</td>\n",
       "      <td>0</td>\n",
       "      <td>0.8</td>\n",
       "      <td>512</td>\n",
       "      <td>1.0</td>\n",
       "      <td>1.627792</td>\n",
       "      <td>0.729614</td>\n",
       "      <td>0.643478</td>\n",
       "      <td>0.790679</td>\n",
       "      <td>1.189275</td>\n",
       "      <td>0.758889</td>\n",
       "      <td>1.000000</td>\n",
       "      <td>0.849058</td>\n",
       "    </tr>\n",
       "    <tr>\n",
       "      <th>50</th>\n",
       "      <td>prueba_EffNet3_fine-00_batch-8_lr-001_auc-51</td>\n",
       "      <td>EffNet3</td>\n",
       "      <td>1.0</td>\n",
       "      <td>8</td>\n",
       "      <td>0.00100</td>\n",
       "      <td>0</td>\n",
       "      <td>0.8</td>\n",
       "      <td>512</td>\n",
       "      <td>1.0</td>\n",
       "      <td>2.643520</td>\n",
       "      <td>0.661422</td>\n",
       "      <td>0.396226</td>\n",
       "      <td>0.531682</td>\n",
       "      <td>1.141706</td>\n",
       "      <td>0.666667</td>\n",
       "      <td>0.000000</td>\n",
       "      <td>0.511358</td>\n",
       "    </tr>\n",
       "  </tbody>\n",
       "</table>\n",
       "</div>"
      ],
      "text/plain": [
       "                                                 name   modelo  fine  batch  \\\n",
       "42  prueba_mask_EffNet3_fine-03_batch-8_lr--05_auc-90  EffNet3   0.3      8   \n",
       "6       prueba_EffNet3_fine-03_batch-8_lr-0001_auc-95  EffNet3   0.3      8   \n",
       "15  prueba_mask_EffNet3_fine-03_batch-8_lr-0001_au...  EffNet3   0.3      8   \n",
       "7        prueba_EffNet3_fine-03_batch-8_lr-001_auc-94  EffNet3   0.3      8   \n",
       "21  prueba_mask_EffNet3_fine-03_batch-8_lr-001_auc-91  EffNet3   0.3      8   \n",
       "30       prueba_EffNet3_fine-05_batch-8_lr--05_auc-83  EffNet3   0.5      8   \n",
       "41  prueba_mask_EffNet3_fine-05_batch-8_lr--05_auc-84  EffNet3   0.5      8   \n",
       "0       prueba_EffNet3_fine-05_batch-8_lr-0001_auc-92  EffNet3   0.5      8   \n",
       "14  prueba_mask_EffNet3_fine-05_batch-8_lr-0001_au...  EffNet3   0.5      8   \n",
       "26       prueba_EffNet3_fine-05_batch-8_lr-001_auc-89  EffNet3   0.5      8   \n",
       "18  prueba_mask_EffNet3_fine-05_batch-8_lr-001_auc-85  EffNet3   0.5      8   \n",
       "29       prueba_EffNet3_fine-07_batch-8_lr--05_auc-86  EffNet3   0.7      8   \n",
       "38  prueba_mask_EffNet3_fine-07_batch-8_lr--05_auc-84  EffNet3   0.7      8   \n",
       "55      prueba_EffNet3_fine-07_batch-8_lr-0001_auc-92  EffNet3   0.7      8   \n",
       "12  prueba_mask_EffNet3_fine-07_batch-8_lr-0001_au...  EffNet3   0.7      8   \n",
       "5        prueba_EffNet3_fine-07_batch-8_lr-001_auc-91  EffNet3   0.7      8   \n",
       "43      prueba_EffNet3_fine-08_batch-8_lr-0001_auc-57  EffNet3   0.8      8   \n",
       "10  prueba_mask_EffNet3_fine-08_batch-8_lr-0001_au...  EffNet3   0.8      8   \n",
       "40       prueba_EffNet3_fine-08_batch-8_lr-001_auc-56  EffNet3   0.8      8   \n",
       "11  prueba_mask_EffNet3_fine-08_batch-8_lr-001_auc-85  EffNet3   0.8      8   \n",
       "52      prueba_EffNet3_fine-00_batch-8_lr-0001_auc-84  EffNet3   1.0      8   \n",
       "50       prueba_EffNet3_fine-00_batch-8_lr-001_auc-51  EffNet3   1.0      8   \n",
       "\n",
       "         lr  mask  trainprop  pixels  subset      loss  binary_accuracy  \\\n",
       "42  0.00001     1        0.8     512     1.0  3.312881         0.845223   \n",
       "6   0.00010     0        0.8     512     1.0  1.923242         0.956195   \n",
       "15  0.00010     1        0.8     512     1.0  2.310367         0.884022   \n",
       "7   0.00100     0        0.8     512     1.0  1.872302         0.949103   \n",
       "21  0.00100     1        0.8     512     1.0  2.081230         0.894451   \n",
       "30  0.00001     0        0.8     512     1.0  3.535861         0.715478   \n",
       "41  0.00001     1        0.8     512     1.0  3.457916         0.734668   \n",
       "0   0.00010     0        0.8     512     1.0  1.940967         0.877764   \n",
       "14  0.00010     1        0.8     512     1.0  2.560124         0.895286   \n",
       "26  0.00100     0        0.8     512     1.0  2.150150         0.791607   \n",
       "18  0.00100     1        0.8     512     1.0  1.899326         0.810179   \n",
       "29  0.00001     0        0.8     512     1.0  2.906451         0.783062   \n",
       "38  0.00001     1        0.8     512     1.0  2.285285         0.733834   \n",
       "55  0.00010     0        0.8     512     1.0  2.027441         0.834376   \n",
       "12  0.00010     1        0.8     512     1.0  1.804464         0.768043   \n",
       "5   0.00100     0        0.8     512     1.0  2.070892         0.935336   \n",
       "43  0.00010     0        0.8     512     1.0  2.212739         0.650453   \n",
       "10  0.00010     1        0.8     512     1.0  2.194097         0.808928   \n",
       "40  0.00100     0        0.8     512     1.0  2.869255         0.667621   \n",
       "11  0.00100     1        0.8     512     1.0  1.869219         0.840634   \n",
       "52  0.00010     0        0.8     512     1.0  1.627792         0.729614   \n",
       "50  0.00100     0        0.8     512     1.0  2.643520         0.661422   \n",
       "\n",
       "    precision       auc  val_loss  val_binary_accuracy  val_precision  \\\n",
       "42   0.791553  0.914971  3.733602             0.838333       0.783784   \n",
       "6    0.937028  0.992412  1.695072             0.910000       0.868687   \n",
       "15   0.836999  0.950367  1.672544             0.790000       0.692708   \n",
       "7    0.927939  0.983217  1.155664             0.863333       0.817204   \n",
       "21   0.846447  0.959097  1.580021             0.855000       0.826590   \n",
       "30   0.601463  0.772699  5.337191             0.751667       0.664234   \n",
       "41   0.651769  0.783202  3.194159             0.783333       0.727273   \n",
       "0    0.823529  0.942213  1.523487             0.866667       0.806122   \n",
       "14   0.855844  0.954906  1.545979             0.841667       0.766497   \n",
       "26   0.699088  0.891243  1.115598             0.803333       0.855856   \n",
       "18   0.722798  0.898823  1.233369             0.770000       1.000000   \n",
       "29   0.704246  0.873666  1.363174             0.755000       1.000000   \n",
       "38   0.634391  0.769231  3.509525             0.788333       0.713450   \n",
       "55   0.776860  0.900402  1.147029             0.851667       0.863636   \n",
       "12   0.718919  0.850044  1.611635             0.783333       0.829545   \n",
       "5    0.904523  0.981785  1.270280             0.850000       0.775000   \n",
       "43   0.404545  0.529076  1.139619             0.666667       0.000000   \n",
       "10   0.757942  0.868729  1.329752             0.798333       0.736527   \n",
       "40   0.750000  0.523659  1.167329             0.666667       0.000000   \n",
       "11   0.764259  0.922734  1.148322             0.788333       0.716535   \n",
       "52   0.643478  0.790679  1.189275             0.758889       1.000000   \n",
       "50   0.396226  0.531682  1.141706             0.666667       0.000000   \n",
       "\n",
       "     val_auc  \n",
       "42  0.904512  \n",
       "6   0.956769  \n",
       "15  0.868694  \n",
       "7   0.943425  \n",
       "21  0.917094  \n",
       "30  0.834781  \n",
       "41  0.845619  \n",
       "0   0.922913  \n",
       "14  0.911919  \n",
       "26  0.894217  \n",
       "18  0.859444  \n",
       "29  0.864825  \n",
       "38  0.847531  \n",
       "55  0.927681  \n",
       "12  0.875581  \n",
       "5   0.913706  \n",
       "43  0.572108  \n",
       "10  0.886044  \n",
       "40  0.564656  \n",
       "11  0.853575  \n",
       "52  0.849058  \n",
       "50  0.511358  "
      ]
     },
     "execution_count": 1464,
     "metadata": {},
     "output_type": "execute_result"
    }
   ],
   "source": [
    "df_train[df_train.modelo == 'EffNet3'].sort_values(['fine', 'lr', 'mask'])"
   ]
  },
  {
   "cell_type": "code",
   "execution_count": 1432,
   "id": "5f3185e4-b1f4-46c6-b3a6-973044e28f54",
   "metadata": {},
   "outputs": [
    {
     "data": {
      "text/plain": [
       "16"
      ]
     },
     "execution_count": 1432,
     "metadata": {},
     "output_type": "execute_result"
    }
   ],
   "source": [
    "len(df_train[df_train.modelo == 'Xception'])"
   ]
  },
  {
   "cell_type": "code",
   "execution_count": 1433,
   "id": "38ec3fd7-ecb0-46de-953a-b3abb51a45f3",
   "metadata": {},
   "outputs": [
    {
     "data": {
      "text/plain": [
       "49"
      ]
     },
     "execution_count": 1433,
     "metadata": {},
     "output_type": "execute_result"
    }
   ],
   "source": [
    "len(df_train)"
   ]
  },
  {
   "cell_type": "code",
   "execution_count": 1452,
   "id": "8032f778-d78e-46ec-8d09-eda7f8fc38db",
   "metadata": {},
   "outputs": [
    {
     "data": {
      "text/html": [
       "<div>\n",
       "<style scoped>\n",
       "    .dataframe tbody tr th:only-of-type {\n",
       "        vertical-align: middle;\n",
       "    }\n",
       "\n",
       "    .dataframe tbody tr th {\n",
       "        vertical-align: top;\n",
       "    }\n",
       "\n",
       "    .dataframe thead th {\n",
       "        text-align: right;\n",
       "    }\n",
       "</style>\n",
       "<table border=\"1\" class=\"dataframe\">\n",
       "  <thead>\n",
       "    <tr style=\"text-align: right;\">\n",
       "      <th></th>\n",
       "      <th>name</th>\n",
       "      <th>modelo</th>\n",
       "      <th>fine</th>\n",
       "      <th>batch</th>\n",
       "      <th>lr</th>\n",
       "      <th>mask</th>\n",
       "      <th>trainprop</th>\n",
       "      <th>pixels</th>\n",
       "      <th>subset</th>\n",
       "      <th>loss</th>\n",
       "      <th>binary_accuracy</th>\n",
       "      <th>precision</th>\n",
       "      <th>auc</th>\n",
       "      <th>val_loss</th>\n",
       "      <th>val_binary_accuracy</th>\n",
       "      <th>val_precision</th>\n",
       "      <th>val_auc</th>\n",
       "    </tr>\n",
       "  </thead>\n",
       "  <tbody>\n",
       "    <tr>\n",
       "      <th>46</th>\n",
       "      <td>completo_EffNet3_fine-07_batch-8_lr-0001_auc-99</td>\n",
       "      <td>EffNet3</td>\n",
       "      <td>0.7</td>\n",
       "      <td>8</td>\n",
       "      <td>0.0001</td>\n",
       "      <td>0</td>\n",
       "      <td>0.8</td>\n",
       "      <td>512</td>\n",
       "      <td>0.0</td>\n",
       "      <td>0.880597</td>\n",
       "      <td>0.988588</td>\n",
       "      <td>0.983011</td>\n",
       "      <td>0.998975</td>\n",
       "      <td>0.598590</td>\n",
       "      <td>0.973253</td>\n",
       "      <td>0.960094</td>\n",
       "      <td>0.993695</td>\n",
       "    </tr>\n",
       "    <tr>\n",
       "      <th>47</th>\n",
       "      <td>completo_Xception_fine-05_batch-8_lr-0001_auc-99</td>\n",
       "      <td>Xception</td>\n",
       "      <td>0.5</td>\n",
       "      <td>8</td>\n",
       "      <td>0.0001</td>\n",
       "      <td>0</td>\n",
       "      <td>0.8</td>\n",
       "      <td>512</td>\n",
       "      <td>0.0</td>\n",
       "      <td>0.320999</td>\n",
       "      <td>0.994560</td>\n",
       "      <td>0.991858</td>\n",
       "      <td>0.999585</td>\n",
       "      <td>0.192834</td>\n",
       "      <td>0.976370</td>\n",
       "      <td>0.964770</td>\n",
       "      <td>0.994016</td>\n",
       "    </tr>\n",
       "    <tr>\n",
       "      <th>49</th>\n",
       "      <td>completo_Xception_fine-03_batch-8_lr-0001_auc-99</td>\n",
       "      <td>Xception</td>\n",
       "      <td>0.3</td>\n",
       "      <td>8</td>\n",
       "      <td>0.0001</td>\n",
       "      <td>0</td>\n",
       "      <td>0.8</td>\n",
       "      <td>512</td>\n",
       "      <td>0.0</td>\n",
       "      <td>0.321387</td>\n",
       "      <td>0.995898</td>\n",
       "      <td>0.993883</td>\n",
       "      <td>0.999491</td>\n",
       "      <td>0.179783</td>\n",
       "      <td>0.981667</td>\n",
       "      <td>0.972573</td>\n",
       "      <td>0.994397</td>\n",
       "    </tr>\n",
       "    <tr>\n",
       "      <th>45</th>\n",
       "      <td>completo_IncResNet_fine-05_batch-8_lr-0001_auc-99</td>\n",
       "      <td>IncResNet</td>\n",
       "      <td>0.5</td>\n",
       "      <td>8</td>\n",
       "      <td>0.0001</td>\n",
       "      <td>0</td>\n",
       "      <td>0.8</td>\n",
       "      <td>512</td>\n",
       "      <td>0.0</td>\n",
       "      <td>0.440691</td>\n",
       "      <td>0.997079</td>\n",
       "      <td>0.995637</td>\n",
       "      <td>0.999640</td>\n",
       "      <td>0.360212</td>\n",
       "      <td>0.978655</td>\n",
       "      <td>0.968054</td>\n",
       "      <td>0.995184</td>\n",
       "    </tr>\n",
       "    <tr>\n",
       "      <th>48</th>\n",
       "      <td>completo_IncResNet_fine-03_batch-8_lr-0001_auc-99</td>\n",
       "      <td>IncResNet</td>\n",
       "      <td>0.3</td>\n",
       "      <td>8</td>\n",
       "      <td>0.0001</td>\n",
       "      <td>0</td>\n",
       "      <td>0.8</td>\n",
       "      <td>512</td>\n",
       "      <td>0.0</td>\n",
       "      <td>0.442871</td>\n",
       "      <td>0.994521</td>\n",
       "      <td>0.991819</td>\n",
       "      <td>0.999427</td>\n",
       "      <td>0.199348</td>\n",
       "      <td>0.979485</td>\n",
       "      <td>0.969447</td>\n",
       "      <td>0.996424</td>\n",
       "    </tr>\n",
       "  </tbody>\n",
       "</table>\n",
       "</div>"
      ],
      "text/plain": [
       "                                                 name     modelo  fine  batch  \\\n",
       "46    completo_EffNet3_fine-07_batch-8_lr-0001_auc-99    EffNet3   0.7      8   \n",
       "47   completo_Xception_fine-05_batch-8_lr-0001_auc-99   Xception   0.5      8   \n",
       "49   completo_Xception_fine-03_batch-8_lr-0001_auc-99   Xception   0.3      8   \n",
       "45  completo_IncResNet_fine-05_batch-8_lr-0001_auc-99  IncResNet   0.5      8   \n",
       "48  completo_IncResNet_fine-03_batch-8_lr-0001_auc-99  IncResNet   0.3      8   \n",
       "\n",
       "        lr  mask  trainprop  pixels  subset      loss  binary_accuracy  \\\n",
       "46  0.0001     0        0.8     512     0.0  0.880597         0.988588   \n",
       "47  0.0001     0        0.8     512     0.0  0.320999         0.994560   \n",
       "49  0.0001     0        0.8     512     0.0  0.321387         0.995898   \n",
       "45  0.0001     0        0.8     512     0.0  0.440691         0.997079   \n",
       "48  0.0001     0        0.8     512     0.0  0.442871         0.994521   \n",
       "\n",
       "    precision       auc  val_loss  val_binary_accuracy  val_precision  \\\n",
       "46   0.983011  0.998975  0.598590             0.973253       0.960094   \n",
       "47   0.991858  0.999585  0.192834             0.976370       0.964770   \n",
       "49   0.993883  0.999491  0.179783             0.981667       0.972573   \n",
       "45   0.995637  0.999640  0.360212             0.978655       0.968054   \n",
       "48   0.991819  0.999427  0.199348             0.979485       0.969447   \n",
       "\n",
       "     val_auc  \n",
       "46  0.993695  \n",
       "47  0.994016  \n",
       "49  0.994397  \n",
       "45  0.995184  \n",
       "48  0.996424  "
      ]
     },
     "execution_count": 1452,
     "metadata": {},
     "output_type": "execute_result"
    }
   ],
   "source": [
    "df_train.sort_values('val_auc').tail()"
   ]
  },
  {
   "cell_type": "markdown",
   "id": "d2f024d9-a94e-47a9-b481-788604af87cc",
   "metadata": {},
   "source": [
    "## Ploteo"
   ]
  },
  {
   "cell_type": "code",
   "execution_count": 1435,
   "id": "6de1f53e-5829-47e1-91b5-9221e788455b",
   "metadata": {},
   "outputs": [],
   "source": [
    "y = 'val_precision'\n",
    "data = df_train\n",
    "lim = np.percentile(data[y], 20)"
   ]
  },
  {
   "cell_type": "code",
   "execution_count": 1436,
   "id": "2d873d56-e3eb-4067-9d5a-f737cb9b2819",
   "metadata": {},
   "outputs": [
    {
     "data": {
      "text/plain": [
       "[(0.7536344647407531, 1.0)]"
      ]
     },
     "execution_count": 1436,
     "metadata": {},
     "output_type": "execute_result"
    },
    {
     "data": {
      "image/png": "[encoded data removed]",
      "text/plain": [
       "<Figure size 720x360 with 1 Axes>"
      ]
     },
     "metadata": {
      "needs_background": "light"
     },
     "output_type": "display_data"
    }
   ],
   "source": [
    "plt.subplots(figsize=(10,5))\n",
    "p = sns.boxplot(x=\"modelo\", y=y,\n",
    "                hue=\"mask\",\n",
    "                data=data)\n",
    "p.set(ylim=(lim, 1))"
   ]
  },
  {
   "cell_type": "code",
   "execution_count": 1437,
   "id": "754f76d5-95ad-4a36-8154-6047b73c106f",
   "metadata": {},
   "outputs": [
    {
     "data": {
      "text/plain": [
       "[(0.7536344647407531, 1.0)]"
      ]
     },
     "execution_count": 1437,
     "metadata": {},
     "output_type": "execute_result"
    },
    {
     "data": {
      "image/png": "[encoded data removed]",
      "text/plain": [
       "<Figure size 720x360 with 1 Axes>"
      ]
     },
     "metadata": {
      "needs_background": "light"
     },
     "output_type": "display_data"
    }
   ],
   "source": [
    "plt.subplots(figsize=(10,5))\n",
    "p = sns.boxplot(x=\"modelo\", y=y,\n",
    "                hue=\"fine\",\n",
    "                data=data)\n",
    "p.set(ylim=(lim, 1))"
   ]
  },
  {
   "cell_type": "code",
   "execution_count": 1438,
   "id": "91912f57-6eb2-423f-8420-a7e65d19779e",
   "metadata": {},
   "outputs": [
    {
     "data": {
      "text/plain": [
       "[(0.7536344647407531, 1.0)]"
      ]
     },
     "execution_count": 1438,
     "metadata": {},
     "output_type": "execute_result"
    },
    {
     "data": {
      "image/png": "[encoded data removed]",
      "text/plain": [
       "<Figure size 720x360 with 1 Axes>"
      ]
     },
     "metadata": {
      "needs_background": "light"
     },
     "output_type": "display_data"
    }
   ],
   "source": [
    "plt.subplots(figsize=(10,5))\n",
    "p = sns.boxplot(x=\"fine\", y=y,\n",
    "                hue=\"lr\",\n",
    "                data=data)\n",
    "p.set(ylim=(lim, 1))"
   ]
  },
  {
   "cell_type": "code",
   "execution_count": 1439,
   "id": "276ba317-1125-439a-a9ec-806bc9a9c4dc",
   "metadata": {},
   "outputs": [
    {
     "data": {
      "text/plain": [
       "[(0.7536344647407531, 1.0)]"
      ]
     },
     "execution_count": 1439,
     "metadata": {},
     "output_type": "execute_result"
    },
    {
     "data": {
      "image/png": "[encoded data removed]",
      "text/plain": [
       "<Figure size 720x360 with 1 Axes>"
      ]
     },
     "metadata": {
      "needs_background": "light"
     },
     "output_type": "display_data"
    }
   ],
   "source": [
    "plt.subplots(figsize=(10,5))\n",
    "p = sns.boxplot(x=\"lr\", y=y,\n",
    "                hue=\"mask\",\n",
    "                data=data)\n",
    "p.set(ylim=(lim, 1))"
   ]
  },
  {
   "cell_type": "markdown",
   "id": "43bb9767-ff03-4b57-ace2-9e3c302c8b2a",
   "metadata": {},
   "source": [
    "# SUBSET TEST EVALUATION RESULTS\n",
    "\n",
    "Estos son los resultados de aplicar model.evaluate() sobre el subset de X_train que he seleccionado para test."
   ]
  },
  {
   "cell_type": "code",
   "execution_count": 1386,
   "id": "bbae2e7a-16ff-405e-a9a2-9dd229b41556",
   "metadata": {},
   "outputs": [],
   "source": [
    "path = '/home/mr1142/Documents/Data/models/neumonia/validation_results/image_class_evaluation.csv'\n",
    "df_test = pd.read_csv(path)"
   ]
  },
  {
   "cell_type": "markdown",
   "id": "959c0e9b-ee6c-47c8-aedd-c765c5897945",
   "metadata": {},
   "source": [
    "### Modelos sin evaluar"
   ]
  },
  {
   "cell_type": "code",
   "execution_count": 1387,
   "id": "d0ac0840-2904-401b-8828-92bca7d80b89",
   "metadata": {},
   "outputs": [],
   "source": [
    "p = '/home/mr1142/Documents/Data/models/neumonia'\n",
    "modelos = os.listdir(p)\n",
    "modelos = [modelo[:-3] for modelo in modelos if os.path.isfile(os.path.join(p, modelo))]\n",
    "modelos = [modelo for modelo in modelos if not bool(re.search('completo', modelo))]\n",
    "modelos_evaluados = list(df_test['nombre'])"
   ]
  },
  {
   "cell_type": "code",
   "execution_count": 1388,
   "id": "7936f2da-7fdd-4457-ab93-8191aee9c323",
   "metadata": {},
   "outputs": [
    {
     "name": "stdout",
     "output_type": "stream",
     "text": [
      "49\n",
      "49\n"
     ]
    }
   ],
   "source": [
    "print(len(modelos))\n",
    "print(len(modelos_evaluados))"
   ]
  },
  {
   "cell_type": "code",
   "execution_count": 1389,
   "id": "1ee9658d-f48f-49f5-b3d7-641ad2e34fc1",
   "metadata": {},
   "outputs": [
    {
     "data": {
      "text/plain": [
       "[]"
      ]
     },
     "execution_count": 1389,
     "metadata": {},
     "output_type": "execute_result"
    }
   ],
   "source": [
    "modelos_a_evaluar = list(set(modelos_evaluados) - set(modelos))\n",
    "modelos_a_evaluar"
   ]
  },
  {
   "cell_type": "code",
   "execution_count": 1391,
   "id": "51a942a9-028e-41da-af60-ab09621b18da",
   "metadata": {},
   "outputs": [
    {
     "data": {
      "text/plain": [
       "[]"
      ]
     },
     "execution_count": 1391,
     "metadata": {},
     "output_type": "execute_result"
    }
   ],
   "source": [
    "modelos_train = set(df_train['name'])\n",
    "list(set(modelos_train)-set(modelos_evaluados))"
   ]
  },
  {
   "cell_type": "markdown",
   "id": "04b9a454-60cc-47ea-913b-3407c8d92117",
   "metadata": {},
   "source": [
    "## Añado labels"
   ]
  },
  {
   "cell_type": "code",
   "execution_count": 1393,
   "id": "b8e829bb-e781-4216-9fa1-e3d5fd86633b",
   "metadata": {},
   "outputs": [],
   "source": [
    "df_test = df_test.reset_index(drop = True)"
   ]
  },
  {
   "cell_type": "code",
   "execution_count": 1394,
   "id": "a30dc708-7b5d-484c-a6ea-b0d1954147e0",
   "metadata": {},
   "outputs": [],
   "source": [
    "df_test['mask'] = list(map(lambda x: bool(re.search('mask', x)), df_test['nombre']))"
   ]
  },
  {
   "cell_type": "code",
   "execution_count": 1395,
   "id": "2a8abda5-56ad-4d7d-9d1f-73cd79bbee90",
   "metadata": {},
   "outputs": [],
   "source": [
    "df_test['modelo'] = list(map(lambda x: re.split('_', x)[-5], df_test['nombre']))\n",
    "df_test['lr'] = list(map(lambda x: re.split('-', re.split('_', x)[-2])[1], df_test['nombre']))\n",
    "df_test['batch'] = list(map(lambda x: re.split('-', re.split('_', x)[-3])[1], df_test['nombre']))\n",
    "df_test['fine'] = list(map(lambda x: re.split('-', re.split('_', x)[-4])[1], df_test['nombre']))"
   ]
  },
  {
   "cell_type": "code",
   "execution_count": 1396,
   "id": "43bbd051-923a-4b34-8d32-b94978a2dcc1",
   "metadata": {},
   "outputs": [
    {
     "data": {
      "text/html": [
       "<div>\n",
       "<style scoped>\n",
       "    .dataframe tbody tr th:only-of-type {\n",
       "        vertical-align: middle;\n",
       "    }\n",
       "\n",
       "    .dataframe tbody tr th {\n",
       "        vertical-align: top;\n",
       "    }\n",
       "\n",
       "    .dataframe thead th {\n",
       "        text-align: right;\n",
       "    }\n",
       "</style>\n",
       "<table border=\"1\" class=\"dataframe\">\n",
       "  <thead>\n",
       "    <tr style=\"text-align: right;\">\n",
       "      <th></th>\n",
       "      <th>nombre</th>\n",
       "      <th>loss</th>\n",
       "      <th>binary_accuracy</th>\n",
       "      <th>precision</th>\n",
       "      <th>auc</th>\n",
       "      <th>mask</th>\n",
       "      <th>modelo</th>\n",
       "      <th>lr</th>\n",
       "      <th>batch</th>\n",
       "      <th>fine</th>\n",
       "    </tr>\n",
       "  </thead>\n",
       "  <tbody>\n",
       "    <tr>\n",
       "      <th>5</th>\n",
       "      <td>prueba_mask_Xception_fine-07_batch-8_lr-0001_a...</td>\n",
       "      <td>0.531752</td>\n",
       "      <td>0.860527</td>\n",
       "      <td>0.799794</td>\n",
       "      <td>0.928654</td>\n",
       "      <td>True</td>\n",
       "      <td>Xception</td>\n",
       "      <td>0001</td>\n",
       "      <td>8</td>\n",
       "      <td>07</td>\n",
       "    </tr>\n",
       "    <tr>\n",
       "      <th>35</th>\n",
       "      <td>prueba_Xception_fine-03_batch-8_lr-0001_auc-96</td>\n",
       "      <td>0.549459</td>\n",
       "      <td>0.848849</td>\n",
       "      <td>0.775202</td>\n",
       "      <td>0.928931</td>\n",
       "      <td>False</td>\n",
       "      <td>Xception</td>\n",
       "      <td>0001</td>\n",
       "      <td>8</td>\n",
       "      <td>03</td>\n",
       "    </tr>\n",
       "    <tr>\n",
       "      <th>10</th>\n",
       "      <td>prueba_Xception_fine-07_batch-8_lr-0001_auc-93</td>\n",
       "      <td>0.485459</td>\n",
       "      <td>0.848849</td>\n",
       "      <td>0.786164</td>\n",
       "      <td>0.930917</td>\n",
       "      <td>False</td>\n",
       "      <td>Xception</td>\n",
       "      <td>0001</td>\n",
       "      <td>8</td>\n",
       "      <td>07</td>\n",
       "    </tr>\n",
       "    <tr>\n",
       "      <th>4</th>\n",
       "      <td>prueba_EffNet3_fine-03_batch-8_lr-001_auc-94</td>\n",
       "      <td>0.488490</td>\n",
       "      <td>0.863196</td>\n",
       "      <td>0.803296</td>\n",
       "      <td>0.931229</td>\n",
       "      <td>False</td>\n",
       "      <td>EffNet3</td>\n",
       "      <td>001</td>\n",
       "      <td>8</td>\n",
       "      <td>03</td>\n",
       "    </tr>\n",
       "    <tr>\n",
       "      <th>3</th>\n",
       "      <td>prueba_EffNet3_fine-03_batch-8_lr-0001_auc-95</td>\n",
       "      <td>0.436792</td>\n",
       "      <td>0.871204</td>\n",
       "      <td>0.813075</td>\n",
       "      <td>0.945697</td>\n",
       "      <td>False</td>\n",
       "      <td>EffNet3</td>\n",
       "      <td>0001</td>\n",
       "      <td>8</td>\n",
       "      <td>03</td>\n",
       "    </tr>\n",
       "  </tbody>\n",
       "</table>\n",
       "</div>"
      ],
      "text/plain": [
       "                                               nombre      loss  \\\n",
       "5   prueba_mask_Xception_fine-07_batch-8_lr-0001_a...  0.531752   \n",
       "35     prueba_Xception_fine-03_batch-8_lr-0001_auc-96  0.549459   \n",
       "10     prueba_Xception_fine-07_batch-8_lr-0001_auc-93  0.485459   \n",
       "4        prueba_EffNet3_fine-03_batch-8_lr-001_auc-94  0.488490   \n",
       "3       prueba_EffNet3_fine-03_batch-8_lr-0001_auc-95  0.436792   \n",
       "\n",
       "    binary_accuracy  precision       auc   mask    modelo    lr batch fine  \n",
       "5          0.860527   0.799794  0.928654   True  Xception  0001     8   07  \n",
       "35         0.848849   0.775202  0.928931  False  Xception  0001     8   03  \n",
       "10         0.848849   0.786164  0.930917  False  Xception  0001     8   07  \n",
       "4          0.863196   0.803296  0.931229  False   EffNet3   001     8   03  \n",
       "3          0.871204   0.813075  0.945697  False   EffNet3  0001     8   03  "
      ]
     },
     "execution_count": 1396,
     "metadata": {},
     "output_type": "execute_result"
    }
   ],
   "source": [
    "df_test.sort_values('auc').tail()"
   ]
  },
  {
   "cell_type": "markdown",
   "id": "1d718a00-2545-4d99-869c-ccf74ddaba08",
   "metadata": {},
   "source": [
    "## Filtrado"
   ]
  },
  {
   "cell_type": "code",
   "execution_count": 1397,
   "id": "2cf23ee5-7692-49da-91a1-c9cb8d301ec9",
   "metadata": {},
   "outputs": [],
   "source": [
    "# df_test = df_test[df_test['lr'] == '0001']\n",
    "# df_test = df_test[df_test['fine'] != '00']\n",
    "# df_test = df_test[df_test['fine'] != '08']"
   ]
  },
  {
   "cell_type": "markdown",
   "id": "c645aa57-f076-4a3b-9917-d05d14992ad4",
   "metadata": {},
   "source": [
    "## Ploteo"
   ]
  },
  {
   "cell_type": "code",
   "execution_count": 1398,
   "id": "ab23ba7d-63dd-43cd-9e58-713befe4c575",
   "metadata": {},
   "outputs": [],
   "source": [
    "y = 'auc'\n",
    "data = df_test\n",
    "lim = np.percentile(data[y], 20)"
   ]
  },
  {
   "cell_type": "code",
   "execution_count": 1399,
   "id": "8b240b3d-fc5b-4acc-bafe-e3604850c1a3",
   "metadata": {},
   "outputs": [
    {
     "data": {
      "text/plain": [
       "[(0.8513707995414734, 1.0)]"
      ]
     },
     "execution_count": 1399,
     "metadata": {},
     "output_type": "execute_result"
    },
    {
     "data": {
      "image/png": "[encoded data removed]",
      "text/plain": [
       "<Figure size 720x360 with 1 Axes>"
      ]
     },
     "metadata": {
      "needs_background": "light"
     },
     "output_type": "display_data"
    }
   ],
   "source": [
    "plt.subplots(figsize=(10,5))\n",
    "p = sns.boxplot(x=\"modelo\", y=y,\n",
    "                hue=\"mask\",\n",
    "                data=data)\n",
    "p.set(ylim=(lim, 1))"
   ]
  },
  {
   "cell_type": "code",
   "execution_count": 1400,
   "id": "1ae3adbf-54dc-485c-9d3f-29a233f382d6",
   "metadata": {},
   "outputs": [
    {
     "data": {
      "text/plain": [
       "[(0.8513707995414734, 1.0)]"
      ]
     },
     "execution_count": 1400,
     "metadata": {},
     "output_type": "execute_result"
    },
    {
     "data": {
      "image/png": "[encoded data removed]",
      "text/plain": [
       "<Figure size 720x360 with 1 Axes>"
      ]
     },
     "metadata": {
      "needs_background": "light"
     },
     "output_type": "display_data"
    }
   ],
   "source": [
    "plt.subplots(figsize=(10,5))\n",
    "p = sns.boxplot(x=\"modelo\", y=y,\n",
    "                hue=\"fine\",\n",
    "                data=data)\n",
    "p.set(ylim=(lim, 1))"
   ]
  },
  {
   "cell_type": "code",
   "execution_count": 1401,
   "id": "82077f44-2080-45c0-b4a0-02a6d759d178",
   "metadata": {},
   "outputs": [
    {
     "data": {
      "text/plain": [
       "[(0.8513707995414734, 1.0)]"
      ]
     },
     "execution_count": 1401,
     "metadata": {},
     "output_type": "execute_result"
    },
    {
     "data": {
      "image/png": "[encoded data removed]",
      "text/plain": [
       "<Figure size 720x360 with 1 Axes>"
      ]
     },
     "metadata": {
      "needs_background": "light"
     },
     "output_type": "display_data"
    }
   ],
   "source": [
    "plt.subplots(figsize=(10,5))\n",
    "p = sns.boxplot(x=\"fine\", y=y,\n",
    "                hue=\"lr\",\n",
    "                data=data)\n",
    "p.set(ylim=(lim, 1))"
   ]
  },
  {
   "cell_type": "code",
   "execution_count": 1402,
   "id": "860e03f1-8bc6-4296-9715-f9afa1e89289",
   "metadata": {},
   "outputs": [
    {
     "data": {
      "text/plain": [
       "[(0.8513707995414734, 1.0)]"
      ]
     },
     "execution_count": 1402,
     "metadata": {},
     "output_type": "execute_result"
    },
    {
     "data": {
      "image/png": "[encoded data removed]",
      "text/plain": [
       "<Figure size 720x360 with 1 Axes>"
      ]
     },
     "metadata": {
      "needs_background": "light"
     },
     "output_type": "display_data"
    }
   ],
   "source": [
    "plt.subplots(figsize=(10,5))\n",
    "p = sns.boxplot(x=\"lr\", y=y,\n",
    "                hue=\"mask\",\n",
    "                data=data)\n",
    "p.set(ylim=(lim, 1))"
   ]
  },
  {
   "cell_type": "markdown",
   "id": "257b6491-3702-465f-a2bc-65d59e556100",
   "metadata": {},
   "source": [
    "# SUBSET TEST PREDICTION METRICS\n",
    "\n",
    "Estos son los resultados de aplicar model.predict() sobre el subset de X_train que he seleccionado para test. Sobre las predicciones se calculan unas métricas personalizadas"
   ]
  },
  {
   "cell_type": "code",
   "execution_count": 1413,
   "id": "c46c803a-1151-4e81-9ed8-7fd8a5f16144",
   "metadata": {},
   "outputs": [],
   "source": [
    "path = '/home/mr1142/Documents/Data/models/neumonia/validation_results/prediction_validation_metrics.csv'\n",
    "df = pd.read_csv(path)"
   ]
  },
  {
   "cell_type": "markdown",
   "id": "9b1ad339-41b7-4918-a8ed-12c376d1336b",
   "metadata": {},
   "source": [
    "### Modelos sin evaluar"
   ]
  },
  {
   "cell_type": "code",
   "execution_count": 1414,
   "id": "c2aa5f70-b6b2-4725-8610-ead17f655388",
   "metadata": {},
   "outputs": [],
   "source": [
    "p = '/home/mr1142/Documents/Data/models/neumonia'\n",
    "modelos = os.listdir(p)\n",
    "modelos = [modelo[:-3] for modelo in modelos if os.path.isfile(os.path.join(p, modelo))]\n",
    "modelos = [modelo for modelo in modelos if not bool(re.search('completo', modelo))]\n",
    "modelos_evaluados = list(df['name'])"
   ]
  },
  {
   "cell_type": "code",
   "execution_count": 1415,
   "id": "9929dfef-8c2f-445b-94a9-607aebf6b7f7",
   "metadata": {},
   "outputs": [
    {
     "name": "stdout",
     "output_type": "stream",
     "text": [
      "49\n",
      "48\n"
     ]
    }
   ],
   "source": [
    "print(len(modelos))\n",
    "print(len(modelos_evaluados))"
   ]
  },
  {
   "cell_type": "code",
   "execution_count": 1416,
   "id": "ee3a6f41-6266-474b-8db4-19f032822922",
   "metadata": {},
   "outputs": [
    {
     "data": {
      "text/plain": [
       "['prueba_EffNet3_fine-07_batch-8_lr-0001_auc-92']"
      ]
     },
     "execution_count": 1416,
     "metadata": {},
     "output_type": "execute_result"
    }
   ],
   "source": [
    "modelos_a_evaluar = list(set(modelos)-set(modelos_evaluados))\n",
    "modelos_a_evaluar"
   ]
  },
  {
   "cell_type": "code",
   "execution_count": 1418,
   "id": "c9b90750-9d7f-471d-aefb-69b55187a6ad",
   "metadata": {},
   "outputs": [
    {
     "data": {
      "text/plain": [
       "['prueba_EffNet3_fine-07_batch-8_lr-0001_auc-92']"
      ]
     },
     "execution_count": 1418,
     "metadata": {},
     "output_type": "execute_result"
    }
   ],
   "source": [
    "modelos_train = set(df_train['name'])\n",
    "list(set(modelos_train)-set(modelos_evaluados))"
   ]
  },
  {
   "cell_type": "markdown",
   "id": "b77480bd-3566-4cf0-841f-f7a84ec87f20",
   "metadata": {},
   "source": [
    "## Añado labels"
   ]
  },
  {
   "cell_type": "code",
   "execution_count": 1146,
   "id": "756110ca-cab3-44c5-8ee8-10577df1b742",
   "metadata": {},
   "outputs": [],
   "source": [
    "df['mask'] = list(map(lambda x: bool(re.search('mask', x)), df['name']))"
   ]
  },
  {
   "cell_type": "code",
   "execution_count": 1147,
   "id": "5d862f61-e202-4a4b-912d-eab5f4e4c100",
   "metadata": {},
   "outputs": [],
   "source": [
    "df['modelo'] = list(map(lambda x: re.split('_', x)[-5], df['name']))\n",
    "df['lr'] = list(map(lambda x: re.split('-', re.split('_', x)[-2])[1], df['name']))\n",
    "df['batch'] = list(map(lambda x: re.split('-', re.split('_', x)[-3])[1], df['name']))\n",
    "df['fine'] = list(map(lambda x: re.split('-', re.split('_', x)[-4])[1], df['name']))"
   ]
  },
  {
   "cell_type": "code",
   "execution_count": 1150,
   "id": "bb570245-1d32-47bd-ab81-638cfa42b15e",
   "metadata": {},
   "outputs": [],
   "source": [
    "df['auc_mean'] = (df['auc_0']+df['auc_1']+df['auc_2'])/3"
   ]
  },
  {
   "cell_type": "code",
   "execution_count": 1156,
   "id": "e6932bdf-5613-4439-a4e5-166c66ab8961",
   "metadata": {},
   "outputs": [
    {
     "data": {
      "text/html": [
       "<div>\n",
       "<style scoped>\n",
       "    .dataframe tbody tr th:only-of-type {\n",
       "        vertical-align: middle;\n",
       "    }\n",
       "\n",
       "    .dataframe tbody tr th {\n",
       "        vertical-align: top;\n",
       "    }\n",
       "\n",
       "    .dataframe thead th {\n",
       "        text-align: right;\n",
       "    }\n",
       "</style>\n",
       "<table border=\"1\" class=\"dataframe\">\n",
       "  <thead>\n",
       "    <tr style=\"text-align: right;\">\n",
       "      <th></th>\n",
       "      <th>name</th>\n",
       "      <th>auc_0</th>\n",
       "      <th>younden_0</th>\n",
       "      <th>pr_max_0</th>\n",
       "      <th>pr_cut_0</th>\n",
       "      <th>auc_1</th>\n",
       "      <th>younden_1</th>\n",
       "      <th>pr_max_1</th>\n",
       "      <th>pr_cut_1</th>\n",
       "      <th>auc_2</th>\n",
       "      <th>...</th>\n",
       "      <th>f1_score[1, 2]</th>\n",
       "      <th>precision_score[1, 2]</th>\n",
       "      <th>recall_score[1, 2]</th>\n",
       "      <th>accuracy_score[1, 2]</th>\n",
       "      <th>mask</th>\n",
       "      <th>modelo</th>\n",
       "      <th>lr</th>\n",
       "      <th>batch</th>\n",
       "      <th>fine</th>\n",
       "      <th>auc_mean</th>\n",
       "    </tr>\n",
       "  </thead>\n",
       "  <tbody>\n",
       "    <tr>\n",
       "      <th>7</th>\n",
       "      <td>prueba_EffNet3_fine-03_batch-8_lr-001_auc-94</td>\n",
       "      <td>0.983957</td>\n",
       "      <td>0.340771</td>\n",
       "      <td>0.732340</td>\n",
       "      <td>0.343074</td>\n",
       "      <td>0.874149</td>\n",
       "      <td>0.421650</td>\n",
       "      <td>0.315723</td>\n",
       "      <td>0.542286</td>\n",
       "      <td>0.919113</td>\n",
       "      <td>...</td>\n",
       "      <td>0.844992</td>\n",
       "      <td>0.844727</td>\n",
       "      <td>0.846847</td>\n",
       "      <td>0.846847</td>\n",
       "      <td>False</td>\n",
       "      <td>EffNet3</td>\n",
       "      <td>001</td>\n",
       "      <td>8</td>\n",
       "      <td>03</td>\n",
       "      <td>0.925740</td>\n",
       "    </tr>\n",
       "    <tr>\n",
       "      <th>37</th>\n",
       "      <td>prueba_mask_IncResNet_fine-05_batch-8_lr-0001_...</td>\n",
       "      <td>0.974515</td>\n",
       "      <td>0.066946</td>\n",
       "      <td>0.066946</td>\n",
       "      <td>0.110425</td>\n",
       "      <td>0.872377</td>\n",
       "      <td>0.057974</td>\n",
       "      <td>0.049864</td>\n",
       "      <td>0.544718</td>\n",
       "      <td>0.930372</td>\n",
       "      <td>...</td>\n",
       "      <td>0.856353</td>\n",
       "      <td>0.859571</td>\n",
       "      <td>0.854855</td>\n",
       "      <td>0.854855</td>\n",
       "      <td>True</td>\n",
       "      <td>IncResNet</td>\n",
       "      <td>0001</td>\n",
       "      <td>8</td>\n",
       "      <td>05</td>\n",
       "      <td>0.925755</td>\n",
       "    </tr>\n",
       "    <tr>\n",
       "      <th>22</th>\n",
       "      <td>prueba_mask_Xception_fine-03_batch-8_lr-0001_a...</td>\n",
       "      <td>0.977626</td>\n",
       "      <td>0.079139</td>\n",
       "      <td>0.098225</td>\n",
       "      <td>0.109531</td>\n",
       "      <td>0.877251</td>\n",
       "      <td>0.567552</td>\n",
       "      <td>0.562125</td>\n",
       "      <td>0.666493</td>\n",
       "      <td>0.942451</td>\n",
       "      <td>...</td>\n",
       "      <td>0.875634</td>\n",
       "      <td>0.876968</td>\n",
       "      <td>0.877878</td>\n",
       "      <td>0.877878</td>\n",
       "      <td>True</td>\n",
       "      <td>Xception</td>\n",
       "      <td>0001</td>\n",
       "      <td>8</td>\n",
       "      <td>03</td>\n",
       "      <td>0.932443</td>\n",
       "    </tr>\n",
       "    <tr>\n",
       "      <th>35</th>\n",
       "      <td>prueba_mask_IncResNet_fine-03_batch-8_lr-0001_...</td>\n",
       "      <td>0.975083</td>\n",
       "      <td>0.455335</td>\n",
       "      <td>0.673091</td>\n",
       "      <td>0.626435</td>\n",
       "      <td>0.878748</td>\n",
       "      <td>0.110022</td>\n",
       "      <td>0.026167</td>\n",
       "      <td>0.206303</td>\n",
       "      <td>0.943782</td>\n",
       "      <td>...</td>\n",
       "      <td>0.807455</td>\n",
       "      <td>0.859248</td>\n",
       "      <td>0.801802</td>\n",
       "      <td>0.801802</td>\n",
       "      <td>True</td>\n",
       "      <td>IncResNet</td>\n",
       "      <td>0001</td>\n",
       "      <td>8</td>\n",
       "      <td>03</td>\n",
       "      <td>0.932538</td>\n",
       "    </tr>\n",
       "    <tr>\n",
       "      <th>6</th>\n",
       "      <td>prueba_EffNet3_fine-03_batch-8_lr-0001_auc-95</td>\n",
       "      <td>0.991293</td>\n",
       "      <td>0.122462</td>\n",
       "      <td>0.366291</td>\n",
       "      <td>0.366291</td>\n",
       "      <td>0.893384</td>\n",
       "      <td>0.219937</td>\n",
       "      <td>0.219937</td>\n",
       "      <td>0.366731</td>\n",
       "      <td>0.931752</td>\n",
       "      <td>...</td>\n",
       "      <td>0.855620</td>\n",
       "      <td>0.865743</td>\n",
       "      <td>0.852853</td>\n",
       "      <td>0.852853</td>\n",
       "      <td>False</td>\n",
       "      <td>EffNet3</td>\n",
       "      <td>0001</td>\n",
       "      <td>8</td>\n",
       "      <td>03</td>\n",
       "      <td>0.938810</td>\n",
       "    </tr>\n",
       "  </tbody>\n",
       "</table>\n",
       "<p>5 rows × 43 columns</p>\n",
       "</div>"
      ],
      "text/plain": [
       "                                                 name     auc_0  younden_0  \\\n",
       "7        prueba_EffNet3_fine-03_batch-8_lr-001_auc-94  0.983957   0.340771   \n",
       "37  prueba_mask_IncResNet_fine-05_batch-8_lr-0001_...  0.974515   0.066946   \n",
       "22  prueba_mask_Xception_fine-03_batch-8_lr-0001_a...  0.977626   0.079139   \n",
       "35  prueba_mask_IncResNet_fine-03_batch-8_lr-0001_...  0.975083   0.455335   \n",
       "6       prueba_EffNet3_fine-03_batch-8_lr-0001_auc-95  0.991293   0.122462   \n",
       "\n",
       "    pr_max_0  pr_cut_0     auc_1  younden_1  pr_max_1  pr_cut_1     auc_2  \\\n",
       "7   0.732340  0.343074  0.874149   0.421650  0.315723  0.542286  0.919113   \n",
       "37  0.066946  0.110425  0.872377   0.057974  0.049864  0.544718  0.930372   \n",
       "22  0.098225  0.109531  0.877251   0.567552  0.562125  0.666493  0.942451   \n",
       "35  0.673091  0.626435  0.878748   0.110022  0.026167  0.206303  0.943782   \n",
       "6   0.366291  0.366291  0.893384   0.219937  0.219937  0.366731  0.931752   \n",
       "\n",
       "    ...  f1_score[1, 2]  precision_score[1, 2]  recall_score[1, 2]  \\\n",
       "7   ...        0.844992               0.844727            0.846847   \n",
       "37  ...        0.856353               0.859571            0.854855   \n",
       "22  ...        0.875634               0.876968            0.877878   \n",
       "35  ...        0.807455               0.859248            0.801802   \n",
       "6   ...        0.855620               0.865743            0.852853   \n",
       "\n",
       "    accuracy_score[1, 2]   mask     modelo    lr  batch  fine  auc_mean  \n",
       "7               0.846847  False    EffNet3   001      8    03  0.925740  \n",
       "37              0.854855   True  IncResNet  0001      8    05  0.925755  \n",
       "22              0.877878   True   Xception  0001      8    03  0.932443  \n",
       "35              0.801802   True  IncResNet  0001      8    03  0.932538  \n",
       "6               0.852853  False    EffNet3  0001      8    03  0.938810  \n",
       "\n",
       "[5 rows x 43 columns]"
      ]
     },
     "execution_count": 1156,
     "metadata": {},
     "output_type": "execute_result"
    }
   ],
   "source": [
    "df.sort_values('auc_mean').tail()"
   ]
  },
  {
   "cell_type": "code",
   "execution_count": 1149,
   "id": "99556380-7a5d-47c5-9f39-4a0757f0717d",
   "metadata": {},
   "outputs": [
    {
     "data": {
      "text/plain": [
       "Index(['name', 'auc_0', 'younden_0', 'pr_max_0', 'pr_cut_0', 'auc_1',\n",
       "       'younden_1', 'pr_max_1', 'pr_cut_1', 'auc_2', 'younden_2', 'pr_max_2',\n",
       "       'pr_cut_2', 'f1_score_0', 'precision_score_0', 'recall_score_0',\n",
       "       'accuracy_score_0', 'f1_score_1', 'precision_score_1', 'recall_score_1',\n",
       "       'accuracy_score_1', 'f1_score_2', 'precision_score_2', 'recall_score_2',\n",
       "       'accuracy_score_2', 'f1_score[0, 1]', 'precision_score[0, 1]',\n",
       "       'recall_score[0, 1]', 'accuracy_score[0, 1]', 'f1_score[0, 2]',\n",
       "       'precision_score[0, 2]', 'recall_score[0, 2]', 'accuracy_score[0, 2]',\n",
       "       'f1_score[1, 2]', 'precision_score[1, 2]', 'recall_score[1, 2]',\n",
       "       'accuracy_score[1, 2]', 'mask', 'modelo', 'lr', 'batch', 'fine'],\n",
       "      dtype='object')"
      ]
     },
     "execution_count": 1149,
     "metadata": {},
     "output_type": "execute_result"
    }
   ],
   "source": [
    "df.columns"
   ]
  },
  {
   "cell_type": "markdown",
   "id": "220b67a5-0141-41b1-8e18-9ba43838f1de",
   "metadata": {},
   "source": [
    "## Ploteo"
   ]
  },
  {
   "cell_type": "code",
   "execution_count": 1176,
   "id": "4fab87d0-f47f-4c9c-b813-89baf4361ffb",
   "metadata": {},
   "outputs": [],
   "source": [
    "y = 'auc_2'\n",
    "data = df\n",
    "lim = np.percentile(data[y], 10)"
   ]
  },
  {
   "cell_type": "code",
   "execution_count": 1177,
   "id": "97033456-d99e-4b89-bd02-8a014659e737",
   "metadata": {},
   "outputs": [
    {
     "data": {
      "text/plain": [
       "[(0.7706796886977068, 1.0)]"
      ]
     },
     "execution_count": 1177,
     "metadata": {},
     "output_type": "execute_result"
    },
    {
     "data": {
      "image/png": "[encoded data removed]",
      "text/plain": [
       "<Figure size 720x360 with 1 Axes>"
      ]
     },
     "metadata": {
      "needs_background": "light"
     },
     "output_type": "display_data"
    }
   ],
   "source": [
    "plt.subplots(figsize=(10,5))\n",
    "p = sns.boxplot(x=\"modelo\", y=y,\n",
    "                hue=\"mask\",\n",
    "                data=data)\n",
    "p.set(ylim=(lim, 1))"
   ]
  },
  {
   "cell_type": "code",
   "execution_count": 1153,
   "id": "2c3a3185-6d81-4145-b15e-b69e3bbf26c8",
   "metadata": {},
   "outputs": [
    {
     "data": {
      "text/plain": [
       "[(0.8169012856700544, 1.0)]"
      ]
     },
     "execution_count": 1153,
     "metadata": {},
     "output_type": "execute_result"
    },
    {
     "data": {
      "image/png": "[encoded data removed]",
      "text/plain": [
       "<Figure size 720x360 with 1 Axes>"
      ]
     },
     "metadata": {
      "needs_background": "light"
     },
     "output_type": "display_data"
    }
   ],
   "source": [
    "plt.subplots(figsize=(10,5))\n",
    "p = sns.boxplot(x=\"modelo\", y=y,\n",
    "                hue=\"fine\",\n",
    "                data=data)\n",
    "p.set(ylim=(lim, 1))"
   ]
  },
  {
   "cell_type": "code",
   "execution_count": 1154,
   "id": "16c2d74a-658d-449a-96a4-9edbd266662c",
   "metadata": {},
   "outputs": [
    {
     "data": {
      "text/plain": [
       "[(0.8169012856700544, 1.0)]"
      ]
     },
     "execution_count": 1154,
     "metadata": {},
     "output_type": "execute_result"
    },
    {
     "data": {
      "image/png": "[encoded data removed]",
      "text/plain": [
       "<Figure size 720x360 with 1 Axes>"
      ]
     },
     "metadata": {
      "needs_background": "light"
     },
     "output_type": "display_data"
    }
   ],
   "source": [
    "plt.subplots(figsize=(10,5))\n",
    "p = sns.boxplot(x=\"fine\", y=y,\n",
    "                hue=\"lr\",\n",
    "                data=data)\n",
    "p.set(ylim=(lim, 1))"
   ]
  },
  {
   "cell_type": "code",
   "execution_count": 1155,
   "id": "8cac0902-855f-4430-a41f-ea446fbb9d6b",
   "metadata": {},
   "outputs": [
    {
     "data": {
      "text/plain": [
       "[(0.8169012856700544, 1.0)]"
      ]
     },
     "execution_count": 1155,
     "metadata": {},
     "output_type": "execute_result"
    },
    {
     "data": {
      "image/png": "[encoded data removed]",
      "text/plain": [
       "<Figure size 720x360 with 1 Axes>"
      ]
     },
     "metadata": {
      "needs_background": "light"
     },
     "output_type": "display_data"
    }
   ],
   "source": [
    "plt.subplots(figsize=(10,5))\n",
    "p = sns.boxplot(x=\"lr\", y=y,\n",
    "                hue=\"mask\",\n",
    "                data=data)\n",
    "p.set(ylim=(lim, 1))"
   ]
  },
  {
   "cell_type": "markdown",
   "id": "86fd4538-f1cb-4b6a-9eed-27bd617ed642",
   "metadata": {},
   "source": [
    "## Cada modelo"
   ]
  },
  {
   "cell_type": "code",
   "execution_count": 786,
   "id": "209e8622-ab9c-4d2c-8286-a9795ed09cef",
   "metadata": {},
   "outputs": [],
   "source": [
    "import os\n",
    "import cv2\n",
    "import json"
   ]
  },
  {
   "cell_type": "code",
   "execution_count": 880,
   "id": "d5928bcd-0bd0-43c9-aca5-7a01baf67bb6",
   "metadata": {},
   "outputs": [],
   "source": [
    "model_name = 'prueba_mask_Xception_fine-05_batch-8_lr-0001_auc-91'"
   ]
  },
  {
   "cell_type": "code",
   "execution_count": 881,
   "id": "72e2b5d1-52aa-4bb8-9ea0-4a1ab41d121d",
   "metadata": {},
   "outputs": [],
   "source": [
    "p = os.path.join('/home/mr1142/Documents/Data/models/neumonia/validation_results', model_name)"
   ]
  },
  {
   "cell_type": "code",
   "execution_count": 882,
   "id": "63d0e066-0e6d-4021-8737-be13de1ea79a",
   "metadata": {},
   "outputs": [
    {
     "data": {
      "text/plain": [
       "['metricas.json',\n",
       " 'pred_rec_plot_0.png',\n",
       " 'auc_plot_0.png',\n",
       " 'pr_re_th_plot_0.png',\n",
       " 'pred_rec_plot_1.png',\n",
       " 'auc_plot_1.png',\n",
       " 'pr_re_th_plot_1.png',\n",
       " 'pred_rec_plot_2.png',\n",
       " 'auc_plot_2.png',\n",
       " 'pr_re_th_plot_2.png',\n",
       " 'class_report.csv']"
      ]
     },
     "execution_count": 882,
     "metadata": {},
     "output_type": "execute_result"
    }
   ],
   "source": [
    "os.listdir(p)"
   ]
  },
  {
   "cell_type": "code",
   "execution_count": 886,
   "id": "0a98fe87-3859-4992-b3db-de6b6e88f7c8",
   "metadata": {},
   "outputs": [
    {
     "data": {
      "text/plain": [
       "<matplotlib.image.AxesImage at 0x7f2347c75748>"
      ]
     },
     "execution_count": 886,
     "metadata": {},
     "output_type": "execute_result"
    },
    {
     "data": {
      "image/png": "[encoded data removed]",
      "text/plain": [
       "<Figure size 720x720 with 1 Axes>"
      ]
     },
     "metadata": {
      "needs_background": "light"
     },
     "output_type": "display_data"
    }
   ],
   "source": [
    "img = cv2.imread(os.path.join(p, 'auc_plot_1.png'))\n",
    "plt.figure(figsize=(10,10))\n",
    "plt.imshow(img)"
   ]
  },
  {
   "cell_type": "code",
   "execution_count": 859,
   "id": "77bfb7c7-226e-49a8-a629-560d4b632f37",
   "metadata": {},
   "outputs": [
    {
     "ename": "FileNotFoundError",
     "evalue": "[Errno 2] No such file or directory: '/home/mr1142/Documents/Data/models/neumonia/validation_results/prueba_IncResNet_fine-00_batch-8_lr-0001_auc-90/prueba_IncResNet_fine-00_batch-8_lr-0001_auc-90.json'",
     "output_type": "error",
     "traceback": [
      "\u001b[0;31m---------------------------------------------------------------------------\u001b[0m",
      "\u001b[0;31mFileNotFoundError\u001b[0m                         Traceback (most recent call last)",
      "\u001b[0;32m<ipython-input-859-398f6558f67a>\u001b[0m in \u001b[0;36m<module>\u001b[0;34m\u001b[0m\n\u001b[0;32m----> 1\u001b[0;31m \u001b[0;32mwith\u001b[0m \u001b[0mopen\u001b[0m\u001b[0;34m(\u001b[0m\u001b[0mos\u001b[0m\u001b[0;34m.\u001b[0m\u001b[0mpath\u001b[0m\u001b[0;34m.\u001b[0m\u001b[0mjoin\u001b[0m\u001b[0;34m(\u001b[0m\u001b[0mp\u001b[0m\u001b[0;34m,\u001b[0m \u001b[0mmodel_name\u001b[0m \u001b[0;34m+\u001b[0m \u001b[0;34m'.json'\u001b[0m\u001b[0;34m)\u001b[0m\u001b[0;34m)\u001b[0m \u001b[0;32mas\u001b[0m \u001b[0mjson_file\u001b[0m\u001b[0;34m:\u001b[0m\u001b[0;34m\u001b[0m\u001b[0;34m\u001b[0m\u001b[0m\n\u001b[0m\u001b[1;32m      2\u001b[0m     \u001b[0mdata\u001b[0m \u001b[0;34m=\u001b[0m \u001b[0mjson\u001b[0m\u001b[0;34m.\u001b[0m\u001b[0mload\u001b[0m\u001b[0;34m(\u001b[0m\u001b[0mjson_file\u001b[0m\u001b[0;34m)\u001b[0m\u001b[0;34m\u001b[0m\u001b[0;34m\u001b[0m\u001b[0m\n\u001b[1;32m      3\u001b[0m \u001b[0mdata\u001b[0m\u001b[0;34m\u001b[0m\u001b[0;34m\u001b[0m\u001b[0m\n",
      "\u001b[0;31mFileNotFoundError\u001b[0m: [Errno 2] No such file or directory: '/home/mr1142/Documents/Data/models/neumonia/validation_results/prueba_IncResNet_fine-00_batch-8_lr-0001_auc-90/prueba_IncResNet_fine-00_batch-8_lr-0001_auc-90.json'"
     ]
    }
   ],
   "source": [
    "with open(os.path.join(p, model_name + '.json')) as json_file:\n",
    "    data = json.load(json_file)\n",
    "data"
   ]
  },
  {
   "cell_type": "code",
   "execution_count": 304,
   "id": "890014e3-0f2f-4204-8976-c5fd12e8a0dd",
   "metadata": {},
   "outputs": [
    {
     "data": {
      "text/html": [
       "<div>\n",
       "<style scoped>\n",
       "    .dataframe tbody tr th:only-of-type {\n",
       "        vertical-align: middle;\n",
       "    }\n",
       "\n",
       "    .dataframe tbody tr th {\n",
       "        vertical-align: top;\n",
       "    }\n",
       "\n",
       "    .dataframe thead th {\n",
       "        text-align: right;\n",
       "    }\n",
       "</style>\n",
       "<table border=\"1\" class=\"dataframe\">\n",
       "  <thead>\n",
       "    <tr style=\"text-align: right;\">\n",
       "      <th></th>\n",
       "      <th>Unnamed: 0</th>\n",
       "      <th>precision</th>\n",
       "      <th>recall</th>\n",
       "      <th>f1-score</th>\n",
       "      <th>support</th>\n",
       "    </tr>\n",
       "  </thead>\n",
       "  <tbody>\n",
       "    <tr>\n",
       "      <th>0</th>\n",
       "      <td>normal</td>\n",
       "      <td>0.940299</td>\n",
       "      <td>0.887324</td>\n",
       "      <td>0.913043</td>\n",
       "      <td>71.0</td>\n",
       "    </tr>\n",
       "    <tr>\n",
       "      <th>1</th>\n",
       "      <td>moderado</td>\n",
       "      <td>0.630137</td>\n",
       "      <td>0.741935</td>\n",
       "      <td>0.681481</td>\n",
       "      <td>62.0</td>\n",
       "    </tr>\n",
       "    <tr>\n",
       "      <th>2</th>\n",
       "      <td>severo</td>\n",
       "      <td>0.750000</td>\n",
       "      <td>0.671642</td>\n",
       "      <td>0.708661</td>\n",
       "      <td>67.0</td>\n",
       "    </tr>\n",
       "    <tr>\n",
       "      <th>3</th>\n",
       "      <td>micro avg</td>\n",
       "      <td>0.770000</td>\n",
       "      <td>0.770000</td>\n",
       "      <td>0.770000</td>\n",
       "      <td>200.0</td>\n",
       "    </tr>\n",
       "    <tr>\n",
       "      <th>4</th>\n",
       "      <td>macro avg</td>\n",
       "      <td>0.773478</td>\n",
       "      <td>0.766967</td>\n",
       "      <td>0.767729</td>\n",
       "      <td>200.0</td>\n",
       "    </tr>\n",
       "    <tr>\n",
       "      <th>5</th>\n",
       "      <td>weighted avg</td>\n",
       "      <td>0.780398</td>\n",
       "      <td>0.770000</td>\n",
       "      <td>0.772791</td>\n",
       "      <td>200.0</td>\n",
       "    </tr>\n",
       "    <tr>\n",
       "      <th>6</th>\n",
       "      <td>samples avg</td>\n",
       "      <td>0.770000</td>\n",
       "      <td>0.770000</td>\n",
       "      <td>0.770000</td>\n",
       "      <td>200.0</td>\n",
       "    </tr>\n",
       "  </tbody>\n",
       "</table>\n",
       "</div>"
      ],
      "text/plain": [
       "     Unnamed: 0  precision    recall  f1-score  support\n",
       "0        normal   0.940299  0.887324  0.913043     71.0\n",
       "1      moderado   0.630137  0.741935  0.681481     62.0\n",
       "2        severo   0.750000  0.671642  0.708661     67.0\n",
       "3     micro avg   0.770000  0.770000  0.770000    200.0\n",
       "4     macro avg   0.773478  0.766967  0.767729    200.0\n",
       "5  weighted avg   0.780398  0.770000  0.772791    200.0\n",
       "6   samples avg   0.770000  0.770000  0.770000    200.0"
      ]
     },
     "execution_count": 304,
     "metadata": {},
     "output_type": "execute_result"
    }
   ],
   "source": [
    "df = pd.read_csv(os.path.join(p, 'class_report.csv'))\n",
    "df"
   ]
  },
  {
   "cell_type": "code",
   "execution_count": null,
   "id": "c75b6257-0654-44df-9b15-93d8ddaa414b",
   "metadata": {},
   "outputs": [],
   "source": []
  }
 ],
 "metadata": {
  "kernelspec": {
   "display_name": "Python 3",
   "language": "python",
   "name": "python3"
  },
  "language_info": {
   "codemirror_mode": {
    "name": "ipython",
    "version": 3
   },
   "file_extension": ".py",
   "mimetype": "text/x-python",
   "name": "python",
   "nbconvert_exporter": "python",
   "pygments_lexer": "ipython3",
   "version": "3.6.8"
  }
 },
 "nbformat": 4,
 "nbformat_minor": 5
}
