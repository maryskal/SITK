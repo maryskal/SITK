{
 "cells": [
  {
   "cell_type": "code",
   "execution_count": 978,
   "id": "cda541f0-30af-43b6-9934-6cf79c13b3a8",
   "metadata": {},
   "outputs": [],
   "source": [
    "import os\n",
    "import numpy as np\n",
    "import cv2\n",
    "import tensorflow.keras as keras\n",
    "import matplotlib.pyplot as plt\n",
    "import re\n",
    "import pandas as pd"
   ]
  },
  {
   "cell_type": "code",
   "execution_count": 2,
   "id": "588be5b2-8d2f-4354-8279-c8e41d413a4c",
   "metadata": {},
   "outputs": [],
   "source": [
    "os.environ['CUDA_VISIBLE_DEVICES'] = '3'"
   ]
  },
  {
   "cell_type": "code",
   "execution_count": 3,
   "id": "cac5a622-3da5-444a-8fc9-748ae6f7e5da",
   "metadata": {},
   "outputs": [],
   "source": [
    "path = '/home/mr1142/Documents/Data/NIH/images_005'\n",
    "val_names = os.listdir('/home/mr1142/Documents/Data/NIH/images_005/images')"
   ]
  },
  {
   "cell_type": "markdown",
   "id": "19308513-7e15-4ecc-a17b-cef4a6482fb6",
   "metadata": {},
   "source": [
    "# Set de validación"
   ]
  },
  {
   "cell_type": "code",
   "execution_count": 709,
   "id": "fc943fd5-b84b-4653-a610-5d4113b2a7df",
   "metadata": {},
   "outputs": [],
   "source": [
    "# path = 'D:/Users/maryskal/Documents/SITK/CXR8/images/images_001'\n",
    "path = '/home/mr1142/Documents/Data/patologic'"
   ]
  },
  {
   "cell_type": "code",
   "execution_count": 710,
   "id": "7dbaf958-3672-4435-b89a-41df69d374b4",
   "metadata": {},
   "outputs": [],
   "source": [
    "masks_name = [f for f in os.listdir(os.path.join(path, 'mascara')) \n",
    "              if os.path.isfile(os.path.join(os.path.join(path, 'mascara'), f))]"
   ]
  },
  {
   "cell_type": "code",
   "execution_count": 10,
   "id": "f7eaaaf8-41cb-4fe4-a915-0639e5856a2b",
   "metadata": {},
   "outputs": [],
   "source": [
    "path = '/home/mr1142/Documents/Data/rx_diseases/enfermo'\n",
    "masks_name = [f for f in os.listdir(os.path.join(path)) \n",
    "              if os.path.isfile(os.path.join(os.path.join(path), f))]"
   ]
  },
  {
   "cell_type": "code",
   "execution_count": 169,
   "id": "0cbe2647-8790-44be-8eb7-73054202c0cb",
   "metadata": {},
   "outputs": [
    {
     "data": {
      "text/plain": [
       "200"
      ]
     },
     "execution_count": 169,
     "metadata": {},
     "output_type": "execute_result"
    }
   ],
   "source": [
    "len(masks_name)"
   ]
  },
  {
   "cell_type": "code",
   "execution_count": 11,
   "id": "b613522a-2576-4ea3-b9f7-bf7a6f9efbd1",
   "metadata": {},
   "outputs": [],
   "source": [
    "pixels = 256"
   ]
  },
  {
   "cell_type": "code",
   "execution_count": 12,
   "id": "50957864-cff6-482c-b14c-b859e05a972e",
   "metadata": {},
   "outputs": [],
   "source": [
    "def read_img(path, folder, img):\n",
    "    img = cv2.imread(os.path.join(path, folder, img))\n",
    "    try:\n",
    "        img = cv2.cvtColor(img, cv2.COLOR_BGR2GRAY)\n",
    "    except:\n",
    "        print('', end='')\n",
    "    img = cv2.resize(img, (pixels, pixels))\n",
    "    img = np.expand_dims(img, axis=-1)\n",
    "    return img"
   ]
  },
  {
   "cell_type": "code",
   "execution_count": 13,
   "id": "54c2c494-5172-48f3-890f-9fac445ccdc2",
   "metadata": {},
   "outputs": [],
   "source": [
    "def normalize(img):\n",
    "    return (img - np.mean(img))/ np.std(img)\n",
    "    # return img/np.max(img)"
   ]
  },
  {
   "cell_type": "code",
   "execution_count": 14,
   "id": "cf4301ec-0094-4174-98ed-8661a9d1a413",
   "metadata": {},
   "outputs": [],
   "source": [
    "def binarize(img):\n",
    "    img[img>0] = 1\n",
    "    return img"
   ]
  },
  {
   "cell_type": "markdown",
   "id": "2e145d20-9b43-4077-b911-15c2dc29de12",
   "metadata": {},
   "source": [
    "# Preprocesado de imagen de entrada al modelo"
   ]
  },
  {
   "cell_type": "code",
   "execution_count": 15,
   "id": "8ca11269-b1cb-43dc-ba83-8b348aaac507",
   "metadata": {},
   "outputs": [
    {
     "data": {
      "text/plain": [
       "['imagenes.h5',\n",
       " 'mask_1.h5',\n",
       " 'ueff_1.h5',\n",
       " 'ueff_2.h5',\n",
       " 'uloss_1.h5',\n",
       " 'uloss_2.h5',\n",
       " 'uloss_final_renacimiento_validation_1.h5',\n",
       " 'uloss_final_renacimiento_validation_3.h5',\n",
       " 'uloss_final_renacimiento_validation_4.h5',\n",
       " 'uloss_renacimiento_validation_2.h5',\n",
       " 'uloss_renacimiento_validation_3.h5',\n",
       " 'uloss_renacimiento_validation_4.h5',\n",
       " 'uloss_validation_rotate_normalization_1.h5',\n",
       " 'uloss_validation_rotate_normalization_2.h5',\n",
       " 'uloss_validation_rotate_normalization_3.h5',\n",
       " 'unet3.h5',\n",
       " 'unet_1.h5',\n",
       " 'unet_2.h5',\n",
       " 'unet_3.h5',\n",
       " 'unet_albumentation_2_validation_1.h5',\n",
       " 'unet_albumentation_2_validation_2.h5',\n",
       " 'unet_final_renacimiento_validation_1.h5',\n",
       " 'unet_final_renacimiento_validation_2.h5',\n",
       " 'unet_final_renacimiento_validation_3.h5',\n",
       " 'unet_final_renacimiento_validation_4.h5',\n",
       " 'unet_nuevos_validation_oldest_1.h5',\n",
       " 'unet_renacimiento_validation_1.h5',\n",
       " 'unet_renacimiento_validation_2.h5',\n",
       " 'unet_renacimiento_validation_3.h5',\n",
       " 'unet_renacimiento_validation_4.h5',\n",
       " 'unet_validation_rotate_normalization_1.h5',\n",
       " 'unet_validation_rotate_normalization_2.h5',\n",
       " 'unet_validation_rotate_normalization_3.h5',\n",
       " 'validation_results']"
      ]
     },
     "execution_count": 15,
     "metadata": {},
     "output_type": "execute_result"
    }
   ],
   "source": [
    "modelos = os.listdir('/home/mr1142/Documents/Data/models')\n",
    "modelos.sort()\n",
    "modelos"
   ]
  },
  {
   "cell_type": "code",
   "execution_count": 16,
   "id": "863c2e74-9ca5-4a39-b32f-b80dcd56bd7b",
   "metadata": {},
   "outputs": [],
   "source": [
    "from tensorflow.keras import backend as K\n",
    "\n",
    "def dice_coef(y_true, y_pred, smooth=100):        \n",
    "    y_true_f = K.flatten(y_true)\n",
    "    y_pred_f = K.flatten(y_pred)\n",
    "    intersection = K.sum(y_true_f * y_pred_f)\n",
    "    dice = (2. * intersection + smooth) / (K.sum(y_true_f) + K.sum(y_pred_f) + smooth)\n",
    "    return dice\n",
    "\n",
    "def dice_coef_loss(y_true, y_pred):\n",
    "    return 1 - dice_coef(y_true, y_pred)"
   ]
  },
  {
   "cell_type": "code",
   "execution_count": 17,
   "id": "561e07f4-372b-418e-9b5f-858040b091ae",
   "metadata": {},
   "outputs": [],
   "source": [
    "def loss_mask(y_true, y_pred):\n",
    "    y_pred = sub_mask(y_pred)\n",
    "    y_true = sub_mask(y_true)\n",
    "    return abs(y_true - y_pred)\n",
    "\n",
    "\n",
    "def MyLoss(y_true, y_pred):\n",
    "    # Loss 1\n",
    "    loss1 = ex.dice_coef_loss(y_true, y_pred)\n",
    "    # Loss 2\n",
    "    loss2 = loss_mask(y_true, y_pred)\n",
    "    loss = loss1 + 0.5*loss2\n",
    "    return loss"
   ]
  },
  {
   "cell_type": "code",
   "execution_count": 18,
   "id": "c359bd73-df19-470d-aaa0-b57d57974f88",
   "metadata": {},
   "outputs": [],
   "source": [
    "def apply_mask(img, mask):\n",
    "    img[mask!=1]=0\n",
    "    return img"
   ]
  },
  {
   "cell_type": "markdown",
   "id": "f69f6d89-497e-488f-9ff1-3b42e3534d5d",
   "metadata": {
    "tags": []
   },
   "source": [
    "# 1 canal"
   ]
  },
  {
   "cell_type": "code",
   "execution_count": 705,
   "id": "f7aa3085-1e3b-4167-a412-c3e1110690cc",
   "metadata": {},
   "outputs": [],
   "source": [
    "unet = keras.models.load_model('/home/mr1142/Documents/Data/models/unet_final_renacimiento_validation_6.h5', \n",
    "                                     custom_objects={\"loss_mask\": loss_mask, \n",
    "                                                     \"dice_coef_loss\": dice_coef_loss,\n",
    "                                                     \"dice_coef\": dice_coef})"
   ]
  },
  {
   "cell_type": "markdown",
   "id": "b7b1cfce-1327-453f-ae1f-2d5b049eb6bc",
   "metadata": {},
   "source": [
    "# Custom loss mejorada"
   ]
  },
  {
   "cell_type": "code",
   "execution_count": 491,
   "id": "e1c3f01c-064e-45bc-ab29-17a72587e9b7",
   "metadata": {},
   "outputs": [],
   "source": [
    "uloss = keras.models.load_model('/home/mr1142/Documents/Data/models/uloss_final_renacimiento_validation_6.h5', \n",
    "                                     custom_objects={\"MyLoss\": MyLoss, \n",
    "                                                     \"loss_mask\": loss_mask, \n",
    "                                                     \"dice_coef_loss\": dice_coef_loss,\n",
    "                                                     \"dice_coef\": dice_coef})"
   ]
  },
  {
   "cell_type": "markdown",
   "id": "0c46c525-db8c-45a1-b4ef-601140bd3d1f",
   "metadata": {},
   "source": [
    "# Comparación"
   ]
  },
  {
   "cell_type": "code",
   "execution_count": 28,
   "id": "6e1a57e0-e705-435b-8f97-3c30eef98aed",
   "metadata": {},
   "outputs": [],
   "source": [
    "import pandas as pd\n",
    "import re"
   ]
  },
  {
   "cell_type": "code",
   "execution_count": 29,
   "id": "f1518670-e540-450f-92ad-11e6ffb2778a",
   "metadata": {},
   "outputs": [],
   "source": [
    "df = pd.read_csv('/home/mr1142/Documents/Data/segmentation/splited/validation/validation_data.csv')"
   ]
  },
  {
   "cell_type": "code",
   "execution_count": 30,
   "id": "3951b77e-2be5-43dc-aa12-61f35e8d5017",
   "metadata": {},
   "outputs": [
    {
     "data": {
      "text/html": [
       "<div>\n",
       "<style scoped>\n",
       "    .dataframe tbody tr th:only-of-type {\n",
       "        vertical-align: middle;\n",
       "    }\n",
       "\n",
       "    .dataframe tbody tr th {\n",
       "        vertical-align: top;\n",
       "    }\n",
       "\n",
       "    .dataframe thead th {\n",
       "        text-align: right;\n",
       "    }\n",
       "</style>\n",
       "<table border=\"1\" class=\"dataframe\">\n",
       "  <thead>\n",
       "    <tr style=\"text-align: right;\">\n",
       "      <th></th>\n",
       "      <th>Unnamed: 0</th>\n",
       "      <th>Image Index</th>\n",
       "      <th>Finding Labels</th>\n",
       "      <th>Follow-up #</th>\n",
       "      <th>Patient ID</th>\n",
       "      <th>Patient Age</th>\n",
       "      <th>Patient Gender</th>\n",
       "      <th>View Position</th>\n",
       "      <th>OriginalImage[Width</th>\n",
       "      <th>Height]</th>\n",
       "      <th>OriginalImagePixelSpacing[x</th>\n",
       "      <th>y]</th>\n",
       "      <th>Unnamed: 11</th>\n",
       "    </tr>\n",
       "  </thead>\n",
       "  <tbody>\n",
       "    <tr>\n",
       "      <th>0</th>\n",
       "      <td>1279</td>\n",
       "      <td>00000324_002.png</td>\n",
       "      <td>No Finding</td>\n",
       "      <td>2</td>\n",
       "      <td>324</td>\n",
       "      <td>32</td>\n",
       "      <td>M</td>\n",
       "      <td>PA</td>\n",
       "      <td>2992</td>\n",
       "      <td>2991</td>\n",
       "      <td>0.143</td>\n",
       "      <td>0.143</td>\n",
       "      <td>NaN</td>\n",
       "    </tr>\n",
       "    <tr>\n",
       "      <th>1</th>\n",
       "      <td>1692</td>\n",
       "      <td>00000459_017.png</td>\n",
       "      <td>Nodule</td>\n",
       "      <td>17</td>\n",
       "      <td>459</td>\n",
       "      <td>57</td>\n",
       "      <td>F</td>\n",
       "      <td>AP</td>\n",
       "      <td>3056</td>\n",
       "      <td>2544</td>\n",
       "      <td>0.139</td>\n",
       "      <td>0.139</td>\n",
       "      <td>NaN</td>\n",
       "    </tr>\n",
       "    <tr>\n",
       "      <th>2</th>\n",
       "      <td>4197</td>\n",
       "      <td>00001143_003.png</td>\n",
       "      <td>No Finding</td>\n",
       "      <td>3</td>\n",
       "      <td>1143</td>\n",
       "      <td>57</td>\n",
       "      <td>F</td>\n",
       "      <td>PA</td>\n",
       "      <td>2992</td>\n",
       "      <td>2991</td>\n",
       "      <td>0.143</td>\n",
       "      <td>0.143</td>\n",
       "      <td>NaN</td>\n",
       "    </tr>\n",
       "    <tr>\n",
       "      <th>3</th>\n",
       "      <td>6990</td>\n",
       "      <td>00001851_001.png</td>\n",
       "      <td>No Finding</td>\n",
       "      <td>1</td>\n",
       "      <td>1851</td>\n",
       "      <td>49</td>\n",
       "      <td>M</td>\n",
       "      <td>PA</td>\n",
       "      <td>2500</td>\n",
       "      <td>2048</td>\n",
       "      <td>0.168</td>\n",
       "      <td>0.168</td>\n",
       "      <td>NaN</td>\n",
       "    </tr>\n",
       "    <tr>\n",
       "      <th>4</th>\n",
       "      <td>7637</td>\n",
       "      <td>00001996_011.png</td>\n",
       "      <td>Pneumothorax</td>\n",
       "      <td>11</td>\n",
       "      <td>1996</td>\n",
       "      <td>41</td>\n",
       "      <td>F</td>\n",
       "      <td>PA</td>\n",
       "      <td>2992</td>\n",
       "      <td>2991</td>\n",
       "      <td>0.143</td>\n",
       "      <td>0.143</td>\n",
       "      <td>NaN</td>\n",
       "    </tr>\n",
       "  </tbody>\n",
       "</table>\n",
       "</div>"
      ],
      "text/plain": [
       "   Unnamed: 0       Image Index Finding Labels  Follow-up #  Patient ID  \\\n",
       "0        1279  00000324_002.png     No Finding            2         324   \n",
       "1        1692  00000459_017.png         Nodule           17         459   \n",
       "2        4197  00001143_003.png     No Finding            3        1143   \n",
       "3        6990  00001851_001.png     No Finding            1        1851   \n",
       "4        7637  00001996_011.png   Pneumothorax           11        1996   \n",
       "\n",
       "   Patient Age Patient Gender View Position  OriginalImage[Width  Height]  \\\n",
       "0           32              M            PA                 2992     2991   \n",
       "1           57              F            AP                 3056     2544   \n",
       "2           57              F            PA                 2992     2991   \n",
       "3           49              M            PA                 2500     2048   \n",
       "4           41              F            PA                 2992     2991   \n",
       "\n",
       "   OriginalImagePixelSpacing[x     y]  Unnamed: 11  \n",
       "0                        0.143  0.143          NaN  \n",
       "1                        0.139  0.139          NaN  \n",
       "2                        0.143  0.143          NaN  \n",
       "3                        0.168  0.168          NaN  \n",
       "4                        0.143  0.143          NaN  "
      ]
     },
     "execution_count": 30,
     "metadata": {},
     "output_type": "execute_result"
    }
   ],
   "source": [
    "df.head()"
   ]
  },
  {
   "cell_type": "code",
   "execution_count": 31,
   "id": "2bb163d0-e6f1-4295-b7d0-bdc3b60e398d",
   "metadata": {},
   "outputs": [
    {
     "data": {
      "text/plain": [
       "['Atelectasis',\n",
       " 'Cardiomegaly',\n",
       " 'Consolidation',\n",
       " 'Edema',\n",
       " 'Effusion',\n",
       " 'Emphysema',\n",
       " 'Infiltration',\n",
       " 'Mass',\n",
       " 'No Finding',\n",
       " 'Nodule',\n",
       " 'Pleural_Thickening',\n",
       " 'Pneumonia',\n",
       " 'Pneumothorax']"
      ]
     },
     "execution_count": 31,
     "metadata": {},
     "output_type": "execute_result"
    }
   ],
   "source": [
    "labels = [re.split('[|]', df['Finding Labels'][i]) for i in df.index]\n",
    "labels = [x for xs in labels for x in xs]\n",
    "labels = list(np.unique(labels))\n",
    "labels"
   ]
  },
  {
   "cell_type": "code",
   "execution_count": 193,
   "id": "b00cdbeb-f569-4910-bd6b-05f72110413a",
   "metadata": {},
   "outputs": [],
   "source": [
    "label = 'Atelectasis'"
   ]
  },
  {
   "cell_type": "code",
   "execution_count": 194,
   "id": "0b0522d5-05a2-4e24-b2a4-586238f0bbf9",
   "metadata": {},
   "outputs": [],
   "source": [
    "index = [i for i in df.index if bool(re.search(label, df['Finding Labels'][i]))]"
   ]
  },
  {
   "cell_type": "code",
   "execution_count": 195,
   "id": "0c0b287a-5e39-4a0a-ba2b-3c1f1c5aa930",
   "metadata": {},
   "outputs": [
    {
     "data": {
      "text/plain": [
       "10"
      ]
     },
     "execution_count": 195,
     "metadata": {},
     "output_type": "execute_result"
    }
   ],
   "source": [
    "len(index)"
   ]
  },
  {
   "cell_type": "code",
   "execution_count": 196,
   "id": "573b7dde-6ad1-49eb-900e-c47bcffacf1b",
   "metadata": {},
   "outputs": [],
   "source": [
    "masks_name = list(df['Image Index'][index])"
   ]
  },
  {
   "cell_type": "code",
   "execution_count": 706,
   "id": "ab5ab711-e147-4336-8395-390c7c3bd8c4",
   "metadata": {},
   "outputs": [],
   "source": [
    "r = 0"
   ]
  },
  {
   "cell_type": "code",
   "execution_count": 707,
   "id": "cd08e2e1-d251-400e-b109-0cc0e83dbb2d",
   "metadata": {},
   "outputs": [],
   "source": [
    "un = 0\n",
    "ul = 0"
   ]
  },
  {
   "cell_type": "code",
   "execution_count": 937,
   "id": "b5bbe4dc-e933-4f57-9b4f-52317935b166",
   "metadata": {},
   "outputs": [
    {
     "ename": "IndexError",
     "evalue": "list index out of range",
     "output_type": "error",
     "traceback": [
      "\u001b[0;31m---------------------------------------------------------------------------\u001b[0m",
      "\u001b[0;31mIndexError\u001b[0m                                Traceback (most recent call last)",
      "\u001b[0;32m<ipython-input-937-68eeafe94e17>\u001b[0m in \u001b[0;36m<module>\u001b[0;34m\u001b[0m\n\u001b[1;32m      1\u001b[0m \u001b[0;31m# r = np.random.randint(0, len(masks_name))\u001b[0m\u001b[0;34m\u001b[0m\u001b[0;34m\u001b[0m\u001b[0;34m\u001b[0m\u001b[0m\n\u001b[0;32m----> 2\u001b[0;31m \u001b[0mimg\u001b[0m \u001b[0;34m=\u001b[0m \u001b[0mnormalize\u001b[0m\u001b[0;34m(\u001b[0m\u001b[0mread_img\u001b[0m\u001b[0;34m(\u001b[0m\u001b[0mpath\u001b[0m\u001b[0;34m,\u001b[0m \u001b[0;34m'images'\u001b[0m\u001b[0;34m,\u001b[0m \u001b[0mmasks_name\u001b[0m\u001b[0;34m[\u001b[0m\u001b[0mr\u001b[0m\u001b[0;34m]\u001b[0m\u001b[0;34m)\u001b[0m\u001b[0;34m)\u001b[0m\u001b[0;34m\u001b[0m\u001b[0;34m\u001b[0m\u001b[0m\n\u001b[0m\u001b[1;32m      3\u001b[0m \u001b[0mnet_mask\u001b[0m \u001b[0;34m=\u001b[0m \u001b[0munet\u001b[0m\u001b[0;34m.\u001b[0m\u001b[0mpredict\u001b[0m\u001b[0;34m(\u001b[0m\u001b[0mimg\u001b[0m\u001b[0;34m[\u001b[0m\u001b[0mnp\u001b[0m\u001b[0;34m.\u001b[0m\u001b[0mnewaxis\u001b[0m\u001b[0;34m,\u001b[0m\u001b[0;34m...\u001b[0m\u001b[0;34m]\u001b[0m\u001b[0;34m)\u001b[0m\u001b[0;34m[\u001b[0m\u001b[0;36m0\u001b[0m\u001b[0;34m,\u001b[0m\u001b[0;34m...\u001b[0m\u001b[0;34m]\u001b[0m\u001b[0;34m\u001b[0m\u001b[0;34m\u001b[0m\u001b[0m\n\u001b[1;32m      4\u001b[0m \u001b[0mloss_mask\u001b[0m \u001b[0;34m=\u001b[0m \u001b[0muloss\u001b[0m\u001b[0;34m.\u001b[0m\u001b[0mpredict\u001b[0m\u001b[0;34m(\u001b[0m\u001b[0mimg\u001b[0m\u001b[0;34m[\u001b[0m\u001b[0mnp\u001b[0m\u001b[0;34m.\u001b[0m\u001b[0mnewaxis\u001b[0m\u001b[0;34m,\u001b[0m\u001b[0;34m...\u001b[0m\u001b[0;34m]\u001b[0m\u001b[0;34m)\u001b[0m\u001b[0;34m[\u001b[0m\u001b[0;36m0\u001b[0m\u001b[0;34m,\u001b[0m\u001b[0;34m...\u001b[0m\u001b[0;34m]\u001b[0m\u001b[0;34m\u001b[0m\u001b[0;34m\u001b[0m\u001b[0m\n\u001b[1;32m      5\u001b[0m \u001b[0mplt\u001b[0m\u001b[0;34m.\u001b[0m\u001b[0mfigure\u001b[0m\u001b[0;34m(\u001b[0m\u001b[0mfigsize\u001b[0m\u001b[0;34m=\u001b[0m\u001b[0;34m(\u001b[0m\u001b[0;36m20\u001b[0m\u001b[0;34m,\u001b[0m \u001b[0;36m20\u001b[0m\u001b[0;34m)\u001b[0m\u001b[0;34m)\u001b[0m\u001b[0;34m\u001b[0m\u001b[0;34m\u001b[0m\u001b[0m\n",
      "\u001b[0;31mIndexError\u001b[0m: list index out of range"
     ]
    }
   ],
   "source": [
    "# r = np.random.randint(0, len(masks_name))\n",
    "img = normalize(read_img(path, 'images', masks_name[r]))\n",
    "net_mask = unet.predict(img[np.newaxis,...])[0,...]\n",
    "loss_mask = uloss.predict(img[np.newaxis,...])[0,...]\n",
    "plt.figure(figsize=(20, 20))\n",
    "plt.subplot(1,3,1)\n",
    "plt.imshow(img, cmap = 'gray')\n",
    "plt.subplot(1,3,2)\n",
    "plt.imshow(apply_mask(img, loss_mask), cmap = 'gray')\n",
    "plt.subplot(1,3,3)\n",
    "plt.imshow(apply_mask(img, net_mask), cmap = 'gray')\n",
    "plt.show()\n",
    "r += 1"
   ]
  },
  {
   "cell_type": "code",
   "execution_count": 935,
   "id": "1b6e993b-74cd-422b-9b62-65562845563a",
   "metadata": {},
   "outputs": [
    {
     "data": {
      "text/plain": [
       "199"
      ]
     },
     "execution_count": 935,
     "metadata": {},
     "output_type": "execute_result"
    }
   ],
   "source": [
    "r"
   ]
  },
  {
   "cell_type": "code",
   "execution_count": 917,
   "id": "7f1d8f89-b3be-4a40-96c3-161bcf2047ed",
   "metadata": {},
   "outputs": [
    {
     "data": {
      "text/plain": [
       "13"
      ]
     },
     "execution_count": 917,
     "metadata": {},
     "output_type": "execute_result"
    }
   ],
   "source": [
    "ul += 1\n",
    "ul"
   ]
  },
  {
   "cell_type": "code",
   "execution_count": 887,
   "id": "bc3eb682-acc6-4db1-879d-0df96a173f61",
   "metadata": {},
   "outputs": [
    {
     "data": {
      "text/plain": [
       "11"
      ]
     },
     "execution_count": 887,
     "metadata": {},
     "output_type": "execute_result"
    }
   ],
   "source": [
    "un += 1\n",
    "un"
   ]
  },
  {
   "cell_type": "markdown",
   "id": "e86e0f22-1f56-4d12-be84-8e21843de18f",
   "metadata": {},
   "source": [
    "# Aplicacion en serie"
   ]
  },
  {
   "cell_type": "code",
   "execution_count": 1041,
   "id": "3ced9646-6a88-4c71-8e88-dd6699f9a719",
   "metadata": {},
   "outputs": [],
   "source": [
    "def des_normalize(img):\n",
    "    return cv2.normalize(img, None, alpha = 0, beta = 255,\n",
    "                         norm_type = cv2.NORM_MINMAX, dtype = cv2.CV_32F)"
   ]
  },
  {
   "cell_type": "code",
   "execution_count": 1049,
   "id": "a5386fee-2d9e-4ae5-9738-7ea6fce8e652",
   "metadata": {},
   "outputs": [],
   "source": [
    "path = '/home/mr1142/Documents/Data/validacion_medica/vinbigdata'"
   ]
  },
  {
   "cell_type": "code",
   "execution_count": 1050,
   "id": "147bc552-820b-46a6-a593-a2730c06d255",
   "metadata": {},
   "outputs": [],
   "source": [
    "images = [f for f in os.listdir(path) if bool(re.search('png', f))]"
   ]
  },
  {
   "cell_type": "code",
   "execution_count": 1051,
   "id": "8a3c63ab-6a6c-4fe8-b924-db798872e1e4",
   "metadata": {},
   "outputs": [
    {
     "data": {
      "text/plain": [
       "200"
      ]
     },
     "execution_count": 1051,
     "metadata": {},
     "output_type": "execute_result"
    }
   ],
   "source": [
    "len(images)"
   ]
  },
  {
   "cell_type": "code",
   "execution_count": 1052,
   "id": "28284a5e-f8a9-4585-8442-0c81c6240361",
   "metadata": {},
   "outputs": [],
   "source": [
    "model = unet"
   ]
  },
  {
   "cell_type": "code",
   "execution_count": 1053,
   "id": "cdd62af0-f802-4476-9ce6-d37e50ff4b46",
   "metadata": {},
   "outputs": [],
   "source": [
    "for image in images:\n",
    "    img = normalize(read_img(path,'', image))\n",
    "    mask = model.predict(img[np.newaxis,...])[0,...]\n",
    "    segmented = des_normalize(apply_mask(img, mask))    \n",
    "    cv2.imwrite(os.path.join(path,'mascara', image), segmented)"
   ]
  },
  {
   "cell_type": "code",
   "execution_count": 1043,
   "id": "ecac6cec-5066-4ade-b3bb-67a0ec9d9cea",
   "metadata": {},
   "outputs": [
    {
     "data": {
      "text/plain": [
       "200"
      ]
     },
     "execution_count": 1043,
     "metadata": {},
     "output_type": "execute_result"
    }
   ],
   "source": [
    "names = os.listdir(os.path.join(path, 'mascara'))\n",
    "len(names)"
   ]
  },
  {
   "cell_type": "code",
   "execution_count": 1002,
   "id": "7b16c3cc-2100-46b6-843b-315f81aca79f",
   "metadata": {},
   "outputs": [],
   "source": [
    "p = '/home/mr1142/Documents/Data/NIH/Data_Entry_2017.csv'"
   ]
  },
  {
   "cell_type": "code",
   "execution_count": 1003,
   "id": "01cac206-ad42-45cc-9b5b-8d5c28b42b3e",
   "metadata": {},
   "outputs": [],
   "source": [
    "df = pd.read_csv(p)"
   ]
  },
  {
   "cell_type": "code",
   "execution_count": 1004,
   "id": "28a82ee1-b74c-4a27-95a9-2426134a5cb8",
   "metadata": {},
   "outputs": [],
   "source": [
    "index = [i for i in df.index if df['Image Index'][i] in names]"
   ]
  },
  {
   "cell_type": "code",
   "execution_count": 1005,
   "id": "b121dd2e-0885-49b8-b46e-e9fe0b69aee7",
   "metadata": {},
   "outputs": [],
   "source": [
    "df = df.iloc[index]"
   ]
  },
  {
   "cell_type": "code",
   "execution_count": 1006,
   "id": "39dfa0e2-b997-45b7-ab2d-2bb3f19df76c",
   "metadata": {},
   "outputs": [
    {
     "data": {
      "text/html": [
       "<div>\n",
       "<style scoped>\n",
       "    .dataframe tbody tr th:only-of-type {\n",
       "        vertical-align: middle;\n",
       "    }\n",
       "\n",
       "    .dataframe tbody tr th {\n",
       "        vertical-align: top;\n",
       "    }\n",
       "\n",
       "    .dataframe thead th {\n",
       "        text-align: right;\n",
       "    }\n",
       "</style>\n",
       "<table border=\"1\" class=\"dataframe\">\n",
       "  <thead>\n",
       "    <tr style=\"text-align: right;\">\n",
       "      <th></th>\n",
       "      <th>Image Index</th>\n",
       "      <th>Finding Labels</th>\n",
       "      <th>Follow-up #</th>\n",
       "      <th>Patient ID</th>\n",
       "      <th>Patient Age</th>\n",
       "      <th>Patient Gender</th>\n",
       "      <th>View Position</th>\n",
       "      <th>OriginalImage[Width</th>\n",
       "      <th>Height]</th>\n",
       "      <th>OriginalImagePixelSpacing[x</th>\n",
       "      <th>y]</th>\n",
       "      <th>Unnamed: 11</th>\n",
       "    </tr>\n",
       "  </thead>\n",
       "  <tbody>\n",
       "    <tr>\n",
       "      <th>275</th>\n",
       "      <td>00000061_011.png</td>\n",
       "      <td>Effusion</td>\n",
       "      <td>11</td>\n",
       "      <td>61</td>\n",
       "      <td>77</td>\n",
       "      <td>M</td>\n",
       "      <td>AP</td>\n",
       "      <td>3056</td>\n",
       "      <td>2524</td>\n",
       "      <td>0.139</td>\n",
       "      <td>0.139</td>\n",
       "      <td>NaN</td>\n",
       "    </tr>\n",
       "    <tr>\n",
       "      <th>1424</th>\n",
       "      <td>00000372_002.png</td>\n",
       "      <td>Pneumothorax</td>\n",
       "      <td>2</td>\n",
       "      <td>372</td>\n",
       "      <td>80</td>\n",
       "      <td>M</td>\n",
       "      <td>AP</td>\n",
       "      <td>2500</td>\n",
       "      <td>2048</td>\n",
       "      <td>0.168</td>\n",
       "      <td>0.168</td>\n",
       "      <td>NaN</td>\n",
       "    </tr>\n",
       "    <tr>\n",
       "      <th>2967</th>\n",
       "      <td>00000792_001.png</td>\n",
       "      <td>No Finding</td>\n",
       "      <td>1</td>\n",
       "      <td>792</td>\n",
       "      <td>60</td>\n",
       "      <td>M</td>\n",
       "      <td>PA</td>\n",
       "      <td>2992</td>\n",
       "      <td>2991</td>\n",
       "      <td>0.143</td>\n",
       "      <td>0.143</td>\n",
       "      <td>NaN</td>\n",
       "    </tr>\n",
       "    <tr>\n",
       "      <th>3001</th>\n",
       "      <td>00000798_013.png</td>\n",
       "      <td>No Finding</td>\n",
       "      <td>13</td>\n",
       "      <td>798</td>\n",
       "      <td>65</td>\n",
       "      <td>F</td>\n",
       "      <td>AP</td>\n",
       "      <td>2500</td>\n",
       "      <td>2048</td>\n",
       "      <td>0.168</td>\n",
       "      <td>0.168</td>\n",
       "      <td>NaN</td>\n",
       "    </tr>\n",
       "    <tr>\n",
       "      <th>3172</th>\n",
       "      <td>00000831_005.png</td>\n",
       "      <td>No Finding</td>\n",
       "      <td>5</td>\n",
       "      <td>831</td>\n",
       "      <td>25</td>\n",
       "      <td>M</td>\n",
       "      <td>AP</td>\n",
       "      <td>2500</td>\n",
       "      <td>2048</td>\n",
       "      <td>0.168</td>\n",
       "      <td>0.168</td>\n",
       "      <td>NaN</td>\n",
       "    </tr>\n",
       "  </tbody>\n",
       "</table>\n",
       "</div>"
      ],
      "text/plain": [
       "           Image Index Finding Labels  Follow-up #  Patient ID  Patient Age  \\\n",
       "275   00000061_011.png       Effusion           11          61           77   \n",
       "1424  00000372_002.png   Pneumothorax            2         372           80   \n",
       "2967  00000792_001.png     No Finding            1         792           60   \n",
       "3001  00000798_013.png     No Finding           13         798           65   \n",
       "3172  00000831_005.png     No Finding            5         831           25   \n",
       "\n",
       "     Patient Gender View Position  OriginalImage[Width  Height]  \\\n",
       "275               M            AP                 3056     2524   \n",
       "1424              M            AP                 2500     2048   \n",
       "2967              M            PA                 2992     2991   \n",
       "3001              F            AP                 2500     2048   \n",
       "3172              M            AP                 2500     2048   \n",
       "\n",
       "      OriginalImagePixelSpacing[x     y]  Unnamed: 11  \n",
       "275                         0.139  0.139          NaN  \n",
       "1424                        0.168  0.168          NaN  \n",
       "2967                        0.143  0.143          NaN  \n",
       "3001                        0.168  0.168          NaN  \n",
       "3172                        0.168  0.168          NaN  "
      ]
     },
     "execution_count": 1006,
     "metadata": {},
     "output_type": "execute_result"
    }
   ],
   "source": [
    "df.head()"
   ]
  },
  {
   "cell_type": "code",
   "execution_count": 1007,
   "id": "074887c9-d922-4b7b-93e4-f3a88283cda6",
   "metadata": {},
   "outputs": [
    {
     "data": {
      "text/plain": [
       "200"
      ]
     },
     "execution_count": 1007,
     "metadata": {},
     "output_type": "execute_result"
    }
   ],
   "source": [
    "len(df)"
   ]
  },
  {
   "cell_type": "code",
   "execution_count": 1008,
   "id": "f597d1a2-0167-4f4b-a0c0-625e04d182ae",
   "metadata": {},
   "outputs": [],
   "source": [
    "df.to_csv(os.path.join(path,'validation_data.csv'))"
   ]
  },
  {
   "cell_type": "code",
   "execution_count": null,
   "id": "f49792e3-448d-41ee-aa8f-68c56bca41c4",
   "metadata": {},
   "outputs": [],
   "source": []
  }
 ],
 "metadata": {
  "kernelspec": {
   "display_name": "Python 3",
   "language": "python",
   "name": "python3"
  },
  "language_info": {
   "codemirror_mode": {
    "name": "ipython",
    "version": 3
   },
   "file_extension": ".py",
   "mimetype": "text/x-python",
   "name": "python",
   "nbconvert_exporter": "python",
   "pygments_lexer": "ipython3",
   "version": "3.6.8"
  }
 },
 "nbformat": 4,
 "nbformat_minor": 5
}
