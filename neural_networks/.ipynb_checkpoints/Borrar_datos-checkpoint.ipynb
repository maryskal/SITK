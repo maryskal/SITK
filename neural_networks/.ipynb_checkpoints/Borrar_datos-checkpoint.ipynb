{
 "cells": [
  {
   "cell_type": "code",
   "execution_count": 3,
   "id": "d1f5e302-0a48-4851-a561-1702e9564f9d",
   "metadata": {},
   "outputs": [],
   "source": [
    "import re\n",
    "import os\n",
    "import shutil\n",
    "import pandas as pd"
   ]
  },
  {
   "cell_type": "markdown",
   "id": "3dfbbd54-23e0-493e-9388-39de084eb482",
   "metadata": {},
   "source": [
    "# Borrar train folder"
   ]
  },
  {
   "cell_type": "code",
   "execution_count": 38,
   "id": "1367b9fe-3503-41f2-81d9-97262218beea",
   "metadata": {},
   "outputs": [],
   "source": [
    "path = '/home/mr1142/Documents/Data/logs/fit'"
   ]
  },
  {
   "cell_type": "code",
   "execution_count": 39,
   "id": "7c4db96a-17ec-434f-b427-350080296d59",
   "metadata": {},
   "outputs": [],
   "source": [
    "for di in os.listdir(path):\n",
    "    shutil.rmtree(os.path.join(path, di, 'train'), ignore_errors=True)"
   ]
  },
  {
   "cell_type": "markdown",
   "id": "fdc06e8e-d57a-4db9-82ed-fcefefe645f0",
   "metadata": {},
   "source": [
    "# Borrar modelos malos"
   ]
  },
  {
   "cell_type": "code",
   "execution_count": 42,
   "id": "221bb686-69e1-429f-84a4-bcdba63cdbe4",
   "metadata": {},
   "outputs": [],
   "source": [
    "path = '/home/mr1142/Documents/Data/models/validation_results/validation_results' + '' + '.csv'\n",
    "df = pd.read_csv(path)"
   ]
  },
  {
   "cell_type": "code",
   "execution_count": null,
   "id": "236702c4-dec4-437b-955d-c0beb7f8f23b",
   "metadata": {},
   "outputs": [],
   "source": [
    "df.sort_values('dice_coef_loss')"
   ]
  },
  {
   "cell_type": "code",
   "execution_count": 21,
   "id": "5eaade89-d593-4805-8088-26234dbf505c",
   "metadata": {},
   "outputs": [],
   "source": [
    "malos_ = df[['type', 'name']][df.dice_coef_loss>0.04]"
   ]
  },
  {
   "cell_type": "code",
   "execution_count": 22,
   "id": "3cc3ef0d-592b-428a-a211-ddcea2355768",
   "metadata": {},
   "outputs": [
    {
     "data": {
      "text/html": [
       "<div>\n",
       "<style scoped>\n",
       "    .dataframe tbody tr th:only-of-type {\n",
       "        vertical-align: middle;\n",
       "    }\n",
       "\n",
       "    .dataframe tbody tr th {\n",
       "        vertical-align: top;\n",
       "    }\n",
       "\n",
       "    .dataframe thead th {\n",
       "        text-align: right;\n",
       "    }\n",
       "</style>\n",
       "<table border=\"1\" class=\"dataframe\">\n",
       "  <thead>\n",
       "    <tr style=\"text-align: right;\">\n",
       "      <th></th>\n",
       "      <th>type</th>\n",
       "      <th>name</th>\n",
       "    </tr>\n",
       "  </thead>\n",
       "  <tbody>\n",
       "    <tr>\n",
       "      <th>30</th>\n",
       "      <td>unet</td>\n",
       "      <td>patologic_albumentation_2_validation_1</td>\n",
       "    </tr>\n",
       "    <tr>\n",
       "      <th>33</th>\n",
       "      <td>unet</td>\n",
       "      <td>patologic_albumentation_2_validation_2</td>\n",
       "    </tr>\n",
       "  </tbody>\n",
       "</table>\n",
       "</div>"
      ],
      "text/plain": [
       "    type                                    name\n",
       "30  unet  patologic_albumentation_2_validation_1\n",
       "33  unet  patologic_albumentation_2_validation_2"
      ]
     },
     "execution_count": 22,
     "metadata": {},
     "output_type": "execute_result"
    }
   ],
   "source": [
    "malos_"
   ]
  },
  {
   "cell_type": "code",
   "execution_count": 25,
   "id": "5e3f3f8d-4b64-4400-992f-ab10503f532f",
   "metadata": {},
   "outputs": [],
   "source": [
    "malos = [df['type'][i] + '_' + df['name'][i] for i in malos_.index]\n",
    "malos = [re.sub('__', '_', mal) for mal in malos]\n",
    "malos = [re.sub('.h5', '', mal) for mal in malos]\n",
    "malos = [re.sub('patologic_', '', mal) for mal in malos]"
   ]
  },
  {
   "cell_type": "code",
   "execution_count": 26,
   "id": "4ae407ed-cb25-4f73-8254-583146656a47",
   "metadata": {},
   "outputs": [
    {
     "data": {
      "text/plain": [
       "['unet_albumentation_2_validation_1', 'unet_albumentation_2_validation_2']"
      ]
     },
     "execution_count": 26,
     "metadata": {},
     "output_type": "execute_result"
    }
   ],
   "source": [
    "malos"
   ]
  },
  {
   "cell_type": "code",
   "execution_count": 27,
   "id": "df687284-5602-4349-9e66-143f578feab2",
   "metadata": {},
   "outputs": [],
   "source": [
    "def match(lista_resultados, lista_match):\n",
    "    return [f for f in lista_resultados if any([bool(re.search(match, f)) for match in lista_match])]"
   ]
  },
  {
   "cell_type": "code",
   "execution_count": 28,
   "id": "4b05e56c-fb89-489a-8e0b-ed6f2f11a0d6",
   "metadata": {},
   "outputs": [],
   "source": [
    "def eliminar(path, malos):\n",
    "    files = os.listdir(path)\n",
    "    files = match(files, malos)\n",
    "    if len(files) == len(malos):\n",
    "        for file in files:\n",
    "            try:\n",
    "                os.remove(os.path.join(path, file))\n",
    "                print(f'file {file} removed')\n",
    "            except:\n",
    "                shutil.rmtree(os.path.join(path,file), ignore_errors=True)\n",
    "                print(f'folder {file} removed')\n",
    "    else:\n",
    "        print('no tienen el mismo tamaño')\n",
    "        print(files)"
   ]
  },
  {
   "cell_type": "markdown",
   "id": "7b00c44b-2393-4784-a9f6-033bee38613c",
   "metadata": {},
   "source": [
    "### Logs"
   ]
  },
  {
   "cell_type": "code",
   "execution_count": 29,
   "id": "23ea8126-9e80-436c-9b72-560f9d9125d3",
   "metadata": {},
   "outputs": [],
   "source": [
    "path = '/home/mr1142/Documents/Data/logs/fit'"
   ]
  },
  {
   "cell_type": "code",
   "execution_count": 30,
   "id": "77fa9a06-1a24-4702-a26f-60d6661f858a",
   "metadata": {},
   "outputs": [
    {
     "name": "stdout",
     "output_type": "stream",
     "text": [
      "folder unet_albumentation_2_validation_1 removed\n",
      "folder unet_albumentation_2_validation_2 removed\n"
     ]
    }
   ],
   "source": [
    "eliminar(path, malos)"
   ]
  },
  {
   "cell_type": "markdown",
   "id": "1e85ee32-7706-4618-aa83-d3e1ec2c6e87",
   "metadata": {},
   "source": [
    "### Modelos"
   ]
  },
  {
   "cell_type": "code",
   "execution_count": 31,
   "id": "f500cde3-f170-44d6-a968-1c7a083df018",
   "metadata": {},
   "outputs": [],
   "source": [
    "path = '/home/mr1142/Documents/Data/models'"
   ]
  },
  {
   "cell_type": "code",
   "execution_count": 32,
   "id": "07424a7e-068b-4583-be6f-826c2a66d874",
   "metadata": {},
   "outputs": [
    {
     "name": "stdout",
     "output_type": "stream",
     "text": [
      "file unet_albumentation_2_validation_1.h5 removed\n",
      "file unet_albumentation_2_validation_2.h5 removed\n"
     ]
    }
   ],
   "source": [
    "eliminar(path, malos)"
   ]
  },
  {
   "cell_type": "markdown",
   "id": "711c4b5b-4958-4c36-9bc5-8dadb1b7cdb7",
   "metadata": {},
   "source": [
    "# Borrar datos"
   ]
  },
  {
   "cell_type": "code",
   "execution_count": 35,
   "id": "45f3bff7-1ed2-449e-8d7c-c9be1ca04a4d",
   "metadata": {},
   "outputs": [],
   "source": [
    "path = '/home/mr1142/Documents/Data/models/validation_results'\n",
    "csvs = os.listdir(path)\n",
    "\n",
    "for csv in csvs:\n",
    "    df = pd.read_csv(os.path.join(path, csv))\n",
    "    index = [i for i in df.index if any([bool(re.search(mal, df['name'][i])) for mal in malos_['name']])]\n",
    "    df = df.drop(index)\n",
    "    df.to_csv(os.path.join(path, csv), index = False)"
   ]
  },
  {
   "cell_type": "code",
   "execution_count": null,
   "id": "a69500e0-a506-4968-926a-9e9a4c89fe6b",
   "metadata": {},
   "outputs": [],
   "source": []
  },
  {
   "cell_type": "code",
   "execution_count": null,
   "id": "dd09b433-fcfd-43d5-b308-af41d5006b10",
   "metadata": {},
   "outputs": [],
   "source": []
  }
 ],
 "metadata": {
  "kernelspec": {
   "display_name": "Python 3",
   "language": "python",
   "name": "python3"
  },
  "language_info": {
   "codemirror_mode": {
    "name": "ipython",
    "version": 3
   },
   "file_extension": ".py",
   "mimetype": "text/x-python",
   "name": "python",
   "nbconvert_exporter": "python",
   "pygments_lexer": "ipython3",
   "version": "3.6.8"
  }
 },
 "nbformat": 4,
 "nbformat_minor": 5
}
