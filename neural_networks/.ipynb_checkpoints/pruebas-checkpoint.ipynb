{
 "cells": [
  {
   "cell_type": "code",
   "execution_count": null,
   "id": "592ed0c9-63e4-4981-8308-5bcd35fcd920",
   "metadata": {},
   "outputs": [],
   "source": [
    "import os\n",
    "import re\n",
    "import h5py as f\n",
    "import pickle\n",
    "import numpy as np\n",
    "import cv2"
   ]
  },
  {
   "cell_type": "code",
   "execution_count": null,
   "id": "8a78d4eb-f961-40fd-9fae-1bf855354ad5",
   "metadata": {},
   "outputs": [],
   "source": [
    "path = '/home/mr1142/Documents/Data/models/neumonia'"
   ]
  },
  {
   "cell_type": "code",
   "execution_count": null,
   "id": "5e52fc37-fa6b-44fe-aa49-e6ab0debf5ed",
   "metadata": {},
   "outputs": [],
   "source": [
    "onlyfiles = [f for f in os.listdir(path) if os.path.isfile(os.path.join(path, f))]"
   ]
  },
  {
   "cell_type": "code",
   "execution_count": null,
   "id": "351aff84-5f74-415f-98ae-7dea544c1062",
   "metadata": {},
   "outputs": [],
   "source": [
    "models = [file for file in onlyfiles if not bool(re.search('completo', file))]"
   ]
  },
  {
   "cell_type": "code",
   "execution_count": null,
   "id": "c5536904-36e8-45e3-9ff1-154606f0d164",
   "metadata": {},
   "outputs": [],
   "source": [
    "models[0]"
   ]
  },
  {
   "cell_type": "code",
   "execution_count": null,
   "id": "282cbcb2-99ea-403c-87d4-9d73a3dbd819",
   "metadata": {},
   "outputs": [],
   "source": [
    "model_name = models[0]"
   ]
  },
  {
   "cell_type": "code",
   "execution_count": 28,
   "id": "be150a43-97c8-4b6f-a7e9-f313b008e455",
   "metadata": {},
   "outputs": [],
   "source": [
    "os.environ['CUDA_VISIBLE_DEVICES'] = '3'"
   ]
  },
  {
   "cell_type": "code",
   "execution_count": 129,
   "id": "3e4191ba-a343-4974-b5ca-ee4bef9bab88",
   "metadata": {},
   "outputs": [],
   "source": [
    "if bool(re.search('mask', model_name)):\n",
    "    mask = True\n",
    "else:\n",
    "    mask = False\n",
    "\n",
    "model = os.path.join('/home/mr1142/Documents/Data/models/neumonia', model_name)\n",
    "model = keras.models.load_model(model)\n",
    "dataframes = f.File(\"/home/rs117/covid-19/data/cxr_consensus_dataset_nocompr.h5\", \"r\")\n",
    "for key in dataframes.keys():\n",
    "    globals()[key] = dataframes[key]\n",
    "with open(\"/home/mr1142/Documents/img_class/indices/val_subset\", \"rb\") as fp:\n",
    "    index = pickle.load(fp)\n",
    "index.sort()"
   ]
  },
  {
   "cell_type": "code",
   "execution_count": null,
   "id": "d5bf05ce-3828-47a8-bf1a-c6512421c04a",
   "metadata": {},
   "outputs": [],
   "source": [
    "from tensorflow import keras"
   ]
  },
  {
   "cell_type": "code",
   "execution_count": 56,
   "id": "5b35b1cb-811a-40e4-843b-7f920eeb3784",
   "metadata": {},
   "outputs": [],
   "source": [
    "def recolor_resize(img, pix=256):\n",
    "    try:\n",
    "        img = cv2.cvtColor(img, cv2.COLOR_BGR2GRAY)\n",
    "    except:\n",
    "        print('', end = '')\n",
    "    img = cv2.resize(img, (pix, pix))\n",
    "    img = np.expand_dims(img, axis=-1)\n",
    "    return img\n",
    "\n",
    "def des_normalize(img):\n",
    "    return cv2.normalize(img, None, alpha = 0, beta = 255,\n",
    "                         norm_type = cv2.NORM_MINMAX, dtype = cv2.CV_16UC1)\n",
    "\n",
    "def normalize(img):\n",
    "    return (img - np.mean(img))/ np.std(img)"
   ]
  },
  {
   "cell_type": "code",
   "execution_count": 57,
   "id": "10aa0a04-cc06-43c0-987a-50181ad13fca",
   "metadata": {},
   "outputs": [],
   "source": [
    "def get_prepared_img(img, pix, mask = True):\n",
    "    if mask:\n",
    "        img = des_normalize(msk.apply_mask(img, model))\n",
    "    img = recolor_resize(img, pix)\n",
    "    img = normalize(img)\n",
    "    return img"
   ]
  },
  {
   "cell_type": "code",
   "execution_count": 58,
   "id": "6f3bb6d1-ec80-453f-af05-52b4e0e26bc2",
   "metadata": {},
   "outputs": [],
   "source": [
    "def img_predict(model, img, mask = False, pix = 512):\n",
    "    img = get_prepared_img(img, pix, mask)\n",
    "    return model.predict(img[np.newaxis,:])\n",
    "\n",
    "def prediction_tensor(model, X, index, mask = False, pix = 512):\n",
    "    y_pred = np.zeros((len(index), 3))\n",
    "    for i in range(y_pred.shape[0]):\n",
    "        y_pred[i,...] = img_predict(model, X[index[i]], mask, pix)\n",
    "    return y_pred\n",
    "\n",
    "def extract_max(array):\n",
    "    for i in range(array.shape[0]):\n",
    "        max = np.argmax(array[i,:])\n",
    "        array[i,:] = 0\n",
    "        array[i,max] = 1\n",
    "    return array"
   ]
  },
  {
   "cell_type": "code",
   "execution_count": null,
   "id": "495f7263-b0fb-4983-8464-00f38e9fff59",
   "metadata": {},
   "outputs": [],
   "source": [
    "y_pred = prediction_tensor(model, X, index, mask)"
   ]
  },
  {
   "cell_type": "code",
   "execution_count": 66,
   "id": "e75feed1-891b-4216-8457-8090d4a3a0be",
   "metadata": {},
   "outputs": [],
   "source": [
    "from tensorflow.keras.utils import Sequence\n",
    "import numpy as np\n",
    "import math\n",
    "\n",
    "class DataGenerator(Sequence):\n",
    "\n",
    "    def __init__(self, x_set, y_set, batch_size, pix, index, mask):\n",
    "        self.x, self.y = x_set, y_set\n",
    "        self.batch_size = batch_size\n",
    "        self.pix = pix\n",
    "        self.index = index\n",
    "        self.mask = mask\n",
    "\n",
    "    def __len__(self):\n",
    "        # numero de batches\n",
    "        return math.ceil(len(self.index) / self.batch_size)\n",
    "\n",
    "    def __getitem__(self, idx):\n",
    "        # idx: numero de batch\n",
    "        # batch 0: idx = 0 -> [0*batch_size:1*batch_size]\n",
    "        # batch 1: idx = 1 -> [1*batch_size:2*batch_size]\n",
    "        # Lo que hago es recorrer el indice\n",
    "        index = self.index[idx * self.batch_size:(idx + 1) * self.batch_size]\n",
    "        index.sort()\n",
    "        temp_x = self.x[index]\n",
    "        batch_y = self.y[index]\n",
    "        batch_x = np.zeros((temp_x.shape[0], self.pix, self.pix, 1))\n",
    "        for i in range(temp_x.shape[0]):\n",
    "            try:\n",
    "                batch_x[i] = get_prepared_img(temp_x[i], self.pix, self.mask)\n",
    "            except:\n",
    "                img = np.random.randint(0,255,self.pix*self.pix).reshape((self.pix, self.pix, 1))\n",
    "                batch_x[i] = normalize(img)\n",
    "                print('e')\n",
    "        return np.array(batch_x), np.array(batch_y)"
   ]
  },
  {
   "cell_type": "code",
   "execution_count": 122,
   "id": "8cd8f699-1fb9-49e8-b289-30e90ebc8f3a",
   "metadata": {},
   "outputs": [],
   "source": [
    "from tensorflow.keras.wrappers.scikit_learn import KerasClassifier\n",
    "from sklearn.base import BaseEstimator\n",
    "\n",
    "class KerasBatchClassifier(KerasClassifier, BaseEstimator):\n",
    "    def __init__(self, model, classes_, **kwargs):\n",
    "        super().__init__(model)\n",
    "        self.fit_kwargs = kwargs\n",
    "        self._estimator_type = 'classifier'\n",
    "        self.model = model\n",
    "        self.classes_ = classes_\n",
    "\n",
    "    def fit(self, *args, **kwargs):\n",
    "        # taken from keras.wrappers.scikit_learn.KerasClassifier.fit\n",
    "        self.model = self.build_fn(**self.filter_sk_params(self.build_fn))\n",
    "        self.classes_ = np.array(range(len(self.fit_kwargs['train_generator'].class_indices)))\n",
    "        self.__history = self.model.fit_generator(\n",
    "            self.fit_kwargs.pop('train_generator'), \n",
    "            **self.fit_kwargs\n",
    "        )"
   ]
  },
  {
   "cell_type": "code",
   "execution_count": 135,
   "id": "e125038c-b03a-4af2-9e17-5765cb54ba0d",
   "metadata": {},
   "outputs": [
    {
     "data": {
      "text/plain": [
       "{'_self_setattr_tracking': True,\n",
       " '_is_model_for_instrumentation': True,\n",
       " '_instrumented_keras_api': True,\n",
       " '_instrumented_keras_layer_class': False,\n",
       " '_instrumented_keras_model_class': True,\n",
       " '_trainable': True,\n",
       " '_stateful': False,\n",
       " 'built': True,\n",
       " '_build_input_shape': TensorShape([None, 512, 512, 1]),\n",
       " '_saved_model_inputs_spec': TensorSpec(shape=(None, 512, 512, 1), dtype=tf.float32, name='conv_inicial_input'),\n",
       " '_input_spec': None,\n",
       " '_supports_masking': True,\n",
       " '_name': 'sequential',\n",
       " '_activity_regularizer': None,\n",
       " '_trainable_weights': [],\n",
       " '_non_trainable_weights': [],\n",
       " '_updates': [],\n",
       " '_thread_local': <_thread._local at 0x7f732274bf10>,\n",
       " '_callable_losses': [],\n",
       " '_losses': [],\n",
       " '_metrics': [],\n",
       " '_metrics_lock': <unlocked _thread.lock object at 0x7f732260b850>,\n",
       " '_dtype_policy': <Policy \"float32\">,\n",
       " '_compute_dtype_object': tf.float32,\n",
       " '_autocast': False,\n",
       " '_layers': [<tensorflow.python.keras.engine.input_layer.InputLayer at 0x7f7321ad8748>,\n",
       "  <tensorflow.python.keras.layers.convolutional.Conv2D at 0x7f7321ad8a58>,\n",
       "  <tensorflow.python.keras.engine.functional.Functional at 0x7f73392887f0>,\n",
       "  <tensorflow.python.keras.layers.pooling.GlobalMaxPooling2D at 0x7f73215022b0>,\n",
       "  <tensorflow.python.keras.layers.core.Dropout at 0x7f6ee81e17f0>,\n",
       "  <tensorflow.python.keras.layers.core.Dense at 0x7f6ee81daf28>,\n",
       "  <tensorflow.python.keras.layers.core.Dense at 0x7f6ee81da358>,\n",
       "  <tensorflow.python.keras.layers.core.Dropout at 0x7f6ee81d59e8>,\n",
       "  <tensorflow.python.keras.layers.core.Dense at 0x7f6ee81e1f98>,\n",
       "  <tensorflow.python.keras.layers.core.Dense at 0x7f6ee824c5f8>],\n",
       " '_inbound_nodes_value': [],\n",
       " '_outbound_nodes_value': [],\n",
       " '_expects_training_arg': True,\n",
       " '_default_training_arg': None,\n",
       " '_expects_mask_arg': True,\n",
       " '_dynamic': False,\n",
       " '_initial_weights': None,\n",
       " '_auto_track_sub_layers': False,\n",
       " '_preserve_input_structure_in_config': False,\n",
       " '_is_graph_network': True,\n",
       " 'inputs': [<KerasTensor: shape=(None, 512, 512, 1) dtype=float32 (created by layer 'conv_inicial_input')>],\n",
       " 'outputs': [<KerasTensor: shape=(None, 3) dtype=float32 (created by layer 'fc_out')>],\n",
       " 'input_names': ['conv_inicial_input'],\n",
       " 'output_names': ['fc_out'],\n",
       " 'stop_training': False,\n",
       " 'history': None,\n",
       " '_compute_output_and_mask_jointly': True,\n",
       " '_distribution_strategy': None,\n",
       " 'train_function': None,\n",
       " 'test_function': None,\n",
       " 'predict_function': None,\n",
       " '_compiled_trainable_state': <WeakKeyDictionary at 0x7f6ee82287b8>,\n",
       " '_training_state': None,\n",
       " '_trackable_saver': <tensorflow.python.training.tracking.util.TrackableSaver at 0x7f7321ad85c0>,\n",
       " '_steps_per_execution': <tf.Variable 'Variable:0' shape=() dtype=int64, numpy=1>,\n",
       " '_train_counter': <tf.Variable 'Variable:0' shape=() dtype=int64, numpy=0>,\n",
       " '_test_counter': <tf.Variable 'Variable:0' shape=() dtype=int64, numpy=0>,\n",
       " '_predict_counter': <tf.Variable 'Variable:0' shape=() dtype=int64, numpy=0>,\n",
       " '_base_model_initialized': True,\n",
       " '_inferred_input_shape': None,\n",
       " '_has_explicit_input_shape': True,\n",
       " '_input_dtype': None,\n",
       " '_layer_call_argspecs': {<tensorflow.python.keras.engine.input_layer.InputLayer at 0x7f7321ad8748>: FullArgSpec(args=['self', 'inputs'], varargs=None, varkw='kwargs', defaults=None, kwonlyargs=[], kwonlydefaults=None, annotations={}),\n",
       "  <tensorflow.python.keras.layers.convolutional.Conv2D at 0x7f7321ad8a58>: FullArgSpec(args=['self', 'inputs'], varargs=None, varkw=None, defaults=None, kwonlyargs=[], kwonlydefaults=None, annotations={}),\n",
       "  <tensorflow.python.keras.engine.functional.Functional at 0x7f73392887f0>: FullArgSpec(args=['self', 'inputs', 'training', 'mask'], varargs=None, varkw=None, defaults=(None, None), kwonlyargs=[], kwonlydefaults=None, annotations={}),\n",
       "  <tensorflow.python.keras.layers.pooling.GlobalMaxPooling2D at 0x7f73215022b0>: FullArgSpec(args=['self', 'inputs'], varargs=None, varkw=None, defaults=None, kwonlyargs=[], kwonlydefaults=None, annotations={}),\n",
       "  <tensorflow.python.keras.layers.core.Dropout at 0x7f6ee81e17f0>: FullArgSpec(args=['self', 'inputs', 'training'], varargs=None, varkw=None, defaults=(None,), kwonlyargs=[], kwonlydefaults=None, annotations={}),\n",
       "  <tensorflow.python.keras.layers.core.Dense at 0x7f6ee81daf28>: FullArgSpec(args=['self', 'inputs'], varargs=None, varkw=None, defaults=None, kwonlyargs=[], kwonlydefaults=None, annotations={}),\n",
       "  <tensorflow.python.keras.layers.core.Dense at 0x7f6ee81da358>: FullArgSpec(args=['self', 'inputs'], varargs=None, varkw=None, defaults=None, kwonlyargs=[], kwonlydefaults=None, annotations={}),\n",
       "  <tensorflow.python.keras.layers.core.Dropout at 0x7f6ee81d59e8>: FullArgSpec(args=['self', 'inputs', 'training'], varargs=None, varkw=None, defaults=(None,), kwonlyargs=[], kwonlydefaults=None, annotations={}),\n",
       "  <tensorflow.python.keras.layers.core.Dense at 0x7f6ee81e1f98>: FullArgSpec(args=['self', 'inputs'], varargs=None, varkw=None, defaults=None, kwonlyargs=[], kwonlydefaults=None, annotations={}),\n",
       "  <tensorflow.python.keras.layers.core.Dense at 0x7f6ee824c5f8>: FullArgSpec(args=['self', 'inputs'], varargs=None, varkw=None, defaults=None, kwonlyargs=[], kwonlydefaults=None, annotations={})},\n",
       " '_created_nodes': set(),\n",
       " '_graph_initialized': True,\n",
       " '_use_legacy_deferred_behavior': False,\n",
       " '_nested_inputs': <KerasTensor: shape=(None, 512, 512, 1) dtype=float32 (created by layer 'conv_inicial_input')>,\n",
       " '_nested_outputs': <KerasTensor: shape=(None, 3) dtype=float32 (created by layer 'fc_out')>,\n",
       " '_enable_dict_to_input_mapping': True,\n",
       " '_input_layers': [<tensorflow.python.keras.engine.input_layer.InputLayer at 0x7f7321ad8748>],\n",
       " '_output_layers': [<tensorflow.python.keras.layers.core.Dense at 0x7f6ee824c5f8>],\n",
       " '_input_coordinates': [(<tensorflow.python.keras.engine.input_layer.InputLayer at 0x7f7321ad8748>,\n",
       "   0,\n",
       "   0)],\n",
       " '_output_coordinates': [(<tensorflow.python.keras.layers.core.Dense at 0x7f6ee824c5f8>,\n",
       "   0,\n",
       "   0)],\n",
       " '_output_mask_cache': {},\n",
       " '_output_tensor_cache': {},\n",
       " '_output_shape_cache': {},\n",
       " '_network_nodes': {'conv_inicial_ib-0',\n",
       "  'conv_inicial_input_ib-0',\n",
       "  'dense_1_ib-0',\n",
       "  'dense_2_ib-0',\n",
       "  'dense_ib-0',\n",
       "  'dropout_out_1_ib-0',\n",
       "  'dropout_out_2_ib-0',\n",
       "  'efficientnetb3_ib-0',\n",
       "  'fc_out_ib-0',\n",
       "  'general_max_pooling_ib-0'},\n",
       " '_nodes_by_depth': defaultdict(list,\n",
       "             {0: [<tensorflow.python.keras.engine.node.Node at 0x7f6ee8245240>],\n",
       "              1: [<tensorflow.python.keras.engine.node.Node at 0x7f6ee824cfd0>],\n",
       "              2: [<tensorflow.python.keras.engine.node.Node at 0x7f6ee81e15c0>],\n",
       "              3: [<tensorflow.python.keras.engine.node.Node at 0x7f6ee81d5048>],\n",
       "              4: [<tensorflow.python.keras.engine.node.Node at 0x7f6ee81daa90>],\n",
       "              5: [<tensorflow.python.keras.engine.node.Node at 0x7f6ee81da2b0>],\n",
       "              6: [<tensorflow.python.keras.engine.node.Node at 0x7f6ee81e19e8>],\n",
       "              7: [<tensorflow.python.keras.engine.node.Node at 0x7f73216002e8>],\n",
       "              8: [<tensorflow.python.keras.engine.node.Node at 0x7f7321ade240>],\n",
       "              9: [<tensorflow.python.keras.engine.node.Node at 0x7f7321ad88d0>]}),\n",
       " '_feed_input_names': ['conv_inicial_input'],\n",
       " '_feed_inputs': [<KerasTensor: shape=(None, 512, 512, 1) dtype=float32 (created by layer 'conv_inicial_input')>],\n",
       " '_feed_input_shapes': [(None, 512, 512, 1)],\n",
       " '_tensor_usage_count': Counter({'140132462987640': 1,\n",
       "          '140132463010760': 1,\n",
       "          '140132457906696': 1,\n",
       "          '140114317418336': 1,\n",
       "          '140114317389328': 1,\n",
       "          '140114317386360': 1,\n",
       "          '140114317368568': 1,\n",
       "          '140114317416824': 1,\n",
       "          '140114317855656': 1,\n",
       "          '140114317826760': 1}),\n",
       " '_obj_reference_counts_dict': ObjectIdentityDictionary({<_ObjectIdentityWrapper wrapping <tensorflow.python.keras.optimizer_v2.adam.Adam object at 0x7f6ee822da90>>: 1, <_ObjectIdentityWrapper wrapping <tensorflow.python.keras.engine.compile_utils.LossesContainer object at 0x7f6ee8228c88>>: 1, <_ObjectIdentityWrapper wrapping <tensorflow.python.keras.engine.compile_utils.MetricsContainer object at 0x7f6ee8228a58>>: 1, <_ObjectIdentityWrapper wrapping True>: 1, <_ObjectIdentityWrapper wrapping <function categorical_crossentropy at 0x7f727c240158>>: 1}),\n",
       " '_run_eagerly': None,\n",
       " '_self_unconditional_checkpoint_dependencies': [TrackableReference(name='optimizer', ref=<tensorflow.python.keras.optimizer_v2.adam.Adam object at 0x7f6ee822da90>)],\n",
       " '_self_unconditional_dependency_names': {'optimizer': <tensorflow.python.keras.optimizer_v2.adam.Adam at 0x7f6ee822da90>},\n",
       " '_self_unconditional_deferred_dependencies': {},\n",
       " '_self_update_uid': -1,\n",
       " '_self_name_based_restores': set(),\n",
       " '_self_saveable_object_factories': {},\n",
       " 'optimizer': <tensorflow.python.keras.optimizer_v2.adam.Adam at 0x7f6ee822da90>,\n",
       " 'compiled_loss': <tensorflow.python.keras.engine.compile_utils.LossesContainer at 0x7f6ee8228c88>,\n",
       " 'compiled_metrics': <tensorflow.python.keras.engine.compile_utils.MetricsContainer at 0x7f6ee8228a58>,\n",
       " '_is_compiled': True,\n",
       " 'loss': <function tensorflow.python.keras.losses.categorical_crossentropy(y_true, y_pred, from_logits=False, label_smoothing=0)>}"
      ]
     },
     "execution_count": 135,
     "metadata": {},
     "output_type": "execute_result"
    }
   ],
   "source": [
    "model.__dict__"
   ]
  },
  {
   "cell_type": "code",
   "execution_count": 124,
   "id": "7bb71f98-88a8-42e9-b95a-be84895b2e84",
   "metadata": {},
   "outputs": [],
   "source": [
    "clf = KerasBatchClassifier(model, ['0','1','2'])"
   ]
  },
  {
   "cell_type": "code",
   "execution_count": 126,
   "id": "b7f9cb23-f3b3-4b63-a660-7c4d02035acd",
   "metadata": {},
   "outputs": [],
   "source": [
    "visualizer = ClassPredictionError(\n",
    "    clf, ax=ax, classes=['0','1','2'])"
   ]
  },
  {
   "cell_type": "code",
   "execution_count": 130,
   "id": "90632c8e-34a2-4d84-b85c-a8231d344bb6",
   "metadata": {},
   "outputs": [],
   "source": [
    "np.random.shuffle(index)\n",
    "index = index[0:20]"
   ]
  },
  {
   "cell_type": "code",
   "execution_count": null,
   "id": "ea73b917-4fda-46cc-bea6-1a59aec6d2f7",
   "metadata": {},
   "outputs": [],
   "source": [
    "index.sort()"
   ]
  },
  {
   "cell_type": "code",
   "execution_count": 120,
   "id": "2b24940a-9794-4c73-9ac8-f3bf68b819ea",
   "metadata": {},
   "outputs": [],
   "source": [
    "traingen = DataGenerator(X_train, y_train, 10, 512, index, mask=False)"
   ]
  },
  {
   "cell_type": "code",
   "execution_count": 121,
   "id": "d573d786-cc43-470b-b4d1-a3ea07f9fcda",
   "metadata": {},
   "outputs": [
    {
     "ename": "TypeError",
     "evalue": "only integer scalar arrays can be converted to a scalar index",
     "output_type": "error",
     "traceback": [
      "\u001b[0;31m---------------------------------------------------------------------------\u001b[0m",
      "\u001b[0;31mTypeError\u001b[0m                                 Traceback (most recent call last)",
      "\u001b[0;32m<ipython-input-134-37146e2e95e8>\u001b[0m in \u001b[0;36m<module>\u001b[0;34m\u001b[0m\n\u001b[0;32m----> 1\u001b[0;31m \u001b[0mvisualizer\u001b[0m\u001b[0;34m.\u001b[0m\u001b[0mscore\u001b[0m\u001b[0;34m(\u001b[0m\u001b[0mtraingen\u001b[0m\u001b[0;34m[\u001b[0m\u001b[0;36m0\u001b[0m\u001b[0;34m]\u001b[0m\u001b[0;34m[\u001b[0m\u001b[0;36m0\u001b[0m\u001b[0;34m]\u001b[0m\u001b[0;34m,\u001b[0m \u001b[0my_train\u001b[0m\u001b[0;34m[\u001b[0m\u001b[0;36m0\u001b[0m\u001b[0;34m]\u001b[0m\u001b[0;34m[\u001b[0m\u001b[0;36m1\u001b[0m\u001b[0;34m]\u001b[0m\u001b[0;34m)\u001b[0m\u001b[0;34m\u001b[0m\u001b[0;34m\u001b[0m\u001b[0m\n\u001b[0m",
      "\u001b[0;32m~/miniconda3/envs/init/lib/python3.6/site-packages/yellowbrick/classifier/class_prediction_error.py\u001b[0m in \u001b[0;36mscore\u001b[0;34m(self, X, y)\u001b[0m\n\u001b[1;32m    145\u001b[0m         \u001b[0;31m# Must be computed before calling super\u001b[0m\u001b[0;34m\u001b[0m\u001b[0;34m\u001b[0m\u001b[0;34m\u001b[0m\u001b[0m\n\u001b[1;32m    146\u001b[0m         \u001b[0;31m# We're relying on predict to raise NotFitted\u001b[0m\u001b[0;34m\u001b[0m\u001b[0;34m\u001b[0m\u001b[0;34m\u001b[0m\u001b[0m\n\u001b[0;32m--> 147\u001b[0;31m         \u001b[0my_pred\u001b[0m \u001b[0;34m=\u001b[0m \u001b[0mself\u001b[0m\u001b[0;34m.\u001b[0m\u001b[0mpredict\u001b[0m\u001b[0;34m(\u001b[0m\u001b[0mX\u001b[0m\u001b[0;34m)\u001b[0m\u001b[0;34m\u001b[0m\u001b[0;34m\u001b[0m\u001b[0m\n\u001b[0m\u001b[1;32m    148\u001b[0m         \u001b[0my_type\u001b[0m\u001b[0;34m,\u001b[0m \u001b[0my_true\u001b[0m\u001b[0;34m,\u001b[0m \u001b[0my_pred\u001b[0m \u001b[0;34m=\u001b[0m \u001b[0m_check_targets\u001b[0m\u001b[0;34m(\u001b[0m\u001b[0my\u001b[0m\u001b[0;34m,\u001b[0m \u001b[0my_pred\u001b[0m\u001b[0;34m)\u001b[0m\u001b[0;34m\u001b[0m\u001b[0;34m\u001b[0m\u001b[0m\n\u001b[1;32m    149\u001b[0m         \u001b[0;32mif\u001b[0m \u001b[0my_type\u001b[0m \u001b[0;32mnot\u001b[0m \u001b[0;32min\u001b[0m \u001b[0;34m(\u001b[0m\u001b[0;34m\"binary\"\u001b[0m\u001b[0;34m,\u001b[0m \u001b[0;34m\"multiclass\"\u001b[0m\u001b[0;34m)\u001b[0m\u001b[0;34m:\u001b[0m\u001b[0;34m\u001b[0m\u001b[0;34m\u001b[0m\u001b[0m\n",
      "\u001b[0;32m~/miniconda3/envs/init/lib/python3.6/site-packages/tensorflow/python/keras/wrappers/scikit_learn.py\u001b[0m in \u001b[0;36mpredict\u001b[0;34m(self, x, **kwargs)\u001b[0m\n\u001b[1;32m    240\u001b[0m     \u001b[0mkwargs\u001b[0m \u001b[0;34m=\u001b[0m \u001b[0mself\u001b[0m\u001b[0;34m.\u001b[0m\u001b[0mfilter_sk_params\u001b[0m\u001b[0;34m(\u001b[0m\u001b[0mSequential\u001b[0m\u001b[0;34m.\u001b[0m\u001b[0mpredict_classes\u001b[0m\u001b[0;34m,\u001b[0m \u001b[0mkwargs\u001b[0m\u001b[0;34m)\u001b[0m\u001b[0;34m\u001b[0m\u001b[0;34m\u001b[0m\u001b[0m\n\u001b[1;32m    241\u001b[0m     \u001b[0mclasses\u001b[0m \u001b[0;34m=\u001b[0m \u001b[0mself\u001b[0m\u001b[0;34m.\u001b[0m\u001b[0mmodel\u001b[0m\u001b[0;34m.\u001b[0m\u001b[0mpredict_classes\u001b[0m\u001b[0;34m(\u001b[0m\u001b[0mx\u001b[0m\u001b[0;34m,\u001b[0m \u001b[0;34m**\u001b[0m\u001b[0mkwargs\u001b[0m\u001b[0;34m)\u001b[0m\u001b[0;34m\u001b[0m\u001b[0;34m\u001b[0m\u001b[0m\n\u001b[0;32m--> 242\u001b[0;31m     \u001b[0;32mreturn\u001b[0m \u001b[0mself\u001b[0m\u001b[0;34m.\u001b[0m\u001b[0mclasses_\u001b[0m\u001b[0;34m[\u001b[0m\u001b[0mclasses\u001b[0m\u001b[0;34m]\u001b[0m\u001b[0;34m\u001b[0m\u001b[0;34m\u001b[0m\u001b[0m\n\u001b[0m\u001b[1;32m    243\u001b[0m \u001b[0;34m\u001b[0m\u001b[0m\n\u001b[1;32m    244\u001b[0m   \u001b[0;32mdef\u001b[0m \u001b[0mpredict_proba\u001b[0m\u001b[0;34m(\u001b[0m\u001b[0mself\u001b[0m\u001b[0;34m,\u001b[0m \u001b[0mx\u001b[0m\u001b[0;34m,\u001b[0m \u001b[0;34m**\u001b[0m\u001b[0mkwargs\u001b[0m\u001b[0;34m)\u001b[0m\u001b[0;34m:\u001b[0m\u001b[0;34m\u001b[0m\u001b[0;34m\u001b[0m\u001b[0m\n",
      "\u001b[0;31mTypeError\u001b[0m: only integer scalar arrays can be converted to a scalar index"
     ]
    }
   ],
   "source": [
    "visualizer.score(traingen[0][0], y_train[0][1])"
   ]
  },
  {
   "cell_type": "code",
   "execution_count": null,
   "id": "cbbb621f-12e5-4774-9a6e-54a96dd53589",
   "metadata": {},
   "outputs": [],
   "source": []
  }
 ],
 "metadata": {
  "kernelspec": {
   "display_name": "Python 3",
   "language": "python",
   "name": "python3"
  },
  "language_info": {
   "codemirror_mode": {
    "name": "ipython",
    "version": 3
   },
   "file_extension": ".py",
   "mimetype": "text/x-python",
   "name": "python",
   "nbconvert_exporter": "python",
   "pygments_lexer": "ipython3",
   "version": "3.6.8"
  }
 },
 "nbformat": 4,
 "nbformat_minor": 5
}
