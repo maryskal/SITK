{
 "cells": [
  {
   "cell_type": "markdown",
   "id": "701df0f6-1456-42c0-9ee9-64feeaca2eab",
   "metadata": {},
   "source": [
    "# Shapley values"
   ]
  },
  {
   "cell_type": "markdown",
   "id": "cca285e5-7bb9-4922-adc5-061ee02bf0fa",
   "metadata": {},
   "source": [
    "Está basado en la teoria de juegos. Tenemos a varios jugadores jugando en equipo, queremos saber cuanto influye cada uno de los jugadores en el resultado del juego. \n",
    "Para ver la contribución de cada jugador en el resultado se calcula:\n",
    "\n",
    "- Todas las combinaciones posibles de jugadores que incluyan a ese jugador. \n",
    "    - Para cada combinación (x') se calcula:\n",
    "        - El resultado obtenido en el juego con esa combinación ($Y_{con}$)\n",
    "        - El resultado obtenido en el juego con esa combinación, al excluir al jugador a estudiar ($Y_{sin}$)\n",
    "        - Valor marginal = $Y_{con} - Y_{sin}$\n",
    "\n",
    "El shap value de ese jugador es la media de todos los valores marginales calculados.\n",
    "\n",
    "Se calculan todas las posibles combinaciones porque el jugador A puede jugar mejor si está con B, por lo tango hay que hacer una media de su aportación para saber lo que aporta independientemente de con quien esté jugando"
   ]
  },
  {
   "cell_type": "markdown",
   "id": "78439fb8-3c2f-4f68-9d3c-e213bf856845",
   "metadata": {},
   "source": [
    "En este ejemplo los jugadores serían variables, el juego sería el modelo y el resultado sería el output del modelo."
   ]
  },
  {
   "cell_type": "markdown",
   "id": "d4c172c1-9701-46b1-bb1b-984a78bf02d6",
   "metadata": {},
   "source": [
    "### e.g. Shapley de A"
   ]
  },
  {
   "cell_type": "markdown",
   "id": "36585fd2-b2b3-4a1f-ada8-508a59f23f93",
   "metadata": {},
   "source": [
    "\n",
    "Combinaciones posibles con sus resultados\n",
    "\n",
    "- A,B,C -> $Y_{ABC}$\n",
    "- A,B -> $Y_{AB}$\n",
    "- A,C -> $Y_{AC}$\n",
    "- A -> $Y_{A}$\n",
    "\n",
    "Valores marginales\n",
    "\n",
    "- $marginal_{ABC} = Y_{ABC} - Y_{BC}$\n",
    "- $marginal_{AB} = Y_{AB} - Y_{B}$\n",
    "- $marginal_{AC} = Y_{AC} - Y_{C}$\n",
    "- $marginal_{A} = Y_{A} - Y$\n",
    "\n",
    "$$\\phi_A(modelo, row) = \\frac {marginal_{ABC}+marginal_{AB}+marginal_{AC}+marginal_{A}}4$$\n",
    "\n",
    "<div style=\"text-align: center\"> El shapley value para A, para ese modelo, para esa row (muestra) será la media de los valores marginales</div>\n",
    "\n",
    "<div style=\"text-align: center\">  Realmente no es una media exacta es ponderada, la formula se ve a continuación </div>"
   ]
  },
  {
   "cell_type": "markdown",
   "id": "70fe5ebe-5188-41d6-9b6d-79d7b35394c8",
   "metadata": {},
   "source": [
    "## Formula"
   ]
  },
  {
   "cell_type": "markdown",
   "id": "3d111776-c5c7-42a2-9a49-f577aedfe53b",
   "metadata": {},
   "source": [
    "$$\\phi_{i}(f,x) = \\sum_{z' ⊆ x'} \\frac{\\lvert z'\\lvert !  (M- \\lvert z' \\lvert -1)!}{M!} [f_{x}(z') - f_{x}(z'/i)]$$"
   ]
  },
  {
   "cell_type": "markdown",
   "id": "00a1c8d4-0256-497b-b07d-f66e5e98c068",
   "metadata": {},
   "source": [
    "- $\\phi_{i}$: shapley value of i para el modelo f en la muestra x\n",
    "- f: model\n",
    "- x: data input (row), (e.g. Age = 56, Gender = F, BMI = 30, HR = 80)\n",
    "- z': subset\n",
    "- x': simplified data input (row), (e.g. Age = 56, Gender = NA, BMI = NA, HR = 80)\n",
    "- M: n features incluidas\n",
    "- $f_{x}(z')$: resultados con todo z'\n",
    "- $f_{x}(z'/i)$: resultados con todo z' menos la feature a estudiar\n",
    "- Contribución de la variable (valor marginal): $[f_{x}(z') - f_{x}(z'/i)]$\n",
    "- Peso de la contribución: $\\frac{\\lvert z'\\lvert !  (M- \\lvert z' \\lvert -1)!}{M!}$"
   ]
  },
  {
   "cell_type": "markdown",
   "id": "36dce9ac-1421-4893-97f6-20085b989772",
   "metadata": {},
   "source": [
    "Para calcular el shapley value de i se calculan todos los x' posibles (subset of a set = $2^n$), se calcula el *valor marginal* para cada x' y se ponderan todos los valores marginales segun *peso de la contribución*"
   ]
  },
  {
   "cell_type": "markdown",
   "id": "557f445e-fa1c-4c2c-9925-3768b58fcab7",
   "metadata": {},
   "source": [
    "Si  $f_{x}(Age = 56, HR = 80) = 0.7$  y $f_{x}(HR = 80) = 0.1$, entonces Age contribuye un 0.6"
   ]
  },
  {
   "cell_type": "markdown",
   "id": "f612661b-ac23-4868-8996-0de7df9f05ed",
   "metadata": {},
   "source": [
    " # SHAP kernel"
   ]
  },
  {
   "cell_type": "code",
   "execution_count": 48,
   "id": "5866700f-e120-47ba-bfb4-83bde6a09cb8",
   "metadata": {},
   "outputs": [],
   "source": [
    "import pandas as pd\n",
    "from sklearn.linear_model import LinearRegression, LogisticRegression"
   ]
  },
  {
   "cell_type": "markdown",
   "id": "1ee1615e-cc79-4563-8239-08a6db476f6a",
   "metadata": {},
   "source": [
    "## Modelo de regresión logística"
   ]
  },
  {
   "cell_type": "markdown",
   "id": "f4878140-0459-4271-946f-1afba0b26c9a",
   "metadata": {},
   "source": [
    "Vamos a construir un modelo que predice el riesgo de ictus en funcion de cuatro variables"
   ]
  },
  {
   "cell_type": "code",
   "execution_count": 95,
   "id": "13b0e9f6-2660-4379-aec9-5d613d4a24db",
   "metadata": {},
   "outputs": [
    {
     "data": {
      "text/html": [
       "<div>\n",
       "<style scoped>\n",
       "    .dataframe tbody tr th:only-of-type {\n",
       "        vertical-align: middle;\n",
       "    }\n",
       "\n",
       "    .dataframe tbody tr th {\n",
       "        vertical-align: top;\n",
       "    }\n",
       "\n",
       "    .dataframe thead th {\n",
       "        text-align: right;\n",
       "    }\n",
       "</style>\n",
       "<table border=\"1\" class=\"dataframe\">\n",
       "  <thead>\n",
       "    <tr style=\"text-align: right;\">\n",
       "      <th></th>\n",
       "      <th>Age</th>\n",
       "      <th>Gender_F</th>\n",
       "      <th>BMI</th>\n",
       "      <th>HR</th>\n",
       "      <th>Stroke</th>\n",
       "    </tr>\n",
       "  </thead>\n",
       "  <tbody>\n",
       "    <tr>\n",
       "      <th>0</th>\n",
       "      <td>56</td>\n",
       "      <td>1</td>\n",
       "      <td>30</td>\n",
       "      <td>80</td>\n",
       "      <td>1</td>\n",
       "    </tr>\n",
       "    <tr>\n",
       "      <th>1</th>\n",
       "      <td>72</td>\n",
       "      <td>0</td>\n",
       "      <td>40</td>\n",
       "      <td>150</td>\n",
       "      <td>1</td>\n",
       "    </tr>\n",
       "    <tr>\n",
       "      <th>2</th>\n",
       "      <td>56</td>\n",
       "      <td>0</td>\n",
       "      <td>25</td>\n",
       "      <td>100</td>\n",
       "      <td>1</td>\n",
       "    </tr>\n",
       "    <tr>\n",
       "      <th>3</th>\n",
       "      <td>40</td>\n",
       "      <td>1</td>\n",
       "      <td>20</td>\n",
       "      <td>70</td>\n",
       "      <td>0</td>\n",
       "    </tr>\n",
       "    <tr>\n",
       "      <th>4</th>\n",
       "      <td>25</td>\n",
       "      <td>1</td>\n",
       "      <td>26</td>\n",
       "      <td>60</td>\n",
       "      <td>0</td>\n",
       "    </tr>\n",
       "    <tr>\n",
       "      <th>5</th>\n",
       "      <td>60</td>\n",
       "      <td>0</td>\n",
       "      <td>20</td>\n",
       "      <td>75</td>\n",
       "      <td>0</td>\n",
       "    </tr>\n",
       "    <tr>\n",
       "      <th>6</th>\n",
       "      <td>38</td>\n",
       "      <td>1</td>\n",
       "      <td>27</td>\n",
       "      <td>82</td>\n",
       "      <td>0</td>\n",
       "    </tr>\n",
       "  </tbody>\n",
       "</table>\n",
       "</div>"
      ],
      "text/plain": [
       "   Age  Gender_F  BMI   HR  Stroke\n",
       "0   56         1   30   80       1\n",
       "1   72         0   40  150       1\n",
       "2   56         0   25  100       1\n",
       "3   40         1   20   70       0\n",
       "4   25         1   26   60       0\n",
       "5   60         0   20   75       0\n",
       "6   38         1   27   82       0"
      ]
     },
     "execution_count": 95,
     "metadata": {},
     "output_type": "execute_result"
    }
   ],
   "source": [
    "df = {'Age': [56, 72, 56, 40, 25, 60, 38], \n",
    "      'Gender_F': [1, 0, 0, 1, 1, 0, 1], \n",
    "      'BMI': [30, 40, 25, 20, 26, 20, 27], \n",
    "      'HR': [80, 150, 100, 70, 60, 75, 82],\n",
    "      'Stroke': [1, 1, 1, 0, 0, 0, 0]}\n",
    "df = pd.DataFrame(df)\n",
    "df"
   ]
  },
  {
   "cell_type": "code",
   "execution_count": 96,
   "id": "60ab049d-51c2-4681-97d8-470cdb7018e4",
   "metadata": {},
   "outputs": [],
   "source": [
    "model = LogisticRegression()\n",
    "model = reg.fit(df.iloc[:,0:4], df['Stroke'])"
   ]
  },
  {
   "cell_type": "code",
   "execution_count": 97,
   "id": "c6dc8109-e862-46cc-9d99-92cbb89973a4",
   "metadata": {},
   "outputs": [
    {
     "data": {
      "text/html": [
       "<div>\n",
       "<style scoped>\n",
       "    .dataframe tbody tr th:only-of-type {\n",
       "        vertical-align: middle;\n",
       "    }\n",
       "\n",
       "    .dataframe tbody tr th {\n",
       "        vertical-align: top;\n",
       "    }\n",
       "\n",
       "    .dataframe thead th {\n",
       "        text-align: right;\n",
       "    }\n",
       "</style>\n",
       "<table border=\"1\" class=\"dataframe\">\n",
       "  <thead>\n",
       "    <tr style=\"text-align: right;\">\n",
       "      <th></th>\n",
       "      <th>Age</th>\n",
       "      <th>Gender_F</th>\n",
       "      <th>BMI</th>\n",
       "      <th>HR</th>\n",
       "      <th>Stroke</th>\n",
       "      <th>prediction</th>\n",
       "    </tr>\n",
       "  </thead>\n",
       "  <tbody>\n",
       "    <tr>\n",
       "      <th>0</th>\n",
       "      <td>56</td>\n",
       "      <td>1</td>\n",
       "      <td>30</td>\n",
       "      <td>80</td>\n",
       "      <td>1</td>\n",
       "      <td>0.743507</td>\n",
       "    </tr>\n",
       "    <tr>\n",
       "      <th>1</th>\n",
       "      <td>72</td>\n",
       "      <td>0</td>\n",
       "      <td>40</td>\n",
       "      <td>150</td>\n",
       "      <td>1</td>\n",
       "      <td>1.191766</td>\n",
       "    </tr>\n",
       "    <tr>\n",
       "      <th>2</th>\n",
       "      <td>56</td>\n",
       "      <td>0</td>\n",
       "      <td>25</td>\n",
       "      <td>100</td>\n",
       "      <td>1</td>\n",
       "      <td>0.418419</td>\n",
       "    </tr>\n",
       "    <tr>\n",
       "      <th>3</th>\n",
       "      <td>40</td>\n",
       "      <td>1</td>\n",
       "      <td>20</td>\n",
       "      <td>70</td>\n",
       "      <td>0</td>\n",
       "      <td>0.021963</td>\n",
       "    </tr>\n",
       "    <tr>\n",
       "      <th>4</th>\n",
       "      <td>25</td>\n",
       "      <td>1</td>\n",
       "      <td>26</td>\n",
       "      <td>60</td>\n",
       "      <td>0</td>\n",
       "      <td>0.004198</td>\n",
       "    </tr>\n",
       "    <tr>\n",
       "      <th>5</th>\n",
       "      <td>60</td>\n",
       "      <td>0</td>\n",
       "      <td>20</td>\n",
       "      <td>75</td>\n",
       "      <td>0</td>\n",
       "      <td>0.389815</td>\n",
       "    </tr>\n",
       "    <tr>\n",
       "      <th>6</th>\n",
       "      <td>38</td>\n",
       "      <td>1</td>\n",
       "      <td>27</td>\n",
       "      <td>82</td>\n",
       "      <td>0</td>\n",
       "      <td>0.230331</td>\n",
       "    </tr>\n",
       "  </tbody>\n",
       "</table>\n",
       "</div>"
      ],
      "text/plain": [
       "   Age  Gender_F  BMI   HR  Stroke  prediction\n",
       "0   56         1   30   80       1    0.743507\n",
       "1   72         0   40  150       1    1.191766\n",
       "2   56         0   25  100       1    0.418419\n",
       "3   40         1   20   70       0    0.021963\n",
       "4   25         1   26   60       0    0.004198\n",
       "5   60         0   20   75       0    0.389815\n",
       "6   38         1   27   82       0    0.230331"
      ]
     },
     "execution_count": 97,
     "metadata": {},
     "output_type": "execute_result"
    }
   ],
   "source": [
    "df['prediction'] = model.predict(df.iloc[:,0:4])\n",
    "df"
   ]
  },
  {
   "cell_type": "markdown",
   "id": "51b7ee6c-751d-4efc-bb36-4ea25fd228af",
   "metadata": {},
   "source": [
    "**Una vez construido un modelo**, se quiere calcular el SHAP value de cada variable en cada fila."
   ]
  },
  {
   "cell_type": "markdown",
   "id": "cadf7aed-6237-4a17-9e21-1c98a5b7f1e2",
   "metadata": {},
   "source": [
    "## SHAP value muestra 1"
   ]
  },
  {
   "cell_type": "markdown",
   "id": "0032fd69-826d-4dcb-8731-30bdc64a117e",
   "metadata": {},
   "source": [
    "Cada muestra tiene un data input concreto, en este caso:\n",
    "    \n",
    "- $x_1$ = [Age = 56, Gender = F, BMI = 30, HR = 80] con un output Y = 0.74\n",
    "\n",
    "Para esta fila existen muchos x' (combinaciones posibles de variables). \n",
    "    \n",
    "- $x'_1$ = [Age = 56, Gender = NA, BMI = NA, HR = 80]\n",
    "- $x'_1$ = [Age = 56, Gender = F, BMI = NA, HR = 80]\n",
    "- $x'_1$ = [Age = NA, Gender = NA, BMI = 30, HR = 80]\n",
    "- $x'_1$ = [Age = 56, Gender = F, BMI = NA, HR = NA]\n",
    "\n",
    "Podriamos intentar hacer todas las combinaciones posibles de variables, pero esto supondría mucho coste computacional, habría que calcular $2^n*n$ combinaciones. Por eso lo que se hace es solo calcular algunas."
   ]
  },
  {
   "cell_type": "code",
   "execution_count": 83,
   "id": "6bc95b6c-89ea-4e30-aa51-c96a1c0967dc",
   "metadata": {},
   "outputs": [
    {
     "data": {
      "text/html": [
       "<div>\n",
       "<style scoped>\n",
       "    .dataframe tbody tr th:only-of-type {\n",
       "        vertical-align: middle;\n",
       "    }\n",
       "\n",
       "    .dataframe tbody tr th {\n",
       "        vertical-align: top;\n",
       "    }\n",
       "\n",
       "    .dataframe thead th {\n",
       "        text-align: right;\n",
       "    }\n",
       "</style>\n",
       "<table border=\"1\" class=\"dataframe\">\n",
       "  <thead>\n",
       "    <tr style=\"text-align: right;\">\n",
       "      <th></th>\n",
       "      <th>Age</th>\n",
       "      <th>Gender_F</th>\n",
       "      <th>BMI</th>\n",
       "      <th>HR</th>\n",
       "    </tr>\n",
       "  </thead>\n",
       "  <tbody>\n",
       "    <tr>\n",
       "      <th>0</th>\n",
       "      <td>56</td>\n",
       "      <td>0.0</td>\n",
       "      <td>30.0</td>\n",
       "      <td>80.0</td>\n",
       "    </tr>\n",
       "    <tr>\n",
       "      <th>1</th>\n",
       "      <td>56</td>\n",
       "      <td>NaN</td>\n",
       "      <td>NaN</td>\n",
       "      <td>80.0</td>\n",
       "    </tr>\n",
       "    <tr>\n",
       "      <th>2</th>\n",
       "      <td>56</td>\n",
       "      <td>0.0</td>\n",
       "      <td>NaN</td>\n",
       "      <td>80.0</td>\n",
       "    </tr>\n",
       "    <tr>\n",
       "      <th>3</th>\n",
       "      <td>25</td>\n",
       "      <td>NaN</td>\n",
       "      <td>NaN</td>\n",
       "      <td>80.0</td>\n",
       "    </tr>\n",
       "    <tr>\n",
       "      <th>4</th>\n",
       "      <td>56</td>\n",
       "      <td>0.0</td>\n",
       "      <td>30.0</td>\n",
       "      <td>NaN</td>\n",
       "    </tr>\n",
       "  </tbody>\n",
       "</table>\n",
       "</div>"
      ],
      "text/plain": [
       "   Age  Gender_F   BMI    HR\n",
       "0   56       0.0  30.0  80.0\n",
       "1   56       NaN   NaN  80.0\n",
       "2   56       0.0   NaN  80.0\n",
       "3   25       NaN   NaN  80.0\n",
       "4   56       0.0  30.0   NaN"
      ]
     },
     "execution_count": 83,
     "metadata": {},
     "output_type": "execute_result"
    }
   ],
   "source": [
    "df_x1 = {'Age': [56, 56, 56, 25, 56], \n",
    "         'Gender_F': [0, float('nan'), 0, float('nan'), 0], \n",
    "         'BMI': [30, float('nan'), float('nan'), float('nan'), 30], \n",
    "         'HR': [80, 80, 80, 80, float('nan')]}\n",
    "df_x1 = pd.DataFrame(df_x1)\n",
    "df_x1"
   ]
  },
  {
   "cell_type": "markdown",
   "id": "beb35a31-6562-4260-b10b-caeac2a16ad9",
   "metadata": {},
   "source": [
    "Para cada una de estas x' se puede calcular un output\n",
    "\n",
    "*Realmente en muchos modelos no se puede introducir NA y* ***lo que se hace es introducir un valor que se escoge aleatoriamente del train dataset***"
   ]
  },
  {
   "cell_type": "code",
   "execution_count": 79,
   "id": "aa4bb411-3803-4263-8f78-8553f6fa40cf",
   "metadata": {},
   "outputs": [
    {
     "data": {
      "text/html": [
       "<div>\n",
       "<style scoped>\n",
       "    .dataframe tbody tr th:only-of-type {\n",
       "        vertical-align: middle;\n",
       "    }\n",
       "\n",
       "    .dataframe tbody tr th {\n",
       "        vertical-align: top;\n",
       "    }\n",
       "\n",
       "    .dataframe thead th {\n",
       "        text-align: right;\n",
       "    }\n",
       "</style>\n",
       "<table border=\"1\" class=\"dataframe\">\n",
       "  <thead>\n",
       "    <tr style=\"text-align: right;\">\n",
       "      <th></th>\n",
       "      <th>Age</th>\n",
       "      <th>Gender_F</th>\n",
       "      <th>BMI</th>\n",
       "      <th>HR</th>\n",
       "      <th>prediction</th>\n",
       "    </tr>\n",
       "  </thead>\n",
       "  <tbody>\n",
       "    <tr>\n",
       "      <th>0</th>\n",
       "      <td>56</td>\n",
       "      <td>0</td>\n",
       "      <td>30</td>\n",
       "      <td>80</td>\n",
       "      <td>0.712594</td>\n",
       "    </tr>\n",
       "    <tr>\n",
       "      <th>1</th>\n",
       "      <td>56</td>\n",
       "      <td>1</td>\n",
       "      <td>25</td>\n",
       "      <td>80</td>\n",
       "      <td>0.530123</td>\n",
       "    </tr>\n",
       "    <tr>\n",
       "      <th>2</th>\n",
       "      <td>56</td>\n",
       "      <td>0</td>\n",
       "      <td>27</td>\n",
       "      <td>80</td>\n",
       "      <td>0.584563</td>\n",
       "    </tr>\n",
       "    <tr>\n",
       "      <th>3</th>\n",
       "      <td>25</td>\n",
       "      <td>0</td>\n",
       "      <td>40</td>\n",
       "      <td>80</td>\n",
       "      <td>0.489972</td>\n",
       "    </tr>\n",
       "    <tr>\n",
       "      <th>4</th>\n",
       "      <td>56</td>\n",
       "      <td>0</td>\n",
       "      <td>30</td>\n",
       "      <td>100</td>\n",
       "      <td>0.631804</td>\n",
       "    </tr>\n",
       "  </tbody>\n",
       "</table>\n",
       "</div>"
      ],
      "text/plain": [
       "   Age  Gender_F  BMI   HR  prediction\n",
       "0   56         0   30   80    0.712594\n",
       "1   56         1   25   80    0.530123\n",
       "2   56         0   27   80    0.584563\n",
       "3   25         0   40   80    0.489972\n",
       "4   56         0   30  100    0.631804"
      ]
     },
     "execution_count": 79,
     "metadata": {},
     "output_type": "execute_result"
    }
   ],
   "source": [
    "df_x1 = {'Age': [56, 56, 56, 25, 56], \n",
    "         'Gender_F': [0, 1, 0, 0, 0], \n",
    "         'BMI': [30, 25, 27, 40, 30], \n",
    "         'HR': [80, 80, 80, 80, 100]}\n",
    "df_x1 = pd.DataFrame(df_x1)\n",
    "df_x1['prediction'] = model.predict(df_x1.iloc[:,0:4])\n",
    "df_x1"
   ]
  },
  {
   "cell_type": "markdown",
   "id": "8309fc96-97d9-4bbf-837b-8830073a91b1",
   "metadata": {},
   "source": [
    "Una vez se ha calculado el output de cada combinación se construye un nuevo dataset con el que se calculará una regresión lineal, de la que se extraeran los SHAP values"
   ]
  },
  {
   "cell_type": "markdown",
   "id": "b9a5f889-92a9-42ce-9c97-536ee62ca6a0",
   "metadata": {},
   "source": [
    "$$ Y = x_{1} \\beta_{1} + x_{2} \\beta_{2} + x_{3} \\beta_{3} +...+x_{i} \\beta_{i}$$"
   ]
  },
  {
   "cell_type": "markdown",
   "id": "647f59ed-8dba-41be-862a-b54b602f76f0",
   "metadata": {},
   "source": [
    "- x: si la varaible está o no presente\n",
    "- $\\beta$: shapley value\n",
    "- Y: predicción del modelo"
   ]
  },
  {
   "cell_type": "code",
   "execution_count": 80,
   "id": "211621c9-6786-4536-bad9-baa61a6925c9",
   "metadata": {},
   "outputs": [],
   "source": [
    "df_shap = {'Age': [1,1,1,0,1], 'Gender': [1,0,1,0,1], 'BMI': [1,0,0,1,0], 'HR': [1,1,1,1,0], 'prediction': model.predict(df_x1.iloc[:,0:4])}\n",
    "df_shap = pd.DataFrame(df_shap)"
   ]
  },
  {
   "cell_type": "code",
   "execution_count": 81,
   "id": "0ad8458c-88b2-441f-9cab-162587bf1d89",
   "metadata": {},
   "outputs": [
    {
     "data": {
      "text/html": [
       "<div>\n",
       "<style scoped>\n",
       "    .dataframe tbody tr th:only-of-type {\n",
       "        vertical-align: middle;\n",
       "    }\n",
       "\n",
       "    .dataframe tbody tr th {\n",
       "        vertical-align: top;\n",
       "    }\n",
       "\n",
       "    .dataframe thead th {\n",
       "        text-align: right;\n",
       "    }\n",
       "</style>\n",
       "<table border=\"1\" class=\"dataframe\">\n",
       "  <thead>\n",
       "    <tr style=\"text-align: right;\">\n",
       "      <th></th>\n",
       "      <th>Age</th>\n",
       "      <th>Gender</th>\n",
       "      <th>BMI</th>\n",
       "      <th>HR</th>\n",
       "      <th>prediction</th>\n",
       "    </tr>\n",
       "  </thead>\n",
       "  <tbody>\n",
       "    <tr>\n",
       "      <th>0</th>\n",
       "      <td>1</td>\n",
       "      <td>1</td>\n",
       "      <td>1</td>\n",
       "      <td>1</td>\n",
       "      <td>0.712594</td>\n",
       "    </tr>\n",
       "    <tr>\n",
       "      <th>1</th>\n",
       "      <td>1</td>\n",
       "      <td>0</td>\n",
       "      <td>0</td>\n",
       "      <td>1</td>\n",
       "      <td>0.530123</td>\n",
       "    </tr>\n",
       "    <tr>\n",
       "      <th>2</th>\n",
       "      <td>1</td>\n",
       "      <td>1</td>\n",
       "      <td>0</td>\n",
       "      <td>1</td>\n",
       "      <td>0.584563</td>\n",
       "    </tr>\n",
       "    <tr>\n",
       "      <th>3</th>\n",
       "      <td>0</td>\n",
       "      <td>0</td>\n",
       "      <td>1</td>\n",
       "      <td>1</td>\n",
       "      <td>0.489972</td>\n",
       "    </tr>\n",
       "    <tr>\n",
       "      <th>4</th>\n",
       "      <td>1</td>\n",
       "      <td>1</td>\n",
       "      <td>0</td>\n",
       "      <td>0</td>\n",
       "      <td>0.631804</td>\n",
       "    </tr>\n",
       "  </tbody>\n",
       "</table>\n",
       "</div>"
      ],
      "text/plain": [
       "   Age  Gender  BMI  HR  prediction\n",
       "0    1       1    1   1    0.712594\n",
       "1    1       0    0   1    0.530123\n",
       "2    1       1    0   1    0.584563\n",
       "3    0       0    1   1    0.489972\n",
       "4    1       1    0   0    0.631804"
      ]
     },
     "execution_count": 81,
     "metadata": {},
     "output_type": "execute_result"
    }
   ],
   "source": [
    "df_shap"
   ]
  },
  {
   "cell_type": "markdown",
   "id": "608f41fa-0b21-44d3-a04a-84d91d2a166c",
   "metadata": {},
   "source": [
    "Se ve que este nuevo dataset lo que tiene es un valor 0, 1 para cada variable, en función de si esa variable está presente, y un output con cada cálculo. Cada fila de df_shap es una combinación de variables (jugadores), y su output (resultado en el juego).\n",
    "\n",
    "Vemos que en este caso no es como en la primera explicación, que se hacía un cálculo por cada una de las variables, en cada una de las muestras. Aqui por cada muestra (row) se calculan todos los shapley values ($\\beta$) mediante una regresión lineal."
   ]
  },
  {
   "cell_type": "code",
   "execution_count": 90,
   "id": "cc9c4751-82b9-4188-ad4e-b03e6f965878",
   "metadata": {},
   "outputs": [],
   "source": [
    "reg = LinearRegression()"
   ]
  },
  {
   "cell_type": "code",
   "execution_count": 91,
   "id": "c7eb14e9-ef48-4c42-bc20-13de8d9e92f9",
   "metadata": {},
   "outputs": [],
   "source": [
    "shap_model = reg.fit(df_shap.iloc[:,0:4], df_shap['prediction'])"
   ]
  },
  {
   "cell_type": "code",
   "execution_count": 92,
   "id": "ddfaac0f-066c-4514-a1d8-81a13d3ab7b9",
   "metadata": {},
   "outputs": [
    {
     "data": {
      "text/html": [
       "<div>\n",
       "<style scoped>\n",
       "    .dataframe tbody tr th:only-of-type {\n",
       "        vertical-align: middle;\n",
       "    }\n",
       "\n",
       "    .dataframe tbody tr th {\n",
       "        vertical-align: top;\n",
       "    }\n",
       "\n",
       "    .dataframe thead th {\n",
       "        text-align: right;\n",
       "    }\n",
       "</style>\n",
       "<table border=\"1\" class=\"dataframe\">\n",
       "  <thead>\n",
       "    <tr style=\"text-align: right;\">\n",
       "      <th></th>\n",
       "      <th>variables</th>\n",
       "      <th>shap</th>\n",
       "    </tr>\n",
       "  </thead>\n",
       "  <tbody>\n",
       "    <tr>\n",
       "      <th>0</th>\n",
       "      <td>Age</td>\n",
       "      <td>0.168182</td>\n",
       "    </tr>\n",
       "    <tr>\n",
       "      <th>1</th>\n",
       "      <td>Gender_F</td>\n",
       "      <td>0.054441</td>\n",
       "    </tr>\n",
       "    <tr>\n",
       "      <th>2</th>\n",
       "      <td>BMI</td>\n",
       "      <td>0.128031</td>\n",
       "    </tr>\n",
       "    <tr>\n",
       "      <th>3</th>\n",
       "      <td>HR</td>\n",
       "      <td>-0.047240</td>\n",
       "    </tr>\n",
       "  </tbody>\n",
       "</table>\n",
       "</div>"
      ],
      "text/plain": [
       "  variables      shap\n",
       "0       Age  0.168182\n",
       "1  Gender_F  0.054441\n",
       "2       BMI  0.128031\n",
       "3        HR -0.047240"
      ]
     },
     "execution_count": 92,
     "metadata": {},
     "output_type": "execute_result"
    }
   ],
   "source": [
    "resultados = {'variables': list(df.columns[0:4]), 'shap': list(shap_model.coef_)}\n",
    "pd.DataFrame(resultados)"
   ]
  },
  {
   "cell_type": "markdown",
   "id": "a00858d0-fe65-47f9-be4f-4208e7dd7ac3",
   "metadata": {},
   "source": [
    "Aqui vemos el SHAP value de cada variable para la muestra 1. Vemos que la edad ha aumentado la probabilidad de ictus, el sexo femenino también la ha aumentado, el BMI la ha aumentado y la HR la ha disminuico"
   ]
  },
  {
   "cell_type": "markdown",
   "id": "fda5450a-3162-4f27-9a2c-60b09507a890",
   "metadata": {},
   "source": [
    "## Calculo con el paquete"
   ]
  },
  {
   "cell_type": "code",
   "execution_count": 113,
   "id": "4a73aec6-1ea5-4fd1-b642-c81483189a3d",
   "metadata": {},
   "outputs": [],
   "source": [
    "import shap"
   ]
  },
  {
   "cell_type": "code",
   "execution_count": 114,
   "id": "75ed365b-3b71-471d-b9e0-c205fda13fae",
   "metadata": {},
   "outputs": [],
   "source": [
    "X3 = shap.utils.sample(X, 3) # 3 instances for use as the background distribution"
   ]
  },
  {
   "cell_type": "markdown",
   "id": "e64ed597-7ecd-41a4-a32e-e33dfc59ebe0",
   "metadata": {},
   "source": [
    "La background distribution es la que se usa para rellenar los valores faltantes, son datos del train dataset que se guardan para rellenar los NA"
   ]
  },
  {
   "cell_type": "code",
   "execution_count": 115,
   "id": "ee6784b1-23e0-4070-8785-ac3cea7e5b61",
   "metadata": {},
   "outputs": [],
   "source": [
    "explainer = shap.Explainer(model.predict, X2)\n",
    "shap_values = explainer(df.iloc[:,0:4])"
   ]
  },
  {
   "cell_type": "code",
   "execution_count": 125,
   "id": "9d242a00-33ac-4c4b-a832-21e836d45efb",
   "metadata": {},
   "outputs": [
    {
     "data": {
      "image/png": "[encoded data removed]",
      "text/plain": [
       "<Figure size 576x252 with 3 Axes>"
      ]
     },
     "metadata": {},
     "output_type": "display_data"
    }
   ],
   "source": [
    "shap.plots.waterfall(shap_values[0], max_display=20)"
   ]
  },
  {
   "cell_type": "markdown",
   "id": "570cb251-f9e0-4571-93c6-d8ef096cfee7",
   "metadata": {},
   "source": [
    "Vemos que aqui los resultados nos salen diferentes, pero es normal, porque hemos generado muy pocas muestras aleatorias en el modelo, probablemente el paquete haya calculado más.\n",
    "\n",
    "Aun así vemos que en ambos casos las variables que mas cuentan positivamente son BMI y Age. En ambos casos Gender_F tiene un valor cercano a 0 y en ambos casos HR tiene un valor negativos."
   ]
  },
  {
   "cell_type": "code",
   "execution_count": 124,
   "id": "2a6157ed-8efa-450d-8c78-9c5a90108f90",
   "metadata": {},
   "outputs": [
    {
     "data": {
      "text/html": [
       "<div>\n",
       "<style scoped>\n",
       "    .dataframe tbody tr th:only-of-type {\n",
       "        vertical-align: middle;\n",
       "    }\n",
       "\n",
       "    .dataframe tbody tr th {\n",
       "        vertical-align: top;\n",
       "    }\n",
       "\n",
       "    .dataframe thead th {\n",
       "        text-align: right;\n",
       "    }\n",
       "</style>\n",
       "<table border=\"1\" class=\"dataframe\">\n",
       "  <thead>\n",
       "    <tr style=\"text-align: right;\">\n",
       "      <th></th>\n",
       "      <th>Age</th>\n",
       "      <th>Gender_F</th>\n",
       "      <th>BMI</th>\n",
       "      <th>HR</th>\n",
       "    </tr>\n",
       "  </thead>\n",
       "  <tbody>\n",
       "    <tr>\n",
       "      <th>0</th>\n",
       "      <td>0.282800</td>\n",
       "      <td>0.015457</td>\n",
       "      <td>0.298739</td>\n",
       "      <td>-0.050494</td>\n",
       "    </tr>\n",
       "    <tr>\n",
       "      <th>1</th>\n",
       "      <td>0.617970</td>\n",
       "      <td>-0.015457</td>\n",
       "      <td>0.725508</td>\n",
       "      <td>-0.333262</td>\n",
       "    </tr>\n",
       "    <tr>\n",
       "      <th>2</th>\n",
       "      <td>0.282800</td>\n",
       "      <td>-0.015457</td>\n",
       "      <td>0.085354</td>\n",
       "      <td>-0.131285</td>\n",
       "    </tr>\n",
       "    <tr>\n",
       "      <th>3</th>\n",
       "      <td>-0.052370</td>\n",
       "      <td>0.015457</td>\n",
       "      <td>-0.128031</td>\n",
       "      <td>-0.010099</td>\n",
       "    </tr>\n",
       "    <tr>\n",
       "      <th>4</th>\n",
       "      <td>-0.366592</td>\n",
       "      <td>0.015457</td>\n",
       "      <td>0.128031</td>\n",
       "      <td>0.030297</td>\n",
       "    </tr>\n",
       "    <tr>\n",
       "      <th>5</th>\n",
       "      <td>0.366592</td>\n",
       "      <td>-0.015457</td>\n",
       "      <td>-0.128031</td>\n",
       "      <td>-0.030297</td>\n",
       "    </tr>\n",
       "    <tr>\n",
       "      <th>6</th>\n",
       "      <td>-0.094267</td>\n",
       "      <td>0.015457</td>\n",
       "      <td>0.170708</td>\n",
       "      <td>-0.058573</td>\n",
       "    </tr>\n",
       "  </tbody>\n",
       "</table>\n",
       "</div>"
      ],
      "text/plain": [
       "        Age  Gender_F       BMI        HR\n",
       "0  0.282800  0.015457  0.298739 -0.050494\n",
       "1  0.617970 -0.015457  0.725508 -0.333262\n",
       "2  0.282800 -0.015457  0.085354 -0.131285\n",
       "3 -0.052370  0.015457 -0.128031 -0.010099\n",
       "4 -0.366592  0.015457  0.128031  0.030297\n",
       "5  0.366592 -0.015457 -0.128031 -0.030297\n",
       "6 -0.094267  0.015457  0.170708 -0.058573"
      ]
     },
     "execution_count": 124,
     "metadata": {},
     "output_type": "execute_result"
    }
   ],
   "source": [
    "pd.DataFrame(shap_values.values, columns = df.iloc[:,0:4].columns)"
   ]
  },
  {
   "cell_type": "markdown",
   "id": "ba60d791-be8b-4e82-894c-b6ed477f95b3",
   "metadata": {},
   "source": [
    "Aqui vemos el SHAP value de cada variable para cada muestra"
   ]
  },
  {
   "cell_type": "code",
   "execution_count": null,
   "id": "b8dd09f4-3472-4ef0-9a7d-c2f523ec08c5",
   "metadata": {},
   "outputs": [],
   "source": []
  }
 ],
 "metadata": {
  "kernelspec": {
   "display_name": "Python 3 (ipykernel)",
   "language": "python",
   "name": "python3"
  },
  "language_info": {
   "codemirror_mode": {
    "name": "ipython",
    "version": 3
   },
   "file_extension": ".py",
   "mimetype": "text/x-python",
   "name": "python",
   "nbconvert_exporter": "python",
   "pygments_lexer": "ipython3",
   "version": "3.10.4"
  }
 },
 "nbformat": 4,
 "nbformat_minor": 5
}
