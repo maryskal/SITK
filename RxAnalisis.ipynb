{
 "cells": [
  {
   "cell_type": "markdown",
   "id": "3bd02030",
   "metadata": {},
   "source": [
    "# RADIOGRAFÍAS"
   ]
  },
  {
   "cell_type": "markdown",
   "id": "e6988e1a",
   "metadata": {},
   "source": [
    "### Paquetes"
   ]
  },
  {
   "cell_type": "code",
   "execution_count": 130,
   "id": "4b41c825",
   "metadata": {},
   "outputs": [],
   "source": [
    "# Paquetes de imagen\n",
    "import SimpleITK as sitk\n",
    "from skimage import exposure\n",
    "\n",
    "# Paquetes de df y arrays\n",
    "import numpy as np\n",
    "import pandas as pd\n",
    "import os\n",
    "from ipywidgets import interact, fixed\n",
    "\n",
    "%matplotlib inline\n",
    "import matplotlib.pyplot as plt\n",
    "\n",
    "# Del propio paquete\n",
    "from downloaddata import fetch_data as fdata\n",
    "\n",
    "# OS\n",
    "from os import listdir\n",
    "from os.path import isfile, join\n",
    "\n",
    "image_viewer = sitk.ImageViewer()"
   ]
  },
  {
   "cell_type": "markdown",
   "id": "f7a85df2",
   "metadata": {},
   "source": [
    "### Lector de imagen"
   ]
  },
  {
   "cell_type": "code",
   "execution_count": 2,
   "id": "fe3c1cec",
   "metadata": {},
   "outputs": [],
   "source": [
    "fiji = 'D:/Users/María Rollán/Documents/Fiji.app/ImageJ-win64.exe'\n",
    "image_viewer.SetApplication(fiji)\n",
    "ctFolder = 'Vessel_stencils'"
   ]
  },
  {
   "cell_type": "markdown",
   "id": "9026bdfe",
   "metadata": {},
   "source": [
    "### Logging"
   ]
  },
  {
   "cell_type": "code",
   "execution_count": 94,
   "id": "4908efa8",
   "metadata": {},
   "outputs": [],
   "source": [
    "import logging\n",
    "import sys\n",
    "\n",
    "# Configura el logging\n",
    "log_format = '[%(process)d]\\t%(asctime)s %(levelname)s: %(message)s'\n",
    "logging.basicConfig(format=log_format, level=logging.INFO, datefmt=\"%H:%M:%S\",\n",
    "                    handlers=[logging.StreamHandler(sys.stdout)])"
   ]
  },
  {
   "cell_type": "markdown",
   "id": "f5b9cd67",
   "metadata": {},
   "source": [
    "### Funciones"
   ]
  },
  {
   "cell_type": "code",
   "execution_count": 126,
   "id": "5311d7a5",
   "metadata": {},
   "outputs": [],
   "source": [
    "def histo(img):\n",
    "    '''\n",
    "    Create a histogram from a SITK image\n",
    "    \n",
    "    Parameters\n",
    "    ----------\n",
    "    img (SITK image)\n",
    "    '''\n",
    "    arr = sitk.GetArrayFromImage(img)\n",
    "    fig = plt.figure(figsize = (7,5))\n",
    "    ax = fig.gca()\n",
    "    ax.hist(arr.flatten(), bins = 255)\n",
    "    plt.show(fig)\n",
    "\n",
    "def plotImg(img, color = 'gray'):\n",
    "    '''\n",
    "    Plot a SITK image\n",
    "    \n",
    "    Parameters\n",
    "    ----------\n",
    "    img (SITK image)\n",
    "    color (string): the colour for image representation\n",
    "    '''\n",
    "    arr = sitk.GetArrayFromImage(img)\n",
    "    plt.imshow(arr, cmap = color)"
   ]
  },
  {
   "cell_type": "markdown",
   "id": "c45c0299",
   "metadata": {},
   "source": [
    "## Dataset"
   ]
  },
  {
   "cell_type": "code",
   "execution_count": 7,
   "id": "1be8873b",
   "metadata": {},
   "outputs": [
    {
     "data": {
      "text/html": [
       "<div>\n",
       "<style scoped>\n",
       "    .dataframe tbody tr th:only-of-type {\n",
       "        vertical-align: middle;\n",
       "    }\n",
       "\n",
       "    .dataframe tbody tr th {\n",
       "        vertical-align: top;\n",
       "    }\n",
       "\n",
       "    .dataframe thead th {\n",
       "        text-align: right;\n",
       "    }\n",
       "</style>\n",
       "<table border=\"1\" class=\"dataframe\">\n",
       "  <thead>\n",
       "    <tr style=\"text-align: right;\">\n",
       "      <th></th>\n",
       "      <th>Image Index</th>\n",
       "      <th>Finding Labels</th>\n",
       "      <th>Follow-up #</th>\n",
       "      <th>Patient ID</th>\n",
       "      <th>Patient Age</th>\n",
       "      <th>Patient Gender</th>\n",
       "      <th>View Position</th>\n",
       "      <th>OriginalImage[Width</th>\n",
       "      <th>Height]</th>\n",
       "      <th>OriginalImagePixelSpacing[x</th>\n",
       "      <th>y]</th>\n",
       "    </tr>\n",
       "  </thead>\n",
       "  <tbody>\n",
       "    <tr>\n",
       "      <th>0</th>\n",
       "      <td>00000001_000.png</td>\n",
       "      <td>Cardiomegaly</td>\n",
       "      <td>0</td>\n",
       "      <td>1</td>\n",
       "      <td>57</td>\n",
       "      <td>M</td>\n",
       "      <td>PA</td>\n",
       "      <td>2682</td>\n",
       "      <td>2749</td>\n",
       "      <td>0.143</td>\n",
       "      <td>0.143</td>\n",
       "    </tr>\n",
       "    <tr>\n",
       "      <th>1</th>\n",
       "      <td>00000001_001.png</td>\n",
       "      <td>Cardiomegaly|Emphysema</td>\n",
       "      <td>1</td>\n",
       "      <td>1</td>\n",
       "      <td>58</td>\n",
       "      <td>M</td>\n",
       "      <td>PA</td>\n",
       "      <td>2894</td>\n",
       "      <td>2729</td>\n",
       "      <td>0.143</td>\n",
       "      <td>0.143</td>\n",
       "    </tr>\n",
       "    <tr>\n",
       "      <th>2</th>\n",
       "      <td>00000001_002.png</td>\n",
       "      <td>Cardiomegaly|Effusion</td>\n",
       "      <td>2</td>\n",
       "      <td>1</td>\n",
       "      <td>58</td>\n",
       "      <td>M</td>\n",
       "      <td>PA</td>\n",
       "      <td>2500</td>\n",
       "      <td>2048</td>\n",
       "      <td>0.168</td>\n",
       "      <td>0.168</td>\n",
       "    </tr>\n",
       "    <tr>\n",
       "      <th>3</th>\n",
       "      <td>00000002_000.png</td>\n",
       "      <td>No Finding</td>\n",
       "      <td>0</td>\n",
       "      <td>2</td>\n",
       "      <td>80</td>\n",
       "      <td>M</td>\n",
       "      <td>PA</td>\n",
       "      <td>2500</td>\n",
       "      <td>2048</td>\n",
       "      <td>0.171</td>\n",
       "      <td>0.171</td>\n",
       "    </tr>\n",
       "    <tr>\n",
       "      <th>4</th>\n",
       "      <td>00000003_001.png</td>\n",
       "      <td>Hernia</td>\n",
       "      <td>0</td>\n",
       "      <td>3</td>\n",
       "      <td>74</td>\n",
       "      <td>F</td>\n",
       "      <td>PA</td>\n",
       "      <td>2500</td>\n",
       "      <td>2048</td>\n",
       "      <td>0.168</td>\n",
       "      <td>0.168</td>\n",
       "    </tr>\n",
       "  </tbody>\n",
       "</table>\n",
       "</div>"
      ],
      "text/plain": [
       "        Image Index          Finding Labels  Follow-up #  Patient ID  \\\n",
       "0  00000001_000.png            Cardiomegaly            0           1   \n",
       "1  00000001_001.png  Cardiomegaly|Emphysema            1           1   \n",
       "2  00000001_002.png   Cardiomegaly|Effusion            2           1   \n",
       "3  00000002_000.png              No Finding            0           2   \n",
       "4  00000003_001.png                  Hernia            0           3   \n",
       "\n",
       "   Patient Age Patient Gender View Position  OriginalImage[Width  Height]  \\\n",
       "0           57              M            PA                 2682     2749   \n",
       "1           58              M            PA                 2894     2729   \n",
       "2           58              M            PA                 2500     2048   \n",
       "3           80              M            PA                 2500     2048   \n",
       "4           74              F            PA                 2500     2048   \n",
       "\n",
       "   OriginalImagePixelSpacing[x     y]  \n",
       "0                        0.143  0.143  \n",
       "1                        0.143  0.143  \n",
       "2                        0.168  0.168  \n",
       "3                        0.171  0.171  \n",
       "4                        0.168  0.168  "
      ]
     },
     "execution_count": 7,
     "metadata": {},
     "output_type": "execute_result"
    }
   ],
   "source": [
    "df = pd.read_csv('CXR8/Data_Entry_2017_v2020.csv')\n",
    "df.head()"
   ]
  },
  {
   "cell_type": "markdown",
   "id": "934895b4",
   "metadata": {},
   "source": [
    "Sacamos los posibles labels que hay"
   ]
  },
  {
   "cell_type": "code",
   "execution_count": 16,
   "id": "8479dd42",
   "metadata": {},
   "outputs": [],
   "source": [
    "labels = np.unique(df['Finding Labels'])\n",
    "labels = '|'.join(labels)\n",
    "labels = labels.split('|')\n",
    "labels = np.unique(labels).tolist()"
   ]
  },
  {
   "cell_type": "markdown",
   "id": "03712b7e",
   "metadata": {},
   "source": [
    "Creamos una nueva columna por cada uno de los labels"
   ]
  },
  {
   "cell_type": "code",
   "execution_count": 36,
   "id": "144c432c",
   "metadata": {},
   "outputs": [],
   "source": [
    "for lab in labels:\n",
    "    df[lab] = pd.NA"
   ]
  },
  {
   "cell_type": "markdown",
   "id": "adb381ee",
   "metadata": {},
   "source": [
    "Creamos una funcion para rellenar esas columnas por cada paciente"
   ]
  },
  {
   "cell_type": "code",
   "execution_count": 31,
   "id": "2161b001",
   "metadata": {},
   "outputs": [],
   "source": [
    "def fill_label(information, label):\n",
    "    positive_labels = information.split('|')\n",
    "    if label in positive_labels:\n",
    "        return 1\n",
    "    return 0"
   ]
  },
  {
   "cell_type": "code",
   "execution_count": 39,
   "id": "ffd0bf35",
   "metadata": {},
   "outputs": [],
   "source": [
    "# map(objeto enumerado x: funcion(x, y), lista de x)\n",
    "for lab in labels:\n",
    "    df[lab] = list(map(lambda x: fill_label(x, lab), df['Finding Labels'].tolist()))"
   ]
  },
  {
   "cell_type": "markdown",
   "id": "84b1780f",
   "metadata": {},
   "source": [
    "## Imagenes"
   ]
  },
  {
   "cell_type": "code",
   "execution_count": 117,
   "id": "63943111",
   "metadata": {},
   "outputs": [],
   "source": [
    "def charge_images(folder):\n",
    "    path = os.path.join(folder, 'images')\n",
    "    images_path = [f for f in listdir(path) if isfile(join(path, f))]\n",
    "    images = [sitk.ReadImage(os.path.join(path, image_path)) for image_path in images_path]\n",
    "    data = {'path': images_path, 'image': images}\n",
    "    return data"
   ]
  },
  {
   "cell_type": "code",
   "execution_count": null,
   "id": "1981ece4",
   "metadata": {},
   "outputs": [],
   "source": [
    "subfolders = [f.path for f in os.scandir('./CXR8/images/') if f.is_dir()]"
   ]
  },
  {
   "cell_type": "markdown",
   "id": "6b05ce38",
   "metadata": {},
   "source": [
    "No se pueden cargar todas las imagenes así que solo he cargado la carpeta 1 y 2 (subfolders[0:1])"
   ]
  },
  {
   "cell_type": "code",
   "execution_count": 118,
   "id": "2481177b",
   "metadata": {},
   "outputs": [
    {
     "name": "stdout",
     "output_type": "stream",
     "text": [
      "[15356]\t22:47:45 INFO: [F]\tFolder ./CXR8/images/images_001\n"
     ]
    }
   ],
   "source": [
    "keys = ['path', 'image']\n",
    "all_images = dict.fromkeys(keys)\n",
    "\n",
    "for folder in subfolders[0:1]:\n",
    "    logging.info('[F]\\tFolder {}'.format(folder))\n",
    "    group = folder.split('/')\n",
    "    folder_info = charge_images(folder)\n",
    "    try:\n",
    "        logging.info('[F]\\tappending'))\n",
    "        all_images['path'][0].append(folder_info['path'])\n",
    "        all_images['image'][0].append(folder_info['image'])\n",
    "    except:\n",
    "        logging.info('[F]\\tstarting'))\n",
    "        all_images['path'] = folder_info['path']\n",
    "        all_images['image'] = folder_info['image']"
   ]
  },
  {
   "cell_type": "code",
   "execution_count": null,
   "id": "8efe7c73",
   "metadata": {},
   "outputs": [],
   "source": [
    "all_images = pd.DataFrame(all_images)"
   ]
  },
  {
   "cell_type": "code",
   "execution_count": 266,
   "id": "35b5242a",
   "metadata": {},
   "outputs": [
    {
     "data": {
      "text/html": [
       "<div>\n",
       "<style scoped>\n",
       "    .dataframe tbody tr th:only-of-type {\n",
       "        vertical-align: middle;\n",
       "    }\n",
       "\n",
       "    .dataframe tbody tr th {\n",
       "        vertical-align: top;\n",
       "    }\n",
       "\n",
       "    .dataframe thead th {\n",
       "        text-align: right;\n",
       "    }\n",
       "</style>\n",
       "<table border=\"1\" class=\"dataframe\">\n",
       "  <thead>\n",
       "    <tr style=\"text-align: right;\">\n",
       "      <th></th>\n",
       "      <th>path</th>\n",
       "      <th>image</th>\n",
       "      <th>neumonia</th>\n",
       "    </tr>\n",
       "  </thead>\n",
       "  <tbody>\n",
       "    <tr>\n",
       "      <th>0</th>\n",
       "      <td>00000001_000.png</td>\n",
       "      <td>[202, 199, 195, 193, 195, 194, 193, 192, 184, ...</td>\n",
       "      <td>0    0\n",
       "Name: Pneumonia, dtype: int64</td>\n",
       "    </tr>\n",
       "    <tr>\n",
       "      <th>1</th>\n",
       "      <td>00000001_001.png</td>\n",
       "      <td>[208, 205, 206, 205, 207, 205, 207, 202, 204, ...</td>\n",
       "      <td>1    0\n",
       "Name: Pneumonia, dtype: int64</td>\n",
       "    </tr>\n",
       "    <tr>\n",
       "      <th>2</th>\n",
       "      <td>00000001_002.png</td>\n",
       "      <td>[7, 10, 9, 8, 8, 8, 7, 7, 7, 6, 6, 7, 7, 6, 6,...</td>\n",
       "      <td>2    0\n",
       "Name: Pneumonia, dtype: int64</td>\n",
       "    </tr>\n",
       "    <tr>\n",
       "      <th>3</th>\n",
       "      <td>00000002_000.png</td>\n",
       "      <td>[199, 175, 152, 133, 124, 118, 113, 111, 110, ...</td>\n",
       "      <td>3    0\n",
       "Name: Pneumonia, dtype: int64</td>\n",
       "    </tr>\n",
       "    <tr>\n",
       "      <th>4</th>\n",
       "      <td>00000003_000.png</td>\n",
       "      <td>[69, 58, 49, 42, 36, 30, 25, 23, 20, 18, 16, 1...</td>\n",
       "      <td>11    0\n",
       "Name: Pneumonia, dtype: int64</td>\n",
       "    </tr>\n",
       "  </tbody>\n",
       "</table>\n",
       "</div>"
      ],
      "text/plain": [
       "               path                                              image  \\\n",
       "0  00000001_000.png  [202, 199, 195, 193, 195, 194, 193, 192, 184, ...   \n",
       "1  00000001_001.png  [208, 205, 206, 205, 207, 205, 207, 202, 204, ...   \n",
       "2  00000001_002.png  [7, 10, 9, 8, 8, 8, 7, 7, 7, 6, 6, 7, 7, 6, 6,...   \n",
       "3  00000002_000.png  [199, 175, 152, 133, 124, 118, 113, 111, 110, ...   \n",
       "4  00000003_000.png  [69, 58, 49, 42, 36, 30, 25, 23, 20, 18, 16, 1...   \n",
       "\n",
       "                                neumonia  \n",
       "0   0    0\n",
       "Name: Pneumonia, dtype: int64  \n",
       "1   1    0\n",
       "Name: Pneumonia, dtype: int64  \n",
       "2   2    0\n",
       "Name: Pneumonia, dtype: int64  \n",
       "3   3    0\n",
       "Name: Pneumonia, dtype: int64  \n",
       "4  11    0\n",
       "Name: Pneumonia, dtype: int64  "
      ]
     },
     "execution_count": 266,
     "metadata": {},
     "output_type": "execute_result"
    }
   ],
   "source": [
    "all_images.head()"
   ]
  },
  {
   "cell_type": "markdown",
   "id": "d3fa85f9",
   "metadata": {},
   "source": [
    "Ahora voy a añadir datos a este nuevo dataframe"
   ]
  },
  {
   "cell_type": "code",
   "execution_count": 277,
   "id": "a37a9d08",
   "metadata": {},
   "outputs": [],
   "source": [
    "def get_column(path, column):\n",
    "    value = df[column][df['Image Index'] == path]\n",
    "    value = list(value)[0]\n",
    "    return value"
   ]
  },
  {
   "cell_type": "code",
   "execution_count": 278,
   "id": "9f49aa15",
   "metadata": {},
   "outputs": [],
   "source": [
    "all_images['neumonia'] = list(map(lambda x: get_column(x, 'Pneumonia'), all_images['path']))"
   ]
  },
  {
   "cell_type": "code",
   "execution_count": 280,
   "id": "d3573c72",
   "metadata": {},
   "outputs": [
    {
     "data": {
      "text/html": [
       "<div>\n",
       "<style scoped>\n",
       "    .dataframe tbody tr th:only-of-type {\n",
       "        vertical-align: middle;\n",
       "    }\n",
       "\n",
       "    .dataframe tbody tr th {\n",
       "        vertical-align: top;\n",
       "    }\n",
       "\n",
       "    .dataframe thead th {\n",
       "        text-align: right;\n",
       "    }\n",
       "</style>\n",
       "<table border=\"1\" class=\"dataframe\">\n",
       "  <thead>\n",
       "    <tr style=\"text-align: right;\">\n",
       "      <th></th>\n",
       "      <th>path</th>\n",
       "      <th>image</th>\n",
       "      <th>neumonia</th>\n",
       "    </tr>\n",
       "  </thead>\n",
       "  <tbody>\n",
       "    <tr>\n",
       "      <th>0</th>\n",
       "      <td>00000001_000.png</td>\n",
       "      <td>[202, 199, 195, 193, 195, 194, 193, 192, 184, ...</td>\n",
       "      <td>0</td>\n",
       "    </tr>\n",
       "    <tr>\n",
       "      <th>1</th>\n",
       "      <td>00000001_001.png</td>\n",
       "      <td>[208, 205, 206, 205, 207, 205, 207, 202, 204, ...</td>\n",
       "      <td>0</td>\n",
       "    </tr>\n",
       "    <tr>\n",
       "      <th>2</th>\n",
       "      <td>00000001_002.png</td>\n",
       "      <td>[7, 10, 9, 8, 8, 8, 7, 7, 7, 6, 6, 7, 7, 6, 6,...</td>\n",
       "      <td>0</td>\n",
       "    </tr>\n",
       "    <tr>\n",
       "      <th>3</th>\n",
       "      <td>00000002_000.png</td>\n",
       "      <td>[199, 175, 152, 133, 124, 118, 113, 111, 110, ...</td>\n",
       "      <td>0</td>\n",
       "    </tr>\n",
       "    <tr>\n",
       "      <th>4</th>\n",
       "      <td>00000003_000.png</td>\n",
       "      <td>[69, 58, 49, 42, 36, 30, 25, 23, 20, 18, 16, 1...</td>\n",
       "      <td>0</td>\n",
       "    </tr>\n",
       "  </tbody>\n",
       "</table>\n",
       "</div>"
      ],
      "text/plain": [
       "               path                                              image  \\\n",
       "0  00000001_000.png  [202, 199, 195, 193, 195, 194, 193, 192, 184, ...   \n",
       "1  00000001_001.png  [208, 205, 206, 205, 207, 205, 207, 202, 204, ...   \n",
       "2  00000001_002.png  [7, 10, 9, 8, 8, 8, 7, 7, 7, 6, 6, 7, 7, 6, 6,...   \n",
       "3  00000002_000.png  [199, 175, 152, 133, 124, 118, 113, 111, 110, ...   \n",
       "4  00000003_000.png  [69, 58, 49, 42, 36, 30, 25, 23, 20, 18, 16, 1...   \n",
       "\n",
       "   neumonia  \n",
       "0         0  \n",
       "1         0  \n",
       "2         0  \n",
       "3         0  \n",
       "4         0  "
      ]
     },
     "execution_count": 280,
     "metadata": {},
     "output_type": "execute_result"
    }
   ],
   "source": [
    "all_images.head()"
   ]
  },
  {
   "cell_type": "markdown",
   "id": "60443d78",
   "metadata": {},
   "source": [
    "## Filtros sobre imágenes"
   ]
  },
  {
   "cell_type": "markdown",
   "id": "372afa55",
   "metadata": {},
   "source": [
    "### Equalizar"
   ]
  },
  {
   "cell_type": "code",
   "execution_count": 285,
   "id": "8d49c6b9",
   "metadata": {},
   "outputs": [],
   "source": [
    "def equalizar(img):\n",
    "    '''\n",
    "    Equalize a SITK image\n",
    "    \n",
    "    Parameters\n",
    "    ----------\n",
    "    img (SITK image)\n",
    "    \n",
    "    Returns\n",
    "    -------\n",
    "    img (SITK image)    \n",
    "    '''\n",
    "    imgArr = sitk.GetArrayFromImage(img)\n",
    "    \n",
    "    # Contrast stretching\n",
    "    p2, p98 = np.percentile(imgArr, (2, 98))\n",
    "    img_rescale = exposure.rescale_intensity(imgArr, in_range=(p2, p98))\n",
    "\n",
    "    # Equalization\n",
    "    img_eq = exposure.equalize_hist(imgArr)\n",
    "\n",
    "    # Adaptive Equalization\n",
    "    img_adapteq = exposure.equalize_adapthist(imgArr, clip_limit=0.03)\n",
    "    \n",
    "    img = sitk.GetImageFromArray(img_adapteq)\n",
    "    \n",
    "    return img"
   ]
  },
  {
   "cell_type": "code",
   "execution_count": 286,
   "id": "fdad5846",
   "metadata": {},
   "outputs": [
    {
     "ename": "KeyboardInterrupt",
     "evalue": "",
     "output_type": "error",
     "traceback": [
      "\u001b[1;31m---------------------------------------------------------------------------\u001b[0m",
      "\u001b[1;31mKeyboardInterrupt\u001b[0m                         Traceback (most recent call last)",
      "Input \u001b[1;32mIn [286]\u001b[0m, in \u001b[0;36m<cell line: 1>\u001b[1;34m()\u001b[0m\n\u001b[1;32m----> 1\u001b[0m all_images[\u001b[38;5;124m'\u001b[39m\u001b[38;5;124mequalizado\u001b[39m\u001b[38;5;124m'\u001b[39m] \u001b[38;5;241m=\u001b[39m \u001b[38;5;28;43mlist\u001b[39;49m\u001b[43m(\u001b[49m\u001b[38;5;28;43mmap\u001b[39;49m\u001b[43m(\u001b[49m\u001b[38;5;28;43;01mlambda\u001b[39;49;00m\u001b[43m \u001b[49m\u001b[43mx\u001b[49m\u001b[43m:\u001b[49m\u001b[43m \u001b[49m\u001b[43mequalizar\u001b[49m\u001b[43m(\u001b[49m\u001b[43mx\u001b[49m\u001b[43m)\u001b[49m\u001b[43m,\u001b[49m\u001b[43m \u001b[49m\u001b[43mall_images\u001b[49m\u001b[43m[\u001b[49m\u001b[38;5;124;43m'\u001b[39;49m\u001b[38;5;124;43mimage\u001b[39;49m\u001b[38;5;124;43m'\u001b[39;49m\u001b[43m]\u001b[49m\u001b[43m)\u001b[49m\u001b[43m)\u001b[49m\n",
      "Input \u001b[1;32mIn [286]\u001b[0m, in \u001b[0;36m<lambda>\u001b[1;34m(x)\u001b[0m\n\u001b[1;32m----> 1\u001b[0m all_images[\u001b[38;5;124m'\u001b[39m\u001b[38;5;124mequalizado\u001b[39m\u001b[38;5;124m'\u001b[39m] \u001b[38;5;241m=\u001b[39m \u001b[38;5;28mlist\u001b[39m(\u001b[38;5;28mmap\u001b[39m(\u001b[38;5;28;01mlambda\u001b[39;00m x: \u001b[43mequalizar\u001b[49m\u001b[43m(\u001b[49m\u001b[43mx\u001b[49m\u001b[43m)\u001b[49m, all_images[\u001b[38;5;124m'\u001b[39m\u001b[38;5;124mimage\u001b[39m\u001b[38;5;124m'\u001b[39m]))\n",
      "Input \u001b[1;32mIn [285]\u001b[0m, in \u001b[0;36mequalizar\u001b[1;34m(img)\u001b[0m\n\u001b[0;32m     15\u001b[0m \u001b[38;5;66;03m# Contrast stretching\u001b[39;00m\n\u001b[0;32m     16\u001b[0m p2, p98 \u001b[38;5;241m=\u001b[39m np\u001b[38;5;241m.\u001b[39mpercentile(imgArr, (\u001b[38;5;241m2\u001b[39m, \u001b[38;5;241m98\u001b[39m))\n\u001b[1;32m---> 17\u001b[0m img_rescale \u001b[38;5;241m=\u001b[39m \u001b[43mexposure\u001b[49m\u001b[38;5;241;43m.\u001b[39;49m\u001b[43mrescale_intensity\u001b[49m\u001b[43m(\u001b[49m\u001b[43mimgArr\u001b[49m\u001b[43m,\u001b[49m\u001b[43m \u001b[49m\u001b[43min_range\u001b[49m\u001b[38;5;241;43m=\u001b[39;49m\u001b[43m(\u001b[49m\u001b[43mp2\u001b[49m\u001b[43m,\u001b[49m\u001b[43m \u001b[49m\u001b[43mp98\u001b[49m\u001b[43m)\u001b[49m\u001b[43m)\u001b[49m\n\u001b[0;32m     19\u001b[0m \u001b[38;5;66;03m# Equalization\u001b[39;00m\n\u001b[0;32m     20\u001b[0m img_eq \u001b[38;5;241m=\u001b[39m exposure\u001b[38;5;241m.\u001b[39mequalize_hist(imgArr)\n",
      "File \u001b[1;32m~\\AppData\\Roaming\\Python\\Python310\\site-packages\\skimage\\exposure\\exposure.py:598\u001b[0m, in \u001b[0;36mrescale_intensity\u001b[1;34m(image, in_range, out_range)\u001b[0m\n\u001b[0;32m    596\u001b[0m \u001b[38;5;28;01mif\u001b[39;00m imin \u001b[38;5;241m!=\u001b[39m imax:\n\u001b[0;32m    597\u001b[0m     image \u001b[38;5;241m=\u001b[39m (image \u001b[38;5;241m-\u001b[39m imin) \u001b[38;5;241m/\u001b[39m (imax \u001b[38;5;241m-\u001b[39m imin)\n\u001b[1;32m--> 598\u001b[0m     \u001b[38;5;28;01mreturn\u001b[39;00m \u001b[43mnp\u001b[49m\u001b[38;5;241;43m.\u001b[39;49m\u001b[43masarray\u001b[49m\u001b[43m(\u001b[49m\u001b[43mimage\u001b[49m\u001b[43m \u001b[49m\u001b[38;5;241;43m*\u001b[39;49m\u001b[43m \u001b[49m\u001b[43m(\u001b[49m\u001b[43momax\u001b[49m\u001b[43m \u001b[49m\u001b[38;5;241;43m-\u001b[39;49m\u001b[43m \u001b[49m\u001b[43momin\u001b[49m\u001b[43m)\u001b[49m\u001b[43m \u001b[49m\u001b[38;5;241;43m+\u001b[39;49m\u001b[43m \u001b[49m\u001b[43momin\u001b[49m\u001b[43m,\u001b[49m\u001b[43m \u001b[49m\u001b[43mdtype\u001b[49m\u001b[38;5;241;43m=\u001b[39;49m\u001b[43mout_dtype\u001b[49m\u001b[43m)\u001b[49m\n\u001b[0;32m    599\u001b[0m \u001b[38;5;28;01melse\u001b[39;00m:\n\u001b[0;32m    600\u001b[0m     \u001b[38;5;28;01mreturn\u001b[39;00m np\u001b[38;5;241m.\u001b[39mclip(image, omin, omax)\u001b[38;5;241m.\u001b[39mastype(out_dtype)\n",
      "\u001b[1;31mKeyboardInterrupt\u001b[0m: "
     ]
    }
   ],
   "source": [
    "all_images['equalizado'] = list(map(lambda x: equalizar(x), all_images['image']))"
   ]
  },
  {
   "cell_type": "markdown",
   "id": "338f5cb3",
   "metadata": {},
   "source": [
    "## Red neuronal"
   ]
  }
 ],
 "metadata": {
  "kernelspec": {
   "display_name": "Python 3",
   "language": "python",
   "name": "python3"
  },
  "language_info": {
   "codemirror_mode": {
    "name": "ipython",
    "version": 3
   },
   "file_extension": ".py",
   "mimetype": "text/x-python",
   "name": "python",
   "nbconvert_exporter": "python",
   "pygments_lexer": "ipython3",
   "version": "3.10.4"
  }
 },
 "nbformat": 4,
 "nbformat_minor": 5
}
