{
 "cells": [
  {
   "cell_type": "markdown",
   "id": "1eeaa123",
   "metadata": {},
   "source": [
    "# RADIOMICS"
   ]
  },
  {
   "cell_type": "code",
   "execution_count": 1,
   "id": "3cad882d",
   "metadata": {},
   "outputs": [],
   "source": [
    "import six\n",
    "\n",
    "from radiomics import featureextractor, getTestCase"
   ]
  },
  {
   "cell_type": "code",
   "execution_count": 2,
   "id": "a115109a",
   "metadata": {},
   "outputs": [],
   "source": [
    "import SimpleITK as sitk\n",
    "\n",
    "import numpy as np\n",
    "import os\n",
    "import pandas as pd\n",
    "\n",
    "%matplotlib inline\n",
    "import matplotlib.pyplot as plt\n",
    "\n",
    "image_viewer = sitk.ImageViewer()"
   ]
  },
  {
   "cell_type": "code",
   "execution_count": 3,
   "id": "5f78af71",
   "metadata": {},
   "outputs": [],
   "source": [
    "from os import listdir\n",
    "from os.path import isfile, join"
   ]
  },
  {
   "cell_type": "code",
   "execution_count": 4,
   "id": "bba1675d",
   "metadata": {},
   "outputs": [],
   "source": [
    "fiji = '/home/maryskal/Fiji.app/ImageJ-linux64'\n",
    "image_viewer.SetApplication(fiji)"
   ]
  },
  {
   "cell_type": "markdown",
   "id": "76c23a72",
   "metadata": {},
   "source": [
    "### Cojo las mascaras"
   ]
  },
  {
   "cell_type": "code",
   "execution_count": 5,
   "id": "7de3ce0e",
   "metadata": {},
   "outputs": [],
   "source": [
    "ctFolder = 'Vessel_stencils'"
   ]
  },
  {
   "cell_type": "code",
   "execution_count": 6,
   "id": "2ed6ad6c",
   "metadata": {},
   "outputs": [],
   "source": [
    "path = os.path.join(ctFolder,'10047G_INSP_STD_BWH_COPD.nrrd')\n",
    "ct = sitk.ReadImage(path)"
   ]
  },
  {
   "cell_type": "code",
   "execution_count": 7,
   "id": "d5eb3f12",
   "metadata": {},
   "outputs": [],
   "source": [
    "mypath = 'Vessel_stencils/pacientePrueba'\n",
    "# Recojo todos los files en mypath\n",
    "masks = [f for f in listdir(mypath) if isfile(join(mypath, f))]"
   ]
  },
  {
   "cell_type": "code",
   "execution_count": 8,
   "id": "9f16a69d",
   "metadata": {},
   "outputs": [
    {
     "data": {
      "text/plain": [
       "['mask_0_10.nrrd',\n",
       " 'mask_0_2.nrrd',\n",
       " 'mask_0_3.nrrd',\n",
       " 'mask_0_5.nrrd',\n",
       " 'mask_1_10.nrrd',\n",
       " 'mask_1_2.nrrd',\n",
       " 'mask_1_3.nrrd',\n",
       " 'mask_1_5.nrrd',\n",
       " 'mask_2_10.nrrd',\n",
       " 'mask_2_2.nrrd',\n",
       " 'mask_2_3.nrrd',\n",
       " 'mask_2_5.nrrd']"
      ]
     },
     "execution_count": 8,
     "metadata": {},
     "output_type": "execute_result"
    }
   ],
   "source": [
    "masks.sort()\n",
    "masks"
   ]
  },
  {
   "cell_type": "code",
   "execution_count": 9,
   "id": "a91af67b",
   "metadata": {},
   "outputs": [],
   "source": [
    "images = [sitk.ReadImage(os.path.join(mypath, path)) for path in masks]"
   ]
  },
  {
   "cell_type": "markdown",
   "id": "3c844cab",
   "metadata": {},
   "source": [
    "### Creo el dataset"
   ]
  },
  {
   "cell_type": "code",
   "execution_count": 10,
   "id": "adfdf2e5",
   "metadata": {},
   "outputs": [
    {
     "data": {
      "text/html": [
       "<div>\n",
       "<style scoped>\n",
       "    .dataframe tbody tr th:only-of-type {\n",
       "        vertical-align: middle;\n",
       "    }\n",
       "\n",
       "    .dataframe tbody tr th {\n",
       "        vertical-align: top;\n",
       "    }\n",
       "\n",
       "    .dataframe thead th {\n",
       "        text-align: right;\n",
       "    }\n",
       "</style>\n",
       "<table border=\"1\" class=\"dataframe\">\n",
       "  <thead>\n",
       "    <tr style=\"text-align: right;\">\n",
       "      <th></th>\n",
       "      <th>path</th>\n",
       "      <th>images</th>\n",
       "    </tr>\n",
       "  </thead>\n",
       "  <tbody>\n",
       "    <tr>\n",
       "      <th>0</th>\n",
       "      <td>mask_0_10.nrrd</td>\n",
       "      <td>[0, 0, 0, 0, 0, 0, 0, 0, 0, 0, 0, 0, 0, 0, 0, ...</td>\n",
       "    </tr>\n",
       "    <tr>\n",
       "      <th>1</th>\n",
       "      <td>mask_0_2.nrrd</td>\n",
       "      <td>[0, 0, 0, 0, 0, 0, 0, 0, 0, 0, 0, 0, 0, 0, 0, ...</td>\n",
       "    </tr>\n",
       "    <tr>\n",
       "      <th>2</th>\n",
       "      <td>mask_0_3.nrrd</td>\n",
       "      <td>[0, 0, 0, 0, 0, 0, 0, 0, 0, 0, 0, 0, 0, 0, 0, ...</td>\n",
       "    </tr>\n",
       "    <tr>\n",
       "      <th>3</th>\n",
       "      <td>mask_0_5.nrrd</td>\n",
       "      <td>[0, 0, 0, 0, 0, 0, 0, 0, 0, 0, 0, 0, 0, 0, 0, ...</td>\n",
       "    </tr>\n",
       "    <tr>\n",
       "      <th>4</th>\n",
       "      <td>mask_1_10.nrrd</td>\n",
       "      <td>[0, 0, 0, 0, 0, 0, 0, 0, 0, 0, 0, 0, 0, 0, 0, ...</td>\n",
       "    </tr>\n",
       "  </tbody>\n",
       "</table>\n",
       "</div>"
      ],
      "text/plain": [
       "             path                                             images\n",
       "0  mask_0_10.nrrd  [0, 0, 0, 0, 0, 0, 0, 0, 0, 0, 0, 0, 0, 0, 0, ...\n",
       "1   mask_0_2.nrrd  [0, 0, 0, 0, 0, 0, 0, 0, 0, 0, 0, 0, 0, 0, 0, ...\n",
       "2   mask_0_3.nrrd  [0, 0, 0, 0, 0, 0, 0, 0, 0, 0, 0, 0, 0, 0, 0, ...\n",
       "3   mask_0_5.nrrd  [0, 0, 0, 0, 0, 0, 0, 0, 0, 0, 0, 0, 0, 0, 0, ...\n",
       "4  mask_1_10.nrrd  [0, 0, 0, 0, 0, 0, 0, 0, 0, 0, 0, 0, 0, 0, 0, ..."
      ]
     },
     "execution_count": 10,
     "metadata": {},
     "output_type": "execute_result"
    }
   ],
   "source": [
    "data = pd.DataFrame({'path': masks, 'images': images})\n",
    "data.head()"
   ]
  },
  {
   "cell_type": "code",
   "execution_count": 11,
   "id": "64e48712",
   "metadata": {},
   "outputs": [],
   "source": [
    "import re\n",
    "actual = ['k_0','k_1','k_2']\n",
    "news = ['k_all', 'k_5', 'k_20']\n",
    "for path in data['path']:\n",
    "    for i in range(3):\n",
    "        old = actual[i]\n",
    "        new = news[i]\n",
    "        data['path'][data.path == path] = re.sub(old, new, path, 1)"
   ]
  },
  {
   "cell_type": "code",
   "execution_count": 12,
   "id": "4929e755",
   "metadata": {},
   "outputs": [
    {
     "data": {
      "text/html": [
       "<div>\n",
       "<style scoped>\n",
       "    .dataframe tbody tr th:only-of-type {\n",
       "        vertical-align: middle;\n",
       "    }\n",
       "\n",
       "    .dataframe tbody tr th {\n",
       "        vertical-align: top;\n",
       "    }\n",
       "\n",
       "    .dataframe thead th {\n",
       "        text-align: right;\n",
       "    }\n",
       "</style>\n",
       "<table border=\"1\" class=\"dataframe\">\n",
       "  <thead>\n",
       "    <tr style=\"text-align: right;\">\n",
       "      <th></th>\n",
       "      <th>path</th>\n",
       "      <th>images</th>\n",
       "    </tr>\n",
       "  </thead>\n",
       "  <tbody>\n",
       "    <tr>\n",
       "      <th>0</th>\n",
       "      <td>mask_all_10.nrrd</td>\n",
       "      <td>[0, 0, 0, 0, 0, 0, 0, 0, 0, 0, 0, 0, 0, 0, 0, ...</td>\n",
       "    </tr>\n",
       "    <tr>\n",
       "      <th>1</th>\n",
       "      <td>mask_all_2.nrrd</td>\n",
       "      <td>[0, 0, 0, 0, 0, 0, 0, 0, 0, 0, 0, 0, 0, 0, 0, ...</td>\n",
       "    </tr>\n",
       "    <tr>\n",
       "      <th>2</th>\n",
       "      <td>mask_all_3.nrrd</td>\n",
       "      <td>[0, 0, 0, 0, 0, 0, 0, 0, 0, 0, 0, 0, 0, 0, 0, ...</td>\n",
       "    </tr>\n",
       "    <tr>\n",
       "      <th>3</th>\n",
       "      <td>mask_all_5.nrrd</td>\n",
       "      <td>[0, 0, 0, 0, 0, 0, 0, 0, 0, 0, 0, 0, 0, 0, 0, ...</td>\n",
       "    </tr>\n",
       "    <tr>\n",
       "      <th>4</th>\n",
       "      <td>mask_5_10.nrrd</td>\n",
       "      <td>[0, 0, 0, 0, 0, 0, 0, 0, 0, 0, 0, 0, 0, 0, 0, ...</td>\n",
       "    </tr>\n",
       "  </tbody>\n",
       "</table>\n",
       "</div>"
      ],
      "text/plain": [
       "               path                                             images\n",
       "0  mask_all_10.nrrd  [0, 0, 0, 0, 0, 0, 0, 0, 0, 0, 0, 0, 0, 0, 0, ...\n",
       "1   mask_all_2.nrrd  [0, 0, 0, 0, 0, 0, 0, 0, 0, 0, 0, 0, 0, 0, 0, ...\n",
       "2   mask_all_3.nrrd  [0, 0, 0, 0, 0, 0, 0, 0, 0, 0, 0, 0, 0, 0, 0, ...\n",
       "3   mask_all_5.nrrd  [0, 0, 0, 0, 0, 0, 0, 0, 0, 0, 0, 0, 0, 0, 0, ...\n",
       "4    mask_5_10.nrrd  [0, 0, 0, 0, 0, 0, 0, 0, 0, 0, 0, 0, 0, 0, 0, ..."
      ]
     },
     "execution_count": 12,
     "metadata": {},
     "output_type": "execute_result"
    }
   ],
   "source": [
    "data.head()"
   ]
  },
  {
   "cell_type": "markdown",
   "id": "00b379df",
   "metadata": {},
   "source": [
    "## Radiomics"
   ]
  },
  {
   "cell_type": "code",
   "execution_count": 13,
   "id": "d0dc56b1",
   "metadata": {},
   "outputs": [],
   "source": [
    "import six\n",
    "\n",
    "from radiomics import featureextractor, getTestCase"
   ]
  },
  {
   "cell_type": "code",
   "execution_count": 14,
   "id": "f7b338dd",
   "metadata": {},
   "outputs": [
    {
     "data": {
      "text/plain": [
       "0     mask_all_10.nrrd\n",
       "1      mask_all_2.nrrd\n",
       "2      mask_all_3.nrrd\n",
       "3      mask_all_5.nrrd\n",
       "4       mask_5_10.nrrd\n",
       "5        mask_5_2.nrrd\n",
       "6        mask_5_3.nrrd\n",
       "7        mask_5_5.nrrd\n",
       "8      mask_20_10.nrrd\n",
       "9       mask_20_2.nrrd\n",
       "10      mask_20_3.nrrd\n",
       "11      mask_20_5.nrrd\n",
       "Name: path, dtype: object"
      ]
     },
     "execution_count": 14,
     "metadata": {},
     "output_type": "execute_result"
    }
   ],
   "source": [
    "data['path']"
   ]
  },
  {
   "cell_type": "code",
   "execution_count": 15,
   "id": "e697100a",
   "metadata": {},
   "outputs": [],
   "source": [
    "mask = data['images'].iloc[5]\n",
    "ct = sitk.ReadImage(os.path.join(ctFolder,'10047G_INSP_STD_BWH_COPD.nrrd'))"
   ]
  },
  {
   "cell_type": "markdown",
   "id": "4ff843b6",
   "metadata": {},
   "source": [
    "Output"
   ]
  },
  {
   "cell_type": "code",
   "execution_count": 16,
   "id": "80f5eea0",
   "metadata": {},
   "outputs": [
    {
     "ename": "OSError",
     "evalue": "Parameter file Vessel_stencils/extraction/Params.yaml does not exist.",
     "output_type": "error",
     "traceback": [
      "\u001b[0;31m---------------------------------------------------------------------------\u001b[0m",
      "\u001b[0;31mOSError\u001b[0m                                   Traceback (most recent call last)",
      "Input \u001b[0;32mIn [16]\u001b[0m, in \u001b[0;36m<cell line: 2>\u001b[0;34m()\u001b[0m\n\u001b[1;32m      1\u001b[0m params \u001b[38;5;241m=\u001b[39m os\u001b[38;5;241m.\u001b[39mpath\u001b[38;5;241m.\u001b[39mjoin(ctFolder, \u001b[38;5;124m\"\u001b[39m\u001b[38;5;124mextraction\u001b[39m\u001b[38;5;124m\"\u001b[39m, \u001b[38;5;124m\"\u001b[39m\u001b[38;5;124mParams.yaml\u001b[39m\u001b[38;5;124m\"\u001b[39m)\n\u001b[0;32m----> 2\u001b[0m extractor \u001b[38;5;241m=\u001b[39m \u001b[43mfeatureextractor\u001b[49m\u001b[38;5;241;43m.\u001b[39;49m\u001b[43mRadiomicsFeatureExtractor\u001b[49m\u001b[43m(\u001b[49m\u001b[43mparams\u001b[49m\u001b[43m)\u001b[49m\n",
      "File \u001b[0;32m~/anaconda3/envs/acil_init/lib/python3.10/site-packages/radiomics/featureextractor.py:61\u001b[0m, in \u001b[0;36mRadiomicsFeatureExtractor.__init__\u001b[0;34m(self, *args, **kwargs)\u001b[0m\n\u001b[1;32m     59\u001b[0m \u001b[38;5;28;01melif\u001b[39;00m \u001b[38;5;28mlen\u001b[39m(args) \u001b[38;5;241m==\u001b[39m \u001b[38;5;241m1\u001b[39m \u001b[38;5;129;01mand\u001b[39;00m (\u001b[38;5;28misinstance\u001b[39m(args[\u001b[38;5;241m0\u001b[39m], six\u001b[38;5;241m.\u001b[39mstring_types) \u001b[38;5;129;01mor\u001b[39;00m \u001b[38;5;28misinstance\u001b[39m(args[\u001b[38;5;241m0\u001b[39m], pathlib\u001b[38;5;241m.\u001b[39mPurePath)):\n\u001b[1;32m     60\u001b[0m   \u001b[38;5;28;01mif\u001b[39;00m \u001b[38;5;129;01mnot\u001b[39;00m os\u001b[38;5;241m.\u001b[39mpath\u001b[38;5;241m.\u001b[39misfile(args[\u001b[38;5;241m0\u001b[39m]):\n\u001b[0;32m---> 61\u001b[0m     \u001b[38;5;28;01mraise\u001b[39;00m \u001b[38;5;167;01mIOError\u001b[39;00m(\u001b[38;5;124m\"\u001b[39m\u001b[38;5;124mParameter file \u001b[39m\u001b[38;5;132;01m%s\u001b[39;00m\u001b[38;5;124m does not exist.\u001b[39m\u001b[38;5;124m\"\u001b[39m \u001b[38;5;241m%\u001b[39m args[\u001b[38;5;241m0\u001b[39m])\n\u001b[1;32m     62\u001b[0m   logger\u001b[38;5;241m.\u001b[39minfo(\u001b[38;5;124m\"\u001b[39m\u001b[38;5;124mLoading parameter file \u001b[39m\u001b[38;5;132;01m%s\u001b[39;00m\u001b[38;5;124m\"\u001b[39m, \u001b[38;5;28mstr\u001b[39m(args[\u001b[38;5;241m0\u001b[39m]))\n\u001b[1;32m     63\u001b[0m   \u001b[38;5;28mself\u001b[39m\u001b[38;5;241m.\u001b[39m_applyParams(paramsFile\u001b[38;5;241m=\u001b[39margs[\u001b[38;5;241m0\u001b[39m])\n",
      "\u001b[0;31mOSError\u001b[0m: Parameter file Vessel_stencils/extraction/Params.yaml does not exist."
     ]
    }
   ],
   "source": [
    "params = os.path.join(ctFolder, \"extraction\", \"Params.yaml\")\n",
    "extractor = featureextractor.RadiomicsFeatureExtractor(params)"
   ]
  },
  {
   "cell_type": "code",
   "execution_count": null,
   "id": "758f6665",
   "metadata": {},
   "outputs": [],
   "source": []
  }
 ],
 "metadata": {
  "kernelspec": {
   "display_name": "Python 3 (ipykernel)",
   "language": "python",
   "name": "python3"
  },
  "language_info": {
   "codemirror_mode": {
    "name": "ipython",
    "version": 3
   },
   "file_extension": ".py",
   "mimetype": "text/x-python",
   "name": "python",
   "nbconvert_exporter": "python",
   "pygments_lexer": "ipython3",
   "version": "3.10.4"
  }
 },
 "nbformat": 4,
 "nbformat_minor": 5
}
