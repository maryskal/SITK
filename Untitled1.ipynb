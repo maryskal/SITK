{
 "cells": [
  {
   "cell_type": "code",
   "execution_count": 9,
   "id": "22ede765",
   "metadata": {},
   "outputs": [],
   "source": [
    "import SimpleITK as sitk\n",
    "import numpy as np\n",
    "import radiomics as py\n",
    "import os"
   ]
  },
  {
   "cell_type": "code",
   "execution_count": 10,
   "id": "1fda9d5d",
   "metadata": {},
   "outputs": [],
   "source": [
    "image_viewer = sitk.ImageViewer()"
   ]
  },
  {
   "cell_type": "code",
   "execution_count": 11,
   "id": "7fedb525",
   "metadata": {},
   "outputs": [],
   "source": [
    "slicer = 'D:/Users/maryskal/Slicer 5.0.2/Slicer.exe'\n",
    "# slicer = '/home/maryskal/Slicer/Slicer'\n",
    "image_viewer.SetApplication(slicer)"
   ]
  },
  {
   "cell_type": "code",
   "execution_count": 12,
   "id": "d5384a55",
   "metadata": {},
   "outputs": [],
   "source": [
    "ctFolder = 'Vessel_stencils'"
   ]
  },
  {
   "cell_type": "code",
   "execution_count": 13,
   "id": "f921a877",
   "metadata": {},
   "outputs": [],
   "source": [
    "ctPath = os.path.join(ctFolder,'10047G_INSP_STD_BWH_COPD.nrrd')\n",
    "mask_path = os.path.join(ctFolder, '10047G_INSP_STD_BWH_COPD','mask__lt5_artery_2')"
   ]
  },
  {
   "cell_type": "code",
   "execution_count": 15,
   "id": "bcaff6b4",
   "metadata": {},
   "outputs": [
    {
     "ename": "AttributeError",
     "evalue": "module 'radiomics' has no attribute 'featureextractor'",
     "output_type": "error",
     "traceback": [
      "\u001b[0;31m---------------------------------------------------------------------------\u001b[0m",
      "\u001b[0;31mAttributeError\u001b[0m                            Traceback (most recent call last)",
      "Input \u001b[0;32mIn [15]\u001b[0m, in \u001b[0;36m<cell line: 1>\u001b[0;34m()\u001b[0m\n\u001b[0;32m----> 1\u001b[0m extractor \u001b[38;5;241m=\u001b[39m \u001b[43mpy\u001b[49m\u001b[38;5;241;43m.\u001b[39;49m\u001b[43mfeatureextractor\u001b[49m\u001b[38;5;241m.\u001b[39mRadiomicsFeaturesExtractor()\n",
      "\u001b[0;31mAttributeError\u001b[0m: module 'radiomics' has no attribute 'featureextractor'"
     ]
    }
   ],
   "source": [
    "extractor = py.featureextractor.RadiomicsFeaturesExtractor()"
   ]
  },
  {
   "cell_type": "code",
   "execution_count": null,
   "id": "617262bc",
   "metadata": {},
   "outputs": [],
   "source": []
  }
 ],
 "metadata": {
  "kernelspec": {
   "display_name": "Python 3 (ipykernel)",
   "language": "python",
   "name": "python3"
  },
  "language_info": {
   "codemirror_mode": {
    "name": "ipython",
    "version": 3
   },
   "file_extension": ".py",
   "mimetype": "text/x-python",
   "name": "python",
   "nbconvert_exporter": "python",
   "pygments_lexer": "ipython3",
   "version": "3.10.4"
  }
 },
 "nbformat": 4,
 "nbformat_minor": 5
}
