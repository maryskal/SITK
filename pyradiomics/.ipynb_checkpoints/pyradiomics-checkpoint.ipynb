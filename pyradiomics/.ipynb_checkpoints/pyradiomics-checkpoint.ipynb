{
 "cells": [
  {
   "cell_type": "code",
   "execution_count": 1,
   "id": "22ede765",
   "metadata": {},
   "outputs": [],
   "source": [
    "import SimpleITK as sitk\n",
    "import numpy as np\n",
    "import os\n",
    "from radiomics import featureextractor, getTestCase"
   ]
  },
  {
   "cell_type": "code",
   "execution_count": 2,
   "id": "1fda9d5d",
   "metadata": {},
   "outputs": [],
   "source": [
    "image_viewer = sitk.ImageViewer()"
   ]
  },
  {
   "cell_type": "code",
   "execution_count": 3,
   "id": "7fedb525",
   "metadata": {},
   "outputs": [],
   "source": [
    "#slicer = 'D:/Users/maryskal/Slicer 5.0.2/Slicer.exe'\n",
    "slicer = '/home/maryskal/Slicer/Slicer'\n",
    "image_viewer.SetApplication(slicer)"
   ]
  },
  {
   "cell_type": "markdown",
   "id": "54d5b81e-b618-4f90-bde9-fbcd39d9353d",
   "metadata": {},
   "source": [
    "# EXTRACTOR\n",
    "Creamos un extractor default, luego vamos a ver como se pueden ajustar parámetros"
   ]
  },
  {
   "cell_type": "code",
   "execution_count": 6,
   "id": "bcaff6b4",
   "metadata": {},
   "outputs": [],
   "source": [
    "extractor = featureextractor.RadiomicsFeatureExtractor()"
   ]
  },
  {
   "cell_type": "markdown",
   "id": "63e2fe9a-574b-46ec-af4a-e1297fb5111c",
   "metadata": {},
   "source": [
    "## IMAGE TYPES"
   ]
  },
  {
   "cell_type": "code",
   "execution_count": 7,
   "id": "4a00118b-9c5a-4db9-83f8-a34b766795b3",
   "metadata": {},
   "outputs": [
    {
     "data": {
      "text/plain": [
       "{'Original': {}}"
      ]
     },
     "execution_count": 7,
     "metadata": {},
     "output_type": "execute_result"
    }
   ],
   "source": [
    "extractor.enabledImagetypes"
   ]
  },
  {
   "cell_type": "markdown",
   "id": "42817314-8ca2-4269-af95-a7a85503c5ba",
   "metadata": {},
   "source": [
    "Es una lista de tipos de imagenes que se van a analizar. Siempre se analiza la original, pero a esta se le pueden aplicar filtros y se vuelven a calcular todas las características tambien sobre esos filtros"
   ]
  },
  {
   "cell_type": "markdown",
   "id": "e8ec7469-5ef2-47e8-979d-2c01c2792022",
   "metadata": {},
   "source": [
    "### Enable y disable all"
   ]
  },
  {
   "cell_type": "code",
   "execution_count": 8,
   "id": "3af56c6e-406e-4216-8058-6beaa139b30e",
   "metadata": {},
   "outputs": [
    {
     "data": {
      "text/plain": [
       "{}"
      ]
     },
     "execution_count": 8,
     "metadata": {},
     "output_type": "execute_result"
    }
   ],
   "source": [
    "extractor.disableAllImageTypes()\n",
    "extractor.enabledImagetypes"
   ]
  },
  {
   "cell_type": "code",
   "execution_count": 9,
   "id": "1e0607da-fb39-4828-ba43-58634bd7a163",
   "metadata": {},
   "outputs": [
    {
     "data": {
      "text/plain": [
       "{'Exponential': {},\n",
       " 'Gradient': {},\n",
       " 'LBP2D': {},\n",
       " 'LBP3D': {},\n",
       " 'LoG': {},\n",
       " 'Logarithm': {},\n",
       " 'Original': {},\n",
       " 'Square': {},\n",
       " 'SquareRoot': {},\n",
       " 'Wavelet': {}}"
      ]
     },
     "execution_count": 9,
     "metadata": {},
     "output_type": "execute_result"
    }
   ],
   "source": [
    "extractor.enableAllImageTypes()\n",
    "extractor.enabledImagetypes"
   ]
  },
  {
   "cell_type": "markdown",
   "id": "7b4ce552-c17e-405f-9a82-51aec40dba9c",
   "metadata": {},
   "source": [
    "Las que mas se utilizan son **Original**, **Wavelt** y **LoG**"
   ]
  },
  {
   "cell_type": "code",
   "execution_count": 10,
   "id": "4030cc21-aac2-4b9a-964d-ac24186d3acc",
   "metadata": {},
   "outputs": [],
   "source": [
    "### Enable y disable por tipos"
   ]
  },
  {
   "cell_type": "code",
   "execution_count": 11,
   "id": "22304532-81c0-481d-a6ea-47abc224406f",
   "metadata": {},
   "outputs": [
    {
     "data": {
      "text/plain": [
       "{'Original': {}}"
      ]
     },
     "execution_count": 11,
     "metadata": {},
     "output_type": "execute_result"
    }
   ],
   "source": [
    "extractor.disableAllImageTypes()\n",
    "extractor.enableImageTypeByName('Original')\n",
    "extractor.enabledImagetypes"
   ]
  },
  {
   "cell_type": "code",
   "execution_count": 12,
   "id": "401a09ef-033e-4015-9365-2b7a185b4fc0",
   "metadata": {},
   "outputs": [
    {
     "data": {
      "text/plain": [
       "{'Original': {}, 'Wavelet': {}, 'LoG': {}}"
      ]
     },
     "execution_count": 12,
     "metadata": {},
     "output_type": "execute_result"
    }
   ],
   "source": [
    "extractor.enableImageTypeByName('Wavelet')\n",
    "extractor.enableImageTypeByName('LoG')\n",
    "extractor.enabledImagetypes"
   ]
  },
  {
   "cell_type": "markdown",
   "id": "3e42c67c-1741-4e7a-82ba-09db4668f632",
   "metadata": {},
   "source": [
    "## SETTINGS"
   ]
  },
  {
   "cell_type": "code",
   "execution_count": 13,
   "id": "264332c9-0165-44de-b0f0-8c49039aee64",
   "metadata": {},
   "outputs": [
    {
     "data": {
      "text/plain": [
       "{'minimumROIDimensions': 2,\n",
       " 'minimumROISize': None,\n",
       " 'normalize': False,\n",
       " 'normalizeScale': 1,\n",
       " 'removeOutliers': None,\n",
       " 'resampledPixelSpacing': None,\n",
       " 'interpolator': 'sitkBSpline',\n",
       " 'preCrop': False,\n",
       " 'padDistance': 5,\n",
       " 'distances': [1],\n",
       " 'force2D': False,\n",
       " 'force2Ddimension': 0,\n",
       " 'resegmentRange': None,\n",
       " 'label': 1,\n",
       " 'additionalInfo': True}"
      ]
     },
     "execution_count": 13,
     "metadata": {},
     "output_type": "execute_result"
    }
   ],
   "source": [
    "extractor.settings"
   ]
  },
  {
   "cell_type": "markdown",
   "id": "cb01d6a4-2749-4992-9df3-0ffb235f0ee9",
   "metadata": {},
   "source": [
    "Esto determina como se van a extraer las características. \n",
    "\n",
    "Existen los siguientes settings:\n",
    "\n",
    "- **A. Feature extractor level**\n",
    "    - ***Image normalization***\n",
    "        - normalize\n",
    "        - normalizeScale\n",
    "        - removeOutliers\n",
    "    - ***Resampling image/mask***\n",
    "        - resampledPixelSpacing\n",
    "        - interpolator\n",
    "        - padDistance\n",
    "    - ***Pre-Cropping***\n",
    "        - preCrop\n",
    "    - ***Resegmentation***\n",
    "        - resegmentRange\n",
    "        - resegmentMode\n",
    "        - resegmentShape\n",
    "    - ***Mask validation***\n",
    "        - minimumROIDimensions\n",
    "        - minimumROISize\n",
    "        - geometryTolerance\n",
    "        - correctMask\n",
    "    - ***Miscellaneous***\n",
    "        - additionalInfo\n",
    "- **B. Filter level**\n",
    "    - ***Laplacian of Gaussian settings***\n",
    "        - sigma\n",
    "    - ***Wavelet settings***\n",
    "        - start_level\n",
    "        - level\n",
    "        - wavelet\n",
    "    - ***Gradient settings***\n",
    "        - gradientUseSpacing\n",
    "    - ***Local Binary Pattern 2D***\n",
    "        - lbp2DRadius\n",
    "        - lbp2DSamples\n",
    "        - lbp2DMethod\n",
    "    - ***Local Binary Pattern 3D***\n",
    "        - lbp3DLevels\n",
    "        - lbp3DIcosphereRadius\n",
    "        - lbp3DIcosphereSubdivision\n",
    "\n",
    "- **C. Feature Class Level**\n",
    "    - Label\n",
    "    - ***Image discretization***\n",
    "        - binWidth\n",
    "        - binCount\n",
    "    - ***Forced 2D extraction***\n",
    "        - force2D\n",
    "        - force2Ddimension\n",
    "    - ***Texture matrix weighting***\n",
    "        - weightingNorm\n",
    "    - ***Distance to neighbour***\n",
    "        - distances\n",
    "- **D. Feature Class Specific Settings**\n",
    "    - ***First Order***\n",
    "        - voxelArrayShift\n",
    "    - ***GLCM***\n",
    "        - symmetricalGLCM\n",
    "    - ***GLDM***\n",
    "        - gldm_a\n",
    "- **E. Voxel-based specific settings**\n",
    "    - kernelRadius\n",
    "    - maskedKernel\n",
    "    - initValue\n",
    "    - voxelBatch"
   ]
  },
  {
   "cell_type": "markdown",
   "id": "ec0ef8b5-a4ae-4c91-9cab-6fe79311031a",
   "metadata": {},
   "source": [
    "Los settings los podemos definir en un diccionario y luego inicializar el extractor"
   ]
  },
  {
   "cell_type": "code",
   "execution_count": 14,
   "id": "f14d3aa0-f77c-468c-8162-bd754011587f",
   "metadata": {},
   "outputs": [],
   "source": [
    "settings = {}\n",
    "settings['binWidth'] = 20\n",
    "settings['sigma'] = [1, 2, 3]"
   ]
  },
  {
   "cell_type": "code",
   "execution_count": 15,
   "id": "97141da1-6d5e-4bb8-85a9-01c2b983b811",
   "metadata": {},
   "outputs": [
    {
     "data": {
      "text/plain": [
       "{'minimumROIDimensions': 2,\n",
       " 'minimumROISize': None,\n",
       " 'normalize': False,\n",
       " 'normalizeScale': 1,\n",
       " 'removeOutliers': None,\n",
       " 'resampledPixelSpacing': None,\n",
       " 'interpolator': 'sitkBSpline',\n",
       " 'preCrop': False,\n",
       " 'padDistance': 5,\n",
       " 'distances': [1],\n",
       " 'force2D': False,\n",
       " 'force2Ddimension': 0,\n",
       " 'resegmentRange': None,\n",
       " 'label': 1,\n",
       " 'additionalInfo': True,\n",
       " 'binWidth': 20,\n",
       " 'sigma': [1, 2, 3]}"
      ]
     },
     "execution_count": 15,
     "metadata": {},
     "output_type": "execute_result"
    }
   ],
   "source": [
    "extractor = featureextractor.RadiomicsFeatureExtractor(**settings)\n",
    "extractor.settings"
   ]
  },
  {
   "cell_type": "markdown",
   "id": "ff54d8f3-6142-4d4c-b7c0-a3e72fe7c951",
   "metadata": {},
   "source": [
    "Tambien se pueden introducir de esta manera"
   ]
  },
  {
   "cell_type": "code",
   "execution_count": 16,
   "id": "95868915-167e-4f65-b80d-ed423a75f785",
   "metadata": {},
   "outputs": [
    {
     "data": {
      "text/plain": [
       "{'minimumROIDimensions': 2,\n",
       " 'minimumROISize': None,\n",
       " 'normalize': False,\n",
       " 'normalizeScale': 1,\n",
       " 'removeOutliers': None,\n",
       " 'resampledPixelSpacing': None,\n",
       " 'interpolator': 'sitkBSpline',\n",
       " 'preCrop': False,\n",
       " 'padDistance': 5,\n",
       " 'distances': [1],\n",
       " 'force2D': False,\n",
       " 'force2Ddimension': 0,\n",
       " 'resegmentRange': None,\n",
       " 'label': 1,\n",
       " 'additionalInfo': True,\n",
       " 'binWidth': 20,\n",
       " 'sigma': [1, 2, 3]}"
      ]
     },
     "execution_count": 16,
     "metadata": {},
     "output_type": "execute_result"
    }
   ],
   "source": [
    "extractor = featureextractor.RadiomicsFeatureExtractor(binWidth=20, sigma=[1, 2, 3])\n",
    "extractor.settings"
   ]
  },
  {
   "cell_type": "markdown",
   "id": "157f87d9-d7bc-4691-90d1-478496c989fc",
   "metadata": {},
   "source": [
    "## FEATURES\n",
    "Son las características que vamos a extraer"
   ]
  },
  {
   "cell_type": "code",
   "execution_count": 17,
   "id": "08c19580-2b05-4f2d-ae3f-688c2354fd09",
   "metadata": {},
   "outputs": [
    {
     "data": {
      "text/plain": [
       "{'firstorder': [],\n",
       " 'glcm': [],\n",
       " 'gldm': [],\n",
       " 'glrlm': [],\n",
       " 'glszm': [],\n",
       " 'ngtdm': [],\n",
       " 'shape': []}"
      ]
     },
     "execution_count": 17,
     "metadata": {},
     "output_type": "execute_result"
    }
   ],
   "source": [
    "extractor.enabledFeatures"
   ]
  },
  {
   "cell_type": "markdown",
   "id": "95195f4d-a503-473c-9666-da2b9e937fb2",
   "metadata": {},
   "source": [
    "- **A. First order**\n",
    "    - energy\n",
    "    - total energy\n",
    "    - entropy\n",
    "    - minimum\n",
    "    - 10th percentile\n",
    "    - 90th percentile\n",
    "    - maximum\n",
    "    - mean\n",
    "    - median\n",
    "    - IQR\n",
    "    - range\n",
    "    - mean absolute deviation\n",
    "    - robust mean absolute deviation\n",
    "    - roob mean square\n",
    "    - standar deviation\n",
    "    - Skewness\n",
    "    - kurtosis\n",
    "    - variance\n",
    "    - uniformity\n",
    "- **B. Shape**\n",
    "    - Shape 3D\n",
    "        - mesh volume\n",
    "        - voxel volume\n",
    "        - surface area\n",
    "        - surface area / volume ratio\n",
    "        - sphericity\n",
    "        - compactness 1\n",
    "        - compactness 2\n",
    "        - spherical disproportion\n",
    "        - maximum 3D diameter\n",
    "        - maximum 2D diameter (slice)\n",
    "        - maximum 2D diameter (column)\n",
    "        - maximum 2D diameter (row)\n",
    "        - major axis length\n",
    "        - minor axis length\n",
    "        - least axis length\n",
    "        - elongation\n",
    "        - flatness\n",
    "    - Shape 2D\n",
    "        - mesh surface\n",
    "        - pixel surface\n",
    "        - perimeter\n",
    "        - perimeter surface ratio\n",
    "        - sphericity\n",
    "        - spherical disproportion\n",
    "        - maximum 2D diameter\n",
    "        - major axis length\n",
    "        - minor axis length\n",
    "        - elongation\n",
    "- **C. Gray level Co-ocurrence (GLCM)**\n",
    "    - Autocorrelation\n",
    "    - Joint Average\n",
    "    - Cluster Shade\n",
    "    - Cluster Tendency\n",
    "    - Contrast\n",
    "    - Correlation\n",
    "    - Difference average\n",
    "    - Difference entropy\n",
    "    - Difference variance\n",
    "    - Join energy\n",
    "    - Join entropy\n",
    "    - Information measure of corrrelation (IMC 1)\n",
    "    - IMC 2\n",
    "    - Inverse difference moment (IDM)\n",
    "    - Maximal correlation coefficient (MCC)\n",
    "    - Inverse difference moment normalized (IDMN)\n",
    "    - Inverse difference (ID)\n",
    "    - Inverse difference normalized (IDN)\n",
    "    - Inverse variance\n",
    "    - Maximum probability\n",
    "    - Sum average\n",
    "    - Sum entropy\n",
    "    - Sum of squares\n",
    "- **D. Gray level size zone matrix (GLSZM)**\n",
    "    - Small area emphasis (SAE)\n",
    "    - Large area emphasis (LAE)\n",
    "    - Gray level non-uniformity (GLN)\n",
    "    - Gray level non-uniformity normalized (GLNN)\n",
    "    - Size zone non uniformity (SZN)\n",
    "    - Size zone non-uniformity normalized (SZNN)\n",
    "    - Zone percentage (ZP)\n",
    "    - Gray level variance (GLV)\n",
    "    - Zone variance (ZV)\n",
    "    - Zone entropy (ZE)\n",
    "    - Low gray level zone emphasis (LGLZE)\n",
    "    - High gray level zone emphasis (HGLZE)\n",
    "    - Small area high gray level emphasis (SAHGLE)\n",
    "    - Large area high gray level emphasis (LAHGLE)\n",
    "- **E. Gray level run length matrix (GLRLM)**\n",
    "    - Short run emphasis (SRE)\n",
    "    - Long run emphasis (LRE)\n",
    "    - Gray level non-uniformity (GLN)\n",
    "    - Gray level non-uniformity normalized (GLNN)\n",
    "    - Run lengh non-uniformity (RLN)\n",
    "    - Run lengh non-uniformity normalized (RLNN)\n",
    "    - Run percentage (RP)\n",
    "    - Gray level variance (GLV)\n",
    "    - Run variance (RV)\n",
    "    - Run entropy (RE)\n",
    "    - Low gray level run enphasis (LGLRE)\n",
    "    - High gray level run emphasis (HGLRE)\n",
    "    - Short run low gray level emphasis (SRLGLE)\n",
    "    - Short run high gray level emphasis (SRLGLE)\n",
    "    - Long run low gray level emphasis (LRLGLE)\n",
    "    - Long run high gray level emphasis (LRHGLE)\n",
    "- **F. Neighbouring gray tone difference matrix (NGTDM)**\n",
    "    - Coases\n",
    "    - Contrast\n",
    "    - Busyness\n",
    "    - Complexity\n",
    "    - Strength\n",
    "- **G. Gray level dependence matrix (GLMD)**\n",
    "    - Small dependence emphasis (SDE)\n",
    "    - Large dependence emphasis (LDE)\n",
    "    - Gray level non-uniformity (GLN)\n",
    "    - Dependence non-uniformity (DN)\n",
    "    - Dependence non-uniformity normalized (DNN)\n",
    "    - Dependence variance (DV)\n",
    "    - Dependence entropy (DE)\n",
    "    - Low gray level emphasis (LGLE)\n",
    "    - High gray level emphasis (HGLE)\n",
    "    - Small dependences low gray level emphasis (SDLGLE)\n",
    "    - Small dependences high gray leve emphasis (SDHGLE)\n",
    "    - Large dependences low gray level emphasis (LDLGLE)\n",
    "    - Large dependences high gray level emphasis (LDHGLE)"
   ]
  },
  {
   "cell_type": "markdown",
   "id": "d7059288-974f-4527-85ee-b3434d2284be",
   "metadata": {},
   "source": [
    "## TODAS"
   ]
  },
  {
   "cell_type": "markdown",
   "id": "dca70540-e8ac-4386-b770-32478c46407c",
   "metadata": {},
   "source": [
    "Todas estas cosas se pueden añadir como un diccionario"
   ]
  },
  {
   "cell_type": "code",
   "execution_count": 18,
   "id": "aa30bd4a-34cf-4e5c-9a83-e6d6706da343",
   "metadata": {},
   "outputs": [],
   "source": [
    "datos = {'setting': {\n",
    "            'binWidth': 25,\n",
    "            'label': 1,\n",
    "            'interpolator': 'sitkBSpline',\n",
    "            'resampledPixelSpacing': None,\n",
    "            'weightingNorm': None},\n",
    "        'imageType': {\n",
    "            'Original': {}},\n",
    "        'featureClass': {\n",
    "            'shape': None,\n",
    "            'firstorder': [],\n",
    "            'glcm': None,\n",
    "            'glrlm': None,\n",
    "            'glszm': None,\n",
    "            'gldm': None}}"
   ]
  },
  {
   "cell_type": "code",
   "execution_count": 19,
   "id": "d3655dcd-505a-4367-b4f5-7d2ded38f4f5",
   "metadata": {},
   "outputs": [],
   "source": [
    "extractor = featureextractor.RadiomicsFeatureExtractor(datos)"
   ]
  },
  {
   "cell_type": "markdown",
   "id": "c0130a77-a833-4da6-9255-00be90390452",
   "metadata": {},
   "source": [
    "# EXTRACCIÓN\n",
    "## Arterias de <5 mm² con 2 mm de espacio perivascuar"
   ]
  },
  {
   "cell_type": "code",
   "execution_count": 4,
   "id": "38c0c58d-e013-4cbc-a2af-d29493c1ae5b",
   "metadata": {},
   "outputs": [],
   "source": [
    "ctFolder = '/home/maryskal/Documents/SITK/Vessel_stencils'\n",
    "ctPath = os.path.join(ctFolder,'10047G_INSP_STD_BWH_COPD.nrrd')\n",
    "maskPath = os.path.join(ctFolder, '10047G_INSP_STD_BWH_COPD','mask__lt5_artery_2.nrrd')"
   ]
  },
  {
   "cell_type": "code",
   "execution_count": 5,
   "id": "9991ef21-efb3-40b1-afb2-d6c3b3614aac",
   "metadata": {},
   "outputs": [],
   "source": [
    "ct = sitk.ReadImage(ctPath)\n",
    "mask = sitk.ReadImage(maskPath)"
   ]
  },
  {
   "cell_type": "markdown",
   "id": "da18eade-90b5-4d96-8b87-3e6c3a861921",
   "metadata": {},
   "source": [
    "### Original firstorder"
   ]
  },
  {
   "cell_type": "code",
   "execution_count": 6,
   "id": "395fdeac-a89b-4581-b291-3e11dd1000c4",
   "metadata": {},
   "outputs": [
    {
     "data": {
      "text/plain": [
       "{'Original': {}}"
      ]
     },
     "execution_count": 6,
     "metadata": {},
     "output_type": "execute_result"
    }
   ],
   "source": [
    "extractor = featureextractor.RadiomicsFeatureExtractor()\n",
    "extractor.enabledImagetypes"
   ]
  },
  {
   "cell_type": "code",
   "execution_count": 7,
   "id": "125c0ae0-3e50-4d56-a942-21bc970ff2cb",
   "metadata": {},
   "outputs": [
    {
     "data": {
      "text/plain": [
       "{'firstorder': [],\n",
       " 'glcm': [],\n",
       " 'gldm': [],\n",
       " 'glrlm': [],\n",
       " 'glszm': [],\n",
       " 'ngtdm': [],\n",
       " 'shape': []}"
      ]
     },
     "execution_count": 7,
     "metadata": {},
     "output_type": "execute_result"
    }
   ],
   "source": [
    "extractor.enabledFeatures"
   ]
  },
  {
   "cell_type": "code",
   "execution_count": 8,
   "id": "990e568c-5e0d-4d12-9d9e-47fb39447be2",
   "metadata": {},
   "outputs": [],
   "source": [
    "extractor.disableAllFeatures()"
   ]
  },
  {
   "cell_type": "code",
   "execution_count": 9,
   "id": "b37c710f-cbe9-4d8d-93de-fc1d52921d6e",
   "metadata": {},
   "outputs": [
    {
     "data": {
      "text/plain": [
       "{'firstorder': []}"
      ]
     },
     "execution_count": 9,
     "metadata": {},
     "output_type": "execute_result"
    }
   ],
   "source": [
    "extractor.enableFeatureClassByName('firstorder')\n",
    "extractor.enabledFeatures"
   ]
  },
  {
   "cell_type": "code",
   "execution_count": 10,
   "id": "bf72df8e-7771-458e-b908-5628c56beff9",
   "metadata": {},
   "outputs": [
    {
     "data": {
      "text/plain": [
       "OrderedDict([('diagnostics_Versions_PyRadiomics', 'v3.0.1'),\n",
       "             ('diagnostics_Versions_Numpy', '1.22.3'),\n",
       "             ('diagnostics_Versions_SimpleITK', '2.1.1.2'),\n",
       "             ('diagnostics_Versions_PyWavelet', '1.3.0'),\n",
       "             ('diagnostics_Versions_Python', '3.10.4'),\n",
       "             ('diagnostics_Configuration_Settings',\n",
       "              {'minimumROIDimensions': 2,\n",
       "               'minimumROISize': None,\n",
       "               'normalize': False,\n",
       "               'normalizeScale': 1,\n",
       "               'removeOutliers': None,\n",
       "               'resampledPixelSpacing': None,\n",
       "               'interpolator': 'sitkBSpline',\n",
       "               'preCrop': False,\n",
       "               'padDistance': 5,\n",
       "               'distances': [1],\n",
       "               'force2D': False,\n",
       "               'force2Ddimension': 0,\n",
       "               'resegmentRange': None,\n",
       "               'label': 1,\n",
       "               'additionalInfo': True}),\n",
       "             ('diagnostics_Configuration_EnabledImageTypes', {'Original': {}}),\n",
       "             ('diagnostics_Image-original_Hash',\n",
       "              '2fd1d2407bc8f718adff2ce3fe0d26beb9371959'),\n",
       "             ('diagnostics_Image-original_Dimensionality', '3D'),\n",
       "             ('diagnostics_Image-original_Spacing', (0.621094, 0.621094, 0.5)),\n",
       "             ('diagnostics_Image-original_Size', (512, 512, 653)),\n",
       "             ('diagnostics_Image-original_Mean', -435.4845984956937),\n",
       "             ('diagnostics_Image-original_Minimum', -1024.0),\n",
       "             ('diagnostics_Image-original_Maximum', 3071.0),\n",
       "             ('diagnostics_Mask-original_Hash',\n",
       "              '248ea8cb274c67c7772768a00004928c26e22776'),\n",
       "             ('diagnostics_Mask-original_Spacing', (0.621094, 0.621094, 0.5)),\n",
       "             ('diagnostics_Mask-original_Size', (512, 512, 653)),\n",
       "             ('diagnostics_Mask-original_BoundingBox',\n",
       "              (106, 89, 149, 362, 359, 474)),\n",
       "             ('diagnostics_Mask-original_VoxelNum', 3012095),\n",
       "             ('diagnostics_Mask-original_VolumeNum', 381),\n",
       "             ('diagnostics_Mask-original_CenterOfMassIndex',\n",
       "              (270.90186033309044, 284.86643581958737, 388.3782706056748)),\n",
       "             ('diagnostics_Mask-original_CenterOfMass',\n",
       "              (-0.4334799582795199, -150.7601659110692, -121.8108646971626)),\n",
       "             ('original_firstorder_10Percentile', array(-935.)),\n",
       "             ('original_firstorder_90Percentile', array(-743.)),\n",
       "             ('original_firstorder_Energy', array(2.21381758e+12)),\n",
       "             ('original_firstorder_Entropy', array(3.56611275)),\n",
       "             ('original_firstorder_InterquartileRange', array(86.)),\n",
       "             ('original_firstorder_Kurtosis', array(19.30351858)),\n",
       "             ('original_firstorder_Maximum', array(847.)),\n",
       "             ('original_firstorder_MeanAbsoluteDeviation', array(67.74334783)),\n",
       "             ('original_firstorder_Mean', array(-850.95623345)),\n",
       "             ('original_firstorder_Median', array(-878.)),\n",
       "             ('original_firstorder_Minimum', array(-1024.)),\n",
       "             ('original_firstorder_Range', array(1871.)),\n",
       "             ('original_firstorder_RobustMeanAbsoluteDeviation',\n",
       "              array(37.95319337)),\n",
       "             ('original_firstorder_RootMeanSquared', array(857.30742109)),\n",
       "             ('original_firstorder_Skewness', array(3.13424526)),\n",
       "             ('original_firstorder_TotalEnergy', array(4.26998651e+11)),\n",
       "             ('original_firstorder_Uniformity', array(0.11587951)),\n",
       "             ('original_firstorder_Variance', array(10849.50300415))])"
      ]
     },
     "execution_count": 10,
     "metadata": {},
     "output_type": "execute_result"
    }
   ],
   "source": [
    "result = extractor.execute(ct, mask)\n",
    "result"
   ]
  },
  {
   "cell_type": "code",
   "execution_count": 11,
   "id": "b2935471-8a75-4c84-9b96-7591a49be672",
   "metadata": {},
   "outputs": [],
   "source": [
    "# Sacamos los nombres que empiecen por original y creamos un diccionario solo con esas features\n",
    "feature_names = list(sorted(filter(lambda k: k.startswith(\"original_\"), result)))\n",
    "features = {}\n",
    "for feature in feature_names:\n",
    "    features[feature] = result[feature]"
   ]
  },
  {
   "cell_type": "markdown",
   "id": "3861637c-6914-452b-8a78-d3963e96e58f",
   "metadata": {},
   "source": [
    "### Original gray level run length matrix "
   ]
  },
  {
   "cell_type": "code",
   "execution_count": 12,
   "id": "87a65faa-c226-4e21-849d-ace3ccf91f76",
   "metadata": {},
   "outputs": [
    {
     "data": {
      "text/plain": [
       "{'glrlm': []}"
      ]
     },
     "execution_count": 12,
     "metadata": {},
     "output_type": "execute_result"
    }
   ],
   "source": [
    "extractor.disableAllFeatures()\n",
    "extractor.enableFeatureClassByName('glrlm')\n",
    "extractor.enabledFeatures"
   ]
  },
  {
   "cell_type": "code",
   "execution_count": 13,
   "id": "9854b220-53ec-4382-948b-a04e1d0028ea",
   "metadata": {},
   "outputs": [
    {
     "data": {
      "text/plain": [
       "OrderedDict([('diagnostics_Versions_PyRadiomics', 'v3.0.1'),\n",
       "             ('diagnostics_Versions_Numpy', '1.22.3'),\n",
       "             ('diagnostics_Versions_SimpleITK', '2.1.1.2'),\n",
       "             ('diagnostics_Versions_PyWavelet', '1.3.0'),\n",
       "             ('diagnostics_Versions_Python', '3.10.4'),\n",
       "             ('diagnostics_Configuration_Settings',\n",
       "              {'minimumROIDimensions': 2,\n",
       "               'minimumROISize': None,\n",
       "               'normalize': False,\n",
       "               'normalizeScale': 1,\n",
       "               'removeOutliers': None,\n",
       "               'resampledPixelSpacing': None,\n",
       "               'interpolator': 'sitkBSpline',\n",
       "               'preCrop': False,\n",
       "               'padDistance': 5,\n",
       "               'distances': [1],\n",
       "               'force2D': False,\n",
       "               'force2Ddimension': 0,\n",
       "               'resegmentRange': None,\n",
       "               'label': 1,\n",
       "               'additionalInfo': True}),\n",
       "             ('diagnostics_Configuration_EnabledImageTypes', {'Original': {}}),\n",
       "             ('diagnostics_Image-original_Hash',\n",
       "              '2fd1d2407bc8f718adff2ce3fe0d26beb9371959'),\n",
       "             ('diagnostics_Image-original_Dimensionality', '3D'),\n",
       "             ('diagnostics_Image-original_Spacing', (0.621094, 0.621094, 0.5)),\n",
       "             ('diagnostics_Image-original_Size', (512, 512, 653)),\n",
       "             ('diagnostics_Image-original_Mean', -435.4845984956937),\n",
       "             ('diagnostics_Image-original_Minimum', -1024.0),\n",
       "             ('diagnostics_Image-original_Maximum', 3071.0),\n",
       "             ('diagnostics_Mask-original_Hash',\n",
       "              '248ea8cb274c67c7772768a00004928c26e22776'),\n",
       "             ('diagnostics_Mask-original_Spacing', (0.621094, 0.621094, 0.5)),\n",
       "             ('diagnostics_Mask-original_Size', (512, 512, 653)),\n",
       "             ('diagnostics_Mask-original_BoundingBox',\n",
       "              (106, 89, 149, 362, 359, 474)),\n",
       "             ('diagnostics_Mask-original_VoxelNum', 3012095),\n",
       "             ('diagnostics_Mask-original_VolumeNum', 381),\n",
       "             ('diagnostics_Mask-original_CenterOfMassIndex',\n",
       "              (270.90186033309044, 284.86643581958737, 388.3782706056748)),\n",
       "             ('diagnostics_Mask-original_CenterOfMass',\n",
       "              (-0.4334799582795199, -150.7601659110692, -121.8108646971626)),\n",
       "             ('original_glrlm_GrayLevelNonUniformity', array(272047.64939677)),\n",
       "             ('original_glrlm_GrayLevelNonUniformityNormalized',\n",
       "              array(0.10785014)),\n",
       "             ('original_glrlm_GrayLevelVariance', array(19.16078651)),\n",
       "             ('original_glrlm_HighGrayLevelRunEmphasis', array(79.0052558)),\n",
       "             ('original_glrlm_LongRunEmphasis', array(1.69753695)),\n",
       "             ('original_glrlm_LongRunHighGrayLevelEmphasis',\n",
       "              array(109.54824408)),\n",
       "             ('original_glrlm_LongRunLowGrayLevelEmphasis', array(0.05798988)),\n",
       "             ('original_glrlm_LowGrayLevelRunEmphasis', array(0.03152833)),\n",
       "             ('original_glrlm_RunEntropy', array(4.39200513)),\n",
       "             ('original_glrlm_RunLengthNonUniformity',\n",
       "              array(1843219.65776262)),\n",
       "             ('original_glrlm_RunLengthNonUniformityNormalized',\n",
       "              array(0.72924789)),\n",
       "             ('original_glrlm_RunPercentage', array(0.83697639)),\n",
       "             ('original_glrlm_RunVariance', array(0.26260221)),\n",
       "             ('original_glrlm_ShortRunEmphasis', array(0.87795316)),\n",
       "             ('original_glrlm_ShortRunHighGrayLevelEmphasis',\n",
       "              array(73.31891655)),\n",
       "             ('original_glrlm_ShortRunLowGrayLevelEmphasis',\n",
       "              array(0.02696326))])"
      ]
     },
     "execution_count": 13,
     "metadata": {},
     "output_type": "execute_result"
    }
   ],
   "source": [
    "result = extractor.execute(ct, mask)\n",
    "result"
   ]
  },
  {
   "cell_type": "code",
   "execution_count": 14,
   "id": "574d7f2a-3183-44d6-a0b7-a9fb09839c3d",
   "metadata": {},
   "outputs": [],
   "source": [
    "feature_names = list(sorted(filter(lambda k: k.startswith(\"original_\"), result)))\n",
    "for feature in feature_names:\n",
    "    features[feature] = result[feature]"
   ]
  },
  {
   "cell_type": "markdown",
   "id": "9e4c7f24-98a8-4a4c-8d63-deab91999d35",
   "metadata": {},
   "source": [
    "### Original Neighbouring gray tone difference matrix"
   ]
  },
  {
   "cell_type": "code",
   "execution_count": 15,
   "id": "d4f4eada-f6f1-4b71-8558-f5f018838247",
   "metadata": {},
   "outputs": [
    {
     "data": {
      "text/plain": [
       "{'ngtdm': []}"
      ]
     },
     "execution_count": 15,
     "metadata": {},
     "output_type": "execute_result"
    }
   ],
   "source": [
    "extractor.disableAllFeatures()\n",
    "extractor.enableFeatureClassByName('ngtdm')\n",
    "extractor.enabledFeatures"
   ]
  },
  {
   "cell_type": "code",
   "execution_count": 16,
   "id": "3816884d-bdbf-4650-98d4-f5a09f9112c6",
   "metadata": {},
   "outputs": [
    {
     "data": {
      "text/plain": [
       "OrderedDict([('diagnostics_Versions_PyRadiomics', 'v3.0.1'),\n",
       "             ('diagnostics_Versions_Numpy', '1.22.3'),\n",
       "             ('diagnostics_Versions_SimpleITK', '2.1.1.2'),\n",
       "             ('diagnostics_Versions_PyWavelet', '1.3.0'),\n",
       "             ('diagnostics_Versions_Python', '3.10.4'),\n",
       "             ('diagnostics_Configuration_Settings',\n",
       "              {'minimumROIDimensions': 2,\n",
       "               'minimumROISize': None,\n",
       "               'normalize': False,\n",
       "               'normalizeScale': 1,\n",
       "               'removeOutliers': None,\n",
       "               'resampledPixelSpacing': None,\n",
       "               'interpolator': 'sitkBSpline',\n",
       "               'preCrop': False,\n",
       "               'padDistance': 5,\n",
       "               'distances': [1],\n",
       "               'force2D': False,\n",
       "               'force2Ddimension': 0,\n",
       "               'resegmentRange': None,\n",
       "               'label': 1,\n",
       "               'additionalInfo': True}),\n",
       "             ('diagnostics_Configuration_EnabledImageTypes', {'Original': {}}),\n",
       "             ('diagnostics_Image-original_Hash',\n",
       "              '2fd1d2407bc8f718adff2ce3fe0d26beb9371959'),\n",
       "             ('diagnostics_Image-original_Dimensionality', '3D'),\n",
       "             ('diagnostics_Image-original_Spacing', (0.621094, 0.621094, 0.5)),\n",
       "             ('diagnostics_Image-original_Size', (512, 512, 653)),\n",
       "             ('diagnostics_Image-original_Mean', -435.4845984956937),\n",
       "             ('diagnostics_Image-original_Minimum', -1024.0),\n",
       "             ('diagnostics_Image-original_Maximum', 3071.0),\n",
       "             ('diagnostics_Mask-original_Hash',\n",
       "              '248ea8cb274c67c7772768a00004928c26e22776'),\n",
       "             ('diagnostics_Mask-original_Spacing', (0.621094, 0.621094, 0.5)),\n",
       "             ('diagnostics_Mask-original_Size', (512, 512, 653)),\n",
       "             ('diagnostics_Mask-original_BoundingBox',\n",
       "              (106, 89, 149, 362, 359, 474)),\n",
       "             ('diagnostics_Mask-original_VoxelNum', 3012095),\n",
       "             ('diagnostics_Mask-original_VolumeNum', 381),\n",
       "             ('diagnostics_Mask-original_CenterOfMassIndex',\n",
       "              (270.90186033309044, 284.86643581958737, 388.3782706056748)),\n",
       "             ('diagnostics_Mask-original_CenterOfMass',\n",
       "              (-0.4334799582795199, -150.7601659110692, -121.8108646971626)),\n",
       "             ('original_ngtdm_Busyness', array(325.37988078)),\n",
       "             ('original_ngtdm_Coarseness', array(3.4086564e-06)),\n",
       "             ('original_ngtdm_Complexity', array(4890.6541096)),\n",
       "             ('original_ngtdm_Contrast', array(0.00788307)),\n",
       "             ('original_ngtdm_Strength', array(0.05655108))])"
      ]
     },
     "execution_count": 16,
     "metadata": {},
     "output_type": "execute_result"
    }
   ],
   "source": [
    "result = extractor.execute(ct, mask)\n",
    "result"
   ]
  },
  {
   "cell_type": "code",
   "execution_count": 17,
   "id": "727ae054-352d-42a7-baee-f10023a1e344",
   "metadata": {},
   "outputs": [],
   "source": [
    "feature_names = list(sorted(filter(lambda k: k.startswith(\"original_\"), result)))\n",
    "for feature in feature_names:\n",
    "    features[feature] = result[feature]"
   ]
  },
  {
   "cell_type": "code",
   "execution_count": 18,
   "id": "b507b568-04d0-4ee2-ad35-358c03ccd0b1",
   "metadata": {},
   "outputs": [
    {
     "data": {
      "text/plain": [
       "{'original_firstorder_10Percentile': array(-935.),\n",
       " 'original_firstorder_90Percentile': array(-743.),\n",
       " 'original_firstorder_Energy': array(2.21381758e+12),\n",
       " 'original_firstorder_Entropy': array(3.56611275),\n",
       " 'original_firstorder_InterquartileRange': array(86.),\n",
       " 'original_firstorder_Kurtosis': array(19.30351858),\n",
       " 'original_firstorder_Maximum': array(847.),\n",
       " 'original_firstorder_Mean': array(-850.95623345),\n",
       " 'original_firstorder_MeanAbsoluteDeviation': array(67.74334783),\n",
       " 'original_firstorder_Median': array(-878.),\n",
       " 'original_firstorder_Minimum': array(-1024.),\n",
       " 'original_firstorder_Range': array(1871.),\n",
       " 'original_firstorder_RobustMeanAbsoluteDeviation': array(37.95319337),\n",
       " 'original_firstorder_RootMeanSquared': array(857.30742109),\n",
       " 'original_firstorder_Skewness': array(3.13424526),\n",
       " 'original_firstorder_TotalEnergy': array(4.26998651e+11),\n",
       " 'original_firstorder_Uniformity': array(0.11587951),\n",
       " 'original_firstorder_Variance': array(10849.50300415),\n",
       " 'original_glrlm_GrayLevelNonUniformity': array(272047.64939677),\n",
       " 'original_glrlm_GrayLevelNonUniformityNormalized': array(0.10785014),\n",
       " 'original_glrlm_GrayLevelVariance': array(19.16078651),\n",
       " 'original_glrlm_HighGrayLevelRunEmphasis': array(79.0052558),\n",
       " 'original_glrlm_LongRunEmphasis': array(1.69753695),\n",
       " 'original_glrlm_LongRunHighGrayLevelEmphasis': array(109.54824408),\n",
       " 'original_glrlm_LongRunLowGrayLevelEmphasis': array(0.05798988),\n",
       " 'original_glrlm_LowGrayLevelRunEmphasis': array(0.03152833),\n",
       " 'original_glrlm_RunEntropy': array(4.39200513),\n",
       " 'original_glrlm_RunLengthNonUniformity': array(1843219.65776262),\n",
       " 'original_glrlm_RunLengthNonUniformityNormalized': array(0.72924789),\n",
       " 'original_glrlm_RunPercentage': array(0.83697639),\n",
       " 'original_glrlm_RunVariance': array(0.26260221),\n",
       " 'original_glrlm_ShortRunEmphasis': array(0.87795316),\n",
       " 'original_glrlm_ShortRunHighGrayLevelEmphasis': array(73.31891655),\n",
       " 'original_glrlm_ShortRunLowGrayLevelEmphasis': array(0.02696326),\n",
       " 'original_ngtdm_Busyness': array(325.37988078),\n",
       " 'original_ngtdm_Coarseness': array(3.4086564e-06),\n",
       " 'original_ngtdm_Complexity': array(4890.6541096),\n",
       " 'original_ngtdm_Contrast': array(0.00788307),\n",
       " 'original_ngtdm_Strength': array(0.05655108)}"
      ]
     },
     "execution_count": 18,
     "metadata": {},
     "output_type": "execute_result"
    }
   ],
   "source": [
    "features"
   ]
  }
 ],
 "metadata": {
  "kernelspec": {
   "display_name": "Python 3 (ipykernel)",
   "language": "python",
   "name": "python3"
  },
  "language_info": {
   "codemirror_mode": {
    "name": "ipython",
    "version": 3
   },
   "file_extension": ".py",
   "mimetype": "text/x-python",
   "name": "python",
   "nbconvert_exporter": "python",
   "pygments_lexer": "ipython3",
   "version": "3.10.4"
  }
 },
 "nbformat": 4,
 "nbformat_minor": 5
}
