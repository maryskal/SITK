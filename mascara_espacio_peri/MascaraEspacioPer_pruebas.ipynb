{
 "cells": [
  {
   "cell_type": "markdown",
   "id": "92499cab",
   "metadata": {},
   "source": [
    "# MASCARA ESPACIO PERIVASCULAR"
   ]
  },
  {
   "cell_type": "code",
   "execution_count": 3,
   "id": "25fbeed6",
   "metadata": {},
   "outputs": [],
   "source": [
    "import SimpleITK as sitk\n",
    "\n",
    "import numpy as np\n",
    "import os\n",
    "\n",
    "%matplotlib inline\n",
    "import matplotlib.pyplot as plt\n",
    "\n",
    "\n",
    "image_viewer = sitk.ImageViewer()"
   ]
  },
  {
   "cell_type": "code",
   "execution_count": 4,
   "id": "4bb74cac",
   "metadata": {},
   "outputs": [],
   "source": [
    "import pydicom as pyd"
   ]
  },
  {
   "cell_type": "markdown",
   "id": "54d67406",
   "metadata": {},
   "source": [
    "## Funciones"
   ]
  },
  {
   "cell_type": "code",
   "execution_count": 5,
   "id": "50a8910e",
   "metadata": {},
   "outputs": [],
   "source": [
    "def histo(img, itkIm = True):\n",
    "    if itkIm:\n",
    "        arr = sitk.GetArrayFromImage(img)\n",
    "    else:\n",
    "        arr = img\n",
    "    fig = plt.figure(figsize = (7,5))\n",
    "    ax = fig.gca()\n",
    "    ax.hist(arr.flatten(), bins = 255)\n",
    "    plt.show(fig)\n",
    "\n",
    "def plotImg(mg, color = 'gray'):\n",
    "    arr = sitk.GetArrayFromImage(img)\n",
    "    plt.imshow(arr, cmap = color)"
   ]
  },
  {
   "cell_type": "code",
   "execution_count": 6,
   "id": "daeca1a0",
   "metadata": {},
   "outputs": [],
   "source": [
    "from varname import nameof\n",
    "\n",
    "def newFileName(var1, var2):\n",
    "    '''\n",
    "    Create a string with the name of two variables\n",
    "    \n",
    "    Parameters\n",
    "    ----------\n",
    "    var1 (could be any variable)\n",
    "    var2 (could be any variable)\n",
    "    \n",
    "    Returns\n",
    "    -------\n",
    "    fileName (string): name of this two variables together.\n",
    "    '''\n",
    "    fileName = nameof(var1) + '_' + nameof(var2) + '.nrrd'\n",
    "    return fileName"
   ]
  },
  {
   "cell_type": "markdown",
   "id": "32a5efd6",
   "metadata": {},
   "source": [
    "# Cargar datos"
   ]
  },
  {
   "cell_type": "code",
   "execution_count": 8,
   "id": "c908be2c",
   "metadata": {},
   "outputs": [],
   "source": [
    "# fiji = 'D:/Users/maryskal/Slicer 5.0.2/Slicer.exe'\n",
    "slicer = '/home/maryskal/Slicer/Slicer'\n",
    "image_viewer.SetApplication(slicer)\n",
    "ctFolder = 'Vessel_stencils'"
   ]
  },
  {
   "cell_type": "markdown",
   "id": "708421d7",
   "metadata": {},
   "source": [
    "### Separar arterias y venas"
   ]
  },
  {
   "cell_type": "code",
   "execution_count": 9,
   "id": "4ce43754",
   "metadata": {},
   "outputs": [],
   "source": [
    "def separar(mask):\n",
    "    # vemos los valores diferentes que existen\n",
    "    arr = sitk.GetArrayFromImage(mask)\n",
    "    values = np.unique(arr)\n",
    "    values = values[values != 0]\n",
    "    \n",
    "    # sacamos una mascara por cada valor\n",
    "    masks = []\n",
    "    for value in values:\n",
    "        masks.append(mask == value)\n",
    "\n",
    "    return masks"
   ]
  },
  {
   "cell_type": "markdown",
   "id": "00717d0b",
   "metadata": {},
   "source": [
    "### Cargar\n",
    "En un paciente cargar sus mascaras, la total y la de arterias y venas"
   ]
  },
  {
   "cell_type": "code",
   "execution_count": 10,
   "id": "7a6b0fa0",
   "metadata": {},
   "outputs": [],
   "source": [
    "def paciente(ctPath: str, maskPaths: list):\n",
    "    pacienteDict = {}\n",
    "    pacienteDict['path'] = ctPath\n",
    "    pacienteDict['ct'] = sitk.ReadImage(ctPath)\n",
    "    for i, path in enumerate(maskPaths):\n",
    "        vesselMask = sitk.ReadImage(path)\n",
    "        pacienteDict['vessel_' + str(i)] = vesselMask\n",
    "        sep = separar(vesselMask)\n",
    "        pacienteDict['vessel_A_' + str(i)] = sep[0]\n",
    "        pacienteDict['vessel_B_' + str(i)] = sep[1]\n",
    "    pacienteDict['n_vessels'] = len(maskPaths)\n",
    "\n",
    "    return pacienteDict"
   ]
  },
  {
   "cell_type": "code",
   "execution_count": 8,
   "id": "bcf0bc0a",
   "metadata": {},
   "outputs": [],
   "source": [
    "ctPath = os.path.join(ctFolder,'10047G_INSP_STD_BWH_COPD.nrrd')\n",
    "maskPaths = [os.path.join(ctFolder,'10047G_INSP_STD_BWH_COPD_stenciledVesselLabelMap_full.nrrd'),\n",
    "             os.path.join(ctFolder,'10047G_INSP_STD_BWH_COPD_stenciledVesselLabelMap_CSA_lt5.nrrd'),\n",
    "             os.path.join(ctFolder,'10047G_INSP_STD_BWH_COPD_stenciledVesselLabelMap_CSA_gt20.nrrd')]"
   ]
  },
  {
   "cell_type": "code",
   "execution_count": 9,
   "id": "a3702d0f",
   "metadata": {},
   "outputs": [],
   "source": [
    "pacienteData = paciente(ctPath, maskPaths)"
   ]
  },
  {
   "cell_type": "code",
   "execution_count": 10,
   "id": "5c073f15",
   "metadata": {},
   "outputs": [
    {
     "data": {
      "text/plain": [
       "dict_keys(['path', 'ct', 'vessel_0', 'vessel_A_0', 'vessel_B_0', 'vessel_1', 'vessel_A_1', 'vessel_B_1', 'vessel_2', 'vessel_A_2', 'vessel_B_2', 'n_vessels'])"
      ]
     },
     "execution_count": 10,
     "metadata": {},
     "output_type": "execute_result"
    }
   ],
   "source": [
    "pacienteData.keys()"
   ]
  },
  {
   "cell_type": "markdown",
   "id": "fcc26cd9",
   "metadata": {},
   "source": [
    "## TC"
   ]
  },
  {
   "cell_type": "code",
   "execution_count": 11,
   "id": "95593138",
   "metadata": {},
   "outputs": [],
   "source": [
    "ct = pacienteData['ct']"
   ]
  },
  {
   "cell_type": "code",
   "execution_count": 12,
   "id": "5403c115",
   "metadata": {},
   "outputs": [],
   "source": [
    "image_viewer.Execute(ct)"
   ]
  },
  {
   "cell_type": "code",
   "execution_count": 13,
   "id": "8fb350ca",
   "metadata": {},
   "outputs": [
    {
     "data": {
      "image/png": "[encoded data removed]",
      "text/plain": [
       "<Figure size 504x360 with 1 Axes>"
      ]
     },
     "metadata": {
      "needs_background": "light"
     },
     "output_type": "display_data"
    }
   ],
   "source": [
    "histo(ct)"
   ]
  },
  {
   "cell_type": "markdown",
   "id": "2b2dc684",
   "metadata": {},
   "source": [
    "## Mascaras de vaso"
   ]
  },
  {
   "cell_type": "markdown",
   "id": "fc236967",
   "metadata": {},
   "source": [
    "***Mascara todos los vasos***"
   ]
  },
  {
   "cell_type": "code",
   "execution_count": 14,
   "id": "fa0f9c2e",
   "metadata": {},
   "outputs": [],
   "source": [
    "generalMask = pacienteData['vessel_0']"
   ]
  },
  {
   "cell_type": "code",
   "execution_count": 15,
   "id": "abf1ac47",
   "metadata": {},
   "outputs": [
    {
     "data": {
      "image/png": "[encoded data removed]",
      "text/plain": [
       "<Figure size 504x360 with 1 Axes>"
      ]
     },
     "metadata": {
      "needs_background": "light"
     },
     "output_type": "display_data"
    }
   ],
   "source": [
    "histo(generalMask)"
   ]
  },
  {
   "cell_type": "markdown",
   "id": "d3ea0fbc",
   "metadata": {},
   "source": [
    "***Mascara vasos 5 mm***"
   ]
  },
  {
   "cell_type": "code",
   "execution_count": 16,
   "id": "746e024d",
   "metadata": {},
   "outputs": [],
   "source": [
    "mask5 = pacienteData['vessel_1']"
   ]
  },
  {
   "cell_type": "code",
   "execution_count": 17,
   "id": "e9fff5e9",
   "metadata": {},
   "outputs": [],
   "source": [
    "image_viewer.Execute(mask5)"
   ]
  },
  {
   "cell_type": "markdown",
   "id": "09aad2db",
   "metadata": {},
   "source": [
    "***Mascara vasos 20 mm***"
   ]
  },
  {
   "cell_type": "code",
   "execution_count": 18,
   "id": "93435e95",
   "metadata": {},
   "outputs": [],
   "source": [
    "mask20 = pacienteData['vessel_2']"
   ]
  },
  {
   "cell_type": "markdown",
   "id": "c4a186a0",
   "metadata": {},
   "source": [
    "# Mapa de distancias a las mascaras"
   ]
  },
  {
   "cell_type": "markdown",
   "id": "20ae4f4d",
   "metadata": {},
   "source": [
    "## Mascara general"
   ]
  },
  {
   "cell_type": "markdown",
   "id": "1563810d",
   "metadata": {},
   "source": [
    "Hago la matriz de distancias sobre la mascara"
   ]
  },
  {
   "cell_type": "code",
   "execution_count": 19,
   "id": "44c5f732",
   "metadata": {},
   "outputs": [],
   "source": [
    "allDistances = sitk.SignedMaurerDistanceMap(generalMask, \n",
    "                                    insideIsPositive = False, \n",
    "                                    squaredDistance = False,\n",
    "                                    useImageSpacing=True)"
   ]
  },
  {
   "cell_type": "code",
   "execution_count": 97,
   "id": "cf61e3ae",
   "metadata": {},
   "outputs": [],
   "source": [
    "# allDistancesD = sitk.SignedDanielssonDistanceMap(generalMask, \n",
    "#                                     insideIsPositive = False, \n",
    "#                                     squaredDistance = False,\n",
    "#                                     useImageSpacing=True)"
   ]
  },
  {
   "cell_type": "code",
   "execution_count": 190,
   "id": "9fb58d2f",
   "metadata": {},
   "outputs": [
    {
     "data": {
      "text/plain": [
       "'32-bit float'"
      ]
     },
     "execution_count": 190,
     "metadata": {},
     "output_type": "execute_result"
    }
   ],
   "source": [
    "allDistances.GetPixelIDTypeAsString()"
   ]
  },
  {
   "cell_type": "code",
   "execution_count": 84,
   "id": "34eeceb4",
   "metadata": {},
   "outputs": [
    {
     "data": {
      "image/png": "[encoded data removed]",
      "text/plain": [
       "<Figure size 504x360 with 1 Axes>"
      ]
     },
     "metadata": {
      "needs_background": "light"
     },
     "output_type": "display_data"
    }
   ],
   "source": [
    "histo(allDistances)"
   ]
  },
  {
   "cell_type": "markdown",
   "id": "4830ad84",
   "metadata": {},
   "source": [
    "#### Espacio perivascular de 3 mm"
   ]
  },
  {
   "cell_type": "code",
   "execution_count": 187,
   "id": "a87f2c54",
   "metadata": {},
   "outputs": [],
   "source": [
    "distance3 = allDistances > 0 and allDistances < 3"
   ]
  },
  {
   "cell_type": "code",
   "execution_count": 191,
   "id": "83dcfd9c",
   "metadata": {},
   "outputs": [
    {
     "data": {
      "text/plain": [
       "'8-bit unsigned integer'"
      ]
     },
     "execution_count": 191,
     "metadata": {},
     "output_type": "execute_result"
    }
   ],
   "source": [
    "distance3.GetPixelIDTypeAsString()"
   ]
  },
  {
   "cell_type": "code",
   "execution_count": 48,
   "id": "002fbfa4",
   "metadata": {},
   "outputs": [
    {
     "data": {
      "image/png": "[encoded data removed]",
      "text/plain": [
       "<Figure size 504x360 with 1 Axes>"
      ]
     },
     "metadata": {
      "needs_background": "light"
     },
     "output_type": "display_data"
    }
   ],
   "source": [
    "histo(distance3)"
   ]
  },
  {
   "cell_type": "markdown",
   "id": "48a56e1c",
   "metadata": {},
   "source": [
    "Para mostrarlo lo multiplico por 3000 porque sino el 1 el programa lo muestra como negro"
   ]
  },
  {
   "cell_type": "code",
   "execution_count": 14,
   "id": "f4faa0b5",
   "metadata": {},
   "outputs": [],
   "source": [
    "image_viewer.Execute(distance3*3000)"
   ]
  },
  {
   "cell_type": "markdown",
   "id": "852b7210",
   "metadata": {},
   "source": [
    "No se porque se queda tambien con lo de dentro del vaso, asi que voy a tener que eliminarlo."
   ]
  },
  {
   "cell_type": "code",
   "execution_count": 196,
   "id": "604ea472",
   "metadata": {},
   "outputs": [],
   "source": [
    "def eliminarVaso(distance, mask):\n",
    "    # Hago el cast porque si no son del mismo tipo no me deja restar\n",
    "    new = sitk.Cast(distance, sitk.sitkUInt16) - mask\n",
    "    return new"
   ]
  },
  {
   "cell_type": "code",
   "execution_count": 197,
   "id": "fc643a1a",
   "metadata": {},
   "outputs": [],
   "source": [
    "distance3 = eliminarVaso(distance3, generalMask)"
   ]
  },
  {
   "cell_type": "code",
   "execution_count": 32,
   "id": "a799b46d",
   "metadata": {},
   "outputs": [],
   "source": [
    "image_viewer.Execute(distance3*3000)"
   ]
  },
  {
   "cell_type": "markdown",
   "id": "a64b07bd",
   "metadata": {},
   "source": [
    "Vemos que ahora el vaso ya no se coge con la máscara.\n",
    "\n",
    "Vamos a aplicar la mascara sobre el TC"
   ]
  },
  {
   "cell_type": "code",
   "execution_count": 54,
   "id": "a68be971",
   "metadata": {},
   "outputs": [],
   "source": [
    "def extractMask(ct, mask):\n",
    "    ct = sitk.GetArrayFromImage(ct)\n",
    "    mask = sitk.GetArrayFromImage(mask)\n",
    "    ct[mask == 0] = 0\n",
    "    return sitk.GetImageFromArray(ct)"
   ]
  },
  {
   "cell_type": "code",
   "execution_count": 55,
   "id": "20e59801",
   "metadata": {},
   "outputs": [],
   "source": [
    "ct3 = extractMask(ct, distance3)"
   ]
  },
  {
   "cell_type": "code",
   "execution_count": 56,
   "id": "714e2126",
   "metadata": {},
   "outputs": [],
   "source": [
    "image_viewer.Execute(ct3)"
   ]
  },
  {
   "cell_type": "markdown",
   "id": "1e7df864",
   "metadata": {},
   "source": [
    "## Comprobar los resultados negativos"
   ]
  },
  {
   "cell_type": "markdown",
   "id": "4fc81fb9",
   "metadata": {},
   "source": [
    "Mauler"
   ]
  },
  {
   "cell_type": "code",
   "execution_count": 98,
   "id": "c5fb7768",
   "metadata": {},
   "outputs": [],
   "source": [
    "ar = sitk.GetArrayFromImage(allDistances)\n",
    "ar = ar[ar<1]"
   ]
  },
  {
   "cell_type": "code",
   "execution_count": 99,
   "id": "18f4ec53",
   "metadata": {},
   "outputs": [
    {
     "data": {
      "image/png": "[encoded data removed]",
      "text/plain": [
       "<Figure size 504x360 with 1 Axes>"
      ]
     },
     "metadata": {
      "needs_background": "light"
     },
     "output_type": "display_data"
    }
   ],
   "source": [
    "histo(ar, False)"
   ]
  },
  {
   "cell_type": "markdown",
   "id": "186aee56",
   "metadata": {},
   "source": [
    "Daniel"
   ]
  },
  {
   "cell_type": "code",
   "execution_count": 100,
   "id": "c2ef5631",
   "metadata": {},
   "outputs": [],
   "source": [
    "ar = sitk.GetArrayFromImage(allDistancesD)\n",
    "ar = ar[ar<1]"
   ]
  },
  {
   "cell_type": "code",
   "execution_count": 101,
   "id": "b9a1c82f",
   "metadata": {},
   "outputs": [
    {
     "data": {
      "image/png": "[encoded data removed]",
      "text/plain": [
       "<Figure size 504x360 with 1 Axes>"
      ]
     },
     "metadata": {
      "needs_background": "light"
     },
     "output_type": "display_data"
    }
   ],
   "source": [
    "histo(ar, False)"
   ]
  },
  {
   "cell_type": "markdown",
   "id": "4375f1b4",
   "metadata": {},
   "source": [
    "Solo vasos grandes"
   ]
  },
  {
   "cell_type": "code",
   "execution_count": 102,
   "id": "9ea61a9c",
   "metadata": {},
   "outputs": [],
   "source": [
    "grandesVasos = generalMask - mask20"
   ]
  },
  {
   "cell_type": "code",
   "execution_count": 106,
   "id": "6e0ef941",
   "metadata": {},
   "outputs": [],
   "source": [
    "image_viewer.Execute(grandesVasos)"
   ]
  },
  {
   "cell_type": "code",
   "execution_count": 103,
   "id": "72482f02",
   "metadata": {},
   "outputs": [],
   "source": [
    "allDistances = sitk.SignedMaurerDistanceMap(grandesVasos, \n",
    "                                    insideIsPositive = False, \n",
    "                                    squaredDistance = False,\n",
    "                                    useImageSpacing=True)"
   ]
  },
  {
   "cell_type": "code",
   "execution_count": 104,
   "id": "97e4a793",
   "metadata": {},
   "outputs": [],
   "source": [
    "ar = sitk.GetArrayFromImage(allDistancesD)\n",
    "ar = ar[ar<1]"
   ]
  },
  {
   "cell_type": "code",
   "execution_count": 105,
   "id": "6f968612",
   "metadata": {},
   "outputs": [
    {
     "data": {
      "image/png": "[encoded data removed]",
      "text/plain": [
       "<Figure size 504x360 with 1 Axes>"
      ]
     },
     "metadata": {
      "needs_background": "light"
     },
     "output_type": "display_data"
    }
   ],
   "source": [
    "histo(ar, False)"
   ]
  },
  {
   "cell_type": "markdown",
   "id": "3a19459b",
   "metadata": {},
   "source": [
    "# AUTOMATIZAR EL PROCESO"
   ]
  },
  {
   "cell_type": "code",
   "execution_count": 20,
   "id": "d837861a",
   "metadata": {},
   "outputs": [],
   "source": [
    "import logging\n",
    "import sys\n",
    "\n",
    "# Configura el logging\n",
    "log_format = '[%(process)d]\\t%(asctime)s %(levelname)s: %(message)s'\n",
    "logging.basicConfig(format=log_format, level=logging.INFO, datefmt=\"%H:%M:%S\",\n",
    "                    handlers=[logging.StreamHandler(sys.stdout)])"
   ]
  },
  {
   "cell_type": "code",
   "execution_count": 72,
   "id": "eaa3adcf",
   "metadata": {},
   "outputs": [],
   "source": [
    "def eliminarVaso(distance, remove):\n",
    "    '''\n",
    "    Eliminate a vesel mask from a perivascular mask \n",
    "    \n",
    "    Parameters\n",
    "    ----------\n",
    "    distance (sitk Image): perivascular distance mask\n",
    "    mask (sitk Image): vascular mask\n",
    "    \n",
    "    Returns\n",
    "    -------\n",
    "    sitk image without vesels.\n",
    "    '''\n",
    "    # A las distancias le restamos la otra mascara binarizada\n",
    "    new = distance - sitk.BinaryThreshold(remove, 1, 100000, 1)\n",
    "    \n",
    "    # Binarizamos el resultado para que no queden valores negativos\n",
    "    new = sitk.BinaryThreshold(new, 1,1,1)\n",
    "    \n",
    "    logging.info('[F]\\teliminarVaso() executed')\n",
    "\n",
    "    return new"
   ]
  },
  {
   "cell_type": "code",
   "execution_count": 64,
   "id": "acd2effd",
   "metadata": {},
   "outputs": [],
   "source": [
    "def saveMask(image, path, fileName):\n",
    "    '''\n",
    "    Save a sitk Image\n",
    "    \n",
    "    Parameters\n",
    "    ----------\n",
    "    image (sitk Image): image to save\n",
    "    path (string): where to save\n",
    "    fileName (string): name for saving\n",
    "    '''\n",
    "    if not os.path.exists(path):\n",
    "        os.makedirs(path)\n",
    "    sitk.WriteImage(image, os.path.join(path,fileName))\n",
    "    \n",
    "    logging.info('[F]\\tsaveMask executed in {}, as {}'.format(path, fileName))"
   ]
  },
  {
   "cell_type": "code",
   "execution_count": 65,
   "id": "fdffd0e6",
   "metadata": {},
   "outputs": [],
   "source": [
    "def createDistanceMask(vessels, distance, remove, save = False, filename = 'mask.nrrd', folder = 'Vessel_stencils/masks'):\n",
    "    '''\n",
    "    Create a perivascular mask from a vascular mask given a \n",
    "    distance in mm\n",
    "    \n",
    "    Parameters\n",
    "    ----------\n",
    "    vesels (sitk Image): vascular mask\n",
    "    distance (double): distance in mm for de perivascular mask\n",
    "    save (bool): if you want automatically save the mask\n",
    "    folder (string): folder where image will be saved\n",
    "    \n",
    "    Returns\n",
    "    -------\n",
    "    sitk image of perivascular space.\n",
    "    '''\n",
    "    # Se crea el mapa de distancias\n",
    "    allDistances = sitk.SignedMaurerDistanceMap(vessels, \n",
    "                                    insideIsPositive = False, \n",
    "                                    squaredDistance = False, \n",
    "                                    useImageSpacing=True)\n",
    "    # Se crea la máscara con el espacio seleccionado\n",
    "    distanceMask = allDistances > 0 and allDistances < distance\n",
    "    # Se elimina el vaso de la máscara\n",
    "    distanceMask = eliminarVaso(distanceMask, remove)\n",
    "    \n",
    "    if save:\n",
    "        # Se guarda la mascara\n",
    "        saveMask(distanceMask, folder, filename)\n",
    "    \n",
    "    logging.info('[F]\\tcreateDistanceMaks executed, saved {}'.format(save))\n",
    "    \n",
    "    return distanceMask"
   ]
  },
  {
   "cell_type": "markdown",
   "id": "f60181d3",
   "metadata": {},
   "source": [
    "### Todos los vasos automatico"
   ]
  },
  {
   "cell_type": "markdown",
   "id": "0cfd940a",
   "metadata": {},
   "source": [
    "Creo una funcion que guarda cada uno de las mascaras de vaso con cada una de las distancias."
   ]
  },
  {
   "cell_type": "code",
   "execution_count": 29,
   "id": "637c55d0",
   "metadata": {},
   "outputs": [],
   "source": [
    "# %load_ext line_profiler"
   ]
  },
  {
   "cell_type": "markdown",
   "id": "902c669a",
   "metadata": {},
   "source": [
    "Funcion con un for, sin hacer ni procesos ni hilos"
   ]
  },
  {
   "cell_type": "code",
   "execution_count": 66,
   "id": "8926574d",
   "metadata": {},
   "outputs": [],
   "source": [
    "def savePatientMask(patient, masks, distances, remove):\n",
    "    '''\n",
    "    If you introduce vascular masks and distances of a patient\n",
    "    it create a new mask with each vascular mask and each distance\n",
    "    and it save them in a folder with the name of the patient.\n",
    "        \n",
    "    Parameters\n",
    "    ----------\n",
    "    patient (string): name of the patient\n",
    "    mask (list of sitk image): vascular mask\n",
    "    distance (list of double): perivascular distance\n",
    "    '''\n",
    "    # Creo la carpeta de este paciente\n",
    "    patientFolder = os.path.join('Vessel_stencils', patient)\n",
    "    \n",
    "    # Se recorre cada una de las mascaras vasculares\n",
    "    # y se calcula cada una de las distancias\n",
    "    for i, mask in enumerate(masks):\n",
    "        for distance in distances:\n",
    "            # Creo el nombre del file\n",
    "            fileName = 'mask_' + str(i) + '_' + str(distance) + '.nrrd'\n",
    "            # Creo la máscara\n",
    "            createDistanceMask(mask, distance, remove, True, fileName, patientFolder)\n",
    "            # Mando el aviso\n",
    "            logging.info(\"[F]\\tmask {} created\".format(fileName))\n",
    "\n",
    "\n",
    "    logging.info(\"[F]\\tDONE!\")\n"
   ]
  },
  {
   "cell_type": "markdown",
   "id": "e6d2c83c",
   "metadata": {},
   "source": [
    "Funcion utilizando hilos y procesos"
   ]
  },
  {
   "cell_type": "code",
   "execution_count": 126,
   "id": "2d94e76f",
   "metadata": {},
   "outputs": [],
   "source": [
    "# from threading import Thread\n",
    "\n",
    "# def savePatientMaskT(patient, masks, distances):\n",
    "#     '''\n",
    "#     If you introduce vascular masks and distances of a patient\n",
    "#     it create a new mask with each vascular mask and each distance\n",
    "#     and it save them in a folder with the name of the patient.\n",
    "    \n",
    "#     It uses threads to make it faster\n",
    "    \n",
    "#     Parameters\n",
    "#     ----------\n",
    "#     patient (string): name of the patient\n",
    "#     mask (list of sitk image): vascular mask\n",
    "#     distance (list of double): perivascular distance\n",
    "#     '''\n",
    "#     # Creo la carpeta de este paciente\n",
    "#     patientFolder = os.path.join('Vessel_stencils', patient)\n",
    "#     # Creo un vector de threads\n",
    "#     threads = []\n",
    "#     # Inicializo el numero de threads\n",
    "#     tNumber = 0\n",
    "    \n",
    "#     # Se recorre cada una de las mascaras vasculares\n",
    "#     # y se calcula cada una de las distancias\n",
    "#     for i, mask in enumerate(masks):\n",
    "#         for distance in distances:\n",
    "#             # Creo el nombre del file\n",
    "#             fileName = 'mask_' + str(i) + '_' + str(distance) + '.nrrd'\n",
    "            \n",
    "#             # Actualizo el numero de threads\n",
    "#             tNumber +=1\n",
    "            \n",
    "#             # Inicio un thread con la funcion createDistanceMask\n",
    "#             thread = Thread(target = createDistanceMask, \n",
    "#                     args = (mask, distance, True, fileName, patientFolder))\n",
    "#             # Lo añado a la lista\n",
    "#             threads.append(thread)\n",
    "#             # Lo inicializo\n",
    "#             thread.start()\n",
    "#             # Imprimo el aviso\n",
    "#             logging.info(\"[T]\\tThread {} started!\".format(tNumber))\n",
    "    \n",
    "#     # Espera a que los threads finalicen\n",
    "#     for tNumber, thread in enumerate(threads):\n",
    "#         thread.join()\n",
    "#         logging.info(\"[T]\\tThread {} joined!\".format(tNumber))\n",
    "\n",
    "#     logging.info(\"[T]\\tDONE!\")"
   ]
  },
  {
   "cell_type": "code",
   "execution_count": 127,
   "id": "4b26ac18",
   "metadata": {},
   "outputs": [],
   "source": [
    "from multiprocessing import Process\n",
    "\n",
    "def savePatientMaskP(patient, masks, distances):\n",
    "    '''\n",
    "    If you introduce vascular masks and distances of a patient\n",
    "    it create a new mask with each vascular mask and each distance\n",
    "    and it save them in a folder with the name of the patient.\n",
    "    \n",
    "    It uses process to make it faster\n",
    "    \n",
    "    Parameters\n",
    "    ----------\n",
    "    patient (string): name of the patient\n",
    "    mask (list of sitk image): vascular mask\n",
    "    distance (list of double): perivascular distance\n",
    "    '''\n",
    "    # Creo la carpeta de este paciente\n",
    "    patientFolder = os.path.join('Vessel_stencils', patient)\n",
    "    # Creo un vector de threads\n",
    "    proceses = []\n",
    "    # Inicializo el numero de threads\n",
    "    pNumber = 0\n",
    "    \n",
    "    # Se recorre cada una de las mascaras vasculares\n",
    "    # y se calcula cada una de las distancias\n",
    "    for i, mask in enumerate(masks):\n",
    "        for distance in distances:\n",
    "            # Creo el nombre del file\n",
    "            fileName = 'mask_' + str(i) + '_' + str(distance) + '.nrrd'\n",
    "            \n",
    "            # Actualizo el numero de threads\n",
    "            pNumber +=1\n",
    "            \n",
    "            # Inicio un thread con la funcion createDistanceMask\n",
    "            process = Process(target = createDistanceMask, \n",
    "                    args = (mask, distance, True, fileName, patientFolder))\n",
    "            # Lo añado a la lista\n",
    "            proceses.append(process)\n",
    "            # Lo inicializo\n",
    "            process.start()\n",
    "            # Imprimo el aviso\n",
    "            logging.info(\"[T]\\tThread {} started!\".format(pNumber))\n",
    "    \n",
    "    # Espera a que los threads finalicen\n",
    "    for pNumber, process in enumerate(proceses):\n",
    "        process.join()\n",
    "        logging.info(\"[T]\\tThread {} joined!\".format(pNumber))\n",
    "\n",
    "    logging.info(\"[T]\\tDONE!\")"
   ]
  },
  {
   "cell_type": "markdown",
   "id": "fb3c0ce0",
   "metadata": {},
   "source": [
    "Compruebo cual es mas rapida de las tres"
   ]
  },
  {
   "cell_type": "code",
   "execution_count": 67,
   "id": "7fe5a917",
   "metadata": {},
   "outputs": [
    {
     "data": {
      "text/plain": [
       "dict_keys(['path', 'ct', 'vessel_0', 'vessel_A_0', 'vessel_B_0', 'vessel_1', 'vessel_A_1', 'vessel_B_1', 'vessel_2', 'vessel_A_2', 'vessel_B_2', 'n_vessels'])"
      ]
     },
     "execution_count": 67,
     "metadata": {},
     "output_type": "execute_result"
    }
   ],
   "source": [
    "pacienteData.keys()"
   ]
  },
  {
   "cell_type": "code",
   "execution_count": 68,
   "id": "a927dd30",
   "metadata": {
    "scrolled": true
   },
   "outputs": [],
   "source": [
    "index = ['vessel_A_0', 'vessel_B_0', 'vessel_A_1', 'vessel_B_1', 'vessel_A_2', 'vessel_B_2']\n",
    "masks = [pacienteData[i] for i in index]\n",
    "distances = [2,3,5,10]"
   ]
  },
  {
   "cell_type": "code",
   "execution_count": 73,
   "id": "9b019eec",
   "metadata": {},
   "outputs": [
    {
     "name": "stdout",
     "output_type": "stream",
     "text": [
      "[7208]\t17:49:42 INFO: [F]\teliminarVaso() executed\n",
      "[7208]\t17:49:42 INFO: [F]\tsaveMask executed in Vessel_stencils\\pacientePrueba, as mask_0_2.nrrd\n",
      "[7208]\t17:49:42 INFO: [F]\tcreateDistanceMaks executed, saved True\n",
      "[7208]\t17:49:42 INFO: [F]\tmask mask_0_2.nrrd created\n",
      "[7208]\t17:49:50 INFO: [F]\teliminarVaso() executed\n",
      "[7208]\t17:49:50 INFO: [F]\tsaveMask executed in Vessel_stencils\\pacientePrueba, as mask_0_3.nrrd\n",
      "[7208]\t17:49:50 INFO: [F]\tcreateDistanceMaks executed, saved True\n",
      "[7208]\t17:49:51 INFO: [F]\tmask mask_0_3.nrrd created\n",
      "[7208]\t17:49:58 INFO: [F]\teliminarVaso() executed\n",
      "[7208]\t17:49:59 INFO: [F]\tsaveMask executed in Vessel_stencils\\pacientePrueba, as mask_0_5.nrrd\n",
      "[7208]\t17:49:59 INFO: [F]\tcreateDistanceMaks executed, saved True\n",
      "[7208]\t17:49:59 INFO: [F]\tmask mask_0_5.nrrd created\n",
      "[7208]\t17:50:07 INFO: [F]\teliminarVaso() executed\n",
      "[7208]\t17:50:08 INFO: [F]\tsaveMask executed in Vessel_stencils\\pacientePrueba, as mask_0_10.nrrd\n",
      "[7208]\t17:50:08 INFO: [F]\tcreateDistanceMaks executed, saved True\n",
      "[7208]\t17:50:08 INFO: [F]\tmask mask_0_10.nrrd created\n",
      "[7208]\t17:50:16 INFO: [F]\teliminarVaso() executed\n",
      "[7208]\t17:50:16 INFO: [F]\tsaveMask executed in Vessel_stencils\\pacientePrueba, as mask_1_2.nrrd\n",
      "[7208]\t17:50:16 INFO: [F]\tcreateDistanceMaks executed, saved True\n",
      "[7208]\t17:50:16 INFO: [F]\tmask mask_1_2.nrrd created\n",
      "[7208]\t17:50:24 INFO: [F]\teliminarVaso() executed\n",
      "[7208]\t17:50:25 INFO: [F]\tsaveMask executed in Vessel_stencils\\pacientePrueba, as mask_1_3.nrrd\n",
      "[7208]\t17:50:25 INFO: [F]\tcreateDistanceMaks executed, saved True\n",
      "[7208]\t17:50:25 INFO: [F]\tmask mask_1_3.nrrd created\n",
      "[7208]\t17:50:33 INFO: [F]\teliminarVaso() executed\n",
      "[7208]\t17:50:34 INFO: [F]\tsaveMask executed in Vessel_stencils\\pacientePrueba, as mask_1_5.nrrd\n",
      "[7208]\t17:50:34 INFO: [F]\tcreateDistanceMaks executed, saved True\n",
      "[7208]\t17:50:34 INFO: [F]\tmask mask_1_5.nrrd created\n",
      "[7208]\t17:50:43 INFO: [F]\teliminarVaso() executed\n",
      "[7208]\t17:50:44 INFO: [F]\tsaveMask executed in Vessel_stencils\\pacientePrueba, as mask_1_10.nrrd\n",
      "[7208]\t17:50:44 INFO: [F]\tcreateDistanceMaks executed, saved True\n",
      "[7208]\t17:50:44 INFO: [F]\tmask mask_1_10.nrrd created\n",
      "[7208]\t17:50:54 INFO: [F]\teliminarVaso() executed\n",
      "[7208]\t17:50:55 INFO: [F]\tsaveMask executed in Vessel_stencils\\pacientePrueba, as mask_2_2.nrrd\n",
      "[7208]\t17:50:55 INFO: [F]\tcreateDistanceMaks executed, saved True\n",
      "[7208]\t17:50:55 INFO: [F]\tmask mask_2_2.nrrd created\n",
      "[7208]\t17:51:05 INFO: [F]\teliminarVaso() executed\n",
      "[7208]\t17:51:06 INFO: [F]\tsaveMask executed in Vessel_stencils\\pacientePrueba, as mask_2_3.nrrd\n",
      "[7208]\t17:51:06 INFO: [F]\tcreateDistanceMaks executed, saved True\n",
      "[7208]\t17:51:06 INFO: [F]\tmask mask_2_3.nrrd created\n",
      "[7208]\t17:51:15 INFO: [F]\teliminarVaso() executed\n",
      "[7208]\t17:51:15 INFO: [F]\tsaveMask executed in Vessel_stencils\\pacientePrueba, as mask_2_5.nrrd\n",
      "[7208]\t17:51:15 INFO: [F]\tcreateDistanceMaks executed, saved True\n",
      "[7208]\t17:51:15 INFO: [F]\tmask mask_2_5.nrrd created\n",
      "[7208]\t17:51:24 INFO: [F]\teliminarVaso() executed\n",
      "[7208]\t17:51:25 INFO: [F]\tsaveMask executed in Vessel_stencils\\pacientePrueba, as mask_2_10.nrrd\n",
      "[7208]\t17:51:25 INFO: [F]\tcreateDistanceMaks executed, saved True\n",
      "[7208]\t17:51:25 INFO: [F]\tmask mask_2_10.nrrd created\n",
      "[7208]\t17:51:34 INFO: [F]\teliminarVaso() executed\n",
      "[7208]\t17:51:34 INFO: [F]\tsaveMask executed in Vessel_stencils\\pacientePrueba, as mask_3_2.nrrd\n",
      "[7208]\t17:51:34 INFO: [F]\tcreateDistanceMaks executed, saved True\n",
      "[7208]\t17:51:34 INFO: [F]\tmask mask_3_2.nrrd created\n",
      "[7208]\t17:51:43 INFO: [F]\teliminarVaso() executed\n",
      "[7208]\t17:51:44 INFO: [F]\tsaveMask executed in Vessel_stencils\\pacientePrueba, as mask_3_3.nrrd\n",
      "[7208]\t17:51:44 INFO: [F]\tcreateDistanceMaks executed, saved True\n",
      "[7208]\t17:51:44 INFO: [F]\tmask mask_3_3.nrrd created\n",
      "[7208]\t17:51:52 INFO: [F]\teliminarVaso() executed\n",
      "[7208]\t17:51:52 INFO: [F]\tsaveMask executed in Vessel_stencils\\pacientePrueba, as mask_3_5.nrrd\n",
      "[7208]\t17:51:52 INFO: [F]\tcreateDistanceMaks executed, saved True\n",
      "[7208]\t17:51:52 INFO: [F]\tmask mask_3_5.nrrd created\n",
      "[7208]\t17:52:01 INFO: [F]\teliminarVaso() executed\n",
      "[7208]\t17:52:01 INFO: [F]\tsaveMask executed in Vessel_stencils\\pacientePrueba, as mask_3_10.nrrd\n",
      "[7208]\t17:52:01 INFO: [F]\tcreateDistanceMaks executed, saved True\n",
      "[7208]\t17:52:01 INFO: [F]\tmask mask_3_10.nrrd created\n",
      "[7208]\t17:52:10 INFO: [F]\teliminarVaso() executed\n",
      "[7208]\t17:52:10 INFO: [F]\tsaveMask executed in Vessel_stencils\\pacientePrueba, as mask_4_2.nrrd\n",
      "[7208]\t17:52:10 INFO: [F]\tcreateDistanceMaks executed, saved True\n",
      "[7208]\t17:52:10 INFO: [F]\tmask mask_4_2.nrrd created\n",
      "[7208]\t17:52:20 INFO: [F]\teliminarVaso() executed\n",
      "[7208]\t17:52:20 INFO: [F]\tsaveMask executed in Vessel_stencils\\pacientePrueba, as mask_4_3.nrrd\n",
      "[7208]\t17:52:20 INFO: [F]\tcreateDistanceMaks executed, saved True\n",
      "[7208]\t17:52:20 INFO: [F]\tmask mask_4_3.nrrd created\n",
      "[7208]\t17:52:29 INFO: [F]\teliminarVaso() executed\n",
      "[7208]\t17:52:30 INFO: [F]\tsaveMask executed in Vessel_stencils\\pacientePrueba, as mask_4_5.nrrd\n",
      "[7208]\t17:52:30 INFO: [F]\tcreateDistanceMaks executed, saved True\n",
      "[7208]\t17:52:30 INFO: [F]\tmask mask_4_5.nrrd created\n",
      "[7208]\t17:52:38 INFO: [F]\teliminarVaso() executed\n",
      "[7208]\t17:52:39 INFO: [F]\tsaveMask executed in Vessel_stencils\\pacientePrueba, as mask_4_10.nrrd\n",
      "[7208]\t17:52:39 INFO: [F]\tcreateDistanceMaks executed, saved True\n",
      "[7208]\t17:52:39 INFO: [F]\tmask mask_4_10.nrrd created\n",
      "[7208]\t17:52:48 INFO: [F]\teliminarVaso() executed\n",
      "[7208]\t17:52:48 INFO: [F]\tsaveMask executed in Vessel_stencils\\pacientePrueba, as mask_5_2.nrrd\n",
      "[7208]\t17:52:48 INFO: [F]\tcreateDistanceMaks executed, saved True\n",
      "[7208]\t17:52:48 INFO: [F]\tmask mask_5_2.nrrd created\n",
      "[7208]\t17:52:57 INFO: [F]\teliminarVaso() executed\n",
      "[7208]\t17:52:58 INFO: [F]\tsaveMask executed in Vessel_stencils\\pacientePrueba, as mask_5_3.nrrd\n",
      "[7208]\t17:52:58 INFO: [F]\tcreateDistanceMaks executed, saved True\n",
      "[7208]\t17:52:58 INFO: [F]\tmask mask_5_3.nrrd created\n",
      "[7208]\t17:53:06 INFO: [F]\teliminarVaso() executed\n",
      "[7208]\t17:53:07 INFO: [F]\tsaveMask executed in Vessel_stencils\\pacientePrueba, as mask_5_5.nrrd\n",
      "[7208]\t17:53:07 INFO: [F]\tcreateDistanceMaks executed, saved True\n",
      "[7208]\t17:53:07 INFO: [F]\tmask mask_5_5.nrrd created\n",
      "[7208]\t17:53:14 INFO: [F]\teliminarVaso() executed\n",
      "[7208]\t17:53:15 INFO: [F]\tsaveMask executed in Vessel_stencils\\pacientePrueba, as mask_5_10.nrrd\n",
      "[7208]\t17:53:15 INFO: [F]\tcreateDistanceMaks executed, saved True\n",
      "[7208]\t17:53:15 INFO: [F]\tmask mask_5_10.nrrd created\n",
      "[7208]\t17:53:15 INFO: [F]\tDONE!\n",
      "CPU times: total: 22min 33s\n",
      "Wall time: 3min 41s\n"
     ]
    }
   ],
   "source": [
    "%%time\n",
    "savePatientMask('pacientePrueba', masks, distances, pacienteData['vessel_0'])"
   ]
  },
  {
   "cell_type": "code",
   "execution_count": 72,
   "id": "af3b0912",
   "metadata": {},
   "outputs": [],
   "source": [
    "# %%time\n",
    "\n",
    "# masks = [generalMask, mask5, mask20]\n",
    "# distances = [2,3,5,10]\n",
    "\n",
    "# savePatientMaskT('pacientePruebaT', masks, distances)"
   ]
  },
  {
   "cell_type": "code",
   "execution_count": 73,
   "id": "d7aa4f9b",
   "metadata": {},
   "outputs": [],
   "source": [
    "# %%time\n",
    "\n",
    "# masks = [generalMask, mask5, mask20]\n",
    "# distances = [2,3,5,10]\n",
    "\n",
    "# savePatientMaskP('pacientePruebaP', masks, distances)"
   ]
  },
  {
   "cell_type": "markdown",
   "id": "86087ca5",
   "metadata": {},
   "source": [
    "Compruebo que se han guardado correctamente y los cargo de nuevo"
   ]
  },
  {
   "cell_type": "code",
   "execution_count": 16,
   "id": "8dbce86c",
   "metadata": {},
   "outputs": [],
   "source": [
    "from os import listdir\n",
    "from os.path import isfile, join"
   ]
  },
  {
   "cell_type": "code",
   "execution_count": 17,
   "id": "b69becc7",
   "metadata": {},
   "outputs": [
    {
     "ename": "FileNotFoundError",
     "evalue": "[WinError 3] El sistema no puede encontrar la ruta especificada: 'Vessel_stencils/masks'",
     "output_type": "error",
     "traceback": [
      "\u001b[1;31m---------------------------------------------------------------------------\u001b[0m",
      "\u001b[1;31mFileNotFoundError\u001b[0m                         Traceback (most recent call last)",
      "Input \u001b[1;32mIn [17]\u001b[0m, in \u001b[0;36m<cell line: 3>\u001b[1;34m()\u001b[0m\n\u001b[0;32m      1\u001b[0m mypath \u001b[38;5;241m=\u001b[39m \u001b[38;5;124m'\u001b[39m\u001b[38;5;124mVessel_stencils/masks\u001b[39m\u001b[38;5;124m'\u001b[39m\n\u001b[0;32m      2\u001b[0m \u001b[38;5;66;03m# Recojo todos los files en mypath\u001b[39;00m\n\u001b[1;32m----> 3\u001b[0m masks \u001b[38;5;241m=\u001b[39m [f \u001b[38;5;28;01mfor\u001b[39;00m f \u001b[38;5;129;01min\u001b[39;00m \u001b[43mlistdir\u001b[49m\u001b[43m(\u001b[49m\u001b[43mmypath\u001b[49m\u001b[43m)\u001b[49m \u001b[38;5;28;01mif\u001b[39;00m isfile(join(mypath, f))]\n",
      "\u001b[1;31mFileNotFoundError\u001b[0m: [WinError 3] El sistema no puede encontrar la ruta especificada: 'Vessel_stencils/masks'"
     ]
    }
   ],
   "source": [
    "mypath = 'Vessel_stencils/masks'\n",
    "# Recojo todos los files en mypath\n",
    "masks = [f for f in listdir(mypath) if isfile(join(mypath, f))]"
   ]
  },
  {
   "cell_type": "code",
   "execution_count": 37,
   "id": "4a7e128f",
   "metadata": {},
   "outputs": [],
   "source": [
    "data = [sitk.ReadImage(os.path.join(mypath, path)) for path in masks]"
   ]
  },
  {
   "cell_type": "markdown",
   "id": "7459d9e4",
   "metadata": {},
   "source": [
    "### Proceso uno por uno"
   ]
  },
  {
   "cell_type": "markdown",
   "id": "662b037b",
   "metadata": {},
   "source": [
    "##### Todos los vasos"
   ]
  },
  {
   "cell_type": "code",
   "execution_count": 38,
   "id": "a92701db",
   "metadata": {},
   "outputs": [
    {
     "name": "stdout",
     "output_type": "stream",
     "text": [
      "[11644]\t12:46:21 INFO: [F]\teliminarVaso() executed\n",
      "[11644]\t12:46:21 INFO: [F]\tcreateDistanceMaks executed, saved False\n",
      "[11644]\t12:46:32 INFO: [F]\teliminarVaso() executed\n",
      "[11644]\t12:46:32 INFO: [F]\tcreateDistanceMaks executed, saved False\n",
      "[11644]\t12:46:43 INFO: [F]\teliminarVaso() executed\n",
      "[11644]\t12:46:44 INFO: [F]\tcreateDistanceMaks executed, saved False\n",
      "[11644]\t12:46:54 INFO: [F]\teliminarVaso() executed\n",
      "[11644]\t12:46:54 INFO: [F]\tcreateDistanceMaks executed, saved False\n"
     ]
    }
   ],
   "source": [
    "distance2General = createDistanceMask(generalMask, 2)\n",
    "distance3General = createDistanceMask(generalMask, 3)\n",
    "distance5General = createDistanceMask(generalMask, 5)\n",
    "distance10General = createDistanceMask(generalMask, 10)"
   ]
  },
  {
   "cell_type": "markdown",
   "id": "1a2a50a5",
   "metadata": {},
   "source": [
    "##### Vasos de 20"
   ]
  },
  {
   "cell_type": "code",
   "execution_count": 39,
   "id": "a6dae311",
   "metadata": {},
   "outputs": [
    {
     "name": "stdout",
     "output_type": "stream",
     "text": [
      "[11644]\t12:47:03 INFO: [F]\teliminarVaso() executed\n",
      "[11644]\t12:47:03 INFO: [F]\tcreateDistanceMaks executed, saved False\n",
      "[11644]\t12:47:12 INFO: [F]\teliminarVaso() executed\n",
      "[11644]\t12:47:12 INFO: [F]\tcreateDistanceMaks executed, saved False\n",
      "[11644]\t12:47:21 INFO: [F]\teliminarVaso() executed\n",
      "[11644]\t12:47:21 INFO: [F]\tcreateDistanceMaks executed, saved False\n",
      "[11644]\t12:47:29 INFO: [F]\teliminarVaso() executed\n",
      "[11644]\t12:47:29 INFO: [F]\tcreateDistanceMaks executed, saved False\n"
     ]
    }
   ],
   "source": [
    "distance2_20 = createDistanceMask(mask20, 2)\n",
    "distance3_20 = createDistanceMask(mask20, 3)\n",
    "distance5_20 = createDistanceMask(mask20, 5)\n",
    "distance10_20 = createDistanceMask(mask20, 10)"
   ]
  },
  {
   "cell_type": "markdown",
   "id": "775baf38",
   "metadata": {},
   "source": [
    "##### Vasos de 5"
   ]
  },
  {
   "cell_type": "code",
   "execution_count": 39,
   "id": "f8884a86",
   "metadata": {},
   "outputs": [
    {
     "ename": "NameError",
     "evalue": "name 'logging' is not defined",
     "output_type": "error",
     "traceback": [
      "\u001b[1;31m---------------------------------------------------------------------------\u001b[0m",
      "\u001b[1;31mNameError\u001b[0m                                 Traceback (most recent call last)",
      "Input \u001b[1;32mIn [39]\u001b[0m, in \u001b[0;36m<cell line: 1>\u001b[1;34m()\u001b[0m\n\u001b[1;32m----> 1\u001b[0m distance2_5 \u001b[38;5;241m=\u001b[39m \u001b[43mcreateDistanceMask\u001b[49m\u001b[43m(\u001b[49m\u001b[43mmask5\u001b[49m\u001b[43m,\u001b[49m\u001b[43m \u001b[49m\u001b[38;5;241;43m2\u001b[39;49m\u001b[43m)\u001b[49m\n\u001b[0;32m      2\u001b[0m distance3_5 \u001b[38;5;241m=\u001b[39m createDistanceMask(mask5, \u001b[38;5;241m3\u001b[39m)\n\u001b[0;32m      3\u001b[0m distance5_5 \u001b[38;5;241m=\u001b[39m createDistanceMask(mask5, \u001b[38;5;241m5\u001b[39m)\n",
      "Input \u001b[1;32mIn [38]\u001b[0m, in \u001b[0;36mcreateDistanceMask\u001b[1;34m(vessels, distance, save, filename, folder)\u001b[0m\n\u001b[0;32m     27\u001b[0m \u001b[38;5;28;01mif\u001b[39;00m save:\n\u001b[0;32m     28\u001b[0m     \u001b[38;5;66;03m# Se guarda la mascara\u001b[39;00m\n\u001b[0;32m     29\u001b[0m     saveMask(distanceMask, folder, filename)\n\u001b[1;32m---> 31\u001b[0m \u001b[43mlogging\u001b[49m\u001b[38;5;241m.\u001b[39minfo(\u001b[38;5;124m'\u001b[39m\u001b[38;5;124m[F]\u001b[39m\u001b[38;5;130;01m\\t\u001b[39;00m\u001b[38;5;124mcreateDistanceMaks executed, saved \u001b[39m\u001b[38;5;132;01m{}\u001b[39;00m\u001b[38;5;124m'\u001b[39m\u001b[38;5;241m.\u001b[39mformat(save))\n\u001b[0;32m     33\u001b[0m \u001b[38;5;28;01mreturn\u001b[39;00m distanceMask\n",
      "\u001b[1;31mNameError\u001b[0m: name 'logging' is not defined"
     ]
    }
   ],
   "source": [
    "distance2_5 = createDistanceMask(mask5, 2)\n",
    "distance3_5 = createDistanceMask(mask5, 3)\n",
    "distance5_5 = createDistanceMask(mask5, 5)\n",
    "distance10_5 = createDistanceMask(mask5, 10)"
   ]
  },
  {
   "cell_type": "markdown",
   "id": "2f267d5c",
   "metadata": {},
   "source": [
    "### Pruebas"
   ]
  },
  {
   "cell_type": "code",
   "execution_count": 41,
   "id": "8c57516e",
   "metadata": {},
   "outputs": [],
   "source": [
    "image_viewer.Execute(distance10General*3000000)"
   ]
  },
  {
   "cell_type": "code",
   "execution_count": 42,
   "id": "4b134ab4",
   "metadata": {},
   "outputs": [],
   "source": [
    "pr = extractMask(ct, distance5_5)\n",
    "image_viewer.Execute(pr)"
   ]
  },
  {
   "cell_type": "code",
   "execution_count": 43,
   "id": "b397838e",
   "metadata": {},
   "outputs": [
    {
     "name": "stdout",
     "output_type": "stream",
     "text": [
      "[11644]\t12:48:28 INFO: [F]\teliminarVaso() executed\n",
      "[11644]\t12:48:28 INFO: [F]\tcreateDistanceMaks executed, saved False\n"
     ]
    }
   ],
   "source": [
    "distance2_5 = createDistanceMask(mask5, 2)"
   ]
  },
  {
   "cell_type": "code",
   "execution_count": 44,
   "id": "4e843b27",
   "metadata": {},
   "outputs": [],
   "source": [
    "pr = extractMask(ct, distance2General)\n",
    "image_viewer.Execute(pr)"
   ]
  },
  {
   "cell_type": "code",
   "execution_count": null,
   "id": "399fe757",
   "metadata": {},
   "outputs": [],
   "source": []
  }
 ],
 "metadata": {
  "kernelspec": {
   "display_name": "Python 3 (ipykernel)",
   "language": "python",
   "name": "python3"
  },
  "language_info": {
   "codemirror_mode": {
    "name": "ipython",
    "version": 3
   },
   "file_extension": ".py",
   "mimetype": "text/x-python",
   "name": "python",
   "nbconvert_exporter": "python",
   "pygments_lexer": "ipython3",
   "version": "3.10.4"
  }
 },
 "nbformat": 4,
 "nbformat_minor": 5
}
