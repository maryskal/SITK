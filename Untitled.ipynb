{
 "cells": [
  {
   "cell_type": "code",
   "execution_count": 32,
   "id": "1e1ac177-f19c-4ce3-a6c4-e58a965f0041",
   "metadata": {},
   "outputs": [],
   "source": [
    "import glob\n",
    "import logging\n",
    "import sys\n",
    "import os\n",
    "import re\n",
    "from multiprocessing import Process\n",
    "from varname import nameof\n",
    "import SimpleITK as sitk\n",
    "import numpy as np\n",
    "import matplotlib.pyplot as plt"
   ]
  },
  {
   "cell_type": "code",
   "execution_count": 17,
   "id": "a1675545-a486-49ec-9966-1f0ebaa25175",
   "metadata": {},
   "outputs": [],
   "source": [
    "image_viewer = sitk.ImageViewer()\n",
    "#slicer = 'D:/Users/maryskal/Slicer 5.0.2/Slicer.exe'\n",
    "slicer = '/home/maryskal/Slicer/Slicer'\n",
    "image_viewer.SetApplication(slicer)"
   ]
  },
  {
   "cell_type": "markdown",
   "id": "ea0e0a57-69ce-4626-8af3-fd61b8a0129c",
   "metadata": {},
   "source": [
    "## Funciones"
   ]
  },
  {
   "cell_type": "code",
   "execution_count": 30,
   "id": "f96a4ef4-5f6e-4afa-922a-0e7a00068a00",
   "metadata": {},
   "outputs": [],
   "source": [
    "def histo(img, itkIm = True):\n",
    "    if itkIm:\n",
    "        arr = sitk.GetArrayFromImage(img)\n",
    "    else:\n",
    "        arr = img\n",
    "    fig = plt.figure(figsize = (7,5))\n",
    "    ax = fig.gca()\n",
    "    ax.hist(arr.flatten(), bins = 255)\n",
    "    plt.show(fig)"
   ]
  },
  {
   "cell_type": "code",
   "execution_count": 19,
   "id": "540e8095-4f49-4c05-ba49-a92ec6e2b7e8",
   "metadata": {},
   "outputs": [],
   "source": [
    "def saveMask(image, path, fileName):\n",
    "    '''\n",
    "    Guarda una imagen SITK\n",
    "        :param image (sitk Image): imagen a guardar\n",
    "        :param path (string): donde guardar\n",
    "        :param fileName (string): nombre\n",
    "    '''\n",
    "    if not os.path.exists(path):\n",
    "        os.makedirs(path)\n",
    "    sitk.WriteImage(image, os.path.join(path, fileName))\n",
    "    logging.info('[F]\\tsaveMask executed in {}, as {}'.format(path, fileName))"
   ]
  },
  {
   "cell_type": "code",
   "execution_count": 8,
   "id": "8fad07a1-06a2-4cc1-9836-3303b14a8b65",
   "metadata": {},
   "outputs": [],
   "source": [
    "def extract_patient_data(patient_name, all_files):\n",
    "    '''\n",
    "    De una lista de archivos extrae todos los que compartan\n",
    "    el nombre introducido (patient_name)\n",
    "        :param patient_name (str): nombre comun\n",
    "        :param all_files (list): lista de files (str)\n",
    "        :return (dict): diccionario {'ct': ctPath, 'masks': [maskPaths]}\n",
    "    '''\n",
    "    patient_files = [file for file in all_files if bool(re.search(patient_name, file))]\n",
    "    patient_ct = f'{patient_name}.nrrd'\n",
    "    patient_masks = [file for file in patient_files if file != patient_ct]\n",
    "    return {'ct': patient_ct, 'masks': patient_masks}"
   ]
  },
  {
   "cell_type": "code",
   "execution_count": 2,
   "id": "4bb4fa24-5bf0-4936-bcc6-fe6edeadf1a6",
   "metadata": {},
   "outputs": [],
   "source": [
    "def separar(mask):\n",
    "    '''\n",
    "    Coge una mascara en la que estan arteria\n",
    "    y vena y la separa en dos.\n",
    "        :param mask (SITK image): mask\n",
    "        :return (list): con las dos mascaras\n",
    "    '''\n",
    "    # vemos los valores diferentes que existen\n",
    "    arr = sitk.GetArrayFromImage(mask)\n",
    "    values = np.unique(arr)\n",
    "    values = values[values != 0]\n",
    "    # sacamos una mascara por cada valor\n",
    "    masks = []\n",
    "    for value in values:\n",
    "        masks.append(mask == value)\n",
    "    return masks"
   ]
  },
  {
   "cell_type": "code",
   "execution_count": 3,
   "id": "0612dd66-524a-4ee8-877b-cc20be0335b6",
   "metadata": {},
   "outputs": [],
   "source": [
    "def eliminarVaso(distance, remove):\n",
    "    '''\n",
    "    Elimina una mascara sobre otra\n",
    "        :param distance (sitk Image): mascara original\n",
    "        :param remove (sitk Image): mascara de eliminacion\n",
    "        :return (sitk image) sin vasos\n",
    "    '''\n",
    "    # A las distancias le restamos la otra mascara binarizada\n",
    "    new = distance - sitk.BinaryThreshold(remove, 1, 100000, 1)\n",
    "    # Binarizamos el resultado para que no queden valores negativos\n",
    "    new = sitk.BinaryThreshold(new, 1, 1, 1)\n",
    "    logging.info('[F]\\teliminarVaso() executed')\n",
    "    return new"
   ]
  },
  {
   "cell_type": "code",
   "execution_count": 10,
   "id": "64622d13-2e66-45a3-9f82-92e2e4b4e816",
   "metadata": {},
   "outputs": [],
   "source": [
    "def paciente_diccionary(patient, ctPath, maskPaths):\n",
    "    '''\n",
    "    Con el path del ct y la lista de paths del\n",
    "    paciente crea un diccionario con su ctPath\n",
    "    su mascara, su mascara venosa y su mascara\n",
    "    arterial.\n",
    "        :param patient (str): nombre del paciente\n",
    "        :param ctPath (str):\n",
    "        :param maskPaths (list): lista de paths de mascaras\n",
    "        :return (dict): diccionario del paciente:\n",
    "                        {'patient': nombre del paciente,\n",
    "                        'path': el path de su ct,\n",
    "                        'ct': sitk image de su ct,\n",
    "                        'masks': {maskPaths[i]: sitk image,\n",
    "                                    masksPath[i]_vena: sitk image,\n",
    "                                    masksPath[i]_arteria: sitk image}\n",
    "                        'n_ves': numero de mascaras introducidas}\n",
    "    Se asume que el numero mas bajo dentro de la mascara es vena y el mas\n",
    "    alto es arteria, es decir, si tenemos valores de 0,30 y 40, 30 sería vena\n",
    "    40 sería arteria.\n",
    "    '''\n",
    "    art_vein = {0: 'vein',\n",
    "                1: 'artery'}\n",
    "\n",
    "    pacienteDict = {}\n",
    "    pacienteDict['patient'] = patient\n",
    "    pacienteDict['path'] = ctPath\n",
    "    pacienteDict['ct'] = sitk.ReadImage(ctPath)\n",
    "    pacienteDict['masks'] = {}\n",
    "    for path in maskPaths:\n",
    "        vesselMask = sitk.ReadImage(path)\n",
    "        pacienteDict['masks'][path[-9:-5]] = vesselMask\n",
    "        sep = separar(vesselMask)\n",
    "        for j, vesel in enumerate(sep):\n",
    "            pacienteDict['masks'][path[-9:-5] + '_' + art_vein[j]] = vesel\n",
    "    pacienteDict['n_ves'] = len(maskPaths)\n",
    "    return pacienteDict"
   ]
  },
  {
   "cell_type": "markdown",
   "id": "8a6e4eb7-0da5-4d41-8fea-7d22c8b9bdf7",
   "metadata": {},
   "source": [
    "## Cargar"
   ]
  },
  {
   "cell_type": "code",
   "execution_count": 23,
   "id": "78894799-ef43-4915-ae50-8b268360d968",
   "metadata": {},
   "outputs": [],
   "source": [
    "folder = '/home/maryskal/Documents/SITK/Vessel_stencils'\n",
    "# Saco todos los files y les elimino la carpeta\n",
    "files = [re.split(f'{folder}/', file)[1] for file in glob.glob(f\"{folder}/*.nrrd\")]\n",
    "# Me quedo con los 4 primeras letras, que son el paciente\n",
    "patients = list(np.unique([file[0:24] for file in files]))"
   ]
  },
  {
   "cell_type": "code",
   "execution_count": 24,
   "id": "6f69f408-4e57-4244-80e4-4663b7504f50",
   "metadata": {},
   "outputs": [],
   "source": [
    "p = patients[0]"
   ]
  },
  {
   "cell_type": "code",
   "execution_count": 25,
   "id": "a5f06455-bb6c-4ed8-937c-805b8d50d037",
   "metadata": {},
   "outputs": [],
   "source": [
    "patient_folders = extract_patient_data(p, files)\n",
    "ct_path = os.path.join(folder,patient_folders['ct'])\n",
    "masks_paths = [os.path.join(folder,mask) for mask in patient_folders['masks']]"
   ]
  },
  {
   "cell_type": "code",
   "execution_count": 26,
   "id": "085fc51b-1e41-4559-a9af-c51868f88e99",
   "metadata": {},
   "outputs": [],
   "source": [
    "patient_dict = paciente_diccionary(p,ct_path, masks_paths)\n",
    "masks = patient_dict['masks']"
   ]
  },
  {
   "cell_type": "code",
   "execution_count": 27,
   "id": "79ec2188-29cf-4143-a59e-3fcd4ecb87e1",
   "metadata": {},
   "outputs": [
    {
     "data": {
      "text/plain": [
       "{'full': <SimpleITK.SimpleITK.Image; proxy of <Swig Object of type 'std::vector< itk::simple::Image >::value_type *' at 0x7f69c31f3db0> >,\n",
       " 'full_vein': <SimpleITK.SimpleITK.Image; proxy of <Swig Object of type 'std::vector< itk::simple::Image >::value_type *' at 0x7f69c31f1c80> >,\n",
       " 'full_artery': <SimpleITK.SimpleITK.Image; proxy of <Swig Object of type 'std::vector< itk::simple::Image >::value_type *' at 0x7f69c31f2b50> >,\n",
       " 'gt20': <SimpleITK.SimpleITK.Image; proxy of <Swig Object of type 'std::vector< itk::simple::Image >::value_type *' at 0x7f69b8c847b0> >,\n",
       " 'gt20_vein': <SimpleITK.SimpleITK.Image; proxy of <Swig Object of type 'std::vector< itk::simple::Image >::value_type *' at 0x7f69c3bd7240> >,\n",
       " 'gt20_artery': <SimpleITK.SimpleITK.Image; proxy of <Swig Object of type 'std::vector< itk::simple::Image >::value_type *' at 0x7f69b8c84030> >,\n",
       " '_lt5': <SimpleITK.SimpleITK.Image; proxy of <Swig Object of type 'std::vector< itk::simple::Image >::value_type *' at 0x7f69b8c846f0> >,\n",
       " '_lt5_vein': <SimpleITK.SimpleITK.Image; proxy of <Swig Object of type 'std::vector< itk::simple::Image >::value_type *' at 0x7f69b8c84900> >,\n",
       " '_lt5_artery': <SimpleITK.SimpleITK.Image; proxy of <Swig Object of type 'std::vector< itk::simple::Image >::value_type *' at 0x7f69b8c84c00> >}"
      ]
     },
     "execution_count": 27,
     "metadata": {},
     "output_type": "execute_result"
    }
   ],
   "source": [
    "masks"
   ]
  },
  {
   "cell_type": "code",
   "execution_count": 55,
   "id": "b58668d2-a5d2-4b1d-84f1-0585b818b2d5",
   "metadata": {},
   "outputs": [],
   "source": [
    "menos_5 = eliminarVaso(masks['full_artery'],masks['_lt5_artery'])"
   ]
  },
  {
   "cell_type": "code",
   "execution_count": 56,
   "id": "d6ecf550-f755-4b1f-8ea5-95899aa732fd",
   "metadata": {},
   "outputs": [
    {
     "data": {
      "text/plain": [
       "array([0, 1], dtype=uint8)"
      ]
     },
     "execution_count": 56,
     "metadata": {},
     "output_type": "execute_result"
    }
   ],
   "source": [
    "arr = sitk.GetArrayFromImage(menos_5)\n",
    "np.unique(arr)"
   ]
  },
  {
   "cell_type": "code",
   "execution_count": 57,
   "id": "0d45fe8f-c0c2-4e81-9353-15617a170969",
   "metadata": {},
   "outputs": [
    {
     "name": "stdout",
     "output_type": "stream",
     "text": [
      "ReferenceImageExtentOffset attribute was not found in NRRD segmentation file. Assume no offset.\n",
      "\n",
      "\n",
      "\"Segmentation\" Reader has successfully read the file \"/home/maryskal/Documents/SITK/Vessel_stencils/prueba.nrrd\" \"[1.20s]\"\n",
      "ReferenceImageExtentOffset attribute was not found in NRRD segmentation file. Assume no offset.\n",
      "\n",
      "\n",
      "\"Segmentation\" Reader has successfully read the file \"/home/maryskal/Documents/SITK/Vessel_stencils/10047G_INSP_STD_BWH_COPD_stenciledVesselLabelMap_CSA_lt5.nrrd\" \"[1.77s]\"\n"
     ]
    },
    {
     "name": "stderr",
     "output_type": "stream",
     "text": [
      "Warning: In /work/Stable/Slicer-0/Libs/MRML/Core/vtkMRMLSegmentationDisplayNode.cxx, line 287\n",
      "vtkMRMLSegmentationDisplayNode (0x8726710): vtkMRMLSegmentationDisplayNode::GetSegmentDisplayProperties: no display properties are found for segment ID=Segment_1, return default\n",
      "\n",
      "\n",
      "void qMRMLSegmentationDisplayNodeWidget::updateSelectedSegmentSection() : No display properties found for segment ID  \"Segment_1\"\n",
      "Warning: In /work/Stable/Slicer-0/Libs/MRML/Core/vtkMRMLSegmentationDisplayNode.cxx, line 287\n",
      "vtkMRMLSegmentationDisplayNode (0x8726710): vtkMRMLSegmentationDisplayNode::GetSegmentDisplayProperties: no display properties are found for segment ID=Segment_1, return default\n",
      "\n",
      "\n",
      "void qMRMLSegmentationDisplayNodeWidget::updateSelectedSegmentSection() : No display properties found for segment ID  \"Segment_1\"\n"
     ]
    }
   ],
   "source": [
    "saveMask(menos_5, folder, 'prueba.nrrd')"
   ]
  },
  {
   "cell_type": "code",
   "execution_count": null,
   "id": "908f6079-d340-47fc-bdc5-9b1de5defce9",
   "metadata": {},
   "outputs": [],
   "source": []
  }
 ],
 "metadata": {
  "kernelspec": {
   "display_name": "Python 3 (ipykernel)",
   "language": "python",
   "name": "python3"
  },
  "language_info": {
   "codemirror_mode": {
    "name": "ipython",
    "version": 3
   },
   "file_extension": ".py",
   "mimetype": "text/x-python",
   "name": "python",
   "nbconvert_exporter": "python",
   "pygments_lexer": "ipython3",
   "version": "3.10.4"
  }
 },
 "nbformat": 4,
 "nbformat_minor": 5
}
