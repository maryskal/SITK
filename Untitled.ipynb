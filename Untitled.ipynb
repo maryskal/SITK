{
 "cells": [
  {
   "cell_type": "code",
   "execution_count": 48,
   "id": "b41d1765-1e31-40ca-beff-1759fa9e525c",
   "metadata": {},
   "outputs": [],
   "source": []
  },
  {
   "cell_type": "code",
   "execution_count": 49,
   "id": "4975880f-15e8-4795-9eb1-73017e25abc9",
   "metadata": {},
   "outputs": [],
   "source": [
    "import glob\n",
    "import re\n",
    "import numpy as np"
   ]
  },
  {
   "cell_type": "code",
   "execution_count": null,
   "id": "14cd40f9-2723-416c-bfaa-3c2a5fca5e71",
   "metadata": {},
   "outputs": [],
   "source": [
    "folder = 'Vessel_stencils'"
   ]
  },
  {
   "cell_type": "code",
   "execution_count": 50,
   "id": "84600cfd-3e55-44e5-8574-ec3d039a37e0",
   "metadata": {},
   "outputs": [],
   "source": []
  },
  {
   "cell_type": "code",
   "execution_count": 53,
   "id": "035757b2-1ad5-4c79-81dc-b24877f449ee",
   "metadata": {},
   "outputs": [
    {
     "data": {
      "text/plain": [
       "['10047G_INSP_STD_BWH_COPD']"
      ]
     },
     "execution_count": 53,
     "metadata": {},
     "output_type": "execute_result"
    }
   ],
   "source": []
  },
  {
   "cell_type": "code",
   "execution_count": 68,
   "id": "8986a091-b9f6-4844-986a-8779c469e210",
   "metadata": {},
   "outputs": [],
   "source": [
    "def extract_patient_data(patient_name, all_files):\n",
    "    '''\n",
    "    De una lista de archivos extrae todos los que compartan\n",
    "    el nombre introducido (patient_name)\n",
    "        :param patient_name (str): nombre comun\n",
    "        :param all_files (list): lista de files (str)\n",
    "        :return (dict): diccionario {'ct': ctPath, 'masks': [maskPaths]}\n",
    "    '''\n",
    "    patient_files = [file for file in all_files if bool(re.search(patient_name, file))]\n",
    "    patient_ct = f'{patient}.nrrd'\n",
    "    patient_masks = [file for file in patient_files if file != patient_ct]\n",
    "    return {'ct': patient_ct, 'masks': patient_masks}"
   ]
  },
  {
   "cell_type": "code",
   "execution_count": 69,
   "id": "5093b2bd-d6ab-497a-84d4-e1d397b2024f",
   "metadata": {},
   "outputs": [],
   "source": []
  },
  {
   "cell_type": "code",
   "execution_count": 70,
   "id": "e9bf4fa1-ef2e-4849-936e-4edb19a01cf6",
   "metadata": {},
   "outputs": [
    {
     "data": {
      "text/plain": [
       "{'10047G_INSP_STD_BWH_COPD': {'ct': '10047G_INSP_STD_BWH_COPD.nrrd',\n",
       "  'masks': ['10047G_INSP_STD_BWH_COPD_partialLungLabelMap.nrrd',\n",
       "   '10047G_INSP_STD_BWH_COPD_stenciledVesselLabelMap_full.nrrd',\n",
       "   '10047G_INSP_STD_BWH_COPD_stenciledVesselLabelMap_CSA_gt20.nrrd',\n",
       "   '10047G_INSP_STD_BWH_COPD_stenciledVesselLabelMap_CSA_lt5.nrrd']}}"
      ]
     },
     "execution_count": 70,
     "metadata": {},
     "output_type": "execute_result"
    }
   ],
   "source": [
    "patients_data"
   ]
  },
  {
   "cell_type": "code",
   "execution_count": 43,
   "id": "038d047a-ac7f-45ab-9619-4385534ee360",
   "metadata": {},
   "outputs": [],
   "source": [
    "patient_name = re.split('.nrrd', shorter)[0]"
   ]
  },
  {
   "cell_type": "code",
   "execution_count": 44,
   "id": "a8552607-e7fd-494f-9bbb-74e6d3647fb6",
   "metadata": {},
   "outputs": [
    {
     "data": {
      "text/plain": [
       "'10047G_INSP_STD_BWH_COPD'"
      ]
     },
     "execution_count": 44,
     "metadata": {},
     "output_type": "execute_result"
    }
   ],
   "source": [
    "patient_name"
   ]
  },
  {
   "cell_type": "code",
   "execution_count": 45,
   "id": "394fdc07-886e-4a7f-950d-270cffd5504f",
   "metadata": {},
   "outputs": [
    {
     "data": {
      "text/plain": [
       "24"
      ]
     },
     "execution_count": 45,
     "metadata": {},
     "output_type": "execute_result"
    }
   ],
   "source": [
    "len(patient_name)"
   ]
  },
  {
   "cell_type": "code",
   "execution_count": null,
   "id": "ebbc8a41-526b-4796-95b7-15dee60fa2f4",
   "metadata": {},
   "outputs": [],
   "source": []
  }
 ],
 "metadata": {
  "kernelspec": {
   "display_name": "Python 3 (ipykernel)",
   "language": "python",
   "name": "python3"
  },
  "language_info": {
   "codemirror_mode": {
    "name": "ipython",
    "version": 3
   },
   "file_extension": ".py",
   "mimetype": "text/x-python",
   "name": "python",
   "nbconvert_exporter": "python",
   "pygments_lexer": "ipython3",
   "version": "3.10.4"
  }
 },
 "nbformat": 4,
 "nbformat_minor": 5
}
