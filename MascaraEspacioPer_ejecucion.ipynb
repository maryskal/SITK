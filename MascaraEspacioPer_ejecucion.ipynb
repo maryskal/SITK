{
 "cells": [
  {
   "cell_type": "markdown",
   "id": "e07aa8fd-67d8-46af-9a36-1142dfc155f5",
   "metadata": {},
   "source": [
    "# FUNCIONES"
   ]
  },
  {
   "cell_type": "code",
   "execution_count": 1,
   "id": "bf540a42-e42f-4dc8-81b9-615501b1e8e0",
   "metadata": {},
   "outputs": [],
   "source": [
    "import logging\n",
    "import sys\n",
    "import os\n",
    "import re\n",
    "from multiprocessing import Process\n",
    "from varname import nameof\n",
    "import SimpleITK as sitk\n",
    "import numpy as np"
   ]
  },
  {
   "cell_type": "code",
   "execution_count": 2,
   "id": "d5e6a07e-7f2b-412e-84c8-4ee95eef01e2",
   "metadata": {},
   "outputs": [],
   "source": [
    "# Configura el logging\n",
    "log_format = '[%(process)d]\\t%(asctime)s %(levelname)s: %(message)s'\n",
    "logging.basicConfig(format=log_format, level=logging.INFO, datefmt=\"%H:%M:%S\",\n",
    "                    handlers=[logging.StreamHandler(sys.stdout)])"
   ]
  },
  {
   "cell_type": "markdown",
   "id": "c9c972b4-4865-452c-90cc-d652c2c45e1e",
   "metadata": {},
   "source": [
    "## Funciones sobre las mascaras"
   ]
  },
  {
   "cell_type": "code",
   "execution_count": 7,
   "id": "ff2386a7-236a-46a9-916f-dd45d0fece0d",
   "metadata": {},
   "outputs": [],
   "source": [
    "def separar(mask):\n",
    "    '''\n",
    "    Coge una mascara en la que estan arteria\n",
    "    y vena y la separa en dos.\n",
    "        :param mask (SITK image): mask\n",
    "        :return (list): con las dos mascaras\n",
    "    '''\n",
    "    # vemos los valores diferentes que existen\n",
    "    arr = sitk.GetArrayFromImage(mask)\n",
    "    values = np.unique(arr)\n",
    "    values = values[values != 0]\n",
    "    # sacamos una mascara por cada valor\n",
    "    masks = []\n",
    "    for value in values:\n",
    "        masks.append(mask == value)\n",
    "    return masks\n",
    "\n",
    "\n",
    "def eliminarVaso(distance, remove):\n",
    "    '''\n",
    "    Elimina una mascara sobre otra\n",
    "        :param distance (sitk Image): mascara original\n",
    "        :param remove (sitk Image): mascara de eliminacion\n",
    "        :return (sitk image) sin vasos\n",
    "    '''\n",
    "    # A las distancias le restamos la otra mascara binarizada\n",
    "    new = distance - sitk.BinaryThreshold(remove, 1, 100000, 1)\n",
    "    # Binarizamos el resultado para que no queden valores negativos\n",
    "    new = sitk.BinaryThreshold(new, 1, 1, 1)\n",
    "    logging.info('[F]\\teliminarVaso() executed')\n",
    "    return new\n",
    "\n",
    "\n",
    "def createDistanceMask(vessels, distance, remove, save=False,\n",
    "                       filename='mask.nrrd', folder='Vessel_stencils/masks'):\n",
    "    '''\n",
    "    Crea una mascara de espacio perivascular dada una distancia.\n",
    "    Además la guarda con el nombre y en la carpeta que se diga.\n",
    "        :param vesels (sitk Image): mascara de vasos\n",
    "        :param distance (double): distancia en mm para el espacio peri\n",
    "        :param save (bool): si quieres guardar la mascara\n",
    "        :param filename (str): con que nombre guardarlo\n",
    "        :param folder (string): donde guardarlo\n",
    "        :return (sitk image) con el espacio perivascular\n",
    "    '''\n",
    "    # Se crea el mapa de distancias\n",
    "    allDistances = sitk.SignedMaurerDistanceMap(vessels,\n",
    "                                                insideIsPositive=False,\n",
    "                                                squaredDistance=False,\n",
    "                                                useImageSpacing=True)\n",
    "    # Se crea la máscara con el espacio seleccionado\n",
    "    distanceMask = allDistances > 0 and allDistances < distance\n",
    "    # Se elimina el vaso de la máscara\n",
    "    distanceMask = eliminarVaso(distanceMask, remove)\n",
    "    if save:\n",
    "        # Se guarda la mascara\n",
    "        saveMask(distanceMask, folder, filename)\n",
    "    logging.info('[F]\\tcreateDistanceMaks executed, saved {}'.format(save))\n",
    "    return distanceMask"
   ]
  },
  {
   "cell_type": "markdown",
   "id": "5485b02b-9bf6-42de-8c4f-a5e28018c313",
   "metadata": {},
   "source": [
    "## Funciones sobre los directorios"
   ]
  },
  {
   "cell_type": "code",
   "execution_count": 8,
   "id": "59ddd126-9548-490d-981b-b059c453a9b6",
   "metadata": {},
   "outputs": [],
   "source": [
    "def extract_patient_data(patient_name, all_files):\n",
    "    '''\n",
    "    De una lista de archivos extrae todos los que compartan\n",
    "    el nombre introducido (patient_name)\n",
    "        :param patient_name (str): nombre comun\n",
    "        :param all_files (list): lista de files (str)\n",
    "        :return (dict): diccionario {'ct': ctPath, 'masks': [maskPaths]}\n",
    "    '''\n",
    "    patient_files = [file for file in all_files if bool(re.search(patient_name, file))]\n",
    "    patient_ct = f'{patient_name}.nrrd'\n",
    "    patient_masks = [file for file in patient_files if file != patient_ct]\n",
    "    return {'ct': patient_ct, 'masks': patient_masks}\n",
    "\n",
    "\n",
    "def paciente_diccionary(patient, ctPath, maskPaths):\n",
    "    '''\n",
    "    Con el path del ct y la lista de paths del\n",
    "    paciente crea un diccionario con su ctPath\n",
    "    su mascara, su mascara venosa y su mascara\n",
    "    arterial.\n",
    "        :param patient (str): nombre del paciente\n",
    "        :param ctPath (str):\n",
    "        :param maskPaths (list): lista de paths de mascaras\n",
    "        :return (dict): diccionario del paciente:\n",
    "                        {'patient': nombre del paciente,\n",
    "                        'path': el path de su ct,\n",
    "                        'ct': sitk image de su ct,\n",
    "                        'masks': {maskPaths[i]: sitk image,\n",
    "                                    masksPath[i]_vena: sitk image,\n",
    "                                    masksPath[i]_arteria: sitk image}\n",
    "                        'n_ves': numero de mascaras introducidas}\n",
    "    Se asume que el numero mas bajo dentro de la mascara es vena y el mas\n",
    "    alto es arteria, es decir, si tenemos valores de 0,30 y 40, 30 sería vena\n",
    "    40 sería arteria.\n",
    "    '''\n",
    "    art_vein = {0: 'vein',\n",
    "                1: 'artery'}\n",
    "\n",
    "    pacienteDict = {}\n",
    "    pacienteDict['patient'] = patient\n",
    "    pacienteDict['path'] = ctPath\n",
    "    pacienteDict['ct'] = sitk.ReadImage(ctPath)\n",
    "    pacienteDict['masks'] = {}\n",
    "    for path in maskPaths:\n",
    "        vesselMask = sitk.ReadImage(path)\n",
    "        pacienteDict['masks'][path[-9:-5]] = vesselMask\n",
    "        sep = separar(vesselMask)\n",
    "        for j, vesel in enumerate(sep):\n",
    "            pacienteDict['masks'][path[-9:-5] + '_' + art_vein[j]] = vesel\n",
    "    pacienteDict['n_ves'] = len(maskPaths)\n",
    "    return pacienteDict\n"
   ]
  },
  {
   "cell_type": "markdown",
   "id": "584856a7-9911-4ab8-bef3-592d7a06f94f",
   "metadata": {},
   "source": [
    "## Funciones de guardado y ejecución final"
   ]
  },
  {
   "cell_type": "code",
   "execution_count": 9,
   "id": "ed6ef7f1-97a4-45e7-b5bf-a35e7652edf5",
   "metadata": {},
   "outputs": [],
   "source": [
    "def saveMask(image, path, fileName):\n",
    "    '''\n",
    "    Guarda una imagen SITK\n",
    "        :param image (sitk Image): imagen a guardar\n",
    "        :param path (string): donde guardar\n",
    "        :param fileName (string): nombre\n",
    "    '''\n",
    "    if not os.path.exists(path):\n",
    "        os.makedirs(path)\n",
    "    sitk.WriteImage(image, os.path.join(path, fileName))\n",
    "    logging.info('[F]\\tsaveMask executed in {}, as {}'.format(path, fileName))"
   ]
  },
  {
   "cell_type": "code",
   "execution_count": 10,
   "id": "076591cb-435a-4120-95be-455264408c34",
   "metadata": {},
   "outputs": [],
   "source": [
    "def savePatientMask(patient, masks, distances, remove):\n",
    "    '''\n",
    "    If you introduce vascular masks and distances of a patient\n",
    "    it create a new mask with each vascular mask and each distance\n",
    "    and it save them in a folder with the name of the patient.\n",
    "\n",
    "    Parameters\n",
    "    ----------\n",
    "    patient (string): name of the patient\n",
    "    mask (list of sitk image): vascular mask\n",
    "    distance (list of double): perivascular distance\n",
    "    '''\n",
    "    # Creo la carpeta de este paciente\n",
    "    patientFolder = os.path.join('Vessel_stencils', patient)\n",
    "\n",
    "    # Se recorre cada una de las mascaras vasculares\n",
    "    # y se calcula cada una de las distancias\n",
    "    for k, mask in masks.items():\n",
    "        for distance in distances:\n",
    "            # Creo el nombre del file\n",
    "            fileName = 'mask_' + k + '_' + str(distance) + '.nrrd'\n",
    "            # Creo la máscara\n",
    "            createDistanceMask(mask, distance, remove, True, fileName, patientFolder)\n",
    "            # Mando el aviso\n",
    "            logging.info(\"[F]\\tmask {} created\".format(fileName))\n",
    "\n",
    "    logging.info(\"[F]\\tDONE!\")"
   ]
  },
  {
   "cell_type": "markdown",
   "id": "897048f8-20f9-4270-9476-f4c540b18004",
   "metadata": {},
   "source": [
    "# EJECUCIÓN FINAL"
   ]
  },
  {
   "cell_type": "code",
   "execution_count": 11,
   "id": "da75b41f-491a-4f15-94b2-0d0f3adde7fc",
   "metadata": {},
   "outputs": [],
   "source": [
    "import os\n",
    "import glob\n",
    "import re\n",
    "import numpy as np"
   ]
  },
  {
   "cell_type": "code",
   "execution_count": null,
   "id": "777c6787-b1a1-4ce8-af6f-eb76e13e53ee",
   "metadata": {},
   "outputs": [],
   "source": [
    "folder = '/home/maryskal/Documents/SITK/Vessel_stencils'\n",
    "# Saco todos los files y les elimino la carpeta\n",
    "files = [re.split(f'{folder}/', file)[1] for file in glob.glob(f\"{folder}/*.nrrd\")]\n",
    "# Me quedo con los 4 primeras letras, que son el paciente\n",
    "patients = list(np.unique([file[0:24] for file in files]))\n",
    "# Saco todos los pacientes\n",
    "for patient in patients:\n",
    "    patient_folders = extract_patient_data(patient, files)\n",
    "    ct_path = os.path.join(folder,patient_folders['ct'])\n",
    "    masks_paths = [os.path.join(folder,mask) for mask in patient_folders['masks']]\n",
    "    patient_dict = paciente_diccionary(patient,ct_path, masks_paths)\n",
    "    masks = patient_dict['masks']\n",
    "    savePatientMask(patient,masks,[2,3,5],patient_dict['masks']['full'])"
   ]
  }
 ],
 "metadata": {
  "kernelspec": {
   "display_name": "Python 3 (ipykernel)",
   "language": "python",
   "name": "python3"
  },
  "language_info": {
   "codemirror_mode": {
    "name": "ipython",
    "version": 3
   },
   "file_extension": ".py",
   "mimetype": "text/x-python",
   "name": "python",
   "nbconvert_exporter": "python",
   "pygments_lexer": "ipython3",
   "version": "3.10.4"
  }
 },
 "nbformat": 4,
 "nbformat_minor": 5
}
