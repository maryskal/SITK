{
 "cells": [
  {
   "cell_type": "markdown",
   "id": "92499cab",
   "metadata": {},
   "source": [
    "# MASCARA ESPACIO PERIVASCULAR"
   ]
  },
  {
   "cell_type": "code",
   "execution_count": null,
   "id": "25fbeed6",
   "metadata": {},
   "outputs": [],
   "source": [
    "import SimpleITK as sitk\n",
    "\n",
    "import numpy as np\n",
    "import os\n",
    "\n",
    "%matplotlib inline\n",
    "import matplotlib.pyplot as plt\n",
    "\n",
    "image_viewer = sitk.ImageViewer()"
   ]
  },
  {
   "cell_type": "code",
   "execution_count": 2,
   "id": "4bb74cac",
   "metadata": {},
   "outputs": [],
   "source": [
    "import pydicom as pyd"
   ]
  },
  {
   "cell_type": "markdown",
   "id": "54d67406",
   "metadata": {},
   "source": [
    "## Funciones"
   ]
  },
  {
   "cell_type": "code",
   "execution_count": 3,
   "id": "50a8910e",
   "metadata": {},
   "outputs": [],
   "source": [
    "def histo(img):\n",
    "    arr = sitk.GetArrayFromImage(img)\n",
    "    fig = plt.figure(figsize = (7,5))\n",
    "    ax = fig.gca()\n",
    "    ax.hist(arr.flatten(), bins = 255)\n",
    "    plt.show(fig)\n",
    "\n",
    "def plotImg(img, color = 'gray'):\n",
    "    arr = sitk.GetArrayFromImage(img)\n",
    "    plt.imshow(arr, cmap = color)"
   ]
  },
  {
   "cell_type": "code",
   "execution_count": 4,
   "id": "daeca1a0",
   "metadata": {},
   "outputs": [],
   "source": [
    "from varname import nameof\n",
    "\n",
    "def newFileName(var1, var2):\n",
    "    '''\n",
    "    Create a string with the name of two variables\n",
    "    \n",
    "    Parameters\n",
    "    ----------\n",
    "    var1 (could be any variable)\n",
    "    var2 (could be any variable)\n",
    "    \n",
    "    Returns\n",
    "    -------\n",
    "    fileName (string): name of this two variables together.\n",
    "    '''\n",
    "    fileName = nameof(var1) + '_' + nameof(var2) + '.nrrd'\n",
    "    return fileName"
   ]
  },
  {
   "cell_type": "code",
   "execution_count": 5,
   "id": "6f231d77",
   "metadata": {},
   "outputs": [],
   "source": [
    "def mmToPx(mm, voxelSize = 0.6):\n",
    "    '''\n",
    "    Transform mm distance to voxel distance. \n",
    "    \n",
    "    Parameters\n",
    "    ----------\n",
    "    mm (double): mm to convert.\n",
    "    voxelSize (double): size of the voxel in mm. \n",
    "                        Predetermined in 0.6 mm\n",
    "    \n",
    "    Returns\n",
    "    -------\n",
    "    number of pixels (double).\n",
    "    '''\n",
    "    px = mm/0.6\n",
    "    return px"
   ]
  },
  {
   "cell_type": "markdown",
   "id": "32a5efd6",
   "metadata": {},
   "source": [
    "## Cargar datos"
   ]
  },
  {
   "cell_type": "code",
   "execution_count": 6,
   "id": "c908be2c",
   "metadata": {},
   "outputs": [],
   "source": [
    "fiji = 'D:/Users/María Rollán/Documents/Fiji.app/ImageJ-win64.exe'\n",
    "image_viewer.SetApplication(fiji)\n",
    "ctFolder = 'Vessel_stencils'"
   ]
  },
  {
   "cell_type": "markdown",
   "id": "fcc26cd9",
   "metadata": {},
   "source": [
    "### TC"
   ]
  },
  {
   "cell_type": "code",
   "execution_count": 7,
   "id": "95593138",
   "metadata": {},
   "outputs": [],
   "source": [
    "path = os.path.join(ctFolder,'10047G_INSP_STD_BWH_COPD.nrrd')\n",
    "ct = sitk.ReadImage(path)"
   ]
  },
  {
   "cell_type": "code",
   "execution_count": 8,
   "id": "5403c115",
   "metadata": {},
   "outputs": [],
   "source": [
    "image_viewer.Execute(ct)"
   ]
  },
  {
   "cell_type": "code",
   "execution_count": 9,
   "id": "905404a6",
   "metadata": {},
   "outputs": [
    {
     "name": "stderr",
     "output_type": "stream",
     "text": [
      "D:\\Users\\María Rollán\\AppData\\Roaming\\Python\\Python310\\site-packages\\pydicom\\dataelem.py:847: UserWarning: Unknown DICOM tag (524e, 4452) - setting VR to 'UN'\n",
      "  warnings.warn(msg + \" - setting VR to 'UN'\")\n"
     ]
    },
    {
     "data": {
      "text/plain": [
       "(524e, 4452)                                     UN: Array of 342360432 elements"
      ]
     },
     "execution_count": 9,
     "metadata": {},
     "output_type": "execute_result"
    }
   ],
   "source": [
    "pyd.filereader.dcmread(path, force = True)"
   ]
  },
  {
   "cell_type": "code",
   "execution_count": 10,
   "id": "8fb350ca",
   "metadata": {},
   "outputs": [
    {
     "data": {
      "image/png": "[encoded data removed]",
      "text/plain": [
       "<Figure size 504x360 with 1 Axes>"
      ]
     },
     "metadata": {
      "needs_background": "light"
     },
     "output_type": "display_data"
    }
   ],
   "source": [
    "histo(ct)"
   ]
  },
  {
   "cell_type": "markdown",
   "id": "2b2dc684",
   "metadata": {},
   "source": [
    "### Mascaras de vaso"
   ]
  },
  {
   "cell_type": "markdown",
   "id": "fc236967",
   "metadata": {},
   "source": [
    "***Mascara todos los vasos***"
   ]
  },
  {
   "cell_type": "code",
   "execution_count": 8,
   "id": "fa0f9c2e",
   "metadata": {},
   "outputs": [],
   "source": [
    "path = os.path.join(ctFolder,'10047G_INSP_STD_BWH_COPD_stenciledVesselLabelMap_full.nrrd')\n",
    "generalMask = sitk.ReadImage(path)"
   ]
  },
  {
   "cell_type": "code",
   "execution_count": 9,
   "id": "abf1ac47",
   "metadata": {},
   "outputs": [
    {
     "data": {
      "image/png": "[encoded data removed]",
      "text/plain": [
       "<Figure size 504x360 with 1 Axes>"
      ]
     },
     "metadata": {
      "needs_background": "light"
     },
     "output_type": "display_data"
    }
   ],
   "source": [
    "histo(generalMask)"
   ]
  },
  {
   "cell_type": "markdown",
   "id": "d3ea0fbc",
   "metadata": {},
   "source": [
    "***Mascara vasos 5 mm***"
   ]
  },
  {
   "cell_type": "code",
   "execution_count": 10,
   "id": "746e024d",
   "metadata": {},
   "outputs": [],
   "source": [
    "path = os.path.join(ctFolder,'10047G_INSP_STD_BWH_COPD_stenciledVesselLabelMap_CSA_lt5.nrrd')\n",
    "mask5 = sitk.ReadImage(path)"
   ]
  },
  {
   "cell_type": "markdown",
   "id": "09aad2db",
   "metadata": {},
   "source": [
    "***Mascara vasos 20 mm***"
   ]
  },
  {
   "cell_type": "code",
   "execution_count": 11,
   "id": "93435e95",
   "metadata": {},
   "outputs": [],
   "source": [
    "path = os.path.join(ctFolder,'10047G_INSP_STD_BWH_COPD_stenciledVesselLabelMap_CSA_gt20.nrrd')\n",
    "mask20 = sitk.ReadImage(path)"
   ]
  },
  {
   "cell_type": "markdown",
   "id": "c4a186a0",
   "metadata": {},
   "source": [
    "## Mapa de distancias a las mascaras"
   ]
  },
  {
   "cell_type": "markdown",
   "id": "20ae4f4d",
   "metadata": {},
   "source": [
    "### Mascara general"
   ]
  },
  {
   "cell_type": "markdown",
   "id": "1563810d",
   "metadata": {},
   "source": [
    "Hago la matriz de distancias sobre la mascara"
   ]
  },
  {
   "cell_type": "code",
   "execution_count": 15,
   "id": "ebb32326",
   "metadata": {},
   "outputs": [],
   "source": [
    "?sitk.SignedMaurerDistanceMap"
   ]
  },
  {
   "cell_type": "code",
   "execution_count": 12,
   "id": "44c5f732",
   "metadata": {},
   "outputs": [],
   "source": [
    "allDistances = sitk.SignedMaurerDistanceMap(generalMask, \n",
    "                                    insideIsPositive = False, \n",
    "                                    squaredDistance = False,\n",
    "                                    useImageSpacing=True)"
   ]
  },
  {
   "cell_type": "code",
   "execution_count": 17,
   "id": "053d36f9",
   "metadata": {},
   "outputs": [
    {
     "data": {
      "image/png": "[encoded data removed]",
      "text/plain": [
       "<Figure size 504x360 with 1 Axes>"
      ]
     },
     "metadata": {
      "needs_background": "light"
     },
     "output_type": "display_data"
    }
   ],
   "source": [
    "histo(allDistances)"
   ]
  },
  {
   "cell_type": "markdown",
   "id": "4830ad84",
   "metadata": {},
   "source": [
    "#### Espacio perivascular de 3 mm"
   ]
  },
  {
   "cell_type": "code",
   "execution_count": 18,
   "id": "84e42d1c",
   "metadata": {},
   "outputs": [],
   "source": [
    "def mmToPx(mm, voxel_size = 0.6):\n",
    "    px = mm/0.6\n",
    "    return px"
   ]
  },
  {
   "cell_type": "code",
   "execution_count": 19,
   "id": "a87f2c54",
   "metadata": {},
   "outputs": [],
   "source": [
    "distance3 = allDistances > 0 and allDistances < 3"
   ]
  },
  {
   "cell_type": "code",
   "execution_count": 20,
   "id": "002fbfa4",
   "metadata": {},
   "outputs": [
    {
     "data": {
      "image/png": "[encoded data removed]",
      "text/plain": [
       "<Figure size 504x360 with 1 Axes>"
      ]
     },
     "metadata": {
      "needs_background": "light"
     },
     "output_type": "display_data"
    }
   ],
   "source": [
    "histo(distance3)"
   ]
  },
  {
   "cell_type": "markdown",
   "id": "48a56e1c",
   "metadata": {},
   "source": [
    "Para mostrarlo lo multiplico por 3000 porque sino el 1 el programa lo muestra como negro"
   ]
  },
  {
   "cell_type": "code",
   "execution_count": 21,
   "id": "f4faa0b5",
   "metadata": {},
   "outputs": [],
   "source": [
    "image_viewer.Execute(distance3*3000)"
   ]
  },
  {
   "cell_type": "markdown",
   "id": "852b7210",
   "metadata": {},
   "source": [
    "No se porque se queda tambien con lo de dentro del vaso, asi que voy a tener que eliminarlo."
   ]
  },
  {
   "cell_type": "code",
   "execution_count": 13,
   "id": "604ea472",
   "metadata": {},
   "outputs": [],
   "source": [
    "def eliminarVaso(distance, mask):\n",
    "    arrDist = sitk.GetArrayFromImage(distance)\n",
    "    arrMask = sitk.GetArrayFromImage(mask)\n",
    "    arrDist[arrMask > 0] = 0\n",
    "    return sitk.GetImageFromArray(arrDist)"
   ]
  },
  {
   "cell_type": "code",
   "execution_count": 23,
   "id": "fc643a1a",
   "metadata": {},
   "outputs": [],
   "source": [
    "distance3 = eliminarVaso(distance3, generalMask)"
   ]
  },
  {
   "cell_type": "code",
   "execution_count": 24,
   "id": "a799b46d",
   "metadata": {},
   "outputs": [],
   "source": [
    "image_viewer.Execute(distance3*3000)"
   ]
  },
  {
   "cell_type": "markdown",
   "id": "a64b07bd",
   "metadata": {},
   "source": [
    "Vemos que ahora el vaso ya no se coge con la máscara.\n",
    "\n",
    "Vamos a aplicar la mascara sobre el TC"
   ]
  },
  {
   "cell_type": "code",
   "execution_count": 14,
   "id": "a68be971",
   "metadata": {},
   "outputs": [],
   "source": [
    "def extractMask(ct, mask):\n",
    "    ct = sitk.GetArrayFromImage(ct)\n",
    "    mask = sitk.GetArrayFromImage(mask)\n",
    "    ct[mask == 0] = 0\n",
    "    return sitk.GetImageFromArray(ct)"
   ]
  },
  {
   "cell_type": "code",
   "execution_count": 26,
   "id": "20e59801",
   "metadata": {},
   "outputs": [],
   "source": [
    "ct3 = extractMask(ct, distance3)"
   ]
  },
  {
   "cell_type": "code",
   "execution_count": 27,
   "id": "714e2126",
   "metadata": {},
   "outputs": [],
   "source": [
    "image_viewer.Execute(ct3)"
   ]
  },
  {
   "cell_type": "markdown",
   "id": "3a19459b",
   "metadata": {},
   "source": [
    "# AUTOMATIZAR EL PROCESO"
   ]
  },
  {
   "cell_type": "code",
   "execution_count": 15,
   "id": "d837861a",
   "metadata": {},
   "outputs": [],
   "source": [
    "import logging\n",
    "import sys\n",
    "\n",
    "# Configura el logging\n",
    "log_format = '[%(process)d]\\t%(asctime)s %(levelname)s: %(message)s'\n",
    "logging.basicConfig(format=log_format, level=logging.INFO, datefmt=\"%H:%M:%S\",\n",
    "                    handlers=[logging.StreamHandler(sys.stdout)])"
   ]
  },
  {
   "cell_type": "code",
   "execution_count": 16,
   "id": "eaa3adcf",
   "metadata": {},
   "outputs": [],
   "source": [
    "def eliminarVaso(distance, mask):\n",
    "    '''\n",
    "    Eliminate a vesel mask from a perivascular mask \n",
    "    \n",
    "    Parameters\n",
    "    ----------\n",
    "    distance (sitk Image): perivascular distance mask\n",
    "    mask (sitk Image): vascular mask\n",
    "    \n",
    "    Returns\n",
    "    -------\n",
    "    sitk image without vesels.\n",
    "    '''\n",
    "    arrDist = sitk.GetArrayFromImage(distance)\n",
    "    arrMask = sitk.GetArrayFromImage(mask)\n",
    "    arrDist[arrMask > 0] = 0\n",
    "\n",
    "    logging.info('[F]\\teliminarVaso() executed')\n",
    "\n",
    "    return sitk.GetImageFromArray(arrDist)"
   ]
  },
  {
   "cell_type": "code",
   "execution_count": 17,
   "id": "acd2effd",
   "metadata": {},
   "outputs": [],
   "source": [
    "def saveMask(image, path, fileName):\n",
    "    '''\n",
    "    Save a sitk Image\n",
    "    \n",
    "    Parameters\n",
    "    ----------\n",
    "    image (sitk Image): image to save\n",
    "    path (string): where to save\n",
    "    fileName (string): name for saving\n",
    "    '''\n",
    "    if not os.path.exists(path):\n",
    "        os.makedirs(path)\n",
    "    sitk.WriteImage(image, os.path.join(path,fileName))\n",
    "    \n",
    "    logging.info('[F]\\tsaveMask executed in {}, as {}'.format(path, fileName))"
   ]
  },
  {
   "cell_type": "code",
   "execution_count": 18,
   "id": "fdffd0e6",
   "metadata": {},
   "outputs": [],
   "source": [
    "def createDistanceMask(vessels, distance, save = False, filename = 'mask.nrrd', folder = 'Vessel_stencils/masks'):\n",
    "    '''\n",
    "    Create a perivascular mask from a vascular mask given a \n",
    "    distance in mm\n",
    "    \n",
    "    Parameters\n",
    "    ----------\n",
    "    vesels (sitk Image): vascular mask\n",
    "    distance (double): distance in mm for de perivascular mask\n",
    "    save (bool): if you want automatically save the mask\n",
    "    folder (string): folder where image will be saved\n",
    "    \n",
    "    Returns\n",
    "    -------\n",
    "    sitk image of perivascular space.\n",
    "    '''\n",
    "    # Se crea el mapa de distancias\n",
    "    allDistances = sitk.SignedMaurerDistanceMap(vessels, \n",
    "                                    insideIsPositive = False, \n",
    "                                    squaredDistance = False, \n",
    "                                    useImageSpacing=True)\n",
    "    # Se crea la máscara con el espacio seleccionado\n",
    "    distanceMask = allDistances > 0 and allDistances < distance\n",
    "    # Se elimina el vaso de la máscara\n",
    "    distanceMask = eliminarVaso(distanceMask, vessels)\n",
    "    \n",
    "    if save:\n",
    "        # Se guarda la mascara\n",
    "        saveMask(distanceMask, folder, filename)\n",
    "    \n",
    "    logging.info('[F]\\tcreateDistanceMaks executed, saved {}'.format(save))\n",
    "    \n",
    "    return distanceMask"
   ]
  },
  {
   "cell_type": "markdown",
   "id": "f60181d3",
   "metadata": {},
   "source": [
    "### Todos los vasos automatico"
   ]
  },
  {
   "cell_type": "markdown",
   "id": "0cfd940a",
   "metadata": {},
   "source": [
    "Creo una funcion que guarda cada uno de las mascaras de vaso con cada una de las distancias."
   ]
  },
  {
   "cell_type": "code",
   "execution_count": 19,
   "id": "637c55d0",
   "metadata": {},
   "outputs": [],
   "source": [
    "%load_ext line_profiler"
   ]
  },
  {
   "cell_type": "markdown",
   "id": "902c669a",
   "metadata": {},
   "source": [
    "Funcion con un for, sin hacer ni procesos ni hilos"
   ]
  },
  {
   "cell_type": "code",
   "execution_count": 20,
   "id": "8926574d",
   "metadata": {},
   "outputs": [],
   "source": [
    "def savePatientMask(patient, masks, distances):\n",
    "    '''\n",
    "    If you introduce vascular masks and distances of a patient\n",
    "    it create a new mask with each vascular mask and each distance\n",
    "    and it save them in a folder with the name of the patient.\n",
    "        \n",
    "    Parameters\n",
    "    ----------\n",
    "    patient (string): name of the patient\n",
    "    mask (list of sitk image): vascular mask\n",
    "    distance (list of double): perivascular distance\n",
    "    '''\n",
    "    # Creo la carpeta de este paciente\n",
    "    patientFolder = os.path.join('Vessel_stencils', patient)\n",
    "    \n",
    "    # Se recorre cada una de las mascaras vasculares\n",
    "    # y se calcula cada una de las distancias\n",
    "    for i, mask in enumerate(masks):\n",
    "        for distance in distances:\n",
    "            # Creo el nombre del file\n",
    "            fileName = 'mask_' + str(i) + '_' + str(distance) + '.nrrd'\n",
    "            # Creo la máscara\n",
    "            createDistanceMask(mask, distance, True, fileName, patientFolder)\n",
    "            # Mando el aviso\n",
    "            logging.info(\"[F]\\tmask {} created\".format(fileName))\n",
    "\n",
    "\n",
    "    logging.info(\"[F]\\tDONE!\")\n"
   ]
  },
  {
   "cell_type": "markdown",
   "id": "e6d2c83c",
   "metadata": {},
   "source": [
    "Funcion utilizando hilos y procesos"
   ]
  },
  {
   "cell_type": "code",
   "execution_count": 21,
   "id": "2d94e76f",
   "metadata": {},
   "outputs": [],
   "source": [
    "from threading import Thread\n",
    "\n",
    "def savePatientMaskT(patient, masks, distances):\n",
    "    '''\n",
    "    If you introduce vascular masks and distances of a patient\n",
    "    it create a new mask with each vascular mask and each distance\n",
    "    and it save them in a folder with the name of the patient.\n",
    "    \n",
    "    It uses threads to make it faster\n",
    "    \n",
    "    Parameters\n",
    "    ----------\n",
    "    patient (string): name of the patient\n",
    "    mask (list of sitk image): vascular mask\n",
    "    distance (list of double): perivascular distance\n",
    "    '''\n",
    "    # Creo la carpeta de este paciente\n",
    "    patientFolder = os.path.join('Vessel_stencils', patient)\n",
    "    # Creo un vector de threads\n",
    "    threads = []\n",
    "    # Inicializo el numero de threads\n",
    "    tNumber = 0\n",
    "    \n",
    "    # Se recorre cada una de las mascaras vasculares\n",
    "    # y se calcula cada una de las distancias\n",
    "    for i, mask in enumerate(masks):\n",
    "        for distance in distances:\n",
    "            # Creo el nombre del file\n",
    "            fileName = 'mask_' + str(i) + '_' + str(distance) + '.nrrd'\n",
    "            \n",
    "            # Actualizo el numero de threads\n",
    "            tNumber +=1\n",
    "            \n",
    "            # Inicio un thread con la funcion createDistanceMask\n",
    "            thread = Thread(target = createDistanceMask, \n",
    "                    args = (mask, distance, True, fileName, patientFolder))\n",
    "            # Lo añado a la lista\n",
    "            threads.append(thread)\n",
    "            # Lo inicializo\n",
    "            thread.start()\n",
    "            # Imprimo el aviso\n",
    "            logging.info(\"[T]\\tThread {} started!\".format(tNumber))\n",
    "    \n",
    "    # Espera a que los threads finalicen\n",
    "    for tNumber, thread in enumerate(threads):\n",
    "        thread.join()\n",
    "        logging.info(\"[T]\\tThread {} joined!\".format(tNumber))\n",
    "\n",
    "    logging.info(\"[T]\\tDONE!\")"
   ]
  },
  {
   "cell_type": "code",
   "execution_count": 22,
   "id": "4b26ac18",
   "metadata": {},
   "outputs": [],
   "source": [
    "from multiprocessing import Process\n",
    "\n",
    "def savePatientMaskP(patient, masks, distances):\n",
    "    '''\n",
    "    If you introduce vascular masks and distances of a patient\n",
    "    it create a new mask with each vascular mask and each distance\n",
    "    and it save them in a folder with the name of the patient.\n",
    "    \n",
    "    It uses process to make it faster\n",
    "    \n",
    "    Parameters\n",
    "    ----------\n",
    "    patient (string): name of the patient\n",
    "    mask (list of sitk image): vascular mask\n",
    "    distance (list of double): perivascular distance\n",
    "    '''\n",
    "    # Creo la carpeta de este paciente\n",
    "    patientFolder = os.path.join('Vessel_stencils', patient)\n",
    "    # Creo un vector de threads\n",
    "    proceses = []\n",
    "    # Inicializo el numero de threads\n",
    "    pNumber = 0\n",
    "    \n",
    "    # Se recorre cada una de las mascaras vasculares\n",
    "    # y se calcula cada una de las distancias\n",
    "    for i, mask in enumerate(masks):\n",
    "        for distance in distances:\n",
    "            # Creo el nombre del file\n",
    "            fileName = 'mask_' + str(i) + '_' + str(distance) + '.nrrd'\n",
    "            \n",
    "            # Actualizo el numero de threads\n",
    "            pNumber +=1\n",
    "            \n",
    "            # Inicio un thread con la funcion createDistanceMask\n",
    "            process = Process(target = createDistanceMask, \n",
    "                    args = (mask, distance, True, fileName, patientFolder))\n",
    "            # Lo añado a la lista\n",
    "            proceses.append(process)\n",
    "            # Lo inicializo\n",
    "            process.start()\n",
    "            # Imprimo el aviso\n",
    "            logging.info(\"[T]\\tThread {} started!\".format(pNumber))\n",
    "    \n",
    "    # Espera a que los threads finalicen\n",
    "    for pNumber, process in enumerate(proceses):\n",
    "        process.join()\n",
    "        logging.info(\"[T]\\tThread {} joined!\".format(pNumber))\n",
    "\n",
    "    logging.info(\"[T]\\tDONE!\")"
   ]
  },
  {
   "cell_type": "markdown",
   "id": "fb3c0ce0",
   "metadata": {},
   "source": [
    "Compruebo cual es mas rapida de las tres"
   ]
  },
  {
   "cell_type": "code",
   "execution_count": 23,
   "id": "a927dd30",
   "metadata": {
    "scrolled": true
   },
   "outputs": [
    {
     "name": "stdout",
     "output_type": "stream",
     "text": [
      "[10068]\t13:13:37 INFO: [F]\teliminarVaso() executed\n",
      "[10068]\t13:13:38 INFO: [F]\tsaveMask executed in Vessel_stencils\\pacientePrueba, as mask_0_2.nrrd\n",
      "[10068]\t13:13:38 INFO: [F]\tcreateDistanceMaks executed, saved True\n",
      "[10068]\t13:13:38 INFO: [F]\tmask mask_0_2.nrrd created\n",
      "[10068]\t13:13:46 INFO: [F]\teliminarVaso() executed\n",
      "[10068]\t13:13:46 INFO: [F]\tsaveMask executed in Vessel_stencils\\pacientePrueba, as mask_0_3.nrrd\n",
      "[10068]\t13:13:46 INFO: [F]\tcreateDistanceMaks executed, saved True\n",
      "[10068]\t13:13:46 INFO: [F]\tmask mask_0_3.nrrd created\n",
      "[10068]\t13:13:54 INFO: [F]\teliminarVaso() executed\n",
      "[10068]\t13:13:55 INFO: [F]\tsaveMask executed in Vessel_stencils\\pacientePrueba, as mask_0_5.nrrd\n",
      "[10068]\t13:13:55 INFO: [F]\tcreateDistanceMaks executed, saved True\n",
      "[10068]\t13:13:55 INFO: [F]\tmask mask_0_5.nrrd created\n",
      "[10068]\t13:14:02 INFO: [F]\teliminarVaso() executed\n",
      "[10068]\t13:14:03 INFO: [F]\tsaveMask executed in Vessel_stencils\\pacientePrueba, as mask_0_10.nrrd\n",
      "[10068]\t13:14:03 INFO: [F]\tcreateDistanceMaks executed, saved True\n",
      "[10068]\t13:14:03 INFO: [F]\tmask mask_0_10.nrrd created\n",
      "[10068]\t13:14:11 INFO: [F]\teliminarVaso() executed\n",
      "[10068]\t13:14:12 INFO: [F]\tsaveMask executed in Vessel_stencils\\pacientePrueba, as mask_1_2.nrrd\n",
      "[10068]\t13:14:12 INFO: [F]\tcreateDistanceMaks executed, saved True\n",
      "[10068]\t13:14:12 INFO: [F]\tmask mask_1_2.nrrd created\n",
      "[10068]\t13:14:20 INFO: [F]\teliminarVaso() executed\n",
      "[10068]\t13:14:20 INFO: [F]\tsaveMask executed in Vessel_stencils\\pacientePrueba, as mask_1_3.nrrd\n",
      "[10068]\t13:14:20 INFO: [F]\tcreateDistanceMaks executed, saved True\n",
      "[10068]\t13:14:21 INFO: [F]\tmask mask_1_3.nrrd created\n",
      "[10068]\t13:14:29 INFO: [F]\teliminarVaso() executed\n",
      "[10068]\t13:14:29 INFO: [F]\tsaveMask executed in Vessel_stencils\\pacientePrueba, as mask_1_5.nrrd\n",
      "[10068]\t13:14:29 INFO: [F]\tcreateDistanceMaks executed, saved True\n",
      "[10068]\t13:14:30 INFO: [F]\tmask mask_1_5.nrrd created\n",
      "[10068]\t13:14:38 INFO: [F]\teliminarVaso() executed\n",
      "[10068]\t13:14:38 INFO: [F]\tsaveMask executed in Vessel_stencils\\pacientePrueba, as mask_1_10.nrrd\n",
      "[10068]\t13:14:38 INFO: [F]\tcreateDistanceMaks executed, saved True\n",
      "[10068]\t13:14:38 INFO: [F]\tmask mask_1_10.nrrd created\n",
      "[10068]\t13:14:46 INFO: [F]\teliminarVaso() executed\n",
      "[10068]\t13:14:46 INFO: [F]\tsaveMask executed in Vessel_stencils\\pacientePrueba, as mask_2_2.nrrd\n",
      "[10068]\t13:14:46 INFO: [F]\tcreateDistanceMaks executed, saved True\n",
      "[10068]\t13:14:47 INFO: [F]\tmask mask_2_2.nrrd created\n",
      "[10068]\t13:14:54 INFO: [F]\teliminarVaso() executed\n",
      "[10068]\t13:14:54 INFO: [F]\tsaveMask executed in Vessel_stencils\\pacientePrueba, as mask_2_3.nrrd\n",
      "[10068]\t13:14:54 INFO: [F]\tcreateDistanceMaks executed, saved True\n",
      "[10068]\t13:14:55 INFO: [F]\tmask mask_2_3.nrrd created\n",
      "[10068]\t13:15:02 INFO: [F]\teliminarVaso() executed\n",
      "[10068]\t13:15:03 INFO: [F]\tsaveMask executed in Vessel_stencils\\pacientePrueba, as mask_2_5.nrrd\n",
      "[10068]\t13:15:03 INFO: [F]\tcreateDistanceMaks executed, saved True\n",
      "[10068]\t13:15:03 INFO: [F]\tmask mask_2_5.nrrd created\n",
      "[10068]\t13:15:10 INFO: [F]\teliminarVaso() executed\n",
      "[10068]\t13:15:11 INFO: [F]\tsaveMask executed in Vessel_stencils\\pacientePrueba, as mask_2_10.nrrd\n",
      "[10068]\t13:15:11 INFO: [F]\tcreateDistanceMaks executed, saved True\n",
      "[10068]\t13:15:11 INFO: [F]\tmask mask_2_10.nrrd created\n",
      "[10068]\t13:15:11 INFO: [F]\tDONE!\n",
      "CPU times: total: 10min 28s\n",
      "Wall time: 1min 41s\n"
     ]
    }
   ],
   "source": [
    "%%time\n",
    "\n",
    "masks = [generalMask, mask5, mask20]\n",
    "distances = [2,3,5,10]\n",
    "\n",
    "savePatientMask('pacientePrueba', masks, distances)"
   ]
  },
  {
   "cell_type": "code",
   "execution_count": 24,
   "id": "af3b0912",
   "metadata": {},
   "outputs": [
    {
     "name": "stdout",
     "output_type": "stream",
     "text": [
      "[10068]\t13:15:11 INFO: [T]\tThread 1 started!\n",
      "[10068]\t13:15:11 INFO: [T]\tThread 2 started!\n",
      "[10068]\t13:15:11 INFO: [T]\tThread 3 started!\n",
      "[10068]\t13:15:11 INFO: [T]\tThread 4 started!\n",
      "[10068]\t13:15:12 INFO: [T]\tThread 5 started!\n",
      "[10068]\t13:15:12 INFO: [T]\tThread 6 started!\n",
      "[10068]\t13:15:12 INFO: [T]\tThread 7 started!\n",
      "[10068]\t13:15:13 INFO: [T]\tThread 8 started!\n",
      "[10068]\t13:15:14 INFO: [T]\tThread 9 started!\n",
      "[10068]\t13:15:16 INFO: [T]\tThread 10 started!\n",
      "[10068]\t13:15:19 INFO: [T]\tThread 11 started!\n",
      "[10068]\t13:15:23 INFO: [T]\tThread 12 started!\n",
      "[10068]\t13:16:58 INFO: [F]\teliminarVaso() executed\n",
      "[10068]\t13:16:59 INFO: [F]\tsaveMask executed in Vessel_stencils\\pacientePruebaT, as mask_1_3.nrrd\n",
      "[10068]\t13:16:59 INFO: [F]\tcreateDistanceMaks executed, saved True\n",
      "[10068]\t13:17:06 INFO: [F]\teliminarVaso() executed\n",
      "[10068]\t13:17:08 INFO: [F]\teliminarVaso() executed\n",
      "[10068]\t13:17:08 INFO: [F]\teliminarVaso() executed\n",
      "[10068]\t13:17:09 INFO: [F]\tsaveMask executed in Vessel_stencils\\pacientePruebaT, as mask_0_10.nrrd\n",
      "[10068]\t13:17:09 INFO: [F]\tcreateDistanceMaks executed, saved True\n",
      "[10068]\t13:17:09 INFO: [F]\teliminarVaso() executed\n",
      "[10068]\t13:17:10 INFO: [F]\teliminarVaso() executed\n",
      "[10068]\t13:17:11 INFO: [F]\teliminarVaso() executed\n",
      "[10068]\t13:17:11 INFO: [F]\teliminarVaso() executed\n",
      "[10068]\t13:17:11 INFO: [F]\tsaveMask executed in Vessel_stencils\\pacientePruebaT, as mask_0_3.nrrd\n",
      "[10068]\t13:17:11 INFO: [F]\tcreateDistanceMaks executed, saved True\n",
      "[10068]\t13:17:11 INFO: [F]\tsaveMask executed in Vessel_stencils\\pacientePruebaT, as mask_2_3.nrrd\n",
      "[10068]\t13:17:11 INFO: [F]\tcreateDistanceMaks executed, saved True\n",
      "[10068]\t13:17:11 INFO: [F]\tsaveMask executed in Vessel_stencils\\pacientePruebaT, as mask_2_2.nrrd\n",
      "[10068]\t13:17:11 INFO: [F]\tcreateDistanceMaks executed, saved True\n",
      "[10068]\t13:17:11 INFO: [F]\tsaveMask executed in Vessel_stencils\\pacientePruebaT, as mask_2_5.nrrd\n",
      "[10068]\t13:17:12 INFO: [F]\tcreateDistanceMaks executed, saved True\n",
      "[10068]\t13:17:12 INFO: [F]\teliminarVaso() executed\n",
      "[10068]\t13:17:12 INFO: [F]\teliminarVaso() executed\n",
      "[10068]\t13:17:12 INFO: [F]\teliminarVaso() executed\n",
      "[10068]\t13:17:12 INFO: [F]\tsaveMask executed in Vessel_stencils\\pacientePruebaT, as mask_1_2.nrrd\n",
      "[10068]\t13:17:12 INFO: [F]\tcreateDistanceMaks executed, saved True\n",
      "[10068]\t13:17:12 INFO: [F]\tsaveMask executed in Vessel_stencils\\pacientePruebaT, as mask_1_5.nrrd\n",
      "[10068]\t13:17:12 INFO: [F]\tcreateDistanceMaks executed, saved True\n",
      "[10068]\t13:17:12 INFO: [F]\teliminarVaso() executed\n",
      "[10068]\t13:17:13 INFO: [F]\tsaveMask executed in Vessel_stencils\\pacientePruebaT, as mask_0_5.nrrd\n",
      "[10068]\t13:17:13 INFO: [F]\tcreateDistanceMaks executed, saved True\n",
      "[10068]\t13:17:13 INFO: [F]\tsaveMask executed in Vessel_stencils\\pacientePruebaT, as mask_0_2.nrrd\n",
      "[10068]\t13:17:13 INFO: [F]\tcreateDistanceMaks executed, saved True\n",
      "[10068]\t13:17:13 INFO: [T]\tThread 0 joined!\n",
      "[10068]\t13:17:13 INFO: [T]\tThread 1 joined!\n",
      "[10068]\t13:17:13 INFO: [T]\tThread 2 joined!\n",
      "[10068]\t13:17:13 INFO: [T]\tThread 3 joined!\n",
      "[10068]\t13:17:13 INFO: [T]\tThread 4 joined!\n",
      "[10068]\t13:17:13 INFO: [T]\tThread 5 joined!\n",
      "[10068]\t13:17:13 INFO: [T]\tThread 6 joined!\n",
      "[10068]\t13:17:13 INFO: [F]\tsaveMask executed in Vessel_stencils\\pacientePruebaT, as mask_1_10.nrrd\n",
      "[10068]\t13:17:13 INFO: [F]\tcreateDistanceMaks executed, saved True\n",
      "[10068]\t13:17:13 INFO: [F]\tsaveMask executed in Vessel_stencils\\pacientePruebaT, as mask_2_10.nrrd\n",
      "[10068]\t13:17:13 INFO: [F]\tcreateDistanceMaks executed, saved True\n",
      "[10068]\t13:17:14 INFO: [T]\tThread 7 joined!\n",
      "[10068]\t13:17:14 INFO: [T]\tThread 8 joined!\n",
      "[10068]\t13:17:14 INFO: [T]\tThread 9 joined!\n",
      "[10068]\t13:17:14 INFO: [T]\tThread 10 joined!\n",
      "[10068]\t13:17:14 INFO: [T]\tThread 11 joined!\n",
      "[10068]\t13:17:14 INFO: [T]\tDONE!\n",
      "CPU times: total: 13min 3s\n",
      "Wall time: 2min 2s\n"
     ]
    }
   ],
   "source": [
    "%%time\n",
    "\n",
    "masks = [generalMask, mask5, mask20]\n",
    "distances = [2,3,5,10]\n",
    "\n",
    "savePatientMaskT('pacientePruebaT', masks, distances)"
   ]
  },
  {
   "cell_type": "code",
   "execution_count": null,
   "id": "d7aa4f9b",
   "metadata": {},
   "outputs": [],
   "source": [
    "%%time\n",
    "\n",
    "masks = [generalMask, mask5, mask20]\n",
    "distances = [2,3,5,10]\n",
    "\n",
    "savePatientMaskP('pacientePruebaP', masks, distances)"
   ]
  },
  {
   "cell_type": "markdown",
   "id": "86087ca5",
   "metadata": {},
   "source": [
    "Compruebo que se han guardado correctamente y los cargo de nuevo"
   ]
  },
  {
   "cell_type": "code",
   "execution_count": 35,
   "id": "8dbce86c",
   "metadata": {},
   "outputs": [],
   "source": [
    "from os import listdir\n",
    "from os.path import isfile, join"
   ]
  },
  {
   "cell_type": "code",
   "execution_count": 36,
   "id": "b69becc7",
   "metadata": {},
   "outputs": [],
   "source": [
    "mypath = 'Vessel_stencils/masks'\n",
    "# Recojo todos los files en mypath\n",
    "masks = [f for f in listdir(mypath) if isfile(join(mypath, f))]"
   ]
  },
  {
   "cell_type": "code",
   "execution_count": 37,
   "id": "4a7e128f",
   "metadata": {},
   "outputs": [],
   "source": [
    "data = [sitk.ReadImage(os.path.join(mypath, path)) for path in masks]"
   ]
  },
  {
   "cell_type": "markdown",
   "id": "7459d9e4",
   "metadata": {},
   "source": [
    "### Proceso uno por uno"
   ]
  },
  {
   "cell_type": "markdown",
   "id": "662b037b",
   "metadata": {},
   "source": [
    "##### Todos los vasos"
   ]
  },
  {
   "cell_type": "code",
   "execution_count": 38,
   "id": "a92701db",
   "metadata": {},
   "outputs": [
    {
     "name": "stdout",
     "output_type": "stream",
     "text": [
      "[11644]\t12:46:21 INFO: [F]\teliminarVaso() executed\n",
      "[11644]\t12:46:21 INFO: [F]\tcreateDistanceMaks executed, saved False\n",
      "[11644]\t12:46:32 INFO: [F]\teliminarVaso() executed\n",
      "[11644]\t12:46:32 INFO: [F]\tcreateDistanceMaks executed, saved False\n",
      "[11644]\t12:46:43 INFO: [F]\teliminarVaso() executed\n",
      "[11644]\t12:46:44 INFO: [F]\tcreateDistanceMaks executed, saved False\n",
      "[11644]\t12:46:54 INFO: [F]\teliminarVaso() executed\n",
      "[11644]\t12:46:54 INFO: [F]\tcreateDistanceMaks executed, saved False\n"
     ]
    }
   ],
   "source": [
    "distance2General = createDistanceMask(generalMask, 2)\n",
    "distance3General = createDistanceMask(generalMask, 3)\n",
    "distance5General = createDistanceMask(generalMask, 5)\n",
    "distance10General = createDistanceMask(generalMask, 10)"
   ]
  },
  {
   "cell_type": "markdown",
   "id": "1a2a50a5",
   "metadata": {},
   "source": [
    "##### Vasos de 20"
   ]
  },
  {
   "cell_type": "code",
   "execution_count": 39,
   "id": "a6dae311",
   "metadata": {},
   "outputs": [
    {
     "name": "stdout",
     "output_type": "stream",
     "text": [
      "[11644]\t12:47:03 INFO: [F]\teliminarVaso() executed\n",
      "[11644]\t12:47:03 INFO: [F]\tcreateDistanceMaks executed, saved False\n",
      "[11644]\t12:47:12 INFO: [F]\teliminarVaso() executed\n",
      "[11644]\t12:47:12 INFO: [F]\tcreateDistanceMaks executed, saved False\n",
      "[11644]\t12:47:21 INFO: [F]\teliminarVaso() executed\n",
      "[11644]\t12:47:21 INFO: [F]\tcreateDistanceMaks executed, saved False\n",
      "[11644]\t12:47:29 INFO: [F]\teliminarVaso() executed\n",
      "[11644]\t12:47:29 INFO: [F]\tcreateDistanceMaks executed, saved False\n"
     ]
    }
   ],
   "source": [
    "distance2_20 = createDistanceMask(mask20, 2)\n",
    "distance3_20 = createDistanceMask(mask20, 3)\n",
    "distance5_20 = createDistanceMask(mask20, 5)\n",
    "distance10_20 = createDistanceMask(mask20, 10)"
   ]
  },
  {
   "cell_type": "markdown",
   "id": "775baf38",
   "metadata": {},
   "source": [
    "##### Vasos de 5"
   ]
  },
  {
   "cell_type": "code",
   "execution_count": 40,
   "id": "f8884a86",
   "metadata": {},
   "outputs": [
    {
     "name": "stdout",
     "output_type": "stream",
     "text": [
      "[11644]\t12:47:38 INFO: [F]\teliminarVaso() executed\n",
      "[11644]\t12:47:38 INFO: [F]\tcreateDistanceMaks executed, saved False\n",
      "[11644]\t12:47:46 INFO: [F]\teliminarVaso() executed\n",
      "[11644]\t12:47:46 INFO: [F]\tcreateDistanceMaks executed, saved False\n",
      "[11644]\t12:47:55 INFO: [F]\teliminarVaso() executed\n",
      "[11644]\t12:47:56 INFO: [F]\tcreateDistanceMaks executed, saved False\n",
      "[11644]\t12:48:04 INFO: [F]\teliminarVaso() executed\n",
      "[11644]\t12:48:04 INFO: [F]\tcreateDistanceMaks executed, saved False\n"
     ]
    }
   ],
   "source": [
    "distance2_5 = createDistanceMask(mask5, 2)\n",
    "distance3_5 = createDistanceMask(mask5, 3)\n",
    "distance5_5 = createDistanceMask(mask5, 5)\n",
    "distance10_5 = createDistanceMask(mask5, 10)"
   ]
  },
  {
   "cell_type": "markdown",
   "id": "2f267d5c",
   "metadata": {},
   "source": [
    "### Pruebas"
   ]
  },
  {
   "cell_type": "code",
   "execution_count": 41,
   "id": "8c57516e",
   "metadata": {},
   "outputs": [],
   "source": [
    "image_viewer.Execute(distance10General*3000000)"
   ]
  },
  {
   "cell_type": "code",
   "execution_count": 42,
   "id": "4b134ab4",
   "metadata": {},
   "outputs": [],
   "source": [
    "pr = extractMask(ct, distance5_5)\n",
    "image_viewer.Execute(pr)"
   ]
  },
  {
   "cell_type": "code",
   "execution_count": 43,
   "id": "b397838e",
   "metadata": {},
   "outputs": [
    {
     "name": "stdout",
     "output_type": "stream",
     "text": [
      "[11644]\t12:48:28 INFO: [F]\teliminarVaso() executed\n",
      "[11644]\t12:48:28 INFO: [F]\tcreateDistanceMaks executed, saved False\n"
     ]
    }
   ],
   "source": [
    "distance2_5 = createDistanceMask(mask5, 2)"
   ]
  },
  {
   "cell_type": "code",
   "execution_count": 44,
   "id": "4e843b27",
   "metadata": {},
   "outputs": [],
   "source": [
    "pr = extractMask(ct, distance2General)\n",
    "image_viewer.Execute(pr)"
   ]
  },
  {
   "cell_type": "code",
   "execution_count": null,
   "id": "399fe757",
   "metadata": {},
   "outputs": [],
   "source": []
  }
 ],
 "metadata": {
  "kernelspec": {
   "display_name": "Python 3",
   "language": "python",
   "name": "python3"
  },
  "language_info": {
   "codemirror_mode": {
    "name": "ipython",
    "version": 3
   },
   "file_extension": ".py",
   "mimetype": "text/x-python",
   "name": "python",
   "nbconvert_exporter": "python",
   "pygments_lexer": "ipython3",
   "version": "3.10.4"
  }
 },
 "nbformat": 4,
 "nbformat_minor": 5
}
